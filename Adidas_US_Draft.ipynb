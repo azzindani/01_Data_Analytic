{
  "cells": [
    {
      "cell_type": "markdown",
      "metadata": {
        "id": "view-in-github",
        "colab_type": "text"
      },
      "source": [
        "<a href=\"https://colab.research.google.com/github/azzindani/01_Data_Analytic/blob/main/Adidas_US_Draft.ipynb\" target=\"_parent\"><img src=\"https://colab.research.google.com/assets/colab-badge.svg\" alt=\"Open In Colab\"/></a>"
      ]
    },
    {
      "cell_type": "markdown",
      "metadata": {
        "id": "xzGjScgSt8W9"
      },
      "source": [
        "## 00 Importing Modules & Mounting Drive"
      ]
    },
    {
      "cell_type": "code",
      "execution_count": 1,
      "metadata": {
        "colab": {
          "base_uri": "https://localhost:8080/"
        },
        "id": "yhXKjGT-OZvU",
        "outputId": "d3ea5d7c-4a4f-4785-a91b-ac5372c7beaa"
      },
      "outputs": [
        {
          "output_type": "stream",
          "name": "stdout",
          "text": [
            "Collecting pandas-profiling\n",
            "  Downloading pandas_profiling-3.6.6-py2.py3-none-any.whl (324 kB)\n",
            "\u001b[2K     \u001b[90m━━━━━━━━━━━━━━━━━━━━━━━━━━━━━━━━━━━━━━━━\u001b[0m \u001b[32m324.4/324.4 kB\u001b[0m \u001b[31m1.6 MB/s\u001b[0m eta \u001b[36m0:00:00\u001b[0m\n",
            "\u001b[?25hCollecting ydata-profiling (from pandas-profiling)\n",
            "  Downloading ydata_profiling-4.6.3-py2.py3-none-any.whl (357 kB)\n",
            "\u001b[2K     \u001b[90m━━━━━━━━━━━━━━━━━━━━━━━━━━━━━━━━━━━━━━━━\u001b[0m \u001b[32m357.6/357.6 kB\u001b[0m \u001b[31m6.3 MB/s\u001b[0m eta \u001b[36m0:00:00\u001b[0m\n",
            "\u001b[?25hRequirement already satisfied: scipy<1.12,>=1.4.1 in /usr/local/lib/python3.10/dist-packages (from ydata-profiling->pandas-profiling) (1.11.4)\n",
            "Requirement already satisfied: pandas!=1.4.0,<3,>1.1 in /usr/local/lib/python3.10/dist-packages (from ydata-profiling->pandas-profiling) (1.5.3)\n",
            "Requirement already satisfied: matplotlib<3.9,>=3.2 in /usr/local/lib/python3.10/dist-packages (from ydata-profiling->pandas-profiling) (3.7.1)\n",
            "Collecting pydantic>=2 (from ydata-profiling->pandas-profiling)\n",
            "  Downloading pydantic-2.5.3-py3-none-any.whl (381 kB)\n",
            "\u001b[2K     \u001b[90m━━━━━━━━━━━━━━━━━━━━━━━━━━━━━━━━━━━━━━━━\u001b[0m \u001b[32m381.9/381.9 kB\u001b[0m \u001b[31m12.4 MB/s\u001b[0m eta \u001b[36m0:00:00\u001b[0m\n",
            "\u001b[?25hRequirement already satisfied: PyYAML<6.1,>=5.0.0 in /usr/local/lib/python3.10/dist-packages (from ydata-profiling->pandas-profiling) (6.0.1)\n",
            "Requirement already satisfied: jinja2<3.2,>=2.11.1 in /usr/local/lib/python3.10/dist-packages (from ydata-profiling->pandas-profiling) (3.1.2)\n",
            "Collecting visions[type_image_path]==0.7.5 (from ydata-profiling->pandas-profiling)\n",
            "  Downloading visions-0.7.5-py3-none-any.whl (102 kB)\n",
            "\u001b[2K     \u001b[90m━━━━━━━━━━━━━━━━━━━━━━━━━━━━━━━━━━━━━━━━\u001b[0m \u001b[32m102.7/102.7 kB\u001b[0m \u001b[31m11.1 MB/s\u001b[0m eta \u001b[36m0:00:00\u001b[0m\n",
            "\u001b[?25hRequirement already satisfied: numpy<1.26,>=1.16.0 in /usr/local/lib/python3.10/dist-packages (from ydata-profiling->pandas-profiling) (1.23.5)\n",
            "Collecting htmlmin==0.1.12 (from ydata-profiling->pandas-profiling)\n",
            "  Downloading htmlmin-0.1.12.tar.gz (19 kB)\n",
            "  Preparing metadata (setup.py) ... \u001b[?25l\u001b[?25hdone\n",
            "Collecting phik<0.13,>=0.11.1 (from ydata-profiling->pandas-profiling)\n",
            "  Downloading phik-0.12.3-cp310-cp310-manylinux_2_17_x86_64.manylinux2014_x86_64.whl (679 kB)\n",
            "\u001b[2K     \u001b[90m━━━━━━━━━━━━━━━━━━━━━━━━━━━━━━━━━━━━━━━━\u001b[0m \u001b[32m679.5/679.5 kB\u001b[0m \u001b[31m14.6 MB/s\u001b[0m eta \u001b[36m0:00:00\u001b[0m\n",
            "\u001b[?25hRequirement already satisfied: requests<3,>=2.24.0 in /usr/local/lib/python3.10/dist-packages (from ydata-profiling->pandas-profiling) (2.31.0)\n",
            "Requirement already satisfied: tqdm<5,>=4.48.2 in /usr/local/lib/python3.10/dist-packages (from ydata-profiling->pandas-profiling) (4.66.1)\n",
            "Requirement already satisfied: seaborn<0.13,>=0.10.1 in /usr/local/lib/python3.10/dist-packages (from ydata-profiling->pandas-profiling) (0.12.2)\n",
            "Collecting multimethod<2,>=1.4 (from ydata-profiling->pandas-profiling)\n",
            "  Downloading multimethod-1.10-py3-none-any.whl (9.9 kB)\n",
            "Requirement already satisfied: statsmodels<1,>=0.13.2 in /usr/local/lib/python3.10/dist-packages (from ydata-profiling->pandas-profiling) (0.14.1)\n",
            "Collecting typeguard<5,>=4.1.2 (from ydata-profiling->pandas-profiling)\n",
            "  Downloading typeguard-4.1.5-py3-none-any.whl (34 kB)\n",
            "Collecting imagehash==4.3.1 (from ydata-profiling->pandas-profiling)\n",
            "  Downloading ImageHash-4.3.1-py2.py3-none-any.whl (296 kB)\n",
            "\u001b[2K     \u001b[90m━━━━━━━━━━━━━━━━━━━━━━━━━━━━━━━━━━━━━━━━\u001b[0m \u001b[32m296.5/296.5 kB\u001b[0m \u001b[31m12.1 MB/s\u001b[0m eta \u001b[36m0:00:00\u001b[0m\n",
            "\u001b[?25hRequirement already satisfied: wordcloud>=1.9.1 in /usr/local/lib/python3.10/dist-packages (from ydata-profiling->pandas-profiling) (1.9.3)\n",
            "Collecting dacite>=1.8 (from ydata-profiling->pandas-profiling)\n",
            "  Downloading dacite-1.8.1-py3-none-any.whl (14 kB)\n",
            "Requirement already satisfied: numba<0.59.0,>=0.56.0 in /usr/local/lib/python3.10/dist-packages (from ydata-profiling->pandas-profiling) (0.58.1)\n",
            "Requirement already satisfied: PyWavelets in /usr/local/lib/python3.10/dist-packages (from imagehash==4.3.1->ydata-profiling->pandas-profiling) (1.5.0)\n",
            "Requirement already satisfied: pillow in /usr/local/lib/python3.10/dist-packages (from imagehash==4.3.1->ydata-profiling->pandas-profiling) (9.4.0)\n",
            "Requirement already satisfied: attrs>=19.3.0 in /usr/local/lib/python3.10/dist-packages (from visions[type_image_path]==0.7.5->ydata-profiling->pandas-profiling) (23.1.0)\n",
            "Requirement already satisfied: networkx>=2.4 in /usr/local/lib/python3.10/dist-packages (from visions[type_image_path]==0.7.5->ydata-profiling->pandas-profiling) (3.2.1)\n",
            "Collecting tangled-up-in-unicode>=0.0.4 (from visions[type_image_path]==0.7.5->ydata-profiling->pandas-profiling)\n",
            "  Downloading tangled_up_in_unicode-0.2.0-py3-none-any.whl (4.7 MB)\n",
            "\u001b[2K     \u001b[90m━━━━━━━━━━━━━━━━━━━━━━━━━━━━━━━━━━━━━━━━\u001b[0m \u001b[32m4.7/4.7 MB\u001b[0m \u001b[31m19.3 MB/s\u001b[0m eta \u001b[36m0:00:00\u001b[0m\n",
            "\u001b[?25hRequirement already satisfied: MarkupSafe>=2.0 in /usr/local/lib/python3.10/dist-packages (from jinja2<3.2,>=2.11.1->ydata-profiling->pandas-profiling) (2.1.3)\n",
            "Requirement already satisfied: contourpy>=1.0.1 in /usr/local/lib/python3.10/dist-packages (from matplotlib<3.9,>=3.2->ydata-profiling->pandas-profiling) (1.2.0)\n",
            "Requirement already satisfied: cycler>=0.10 in /usr/local/lib/python3.10/dist-packages (from matplotlib<3.9,>=3.2->ydata-profiling->pandas-profiling) (0.12.1)\n",
            "Requirement already satisfied: fonttools>=4.22.0 in /usr/local/lib/python3.10/dist-packages (from matplotlib<3.9,>=3.2->ydata-profiling->pandas-profiling) (4.46.0)\n",
            "Requirement already satisfied: kiwisolver>=1.0.1 in /usr/local/lib/python3.10/dist-packages (from matplotlib<3.9,>=3.2->ydata-profiling->pandas-profiling) (1.4.5)\n",
            "Requirement already satisfied: packaging>=20.0 in /usr/local/lib/python3.10/dist-packages (from matplotlib<3.9,>=3.2->ydata-profiling->pandas-profiling) (23.2)\n",
            "Requirement already satisfied: pyparsing>=2.3.1 in /usr/local/lib/python3.10/dist-packages (from matplotlib<3.9,>=3.2->ydata-profiling->pandas-profiling) (3.1.1)\n",
            "Requirement already satisfied: python-dateutil>=2.7 in /usr/local/lib/python3.10/dist-packages (from matplotlib<3.9,>=3.2->ydata-profiling->pandas-profiling) (2.8.2)\n",
            "Requirement already satisfied: llvmlite<0.42,>=0.41.0dev0 in /usr/local/lib/python3.10/dist-packages (from numba<0.59.0,>=0.56.0->ydata-profiling->pandas-profiling) (0.41.1)\n",
            "Requirement already satisfied: pytz>=2020.1 in /usr/local/lib/python3.10/dist-packages (from pandas!=1.4.0,<3,>1.1->ydata-profiling->pandas-profiling) (2023.3.post1)\n",
            "Requirement already satisfied: joblib>=0.14.1 in /usr/local/lib/python3.10/dist-packages (from phik<0.13,>=0.11.1->ydata-profiling->pandas-profiling) (1.3.2)\n",
            "Collecting annotated-types>=0.4.0 (from pydantic>=2->ydata-profiling->pandas-profiling)\n",
            "  Downloading annotated_types-0.6.0-py3-none-any.whl (12 kB)\n",
            "Collecting pydantic-core==2.14.6 (from pydantic>=2->ydata-profiling->pandas-profiling)\n",
            "  Downloading pydantic_core-2.14.6-cp310-cp310-manylinux_2_17_x86_64.manylinux2014_x86_64.whl (2.1 MB)\n",
            "\u001b[2K     \u001b[90m━━━━━━━━━━━━━━━━━━━━━━━━━━━━━━━━━━━━━━━━\u001b[0m \u001b[32m2.1/2.1 MB\u001b[0m \u001b[31m30.2 MB/s\u001b[0m eta \u001b[36m0:00:00\u001b[0m\n",
            "\u001b[?25hCollecting typing-extensions>=4.6.1 (from pydantic>=2->ydata-profiling->pandas-profiling)\n",
            "  Downloading typing_extensions-4.9.0-py3-none-any.whl (32 kB)\n",
            "Requirement already satisfied: charset-normalizer<4,>=2 in /usr/local/lib/python3.10/dist-packages (from requests<3,>=2.24.0->ydata-profiling->pandas-profiling) (3.3.2)\n",
            "Requirement already satisfied: idna<4,>=2.5 in /usr/local/lib/python3.10/dist-packages (from requests<3,>=2.24.0->ydata-profiling->pandas-profiling) (3.6)\n",
            "Requirement already satisfied: urllib3<3,>=1.21.1 in /usr/local/lib/python3.10/dist-packages (from requests<3,>=2.24.0->ydata-profiling->pandas-profiling) (2.0.7)\n",
            "Requirement already satisfied: certifi>=2017.4.17 in /usr/local/lib/python3.10/dist-packages (from requests<3,>=2.24.0->ydata-profiling->pandas-profiling) (2023.11.17)\n",
            "Requirement already satisfied: patsy>=0.5.4 in /usr/local/lib/python3.10/dist-packages (from statsmodels<1,>=0.13.2->ydata-profiling->pandas-profiling) (0.5.4)\n",
            "Requirement already satisfied: six in /usr/local/lib/python3.10/dist-packages (from patsy>=0.5.4->statsmodels<1,>=0.13.2->ydata-profiling->pandas-profiling) (1.16.0)\n",
            "Building wheels for collected packages: htmlmin\n",
            "  Building wheel for htmlmin (setup.py) ... \u001b[?25l\u001b[?25hdone\n",
            "  Created wheel for htmlmin: filename=htmlmin-0.1.12-py3-none-any.whl size=27081 sha256=a7846a93bc8aad02f8d17871af57350ae131b6679f57af94dbe887a6da3f0845\n",
            "  Stored in directory: /root/.cache/pip/wheels/dd/91/29/a79cecb328d01739e64017b6fb9a1ab9d8cb1853098ec5966d\n",
            "Successfully built htmlmin\n",
            "Installing collected packages: htmlmin, typing-extensions, tangled-up-in-unicode, multimethod, dacite, annotated-types, typeguard, pydantic-core, imagehash, visions, pydantic, phik, ydata-profiling, pandas-profiling\n",
            "  Attempting uninstall: typing-extensions\n",
            "    Found existing installation: typing_extensions 4.5.0\n",
            "    Uninstalling typing_extensions-4.5.0:\n",
            "      Successfully uninstalled typing_extensions-4.5.0\n",
            "  Attempting uninstall: pydantic\n",
            "    Found existing installation: pydantic 1.10.13\n",
            "    Uninstalling pydantic-1.10.13:\n",
            "      Successfully uninstalled pydantic-1.10.13\n",
            "\u001b[31mERROR: pip's dependency resolver does not currently take into account all the packages that are installed. This behaviour is the source of the following dependency conflicts.\n",
            "lida 0.0.10 requires fastapi, which is not installed.\n",
            "lida 0.0.10 requires kaleido, which is not installed.\n",
            "lida 0.0.10 requires python-multipart, which is not installed.\n",
            "lida 0.0.10 requires uvicorn, which is not installed.\n",
            "llmx 0.0.15a0 requires cohere, which is not installed.\n",
            "llmx 0.0.15a0 requires openai, which is not installed.\n",
            "llmx 0.0.15a0 requires tiktoken, which is not installed.\n",
            "tensorflow-probability 0.22.0 requires typing-extensions<4.6.0, but you have typing-extensions 4.9.0 which is incompatible.\u001b[0m\u001b[31m\n",
            "\u001b[0mSuccessfully installed annotated-types-0.6.0 dacite-1.8.1 htmlmin-0.1.12 imagehash-4.3.1 multimethod-1.10 pandas-profiling-3.6.6 phik-0.12.3 pydantic-2.5.3 pydantic-core-2.14.6 tangled-up-in-unicode-0.2.0 typeguard-4.1.5 typing-extensions-4.9.0 visions-0.7.5 ydata-profiling-4.6.3\n",
            "Collecting streamlit\n",
            "  Downloading streamlit-1.29.0-py2.py3-none-any.whl (8.4 MB)\n",
            "\u001b[2K     \u001b[90m━━━━━━━━━━━━━━━━━━━━━━━━━━━━━━━━━━━━━━━━\u001b[0m \u001b[32m8.4/8.4 MB\u001b[0m \u001b[31m15.9 MB/s\u001b[0m eta \u001b[36m0:00:00\u001b[0m\n",
            "\u001b[?25hRequirement already satisfied: altair<6,>=4.0 in /usr/local/lib/python3.10/dist-packages (from streamlit) (4.2.2)\n",
            "Requirement already satisfied: blinker<2,>=1.0.0 in /usr/lib/python3/dist-packages (from streamlit) (1.4)\n",
            "Requirement already satisfied: cachetools<6,>=4.0 in /usr/local/lib/python3.10/dist-packages (from streamlit) (5.3.2)\n",
            "Requirement already satisfied: click<9,>=7.0 in /usr/local/lib/python3.10/dist-packages (from streamlit) (8.1.7)\n",
            "Collecting importlib-metadata<7,>=1.4 (from streamlit)\n",
            "  Downloading importlib_metadata-6.11.0-py3-none-any.whl (23 kB)\n",
            "Requirement already satisfied: numpy<2,>=1.19.3 in /usr/local/lib/python3.10/dist-packages (from streamlit) (1.23.5)\n",
            "Requirement already satisfied: packaging<24,>=16.8 in /usr/local/lib/python3.10/dist-packages (from streamlit) (23.2)\n",
            "Requirement already satisfied: pandas<3,>=1.3.0 in /usr/local/lib/python3.10/dist-packages (from streamlit) (1.5.3)\n",
            "Requirement already satisfied: pillow<11,>=7.1.0 in /usr/local/lib/python3.10/dist-packages (from streamlit) (9.4.0)\n",
            "Requirement already satisfied: protobuf<5,>=3.20 in /usr/local/lib/python3.10/dist-packages (from streamlit) (3.20.3)\n",
            "Requirement already satisfied: pyarrow>=6.0 in /usr/local/lib/python3.10/dist-packages (from streamlit) (10.0.1)\n",
            "Requirement already satisfied: python-dateutil<3,>=2.7.3 in /usr/local/lib/python3.10/dist-packages (from streamlit) (2.8.2)\n",
            "Requirement already satisfied: requests<3,>=2.27 in /usr/local/lib/python3.10/dist-packages (from streamlit) (2.31.0)\n",
            "Requirement already satisfied: rich<14,>=10.14.0 in /usr/local/lib/python3.10/dist-packages (from streamlit) (13.7.0)\n",
            "Requirement already satisfied: tenacity<9,>=8.1.0 in /usr/local/lib/python3.10/dist-packages (from streamlit) (8.2.3)\n",
            "Requirement already satisfied: toml<2,>=0.10.1 in /usr/local/lib/python3.10/dist-packages (from streamlit) (0.10.2)\n",
            "Requirement already satisfied: typing-extensions<5,>=4.3.0 in /usr/local/lib/python3.10/dist-packages (from streamlit) (4.9.0)\n",
            "Requirement already satisfied: tzlocal<6,>=1.1 in /usr/local/lib/python3.10/dist-packages (from streamlit) (5.2)\n",
            "Collecting validators<1,>=0.2 (from streamlit)\n",
            "  Downloading validators-0.22.0-py3-none-any.whl (26 kB)\n",
            "Collecting gitpython!=3.1.19,<4,>=3.0.7 (from streamlit)\n",
            "  Downloading GitPython-3.1.40-py3-none-any.whl (190 kB)\n",
            "\u001b[2K     \u001b[90m━━━━━━━━━━━━━━━━━━━━━━━━━━━━━━━━━━━━━━━━\u001b[0m \u001b[32m190.6/190.6 kB\u001b[0m \u001b[31m15.6 MB/s\u001b[0m eta \u001b[36m0:00:00\u001b[0m\n",
            "\u001b[?25hCollecting pydeck<1,>=0.8.0b4 (from streamlit)\n",
            "  Downloading pydeck-0.8.1b0-py2.py3-none-any.whl (4.8 MB)\n",
            "\u001b[2K     \u001b[90m━━━━━━━━━━━━━━━━━━━━━━━━━━━━━━━━━━━━━━━━\u001b[0m \u001b[32m4.8/4.8 MB\u001b[0m \u001b[31m36.3 MB/s\u001b[0m eta \u001b[36m0:00:00\u001b[0m\n",
            "\u001b[?25hRequirement already satisfied: tornado<7,>=6.0.3 in /usr/local/lib/python3.10/dist-packages (from streamlit) (6.3.2)\n",
            "Collecting watchdog>=2.1.5 (from streamlit)\n",
            "  Downloading watchdog-3.0.0-py3-none-manylinux2014_x86_64.whl (82 kB)\n",
            "\u001b[2K     \u001b[90m━━━━━━━━━━━━━━━━━━━━━━━━━━━━━━━━━━━━━━━━\u001b[0m \u001b[32m82.1/82.1 kB\u001b[0m \u001b[31m9.4 MB/s\u001b[0m eta \u001b[36m0:00:00\u001b[0m\n",
            "\u001b[?25hRequirement already satisfied: entrypoints in /usr/local/lib/python3.10/dist-packages (from altair<6,>=4.0->streamlit) (0.4)\n",
            "Requirement already satisfied: jinja2 in /usr/local/lib/python3.10/dist-packages (from altair<6,>=4.0->streamlit) (3.1.2)\n",
            "Requirement already satisfied: jsonschema>=3.0 in /usr/local/lib/python3.10/dist-packages (from altair<6,>=4.0->streamlit) (4.19.2)\n",
            "Requirement already satisfied: toolz in /usr/local/lib/python3.10/dist-packages (from altair<6,>=4.0->streamlit) (0.12.0)\n",
            "Collecting gitdb<5,>=4.0.1 (from gitpython!=3.1.19,<4,>=3.0.7->streamlit)\n",
            "  Downloading gitdb-4.0.11-py3-none-any.whl (62 kB)\n",
            "\u001b[2K     \u001b[90m━━━━━━━━━━━━━━━━━━━━━━━━━━━━━━━━━━━━━━━━\u001b[0m \u001b[32m62.7/62.7 kB\u001b[0m \u001b[31m7.2 MB/s\u001b[0m eta \u001b[36m0:00:00\u001b[0m\n",
            "\u001b[?25hRequirement already satisfied: zipp>=0.5 in /usr/local/lib/python3.10/dist-packages (from importlib-metadata<7,>=1.4->streamlit) (3.17.0)\n",
            "Requirement already satisfied: pytz>=2020.1 in /usr/local/lib/python3.10/dist-packages (from pandas<3,>=1.3.0->streamlit) (2023.3.post1)\n",
            "Requirement already satisfied: six>=1.5 in /usr/local/lib/python3.10/dist-packages (from python-dateutil<3,>=2.7.3->streamlit) (1.16.0)\n",
            "Requirement already satisfied: charset-normalizer<4,>=2 in /usr/local/lib/python3.10/dist-packages (from requests<3,>=2.27->streamlit) (3.3.2)\n",
            "Requirement already satisfied: idna<4,>=2.5 in /usr/local/lib/python3.10/dist-packages (from requests<3,>=2.27->streamlit) (3.6)\n",
            "Requirement already satisfied: urllib3<3,>=1.21.1 in /usr/local/lib/python3.10/dist-packages (from requests<3,>=2.27->streamlit) (2.0.7)\n",
            "Requirement already satisfied: certifi>=2017.4.17 in /usr/local/lib/python3.10/dist-packages (from requests<3,>=2.27->streamlit) (2023.11.17)\n",
            "Requirement already satisfied: markdown-it-py>=2.2.0 in /usr/local/lib/python3.10/dist-packages (from rich<14,>=10.14.0->streamlit) (3.0.0)\n",
            "Requirement already satisfied: pygments<3.0.0,>=2.13.0 in /usr/local/lib/python3.10/dist-packages (from rich<14,>=10.14.0->streamlit) (2.16.1)\n",
            "Collecting smmap<6,>=3.0.1 (from gitdb<5,>=4.0.1->gitpython!=3.1.19,<4,>=3.0.7->streamlit)\n",
            "  Downloading smmap-5.0.1-py3-none-any.whl (24 kB)\n",
            "Requirement already satisfied: MarkupSafe>=2.0 in /usr/local/lib/python3.10/dist-packages (from jinja2->altair<6,>=4.0->streamlit) (2.1.3)\n",
            "Requirement already satisfied: attrs>=22.2.0 in /usr/local/lib/python3.10/dist-packages (from jsonschema>=3.0->altair<6,>=4.0->streamlit) (23.1.0)\n",
            "Requirement already satisfied: jsonschema-specifications>=2023.03.6 in /usr/local/lib/python3.10/dist-packages (from jsonschema>=3.0->altair<6,>=4.0->streamlit) (2023.11.2)\n",
            "Requirement already satisfied: referencing>=0.28.4 in /usr/local/lib/python3.10/dist-packages (from jsonschema>=3.0->altair<6,>=4.0->streamlit) (0.32.0)\n",
            "Requirement already satisfied: rpds-py>=0.7.1 in /usr/local/lib/python3.10/dist-packages (from jsonschema>=3.0->altair<6,>=4.0->streamlit) (0.15.2)\n",
            "Requirement already satisfied: mdurl~=0.1 in /usr/local/lib/python3.10/dist-packages (from markdown-it-py>=2.2.0->rich<14,>=10.14.0->streamlit) (0.1.2)\n",
            "Installing collected packages: watchdog, validators, smmap, importlib-metadata, pydeck, gitdb, gitpython, streamlit\n",
            "  Attempting uninstall: importlib-metadata\n",
            "    Found existing installation: importlib-metadata 7.0.0\n",
            "    Uninstalling importlib-metadata-7.0.0:\n",
            "      Successfully uninstalled importlib-metadata-7.0.0\n",
            "Successfully installed gitdb-4.0.11 gitpython-3.1.40 importlib-metadata-6.11.0 pydeck-0.8.1b0 smmap-5.0.1 streamlit-1.29.0 validators-0.22.0 watchdog-3.0.0\n",
            "\u001b[K\u001b[?25h\u001b[37;40mnpm\u001b[0m \u001b[0m\u001b[30;43mWARN\u001b[0m \u001b[0m\u001b[35msaveError\u001b[0m ENOENT: no such file or directory, open '/content/package.json'\n",
            "\u001b[K\u001b[?25h\u001b[37;40mnpm\u001b[0m \u001b[0m\u001b[34;40mnotice\u001b[0m\u001b[35m\u001b[0m created a lockfile as package-lock.json. You should commit this file.\n",
            "\u001b[0m\u001b[37;40mnpm\u001b[0m \u001b[0m\u001b[30;43mWARN\u001b[0m \u001b[0m\u001b[35menoent\u001b[0m ENOENT: no such file or directory, open '/content/package.json'\n",
            "\u001b[0m\u001b[37;40mnpm\u001b[0m \u001b[0m\u001b[30;43mWARN\u001b[0m\u001b[35m\u001b[0m content No description\n",
            "\u001b[0m\u001b[37;40mnpm\u001b[0m \u001b[0m\u001b[30;43mWARN\u001b[0m\u001b[35m\u001b[0m content No repository field.\n",
            "\u001b[0m\u001b[37;40mnpm\u001b[0m \u001b[0m\u001b[30;43mWARN\u001b[0m\u001b[35m\u001b[0m content No README data\n",
            "\u001b[0m\u001b[37;40mnpm\u001b[0m \u001b[0m\u001b[30;43mWARN\u001b[0m\u001b[35m\u001b[0m content No license field.\n",
            "\u001b[0m\n",
            "+ localtunnel@2.0.2\n",
            "added 22 packages from 22 contributors and audited 22 packages in 1.92s\n",
            "\n",
            "3 packages are looking for funding\n",
            "  run `npm fund` for details\n",
            "\n",
            "found 1 \u001b[93mmoderate\u001b[0m severity vulnerability\n",
            "  run `npm audit fix` to fix them, or `npm audit` for details\n",
            "\u001b[K\u001b[?25h"
          ]
        }
      ],
      "source": [
        "!pip install pandas-profiling\n",
        "!pip install streamlit\n",
        "!npm install localtunnel"
      ]
    },
    {
      "cell_type": "code",
      "execution_count": 2,
      "metadata": {
        "id": "bbJ186eYbwSV"
      },
      "outputs": [],
      "source": [
        "import pathlib\n",
        "import datetime\n",
        "import seaborn as sns\n",
        "import matplotlib.pyplot as plt\n",
        "import geopandas as gpd\n",
        "import os\n",
        "import numpy as np\n",
        "import pandas as pd\n",
        "import plotly.express as px\n",
        "import plotly.graph_objects as go\n",
        "\n",
        "from ydata_profiling import ProfileReport\n",
        "from tabulate import tabulate\n",
        "from time import sleep\n",
        "\n",
        "%matplotlib inline"
      ]
    },
    {
      "cell_type": "code",
      "execution_count": 3,
      "metadata": {
        "colab": {
          "base_uri": "https://localhost:8080/",
          "height": 35
        },
        "id": "rrgwagAUQncC",
        "outputId": "d5410007-090f-4603-c06c-4de657fd2c7e"
      },
      "outputs": [
        {
          "output_type": "execute_result",
          "data": {
            "text/plain": [
              "\"from google.colab import drive\\ndrive.mount('/content/drive') #\""
            ],
            "application/vnd.google.colaboratory.intrinsic+json": {
              "type": "string"
            }
          },
          "metadata": {},
          "execution_count": 3
        }
      ],
      "source": [
        "'''from google.colab import drive\n",
        "drive.mount('/content/drive') #'''"
      ]
    },
    {
      "cell_type": "code",
      "execution_count": 4,
      "metadata": {
        "colab": {
          "base_uri": "https://localhost:8080/",
          "height": 35
        },
        "id": "pSXOYp53b6bu",
        "outputId": "8382c30d-aa52-4e56-dcb1-7b5a478d507d"
      },
      "outputs": [
        {
          "output_type": "execute_result",
          "data": {
            "text/plain": [
              "\"MAIN_PATH = str(pathlib.Path().resolve())\\nWORK_PATH = MAIN_PATH + '/drive/MyDrive/Workspace'\\nSOURCE_PATH = WORK_PATH + '/00_Data_Source'\\nCACHE_PATH = WORK_PATH + '/00_Cache_Data' #\""
            ],
            "application/vnd.google.colaboratory.intrinsic+json": {
              "type": "string"
            }
          },
          "metadata": {},
          "execution_count": 4
        }
      ],
      "source": [
        "'''MAIN_PATH = str(pathlib.Path().resolve())\n",
        "WORK_PATH = MAIN_PATH + '/drive/MyDrive/Workspace'\n",
        "SOURCE_PATH = WORK_PATH + '/00_Data_Source'\n",
        "CACHE_PATH = WORK_PATH + '/00_Cache_Data' #'''"
      ]
    },
    {
      "cell_type": "markdown",
      "metadata": {
        "id": "0PL56c4YuH6y"
      },
      "source": [
        "## 01 Choosing & Importing Dataset"
      ]
    },
    {
      "cell_type": "markdown",
      "metadata": {
        "id": "IqJI4S_NNrVf"
      },
      "source": [
        "### 01.01 Importing Main Data"
      ]
    },
    {
      "cell_type": "code",
      "execution_count": 5,
      "metadata": {
        "colab": {
          "base_uri": "https://localhost:8080/",
          "height": 112
        },
        "id": "XKZeeC_yuomA",
        "outputId": "415f72b5-5044-41e7-db8f-10e4da66a47a"
      },
      "outputs": [
        {
          "output_type": "execute_result",
          "data": {
            "text/plain": [
              "      Retailer  Retailer ID Invoice Date     Region     State      City  \\\n",
              "0  Foot Locker      1185732   2020-01-01  Northeast  New York  New York   \n",
              "1  Foot Locker      1185732   2020-01-02  Northeast  New York  New York   \n",
              "\n",
              "                   Product  Price per Unit  Units Sold  Total Sales  \\\n",
              "0    Men's Street Footwear            50.0        1200     600000.0   \n",
              "1  Men's Athletic Footwear            50.0        1000     500000.0   \n",
              "\n",
              "   Operating Profit  Operating Margin Sales Method  \n",
              "0          300000.0               0.5     In-store  \n",
              "1          150000.0               0.3     In-store  "
            ],
            "text/html": [
              "\n",
              "  <div id=\"df-8af8a01d-74fb-43bb-b051-bb6d876fb6b0\" class=\"colab-df-container\">\n",
              "    <div>\n",
              "<style scoped>\n",
              "    .dataframe tbody tr th:only-of-type {\n",
              "        vertical-align: middle;\n",
              "    }\n",
              "\n",
              "    .dataframe tbody tr th {\n",
              "        vertical-align: top;\n",
              "    }\n",
              "\n",
              "    .dataframe thead th {\n",
              "        text-align: right;\n",
              "    }\n",
              "</style>\n",
              "<table border=\"1\" class=\"dataframe\">\n",
              "  <thead>\n",
              "    <tr style=\"text-align: right;\">\n",
              "      <th></th>\n",
              "      <th>Retailer</th>\n",
              "      <th>Retailer ID</th>\n",
              "      <th>Invoice Date</th>\n",
              "      <th>Region</th>\n",
              "      <th>State</th>\n",
              "      <th>City</th>\n",
              "      <th>Product</th>\n",
              "      <th>Price per Unit</th>\n",
              "      <th>Units Sold</th>\n",
              "      <th>Total Sales</th>\n",
              "      <th>Operating Profit</th>\n",
              "      <th>Operating Margin</th>\n",
              "      <th>Sales Method</th>\n",
              "    </tr>\n",
              "  </thead>\n",
              "  <tbody>\n",
              "    <tr>\n",
              "      <th>0</th>\n",
              "      <td>Foot Locker</td>\n",
              "      <td>1185732</td>\n",
              "      <td>2020-01-01</td>\n",
              "      <td>Northeast</td>\n",
              "      <td>New York</td>\n",
              "      <td>New York</td>\n",
              "      <td>Men's Street Footwear</td>\n",
              "      <td>50.0</td>\n",
              "      <td>1200</td>\n",
              "      <td>600000.0</td>\n",
              "      <td>300000.0</td>\n",
              "      <td>0.5</td>\n",
              "      <td>In-store</td>\n",
              "    </tr>\n",
              "    <tr>\n",
              "      <th>1</th>\n",
              "      <td>Foot Locker</td>\n",
              "      <td>1185732</td>\n",
              "      <td>2020-01-02</td>\n",
              "      <td>Northeast</td>\n",
              "      <td>New York</td>\n",
              "      <td>New York</td>\n",
              "      <td>Men's Athletic Footwear</td>\n",
              "      <td>50.0</td>\n",
              "      <td>1000</td>\n",
              "      <td>500000.0</td>\n",
              "      <td>150000.0</td>\n",
              "      <td>0.3</td>\n",
              "      <td>In-store</td>\n",
              "    </tr>\n",
              "  </tbody>\n",
              "</table>\n",
              "</div>\n",
              "    <div class=\"colab-df-buttons\">\n",
              "\n",
              "  <div class=\"colab-df-container\">\n",
              "    <button class=\"colab-df-convert\" onclick=\"convertToInteractive('df-8af8a01d-74fb-43bb-b051-bb6d876fb6b0')\"\n",
              "            title=\"Convert this dataframe to an interactive table.\"\n",
              "            style=\"display:none;\">\n",
              "\n",
              "  <svg xmlns=\"http://www.w3.org/2000/svg\" height=\"24px\" viewBox=\"0 -960 960 960\">\n",
              "    <path d=\"M120-120v-720h720v720H120Zm60-500h600v-160H180v160Zm220 220h160v-160H400v160Zm0 220h160v-160H400v160ZM180-400h160v-160H180v160Zm440 0h160v-160H620v160ZM180-180h160v-160H180v160Zm440 0h160v-160H620v160Z\"/>\n",
              "  </svg>\n",
              "    </button>\n",
              "\n",
              "  <style>\n",
              "    .colab-df-container {\n",
              "      display:flex;\n",
              "      gap: 12px;\n",
              "    }\n",
              "\n",
              "    .colab-df-convert {\n",
              "      background-color: #E8F0FE;\n",
              "      border: none;\n",
              "      border-radius: 50%;\n",
              "      cursor: pointer;\n",
              "      display: none;\n",
              "      fill: #1967D2;\n",
              "      height: 32px;\n",
              "      padding: 0 0 0 0;\n",
              "      width: 32px;\n",
              "    }\n",
              "\n",
              "    .colab-df-convert:hover {\n",
              "      background-color: #E2EBFA;\n",
              "      box-shadow: 0px 1px 2px rgba(60, 64, 67, 0.3), 0px 1px 3px 1px rgba(60, 64, 67, 0.15);\n",
              "      fill: #174EA6;\n",
              "    }\n",
              "\n",
              "    .colab-df-buttons div {\n",
              "      margin-bottom: 4px;\n",
              "    }\n",
              "\n",
              "    [theme=dark] .colab-df-convert {\n",
              "      background-color: #3B4455;\n",
              "      fill: #D2E3FC;\n",
              "    }\n",
              "\n",
              "    [theme=dark] .colab-df-convert:hover {\n",
              "      background-color: #434B5C;\n",
              "      box-shadow: 0px 1px 3px 1px rgba(0, 0, 0, 0.15);\n",
              "      filter: drop-shadow(0px 1px 2px rgba(0, 0, 0, 0.3));\n",
              "      fill: #FFFFFF;\n",
              "    }\n",
              "  </style>\n",
              "\n",
              "    <script>\n",
              "      const buttonEl =\n",
              "        document.querySelector('#df-8af8a01d-74fb-43bb-b051-bb6d876fb6b0 button.colab-df-convert');\n",
              "      buttonEl.style.display =\n",
              "        google.colab.kernel.accessAllowed ? 'block' : 'none';\n",
              "\n",
              "      async function convertToInteractive(key) {\n",
              "        const element = document.querySelector('#df-8af8a01d-74fb-43bb-b051-bb6d876fb6b0');\n",
              "        const dataTable =\n",
              "          await google.colab.kernel.invokeFunction('convertToInteractive',\n",
              "                                                    [key], {});\n",
              "        if (!dataTable) return;\n",
              "\n",
              "        const docLinkHtml = 'Like what you see? Visit the ' +\n",
              "          '<a target=\"_blank\" href=https://colab.research.google.com/notebooks/data_table.ipynb>data table notebook</a>'\n",
              "          + ' to learn more about interactive tables.';\n",
              "        element.innerHTML = '';\n",
              "        dataTable['output_type'] = 'display_data';\n",
              "        await google.colab.output.renderOutput(dataTable, element);\n",
              "        const docLink = document.createElement('div');\n",
              "        docLink.innerHTML = docLinkHtml;\n",
              "        element.appendChild(docLink);\n",
              "      }\n",
              "    </script>\n",
              "  </div>\n",
              "\n",
              "\n",
              "<div id=\"df-4af9340a-82be-49b5-933c-846e714c2136\">\n",
              "  <button class=\"colab-df-quickchart\" onclick=\"quickchart('df-4af9340a-82be-49b5-933c-846e714c2136')\"\n",
              "            title=\"Suggest charts\"\n",
              "            style=\"display:none;\">\n",
              "\n",
              "<svg xmlns=\"http://www.w3.org/2000/svg\" height=\"24px\"viewBox=\"0 0 24 24\"\n",
              "     width=\"24px\">\n",
              "    <g>\n",
              "        <path d=\"M19 3H5c-1.1 0-2 .9-2 2v14c0 1.1.9 2 2 2h14c1.1 0 2-.9 2-2V5c0-1.1-.9-2-2-2zM9 17H7v-7h2v7zm4 0h-2V7h2v10zm4 0h-2v-4h2v4z\"/>\n",
              "    </g>\n",
              "</svg>\n",
              "  </button>\n",
              "\n",
              "<style>\n",
              "  .colab-df-quickchart {\n",
              "      --bg-color: #E8F0FE;\n",
              "      --fill-color: #1967D2;\n",
              "      --hover-bg-color: #E2EBFA;\n",
              "      --hover-fill-color: #174EA6;\n",
              "      --disabled-fill-color: #AAA;\n",
              "      --disabled-bg-color: #DDD;\n",
              "  }\n",
              "\n",
              "  [theme=dark] .colab-df-quickchart {\n",
              "      --bg-color: #3B4455;\n",
              "      --fill-color: #D2E3FC;\n",
              "      --hover-bg-color: #434B5C;\n",
              "      --hover-fill-color: #FFFFFF;\n",
              "      --disabled-bg-color: #3B4455;\n",
              "      --disabled-fill-color: #666;\n",
              "  }\n",
              "\n",
              "  .colab-df-quickchart {\n",
              "    background-color: var(--bg-color);\n",
              "    border: none;\n",
              "    border-radius: 50%;\n",
              "    cursor: pointer;\n",
              "    display: none;\n",
              "    fill: var(--fill-color);\n",
              "    height: 32px;\n",
              "    padding: 0;\n",
              "    width: 32px;\n",
              "  }\n",
              "\n",
              "  .colab-df-quickchart:hover {\n",
              "    background-color: var(--hover-bg-color);\n",
              "    box-shadow: 0 1px 2px rgba(60, 64, 67, 0.3), 0 1px 3px 1px rgba(60, 64, 67, 0.15);\n",
              "    fill: var(--button-hover-fill-color);\n",
              "  }\n",
              "\n",
              "  .colab-df-quickchart-complete:disabled,\n",
              "  .colab-df-quickchart-complete:disabled:hover {\n",
              "    background-color: var(--disabled-bg-color);\n",
              "    fill: var(--disabled-fill-color);\n",
              "    box-shadow: none;\n",
              "  }\n",
              "\n",
              "  .colab-df-spinner {\n",
              "    border: 2px solid var(--fill-color);\n",
              "    border-color: transparent;\n",
              "    border-bottom-color: var(--fill-color);\n",
              "    animation:\n",
              "      spin 1s steps(1) infinite;\n",
              "  }\n",
              "\n",
              "  @keyframes spin {\n",
              "    0% {\n",
              "      border-color: transparent;\n",
              "      border-bottom-color: var(--fill-color);\n",
              "      border-left-color: var(--fill-color);\n",
              "    }\n",
              "    20% {\n",
              "      border-color: transparent;\n",
              "      border-left-color: var(--fill-color);\n",
              "      border-top-color: var(--fill-color);\n",
              "    }\n",
              "    30% {\n",
              "      border-color: transparent;\n",
              "      border-left-color: var(--fill-color);\n",
              "      border-top-color: var(--fill-color);\n",
              "      border-right-color: var(--fill-color);\n",
              "    }\n",
              "    40% {\n",
              "      border-color: transparent;\n",
              "      border-right-color: var(--fill-color);\n",
              "      border-top-color: var(--fill-color);\n",
              "    }\n",
              "    60% {\n",
              "      border-color: transparent;\n",
              "      border-right-color: var(--fill-color);\n",
              "    }\n",
              "    80% {\n",
              "      border-color: transparent;\n",
              "      border-right-color: var(--fill-color);\n",
              "      border-bottom-color: var(--fill-color);\n",
              "    }\n",
              "    90% {\n",
              "      border-color: transparent;\n",
              "      border-bottom-color: var(--fill-color);\n",
              "    }\n",
              "  }\n",
              "</style>\n",
              "\n",
              "  <script>\n",
              "    async function quickchart(key) {\n",
              "      const quickchartButtonEl =\n",
              "        document.querySelector('#' + key + ' button');\n",
              "      quickchartButtonEl.disabled = true;  // To prevent multiple clicks.\n",
              "      quickchartButtonEl.classList.add('colab-df-spinner');\n",
              "      try {\n",
              "        const charts = await google.colab.kernel.invokeFunction(\n",
              "            'suggestCharts', [key], {});\n",
              "      } catch (error) {\n",
              "        console.error('Error during call to suggestCharts:', error);\n",
              "      }\n",
              "      quickchartButtonEl.classList.remove('colab-df-spinner');\n",
              "      quickchartButtonEl.classList.add('colab-df-quickchart-complete');\n",
              "    }\n",
              "    (() => {\n",
              "      let quickchartButtonEl =\n",
              "        document.querySelector('#df-4af9340a-82be-49b5-933c-846e714c2136 button');\n",
              "      quickchartButtonEl.style.display =\n",
              "        google.colab.kernel.accessAllowed ? 'block' : 'none';\n",
              "    })();\n",
              "  </script>\n",
              "</div>\n",
              "    </div>\n",
              "  </div>\n"
            ]
          },
          "metadata": {},
          "execution_count": 5
        }
      ],
      "source": [
        "dataset_path = 'https://raw.githubusercontent.com/azzindani/00_Data_Source/main/Adidas_US_Sales.csv'\n",
        "df = pd.read_csv(dataset_path)\n",
        "df.head(2)"
      ]
    },
    {
      "cell_type": "markdown",
      "metadata": {
        "id": "ijGWg9ve51iA"
      },
      "source": [
        "### 01.02 Importing Geo Data"
      ]
    },
    {
      "cell_type": "code",
      "execution_count": 6,
      "metadata": {
        "colab": {
          "base_uri": "https://localhost:8080/",
          "height": 112
        },
        "id": "ci2aFwWG51Gn",
        "outputId": "acc6de28-7974-496c-b525-0eb31e3926cd"
      },
      "outputs": [
        {
          "output_type": "execute_result",
          "data": {
            "text/plain": [
              "   id     name  density                                           geometry\n",
              "0  01  Alabama   94.650  POLYGON ((-87.35930 35.00118, -85.60667 34.984...\n",
              "1  02   Alaska    1.264  MULTIPOLYGON (((-131.60202 55.11798, -131.5691..."
            ],
            "text/html": [
              "\n",
              "  <div id=\"df-33ae081d-ea7e-4690-af83-d17229fc28dd\" class=\"colab-df-container\">\n",
              "    <div>\n",
              "<style scoped>\n",
              "    .dataframe tbody tr th:only-of-type {\n",
              "        vertical-align: middle;\n",
              "    }\n",
              "\n",
              "    .dataframe tbody tr th {\n",
              "        vertical-align: top;\n",
              "    }\n",
              "\n",
              "    .dataframe thead th {\n",
              "        text-align: right;\n",
              "    }\n",
              "</style>\n",
              "<table border=\"1\" class=\"dataframe\">\n",
              "  <thead>\n",
              "    <tr style=\"text-align: right;\">\n",
              "      <th></th>\n",
              "      <th>id</th>\n",
              "      <th>name</th>\n",
              "      <th>density</th>\n",
              "      <th>geometry</th>\n",
              "    </tr>\n",
              "  </thead>\n",
              "  <tbody>\n",
              "    <tr>\n",
              "      <th>0</th>\n",
              "      <td>01</td>\n",
              "      <td>Alabama</td>\n",
              "      <td>94.650</td>\n",
              "      <td>POLYGON ((-87.35930 35.00118, -85.60667 34.984...</td>\n",
              "    </tr>\n",
              "    <tr>\n",
              "      <th>1</th>\n",
              "      <td>02</td>\n",
              "      <td>Alaska</td>\n",
              "      <td>1.264</td>\n",
              "      <td>MULTIPOLYGON (((-131.60202 55.11798, -131.5691...</td>\n",
              "    </tr>\n",
              "  </tbody>\n",
              "</table>\n",
              "</div>\n",
              "    <div class=\"colab-df-buttons\">\n",
              "\n",
              "  <div class=\"colab-df-container\">\n",
              "    <button class=\"colab-df-convert\" onclick=\"convertToInteractive('df-33ae081d-ea7e-4690-af83-d17229fc28dd')\"\n",
              "            title=\"Convert this dataframe to an interactive table.\"\n",
              "            style=\"display:none;\">\n",
              "\n",
              "  <svg xmlns=\"http://www.w3.org/2000/svg\" height=\"24px\" viewBox=\"0 -960 960 960\">\n",
              "    <path d=\"M120-120v-720h720v720H120Zm60-500h600v-160H180v160Zm220 220h160v-160H400v160Zm0 220h160v-160H400v160ZM180-400h160v-160H180v160Zm440 0h160v-160H620v160ZM180-180h160v-160H180v160Zm440 0h160v-160H620v160Z\"/>\n",
              "  </svg>\n",
              "    </button>\n",
              "\n",
              "  <style>\n",
              "    .colab-df-container {\n",
              "      display:flex;\n",
              "      gap: 12px;\n",
              "    }\n",
              "\n",
              "    .colab-df-convert {\n",
              "      background-color: #E8F0FE;\n",
              "      border: none;\n",
              "      border-radius: 50%;\n",
              "      cursor: pointer;\n",
              "      display: none;\n",
              "      fill: #1967D2;\n",
              "      height: 32px;\n",
              "      padding: 0 0 0 0;\n",
              "      width: 32px;\n",
              "    }\n",
              "\n",
              "    .colab-df-convert:hover {\n",
              "      background-color: #E2EBFA;\n",
              "      box-shadow: 0px 1px 2px rgba(60, 64, 67, 0.3), 0px 1px 3px 1px rgba(60, 64, 67, 0.15);\n",
              "      fill: #174EA6;\n",
              "    }\n",
              "\n",
              "    .colab-df-buttons div {\n",
              "      margin-bottom: 4px;\n",
              "    }\n",
              "\n",
              "    [theme=dark] .colab-df-convert {\n",
              "      background-color: #3B4455;\n",
              "      fill: #D2E3FC;\n",
              "    }\n",
              "\n",
              "    [theme=dark] .colab-df-convert:hover {\n",
              "      background-color: #434B5C;\n",
              "      box-shadow: 0px 1px 3px 1px rgba(0, 0, 0, 0.15);\n",
              "      filter: drop-shadow(0px 1px 2px rgba(0, 0, 0, 0.3));\n",
              "      fill: #FFFFFF;\n",
              "    }\n",
              "  </style>\n",
              "\n",
              "    <script>\n",
              "      const buttonEl =\n",
              "        document.querySelector('#df-33ae081d-ea7e-4690-af83-d17229fc28dd button.colab-df-convert');\n",
              "      buttonEl.style.display =\n",
              "        google.colab.kernel.accessAllowed ? 'block' : 'none';\n",
              "\n",
              "      async function convertToInteractive(key) {\n",
              "        const element = document.querySelector('#df-33ae081d-ea7e-4690-af83-d17229fc28dd');\n",
              "        const dataTable =\n",
              "          await google.colab.kernel.invokeFunction('convertToInteractive',\n",
              "                                                    [key], {});\n",
              "        if (!dataTable) return;\n",
              "\n",
              "        const docLinkHtml = 'Like what you see? Visit the ' +\n",
              "          '<a target=\"_blank\" href=https://colab.research.google.com/notebooks/data_table.ipynb>data table notebook</a>'\n",
              "          + ' to learn more about interactive tables.';\n",
              "        element.innerHTML = '';\n",
              "        dataTable['output_type'] = 'display_data';\n",
              "        await google.colab.output.renderOutput(dataTable, element);\n",
              "        const docLink = document.createElement('div');\n",
              "        docLink.innerHTML = docLinkHtml;\n",
              "        element.appendChild(docLink);\n",
              "      }\n",
              "    </script>\n",
              "  </div>\n",
              "\n",
              "\n",
              "<div id=\"df-1e82aa89-6e2e-438a-b51c-0ba0232246f6\">\n",
              "  <button class=\"colab-df-quickchart\" onclick=\"quickchart('df-1e82aa89-6e2e-438a-b51c-0ba0232246f6')\"\n",
              "            title=\"Suggest charts\"\n",
              "            style=\"display:none;\">\n",
              "\n",
              "<svg xmlns=\"http://www.w3.org/2000/svg\" height=\"24px\"viewBox=\"0 0 24 24\"\n",
              "     width=\"24px\">\n",
              "    <g>\n",
              "        <path d=\"M19 3H5c-1.1 0-2 .9-2 2v14c0 1.1.9 2 2 2h14c1.1 0 2-.9 2-2V5c0-1.1-.9-2-2-2zM9 17H7v-7h2v7zm4 0h-2V7h2v10zm4 0h-2v-4h2v4z\"/>\n",
              "    </g>\n",
              "</svg>\n",
              "  </button>\n",
              "\n",
              "<style>\n",
              "  .colab-df-quickchart {\n",
              "      --bg-color: #E8F0FE;\n",
              "      --fill-color: #1967D2;\n",
              "      --hover-bg-color: #E2EBFA;\n",
              "      --hover-fill-color: #174EA6;\n",
              "      --disabled-fill-color: #AAA;\n",
              "      --disabled-bg-color: #DDD;\n",
              "  }\n",
              "\n",
              "  [theme=dark] .colab-df-quickchart {\n",
              "      --bg-color: #3B4455;\n",
              "      --fill-color: #D2E3FC;\n",
              "      --hover-bg-color: #434B5C;\n",
              "      --hover-fill-color: #FFFFFF;\n",
              "      --disabled-bg-color: #3B4455;\n",
              "      --disabled-fill-color: #666;\n",
              "  }\n",
              "\n",
              "  .colab-df-quickchart {\n",
              "    background-color: var(--bg-color);\n",
              "    border: none;\n",
              "    border-radius: 50%;\n",
              "    cursor: pointer;\n",
              "    display: none;\n",
              "    fill: var(--fill-color);\n",
              "    height: 32px;\n",
              "    padding: 0;\n",
              "    width: 32px;\n",
              "  }\n",
              "\n",
              "  .colab-df-quickchart:hover {\n",
              "    background-color: var(--hover-bg-color);\n",
              "    box-shadow: 0 1px 2px rgba(60, 64, 67, 0.3), 0 1px 3px 1px rgba(60, 64, 67, 0.15);\n",
              "    fill: var(--button-hover-fill-color);\n",
              "  }\n",
              "\n",
              "  .colab-df-quickchart-complete:disabled,\n",
              "  .colab-df-quickchart-complete:disabled:hover {\n",
              "    background-color: var(--disabled-bg-color);\n",
              "    fill: var(--disabled-fill-color);\n",
              "    box-shadow: none;\n",
              "  }\n",
              "\n",
              "  .colab-df-spinner {\n",
              "    border: 2px solid var(--fill-color);\n",
              "    border-color: transparent;\n",
              "    border-bottom-color: var(--fill-color);\n",
              "    animation:\n",
              "      spin 1s steps(1) infinite;\n",
              "  }\n",
              "\n",
              "  @keyframes spin {\n",
              "    0% {\n",
              "      border-color: transparent;\n",
              "      border-bottom-color: var(--fill-color);\n",
              "      border-left-color: var(--fill-color);\n",
              "    }\n",
              "    20% {\n",
              "      border-color: transparent;\n",
              "      border-left-color: var(--fill-color);\n",
              "      border-top-color: var(--fill-color);\n",
              "    }\n",
              "    30% {\n",
              "      border-color: transparent;\n",
              "      border-left-color: var(--fill-color);\n",
              "      border-top-color: var(--fill-color);\n",
              "      border-right-color: var(--fill-color);\n",
              "    }\n",
              "    40% {\n",
              "      border-color: transparent;\n",
              "      border-right-color: var(--fill-color);\n",
              "      border-top-color: var(--fill-color);\n",
              "    }\n",
              "    60% {\n",
              "      border-color: transparent;\n",
              "      border-right-color: var(--fill-color);\n",
              "    }\n",
              "    80% {\n",
              "      border-color: transparent;\n",
              "      border-right-color: var(--fill-color);\n",
              "      border-bottom-color: var(--fill-color);\n",
              "    }\n",
              "    90% {\n",
              "      border-color: transparent;\n",
              "      border-bottom-color: var(--fill-color);\n",
              "    }\n",
              "  }\n",
              "</style>\n",
              "\n",
              "  <script>\n",
              "    async function quickchart(key) {\n",
              "      const quickchartButtonEl =\n",
              "        document.querySelector('#' + key + ' button');\n",
              "      quickchartButtonEl.disabled = true;  // To prevent multiple clicks.\n",
              "      quickchartButtonEl.classList.add('colab-df-spinner');\n",
              "      try {\n",
              "        const charts = await google.colab.kernel.invokeFunction(\n",
              "            'suggestCharts', [key], {});\n",
              "      } catch (error) {\n",
              "        console.error('Error during call to suggestCharts:', error);\n",
              "      }\n",
              "      quickchartButtonEl.classList.remove('colab-df-spinner');\n",
              "      quickchartButtonEl.classList.add('colab-df-quickchart-complete');\n",
              "    }\n",
              "    (() => {\n",
              "      let quickchartButtonEl =\n",
              "        document.querySelector('#df-1e82aa89-6e2e-438a-b51c-0ba0232246f6 button');\n",
              "      quickchartButtonEl.style.display =\n",
              "        google.colab.kernel.accessAllowed ? 'block' : 'none';\n",
              "    })();\n",
              "  </script>\n",
              "</div>\n",
              "    </div>\n",
              "  </div>\n"
            ]
          },
          "metadata": {},
          "execution_count": 6
        }
      ],
      "source": [
        "gdf = gpd.read_file('https://raw.githubusercontent.com/PublicaMundi/MappingAPI/master/data/geojson/us-states.json')\n",
        "gdf.head(2) #'''"
      ]
    },
    {
      "cell_type": "code",
      "execution_count": 7,
      "metadata": {
        "colab": {
          "base_uri": "https://localhost:8080/",
          "height": 143
        },
        "id": "MAH6j1dF58sH",
        "outputId": "3fcffd46-3b71-430a-e0d5-f1719eb69021"
      },
      "outputs": [
        {
          "output_type": "execute_result",
          "data": {
            "text/plain": [
              "     State                                           geometry\n",
              "0  Alabama  POLYGON ((-87.35930 35.00118, -85.60667 34.984...\n",
              "1   Alaska  MULTIPOLYGON (((-131.60202 55.11798, -131.5691...\n",
              "2  Arizona  POLYGON ((-109.04250 37.00026, -109.04798 31.3..."
            ],
            "text/html": [
              "\n",
              "  <div id=\"df-298f147c-213a-499b-a219-603db35fef40\" class=\"colab-df-container\">\n",
              "    <div>\n",
              "<style scoped>\n",
              "    .dataframe tbody tr th:only-of-type {\n",
              "        vertical-align: middle;\n",
              "    }\n",
              "\n",
              "    .dataframe tbody tr th {\n",
              "        vertical-align: top;\n",
              "    }\n",
              "\n",
              "    .dataframe thead th {\n",
              "        text-align: right;\n",
              "    }\n",
              "</style>\n",
              "<table border=\"1\" class=\"dataframe\">\n",
              "  <thead>\n",
              "    <tr style=\"text-align: right;\">\n",
              "      <th></th>\n",
              "      <th>State</th>\n",
              "      <th>geometry</th>\n",
              "    </tr>\n",
              "  </thead>\n",
              "  <tbody>\n",
              "    <tr>\n",
              "      <th>0</th>\n",
              "      <td>Alabama</td>\n",
              "      <td>POLYGON ((-87.35930 35.00118, -85.60667 34.984...</td>\n",
              "    </tr>\n",
              "    <tr>\n",
              "      <th>1</th>\n",
              "      <td>Alaska</td>\n",
              "      <td>MULTIPOLYGON (((-131.60202 55.11798, -131.5691...</td>\n",
              "    </tr>\n",
              "    <tr>\n",
              "      <th>2</th>\n",
              "      <td>Arizona</td>\n",
              "      <td>POLYGON ((-109.04250 37.00026, -109.04798 31.3...</td>\n",
              "    </tr>\n",
              "  </tbody>\n",
              "</table>\n",
              "</div>\n",
              "    <div class=\"colab-df-buttons\">\n",
              "\n",
              "  <div class=\"colab-df-container\">\n",
              "    <button class=\"colab-df-convert\" onclick=\"convertToInteractive('df-298f147c-213a-499b-a219-603db35fef40')\"\n",
              "            title=\"Convert this dataframe to an interactive table.\"\n",
              "            style=\"display:none;\">\n",
              "\n",
              "  <svg xmlns=\"http://www.w3.org/2000/svg\" height=\"24px\" viewBox=\"0 -960 960 960\">\n",
              "    <path d=\"M120-120v-720h720v720H120Zm60-500h600v-160H180v160Zm220 220h160v-160H400v160Zm0 220h160v-160H400v160ZM180-400h160v-160H180v160Zm440 0h160v-160H620v160ZM180-180h160v-160H180v160Zm440 0h160v-160H620v160Z\"/>\n",
              "  </svg>\n",
              "    </button>\n",
              "\n",
              "  <style>\n",
              "    .colab-df-container {\n",
              "      display:flex;\n",
              "      gap: 12px;\n",
              "    }\n",
              "\n",
              "    .colab-df-convert {\n",
              "      background-color: #E8F0FE;\n",
              "      border: none;\n",
              "      border-radius: 50%;\n",
              "      cursor: pointer;\n",
              "      display: none;\n",
              "      fill: #1967D2;\n",
              "      height: 32px;\n",
              "      padding: 0 0 0 0;\n",
              "      width: 32px;\n",
              "    }\n",
              "\n",
              "    .colab-df-convert:hover {\n",
              "      background-color: #E2EBFA;\n",
              "      box-shadow: 0px 1px 2px rgba(60, 64, 67, 0.3), 0px 1px 3px 1px rgba(60, 64, 67, 0.15);\n",
              "      fill: #174EA6;\n",
              "    }\n",
              "\n",
              "    .colab-df-buttons div {\n",
              "      margin-bottom: 4px;\n",
              "    }\n",
              "\n",
              "    [theme=dark] .colab-df-convert {\n",
              "      background-color: #3B4455;\n",
              "      fill: #D2E3FC;\n",
              "    }\n",
              "\n",
              "    [theme=dark] .colab-df-convert:hover {\n",
              "      background-color: #434B5C;\n",
              "      box-shadow: 0px 1px 3px 1px rgba(0, 0, 0, 0.15);\n",
              "      filter: drop-shadow(0px 1px 2px rgba(0, 0, 0, 0.3));\n",
              "      fill: #FFFFFF;\n",
              "    }\n",
              "  </style>\n",
              "\n",
              "    <script>\n",
              "      const buttonEl =\n",
              "        document.querySelector('#df-298f147c-213a-499b-a219-603db35fef40 button.colab-df-convert');\n",
              "      buttonEl.style.display =\n",
              "        google.colab.kernel.accessAllowed ? 'block' : 'none';\n",
              "\n",
              "      async function convertToInteractive(key) {\n",
              "        const element = document.querySelector('#df-298f147c-213a-499b-a219-603db35fef40');\n",
              "        const dataTable =\n",
              "          await google.colab.kernel.invokeFunction('convertToInteractive',\n",
              "                                                    [key], {});\n",
              "        if (!dataTable) return;\n",
              "\n",
              "        const docLinkHtml = 'Like what you see? Visit the ' +\n",
              "          '<a target=\"_blank\" href=https://colab.research.google.com/notebooks/data_table.ipynb>data table notebook</a>'\n",
              "          + ' to learn more about interactive tables.';\n",
              "        element.innerHTML = '';\n",
              "        dataTable['output_type'] = 'display_data';\n",
              "        await google.colab.output.renderOutput(dataTable, element);\n",
              "        const docLink = document.createElement('div');\n",
              "        docLink.innerHTML = docLinkHtml;\n",
              "        element.appendChild(docLink);\n",
              "      }\n",
              "    </script>\n",
              "  </div>\n",
              "\n",
              "\n",
              "<div id=\"df-8a277461-1514-4f84-aede-e1b72f04da35\">\n",
              "  <button class=\"colab-df-quickchart\" onclick=\"quickchart('df-8a277461-1514-4f84-aede-e1b72f04da35')\"\n",
              "            title=\"Suggest charts\"\n",
              "            style=\"display:none;\">\n",
              "\n",
              "<svg xmlns=\"http://www.w3.org/2000/svg\" height=\"24px\"viewBox=\"0 0 24 24\"\n",
              "     width=\"24px\">\n",
              "    <g>\n",
              "        <path d=\"M19 3H5c-1.1 0-2 .9-2 2v14c0 1.1.9 2 2 2h14c1.1 0 2-.9 2-2V5c0-1.1-.9-2-2-2zM9 17H7v-7h2v7zm4 0h-2V7h2v10zm4 0h-2v-4h2v4z\"/>\n",
              "    </g>\n",
              "</svg>\n",
              "  </button>\n",
              "\n",
              "<style>\n",
              "  .colab-df-quickchart {\n",
              "      --bg-color: #E8F0FE;\n",
              "      --fill-color: #1967D2;\n",
              "      --hover-bg-color: #E2EBFA;\n",
              "      --hover-fill-color: #174EA6;\n",
              "      --disabled-fill-color: #AAA;\n",
              "      --disabled-bg-color: #DDD;\n",
              "  }\n",
              "\n",
              "  [theme=dark] .colab-df-quickchart {\n",
              "      --bg-color: #3B4455;\n",
              "      --fill-color: #D2E3FC;\n",
              "      --hover-bg-color: #434B5C;\n",
              "      --hover-fill-color: #FFFFFF;\n",
              "      --disabled-bg-color: #3B4455;\n",
              "      --disabled-fill-color: #666;\n",
              "  }\n",
              "\n",
              "  .colab-df-quickchart {\n",
              "    background-color: var(--bg-color);\n",
              "    border: none;\n",
              "    border-radius: 50%;\n",
              "    cursor: pointer;\n",
              "    display: none;\n",
              "    fill: var(--fill-color);\n",
              "    height: 32px;\n",
              "    padding: 0;\n",
              "    width: 32px;\n",
              "  }\n",
              "\n",
              "  .colab-df-quickchart:hover {\n",
              "    background-color: var(--hover-bg-color);\n",
              "    box-shadow: 0 1px 2px rgba(60, 64, 67, 0.3), 0 1px 3px 1px rgba(60, 64, 67, 0.15);\n",
              "    fill: var(--button-hover-fill-color);\n",
              "  }\n",
              "\n",
              "  .colab-df-quickchart-complete:disabled,\n",
              "  .colab-df-quickchart-complete:disabled:hover {\n",
              "    background-color: var(--disabled-bg-color);\n",
              "    fill: var(--disabled-fill-color);\n",
              "    box-shadow: none;\n",
              "  }\n",
              "\n",
              "  .colab-df-spinner {\n",
              "    border: 2px solid var(--fill-color);\n",
              "    border-color: transparent;\n",
              "    border-bottom-color: var(--fill-color);\n",
              "    animation:\n",
              "      spin 1s steps(1) infinite;\n",
              "  }\n",
              "\n",
              "  @keyframes spin {\n",
              "    0% {\n",
              "      border-color: transparent;\n",
              "      border-bottom-color: var(--fill-color);\n",
              "      border-left-color: var(--fill-color);\n",
              "    }\n",
              "    20% {\n",
              "      border-color: transparent;\n",
              "      border-left-color: var(--fill-color);\n",
              "      border-top-color: var(--fill-color);\n",
              "    }\n",
              "    30% {\n",
              "      border-color: transparent;\n",
              "      border-left-color: var(--fill-color);\n",
              "      border-top-color: var(--fill-color);\n",
              "      border-right-color: var(--fill-color);\n",
              "    }\n",
              "    40% {\n",
              "      border-color: transparent;\n",
              "      border-right-color: var(--fill-color);\n",
              "      border-top-color: var(--fill-color);\n",
              "    }\n",
              "    60% {\n",
              "      border-color: transparent;\n",
              "      border-right-color: var(--fill-color);\n",
              "    }\n",
              "    80% {\n",
              "      border-color: transparent;\n",
              "      border-right-color: var(--fill-color);\n",
              "      border-bottom-color: var(--fill-color);\n",
              "    }\n",
              "    90% {\n",
              "      border-color: transparent;\n",
              "      border-bottom-color: var(--fill-color);\n",
              "    }\n",
              "  }\n",
              "</style>\n",
              "\n",
              "  <script>\n",
              "    async function quickchart(key) {\n",
              "      const quickchartButtonEl =\n",
              "        document.querySelector('#' + key + ' button');\n",
              "      quickchartButtonEl.disabled = true;  // To prevent multiple clicks.\n",
              "      quickchartButtonEl.classList.add('colab-df-spinner');\n",
              "      try {\n",
              "        const charts = await google.colab.kernel.invokeFunction(\n",
              "            'suggestCharts', [key], {});\n",
              "      } catch (error) {\n",
              "        console.error('Error during call to suggestCharts:', error);\n",
              "      }\n",
              "      quickchartButtonEl.classList.remove('colab-df-spinner');\n",
              "      quickchartButtonEl.classList.add('colab-df-quickchart-complete');\n",
              "    }\n",
              "    (() => {\n",
              "      let quickchartButtonEl =\n",
              "        document.querySelector('#df-8a277461-1514-4f84-aede-e1b72f04da35 button');\n",
              "      quickchartButtonEl.style.display =\n",
              "        google.colab.kernel.accessAllowed ? 'block' : 'none';\n",
              "    })();\n",
              "  </script>\n",
              "</div>\n",
              "    </div>\n",
              "  </div>\n"
            ]
          },
          "metadata": {},
          "execution_count": 7
        }
      ],
      "source": [
        "gdf = gdf.rename(columns = {'name' : 'State'})\n",
        "gdf = gdf[['State', 'geometry']]\n",
        "gdf.head(3)"
      ]
    },
    {
      "cell_type": "markdown",
      "metadata": {
        "id": "bDb0JNRq5-kL"
      },
      "source": [
        "### 01.03 Importing Additional Data (for enrichment)"
      ]
    },
    {
      "cell_type": "markdown",
      "metadata": {
        "id": "h64mxkfP2bSU"
      },
      "source": [
        "## 02 Checking Data"
      ]
    },
    {
      "cell_type": "code",
      "execution_count": 8,
      "metadata": {
        "colab": {
          "base_uri": "https://localhost:8080/"
        },
        "id": "St-0d98v2Myk",
        "outputId": "55d56f78-5a05-49c3-f54a-0fe46fef3c17"
      },
      "outputs": [
        {
          "output_type": "execute_result",
          "data": {
            "text/plain": [
              "(9648, 13)"
            ]
          },
          "metadata": {},
          "execution_count": 8
        }
      ],
      "source": [
        "df.shape"
      ]
    },
    {
      "cell_type": "code",
      "execution_count": 9,
      "metadata": {
        "colab": {
          "base_uri": "https://localhost:8080/"
        },
        "id": "5ikQRhjF2gRm",
        "outputId": "95dff429-ac01-4c56-83a4-9e332b8f1792"
      },
      "outputs": [
        {
          "output_type": "execute_result",
          "data": {
            "text/plain": [
              "Index(['Retailer', 'Retailer ID', 'Invoice Date', 'Region', 'State', 'City',\n",
              "       'Product', 'Price per Unit', 'Units Sold', 'Total Sales',\n",
              "       'Operating Profit', 'Operating Margin', 'Sales Method'],\n",
              "      dtype='object')"
            ]
          },
          "metadata": {},
          "execution_count": 9
        }
      ],
      "source": [
        "df.columns"
      ]
    },
    {
      "cell_type": "code",
      "execution_count": 10,
      "metadata": {
        "colab": {
          "base_uri": "https://localhost:8080/"
        },
        "id": "KbzzoKIj2iUB",
        "outputId": "8b6594c0-6f08-49e0-84c3-2ab4fbac5e00"
      },
      "outputs": [
        {
          "output_type": "execute_result",
          "data": {
            "text/plain": [
              "Retailer               6\n",
              "Retailer ID            4\n",
              "Invoice Date         724\n",
              "Region                 5\n",
              "State                 50\n",
              "City                  52\n",
              "Product                6\n",
              "Price per Unit       139\n",
              "Units Sold           361\n",
              "Total Sales         3464\n",
              "Operating Profit    6298\n",
              "Operating Margin     110\n",
              "Sales Method           3\n",
              "dtype: int64"
            ]
          },
          "metadata": {},
          "execution_count": 10
        }
      ],
      "source": [
        "df.nunique()"
      ]
    },
    {
      "cell_type": "code",
      "execution_count": 11,
      "metadata": {
        "colab": {
          "base_uri": "https://localhost:8080/"
        },
        "id": "5-9KO3Mi2lKG",
        "outputId": "64ba4e76-db65-4a02-d467-3f77df4e66c6"
      },
      "outputs": [
        {
          "output_type": "stream",
          "name": "stdout",
          "text": [
            "<class 'pandas.core.frame.DataFrame'>\n",
            "RangeIndex: 9648 entries, 0 to 9647\n",
            "Data columns (total 13 columns):\n",
            " #   Column            Non-Null Count  Dtype  \n",
            "---  ------            --------------  -----  \n",
            " 0   Retailer          9648 non-null   object \n",
            " 1   Retailer ID       9648 non-null   int64  \n",
            " 2   Invoice Date      9648 non-null   object \n",
            " 3   Region            9648 non-null   object \n",
            " 4   State             9648 non-null   object \n",
            " 5   City              9648 non-null   object \n",
            " 6   Product           9648 non-null   object \n",
            " 7   Price per Unit    9648 non-null   float64\n",
            " 8   Units Sold        9648 non-null   int64  \n",
            " 9   Total Sales       9648 non-null   float64\n",
            " 10  Operating Profit  9648 non-null   float64\n",
            " 11  Operating Margin  9648 non-null   float64\n",
            " 12  Sales Method      9648 non-null   object \n",
            "dtypes: float64(4), int64(2), object(7)\n",
            "memory usage: 980.0+ KB\n"
          ]
        }
      ],
      "source": [
        "df.info()"
      ]
    },
    {
      "cell_type": "markdown",
      "metadata": {
        "id": "Ofv3eTv72nkR"
      },
      "source": [
        "## 03 Data Structuring"
      ]
    },
    {
      "cell_type": "markdown",
      "metadata": {
        "id": "skphEhYa2sj-"
      },
      "source": [
        "### 03.01 Selecting & Dropping Variables"
      ]
    },
    {
      "cell_type": "code",
      "execution_count": 12,
      "metadata": {
        "colab": {
          "base_uri": "https://localhost:8080/",
          "height": 143
        },
        "id": "3LTT9u3L2vIh",
        "outputId": "888cce62-d518-41ce-c248-8022402b662a"
      },
      "outputs": [
        {
          "output_type": "execute_result",
          "data": {
            "text/plain": [
              "      Retailer Invoice Date     Region     State                  Product  \\\n",
              "0  Foot Locker   2020-01-01  Northeast  New York    Men's Street Footwear   \n",
              "1  Foot Locker   2020-01-02  Northeast  New York  Men's Athletic Footwear   \n",
              "2  Foot Locker   2020-01-03  Northeast  New York  Women's Street Footwear   \n",
              "\n",
              "   Price per Unit  Units Sold  Total Sales  Operating Profit  \\\n",
              "0            50.0        1200     600000.0          300000.0   \n",
              "1            50.0        1000     500000.0          150000.0   \n",
              "2            40.0        1000     400000.0          140000.0   \n",
              "\n",
              "   Operating Margin Sales Method  \n",
              "0              0.50     In-store  \n",
              "1              0.30     In-store  \n",
              "2              0.35     In-store  "
            ],
            "text/html": [
              "\n",
              "  <div id=\"df-5cd5c3f7-0e7b-4923-8bdd-5559a882fbcb\" class=\"colab-df-container\">\n",
              "    <div>\n",
              "<style scoped>\n",
              "    .dataframe tbody tr th:only-of-type {\n",
              "        vertical-align: middle;\n",
              "    }\n",
              "\n",
              "    .dataframe tbody tr th {\n",
              "        vertical-align: top;\n",
              "    }\n",
              "\n",
              "    .dataframe thead th {\n",
              "        text-align: right;\n",
              "    }\n",
              "</style>\n",
              "<table border=\"1\" class=\"dataframe\">\n",
              "  <thead>\n",
              "    <tr style=\"text-align: right;\">\n",
              "      <th></th>\n",
              "      <th>Retailer</th>\n",
              "      <th>Invoice Date</th>\n",
              "      <th>Region</th>\n",
              "      <th>State</th>\n",
              "      <th>Product</th>\n",
              "      <th>Price per Unit</th>\n",
              "      <th>Units Sold</th>\n",
              "      <th>Total Sales</th>\n",
              "      <th>Operating Profit</th>\n",
              "      <th>Operating Margin</th>\n",
              "      <th>Sales Method</th>\n",
              "    </tr>\n",
              "  </thead>\n",
              "  <tbody>\n",
              "    <tr>\n",
              "      <th>0</th>\n",
              "      <td>Foot Locker</td>\n",
              "      <td>2020-01-01</td>\n",
              "      <td>Northeast</td>\n",
              "      <td>New York</td>\n",
              "      <td>Men's Street Footwear</td>\n",
              "      <td>50.0</td>\n",
              "      <td>1200</td>\n",
              "      <td>600000.0</td>\n",
              "      <td>300000.0</td>\n",
              "      <td>0.50</td>\n",
              "      <td>In-store</td>\n",
              "    </tr>\n",
              "    <tr>\n",
              "      <th>1</th>\n",
              "      <td>Foot Locker</td>\n",
              "      <td>2020-01-02</td>\n",
              "      <td>Northeast</td>\n",
              "      <td>New York</td>\n",
              "      <td>Men's Athletic Footwear</td>\n",
              "      <td>50.0</td>\n",
              "      <td>1000</td>\n",
              "      <td>500000.0</td>\n",
              "      <td>150000.0</td>\n",
              "      <td>0.30</td>\n",
              "      <td>In-store</td>\n",
              "    </tr>\n",
              "    <tr>\n",
              "      <th>2</th>\n",
              "      <td>Foot Locker</td>\n",
              "      <td>2020-01-03</td>\n",
              "      <td>Northeast</td>\n",
              "      <td>New York</td>\n",
              "      <td>Women's Street Footwear</td>\n",
              "      <td>40.0</td>\n",
              "      <td>1000</td>\n",
              "      <td>400000.0</td>\n",
              "      <td>140000.0</td>\n",
              "      <td>0.35</td>\n",
              "      <td>In-store</td>\n",
              "    </tr>\n",
              "  </tbody>\n",
              "</table>\n",
              "</div>\n",
              "    <div class=\"colab-df-buttons\">\n",
              "\n",
              "  <div class=\"colab-df-container\">\n",
              "    <button class=\"colab-df-convert\" onclick=\"convertToInteractive('df-5cd5c3f7-0e7b-4923-8bdd-5559a882fbcb')\"\n",
              "            title=\"Convert this dataframe to an interactive table.\"\n",
              "            style=\"display:none;\">\n",
              "\n",
              "  <svg xmlns=\"http://www.w3.org/2000/svg\" height=\"24px\" viewBox=\"0 -960 960 960\">\n",
              "    <path d=\"M120-120v-720h720v720H120Zm60-500h600v-160H180v160Zm220 220h160v-160H400v160Zm0 220h160v-160H400v160ZM180-400h160v-160H180v160Zm440 0h160v-160H620v160ZM180-180h160v-160H180v160Zm440 0h160v-160H620v160Z\"/>\n",
              "  </svg>\n",
              "    </button>\n",
              "\n",
              "  <style>\n",
              "    .colab-df-container {\n",
              "      display:flex;\n",
              "      gap: 12px;\n",
              "    }\n",
              "\n",
              "    .colab-df-convert {\n",
              "      background-color: #E8F0FE;\n",
              "      border: none;\n",
              "      border-radius: 50%;\n",
              "      cursor: pointer;\n",
              "      display: none;\n",
              "      fill: #1967D2;\n",
              "      height: 32px;\n",
              "      padding: 0 0 0 0;\n",
              "      width: 32px;\n",
              "    }\n",
              "\n",
              "    .colab-df-convert:hover {\n",
              "      background-color: #E2EBFA;\n",
              "      box-shadow: 0px 1px 2px rgba(60, 64, 67, 0.3), 0px 1px 3px 1px rgba(60, 64, 67, 0.15);\n",
              "      fill: #174EA6;\n",
              "    }\n",
              "\n",
              "    .colab-df-buttons div {\n",
              "      margin-bottom: 4px;\n",
              "    }\n",
              "\n",
              "    [theme=dark] .colab-df-convert {\n",
              "      background-color: #3B4455;\n",
              "      fill: #D2E3FC;\n",
              "    }\n",
              "\n",
              "    [theme=dark] .colab-df-convert:hover {\n",
              "      background-color: #434B5C;\n",
              "      box-shadow: 0px 1px 3px 1px rgba(0, 0, 0, 0.15);\n",
              "      filter: drop-shadow(0px 1px 2px rgba(0, 0, 0, 0.3));\n",
              "      fill: #FFFFFF;\n",
              "    }\n",
              "  </style>\n",
              "\n",
              "    <script>\n",
              "      const buttonEl =\n",
              "        document.querySelector('#df-5cd5c3f7-0e7b-4923-8bdd-5559a882fbcb button.colab-df-convert');\n",
              "      buttonEl.style.display =\n",
              "        google.colab.kernel.accessAllowed ? 'block' : 'none';\n",
              "\n",
              "      async function convertToInteractive(key) {\n",
              "        const element = document.querySelector('#df-5cd5c3f7-0e7b-4923-8bdd-5559a882fbcb');\n",
              "        const dataTable =\n",
              "          await google.colab.kernel.invokeFunction('convertToInteractive',\n",
              "                                                    [key], {});\n",
              "        if (!dataTable) return;\n",
              "\n",
              "        const docLinkHtml = 'Like what you see? Visit the ' +\n",
              "          '<a target=\"_blank\" href=https://colab.research.google.com/notebooks/data_table.ipynb>data table notebook</a>'\n",
              "          + ' to learn more about interactive tables.';\n",
              "        element.innerHTML = '';\n",
              "        dataTable['output_type'] = 'display_data';\n",
              "        await google.colab.output.renderOutput(dataTable, element);\n",
              "        const docLink = document.createElement('div');\n",
              "        docLink.innerHTML = docLinkHtml;\n",
              "        element.appendChild(docLink);\n",
              "      }\n",
              "    </script>\n",
              "  </div>\n",
              "\n",
              "\n",
              "<div id=\"df-e80f46db-fad2-4374-99b3-34b77f21cd59\">\n",
              "  <button class=\"colab-df-quickchart\" onclick=\"quickchart('df-e80f46db-fad2-4374-99b3-34b77f21cd59')\"\n",
              "            title=\"Suggest charts\"\n",
              "            style=\"display:none;\">\n",
              "\n",
              "<svg xmlns=\"http://www.w3.org/2000/svg\" height=\"24px\"viewBox=\"0 0 24 24\"\n",
              "     width=\"24px\">\n",
              "    <g>\n",
              "        <path d=\"M19 3H5c-1.1 0-2 .9-2 2v14c0 1.1.9 2 2 2h14c1.1 0 2-.9 2-2V5c0-1.1-.9-2-2-2zM9 17H7v-7h2v7zm4 0h-2V7h2v10zm4 0h-2v-4h2v4z\"/>\n",
              "    </g>\n",
              "</svg>\n",
              "  </button>\n",
              "\n",
              "<style>\n",
              "  .colab-df-quickchart {\n",
              "      --bg-color: #E8F0FE;\n",
              "      --fill-color: #1967D2;\n",
              "      --hover-bg-color: #E2EBFA;\n",
              "      --hover-fill-color: #174EA6;\n",
              "      --disabled-fill-color: #AAA;\n",
              "      --disabled-bg-color: #DDD;\n",
              "  }\n",
              "\n",
              "  [theme=dark] .colab-df-quickchart {\n",
              "      --bg-color: #3B4455;\n",
              "      --fill-color: #D2E3FC;\n",
              "      --hover-bg-color: #434B5C;\n",
              "      --hover-fill-color: #FFFFFF;\n",
              "      --disabled-bg-color: #3B4455;\n",
              "      --disabled-fill-color: #666;\n",
              "  }\n",
              "\n",
              "  .colab-df-quickchart {\n",
              "    background-color: var(--bg-color);\n",
              "    border: none;\n",
              "    border-radius: 50%;\n",
              "    cursor: pointer;\n",
              "    display: none;\n",
              "    fill: var(--fill-color);\n",
              "    height: 32px;\n",
              "    padding: 0;\n",
              "    width: 32px;\n",
              "  }\n",
              "\n",
              "  .colab-df-quickchart:hover {\n",
              "    background-color: var(--hover-bg-color);\n",
              "    box-shadow: 0 1px 2px rgba(60, 64, 67, 0.3), 0 1px 3px 1px rgba(60, 64, 67, 0.15);\n",
              "    fill: var(--button-hover-fill-color);\n",
              "  }\n",
              "\n",
              "  .colab-df-quickchart-complete:disabled,\n",
              "  .colab-df-quickchart-complete:disabled:hover {\n",
              "    background-color: var(--disabled-bg-color);\n",
              "    fill: var(--disabled-fill-color);\n",
              "    box-shadow: none;\n",
              "  }\n",
              "\n",
              "  .colab-df-spinner {\n",
              "    border: 2px solid var(--fill-color);\n",
              "    border-color: transparent;\n",
              "    border-bottom-color: var(--fill-color);\n",
              "    animation:\n",
              "      spin 1s steps(1) infinite;\n",
              "  }\n",
              "\n",
              "  @keyframes spin {\n",
              "    0% {\n",
              "      border-color: transparent;\n",
              "      border-bottom-color: var(--fill-color);\n",
              "      border-left-color: var(--fill-color);\n",
              "    }\n",
              "    20% {\n",
              "      border-color: transparent;\n",
              "      border-left-color: var(--fill-color);\n",
              "      border-top-color: var(--fill-color);\n",
              "    }\n",
              "    30% {\n",
              "      border-color: transparent;\n",
              "      border-left-color: var(--fill-color);\n",
              "      border-top-color: var(--fill-color);\n",
              "      border-right-color: var(--fill-color);\n",
              "    }\n",
              "    40% {\n",
              "      border-color: transparent;\n",
              "      border-right-color: var(--fill-color);\n",
              "      border-top-color: var(--fill-color);\n",
              "    }\n",
              "    60% {\n",
              "      border-color: transparent;\n",
              "      border-right-color: var(--fill-color);\n",
              "    }\n",
              "    80% {\n",
              "      border-color: transparent;\n",
              "      border-right-color: var(--fill-color);\n",
              "      border-bottom-color: var(--fill-color);\n",
              "    }\n",
              "    90% {\n",
              "      border-color: transparent;\n",
              "      border-bottom-color: var(--fill-color);\n",
              "    }\n",
              "  }\n",
              "</style>\n",
              "\n",
              "  <script>\n",
              "    async function quickchart(key) {\n",
              "      const quickchartButtonEl =\n",
              "        document.querySelector('#' + key + ' button');\n",
              "      quickchartButtonEl.disabled = true;  // To prevent multiple clicks.\n",
              "      quickchartButtonEl.classList.add('colab-df-spinner');\n",
              "      try {\n",
              "        const charts = await google.colab.kernel.invokeFunction(\n",
              "            'suggestCharts', [key], {});\n",
              "      } catch (error) {\n",
              "        console.error('Error during call to suggestCharts:', error);\n",
              "      }\n",
              "      quickchartButtonEl.classList.remove('colab-df-spinner');\n",
              "      quickchartButtonEl.classList.add('colab-df-quickchart-complete');\n",
              "    }\n",
              "    (() => {\n",
              "      let quickchartButtonEl =\n",
              "        document.querySelector('#df-e80f46db-fad2-4374-99b3-34b77f21cd59 button');\n",
              "      quickchartButtonEl.style.display =\n",
              "        google.colab.kernel.accessAllowed ? 'block' : 'none';\n",
              "    })();\n",
              "  </script>\n",
              "</div>\n",
              "    </div>\n",
              "  </div>\n"
            ]
          },
          "metadata": {},
          "execution_count": 12
        }
      ],
      "source": [
        "df = df.drop(['Retailer ID', 'City'], axis = 1)\n",
        "df.head(3)"
      ]
    },
    {
      "cell_type": "markdown",
      "metadata": {
        "id": "8kkSIuDI2zpY"
      },
      "source": [
        "### 03.02 Cleaning Text Object"
      ]
    },
    {
      "cell_type": "markdown",
      "metadata": {
        "id": "gnGCmxzr22a6"
      },
      "source": [
        "#### 03.02.01 Convert Header to Proper Text"
      ]
    },
    {
      "cell_type": "code",
      "execution_count": 13,
      "metadata": {
        "id": "pxibEhsD2xf-"
      },
      "outputs": [],
      "source": [
        "for x in df.columns:\n",
        "  y = x.title()\n",
        "  df = df.rename(columns = {x : y})"
      ]
    },
    {
      "cell_type": "markdown",
      "metadata": {
        "id": "I8-W_5Pq25j4"
      },
      "source": [
        "#### 03.02.02 Strip Abnormal Spaces"
      ]
    },
    {
      "cell_type": "code",
      "execution_count": 14,
      "metadata": {
        "id": "IHBwRW6P27s0"
      },
      "outputs": [],
      "source": [
        "for x in df.columns:\n",
        "  if df[x].dtypes == 'object':\n",
        "    try:\n",
        "      df[x] = df[x].str.strip()\n",
        "    except:\n",
        "      pass"
      ]
    },
    {
      "cell_type": "markdown",
      "metadata": {
        "id": "3UdjluOC2_f6"
      },
      "source": [
        "#### 03.02.03 Convert Object Content to Proper Text"
      ]
    },
    {
      "cell_type": "code",
      "execution_count": 15,
      "metadata": {
        "id": "PvP2ww0K3Bll"
      },
      "outputs": [],
      "source": [
        "for x in df.columns:\n",
        "  if df[x].dtypes == 'object':\n",
        "    for a in df[x].unique():\n",
        "      b = a.title()\n",
        "      df[x] = df[x].replace(a, b)\n",
        "  else:\n",
        "    pass"
      ]
    },
    {
      "cell_type": "markdown",
      "metadata": {
        "id": "qqhG5IiB3F-S"
      },
      "source": [
        "### 03.03 Coverting Data"
      ]
    },
    {
      "cell_type": "markdown",
      "metadata": {
        "id": "PE5qM6Dw3GkP"
      },
      "source": [
        "#### 03.03.01 Convert to date"
      ]
    },
    {
      "cell_type": "code",
      "execution_count": 16,
      "metadata": {
        "colab": {
          "base_uri": "https://localhost:8080/"
        },
        "id": "RUoX8lYp3IqU",
        "outputId": "abc5e4ea-e467-4d3f-d50a-8f8fc3d04432"
      },
      "outputs": [
        {
          "output_type": "stream",
          "name": "stdout",
          "text": [
            "<class 'pandas.core.frame.DataFrame'>\n",
            "RangeIndex: 9648 entries, 0 to 9647\n",
            "Data columns (total 11 columns):\n",
            " #   Column            Non-Null Count  Dtype  \n",
            "---  ------            --------------  -----  \n",
            " 0   Retailer          9648 non-null   object \n",
            " 1   Invoice Date      9648 non-null   object \n",
            " 2   Region            9648 non-null   object \n",
            " 3   State             9648 non-null   object \n",
            " 4   Product           9648 non-null   object \n",
            " 5   Price Per Unit    9648 non-null   float64\n",
            " 6   Units Sold        9648 non-null   int64  \n",
            " 7   Total Sales       9648 non-null   float64\n",
            " 8   Operating Profit  9648 non-null   float64\n",
            " 9   Operating Margin  9648 non-null   float64\n",
            " 10  Sales Method      9648 non-null   object \n",
            "dtypes: float64(4), int64(1), object(6)\n",
            "memory usage: 829.2+ KB\n"
          ]
        }
      ],
      "source": [
        "df.info()"
      ]
    },
    {
      "cell_type": "code",
      "execution_count": 17,
      "metadata": {
        "id": "kesMHW843OfM"
      },
      "outputs": [],
      "source": [
        "df['Invoice Date'] = pd.to_datetime(df['Invoice Date'])"
      ]
    },
    {
      "cell_type": "markdown",
      "metadata": {
        "id": "vC8vfIaj3az_"
      },
      "source": [
        "#### 03.03.02 Convert to integer"
      ]
    },
    {
      "cell_type": "markdown",
      "metadata": {
        "id": "oNIzzPN43gCn"
      },
      "source": [
        "#### 03.03.03 Convert to Object (if necessary)"
      ]
    },
    {
      "cell_type": "markdown",
      "metadata": {
        "id": "Yrd9pcfG3khR"
      },
      "source": [
        "#### 03.03.04 Replace 0 to Nan (if necessary)"
      ]
    },
    {
      "cell_type": "code",
      "execution_count": 18,
      "metadata": {
        "id": "aBUvvU8k3mk-"
      },
      "outputs": [],
      "source": [
        "#df = df.replace(0, np.nan)"
      ]
    },
    {
      "cell_type": "markdown",
      "metadata": {
        "id": "zZ5wzm6u3p8b"
      },
      "source": [
        "## 04 Data Cleaning"
      ]
    },
    {
      "cell_type": "markdown",
      "metadata": {
        "id": "RAq3ZBRe3tuv"
      },
      "source": [
        "### 04.01 Replacing Variable Component"
      ]
    },
    {
      "cell_type": "markdown",
      "metadata": {
        "id": "UhN7QUOc3xcM"
      },
      "source": [
        "### 04.02 Add New Variable"
      ]
    },
    {
      "cell_type": "markdown",
      "metadata": {
        "id": "zNL31wAI31lM"
      },
      "source": [
        "### 04.03 Inaccuracies"
      ]
    },
    {
      "cell_type": "markdown",
      "metadata": {
        "id": "Mn22d9xs4I6o"
      },
      "source": [
        "### 04.04 Handling Outliers\n",
        "##### Data Distribution Check (Before)"
      ]
    },
    {
      "cell_type": "code",
      "execution_count": 19,
      "metadata": {
        "colab": {
          "base_uri": "https://localhost:8080/",
          "height": 143
        },
        "id": "llH-hNJ2_sPy",
        "outputId": "db45100a-c50d-4b1e-d42f-d6477ddd8f01"
      },
      "outputs": [
        {
          "output_type": "execute_result",
          "data": {
            "text/plain": [
              "      Retailer Invoice Date     Region     State                  Product  \\\n",
              "0  Foot Locker   2020-01-01  Northeast  New York    Men'S Street Footwear   \n",
              "1  Foot Locker   2020-01-02  Northeast  New York  Men'S Athletic Footwear   \n",
              "2  Foot Locker   2020-01-03  Northeast  New York  Women'S Street Footwear   \n",
              "\n",
              "   Price Per Unit  Units Sold  Total Sales  Operating Profit  \\\n",
              "0            50.0        1200     600000.0          300000.0   \n",
              "1            50.0        1000     500000.0          150000.0   \n",
              "2            40.0        1000     400000.0          140000.0   \n",
              "\n",
              "   Operating Margin Sales Method  \n",
              "0              0.50     In-Store  \n",
              "1              0.30     In-Store  \n",
              "2              0.35     In-Store  "
            ],
            "text/html": [
              "\n",
              "  <div id=\"df-fff8f133-a17f-44f3-bd47-39c529c4eedf\" class=\"colab-df-container\">\n",
              "    <div>\n",
              "<style scoped>\n",
              "    .dataframe tbody tr th:only-of-type {\n",
              "        vertical-align: middle;\n",
              "    }\n",
              "\n",
              "    .dataframe tbody tr th {\n",
              "        vertical-align: top;\n",
              "    }\n",
              "\n",
              "    .dataframe thead th {\n",
              "        text-align: right;\n",
              "    }\n",
              "</style>\n",
              "<table border=\"1\" class=\"dataframe\">\n",
              "  <thead>\n",
              "    <tr style=\"text-align: right;\">\n",
              "      <th></th>\n",
              "      <th>Retailer</th>\n",
              "      <th>Invoice Date</th>\n",
              "      <th>Region</th>\n",
              "      <th>State</th>\n",
              "      <th>Product</th>\n",
              "      <th>Price Per Unit</th>\n",
              "      <th>Units Sold</th>\n",
              "      <th>Total Sales</th>\n",
              "      <th>Operating Profit</th>\n",
              "      <th>Operating Margin</th>\n",
              "      <th>Sales Method</th>\n",
              "    </tr>\n",
              "  </thead>\n",
              "  <tbody>\n",
              "    <tr>\n",
              "      <th>0</th>\n",
              "      <td>Foot Locker</td>\n",
              "      <td>2020-01-01</td>\n",
              "      <td>Northeast</td>\n",
              "      <td>New York</td>\n",
              "      <td>Men'S Street Footwear</td>\n",
              "      <td>50.0</td>\n",
              "      <td>1200</td>\n",
              "      <td>600000.0</td>\n",
              "      <td>300000.0</td>\n",
              "      <td>0.50</td>\n",
              "      <td>In-Store</td>\n",
              "    </tr>\n",
              "    <tr>\n",
              "      <th>1</th>\n",
              "      <td>Foot Locker</td>\n",
              "      <td>2020-01-02</td>\n",
              "      <td>Northeast</td>\n",
              "      <td>New York</td>\n",
              "      <td>Men'S Athletic Footwear</td>\n",
              "      <td>50.0</td>\n",
              "      <td>1000</td>\n",
              "      <td>500000.0</td>\n",
              "      <td>150000.0</td>\n",
              "      <td>0.30</td>\n",
              "      <td>In-Store</td>\n",
              "    </tr>\n",
              "    <tr>\n",
              "      <th>2</th>\n",
              "      <td>Foot Locker</td>\n",
              "      <td>2020-01-03</td>\n",
              "      <td>Northeast</td>\n",
              "      <td>New York</td>\n",
              "      <td>Women'S Street Footwear</td>\n",
              "      <td>40.0</td>\n",
              "      <td>1000</td>\n",
              "      <td>400000.0</td>\n",
              "      <td>140000.0</td>\n",
              "      <td>0.35</td>\n",
              "      <td>In-Store</td>\n",
              "    </tr>\n",
              "  </tbody>\n",
              "</table>\n",
              "</div>\n",
              "    <div class=\"colab-df-buttons\">\n",
              "\n",
              "  <div class=\"colab-df-container\">\n",
              "    <button class=\"colab-df-convert\" onclick=\"convertToInteractive('df-fff8f133-a17f-44f3-bd47-39c529c4eedf')\"\n",
              "            title=\"Convert this dataframe to an interactive table.\"\n",
              "            style=\"display:none;\">\n",
              "\n",
              "  <svg xmlns=\"http://www.w3.org/2000/svg\" height=\"24px\" viewBox=\"0 -960 960 960\">\n",
              "    <path d=\"M120-120v-720h720v720H120Zm60-500h600v-160H180v160Zm220 220h160v-160H400v160Zm0 220h160v-160H400v160ZM180-400h160v-160H180v160Zm440 0h160v-160H620v160ZM180-180h160v-160H180v160Zm440 0h160v-160H620v160Z\"/>\n",
              "  </svg>\n",
              "    </button>\n",
              "\n",
              "  <style>\n",
              "    .colab-df-container {\n",
              "      display:flex;\n",
              "      gap: 12px;\n",
              "    }\n",
              "\n",
              "    .colab-df-convert {\n",
              "      background-color: #E8F0FE;\n",
              "      border: none;\n",
              "      border-radius: 50%;\n",
              "      cursor: pointer;\n",
              "      display: none;\n",
              "      fill: #1967D2;\n",
              "      height: 32px;\n",
              "      padding: 0 0 0 0;\n",
              "      width: 32px;\n",
              "    }\n",
              "\n",
              "    .colab-df-convert:hover {\n",
              "      background-color: #E2EBFA;\n",
              "      box-shadow: 0px 1px 2px rgba(60, 64, 67, 0.3), 0px 1px 3px 1px rgba(60, 64, 67, 0.15);\n",
              "      fill: #174EA6;\n",
              "    }\n",
              "\n",
              "    .colab-df-buttons div {\n",
              "      margin-bottom: 4px;\n",
              "    }\n",
              "\n",
              "    [theme=dark] .colab-df-convert {\n",
              "      background-color: #3B4455;\n",
              "      fill: #D2E3FC;\n",
              "    }\n",
              "\n",
              "    [theme=dark] .colab-df-convert:hover {\n",
              "      background-color: #434B5C;\n",
              "      box-shadow: 0px 1px 3px 1px rgba(0, 0, 0, 0.15);\n",
              "      filter: drop-shadow(0px 1px 2px rgba(0, 0, 0, 0.3));\n",
              "      fill: #FFFFFF;\n",
              "    }\n",
              "  </style>\n",
              "\n",
              "    <script>\n",
              "      const buttonEl =\n",
              "        document.querySelector('#df-fff8f133-a17f-44f3-bd47-39c529c4eedf button.colab-df-convert');\n",
              "      buttonEl.style.display =\n",
              "        google.colab.kernel.accessAllowed ? 'block' : 'none';\n",
              "\n",
              "      async function convertToInteractive(key) {\n",
              "        const element = document.querySelector('#df-fff8f133-a17f-44f3-bd47-39c529c4eedf');\n",
              "        const dataTable =\n",
              "          await google.colab.kernel.invokeFunction('convertToInteractive',\n",
              "                                                    [key], {});\n",
              "        if (!dataTable) return;\n",
              "\n",
              "        const docLinkHtml = 'Like what you see? Visit the ' +\n",
              "          '<a target=\"_blank\" href=https://colab.research.google.com/notebooks/data_table.ipynb>data table notebook</a>'\n",
              "          + ' to learn more about interactive tables.';\n",
              "        element.innerHTML = '';\n",
              "        dataTable['output_type'] = 'display_data';\n",
              "        await google.colab.output.renderOutput(dataTable, element);\n",
              "        const docLink = document.createElement('div');\n",
              "        docLink.innerHTML = docLinkHtml;\n",
              "        element.appendChild(docLink);\n",
              "      }\n",
              "    </script>\n",
              "  </div>\n",
              "\n",
              "\n",
              "<div id=\"df-bf8602cb-e327-4bf2-811c-03e0858f99d7\">\n",
              "  <button class=\"colab-df-quickchart\" onclick=\"quickchart('df-bf8602cb-e327-4bf2-811c-03e0858f99d7')\"\n",
              "            title=\"Suggest charts\"\n",
              "            style=\"display:none;\">\n",
              "\n",
              "<svg xmlns=\"http://www.w3.org/2000/svg\" height=\"24px\"viewBox=\"0 0 24 24\"\n",
              "     width=\"24px\">\n",
              "    <g>\n",
              "        <path d=\"M19 3H5c-1.1 0-2 .9-2 2v14c0 1.1.9 2 2 2h14c1.1 0 2-.9 2-2V5c0-1.1-.9-2-2-2zM9 17H7v-7h2v7zm4 0h-2V7h2v10zm4 0h-2v-4h2v4z\"/>\n",
              "    </g>\n",
              "</svg>\n",
              "  </button>\n",
              "\n",
              "<style>\n",
              "  .colab-df-quickchart {\n",
              "      --bg-color: #E8F0FE;\n",
              "      --fill-color: #1967D2;\n",
              "      --hover-bg-color: #E2EBFA;\n",
              "      --hover-fill-color: #174EA6;\n",
              "      --disabled-fill-color: #AAA;\n",
              "      --disabled-bg-color: #DDD;\n",
              "  }\n",
              "\n",
              "  [theme=dark] .colab-df-quickchart {\n",
              "      --bg-color: #3B4455;\n",
              "      --fill-color: #D2E3FC;\n",
              "      --hover-bg-color: #434B5C;\n",
              "      --hover-fill-color: #FFFFFF;\n",
              "      --disabled-bg-color: #3B4455;\n",
              "      --disabled-fill-color: #666;\n",
              "  }\n",
              "\n",
              "  .colab-df-quickchart {\n",
              "    background-color: var(--bg-color);\n",
              "    border: none;\n",
              "    border-radius: 50%;\n",
              "    cursor: pointer;\n",
              "    display: none;\n",
              "    fill: var(--fill-color);\n",
              "    height: 32px;\n",
              "    padding: 0;\n",
              "    width: 32px;\n",
              "  }\n",
              "\n",
              "  .colab-df-quickchart:hover {\n",
              "    background-color: var(--hover-bg-color);\n",
              "    box-shadow: 0 1px 2px rgba(60, 64, 67, 0.3), 0 1px 3px 1px rgba(60, 64, 67, 0.15);\n",
              "    fill: var(--button-hover-fill-color);\n",
              "  }\n",
              "\n",
              "  .colab-df-quickchart-complete:disabled,\n",
              "  .colab-df-quickchart-complete:disabled:hover {\n",
              "    background-color: var(--disabled-bg-color);\n",
              "    fill: var(--disabled-fill-color);\n",
              "    box-shadow: none;\n",
              "  }\n",
              "\n",
              "  .colab-df-spinner {\n",
              "    border: 2px solid var(--fill-color);\n",
              "    border-color: transparent;\n",
              "    border-bottom-color: var(--fill-color);\n",
              "    animation:\n",
              "      spin 1s steps(1) infinite;\n",
              "  }\n",
              "\n",
              "  @keyframes spin {\n",
              "    0% {\n",
              "      border-color: transparent;\n",
              "      border-bottom-color: var(--fill-color);\n",
              "      border-left-color: var(--fill-color);\n",
              "    }\n",
              "    20% {\n",
              "      border-color: transparent;\n",
              "      border-left-color: var(--fill-color);\n",
              "      border-top-color: var(--fill-color);\n",
              "    }\n",
              "    30% {\n",
              "      border-color: transparent;\n",
              "      border-left-color: var(--fill-color);\n",
              "      border-top-color: var(--fill-color);\n",
              "      border-right-color: var(--fill-color);\n",
              "    }\n",
              "    40% {\n",
              "      border-color: transparent;\n",
              "      border-right-color: var(--fill-color);\n",
              "      border-top-color: var(--fill-color);\n",
              "    }\n",
              "    60% {\n",
              "      border-color: transparent;\n",
              "      border-right-color: var(--fill-color);\n",
              "    }\n",
              "    80% {\n",
              "      border-color: transparent;\n",
              "      border-right-color: var(--fill-color);\n",
              "      border-bottom-color: var(--fill-color);\n",
              "    }\n",
              "    90% {\n",
              "      border-color: transparent;\n",
              "      border-bottom-color: var(--fill-color);\n",
              "    }\n",
              "  }\n",
              "</style>\n",
              "\n",
              "  <script>\n",
              "    async function quickchart(key) {\n",
              "      const quickchartButtonEl =\n",
              "        document.querySelector('#' + key + ' button');\n",
              "      quickchartButtonEl.disabled = true;  // To prevent multiple clicks.\n",
              "      quickchartButtonEl.classList.add('colab-df-spinner');\n",
              "      try {\n",
              "        const charts = await google.colab.kernel.invokeFunction(\n",
              "            'suggestCharts', [key], {});\n",
              "      } catch (error) {\n",
              "        console.error('Error during call to suggestCharts:', error);\n",
              "      }\n",
              "      quickchartButtonEl.classList.remove('colab-df-spinner');\n",
              "      quickchartButtonEl.classList.add('colab-df-quickchart-complete');\n",
              "    }\n",
              "    (() => {\n",
              "      let quickchartButtonEl =\n",
              "        document.querySelector('#df-bf8602cb-e327-4bf2-811c-03e0858f99d7 button');\n",
              "      quickchartButtonEl.style.display =\n",
              "        google.colab.kernel.accessAllowed ? 'block' : 'none';\n",
              "    })();\n",
              "  </script>\n",
              "</div>\n",
              "    </div>\n",
              "  </div>\n"
            ]
          },
          "metadata": {},
          "execution_count": 19
        }
      ],
      "source": [
        "df.head(3)"
      ]
    },
    {
      "cell_type": "code",
      "execution_count": 20,
      "metadata": {
        "colab": {
          "base_uri": "https://localhost:8080/",
          "height": 35
        },
        "id": "DeO-8jHm4F8b",
        "outputId": "5ab52a3d-382f-4e20-ae84-a270145aeb7c"
      },
      "outputs": [
        {
          "output_type": "execute_result",
          "data": {
            "text/plain": [
              "\"fig = px.histogram(\\n    df,\\n    x = 'Total Sales',\\n    y = 'Units Sold',\\n    color = 'Retailer',\\n    marginal = 'box',\\n    hover_data = df.columns\\n)\\n\\nfig.show() #\""
            ],
            "application/vnd.google.colaboratory.intrinsic+json": {
              "type": "string"
            }
          },
          "metadata": {},
          "execution_count": 20
        }
      ],
      "source": [
        "'''fig = px.histogram(\n",
        "    df,\n",
        "    x = 'Total Sales',\n",
        "    y = 'Units Sold',\n",
        "    color = 'Retailer',\n",
        "    marginal = 'box',\n",
        "    hover_data = df.columns\n",
        ")\n",
        "\n",
        "fig.show() #'''"
      ]
    },
    {
      "cell_type": "code",
      "execution_count": 21,
      "metadata": {
        "colab": {
          "base_uri": "https://localhost:8080/",
          "height": 35
        },
        "id": "znIw7arl4Pp6",
        "outputId": "880bf74d-f95f-4e24-dc6b-846c0ff4d896"
      },
      "outputs": [
        {
          "output_type": "execute_result",
          "data": {
            "text/plain": [
              "\"fig = px.scatter(\\n    df,\\n    x = 'Total Sales',\\n    y = 'Units Sold',\\n    color = 'Retailer',\\n    hover_data = df.columns\\n)\\n\\nfig.show() #\""
            ],
            "application/vnd.google.colaboratory.intrinsic+json": {
              "type": "string"
            }
          },
          "metadata": {},
          "execution_count": 21
        }
      ],
      "source": [
        "'''fig = px.scatter(\n",
        "    df,\n",
        "    x = 'Total Sales',\n",
        "    y = 'Units Sold',\n",
        "    color = 'Retailer',\n",
        "    hover_data = df.columns\n",
        ")\n",
        "\n",
        "fig.show() #'''"
      ]
    },
    {
      "cell_type": "markdown",
      "metadata": {
        "id": "Tci2Qaok4Vt-"
      },
      "source": [
        "#### 04.04.01 Using IQR (Inter Quantile Range)"
      ]
    },
    {
      "cell_type": "code",
      "execution_count": 22,
      "metadata": {
        "id": "Mt7FHMFz4YdV"
      },
      "outputs": [],
      "source": [
        "def iqr_thres(dataframe, column, th1 = 0.25, th3 = 0.75):\n",
        "    quartile1 = dataframe[column].quantile(th1)\n",
        "    quartile3 = dataframe[column].quantile(th3)\n",
        "    iqr = quartile3 - quartile1\n",
        "    upper_limit = quartile3 + 1.5 * iqr\n",
        "    lower_limit = quartile1 - 1.5 * iqr\n",
        "\n",
        "    return lower_limit, upper_limit"
      ]
    },
    {
      "cell_type": "code",
      "execution_count": 23,
      "metadata": {
        "id": "dRaHXuvQ4ZBb"
      },
      "outputs": [],
      "source": [
        "def check_outliers_iqr(dataframe, column):\n",
        "    lower_limit, upper_limit = iqr_thres(dataframe, column)\n",
        "    if dataframe[(dataframe[column] > upper_limit) | (dataframe[column] < lower_limit)].any(axis = None):\n",
        "        return True\n",
        "    else:\n",
        "        return False"
      ]
    },
    {
      "cell_type": "code",
      "execution_count": 24,
      "metadata": {
        "id": "FRncku9Q4dLW"
      },
      "outputs": [],
      "source": [
        "def replace_iqr(dataframe, columns, th1 = 0.25, th3 = 0.75, replace = False):\n",
        "  data = []\n",
        "\n",
        "  for column in columns:\n",
        "    if df[column].dtypes == 'int64' or df[column].dtypes == 'float64':\n",
        "      if column != 'Outcome':\n",
        "        outliers_ = check_outliers_iqr(df, column)\n",
        "        count = None\n",
        "        lower_limit, upper_limit = iqr_thres(dataframe, column, th1, th3)\n",
        "\n",
        "        if outliers_:\n",
        "          count = dataframe[(dataframe[column] > upper_limit) | (dataframe[column] < lower_limit)][column].count()\n",
        "          if replace:\n",
        "            if lower_limit < 0:\n",
        "              dataframe.loc[(dataframe[column] > upper_limit), column] = upper_limit\n",
        "            else:\n",
        "              dataframe.loc[(dataframe[column] < lower_limit), column] = lower_limit\n",
        "              dataframe.loc[(dataframe[column] > upper_limit), column] = upper_limit\n",
        "        outliers_status = check_outliers_iqr(df, column)\n",
        "        data.append([outliers_, outliers_status, count, column, lower_limit, upper_limit ])\n",
        "\n",
        "  table = tabulate(data, headers = ['Outliers (Previously)', 'Outliers', 'Count', 'Column', 'Lower Limit', 'Upper Limit'], tablefmt = 'rst', numalign = 'right')\n",
        "  print('Removing Outliers using IQR')\n",
        "  print(table)"
      ]
    },
    {
      "cell_type": "code",
      "execution_count": 25,
      "metadata": {
        "colab": {
          "base_uri": "https://localhost:8080/",
          "height": 35
        },
        "id": "GfPGmOvI4f89",
        "outputId": "55efab7c-0de8-4fa2-db95-49ace8b7e30e"
      },
      "outputs": [
        {
          "output_type": "execute_result",
          "data": {
            "text/plain": [
              "'replace_iqr(\\n    dataframe = df,\\n    columns = [],\\n    replace = True\\n) #'"
            ],
            "application/vnd.google.colaboratory.intrinsic+json": {
              "type": "string"
            }
          },
          "metadata": {},
          "execution_count": 25
        }
      ],
      "source": [
        "'''replace_iqr(\n",
        "    dataframe = df,\n",
        "    columns = [],\n",
        "    replace = True\n",
        ") #'''"
      ]
    },
    {
      "cell_type": "markdown",
      "metadata": {
        "id": "VUeLtiYd4kMs"
      },
      "source": [
        "#### 04.04.02 Using Standard Deviation"
      ]
    },
    {
      "cell_type": "code",
      "execution_count": 26,
      "metadata": {
        "id": "gFPjk_Zb4j3m"
      },
      "outputs": [],
      "source": [
        "def std_thres(dataframe, column):\n",
        "    upper_limit = dataframe[column].mean() + 3 * dataframe[column].std()\n",
        "    lower_limit = dataframe[column].mean() - 3 * dataframe[column].std()\n",
        "\n",
        "    return lower_limit, upper_limit"
      ]
    },
    {
      "cell_type": "code",
      "execution_count": 27,
      "metadata": {
        "id": "rkImfexs4nbm"
      },
      "outputs": [],
      "source": [
        "def check_outliers_std(dataframe, column):\n",
        "    lower_limit, upper_limit = iqr_thres(dataframe, column)\n",
        "    if dataframe[(dataframe[column] > upper_limit) | (dataframe[column] < lower_limit)].any(axis = None):\n",
        "        return True\n",
        "    else:\n",
        "        return False"
      ]
    },
    {
      "cell_type": "code",
      "execution_count": 28,
      "metadata": {
        "id": "gHycsqre4qX6"
      },
      "outputs": [],
      "source": [
        "def replace_std(dataframe, columns, replace = False):\n",
        "  data = []\n",
        "\n",
        "  for column in columns:\n",
        "    if df[column].dtypes == 'int64' or df[column].dtypes == 'float64':\n",
        "      if column != 'Outcome':\n",
        "        outliers_ = check_outliers_std(dataframe, column)\n",
        "        count = None\n",
        "        lower_limit, upper_limit = std_thres(dataframe, column)\n",
        "\n",
        "        if outliers_:\n",
        "          count = dataframe[(dataframe[column] > upper_limit) | (dataframe[column] < lower_limit)][column].count()\n",
        "          if replace:\n",
        "            if lower_limit < 0:\n",
        "              dataframe.loc[(dataframe[column] > upper_limit), column] = upper_limit\n",
        "            else:\n",
        "              dataframe.loc[(dataframe[column] < lower_limit), column] = lower_limit\n",
        "              dataframe.loc[(dataframe[column] > upper_limit), column] = upper_limit\n",
        "        outliers_status = check_outliers_std(dataframe, column)\n",
        "        data.append([outliers_, outliers_status, count, column, lower_limit, upper_limit])\n",
        "\n",
        "  table = tabulate(data, headers = ['Outlier (Previously)', 'Outliers', 'Count', 'Column', 'Lower Limit', 'Upper Limit'], tablefmt = 'rst', numalign = 'right')\n",
        "  print('Removing Outliers using 3 Standard Deviation')\n",
        "  print(table)"
      ]
    },
    {
      "cell_type": "code",
      "execution_count": 29,
      "metadata": {
        "colab": {
          "base_uri": "https://localhost:8080/",
          "height": 35
        },
        "id": "D_pvh2IL4q2I",
        "outputId": "d46c9be2-58f3-44f6-868f-ef9f8a9446f1"
      },
      "outputs": [
        {
          "output_type": "execute_result",
          "data": {
            "text/plain": [
              "'replace_iqr(\\n    dataframe = df,\\n    columns = [],\\n    replace = False\\n) #'"
            ],
            "application/vnd.google.colaboratory.intrinsic+json": {
              "type": "string"
            }
          },
          "metadata": {},
          "execution_count": 29
        }
      ],
      "source": [
        "'''replace_iqr(\n",
        "    dataframe = df,\n",
        "    columns = [],\n",
        "    replace = False\n",
        ") #'''"
      ]
    },
    {
      "cell_type": "markdown",
      "metadata": {
        "id": "IEqxjPOT4vTP"
      },
      "source": [
        "### 04.05 Handling Missing / Zeros / Null\n",
        "##### Filling missing value (numerical only) is better using median than mean or mode"
      ]
    },
    {
      "cell_type": "markdown",
      "metadata": {
        "id": "EVpvT5IV4zdY"
      },
      "source": [
        "#### 04.05.01 Detecting Zero Value"
      ]
    },
    {
      "cell_type": "code",
      "execution_count": 30,
      "metadata": {
        "colab": {
          "base_uri": "https://localhost:8080/"
        },
        "id": "is7a1I744wMK",
        "outputId": "ecfd0240-c386-4d0b-8197-fdc544b9ee5d"
      },
      "outputs": [
        {
          "output_type": "stream",
          "name": "stdout",
          "text": [
            "Units Sold : 4\n",
            "Total Sales : 4\n",
            "Operating Profit : 4\n"
          ]
        }
      ],
      "source": [
        "zero_columns = []\n",
        "\n",
        "for x in df.columns:\n",
        "  if df[x].dtypes == 'int64' or df[x].dtypes == 'float64':\n",
        "    if (df[x] == 0).sum() != 0:\n",
        "      print(x, ':', str((df[x] == 0).sum()))\n",
        "      zero_columns.append(x)"
      ]
    },
    {
      "cell_type": "markdown",
      "metadata": {
        "id": "t2yFMHRf43pd"
      },
      "source": [
        "#### 04.05.02 Detecting Nan / Non Available Value"
      ]
    },
    {
      "cell_type": "code",
      "execution_count": 31,
      "metadata": {
        "id": "PYM4yhj844Ix"
      },
      "outputs": [],
      "source": [
        "nan_columns = []\n",
        "\n",
        "for x in df.columns:\n",
        "  if df[x].dtypes == 'object':\n",
        "    if (df[x] == np.nan).sum() or (df[x] == '-').sum() != 0:\n",
        "      print(x, ':', str((df[x] == np.nan).sum()))\n",
        "      nan_columns.append(x)"
      ]
    },
    {
      "cell_type": "markdown",
      "metadata": {
        "id": "w81kHjrH49xD"
      },
      "source": [
        "#### 04.05.03 Replacing Zero with Mean (for numerical value if median value == 0), if necessary"
      ]
    },
    {
      "cell_type": "code",
      "execution_count": 32,
      "metadata": {
        "colab": {
          "base_uri": "https://localhost:8080/",
          "height": 35
        },
        "id": "EO5QyklX5APs",
        "outputId": "bb5f4929-a17f-4507-d2b9-77cdf4829c82"
      },
      "outputs": [
        {
          "output_type": "execute_result",
          "data": {
            "text/plain": [
              "'cols = [\\n] #'"
            ],
            "application/vnd.google.colaboratory.intrinsic+json": {
              "type": "string"
            }
          },
          "metadata": {},
          "execution_count": 32
        }
      ],
      "source": [
        "'''cols = [\n",
        "] #'''"
      ]
    },
    {
      "cell_type": "code",
      "execution_count": 33,
      "metadata": {
        "colab": {
          "base_uri": "https://localhost:8080/",
          "height": 35
        },
        "id": "nLz--vIY5BzU",
        "outputId": "d2735eaf-ddb7-41f1-afea-1eb782c49aec"
      },
      "outputs": [
        {
          "output_type": "execute_result",
          "data": {
            "text/plain": [
              "'df = df.replace(0, np.nan)\\n\\nfor x in cols:\\n  df[x] = df[x].fillna(df[x].mean()) #'"
            ],
            "application/vnd.google.colaboratory.intrinsic+json": {
              "type": "string"
            }
          },
          "metadata": {},
          "execution_count": 33
        }
      ],
      "source": [
        "'''df = df.replace(0, np.nan)\n",
        "\n",
        "for x in cols:\n",
        "  df[x] = df[x].fillna(df[x].mean()) #'''"
      ]
    },
    {
      "cell_type": "markdown",
      "metadata": {
        "id": "MBWAP-1J5Eyi"
      },
      "source": [
        "#### 04.05.04 Replacing Zero with Median (for numerical value if median value != 0), if necessary"
      ]
    },
    {
      "cell_type": "code",
      "execution_count": 34,
      "metadata": {
        "colab": {
          "base_uri": "https://localhost:8080/",
          "height": 35
        },
        "id": "YE9GeuH65FdJ",
        "outputId": "2fcae0e7-1b8f-40ab-bb07-504789698fc1"
      },
      "outputs": [
        {
          "output_type": "execute_result",
          "data": {
            "text/plain": [
              "'cols = [\\n] #'"
            ],
            "application/vnd.google.colaboratory.intrinsic+json": {
              "type": "string"
            }
          },
          "metadata": {},
          "execution_count": 34
        }
      ],
      "source": [
        "'''cols = [\n",
        "] #'''"
      ]
    },
    {
      "cell_type": "code",
      "execution_count": 35,
      "metadata": {
        "colab": {
          "base_uri": "https://localhost:8080/",
          "height": 35
        },
        "id": "oMvEl4xs5HWd",
        "outputId": "5e556f37-c528-4ef0-c648-60bd1ffd245a"
      },
      "outputs": [
        {
          "output_type": "execute_result",
          "data": {
            "text/plain": [
              "'df = df.replace(0, np.nan)\\n\\nfor x in cols:\\n  df[x] = df[x].fillna(df[x].median()) #'"
            ],
            "application/vnd.google.colaboratory.intrinsic+json": {
              "type": "string"
            }
          },
          "metadata": {},
          "execution_count": 35
        }
      ],
      "source": [
        "'''df = df.replace(0, np.nan)\n",
        "\n",
        "for x in cols:\n",
        "  df[x] = df[x].fillna(df[x].median()) #'''"
      ]
    },
    {
      "cell_type": "markdown",
      "metadata": {
        "id": "dog2-5ML5JQ6"
      },
      "source": [
        "#### 04.05.05 Replacing Zero with Mode (for categorical / object value), if necessary"
      ]
    },
    {
      "cell_type": "code",
      "execution_count": 36,
      "metadata": {
        "colab": {
          "base_uri": "https://localhost:8080/",
          "height": 35
        },
        "id": "rV2VC_VZ5Ldl",
        "outputId": "5e5e563f-5163-4ef8-96aa-c05ecd0104d5"
      },
      "outputs": [
        {
          "output_type": "execute_result",
          "data": {
            "text/plain": [
              "'cols = [\\n] #'"
            ],
            "application/vnd.google.colaboratory.intrinsic+json": {
              "type": "string"
            }
          },
          "metadata": {},
          "execution_count": 36
        }
      ],
      "source": [
        "'''cols = [\n",
        "] #'''"
      ]
    },
    {
      "cell_type": "code",
      "execution_count": 37,
      "metadata": {
        "colab": {
          "base_uri": "https://localhost:8080/",
          "height": 35
        },
        "id": "dut4TUuq5NHK",
        "outputId": "600c0f4a-27eb-4eb0-95cb-e6dec5d9e1ad"
      },
      "outputs": [
        {
          "output_type": "execute_result",
          "data": {
            "text/plain": [
              "'df = df.replace(0, np.nan)\\n\\nfor x in cols:\\n  df[x] = df[x].fillna(df[x].mode()) #'"
            ],
            "application/vnd.google.colaboratory.intrinsic+json": {
              "type": "string"
            }
          },
          "metadata": {},
          "execution_count": 37
        }
      ],
      "source": [
        "'''df = df.replace(0, np.nan)\n",
        "\n",
        "for x in cols:\n",
        "  df[x] = df[x].fillna(df[x].mode()) #'''"
      ]
    },
    {
      "cell_type": "markdown",
      "metadata": {
        "id": "PtFcqtOW5JNo"
      },
      "source": [
        "### 04.06 Handling Incomplete Data"
      ]
    },
    {
      "cell_type": "markdown",
      "metadata": {
        "id": "t-9FaTrv5RlN"
      },
      "source": [
        "### 04.07 Handling Data Biases"
      ]
    },
    {
      "cell_type": "markdown",
      "metadata": {
        "id": "C8cfMYC15Uw3"
      },
      "source": [
        "### 04.08 Handling Duplicates"
      ]
    },
    {
      "cell_type": "code",
      "execution_count": 38,
      "metadata": {
        "id": "vSryzaSI5bNc"
      },
      "outputs": [],
      "source": [
        "#df = df.drop_duplicates()"
      ]
    },
    {
      "cell_type": "markdown",
      "metadata": {
        "id": "Sx0xbr3K5YLO"
      },
      "source": [
        "##### Data Distribution Check (After)"
      ]
    },
    {
      "cell_type": "code",
      "execution_count": 39,
      "metadata": {
        "colab": {
          "base_uri": "https://localhost:8080/",
          "height": 35
        },
        "id": "bA713Qoi5drf",
        "outputId": "7ce34e04-840e-4968-d93d-ab0997f36597"
      },
      "outputs": [
        {
          "output_type": "execute_result",
          "data": {
            "text/plain": [
              "\"fig = px.histogram(\\n    df,\\n    x = 'Total Sales',\\n    y = 'Units Sold',\\n    color = 'Retailer',\\n    marginal = 'box',\\n    hover_data = df.columns\\n)\\n\\nfig.show() #\""
            ],
            "application/vnd.google.colaboratory.intrinsic+json": {
              "type": "string"
            }
          },
          "metadata": {},
          "execution_count": 39
        }
      ],
      "source": [
        "'''fig = px.histogram(\n",
        "    df,\n",
        "    x = 'Total Sales',\n",
        "    y = 'Units Sold',\n",
        "    color = 'Retailer',\n",
        "    marginal = 'box',\n",
        "    hover_data = df.columns\n",
        ")\n",
        "\n",
        "fig.show() #'''"
      ]
    },
    {
      "cell_type": "code",
      "execution_count": 40,
      "metadata": {
        "colab": {
          "base_uri": "https://localhost:8080/",
          "height": 35
        },
        "id": "ne_K1sO25gmV",
        "outputId": "013f2150-6a0f-4255-981e-a3748b312625"
      },
      "outputs": [
        {
          "output_type": "execute_result",
          "data": {
            "text/plain": [
              "\"fig = px.scatter(\\n    df,\\n    x = 'Total Sales',\\n    y = 'Units Sold',\\n    color = 'Retailer',\\n    hover_data = df.columns\\n)\\n\\nfig.show() #\""
            ],
            "application/vnd.google.colaboratory.intrinsic+json": {
              "type": "string"
            }
          },
          "metadata": {},
          "execution_count": 40
        }
      ],
      "source": [
        "'''fig = px.scatter(\n",
        "    df,\n",
        "    x = 'Total Sales',\n",
        "    y = 'Units Sold',\n",
        "    color = 'Retailer',\n",
        "    hover_data = df.columns\n",
        ")\n",
        "\n",
        "fig.show() #'''"
      ]
    },
    {
      "cell_type": "markdown",
      "metadata": {
        "id": "W1O3I_gU5p20"
      },
      "source": [
        "## 05 Enriching Data\n",
        "#### take other dataset, inside or outside from related dataset / business"
      ]
    },
    {
      "cell_type": "markdown",
      "metadata": {
        "id": "9z-glw4U5r3Y"
      },
      "source": [
        "## 06 Data Validation\n",
        "#### Verifying consistency, quality, and security of data"
      ]
    },
    {
      "cell_type": "markdown",
      "metadata": {
        "id": "kXJgoIwCoisk"
      },
      "source": [
        "## 07 Exploration Data Analysis (Univariate)"
      ]
    },
    {
      "cell_type": "markdown",
      "metadata": {
        "id": "4g7KjKQ2omjR"
      },
      "source": [
        "### 07.01 Generate Data Profile"
      ]
    },
    {
      "cell_type": "code",
      "execution_count": 41,
      "metadata": {
        "colab": {
          "base_uri": "https://localhost:8080/",
          "height": 70
        },
        "id": "ICAXeqSDopgs",
        "outputId": "fc751267-ad91-48d2-e61b-ecde62b981db"
      },
      "outputs": [
        {
          "output_type": "execute_result",
          "data": {
            "text/plain": [
              "\"data_profile = ProfileReport(\\n    df,\\n    title = 'Adidas US Sales',\\n    dataset = {\\n        #'description' : 'This profiling report was generated for Analytics Vidhya Blog',\\n        #'copyright_holder' : 'Analytics Vidhya',\\n        #'copyright_year' : '2021',\\n        #'url' :  'https://www.analyticsvidhya.com/blog/',\\n    },\\n    correlations = {\\n        'pearson' : {'calculate' : True},\\n        'spearman' : {'calculate' : True},\\n        'kendall' : {'calculate' : True},\\n        'phi_k' : {'calculate' : True},\\n    },\\n)\\n\\ndata_profile #\""
            ],
            "application/vnd.google.colaboratory.intrinsic+json": {
              "type": "string"
            }
          },
          "metadata": {},
          "execution_count": 41
        }
      ],
      "source": [
        "'''data_profile = ProfileReport(\n",
        "    df,\n",
        "    title = 'Adidas US Sales',\n",
        "    dataset = {\n",
        "        #'description' : 'This profiling report was generated for Analytics Vidhya Blog',\n",
        "        #'copyright_holder' : 'Analytics Vidhya',\n",
        "        #'copyright_year' : '2021',\n",
        "        #'url' :  'https://www.analyticsvidhya.com/blog/',\n",
        "    },\n",
        "    correlations = {\n",
        "        'pearson' : {'calculate' : True},\n",
        "        'spearman' : {'calculate' : True},\n",
        "        'kendall' : {'calculate' : True},\n",
        "        'phi_k' : {'calculate' : True},\n",
        "    },\n",
        ")\n",
        "\n",
        "data_profile #'''"
      ]
    },
    {
      "cell_type": "code",
      "execution_count": 42,
      "metadata": {
        "colab": {
          "base_uri": "https://localhost:8080/",
          "height": 143
        },
        "id": "06Ku11KtGLeY",
        "outputId": "629eee21-129a-4810-f178-7aea50029d68"
      },
      "outputs": [
        {
          "output_type": "execute_result",
          "data": {
            "text/plain": [
              "      Retailer Invoice Date     Region     State                  Product  \\\n",
              "0  Foot Locker   2020-01-01  Northeast  New York    Men'S Street Footwear   \n",
              "1  Foot Locker   2020-01-02  Northeast  New York  Men'S Athletic Footwear   \n",
              "2  Foot Locker   2020-01-03  Northeast  New York  Women'S Street Footwear   \n",
              "\n",
              "   Price Per Unit  Units Sold  Total Sales  Operating Profit  \\\n",
              "0            50.0        1200     600000.0          300000.0   \n",
              "1            50.0        1000     500000.0          150000.0   \n",
              "2            40.0        1000     400000.0          140000.0   \n",
              "\n",
              "   Operating Margin Sales Method  \n",
              "0              0.50     In-Store  \n",
              "1              0.30     In-Store  \n",
              "2              0.35     In-Store  "
            ],
            "text/html": [
              "\n",
              "  <div id=\"df-3f28faa0-b9a4-4629-b49b-39fb68504298\" class=\"colab-df-container\">\n",
              "    <div>\n",
              "<style scoped>\n",
              "    .dataframe tbody tr th:only-of-type {\n",
              "        vertical-align: middle;\n",
              "    }\n",
              "\n",
              "    .dataframe tbody tr th {\n",
              "        vertical-align: top;\n",
              "    }\n",
              "\n",
              "    .dataframe thead th {\n",
              "        text-align: right;\n",
              "    }\n",
              "</style>\n",
              "<table border=\"1\" class=\"dataframe\">\n",
              "  <thead>\n",
              "    <tr style=\"text-align: right;\">\n",
              "      <th></th>\n",
              "      <th>Retailer</th>\n",
              "      <th>Invoice Date</th>\n",
              "      <th>Region</th>\n",
              "      <th>State</th>\n",
              "      <th>Product</th>\n",
              "      <th>Price Per Unit</th>\n",
              "      <th>Units Sold</th>\n",
              "      <th>Total Sales</th>\n",
              "      <th>Operating Profit</th>\n",
              "      <th>Operating Margin</th>\n",
              "      <th>Sales Method</th>\n",
              "    </tr>\n",
              "  </thead>\n",
              "  <tbody>\n",
              "    <tr>\n",
              "      <th>0</th>\n",
              "      <td>Foot Locker</td>\n",
              "      <td>2020-01-01</td>\n",
              "      <td>Northeast</td>\n",
              "      <td>New York</td>\n",
              "      <td>Men'S Street Footwear</td>\n",
              "      <td>50.0</td>\n",
              "      <td>1200</td>\n",
              "      <td>600000.0</td>\n",
              "      <td>300000.0</td>\n",
              "      <td>0.50</td>\n",
              "      <td>In-Store</td>\n",
              "    </tr>\n",
              "    <tr>\n",
              "      <th>1</th>\n",
              "      <td>Foot Locker</td>\n",
              "      <td>2020-01-02</td>\n",
              "      <td>Northeast</td>\n",
              "      <td>New York</td>\n",
              "      <td>Men'S Athletic Footwear</td>\n",
              "      <td>50.0</td>\n",
              "      <td>1000</td>\n",
              "      <td>500000.0</td>\n",
              "      <td>150000.0</td>\n",
              "      <td>0.30</td>\n",
              "      <td>In-Store</td>\n",
              "    </tr>\n",
              "    <tr>\n",
              "      <th>2</th>\n",
              "      <td>Foot Locker</td>\n",
              "      <td>2020-01-03</td>\n",
              "      <td>Northeast</td>\n",
              "      <td>New York</td>\n",
              "      <td>Women'S Street Footwear</td>\n",
              "      <td>40.0</td>\n",
              "      <td>1000</td>\n",
              "      <td>400000.0</td>\n",
              "      <td>140000.0</td>\n",
              "      <td>0.35</td>\n",
              "      <td>In-Store</td>\n",
              "    </tr>\n",
              "  </tbody>\n",
              "</table>\n",
              "</div>\n",
              "    <div class=\"colab-df-buttons\">\n",
              "\n",
              "  <div class=\"colab-df-container\">\n",
              "    <button class=\"colab-df-convert\" onclick=\"convertToInteractive('df-3f28faa0-b9a4-4629-b49b-39fb68504298')\"\n",
              "            title=\"Convert this dataframe to an interactive table.\"\n",
              "            style=\"display:none;\">\n",
              "\n",
              "  <svg xmlns=\"http://www.w3.org/2000/svg\" height=\"24px\" viewBox=\"0 -960 960 960\">\n",
              "    <path d=\"M120-120v-720h720v720H120Zm60-500h600v-160H180v160Zm220 220h160v-160H400v160Zm0 220h160v-160H400v160ZM180-400h160v-160H180v160Zm440 0h160v-160H620v160ZM180-180h160v-160H180v160Zm440 0h160v-160H620v160Z\"/>\n",
              "  </svg>\n",
              "    </button>\n",
              "\n",
              "  <style>\n",
              "    .colab-df-container {\n",
              "      display:flex;\n",
              "      gap: 12px;\n",
              "    }\n",
              "\n",
              "    .colab-df-convert {\n",
              "      background-color: #E8F0FE;\n",
              "      border: none;\n",
              "      border-radius: 50%;\n",
              "      cursor: pointer;\n",
              "      display: none;\n",
              "      fill: #1967D2;\n",
              "      height: 32px;\n",
              "      padding: 0 0 0 0;\n",
              "      width: 32px;\n",
              "    }\n",
              "\n",
              "    .colab-df-convert:hover {\n",
              "      background-color: #E2EBFA;\n",
              "      box-shadow: 0px 1px 2px rgba(60, 64, 67, 0.3), 0px 1px 3px 1px rgba(60, 64, 67, 0.15);\n",
              "      fill: #174EA6;\n",
              "    }\n",
              "\n",
              "    .colab-df-buttons div {\n",
              "      margin-bottom: 4px;\n",
              "    }\n",
              "\n",
              "    [theme=dark] .colab-df-convert {\n",
              "      background-color: #3B4455;\n",
              "      fill: #D2E3FC;\n",
              "    }\n",
              "\n",
              "    [theme=dark] .colab-df-convert:hover {\n",
              "      background-color: #434B5C;\n",
              "      box-shadow: 0px 1px 3px 1px rgba(0, 0, 0, 0.15);\n",
              "      filter: drop-shadow(0px 1px 2px rgba(0, 0, 0, 0.3));\n",
              "      fill: #FFFFFF;\n",
              "    }\n",
              "  </style>\n",
              "\n",
              "    <script>\n",
              "      const buttonEl =\n",
              "        document.querySelector('#df-3f28faa0-b9a4-4629-b49b-39fb68504298 button.colab-df-convert');\n",
              "      buttonEl.style.display =\n",
              "        google.colab.kernel.accessAllowed ? 'block' : 'none';\n",
              "\n",
              "      async function convertToInteractive(key) {\n",
              "        const element = document.querySelector('#df-3f28faa0-b9a4-4629-b49b-39fb68504298');\n",
              "        const dataTable =\n",
              "          await google.colab.kernel.invokeFunction('convertToInteractive',\n",
              "                                                    [key], {});\n",
              "        if (!dataTable) return;\n",
              "\n",
              "        const docLinkHtml = 'Like what you see? Visit the ' +\n",
              "          '<a target=\"_blank\" href=https://colab.research.google.com/notebooks/data_table.ipynb>data table notebook</a>'\n",
              "          + ' to learn more about interactive tables.';\n",
              "        element.innerHTML = '';\n",
              "        dataTable['output_type'] = 'display_data';\n",
              "        await google.colab.output.renderOutput(dataTable, element);\n",
              "        const docLink = document.createElement('div');\n",
              "        docLink.innerHTML = docLinkHtml;\n",
              "        element.appendChild(docLink);\n",
              "      }\n",
              "    </script>\n",
              "  </div>\n",
              "\n",
              "\n",
              "<div id=\"df-a0ff06ec-4133-4163-b34a-08e477676e5b\">\n",
              "  <button class=\"colab-df-quickchart\" onclick=\"quickchart('df-a0ff06ec-4133-4163-b34a-08e477676e5b')\"\n",
              "            title=\"Suggest charts\"\n",
              "            style=\"display:none;\">\n",
              "\n",
              "<svg xmlns=\"http://www.w3.org/2000/svg\" height=\"24px\"viewBox=\"0 0 24 24\"\n",
              "     width=\"24px\">\n",
              "    <g>\n",
              "        <path d=\"M19 3H5c-1.1 0-2 .9-2 2v14c0 1.1.9 2 2 2h14c1.1 0 2-.9 2-2V5c0-1.1-.9-2-2-2zM9 17H7v-7h2v7zm4 0h-2V7h2v10zm4 0h-2v-4h2v4z\"/>\n",
              "    </g>\n",
              "</svg>\n",
              "  </button>\n",
              "\n",
              "<style>\n",
              "  .colab-df-quickchart {\n",
              "      --bg-color: #E8F0FE;\n",
              "      --fill-color: #1967D2;\n",
              "      --hover-bg-color: #E2EBFA;\n",
              "      --hover-fill-color: #174EA6;\n",
              "      --disabled-fill-color: #AAA;\n",
              "      --disabled-bg-color: #DDD;\n",
              "  }\n",
              "\n",
              "  [theme=dark] .colab-df-quickchart {\n",
              "      --bg-color: #3B4455;\n",
              "      --fill-color: #D2E3FC;\n",
              "      --hover-bg-color: #434B5C;\n",
              "      --hover-fill-color: #FFFFFF;\n",
              "      --disabled-bg-color: #3B4455;\n",
              "      --disabled-fill-color: #666;\n",
              "  }\n",
              "\n",
              "  .colab-df-quickchart {\n",
              "    background-color: var(--bg-color);\n",
              "    border: none;\n",
              "    border-radius: 50%;\n",
              "    cursor: pointer;\n",
              "    display: none;\n",
              "    fill: var(--fill-color);\n",
              "    height: 32px;\n",
              "    padding: 0;\n",
              "    width: 32px;\n",
              "  }\n",
              "\n",
              "  .colab-df-quickchart:hover {\n",
              "    background-color: var(--hover-bg-color);\n",
              "    box-shadow: 0 1px 2px rgba(60, 64, 67, 0.3), 0 1px 3px 1px rgba(60, 64, 67, 0.15);\n",
              "    fill: var(--button-hover-fill-color);\n",
              "  }\n",
              "\n",
              "  .colab-df-quickchart-complete:disabled,\n",
              "  .colab-df-quickchart-complete:disabled:hover {\n",
              "    background-color: var(--disabled-bg-color);\n",
              "    fill: var(--disabled-fill-color);\n",
              "    box-shadow: none;\n",
              "  }\n",
              "\n",
              "  .colab-df-spinner {\n",
              "    border: 2px solid var(--fill-color);\n",
              "    border-color: transparent;\n",
              "    border-bottom-color: var(--fill-color);\n",
              "    animation:\n",
              "      spin 1s steps(1) infinite;\n",
              "  }\n",
              "\n",
              "  @keyframes spin {\n",
              "    0% {\n",
              "      border-color: transparent;\n",
              "      border-bottom-color: var(--fill-color);\n",
              "      border-left-color: var(--fill-color);\n",
              "    }\n",
              "    20% {\n",
              "      border-color: transparent;\n",
              "      border-left-color: var(--fill-color);\n",
              "      border-top-color: var(--fill-color);\n",
              "    }\n",
              "    30% {\n",
              "      border-color: transparent;\n",
              "      border-left-color: var(--fill-color);\n",
              "      border-top-color: var(--fill-color);\n",
              "      border-right-color: var(--fill-color);\n",
              "    }\n",
              "    40% {\n",
              "      border-color: transparent;\n",
              "      border-right-color: var(--fill-color);\n",
              "      border-top-color: var(--fill-color);\n",
              "    }\n",
              "    60% {\n",
              "      border-color: transparent;\n",
              "      border-right-color: var(--fill-color);\n",
              "    }\n",
              "    80% {\n",
              "      border-color: transparent;\n",
              "      border-right-color: var(--fill-color);\n",
              "      border-bottom-color: var(--fill-color);\n",
              "    }\n",
              "    90% {\n",
              "      border-color: transparent;\n",
              "      border-bottom-color: var(--fill-color);\n",
              "    }\n",
              "  }\n",
              "</style>\n",
              "\n",
              "  <script>\n",
              "    async function quickchart(key) {\n",
              "      const quickchartButtonEl =\n",
              "        document.querySelector('#' + key + ' button');\n",
              "      quickchartButtonEl.disabled = true;  // To prevent multiple clicks.\n",
              "      quickchartButtonEl.classList.add('colab-df-spinner');\n",
              "      try {\n",
              "        const charts = await google.colab.kernel.invokeFunction(\n",
              "            'suggestCharts', [key], {});\n",
              "      } catch (error) {\n",
              "        console.error('Error during call to suggestCharts:', error);\n",
              "      }\n",
              "      quickchartButtonEl.classList.remove('colab-df-spinner');\n",
              "      quickchartButtonEl.classList.add('colab-df-quickchart-complete');\n",
              "    }\n",
              "    (() => {\n",
              "      let quickchartButtonEl =\n",
              "        document.querySelector('#df-a0ff06ec-4133-4163-b34a-08e477676e5b button');\n",
              "      quickchartButtonEl.style.display =\n",
              "        google.colab.kernel.accessAllowed ? 'block' : 'none';\n",
              "    })();\n",
              "  </script>\n",
              "</div>\n",
              "    </div>\n",
              "  </div>\n"
            ]
          },
          "metadata": {},
          "execution_count": 42
        }
      ],
      "source": [
        "df.head(3)"
      ]
    },
    {
      "cell_type": "markdown",
      "metadata": {
        "id": "xyTEBrK5drPm"
      },
      "source": [
        "## 08 Store Data to Google Drive"
      ]
    },
    {
      "cell_type": "code",
      "execution_count": 43,
      "metadata": {
        "colab": {
          "base_uri": "https://localhost:8080/",
          "height": 35
        },
        "id": "EA_-YO_kOu7Q",
        "outputId": "93e9bf4b-a79a-4910-f2c3-4833dc6b4f35"
      },
      "outputs": [
        {
          "output_type": "execute_result",
          "data": {
            "text/plain": [
              "\"cache_dir = CACHE_PATH + '/nyc_property_cache.csv'\\nprint(cache_dir)\\ndf.to_csv(cache_dir, index = False)\\n\\nsleep(60) #\""
            ],
            "application/vnd.google.colaboratory.intrinsic+json": {
              "type": "string"
            }
          },
          "metadata": {},
          "execution_count": 43
        }
      ],
      "source": [
        "'''cache_dir = CACHE_PATH + '/nyc_property_cache.csv'\n",
        "print(cache_dir)\n",
        "df.to_csv(cache_dir, index = False)\n",
        "\n",
        "sleep(60) #'''"
      ]
    },
    {
      "cell_type": "markdown",
      "metadata": {
        "id": "QznryIr7xTyd"
      },
      "source": [
        "## 09 Table, Chart Drafting & Testing"
      ]
    },
    {
      "cell_type": "code",
      "source": [
        "fig = px.colors.sequential.swatches_continuous()\n",
        "fig.show()"
      ],
      "metadata": {
        "colab": {
          "base_uri": "https://localhost:8080/",
          "height": 1000
        },
        "id": "EAhLrC34Njj-",
        "outputId": "1364471e-2e9a-4afc-dca8-b89142d5ccf8"
      },
      "execution_count": 102,
      "outputs": [
        {
          "output_type": "display_data",
          "data": {
            "text/html": [
              "<html>\n",
              "<head><meta charset=\"utf-8\" /></head>\n",
              "<body>\n",
              "    <div>            <script src=\"https://cdnjs.cloudflare.com/ajax/libs/mathjax/2.7.5/MathJax.js?config=TeX-AMS-MML_SVG\"></script><script type=\"text/javascript\">if (window.MathJax && window.MathJax.Hub && window.MathJax.Hub.Config) {window.MathJax.Hub.Config({SVG: {font: \"STIX-Web\"}});}</script>                <script type=\"text/javascript\">window.PlotlyConfig = {MathJaxConfig: 'local'};</script>\n",
              "        <script charset=\"utf-8\" src=\"https://cdn.plot.ly/plotly-2.24.1.min.js\"></script>                <div id=\"7b561a71-4ea4-4c3e-916e-a4a00dc2eb37\" class=\"plotly-graph-div\" style=\"height:2640px; width:500px;\"></div>            <script type=\"text/javascript\">                                    window.PLOTLYENV=window.PLOTLYENV || {};                                    if (document.getElementById(\"7b561a71-4ea4-4c3e-916e-a4a00dc2eb37\")) {                    Plotly.newPlot(                        \"7b561a71-4ea4-4c3e-916e-a4a00dc2eb37\",                        [{\"customdata\":[0.01,0.02,0.03,0.04,0.05,0.06,0.07,0.08,0.09,0.1,0.11,0.12,0.13,0.14,0.15,0.16,0.17,0.18,0.19,0.2,0.21,0.22,0.23,0.24,0.25,0.26,0.27,0.28,0.29,0.3,0.31,0.32,0.33,0.34,0.35,0.36,0.37,0.38,0.39,0.4,0.41,0.42,0.43,0.44,0.45,0.46,0.47,0.48,0.49,0.5,0.51,0.52,0.53,0.54,0.55,0.56,0.57,0.58,0.59,0.6,0.61,0.62,0.63,0.64,0.65,0.66,0.67,0.68,0.69,0.7,0.71,0.72,0.73,0.74,0.75,0.76,0.77,0.78,0.79,0.8,0.81,0.82,0.83,0.84,0.85,0.86,0.87,0.88,0.89,0.9,0.91,0.92,0.93,0.94,0.95,0.96,0.97,0.98,0.99,1.0],\"hovertemplate\":\"%{customdata}\",\"marker\":{\"color\":[0,1,2,3,4,5,6,7,8,9,10,11,12,13,14,15,16,17,18,19,20,21,22,23,24,25,26,27,28,29,30,31,32,33,34,35,36,37,38,39,40,41,42,43,44,45,46,47,48,49,50,51,52,53,54,55,56,57,58,59,60,61,62,63,64,65,66,67,68,69,70,71,72,73,74,75,76,77,78,79,80,81,82,83,84,85,86,87,88,89,90,91,92,93,94,95,96,97,98,99],\"colorscale\":[[0.0,\"rgb(237, 229, 207)\"],[0.16666666666666666,\"rgb(224, 194, 162)\"],[0.3333333333333333,\"rgb(211, 156, 131)\"],[0.5,\"rgb(193, 118, 111)\"],[0.6666666666666666,\"rgb(166, 84, 97)\"],[0.8333333333333334,\"rgb(129, 55, 83)\"],[1.0,\"rgb(84, 31, 63)\"]],\"line\":{\"width\":0}},\"name\":\"Brwnyl\",\"orientation\":\"h\",\"x\":[1,1,1,1,1,1,1,1,1,1,1,1,1,1,1,1,1,1,1,1,1,1,1,1,1,1,1,1,1,1,1,1,1,1,1,1,1,1,1,1,1,1,1,1,1,1,1,1,1,1,1,1,1,1,1,1,1,1,1,1,1,1,1,1,1,1,1,1,1,1,1,1,1,1,1,1,1,1,1,1,1,1,1,1,1,1,1,1,1,1,1,1,1,1,1,1,1,1,1,1],\"y\":[\"Brwnyl\",\"Brwnyl\",\"Brwnyl\",\"Brwnyl\",\"Brwnyl\",\"Brwnyl\",\"Brwnyl\",\"Brwnyl\",\"Brwnyl\",\"Brwnyl\",\"Brwnyl\",\"Brwnyl\",\"Brwnyl\",\"Brwnyl\",\"Brwnyl\",\"Brwnyl\",\"Brwnyl\",\"Brwnyl\",\"Brwnyl\",\"Brwnyl\",\"Brwnyl\",\"Brwnyl\",\"Brwnyl\",\"Brwnyl\",\"Brwnyl\",\"Brwnyl\",\"Brwnyl\",\"Brwnyl\",\"Brwnyl\",\"Brwnyl\",\"Brwnyl\",\"Brwnyl\",\"Brwnyl\",\"Brwnyl\",\"Brwnyl\",\"Brwnyl\",\"Brwnyl\",\"Brwnyl\",\"Brwnyl\",\"Brwnyl\",\"Brwnyl\",\"Brwnyl\",\"Brwnyl\",\"Brwnyl\",\"Brwnyl\",\"Brwnyl\",\"Brwnyl\",\"Brwnyl\",\"Brwnyl\",\"Brwnyl\",\"Brwnyl\",\"Brwnyl\",\"Brwnyl\",\"Brwnyl\",\"Brwnyl\",\"Brwnyl\",\"Brwnyl\",\"Brwnyl\",\"Brwnyl\",\"Brwnyl\",\"Brwnyl\",\"Brwnyl\",\"Brwnyl\",\"Brwnyl\",\"Brwnyl\",\"Brwnyl\",\"Brwnyl\",\"Brwnyl\",\"Brwnyl\",\"Brwnyl\",\"Brwnyl\",\"Brwnyl\",\"Brwnyl\",\"Brwnyl\",\"Brwnyl\",\"Brwnyl\",\"Brwnyl\",\"Brwnyl\",\"Brwnyl\",\"Brwnyl\",\"Brwnyl\",\"Brwnyl\",\"Brwnyl\",\"Brwnyl\",\"Brwnyl\",\"Brwnyl\",\"Brwnyl\",\"Brwnyl\",\"Brwnyl\",\"Brwnyl\",\"Brwnyl\",\"Brwnyl\",\"Brwnyl\",\"Brwnyl\",\"Brwnyl\",\"Brwnyl\",\"Brwnyl\",\"Brwnyl\",\"Brwnyl\",\"Brwnyl\"],\"type\":\"bar\"},{\"customdata\":[0.01,0.02,0.03,0.04,0.05,0.06,0.07,0.08,0.09,0.1,0.11,0.12,0.13,0.14,0.15,0.16,0.17,0.18,0.19,0.2,0.21,0.22,0.23,0.24,0.25,0.26,0.27,0.28,0.29,0.3,0.31,0.32,0.33,0.34,0.35,0.36,0.37,0.38,0.39,0.4,0.41,0.42,0.43,0.44,0.45,0.46,0.47,0.48,0.49,0.5,0.51,0.52,0.53,0.54,0.55,0.56,0.57,0.58,0.59,0.6,0.61,0.62,0.63,0.64,0.65,0.66,0.67,0.68,0.69,0.7,0.71,0.72,0.73,0.74,0.75,0.76,0.77,0.78,0.79,0.8,0.81,0.82,0.83,0.84,0.85,0.86,0.87,0.88,0.89,0.9,0.91,0.92,0.93,0.94,0.95,0.96,0.97,0.98,0.99,1.0],\"hovertemplate\":\"%{customdata}\",\"marker\":{\"color\":[0,1,2,3,4,5,6,7,8,9,10,11,12,13,14,15,16,17,18,19,20,21,22,23,24,25,26,27,28,29,30,31,32,33,34,35,36,37,38,39,40,41,42,43,44,45,46,47,48,49,50,51,52,53,54,55,56,57,58,59,60,61,62,63,64,65,66,67,68,69,70,71,72,73,74,75,76,77,78,79,80,81,82,83,84,85,86,87,88,89,90,91,92,93,94,95,96,97,98,99],\"colorscale\":[[0.0,\"rgb(75, 41, 145)\"],[0.16666666666666666,\"rgb(135, 44, 162)\"],[0.3333333333333333,\"rgb(192, 54, 157)\"],[0.5,\"rgb(234, 79, 136)\"],[0.6666666666666666,\"rgb(250, 120, 118)\"],[0.8333333333333334,\"rgb(246, 169, 122)\"],[1.0,\"rgb(237, 217, 163)\"]],\"line\":{\"width\":0}},\"name\":\"Agsunset\",\"orientation\":\"h\",\"x\":[1,1,1,1,1,1,1,1,1,1,1,1,1,1,1,1,1,1,1,1,1,1,1,1,1,1,1,1,1,1,1,1,1,1,1,1,1,1,1,1,1,1,1,1,1,1,1,1,1,1,1,1,1,1,1,1,1,1,1,1,1,1,1,1,1,1,1,1,1,1,1,1,1,1,1,1,1,1,1,1,1,1,1,1,1,1,1,1,1,1,1,1,1,1,1,1,1,1,1,1],\"y\":[\"Agsunset\",\"Agsunset\",\"Agsunset\",\"Agsunset\",\"Agsunset\",\"Agsunset\",\"Agsunset\",\"Agsunset\",\"Agsunset\",\"Agsunset\",\"Agsunset\",\"Agsunset\",\"Agsunset\",\"Agsunset\",\"Agsunset\",\"Agsunset\",\"Agsunset\",\"Agsunset\",\"Agsunset\",\"Agsunset\",\"Agsunset\",\"Agsunset\",\"Agsunset\",\"Agsunset\",\"Agsunset\",\"Agsunset\",\"Agsunset\",\"Agsunset\",\"Agsunset\",\"Agsunset\",\"Agsunset\",\"Agsunset\",\"Agsunset\",\"Agsunset\",\"Agsunset\",\"Agsunset\",\"Agsunset\",\"Agsunset\",\"Agsunset\",\"Agsunset\",\"Agsunset\",\"Agsunset\",\"Agsunset\",\"Agsunset\",\"Agsunset\",\"Agsunset\",\"Agsunset\",\"Agsunset\",\"Agsunset\",\"Agsunset\",\"Agsunset\",\"Agsunset\",\"Agsunset\",\"Agsunset\",\"Agsunset\",\"Agsunset\",\"Agsunset\",\"Agsunset\",\"Agsunset\",\"Agsunset\",\"Agsunset\",\"Agsunset\",\"Agsunset\",\"Agsunset\",\"Agsunset\",\"Agsunset\",\"Agsunset\",\"Agsunset\",\"Agsunset\",\"Agsunset\",\"Agsunset\",\"Agsunset\",\"Agsunset\",\"Agsunset\",\"Agsunset\",\"Agsunset\",\"Agsunset\",\"Agsunset\",\"Agsunset\",\"Agsunset\",\"Agsunset\",\"Agsunset\",\"Agsunset\",\"Agsunset\",\"Agsunset\",\"Agsunset\",\"Agsunset\",\"Agsunset\",\"Agsunset\",\"Agsunset\",\"Agsunset\",\"Agsunset\",\"Agsunset\",\"Agsunset\",\"Agsunset\",\"Agsunset\",\"Agsunset\",\"Agsunset\",\"Agsunset\",\"Agsunset\"],\"type\":\"bar\"},{\"customdata\":[0.01,0.02,0.03,0.04,0.05,0.06,0.07,0.08,0.09,0.1,0.11,0.12,0.13,0.14,0.15,0.16,0.17,0.18,0.19,0.2,0.21,0.22,0.23,0.24,0.25,0.26,0.27,0.28,0.29,0.3,0.31,0.32,0.33,0.34,0.35,0.36,0.37,0.38,0.39,0.4,0.41,0.42,0.43,0.44,0.45,0.46,0.47,0.48,0.49,0.5,0.51,0.52,0.53,0.54,0.55,0.56,0.57,0.58,0.59,0.6,0.61,0.62,0.63,0.64,0.65,0.66,0.67,0.68,0.69,0.7,0.71,0.72,0.73,0.74,0.75,0.76,0.77,0.78,0.79,0.8,0.81,0.82,0.83,0.84,0.85,0.86,0.87,0.88,0.89,0.9,0.91,0.92,0.93,0.94,0.95,0.96,0.97,0.98,0.99,1.0],\"hovertemplate\":\"%{customdata}\",\"marker\":{\"color\":[0,1,2,3,4,5,6,7,8,9,10,11,12,13,14,15,16,17,18,19,20,21,22,23,24,25,26,27,28,29,30,31,32,33,34,35,36,37,38,39,40,41,42,43,44,45,46,47,48,49,50,51,52,53,54,55,56,57,58,59,60,61,62,63,64,65,66,67,68,69,70,71,72,73,74,75,76,77,78,79,80,81,82,83,84,85,86,87,88,89,90,91,92,93,94,95,96,97,98,99],\"colorscale\":[[0.0,\"rgb(252, 222, 156)\"],[0.16666666666666666,\"rgb(250, 164, 118)\"],[0.3333333333333333,\"rgb(240, 116, 110)\"],[0.5,\"rgb(227, 79, 111)\"],[0.6666666666666666,\"rgb(220, 57, 119)\"],[0.8333333333333334,\"rgb(185, 37, 122)\"],[1.0,\"rgb(124, 29, 111)\"]],\"line\":{\"width\":0}},\"name\":\"Sunsetdark\",\"orientation\":\"h\",\"x\":[1,1,1,1,1,1,1,1,1,1,1,1,1,1,1,1,1,1,1,1,1,1,1,1,1,1,1,1,1,1,1,1,1,1,1,1,1,1,1,1,1,1,1,1,1,1,1,1,1,1,1,1,1,1,1,1,1,1,1,1,1,1,1,1,1,1,1,1,1,1,1,1,1,1,1,1,1,1,1,1,1,1,1,1,1,1,1,1,1,1,1,1,1,1,1,1,1,1,1,1],\"y\":[\"Sunsetdark\",\"Sunsetdark\",\"Sunsetdark\",\"Sunsetdark\",\"Sunsetdark\",\"Sunsetdark\",\"Sunsetdark\",\"Sunsetdark\",\"Sunsetdark\",\"Sunsetdark\",\"Sunsetdark\",\"Sunsetdark\",\"Sunsetdark\",\"Sunsetdark\",\"Sunsetdark\",\"Sunsetdark\",\"Sunsetdark\",\"Sunsetdark\",\"Sunsetdark\",\"Sunsetdark\",\"Sunsetdark\",\"Sunsetdark\",\"Sunsetdark\",\"Sunsetdark\",\"Sunsetdark\",\"Sunsetdark\",\"Sunsetdark\",\"Sunsetdark\",\"Sunsetdark\",\"Sunsetdark\",\"Sunsetdark\",\"Sunsetdark\",\"Sunsetdark\",\"Sunsetdark\",\"Sunsetdark\",\"Sunsetdark\",\"Sunsetdark\",\"Sunsetdark\",\"Sunsetdark\",\"Sunsetdark\",\"Sunsetdark\",\"Sunsetdark\",\"Sunsetdark\",\"Sunsetdark\",\"Sunsetdark\",\"Sunsetdark\",\"Sunsetdark\",\"Sunsetdark\",\"Sunsetdark\",\"Sunsetdark\",\"Sunsetdark\",\"Sunsetdark\",\"Sunsetdark\",\"Sunsetdark\",\"Sunsetdark\",\"Sunsetdark\",\"Sunsetdark\",\"Sunsetdark\",\"Sunsetdark\",\"Sunsetdark\",\"Sunsetdark\",\"Sunsetdark\",\"Sunsetdark\",\"Sunsetdark\",\"Sunsetdark\",\"Sunsetdark\",\"Sunsetdark\",\"Sunsetdark\",\"Sunsetdark\",\"Sunsetdark\",\"Sunsetdark\",\"Sunsetdark\",\"Sunsetdark\",\"Sunsetdark\",\"Sunsetdark\",\"Sunsetdark\",\"Sunsetdark\",\"Sunsetdark\",\"Sunsetdark\",\"Sunsetdark\",\"Sunsetdark\",\"Sunsetdark\",\"Sunsetdark\",\"Sunsetdark\",\"Sunsetdark\",\"Sunsetdark\",\"Sunsetdark\",\"Sunsetdark\",\"Sunsetdark\",\"Sunsetdark\",\"Sunsetdark\",\"Sunsetdark\",\"Sunsetdark\",\"Sunsetdark\",\"Sunsetdark\",\"Sunsetdark\",\"Sunsetdark\",\"Sunsetdark\",\"Sunsetdark\",\"Sunsetdark\"],\"type\":\"bar\"},{\"customdata\":[0.01,0.02,0.03,0.04,0.05,0.06,0.07,0.08,0.09,0.1,0.11,0.12,0.13,0.14,0.15,0.16,0.17,0.18,0.19,0.2,0.21,0.22,0.23,0.24,0.25,0.26,0.27,0.28,0.29,0.3,0.31,0.32,0.33,0.34,0.35,0.36,0.37,0.38,0.39,0.4,0.41,0.42,0.43,0.44,0.45,0.46,0.47,0.48,0.49,0.5,0.51,0.52,0.53,0.54,0.55,0.56,0.57,0.58,0.59,0.6,0.61,0.62,0.63,0.64,0.65,0.66,0.67,0.68,0.69,0.7,0.71,0.72,0.73,0.74,0.75,0.76,0.77,0.78,0.79,0.8,0.81,0.82,0.83,0.84,0.85,0.86,0.87,0.88,0.89,0.9,0.91,0.92,0.93,0.94,0.95,0.96,0.97,0.98,0.99,1.0],\"hovertemplate\":\"%{customdata}\",\"marker\":{\"color\":[0,1,2,3,4,5,6,7,8,9,10,11,12,13,14,15,16,17,18,19,20,21,22,23,24,25,26,27,28,29,30,31,32,33,34,35,36,37,38,39,40,41,42,43,44,45,46,47,48,49,50,51,52,53,54,55,56,57,58,59,60,61,62,63,64,65,66,67,68,69,70,71,72,73,74,75,76,77,78,79,80,81,82,83,84,85,86,87,88,89,90,91,92,93,94,95,96,97,98,99],\"colorscale\":[[0.0,\"rgb(243, 203, 211)\"],[0.16666666666666666,\"rgb(234, 169, 189)\"],[0.3333333333333333,\"rgb(221, 136, 172)\"],[0.5,\"rgb(202, 105, 157)\"],[0.6666666666666666,\"rgb(177, 77, 142)\"],[0.8333333333333334,\"rgb(145, 53, 125)\"],[1.0,\"rgb(108, 33, 103)\"]],\"line\":{\"width\":0}},\"name\":\"Magenta\",\"orientation\":\"h\",\"x\":[1,1,1,1,1,1,1,1,1,1,1,1,1,1,1,1,1,1,1,1,1,1,1,1,1,1,1,1,1,1,1,1,1,1,1,1,1,1,1,1,1,1,1,1,1,1,1,1,1,1,1,1,1,1,1,1,1,1,1,1,1,1,1,1,1,1,1,1,1,1,1,1,1,1,1,1,1,1,1,1,1,1,1,1,1,1,1,1,1,1,1,1,1,1,1,1,1,1,1,1],\"y\":[\"Magenta\",\"Magenta\",\"Magenta\",\"Magenta\",\"Magenta\",\"Magenta\",\"Magenta\",\"Magenta\",\"Magenta\",\"Magenta\",\"Magenta\",\"Magenta\",\"Magenta\",\"Magenta\",\"Magenta\",\"Magenta\",\"Magenta\",\"Magenta\",\"Magenta\",\"Magenta\",\"Magenta\",\"Magenta\",\"Magenta\",\"Magenta\",\"Magenta\",\"Magenta\",\"Magenta\",\"Magenta\",\"Magenta\",\"Magenta\",\"Magenta\",\"Magenta\",\"Magenta\",\"Magenta\",\"Magenta\",\"Magenta\",\"Magenta\",\"Magenta\",\"Magenta\",\"Magenta\",\"Magenta\",\"Magenta\",\"Magenta\",\"Magenta\",\"Magenta\",\"Magenta\",\"Magenta\",\"Magenta\",\"Magenta\",\"Magenta\",\"Magenta\",\"Magenta\",\"Magenta\",\"Magenta\",\"Magenta\",\"Magenta\",\"Magenta\",\"Magenta\",\"Magenta\",\"Magenta\",\"Magenta\",\"Magenta\",\"Magenta\",\"Magenta\",\"Magenta\",\"Magenta\",\"Magenta\",\"Magenta\",\"Magenta\",\"Magenta\",\"Magenta\",\"Magenta\",\"Magenta\",\"Magenta\",\"Magenta\",\"Magenta\",\"Magenta\",\"Magenta\",\"Magenta\",\"Magenta\",\"Magenta\",\"Magenta\",\"Magenta\",\"Magenta\",\"Magenta\",\"Magenta\",\"Magenta\",\"Magenta\",\"Magenta\",\"Magenta\",\"Magenta\",\"Magenta\",\"Magenta\",\"Magenta\",\"Magenta\",\"Magenta\",\"Magenta\",\"Magenta\",\"Magenta\",\"Magenta\"],\"type\":\"bar\"},{\"customdata\":[0.01,0.02,0.03,0.04,0.05,0.06,0.07,0.08,0.09,0.1,0.11,0.12,0.13,0.14,0.15,0.16,0.17,0.18,0.19,0.2,0.21,0.22,0.23,0.24,0.25,0.26,0.27,0.28,0.29,0.3,0.31,0.32,0.33,0.34,0.35,0.36,0.37,0.38,0.39,0.4,0.41,0.42,0.43,0.44,0.45,0.46,0.47,0.48,0.49,0.5,0.51,0.52,0.53,0.54,0.55,0.56,0.57,0.58,0.59,0.6,0.61,0.62,0.63,0.64,0.65,0.66,0.67,0.68,0.69,0.7,0.71,0.72,0.73,0.74,0.75,0.76,0.77,0.78,0.79,0.8,0.81,0.82,0.83,0.84,0.85,0.86,0.87,0.88,0.89,0.9,0.91,0.92,0.93,0.94,0.95,0.96,0.97,0.98,0.99,1.0],\"hovertemplate\":\"%{customdata}\",\"marker\":{\"color\":[0,1,2,3,4,5,6,7,8,9,10,11,12,13,14,15,16,17,18,19,20,21,22,23,24,25,26,27,28,29,30,31,32,33,34,35,36,37,38,39,40,41,42,43,44,45,46,47,48,49,50,51,52,53,54,55,56,57,58,59,60,61,62,63,64,65,66,67,68,69,70,71,72,73,74,75,76,77,78,79,80,81,82,83,84,85,86,87,88,89,90,91,92,93,94,95,96,97,98,99],\"colorscale\":[[0.0,\"rgb(243, 231, 155)\"],[0.16666666666666666,\"rgb(250, 196, 132)\"],[0.3333333333333333,\"rgb(248, 160, 126)\"],[0.5,\"rgb(235, 127, 134)\"],[0.6666666666666666,\"rgb(206, 102, 147)\"],[0.8333333333333334,\"rgb(160, 89, 160)\"],[1.0,\"rgb(92, 83, 165)\"]],\"line\":{\"width\":0}},\"name\":\"Sunset\",\"orientation\":\"h\",\"x\":[1,1,1,1,1,1,1,1,1,1,1,1,1,1,1,1,1,1,1,1,1,1,1,1,1,1,1,1,1,1,1,1,1,1,1,1,1,1,1,1,1,1,1,1,1,1,1,1,1,1,1,1,1,1,1,1,1,1,1,1,1,1,1,1,1,1,1,1,1,1,1,1,1,1,1,1,1,1,1,1,1,1,1,1,1,1,1,1,1,1,1,1,1,1,1,1,1,1,1,1],\"y\":[\"Sunset\",\"Sunset\",\"Sunset\",\"Sunset\",\"Sunset\",\"Sunset\",\"Sunset\",\"Sunset\",\"Sunset\",\"Sunset\",\"Sunset\",\"Sunset\",\"Sunset\",\"Sunset\",\"Sunset\",\"Sunset\",\"Sunset\",\"Sunset\",\"Sunset\",\"Sunset\",\"Sunset\",\"Sunset\",\"Sunset\",\"Sunset\",\"Sunset\",\"Sunset\",\"Sunset\",\"Sunset\",\"Sunset\",\"Sunset\",\"Sunset\",\"Sunset\",\"Sunset\",\"Sunset\",\"Sunset\",\"Sunset\",\"Sunset\",\"Sunset\",\"Sunset\",\"Sunset\",\"Sunset\",\"Sunset\",\"Sunset\",\"Sunset\",\"Sunset\",\"Sunset\",\"Sunset\",\"Sunset\",\"Sunset\",\"Sunset\",\"Sunset\",\"Sunset\",\"Sunset\",\"Sunset\",\"Sunset\",\"Sunset\",\"Sunset\",\"Sunset\",\"Sunset\",\"Sunset\",\"Sunset\",\"Sunset\",\"Sunset\",\"Sunset\",\"Sunset\",\"Sunset\",\"Sunset\",\"Sunset\",\"Sunset\",\"Sunset\",\"Sunset\",\"Sunset\",\"Sunset\",\"Sunset\",\"Sunset\",\"Sunset\",\"Sunset\",\"Sunset\",\"Sunset\",\"Sunset\",\"Sunset\",\"Sunset\",\"Sunset\",\"Sunset\",\"Sunset\",\"Sunset\",\"Sunset\",\"Sunset\",\"Sunset\",\"Sunset\",\"Sunset\",\"Sunset\",\"Sunset\",\"Sunset\",\"Sunset\",\"Sunset\",\"Sunset\",\"Sunset\",\"Sunset\",\"Sunset\"],\"type\":\"bar\"},{\"customdata\":[0.01,0.02,0.03,0.04,0.05,0.06,0.07,0.08,0.09,0.1,0.11,0.12,0.13,0.14,0.15,0.16,0.17,0.18,0.19,0.2,0.21,0.22,0.23,0.24,0.25,0.26,0.27,0.28,0.29,0.3,0.31,0.32,0.33,0.34,0.35,0.36,0.37,0.38,0.39,0.4,0.41,0.42,0.43,0.44,0.45,0.46,0.47,0.48,0.49,0.5,0.51,0.52,0.53,0.54,0.55,0.56,0.57,0.58,0.59,0.6,0.61,0.62,0.63,0.64,0.65,0.66,0.67,0.68,0.69,0.7,0.71,0.72,0.73,0.74,0.75,0.76,0.77,0.78,0.79,0.8,0.81,0.82,0.83,0.84,0.85,0.86,0.87,0.88,0.89,0.9,0.91,0.92,0.93,0.94,0.95,0.96,0.97,0.98,0.99,1.0],\"hovertemplate\":\"%{customdata}\",\"marker\":{\"color\":[0,1,2,3,4,5,6,7,8,9,10,11,12,13,14,15,16,17,18,19,20,21,22,23,24,25,26,27,28,29,30,31,32,33,34,35,36,37,38,39,40,41,42,43,44,45,46,47,48,49,50,51,52,53,54,55,56,57,58,59,60,61,62,63,64,65,66,67,68,69,70,71,72,73,74,75,76,77,78,79,80,81,82,83,84,85,86,87,88,89,90,91,92,93,94,95,96,97,98,99],\"colorscale\":[[0.0,\"rgb(249, 221, 218)\"],[0.16666666666666666,\"rgb(242, 185, 196)\"],[0.3333333333333333,\"rgb(229, 151, 185)\"],[0.5,\"rgb(206, 120, 179)\"],[0.6666666666666666,\"rgb(173, 95, 173)\"],[0.8333333333333334,\"rgb(131, 75, 160)\"],[1.0,\"rgb(87, 59, 136)\"]],\"line\":{\"width\":0}},\"name\":\"Purpor\",\"orientation\":\"h\",\"x\":[1,1,1,1,1,1,1,1,1,1,1,1,1,1,1,1,1,1,1,1,1,1,1,1,1,1,1,1,1,1,1,1,1,1,1,1,1,1,1,1,1,1,1,1,1,1,1,1,1,1,1,1,1,1,1,1,1,1,1,1,1,1,1,1,1,1,1,1,1,1,1,1,1,1,1,1,1,1,1,1,1,1,1,1,1,1,1,1,1,1,1,1,1,1,1,1,1,1,1,1],\"y\":[\"Purpor\",\"Purpor\",\"Purpor\",\"Purpor\",\"Purpor\",\"Purpor\",\"Purpor\",\"Purpor\",\"Purpor\",\"Purpor\",\"Purpor\",\"Purpor\",\"Purpor\",\"Purpor\",\"Purpor\",\"Purpor\",\"Purpor\",\"Purpor\",\"Purpor\",\"Purpor\",\"Purpor\",\"Purpor\",\"Purpor\",\"Purpor\",\"Purpor\",\"Purpor\",\"Purpor\",\"Purpor\",\"Purpor\",\"Purpor\",\"Purpor\",\"Purpor\",\"Purpor\",\"Purpor\",\"Purpor\",\"Purpor\",\"Purpor\",\"Purpor\",\"Purpor\",\"Purpor\",\"Purpor\",\"Purpor\",\"Purpor\",\"Purpor\",\"Purpor\",\"Purpor\",\"Purpor\",\"Purpor\",\"Purpor\",\"Purpor\",\"Purpor\",\"Purpor\",\"Purpor\",\"Purpor\",\"Purpor\",\"Purpor\",\"Purpor\",\"Purpor\",\"Purpor\",\"Purpor\",\"Purpor\",\"Purpor\",\"Purpor\",\"Purpor\",\"Purpor\",\"Purpor\",\"Purpor\",\"Purpor\",\"Purpor\",\"Purpor\",\"Purpor\",\"Purpor\",\"Purpor\",\"Purpor\",\"Purpor\",\"Purpor\",\"Purpor\",\"Purpor\",\"Purpor\",\"Purpor\",\"Purpor\",\"Purpor\",\"Purpor\",\"Purpor\",\"Purpor\",\"Purpor\",\"Purpor\",\"Purpor\",\"Purpor\",\"Purpor\",\"Purpor\",\"Purpor\",\"Purpor\",\"Purpor\",\"Purpor\",\"Purpor\",\"Purpor\",\"Purpor\",\"Purpor\",\"Purpor\"],\"type\":\"bar\"},{\"customdata\":[0.01,0.02,0.03,0.04,0.05,0.06,0.07,0.08,0.09,0.1,0.11,0.12,0.13,0.14,0.15,0.16,0.17,0.18,0.19,0.2,0.21,0.22,0.23,0.24,0.25,0.26,0.27,0.28,0.29,0.3,0.31,0.32,0.33,0.34,0.35,0.36,0.37,0.38,0.39,0.4,0.41,0.42,0.43,0.44,0.45,0.46,0.47,0.48,0.49,0.5,0.51,0.52,0.53,0.54,0.55,0.56,0.57,0.58,0.59,0.6,0.61,0.62,0.63,0.64,0.65,0.66,0.67,0.68,0.69,0.7,0.71,0.72,0.73,0.74,0.75,0.76,0.77,0.78,0.79,0.8,0.81,0.82,0.83,0.84,0.85,0.86,0.87,0.88,0.89,0.9,0.91,0.92,0.93,0.94,0.95,0.96,0.97,0.98,0.99,1.0],\"hovertemplate\":\"%{customdata}\",\"marker\":{\"color\":[0,1,2,3,4,5,6,7,8,9,10,11,12,13,14,15,16,17,18,19,20,21,22,23,24,25,26,27,28,29,30,31,32,33,34,35,36,37,38,39,40,41,42,43,44,45,46,47,48,49,50,51,52,53,54,55,56,57,58,59,60,61,62,63,64,65,66,67,68,69,70,71,72,73,74,75,76,77,78,79,80,81,82,83,84,85,86,87,88,89,90,91,92,93,94,95,96,97,98,99],\"colorscale\":[[0.0,\"rgb(243, 224, 247)\"],[0.16666666666666666,\"rgb(228, 199, 241)\"],[0.3333333333333333,\"rgb(209, 175, 232)\"],[0.5,\"rgb(185, 152, 221)\"],[0.6666666666666666,\"rgb(159, 130, 206)\"],[0.8333333333333334,\"rgb(130, 109, 186)\"],[1.0,\"rgb(99, 88, 159)\"]],\"line\":{\"width\":0}},\"name\":\"Purp\",\"orientation\":\"h\",\"x\":[1,1,1,1,1,1,1,1,1,1,1,1,1,1,1,1,1,1,1,1,1,1,1,1,1,1,1,1,1,1,1,1,1,1,1,1,1,1,1,1,1,1,1,1,1,1,1,1,1,1,1,1,1,1,1,1,1,1,1,1,1,1,1,1,1,1,1,1,1,1,1,1,1,1,1,1,1,1,1,1,1,1,1,1,1,1,1,1,1,1,1,1,1,1,1,1,1,1,1,1],\"y\":[\"Purp\",\"Purp\",\"Purp\",\"Purp\",\"Purp\",\"Purp\",\"Purp\",\"Purp\",\"Purp\",\"Purp\",\"Purp\",\"Purp\",\"Purp\",\"Purp\",\"Purp\",\"Purp\",\"Purp\",\"Purp\",\"Purp\",\"Purp\",\"Purp\",\"Purp\",\"Purp\",\"Purp\",\"Purp\",\"Purp\",\"Purp\",\"Purp\",\"Purp\",\"Purp\",\"Purp\",\"Purp\",\"Purp\",\"Purp\",\"Purp\",\"Purp\",\"Purp\",\"Purp\",\"Purp\",\"Purp\",\"Purp\",\"Purp\",\"Purp\",\"Purp\",\"Purp\",\"Purp\",\"Purp\",\"Purp\",\"Purp\",\"Purp\",\"Purp\",\"Purp\",\"Purp\",\"Purp\",\"Purp\",\"Purp\",\"Purp\",\"Purp\",\"Purp\",\"Purp\",\"Purp\",\"Purp\",\"Purp\",\"Purp\",\"Purp\",\"Purp\",\"Purp\",\"Purp\",\"Purp\",\"Purp\",\"Purp\",\"Purp\",\"Purp\",\"Purp\",\"Purp\",\"Purp\",\"Purp\",\"Purp\",\"Purp\",\"Purp\",\"Purp\",\"Purp\",\"Purp\",\"Purp\",\"Purp\",\"Purp\",\"Purp\",\"Purp\",\"Purp\",\"Purp\",\"Purp\",\"Purp\",\"Purp\",\"Purp\",\"Purp\",\"Purp\",\"Purp\",\"Purp\",\"Purp\",\"Purp\"],\"type\":\"bar\"},{\"customdata\":[0.01,0.02,0.03,0.04,0.05,0.06,0.07,0.08,0.09,0.1,0.11,0.12,0.13,0.14,0.15,0.16,0.17,0.18,0.19,0.2,0.21,0.22,0.23,0.24,0.25,0.26,0.27,0.28,0.29,0.3,0.31,0.32,0.33,0.34,0.35,0.36,0.37,0.38,0.39,0.4,0.41,0.42,0.43,0.44,0.45,0.46,0.47,0.48,0.49,0.5,0.51,0.52,0.53,0.54,0.55,0.56,0.57,0.58,0.59,0.6,0.61,0.62,0.63,0.64,0.65,0.66,0.67,0.68,0.69,0.7,0.71,0.72,0.73,0.74,0.75,0.76,0.77,0.78,0.79,0.8,0.81,0.82,0.83,0.84,0.85,0.86,0.87,0.88,0.89,0.9,0.91,0.92,0.93,0.94,0.95,0.96,0.97,0.98,0.99,1.0],\"hovertemplate\":\"%{customdata}\",\"marker\":{\"color\":[0,1,2,3,4,5,6,7,8,9,10,11,12,13,14,15,16,17,18,19,20,21,22,23,24,25,26,27,28,29,30,31,32,33,34,35,36,37,38,39,40,41,42,43,44,45,46,47,48,49,50,51,52,53,54,55,56,57,58,59,60,61,62,63,64,65,66,67,68,69,70,71,72,73,74,75,76,77,78,79,80,81,82,83,84,85,86,87,88,89,90,91,92,93,94,95,96,97,98,99],\"colorscale\":[[0.0,\"rgb(176, 242, 188)\"],[0.16666666666666666,\"rgb(137, 232, 172)\"],[0.3333333333333333,\"rgb(103, 219, 165)\"],[0.5,\"rgb(76, 200, 163)\"],[0.6666666666666666,\"rgb(56, 178, 163)\"],[0.8333333333333334,\"rgb(44, 152, 160)\"],[1.0,\"rgb(37, 125, 152)\"]],\"line\":{\"width\":0}},\"name\":\"Tealgrn\",\"orientation\":\"h\",\"x\":[1,1,1,1,1,1,1,1,1,1,1,1,1,1,1,1,1,1,1,1,1,1,1,1,1,1,1,1,1,1,1,1,1,1,1,1,1,1,1,1,1,1,1,1,1,1,1,1,1,1,1,1,1,1,1,1,1,1,1,1,1,1,1,1,1,1,1,1,1,1,1,1,1,1,1,1,1,1,1,1,1,1,1,1,1,1,1,1,1,1,1,1,1,1,1,1,1,1,1,1],\"y\":[\"Tealgrn\",\"Tealgrn\",\"Tealgrn\",\"Tealgrn\",\"Tealgrn\",\"Tealgrn\",\"Tealgrn\",\"Tealgrn\",\"Tealgrn\",\"Tealgrn\",\"Tealgrn\",\"Tealgrn\",\"Tealgrn\",\"Tealgrn\",\"Tealgrn\",\"Tealgrn\",\"Tealgrn\",\"Tealgrn\",\"Tealgrn\",\"Tealgrn\",\"Tealgrn\",\"Tealgrn\",\"Tealgrn\",\"Tealgrn\",\"Tealgrn\",\"Tealgrn\",\"Tealgrn\",\"Tealgrn\",\"Tealgrn\",\"Tealgrn\",\"Tealgrn\",\"Tealgrn\",\"Tealgrn\",\"Tealgrn\",\"Tealgrn\",\"Tealgrn\",\"Tealgrn\",\"Tealgrn\",\"Tealgrn\",\"Tealgrn\",\"Tealgrn\",\"Tealgrn\",\"Tealgrn\",\"Tealgrn\",\"Tealgrn\",\"Tealgrn\",\"Tealgrn\",\"Tealgrn\",\"Tealgrn\",\"Tealgrn\",\"Tealgrn\",\"Tealgrn\",\"Tealgrn\",\"Tealgrn\",\"Tealgrn\",\"Tealgrn\",\"Tealgrn\",\"Tealgrn\",\"Tealgrn\",\"Tealgrn\",\"Tealgrn\",\"Tealgrn\",\"Tealgrn\",\"Tealgrn\",\"Tealgrn\",\"Tealgrn\",\"Tealgrn\",\"Tealgrn\",\"Tealgrn\",\"Tealgrn\",\"Tealgrn\",\"Tealgrn\",\"Tealgrn\",\"Tealgrn\",\"Tealgrn\",\"Tealgrn\",\"Tealgrn\",\"Tealgrn\",\"Tealgrn\",\"Tealgrn\",\"Tealgrn\",\"Tealgrn\",\"Tealgrn\",\"Tealgrn\",\"Tealgrn\",\"Tealgrn\",\"Tealgrn\",\"Tealgrn\",\"Tealgrn\",\"Tealgrn\",\"Tealgrn\",\"Tealgrn\",\"Tealgrn\",\"Tealgrn\",\"Tealgrn\",\"Tealgrn\",\"Tealgrn\",\"Tealgrn\",\"Tealgrn\",\"Tealgrn\"],\"type\":\"bar\"},{\"customdata\":[0.01,0.02,0.03,0.04,0.05,0.06,0.07,0.08,0.09,0.1,0.11,0.12,0.13,0.14,0.15,0.16,0.17,0.18,0.19,0.2,0.21,0.22,0.23,0.24,0.25,0.26,0.27,0.28,0.29,0.3,0.31,0.32,0.33,0.34,0.35,0.36,0.37,0.38,0.39,0.4,0.41,0.42,0.43,0.44,0.45,0.46,0.47,0.48,0.49,0.5,0.51,0.52,0.53,0.54,0.55,0.56,0.57,0.58,0.59,0.6,0.61,0.62,0.63,0.64,0.65,0.66,0.67,0.68,0.69,0.7,0.71,0.72,0.73,0.74,0.75,0.76,0.77,0.78,0.79,0.8,0.81,0.82,0.83,0.84,0.85,0.86,0.87,0.88,0.89,0.9,0.91,0.92,0.93,0.94,0.95,0.96,0.97,0.98,0.99,1.0],\"hovertemplate\":\"%{customdata}\",\"marker\":{\"color\":[0,1,2,3,4,5,6,7,8,9,10,11,12,13,14,15,16,17,18,19,20,21,22,23,24,25,26,27,28,29,30,31,32,33,34,35,36,37,38,39,40,41,42,43,44,45,46,47,48,49,50,51,52,53,54,55,56,57,58,59,60,61,62,63,64,65,66,67,68,69,70,71,72,73,74,75,76,77,78,79,80,81,82,83,84,85,86,87,88,89,90,91,92,93,94,95,96,97,98,99],\"colorscale\":[[0.0,\"rgb(209, 238, 234)\"],[0.16666666666666666,\"rgb(168, 219, 217)\"],[0.3333333333333333,\"rgb(133, 196, 201)\"],[0.5,\"rgb(104, 171, 184)\"],[0.6666666666666666,\"rgb(79, 144, 166)\"],[0.8333333333333334,\"rgb(59, 115, 143)\"],[1.0,\"rgb(42, 86, 116)\"]],\"line\":{\"width\":0}},\"name\":\"Teal\",\"orientation\":\"h\",\"x\":[1,1,1,1,1,1,1,1,1,1,1,1,1,1,1,1,1,1,1,1,1,1,1,1,1,1,1,1,1,1,1,1,1,1,1,1,1,1,1,1,1,1,1,1,1,1,1,1,1,1,1,1,1,1,1,1,1,1,1,1,1,1,1,1,1,1,1,1,1,1,1,1,1,1,1,1,1,1,1,1,1,1,1,1,1,1,1,1,1,1,1,1,1,1,1,1,1,1,1,1],\"y\":[\"Teal\",\"Teal\",\"Teal\",\"Teal\",\"Teal\",\"Teal\",\"Teal\",\"Teal\",\"Teal\",\"Teal\",\"Teal\",\"Teal\",\"Teal\",\"Teal\",\"Teal\",\"Teal\",\"Teal\",\"Teal\",\"Teal\",\"Teal\",\"Teal\",\"Teal\",\"Teal\",\"Teal\",\"Teal\",\"Teal\",\"Teal\",\"Teal\",\"Teal\",\"Teal\",\"Teal\",\"Teal\",\"Teal\",\"Teal\",\"Teal\",\"Teal\",\"Teal\",\"Teal\",\"Teal\",\"Teal\",\"Teal\",\"Teal\",\"Teal\",\"Teal\",\"Teal\",\"Teal\",\"Teal\",\"Teal\",\"Teal\",\"Teal\",\"Teal\",\"Teal\",\"Teal\",\"Teal\",\"Teal\",\"Teal\",\"Teal\",\"Teal\",\"Teal\",\"Teal\",\"Teal\",\"Teal\",\"Teal\",\"Teal\",\"Teal\",\"Teal\",\"Teal\",\"Teal\",\"Teal\",\"Teal\",\"Teal\",\"Teal\",\"Teal\",\"Teal\",\"Teal\",\"Teal\",\"Teal\",\"Teal\",\"Teal\",\"Teal\",\"Teal\",\"Teal\",\"Teal\",\"Teal\",\"Teal\",\"Teal\",\"Teal\",\"Teal\",\"Teal\",\"Teal\",\"Teal\",\"Teal\",\"Teal\",\"Teal\",\"Teal\",\"Teal\",\"Teal\",\"Teal\",\"Teal\",\"Teal\"],\"type\":\"bar\"},{\"customdata\":[0.01,0.02,0.03,0.04,0.05,0.06,0.07,0.08,0.09,0.1,0.11,0.12,0.13,0.14,0.15,0.16,0.17,0.18,0.19,0.2,0.21,0.22,0.23,0.24,0.25,0.26,0.27,0.28,0.29,0.3,0.31,0.32,0.33,0.34,0.35,0.36,0.37,0.38,0.39,0.4,0.41,0.42,0.43,0.44,0.45,0.46,0.47,0.48,0.49,0.5,0.51,0.52,0.53,0.54,0.55,0.56,0.57,0.58,0.59,0.6,0.61,0.62,0.63,0.64,0.65,0.66,0.67,0.68,0.69,0.7,0.71,0.72,0.73,0.74,0.75,0.76,0.77,0.78,0.79,0.8,0.81,0.82,0.83,0.84,0.85,0.86,0.87,0.88,0.89,0.9,0.91,0.92,0.93,0.94,0.95,0.96,0.97,0.98,0.99,1.0],\"hovertemplate\":\"%{customdata}\",\"marker\":{\"color\":[0,1,2,3,4,5,6,7,8,9,10,11,12,13,14,15,16,17,18,19,20,21,22,23,24,25,26,27,28,29,30,31,32,33,34,35,36,37,38,39,40,41,42,43,44,45,46,47,48,49,50,51,52,53,54,55,56,57,58,59,60,61,62,63,64,65,66,67,68,69,70,71,72,73,74,75,76,77,78,79,80,81,82,83,84,85,86,87,88,89,90,91,92,93,94,95,96,97,98,99],\"colorscale\":[[0.0,\"rgb(247, 254, 174)\"],[0.16666666666666666,\"rgb(183, 230, 165)\"],[0.3333333333333333,\"rgb(124, 203, 162)\"],[0.5,\"rgb(70, 174, 160)\"],[0.6666666666666666,\"rgb(8, 144, 153)\"],[0.8333333333333334,\"rgb(0, 113, 139)\"],[1.0,\"rgb(4, 82, 117)\"]],\"line\":{\"width\":0}},\"name\":\"Bluyl\",\"orientation\":\"h\",\"x\":[1,1,1,1,1,1,1,1,1,1,1,1,1,1,1,1,1,1,1,1,1,1,1,1,1,1,1,1,1,1,1,1,1,1,1,1,1,1,1,1,1,1,1,1,1,1,1,1,1,1,1,1,1,1,1,1,1,1,1,1,1,1,1,1,1,1,1,1,1,1,1,1,1,1,1,1,1,1,1,1,1,1,1,1,1,1,1,1,1,1,1,1,1,1,1,1,1,1,1,1],\"y\":[\"Bluyl\",\"Bluyl\",\"Bluyl\",\"Bluyl\",\"Bluyl\",\"Bluyl\",\"Bluyl\",\"Bluyl\",\"Bluyl\",\"Bluyl\",\"Bluyl\",\"Bluyl\",\"Bluyl\",\"Bluyl\",\"Bluyl\",\"Bluyl\",\"Bluyl\",\"Bluyl\",\"Bluyl\",\"Bluyl\",\"Bluyl\",\"Bluyl\",\"Bluyl\",\"Bluyl\",\"Bluyl\",\"Bluyl\",\"Bluyl\",\"Bluyl\",\"Bluyl\",\"Bluyl\",\"Bluyl\",\"Bluyl\",\"Bluyl\",\"Bluyl\",\"Bluyl\",\"Bluyl\",\"Bluyl\",\"Bluyl\",\"Bluyl\",\"Bluyl\",\"Bluyl\",\"Bluyl\",\"Bluyl\",\"Bluyl\",\"Bluyl\",\"Bluyl\",\"Bluyl\",\"Bluyl\",\"Bluyl\",\"Bluyl\",\"Bluyl\",\"Bluyl\",\"Bluyl\",\"Bluyl\",\"Bluyl\",\"Bluyl\",\"Bluyl\",\"Bluyl\",\"Bluyl\",\"Bluyl\",\"Bluyl\",\"Bluyl\",\"Bluyl\",\"Bluyl\",\"Bluyl\",\"Bluyl\",\"Bluyl\",\"Bluyl\",\"Bluyl\",\"Bluyl\",\"Bluyl\",\"Bluyl\",\"Bluyl\",\"Bluyl\",\"Bluyl\",\"Bluyl\",\"Bluyl\",\"Bluyl\",\"Bluyl\",\"Bluyl\",\"Bluyl\",\"Bluyl\",\"Bluyl\",\"Bluyl\",\"Bluyl\",\"Bluyl\",\"Bluyl\",\"Bluyl\",\"Bluyl\",\"Bluyl\",\"Bluyl\",\"Bluyl\",\"Bluyl\",\"Bluyl\",\"Bluyl\",\"Bluyl\",\"Bluyl\",\"Bluyl\",\"Bluyl\",\"Bluyl\"],\"type\":\"bar\"},{\"customdata\":[0.01,0.02,0.03,0.04,0.05,0.06,0.07,0.08,0.09,0.1,0.11,0.12,0.13,0.14,0.15,0.16,0.17,0.18,0.19,0.2,0.21,0.22,0.23,0.24,0.25,0.26,0.27,0.28,0.29,0.3,0.31,0.32,0.33,0.34,0.35,0.36,0.37,0.38,0.39,0.4,0.41,0.42,0.43,0.44,0.45,0.46,0.47,0.48,0.49,0.5,0.51,0.52,0.53,0.54,0.55,0.56,0.57,0.58,0.59,0.6,0.61,0.62,0.63,0.64,0.65,0.66,0.67,0.68,0.69,0.7,0.71,0.72,0.73,0.74,0.75,0.76,0.77,0.78,0.79,0.8,0.81,0.82,0.83,0.84,0.85,0.86,0.87,0.88,0.89,0.9,0.91,0.92,0.93,0.94,0.95,0.96,0.97,0.98,0.99,1.0],\"hovertemplate\":\"%{customdata}\",\"marker\":{\"color\":[0,1,2,3,4,5,6,7,8,9,10,11,12,13,14,15,16,17,18,19,20,21,22,23,24,25,26,27,28,29,30,31,32,33,34,35,36,37,38,39,40,41,42,43,44,45,46,47,48,49,50,51,52,53,54,55,56,57,58,59,60,61,62,63,64,65,66,67,68,69,70,71,72,73,74,75,76,77,78,79,80,81,82,83,84,85,86,87,88,89,90,91,92,93,94,95,96,97,98,99],\"colorscale\":[[0.0,\"rgb(36, 86, 104)\"],[0.16666666666666666,\"rgb(15, 114, 121)\"],[0.3333333333333333,\"rgb(13, 143, 129)\"],[0.5,\"rgb(57, 171, 126)\"],[0.6666666666666666,\"rgb(110, 197, 116)\"],[0.8333333333333334,\"rgb(169, 220, 103)\"],[1.0,\"rgb(237, 239, 93)\"]],\"line\":{\"width\":0}},\"name\":\"Aggrnyl\",\"orientation\":\"h\",\"x\":[1,1,1,1,1,1,1,1,1,1,1,1,1,1,1,1,1,1,1,1,1,1,1,1,1,1,1,1,1,1,1,1,1,1,1,1,1,1,1,1,1,1,1,1,1,1,1,1,1,1,1,1,1,1,1,1,1,1,1,1,1,1,1,1,1,1,1,1,1,1,1,1,1,1,1,1,1,1,1,1,1,1,1,1,1,1,1,1,1,1,1,1,1,1,1,1,1,1,1,1],\"y\":[\"Aggrnyl\",\"Aggrnyl\",\"Aggrnyl\",\"Aggrnyl\",\"Aggrnyl\",\"Aggrnyl\",\"Aggrnyl\",\"Aggrnyl\",\"Aggrnyl\",\"Aggrnyl\",\"Aggrnyl\",\"Aggrnyl\",\"Aggrnyl\",\"Aggrnyl\",\"Aggrnyl\",\"Aggrnyl\",\"Aggrnyl\",\"Aggrnyl\",\"Aggrnyl\",\"Aggrnyl\",\"Aggrnyl\",\"Aggrnyl\",\"Aggrnyl\",\"Aggrnyl\",\"Aggrnyl\",\"Aggrnyl\",\"Aggrnyl\",\"Aggrnyl\",\"Aggrnyl\",\"Aggrnyl\",\"Aggrnyl\",\"Aggrnyl\",\"Aggrnyl\",\"Aggrnyl\",\"Aggrnyl\",\"Aggrnyl\",\"Aggrnyl\",\"Aggrnyl\",\"Aggrnyl\",\"Aggrnyl\",\"Aggrnyl\",\"Aggrnyl\",\"Aggrnyl\",\"Aggrnyl\",\"Aggrnyl\",\"Aggrnyl\",\"Aggrnyl\",\"Aggrnyl\",\"Aggrnyl\",\"Aggrnyl\",\"Aggrnyl\",\"Aggrnyl\",\"Aggrnyl\",\"Aggrnyl\",\"Aggrnyl\",\"Aggrnyl\",\"Aggrnyl\",\"Aggrnyl\",\"Aggrnyl\",\"Aggrnyl\",\"Aggrnyl\",\"Aggrnyl\",\"Aggrnyl\",\"Aggrnyl\",\"Aggrnyl\",\"Aggrnyl\",\"Aggrnyl\",\"Aggrnyl\",\"Aggrnyl\",\"Aggrnyl\",\"Aggrnyl\",\"Aggrnyl\",\"Aggrnyl\",\"Aggrnyl\",\"Aggrnyl\",\"Aggrnyl\",\"Aggrnyl\",\"Aggrnyl\",\"Aggrnyl\",\"Aggrnyl\",\"Aggrnyl\",\"Aggrnyl\",\"Aggrnyl\",\"Aggrnyl\",\"Aggrnyl\",\"Aggrnyl\",\"Aggrnyl\",\"Aggrnyl\",\"Aggrnyl\",\"Aggrnyl\",\"Aggrnyl\",\"Aggrnyl\",\"Aggrnyl\",\"Aggrnyl\",\"Aggrnyl\",\"Aggrnyl\",\"Aggrnyl\",\"Aggrnyl\",\"Aggrnyl\",\"Aggrnyl\"],\"type\":\"bar\"},{\"customdata\":[0.01,0.02,0.03,0.04,0.05,0.06,0.07,0.08,0.09,0.1,0.11,0.12,0.13,0.14,0.15,0.16,0.17,0.18,0.19,0.2,0.21,0.22,0.23,0.24,0.25,0.26,0.27,0.28,0.29,0.3,0.31,0.32,0.33,0.34,0.35,0.36,0.37,0.38,0.39,0.4,0.41,0.42,0.43,0.44,0.45,0.46,0.47,0.48,0.49,0.5,0.51,0.52,0.53,0.54,0.55,0.56,0.57,0.58,0.59,0.6,0.61,0.62,0.63,0.64,0.65,0.66,0.67,0.68,0.69,0.7,0.71,0.72,0.73,0.74,0.75,0.76,0.77,0.78,0.79,0.8,0.81,0.82,0.83,0.84,0.85,0.86,0.87,0.88,0.89,0.9,0.91,0.92,0.93,0.94,0.95,0.96,0.97,0.98,0.99,1.0],\"hovertemplate\":\"%{customdata}\",\"marker\":{\"color\":[0,1,2,3,4,5,6,7,8,9,10,11,12,13,14,15,16,17,18,19,20,21,22,23,24,25,26,27,28,29,30,31,32,33,34,35,36,37,38,39,40,41,42,43,44,45,46,47,48,49,50,51,52,53,54,55,56,57,58,59,60,61,62,63,64,65,66,67,68,69,70,71,72,73,74,75,76,77,78,79,80,81,82,83,84,85,86,87,88,89,90,91,92,93,94,95,96,97,98,99],\"colorscale\":[[0.0,\"rgb(211, 242, 163)\"],[0.16666666666666666,\"rgb(151, 225, 150)\"],[0.3333333333333333,\"rgb(108, 192, 139)\"],[0.5,\"rgb(76, 155, 130)\"],[0.6666666666666666,\"rgb(33, 122, 121)\"],[0.8333333333333334,\"rgb(16, 89, 101)\"],[1.0,\"rgb(7, 64, 80)\"]],\"line\":{\"width\":0}},\"name\":\"Emrld\",\"orientation\":\"h\",\"x\":[1,1,1,1,1,1,1,1,1,1,1,1,1,1,1,1,1,1,1,1,1,1,1,1,1,1,1,1,1,1,1,1,1,1,1,1,1,1,1,1,1,1,1,1,1,1,1,1,1,1,1,1,1,1,1,1,1,1,1,1,1,1,1,1,1,1,1,1,1,1,1,1,1,1,1,1,1,1,1,1,1,1,1,1,1,1,1,1,1,1,1,1,1,1,1,1,1,1,1,1],\"y\":[\"Emrld\",\"Emrld\",\"Emrld\",\"Emrld\",\"Emrld\",\"Emrld\",\"Emrld\",\"Emrld\",\"Emrld\",\"Emrld\",\"Emrld\",\"Emrld\",\"Emrld\",\"Emrld\",\"Emrld\",\"Emrld\",\"Emrld\",\"Emrld\",\"Emrld\",\"Emrld\",\"Emrld\",\"Emrld\",\"Emrld\",\"Emrld\",\"Emrld\",\"Emrld\",\"Emrld\",\"Emrld\",\"Emrld\",\"Emrld\",\"Emrld\",\"Emrld\",\"Emrld\",\"Emrld\",\"Emrld\",\"Emrld\",\"Emrld\",\"Emrld\",\"Emrld\",\"Emrld\",\"Emrld\",\"Emrld\",\"Emrld\",\"Emrld\",\"Emrld\",\"Emrld\",\"Emrld\",\"Emrld\",\"Emrld\",\"Emrld\",\"Emrld\",\"Emrld\",\"Emrld\",\"Emrld\",\"Emrld\",\"Emrld\",\"Emrld\",\"Emrld\",\"Emrld\",\"Emrld\",\"Emrld\",\"Emrld\",\"Emrld\",\"Emrld\",\"Emrld\",\"Emrld\",\"Emrld\",\"Emrld\",\"Emrld\",\"Emrld\",\"Emrld\",\"Emrld\",\"Emrld\",\"Emrld\",\"Emrld\",\"Emrld\",\"Emrld\",\"Emrld\",\"Emrld\",\"Emrld\",\"Emrld\",\"Emrld\",\"Emrld\",\"Emrld\",\"Emrld\",\"Emrld\",\"Emrld\",\"Emrld\",\"Emrld\",\"Emrld\",\"Emrld\",\"Emrld\",\"Emrld\",\"Emrld\",\"Emrld\",\"Emrld\",\"Emrld\",\"Emrld\",\"Emrld\",\"Emrld\"],\"type\":\"bar\"},{\"customdata\":[0.01,0.02,0.03,0.04,0.05,0.06,0.07,0.08,0.09,0.1,0.11,0.12,0.13,0.14,0.15,0.16,0.17,0.18,0.19,0.2,0.21,0.22,0.23,0.24,0.25,0.26,0.27,0.28,0.29,0.3,0.31,0.32,0.33,0.34,0.35,0.36,0.37,0.38,0.39,0.4,0.41,0.42,0.43,0.44,0.45,0.46,0.47,0.48,0.49,0.5,0.51,0.52,0.53,0.54,0.55,0.56,0.57,0.58,0.59,0.6,0.61,0.62,0.63,0.64,0.65,0.66,0.67,0.68,0.69,0.7,0.71,0.72,0.73,0.74,0.75,0.76,0.77,0.78,0.79,0.8,0.81,0.82,0.83,0.84,0.85,0.86,0.87,0.88,0.89,0.9,0.91,0.92,0.93,0.94,0.95,0.96,0.97,0.98,0.99,1.0],\"hovertemplate\":\"%{customdata}\",\"marker\":{\"color\":[0,1,2,3,4,5,6,7,8,9,10,11,12,13,14,15,16,17,18,19,20,21,22,23,24,25,26,27,28,29,30,31,32,33,34,35,36,37,38,39,40,41,42,43,44,45,46,47,48,49,50,51,52,53,54,55,56,57,58,59,60,61,62,63,64,65,66,67,68,69,70,71,72,73,74,75,76,77,78,79,80,81,82,83,84,85,86,87,88,89,90,91,92,93,94,95,96,97,98,99],\"colorscale\":[[0.0,\"rgb(210, 251, 212)\"],[0.16666666666666666,\"rgb(165, 219, 194)\"],[0.3333333333333333,\"rgb(123, 188, 176)\"],[0.5,\"rgb(85, 156, 158)\"],[0.6666666666666666,\"rgb(58, 124, 137)\"],[0.8333333333333334,\"rgb(35, 93, 114)\"],[1.0,\"rgb(18, 63, 90)\"]],\"line\":{\"width\":0}},\"name\":\"Darkmint\",\"orientation\":\"h\",\"x\":[1,1,1,1,1,1,1,1,1,1,1,1,1,1,1,1,1,1,1,1,1,1,1,1,1,1,1,1,1,1,1,1,1,1,1,1,1,1,1,1,1,1,1,1,1,1,1,1,1,1,1,1,1,1,1,1,1,1,1,1,1,1,1,1,1,1,1,1,1,1,1,1,1,1,1,1,1,1,1,1,1,1,1,1,1,1,1,1,1,1,1,1,1,1,1,1,1,1,1,1],\"y\":[\"Darkmint\",\"Darkmint\",\"Darkmint\",\"Darkmint\",\"Darkmint\",\"Darkmint\",\"Darkmint\",\"Darkmint\",\"Darkmint\",\"Darkmint\",\"Darkmint\",\"Darkmint\",\"Darkmint\",\"Darkmint\",\"Darkmint\",\"Darkmint\",\"Darkmint\",\"Darkmint\",\"Darkmint\",\"Darkmint\",\"Darkmint\",\"Darkmint\",\"Darkmint\",\"Darkmint\",\"Darkmint\",\"Darkmint\",\"Darkmint\",\"Darkmint\",\"Darkmint\",\"Darkmint\",\"Darkmint\",\"Darkmint\",\"Darkmint\",\"Darkmint\",\"Darkmint\",\"Darkmint\",\"Darkmint\",\"Darkmint\",\"Darkmint\",\"Darkmint\",\"Darkmint\",\"Darkmint\",\"Darkmint\",\"Darkmint\",\"Darkmint\",\"Darkmint\",\"Darkmint\",\"Darkmint\",\"Darkmint\",\"Darkmint\",\"Darkmint\",\"Darkmint\",\"Darkmint\",\"Darkmint\",\"Darkmint\",\"Darkmint\",\"Darkmint\",\"Darkmint\",\"Darkmint\",\"Darkmint\",\"Darkmint\",\"Darkmint\",\"Darkmint\",\"Darkmint\",\"Darkmint\",\"Darkmint\",\"Darkmint\",\"Darkmint\",\"Darkmint\",\"Darkmint\",\"Darkmint\",\"Darkmint\",\"Darkmint\",\"Darkmint\",\"Darkmint\",\"Darkmint\",\"Darkmint\",\"Darkmint\",\"Darkmint\",\"Darkmint\",\"Darkmint\",\"Darkmint\",\"Darkmint\",\"Darkmint\",\"Darkmint\",\"Darkmint\",\"Darkmint\",\"Darkmint\",\"Darkmint\",\"Darkmint\",\"Darkmint\",\"Darkmint\",\"Darkmint\",\"Darkmint\",\"Darkmint\",\"Darkmint\",\"Darkmint\",\"Darkmint\",\"Darkmint\",\"Darkmint\"],\"type\":\"bar\"},{\"customdata\":[0.01,0.02,0.03,0.04,0.05,0.06,0.07,0.08,0.09,0.1,0.11,0.12,0.13,0.14,0.15,0.16,0.17,0.18,0.19,0.2,0.21,0.22,0.23,0.24,0.25,0.26,0.27,0.28,0.29,0.3,0.31,0.32,0.33,0.34,0.35,0.36,0.37,0.38,0.39,0.4,0.41,0.42,0.43,0.44,0.45,0.46,0.47,0.48,0.49,0.5,0.51,0.52,0.53,0.54,0.55,0.56,0.57,0.58,0.59,0.6,0.61,0.62,0.63,0.64,0.65,0.66,0.67,0.68,0.69,0.7,0.71,0.72,0.73,0.74,0.75,0.76,0.77,0.78,0.79,0.8,0.81,0.82,0.83,0.84,0.85,0.86,0.87,0.88,0.89,0.9,0.91,0.92,0.93,0.94,0.95,0.96,0.97,0.98,0.99,1.0],\"hovertemplate\":\"%{customdata}\",\"marker\":{\"color\":[0,1,2,3,4,5,6,7,8,9,10,11,12,13,14,15,16,17,18,19,20,21,22,23,24,25,26,27,28,29,30,31,32,33,34,35,36,37,38,39,40,41,42,43,44,45,46,47,48,49,50,51,52,53,54,55,56,57,58,59,60,61,62,63,64,65,66,67,68,69,70,71,72,73,74,75,76,77,78,79,80,81,82,83,84,85,86,87,88,89,90,91,92,93,94,95,96,97,98,99],\"colorscale\":[[0.0,\"rgb(196, 230, 195)\"],[0.16666666666666666,\"rgb(150, 210, 164)\"],[0.3333333333333333,\"rgb(109, 188, 144)\"],[0.5,\"rgb(77, 162, 132)\"],[0.6666666666666666,\"rgb(54, 135, 122)\"],[0.8333333333333334,\"rgb(38, 107, 110)\"],[1.0,\"rgb(29, 79, 96)\"]],\"line\":{\"width\":0}},\"name\":\"Blugrn\",\"orientation\":\"h\",\"x\":[1,1,1,1,1,1,1,1,1,1,1,1,1,1,1,1,1,1,1,1,1,1,1,1,1,1,1,1,1,1,1,1,1,1,1,1,1,1,1,1,1,1,1,1,1,1,1,1,1,1,1,1,1,1,1,1,1,1,1,1,1,1,1,1,1,1,1,1,1,1,1,1,1,1,1,1,1,1,1,1,1,1,1,1,1,1,1,1,1,1,1,1,1,1,1,1,1,1,1,1],\"y\":[\"Blugrn\",\"Blugrn\",\"Blugrn\",\"Blugrn\",\"Blugrn\",\"Blugrn\",\"Blugrn\",\"Blugrn\",\"Blugrn\",\"Blugrn\",\"Blugrn\",\"Blugrn\",\"Blugrn\",\"Blugrn\",\"Blugrn\",\"Blugrn\",\"Blugrn\",\"Blugrn\",\"Blugrn\",\"Blugrn\",\"Blugrn\",\"Blugrn\",\"Blugrn\",\"Blugrn\",\"Blugrn\",\"Blugrn\",\"Blugrn\",\"Blugrn\",\"Blugrn\",\"Blugrn\",\"Blugrn\",\"Blugrn\",\"Blugrn\",\"Blugrn\",\"Blugrn\",\"Blugrn\",\"Blugrn\",\"Blugrn\",\"Blugrn\",\"Blugrn\",\"Blugrn\",\"Blugrn\",\"Blugrn\",\"Blugrn\",\"Blugrn\",\"Blugrn\",\"Blugrn\",\"Blugrn\",\"Blugrn\",\"Blugrn\",\"Blugrn\",\"Blugrn\",\"Blugrn\",\"Blugrn\",\"Blugrn\",\"Blugrn\",\"Blugrn\",\"Blugrn\",\"Blugrn\",\"Blugrn\",\"Blugrn\",\"Blugrn\",\"Blugrn\",\"Blugrn\",\"Blugrn\",\"Blugrn\",\"Blugrn\",\"Blugrn\",\"Blugrn\",\"Blugrn\",\"Blugrn\",\"Blugrn\",\"Blugrn\",\"Blugrn\",\"Blugrn\",\"Blugrn\",\"Blugrn\",\"Blugrn\",\"Blugrn\",\"Blugrn\",\"Blugrn\",\"Blugrn\",\"Blugrn\",\"Blugrn\",\"Blugrn\",\"Blugrn\",\"Blugrn\",\"Blugrn\",\"Blugrn\",\"Blugrn\",\"Blugrn\",\"Blugrn\",\"Blugrn\",\"Blugrn\",\"Blugrn\",\"Blugrn\",\"Blugrn\",\"Blugrn\",\"Blugrn\",\"Blugrn\"],\"type\":\"bar\"},{\"customdata\":[0.01,0.02,0.03,0.04,0.05,0.06,0.07,0.08,0.09,0.1,0.11,0.12,0.13,0.14,0.15,0.16,0.17,0.18,0.19,0.2,0.21,0.22,0.23,0.24,0.25,0.26,0.27,0.28,0.29,0.3,0.31,0.32,0.33,0.34,0.35,0.36,0.37,0.38,0.39,0.4,0.41,0.42,0.43,0.44,0.45,0.46,0.47,0.48,0.49,0.5,0.51,0.52,0.53,0.54,0.55,0.56,0.57,0.58,0.59,0.6,0.61,0.62,0.63,0.64,0.65,0.66,0.67,0.68,0.69,0.7,0.71,0.72,0.73,0.74,0.75,0.76,0.77,0.78,0.79,0.8,0.81,0.82,0.83,0.84,0.85,0.86,0.87,0.88,0.89,0.9,0.91,0.92,0.93,0.94,0.95,0.96,0.97,0.98,0.99,1.0],\"hovertemplate\":\"%{customdata}\",\"marker\":{\"color\":[0,1,2,3,4,5,6,7,8,9,10,11,12,13,14,15,16,17,18,19,20,21,22,23,24,25,26,27,28,29,30,31,32,33,34,35,36,37,38,39,40,41,42,43,44,45,46,47,48,49,50,51,52,53,54,55,56,57,58,59,60,61,62,63,64,65,66,67,68,69,70,71,72,73,74,75,76,77,78,79,80,81,82,83,84,85,86,87,88,89,90,91,92,93,94,95,96,97,98,99],\"colorscale\":[[0.0,\"rgb(228, 241, 225)\"],[0.16666666666666666,\"rgb(180, 217, 204)\"],[0.3333333333333333,\"rgb(137, 192, 182)\"],[0.5,\"rgb(99, 166, 160)\"],[0.6666666666666666,\"rgb(68, 140, 138)\"],[0.8333333333333334,\"rgb(40, 114, 116)\"],[1.0,\"rgb(13, 88, 95)\"]],\"line\":{\"width\":0}},\"name\":\"Mint\",\"orientation\":\"h\",\"x\":[1,1,1,1,1,1,1,1,1,1,1,1,1,1,1,1,1,1,1,1,1,1,1,1,1,1,1,1,1,1,1,1,1,1,1,1,1,1,1,1,1,1,1,1,1,1,1,1,1,1,1,1,1,1,1,1,1,1,1,1,1,1,1,1,1,1,1,1,1,1,1,1,1,1,1,1,1,1,1,1,1,1,1,1,1,1,1,1,1,1,1,1,1,1,1,1,1,1,1,1],\"y\":[\"Mint\",\"Mint\",\"Mint\",\"Mint\",\"Mint\",\"Mint\",\"Mint\",\"Mint\",\"Mint\",\"Mint\",\"Mint\",\"Mint\",\"Mint\",\"Mint\",\"Mint\",\"Mint\",\"Mint\",\"Mint\",\"Mint\",\"Mint\",\"Mint\",\"Mint\",\"Mint\",\"Mint\",\"Mint\",\"Mint\",\"Mint\",\"Mint\",\"Mint\",\"Mint\",\"Mint\",\"Mint\",\"Mint\",\"Mint\",\"Mint\",\"Mint\",\"Mint\",\"Mint\",\"Mint\",\"Mint\",\"Mint\",\"Mint\",\"Mint\",\"Mint\",\"Mint\",\"Mint\",\"Mint\",\"Mint\",\"Mint\",\"Mint\",\"Mint\",\"Mint\",\"Mint\",\"Mint\",\"Mint\",\"Mint\",\"Mint\",\"Mint\",\"Mint\",\"Mint\",\"Mint\",\"Mint\",\"Mint\",\"Mint\",\"Mint\",\"Mint\",\"Mint\",\"Mint\",\"Mint\",\"Mint\",\"Mint\",\"Mint\",\"Mint\",\"Mint\",\"Mint\",\"Mint\",\"Mint\",\"Mint\",\"Mint\",\"Mint\",\"Mint\",\"Mint\",\"Mint\",\"Mint\",\"Mint\",\"Mint\",\"Mint\",\"Mint\",\"Mint\",\"Mint\",\"Mint\",\"Mint\",\"Mint\",\"Mint\",\"Mint\",\"Mint\",\"Mint\",\"Mint\",\"Mint\",\"Mint\"],\"type\":\"bar\"},{\"customdata\":[0.01,0.02,0.03,0.04,0.05,0.06,0.07,0.08,0.09,0.1,0.11,0.12,0.13,0.14,0.15,0.16,0.17,0.18,0.19,0.2,0.21,0.22,0.23,0.24,0.25,0.26,0.27,0.28,0.29,0.3,0.31,0.32,0.33,0.34,0.35,0.36,0.37,0.38,0.39,0.4,0.41,0.42,0.43,0.44,0.45,0.46,0.47,0.48,0.49,0.5,0.51,0.52,0.53,0.54,0.55,0.56,0.57,0.58,0.59,0.6,0.61,0.62,0.63,0.64,0.65,0.66,0.67,0.68,0.69,0.7,0.71,0.72,0.73,0.74,0.75,0.76,0.77,0.78,0.79,0.8,0.81,0.82,0.83,0.84,0.85,0.86,0.87,0.88,0.89,0.9,0.91,0.92,0.93,0.94,0.95,0.96,0.97,0.98,0.99,1.0],\"hovertemplate\":\"%{customdata}\",\"marker\":{\"color\":[0,1,2,3,4,5,6,7,8,9,10,11,12,13,14,15,16,17,18,19,20,21,22,23,24,25,26,27,28,29,30,31,32,33,34,35,36,37,38,39,40,41,42,43,44,45,46,47,48,49,50,51,52,53,54,55,56,57,58,59,60,61,62,63,64,65,66,67,68,69,70,71,72,73,74,75,76,77,78,79,80,81,82,83,84,85,86,87,88,89,90,91,92,93,94,95,96,97,98,99],\"colorscale\":[[0.0,\"rgb(254, 246, 181)\"],[0.16666666666666666,\"rgb(255, 221, 154)\"],[0.3333333333333333,\"rgb(255, 194, 133)\"],[0.5,\"rgb(255, 166, 121)\"],[0.6666666666666666,\"rgb(250, 138, 118)\"],[0.8333333333333334,\"rgb(241, 109, 122)\"],[1.0,\"rgb(225, 83, 131)\"]],\"line\":{\"width\":0}},\"name\":\"Pinkyl\",\"orientation\":\"h\",\"x\":[1,1,1,1,1,1,1,1,1,1,1,1,1,1,1,1,1,1,1,1,1,1,1,1,1,1,1,1,1,1,1,1,1,1,1,1,1,1,1,1,1,1,1,1,1,1,1,1,1,1,1,1,1,1,1,1,1,1,1,1,1,1,1,1,1,1,1,1,1,1,1,1,1,1,1,1,1,1,1,1,1,1,1,1,1,1,1,1,1,1,1,1,1,1,1,1,1,1,1,1],\"y\":[\"Pinkyl\",\"Pinkyl\",\"Pinkyl\",\"Pinkyl\",\"Pinkyl\",\"Pinkyl\",\"Pinkyl\",\"Pinkyl\",\"Pinkyl\",\"Pinkyl\",\"Pinkyl\",\"Pinkyl\",\"Pinkyl\",\"Pinkyl\",\"Pinkyl\",\"Pinkyl\",\"Pinkyl\",\"Pinkyl\",\"Pinkyl\",\"Pinkyl\",\"Pinkyl\",\"Pinkyl\",\"Pinkyl\",\"Pinkyl\",\"Pinkyl\",\"Pinkyl\",\"Pinkyl\",\"Pinkyl\",\"Pinkyl\",\"Pinkyl\",\"Pinkyl\",\"Pinkyl\",\"Pinkyl\",\"Pinkyl\",\"Pinkyl\",\"Pinkyl\",\"Pinkyl\",\"Pinkyl\",\"Pinkyl\",\"Pinkyl\",\"Pinkyl\",\"Pinkyl\",\"Pinkyl\",\"Pinkyl\",\"Pinkyl\",\"Pinkyl\",\"Pinkyl\",\"Pinkyl\",\"Pinkyl\",\"Pinkyl\",\"Pinkyl\",\"Pinkyl\",\"Pinkyl\",\"Pinkyl\",\"Pinkyl\",\"Pinkyl\",\"Pinkyl\",\"Pinkyl\",\"Pinkyl\",\"Pinkyl\",\"Pinkyl\",\"Pinkyl\",\"Pinkyl\",\"Pinkyl\",\"Pinkyl\",\"Pinkyl\",\"Pinkyl\",\"Pinkyl\",\"Pinkyl\",\"Pinkyl\",\"Pinkyl\",\"Pinkyl\",\"Pinkyl\",\"Pinkyl\",\"Pinkyl\",\"Pinkyl\",\"Pinkyl\",\"Pinkyl\",\"Pinkyl\",\"Pinkyl\",\"Pinkyl\",\"Pinkyl\",\"Pinkyl\",\"Pinkyl\",\"Pinkyl\",\"Pinkyl\",\"Pinkyl\",\"Pinkyl\",\"Pinkyl\",\"Pinkyl\",\"Pinkyl\",\"Pinkyl\",\"Pinkyl\",\"Pinkyl\",\"Pinkyl\",\"Pinkyl\",\"Pinkyl\",\"Pinkyl\",\"Pinkyl\",\"Pinkyl\"],\"type\":\"bar\"},{\"customdata\":[0.01,0.02,0.03,0.04,0.05,0.06,0.07,0.08,0.09,0.1,0.11,0.12,0.13,0.14,0.15,0.16,0.17,0.18,0.19,0.2,0.21,0.22,0.23,0.24,0.25,0.26,0.27,0.28,0.29,0.3,0.31,0.32,0.33,0.34,0.35,0.36,0.37,0.38,0.39,0.4,0.41,0.42,0.43,0.44,0.45,0.46,0.47,0.48,0.49,0.5,0.51,0.52,0.53,0.54,0.55,0.56,0.57,0.58,0.59,0.6,0.61,0.62,0.63,0.64,0.65,0.66,0.67,0.68,0.69,0.7,0.71,0.72,0.73,0.74,0.75,0.76,0.77,0.78,0.79,0.8,0.81,0.82,0.83,0.84,0.85,0.86,0.87,0.88,0.89,0.9,0.91,0.92,0.93,0.94,0.95,0.96,0.97,0.98,0.99,1.0],\"hovertemplate\":\"%{customdata}\",\"marker\":{\"color\":[0,1,2,3,4,5,6,7,8,9,10,11,12,13,14,15,16,17,18,19,20,21,22,23,24,25,26,27,28,29,30,31,32,33,34,35,36,37,38,39,40,41,42,43,44,45,46,47,48,49,50,51,52,53,54,55,56,57,58,59,60,61,62,63,64,65,66,67,68,69,70,71,72,73,74,75,76,77,78,79,80,81,82,83,84,85,86,87,88,89,90,91,92,93,94,95,96,97,98,99],\"colorscale\":[[0.0,\"rgb(253, 224, 197)\"],[0.16666666666666666,\"rgb(250, 203, 166)\"],[0.3333333333333333,\"rgb(248, 181, 139)\"],[0.5,\"rgb(245, 158, 114)\"],[0.6666666666666666,\"rgb(242, 133, 93)\"],[0.8333333333333334,\"rgb(239, 106, 76)\"],[1.0,\"rgb(235, 74, 64)\"]],\"line\":{\"width\":0}},\"name\":\"Peach\",\"orientation\":\"h\",\"x\":[1,1,1,1,1,1,1,1,1,1,1,1,1,1,1,1,1,1,1,1,1,1,1,1,1,1,1,1,1,1,1,1,1,1,1,1,1,1,1,1,1,1,1,1,1,1,1,1,1,1,1,1,1,1,1,1,1,1,1,1,1,1,1,1,1,1,1,1,1,1,1,1,1,1,1,1,1,1,1,1,1,1,1,1,1,1,1,1,1,1,1,1,1,1,1,1,1,1,1,1],\"y\":[\"Peach\",\"Peach\",\"Peach\",\"Peach\",\"Peach\",\"Peach\",\"Peach\",\"Peach\",\"Peach\",\"Peach\",\"Peach\",\"Peach\",\"Peach\",\"Peach\",\"Peach\",\"Peach\",\"Peach\",\"Peach\",\"Peach\",\"Peach\",\"Peach\",\"Peach\",\"Peach\",\"Peach\",\"Peach\",\"Peach\",\"Peach\",\"Peach\",\"Peach\",\"Peach\",\"Peach\",\"Peach\",\"Peach\",\"Peach\",\"Peach\",\"Peach\",\"Peach\",\"Peach\",\"Peach\",\"Peach\",\"Peach\",\"Peach\",\"Peach\",\"Peach\",\"Peach\",\"Peach\",\"Peach\",\"Peach\",\"Peach\",\"Peach\",\"Peach\",\"Peach\",\"Peach\",\"Peach\",\"Peach\",\"Peach\",\"Peach\",\"Peach\",\"Peach\",\"Peach\",\"Peach\",\"Peach\",\"Peach\",\"Peach\",\"Peach\",\"Peach\",\"Peach\",\"Peach\",\"Peach\",\"Peach\",\"Peach\",\"Peach\",\"Peach\",\"Peach\",\"Peach\",\"Peach\",\"Peach\",\"Peach\",\"Peach\",\"Peach\",\"Peach\",\"Peach\",\"Peach\",\"Peach\",\"Peach\",\"Peach\",\"Peach\",\"Peach\",\"Peach\",\"Peach\",\"Peach\",\"Peach\",\"Peach\",\"Peach\",\"Peach\",\"Peach\",\"Peach\",\"Peach\",\"Peach\",\"Peach\"],\"type\":\"bar\"},{\"customdata\":[0.01,0.02,0.03,0.04,0.05,0.06,0.07,0.08,0.09,0.1,0.11,0.12,0.13,0.14,0.15,0.16,0.17,0.18,0.19,0.2,0.21,0.22,0.23,0.24,0.25,0.26,0.27,0.28,0.29,0.3,0.31,0.32,0.33,0.34,0.35,0.36,0.37,0.38,0.39,0.4,0.41,0.42,0.43,0.44,0.45,0.46,0.47,0.48,0.49,0.5,0.51,0.52,0.53,0.54,0.55,0.56,0.57,0.58,0.59,0.6,0.61,0.62,0.63,0.64,0.65,0.66,0.67,0.68,0.69,0.7,0.71,0.72,0.73,0.74,0.75,0.76,0.77,0.78,0.79,0.8,0.81,0.82,0.83,0.84,0.85,0.86,0.87,0.88,0.89,0.9,0.91,0.92,0.93,0.94,0.95,0.96,0.97,0.98,0.99,1.0],\"hovertemplate\":\"%{customdata}\",\"marker\":{\"color\":[0,1,2,3,4,5,6,7,8,9,10,11,12,13,14,15,16,17,18,19,20,21,22,23,24,25,26,27,28,29,30,31,32,33,34,35,36,37,38,39,40,41,42,43,44,45,46,47,48,49,50,51,52,53,54,55,56,57,58,59,60,61,62,63,64,65,66,67,68,69,70,71,72,73,74,75,76,77,78,79,80,81,82,83,84,85,86,87,88,89,90,91,92,93,94,95,96,97,98,99],\"colorscale\":[[0.0,\"rgb(236, 218, 154)\"],[0.16666666666666666,\"rgb(239, 196, 126)\"],[0.3333333333333333,\"rgb(243, 173, 106)\"],[0.5,\"rgb(247, 148, 93)\"],[0.6666666666666666,\"rgb(249, 123, 87)\"],[0.8333333333333334,\"rgb(246, 99, 86)\"],[1.0,\"rgb(238, 77, 90)\"]],\"line\":{\"width\":0}},\"name\":\"Oryel\",\"orientation\":\"h\",\"x\":[1,1,1,1,1,1,1,1,1,1,1,1,1,1,1,1,1,1,1,1,1,1,1,1,1,1,1,1,1,1,1,1,1,1,1,1,1,1,1,1,1,1,1,1,1,1,1,1,1,1,1,1,1,1,1,1,1,1,1,1,1,1,1,1,1,1,1,1,1,1,1,1,1,1,1,1,1,1,1,1,1,1,1,1,1,1,1,1,1,1,1,1,1,1,1,1,1,1,1,1],\"y\":[\"Oryel\",\"Oryel\",\"Oryel\",\"Oryel\",\"Oryel\",\"Oryel\",\"Oryel\",\"Oryel\",\"Oryel\",\"Oryel\",\"Oryel\",\"Oryel\",\"Oryel\",\"Oryel\",\"Oryel\",\"Oryel\",\"Oryel\",\"Oryel\",\"Oryel\",\"Oryel\",\"Oryel\",\"Oryel\",\"Oryel\",\"Oryel\",\"Oryel\",\"Oryel\",\"Oryel\",\"Oryel\",\"Oryel\",\"Oryel\",\"Oryel\",\"Oryel\",\"Oryel\",\"Oryel\",\"Oryel\",\"Oryel\",\"Oryel\",\"Oryel\",\"Oryel\",\"Oryel\",\"Oryel\",\"Oryel\",\"Oryel\",\"Oryel\",\"Oryel\",\"Oryel\",\"Oryel\",\"Oryel\",\"Oryel\",\"Oryel\",\"Oryel\",\"Oryel\",\"Oryel\",\"Oryel\",\"Oryel\",\"Oryel\",\"Oryel\",\"Oryel\",\"Oryel\",\"Oryel\",\"Oryel\",\"Oryel\",\"Oryel\",\"Oryel\",\"Oryel\",\"Oryel\",\"Oryel\",\"Oryel\",\"Oryel\",\"Oryel\",\"Oryel\",\"Oryel\",\"Oryel\",\"Oryel\",\"Oryel\",\"Oryel\",\"Oryel\",\"Oryel\",\"Oryel\",\"Oryel\",\"Oryel\",\"Oryel\",\"Oryel\",\"Oryel\",\"Oryel\",\"Oryel\",\"Oryel\",\"Oryel\",\"Oryel\",\"Oryel\",\"Oryel\",\"Oryel\",\"Oryel\",\"Oryel\",\"Oryel\",\"Oryel\",\"Oryel\",\"Oryel\",\"Oryel\",\"Oryel\"],\"type\":\"bar\"},{\"customdata\":[0.01,0.02,0.03,0.04,0.05,0.06,0.07,0.08,0.09,0.1,0.11,0.12,0.13,0.14,0.15,0.16,0.17,0.18,0.19,0.2,0.21,0.22,0.23,0.24,0.25,0.26,0.27,0.28,0.29,0.3,0.31,0.32,0.33,0.34,0.35,0.36,0.37,0.38,0.39,0.4,0.41,0.42,0.43,0.44,0.45,0.46,0.47,0.48,0.49,0.5,0.51,0.52,0.53,0.54,0.55,0.56,0.57,0.58,0.59,0.6,0.61,0.62,0.63,0.64,0.65,0.66,0.67,0.68,0.69,0.7,0.71,0.72,0.73,0.74,0.75,0.76,0.77,0.78,0.79,0.8,0.81,0.82,0.83,0.84,0.85,0.86,0.87,0.88,0.89,0.9,0.91,0.92,0.93,0.94,0.95,0.96,0.97,0.98,0.99,1.0],\"hovertemplate\":\"%{customdata}\",\"marker\":{\"color\":[0,1,2,3,4,5,6,7,8,9,10,11,12,13,14,15,16,17,18,19,20,21,22,23,24,25,26,27,28,29,30,31,32,33,34,35,36,37,38,39,40,41,42,43,44,45,46,47,48,49,50,51,52,53,54,55,56,57,58,59,60,61,62,63,64,65,66,67,68,69,70,71,72,73,74,75,76,77,78,79,80,81,82,83,84,85,86,87,88,89,90,91,92,93,94,95,96,97,98,99],\"colorscale\":[[0.0,\"rgb(246, 210, 169)\"],[0.16666666666666666,\"rgb(245, 183, 142)\"],[0.3333333333333333,\"rgb(241, 156, 124)\"],[0.5,\"rgb(234, 129, 113)\"],[0.6666666666666666,\"rgb(221, 104, 108)\"],[0.8333333333333334,\"rgb(202, 82, 104)\"],[1.0,\"rgb(177, 63, 100)\"]],\"line\":{\"width\":0}},\"name\":\"Redor\",\"orientation\":\"h\",\"x\":[1,1,1,1,1,1,1,1,1,1,1,1,1,1,1,1,1,1,1,1,1,1,1,1,1,1,1,1,1,1,1,1,1,1,1,1,1,1,1,1,1,1,1,1,1,1,1,1,1,1,1,1,1,1,1,1,1,1,1,1,1,1,1,1,1,1,1,1,1,1,1,1,1,1,1,1,1,1,1,1,1,1,1,1,1,1,1,1,1,1,1,1,1,1,1,1,1,1,1,1],\"y\":[\"Redor\",\"Redor\",\"Redor\",\"Redor\",\"Redor\",\"Redor\",\"Redor\",\"Redor\",\"Redor\",\"Redor\",\"Redor\",\"Redor\",\"Redor\",\"Redor\",\"Redor\",\"Redor\",\"Redor\",\"Redor\",\"Redor\",\"Redor\",\"Redor\",\"Redor\",\"Redor\",\"Redor\",\"Redor\",\"Redor\",\"Redor\",\"Redor\",\"Redor\",\"Redor\",\"Redor\",\"Redor\",\"Redor\",\"Redor\",\"Redor\",\"Redor\",\"Redor\",\"Redor\",\"Redor\",\"Redor\",\"Redor\",\"Redor\",\"Redor\",\"Redor\",\"Redor\",\"Redor\",\"Redor\",\"Redor\",\"Redor\",\"Redor\",\"Redor\",\"Redor\",\"Redor\",\"Redor\",\"Redor\",\"Redor\",\"Redor\",\"Redor\",\"Redor\",\"Redor\",\"Redor\",\"Redor\",\"Redor\",\"Redor\",\"Redor\",\"Redor\",\"Redor\",\"Redor\",\"Redor\",\"Redor\",\"Redor\",\"Redor\",\"Redor\",\"Redor\",\"Redor\",\"Redor\",\"Redor\",\"Redor\",\"Redor\",\"Redor\",\"Redor\",\"Redor\",\"Redor\",\"Redor\",\"Redor\",\"Redor\",\"Redor\",\"Redor\",\"Redor\",\"Redor\",\"Redor\",\"Redor\",\"Redor\",\"Redor\",\"Redor\",\"Redor\",\"Redor\",\"Redor\",\"Redor\",\"Redor\"],\"type\":\"bar\"},{\"customdata\":[0.01,0.02,0.03,0.04,0.05,0.06,0.07,0.08,0.09,0.1,0.11,0.12,0.13,0.14,0.15,0.16,0.17,0.18,0.19,0.2,0.21,0.22,0.23,0.24,0.25,0.26,0.27,0.28,0.29,0.3,0.31,0.32,0.33,0.34,0.35,0.36,0.37,0.38,0.39,0.4,0.41,0.42,0.43,0.44,0.45,0.46,0.47,0.48,0.49,0.5,0.51,0.52,0.53,0.54,0.55,0.56,0.57,0.58,0.59,0.6,0.61,0.62,0.63,0.64,0.65,0.66,0.67,0.68,0.69,0.7,0.71,0.72,0.73,0.74,0.75,0.76,0.77,0.78,0.79,0.8,0.81,0.82,0.83,0.84,0.85,0.86,0.87,0.88,0.89,0.9,0.91,0.92,0.93,0.94,0.95,0.96,0.97,0.98,0.99,1.0],\"hovertemplate\":\"%{customdata}\",\"marker\":{\"color\":[0,1,2,3,4,5,6,7,8,9,10,11,12,13,14,15,16,17,18,19,20,21,22,23,24,25,26,27,28,29,30,31,32,33,34,35,36,37,38,39,40,41,42,43,44,45,46,47,48,49,50,51,52,53,54,55,56,57,58,59,60,61,62,63,64,65,66,67,68,69,70,71,72,73,74,75,76,77,78,79,80,81,82,83,84,85,86,87,88,89,90,91,92,93,94,95,96,97,98,99],\"colorscale\":[[0.0,\"rgb(251, 230, 197)\"],[0.16666666666666666,\"rgb(245, 186, 152)\"],[0.3333333333333333,\"rgb(238, 138, 130)\"],[0.5,\"rgb(220, 113, 118)\"],[0.6666666666666666,\"rgb(200, 88, 108)\"],[0.8333333333333334,\"rgb(156, 63, 93)\"],[1.0,\"rgb(112, 40, 74)\"]],\"line\":{\"width\":0}},\"name\":\"Burgyl\",\"orientation\":\"h\",\"x\":[1,1,1,1,1,1,1,1,1,1,1,1,1,1,1,1,1,1,1,1,1,1,1,1,1,1,1,1,1,1,1,1,1,1,1,1,1,1,1,1,1,1,1,1,1,1,1,1,1,1,1,1,1,1,1,1,1,1,1,1,1,1,1,1,1,1,1,1,1,1,1,1,1,1,1,1,1,1,1,1,1,1,1,1,1,1,1,1,1,1,1,1,1,1,1,1,1,1,1,1],\"y\":[\"Burgyl\",\"Burgyl\",\"Burgyl\",\"Burgyl\",\"Burgyl\",\"Burgyl\",\"Burgyl\",\"Burgyl\",\"Burgyl\",\"Burgyl\",\"Burgyl\",\"Burgyl\",\"Burgyl\",\"Burgyl\",\"Burgyl\",\"Burgyl\",\"Burgyl\",\"Burgyl\",\"Burgyl\",\"Burgyl\",\"Burgyl\",\"Burgyl\",\"Burgyl\",\"Burgyl\",\"Burgyl\",\"Burgyl\",\"Burgyl\",\"Burgyl\",\"Burgyl\",\"Burgyl\",\"Burgyl\",\"Burgyl\",\"Burgyl\",\"Burgyl\",\"Burgyl\",\"Burgyl\",\"Burgyl\",\"Burgyl\",\"Burgyl\",\"Burgyl\",\"Burgyl\",\"Burgyl\",\"Burgyl\",\"Burgyl\",\"Burgyl\",\"Burgyl\",\"Burgyl\",\"Burgyl\",\"Burgyl\",\"Burgyl\",\"Burgyl\",\"Burgyl\",\"Burgyl\",\"Burgyl\",\"Burgyl\",\"Burgyl\",\"Burgyl\",\"Burgyl\",\"Burgyl\",\"Burgyl\",\"Burgyl\",\"Burgyl\",\"Burgyl\",\"Burgyl\",\"Burgyl\",\"Burgyl\",\"Burgyl\",\"Burgyl\",\"Burgyl\",\"Burgyl\",\"Burgyl\",\"Burgyl\",\"Burgyl\",\"Burgyl\",\"Burgyl\",\"Burgyl\",\"Burgyl\",\"Burgyl\",\"Burgyl\",\"Burgyl\",\"Burgyl\",\"Burgyl\",\"Burgyl\",\"Burgyl\",\"Burgyl\",\"Burgyl\",\"Burgyl\",\"Burgyl\",\"Burgyl\",\"Burgyl\",\"Burgyl\",\"Burgyl\",\"Burgyl\",\"Burgyl\",\"Burgyl\",\"Burgyl\",\"Burgyl\",\"Burgyl\",\"Burgyl\",\"Burgyl\"],\"type\":\"bar\"},{\"customdata\":[0.01,0.02,0.03,0.04,0.05,0.06,0.07,0.08,0.09,0.1,0.11,0.12,0.13,0.14,0.15,0.16,0.17,0.18,0.19,0.2,0.21,0.22,0.23,0.24,0.25,0.26,0.27,0.28,0.29,0.3,0.31,0.32,0.33,0.34,0.35,0.36,0.37,0.38,0.39,0.4,0.41,0.42,0.43,0.44,0.45,0.46,0.47,0.48,0.49,0.5,0.51,0.52,0.53,0.54,0.55,0.56,0.57,0.58,0.59,0.6,0.61,0.62,0.63,0.64,0.65,0.66,0.67,0.68,0.69,0.7,0.71,0.72,0.73,0.74,0.75,0.76,0.77,0.78,0.79,0.8,0.81,0.82,0.83,0.84,0.85,0.86,0.87,0.88,0.89,0.9,0.91,0.92,0.93,0.94,0.95,0.96,0.97,0.98,0.99,1.0],\"hovertemplate\":\"%{customdata}\",\"marker\":{\"color\":[0,1,2,3,4,5,6,7,8,9,10,11,12,13,14,15,16,17,18,19,20,21,22,23,24,25,26,27,28,29,30,31,32,33,34,35,36,37,38,39,40,41,42,43,44,45,46,47,48,49,50,51,52,53,54,55,56,57,58,59,60,61,62,63,64,65,66,67,68,69,70,71,72,73,74,75,76,77,78,79,80,81,82,83,84,85,86,87,88,89,90,91,92,93,94,95,96,97,98,99],\"colorscale\":[[0.0,\"rgb(255, 198, 196)\"],[0.16666666666666666,\"rgb(244, 163, 168)\"],[0.3333333333333333,\"rgb(227, 129, 145)\"],[0.5,\"rgb(204, 96, 125)\"],[0.6666666666666666,\"rgb(173, 70, 108)\"],[0.8333333333333334,\"rgb(139, 48, 88)\"],[1.0,\"rgb(103, 32, 68)\"]],\"line\":{\"width\":0}},\"name\":\"Burg\",\"orientation\":\"h\",\"x\":[1,1,1,1,1,1,1,1,1,1,1,1,1,1,1,1,1,1,1,1,1,1,1,1,1,1,1,1,1,1,1,1,1,1,1,1,1,1,1,1,1,1,1,1,1,1,1,1,1,1,1,1,1,1,1,1,1,1,1,1,1,1,1,1,1,1,1,1,1,1,1,1,1,1,1,1,1,1,1,1,1,1,1,1,1,1,1,1,1,1,1,1,1,1,1,1,1,1,1,1],\"y\":[\"Burg\",\"Burg\",\"Burg\",\"Burg\",\"Burg\",\"Burg\",\"Burg\",\"Burg\",\"Burg\",\"Burg\",\"Burg\",\"Burg\",\"Burg\",\"Burg\",\"Burg\",\"Burg\",\"Burg\",\"Burg\",\"Burg\",\"Burg\",\"Burg\",\"Burg\",\"Burg\",\"Burg\",\"Burg\",\"Burg\",\"Burg\",\"Burg\",\"Burg\",\"Burg\",\"Burg\",\"Burg\",\"Burg\",\"Burg\",\"Burg\",\"Burg\",\"Burg\",\"Burg\",\"Burg\",\"Burg\",\"Burg\",\"Burg\",\"Burg\",\"Burg\",\"Burg\",\"Burg\",\"Burg\",\"Burg\",\"Burg\",\"Burg\",\"Burg\",\"Burg\",\"Burg\",\"Burg\",\"Burg\",\"Burg\",\"Burg\",\"Burg\",\"Burg\",\"Burg\",\"Burg\",\"Burg\",\"Burg\",\"Burg\",\"Burg\",\"Burg\",\"Burg\",\"Burg\",\"Burg\",\"Burg\",\"Burg\",\"Burg\",\"Burg\",\"Burg\",\"Burg\",\"Burg\",\"Burg\",\"Burg\",\"Burg\",\"Burg\",\"Burg\",\"Burg\",\"Burg\",\"Burg\",\"Burg\",\"Burg\",\"Burg\",\"Burg\",\"Burg\",\"Burg\",\"Burg\",\"Burg\",\"Burg\",\"Burg\",\"Burg\",\"Burg\",\"Burg\",\"Burg\",\"Burg\",\"Burg\"],\"type\":\"bar\"},{\"customdata\":[0.01,0.02,0.03,0.04,0.05,0.06,0.07,0.08,0.09,0.1,0.11,0.12,0.13,0.14,0.15,0.16,0.17,0.18,0.19,0.2,0.21,0.22,0.23,0.24,0.25,0.26,0.27,0.28,0.29,0.3,0.31,0.32,0.33,0.34,0.35,0.36,0.37,0.38,0.39,0.4,0.41,0.42,0.43,0.44,0.45,0.46,0.47,0.48,0.49,0.5,0.51,0.52,0.53,0.54,0.55,0.56,0.57,0.58,0.59,0.6,0.61,0.62,0.63,0.64,0.65,0.66,0.67,0.68,0.69,0.7,0.71,0.72,0.73,0.74,0.75,0.76,0.77,0.78,0.79,0.8,0.81,0.82,0.83,0.84,0.85,0.86,0.87,0.88,0.89,0.9,0.91,0.92,0.93,0.94,0.95,0.96,0.97,0.98,0.99,1.0],\"hovertemplate\":\"%{customdata}\",\"marker\":{\"color\":[0,1,2,3,4,5,6,7,8,9,10,11,12,13,14,15,16,17,18,19,20,21,22,23,24,25,26,27,28,29,30,31,32,33,34,35,36,37,38,39,40,41,42,43,44,45,46,47,48,49,50,51,52,53,54,55,56,57,58,59,60,61,62,63,64,65,66,67,68,69,70,71,72,73,74,75,76,77,78,79,80,81,82,83,84,85,86,87,88,89,90,91,92,93,94,95,96,97,98,99],\"colorscale\":[[0.0,\"rgb(254, 245, 244)\"],[0.09090909090909091,\"rgb(222, 224, 210)\"],[0.18181818181818182,\"rgb(189, 206, 181)\"],[0.2727272727272727,\"rgb(153, 189, 156)\"],[0.36363636363636365,\"rgb(110, 173, 138)\"],[0.45454545454545453,\"rgb(65, 157, 129)\"],[0.5454545454545454,\"rgb(25, 137, 125)\"],[0.6363636363636364,\"rgb(18, 116, 117)\"],[0.7272727272727273,\"rgb(25, 94, 106)\"],[0.8181818181818182,\"rgb(28, 72, 93)\"],[0.9090909090909091,\"rgb(25, 51, 80)\"],[1.0,\"rgb(20, 29, 67)\"]],\"line\":{\"width\":0}},\"name\":\"tempo\",\"orientation\":\"h\",\"x\":[1,1,1,1,1,1,1,1,1,1,1,1,1,1,1,1,1,1,1,1,1,1,1,1,1,1,1,1,1,1,1,1,1,1,1,1,1,1,1,1,1,1,1,1,1,1,1,1,1,1,1,1,1,1,1,1,1,1,1,1,1,1,1,1,1,1,1,1,1,1,1,1,1,1,1,1,1,1,1,1,1,1,1,1,1,1,1,1,1,1,1,1,1,1,1,1,1,1,1,1],\"y\":[\"tempo\",\"tempo\",\"tempo\",\"tempo\",\"tempo\",\"tempo\",\"tempo\",\"tempo\",\"tempo\",\"tempo\",\"tempo\",\"tempo\",\"tempo\",\"tempo\",\"tempo\",\"tempo\",\"tempo\",\"tempo\",\"tempo\",\"tempo\",\"tempo\",\"tempo\",\"tempo\",\"tempo\",\"tempo\",\"tempo\",\"tempo\",\"tempo\",\"tempo\",\"tempo\",\"tempo\",\"tempo\",\"tempo\",\"tempo\",\"tempo\",\"tempo\",\"tempo\",\"tempo\",\"tempo\",\"tempo\",\"tempo\",\"tempo\",\"tempo\",\"tempo\",\"tempo\",\"tempo\",\"tempo\",\"tempo\",\"tempo\",\"tempo\",\"tempo\",\"tempo\",\"tempo\",\"tempo\",\"tempo\",\"tempo\",\"tempo\",\"tempo\",\"tempo\",\"tempo\",\"tempo\",\"tempo\",\"tempo\",\"tempo\",\"tempo\",\"tempo\",\"tempo\",\"tempo\",\"tempo\",\"tempo\",\"tempo\",\"tempo\",\"tempo\",\"tempo\",\"tempo\",\"tempo\",\"tempo\",\"tempo\",\"tempo\",\"tempo\",\"tempo\",\"tempo\",\"tempo\",\"tempo\",\"tempo\",\"tempo\",\"tempo\",\"tempo\",\"tempo\",\"tempo\",\"tempo\",\"tempo\",\"tempo\",\"tempo\",\"tempo\",\"tempo\",\"tempo\",\"tempo\",\"tempo\",\"tempo\"],\"type\":\"bar\"},{\"customdata\":[0.01,0.02,0.03,0.04,0.05,0.06,0.07,0.08,0.09,0.1,0.11,0.12,0.13,0.14,0.15,0.16,0.17,0.18,0.19,0.2,0.21,0.22,0.23,0.24,0.25,0.26,0.27,0.28,0.29,0.3,0.31,0.32,0.33,0.34,0.35,0.36,0.37,0.38,0.39,0.4,0.41,0.42,0.43,0.44,0.45,0.46,0.47,0.48,0.49,0.5,0.51,0.52,0.53,0.54,0.55,0.56,0.57,0.58,0.59,0.6,0.61,0.62,0.63,0.64,0.65,0.66,0.67,0.68,0.69,0.7,0.71,0.72,0.73,0.74,0.75,0.76,0.77,0.78,0.79,0.8,0.81,0.82,0.83,0.84,0.85,0.86,0.87,0.88,0.89,0.9,0.91,0.92,0.93,0.94,0.95,0.96,0.97,0.98,0.99,1.0],\"hovertemplate\":\"%{customdata}\",\"marker\":{\"color\":[0,1,2,3,4,5,6,7,8,9,10,11,12,13,14,15,16,17,18,19,20,21,22,23,24,25,26,27,28,29,30,31,32,33,34,35,36,37,38,39,40,41,42,43,44,45,46,47,48,49,50,51,52,53,54,55,56,57,58,59,60,61,62,63,64,65,66,67,68,69,70,71,72,73,74,75,76,77,78,79,80,81,82,83,84,85,86,87,88,89,90,91,92,93,94,95,96,97,98,99],\"colorscale\":[[0.0,\"rgb(241, 236, 236)\"],[0.09090909090909091,\"rgb(230, 209, 203)\"],[0.18181818181818182,\"rgb(221, 182, 170)\"],[0.2727272727272727,\"rgb(213, 156, 137)\"],[0.36363636363636365,\"rgb(205, 129, 103)\"],[0.45454545454545453,\"rgb(196, 102, 73)\"],[0.5454545454545454,\"rgb(186, 74, 47)\"],[0.6363636363636364,\"rgb(172, 44, 36)\"],[0.7272727272727273,\"rgb(149, 19, 39)\"],[0.8181818181818182,\"rgb(120, 14, 40)\"],[0.9090909090909091,\"rgb(89, 13, 31)\"],[1.0,\"rgb(60, 9, 17)\"]],\"line\":{\"width\":0}},\"name\":\"amp\",\"orientation\":\"h\",\"x\":[1,1,1,1,1,1,1,1,1,1,1,1,1,1,1,1,1,1,1,1,1,1,1,1,1,1,1,1,1,1,1,1,1,1,1,1,1,1,1,1,1,1,1,1,1,1,1,1,1,1,1,1,1,1,1,1,1,1,1,1,1,1,1,1,1,1,1,1,1,1,1,1,1,1,1,1,1,1,1,1,1,1,1,1,1,1,1,1,1,1,1,1,1,1,1,1,1,1,1,1],\"y\":[\"amp\",\"amp\",\"amp\",\"amp\",\"amp\",\"amp\",\"amp\",\"amp\",\"amp\",\"amp\",\"amp\",\"amp\",\"amp\",\"amp\",\"amp\",\"amp\",\"amp\",\"amp\",\"amp\",\"amp\",\"amp\",\"amp\",\"amp\",\"amp\",\"amp\",\"amp\",\"amp\",\"amp\",\"amp\",\"amp\",\"amp\",\"amp\",\"amp\",\"amp\",\"amp\",\"amp\",\"amp\",\"amp\",\"amp\",\"amp\",\"amp\",\"amp\",\"amp\",\"amp\",\"amp\",\"amp\",\"amp\",\"amp\",\"amp\",\"amp\",\"amp\",\"amp\",\"amp\",\"amp\",\"amp\",\"amp\",\"amp\",\"amp\",\"amp\",\"amp\",\"amp\",\"amp\",\"amp\",\"amp\",\"amp\",\"amp\",\"amp\",\"amp\",\"amp\",\"amp\",\"amp\",\"amp\",\"amp\",\"amp\",\"amp\",\"amp\",\"amp\",\"amp\",\"amp\",\"amp\",\"amp\",\"amp\",\"amp\",\"amp\",\"amp\",\"amp\",\"amp\",\"amp\",\"amp\",\"amp\",\"amp\",\"amp\",\"amp\",\"amp\",\"amp\",\"amp\",\"amp\",\"amp\",\"amp\",\"amp\"],\"type\":\"bar\"},{\"customdata\":[0.01,0.02,0.03,0.04,0.05,0.06,0.07,0.08,0.09,0.1,0.11,0.12,0.13,0.14,0.15,0.16,0.17,0.18,0.19,0.2,0.21,0.22,0.23,0.24,0.25,0.26,0.27,0.28,0.29,0.3,0.31,0.32,0.33,0.34,0.35,0.36,0.37,0.38,0.39,0.4,0.41,0.42,0.43,0.44,0.45,0.46,0.47,0.48,0.49,0.5,0.51,0.52,0.53,0.54,0.55,0.56,0.57,0.58,0.59,0.6,0.61,0.62,0.63,0.64,0.65,0.66,0.67,0.68,0.69,0.7,0.71,0.72,0.73,0.74,0.75,0.76,0.77,0.78,0.79,0.8,0.81,0.82,0.83,0.84,0.85,0.86,0.87,0.88,0.89,0.9,0.91,0.92,0.93,0.94,0.95,0.96,0.97,0.98,0.99,1.0],\"hovertemplate\":\"%{customdata}\",\"marker\":{\"color\":[0,1,2,3,4,5,6,7,8,9,10,11,12,13,14,15,16,17,18,19,20,21,22,23,24,25,26,27,28,29,30,31,32,33,34,35,36,37,38,39,40,41,42,43,44,45,46,47,48,49,50,51,52,53,54,55,56,57,58,59,60,61,62,63,64,65,66,67,68,69,70,71,72,73,74,75,76,77,78,79,80,81,82,83,84,85,86,87,88,89,90,91,92,93,94,95,96,97,98,99],\"colorscale\":[[0.0,\"rgb(254, 252, 205)\"],[0.09090909090909091,\"rgb(239, 225, 156)\"],[0.18181818181818182,\"rgb(221, 201, 106)\"],[0.2727272727272727,\"rgb(194, 182, 59)\"],[0.36363636363636365,\"rgb(157, 167, 21)\"],[0.45454545454545453,\"rgb(116, 153, 5)\"],[0.5454545454545454,\"rgb(75, 138, 20)\"],[0.6363636363636364,\"rgb(35, 121, 36)\"],[0.7272727272727273,\"rgb(11, 100, 44)\"],[0.8181818181818182,\"rgb(18, 78, 43)\"],[0.9090909090909091,\"rgb(25, 56, 34)\"],[1.0,\"rgb(23, 35, 18)\"]],\"line\":{\"width\":0}},\"name\":\"speed\",\"orientation\":\"h\",\"x\":[1,1,1,1,1,1,1,1,1,1,1,1,1,1,1,1,1,1,1,1,1,1,1,1,1,1,1,1,1,1,1,1,1,1,1,1,1,1,1,1,1,1,1,1,1,1,1,1,1,1,1,1,1,1,1,1,1,1,1,1,1,1,1,1,1,1,1,1,1,1,1,1,1,1,1,1,1,1,1,1,1,1,1,1,1,1,1,1,1,1,1,1,1,1,1,1,1,1,1,1],\"y\":[\"speed\",\"speed\",\"speed\",\"speed\",\"speed\",\"speed\",\"speed\",\"speed\",\"speed\",\"speed\",\"speed\",\"speed\",\"speed\",\"speed\",\"speed\",\"speed\",\"speed\",\"speed\",\"speed\",\"speed\",\"speed\",\"speed\",\"speed\",\"speed\",\"speed\",\"speed\",\"speed\",\"speed\",\"speed\",\"speed\",\"speed\",\"speed\",\"speed\",\"speed\",\"speed\",\"speed\",\"speed\",\"speed\",\"speed\",\"speed\",\"speed\",\"speed\",\"speed\",\"speed\",\"speed\",\"speed\",\"speed\",\"speed\",\"speed\",\"speed\",\"speed\",\"speed\",\"speed\",\"speed\",\"speed\",\"speed\",\"speed\",\"speed\",\"speed\",\"speed\",\"speed\",\"speed\",\"speed\",\"speed\",\"speed\",\"speed\",\"speed\",\"speed\",\"speed\",\"speed\",\"speed\",\"speed\",\"speed\",\"speed\",\"speed\",\"speed\",\"speed\",\"speed\",\"speed\",\"speed\",\"speed\",\"speed\",\"speed\",\"speed\",\"speed\",\"speed\",\"speed\",\"speed\",\"speed\",\"speed\",\"speed\",\"speed\",\"speed\",\"speed\",\"speed\",\"speed\",\"speed\",\"speed\",\"speed\",\"speed\"],\"type\":\"bar\"},{\"customdata\":[0.01,0.02,0.03,0.04,0.05,0.06,0.07,0.08,0.09,0.1,0.11,0.12,0.13,0.14,0.15,0.16,0.17,0.18,0.19,0.2,0.21,0.22,0.23,0.24,0.25,0.26,0.27,0.28,0.29,0.3,0.31,0.32,0.33,0.34,0.35,0.36,0.37,0.38,0.39,0.4,0.41,0.42,0.43,0.44,0.45,0.46,0.47,0.48,0.49,0.5,0.51,0.52,0.53,0.54,0.55,0.56,0.57,0.58,0.59,0.6,0.61,0.62,0.63,0.64,0.65,0.66,0.67,0.68,0.69,0.7,0.71,0.72,0.73,0.74,0.75,0.76,0.77,0.78,0.79,0.8,0.81,0.82,0.83,0.84,0.85,0.86,0.87,0.88,0.89,0.9,0.91,0.92,0.93,0.94,0.95,0.96,0.97,0.98,0.99,1.0],\"hovertemplate\":\"%{customdata}\",\"marker\":{\"color\":[0,1,2,3,4,5,6,7,8,9,10,11,12,13,14,15,16,17,18,19,20,21,22,23,24,25,26,27,28,29,30,31,32,33,34,35,36,37,38,39,40,41,42,43,44,45,46,47,48,49,50,51,52,53,54,55,56,57,58,59,60,61,62,63,64,65,66,67,68,69,70,71,72,73,74,75,76,77,78,79,80,81,82,83,84,85,86,87,88,89,90,91,92,93,94,95,96,97,98,99],\"colorscale\":[[0.0,\"rgb(253, 237, 176)\"],[0.09090909090909091,\"rgb(250, 205, 145)\"],[0.18181818181818182,\"rgb(246, 173, 119)\"],[0.2727272727272727,\"rgb(240, 142, 98)\"],[0.36363636363636365,\"rgb(231, 109, 84)\"],[0.45454545454545453,\"rgb(216, 80, 83)\"],[0.5454545454545454,\"rgb(195, 56, 90)\"],[0.6363636363636364,\"rgb(168, 40, 96)\"],[0.7272727272727273,\"rgb(138, 29, 99)\"],[0.8181818181818182,\"rgb(107, 24, 93)\"],[0.9090909090909091,\"rgb(76, 21, 80)\"],[1.0,\"rgb(47, 15, 61)\"]],\"line\":{\"width\":0}},\"name\":\"matter\",\"orientation\":\"h\",\"x\":[1,1,1,1,1,1,1,1,1,1,1,1,1,1,1,1,1,1,1,1,1,1,1,1,1,1,1,1,1,1,1,1,1,1,1,1,1,1,1,1,1,1,1,1,1,1,1,1,1,1,1,1,1,1,1,1,1,1,1,1,1,1,1,1,1,1,1,1,1,1,1,1,1,1,1,1,1,1,1,1,1,1,1,1,1,1,1,1,1,1,1,1,1,1,1,1,1,1,1,1],\"y\":[\"matter\",\"matter\",\"matter\",\"matter\",\"matter\",\"matter\",\"matter\",\"matter\",\"matter\",\"matter\",\"matter\",\"matter\",\"matter\",\"matter\",\"matter\",\"matter\",\"matter\",\"matter\",\"matter\",\"matter\",\"matter\",\"matter\",\"matter\",\"matter\",\"matter\",\"matter\",\"matter\",\"matter\",\"matter\",\"matter\",\"matter\",\"matter\",\"matter\",\"matter\",\"matter\",\"matter\",\"matter\",\"matter\",\"matter\",\"matter\",\"matter\",\"matter\",\"matter\",\"matter\",\"matter\",\"matter\",\"matter\",\"matter\",\"matter\",\"matter\",\"matter\",\"matter\",\"matter\",\"matter\",\"matter\",\"matter\",\"matter\",\"matter\",\"matter\",\"matter\",\"matter\",\"matter\",\"matter\",\"matter\",\"matter\",\"matter\",\"matter\",\"matter\",\"matter\",\"matter\",\"matter\",\"matter\",\"matter\",\"matter\",\"matter\",\"matter\",\"matter\",\"matter\",\"matter\",\"matter\",\"matter\",\"matter\",\"matter\",\"matter\",\"matter\",\"matter\",\"matter\",\"matter\",\"matter\",\"matter\",\"matter\",\"matter\",\"matter\",\"matter\",\"matter\",\"matter\",\"matter\",\"matter\",\"matter\",\"matter\"],\"type\":\"bar\"},{\"customdata\":[0.01,0.02,0.03,0.04,0.05,0.06,0.07,0.08,0.09,0.1,0.11,0.12,0.13,0.14,0.15,0.16,0.17,0.18,0.19,0.2,0.21,0.22,0.23,0.24,0.25,0.26,0.27,0.28,0.29,0.3,0.31,0.32,0.33,0.34,0.35,0.36,0.37,0.38,0.39,0.4,0.41,0.42,0.43,0.44,0.45,0.46,0.47,0.48,0.49,0.5,0.51,0.52,0.53,0.54,0.55,0.56,0.57,0.58,0.59,0.6,0.61,0.62,0.63,0.64,0.65,0.66,0.67,0.68,0.69,0.7,0.71,0.72,0.73,0.74,0.75,0.76,0.77,0.78,0.79,0.8,0.81,0.82,0.83,0.84,0.85,0.86,0.87,0.88,0.89,0.9,0.91,0.92,0.93,0.94,0.95,0.96,0.97,0.98,0.99,1.0],\"hovertemplate\":\"%{customdata}\",\"marker\":{\"color\":[0,1,2,3,4,5,6,7,8,9,10,11,12,13,14,15,16,17,18,19,20,21,22,23,24,25,26,27,28,29,30,31,32,33,34,35,36,37,38,39,40,41,42,43,44,45,46,47,48,49,50,51,52,53,54,55,56,57,58,59,60,61,62,63,64,65,66,67,68,69,70,71,72,73,74,75,76,77,78,79,80,81,82,83,84,85,86,87,88,89,90,91,92,93,94,95,96,97,98,99],\"colorscale\":[[0.0,\"rgb(214, 249, 207)\"],[0.09090909090909091,\"rgb(186, 228, 174)\"],[0.18181818181818182,\"rgb(156, 209, 143)\"],[0.2727272727272727,\"rgb(124, 191, 115)\"],[0.36363636363636365,\"rgb(85, 174, 91)\"],[0.45454545454545453,\"rgb(37, 157, 81)\"],[0.5454545454545454,\"rgb(7, 138, 78)\"],[0.6363636363636364,\"rgb(13, 117, 71)\"],[0.7272727272727273,\"rgb(23, 95, 61)\"],[0.8181818181818182,\"rgb(25, 75, 49)\"],[0.9090909090909091,\"rgb(23, 55, 35)\"],[1.0,\"rgb(17, 36, 20)\"]],\"line\":{\"width\":0}},\"name\":\"algae\",\"orientation\":\"h\",\"x\":[1,1,1,1,1,1,1,1,1,1,1,1,1,1,1,1,1,1,1,1,1,1,1,1,1,1,1,1,1,1,1,1,1,1,1,1,1,1,1,1,1,1,1,1,1,1,1,1,1,1,1,1,1,1,1,1,1,1,1,1,1,1,1,1,1,1,1,1,1,1,1,1,1,1,1,1,1,1,1,1,1,1,1,1,1,1,1,1,1,1,1,1,1,1,1,1,1,1,1,1],\"y\":[\"algae\",\"algae\",\"algae\",\"algae\",\"algae\",\"algae\",\"algae\",\"algae\",\"algae\",\"algae\",\"algae\",\"algae\",\"algae\",\"algae\",\"algae\",\"algae\",\"algae\",\"algae\",\"algae\",\"algae\",\"algae\",\"algae\",\"algae\",\"algae\",\"algae\",\"algae\",\"algae\",\"algae\",\"algae\",\"algae\",\"algae\",\"algae\",\"algae\",\"algae\",\"algae\",\"algae\",\"algae\",\"algae\",\"algae\",\"algae\",\"algae\",\"algae\",\"algae\",\"algae\",\"algae\",\"algae\",\"algae\",\"algae\",\"algae\",\"algae\",\"algae\",\"algae\",\"algae\",\"algae\",\"algae\",\"algae\",\"algae\",\"algae\",\"algae\",\"algae\",\"algae\",\"algae\",\"algae\",\"algae\",\"algae\",\"algae\",\"algae\",\"algae\",\"algae\",\"algae\",\"algae\",\"algae\",\"algae\",\"algae\",\"algae\",\"algae\",\"algae\",\"algae\",\"algae\",\"algae\",\"algae\",\"algae\",\"algae\",\"algae\",\"algae\",\"algae\",\"algae\",\"algae\",\"algae\",\"algae\",\"algae\",\"algae\",\"algae\",\"algae\",\"algae\",\"algae\",\"algae\",\"algae\",\"algae\",\"algae\"],\"type\":\"bar\"},{\"customdata\":[0.01,0.02,0.03,0.04,0.05,0.06,0.07,0.08,0.09,0.1,0.11,0.12,0.13,0.14,0.15,0.16,0.17,0.18,0.19,0.2,0.21,0.22,0.23,0.24,0.25,0.26,0.27,0.28,0.29,0.3,0.31,0.32,0.33,0.34,0.35,0.36,0.37,0.38,0.39,0.4,0.41,0.42,0.43,0.44,0.45,0.46,0.47,0.48,0.49,0.5,0.51,0.52,0.53,0.54,0.55,0.56,0.57,0.58,0.59,0.6,0.61,0.62,0.63,0.64,0.65,0.66,0.67,0.68,0.69,0.7,0.71,0.72,0.73,0.74,0.75,0.76,0.77,0.78,0.79,0.8,0.81,0.82,0.83,0.84,0.85,0.86,0.87,0.88,0.89,0.9,0.91,0.92,0.93,0.94,0.95,0.96,0.97,0.98,0.99,1.0],\"hovertemplate\":\"%{customdata}\",\"marker\":{\"color\":[0,1,2,3,4,5,6,7,8,9,10,11,12,13,14,15,16,17,18,19,20,21,22,23,24,25,26,27,28,29,30,31,32,33,34,35,36,37,38,39,40,41,42,43,44,45,46,47,48,49,50,51,52,53,54,55,56,57,58,59,60,61,62,63,64,65,66,67,68,69,70,71,72,73,74,75,76,77,78,79,80,81,82,83,84,85,86,87,88,89,90,91,92,93,94,95,96,97,98,99],\"colorscale\":[[0.0,\"rgb(230, 240, 240)\"],[0.09090909090909091,\"rgb(191, 221, 229)\"],[0.18181818181818182,\"rgb(156, 201, 226)\"],[0.2727272727272727,\"rgb(129, 180, 227)\"],[0.36363636363636365,\"rgb(115, 154, 228)\"],[0.45454545454545453,\"rgb(117, 127, 221)\"],[0.5454545454545454,\"rgb(120, 100, 202)\"],[0.6363636363636364,\"rgb(119, 74, 175)\"],[0.7272727272727273,\"rgb(113, 50, 141)\"],[0.8181818181818182,\"rgb(100, 31, 104)\"],[0.9090909090909091,\"rgb(80, 20, 66)\"],[1.0,\"rgb(54, 14, 36)\"]],\"line\":{\"width\":0}},\"name\":\"dense\",\"orientation\":\"h\",\"x\":[1,1,1,1,1,1,1,1,1,1,1,1,1,1,1,1,1,1,1,1,1,1,1,1,1,1,1,1,1,1,1,1,1,1,1,1,1,1,1,1,1,1,1,1,1,1,1,1,1,1,1,1,1,1,1,1,1,1,1,1,1,1,1,1,1,1,1,1,1,1,1,1,1,1,1,1,1,1,1,1,1,1,1,1,1,1,1,1,1,1,1,1,1,1,1,1,1,1,1,1],\"y\":[\"dense\",\"dense\",\"dense\",\"dense\",\"dense\",\"dense\",\"dense\",\"dense\",\"dense\",\"dense\",\"dense\",\"dense\",\"dense\",\"dense\",\"dense\",\"dense\",\"dense\",\"dense\",\"dense\",\"dense\",\"dense\",\"dense\",\"dense\",\"dense\",\"dense\",\"dense\",\"dense\",\"dense\",\"dense\",\"dense\",\"dense\",\"dense\",\"dense\",\"dense\",\"dense\",\"dense\",\"dense\",\"dense\",\"dense\",\"dense\",\"dense\",\"dense\",\"dense\",\"dense\",\"dense\",\"dense\",\"dense\",\"dense\",\"dense\",\"dense\",\"dense\",\"dense\",\"dense\",\"dense\",\"dense\",\"dense\",\"dense\",\"dense\",\"dense\",\"dense\",\"dense\",\"dense\",\"dense\",\"dense\",\"dense\",\"dense\",\"dense\",\"dense\",\"dense\",\"dense\",\"dense\",\"dense\",\"dense\",\"dense\",\"dense\",\"dense\",\"dense\",\"dense\",\"dense\",\"dense\",\"dense\",\"dense\",\"dense\",\"dense\",\"dense\",\"dense\",\"dense\",\"dense\",\"dense\",\"dense\",\"dense\",\"dense\",\"dense\",\"dense\",\"dense\",\"dense\",\"dense\",\"dense\",\"dense\",\"dense\"],\"type\":\"bar\"},{\"customdata\":[0.01,0.02,0.03,0.04,0.05,0.06,0.07,0.08,0.09,0.1,0.11,0.12,0.13,0.14,0.15,0.16,0.17,0.18,0.19,0.2,0.21,0.22,0.23,0.24,0.25,0.26,0.27,0.28,0.29,0.3,0.31,0.32,0.33,0.34,0.35,0.36,0.37,0.38,0.39,0.4,0.41,0.42,0.43,0.44,0.45,0.46,0.47,0.48,0.49,0.5,0.51,0.52,0.53,0.54,0.55,0.56,0.57,0.58,0.59,0.6,0.61,0.62,0.63,0.64,0.65,0.66,0.67,0.68,0.69,0.7,0.71,0.72,0.73,0.74,0.75,0.76,0.77,0.78,0.79,0.8,0.81,0.82,0.83,0.84,0.85,0.86,0.87,0.88,0.89,0.9,0.91,0.92,0.93,0.94,0.95,0.96,0.97,0.98,0.99,1.0],\"hovertemplate\":\"%{customdata}\",\"marker\":{\"color\":[0,1,2,3,4,5,6,7,8,9,10,11,12,13,14,15,16,17,18,19,20,21,22,23,24,25,26,27,28,29,30,31,32,33,34,35,36,37,38,39,40,41,42,43,44,45,46,47,48,49,50,51,52,53,54,55,56,57,58,59,60,61,62,63,64,65,66,67,68,69,70,71,72,73,74,75,76,77,78,79,80,81,82,83,84,85,86,87,88,89,90,91,92,93,94,95,96,97,98,99],\"colorscale\":[[0.0,\"rgb(253, 253, 204)\"],[0.09090909090909091,\"rgb(206, 236, 179)\"],[0.18181818181818182,\"rgb(156, 219, 165)\"],[0.2727272727272727,\"rgb(111, 201, 163)\"],[0.36363636363636365,\"rgb(86, 177, 163)\"],[0.45454545454545453,\"rgb(76, 153, 160)\"],[0.5454545454545454,\"rgb(68, 130, 155)\"],[0.6363636363636364,\"rgb(62, 108, 150)\"],[0.7272727272727273,\"rgb(62, 82, 143)\"],[0.8181818181818182,\"rgb(64, 60, 115)\"],[0.9090909090909091,\"rgb(54, 43, 77)\"],[1.0,\"rgb(39, 26, 44)\"]],\"line\":{\"width\":0}},\"name\":\"deep\",\"orientation\":\"h\",\"x\":[1,1,1,1,1,1,1,1,1,1,1,1,1,1,1,1,1,1,1,1,1,1,1,1,1,1,1,1,1,1,1,1,1,1,1,1,1,1,1,1,1,1,1,1,1,1,1,1,1,1,1,1,1,1,1,1,1,1,1,1,1,1,1,1,1,1,1,1,1,1,1,1,1,1,1,1,1,1,1,1,1,1,1,1,1,1,1,1,1,1,1,1,1,1,1,1,1,1,1,1],\"y\":[\"deep\",\"deep\",\"deep\",\"deep\",\"deep\",\"deep\",\"deep\",\"deep\",\"deep\",\"deep\",\"deep\",\"deep\",\"deep\",\"deep\",\"deep\",\"deep\",\"deep\",\"deep\",\"deep\",\"deep\",\"deep\",\"deep\",\"deep\",\"deep\",\"deep\",\"deep\",\"deep\",\"deep\",\"deep\",\"deep\",\"deep\",\"deep\",\"deep\",\"deep\",\"deep\",\"deep\",\"deep\",\"deep\",\"deep\",\"deep\",\"deep\",\"deep\",\"deep\",\"deep\",\"deep\",\"deep\",\"deep\",\"deep\",\"deep\",\"deep\",\"deep\",\"deep\",\"deep\",\"deep\",\"deep\",\"deep\",\"deep\",\"deep\",\"deep\",\"deep\",\"deep\",\"deep\",\"deep\",\"deep\",\"deep\",\"deep\",\"deep\",\"deep\",\"deep\",\"deep\",\"deep\",\"deep\",\"deep\",\"deep\",\"deep\",\"deep\",\"deep\",\"deep\",\"deep\",\"deep\",\"deep\",\"deep\",\"deep\",\"deep\",\"deep\",\"deep\",\"deep\",\"deep\",\"deep\",\"deep\",\"deep\",\"deep\",\"deep\",\"deep\",\"deep\",\"deep\",\"deep\",\"deep\",\"deep\",\"deep\"],\"type\":\"bar\"},{\"customdata\":[0.01,0.02,0.03,0.04,0.05,0.06,0.07,0.08,0.09,0.1,0.11,0.12,0.13,0.14,0.15,0.16,0.17,0.18,0.19,0.2,0.21,0.22,0.23,0.24,0.25,0.26,0.27,0.28,0.29,0.3,0.31,0.32,0.33,0.34,0.35,0.36,0.37,0.38,0.39,0.4,0.41,0.42,0.43,0.44,0.45,0.46,0.47,0.48,0.49,0.5,0.51,0.52,0.53,0.54,0.55,0.56,0.57,0.58,0.59,0.6,0.61,0.62,0.63,0.64,0.65,0.66,0.67,0.68,0.69,0.7,0.71,0.72,0.73,0.74,0.75,0.76,0.77,0.78,0.79,0.8,0.81,0.82,0.83,0.84,0.85,0.86,0.87,0.88,0.89,0.9,0.91,0.92,0.93,0.94,0.95,0.96,0.97,0.98,0.99,1.0],\"hovertemplate\":\"%{customdata}\",\"marker\":{\"color\":[0,1,2,3,4,5,6,7,8,9,10,11,12,13,14,15,16,17,18,19,20,21,22,23,24,25,26,27,28,29,30,31,32,33,34,35,36,37,38,39,40,41,42,43,44,45,46,47,48,49,50,51,52,53,54,55,56,57,58,59,60,61,62,63,64,65,66,67,68,69,70,71,72,73,74,75,76,77,78,79,80,81,82,83,84,85,86,87,88,89,90,91,92,93,94,95,96,97,98,99],\"colorscale\":[[0.0,\"rgb(0, 0, 0)\"],[0.09090909090909091,\"rgb(16, 16, 16)\"],[0.18181818181818182,\"rgb(38, 38, 38)\"],[0.2727272727272727,\"rgb(59, 59, 59)\"],[0.36363636363636365,\"rgb(81, 80, 80)\"],[0.45454545454545453,\"rgb(102, 101, 101)\"],[0.5454545454545454,\"rgb(124, 123, 122)\"],[0.6363636363636364,\"rgb(146, 146, 145)\"],[0.7272727272727273,\"rgb(171, 171, 170)\"],[0.8181818181818182,\"rgb(197, 197, 195)\"],[0.9090909090909091,\"rgb(224, 224, 223)\"],[1.0,\"rgb(254, 254, 253)\"]],\"line\":{\"width\":0}},\"name\":\"gray\",\"orientation\":\"h\",\"x\":[1,1,1,1,1,1,1,1,1,1,1,1,1,1,1,1,1,1,1,1,1,1,1,1,1,1,1,1,1,1,1,1,1,1,1,1,1,1,1,1,1,1,1,1,1,1,1,1,1,1,1,1,1,1,1,1,1,1,1,1,1,1,1,1,1,1,1,1,1,1,1,1,1,1,1,1,1,1,1,1,1,1,1,1,1,1,1,1,1,1,1,1,1,1,1,1,1,1,1,1],\"y\":[\"gray\",\"gray\",\"gray\",\"gray\",\"gray\",\"gray\",\"gray\",\"gray\",\"gray\",\"gray\",\"gray\",\"gray\",\"gray\",\"gray\",\"gray\",\"gray\",\"gray\",\"gray\",\"gray\",\"gray\",\"gray\",\"gray\",\"gray\",\"gray\",\"gray\",\"gray\",\"gray\",\"gray\",\"gray\",\"gray\",\"gray\",\"gray\",\"gray\",\"gray\",\"gray\",\"gray\",\"gray\",\"gray\",\"gray\",\"gray\",\"gray\",\"gray\",\"gray\",\"gray\",\"gray\",\"gray\",\"gray\",\"gray\",\"gray\",\"gray\",\"gray\",\"gray\",\"gray\",\"gray\",\"gray\",\"gray\",\"gray\",\"gray\",\"gray\",\"gray\",\"gray\",\"gray\",\"gray\",\"gray\",\"gray\",\"gray\",\"gray\",\"gray\",\"gray\",\"gray\",\"gray\",\"gray\",\"gray\",\"gray\",\"gray\",\"gray\",\"gray\",\"gray\",\"gray\",\"gray\",\"gray\",\"gray\",\"gray\",\"gray\",\"gray\",\"gray\",\"gray\",\"gray\",\"gray\",\"gray\",\"gray\",\"gray\",\"gray\",\"gray\",\"gray\",\"gray\",\"gray\",\"gray\",\"gray\",\"gray\"],\"type\":\"bar\"},{\"customdata\":[0.01,0.02,0.03,0.04,0.05,0.06,0.07,0.08,0.09,0.1,0.11,0.12,0.13,0.14,0.15,0.16,0.17,0.18,0.19,0.2,0.21,0.22,0.23,0.24,0.25,0.26,0.27,0.28,0.29,0.3,0.31,0.32,0.33,0.34,0.35,0.36,0.37,0.38,0.39,0.4,0.41,0.42,0.43,0.44,0.45,0.46,0.47,0.48,0.49,0.5,0.51,0.52,0.53,0.54,0.55,0.56,0.57,0.58,0.59,0.6,0.61,0.62,0.63,0.64,0.65,0.66,0.67,0.68,0.69,0.7,0.71,0.72,0.73,0.74,0.75,0.76,0.77,0.78,0.79,0.8,0.81,0.82,0.83,0.84,0.85,0.86,0.87,0.88,0.89,0.9,0.91,0.92,0.93,0.94,0.95,0.96,0.97,0.98,0.99,1.0],\"hovertemplate\":\"%{customdata}\",\"marker\":{\"color\":[0,1,2,3,4,5,6,7,8,9,10,11,12,13,14,15,16,17,18,19,20,21,22,23,24,25,26,27,28,29,30,31,32,33,34,35,36,37,38,39,40,41,42,43,44,45,46,47,48,49,50,51,52,53,54,55,56,57,58,59,60,61,62,63,64,65,66,67,68,69,70,71,72,73,74,75,76,77,78,79,80,81,82,83,84,85,86,87,88,89,90,91,92,93,94,95,96,97,98,99],\"colorscale\":[[0.0,\"rgb(3, 5, 18)\"],[0.09090909090909091,\"rgb(25, 25, 51)\"],[0.18181818181818182,\"rgb(44, 42, 87)\"],[0.2727272727272727,\"rgb(58, 60, 125)\"],[0.36363636363636365,\"rgb(62, 83, 160)\"],[0.45454545454545453,\"rgb(62, 109, 178)\"],[0.5454545454545454,\"rgb(72, 134, 187)\"],[0.6363636363636364,\"rgb(89, 159, 196)\"],[0.7272727272727273,\"rgb(114, 184, 205)\"],[0.8181818181818182,\"rgb(149, 207, 216)\"],[0.9090909090909091,\"rgb(192, 229, 232)\"],[1.0,\"rgb(234, 252, 253)\"]],\"line\":{\"width\":0}},\"name\":\"ice\",\"orientation\":\"h\",\"x\":[1,1,1,1,1,1,1,1,1,1,1,1,1,1,1,1,1,1,1,1,1,1,1,1,1,1,1,1,1,1,1,1,1,1,1,1,1,1,1,1,1,1,1,1,1,1,1,1,1,1,1,1,1,1,1,1,1,1,1,1,1,1,1,1,1,1,1,1,1,1,1,1,1,1,1,1,1,1,1,1,1,1,1,1,1,1,1,1,1,1,1,1,1,1,1,1,1,1,1,1],\"y\":[\"ice\",\"ice\",\"ice\",\"ice\",\"ice\",\"ice\",\"ice\",\"ice\",\"ice\",\"ice\",\"ice\",\"ice\",\"ice\",\"ice\",\"ice\",\"ice\",\"ice\",\"ice\",\"ice\",\"ice\",\"ice\",\"ice\",\"ice\",\"ice\",\"ice\",\"ice\",\"ice\",\"ice\",\"ice\",\"ice\",\"ice\",\"ice\",\"ice\",\"ice\",\"ice\",\"ice\",\"ice\",\"ice\",\"ice\",\"ice\",\"ice\",\"ice\",\"ice\",\"ice\",\"ice\",\"ice\",\"ice\",\"ice\",\"ice\",\"ice\",\"ice\",\"ice\",\"ice\",\"ice\",\"ice\",\"ice\",\"ice\",\"ice\",\"ice\",\"ice\",\"ice\",\"ice\",\"ice\",\"ice\",\"ice\",\"ice\",\"ice\",\"ice\",\"ice\",\"ice\",\"ice\",\"ice\",\"ice\",\"ice\",\"ice\",\"ice\",\"ice\",\"ice\",\"ice\",\"ice\",\"ice\",\"ice\",\"ice\",\"ice\",\"ice\",\"ice\",\"ice\",\"ice\",\"ice\",\"ice\",\"ice\",\"ice\",\"ice\",\"ice\",\"ice\",\"ice\",\"ice\",\"ice\",\"ice\",\"ice\"],\"type\":\"bar\"},{\"customdata\":[0.01,0.02,0.03,0.04,0.05,0.06,0.07,0.08,0.09,0.1,0.11,0.12,0.13,0.14,0.15,0.16,0.17,0.18,0.19,0.2,0.21,0.22,0.23,0.24,0.25,0.26,0.27,0.28,0.29,0.3,0.31,0.32,0.33,0.34,0.35,0.36,0.37,0.38,0.39,0.4,0.41,0.42,0.43,0.44,0.45,0.46,0.47,0.48,0.49,0.5,0.51,0.52,0.53,0.54,0.55,0.56,0.57,0.58,0.59,0.6,0.61,0.62,0.63,0.64,0.65,0.66,0.67,0.68,0.69,0.7,0.71,0.72,0.73,0.74,0.75,0.76,0.77,0.78,0.79,0.8,0.81,0.82,0.83,0.84,0.85,0.86,0.87,0.88,0.89,0.9,0.91,0.92,0.93,0.94,0.95,0.96,0.97,0.98,0.99,1.0],\"hovertemplate\":\"%{customdata}\",\"marker\":{\"color\":[0,1,2,3,4,5,6,7,8,9,10,11,12,13,14,15,16,17,18,19,20,21,22,23,24,25,26,27,28,29,30,31,32,33,34,35,36,37,38,39,40,41,42,43,44,45,46,47,48,49,50,51,52,53,54,55,56,57,58,59,60,61,62,63,64,65,66,67,68,69,70,71,72,73,74,75,76,77,78,79,80,81,82,83,84,85,86,87,88,89,90,91,92,93,94,95,96,97,98,99],\"colorscale\":[[0.0,\"rgb(51, 19, 23)\"],[0.09090909090909091,\"rgb(79, 28, 33)\"],[0.18181818181818182,\"rgb(108, 36, 36)\"],[0.2727272727272727,\"rgb(135, 47, 32)\"],[0.36363636363636365,\"rgb(157, 66, 25)\"],[0.45454545454545453,\"rgb(174, 88, 20)\"],[0.5454545454545454,\"rgb(188, 111, 19)\"],[0.6363636363636364,\"rgb(199, 137, 22)\"],[0.7272727272727273,\"rgb(209, 164, 32)\"],[0.8181818181818182,\"rgb(217, 192, 44)\"],[0.9090909090909091,\"rgb(222, 222, 59)\"],[1.0,\"rgb(224, 253, 74)\"]],\"line\":{\"width\":0}},\"name\":\"solar\",\"orientation\":\"h\",\"x\":[1,1,1,1,1,1,1,1,1,1,1,1,1,1,1,1,1,1,1,1,1,1,1,1,1,1,1,1,1,1,1,1,1,1,1,1,1,1,1,1,1,1,1,1,1,1,1,1,1,1,1,1,1,1,1,1,1,1,1,1,1,1,1,1,1,1,1,1,1,1,1,1,1,1,1,1,1,1,1,1,1,1,1,1,1,1,1,1,1,1,1,1,1,1,1,1,1,1,1,1],\"y\":[\"solar\",\"solar\",\"solar\",\"solar\",\"solar\",\"solar\",\"solar\",\"solar\",\"solar\",\"solar\",\"solar\",\"solar\",\"solar\",\"solar\",\"solar\",\"solar\",\"solar\",\"solar\",\"solar\",\"solar\",\"solar\",\"solar\",\"solar\",\"solar\",\"solar\",\"solar\",\"solar\",\"solar\",\"solar\",\"solar\",\"solar\",\"solar\",\"solar\",\"solar\",\"solar\",\"solar\",\"solar\",\"solar\",\"solar\",\"solar\",\"solar\",\"solar\",\"solar\",\"solar\",\"solar\",\"solar\",\"solar\",\"solar\",\"solar\",\"solar\",\"solar\",\"solar\",\"solar\",\"solar\",\"solar\",\"solar\",\"solar\",\"solar\",\"solar\",\"solar\",\"solar\",\"solar\",\"solar\",\"solar\",\"solar\",\"solar\",\"solar\",\"solar\",\"solar\",\"solar\",\"solar\",\"solar\",\"solar\",\"solar\",\"solar\",\"solar\",\"solar\",\"solar\",\"solar\",\"solar\",\"solar\",\"solar\",\"solar\",\"solar\",\"solar\",\"solar\",\"solar\",\"solar\",\"solar\",\"solar\",\"solar\",\"solar\",\"solar\",\"solar\",\"solar\",\"solar\",\"solar\",\"solar\",\"solar\",\"solar\"],\"type\":\"bar\"},{\"customdata\":[0.01,0.02,0.03,0.04,0.05,0.06,0.07,0.08,0.09,0.1,0.11,0.12,0.13,0.14,0.15,0.16,0.17,0.18,0.19,0.2,0.21,0.22,0.23,0.24,0.25,0.26,0.27,0.28,0.29,0.3,0.31,0.32,0.33,0.34,0.35,0.36,0.37,0.38,0.39,0.4,0.41,0.42,0.43,0.44,0.45,0.46,0.47,0.48,0.49,0.5,0.51,0.52,0.53,0.54,0.55,0.56,0.57,0.58,0.59,0.6,0.61,0.62,0.63,0.64,0.65,0.66,0.67,0.68,0.69,0.7,0.71,0.72,0.73,0.74,0.75,0.76,0.77,0.78,0.79,0.8,0.81,0.82,0.83,0.84,0.85,0.86,0.87,0.88,0.89,0.9,0.91,0.92,0.93,0.94,0.95,0.96,0.97,0.98,0.99,1.0],\"hovertemplate\":\"%{customdata}\",\"marker\":{\"color\":[0,1,2,3,4,5,6,7,8,9,10,11,12,13,14,15,16,17,18,19,20,21,22,23,24,25,26,27,28,29,30,31,32,33,34,35,36,37,38,39,40,41,42,43,44,45,46,47,48,49,50,51,52,53,54,55,56,57,58,59,60,61,62,63,64,65,66,67,68,69,70,71,72,73,74,75,76,77,78,79,80,81,82,83,84,85,86,87,88,89,90,91,92,93,94,95,96,97,98,99],\"colorscale\":[[0.0,\"rgb(41, 24, 107)\"],[0.09090909090909091,\"rgb(42, 35, 160)\"],[0.18181818181818182,\"rgb(15, 71, 153)\"],[0.2727272727272727,\"rgb(18, 95, 142)\"],[0.36363636363636365,\"rgb(38, 116, 137)\"],[0.45454545454545453,\"rgb(53, 136, 136)\"],[0.5454545454545454,\"rgb(65, 157, 133)\"],[0.6363636363636364,\"rgb(81, 178, 124)\"],[0.7272727272727273,\"rgb(111, 198, 107)\"],[0.8181818181818182,\"rgb(160, 214, 91)\"],[0.9090909090909091,\"rgb(212, 225, 112)\"],[1.0,\"rgb(253, 238, 153)\"]],\"line\":{\"width\":0}},\"name\":\"haline\",\"orientation\":\"h\",\"x\":[1,1,1,1,1,1,1,1,1,1,1,1,1,1,1,1,1,1,1,1,1,1,1,1,1,1,1,1,1,1,1,1,1,1,1,1,1,1,1,1,1,1,1,1,1,1,1,1,1,1,1,1,1,1,1,1,1,1,1,1,1,1,1,1,1,1,1,1,1,1,1,1,1,1,1,1,1,1,1,1,1,1,1,1,1,1,1,1,1,1,1,1,1,1,1,1,1,1,1,1],\"y\":[\"haline\",\"haline\",\"haline\",\"haline\",\"haline\",\"haline\",\"haline\",\"haline\",\"haline\",\"haline\",\"haline\",\"haline\",\"haline\",\"haline\",\"haline\",\"haline\",\"haline\",\"haline\",\"haline\",\"haline\",\"haline\",\"haline\",\"haline\",\"haline\",\"haline\",\"haline\",\"haline\",\"haline\",\"haline\",\"haline\",\"haline\",\"haline\",\"haline\",\"haline\",\"haline\",\"haline\",\"haline\",\"haline\",\"haline\",\"haline\",\"haline\",\"haline\",\"haline\",\"haline\",\"haline\",\"haline\",\"haline\",\"haline\",\"haline\",\"haline\",\"haline\",\"haline\",\"haline\",\"haline\",\"haline\",\"haline\",\"haline\",\"haline\",\"haline\",\"haline\",\"haline\",\"haline\",\"haline\",\"haline\",\"haline\",\"haline\",\"haline\",\"haline\",\"haline\",\"haline\",\"haline\",\"haline\",\"haline\",\"haline\",\"haline\",\"haline\",\"haline\",\"haline\",\"haline\",\"haline\",\"haline\",\"haline\",\"haline\",\"haline\",\"haline\",\"haline\",\"haline\",\"haline\",\"haline\",\"haline\",\"haline\",\"haline\",\"haline\",\"haline\",\"haline\",\"haline\",\"haline\",\"haline\",\"haline\",\"haline\"],\"type\":\"bar\"},{\"customdata\":[0.01,0.02,0.03,0.04,0.05,0.06,0.07,0.08,0.09,0.1,0.11,0.12,0.13,0.14,0.15,0.16,0.17,0.18,0.19,0.2,0.21,0.22,0.23,0.24,0.25,0.26,0.27,0.28,0.29,0.3,0.31,0.32,0.33,0.34,0.35,0.36,0.37,0.38,0.39,0.4,0.41,0.42,0.43,0.44,0.45,0.46,0.47,0.48,0.49,0.5,0.51,0.52,0.53,0.54,0.55,0.56,0.57,0.58,0.59,0.6,0.61,0.62,0.63,0.64,0.65,0.66,0.67,0.68,0.69,0.7,0.71,0.72,0.73,0.74,0.75,0.76,0.77,0.78,0.79,0.8,0.81,0.82,0.83,0.84,0.85,0.86,0.87,0.88,0.89,0.9,0.91,0.92,0.93,0.94,0.95,0.96,0.97,0.98,0.99,1.0],\"hovertemplate\":\"%{customdata}\",\"marker\":{\"color\":[0,1,2,3,4,5,6,7,8,9,10,11,12,13,14,15,16,17,18,19,20,21,22,23,24,25,26,27,28,29,30,31,32,33,34,35,36,37,38,39,40,41,42,43,44,45,46,47,48,49,50,51,52,53,54,55,56,57,58,59,60,61,62,63,64,65,66,67,68,69,70,71,72,73,74,75,76,77,78,79,80,81,82,83,84,85,86,87,88,89,90,91,92,93,94,95,96,97,98,99],\"colorscale\":[[0.0,\"rgb(3, 35, 51)\"],[0.09090909090909091,\"rgb(13, 48, 100)\"],[0.18181818181818182,\"rgb(53, 50, 155)\"],[0.2727272727272727,\"rgb(93, 62, 153)\"],[0.36363636363636365,\"rgb(126, 77, 143)\"],[0.45454545454545453,\"rgb(158, 89, 135)\"],[0.5454545454545454,\"rgb(193, 100, 121)\"],[0.6363636363636364,\"rgb(225, 113, 97)\"],[0.7272727272727273,\"rgb(246, 139, 69)\"],[0.8181818181818182,\"rgb(251, 173, 60)\"],[0.9090909090909091,\"rgb(246, 211, 70)\"],[1.0,\"rgb(231, 250, 90)\"]],\"line\":{\"width\":0}},\"name\":\"thermal\",\"orientation\":\"h\",\"x\":[1,1,1,1,1,1,1,1,1,1,1,1,1,1,1,1,1,1,1,1,1,1,1,1,1,1,1,1,1,1,1,1,1,1,1,1,1,1,1,1,1,1,1,1,1,1,1,1,1,1,1,1,1,1,1,1,1,1,1,1,1,1,1,1,1,1,1,1,1,1,1,1,1,1,1,1,1,1,1,1,1,1,1,1,1,1,1,1,1,1,1,1,1,1,1,1,1,1,1,1],\"y\":[\"thermal\",\"thermal\",\"thermal\",\"thermal\",\"thermal\",\"thermal\",\"thermal\",\"thermal\",\"thermal\",\"thermal\",\"thermal\",\"thermal\",\"thermal\",\"thermal\",\"thermal\",\"thermal\",\"thermal\",\"thermal\",\"thermal\",\"thermal\",\"thermal\",\"thermal\",\"thermal\",\"thermal\",\"thermal\",\"thermal\",\"thermal\",\"thermal\",\"thermal\",\"thermal\",\"thermal\",\"thermal\",\"thermal\",\"thermal\",\"thermal\",\"thermal\",\"thermal\",\"thermal\",\"thermal\",\"thermal\",\"thermal\",\"thermal\",\"thermal\",\"thermal\",\"thermal\",\"thermal\",\"thermal\",\"thermal\",\"thermal\",\"thermal\",\"thermal\",\"thermal\",\"thermal\",\"thermal\",\"thermal\",\"thermal\",\"thermal\",\"thermal\",\"thermal\",\"thermal\",\"thermal\",\"thermal\",\"thermal\",\"thermal\",\"thermal\",\"thermal\",\"thermal\",\"thermal\",\"thermal\",\"thermal\",\"thermal\",\"thermal\",\"thermal\",\"thermal\",\"thermal\",\"thermal\",\"thermal\",\"thermal\",\"thermal\",\"thermal\",\"thermal\",\"thermal\",\"thermal\",\"thermal\",\"thermal\",\"thermal\",\"thermal\",\"thermal\",\"thermal\",\"thermal\",\"thermal\",\"thermal\",\"thermal\",\"thermal\",\"thermal\",\"thermal\",\"thermal\",\"thermal\",\"thermal\",\"thermal\"],\"type\":\"bar\"},{\"customdata\":[0.01,0.02,0.03,0.04,0.05,0.06,0.07,0.08,0.09,0.1,0.11,0.12,0.13,0.14,0.15,0.16,0.17,0.18,0.19,0.2,0.21,0.22,0.23,0.24,0.25,0.26,0.27,0.28,0.29,0.3,0.31,0.32,0.33,0.34,0.35,0.36,0.37,0.38,0.39,0.4,0.41,0.42,0.43,0.44,0.45,0.46,0.47,0.48,0.49,0.5,0.51,0.52,0.53,0.54,0.55,0.56,0.57,0.58,0.59,0.6,0.61,0.62,0.63,0.64,0.65,0.66,0.67,0.68,0.69,0.7,0.71,0.72,0.73,0.74,0.75,0.76,0.77,0.78,0.79,0.8,0.81,0.82,0.83,0.84,0.85,0.86,0.87,0.88,0.89,0.9,0.91,0.92,0.93,0.94,0.95,0.96,0.97,0.98,0.99,1.0],\"hovertemplate\":\"%{customdata}\",\"marker\":{\"color\":[0,1,2,3,4,5,6,7,8,9,10,11,12,13,14,15,16,17,18,19,20,21,22,23,24,25,26,27,28,29,30,31,32,33,34,35,36,37,38,39,40,41,42,43,44,45,46,47,48,49,50,51,52,53,54,55,56,57,58,59,60,61,62,63,64,65,66,67,68,69,70,71,72,73,74,75,76,77,78,79,80,81,82,83,84,85,86,87,88,89,90,91,92,93,94,95,96,97,98,99],\"colorscale\":[[0.0,\"rgb(232, 245, 171)\"],[0.09090909090909091,\"rgb(220, 219, 137)\"],[0.18181818181818182,\"rgb(209, 193, 107)\"],[0.2727272727272727,\"rgb(199, 168, 83)\"],[0.36363636363636365,\"rgb(186, 143, 66)\"],[0.45454545454545453,\"rgb(170, 121, 60)\"],[0.5454545454545454,\"rgb(151, 103, 58)\"],[0.6363636363636364,\"rgb(129, 87, 56)\"],[0.7272727272727273,\"rgb(104, 72, 53)\"],[0.8181818181818182,\"rgb(80, 59, 46)\"],[0.9090909090909091,\"rgb(57, 45, 37)\"],[1.0,\"rgb(34, 30, 27)\"]],\"line\":{\"width\":0}},\"name\":\"turbid\",\"orientation\":\"h\",\"x\":[1,1,1,1,1,1,1,1,1,1,1,1,1,1,1,1,1,1,1,1,1,1,1,1,1,1,1,1,1,1,1,1,1,1,1,1,1,1,1,1,1,1,1,1,1,1,1,1,1,1,1,1,1,1,1,1,1,1,1,1,1,1,1,1,1,1,1,1,1,1,1,1,1,1,1,1,1,1,1,1,1,1,1,1,1,1,1,1,1,1,1,1,1,1,1,1,1,1,1,1],\"y\":[\"turbid\",\"turbid\",\"turbid\",\"turbid\",\"turbid\",\"turbid\",\"turbid\",\"turbid\",\"turbid\",\"turbid\",\"turbid\",\"turbid\",\"turbid\",\"turbid\",\"turbid\",\"turbid\",\"turbid\",\"turbid\",\"turbid\",\"turbid\",\"turbid\",\"turbid\",\"turbid\",\"turbid\",\"turbid\",\"turbid\",\"turbid\",\"turbid\",\"turbid\",\"turbid\",\"turbid\",\"turbid\",\"turbid\",\"turbid\",\"turbid\",\"turbid\",\"turbid\",\"turbid\",\"turbid\",\"turbid\",\"turbid\",\"turbid\",\"turbid\",\"turbid\",\"turbid\",\"turbid\",\"turbid\",\"turbid\",\"turbid\",\"turbid\",\"turbid\",\"turbid\",\"turbid\",\"turbid\",\"turbid\",\"turbid\",\"turbid\",\"turbid\",\"turbid\",\"turbid\",\"turbid\",\"turbid\",\"turbid\",\"turbid\",\"turbid\",\"turbid\",\"turbid\",\"turbid\",\"turbid\",\"turbid\",\"turbid\",\"turbid\",\"turbid\",\"turbid\",\"turbid\",\"turbid\",\"turbid\",\"turbid\",\"turbid\",\"turbid\",\"turbid\",\"turbid\",\"turbid\",\"turbid\",\"turbid\",\"turbid\",\"turbid\",\"turbid\",\"turbid\",\"turbid\",\"turbid\",\"turbid\",\"turbid\",\"turbid\",\"turbid\",\"turbid\",\"turbid\",\"turbid\",\"turbid\",\"turbid\"],\"type\":\"bar\"},{\"customdata\":[0.01,0.02,0.03,0.04,0.05,0.06,0.07,0.08,0.09,0.1,0.11,0.12,0.13,0.14,0.15,0.16,0.17,0.18,0.19,0.2,0.21,0.22,0.23,0.24,0.25,0.26,0.27,0.28,0.29,0.3,0.31,0.32,0.33,0.34,0.35,0.36,0.37,0.38,0.39,0.4,0.41,0.42,0.43,0.44,0.45,0.46,0.47,0.48,0.49,0.5,0.51,0.52,0.53,0.54,0.55,0.56,0.57,0.58,0.59,0.6,0.61,0.62,0.63,0.64,0.65,0.66,0.67,0.68,0.69,0.7,0.71,0.72,0.73,0.74,0.75,0.76,0.77,0.78,0.79,0.8,0.81,0.82,0.83,0.84,0.85,0.86,0.87,0.88,0.89,0.9,0.91,0.92,0.93,0.94,0.95,0.96,0.97,0.98,0.99,1.0],\"hovertemplate\":\"%{customdata}\",\"marker\":{\"color\":[0,1,2,3,4,5,6,7,8,9,10,11,12,13,14,15,16,17,18,19,20,21,22,23,24,25,26,27,28,29,30,31,32,33,34,35,36,37,38,39,40,41,42,43,44,45,46,47,48,49,50,51,52,53,54,55,56,57,58,59,60,61,62,63,64,65,66,67,68,69,70,71,72,73,74,75,76,77,78,79,80,81,82,83,84,85,86,87,88,89,90,91,92,93,94,95,96,97,98,99],\"colorscale\":[[0.0,\"rgb(255,255,204)\"],[0.125,\"rgb(255,237,160)\"],[0.25,\"rgb(254,217,118)\"],[0.375,\"rgb(254,178,76)\"],[0.5,\"rgb(253,141,60)\"],[0.625,\"rgb(252,78,42)\"],[0.75,\"rgb(227,26,28)\"],[0.875,\"rgb(189,0,38)\"],[1.0,\"rgb(128,0,38)\"]],\"line\":{\"width\":0}},\"name\":\"YlOrRd\",\"orientation\":\"h\",\"x\":[1,1,1,1,1,1,1,1,1,1,1,1,1,1,1,1,1,1,1,1,1,1,1,1,1,1,1,1,1,1,1,1,1,1,1,1,1,1,1,1,1,1,1,1,1,1,1,1,1,1,1,1,1,1,1,1,1,1,1,1,1,1,1,1,1,1,1,1,1,1,1,1,1,1,1,1,1,1,1,1,1,1,1,1,1,1,1,1,1,1,1,1,1,1,1,1,1,1,1,1],\"y\":[\"YlOrRd\",\"YlOrRd\",\"YlOrRd\",\"YlOrRd\",\"YlOrRd\",\"YlOrRd\",\"YlOrRd\",\"YlOrRd\",\"YlOrRd\",\"YlOrRd\",\"YlOrRd\",\"YlOrRd\",\"YlOrRd\",\"YlOrRd\",\"YlOrRd\",\"YlOrRd\",\"YlOrRd\",\"YlOrRd\",\"YlOrRd\",\"YlOrRd\",\"YlOrRd\",\"YlOrRd\",\"YlOrRd\",\"YlOrRd\",\"YlOrRd\",\"YlOrRd\",\"YlOrRd\",\"YlOrRd\",\"YlOrRd\",\"YlOrRd\",\"YlOrRd\",\"YlOrRd\",\"YlOrRd\",\"YlOrRd\",\"YlOrRd\",\"YlOrRd\",\"YlOrRd\",\"YlOrRd\",\"YlOrRd\",\"YlOrRd\",\"YlOrRd\",\"YlOrRd\",\"YlOrRd\",\"YlOrRd\",\"YlOrRd\",\"YlOrRd\",\"YlOrRd\",\"YlOrRd\",\"YlOrRd\",\"YlOrRd\",\"YlOrRd\",\"YlOrRd\",\"YlOrRd\",\"YlOrRd\",\"YlOrRd\",\"YlOrRd\",\"YlOrRd\",\"YlOrRd\",\"YlOrRd\",\"YlOrRd\",\"YlOrRd\",\"YlOrRd\",\"YlOrRd\",\"YlOrRd\",\"YlOrRd\",\"YlOrRd\",\"YlOrRd\",\"YlOrRd\",\"YlOrRd\",\"YlOrRd\",\"YlOrRd\",\"YlOrRd\",\"YlOrRd\",\"YlOrRd\",\"YlOrRd\",\"YlOrRd\",\"YlOrRd\",\"YlOrRd\",\"YlOrRd\",\"YlOrRd\",\"YlOrRd\",\"YlOrRd\",\"YlOrRd\",\"YlOrRd\",\"YlOrRd\",\"YlOrRd\",\"YlOrRd\",\"YlOrRd\",\"YlOrRd\",\"YlOrRd\",\"YlOrRd\",\"YlOrRd\",\"YlOrRd\",\"YlOrRd\",\"YlOrRd\",\"YlOrRd\",\"YlOrRd\",\"YlOrRd\",\"YlOrRd\",\"YlOrRd\"],\"type\":\"bar\"},{\"customdata\":[0.01,0.02,0.03,0.04,0.05,0.06,0.07,0.08,0.09,0.1,0.11,0.12,0.13,0.14,0.15,0.16,0.17,0.18,0.19,0.2,0.21,0.22,0.23,0.24,0.25,0.26,0.27,0.28,0.29,0.3,0.31,0.32,0.33,0.34,0.35,0.36,0.37,0.38,0.39,0.4,0.41,0.42,0.43,0.44,0.45,0.46,0.47,0.48,0.49,0.5,0.51,0.52,0.53,0.54,0.55,0.56,0.57,0.58,0.59,0.6,0.61,0.62,0.63,0.64,0.65,0.66,0.67,0.68,0.69,0.7,0.71,0.72,0.73,0.74,0.75,0.76,0.77,0.78,0.79,0.8,0.81,0.82,0.83,0.84,0.85,0.86,0.87,0.88,0.89,0.9,0.91,0.92,0.93,0.94,0.95,0.96,0.97,0.98,0.99,1.0],\"hovertemplate\":\"%{customdata}\",\"marker\":{\"color\":[0,1,2,3,4,5,6,7,8,9,10,11,12,13,14,15,16,17,18,19,20,21,22,23,24,25,26,27,28,29,30,31,32,33,34,35,36,37,38,39,40,41,42,43,44,45,46,47,48,49,50,51,52,53,54,55,56,57,58,59,60,61,62,63,64,65,66,67,68,69,70,71,72,73,74,75,76,77,78,79,80,81,82,83,84,85,86,87,88,89,90,91,92,93,94,95,96,97,98,99],\"colorscale\":[[0.0,\"rgb(255,255,229)\"],[0.125,\"rgb(255,247,188)\"],[0.25,\"rgb(254,227,145)\"],[0.375,\"rgb(254,196,79)\"],[0.5,\"rgb(254,153,41)\"],[0.625,\"rgb(236,112,20)\"],[0.75,\"rgb(204,76,2)\"],[0.875,\"rgb(153,52,4)\"],[1.0,\"rgb(102,37,6)\"]],\"line\":{\"width\":0}},\"name\":\"YlOrBr\",\"orientation\":\"h\",\"x\":[1,1,1,1,1,1,1,1,1,1,1,1,1,1,1,1,1,1,1,1,1,1,1,1,1,1,1,1,1,1,1,1,1,1,1,1,1,1,1,1,1,1,1,1,1,1,1,1,1,1,1,1,1,1,1,1,1,1,1,1,1,1,1,1,1,1,1,1,1,1,1,1,1,1,1,1,1,1,1,1,1,1,1,1,1,1,1,1,1,1,1,1,1,1,1,1,1,1,1,1],\"y\":[\"YlOrBr\",\"YlOrBr\",\"YlOrBr\",\"YlOrBr\",\"YlOrBr\",\"YlOrBr\",\"YlOrBr\",\"YlOrBr\",\"YlOrBr\",\"YlOrBr\",\"YlOrBr\",\"YlOrBr\",\"YlOrBr\",\"YlOrBr\",\"YlOrBr\",\"YlOrBr\",\"YlOrBr\",\"YlOrBr\",\"YlOrBr\",\"YlOrBr\",\"YlOrBr\",\"YlOrBr\",\"YlOrBr\",\"YlOrBr\",\"YlOrBr\",\"YlOrBr\",\"YlOrBr\",\"YlOrBr\",\"YlOrBr\",\"YlOrBr\",\"YlOrBr\",\"YlOrBr\",\"YlOrBr\",\"YlOrBr\",\"YlOrBr\",\"YlOrBr\",\"YlOrBr\",\"YlOrBr\",\"YlOrBr\",\"YlOrBr\",\"YlOrBr\",\"YlOrBr\",\"YlOrBr\",\"YlOrBr\",\"YlOrBr\",\"YlOrBr\",\"YlOrBr\",\"YlOrBr\",\"YlOrBr\",\"YlOrBr\",\"YlOrBr\",\"YlOrBr\",\"YlOrBr\",\"YlOrBr\",\"YlOrBr\",\"YlOrBr\",\"YlOrBr\",\"YlOrBr\",\"YlOrBr\",\"YlOrBr\",\"YlOrBr\",\"YlOrBr\",\"YlOrBr\",\"YlOrBr\",\"YlOrBr\",\"YlOrBr\",\"YlOrBr\",\"YlOrBr\",\"YlOrBr\",\"YlOrBr\",\"YlOrBr\",\"YlOrBr\",\"YlOrBr\",\"YlOrBr\",\"YlOrBr\",\"YlOrBr\",\"YlOrBr\",\"YlOrBr\",\"YlOrBr\",\"YlOrBr\",\"YlOrBr\",\"YlOrBr\",\"YlOrBr\",\"YlOrBr\",\"YlOrBr\",\"YlOrBr\",\"YlOrBr\",\"YlOrBr\",\"YlOrBr\",\"YlOrBr\",\"YlOrBr\",\"YlOrBr\",\"YlOrBr\",\"YlOrBr\",\"YlOrBr\",\"YlOrBr\",\"YlOrBr\",\"YlOrBr\",\"YlOrBr\",\"YlOrBr\"],\"type\":\"bar\"},{\"customdata\":[0.01,0.02,0.03,0.04,0.05,0.06,0.07,0.08,0.09,0.1,0.11,0.12,0.13,0.14,0.15,0.16,0.17,0.18,0.19,0.2,0.21,0.22,0.23,0.24,0.25,0.26,0.27,0.28,0.29,0.3,0.31,0.32,0.33,0.34,0.35,0.36,0.37,0.38,0.39,0.4,0.41,0.42,0.43,0.44,0.45,0.46,0.47,0.48,0.49,0.5,0.51,0.52,0.53,0.54,0.55,0.56,0.57,0.58,0.59,0.6,0.61,0.62,0.63,0.64,0.65,0.66,0.67,0.68,0.69,0.7,0.71,0.72,0.73,0.74,0.75,0.76,0.77,0.78,0.79,0.8,0.81,0.82,0.83,0.84,0.85,0.86,0.87,0.88,0.89,0.9,0.91,0.92,0.93,0.94,0.95,0.96,0.97,0.98,0.99,1.0],\"hovertemplate\":\"%{customdata}\",\"marker\":{\"color\":[0,1,2,3,4,5,6,7,8,9,10,11,12,13,14,15,16,17,18,19,20,21,22,23,24,25,26,27,28,29,30,31,32,33,34,35,36,37,38,39,40,41,42,43,44,45,46,47,48,49,50,51,52,53,54,55,56,57,58,59,60,61,62,63,64,65,66,67,68,69,70,71,72,73,74,75,76,77,78,79,80,81,82,83,84,85,86,87,88,89,90,91,92,93,94,95,96,97,98,99],\"colorscale\":[[0.0,\"rgb(255,255,217)\"],[0.125,\"rgb(237,248,177)\"],[0.25,\"rgb(199,233,180)\"],[0.375,\"rgb(127,205,187)\"],[0.5,\"rgb(65,182,196)\"],[0.625,\"rgb(29,145,192)\"],[0.75,\"rgb(34,94,168)\"],[0.875,\"rgb(37,52,148)\"],[1.0,\"rgb(8,29,88)\"]],\"line\":{\"width\":0}},\"name\":\"YlGnBu\",\"orientation\":\"h\",\"x\":[1,1,1,1,1,1,1,1,1,1,1,1,1,1,1,1,1,1,1,1,1,1,1,1,1,1,1,1,1,1,1,1,1,1,1,1,1,1,1,1,1,1,1,1,1,1,1,1,1,1,1,1,1,1,1,1,1,1,1,1,1,1,1,1,1,1,1,1,1,1,1,1,1,1,1,1,1,1,1,1,1,1,1,1,1,1,1,1,1,1,1,1,1,1,1,1,1,1,1,1],\"y\":[\"YlGnBu\",\"YlGnBu\",\"YlGnBu\",\"YlGnBu\",\"YlGnBu\",\"YlGnBu\",\"YlGnBu\",\"YlGnBu\",\"YlGnBu\",\"YlGnBu\",\"YlGnBu\",\"YlGnBu\",\"YlGnBu\",\"YlGnBu\",\"YlGnBu\",\"YlGnBu\",\"YlGnBu\",\"YlGnBu\",\"YlGnBu\",\"YlGnBu\",\"YlGnBu\",\"YlGnBu\",\"YlGnBu\",\"YlGnBu\",\"YlGnBu\",\"YlGnBu\",\"YlGnBu\",\"YlGnBu\",\"YlGnBu\",\"YlGnBu\",\"YlGnBu\",\"YlGnBu\",\"YlGnBu\",\"YlGnBu\",\"YlGnBu\",\"YlGnBu\",\"YlGnBu\",\"YlGnBu\",\"YlGnBu\",\"YlGnBu\",\"YlGnBu\",\"YlGnBu\",\"YlGnBu\",\"YlGnBu\",\"YlGnBu\",\"YlGnBu\",\"YlGnBu\",\"YlGnBu\",\"YlGnBu\",\"YlGnBu\",\"YlGnBu\",\"YlGnBu\",\"YlGnBu\",\"YlGnBu\",\"YlGnBu\",\"YlGnBu\",\"YlGnBu\",\"YlGnBu\",\"YlGnBu\",\"YlGnBu\",\"YlGnBu\",\"YlGnBu\",\"YlGnBu\",\"YlGnBu\",\"YlGnBu\",\"YlGnBu\",\"YlGnBu\",\"YlGnBu\",\"YlGnBu\",\"YlGnBu\",\"YlGnBu\",\"YlGnBu\",\"YlGnBu\",\"YlGnBu\",\"YlGnBu\",\"YlGnBu\",\"YlGnBu\",\"YlGnBu\",\"YlGnBu\",\"YlGnBu\",\"YlGnBu\",\"YlGnBu\",\"YlGnBu\",\"YlGnBu\",\"YlGnBu\",\"YlGnBu\",\"YlGnBu\",\"YlGnBu\",\"YlGnBu\",\"YlGnBu\",\"YlGnBu\",\"YlGnBu\",\"YlGnBu\",\"YlGnBu\",\"YlGnBu\",\"YlGnBu\",\"YlGnBu\",\"YlGnBu\",\"YlGnBu\",\"YlGnBu\"],\"type\":\"bar\"},{\"customdata\":[0.01,0.02,0.03,0.04,0.05,0.06,0.07,0.08,0.09,0.1,0.11,0.12,0.13,0.14,0.15,0.16,0.17,0.18,0.19,0.2,0.21,0.22,0.23,0.24,0.25,0.26,0.27,0.28,0.29,0.3,0.31,0.32,0.33,0.34,0.35,0.36,0.37,0.38,0.39,0.4,0.41,0.42,0.43,0.44,0.45,0.46,0.47,0.48,0.49,0.5,0.51,0.52,0.53,0.54,0.55,0.56,0.57,0.58,0.59,0.6,0.61,0.62,0.63,0.64,0.65,0.66,0.67,0.68,0.69,0.7,0.71,0.72,0.73,0.74,0.75,0.76,0.77,0.78,0.79,0.8,0.81,0.82,0.83,0.84,0.85,0.86,0.87,0.88,0.89,0.9,0.91,0.92,0.93,0.94,0.95,0.96,0.97,0.98,0.99,1.0],\"hovertemplate\":\"%{customdata}\",\"marker\":{\"color\":[0,1,2,3,4,5,6,7,8,9,10,11,12,13,14,15,16,17,18,19,20,21,22,23,24,25,26,27,28,29,30,31,32,33,34,35,36,37,38,39,40,41,42,43,44,45,46,47,48,49,50,51,52,53,54,55,56,57,58,59,60,61,62,63,64,65,66,67,68,69,70,71,72,73,74,75,76,77,78,79,80,81,82,83,84,85,86,87,88,89,90,91,92,93,94,95,96,97,98,99],\"colorscale\":[[0.0,\"rgb(255,255,229)\"],[0.125,\"rgb(247,252,185)\"],[0.25,\"rgb(217,240,163)\"],[0.375,\"rgb(173,221,142)\"],[0.5,\"rgb(120,198,121)\"],[0.625,\"rgb(65,171,93)\"],[0.75,\"rgb(35,132,67)\"],[0.875,\"rgb(0,104,55)\"],[1.0,\"rgb(0,69,41)\"]],\"line\":{\"width\":0}},\"name\":\"YlGn\",\"orientation\":\"h\",\"x\":[1,1,1,1,1,1,1,1,1,1,1,1,1,1,1,1,1,1,1,1,1,1,1,1,1,1,1,1,1,1,1,1,1,1,1,1,1,1,1,1,1,1,1,1,1,1,1,1,1,1,1,1,1,1,1,1,1,1,1,1,1,1,1,1,1,1,1,1,1,1,1,1,1,1,1,1,1,1,1,1,1,1,1,1,1,1,1,1,1,1,1,1,1,1,1,1,1,1,1,1],\"y\":[\"YlGn\",\"YlGn\",\"YlGn\",\"YlGn\",\"YlGn\",\"YlGn\",\"YlGn\",\"YlGn\",\"YlGn\",\"YlGn\",\"YlGn\",\"YlGn\",\"YlGn\",\"YlGn\",\"YlGn\",\"YlGn\",\"YlGn\",\"YlGn\",\"YlGn\",\"YlGn\",\"YlGn\",\"YlGn\",\"YlGn\",\"YlGn\",\"YlGn\",\"YlGn\",\"YlGn\",\"YlGn\",\"YlGn\",\"YlGn\",\"YlGn\",\"YlGn\",\"YlGn\",\"YlGn\",\"YlGn\",\"YlGn\",\"YlGn\",\"YlGn\",\"YlGn\",\"YlGn\",\"YlGn\",\"YlGn\",\"YlGn\",\"YlGn\",\"YlGn\",\"YlGn\",\"YlGn\",\"YlGn\",\"YlGn\",\"YlGn\",\"YlGn\",\"YlGn\",\"YlGn\",\"YlGn\",\"YlGn\",\"YlGn\",\"YlGn\",\"YlGn\",\"YlGn\",\"YlGn\",\"YlGn\",\"YlGn\",\"YlGn\",\"YlGn\",\"YlGn\",\"YlGn\",\"YlGn\",\"YlGn\",\"YlGn\",\"YlGn\",\"YlGn\",\"YlGn\",\"YlGn\",\"YlGn\",\"YlGn\",\"YlGn\",\"YlGn\",\"YlGn\",\"YlGn\",\"YlGn\",\"YlGn\",\"YlGn\",\"YlGn\",\"YlGn\",\"YlGn\",\"YlGn\",\"YlGn\",\"YlGn\",\"YlGn\",\"YlGn\",\"YlGn\",\"YlGn\",\"YlGn\",\"YlGn\",\"YlGn\",\"YlGn\",\"YlGn\",\"YlGn\",\"YlGn\",\"YlGn\"],\"type\":\"bar\"},{\"customdata\":[0.01,0.02,0.03,0.04,0.05,0.06,0.07,0.08,0.09,0.1,0.11,0.12,0.13,0.14,0.15,0.16,0.17,0.18,0.19,0.2,0.21,0.22,0.23,0.24,0.25,0.26,0.27,0.28,0.29,0.3,0.31,0.32,0.33,0.34,0.35,0.36,0.37,0.38,0.39,0.4,0.41,0.42,0.43,0.44,0.45,0.46,0.47,0.48,0.49,0.5,0.51,0.52,0.53,0.54,0.55,0.56,0.57,0.58,0.59,0.6,0.61,0.62,0.63,0.64,0.65,0.66,0.67,0.68,0.69,0.7,0.71,0.72,0.73,0.74,0.75,0.76,0.77,0.78,0.79,0.8,0.81,0.82,0.83,0.84,0.85,0.86,0.87,0.88,0.89,0.9,0.91,0.92,0.93,0.94,0.95,0.96,0.97,0.98,0.99,1.0],\"hovertemplate\":\"%{customdata}\",\"marker\":{\"color\":[0,1,2,3,4,5,6,7,8,9,10,11,12,13,14,15,16,17,18,19,20,21,22,23,24,25,26,27,28,29,30,31,32,33,34,35,36,37,38,39,40,41,42,43,44,45,46,47,48,49,50,51,52,53,54,55,56,57,58,59,60,61,62,63,64,65,66,67,68,69,70,71,72,73,74,75,76,77,78,79,80,81,82,83,84,85,86,87,88,89,90,91,92,93,94,95,96,97,98,99],\"colorscale\":[[0.0,\"rgb(255,245,240)\"],[0.125,\"rgb(254,224,210)\"],[0.25,\"rgb(252,187,161)\"],[0.375,\"rgb(252,146,114)\"],[0.5,\"rgb(251,106,74)\"],[0.625,\"rgb(239,59,44)\"],[0.75,\"rgb(203,24,29)\"],[0.875,\"rgb(165,15,21)\"],[1.0,\"rgb(103,0,13)\"]],\"line\":{\"width\":0}},\"name\":\"Reds\",\"orientation\":\"h\",\"x\":[1,1,1,1,1,1,1,1,1,1,1,1,1,1,1,1,1,1,1,1,1,1,1,1,1,1,1,1,1,1,1,1,1,1,1,1,1,1,1,1,1,1,1,1,1,1,1,1,1,1,1,1,1,1,1,1,1,1,1,1,1,1,1,1,1,1,1,1,1,1,1,1,1,1,1,1,1,1,1,1,1,1,1,1,1,1,1,1,1,1,1,1,1,1,1,1,1,1,1,1],\"y\":[\"Reds\",\"Reds\",\"Reds\",\"Reds\",\"Reds\",\"Reds\",\"Reds\",\"Reds\",\"Reds\",\"Reds\",\"Reds\",\"Reds\",\"Reds\",\"Reds\",\"Reds\",\"Reds\",\"Reds\",\"Reds\",\"Reds\",\"Reds\",\"Reds\",\"Reds\",\"Reds\",\"Reds\",\"Reds\",\"Reds\",\"Reds\",\"Reds\",\"Reds\",\"Reds\",\"Reds\",\"Reds\",\"Reds\",\"Reds\",\"Reds\",\"Reds\",\"Reds\",\"Reds\",\"Reds\",\"Reds\",\"Reds\",\"Reds\",\"Reds\",\"Reds\",\"Reds\",\"Reds\",\"Reds\",\"Reds\",\"Reds\",\"Reds\",\"Reds\",\"Reds\",\"Reds\",\"Reds\",\"Reds\",\"Reds\",\"Reds\",\"Reds\",\"Reds\",\"Reds\",\"Reds\",\"Reds\",\"Reds\",\"Reds\",\"Reds\",\"Reds\",\"Reds\",\"Reds\",\"Reds\",\"Reds\",\"Reds\",\"Reds\",\"Reds\",\"Reds\",\"Reds\",\"Reds\",\"Reds\",\"Reds\",\"Reds\",\"Reds\",\"Reds\",\"Reds\",\"Reds\",\"Reds\",\"Reds\",\"Reds\",\"Reds\",\"Reds\",\"Reds\",\"Reds\",\"Reds\",\"Reds\",\"Reds\",\"Reds\",\"Reds\",\"Reds\",\"Reds\",\"Reds\",\"Reds\",\"Reds\"],\"type\":\"bar\"},{\"customdata\":[0.01,0.02,0.03,0.04,0.05,0.06,0.07,0.08,0.09,0.1,0.11,0.12,0.13,0.14,0.15,0.16,0.17,0.18,0.19,0.2,0.21,0.22,0.23,0.24,0.25,0.26,0.27,0.28,0.29,0.3,0.31,0.32,0.33,0.34,0.35,0.36,0.37,0.38,0.39,0.4,0.41,0.42,0.43,0.44,0.45,0.46,0.47,0.48,0.49,0.5,0.51,0.52,0.53,0.54,0.55,0.56,0.57,0.58,0.59,0.6,0.61,0.62,0.63,0.64,0.65,0.66,0.67,0.68,0.69,0.7,0.71,0.72,0.73,0.74,0.75,0.76,0.77,0.78,0.79,0.8,0.81,0.82,0.83,0.84,0.85,0.86,0.87,0.88,0.89,0.9,0.91,0.92,0.93,0.94,0.95,0.96,0.97,0.98,0.99,1.0],\"hovertemplate\":\"%{customdata}\",\"marker\":{\"color\":[0,1,2,3,4,5,6,7,8,9,10,11,12,13,14,15,16,17,18,19,20,21,22,23,24,25,26,27,28,29,30,31,32,33,34,35,36,37,38,39,40,41,42,43,44,45,46,47,48,49,50,51,52,53,54,55,56,57,58,59,60,61,62,63,64,65,66,67,68,69,70,71,72,73,74,75,76,77,78,79,80,81,82,83,84,85,86,87,88,89,90,91,92,93,94,95,96,97,98,99],\"colorscale\":[[0.0,\"rgb(255,247,243)\"],[0.125,\"rgb(253,224,221)\"],[0.25,\"rgb(252,197,192)\"],[0.375,\"rgb(250,159,181)\"],[0.5,\"rgb(247,104,161)\"],[0.625,\"rgb(221,52,151)\"],[0.75,\"rgb(174,1,126)\"],[0.875,\"rgb(122,1,119)\"],[1.0,\"rgb(73,0,106)\"]],\"line\":{\"width\":0}},\"name\":\"RdPu\",\"orientation\":\"h\",\"x\":[1,1,1,1,1,1,1,1,1,1,1,1,1,1,1,1,1,1,1,1,1,1,1,1,1,1,1,1,1,1,1,1,1,1,1,1,1,1,1,1,1,1,1,1,1,1,1,1,1,1,1,1,1,1,1,1,1,1,1,1,1,1,1,1,1,1,1,1,1,1,1,1,1,1,1,1,1,1,1,1,1,1,1,1,1,1,1,1,1,1,1,1,1,1,1,1,1,1,1,1],\"y\":[\"RdPu\",\"RdPu\",\"RdPu\",\"RdPu\",\"RdPu\",\"RdPu\",\"RdPu\",\"RdPu\",\"RdPu\",\"RdPu\",\"RdPu\",\"RdPu\",\"RdPu\",\"RdPu\",\"RdPu\",\"RdPu\",\"RdPu\",\"RdPu\",\"RdPu\",\"RdPu\",\"RdPu\",\"RdPu\",\"RdPu\",\"RdPu\",\"RdPu\",\"RdPu\",\"RdPu\",\"RdPu\",\"RdPu\",\"RdPu\",\"RdPu\",\"RdPu\",\"RdPu\",\"RdPu\",\"RdPu\",\"RdPu\",\"RdPu\",\"RdPu\",\"RdPu\",\"RdPu\",\"RdPu\",\"RdPu\",\"RdPu\",\"RdPu\",\"RdPu\",\"RdPu\",\"RdPu\",\"RdPu\",\"RdPu\",\"RdPu\",\"RdPu\",\"RdPu\",\"RdPu\",\"RdPu\",\"RdPu\",\"RdPu\",\"RdPu\",\"RdPu\",\"RdPu\",\"RdPu\",\"RdPu\",\"RdPu\",\"RdPu\",\"RdPu\",\"RdPu\",\"RdPu\",\"RdPu\",\"RdPu\",\"RdPu\",\"RdPu\",\"RdPu\",\"RdPu\",\"RdPu\",\"RdPu\",\"RdPu\",\"RdPu\",\"RdPu\",\"RdPu\",\"RdPu\",\"RdPu\",\"RdPu\",\"RdPu\",\"RdPu\",\"RdPu\",\"RdPu\",\"RdPu\",\"RdPu\",\"RdPu\",\"RdPu\",\"RdPu\",\"RdPu\",\"RdPu\",\"RdPu\",\"RdPu\",\"RdPu\",\"RdPu\",\"RdPu\",\"RdPu\",\"RdPu\",\"RdPu\"],\"type\":\"bar\"},{\"customdata\":[0.01,0.02,0.03,0.04,0.05,0.06,0.07,0.08,0.09,0.1,0.11,0.12,0.13,0.14,0.15,0.16,0.17,0.18,0.19,0.2,0.21,0.22,0.23,0.24,0.25,0.26,0.27,0.28,0.29,0.3,0.31,0.32,0.33,0.34,0.35,0.36,0.37,0.38,0.39,0.4,0.41,0.42,0.43,0.44,0.45,0.46,0.47,0.48,0.49,0.5,0.51,0.52,0.53,0.54,0.55,0.56,0.57,0.58,0.59,0.6,0.61,0.62,0.63,0.64,0.65,0.66,0.67,0.68,0.69,0.7,0.71,0.72,0.73,0.74,0.75,0.76,0.77,0.78,0.79,0.8,0.81,0.82,0.83,0.84,0.85,0.86,0.87,0.88,0.89,0.9,0.91,0.92,0.93,0.94,0.95,0.96,0.97,0.98,0.99,1.0],\"hovertemplate\":\"%{customdata}\",\"marker\":{\"color\":[0,1,2,3,4,5,6,7,8,9,10,11,12,13,14,15,16,17,18,19,20,21,22,23,24,25,26,27,28,29,30,31,32,33,34,35,36,37,38,39,40,41,42,43,44,45,46,47,48,49,50,51,52,53,54,55,56,57,58,59,60,61,62,63,64,65,66,67,68,69,70,71,72,73,74,75,76,77,78,79,80,81,82,83,84,85,86,87,88,89,90,91,92,93,94,95,96,97,98,99],\"colorscale\":[[0.0,\"rgb(103,0,31)\"],[0.1,\"rgb(178,24,43)\"],[0.2,\"rgb(214,96,77)\"],[0.3,\"rgb(244,165,130)\"],[0.4,\"rgb(253,219,199)\"],[0.5,\"rgb(247,247,247)\"],[0.6,\"rgb(209,229,240)\"],[0.7,\"rgb(146,197,222)\"],[0.8,\"rgb(67,147,195)\"],[0.9,\"rgb(33,102,172)\"],[1.0,\"rgb(5,48,97)\"]],\"line\":{\"width\":0}},\"name\":\"RdBu\",\"orientation\":\"h\",\"x\":[1,1,1,1,1,1,1,1,1,1,1,1,1,1,1,1,1,1,1,1,1,1,1,1,1,1,1,1,1,1,1,1,1,1,1,1,1,1,1,1,1,1,1,1,1,1,1,1,1,1,1,1,1,1,1,1,1,1,1,1,1,1,1,1,1,1,1,1,1,1,1,1,1,1,1,1,1,1,1,1,1,1,1,1,1,1,1,1,1,1,1,1,1,1,1,1,1,1,1,1],\"y\":[\"RdBu\",\"RdBu\",\"RdBu\",\"RdBu\",\"RdBu\",\"RdBu\",\"RdBu\",\"RdBu\",\"RdBu\",\"RdBu\",\"RdBu\",\"RdBu\",\"RdBu\",\"RdBu\",\"RdBu\",\"RdBu\",\"RdBu\",\"RdBu\",\"RdBu\",\"RdBu\",\"RdBu\",\"RdBu\",\"RdBu\",\"RdBu\",\"RdBu\",\"RdBu\",\"RdBu\",\"RdBu\",\"RdBu\",\"RdBu\",\"RdBu\",\"RdBu\",\"RdBu\",\"RdBu\",\"RdBu\",\"RdBu\",\"RdBu\",\"RdBu\",\"RdBu\",\"RdBu\",\"RdBu\",\"RdBu\",\"RdBu\",\"RdBu\",\"RdBu\",\"RdBu\",\"RdBu\",\"RdBu\",\"RdBu\",\"RdBu\",\"RdBu\",\"RdBu\",\"RdBu\",\"RdBu\",\"RdBu\",\"RdBu\",\"RdBu\",\"RdBu\",\"RdBu\",\"RdBu\",\"RdBu\",\"RdBu\",\"RdBu\",\"RdBu\",\"RdBu\",\"RdBu\",\"RdBu\",\"RdBu\",\"RdBu\",\"RdBu\",\"RdBu\",\"RdBu\",\"RdBu\",\"RdBu\",\"RdBu\",\"RdBu\",\"RdBu\",\"RdBu\",\"RdBu\",\"RdBu\",\"RdBu\",\"RdBu\",\"RdBu\",\"RdBu\",\"RdBu\",\"RdBu\",\"RdBu\",\"RdBu\",\"RdBu\",\"RdBu\",\"RdBu\",\"RdBu\",\"RdBu\",\"RdBu\",\"RdBu\",\"RdBu\",\"RdBu\",\"RdBu\",\"RdBu\",\"RdBu\"],\"type\":\"bar\"},{\"customdata\":[0.01,0.02,0.03,0.04,0.05,0.06,0.07,0.08,0.09,0.1,0.11,0.12,0.13,0.14,0.15,0.16,0.17,0.18,0.19,0.2,0.21,0.22,0.23,0.24,0.25,0.26,0.27,0.28,0.29,0.3,0.31,0.32,0.33,0.34,0.35,0.36,0.37,0.38,0.39,0.4,0.41,0.42,0.43,0.44,0.45,0.46,0.47,0.48,0.49,0.5,0.51,0.52,0.53,0.54,0.55,0.56,0.57,0.58,0.59,0.6,0.61,0.62,0.63,0.64,0.65,0.66,0.67,0.68,0.69,0.7,0.71,0.72,0.73,0.74,0.75,0.76,0.77,0.78,0.79,0.8,0.81,0.82,0.83,0.84,0.85,0.86,0.87,0.88,0.89,0.9,0.91,0.92,0.93,0.94,0.95,0.96,0.97,0.98,0.99,1.0],\"hovertemplate\":\"%{customdata}\",\"marker\":{\"color\":[0,1,2,3,4,5,6,7,8,9,10,11,12,13,14,15,16,17,18,19,20,21,22,23,24,25,26,27,28,29,30,31,32,33,34,35,36,37,38,39,40,41,42,43,44,45,46,47,48,49,50,51,52,53,54,55,56,57,58,59,60,61,62,63,64,65,66,67,68,69,70,71,72,73,74,75,76,77,78,79,80,81,82,83,84,85,86,87,88,89,90,91,92,93,94,95,96,97,98,99],\"colorscale\":[[0.0,\"rgb(252,251,253)\"],[0.125,\"rgb(239,237,245)\"],[0.25,\"rgb(218,218,235)\"],[0.375,\"rgb(188,189,220)\"],[0.5,\"rgb(158,154,200)\"],[0.625,\"rgb(128,125,186)\"],[0.75,\"rgb(106,81,163)\"],[0.875,\"rgb(84,39,143)\"],[1.0,\"rgb(63,0,125)\"]],\"line\":{\"width\":0}},\"name\":\"Purples\",\"orientation\":\"h\",\"x\":[1,1,1,1,1,1,1,1,1,1,1,1,1,1,1,1,1,1,1,1,1,1,1,1,1,1,1,1,1,1,1,1,1,1,1,1,1,1,1,1,1,1,1,1,1,1,1,1,1,1,1,1,1,1,1,1,1,1,1,1,1,1,1,1,1,1,1,1,1,1,1,1,1,1,1,1,1,1,1,1,1,1,1,1,1,1,1,1,1,1,1,1,1,1,1,1,1,1,1,1],\"y\":[\"Purples\",\"Purples\",\"Purples\",\"Purples\",\"Purples\",\"Purples\",\"Purples\",\"Purples\",\"Purples\",\"Purples\",\"Purples\",\"Purples\",\"Purples\",\"Purples\",\"Purples\",\"Purples\",\"Purples\",\"Purples\",\"Purples\",\"Purples\",\"Purples\",\"Purples\",\"Purples\",\"Purples\",\"Purples\",\"Purples\",\"Purples\",\"Purples\",\"Purples\",\"Purples\",\"Purples\",\"Purples\",\"Purples\",\"Purples\",\"Purples\",\"Purples\",\"Purples\",\"Purples\",\"Purples\",\"Purples\",\"Purples\",\"Purples\",\"Purples\",\"Purples\",\"Purples\",\"Purples\",\"Purples\",\"Purples\",\"Purples\",\"Purples\",\"Purples\",\"Purples\",\"Purples\",\"Purples\",\"Purples\",\"Purples\",\"Purples\",\"Purples\",\"Purples\",\"Purples\",\"Purples\",\"Purples\",\"Purples\",\"Purples\",\"Purples\",\"Purples\",\"Purples\",\"Purples\",\"Purples\",\"Purples\",\"Purples\",\"Purples\",\"Purples\",\"Purples\",\"Purples\",\"Purples\",\"Purples\",\"Purples\",\"Purples\",\"Purples\",\"Purples\",\"Purples\",\"Purples\",\"Purples\",\"Purples\",\"Purples\",\"Purples\",\"Purples\",\"Purples\",\"Purples\",\"Purples\",\"Purples\",\"Purples\",\"Purples\",\"Purples\",\"Purples\",\"Purples\",\"Purples\",\"Purples\",\"Purples\"],\"type\":\"bar\"},{\"customdata\":[0.01,0.02,0.03,0.04,0.05,0.06,0.07,0.08,0.09,0.1,0.11,0.12,0.13,0.14,0.15,0.16,0.17,0.18,0.19,0.2,0.21,0.22,0.23,0.24,0.25,0.26,0.27,0.28,0.29,0.3,0.31,0.32,0.33,0.34,0.35,0.36,0.37,0.38,0.39,0.4,0.41,0.42,0.43,0.44,0.45,0.46,0.47,0.48,0.49,0.5,0.51,0.52,0.53,0.54,0.55,0.56,0.57,0.58,0.59,0.6,0.61,0.62,0.63,0.64,0.65,0.66,0.67,0.68,0.69,0.7,0.71,0.72,0.73,0.74,0.75,0.76,0.77,0.78,0.79,0.8,0.81,0.82,0.83,0.84,0.85,0.86,0.87,0.88,0.89,0.9,0.91,0.92,0.93,0.94,0.95,0.96,0.97,0.98,0.99,1.0],\"hovertemplate\":\"%{customdata}\",\"marker\":{\"color\":[0,1,2,3,4,5,6,7,8,9,10,11,12,13,14,15,16,17,18,19,20,21,22,23,24,25,26,27,28,29,30,31,32,33,34,35,36,37,38,39,40,41,42,43,44,45,46,47,48,49,50,51,52,53,54,55,56,57,58,59,60,61,62,63,64,65,66,67,68,69,70,71,72,73,74,75,76,77,78,79,80,81,82,83,84,85,86,87,88,89,90,91,92,93,94,95,96,97,98,99],\"colorscale\":[[0.0,\"rgb(247,244,249)\"],[0.125,\"rgb(231,225,239)\"],[0.25,\"rgb(212,185,218)\"],[0.375,\"rgb(201,148,199)\"],[0.5,\"rgb(223,101,176)\"],[0.625,\"rgb(231,41,138)\"],[0.75,\"rgb(206,18,86)\"],[0.875,\"rgb(152,0,67)\"],[1.0,\"rgb(103,0,31)\"]],\"line\":{\"width\":0}},\"name\":\"PuRd\",\"orientation\":\"h\",\"x\":[1,1,1,1,1,1,1,1,1,1,1,1,1,1,1,1,1,1,1,1,1,1,1,1,1,1,1,1,1,1,1,1,1,1,1,1,1,1,1,1,1,1,1,1,1,1,1,1,1,1,1,1,1,1,1,1,1,1,1,1,1,1,1,1,1,1,1,1,1,1,1,1,1,1,1,1,1,1,1,1,1,1,1,1,1,1,1,1,1,1,1,1,1,1,1,1,1,1,1,1],\"y\":[\"PuRd\",\"PuRd\",\"PuRd\",\"PuRd\",\"PuRd\",\"PuRd\",\"PuRd\",\"PuRd\",\"PuRd\",\"PuRd\",\"PuRd\",\"PuRd\",\"PuRd\",\"PuRd\",\"PuRd\",\"PuRd\",\"PuRd\",\"PuRd\",\"PuRd\",\"PuRd\",\"PuRd\",\"PuRd\",\"PuRd\",\"PuRd\",\"PuRd\",\"PuRd\",\"PuRd\",\"PuRd\",\"PuRd\",\"PuRd\",\"PuRd\",\"PuRd\",\"PuRd\",\"PuRd\",\"PuRd\",\"PuRd\",\"PuRd\",\"PuRd\",\"PuRd\",\"PuRd\",\"PuRd\",\"PuRd\",\"PuRd\",\"PuRd\",\"PuRd\",\"PuRd\",\"PuRd\",\"PuRd\",\"PuRd\",\"PuRd\",\"PuRd\",\"PuRd\",\"PuRd\",\"PuRd\",\"PuRd\",\"PuRd\",\"PuRd\",\"PuRd\",\"PuRd\",\"PuRd\",\"PuRd\",\"PuRd\",\"PuRd\",\"PuRd\",\"PuRd\",\"PuRd\",\"PuRd\",\"PuRd\",\"PuRd\",\"PuRd\",\"PuRd\",\"PuRd\",\"PuRd\",\"PuRd\",\"PuRd\",\"PuRd\",\"PuRd\",\"PuRd\",\"PuRd\",\"PuRd\",\"PuRd\",\"PuRd\",\"PuRd\",\"PuRd\",\"PuRd\",\"PuRd\",\"PuRd\",\"PuRd\",\"PuRd\",\"PuRd\",\"PuRd\",\"PuRd\",\"PuRd\",\"PuRd\",\"PuRd\",\"PuRd\",\"PuRd\",\"PuRd\",\"PuRd\",\"PuRd\"],\"type\":\"bar\"},{\"customdata\":[0.01,0.02,0.03,0.04,0.05,0.06,0.07,0.08,0.09,0.1,0.11,0.12,0.13,0.14,0.15,0.16,0.17,0.18,0.19,0.2,0.21,0.22,0.23,0.24,0.25,0.26,0.27,0.28,0.29,0.3,0.31,0.32,0.33,0.34,0.35,0.36,0.37,0.38,0.39,0.4,0.41,0.42,0.43,0.44,0.45,0.46,0.47,0.48,0.49,0.5,0.51,0.52,0.53,0.54,0.55,0.56,0.57,0.58,0.59,0.6,0.61,0.62,0.63,0.64,0.65,0.66,0.67,0.68,0.69,0.7,0.71,0.72,0.73,0.74,0.75,0.76,0.77,0.78,0.79,0.8,0.81,0.82,0.83,0.84,0.85,0.86,0.87,0.88,0.89,0.9,0.91,0.92,0.93,0.94,0.95,0.96,0.97,0.98,0.99,1.0],\"hovertemplate\":\"%{customdata}\",\"marker\":{\"color\":[0,1,2,3,4,5,6,7,8,9,10,11,12,13,14,15,16,17,18,19,20,21,22,23,24,25,26,27,28,29,30,31,32,33,34,35,36,37,38,39,40,41,42,43,44,45,46,47,48,49,50,51,52,53,54,55,56,57,58,59,60,61,62,63,64,65,66,67,68,69,70,71,72,73,74,75,76,77,78,79,80,81,82,83,84,85,86,87,88,89,90,91,92,93,94,95,96,97,98,99],\"colorscale\":[[0.0,\"rgb(255,247,251)\"],[0.125,\"rgb(236,226,240)\"],[0.25,\"rgb(208,209,230)\"],[0.375,\"rgb(166,189,219)\"],[0.5,\"rgb(103,169,207)\"],[0.625,\"rgb(54,144,192)\"],[0.75,\"rgb(2,129,138)\"],[0.875,\"rgb(1,108,89)\"],[1.0,\"rgb(1,70,54)\"]],\"line\":{\"width\":0}},\"name\":\"PuBuGn\",\"orientation\":\"h\",\"x\":[1,1,1,1,1,1,1,1,1,1,1,1,1,1,1,1,1,1,1,1,1,1,1,1,1,1,1,1,1,1,1,1,1,1,1,1,1,1,1,1,1,1,1,1,1,1,1,1,1,1,1,1,1,1,1,1,1,1,1,1,1,1,1,1,1,1,1,1,1,1,1,1,1,1,1,1,1,1,1,1,1,1,1,1,1,1,1,1,1,1,1,1,1,1,1,1,1,1,1,1],\"y\":[\"PuBuGn\",\"PuBuGn\",\"PuBuGn\",\"PuBuGn\",\"PuBuGn\",\"PuBuGn\",\"PuBuGn\",\"PuBuGn\",\"PuBuGn\",\"PuBuGn\",\"PuBuGn\",\"PuBuGn\",\"PuBuGn\",\"PuBuGn\",\"PuBuGn\",\"PuBuGn\",\"PuBuGn\",\"PuBuGn\",\"PuBuGn\",\"PuBuGn\",\"PuBuGn\",\"PuBuGn\",\"PuBuGn\",\"PuBuGn\",\"PuBuGn\",\"PuBuGn\",\"PuBuGn\",\"PuBuGn\",\"PuBuGn\",\"PuBuGn\",\"PuBuGn\",\"PuBuGn\",\"PuBuGn\",\"PuBuGn\",\"PuBuGn\",\"PuBuGn\",\"PuBuGn\",\"PuBuGn\",\"PuBuGn\",\"PuBuGn\",\"PuBuGn\",\"PuBuGn\",\"PuBuGn\",\"PuBuGn\",\"PuBuGn\",\"PuBuGn\",\"PuBuGn\",\"PuBuGn\",\"PuBuGn\",\"PuBuGn\",\"PuBuGn\",\"PuBuGn\",\"PuBuGn\",\"PuBuGn\",\"PuBuGn\",\"PuBuGn\",\"PuBuGn\",\"PuBuGn\",\"PuBuGn\",\"PuBuGn\",\"PuBuGn\",\"PuBuGn\",\"PuBuGn\",\"PuBuGn\",\"PuBuGn\",\"PuBuGn\",\"PuBuGn\",\"PuBuGn\",\"PuBuGn\",\"PuBuGn\",\"PuBuGn\",\"PuBuGn\",\"PuBuGn\",\"PuBuGn\",\"PuBuGn\",\"PuBuGn\",\"PuBuGn\",\"PuBuGn\",\"PuBuGn\",\"PuBuGn\",\"PuBuGn\",\"PuBuGn\",\"PuBuGn\",\"PuBuGn\",\"PuBuGn\",\"PuBuGn\",\"PuBuGn\",\"PuBuGn\",\"PuBuGn\",\"PuBuGn\",\"PuBuGn\",\"PuBuGn\",\"PuBuGn\",\"PuBuGn\",\"PuBuGn\",\"PuBuGn\",\"PuBuGn\",\"PuBuGn\",\"PuBuGn\",\"PuBuGn\"],\"type\":\"bar\"},{\"customdata\":[0.01,0.02,0.03,0.04,0.05,0.06,0.07,0.08,0.09,0.1,0.11,0.12,0.13,0.14,0.15,0.16,0.17,0.18,0.19,0.2,0.21,0.22,0.23,0.24,0.25,0.26,0.27,0.28,0.29,0.3,0.31,0.32,0.33,0.34,0.35,0.36,0.37,0.38,0.39,0.4,0.41,0.42,0.43,0.44,0.45,0.46,0.47,0.48,0.49,0.5,0.51,0.52,0.53,0.54,0.55,0.56,0.57,0.58,0.59,0.6,0.61,0.62,0.63,0.64,0.65,0.66,0.67,0.68,0.69,0.7,0.71,0.72,0.73,0.74,0.75,0.76,0.77,0.78,0.79,0.8,0.81,0.82,0.83,0.84,0.85,0.86,0.87,0.88,0.89,0.9,0.91,0.92,0.93,0.94,0.95,0.96,0.97,0.98,0.99,1.0],\"hovertemplate\":\"%{customdata}\",\"marker\":{\"color\":[0,1,2,3,4,5,6,7,8,9,10,11,12,13,14,15,16,17,18,19,20,21,22,23,24,25,26,27,28,29,30,31,32,33,34,35,36,37,38,39,40,41,42,43,44,45,46,47,48,49,50,51,52,53,54,55,56,57,58,59,60,61,62,63,64,65,66,67,68,69,70,71,72,73,74,75,76,77,78,79,80,81,82,83,84,85,86,87,88,89,90,91,92,93,94,95,96,97,98,99],\"colorscale\":[[0.0,\"rgb(255,247,251)\"],[0.125,\"rgb(236,231,242)\"],[0.25,\"rgb(208,209,230)\"],[0.375,\"rgb(166,189,219)\"],[0.5,\"rgb(116,169,207)\"],[0.625,\"rgb(54,144,192)\"],[0.75,\"rgb(5,112,176)\"],[0.875,\"rgb(4,90,141)\"],[1.0,\"rgb(2,56,88)\"]],\"line\":{\"width\":0}},\"name\":\"PuBu\",\"orientation\":\"h\",\"x\":[1,1,1,1,1,1,1,1,1,1,1,1,1,1,1,1,1,1,1,1,1,1,1,1,1,1,1,1,1,1,1,1,1,1,1,1,1,1,1,1,1,1,1,1,1,1,1,1,1,1,1,1,1,1,1,1,1,1,1,1,1,1,1,1,1,1,1,1,1,1,1,1,1,1,1,1,1,1,1,1,1,1,1,1,1,1,1,1,1,1,1,1,1,1,1,1,1,1,1,1],\"y\":[\"PuBu\",\"PuBu\",\"PuBu\",\"PuBu\",\"PuBu\",\"PuBu\",\"PuBu\",\"PuBu\",\"PuBu\",\"PuBu\",\"PuBu\",\"PuBu\",\"PuBu\",\"PuBu\",\"PuBu\",\"PuBu\",\"PuBu\",\"PuBu\",\"PuBu\",\"PuBu\",\"PuBu\",\"PuBu\",\"PuBu\",\"PuBu\",\"PuBu\",\"PuBu\",\"PuBu\",\"PuBu\",\"PuBu\",\"PuBu\",\"PuBu\",\"PuBu\",\"PuBu\",\"PuBu\",\"PuBu\",\"PuBu\",\"PuBu\",\"PuBu\",\"PuBu\",\"PuBu\",\"PuBu\",\"PuBu\",\"PuBu\",\"PuBu\",\"PuBu\",\"PuBu\",\"PuBu\",\"PuBu\",\"PuBu\",\"PuBu\",\"PuBu\",\"PuBu\",\"PuBu\",\"PuBu\",\"PuBu\",\"PuBu\",\"PuBu\",\"PuBu\",\"PuBu\",\"PuBu\",\"PuBu\",\"PuBu\",\"PuBu\",\"PuBu\",\"PuBu\",\"PuBu\",\"PuBu\",\"PuBu\",\"PuBu\",\"PuBu\",\"PuBu\",\"PuBu\",\"PuBu\",\"PuBu\",\"PuBu\",\"PuBu\",\"PuBu\",\"PuBu\",\"PuBu\",\"PuBu\",\"PuBu\",\"PuBu\",\"PuBu\",\"PuBu\",\"PuBu\",\"PuBu\",\"PuBu\",\"PuBu\",\"PuBu\",\"PuBu\",\"PuBu\",\"PuBu\",\"PuBu\",\"PuBu\",\"PuBu\",\"PuBu\",\"PuBu\",\"PuBu\",\"PuBu\",\"PuBu\"],\"type\":\"bar\"},{\"customdata\":[0.01,0.02,0.03,0.04,0.05,0.06,0.07,0.08,0.09,0.1,0.11,0.12,0.13,0.14,0.15,0.16,0.17,0.18,0.19,0.2,0.21,0.22,0.23,0.24,0.25,0.26,0.27,0.28,0.29,0.3,0.31,0.32,0.33,0.34,0.35,0.36,0.37,0.38,0.39,0.4,0.41,0.42,0.43,0.44,0.45,0.46,0.47,0.48,0.49,0.5,0.51,0.52,0.53,0.54,0.55,0.56,0.57,0.58,0.59,0.6,0.61,0.62,0.63,0.64,0.65,0.66,0.67,0.68,0.69,0.7,0.71,0.72,0.73,0.74,0.75,0.76,0.77,0.78,0.79,0.8,0.81,0.82,0.83,0.84,0.85,0.86,0.87,0.88,0.89,0.9,0.91,0.92,0.93,0.94,0.95,0.96,0.97,0.98,0.99,1.0],\"hovertemplate\":\"%{customdata}\",\"marker\":{\"color\":[0,1,2,3,4,5,6,7,8,9,10,11,12,13,14,15,16,17,18,19,20,21,22,23,24,25,26,27,28,29,30,31,32,33,34,35,36,37,38,39,40,41,42,43,44,45,46,47,48,49,50,51,52,53,54,55,56,57,58,59,60,61,62,63,64,65,66,67,68,69,70,71,72,73,74,75,76,77,78,79,80,81,82,83,84,85,86,87,88,89,90,91,92,93,94,95,96,97,98,99],\"colorscale\":[[0.0,\"rgb(255,245,235)\"],[0.125,\"rgb(254,230,206)\"],[0.25,\"rgb(253,208,162)\"],[0.375,\"rgb(253,174,107)\"],[0.5,\"rgb(253,141,60)\"],[0.625,\"rgb(241,105,19)\"],[0.75,\"rgb(217,72,1)\"],[0.875,\"rgb(166,54,3)\"],[1.0,\"rgb(127,39,4)\"]],\"line\":{\"width\":0}},\"name\":\"Oranges\",\"orientation\":\"h\",\"x\":[1,1,1,1,1,1,1,1,1,1,1,1,1,1,1,1,1,1,1,1,1,1,1,1,1,1,1,1,1,1,1,1,1,1,1,1,1,1,1,1,1,1,1,1,1,1,1,1,1,1,1,1,1,1,1,1,1,1,1,1,1,1,1,1,1,1,1,1,1,1,1,1,1,1,1,1,1,1,1,1,1,1,1,1,1,1,1,1,1,1,1,1,1,1,1,1,1,1,1,1],\"y\":[\"Oranges\",\"Oranges\",\"Oranges\",\"Oranges\",\"Oranges\",\"Oranges\",\"Oranges\",\"Oranges\",\"Oranges\",\"Oranges\",\"Oranges\",\"Oranges\",\"Oranges\",\"Oranges\",\"Oranges\",\"Oranges\",\"Oranges\",\"Oranges\",\"Oranges\",\"Oranges\",\"Oranges\",\"Oranges\",\"Oranges\",\"Oranges\",\"Oranges\",\"Oranges\",\"Oranges\",\"Oranges\",\"Oranges\",\"Oranges\",\"Oranges\",\"Oranges\",\"Oranges\",\"Oranges\",\"Oranges\",\"Oranges\",\"Oranges\",\"Oranges\",\"Oranges\",\"Oranges\",\"Oranges\",\"Oranges\",\"Oranges\",\"Oranges\",\"Oranges\",\"Oranges\",\"Oranges\",\"Oranges\",\"Oranges\",\"Oranges\",\"Oranges\",\"Oranges\",\"Oranges\",\"Oranges\",\"Oranges\",\"Oranges\",\"Oranges\",\"Oranges\",\"Oranges\",\"Oranges\",\"Oranges\",\"Oranges\",\"Oranges\",\"Oranges\",\"Oranges\",\"Oranges\",\"Oranges\",\"Oranges\",\"Oranges\",\"Oranges\",\"Oranges\",\"Oranges\",\"Oranges\",\"Oranges\",\"Oranges\",\"Oranges\",\"Oranges\",\"Oranges\",\"Oranges\",\"Oranges\",\"Oranges\",\"Oranges\",\"Oranges\",\"Oranges\",\"Oranges\",\"Oranges\",\"Oranges\",\"Oranges\",\"Oranges\",\"Oranges\",\"Oranges\",\"Oranges\",\"Oranges\",\"Oranges\",\"Oranges\",\"Oranges\",\"Oranges\",\"Oranges\",\"Oranges\",\"Oranges\"],\"type\":\"bar\"},{\"customdata\":[0.01,0.02,0.03,0.04,0.05,0.06,0.07,0.08,0.09,0.1,0.11,0.12,0.13,0.14,0.15,0.16,0.17,0.18,0.19,0.2,0.21,0.22,0.23,0.24,0.25,0.26,0.27,0.28,0.29,0.3,0.31,0.32,0.33,0.34,0.35,0.36,0.37,0.38,0.39,0.4,0.41,0.42,0.43,0.44,0.45,0.46,0.47,0.48,0.49,0.5,0.51,0.52,0.53,0.54,0.55,0.56,0.57,0.58,0.59,0.6,0.61,0.62,0.63,0.64,0.65,0.66,0.67,0.68,0.69,0.7,0.71,0.72,0.73,0.74,0.75,0.76,0.77,0.78,0.79,0.8,0.81,0.82,0.83,0.84,0.85,0.86,0.87,0.88,0.89,0.9,0.91,0.92,0.93,0.94,0.95,0.96,0.97,0.98,0.99,1.0],\"hovertemplate\":\"%{customdata}\",\"marker\":{\"color\":[0,1,2,3,4,5,6,7,8,9,10,11,12,13,14,15,16,17,18,19,20,21,22,23,24,25,26,27,28,29,30,31,32,33,34,35,36,37,38,39,40,41,42,43,44,45,46,47,48,49,50,51,52,53,54,55,56,57,58,59,60,61,62,63,64,65,66,67,68,69,70,71,72,73,74,75,76,77,78,79,80,81,82,83,84,85,86,87,88,89,90,91,92,93,94,95,96,97,98,99],\"colorscale\":[[0.0,\"rgb(255,247,236)\"],[0.125,\"rgb(254,232,200)\"],[0.25,\"rgb(253,212,158)\"],[0.375,\"rgb(253,187,132)\"],[0.5,\"rgb(252,141,89)\"],[0.625,\"rgb(239,101,72)\"],[0.75,\"rgb(215,48,31)\"],[0.875,\"rgb(179,0,0)\"],[1.0,\"rgb(127,0,0)\"]],\"line\":{\"width\":0}},\"name\":\"OrRd\",\"orientation\":\"h\",\"x\":[1,1,1,1,1,1,1,1,1,1,1,1,1,1,1,1,1,1,1,1,1,1,1,1,1,1,1,1,1,1,1,1,1,1,1,1,1,1,1,1,1,1,1,1,1,1,1,1,1,1,1,1,1,1,1,1,1,1,1,1,1,1,1,1,1,1,1,1,1,1,1,1,1,1,1,1,1,1,1,1,1,1,1,1,1,1,1,1,1,1,1,1,1,1,1,1,1,1,1,1],\"y\":[\"OrRd\",\"OrRd\",\"OrRd\",\"OrRd\",\"OrRd\",\"OrRd\",\"OrRd\",\"OrRd\",\"OrRd\",\"OrRd\",\"OrRd\",\"OrRd\",\"OrRd\",\"OrRd\",\"OrRd\",\"OrRd\",\"OrRd\",\"OrRd\",\"OrRd\",\"OrRd\",\"OrRd\",\"OrRd\",\"OrRd\",\"OrRd\",\"OrRd\",\"OrRd\",\"OrRd\",\"OrRd\",\"OrRd\",\"OrRd\",\"OrRd\",\"OrRd\",\"OrRd\",\"OrRd\",\"OrRd\",\"OrRd\",\"OrRd\",\"OrRd\",\"OrRd\",\"OrRd\",\"OrRd\",\"OrRd\",\"OrRd\",\"OrRd\",\"OrRd\",\"OrRd\",\"OrRd\",\"OrRd\",\"OrRd\",\"OrRd\",\"OrRd\",\"OrRd\",\"OrRd\",\"OrRd\",\"OrRd\",\"OrRd\",\"OrRd\",\"OrRd\",\"OrRd\",\"OrRd\",\"OrRd\",\"OrRd\",\"OrRd\",\"OrRd\",\"OrRd\",\"OrRd\",\"OrRd\",\"OrRd\",\"OrRd\",\"OrRd\",\"OrRd\",\"OrRd\",\"OrRd\",\"OrRd\",\"OrRd\",\"OrRd\",\"OrRd\",\"OrRd\",\"OrRd\",\"OrRd\",\"OrRd\",\"OrRd\",\"OrRd\",\"OrRd\",\"OrRd\",\"OrRd\",\"OrRd\",\"OrRd\",\"OrRd\",\"OrRd\",\"OrRd\",\"OrRd\",\"OrRd\",\"OrRd\",\"OrRd\",\"OrRd\",\"OrRd\",\"OrRd\",\"OrRd\",\"OrRd\"],\"type\":\"bar\"},{\"customdata\":[0.01,0.02,0.03,0.04,0.05,0.06,0.07,0.08,0.09,0.1,0.11,0.12,0.13,0.14,0.15,0.16,0.17,0.18,0.19,0.2,0.21,0.22,0.23,0.24,0.25,0.26,0.27,0.28,0.29,0.3,0.31,0.32,0.33,0.34,0.35,0.36,0.37,0.38,0.39,0.4,0.41,0.42,0.43,0.44,0.45,0.46,0.47,0.48,0.49,0.5,0.51,0.52,0.53,0.54,0.55,0.56,0.57,0.58,0.59,0.6,0.61,0.62,0.63,0.64,0.65,0.66,0.67,0.68,0.69,0.7,0.71,0.72,0.73,0.74,0.75,0.76,0.77,0.78,0.79,0.8,0.81,0.82,0.83,0.84,0.85,0.86,0.87,0.88,0.89,0.9,0.91,0.92,0.93,0.94,0.95,0.96,0.97,0.98,0.99,1.0],\"hovertemplate\":\"%{customdata}\",\"marker\":{\"color\":[0,1,2,3,4,5,6,7,8,9,10,11,12,13,14,15,16,17,18,19,20,21,22,23,24,25,26,27,28,29,30,31,32,33,34,35,36,37,38,39,40,41,42,43,44,45,46,47,48,49,50,51,52,53,54,55,56,57,58,59,60,61,62,63,64,65,66,67,68,69,70,71,72,73,74,75,76,77,78,79,80,81,82,83,84,85,86,87,88,89,90,91,92,93,94,95,96,97,98,99],\"colorscale\":[[0.0,\"rgb(255,255,255)\"],[0.125,\"rgb(240,240,240)\"],[0.25,\"rgb(217,217,217)\"],[0.375,\"rgb(189,189,189)\"],[0.5,\"rgb(150,150,150)\"],[0.625,\"rgb(115,115,115)\"],[0.75,\"rgb(82,82,82)\"],[0.875,\"rgb(37,37,37)\"],[1.0,\"rgb(0,0,0)\"]],\"line\":{\"width\":0}},\"name\":\"Greys\",\"orientation\":\"h\",\"x\":[1,1,1,1,1,1,1,1,1,1,1,1,1,1,1,1,1,1,1,1,1,1,1,1,1,1,1,1,1,1,1,1,1,1,1,1,1,1,1,1,1,1,1,1,1,1,1,1,1,1,1,1,1,1,1,1,1,1,1,1,1,1,1,1,1,1,1,1,1,1,1,1,1,1,1,1,1,1,1,1,1,1,1,1,1,1,1,1,1,1,1,1,1,1,1,1,1,1,1,1],\"y\":[\"Greys\",\"Greys\",\"Greys\",\"Greys\",\"Greys\",\"Greys\",\"Greys\",\"Greys\",\"Greys\",\"Greys\",\"Greys\",\"Greys\",\"Greys\",\"Greys\",\"Greys\",\"Greys\",\"Greys\",\"Greys\",\"Greys\",\"Greys\",\"Greys\",\"Greys\",\"Greys\",\"Greys\",\"Greys\",\"Greys\",\"Greys\",\"Greys\",\"Greys\",\"Greys\",\"Greys\",\"Greys\",\"Greys\",\"Greys\",\"Greys\",\"Greys\",\"Greys\",\"Greys\",\"Greys\",\"Greys\",\"Greys\",\"Greys\",\"Greys\",\"Greys\",\"Greys\",\"Greys\",\"Greys\",\"Greys\",\"Greys\",\"Greys\",\"Greys\",\"Greys\",\"Greys\",\"Greys\",\"Greys\",\"Greys\",\"Greys\",\"Greys\",\"Greys\",\"Greys\",\"Greys\",\"Greys\",\"Greys\",\"Greys\",\"Greys\",\"Greys\",\"Greys\",\"Greys\",\"Greys\",\"Greys\",\"Greys\",\"Greys\",\"Greys\",\"Greys\",\"Greys\",\"Greys\",\"Greys\",\"Greys\",\"Greys\",\"Greys\",\"Greys\",\"Greys\",\"Greys\",\"Greys\",\"Greys\",\"Greys\",\"Greys\",\"Greys\",\"Greys\",\"Greys\",\"Greys\",\"Greys\",\"Greys\",\"Greys\",\"Greys\",\"Greys\",\"Greys\",\"Greys\",\"Greys\",\"Greys\"],\"type\":\"bar\"},{\"customdata\":[0.01,0.02,0.03,0.04,0.05,0.06,0.07,0.08,0.09,0.1,0.11,0.12,0.13,0.14,0.15,0.16,0.17,0.18,0.19,0.2,0.21,0.22,0.23,0.24,0.25,0.26,0.27,0.28,0.29,0.3,0.31,0.32,0.33,0.34,0.35,0.36,0.37,0.38,0.39,0.4,0.41,0.42,0.43,0.44,0.45,0.46,0.47,0.48,0.49,0.5,0.51,0.52,0.53,0.54,0.55,0.56,0.57,0.58,0.59,0.6,0.61,0.62,0.63,0.64,0.65,0.66,0.67,0.68,0.69,0.7,0.71,0.72,0.73,0.74,0.75,0.76,0.77,0.78,0.79,0.8,0.81,0.82,0.83,0.84,0.85,0.86,0.87,0.88,0.89,0.9,0.91,0.92,0.93,0.94,0.95,0.96,0.97,0.98,0.99,1.0],\"hovertemplate\":\"%{customdata}\",\"marker\":{\"color\":[0,1,2,3,4,5,6,7,8,9,10,11,12,13,14,15,16,17,18,19,20,21,22,23,24,25,26,27,28,29,30,31,32,33,34,35,36,37,38,39,40,41,42,43,44,45,46,47,48,49,50,51,52,53,54,55,56,57,58,59,60,61,62,63,64,65,66,67,68,69,70,71,72,73,74,75,76,77,78,79,80,81,82,83,84,85,86,87,88,89,90,91,92,93,94,95,96,97,98,99],\"colorscale\":[[0.0,\"rgb(247,252,245)\"],[0.125,\"rgb(229,245,224)\"],[0.25,\"rgb(199,233,192)\"],[0.375,\"rgb(161,217,155)\"],[0.5,\"rgb(116,196,118)\"],[0.625,\"rgb(65,171,93)\"],[0.75,\"rgb(35,139,69)\"],[0.875,\"rgb(0,109,44)\"],[1.0,\"rgb(0,68,27)\"]],\"line\":{\"width\":0}},\"name\":\"Greens\",\"orientation\":\"h\",\"x\":[1,1,1,1,1,1,1,1,1,1,1,1,1,1,1,1,1,1,1,1,1,1,1,1,1,1,1,1,1,1,1,1,1,1,1,1,1,1,1,1,1,1,1,1,1,1,1,1,1,1,1,1,1,1,1,1,1,1,1,1,1,1,1,1,1,1,1,1,1,1,1,1,1,1,1,1,1,1,1,1,1,1,1,1,1,1,1,1,1,1,1,1,1,1,1,1,1,1,1,1],\"y\":[\"Greens\",\"Greens\",\"Greens\",\"Greens\",\"Greens\",\"Greens\",\"Greens\",\"Greens\",\"Greens\",\"Greens\",\"Greens\",\"Greens\",\"Greens\",\"Greens\",\"Greens\",\"Greens\",\"Greens\",\"Greens\",\"Greens\",\"Greens\",\"Greens\",\"Greens\",\"Greens\",\"Greens\",\"Greens\",\"Greens\",\"Greens\",\"Greens\",\"Greens\",\"Greens\",\"Greens\",\"Greens\",\"Greens\",\"Greens\",\"Greens\",\"Greens\",\"Greens\",\"Greens\",\"Greens\",\"Greens\",\"Greens\",\"Greens\",\"Greens\",\"Greens\",\"Greens\",\"Greens\",\"Greens\",\"Greens\",\"Greens\",\"Greens\",\"Greens\",\"Greens\",\"Greens\",\"Greens\",\"Greens\",\"Greens\",\"Greens\",\"Greens\",\"Greens\",\"Greens\",\"Greens\",\"Greens\",\"Greens\",\"Greens\",\"Greens\",\"Greens\",\"Greens\",\"Greens\",\"Greens\",\"Greens\",\"Greens\",\"Greens\",\"Greens\",\"Greens\",\"Greens\",\"Greens\",\"Greens\",\"Greens\",\"Greens\",\"Greens\",\"Greens\",\"Greens\",\"Greens\",\"Greens\",\"Greens\",\"Greens\",\"Greens\",\"Greens\",\"Greens\",\"Greens\",\"Greens\",\"Greens\",\"Greens\",\"Greens\",\"Greens\",\"Greens\",\"Greens\",\"Greens\",\"Greens\",\"Greens\"],\"type\":\"bar\"},{\"customdata\":[0.01,0.02,0.03,0.04,0.05,0.06,0.07,0.08,0.09,0.1,0.11,0.12,0.13,0.14,0.15,0.16,0.17,0.18,0.19,0.2,0.21,0.22,0.23,0.24,0.25,0.26,0.27,0.28,0.29,0.3,0.31,0.32,0.33,0.34,0.35,0.36,0.37,0.38,0.39,0.4,0.41,0.42,0.43,0.44,0.45,0.46,0.47,0.48,0.49,0.5,0.51,0.52,0.53,0.54,0.55,0.56,0.57,0.58,0.59,0.6,0.61,0.62,0.63,0.64,0.65,0.66,0.67,0.68,0.69,0.7,0.71,0.72,0.73,0.74,0.75,0.76,0.77,0.78,0.79,0.8,0.81,0.82,0.83,0.84,0.85,0.86,0.87,0.88,0.89,0.9,0.91,0.92,0.93,0.94,0.95,0.96,0.97,0.98,0.99,1.0],\"hovertemplate\":\"%{customdata}\",\"marker\":{\"color\":[0,1,2,3,4,5,6,7,8,9,10,11,12,13,14,15,16,17,18,19,20,21,22,23,24,25,26,27,28,29,30,31,32,33,34,35,36,37,38,39,40,41,42,43,44,45,46,47,48,49,50,51,52,53,54,55,56,57,58,59,60,61,62,63,64,65,66,67,68,69,70,71,72,73,74,75,76,77,78,79,80,81,82,83,84,85,86,87,88,89,90,91,92,93,94,95,96,97,98,99],\"colorscale\":[[0.0,\"rgb(247,252,240)\"],[0.125,\"rgb(224,243,219)\"],[0.25,\"rgb(204,235,197)\"],[0.375,\"rgb(168,221,181)\"],[0.5,\"rgb(123,204,196)\"],[0.625,\"rgb(78,179,211)\"],[0.75,\"rgb(43,140,190)\"],[0.875,\"rgb(8,104,172)\"],[1.0,\"rgb(8,64,129)\"]],\"line\":{\"width\":0}},\"name\":\"GnBu\",\"orientation\":\"h\",\"x\":[1,1,1,1,1,1,1,1,1,1,1,1,1,1,1,1,1,1,1,1,1,1,1,1,1,1,1,1,1,1,1,1,1,1,1,1,1,1,1,1,1,1,1,1,1,1,1,1,1,1,1,1,1,1,1,1,1,1,1,1,1,1,1,1,1,1,1,1,1,1,1,1,1,1,1,1,1,1,1,1,1,1,1,1,1,1,1,1,1,1,1,1,1,1,1,1,1,1,1,1],\"y\":[\"GnBu\",\"GnBu\",\"GnBu\",\"GnBu\",\"GnBu\",\"GnBu\",\"GnBu\",\"GnBu\",\"GnBu\",\"GnBu\",\"GnBu\",\"GnBu\",\"GnBu\",\"GnBu\",\"GnBu\",\"GnBu\",\"GnBu\",\"GnBu\",\"GnBu\",\"GnBu\",\"GnBu\",\"GnBu\",\"GnBu\",\"GnBu\",\"GnBu\",\"GnBu\",\"GnBu\",\"GnBu\",\"GnBu\",\"GnBu\",\"GnBu\",\"GnBu\",\"GnBu\",\"GnBu\",\"GnBu\",\"GnBu\",\"GnBu\",\"GnBu\",\"GnBu\",\"GnBu\",\"GnBu\",\"GnBu\",\"GnBu\",\"GnBu\",\"GnBu\",\"GnBu\",\"GnBu\",\"GnBu\",\"GnBu\",\"GnBu\",\"GnBu\",\"GnBu\",\"GnBu\",\"GnBu\",\"GnBu\",\"GnBu\",\"GnBu\",\"GnBu\",\"GnBu\",\"GnBu\",\"GnBu\",\"GnBu\",\"GnBu\",\"GnBu\",\"GnBu\",\"GnBu\",\"GnBu\",\"GnBu\",\"GnBu\",\"GnBu\",\"GnBu\",\"GnBu\",\"GnBu\",\"GnBu\",\"GnBu\",\"GnBu\",\"GnBu\",\"GnBu\",\"GnBu\",\"GnBu\",\"GnBu\",\"GnBu\",\"GnBu\",\"GnBu\",\"GnBu\",\"GnBu\",\"GnBu\",\"GnBu\",\"GnBu\",\"GnBu\",\"GnBu\",\"GnBu\",\"GnBu\",\"GnBu\",\"GnBu\",\"GnBu\",\"GnBu\",\"GnBu\",\"GnBu\",\"GnBu\"],\"type\":\"bar\"},{\"customdata\":[0.01,0.02,0.03,0.04,0.05,0.06,0.07,0.08,0.09,0.1,0.11,0.12,0.13,0.14,0.15,0.16,0.17,0.18,0.19,0.2,0.21,0.22,0.23,0.24,0.25,0.26,0.27,0.28,0.29,0.3,0.31,0.32,0.33,0.34,0.35,0.36,0.37,0.38,0.39,0.4,0.41,0.42,0.43,0.44,0.45,0.46,0.47,0.48,0.49,0.5,0.51,0.52,0.53,0.54,0.55,0.56,0.57,0.58,0.59,0.6,0.61,0.62,0.63,0.64,0.65,0.66,0.67,0.68,0.69,0.7,0.71,0.72,0.73,0.74,0.75,0.76,0.77,0.78,0.79,0.8,0.81,0.82,0.83,0.84,0.85,0.86,0.87,0.88,0.89,0.9,0.91,0.92,0.93,0.94,0.95,0.96,0.97,0.98,0.99,1.0],\"hovertemplate\":\"%{customdata}\",\"marker\":{\"color\":[0,1,2,3,4,5,6,7,8,9,10,11,12,13,14,15,16,17,18,19,20,21,22,23,24,25,26,27,28,29,30,31,32,33,34,35,36,37,38,39,40,41,42,43,44,45,46,47,48,49,50,51,52,53,54,55,56,57,58,59,60,61,62,63,64,65,66,67,68,69,70,71,72,73,74,75,76,77,78,79,80,81,82,83,84,85,86,87,88,89,90,91,92,93,94,95,96,97,98,99],\"colorscale\":[[0.0,\"rgb(247,252,253)\"],[0.125,\"rgb(224,236,244)\"],[0.25,\"rgb(191,211,230)\"],[0.375,\"rgb(158,188,218)\"],[0.5,\"rgb(140,150,198)\"],[0.625,\"rgb(140,107,177)\"],[0.75,\"rgb(136,65,157)\"],[0.875,\"rgb(129,15,124)\"],[1.0,\"rgb(77,0,75)\"]],\"line\":{\"width\":0}},\"name\":\"BuPu\",\"orientation\":\"h\",\"x\":[1,1,1,1,1,1,1,1,1,1,1,1,1,1,1,1,1,1,1,1,1,1,1,1,1,1,1,1,1,1,1,1,1,1,1,1,1,1,1,1,1,1,1,1,1,1,1,1,1,1,1,1,1,1,1,1,1,1,1,1,1,1,1,1,1,1,1,1,1,1,1,1,1,1,1,1,1,1,1,1,1,1,1,1,1,1,1,1,1,1,1,1,1,1,1,1,1,1,1,1],\"y\":[\"BuPu\",\"BuPu\",\"BuPu\",\"BuPu\",\"BuPu\",\"BuPu\",\"BuPu\",\"BuPu\",\"BuPu\",\"BuPu\",\"BuPu\",\"BuPu\",\"BuPu\",\"BuPu\",\"BuPu\",\"BuPu\",\"BuPu\",\"BuPu\",\"BuPu\",\"BuPu\",\"BuPu\",\"BuPu\",\"BuPu\",\"BuPu\",\"BuPu\",\"BuPu\",\"BuPu\",\"BuPu\",\"BuPu\",\"BuPu\",\"BuPu\",\"BuPu\",\"BuPu\",\"BuPu\",\"BuPu\",\"BuPu\",\"BuPu\",\"BuPu\",\"BuPu\",\"BuPu\",\"BuPu\",\"BuPu\",\"BuPu\",\"BuPu\",\"BuPu\",\"BuPu\",\"BuPu\",\"BuPu\",\"BuPu\",\"BuPu\",\"BuPu\",\"BuPu\",\"BuPu\",\"BuPu\",\"BuPu\",\"BuPu\",\"BuPu\",\"BuPu\",\"BuPu\",\"BuPu\",\"BuPu\",\"BuPu\",\"BuPu\",\"BuPu\",\"BuPu\",\"BuPu\",\"BuPu\",\"BuPu\",\"BuPu\",\"BuPu\",\"BuPu\",\"BuPu\",\"BuPu\",\"BuPu\",\"BuPu\",\"BuPu\",\"BuPu\",\"BuPu\",\"BuPu\",\"BuPu\",\"BuPu\",\"BuPu\",\"BuPu\",\"BuPu\",\"BuPu\",\"BuPu\",\"BuPu\",\"BuPu\",\"BuPu\",\"BuPu\",\"BuPu\",\"BuPu\",\"BuPu\",\"BuPu\",\"BuPu\",\"BuPu\",\"BuPu\",\"BuPu\",\"BuPu\",\"BuPu\"],\"type\":\"bar\"},{\"customdata\":[0.01,0.02,0.03,0.04,0.05,0.06,0.07,0.08,0.09,0.1,0.11,0.12,0.13,0.14,0.15,0.16,0.17,0.18,0.19,0.2,0.21,0.22,0.23,0.24,0.25,0.26,0.27,0.28,0.29,0.3,0.31,0.32,0.33,0.34,0.35,0.36,0.37,0.38,0.39,0.4,0.41,0.42,0.43,0.44,0.45,0.46,0.47,0.48,0.49,0.5,0.51,0.52,0.53,0.54,0.55,0.56,0.57,0.58,0.59,0.6,0.61,0.62,0.63,0.64,0.65,0.66,0.67,0.68,0.69,0.7,0.71,0.72,0.73,0.74,0.75,0.76,0.77,0.78,0.79,0.8,0.81,0.82,0.83,0.84,0.85,0.86,0.87,0.88,0.89,0.9,0.91,0.92,0.93,0.94,0.95,0.96,0.97,0.98,0.99,1.0],\"hovertemplate\":\"%{customdata}\",\"marker\":{\"color\":[0,1,2,3,4,5,6,7,8,9,10,11,12,13,14,15,16,17,18,19,20,21,22,23,24,25,26,27,28,29,30,31,32,33,34,35,36,37,38,39,40,41,42,43,44,45,46,47,48,49,50,51,52,53,54,55,56,57,58,59,60,61,62,63,64,65,66,67,68,69,70,71,72,73,74,75,76,77,78,79,80,81,82,83,84,85,86,87,88,89,90,91,92,93,94,95,96,97,98,99],\"colorscale\":[[0.0,\"rgb(247,252,253)\"],[0.125,\"rgb(229,245,249)\"],[0.25,\"rgb(204,236,230)\"],[0.375,\"rgb(153,216,201)\"],[0.5,\"rgb(102,194,164)\"],[0.625,\"rgb(65,174,118)\"],[0.75,\"rgb(35,139,69)\"],[0.875,\"rgb(0,109,44)\"],[1.0,\"rgb(0,68,27)\"]],\"line\":{\"width\":0}},\"name\":\"BuGn\",\"orientation\":\"h\",\"x\":[1,1,1,1,1,1,1,1,1,1,1,1,1,1,1,1,1,1,1,1,1,1,1,1,1,1,1,1,1,1,1,1,1,1,1,1,1,1,1,1,1,1,1,1,1,1,1,1,1,1,1,1,1,1,1,1,1,1,1,1,1,1,1,1,1,1,1,1,1,1,1,1,1,1,1,1,1,1,1,1,1,1,1,1,1,1,1,1,1,1,1,1,1,1,1,1,1,1,1,1],\"y\":[\"BuGn\",\"BuGn\",\"BuGn\",\"BuGn\",\"BuGn\",\"BuGn\",\"BuGn\",\"BuGn\",\"BuGn\",\"BuGn\",\"BuGn\",\"BuGn\",\"BuGn\",\"BuGn\",\"BuGn\",\"BuGn\",\"BuGn\",\"BuGn\",\"BuGn\",\"BuGn\",\"BuGn\",\"BuGn\",\"BuGn\",\"BuGn\",\"BuGn\",\"BuGn\",\"BuGn\",\"BuGn\",\"BuGn\",\"BuGn\",\"BuGn\",\"BuGn\",\"BuGn\",\"BuGn\",\"BuGn\",\"BuGn\",\"BuGn\",\"BuGn\",\"BuGn\",\"BuGn\",\"BuGn\",\"BuGn\",\"BuGn\",\"BuGn\",\"BuGn\",\"BuGn\",\"BuGn\",\"BuGn\",\"BuGn\",\"BuGn\",\"BuGn\",\"BuGn\",\"BuGn\",\"BuGn\",\"BuGn\",\"BuGn\",\"BuGn\",\"BuGn\",\"BuGn\",\"BuGn\",\"BuGn\",\"BuGn\",\"BuGn\",\"BuGn\",\"BuGn\",\"BuGn\",\"BuGn\",\"BuGn\",\"BuGn\",\"BuGn\",\"BuGn\",\"BuGn\",\"BuGn\",\"BuGn\",\"BuGn\",\"BuGn\",\"BuGn\",\"BuGn\",\"BuGn\",\"BuGn\",\"BuGn\",\"BuGn\",\"BuGn\",\"BuGn\",\"BuGn\",\"BuGn\",\"BuGn\",\"BuGn\",\"BuGn\",\"BuGn\",\"BuGn\",\"BuGn\",\"BuGn\",\"BuGn\",\"BuGn\",\"BuGn\",\"BuGn\",\"BuGn\",\"BuGn\",\"BuGn\"],\"type\":\"bar\"},{\"customdata\":[0.01,0.02,0.03,0.04,0.05,0.06,0.07,0.08,0.09,0.1,0.11,0.12,0.13,0.14,0.15,0.16,0.17,0.18,0.19,0.2,0.21,0.22,0.23,0.24,0.25,0.26,0.27,0.28,0.29,0.3,0.31,0.32,0.33,0.34,0.35,0.36,0.37,0.38,0.39,0.4,0.41,0.42,0.43,0.44,0.45,0.46,0.47,0.48,0.49,0.5,0.51,0.52,0.53,0.54,0.55,0.56,0.57,0.58,0.59,0.6,0.61,0.62,0.63,0.64,0.65,0.66,0.67,0.68,0.69,0.7,0.71,0.72,0.73,0.74,0.75,0.76,0.77,0.78,0.79,0.8,0.81,0.82,0.83,0.84,0.85,0.86,0.87,0.88,0.89,0.9,0.91,0.92,0.93,0.94,0.95,0.96,0.97,0.98,0.99,1.0],\"hovertemplate\":\"%{customdata}\",\"marker\":{\"color\":[0,1,2,3,4,5,6,7,8,9,10,11,12,13,14,15,16,17,18,19,20,21,22,23,24,25,26,27,28,29,30,31,32,33,34,35,36,37,38,39,40,41,42,43,44,45,46,47,48,49,50,51,52,53,54,55,56,57,58,59,60,61,62,63,64,65,66,67,68,69,70,71,72,73,74,75,76,77,78,79,80,81,82,83,84,85,86,87,88,89,90,91,92,93,94,95,96,97,98,99],\"colorscale\":[[0.0,\"rgb(247,251,255)\"],[0.125,\"rgb(222,235,247)\"],[0.25,\"rgb(198,219,239)\"],[0.375,\"rgb(158,202,225)\"],[0.5,\"rgb(107,174,214)\"],[0.625,\"rgb(66,146,198)\"],[0.75,\"rgb(33,113,181)\"],[0.875,\"rgb(8,81,156)\"],[1.0,\"rgb(8,48,107)\"]],\"line\":{\"width\":0}},\"name\":\"Blues\",\"orientation\":\"h\",\"x\":[1,1,1,1,1,1,1,1,1,1,1,1,1,1,1,1,1,1,1,1,1,1,1,1,1,1,1,1,1,1,1,1,1,1,1,1,1,1,1,1,1,1,1,1,1,1,1,1,1,1,1,1,1,1,1,1,1,1,1,1,1,1,1,1,1,1,1,1,1,1,1,1,1,1,1,1,1,1,1,1,1,1,1,1,1,1,1,1,1,1,1,1,1,1,1,1,1,1,1,1],\"y\":[\"Blues\",\"Blues\",\"Blues\",\"Blues\",\"Blues\",\"Blues\",\"Blues\",\"Blues\",\"Blues\",\"Blues\",\"Blues\",\"Blues\",\"Blues\",\"Blues\",\"Blues\",\"Blues\",\"Blues\",\"Blues\",\"Blues\",\"Blues\",\"Blues\",\"Blues\",\"Blues\",\"Blues\",\"Blues\",\"Blues\",\"Blues\",\"Blues\",\"Blues\",\"Blues\",\"Blues\",\"Blues\",\"Blues\",\"Blues\",\"Blues\",\"Blues\",\"Blues\",\"Blues\",\"Blues\",\"Blues\",\"Blues\",\"Blues\",\"Blues\",\"Blues\",\"Blues\",\"Blues\",\"Blues\",\"Blues\",\"Blues\",\"Blues\",\"Blues\",\"Blues\",\"Blues\",\"Blues\",\"Blues\",\"Blues\",\"Blues\",\"Blues\",\"Blues\",\"Blues\",\"Blues\",\"Blues\",\"Blues\",\"Blues\",\"Blues\",\"Blues\",\"Blues\",\"Blues\",\"Blues\",\"Blues\",\"Blues\",\"Blues\",\"Blues\",\"Blues\",\"Blues\",\"Blues\",\"Blues\",\"Blues\",\"Blues\",\"Blues\",\"Blues\",\"Blues\",\"Blues\",\"Blues\",\"Blues\",\"Blues\",\"Blues\",\"Blues\",\"Blues\",\"Blues\",\"Blues\",\"Blues\",\"Blues\",\"Blues\",\"Blues\",\"Blues\",\"Blues\",\"Blues\",\"Blues\",\"Blues\"],\"type\":\"bar\"},{\"customdata\":[0.01,0.02,0.03,0.04,0.05,0.06,0.07,0.08,0.09,0.1,0.11,0.12,0.13,0.14,0.15,0.16,0.17,0.18,0.19,0.2,0.21,0.22,0.23,0.24,0.25,0.26,0.27,0.28,0.29,0.3,0.31,0.32,0.33,0.34,0.35,0.36,0.37,0.38,0.39,0.4,0.41,0.42,0.43,0.44,0.45,0.46,0.47,0.48,0.49,0.5,0.51,0.52,0.53,0.54,0.55,0.56,0.57,0.58,0.59,0.6,0.61,0.62,0.63,0.64,0.65,0.66,0.67,0.68,0.69,0.7,0.71,0.72,0.73,0.74,0.75,0.76,0.77,0.78,0.79,0.8,0.81,0.82,0.83,0.84,0.85,0.86,0.87,0.88,0.89,0.9,0.91,0.92,0.93,0.94,0.95,0.96,0.97,0.98,0.99,1.0],\"hovertemplate\":\"%{customdata}\",\"marker\":{\"color\":[0,1,2,3,4,5,6,7,8,9,10,11,12,13,14,15,16,17,18,19,20,21,22,23,24,25,26,27,28,29,30,31,32,33,34,35,36,37,38,39,40,41,42,43,44,45,46,47,48,49,50,51,52,53,54,55,56,57,58,59,60,61,62,63,64,65,66,67,68,69,70,71,72,73,74,75,76,77,78,79,80,81,82,83,84,85,86,87,88,89,90,91,92,93,94,95,96,97,98,99],\"colorscale\":[[0.0,\"rgb(150,0,90)\"],[0.125,\"rgb(0,0,200)\"],[0.25,\"rgb(0,25,255)\"],[0.375,\"rgb(0,152,255)\"],[0.5,\"rgb(44,255,150)\"],[0.625,\"rgb(151,255,0)\"],[0.75,\"rgb(255,234,0)\"],[0.875,\"rgb(255,111,0)\"],[1.0,\"rgb(255,0,0)\"]],\"line\":{\"width\":0}},\"name\":\"Rainbow\",\"orientation\":\"h\",\"x\":[1,1,1,1,1,1,1,1,1,1,1,1,1,1,1,1,1,1,1,1,1,1,1,1,1,1,1,1,1,1,1,1,1,1,1,1,1,1,1,1,1,1,1,1,1,1,1,1,1,1,1,1,1,1,1,1,1,1,1,1,1,1,1,1,1,1,1,1,1,1,1,1,1,1,1,1,1,1,1,1,1,1,1,1,1,1,1,1,1,1,1,1,1,1,1,1,1,1,1,1],\"y\":[\"Rainbow\",\"Rainbow\",\"Rainbow\",\"Rainbow\",\"Rainbow\",\"Rainbow\",\"Rainbow\",\"Rainbow\",\"Rainbow\",\"Rainbow\",\"Rainbow\",\"Rainbow\",\"Rainbow\",\"Rainbow\",\"Rainbow\",\"Rainbow\",\"Rainbow\",\"Rainbow\",\"Rainbow\",\"Rainbow\",\"Rainbow\",\"Rainbow\",\"Rainbow\",\"Rainbow\",\"Rainbow\",\"Rainbow\",\"Rainbow\",\"Rainbow\",\"Rainbow\",\"Rainbow\",\"Rainbow\",\"Rainbow\",\"Rainbow\",\"Rainbow\",\"Rainbow\",\"Rainbow\",\"Rainbow\",\"Rainbow\",\"Rainbow\",\"Rainbow\",\"Rainbow\",\"Rainbow\",\"Rainbow\",\"Rainbow\",\"Rainbow\",\"Rainbow\",\"Rainbow\",\"Rainbow\",\"Rainbow\",\"Rainbow\",\"Rainbow\",\"Rainbow\",\"Rainbow\",\"Rainbow\",\"Rainbow\",\"Rainbow\",\"Rainbow\",\"Rainbow\",\"Rainbow\",\"Rainbow\",\"Rainbow\",\"Rainbow\",\"Rainbow\",\"Rainbow\",\"Rainbow\",\"Rainbow\",\"Rainbow\",\"Rainbow\",\"Rainbow\",\"Rainbow\",\"Rainbow\",\"Rainbow\",\"Rainbow\",\"Rainbow\",\"Rainbow\",\"Rainbow\",\"Rainbow\",\"Rainbow\",\"Rainbow\",\"Rainbow\",\"Rainbow\",\"Rainbow\",\"Rainbow\",\"Rainbow\",\"Rainbow\",\"Rainbow\",\"Rainbow\",\"Rainbow\",\"Rainbow\",\"Rainbow\",\"Rainbow\",\"Rainbow\",\"Rainbow\",\"Rainbow\",\"Rainbow\",\"Rainbow\",\"Rainbow\",\"Rainbow\",\"Rainbow\",\"Rainbow\"],\"type\":\"bar\"},{\"customdata\":[0.01,0.02,0.03,0.04,0.05,0.06,0.07,0.08,0.09,0.1,0.11,0.12,0.13,0.14,0.15,0.16,0.17,0.18,0.19,0.2,0.21,0.22,0.23,0.24,0.25,0.26,0.27,0.28,0.29,0.3,0.31,0.32,0.33,0.34,0.35,0.36,0.37,0.38,0.39,0.4,0.41,0.42,0.43,0.44,0.45,0.46,0.47,0.48,0.49,0.5,0.51,0.52,0.53,0.54,0.55,0.56,0.57,0.58,0.59,0.6,0.61,0.62,0.63,0.64,0.65,0.66,0.67,0.68,0.69,0.7,0.71,0.72,0.73,0.74,0.75,0.76,0.77,0.78,0.79,0.8,0.81,0.82,0.83,0.84,0.85,0.86,0.87,0.88,0.89,0.9,0.91,0.92,0.93,0.94,0.95,0.96,0.97,0.98,0.99,1.0],\"hovertemplate\":\"%{customdata}\",\"marker\":{\"color\":[0,1,2,3,4,5,6,7,8,9,10,11,12,13,14,15,16,17,18,19,20,21,22,23,24,25,26,27,28,29,30,31,32,33,34,35,36,37,38,39,40,41,42,43,44,45,46,47,48,49,50,51,52,53,54,55,56,57,58,59,60,61,62,63,64,65,66,67,68,69,70,71,72,73,74,75,76,77,78,79,80,81,82,83,84,85,86,87,88,89,90,91,92,93,94,95,96,97,98,99],\"colorscale\":[[0.0,\"rgb(0,0,131)\"],[0.2,\"rgb(0,60,170)\"],[0.4,\"rgb(5,255,255)\"],[0.6,\"rgb(255,255,0)\"],[0.8,\"rgb(250,0,0)\"],[1.0,\"rgb(128,0,0)\"]],\"line\":{\"width\":0}},\"name\":\"Jet\",\"orientation\":\"h\",\"x\":[1,1,1,1,1,1,1,1,1,1,1,1,1,1,1,1,1,1,1,1,1,1,1,1,1,1,1,1,1,1,1,1,1,1,1,1,1,1,1,1,1,1,1,1,1,1,1,1,1,1,1,1,1,1,1,1,1,1,1,1,1,1,1,1,1,1,1,1,1,1,1,1,1,1,1,1,1,1,1,1,1,1,1,1,1,1,1,1,1,1,1,1,1,1,1,1,1,1,1,1],\"y\":[\"Jet\",\"Jet\",\"Jet\",\"Jet\",\"Jet\",\"Jet\",\"Jet\",\"Jet\",\"Jet\",\"Jet\",\"Jet\",\"Jet\",\"Jet\",\"Jet\",\"Jet\",\"Jet\",\"Jet\",\"Jet\",\"Jet\",\"Jet\",\"Jet\",\"Jet\",\"Jet\",\"Jet\",\"Jet\",\"Jet\",\"Jet\",\"Jet\",\"Jet\",\"Jet\",\"Jet\",\"Jet\",\"Jet\",\"Jet\",\"Jet\",\"Jet\",\"Jet\",\"Jet\",\"Jet\",\"Jet\",\"Jet\",\"Jet\",\"Jet\",\"Jet\",\"Jet\",\"Jet\",\"Jet\",\"Jet\",\"Jet\",\"Jet\",\"Jet\",\"Jet\",\"Jet\",\"Jet\",\"Jet\",\"Jet\",\"Jet\",\"Jet\",\"Jet\",\"Jet\",\"Jet\",\"Jet\",\"Jet\",\"Jet\",\"Jet\",\"Jet\",\"Jet\",\"Jet\",\"Jet\",\"Jet\",\"Jet\",\"Jet\",\"Jet\",\"Jet\",\"Jet\",\"Jet\",\"Jet\",\"Jet\",\"Jet\",\"Jet\",\"Jet\",\"Jet\",\"Jet\",\"Jet\",\"Jet\",\"Jet\",\"Jet\",\"Jet\",\"Jet\",\"Jet\",\"Jet\",\"Jet\",\"Jet\",\"Jet\",\"Jet\",\"Jet\",\"Jet\",\"Jet\",\"Jet\",\"Jet\"],\"type\":\"bar\"},{\"customdata\":[0.01,0.02,0.03,0.04,0.05,0.06,0.07,0.08,0.09,0.1,0.11,0.12,0.13,0.14,0.15,0.16,0.17,0.18,0.19,0.2,0.21,0.22,0.23,0.24,0.25,0.26,0.27,0.28,0.29,0.3,0.31,0.32,0.33,0.34,0.35,0.36,0.37,0.38,0.39,0.4,0.41,0.42,0.43,0.44,0.45,0.46,0.47,0.48,0.49,0.5,0.51,0.52,0.53,0.54,0.55,0.56,0.57,0.58,0.59,0.6,0.61,0.62,0.63,0.64,0.65,0.66,0.67,0.68,0.69,0.7,0.71,0.72,0.73,0.74,0.75,0.76,0.77,0.78,0.79,0.8,0.81,0.82,0.83,0.84,0.85,0.86,0.87,0.88,0.89,0.9,0.91,0.92,0.93,0.94,0.95,0.96,0.97,0.98,0.99,1.0],\"hovertemplate\":\"%{customdata}\",\"marker\":{\"color\":[0,1,2,3,4,5,6,7,8,9,10,11,12,13,14,15,16,17,18,19,20,21,22,23,24,25,26,27,28,29,30,31,32,33,34,35,36,37,38,39,40,41,42,43,44,45,46,47,48,49,50,51,52,53,54,55,56,57,58,59,60,61,62,63,64,65,66,67,68,69,70,71,72,73,74,75,76,77,78,79,80,81,82,83,84,85,86,87,88,89,90,91,92,93,94,95,96,97,98,99],\"colorscale\":[[0.0,\"rgb(0,0,0)\"],[0.3333333333333333,\"rgb(230,0,0)\"],[0.6666666666666666,\"rgb(255,210,0)\"],[1.0,\"rgb(255,255,255)\"]],\"line\":{\"width\":0}},\"name\":\"Hot\",\"orientation\":\"h\",\"x\":[1,1,1,1,1,1,1,1,1,1,1,1,1,1,1,1,1,1,1,1,1,1,1,1,1,1,1,1,1,1,1,1,1,1,1,1,1,1,1,1,1,1,1,1,1,1,1,1,1,1,1,1,1,1,1,1,1,1,1,1,1,1,1,1,1,1,1,1,1,1,1,1,1,1,1,1,1,1,1,1,1,1,1,1,1,1,1,1,1,1,1,1,1,1,1,1,1,1,1,1],\"y\":[\"Hot\",\"Hot\",\"Hot\",\"Hot\",\"Hot\",\"Hot\",\"Hot\",\"Hot\",\"Hot\",\"Hot\",\"Hot\",\"Hot\",\"Hot\",\"Hot\",\"Hot\",\"Hot\",\"Hot\",\"Hot\",\"Hot\",\"Hot\",\"Hot\",\"Hot\",\"Hot\",\"Hot\",\"Hot\",\"Hot\",\"Hot\",\"Hot\",\"Hot\",\"Hot\",\"Hot\",\"Hot\",\"Hot\",\"Hot\",\"Hot\",\"Hot\",\"Hot\",\"Hot\",\"Hot\",\"Hot\",\"Hot\",\"Hot\",\"Hot\",\"Hot\",\"Hot\",\"Hot\",\"Hot\",\"Hot\",\"Hot\",\"Hot\",\"Hot\",\"Hot\",\"Hot\",\"Hot\",\"Hot\",\"Hot\",\"Hot\",\"Hot\",\"Hot\",\"Hot\",\"Hot\",\"Hot\",\"Hot\",\"Hot\",\"Hot\",\"Hot\",\"Hot\",\"Hot\",\"Hot\",\"Hot\",\"Hot\",\"Hot\",\"Hot\",\"Hot\",\"Hot\",\"Hot\",\"Hot\",\"Hot\",\"Hot\",\"Hot\",\"Hot\",\"Hot\",\"Hot\",\"Hot\",\"Hot\",\"Hot\",\"Hot\",\"Hot\",\"Hot\",\"Hot\",\"Hot\",\"Hot\",\"Hot\",\"Hot\",\"Hot\",\"Hot\",\"Hot\",\"Hot\",\"Hot\",\"Hot\"],\"type\":\"bar\"},{\"customdata\":[0.01,0.02,0.03,0.04,0.05,0.06,0.07,0.08,0.09,0.1,0.11,0.12,0.13,0.14,0.15,0.16,0.17,0.18,0.19,0.2,0.21,0.22,0.23,0.24,0.25,0.26,0.27,0.28,0.29,0.3,0.31,0.32,0.33,0.34,0.35,0.36,0.37,0.38,0.39,0.4,0.41,0.42,0.43,0.44,0.45,0.46,0.47,0.48,0.49,0.5,0.51,0.52,0.53,0.54,0.55,0.56,0.57,0.58,0.59,0.6,0.61,0.62,0.63,0.64,0.65,0.66,0.67,0.68,0.69,0.7,0.71,0.72,0.73,0.74,0.75,0.76,0.77,0.78,0.79,0.8,0.81,0.82,0.83,0.84,0.85,0.86,0.87,0.88,0.89,0.9,0.91,0.92,0.93,0.94,0.95,0.96,0.97,0.98,0.99,1.0],\"hovertemplate\":\"%{customdata}\",\"marker\":{\"color\":[0,1,2,3,4,5,6,7,8,9,10,11,12,13,14,15,16,17,18,19,20,21,22,23,24,25,26,27,28,29,30,31,32,33,34,35,36,37,38,39,40,41,42,43,44,45,46,47,48,49,50,51,52,53,54,55,56,57,58,59,60,61,62,63,64,65,66,67,68,69,70,71,72,73,74,75,76,77,78,79,80,81,82,83,84,85,86,87,88,89,90,91,92,93,94,95,96,97,98,99],\"colorscale\":[[0.0,\"rgb(0,0,0)\"],[0.2,\"rgb(30,0,100)\"],[0.4,\"rgb(120,0,100)\"],[0.6,\"rgb(160,90,0)\"],[0.8,\"rgb(230,200,0)\"],[1.0,\"rgb(255,250,220)\"]],\"line\":{\"width\":0}},\"name\":\"Electric\",\"orientation\":\"h\",\"x\":[1,1,1,1,1,1,1,1,1,1,1,1,1,1,1,1,1,1,1,1,1,1,1,1,1,1,1,1,1,1,1,1,1,1,1,1,1,1,1,1,1,1,1,1,1,1,1,1,1,1,1,1,1,1,1,1,1,1,1,1,1,1,1,1,1,1,1,1,1,1,1,1,1,1,1,1,1,1,1,1,1,1,1,1,1,1,1,1,1,1,1,1,1,1,1,1,1,1,1,1],\"y\":[\"Electric\",\"Electric\",\"Electric\",\"Electric\",\"Electric\",\"Electric\",\"Electric\",\"Electric\",\"Electric\",\"Electric\",\"Electric\",\"Electric\",\"Electric\",\"Electric\",\"Electric\",\"Electric\",\"Electric\",\"Electric\",\"Electric\",\"Electric\",\"Electric\",\"Electric\",\"Electric\",\"Electric\",\"Electric\",\"Electric\",\"Electric\",\"Electric\",\"Electric\",\"Electric\",\"Electric\",\"Electric\",\"Electric\",\"Electric\",\"Electric\",\"Electric\",\"Electric\",\"Electric\",\"Electric\",\"Electric\",\"Electric\",\"Electric\",\"Electric\",\"Electric\",\"Electric\",\"Electric\",\"Electric\",\"Electric\",\"Electric\",\"Electric\",\"Electric\",\"Electric\",\"Electric\",\"Electric\",\"Electric\",\"Electric\",\"Electric\",\"Electric\",\"Electric\",\"Electric\",\"Electric\",\"Electric\",\"Electric\",\"Electric\",\"Electric\",\"Electric\",\"Electric\",\"Electric\",\"Electric\",\"Electric\",\"Electric\",\"Electric\",\"Electric\",\"Electric\",\"Electric\",\"Electric\",\"Electric\",\"Electric\",\"Electric\",\"Electric\",\"Electric\",\"Electric\",\"Electric\",\"Electric\",\"Electric\",\"Electric\",\"Electric\",\"Electric\",\"Electric\",\"Electric\",\"Electric\",\"Electric\",\"Electric\",\"Electric\",\"Electric\",\"Electric\",\"Electric\",\"Electric\",\"Electric\",\"Electric\"],\"type\":\"bar\"},{\"customdata\":[0.01,0.02,0.03,0.04,0.05,0.06,0.07,0.08,0.09,0.1,0.11,0.12,0.13,0.14,0.15,0.16,0.17,0.18,0.19,0.2,0.21,0.22,0.23,0.24,0.25,0.26,0.27,0.28,0.29,0.3,0.31,0.32,0.33,0.34,0.35,0.36,0.37,0.38,0.39,0.4,0.41,0.42,0.43,0.44,0.45,0.46,0.47,0.48,0.49,0.5,0.51,0.52,0.53,0.54,0.55,0.56,0.57,0.58,0.59,0.6,0.61,0.62,0.63,0.64,0.65,0.66,0.67,0.68,0.69,0.7,0.71,0.72,0.73,0.74,0.75,0.76,0.77,0.78,0.79,0.8,0.81,0.82,0.83,0.84,0.85,0.86,0.87,0.88,0.89,0.9,0.91,0.92,0.93,0.94,0.95,0.96,0.97,0.98,0.99,1.0],\"hovertemplate\":\"%{customdata}\",\"marker\":{\"color\":[0,1,2,3,4,5,6,7,8,9,10,11,12,13,14,15,16,17,18,19,20,21,22,23,24,25,26,27,28,29,30,31,32,33,34,35,36,37,38,39,40,41,42,43,44,45,46,47,48,49,50,51,52,53,54,55,56,57,58,59,60,61,62,63,64,65,66,67,68,69,70,71,72,73,74,75,76,77,78,79,80,81,82,83,84,85,86,87,88,89,90,91,92,93,94,95,96,97,98,99],\"colorscale\":[[0.0,\"rgb(0,0,255)\"],[1.0,\"rgb(255,0,0)\"]],\"line\":{\"width\":0}},\"name\":\"Bluered\",\"orientation\":\"h\",\"x\":[1,1,1,1,1,1,1,1,1,1,1,1,1,1,1,1,1,1,1,1,1,1,1,1,1,1,1,1,1,1,1,1,1,1,1,1,1,1,1,1,1,1,1,1,1,1,1,1,1,1,1,1,1,1,1,1,1,1,1,1,1,1,1,1,1,1,1,1,1,1,1,1,1,1,1,1,1,1,1,1,1,1,1,1,1,1,1,1,1,1,1,1,1,1,1,1,1,1,1,1],\"y\":[\"Bluered\",\"Bluered\",\"Bluered\",\"Bluered\",\"Bluered\",\"Bluered\",\"Bluered\",\"Bluered\",\"Bluered\",\"Bluered\",\"Bluered\",\"Bluered\",\"Bluered\",\"Bluered\",\"Bluered\",\"Bluered\",\"Bluered\",\"Bluered\",\"Bluered\",\"Bluered\",\"Bluered\",\"Bluered\",\"Bluered\",\"Bluered\",\"Bluered\",\"Bluered\",\"Bluered\",\"Bluered\",\"Bluered\",\"Bluered\",\"Bluered\",\"Bluered\",\"Bluered\",\"Bluered\",\"Bluered\",\"Bluered\",\"Bluered\",\"Bluered\",\"Bluered\",\"Bluered\",\"Bluered\",\"Bluered\",\"Bluered\",\"Bluered\",\"Bluered\",\"Bluered\",\"Bluered\",\"Bluered\",\"Bluered\",\"Bluered\",\"Bluered\",\"Bluered\",\"Bluered\",\"Bluered\",\"Bluered\",\"Bluered\",\"Bluered\",\"Bluered\",\"Bluered\",\"Bluered\",\"Bluered\",\"Bluered\",\"Bluered\",\"Bluered\",\"Bluered\",\"Bluered\",\"Bluered\",\"Bluered\",\"Bluered\",\"Bluered\",\"Bluered\",\"Bluered\",\"Bluered\",\"Bluered\",\"Bluered\",\"Bluered\",\"Bluered\",\"Bluered\",\"Bluered\",\"Bluered\",\"Bluered\",\"Bluered\",\"Bluered\",\"Bluered\",\"Bluered\",\"Bluered\",\"Bluered\",\"Bluered\",\"Bluered\",\"Bluered\",\"Bluered\",\"Bluered\",\"Bluered\",\"Bluered\",\"Bluered\",\"Bluered\",\"Bluered\",\"Bluered\",\"Bluered\",\"Bluered\"],\"type\":\"bar\"},{\"customdata\":[0.01,0.02,0.03,0.04,0.05,0.06,0.07,0.08,0.09,0.1,0.11,0.12,0.13,0.14,0.15,0.16,0.17,0.18,0.19,0.2,0.21,0.22,0.23,0.24,0.25,0.26,0.27,0.28,0.29,0.3,0.31,0.32,0.33,0.34,0.35,0.36,0.37,0.38,0.39,0.4,0.41,0.42,0.43,0.44,0.45,0.46,0.47,0.48,0.49,0.5,0.51,0.52,0.53,0.54,0.55,0.56,0.57,0.58,0.59,0.6,0.61,0.62,0.63,0.64,0.65,0.66,0.67,0.68,0.69,0.7,0.71,0.72,0.73,0.74,0.75,0.76,0.77,0.78,0.79,0.8,0.81,0.82,0.83,0.84,0.85,0.86,0.87,0.88,0.89,0.9,0.91,0.92,0.93,0.94,0.95,0.96,0.97,0.98,0.99,1.0],\"hovertemplate\":\"%{customdata}\",\"marker\":{\"color\":[0,1,2,3,4,5,6,7,8,9,10,11,12,13,14,15,16,17,18,19,20,21,22,23,24,25,26,27,28,29,30,31,32,33,34,35,36,37,38,39,40,41,42,43,44,45,46,47,48,49,50,51,52,53,54,55,56,57,58,59,60,61,62,63,64,65,66,67,68,69,70,71,72,73,74,75,76,77,78,79,80,81,82,83,84,85,86,87,88,89,90,91,92,93,94,95,96,97,98,99],\"colorscale\":[[0.0,\"rgb(0,0,0)\"],[0.25,\"rgb(230,0,0)\"],[0.5,\"rgb(230,210,0)\"],[0.75,\"rgb(255,255,255)\"],[1.0,\"rgb(160,200,255)\"]],\"line\":{\"width\":0}},\"name\":\"Blackbody\",\"orientation\":\"h\",\"x\":[1,1,1,1,1,1,1,1,1,1,1,1,1,1,1,1,1,1,1,1,1,1,1,1,1,1,1,1,1,1,1,1,1,1,1,1,1,1,1,1,1,1,1,1,1,1,1,1,1,1,1,1,1,1,1,1,1,1,1,1,1,1,1,1,1,1,1,1,1,1,1,1,1,1,1,1,1,1,1,1,1,1,1,1,1,1,1,1,1,1,1,1,1,1,1,1,1,1,1,1],\"y\":[\"Blackbody\",\"Blackbody\",\"Blackbody\",\"Blackbody\",\"Blackbody\",\"Blackbody\",\"Blackbody\",\"Blackbody\",\"Blackbody\",\"Blackbody\",\"Blackbody\",\"Blackbody\",\"Blackbody\",\"Blackbody\",\"Blackbody\",\"Blackbody\",\"Blackbody\",\"Blackbody\",\"Blackbody\",\"Blackbody\",\"Blackbody\",\"Blackbody\",\"Blackbody\",\"Blackbody\",\"Blackbody\",\"Blackbody\",\"Blackbody\",\"Blackbody\",\"Blackbody\",\"Blackbody\",\"Blackbody\",\"Blackbody\",\"Blackbody\",\"Blackbody\",\"Blackbody\",\"Blackbody\",\"Blackbody\",\"Blackbody\",\"Blackbody\",\"Blackbody\",\"Blackbody\",\"Blackbody\",\"Blackbody\",\"Blackbody\",\"Blackbody\",\"Blackbody\",\"Blackbody\",\"Blackbody\",\"Blackbody\",\"Blackbody\",\"Blackbody\",\"Blackbody\",\"Blackbody\",\"Blackbody\",\"Blackbody\",\"Blackbody\",\"Blackbody\",\"Blackbody\",\"Blackbody\",\"Blackbody\",\"Blackbody\",\"Blackbody\",\"Blackbody\",\"Blackbody\",\"Blackbody\",\"Blackbody\",\"Blackbody\",\"Blackbody\",\"Blackbody\",\"Blackbody\",\"Blackbody\",\"Blackbody\",\"Blackbody\",\"Blackbody\",\"Blackbody\",\"Blackbody\",\"Blackbody\",\"Blackbody\",\"Blackbody\",\"Blackbody\",\"Blackbody\",\"Blackbody\",\"Blackbody\",\"Blackbody\",\"Blackbody\",\"Blackbody\",\"Blackbody\",\"Blackbody\",\"Blackbody\",\"Blackbody\",\"Blackbody\",\"Blackbody\",\"Blackbody\",\"Blackbody\",\"Blackbody\",\"Blackbody\",\"Blackbody\",\"Blackbody\",\"Blackbody\",\"Blackbody\"],\"type\":\"bar\"},{\"customdata\":[0.01,0.02,0.03,0.04,0.05,0.06,0.07,0.08,0.09,0.1,0.11,0.12,0.13,0.14,0.15,0.16,0.17,0.18,0.19,0.2,0.21,0.22,0.23,0.24,0.25,0.26,0.27,0.28,0.29,0.3,0.31,0.32,0.33,0.34,0.35,0.36,0.37,0.38,0.39,0.4,0.41,0.42,0.43,0.44,0.45,0.46,0.47,0.48,0.49,0.5,0.51,0.52,0.53,0.54,0.55,0.56,0.57,0.58,0.59,0.6,0.61,0.62,0.63,0.64,0.65,0.66,0.67,0.68,0.69,0.7,0.71,0.72,0.73,0.74,0.75,0.76,0.77,0.78,0.79,0.8,0.81,0.82,0.83,0.84,0.85,0.86,0.87,0.88,0.89,0.9,0.91,0.92,0.93,0.94,0.95,0.96,0.97,0.98,0.99,1.0],\"hovertemplate\":\"%{customdata}\",\"marker\":{\"color\":[0,1,2,3,4,5,6,7,8,9,10,11,12,13,14,15,16,17,18,19,20,21,22,23,24,25,26,27,28,29,30,31,32,33,34,35,36,37,38,39,40,41,42,43,44,45,46,47,48,49,50,51,52,53,54,55,56,57,58,59,60,61,62,63,64,65,66,67,68,69,70,71,72,73,74,75,76,77,78,79,80,81,82,83,84,85,86,87,88,89,90,91,92,93,94,95,96,97,98,99],\"colorscale\":[[0.0,\"#30123b\"],[0.07142857142857142,\"#4145ab\"],[0.14285714285714285,\"#4675ed\"],[0.21428571428571427,\"#39a2fc\"],[0.2857142857142857,\"#1bcfd4\"],[0.35714285714285715,\"#24eca6\"],[0.42857142857142855,\"#61fc6c\"],[0.5,\"#a4fc3b\"],[0.5714285714285714,\"#d1e834\"],[0.6428571428571429,\"#f3c63a\"],[0.7142857142857143,\"#fe9b2d\"],[0.7857142857142857,\"#f36315\"],[0.8571428571428571,\"#d93806\"],[0.9285714285714286,\"#b11901\"],[1.0,\"#7a0402\"]],\"line\":{\"width\":0}},\"name\":\"Turbo\",\"orientation\":\"h\",\"x\":[1,1,1,1,1,1,1,1,1,1,1,1,1,1,1,1,1,1,1,1,1,1,1,1,1,1,1,1,1,1,1,1,1,1,1,1,1,1,1,1,1,1,1,1,1,1,1,1,1,1,1,1,1,1,1,1,1,1,1,1,1,1,1,1,1,1,1,1,1,1,1,1,1,1,1,1,1,1,1,1,1,1,1,1,1,1,1,1,1,1,1,1,1,1,1,1,1,1,1,1],\"y\":[\"Turbo\",\"Turbo\",\"Turbo\",\"Turbo\",\"Turbo\",\"Turbo\",\"Turbo\",\"Turbo\",\"Turbo\",\"Turbo\",\"Turbo\",\"Turbo\",\"Turbo\",\"Turbo\",\"Turbo\",\"Turbo\",\"Turbo\",\"Turbo\",\"Turbo\",\"Turbo\",\"Turbo\",\"Turbo\",\"Turbo\",\"Turbo\",\"Turbo\",\"Turbo\",\"Turbo\",\"Turbo\",\"Turbo\",\"Turbo\",\"Turbo\",\"Turbo\",\"Turbo\",\"Turbo\",\"Turbo\",\"Turbo\",\"Turbo\",\"Turbo\",\"Turbo\",\"Turbo\",\"Turbo\",\"Turbo\",\"Turbo\",\"Turbo\",\"Turbo\",\"Turbo\",\"Turbo\",\"Turbo\",\"Turbo\",\"Turbo\",\"Turbo\",\"Turbo\",\"Turbo\",\"Turbo\",\"Turbo\",\"Turbo\",\"Turbo\",\"Turbo\",\"Turbo\",\"Turbo\",\"Turbo\",\"Turbo\",\"Turbo\",\"Turbo\",\"Turbo\",\"Turbo\",\"Turbo\",\"Turbo\",\"Turbo\",\"Turbo\",\"Turbo\",\"Turbo\",\"Turbo\",\"Turbo\",\"Turbo\",\"Turbo\",\"Turbo\",\"Turbo\",\"Turbo\",\"Turbo\",\"Turbo\",\"Turbo\",\"Turbo\",\"Turbo\",\"Turbo\",\"Turbo\",\"Turbo\",\"Turbo\",\"Turbo\",\"Turbo\",\"Turbo\",\"Turbo\",\"Turbo\",\"Turbo\",\"Turbo\",\"Turbo\",\"Turbo\",\"Turbo\",\"Turbo\",\"Turbo\"],\"type\":\"bar\"},{\"customdata\":[0.01,0.02,0.03,0.04,0.05,0.06,0.07,0.08,0.09,0.1,0.11,0.12,0.13,0.14,0.15,0.16,0.17,0.18,0.19,0.2,0.21,0.22,0.23,0.24,0.25,0.26,0.27,0.28,0.29,0.3,0.31,0.32,0.33,0.34,0.35,0.36,0.37,0.38,0.39,0.4,0.41,0.42,0.43,0.44,0.45,0.46,0.47,0.48,0.49,0.5,0.51,0.52,0.53,0.54,0.55,0.56,0.57,0.58,0.59,0.6,0.61,0.62,0.63,0.64,0.65,0.66,0.67,0.68,0.69,0.7,0.71,0.72,0.73,0.74,0.75,0.76,0.77,0.78,0.79,0.8,0.81,0.82,0.83,0.84,0.85,0.86,0.87,0.88,0.89,0.9,0.91,0.92,0.93,0.94,0.95,0.96,0.97,0.98,0.99,1.0],\"hovertemplate\":\"%{customdata}\",\"marker\":{\"color\":[0,1,2,3,4,5,6,7,8,9,10,11,12,13,14,15,16,17,18,19,20,21,22,23,24,25,26,27,28,29,30,31,32,33,34,35,36,37,38,39,40,41,42,43,44,45,46,47,48,49,50,51,52,53,54,55,56,57,58,59,60,61,62,63,64,65,66,67,68,69,70,71,72,73,74,75,76,77,78,79,80,81,82,83,84,85,86,87,88,89,90,91,92,93,94,95,96,97,98,99],\"colorscale\":[[0.0,\"#0d0887\"],[0.1111111111111111,\"#46039f\"],[0.2222222222222222,\"#7201a8\"],[0.3333333333333333,\"#9c179e\"],[0.4444444444444444,\"#bd3786\"],[0.5555555555555556,\"#d8576b\"],[0.6666666666666666,\"#ed7953\"],[0.7777777777777778,\"#fb9f3a\"],[0.8888888888888888,\"#fdca26\"],[1.0,\"#f0f921\"]],\"line\":{\"width\":0}},\"name\":\"Plasma\",\"orientation\":\"h\",\"x\":[1,1,1,1,1,1,1,1,1,1,1,1,1,1,1,1,1,1,1,1,1,1,1,1,1,1,1,1,1,1,1,1,1,1,1,1,1,1,1,1,1,1,1,1,1,1,1,1,1,1,1,1,1,1,1,1,1,1,1,1,1,1,1,1,1,1,1,1,1,1,1,1,1,1,1,1,1,1,1,1,1,1,1,1,1,1,1,1,1,1,1,1,1,1,1,1,1,1,1,1],\"y\":[\"Plasma\",\"Plasma\",\"Plasma\",\"Plasma\",\"Plasma\",\"Plasma\",\"Plasma\",\"Plasma\",\"Plasma\",\"Plasma\",\"Plasma\",\"Plasma\",\"Plasma\",\"Plasma\",\"Plasma\",\"Plasma\",\"Plasma\",\"Plasma\",\"Plasma\",\"Plasma\",\"Plasma\",\"Plasma\",\"Plasma\",\"Plasma\",\"Plasma\",\"Plasma\",\"Plasma\",\"Plasma\",\"Plasma\",\"Plasma\",\"Plasma\",\"Plasma\",\"Plasma\",\"Plasma\",\"Plasma\",\"Plasma\",\"Plasma\",\"Plasma\",\"Plasma\",\"Plasma\",\"Plasma\",\"Plasma\",\"Plasma\",\"Plasma\",\"Plasma\",\"Plasma\",\"Plasma\",\"Plasma\",\"Plasma\",\"Plasma\",\"Plasma\",\"Plasma\",\"Plasma\",\"Plasma\",\"Plasma\",\"Plasma\",\"Plasma\",\"Plasma\",\"Plasma\",\"Plasma\",\"Plasma\",\"Plasma\",\"Plasma\",\"Plasma\",\"Plasma\",\"Plasma\",\"Plasma\",\"Plasma\",\"Plasma\",\"Plasma\",\"Plasma\",\"Plasma\",\"Plasma\",\"Plasma\",\"Plasma\",\"Plasma\",\"Plasma\",\"Plasma\",\"Plasma\",\"Plasma\",\"Plasma\",\"Plasma\",\"Plasma\",\"Plasma\",\"Plasma\",\"Plasma\",\"Plasma\",\"Plasma\",\"Plasma\",\"Plasma\",\"Plasma\",\"Plasma\",\"Plasma\",\"Plasma\",\"Plasma\",\"Plasma\",\"Plasma\",\"Plasma\",\"Plasma\",\"Plasma\"],\"type\":\"bar\"},{\"customdata\":[0.01,0.02,0.03,0.04,0.05,0.06,0.07,0.08,0.09,0.1,0.11,0.12,0.13,0.14,0.15,0.16,0.17,0.18,0.19,0.2,0.21,0.22,0.23,0.24,0.25,0.26,0.27,0.28,0.29,0.3,0.31,0.32,0.33,0.34,0.35,0.36,0.37,0.38,0.39,0.4,0.41,0.42,0.43,0.44,0.45,0.46,0.47,0.48,0.49,0.5,0.51,0.52,0.53,0.54,0.55,0.56,0.57,0.58,0.59,0.6,0.61,0.62,0.63,0.64,0.65,0.66,0.67,0.68,0.69,0.7,0.71,0.72,0.73,0.74,0.75,0.76,0.77,0.78,0.79,0.8,0.81,0.82,0.83,0.84,0.85,0.86,0.87,0.88,0.89,0.9,0.91,0.92,0.93,0.94,0.95,0.96,0.97,0.98,0.99,1.0],\"hovertemplate\":\"%{customdata}\",\"marker\":{\"color\":[0,1,2,3,4,5,6,7,8,9,10,11,12,13,14,15,16,17,18,19,20,21,22,23,24,25,26,27,28,29,30,31,32,33,34,35,36,37,38,39,40,41,42,43,44,45,46,47,48,49,50,51,52,53,54,55,56,57,58,59,60,61,62,63,64,65,66,67,68,69,70,71,72,73,74,75,76,77,78,79,80,81,82,83,84,85,86,87,88,89,90,91,92,93,94,95,96,97,98,99],\"colorscale\":[[0.0,\"#000004\"],[0.1111111111111111,\"#180f3d\"],[0.2222222222222222,\"#440f76\"],[0.3333333333333333,\"#721f81\"],[0.4444444444444444,\"#9e2f7f\"],[0.5555555555555556,\"#cd4071\"],[0.6666666666666666,\"#f1605d\"],[0.7777777777777778,\"#fd9668\"],[0.8888888888888888,\"#feca8d\"],[1.0,\"#fcfdbf\"]],\"line\":{\"width\":0}},\"name\":\"Magma\",\"orientation\":\"h\",\"x\":[1,1,1,1,1,1,1,1,1,1,1,1,1,1,1,1,1,1,1,1,1,1,1,1,1,1,1,1,1,1,1,1,1,1,1,1,1,1,1,1,1,1,1,1,1,1,1,1,1,1,1,1,1,1,1,1,1,1,1,1,1,1,1,1,1,1,1,1,1,1,1,1,1,1,1,1,1,1,1,1,1,1,1,1,1,1,1,1,1,1,1,1,1,1,1,1,1,1,1,1],\"y\":[\"Magma\",\"Magma\",\"Magma\",\"Magma\",\"Magma\",\"Magma\",\"Magma\",\"Magma\",\"Magma\",\"Magma\",\"Magma\",\"Magma\",\"Magma\",\"Magma\",\"Magma\",\"Magma\",\"Magma\",\"Magma\",\"Magma\",\"Magma\",\"Magma\",\"Magma\",\"Magma\",\"Magma\",\"Magma\",\"Magma\",\"Magma\",\"Magma\",\"Magma\",\"Magma\",\"Magma\",\"Magma\",\"Magma\",\"Magma\",\"Magma\",\"Magma\",\"Magma\",\"Magma\",\"Magma\",\"Magma\",\"Magma\",\"Magma\",\"Magma\",\"Magma\",\"Magma\",\"Magma\",\"Magma\",\"Magma\",\"Magma\",\"Magma\",\"Magma\",\"Magma\",\"Magma\",\"Magma\",\"Magma\",\"Magma\",\"Magma\",\"Magma\",\"Magma\",\"Magma\",\"Magma\",\"Magma\",\"Magma\",\"Magma\",\"Magma\",\"Magma\",\"Magma\",\"Magma\",\"Magma\",\"Magma\",\"Magma\",\"Magma\",\"Magma\",\"Magma\",\"Magma\",\"Magma\",\"Magma\",\"Magma\",\"Magma\",\"Magma\",\"Magma\",\"Magma\",\"Magma\",\"Magma\",\"Magma\",\"Magma\",\"Magma\",\"Magma\",\"Magma\",\"Magma\",\"Magma\",\"Magma\",\"Magma\",\"Magma\",\"Magma\",\"Magma\",\"Magma\",\"Magma\",\"Magma\",\"Magma\"],\"type\":\"bar\"},{\"customdata\":[0.01,0.02,0.03,0.04,0.05,0.06,0.07,0.08,0.09,0.1,0.11,0.12,0.13,0.14,0.15,0.16,0.17,0.18,0.19,0.2,0.21,0.22,0.23,0.24,0.25,0.26,0.27,0.28,0.29,0.3,0.31,0.32,0.33,0.34,0.35,0.36,0.37,0.38,0.39,0.4,0.41,0.42,0.43,0.44,0.45,0.46,0.47,0.48,0.49,0.5,0.51,0.52,0.53,0.54,0.55,0.56,0.57,0.58,0.59,0.6,0.61,0.62,0.63,0.64,0.65,0.66,0.67,0.68,0.69,0.7,0.71,0.72,0.73,0.74,0.75,0.76,0.77,0.78,0.79,0.8,0.81,0.82,0.83,0.84,0.85,0.86,0.87,0.88,0.89,0.9,0.91,0.92,0.93,0.94,0.95,0.96,0.97,0.98,0.99,1.0],\"hovertemplate\":\"%{customdata}\",\"marker\":{\"color\":[0,1,2,3,4,5,6,7,8,9,10,11,12,13,14,15,16,17,18,19,20,21,22,23,24,25,26,27,28,29,30,31,32,33,34,35,36,37,38,39,40,41,42,43,44,45,46,47,48,49,50,51,52,53,54,55,56,57,58,59,60,61,62,63,64,65,66,67,68,69,70,71,72,73,74,75,76,77,78,79,80,81,82,83,84,85,86,87,88,89,90,91,92,93,94,95,96,97,98,99],\"colorscale\":[[0.0,\"#000004\"],[0.1111111111111111,\"#1b0c41\"],[0.2222222222222222,\"#4a0c6b\"],[0.3333333333333333,\"#781c6d\"],[0.4444444444444444,\"#a52c60\"],[0.5555555555555556,\"#cf4446\"],[0.6666666666666666,\"#ed6925\"],[0.7777777777777778,\"#fb9b06\"],[0.8888888888888888,\"#f7d13d\"],[1.0,\"#fcffa4\"]],\"line\":{\"width\":0}},\"name\":\"Inferno\",\"orientation\":\"h\",\"x\":[1,1,1,1,1,1,1,1,1,1,1,1,1,1,1,1,1,1,1,1,1,1,1,1,1,1,1,1,1,1,1,1,1,1,1,1,1,1,1,1,1,1,1,1,1,1,1,1,1,1,1,1,1,1,1,1,1,1,1,1,1,1,1,1,1,1,1,1,1,1,1,1,1,1,1,1,1,1,1,1,1,1,1,1,1,1,1,1,1,1,1,1,1,1,1,1,1,1,1,1],\"y\":[\"Inferno\",\"Inferno\",\"Inferno\",\"Inferno\",\"Inferno\",\"Inferno\",\"Inferno\",\"Inferno\",\"Inferno\",\"Inferno\",\"Inferno\",\"Inferno\",\"Inferno\",\"Inferno\",\"Inferno\",\"Inferno\",\"Inferno\",\"Inferno\",\"Inferno\",\"Inferno\",\"Inferno\",\"Inferno\",\"Inferno\",\"Inferno\",\"Inferno\",\"Inferno\",\"Inferno\",\"Inferno\",\"Inferno\",\"Inferno\",\"Inferno\",\"Inferno\",\"Inferno\",\"Inferno\",\"Inferno\",\"Inferno\",\"Inferno\",\"Inferno\",\"Inferno\",\"Inferno\",\"Inferno\",\"Inferno\",\"Inferno\",\"Inferno\",\"Inferno\",\"Inferno\",\"Inferno\",\"Inferno\",\"Inferno\",\"Inferno\",\"Inferno\",\"Inferno\",\"Inferno\",\"Inferno\",\"Inferno\",\"Inferno\",\"Inferno\",\"Inferno\",\"Inferno\",\"Inferno\",\"Inferno\",\"Inferno\",\"Inferno\",\"Inferno\",\"Inferno\",\"Inferno\",\"Inferno\",\"Inferno\",\"Inferno\",\"Inferno\",\"Inferno\",\"Inferno\",\"Inferno\",\"Inferno\",\"Inferno\",\"Inferno\",\"Inferno\",\"Inferno\",\"Inferno\",\"Inferno\",\"Inferno\",\"Inferno\",\"Inferno\",\"Inferno\",\"Inferno\",\"Inferno\",\"Inferno\",\"Inferno\",\"Inferno\",\"Inferno\",\"Inferno\",\"Inferno\",\"Inferno\",\"Inferno\",\"Inferno\",\"Inferno\",\"Inferno\",\"Inferno\",\"Inferno\",\"Inferno\"],\"type\":\"bar\"},{\"customdata\":[0.01,0.02,0.03,0.04,0.05,0.06,0.07,0.08,0.09,0.1,0.11,0.12,0.13,0.14,0.15,0.16,0.17,0.18,0.19,0.2,0.21,0.22,0.23,0.24,0.25,0.26,0.27,0.28,0.29,0.3,0.31,0.32,0.33,0.34,0.35,0.36,0.37,0.38,0.39,0.4,0.41,0.42,0.43,0.44,0.45,0.46,0.47,0.48,0.49,0.5,0.51,0.52,0.53,0.54,0.55,0.56,0.57,0.58,0.59,0.6,0.61,0.62,0.63,0.64,0.65,0.66,0.67,0.68,0.69,0.7,0.71,0.72,0.73,0.74,0.75,0.76,0.77,0.78,0.79,0.8,0.81,0.82,0.83,0.84,0.85,0.86,0.87,0.88,0.89,0.9,0.91,0.92,0.93,0.94,0.95,0.96,0.97,0.98,0.99,1.0],\"hovertemplate\":\"%{customdata}\",\"marker\":{\"color\":[0,1,2,3,4,5,6,7,8,9,10,11,12,13,14,15,16,17,18,19,20,21,22,23,24,25,26,27,28,29,30,31,32,33,34,35,36,37,38,39,40,41,42,43,44,45,46,47,48,49,50,51,52,53,54,55,56,57,58,59,60,61,62,63,64,65,66,67,68,69,70,71,72,73,74,75,76,77,78,79,80,81,82,83,84,85,86,87,88,89,90,91,92,93,94,95,96,97,98,99],\"colorscale\":[[0.0,\"#00224e\"],[0.1111111111111111,\"#123570\"],[0.2222222222222222,\"#3b496c\"],[0.3333333333333333,\"#575d6d\"],[0.4444444444444444,\"#707173\"],[0.5555555555555556,\"#8a8678\"],[0.6666666666666666,\"#a59c74\"],[0.7777777777777778,\"#c3b369\"],[0.8888888888888888,\"#e1cc55\"],[1.0,\"#fee838\"]],\"line\":{\"width\":0}},\"name\":\"Cividis\",\"orientation\":\"h\",\"x\":[1,1,1,1,1,1,1,1,1,1,1,1,1,1,1,1,1,1,1,1,1,1,1,1,1,1,1,1,1,1,1,1,1,1,1,1,1,1,1,1,1,1,1,1,1,1,1,1,1,1,1,1,1,1,1,1,1,1,1,1,1,1,1,1,1,1,1,1,1,1,1,1,1,1,1,1,1,1,1,1,1,1,1,1,1,1,1,1,1,1,1,1,1,1,1,1,1,1,1,1],\"y\":[\"Cividis\",\"Cividis\",\"Cividis\",\"Cividis\",\"Cividis\",\"Cividis\",\"Cividis\",\"Cividis\",\"Cividis\",\"Cividis\",\"Cividis\",\"Cividis\",\"Cividis\",\"Cividis\",\"Cividis\",\"Cividis\",\"Cividis\",\"Cividis\",\"Cividis\",\"Cividis\",\"Cividis\",\"Cividis\",\"Cividis\",\"Cividis\",\"Cividis\",\"Cividis\",\"Cividis\",\"Cividis\",\"Cividis\",\"Cividis\",\"Cividis\",\"Cividis\",\"Cividis\",\"Cividis\",\"Cividis\",\"Cividis\",\"Cividis\",\"Cividis\",\"Cividis\",\"Cividis\",\"Cividis\",\"Cividis\",\"Cividis\",\"Cividis\",\"Cividis\",\"Cividis\",\"Cividis\",\"Cividis\",\"Cividis\",\"Cividis\",\"Cividis\",\"Cividis\",\"Cividis\",\"Cividis\",\"Cividis\",\"Cividis\",\"Cividis\",\"Cividis\",\"Cividis\",\"Cividis\",\"Cividis\",\"Cividis\",\"Cividis\",\"Cividis\",\"Cividis\",\"Cividis\",\"Cividis\",\"Cividis\",\"Cividis\",\"Cividis\",\"Cividis\",\"Cividis\",\"Cividis\",\"Cividis\",\"Cividis\",\"Cividis\",\"Cividis\",\"Cividis\",\"Cividis\",\"Cividis\",\"Cividis\",\"Cividis\",\"Cividis\",\"Cividis\",\"Cividis\",\"Cividis\",\"Cividis\",\"Cividis\",\"Cividis\",\"Cividis\",\"Cividis\",\"Cividis\",\"Cividis\",\"Cividis\",\"Cividis\",\"Cividis\",\"Cividis\",\"Cividis\",\"Cividis\",\"Cividis\"],\"type\":\"bar\"},{\"customdata\":[0.01,0.02,0.03,0.04,0.05,0.06,0.07,0.08,0.09,0.1,0.11,0.12,0.13,0.14,0.15,0.16,0.17,0.18,0.19,0.2,0.21,0.22,0.23,0.24,0.25,0.26,0.27,0.28,0.29,0.3,0.31,0.32,0.33,0.34,0.35,0.36,0.37,0.38,0.39,0.4,0.41,0.42,0.43,0.44,0.45,0.46,0.47,0.48,0.49,0.5,0.51,0.52,0.53,0.54,0.55,0.56,0.57,0.58,0.59,0.6,0.61,0.62,0.63,0.64,0.65,0.66,0.67,0.68,0.69,0.7,0.71,0.72,0.73,0.74,0.75,0.76,0.77,0.78,0.79,0.8,0.81,0.82,0.83,0.84,0.85,0.86,0.87,0.88,0.89,0.9,0.91,0.92,0.93,0.94,0.95,0.96,0.97,0.98,0.99,1.0],\"hovertemplate\":\"%{customdata}\",\"marker\":{\"color\":[0,1,2,3,4,5,6,7,8,9,10,11,12,13,14,15,16,17,18,19,20,21,22,23,24,25,26,27,28,29,30,31,32,33,34,35,36,37,38,39,40,41,42,43,44,45,46,47,48,49,50,51,52,53,54,55,56,57,58,59,60,61,62,63,64,65,66,67,68,69,70,71,72,73,74,75,76,77,78,79,80,81,82,83,84,85,86,87,88,89,90,91,92,93,94,95,96,97,98,99],\"colorscale\":[[0.0,\"#440154\"],[0.1111111111111111,\"#482878\"],[0.2222222222222222,\"#3e4989\"],[0.3333333333333333,\"#31688e\"],[0.4444444444444444,\"#26828e\"],[0.5555555555555556,\"#1f9e89\"],[0.6666666666666666,\"#35b779\"],[0.7777777777777778,\"#6ece58\"],[0.8888888888888888,\"#b5de2b\"],[1.0,\"#fde725\"]],\"line\":{\"width\":0}},\"name\":\"Viridis\",\"orientation\":\"h\",\"x\":[1,1,1,1,1,1,1,1,1,1,1,1,1,1,1,1,1,1,1,1,1,1,1,1,1,1,1,1,1,1,1,1,1,1,1,1,1,1,1,1,1,1,1,1,1,1,1,1,1,1,1,1,1,1,1,1,1,1,1,1,1,1,1,1,1,1,1,1,1,1,1,1,1,1,1,1,1,1,1,1,1,1,1,1,1,1,1,1,1,1,1,1,1,1,1,1,1,1,1,1],\"y\":[\"Viridis\",\"Viridis\",\"Viridis\",\"Viridis\",\"Viridis\",\"Viridis\",\"Viridis\",\"Viridis\",\"Viridis\",\"Viridis\",\"Viridis\",\"Viridis\",\"Viridis\",\"Viridis\",\"Viridis\",\"Viridis\",\"Viridis\",\"Viridis\",\"Viridis\",\"Viridis\",\"Viridis\",\"Viridis\",\"Viridis\",\"Viridis\",\"Viridis\",\"Viridis\",\"Viridis\",\"Viridis\",\"Viridis\",\"Viridis\",\"Viridis\",\"Viridis\",\"Viridis\",\"Viridis\",\"Viridis\",\"Viridis\",\"Viridis\",\"Viridis\",\"Viridis\",\"Viridis\",\"Viridis\",\"Viridis\",\"Viridis\",\"Viridis\",\"Viridis\",\"Viridis\",\"Viridis\",\"Viridis\",\"Viridis\",\"Viridis\",\"Viridis\",\"Viridis\",\"Viridis\",\"Viridis\",\"Viridis\",\"Viridis\",\"Viridis\",\"Viridis\",\"Viridis\",\"Viridis\",\"Viridis\",\"Viridis\",\"Viridis\",\"Viridis\",\"Viridis\",\"Viridis\",\"Viridis\",\"Viridis\",\"Viridis\",\"Viridis\",\"Viridis\",\"Viridis\",\"Viridis\",\"Viridis\",\"Viridis\",\"Viridis\",\"Viridis\",\"Viridis\",\"Viridis\",\"Viridis\",\"Viridis\",\"Viridis\",\"Viridis\",\"Viridis\",\"Viridis\",\"Viridis\",\"Viridis\",\"Viridis\",\"Viridis\",\"Viridis\",\"Viridis\",\"Viridis\",\"Viridis\",\"Viridis\",\"Viridis\",\"Viridis\",\"Viridis\",\"Viridis\",\"Viridis\",\"Viridis\"],\"type\":\"bar\"},{\"customdata\":[0.01,0.02,0.03,0.04,0.05,0.06,0.07,0.08,0.09,0.1,0.11,0.12,0.13,0.14,0.15,0.16,0.17,0.18,0.19,0.2,0.21,0.22,0.23,0.24,0.25,0.26,0.27,0.28,0.29,0.3,0.31,0.32,0.33,0.34,0.35,0.36,0.37,0.38,0.39,0.4,0.41,0.42,0.43,0.44,0.45,0.46,0.47,0.48,0.49,0.5,0.51,0.52,0.53,0.54,0.55,0.56,0.57,0.58,0.59,0.6,0.61,0.62,0.63,0.64,0.65,0.66,0.67,0.68,0.69,0.7,0.71,0.72,0.73,0.74,0.75,0.76,0.77,0.78,0.79,0.8,0.81,0.82,0.83,0.84,0.85,0.86,0.87,0.88,0.89,0.9,0.91,0.92,0.93,0.94,0.95,0.96,0.97,0.98,0.99,1.0],\"hovertemplate\":\"%{customdata}\",\"marker\":{\"color\":[0,1,2,3,4,5,6,7,8,9,10,11,12,13,14,15,16,17,18,19,20,21,22,23,24,25,26,27,28,29,30,31,32,33,34,35,36,37,38,39,40,41,42,43,44,45,46,47,48,49,50,51,52,53,54,55,56,57,58,59,60,61,62,63,64,65,66,67,68,69,70,71,72,73,74,75,76,77,78,79,80,81,82,83,84,85,86,87,88,89,90,91,92,93,94,95,96,97,98,99],\"colorscale\":[[0.0,\"#0508b8\"],[0.08333333333333333,\"#1910d8\"],[0.16666666666666666,\"#3c19f0\"],[0.25,\"#6b1cfb\"],[0.3333333333333333,\"#981cfd\"],[0.4166666666666667,\"#bf1cfd\"],[0.5,\"#dd2bfd\"],[0.5833333333333334,\"#f246fe\"],[0.6666666666666666,\"#fc67fd\"],[0.75,\"#fe88fc\"],[0.8333333333333334,\"#fea5fd\"],[0.9166666666666666,\"#febefe\"],[1.0,\"#fec3fe\"]],\"line\":{\"width\":0}},\"name\":\"Plotly3\",\"orientation\":\"h\",\"x\":[1,1,1,1,1,1,1,1,1,1,1,1,1,1,1,1,1,1,1,1,1,1,1,1,1,1,1,1,1,1,1,1,1,1,1,1,1,1,1,1,1,1,1,1,1,1,1,1,1,1,1,1,1,1,1,1,1,1,1,1,1,1,1,1,1,1,1,1,1,1,1,1,1,1,1,1,1,1,1,1,1,1,1,1,1,1,1,1,1,1,1,1,1,1,1,1,1,1,1,1],\"y\":[\"Plotly3\",\"Plotly3\",\"Plotly3\",\"Plotly3\",\"Plotly3\",\"Plotly3\",\"Plotly3\",\"Plotly3\",\"Plotly3\",\"Plotly3\",\"Plotly3\",\"Plotly3\",\"Plotly3\",\"Plotly3\",\"Plotly3\",\"Plotly3\",\"Plotly3\",\"Plotly3\",\"Plotly3\",\"Plotly3\",\"Plotly3\",\"Plotly3\",\"Plotly3\",\"Plotly3\",\"Plotly3\",\"Plotly3\",\"Plotly3\",\"Plotly3\",\"Plotly3\",\"Plotly3\",\"Plotly3\",\"Plotly3\",\"Plotly3\",\"Plotly3\",\"Plotly3\",\"Plotly3\",\"Plotly3\",\"Plotly3\",\"Plotly3\",\"Plotly3\",\"Plotly3\",\"Plotly3\",\"Plotly3\",\"Plotly3\",\"Plotly3\",\"Plotly3\",\"Plotly3\",\"Plotly3\",\"Plotly3\",\"Plotly3\",\"Plotly3\",\"Plotly3\",\"Plotly3\",\"Plotly3\",\"Plotly3\",\"Plotly3\",\"Plotly3\",\"Plotly3\",\"Plotly3\",\"Plotly3\",\"Plotly3\",\"Plotly3\",\"Plotly3\",\"Plotly3\",\"Plotly3\",\"Plotly3\",\"Plotly3\",\"Plotly3\",\"Plotly3\",\"Plotly3\",\"Plotly3\",\"Plotly3\",\"Plotly3\",\"Plotly3\",\"Plotly3\",\"Plotly3\",\"Plotly3\",\"Plotly3\",\"Plotly3\",\"Plotly3\",\"Plotly3\",\"Plotly3\",\"Plotly3\",\"Plotly3\",\"Plotly3\",\"Plotly3\",\"Plotly3\",\"Plotly3\",\"Plotly3\",\"Plotly3\",\"Plotly3\",\"Plotly3\",\"Plotly3\",\"Plotly3\",\"Plotly3\",\"Plotly3\",\"Plotly3\",\"Plotly3\",\"Plotly3\",\"Plotly3\"],\"type\":\"bar\"}],                        {\"bargap\":0.3,\"barmode\":\"stack\",\"barnorm\":\"fraction\",\"height\":2640,\"margin\":{\"b\":10},\"showlegend\":false,\"template\":{\"data\":{\"barpolar\":[{\"marker\":{\"line\":{\"color\":\"#E5ECF6\",\"width\":0.5},\"pattern\":{\"fillmode\":\"overlay\",\"size\":10,\"solidity\":0.2}},\"type\":\"barpolar\"}],\"bar\":[{\"error_x\":{\"color\":\"#2a3f5f\"},\"error_y\":{\"color\":\"#2a3f5f\"},\"marker\":{\"line\":{\"color\":\"#E5ECF6\",\"width\":0.5},\"pattern\":{\"fillmode\":\"overlay\",\"size\":10,\"solidity\":0.2}},\"type\":\"bar\"}],\"carpet\":[{\"aaxis\":{\"endlinecolor\":\"#2a3f5f\",\"gridcolor\":\"white\",\"linecolor\":\"white\",\"minorgridcolor\":\"white\",\"startlinecolor\":\"#2a3f5f\"},\"baxis\":{\"endlinecolor\":\"#2a3f5f\",\"gridcolor\":\"white\",\"linecolor\":\"white\",\"minorgridcolor\":\"white\",\"startlinecolor\":\"#2a3f5f\"},\"type\":\"carpet\"}],\"choropleth\":[{\"colorbar\":{\"outlinewidth\":0,\"ticks\":\"\"},\"type\":\"choropleth\"}],\"contourcarpet\":[{\"colorbar\":{\"outlinewidth\":0,\"ticks\":\"\"},\"type\":\"contourcarpet\"}],\"contour\":[{\"colorbar\":{\"outlinewidth\":0,\"ticks\":\"\"},\"colorscale\":[[0.0,\"#0d0887\"],[0.1111111111111111,\"#46039f\"],[0.2222222222222222,\"#7201a8\"],[0.3333333333333333,\"#9c179e\"],[0.4444444444444444,\"#bd3786\"],[0.5555555555555556,\"#d8576b\"],[0.6666666666666666,\"#ed7953\"],[0.7777777777777778,\"#fb9f3a\"],[0.8888888888888888,\"#fdca26\"],[1.0,\"#f0f921\"]],\"type\":\"contour\"}],\"heatmapgl\":[{\"colorbar\":{\"outlinewidth\":0,\"ticks\":\"\"},\"colorscale\":[[0.0,\"#0d0887\"],[0.1111111111111111,\"#46039f\"],[0.2222222222222222,\"#7201a8\"],[0.3333333333333333,\"#9c179e\"],[0.4444444444444444,\"#bd3786\"],[0.5555555555555556,\"#d8576b\"],[0.6666666666666666,\"#ed7953\"],[0.7777777777777778,\"#fb9f3a\"],[0.8888888888888888,\"#fdca26\"],[1.0,\"#f0f921\"]],\"type\":\"heatmapgl\"}],\"heatmap\":[{\"colorbar\":{\"outlinewidth\":0,\"ticks\":\"\"},\"colorscale\":[[0.0,\"#0d0887\"],[0.1111111111111111,\"#46039f\"],[0.2222222222222222,\"#7201a8\"],[0.3333333333333333,\"#9c179e\"],[0.4444444444444444,\"#bd3786\"],[0.5555555555555556,\"#d8576b\"],[0.6666666666666666,\"#ed7953\"],[0.7777777777777778,\"#fb9f3a\"],[0.8888888888888888,\"#fdca26\"],[1.0,\"#f0f921\"]],\"type\":\"heatmap\"}],\"histogram2dcontour\":[{\"colorbar\":{\"outlinewidth\":0,\"ticks\":\"\"},\"colorscale\":[[0.0,\"#0d0887\"],[0.1111111111111111,\"#46039f\"],[0.2222222222222222,\"#7201a8\"],[0.3333333333333333,\"#9c179e\"],[0.4444444444444444,\"#bd3786\"],[0.5555555555555556,\"#d8576b\"],[0.6666666666666666,\"#ed7953\"],[0.7777777777777778,\"#fb9f3a\"],[0.8888888888888888,\"#fdca26\"],[1.0,\"#f0f921\"]],\"type\":\"histogram2dcontour\"}],\"histogram2d\":[{\"colorbar\":{\"outlinewidth\":0,\"ticks\":\"\"},\"colorscale\":[[0.0,\"#0d0887\"],[0.1111111111111111,\"#46039f\"],[0.2222222222222222,\"#7201a8\"],[0.3333333333333333,\"#9c179e\"],[0.4444444444444444,\"#bd3786\"],[0.5555555555555556,\"#d8576b\"],[0.6666666666666666,\"#ed7953\"],[0.7777777777777778,\"#fb9f3a\"],[0.8888888888888888,\"#fdca26\"],[1.0,\"#f0f921\"]],\"type\":\"histogram2d\"}],\"histogram\":[{\"marker\":{\"pattern\":{\"fillmode\":\"overlay\",\"size\":10,\"solidity\":0.2}},\"type\":\"histogram\"}],\"mesh3d\":[{\"colorbar\":{\"outlinewidth\":0,\"ticks\":\"\"},\"type\":\"mesh3d\"}],\"parcoords\":[{\"line\":{\"colorbar\":{\"outlinewidth\":0,\"ticks\":\"\"}},\"type\":\"parcoords\"}],\"pie\":[{\"automargin\":true,\"type\":\"pie\"}],\"scatter3d\":[{\"line\":{\"colorbar\":{\"outlinewidth\":0,\"ticks\":\"\"}},\"marker\":{\"colorbar\":{\"outlinewidth\":0,\"ticks\":\"\"}},\"type\":\"scatter3d\"}],\"scattercarpet\":[{\"marker\":{\"colorbar\":{\"outlinewidth\":0,\"ticks\":\"\"}},\"type\":\"scattercarpet\"}],\"scattergeo\":[{\"marker\":{\"colorbar\":{\"outlinewidth\":0,\"ticks\":\"\"}},\"type\":\"scattergeo\"}],\"scattergl\":[{\"marker\":{\"colorbar\":{\"outlinewidth\":0,\"ticks\":\"\"}},\"type\":\"scattergl\"}],\"scattermapbox\":[{\"marker\":{\"colorbar\":{\"outlinewidth\":0,\"ticks\":\"\"}},\"type\":\"scattermapbox\"}],\"scatterpolargl\":[{\"marker\":{\"colorbar\":{\"outlinewidth\":0,\"ticks\":\"\"}},\"type\":\"scatterpolargl\"}],\"scatterpolar\":[{\"marker\":{\"colorbar\":{\"outlinewidth\":0,\"ticks\":\"\"}},\"type\":\"scatterpolar\"}],\"scatter\":[{\"fillpattern\":{\"fillmode\":\"overlay\",\"size\":10,\"solidity\":0.2},\"type\":\"scatter\"}],\"scatterternary\":[{\"marker\":{\"colorbar\":{\"outlinewidth\":0,\"ticks\":\"\"}},\"type\":\"scatterternary\"}],\"surface\":[{\"colorbar\":{\"outlinewidth\":0,\"ticks\":\"\"},\"colorscale\":[[0.0,\"#0d0887\"],[0.1111111111111111,\"#46039f\"],[0.2222222222222222,\"#7201a8\"],[0.3333333333333333,\"#9c179e\"],[0.4444444444444444,\"#bd3786\"],[0.5555555555555556,\"#d8576b\"],[0.6666666666666666,\"#ed7953\"],[0.7777777777777778,\"#fb9f3a\"],[0.8888888888888888,\"#fdca26\"],[1.0,\"#f0f921\"]],\"type\":\"surface\"}],\"table\":[{\"cells\":{\"fill\":{\"color\":\"#EBF0F8\"},\"line\":{\"color\":\"white\"}},\"header\":{\"fill\":{\"color\":\"#C8D4E3\"},\"line\":{\"color\":\"white\"}},\"type\":\"table\"}]},\"layout\":{\"annotationdefaults\":{\"arrowcolor\":\"#2a3f5f\",\"arrowhead\":0,\"arrowwidth\":1},\"autotypenumbers\":\"strict\",\"coloraxis\":{\"colorbar\":{\"outlinewidth\":0,\"ticks\":\"\"}},\"colorscale\":{\"diverging\":[[0,\"#8e0152\"],[0.1,\"#c51b7d\"],[0.2,\"#de77ae\"],[0.3,\"#f1b6da\"],[0.4,\"#fde0ef\"],[0.5,\"#f7f7f7\"],[0.6,\"#e6f5d0\"],[0.7,\"#b8e186\"],[0.8,\"#7fbc41\"],[0.9,\"#4d9221\"],[1,\"#276419\"]],\"sequential\":[[0.0,\"#0d0887\"],[0.1111111111111111,\"#46039f\"],[0.2222222222222222,\"#7201a8\"],[0.3333333333333333,\"#9c179e\"],[0.4444444444444444,\"#bd3786\"],[0.5555555555555556,\"#d8576b\"],[0.6666666666666666,\"#ed7953\"],[0.7777777777777778,\"#fb9f3a\"],[0.8888888888888888,\"#fdca26\"],[1.0,\"#f0f921\"]],\"sequentialminus\":[[0.0,\"#0d0887\"],[0.1111111111111111,\"#46039f\"],[0.2222222222222222,\"#7201a8\"],[0.3333333333333333,\"#9c179e\"],[0.4444444444444444,\"#bd3786\"],[0.5555555555555556,\"#d8576b\"],[0.6666666666666666,\"#ed7953\"],[0.7777777777777778,\"#fb9f3a\"],[0.8888888888888888,\"#fdca26\"],[1.0,\"#f0f921\"]]},\"colorway\":[\"#636efa\",\"#EF553B\",\"#00cc96\",\"#ab63fa\",\"#FFA15A\",\"#19d3f3\",\"#FF6692\",\"#B6E880\",\"#FF97FF\",\"#FECB52\"],\"font\":{\"color\":\"#2a3f5f\"},\"geo\":{\"bgcolor\":\"white\",\"lakecolor\":\"white\",\"landcolor\":\"#E5ECF6\",\"showlakes\":true,\"showland\":true,\"subunitcolor\":\"white\"},\"hoverlabel\":{\"align\":\"left\"},\"hovermode\":\"closest\",\"mapbox\":{\"style\":\"light\"},\"paper_bgcolor\":\"white\",\"plot_bgcolor\":\"#E5ECF6\",\"polar\":{\"angularaxis\":{\"gridcolor\":\"white\",\"linecolor\":\"white\",\"ticks\":\"\"},\"bgcolor\":\"#E5ECF6\",\"radialaxis\":{\"gridcolor\":\"white\",\"linecolor\":\"white\",\"ticks\":\"\"}},\"scene\":{\"xaxis\":{\"backgroundcolor\":\"#E5ECF6\",\"gridcolor\":\"white\",\"gridwidth\":2,\"linecolor\":\"white\",\"showbackground\":true,\"ticks\":\"\",\"zerolinecolor\":\"white\"},\"yaxis\":{\"backgroundcolor\":\"#E5ECF6\",\"gridcolor\":\"white\",\"gridwidth\":2,\"linecolor\":\"white\",\"showbackground\":true,\"ticks\":\"\",\"zerolinecolor\":\"white\"},\"zaxis\":{\"backgroundcolor\":\"#E5ECF6\",\"gridcolor\":\"white\",\"gridwidth\":2,\"linecolor\":\"white\",\"showbackground\":true,\"ticks\":\"\",\"zerolinecolor\":\"white\"}},\"shapedefaults\":{\"line\":{\"color\":\"#2a3f5f\"}},\"ternary\":{\"aaxis\":{\"gridcolor\":\"white\",\"linecolor\":\"white\",\"ticks\":\"\"},\"baxis\":{\"gridcolor\":\"white\",\"linecolor\":\"white\",\"ticks\":\"\"},\"bgcolor\":\"#E5ECF6\",\"caxis\":{\"gridcolor\":\"white\",\"linecolor\":\"white\",\"ticks\":\"\"}},\"title\":{\"x\":0.05},\"xaxis\":{\"automargin\":true,\"gridcolor\":\"white\",\"linecolor\":\"white\",\"ticks\":\"\",\"title\":{\"standoff\":15},\"zerolinecolor\":\"white\",\"zerolinewidth\":2},\"yaxis\":{\"automargin\":true,\"gridcolor\":\"white\",\"linecolor\":\"white\",\"ticks\":\"\",\"title\":{\"standoff\":15},\"zerolinecolor\":\"white\",\"zerolinewidth\":2}}},\"title\":{\"text\":\"plotly.colors.sequential\"},\"width\":500,\"xaxis\":{\"range\":[-0.02,1.02],\"showgrid\":false,\"showticklabels\":false}},                        {\"responsive\": true}                    ).then(function(){\n",
              "                            \n",
              "var gd = document.getElementById('7b561a71-4ea4-4c3e-916e-a4a00dc2eb37');\n",
              "var x = new MutationObserver(function (mutations, observer) {{\n",
              "        var display = window.getComputedStyle(gd).display;\n",
              "        if (!display || display === 'none') {{\n",
              "            console.log([gd, 'removed!']);\n",
              "            Plotly.purge(gd);\n",
              "            observer.disconnect();\n",
              "        }}\n",
              "}});\n",
              "\n",
              "// Listen for the removal of the full notebook cells\n",
              "var notebookContainer = gd.closest('#notebook-container');\n",
              "if (notebookContainer) {{\n",
              "    x.observe(notebookContainer, {childList: true});\n",
              "}}\n",
              "\n",
              "// Listen for the clearing of the current output cell\n",
              "var outputEl = gd.closest('.output');\n",
              "if (outputEl) {{\n",
              "    x.observe(outputEl, {childList: true});\n",
              "}}\n",
              "\n",
              "                        })                };                            </script>        </div>\n",
              "</body>\n",
              "</html>"
            ]
          },
          "metadata": {}
        }
      ]
    },
    {
      "cell_type": "code",
      "execution_count": 51,
      "metadata": {
        "id": "WsXi5h1DPAMk"
      },
      "outputs": [],
      "source": [
        "colors_1 = px.colors.sequential.Reds\n",
        "colors_2 = px.colors.sequential.RdBu\n",
        "explode = tuple([0.015] * 50)\n",
        "latitude = 37.09024\n",
        "longitude = -73.935242\n",
        "chart_theme = 'plotly_dark'\n",
        "streamlit_theme = 'streamlit'\n",
        "margin = {'r' : 20, 't' : 40, 'l' : 20, 'b' : 10}\n",
        "cmap = 'magma_r'\n",
        "title_x = 0\n",
        "title_font_size = 18"
      ]
    },
    {
      "cell_type": "code",
      "source": [
        "chart_df_1 = df.groupby(by = 'Retailer', as_index = False,)[['Total Sales']].sum()\n",
        "\n",
        "title = 'Sales Value by Retailer'\n",
        "fig = px.bar(\n",
        "  chart_df_1,\n",
        "  y = 'Retailer',\n",
        "  x = 'Total Sales',\n",
        "  title = title,\n",
        "  color_discrete_sequence = colors_1,\n",
        "  text_auto = '$,.0f',\n",
        ")\n",
        "\n",
        "fig.update_traces(\n",
        "    textfont_size = 12,\n",
        "    textangle = 0,\n",
        "    textposition = 'inside',\n",
        "    cliponaxis = False\n",
        ")\n",
        "\n",
        "fig.update_xaxes(showspikes = True)\n",
        "fig.update_yaxes(showspikes = True)\n",
        "fig.update_layout(\n",
        "  height = 300,\n",
        "  margin = margin,\n",
        "  title = title,\n",
        "  titlefont = dict(size = title_font_size),\n",
        "  title_x = title_x,\n",
        ")\n",
        "fig.show()"
      ],
      "metadata": {
        "colab": {
          "base_uri": "https://localhost:8080/",
          "height": 317
        },
        "id": "KQrCvnV3LOM-",
        "outputId": "bc2dcaf3-6ffd-456f-b29f-1f50d715d631"
      },
      "execution_count": 95,
      "outputs": [
        {
          "output_type": "display_data",
          "data": {
            "text/html": [
              "<html>\n",
              "<head><meta charset=\"utf-8\" /></head>\n",
              "<body>\n",
              "    <div>            <script src=\"https://cdnjs.cloudflare.com/ajax/libs/mathjax/2.7.5/MathJax.js?config=TeX-AMS-MML_SVG\"></script><script type=\"text/javascript\">if (window.MathJax && window.MathJax.Hub && window.MathJax.Hub.Config) {window.MathJax.Hub.Config({SVG: {font: \"STIX-Web\"}});}</script>                <script type=\"text/javascript\">window.PlotlyConfig = {MathJaxConfig: 'local'};</script>\n",
              "        <script charset=\"utf-8\" src=\"https://cdn.plot.ly/plotly-2.24.1.min.js\"></script>                <div id=\"1160d07f-95d0-48e4-8b2a-6426747b5b85\" class=\"plotly-graph-div\" style=\"height:300px; width:100%;\"></div>            <script type=\"text/javascript\">                                    window.PLOTLYENV=window.PLOTLYENV || {};                                    if (document.getElementById(\"1160d07f-95d0-48e4-8b2a-6426747b5b85\")) {                    Plotly.newPlot(                        \"1160d07f-95d0-48e4-8b2a-6426747b5b85\",                        [{\"alignmentgroup\":\"True\",\"hovertemplate\":\"Total Sales=%{x}\\u003cbr\\u003eRetailer=%{y}\\u003cextra\\u003e\\u003c\\u002fextra\\u003e\",\"legendgroup\":\"\",\"marker\":{\"color\":\"rgb(255,245,240)\",\"pattern\":{\"shape\":\"\"}},\"name\":\"\",\"offsetgroup\":\"\",\"orientation\":\"h\",\"showlegend\":false,\"textposition\":\"inside\",\"texttemplate\":\"%{x:$,.0f}\",\"x\":[77698912.0,220094720.0,102114753.0,182470997.0,74558410.0,242964333.00000003],\"xaxis\":\"x\",\"y\":[\"Amazon\",\"Foot Locker\",\"Kohl'S\",\"Sports Direct\",\"Walmart\",\"West Gear\"],\"yaxis\":\"y\",\"type\":\"bar\",\"textfont\":{\"size\":12},\"cliponaxis\":false,\"textangle\":0}],                        {\"template\":{\"data\":{\"histogram2dcontour\":[{\"type\":\"histogram2dcontour\",\"colorbar\":{\"outlinewidth\":0,\"ticks\":\"\"},\"colorscale\":[[0.0,\"#0d0887\"],[0.1111111111111111,\"#46039f\"],[0.2222222222222222,\"#7201a8\"],[0.3333333333333333,\"#9c179e\"],[0.4444444444444444,\"#bd3786\"],[0.5555555555555556,\"#d8576b\"],[0.6666666666666666,\"#ed7953\"],[0.7777777777777778,\"#fb9f3a\"],[0.8888888888888888,\"#fdca26\"],[1.0,\"#f0f921\"]]}],\"choropleth\":[{\"type\":\"choropleth\",\"colorbar\":{\"outlinewidth\":0,\"ticks\":\"\"}}],\"histogram2d\":[{\"type\":\"histogram2d\",\"colorbar\":{\"outlinewidth\":0,\"ticks\":\"\"},\"colorscale\":[[0.0,\"#0d0887\"],[0.1111111111111111,\"#46039f\"],[0.2222222222222222,\"#7201a8\"],[0.3333333333333333,\"#9c179e\"],[0.4444444444444444,\"#bd3786\"],[0.5555555555555556,\"#d8576b\"],[0.6666666666666666,\"#ed7953\"],[0.7777777777777778,\"#fb9f3a\"],[0.8888888888888888,\"#fdca26\"],[1.0,\"#f0f921\"]]}],\"heatmap\":[{\"type\":\"heatmap\",\"colorbar\":{\"outlinewidth\":0,\"ticks\":\"\"},\"colorscale\":[[0.0,\"#0d0887\"],[0.1111111111111111,\"#46039f\"],[0.2222222222222222,\"#7201a8\"],[0.3333333333333333,\"#9c179e\"],[0.4444444444444444,\"#bd3786\"],[0.5555555555555556,\"#d8576b\"],[0.6666666666666666,\"#ed7953\"],[0.7777777777777778,\"#fb9f3a\"],[0.8888888888888888,\"#fdca26\"],[1.0,\"#f0f921\"]]}],\"heatmapgl\":[{\"type\":\"heatmapgl\",\"colorbar\":{\"outlinewidth\":0,\"ticks\":\"\"},\"colorscale\":[[0.0,\"#0d0887\"],[0.1111111111111111,\"#46039f\"],[0.2222222222222222,\"#7201a8\"],[0.3333333333333333,\"#9c179e\"],[0.4444444444444444,\"#bd3786\"],[0.5555555555555556,\"#d8576b\"],[0.6666666666666666,\"#ed7953\"],[0.7777777777777778,\"#fb9f3a\"],[0.8888888888888888,\"#fdca26\"],[1.0,\"#f0f921\"]]}],\"contourcarpet\":[{\"type\":\"contourcarpet\",\"colorbar\":{\"outlinewidth\":0,\"ticks\":\"\"}}],\"contour\":[{\"type\":\"contour\",\"colorbar\":{\"outlinewidth\":0,\"ticks\":\"\"},\"colorscale\":[[0.0,\"#0d0887\"],[0.1111111111111111,\"#46039f\"],[0.2222222222222222,\"#7201a8\"],[0.3333333333333333,\"#9c179e\"],[0.4444444444444444,\"#bd3786\"],[0.5555555555555556,\"#d8576b\"],[0.6666666666666666,\"#ed7953\"],[0.7777777777777778,\"#fb9f3a\"],[0.8888888888888888,\"#fdca26\"],[1.0,\"#f0f921\"]]}],\"surface\":[{\"type\":\"surface\",\"colorbar\":{\"outlinewidth\":0,\"ticks\":\"\"},\"colorscale\":[[0.0,\"#0d0887\"],[0.1111111111111111,\"#46039f\"],[0.2222222222222222,\"#7201a8\"],[0.3333333333333333,\"#9c179e\"],[0.4444444444444444,\"#bd3786\"],[0.5555555555555556,\"#d8576b\"],[0.6666666666666666,\"#ed7953\"],[0.7777777777777778,\"#fb9f3a\"],[0.8888888888888888,\"#fdca26\"],[1.0,\"#f0f921\"]]}],\"mesh3d\":[{\"type\":\"mesh3d\",\"colorbar\":{\"outlinewidth\":0,\"ticks\":\"\"}}],\"scatter\":[{\"fillpattern\":{\"fillmode\":\"overlay\",\"size\":10,\"solidity\":0.2},\"type\":\"scatter\"}],\"parcoords\":[{\"type\":\"parcoords\",\"line\":{\"colorbar\":{\"outlinewidth\":0,\"ticks\":\"\"}}}],\"scatterpolargl\":[{\"type\":\"scatterpolargl\",\"marker\":{\"colorbar\":{\"outlinewidth\":0,\"ticks\":\"\"}}}],\"bar\":[{\"error_x\":{\"color\":\"#2a3f5f\"},\"error_y\":{\"color\":\"#2a3f5f\"},\"marker\":{\"line\":{\"color\":\"#E5ECF6\",\"width\":0.5},\"pattern\":{\"fillmode\":\"overlay\",\"size\":10,\"solidity\":0.2}},\"type\":\"bar\"}],\"scattergeo\":[{\"type\":\"scattergeo\",\"marker\":{\"colorbar\":{\"outlinewidth\":0,\"ticks\":\"\"}}}],\"scatterpolar\":[{\"type\":\"scatterpolar\",\"marker\":{\"colorbar\":{\"outlinewidth\":0,\"ticks\":\"\"}}}],\"histogram\":[{\"marker\":{\"pattern\":{\"fillmode\":\"overlay\",\"size\":10,\"solidity\":0.2}},\"type\":\"histogram\"}],\"scattergl\":[{\"type\":\"scattergl\",\"marker\":{\"colorbar\":{\"outlinewidth\":0,\"ticks\":\"\"}}}],\"scatter3d\":[{\"type\":\"scatter3d\",\"line\":{\"colorbar\":{\"outlinewidth\":0,\"ticks\":\"\"}},\"marker\":{\"colorbar\":{\"outlinewidth\":0,\"ticks\":\"\"}}}],\"scattermapbox\":[{\"type\":\"scattermapbox\",\"marker\":{\"colorbar\":{\"outlinewidth\":0,\"ticks\":\"\"}}}],\"scatterternary\":[{\"type\":\"scatterternary\",\"marker\":{\"colorbar\":{\"outlinewidth\":0,\"ticks\":\"\"}}}],\"scattercarpet\":[{\"type\":\"scattercarpet\",\"marker\":{\"colorbar\":{\"outlinewidth\":0,\"ticks\":\"\"}}}],\"carpet\":[{\"aaxis\":{\"endlinecolor\":\"#2a3f5f\",\"gridcolor\":\"white\",\"linecolor\":\"white\",\"minorgridcolor\":\"white\",\"startlinecolor\":\"#2a3f5f\"},\"baxis\":{\"endlinecolor\":\"#2a3f5f\",\"gridcolor\":\"white\",\"linecolor\":\"white\",\"minorgridcolor\":\"white\",\"startlinecolor\":\"#2a3f5f\"},\"type\":\"carpet\"}],\"table\":[{\"cells\":{\"fill\":{\"color\":\"#EBF0F8\"},\"line\":{\"color\":\"white\"}},\"header\":{\"fill\":{\"color\":\"#C8D4E3\"},\"line\":{\"color\":\"white\"}},\"type\":\"table\"}],\"barpolar\":[{\"marker\":{\"line\":{\"color\":\"#E5ECF6\",\"width\":0.5},\"pattern\":{\"fillmode\":\"overlay\",\"size\":10,\"solidity\":0.2}},\"type\":\"barpolar\"}],\"pie\":[{\"automargin\":true,\"type\":\"pie\"}]},\"layout\":{\"autotypenumbers\":\"strict\",\"colorway\":[\"#636efa\",\"#EF553B\",\"#00cc96\",\"#ab63fa\",\"#FFA15A\",\"#19d3f3\",\"#FF6692\",\"#B6E880\",\"#FF97FF\",\"#FECB52\"],\"font\":{\"color\":\"#2a3f5f\"},\"hovermode\":\"closest\",\"hoverlabel\":{\"align\":\"left\"},\"paper_bgcolor\":\"white\",\"plot_bgcolor\":\"#E5ECF6\",\"polar\":{\"bgcolor\":\"#E5ECF6\",\"angularaxis\":{\"gridcolor\":\"white\",\"linecolor\":\"white\",\"ticks\":\"\"},\"radialaxis\":{\"gridcolor\":\"white\",\"linecolor\":\"white\",\"ticks\":\"\"}},\"ternary\":{\"bgcolor\":\"#E5ECF6\",\"aaxis\":{\"gridcolor\":\"white\",\"linecolor\":\"white\",\"ticks\":\"\"},\"baxis\":{\"gridcolor\":\"white\",\"linecolor\":\"white\",\"ticks\":\"\"},\"caxis\":{\"gridcolor\":\"white\",\"linecolor\":\"white\",\"ticks\":\"\"}},\"coloraxis\":{\"colorbar\":{\"outlinewidth\":0,\"ticks\":\"\"}},\"colorscale\":{\"sequential\":[[0.0,\"#0d0887\"],[0.1111111111111111,\"#46039f\"],[0.2222222222222222,\"#7201a8\"],[0.3333333333333333,\"#9c179e\"],[0.4444444444444444,\"#bd3786\"],[0.5555555555555556,\"#d8576b\"],[0.6666666666666666,\"#ed7953\"],[0.7777777777777778,\"#fb9f3a\"],[0.8888888888888888,\"#fdca26\"],[1.0,\"#f0f921\"]],\"sequentialminus\":[[0.0,\"#0d0887\"],[0.1111111111111111,\"#46039f\"],[0.2222222222222222,\"#7201a8\"],[0.3333333333333333,\"#9c179e\"],[0.4444444444444444,\"#bd3786\"],[0.5555555555555556,\"#d8576b\"],[0.6666666666666666,\"#ed7953\"],[0.7777777777777778,\"#fb9f3a\"],[0.8888888888888888,\"#fdca26\"],[1.0,\"#f0f921\"]],\"diverging\":[[0,\"#8e0152\"],[0.1,\"#c51b7d\"],[0.2,\"#de77ae\"],[0.3,\"#f1b6da\"],[0.4,\"#fde0ef\"],[0.5,\"#f7f7f7\"],[0.6,\"#e6f5d0\"],[0.7,\"#b8e186\"],[0.8,\"#7fbc41\"],[0.9,\"#4d9221\"],[1,\"#276419\"]]},\"xaxis\":{\"gridcolor\":\"white\",\"linecolor\":\"white\",\"ticks\":\"\",\"title\":{\"standoff\":15},\"zerolinecolor\":\"white\",\"automargin\":true,\"zerolinewidth\":2},\"yaxis\":{\"gridcolor\":\"white\",\"linecolor\":\"white\",\"ticks\":\"\",\"title\":{\"standoff\":15},\"zerolinecolor\":\"white\",\"automargin\":true,\"zerolinewidth\":2},\"scene\":{\"xaxis\":{\"backgroundcolor\":\"#E5ECF6\",\"gridcolor\":\"white\",\"linecolor\":\"white\",\"showbackground\":true,\"ticks\":\"\",\"zerolinecolor\":\"white\",\"gridwidth\":2},\"yaxis\":{\"backgroundcolor\":\"#E5ECF6\",\"gridcolor\":\"white\",\"linecolor\":\"white\",\"showbackground\":true,\"ticks\":\"\",\"zerolinecolor\":\"white\",\"gridwidth\":2},\"zaxis\":{\"backgroundcolor\":\"#E5ECF6\",\"gridcolor\":\"white\",\"linecolor\":\"white\",\"showbackground\":true,\"ticks\":\"\",\"zerolinecolor\":\"white\",\"gridwidth\":2}},\"shapedefaults\":{\"line\":{\"color\":\"#2a3f5f\"}},\"annotationdefaults\":{\"arrowcolor\":\"#2a3f5f\",\"arrowhead\":0,\"arrowwidth\":1},\"geo\":{\"bgcolor\":\"white\",\"landcolor\":\"#E5ECF6\",\"subunitcolor\":\"white\",\"showland\":true,\"showlakes\":true,\"lakecolor\":\"white\"},\"title\":{\"x\":0.05},\"mapbox\":{\"style\":\"light\"}}},\"xaxis\":{\"anchor\":\"y\",\"domain\":[0.0,1.0],\"title\":{\"text\":\"Total Sales\"},\"showspikes\":true},\"yaxis\":{\"anchor\":\"x\",\"domain\":[0.0,1.0],\"title\":{\"text\":\"Retailer\"},\"showspikes\":true},\"legend\":{\"tracegroupgap\":0},\"title\":{\"text\":\"Sales Value by Retailer\",\"font\":{\"size\":18},\"x\":0},\"barmode\":\"relative\",\"margin\":{\"r\":20,\"t\":40,\"l\":20,\"b\":10},\"height\":300},                        {\"responsive\": true}                    ).then(function(){\n",
              "                            \n",
              "var gd = document.getElementById('1160d07f-95d0-48e4-8b2a-6426747b5b85');\n",
              "var x = new MutationObserver(function (mutations, observer) {{\n",
              "        var display = window.getComputedStyle(gd).display;\n",
              "        if (!display || display === 'none') {{\n",
              "            console.log([gd, 'removed!']);\n",
              "            Plotly.purge(gd);\n",
              "            observer.disconnect();\n",
              "        }}\n",
              "}});\n",
              "\n",
              "// Listen for the removal of the full notebook cells\n",
              "var notebookContainer = gd.closest('#notebook-container');\n",
              "if (notebookContainer) {{\n",
              "    x.observe(notebookContainer, {childList: true});\n",
              "}}\n",
              "\n",
              "// Listen for the clearing of the current output cell\n",
              "var outputEl = gd.closest('.output');\n",
              "if (outputEl) {{\n",
              "    x.observe(outputEl, {childList: true});\n",
              "}}\n",
              "\n",
              "                        })                };                            </script>        </div>\n",
              "</body>\n",
              "</html>"
            ]
          },
          "metadata": {}
        }
      ]
    },
    {
      "cell_type": "code",
      "execution_count": 45,
      "metadata": {
        "colab": {
          "base_uri": "https://localhost:8080/",
          "height": 175
        },
        "id": "XXSuzSutiBfN",
        "outputId": "451b83f0-32c9-4fee-f035-7ed83febe6bf"
      },
      "outputs": [
        {
          "output_type": "execute_result",
          "data": {
            "text/plain": [
              "                                                  geometry  Sales Value (USD)\n",
              "State                                                                        \n",
              "Alabama  POLYGON ((-87.35930 35.00118, -85.60667 34.984...         17633424.0\n",
              "Alaska   MULTIPOLYGON (((-131.60202 55.11798, -131.5691...         14753103.0\n",
              "Arizona  POLYGON ((-109.04250 37.00026, -109.04798 31.3...         15782221.0"
            ],
            "text/html": [
              "\n",
              "  <div id=\"df-dea7e666-33e3-4079-8e97-f488b55622cb\" class=\"colab-df-container\">\n",
              "    <div>\n",
              "<style scoped>\n",
              "    .dataframe tbody tr th:only-of-type {\n",
              "        vertical-align: middle;\n",
              "    }\n",
              "\n",
              "    .dataframe tbody tr th {\n",
              "        vertical-align: top;\n",
              "    }\n",
              "\n",
              "    .dataframe thead th {\n",
              "        text-align: right;\n",
              "    }\n",
              "</style>\n",
              "<table border=\"1\" class=\"dataframe\">\n",
              "  <thead>\n",
              "    <tr style=\"text-align: right;\">\n",
              "      <th></th>\n",
              "      <th>geometry</th>\n",
              "      <th>Sales Value (USD)</th>\n",
              "    </tr>\n",
              "    <tr>\n",
              "      <th>State</th>\n",
              "      <th></th>\n",
              "      <th></th>\n",
              "    </tr>\n",
              "  </thead>\n",
              "  <tbody>\n",
              "    <tr>\n",
              "      <th>Alabama</th>\n",
              "      <td>POLYGON ((-87.35930 35.00118, -85.60667 34.984...</td>\n",
              "      <td>17633424.0</td>\n",
              "    </tr>\n",
              "    <tr>\n",
              "      <th>Alaska</th>\n",
              "      <td>MULTIPOLYGON (((-131.60202 55.11798, -131.5691...</td>\n",
              "      <td>14753103.0</td>\n",
              "    </tr>\n",
              "    <tr>\n",
              "      <th>Arizona</th>\n",
              "      <td>POLYGON ((-109.04250 37.00026, -109.04798 31.3...</td>\n",
              "      <td>15782221.0</td>\n",
              "    </tr>\n",
              "  </tbody>\n",
              "</table>\n",
              "</div>\n",
              "    <div class=\"colab-df-buttons\">\n",
              "\n",
              "  <div class=\"colab-df-container\">\n",
              "    <button class=\"colab-df-convert\" onclick=\"convertToInteractive('df-dea7e666-33e3-4079-8e97-f488b55622cb')\"\n",
              "            title=\"Convert this dataframe to an interactive table.\"\n",
              "            style=\"display:none;\">\n",
              "\n",
              "  <svg xmlns=\"http://www.w3.org/2000/svg\" height=\"24px\" viewBox=\"0 -960 960 960\">\n",
              "    <path d=\"M120-120v-720h720v720H120Zm60-500h600v-160H180v160Zm220 220h160v-160H400v160Zm0 220h160v-160H400v160ZM180-400h160v-160H180v160Zm440 0h160v-160H620v160ZM180-180h160v-160H180v160Zm440 0h160v-160H620v160Z\"/>\n",
              "  </svg>\n",
              "    </button>\n",
              "\n",
              "  <style>\n",
              "    .colab-df-container {\n",
              "      display:flex;\n",
              "      gap: 12px;\n",
              "    }\n",
              "\n",
              "    .colab-df-convert {\n",
              "      background-color: #E8F0FE;\n",
              "      border: none;\n",
              "      border-radius: 50%;\n",
              "      cursor: pointer;\n",
              "      display: none;\n",
              "      fill: #1967D2;\n",
              "      height: 32px;\n",
              "      padding: 0 0 0 0;\n",
              "      width: 32px;\n",
              "    }\n",
              "\n",
              "    .colab-df-convert:hover {\n",
              "      background-color: #E2EBFA;\n",
              "      box-shadow: 0px 1px 2px rgba(60, 64, 67, 0.3), 0px 1px 3px 1px rgba(60, 64, 67, 0.15);\n",
              "      fill: #174EA6;\n",
              "    }\n",
              "\n",
              "    .colab-df-buttons div {\n",
              "      margin-bottom: 4px;\n",
              "    }\n",
              "\n",
              "    [theme=dark] .colab-df-convert {\n",
              "      background-color: #3B4455;\n",
              "      fill: #D2E3FC;\n",
              "    }\n",
              "\n",
              "    [theme=dark] .colab-df-convert:hover {\n",
              "      background-color: #434B5C;\n",
              "      box-shadow: 0px 1px 3px 1px rgba(0, 0, 0, 0.15);\n",
              "      filter: drop-shadow(0px 1px 2px rgba(0, 0, 0, 0.3));\n",
              "      fill: #FFFFFF;\n",
              "    }\n",
              "  </style>\n",
              "\n",
              "    <script>\n",
              "      const buttonEl =\n",
              "        document.querySelector('#df-dea7e666-33e3-4079-8e97-f488b55622cb button.colab-df-convert');\n",
              "      buttonEl.style.display =\n",
              "        google.colab.kernel.accessAllowed ? 'block' : 'none';\n",
              "\n",
              "      async function convertToInteractive(key) {\n",
              "        const element = document.querySelector('#df-dea7e666-33e3-4079-8e97-f488b55622cb');\n",
              "        const dataTable =\n",
              "          await google.colab.kernel.invokeFunction('convertToInteractive',\n",
              "                                                    [key], {});\n",
              "        if (!dataTable) return;\n",
              "\n",
              "        const docLinkHtml = 'Like what you see? Visit the ' +\n",
              "          '<a target=\"_blank\" href=https://colab.research.google.com/notebooks/data_table.ipynb>data table notebook</a>'\n",
              "          + ' to learn more about interactive tables.';\n",
              "        element.innerHTML = '';\n",
              "        dataTable['output_type'] = 'display_data';\n",
              "        await google.colab.output.renderOutput(dataTable, element);\n",
              "        const docLink = document.createElement('div');\n",
              "        docLink.innerHTML = docLinkHtml;\n",
              "        element.appendChild(docLink);\n",
              "      }\n",
              "    </script>\n",
              "  </div>\n",
              "\n",
              "\n",
              "<div id=\"df-7d7ad9ab-85be-4b8c-9a25-1b6d8eb83c68\">\n",
              "  <button class=\"colab-df-quickchart\" onclick=\"quickchart('df-7d7ad9ab-85be-4b8c-9a25-1b6d8eb83c68')\"\n",
              "            title=\"Suggest charts\"\n",
              "            style=\"display:none;\">\n",
              "\n",
              "<svg xmlns=\"http://www.w3.org/2000/svg\" height=\"24px\"viewBox=\"0 0 24 24\"\n",
              "     width=\"24px\">\n",
              "    <g>\n",
              "        <path d=\"M19 3H5c-1.1 0-2 .9-2 2v14c0 1.1.9 2 2 2h14c1.1 0 2-.9 2-2V5c0-1.1-.9-2-2-2zM9 17H7v-7h2v7zm4 0h-2V7h2v10zm4 0h-2v-4h2v4z\"/>\n",
              "    </g>\n",
              "</svg>\n",
              "  </button>\n",
              "\n",
              "<style>\n",
              "  .colab-df-quickchart {\n",
              "      --bg-color: #E8F0FE;\n",
              "      --fill-color: #1967D2;\n",
              "      --hover-bg-color: #E2EBFA;\n",
              "      --hover-fill-color: #174EA6;\n",
              "      --disabled-fill-color: #AAA;\n",
              "      --disabled-bg-color: #DDD;\n",
              "  }\n",
              "\n",
              "  [theme=dark] .colab-df-quickchart {\n",
              "      --bg-color: #3B4455;\n",
              "      --fill-color: #D2E3FC;\n",
              "      --hover-bg-color: #434B5C;\n",
              "      --hover-fill-color: #FFFFFF;\n",
              "      --disabled-bg-color: #3B4455;\n",
              "      --disabled-fill-color: #666;\n",
              "  }\n",
              "\n",
              "  .colab-df-quickchart {\n",
              "    background-color: var(--bg-color);\n",
              "    border: none;\n",
              "    border-radius: 50%;\n",
              "    cursor: pointer;\n",
              "    display: none;\n",
              "    fill: var(--fill-color);\n",
              "    height: 32px;\n",
              "    padding: 0;\n",
              "    width: 32px;\n",
              "  }\n",
              "\n",
              "  .colab-df-quickchart:hover {\n",
              "    background-color: var(--hover-bg-color);\n",
              "    box-shadow: 0 1px 2px rgba(60, 64, 67, 0.3), 0 1px 3px 1px rgba(60, 64, 67, 0.15);\n",
              "    fill: var(--button-hover-fill-color);\n",
              "  }\n",
              "\n",
              "  .colab-df-quickchart-complete:disabled,\n",
              "  .colab-df-quickchart-complete:disabled:hover {\n",
              "    background-color: var(--disabled-bg-color);\n",
              "    fill: var(--disabled-fill-color);\n",
              "    box-shadow: none;\n",
              "  }\n",
              "\n",
              "  .colab-df-spinner {\n",
              "    border: 2px solid var(--fill-color);\n",
              "    border-color: transparent;\n",
              "    border-bottom-color: var(--fill-color);\n",
              "    animation:\n",
              "      spin 1s steps(1) infinite;\n",
              "  }\n",
              "\n",
              "  @keyframes spin {\n",
              "    0% {\n",
              "      border-color: transparent;\n",
              "      border-bottom-color: var(--fill-color);\n",
              "      border-left-color: var(--fill-color);\n",
              "    }\n",
              "    20% {\n",
              "      border-color: transparent;\n",
              "      border-left-color: var(--fill-color);\n",
              "      border-top-color: var(--fill-color);\n",
              "    }\n",
              "    30% {\n",
              "      border-color: transparent;\n",
              "      border-left-color: var(--fill-color);\n",
              "      border-top-color: var(--fill-color);\n",
              "      border-right-color: var(--fill-color);\n",
              "    }\n",
              "    40% {\n",
              "      border-color: transparent;\n",
              "      border-right-color: var(--fill-color);\n",
              "      border-top-color: var(--fill-color);\n",
              "    }\n",
              "    60% {\n",
              "      border-color: transparent;\n",
              "      border-right-color: var(--fill-color);\n",
              "    }\n",
              "    80% {\n",
              "      border-color: transparent;\n",
              "      border-right-color: var(--fill-color);\n",
              "      border-bottom-color: var(--fill-color);\n",
              "    }\n",
              "    90% {\n",
              "      border-color: transparent;\n",
              "      border-bottom-color: var(--fill-color);\n",
              "    }\n",
              "  }\n",
              "</style>\n",
              "\n",
              "  <script>\n",
              "    async function quickchart(key) {\n",
              "      const quickchartButtonEl =\n",
              "        document.querySelector('#' + key + ' button');\n",
              "      quickchartButtonEl.disabled = true;  // To prevent multiple clicks.\n",
              "      quickchartButtonEl.classList.add('colab-df-spinner');\n",
              "      try {\n",
              "        const charts = await google.colab.kernel.invokeFunction(\n",
              "            'suggestCharts', [key], {});\n",
              "      } catch (error) {\n",
              "        console.error('Error during call to suggestCharts:', error);\n",
              "      }\n",
              "      quickchartButtonEl.classList.remove('colab-df-spinner');\n",
              "      quickchartButtonEl.classList.add('colab-df-quickchart-complete');\n",
              "    }\n",
              "    (() => {\n",
              "      let quickchartButtonEl =\n",
              "        document.querySelector('#df-7d7ad9ab-85be-4b8c-9a25-1b6d8eb83c68 button');\n",
              "      quickchartButtonEl.style.display =\n",
              "        google.colab.kernel.accessAllowed ? 'block' : 'none';\n",
              "    })();\n",
              "  </script>\n",
              "</div>\n",
              "    </div>\n",
              "  </div>\n"
            ]
          },
          "metadata": {},
          "execution_count": 45
        }
      ],
      "source": [
        "map_df = df.groupby(['State'])['Total Sales'].sum()\n",
        "map_df = map_df.reset_index()\n",
        "map_df = map_df.rename(columns = {'Total Sales' : 'Sales Value (USD)'})\n",
        "map_df = gdf.merge(map_df, on = 'State')\n",
        "\n",
        "var_label = 'State'\n",
        "var_number = 'Sales Value (USD)'\n",
        "\n",
        "map_df = map_df.set_index(var_label)\n",
        "map_df.head(3)"
      ]
    },
    {
      "cell_type": "code",
      "execution_count": 46,
      "metadata": {
        "colab": {
          "base_uri": "https://localhost:8080/",
          "height": 617
        },
        "id": "Ay01xOHDiecn",
        "outputId": "11116469-f940-41e6-9aba-5396fdd30035"
      },
      "outputs": [
        {
          "output_type": "display_data",
          "data": {
            "text/html": [
              "<html>\n",
              "<head><meta charset=\"utf-8\" /></head>\n",
              "<body>\n",
              "    <div>            <script src=\"https://cdnjs.cloudflare.com/ajax/libs/mathjax/2.7.5/MathJax.js?config=TeX-AMS-MML_SVG\"></script><script type=\"text/javascript\">if (window.MathJax && window.MathJax.Hub && window.MathJax.Hub.Config) {window.MathJax.Hub.Config({SVG: {font: \"STIX-Web\"}});}</script>                <script type=\"text/javascript\">window.PlotlyConfig = {MathJaxConfig: 'local'};</script>\n",
              "        <script charset=\"utf-8\" src=\"https://cdn.plot.ly/plotly-2.24.1.min.js\"></script>                <div id=\"9a2e8180-7b12-4430-9d88-83f4d19480ea\" class=\"plotly-graph-div\" style=\"height:600px; width:100%;\"></div>            <script type=\"text/javascript\">                                    window.PLOTLYENV=window.PLOTLYENV || {};                                    if (document.getElementById(\"9a2e8180-7b12-4430-9d88-83f4d19480ea\")) {                    Plotly.newPlot(                        \"9a2e8180-7b12-4430-9d88-83f4d19480ea\",                        [{\"coloraxis\":\"coloraxis\",\"geojson\":{\"type\":\"FeatureCollection\",\"features\":[{\"id\":\"Alabama\",\"type\":\"Feature\",\"properties\":{},\"geometry\":{\"type\":\"Polygon\",\"coordinates\":[[[-87.359296,35.00118],[-85.606675,34.984749],[-85.431413,34.124869],[-85.184951,32.859696],[-85.069935,32.580372],[-84.960397,32.421541],[-85.004212,32.322956],[-84.889196,32.262709],[-85.058981,32.13674],[-85.053504,32.01077],[-85.141136,31.840985],[-85.042551,31.539753],[-85.113751,31.27686],[-85.004212,31.003013],[-85.497137,30.997536],[-87.600282,30.997536],[-87.633143,30.86609],[-87.408589,30.674397],[-87.446927,30.510088],[-87.37025,30.427934],[-87.518128,30.280057],[-87.655051,30.247195],[-87.90699,30.411504],[-87.934375,30.657966],[-88.011052,30.685351],[-88.10416,30.499135],[-88.137022,30.318396],[-88.394438,30.367688],[-88.471115,31.895754],[-88.241084,33.796253],[-88.098683,34.891641],[-88.202745,34.995703],[-87.359296,35.00118]]]},\"bbox\":[-88.471115,30.247195,-84.889196,35.00118]},{\"id\":\"Alaska\",\"type\":\"Feature\",\"properties\":{},\"geometry\":{\"type\":\"MultiPolygon\",\"coordinates\":[[[[-131.602021,55.117982],[-131.569159,55.28229],[-131.355558,55.183705],[-131.38842,55.01392],[-131.645836,55.035827],[-131.602021,55.117982]]],[[[-131.832052,55.42469],[-131.645836,55.304197],[-131.749898,55.128935],[-131.832052,55.189182],[-131.832052,55.42469]]],[[[-132.976733,56.437924],[-132.735747,56.459832],[-132.631685,56.421493],[-132.664547,56.273616],[-132.878148,56.240754],[-133.069841,56.333862],[-132.976733,56.437924]]],[[[-133.595627,56.350293],[-133.162949,56.317431],[-133.05341,56.125739],[-132.620732,55.912138],[-132.472854,55.780691],[-132.4619,55.671152],[-132.357838,55.649245],[-132.341408,55.506844],[-132.166146,55.364444],[-132.144238,55.238474],[-132.029222,55.276813],[-131.97993,55.178228],[-131.958022,54.789365],[-132.029222,54.701734],[-132.308546,54.718165],[-132.385223,54.915335],[-132.483808,54.898904],[-132.686455,55.046781],[-132.746701,54.997489],[-132.916486,55.046781],[-132.889102,54.898904],[-132.73027,54.937242],[-132.626209,54.882473],[-132.675501,54.679826],[-132.867194,54.701734],[-133.157472,54.95915],[-133.239626,55.090597],[-133.223195,55.22752],[-133.453227,55.216566],[-133.453227,55.320628],[-133.277964,55.331582],[-133.102702,55.42469],[-133.17938,55.588998],[-133.387503,55.62186],[-133.420365,55.884753],[-133.497042,56.0162],[-133.639442,55.923092],[-133.694212,56.070969],[-133.546335,56.142169],[-133.666827,56.311955],[-133.595627,56.350293]]],[[[-133.738027,55.556137],[-133.546335,55.490413],[-133.414888,55.572568],[-133.283441,55.534229],[-133.420365,55.386352],[-133.633966,55.430167],[-133.738027,55.556137]]],[[[-133.907813,56.930849],[-134.050213,57.029434],[-133.885905,57.095157],[-133.343688,57.002049],[-133.102702,57.007526],[-132.932917,56.82131],[-132.620732,56.667956],[-132.653593,56.55294],[-132.817901,56.492694],[-133.042456,56.520078],[-133.201287,56.448878],[-133.420365,56.492694],[-133.66135,56.448878],[-133.710643,56.684386],[-133.688735,56.837741],[-133.869474,56.843218],[-133.907813,56.930849]]],[[[-134.115936,56.48174],[-134.25286,56.558417],[-134.400737,56.722725],[-134.417168,56.848695],[-134.296675,56.908941],[-134.170706,56.848695],[-134.143321,56.952757],[-133.748981,56.772017],[-133.710643,56.596755],[-133.847566,56.574848],[-133.935197,56.377678],[-133.836612,56.322908],[-133.957105,56.092877],[-134.110459,56.142169],[-134.132367,55.999769],[-134.230952,56.070969],[-134.291198,56.350293],[-134.115936,56.48174]]],[[[-134.636246,56.28457],[-134.669107,56.169554],[-134.806031,56.235277],[-135.178463,56.67891],[-135.413971,56.810356],[-135.331817,56.914418],[-135.424925,57.166357],[-135.687818,57.369004],[-135.419448,57.566174],[-135.298955,57.48402],[-135.063447,57.418296],[-134.849846,57.407343],[-134.844369,57.248511],[-134.636246,56.728202],[-134.636246,56.28457]]],[[[-134.712923,58.223407],[-134.373353,58.14673],[-134.176183,58.157683],[-134.187137,58.081006],[-133.902336,57.807159],[-134.099505,57.850975],[-134.148798,57.757867],[-133.935197,57.615466],[-133.869474,57.363527],[-134.083075,57.297804],[-134.154275,57.210173],[-134.499322,57.029434],[-134.603384,57.034911],[-134.6472,57.226604],[-134.575999,57.341619],[-134.608861,57.511404],[-134.729354,57.719528],[-134.707446,57.829067],[-134.784123,58.097437],[-134.91557,58.212453],[-134.953908,58.409623],[-134.712923,58.223407]]],[[[-135.857603,57.330665],[-135.715203,57.330665],[-135.567326,57.149926],[-135.633049,57.023957],[-135.857603,56.996572],[-135.824742,57.193742],[-135.857603,57.330665]]],[[[-136.279328,58.206976],[-135.978096,58.201499],[-135.780926,58.28913],[-135.496125,58.168637],[-135.64948,58.037191],[-135.59471,57.987898],[-135.45231,58.135776],[-135.107263,58.086483],[-134.91557,57.976944],[-135.025108,57.779775],[-134.937477,57.763344],[-134.822462,57.500451],[-135.085355,57.462112],[-135.572802,57.675713],[-135.556372,57.456635],[-135.709726,57.369004],[-135.890465,57.407343],[-136.000004,57.544266],[-136.208128,57.637374],[-136.366959,57.829067],[-136.569606,57.916698],[-136.558652,58.075529],[-136.421728,58.130299],[-136.377913,58.267222],[-136.279328,58.206976]]],[[[-147.079854,60.200582],[-147.501579,59.948643],[-147.53444,59.850058],[-147.874011,59.784335],[-147.80281,59.937689],[-147.435855,60.09652],[-147.205824,60.271782],[-147.079854,60.200582]]],[[[-147.561825,60.578491],[-147.616594,60.370367],[-147.758995,60.156767],[-147.956165,60.227967],[-147.791856,60.474429],[-147.561825,60.578491]]],[[[-147.786379,70.245291],[-147.682318,70.201475],[-147.162008,70.15766],[-146.888161,70.185044],[-146.510252,70.185044],[-146.099482,70.146706],[-145.858496,70.168614],[-145.622988,70.08646],[-145.195787,69.993352],[-144.620708,69.971444],[-144.461877,70.026213],[-144.078491,70.059075],[-143.914183,70.130275],[-143.497935,70.141229],[-143.503412,70.091936],[-143.25695,70.119321],[-142.747594,70.042644],[-142.402547,69.916674],[-142.079408,69.856428],[-142.008207,69.801659],[-141.712453,69.790705],[-141.433129,69.697597],[-141.378359,69.63735],[-141.208574,69.686643],[-141.00045,69.648304],[-141.00045,60.304644],[-140.53491,60.22249],[-140.474664,60.310121],[-139.987216,60.184151],[-139.696939,60.342983],[-139.088998,60.359413],[-139.198537,60.091043],[-139.045183,59.997935],[-138.700135,59.910304],[-138.623458,59.767904],[-137.604747,59.242118],[-137.445916,58.908024],[-137.265177,59.001132],[-136.827022,59.159963],[-136.580559,59.16544],[-136.465544,59.285933],[-136.476498,59.466672],[-136.301236,59.466672],[-136.25742,59.625503],[-135.945234,59.663842],[-135.479694,59.800766],[-135.025108,59.565257],[-135.068924,59.422857],[-134.959385,59.280456],[-134.701969,59.247595],[-134.378829,59.033994],[-134.400737,58.973748],[-134.25286,58.858732],[-133.842089,58.727285],[-133.173903,58.152206],[-133.075318,57.998852],[-132.867194,57.845498],[-132.560485,57.505928],[-132.253777,57.21565],[-132.368792,57.095157],[-132.05113,57.051341],[-132.127807,56.876079],[-131.870391,56.804879],[-131.837529,56.602232],[-131.580113,56.613186],[-131.087188,56.405062],[-130.78048,56.366724],[-130.621648,56.268139],[-130.468294,56.240754],[-130.424478,56.142169],[-130.101339,56.114785],[-130.002754,55.994292],[-130.150631,55.769737],[-130.128724,55.583521],[-129.986323,55.276813],[-130.095862,55.200136],[-130.336847,54.920812],[-130.687372,54.718165],[-130.785957,54.822227],[-130.917403,54.789365],[-131.010511,54.997489],[-130.983126,55.08512],[-131.092665,55.189182],[-130.862634,55.298721],[-130.928357,55.337059],[-131.158389,55.200136],[-131.284358,55.287767],[-131.426759,55.238474],[-131.843006,55.457552],[-131.700606,55.698537],[-131.963499,55.616383],[-131.974453,55.49589],[-132.182576,55.588998],[-132.226392,55.704014],[-132.083991,55.829984],[-132.127807,55.955953],[-132.324977,55.851892],[-132.522147,56.076446],[-132.642639,56.032631],[-132.719317,56.218847],[-132.527624,56.339339],[-132.341408,56.339339],[-132.396177,56.487217],[-132.297592,56.67891],[-132.450946,56.673433],[-132.768609,56.837741],[-132.993164,57.034911],[-133.51895,57.177311],[-133.507996,57.577128],[-133.677781,57.62642],[-133.639442,57.790728],[-133.814705,57.834544],[-134.072121,58.053622],[-134.143321,58.168637],[-134.586953,58.206976],[-135.074401,58.502731],[-135.282525,59.192825],[-135.38111,59.033994],[-135.337294,58.891593],[-135.140124,58.617746],[-135.189417,58.573931],[-135.05797,58.349376],[-135.085355,58.201499],[-135.277048,58.234361],[-135.430402,58.398669],[-135.633049,58.426053],[-135.91785,58.382238],[-135.912373,58.617746],[-136.087635,58.814916],[-136.246466,58.75467],[-136.876314,58.962794],[-136.931084,58.902547],[-136.586036,58.836824],[-136.317666,58.672516],[-136.213604,58.667039],[-136.180743,58.535592],[-136.043819,58.382238],[-136.388867,58.294607],[-136.591513,58.349376],[-136.59699,58.212453],[-136.859883,58.316515],[-136.947514,58.393192],[-137.111823,58.393192],[-137.566409,58.590362],[-137.900502,58.765624],[-137.933364,58.869686],[-138.11958,59.02304],[-138.634412,59.132579],[-138.919213,59.247595],[-139.417615,59.379041],[-139.746231,59.505011],[-139.718846,59.641934],[-139.625738,59.598119],[-139.5162,59.68575],[-139.625738,59.88292],[-139.488815,59.992458],[-139.554538,60.041751],[-139.801,59.833627],[-140.315833,59.696704],[-140.92925,59.745996],[-141.444083,59.871966],[-141.46599,59.970551],[-141.706976,59.948643],[-141.964392,60.019843],[-142.539471,60.085566],[-142.873564,60.091043],[-143.623905,60.036274],[-143.892275,59.997935],[-144.231845,60.140336],[-144.65357,60.206059],[-144.785016,60.29369],[-144.834309,60.441568],[-145.124586,60.430614],[-145.223171,60.299167],[-145.738004,60.474429],[-145.820158,60.551106],[-146.351421,60.408706],[-146.608837,60.238921],[-146.718376,60.397752],[-146.608837,60.485383],[-146.455483,60.463475],[-145.951604,60.578491],[-146.017328,60.666122],[-146.252836,60.622307],[-146.345944,60.737322],[-146.565022,60.753753],[-146.784099,61.044031],[-146.866253,60.972831],[-147.172962,60.934492],[-147.271547,60.972831],[-147.375609,60.879723],[-147.758995,60.912584],[-147.775426,60.808523],[-148.032842,60.781138],[-148.153334,60.819476],[-148.065703,61.005692],[-148.175242,61.000215],[-148.350504,60.803046],[-148.109519,60.737322],[-148.087611,60.594922],[-147.939734,60.441568],[-148.027365,60.277259],[-148.219058,60.332029],[-148.273827,60.249875],[-148.087611,60.217013],[-147.983549,59.997935],[-148.251919,59.95412],[-148.399797,59.997935],[-148.635305,59.937689],[-148.755798,59.986981],[-149.067984,59.981505],[-149.05703,60.063659],[-149.204907,60.008889],[-149.287061,59.904827],[-149.418508,59.997935],[-149.582816,59.866489],[-149.511616,59.806242],[-149.741647,59.729565],[-149.949771,59.718611],[-150.031925,59.61455],[-150.25648,59.521442],[-150.409834,59.554303],[-150.579619,59.444764],[-150.716543,59.450241],[-151.001343,59.225687],[-151.308052,59.209256],[-151.406637,59.280456],[-151.592853,59.159963],[-151.976239,59.253071],[-151.888608,59.422857],[-151.636669,59.483103],[-151.47236,59.472149],[-151.423068,59.537872],[-151.127313,59.669319],[-151.116359,59.778858],[-151.505222,59.63098],[-151.828361,59.718611],[-151.8667,59.778858],[-151.702392,60.030797],[-151.423068,60.211536],[-151.379252,60.359413],[-151.297098,60.386798],[-151.264237,60.545629],[-151.406637,60.720892],[-151.06159,60.786615],[-150.404357,61.038554],[-150.245526,60.939969],[-150.042879,60.912584],[-149.741647,61.016646],[-150.075741,61.15357],[-150.207187,61.257632],[-150.47008,61.246678],[-150.656296,61.29597],[-150.711066,61.252155],[-151.023251,61.180954],[-151.165652,61.044031],[-151.477837,61.011169],[-151.800977,60.852338],[-151.833838,60.748276],[-152.080301,60.693507],[-152.13507,60.578491],[-152.310332,60.507291],[-152.392486,60.304644],[-152.732057,60.173197],[-152.567748,60.069136],[-152.704672,59.915781],[-153.022334,59.888397],[-153.049719,59.691227],[-153.345474,59.620026],[-153.438582,59.702181],[-153.586459,59.548826],[-153.761721,59.543349],[-153.72886,59.433811],[-154.117723,59.368087],[-154.1944,59.066856],[-153.750768,59.050425],[-153.400243,58.968271],[-153.301658,58.869686],[-153.444059,58.710854],[-153.679567,58.612269],[-153.898645,58.606793],[-153.920553,58.519161],[-154.062953,58.4863],[-153.99723,58.376761],[-154.145107,58.212453],[-154.46277,58.059098],[-154.643509,58.059098],[-154.818771,58.004329],[-154.988556,58.015283],[-155.120003,57.955037],[-155.081664,57.872883],[-155.328126,57.829067],[-155.377419,57.708574],[-155.547204,57.785251],[-155.73342,57.549743],[-156.045606,57.566174],[-156.023698,57.440204],[-156.209914,57.473066],[-156.34136,57.418296],[-156.34136,57.248511],[-156.549484,56.985618],[-156.883577,56.952757],[-157.157424,56.832264],[-157.20124,56.766541],[-157.376502,56.859649],[-157.672257,56.607709],[-157.754411,56.67891],[-157.918719,56.657002],[-157.957058,56.514601],[-158.126843,56.459832],[-158.32949,56.48174],[-158.488321,56.339339],[-158.208997,56.295524],[-158.510229,55.977861],[-159.375585,55.873799],[-159.616571,55.594475],[-159.676817,55.654722],[-159.643955,55.829984],[-159.813741,55.857368],[-160.027341,55.791645],[-160.060203,55.720445],[-160.394296,55.605429],[-160.536697,55.473983],[-160.580512,55.567091],[-160.668143,55.457552],[-160.865313,55.528752],[-161.232268,55.358967],[-161.506115,55.364444],[-161.467776,55.49589],[-161.588269,55.62186],[-161.697808,55.517798],[-161.686854,55.408259],[-162.053809,55.074166],[-162.179779,55.15632],[-162.218117,55.03035],[-162.470057,55.052258],[-162.508395,55.249428],[-162.661749,55.293244],[-162.716519,55.222043],[-162.579595,55.134412],[-162.645319,54.997489],[-162.847965,54.926289],[-163.00132,55.079643],[-163.187536,55.090597],[-163.220397,55.03035],[-163.034181,54.942719],[-163.373752,54.800319],[-163.14372,54.76198],[-163.138243,54.696257],[-163.329936,54.74555],[-163.587352,54.614103],[-164.085754,54.61958],[-164.332216,54.531949],[-164.354124,54.466226],[-164.638925,54.389548],[-164.847049,54.416933],[-164.918249,54.603149],[-164.710125,54.663395],[-164.551294,54.88795],[-164.34317,54.893427],[-163.894061,55.041304],[-163.532583,55.046781],[-163.39566,54.904381],[-163.291598,55.008443],[-163.313505,55.128935],[-163.105382,55.183705],[-162.880827,55.183705],[-162.579595,55.446598],[-162.245502,55.682106],[-161.807347,55.89023],[-161.292514,55.983338],[-161.078914,55.939523],[-160.87079,55.999769],[-160.816021,55.912138],[-160.931036,55.813553],[-160.805067,55.736876],[-160.766728,55.857368],[-160.509312,55.868322],[-160.438112,55.791645],[-160.27928,55.76426],[-160.273803,55.857368],[-160.536697,55.939523],[-160.558604,55.994292],[-160.383342,56.251708],[-160.147834,56.399586],[-159.830171,56.541986],[-159.326293,56.667956],[-158.959338,56.848695],[-158.784076,56.782971],[-158.641675,56.810356],[-158.701922,56.925372],[-158.658106,57.034911],[-158.378782,57.264942],[-157.995396,57.41282],[-157.688688,57.609989],[-157.705118,57.719528],[-157.458656,58.497254],[-157.07527,58.705377],[-157.119086,58.869686],[-158.039212,58.634177],[-158.32949,58.661562],[-158.40069,58.760147],[-158.564998,58.803962],[-158.619768,58.913501],[-158.767645,58.864209],[-158.860753,58.694424],[-158.701922,58.480823],[-158.893615,58.387715],[-159.0634,58.420577],[-159.392016,58.760147],[-159.616571,58.929932],[-159.731586,58.929932],[-159.808264,58.803962],[-159.906848,58.782055],[-160.054726,58.886116],[-160.235465,58.902547],[-160.317619,59.072332],[-160.854359,58.88064],[-161.33633,58.743716],[-161.374669,58.667039],[-161.752577,58.552023],[-161.938793,58.656085],[-161.769008,58.776578],[-161.829255,59.061379],[-161.955224,59.36261],[-161.703285,59.48858],[-161.911409,59.740519],[-162.092148,59.88292],[-162.234548,60.091043],[-162.448149,60.178674],[-162.502918,59.997935],[-162.760334,59.959597],[-163.171105,59.844581],[-163.66403,59.795289],[-163.9324,59.806242],[-164.162431,59.866489],[-164.189816,60.02532],[-164.386986,60.074613],[-164.699171,60.29369],[-164.962064,60.337506],[-165.268773,60.578491],[-165.060649,60.68803],[-165.016834,60.890677],[-165.175665,60.846861],[-165.197573,60.972831],[-165.120896,61.076893],[-165.323543,61.170001],[-165.34545,61.071416],[-165.591913,61.109754],[-165.624774,61.279539],[-165.816467,61.301447],[-165.920529,61.416463],[-165.915052,61.558863],[-166.106745,61.49314],[-166.139607,61.630064],[-165.904098,61.662925],[-166.095791,61.81628],[-165.756221,61.827233],[-165.756221,62.013449],[-165.674067,62.139419],[-165.044219,62.539236],[-164.912772,62.659728],[-164.819664,62.637821],[-164.874433,62.807606],[-164.633448,63.097884],[-164.425324,63.212899],[-164.036462,63.262192],[-163.73523,63.212899],[-163.313505,63.037637],[-163.039658,63.059545],[-162.661749,63.22933],[-162.272887,63.486746],[-162.075717,63.514131],[-162.026424,63.448408],[-161.555408,63.448408],[-161.13916,63.503177],[-160.766728,63.771547],[-160.766728,63.837271],[-160.952944,64.08921],[-160.974852,64.237087],[-161.26513,64.395918],[-161.374669,64.532842],[-161.078914,64.494503],[-160.79959,64.609519],[-160.783159,64.719058],[-161.144637,64.921705],[-161.413007,64.762873],[-161.664946,64.790258],[-161.900455,64.702627],[-162.168825,64.680719],[-162.234548,64.620473],[-162.541257,64.532842],[-162.634365,64.384965],[-162.787719,64.324718],[-162.858919,64.49998],[-163.045135,64.538319],[-163.176582,64.401395],[-163.253259,64.467119],[-163.598306,64.565704],[-164.304832,64.560227],[-164.80871,64.450688],[-165.000403,64.434257],[-165.411174,64.49998],[-166.188899,64.576658],[-166.391546,64.636904],[-166.484654,64.735489],[-166.413454,64.872412],[-166.692778,64.987428],[-166.638008,65.113398],[-166.462746,65.179121],[-166.517516,65.337952],[-166.796839,65.337952],[-167.026871,65.381768],[-167.47598,65.414629],[-167.711489,65.496784],[-168.072967,65.578938],[-168.105828,65.682999],[-167.541703,65.819923],[-166.829701,66.049954],[-166.3313,66.186878],[-166.046499,66.110201],[-165.756221,66.09377],[-165.690498,66.203309],[-165.86576,66.21974],[-165.88219,66.312848],[-165.186619,66.466202],[-164.403417,66.581218],[-163.981692,66.592172],[-163.751661,66.553833],[-163.872153,66.389525],[-163.828338,66.274509],[-163.915969,66.192355],[-163.768091,66.060908],[-163.494244,66.082816],[-163.149197,66.060908],[-162.749381,66.088293],[-162.634365,66.039001],[-162.371472,66.028047],[-162.14144,66.077339],[-161.840208,66.02257],[-161.549931,66.241647],[-161.341807,66.252601],[-161.199406,66.208786],[-161.128206,66.334755],[-161.528023,66.395002],[-161.911409,66.345709],[-161.87307,66.510017],[-162.174302,66.68528],[-162.502918,66.740049],[-162.601503,66.89888],[-162.344087,66.937219],[-162.015471,66.778388],[-162.075717,66.652418],[-161.916886,66.553833],[-161.571838,66.438817],[-161.489684,66.55931],[-161.884024,66.718141],[-161.714239,67.002942],[-161.851162,67.052235],[-162.240025,66.991988],[-162.639842,67.008419],[-162.700088,67.057712],[-162.902735,67.008419],[-163.740707,67.128912],[-163.757138,67.254881],[-164.009077,67.534205],[-164.211724,67.638267],[-164.534863,67.725898],[-165.192096,67.966884],[-165.493328,68.059992],[-165.794559,68.081899],[-166.243668,68.246208],[-166.681824,68.339316],[-166.703731,68.372177],[-166.375115,68.42147],[-166.227238,68.574824],[-166.216284,68.881533],[-165.329019,68.859625],[-164.255539,68.930825],[-163.976215,68.985595],[-163.532583,69.138949],[-163.110859,69.374457],[-163.023228,69.609966],[-162.842489,69.812613],[-162.470057,69.982398],[-162.311225,70.108367],[-161.851162,70.311014],[-161.779962,70.256245],[-161.396576,70.239814],[-160.837928,70.343876],[-160.487404,70.453415],[-159.649432,70.792985],[-159.33177,70.809416],[-159.298908,70.760123],[-158.975769,70.798462],[-158.658106,70.787508],[-158.033735,70.831323],[-157.420318,70.979201],[-156.812377,71.285909],[-156.565915,71.351633],[-156.522099,71.296863],[-155.585543,71.170894],[-155.508865,71.083263],[-155.832005,70.968247],[-155.979882,70.96277],[-155.974405,70.809416],[-155.503388,70.858708],[-155.476004,70.940862],[-155.262403,71.017539],[-155.191203,70.973724],[-155.032372,71.148986],[-154.566832,70.990155],[-154.643509,70.869662],[-154.353231,70.8368],[-154.183446,70.7656],[-153.931507,70.880616],[-153.487874,70.886093],[-153.235935,70.924431],[-152.589656,70.886093],[-152.26104,70.842277],[-152.419871,70.606769],[-151.817408,70.546523],[-151.773592,70.486276],[-151.187559,70.382214],[-151.182082,70.431507],[-150.760358,70.49723],[-150.355064,70.491753],[-150.349588,70.436984],[-150.114079,70.431507],[-149.867617,70.508184],[-149.462323,70.519138],[-149.177522,70.486276],[-148.78866,70.404122],[-148.607921,70.420553],[-148.350504,70.305537],[-148.202627,70.349353],[-147.961642,70.316491],[-147.786379,70.245291]]],[[[-152.94018,58.026237],[-152.945657,57.982421],[-153.290705,58.048145],[-153.044242,58.305561],[-152.819688,58.327469],[-152.666333,58.562977],[-152.496548,58.354853],[-152.354148,58.426053],[-152.080301,58.311038],[-152.080301,58.152206],[-152.480117,58.130299],[-152.655379,58.059098],[-152.94018,58.026237]]],[[[-153.958891,57.538789],[-153.67409,57.670236],[-153.931507,57.69762],[-153.936983,57.812636],[-153.723383,57.889313],[-153.570028,57.834544],[-153.548121,57.719528],[-153.46049,57.796205],[-153.455013,57.96599],[-153.268797,57.889313],[-153.235935,57.998852],[-153.071627,57.933129],[-152.874457,57.933129],[-152.721103,57.993375],[-152.469163,57.889313],[-152.469163,57.599035],[-152.151501,57.620943],[-152.359625,57.42925],[-152.74301,57.505928],[-152.60061,57.379958],[-152.710149,57.275896],[-152.907319,57.325188],[-152.912796,57.128019],[-153.214027,57.073249],[-153.312612,56.991095],[-153.498828,57.067772],[-153.695998,56.859649],[-153.849352,56.837741],[-154.013661,56.744633],[-154.073907,56.969187],[-154.303938,56.848695],[-154.314892,56.919895],[-154.523016,56.991095],[-154.539447,57.193742],[-154.742094,57.275896],[-154.627078,57.511404],[-154.227261,57.659282],[-153.980799,57.648328],[-153.958891,57.538789]]],[[[-154.53397,56.602232],[-154.742094,56.399586],[-154.807817,56.432447],[-154.53397,56.602232]]],[[[-155.634835,55.923092],[-155.476004,55.912138],[-155.530773,55.704014],[-155.793666,55.731399],[-155.837482,55.802599],[-155.634835,55.923092]]],[[[-159.890418,55.28229],[-159.950664,55.068689],[-160.257373,54.893427],[-160.109495,55.161797],[-160.005433,55.134412],[-159.890418,55.28229]]],[[[-160.520266,55.358967],[-160.33405,55.358967],[-160.339527,55.249428],[-160.525743,55.128935],[-160.690051,55.211089],[-160.794113,55.134412],[-160.854359,55.320628],[-160.79959,55.380875],[-160.520266,55.358967]]],[[[-162.256456,54.981058],[-162.234548,54.893427],[-162.349564,54.838658],[-162.437195,54.931766],[-162.256456,54.981058]]],[[[-162.415287,63.634624],[-162.563165,63.536039],[-162.612457,63.62367],[-162.415287,63.634624]]],[[[-162.80415,54.488133],[-162.590549,54.449795],[-162.612457,54.367641],[-162.782242,54.373118],[-162.80415,54.488133]]],[[[-165.548097,54.29644],[-165.476897,54.181425],[-165.630251,54.132132],[-165.685021,54.252625],[-165.548097,54.29644]]],[[[-165.73979,54.15404],[-166.046499,54.044501],[-166.112222,54.121178],[-165.980775,54.219763],[-165.73979,54.15404]]],[[[-166.364161,60.359413],[-166.13413,60.397752],[-166.084837,60.326552],[-165.88219,60.342983],[-165.685021,60.277259],[-165.646682,59.992458],[-165.750744,59.89935],[-166.00816,59.844581],[-166.062929,59.745996],[-166.440838,59.855535],[-166.6161,59.850058],[-166.994009,59.992458],[-167.125456,59.992458],[-167.344534,60.074613],[-167.421211,60.206059],[-167.311672,60.238921],[-166.93924,60.206059],[-166.763978,60.310121],[-166.577762,60.321075],[-166.495608,60.392275],[-166.364161,60.359413]]],[[[-166.375115,54.01164],[-166.210807,53.934962],[-166.5449,53.748746],[-166.539423,53.715885],[-166.117699,53.852808],[-166.112222,53.776131],[-166.282007,53.683023],[-166.555854,53.622777],[-166.583239,53.529669],[-166.878994,53.431084],[-167.13641,53.425607],[-167.306195,53.332499],[-167.623857,53.250345],[-167.793643,53.337976],[-167.459549,53.442038],[-167.355487,53.425607],[-167.103548,53.513238],[-167.163794,53.611823],[-167.021394,53.715885],[-166.807793,53.666592],[-166.785886,53.732316],[-167.015917,53.754223],[-167.141887,53.825424],[-167.032348,53.945916],[-166.643485,54.017116],[-166.561331,53.880193],[-166.375115,54.01164]]],[[[-168.790446,53.157237],[-168.40706,53.34893],[-168.385152,53.431084],[-168.237275,53.524192],[-168.007243,53.568007],[-167.886751,53.518715],[-167.842935,53.387268],[-168.270136,53.244868],[-168.500168,53.036744],[-168.686384,52.965544],[-168.790446,53.157237]]],[[[-169.74891,52.894344],[-169.705095,52.795759],[-169.962511,52.790282],[-169.989896,52.856005],[-169.74891,52.894344]]],[[[-170.148727,57.221127],[-170.28565,57.128019],[-170.313035,57.221127],[-170.148727,57.221127]]],[[[-170.669036,52.697174],[-170.603313,52.604066],[-170.789529,52.538343],[-170.816914,52.636928],[-170.669036,52.697174]]],[[[-171.742517,63.716778],[-170.94836,63.5689],[-170.488297,63.69487],[-170.280174,63.683916],[-170.093958,63.612716],[-170.044665,63.492223],[-169.644848,63.4265],[-169.518879,63.366254],[-168.99857,63.338869],[-168.686384,63.295053],[-168.856169,63.147176],[-169.108108,63.180038],[-169.376478,63.152653],[-169.513402,63.08693],[-169.639372,62.939052],[-169.831064,63.075976],[-170.055619,63.169084],[-170.263743,63.180038],[-170.362328,63.2841],[-170.866206,63.415546],[-171.101715,63.421023],[-171.463193,63.306007],[-171.73704,63.366254],[-171.852055,63.486746],[-171.742517,63.716778]]],[[[-172.432611,52.390465],[-172.41618,52.275449],[-172.607873,52.253542],[-172.569535,52.352127],[-172.432611,52.390465]]],[[[-173.626584,52.14948],[-173.495138,52.105664],[-173.122706,52.111141],[-173.106275,52.07828],[-173.549907,52.028987],[-173.626584,52.14948]]],[[[-174.322156,52.280926],[-174.327632,52.379511],[-174.185232,52.41785],[-173.982585,52.319265],[-174.059262,52.226157],[-174.179755,52.231634],[-174.141417,52.127572],[-174.333109,52.116618],[-174.738403,52.007079],[-174.968435,52.039941],[-174.902711,52.116618],[-174.656249,52.105664],[-174.322156,52.280926]]],[[[-176.469116,51.853725],[-176.288377,51.870156],[-176.288377,51.744186],[-176.518409,51.760617],[-176.80321,51.61274],[-176.912748,51.80991],[-176.792256,51.815386],[-176.775825,51.963264],[-176.627947,51.968741],[-176.627947,51.859202],[-176.469116,51.853725]]],[[[-177.153734,51.946833],[-177.044195,51.897541],[-177.120872,51.727755],[-177.274226,51.678463],[-177.279703,51.782525],[-177.153734,51.946833]]],[[[-178.123152,51.919448],[-177.953367,51.913971],[-177.800013,51.793479],[-177.964321,51.651078],[-178.123152,51.919448]]],[[[-187.107557,52.992929],[-187.293773,52.927205],[-187.304726,52.823143],[-188.90491,52.762897],[-188.642017,52.927205],[-188.642017,53.003883],[-187.107557,52.992929]]]]},\"bbox\":[-188.90491,51.61274,-129.986323,71.351633]},{\"id\":\"Arizona\",\"type\":\"Feature\",\"properties\":{},\"geometry\":{\"type\":\"Polygon\",\"coordinates\":[[[-109.042503,37.000263],[-109.04798,31.331629],[-111.074448,31.331629],[-112.246513,31.704061],[-114.815198,32.492741],[-114.72209,32.717295],[-114.524921,32.755634],[-114.470151,32.843265],[-114.524921,33.029481],[-114.661844,33.034958],[-114.727567,33.40739],[-114.524921,33.54979],[-114.497536,33.697668],[-114.535874,33.933176],[-114.415382,34.108438],[-114.256551,34.174162],[-114.136058,34.305608],[-114.333228,34.448009],[-114.470151,34.710902],[-114.634459,34.87521],[-114.634459,35.00118],[-114.574213,35.138103],[-114.596121,35.324319],[-114.678275,35.516012],[-114.738521,36.102045],[-114.371566,36.140383],[-114.251074,36.01989],[-114.152489,36.025367],[-114.048427,36.195153],[-114.048427,37.000263],[-110.499369,37.00574],[-109.042503,37.000263]]]},\"bbox\":[-114.815198,31.331629,-109.042503,37.00574]},{\"id\":\"Arkansas\",\"type\":\"Feature\",\"properties\":{},\"geometry\":{\"type\":\"Polygon\",\"coordinates\":[[[-94.473842,36.501861],[-90.152536,36.496384],[-90.064905,36.304691],[-90.218259,36.184199],[-90.377091,35.997983],[-89.730812,35.997983],[-89.763673,35.811767],[-89.911551,35.756997],[-89.944412,35.603643],[-90.130628,35.439335],[-90.114197,35.198349],[-90.212782,35.023087],[-90.311367,34.995703],[-90.251121,34.908072],[-90.409952,34.831394],[-90.481152,34.661609],[-90.585214,34.617794],[-90.568783,34.420624],[-90.749522,34.365854],[-90.744046,34.300131],[-90.952169,34.135823],[-90.891923,34.026284],[-91.072662,33.867453],[-91.231493,33.560744],[-91.056231,33.429298],[-91.143862,33.347144],[-91.089093,33.13902],[-91.16577,33.002096],[-93.608485,33.018527],[-94.041164,33.018527],[-94.041164,33.54979],[-94.183564,33.593606],[-94.380734,33.544313],[-94.484796,33.637421],[-94.430026,35.395519],[-94.616242,36.501861],[-94.473842,36.501861]]]},\"bbox\":[-94.616242,33.002096,-89.730812,36.501861]},{\"id\":\"California\",\"type\":\"Feature\",\"properties\":{},\"geometry\":{\"type\":\"Polygon\",\"coordinates\":[[[-123.233256,42.006186],[-122.378853,42.011663],[-121.037003,41.995232],[-120.001861,41.995232],[-119.996384,40.264519],[-120.001861,38.999346],[-118.71478,38.101128],[-117.498899,37.21934],[-116.540435,36.501861],[-115.85034,35.970598],[-114.634459,35.00118],[-114.634459,34.87521],[-114.470151,34.710902],[-114.333228,34.448009],[-114.136058,34.305608],[-114.256551,34.174162],[-114.415382,34.108438],[-114.535874,33.933176],[-114.497536,33.697668],[-114.524921,33.54979],[-114.727567,33.40739],[-114.661844,33.034958],[-114.524921,33.029481],[-114.470151,32.843265],[-114.524921,32.755634],[-114.72209,32.717295],[-116.04751,32.624187],[-117.126467,32.536556],[-117.24696,32.668003],[-117.252437,32.876127],[-117.329114,33.122589],[-117.471515,33.297851],[-117.7837,33.538836],[-118.183517,33.763391],[-118.260194,33.703145],[-118.413548,33.741483],[-118.391641,33.840068],[-118.566903,34.042715],[-118.802411,33.998899],[-119.218659,34.146777],[-119.278905,34.26727],[-119.558229,34.415147],[-119.875891,34.40967],[-120.138784,34.475393],[-120.472878,34.448009],[-120.64814,34.579455],[-120.609801,34.858779],[-120.670048,34.902595],[-120.631709,35.099764],[-120.894602,35.247642],[-120.905556,35.450289],[-121.004141,35.461243],[-121.168449,35.636505],[-121.283465,35.674843],[-121.332757,35.784382],[-121.716143,36.195153],[-121.896882,36.315645],[-121.935221,36.638785],[-121.858544,36.6114],[-121.787344,36.803093],[-121.929744,36.978355],[-122.105006,36.956447],[-122.335038,37.115279],[-122.417192,37.241248],[-122.400761,37.361741],[-122.515777,37.520572],[-122.515777,37.783465],[-122.329561,37.783465],[-122.406238,38.15042],[-122.488392,38.112082],[-122.504823,37.931343],[-122.701993,37.893004],[-122.937501,38.029928],[-122.97584,38.265436],[-123.129194,38.451652],[-123.331841,38.566668],[-123.44138,38.698114],[-123.737134,38.95553],[-123.687842,39.032208],[-123.824765,39.366301],[-123.764519,39.552517],[-123.85215,39.831841],[-124.109566,40.105688],[-124.361506,40.259042],[-124.410798,40.439781],[-124.158859,40.877937],[-124.109566,41.025814],[-124.158859,41.14083],[-124.065751,41.442061],[-124.147905,41.715908],[-124.257444,41.781632],[-124.213628,42.000709],[-123.233256,42.006186]]]},\"bbox\":[-124.410798,32.536556,-114.136058,42.011663]},{\"id\":\"Colorado\",\"type\":\"Feature\",\"properties\":{},\"geometry\":{\"type\":\"Polygon\",\"coordinates\":[[[-107.919731,41.003906],[-105.728954,40.998429],[-104.053011,41.003906],[-102.053927,41.003906],[-102.053927,40.001626],[-102.042974,36.994786],[-103.001438,37.000263],[-104.337812,36.994786],[-106.868158,36.994786],[-107.421329,37.000263],[-109.042503,37.000263],[-109.042503,38.166851],[-109.058934,38.27639],[-109.053457,39.125316],[-109.04798,40.998429],[-107.919731,41.003906]]]},\"bbox\":[-109.058934,36.994786,-102.042974,41.003906]},{\"id\":\"Connecticut\",\"type\":\"Feature\",\"properties\":{},\"geometry\":{\"type\":\"Polygon\",\"coordinates\":[[[-73.053528,42.039048],[-71.799309,42.022617],[-71.799309,42.006186],[-71.799309,41.414677],[-71.859555,41.321569],[-71.947186,41.338],[-72.385341,41.261322],[-72.905651,41.28323],[-73.130205,41.146307],[-73.371191,41.102491],[-73.655992,40.987475],[-73.727192,41.102491],[-73.48073,41.21203],[-73.55193,41.294184],[-73.486206,42.050002],[-73.053528,42.039048]]]},\"bbox\":[-73.727192,40.987475,-71.799309,42.050002]},{\"id\":\"Delaware\",\"type\":\"Feature\",\"properties\":{},\"geometry\":{\"type\":\"Polygon\",\"coordinates\":[[[-75.414089,39.804456],[-75.507197,39.683964],[-75.611259,39.61824],[-75.589352,39.459409],[-75.441474,39.311532],[-75.403136,39.065069],[-75.189535,38.807653],[-75.09095,38.796699],[-75.047134,38.451652],[-75.693413,38.462606],[-75.786521,39.722302],[-75.616736,39.831841],[-75.414089,39.804456]]]},\"bbox\":[-75.786521,38.451652,-75.047134,39.831841]},{\"id\":\"Florida\",\"type\":\"Feature\",\"properties\":{},\"geometry\":{\"type\":\"Polygon\",\"coordinates\":[[[-85.497137,30.997536],[-85.004212,31.003013],[-84.867289,30.712735],[-83.498053,30.647012],[-82.216449,30.570335],[-82.167157,30.356734],[-82.046664,30.362211],[-82.002849,30.564858],[-82.041187,30.751074],[-81.948079,30.827751],[-81.718048,30.745597],[-81.444201,30.707258],[-81.383954,30.27458],[-81.257985,29.787132],[-80.967707,29.14633],[-80.524075,28.461713],[-80.589798,28.41242],[-80.56789,28.094758],[-80.381674,27.738757],[-80.091397,27.021277],[-80.03115,26.796723],[-80.036627,26.566691],[-80.146166,25.739673],[-80.239274,25.723243],[-80.337859,25.465826],[-80.304997,25.383672],[-80.49669,25.197456],[-80.573367,25.241272],[-80.759583,25.164595],[-81.077246,25.120779],[-81.170354,25.224841],[-81.126538,25.378195],[-81.351093,25.821827],[-81.526355,25.903982],[-81.679709,25.843735],[-81.800202,26.090198],[-81.833064,26.292844],[-82.041187,26.517399],[-82.09048,26.665276],[-82.057618,26.878877],[-82.172634,26.917216],[-82.145249,26.791246],[-82.249311,26.758384],[-82.566974,27.300601],[-82.692943,27.437525],[-82.391711,27.837342],[-82.588881,27.815434],[-82.720328,27.689464],[-82.851774,27.886634],[-82.676512,28.434328],[-82.643651,28.888914],[-82.764143,28.998453],[-82.802482,29.14633],[-82.994175,29.179192],[-83.218729,29.420177],[-83.399469,29.518762],[-83.410422,29.66664],[-83.536392,29.721409],[-83.640454,29.885717],[-84.02384,30.104795],[-84.357933,30.055502],[-84.341502,29.902148],[-84.451041,29.929533],[-84.867289,29.743317],[-85.310921,29.699501],[-85.299967,29.80904],[-85.404029,29.940487],[-85.924338,30.236241],[-86.29677,30.362211],[-86.630863,30.395073],[-86.910187,30.373165],[-87.518128,30.280057],[-87.37025,30.427934],[-87.446927,30.510088],[-87.408589,30.674397],[-87.633143,30.86609],[-87.600282,30.997536],[-85.497137,30.997536]]]},\"bbox\":[-87.633143,25.120779,-80.03115,31.003013]},{\"id\":\"Georgia\",\"type\":\"Feature\",\"properties\":{},\"geometry\":{\"type\":\"Polygon\",\"coordinates\":[[[-83.109191,35.00118],[-83.322791,34.787579],[-83.339222,34.683517],[-83.005129,34.469916],[-82.901067,34.486347],[-82.747713,34.26727],[-82.714851,34.152254],[-82.55602,33.94413],[-82.325988,33.81816],[-82.194542,33.631944],[-81.926172,33.462159],[-81.937125,33.347144],[-81.761863,33.160928],[-81.493493,33.007573],[-81.42777,32.843265],[-81.416816,32.629664],[-81.279893,32.558464],[-81.121061,32.290094],[-81.115584,32.120309],[-80.885553,32.032678],[-81.132015,31.693108],[-81.175831,31.517845],[-81.279893,31.364491],[-81.290846,31.20566],[-81.400385,31.13446],[-81.444201,30.707258],[-81.718048,30.745597],[-81.948079,30.827751],[-82.041187,30.751074],[-82.002849,30.564858],[-82.046664,30.362211],[-82.167157,30.356734],[-82.216449,30.570335],[-83.498053,30.647012],[-84.867289,30.712735],[-85.004212,31.003013],[-85.113751,31.27686],[-85.042551,31.539753],[-85.141136,31.840985],[-85.053504,32.01077],[-85.058981,32.13674],[-84.889196,32.262709],[-85.004212,32.322956],[-84.960397,32.421541],[-85.069935,32.580372],[-85.184951,32.859696],[-85.431413,34.124869],[-85.606675,34.984749],[-84.319594,34.990226],[-83.618546,34.984749],[-83.109191,35.00118]]]},\"bbox\":[-85.606675,30.356734,-80.885553,35.00118]},{\"id\":\"Hawaii\",\"type\":\"Feature\",\"properties\":{},\"geometry\":{\"type\":\"MultiPolygon\",\"coordinates\":[[[[-155.634835,18.948267],[-155.881297,19.035898],[-155.919636,19.123529],[-155.886774,19.348084],[-156.062036,19.73147],[-155.925113,19.857439],[-155.826528,20.032702],[-155.897728,20.147717],[-155.87582,20.26821],[-155.596496,20.12581],[-155.284311,20.021748],[-155.092618,19.868393],[-155.092618,19.736947],[-154.807817,19.523346],[-154.983079,19.348084],[-155.295265,19.26593],[-155.514342,19.134483],[-155.634835,18.948267]]],[[[-156.587823,21.029505],[-156.472807,20.892581],[-156.324929,20.952827],[-156.00179,20.793996],[-156.051082,20.651596],[-156.379699,20.580396],[-156.445422,20.60778],[-156.461853,20.783042],[-156.631638,20.821381],[-156.697361,20.919966],[-156.587823,21.029505]]],[[[-156.982162,21.210244],[-157.080747,21.106182],[-157.310779,21.106182],[-157.239579,21.221198],[-156.982162,21.210244]]],[[[-157.951581,21.697691],[-157.842042,21.462183],[-157.896811,21.325259],[-158.110412,21.303352],[-158.252813,21.582676],[-158.126843,21.588153],[-157.951581,21.697691]]],[[[-159.468693,22.228955],[-159.353678,22.218001],[-159.298908,22.113939],[-159.33177,21.966061],[-159.446786,21.872953],[-159.764448,21.987969],[-159.726109,22.152277],[-159.468693,22.228955]]]]},\"bbox\":[-159.764448,18.948267,-154.807817,22.228955]},{\"id\":\"Idaho\",\"type\":\"Feature\",\"properties\":{},\"geometry\":{\"type\":\"Polygon\",\"coordinates\":[[[-116.04751,49.000239],[-116.04751,47.976051],[-115.724371,47.696727],[-115.718894,47.42288],[-115.527201,47.302388],[-115.324554,47.258572],[-115.302646,47.187372],[-114.930214,46.919002],[-114.886399,46.809463],[-114.623506,46.705401],[-114.612552,46.639678],[-114.322274,46.645155],[-114.464674,46.272723],[-114.492059,46.037214],[-114.387997,45.88386],[-114.568736,45.774321],[-114.497536,45.670259],[-114.546828,45.560721],[-114.333228,45.456659],[-114.086765,45.593582],[-113.98818,45.703121],[-113.807441,45.604536],[-113.834826,45.522382],[-113.736241,45.330689],[-113.571933,45.128042],[-113.45144,45.056842],[-113.456917,44.865149],[-113.341901,44.782995],[-113.133778,44.772041],[-113.002331,44.448902],[-112.887315,44.394132],[-112.783254,44.48724],[-112.471068,44.481763],[-112.241036,44.569394],[-112.104113,44.520102],[-111.868605,44.563917],[-111.819312,44.509148],[-111.616665,44.547487],[-111.386634,44.75561],[-111.227803,44.580348],[-111.047063,44.476286],[-111.047063,42.000709],[-112.164359,41.995232],[-114.04295,41.995232],[-117.027882,42.000709],[-117.027882,43.830007],[-116.896436,44.158624],[-116.97859,44.240778],[-117.170283,44.257209],[-117.241483,44.394132],[-117.038836,44.750133],[-116.934774,44.782995],[-116.830713,44.930872],[-116.847143,45.02398],[-116.732128,45.144473],[-116.671881,45.319735],[-116.463758,45.61549],[-116.545912,45.752413],[-116.78142,45.823614],[-116.918344,45.993399],[-116.92382,46.168661],[-117.055267,46.343923],[-117.038836,46.426077],[-117.044313,47.762451],[-117.033359,49.000239],[-116.04751,49.000239]]]},\"bbox\":[-117.241483,41.995232,-111.047063,49.000239]},{\"id\":\"Illinois\",\"type\":\"Feature\",\"properties\":{},\"geometry\":{\"type\":\"Polygon\",\"coordinates\":[[[-90.639984,42.510065],[-88.788778,42.493634],[-87.802929,42.493634],[-87.83579,42.301941],[-87.682436,42.077386],[-87.523605,41.710431],[-87.529082,39.34987],[-87.63862,39.169131],[-87.512651,38.95553],[-87.49622,38.780268],[-87.62219,38.637868],[-87.655051,38.506421],[-87.83579,38.292821],[-87.950806,38.27639],[-87.923421,38.15042],[-88.000098,38.101128],[-88.060345,37.865619],[-88.027483,37.799896],[-88.15893,37.657496],[-88.065822,37.482234],[-88.476592,37.389126],[-88.514931,37.285064],[-88.421823,37.153617],[-88.547792,37.071463],[-88.914747,37.224817],[-89.029763,37.213863],[-89.183118,37.038601],[-89.133825,36.983832],[-89.292656,36.994786],[-89.517211,37.279587],[-89.435057,37.34531],[-89.517211,37.537003],[-89.517211,37.690357],[-89.84035,37.903958],[-89.949889,37.88205],[-90.059428,38.013497],[-90.355183,38.216144],[-90.349706,38.374975],[-90.179921,38.632391],[-90.207305,38.725499],[-90.10872,38.845992],[-90.251121,38.917192],[-90.470199,38.961007],[-90.585214,38.867899],[-90.661891,38.928146],[-90.727615,39.256762],[-91.061708,39.470363],[-91.368417,39.727779],[-91.494386,40.034488],[-91.50534,40.237135],[-91.417709,40.379535],[-91.401278,40.560274],[-91.121954,40.669813],[-91.09457,40.823167],[-90.963123,40.921752],[-90.946692,41.097014],[-91.111001,41.239415],[-91.045277,41.414677],[-90.656414,41.463969],[-90.344229,41.589939],[-90.311367,41.743293],[-90.179921,41.809016],[-90.141582,42.000709],[-90.168967,42.126679],[-90.393521,42.225264],[-90.420906,42.329326],[-90.639984,42.510065]]]},\"bbox\":[-91.50534,36.983832,-87.49622,42.510065]},{\"id\":\"Indiana\",\"type\":\"Feature\",\"properties\":{},\"geometry\":{\"type\":\"Polygon\",\"coordinates\":[[[-85.990061,41.759724],[-84.807042,41.759724],[-84.807042,41.694001],[-84.801565,40.500028],[-84.817996,39.103408],[-84.894673,39.059592],[-84.812519,38.785745],[-84.987781,38.780268],[-85.173997,38.68716],[-85.431413,38.730976],[-85.42046,38.533806],[-85.590245,38.451652],[-85.655968,38.325682],[-85.83123,38.27639],[-85.924338,38.024451],[-86.039354,37.958727],[-86.263908,38.051835],[-86.302247,38.166851],[-86.521325,38.040881],[-86.504894,37.931343],[-86.729448,37.893004],[-86.795172,37.991589],[-87.047111,37.893004],[-87.129265,37.788942],[-87.381204,37.93682],[-87.512651,37.903958],[-87.600282,37.975158],[-87.682436,37.903958],[-87.934375,37.893004],[-88.027483,37.799896],[-88.060345,37.865619],[-88.000098,38.101128],[-87.923421,38.15042],[-87.950806,38.27639],[-87.83579,38.292821],[-87.655051,38.506421],[-87.62219,38.637868],[-87.49622,38.780268],[-87.512651,38.95553],[-87.63862,39.169131],[-87.529082,39.34987],[-87.523605,41.710431],[-87.42502,41.644708],[-87.118311,41.644708],[-86.822556,41.759724],[-85.990061,41.759724]]]},\"bbox\":[-88.060345,37.788942,-84.801565,41.759724]},{\"id\":\"Iowa\",\"type\":\"Feature\",\"properties\":{},\"geometry\":{\"type\":\"Polygon\",\"coordinates\":[[[-91.368417,43.501391],[-91.215062,43.501391],[-91.204109,43.353514],[-91.056231,43.254929],[-91.176724,43.134436],[-91.143862,42.909881],[-91.067185,42.75105],[-90.711184,42.636034],[-90.639984,42.510065],[-90.420906,42.329326],[-90.393521,42.225264],[-90.168967,42.126679],[-90.141582,42.000709],[-90.179921,41.809016],[-90.311367,41.743293],[-90.344229,41.589939],[-90.656414,41.463969],[-91.045277,41.414677],[-91.111001,41.239415],[-90.946692,41.097014],[-90.963123,40.921752],[-91.09457,40.823167],[-91.121954,40.669813],[-91.401278,40.560274],[-91.417709,40.379535],[-91.527248,40.412397],[-91.729895,40.615043],[-91.833957,40.609566],[-93.257961,40.582182],[-94.632673,40.571228],[-95.7664,40.587659],[-95.881416,40.719105],[-95.826646,40.976521],[-95.925231,41.201076],[-95.919754,41.453015],[-96.095016,41.540646],[-96.122401,41.67757],[-96.062155,41.798063],[-96.127878,41.973325],[-96.264801,42.039048],[-96.44554,42.488157],[-96.631756,42.707235],[-96.544125,42.855112],[-96.511264,43.052282],[-96.434587,43.123482],[-96.560556,43.222067],[-96.527695,43.397329],[-96.582464,43.479483],[-96.451017,43.501391],[-91.368417,43.501391]]]},\"bbox\":[-96.631756,40.379535,-90.141582,43.501391]},{\"id\":\"Kansas\",\"type\":\"Feature\",\"properties\":{},\"geometry\":{\"type\":\"Polygon\",\"coordinates\":[[[-101.90605,40.001626],[-95.306337,40.001626],[-95.207752,39.908518],[-94.884612,39.831841],[-95.109167,39.541563],[-94.983197,39.442978],[-94.824366,39.20747],[-94.610765,39.158177],[-94.616242,37.000263],[-100.087706,37.000263],[-102.042974,36.994786],[-102.053927,40.001626],[-101.90605,40.001626]]]},\"bbox\":[-102.053927,36.994786,-94.610765,40.001626]},{\"id\":\"Kentucky\",\"type\":\"Feature\",\"properties\":{},\"geometry\":{\"type\":\"Polygon\",\"coordinates\":[[[-83.903347,38.769315],[-83.678792,38.632391],[-83.519961,38.703591],[-83.142052,38.626914],[-83.032514,38.725499],[-82.890113,38.758361],[-82.846298,38.588575],[-82.731282,38.561191],[-82.594358,38.424267],[-82.621743,38.123036],[-82.50125,37.931343],[-82.342419,37.783465],[-82.293127,37.668449],[-82.101434,37.553434],[-81.969987,37.537003],[-82.353373,37.268633],[-82.720328,37.120755],[-82.720328,37.044078],[-82.868205,36.978355],[-82.879159,36.890724],[-83.070852,36.852385],[-83.136575,36.742847],[-83.673316,36.600446],[-83.689746,36.584015],[-84.544149,36.594969],[-85.289013,36.627831],[-85.486183,36.616877],[-86.592525,36.655216],[-87.852221,36.633308],[-88.071299,36.677123],[-88.054868,36.496384],[-89.298133,36.507338],[-89.418626,36.496384],[-89.363857,36.622354],[-89.215979,36.578538],[-89.133825,36.983832],[-89.183118,37.038601],[-89.029763,37.213863],[-88.914747,37.224817],[-88.547792,37.071463],[-88.421823,37.153617],[-88.514931,37.285064],[-88.476592,37.389126],[-88.065822,37.482234],[-88.15893,37.657496],[-88.027483,37.799896],[-87.934375,37.893004],[-87.682436,37.903958],[-87.600282,37.975158],[-87.512651,37.903958],[-87.381204,37.93682],[-87.129265,37.788942],[-87.047111,37.893004],[-86.795172,37.991589],[-86.729448,37.893004],[-86.504894,37.931343],[-86.521325,38.040881],[-86.302247,38.166851],[-86.263908,38.051835],[-86.039354,37.958727],[-85.924338,38.024451],[-85.83123,38.27639],[-85.655968,38.325682],[-85.590245,38.451652],[-85.42046,38.533806],[-85.431413,38.730976],[-85.173997,38.68716],[-84.987781,38.780268],[-84.812519,38.785745],[-84.894673,39.059592],[-84.817996,39.103408],[-84.43461,39.103408],[-84.231963,38.895284],[-84.215533,38.807653],[-83.903347,38.769315]]]},\"bbox\":[-89.418626,36.496384,-81.969987,39.103408]},{\"id\":\"Louisiana\",\"type\":\"Feature\",\"properties\":{},\"geometry\":{\"type\":\"Polygon\",\"coordinates\":[[[-93.608485,33.018527],[-91.16577,33.002096],[-91.072662,32.887081],[-91.143862,32.843265],[-91.154816,32.640618],[-91.006939,32.514649],[-90.985031,32.218894],[-91.105524,31.988862],[-91.341032,31.846462],[-91.401278,31.621907],[-91.499863,31.643815],[-91.516294,31.27686],[-91.636787,31.265906],[-91.565587,31.068736],[-91.636787,30.997536],[-89.747242,30.997536],[-89.845827,30.66892],[-89.681519,30.449842],[-89.643181,30.285534],[-89.522688,30.181472],[-89.818443,30.044549],[-89.84035,29.945964],[-89.599365,29.88024],[-89.495303,30.039072],[-89.287179,29.88024],[-89.30361,29.754271],[-89.424103,29.699501],[-89.648657,29.748794],[-89.621273,29.655686],[-89.69795,29.513285],[-89.506257,29.387316],[-89.199548,29.348977],[-89.09001,29.2011],[-89.002379,29.179192],[-89.16121,29.009407],[-89.336472,29.042268],[-89.484349,29.217531],[-89.851304,29.310638],[-89.851304,29.480424],[-90.032043,29.425654],[-90.021089,29.283254],[-90.103244,29.151807],[-90.23469,29.129899],[-90.333275,29.277777],[-90.563307,29.283254],[-90.645461,29.129899],[-90.798815,29.086084],[-90.963123,29.179192],[-91.09457,29.190146],[-91.220539,29.436608],[-91.445094,29.546147],[-91.532725,29.529716],[-91.620356,29.73784],[-91.883249,29.710455],[-91.888726,29.836425],[-92.146142,29.715932],[-92.113281,29.622824],[-92.31045,29.535193],[-92.617159,29.579009],[-92.97316,29.715932],[-93.2251,29.776178],[-93.767317,29.726886],[-93.838517,29.688547],[-93.926148,29.787132],[-93.690639,30.143133],[-93.767317,30.334826],[-93.696116,30.438888],[-93.728978,30.575812],[-93.630393,30.679874],[-93.526331,30.93729],[-93.542762,31.15089],[-93.816609,31.556184],[-93.822086,31.775262],[-94.041164,31.994339],[-94.041164,33.018527],[-93.608485,33.018527]]]},\"bbox\":[-94.041164,29.009407,-89.002379,33.018527]},{\"id\":\"Maine\",\"type\":\"Feature\",\"properties\":{},\"geometry\":{\"type\":\"Polygon\",\"coordinates\":[[[-70.703921,43.057759],[-70.824413,43.128959],[-70.807983,43.227544],[-70.966814,43.34256],[-71.032537,44.657025],[-71.08183,45.303304],[-70.649151,45.440228],[-70.720352,45.511428],[-70.556043,45.664782],[-70.386258,45.735983],[-70.41912,45.796229],[-70.260289,45.889337],[-70.309581,46.064599],[-70.210996,46.327492],[-70.057642,46.415123],[-69.997395,46.694447],[-69.225147,47.461219],[-69.044408,47.428357],[-69.033454,47.242141],[-68.902007,47.176418],[-68.578868,47.285957],[-68.376221,47.285957],[-68.233821,47.357157],[-67.954497,47.198326],[-67.790188,47.066879],[-67.779235,45.944106],[-67.801142,45.675736],[-67.456095,45.604536],[-67.505388,45.48952],[-67.417757,45.379982],[-67.488957,45.281397],[-67.346556,45.128042],[-67.16034,45.160904],[-66.979601,44.804903],[-67.187725,44.646072],[-67.308218,44.706318],[-67.406803,44.596779],[-67.549203,44.624164],[-67.565634,44.531056],[-67.75185,44.54201],[-68.047605,44.328409],[-68.118805,44.476286],[-68.222867,44.48724],[-68.173574,44.328409],[-68.403606,44.251732],[-68.458375,44.377701],[-68.567914,44.311978],[-68.82533,44.311978],[-68.830807,44.459856],[-68.984161,44.426994],[-68.956777,44.322932],[-69.099177,44.103854],[-69.071793,44.043608],[-69.258008,43.923115],[-69.444224,43.966931],[-69.553763,43.840961],[-69.707118,43.82453],[-69.833087,43.720469],[-69.986442,43.742376],[-70.030257,43.851915],[-70.254812,43.676653],[-70.194565,43.567114],[-70.358873,43.528776],[-70.369827,43.435668],[-70.556043,43.320652],[-70.703921,43.057759]]]},\"bbox\":[-71.08183,43.057759,-66.979601,47.461219]},{\"id\":\"Maryland\",\"type\":\"Feature\",\"properties\":{},\"geometry\":{\"type\":\"MultiPolygon\",\"coordinates\":[[[[-75.994645,37.95325],[-76.016553,37.95325],[-76.043938,37.95325],[-75.994645,37.95325]]],[[[-79.477979,39.722302],[-75.786521,39.722302],[-75.693413,38.462606],[-75.047134,38.451652],[-75.244304,38.029928],[-75.397659,38.013497],[-75.671506,37.95325],[-75.885106,37.909435],[-75.879629,38.073743],[-75.961783,38.139466],[-75.846768,38.210667],[-76.000122,38.374975],[-76.049415,38.303775],[-76.257538,38.320205],[-76.328738,38.500944],[-76.263015,38.500944],[-76.257538,38.736453],[-76.191815,38.829561],[-76.279446,39.147223],[-76.169907,39.333439],[-76.000122,39.366301],[-75.972737,39.557994],[-76.098707,39.536086],[-76.104184,39.437501],[-76.367077,39.311532],[-76.443754,39.196516],[-76.460185,38.906238],[-76.55877,38.769315],[-76.514954,38.539283],[-76.383508,38.380452],[-76.399939,38.259959],[-76.317785,38.139466],[-76.3616,38.057312],[-76.591632,38.216144],[-76.920248,38.292821],[-77.018833,38.446175],[-77.205049,38.358544],[-77.276249,38.479037],[-77.128372,38.632391],[-77.040741,38.791222],[-76.909294,38.895284],[-77.035264,38.993869],[-77.117418,38.933623],[-77.248864,39.026731],[-77.456988,39.076023],[-77.456988,39.223901],[-77.566527,39.306055],[-77.719881,39.322485],[-77.834897,39.601809],[-78.004682,39.601809],[-78.174467,39.694917],[-78.267575,39.61824],[-78.431884,39.623717],[-78.470222,39.514178],[-78.765977,39.585379],[-78.963147,39.437501],[-79.094593,39.470363],[-79.291763,39.300578],[-79.488933,39.20747],[-79.477979,39.722302]]]]},\"bbox\":[-79.488933,37.909435,-75.047134,39.722302]},{\"id\":\"Massachusetts\",\"type\":\"Feature\",\"properties\":{},\"geometry\":{\"type\":\"Polygon\",\"coordinates\":[[[-70.917521,42.887974],[-70.818936,42.871543],[-70.780598,42.696281],[-70.824413,42.55388],[-70.983245,42.422434],[-70.988722,42.269079],[-70.769644,42.247172],[-70.638197,42.08834],[-70.660105,41.962371],[-70.550566,41.929509],[-70.539613,41.814493],[-70.260289,41.715908],[-69.937149,41.809016],[-70.008349,41.672093],[-70.484843,41.5516],[-70.660105,41.546123],[-70.764167,41.639231],[-70.928475,41.611847],[-70.933952,41.540646],[-71.120168,41.496831],[-71.196845,41.67757],[-71.22423,41.710431],[-71.328292,41.781632],[-71.383061,42.01714],[-71.530939,42.01714],[-71.799309,42.006186],[-71.799309,42.022617],[-73.053528,42.039048],[-73.486206,42.050002],[-73.508114,42.08834],[-73.267129,42.745573],[-72.456542,42.729142],[-71.29543,42.696281],[-71.185891,42.789389],[-70.917521,42.887974]]]},\"bbox\":[-73.508114,41.496831,-69.937149,42.887974]},{\"id\":\"Michigan\",\"type\":\"Feature\",\"properties\":{},\"geometry\":{\"type\":\"MultiPolygon\",\"coordinates\":[[[[-83.454238,41.732339],[-84.807042,41.694001],[-84.807042,41.759724],[-85.990061,41.759724],[-86.822556,41.759724],[-86.619909,41.891171],[-86.482986,42.115725],[-86.357016,42.252649],[-86.263908,42.444341],[-86.209139,42.718189],[-86.231047,43.013943],[-86.526801,43.594499],[-86.433693,43.813577],[-86.499417,44.07647],[-86.269385,44.34484],[-86.220093,44.569394],[-86.252954,44.689887],[-86.088646,44.73918],[-86.066738,44.903488],[-85.809322,44.947303],[-85.612152,45.128042],[-85.628583,44.766564],[-85.524521,44.750133],[-85.393075,44.930872],[-85.387598,45.237581],[-85.305444,45.314258],[-85.031597,45.363551],[-85.119228,45.577151],[-84.938489,45.75789],[-84.713934,45.768844],[-84.461995,45.653829],[-84.215533,45.637398],[-84.09504,45.494997],[-83.908824,45.484043],[-83.596638,45.352597],[-83.4871,45.358074],[-83.317314,45.144473],[-83.454238,45.029457],[-83.322791,44.88158],[-83.273499,44.711795],[-83.333745,44.339363],[-83.536392,44.246255],[-83.585684,44.054562],[-83.82667,43.988839],[-83.958116,43.758807],[-83.908824,43.671176],[-83.667839,43.589022],[-83.481623,43.714992],[-83.262545,43.972408],[-82.917498,44.070993],[-82.747713,43.994316],[-82.643651,43.851915],[-82.539589,43.435668],[-82.523158,43.227544],[-82.413619,42.975605],[-82.517681,42.614127],[-82.681989,42.559357],[-82.687466,42.690804],[-82.797005,42.652465],[-82.922975,42.351234],[-83.125621,42.236218],[-83.185868,42.006186],[-83.437807,41.814493],[-83.454238,41.732339]]],[[[-85.508091,45.730506],[-85.49166,45.610013],[-85.623106,45.588105],[-85.568337,45.75789],[-85.508091,45.730506]]],[[[-87.589328,45.095181],[-87.742682,45.199243],[-87.649574,45.341643],[-87.885083,45.363551],[-87.791975,45.500474],[-87.781021,45.675736],[-87.989145,45.796229],[-88.10416,45.922199],[-88.531362,46.020784],[-88.662808,45.987922],[-89.09001,46.135799],[-90.119674,46.338446],[-90.229213,46.508231],[-90.415429,46.568478],[-90.026566,46.672539],[-89.851304,46.793032],[-89.413149,46.842325],[-89.128348,46.990202],[-88.996902,46.995679],[-88.887363,47.099741],[-88.575177,47.247618],[-88.416346,47.373588],[-88.180837,47.455742],[-87.956283,47.384542],[-88.350623,47.077833],[-88.443731,46.973771],[-88.438254,46.787555],[-88.246561,46.929956],[-87.901513,46.908048],[-87.633143,46.809463],[-87.392158,46.535616],[-87.260711,46.486323],[-87.008772,46.530139],[-86.948526,46.469893],[-86.696587,46.437031],[-86.159846,46.667063],[-85.880522,46.68897],[-85.508091,46.678016],[-85.256151,46.754694],[-85.064458,46.760171],[-85.02612,46.480847],[-84.82895,46.442508],[-84.63178,46.486323],[-84.549626,46.4206],[-84.418179,46.502754],[-84.127902,46.530139],[-84.122425,46.179615],[-83.990978,46.031737],[-83.793808,45.993399],[-83.7719,46.091984],[-83.580208,46.091984],[-83.476146,45.987922],[-83.563777,45.911245],[-84.111471,45.976968],[-84.374364,45.933153],[-84.659165,46.053645],[-84.741319,45.944106],[-84.70298,45.850998],[-84.82895,45.872906],[-85.015166,46.00983],[-85.338305,46.091984],[-85.502614,46.097461],[-85.661445,45.966014],[-85.924338,45.933153],[-86.209139,45.960537],[-86.324155,45.905768],[-86.351539,45.796229],[-86.663725,45.703121],[-86.647294,45.834568],[-86.784218,45.861952],[-86.838987,45.725029],[-87.069019,45.719552],[-87.17308,45.659305],[-87.326435,45.423797],[-87.611236,45.122565],[-87.589328,45.095181]]],[[[-88.805209,47.976051],[-89.057148,47.850082],[-89.188594,47.833651],[-89.177641,47.937713],[-88.547792,48.173221],[-88.668285,48.008913],[-88.805209,47.976051]]]]},\"bbox\":[-90.415429,41.694001,-82.413619,48.173221]},{\"id\":\"Minnesota\",\"type\":\"Feature\",\"properties\":{},\"geometry\":{\"type\":\"Polygon\",\"coordinates\":[[[-92.014696,46.705401],[-92.091373,46.749217],[-92.29402,46.667063],[-92.29402,46.075553],[-92.354266,46.015307],[-92.639067,45.933153],[-92.869098,45.719552],[-92.885529,45.577151],[-92.770513,45.566198],[-92.644544,45.440228],[-92.75956,45.286874],[-92.737652,45.117088],[-92.808852,44.750133],[-92.545959,44.569394],[-92.337835,44.552964],[-92.233773,44.443425],[-91.927065,44.333886],[-91.877772,44.202439],[-91.592971,44.032654],[-91.43414,43.994316],[-91.242447,43.775238],[-91.269832,43.616407],[-91.215062,43.501391],[-91.368417,43.501391],[-96.451017,43.501391],[-96.451017,45.297827],[-96.681049,45.412843],[-96.856311,45.604536],[-96.582464,45.818137],[-96.560556,45.933153],[-96.598895,46.332969],[-96.719387,46.437031],[-96.801542,46.656109],[-96.785111,46.924479],[-96.823449,46.968294],[-96.856311,47.609096],[-97.053481,47.948667],[-97.130158,48.140359],[-97.16302,48.545653],[-97.097296,48.682577],[-97.228743,49.000239],[-95.152983,49.000239],[-95.152983,49.383625],[-94.955813,49.372671],[-94.824366,49.295994],[-94.69292,48.775685],[-94.588858,48.715438],[-94.260241,48.699007],[-94.221903,48.649715],[-93.838517,48.627807],[-93.794701,48.518268],[-93.466085,48.545653],[-93.466085,48.589469],[-93.208669,48.644238],[-92.984114,48.62233],[-92.726698,48.540176],[-92.655498,48.436114],[-92.50762,48.447068],[-92.370697,48.222514],[-92.304974,48.315622],[-92.053034,48.359437],[-92.009219,48.266329],[-91.713464,48.200606],[-91.713464,48.112975],[-91.565587,48.041775],[-91.264355,48.080113],[-91.083616,48.178698],[-90.837154,48.238944],[-90.749522,48.091067],[-90.579737,48.123929],[-90.377091,48.091067],[-90.141582,48.112975],[-89.873212,47.987005],[-89.615796,48.008913],[-89.637704,47.954144],[-89.971797,47.828174],[-90.437337,47.729589],[-90.738569,47.625527],[-91.171247,47.368111],[-91.357463,47.20928],[-91.642264,47.028541],[-92.091373,46.787555],[-92.014696,46.705401]]]},\"bbox\":[-97.228743,43.501391,-89.615796,49.383625]},{\"id\":\"Mississippi\",\"type\":\"Feature\",\"properties\":{},\"geometry\":{\"type\":\"Polygon\",\"coordinates\":[[[-88.471115,34.995703],[-88.202745,34.995703],[-88.098683,34.891641],[-88.241084,33.796253],[-88.471115,31.895754],[-88.394438,30.367688],[-88.503977,30.323872],[-88.744962,30.34578],[-88.843547,30.411504],[-89.084533,30.367688],[-89.418626,30.252672],[-89.522688,30.181472],[-89.643181,30.285534],[-89.681519,30.449842],[-89.845827,30.66892],[-89.747242,30.997536],[-91.636787,30.997536],[-91.565587,31.068736],[-91.636787,31.265906],[-91.516294,31.27686],[-91.499863,31.643815],[-91.401278,31.621907],[-91.341032,31.846462],[-91.105524,31.988862],[-90.985031,32.218894],[-91.006939,32.514649],[-91.154816,32.640618],[-91.143862,32.843265],[-91.072662,32.887081],[-91.16577,33.002096],[-91.089093,33.13902],[-91.143862,33.347144],[-91.056231,33.429298],[-91.231493,33.560744],[-91.072662,33.867453],[-90.891923,34.026284],[-90.952169,34.135823],[-90.744046,34.300131],[-90.749522,34.365854],[-90.568783,34.420624],[-90.585214,34.617794],[-90.481152,34.661609],[-90.409952,34.831394],[-90.251121,34.908072],[-90.311367,34.995703],[-88.471115,34.995703]]]},\"bbox\":[-91.636787,30.181472,-88.098683,34.995703]},{\"id\":\"Missouri\",\"type\":\"Feature\",\"properties\":{},\"geometry\":{\"type\":\"Polygon\",\"coordinates\":[[[-91.833957,40.609566],[-91.729895,40.615043],[-91.527248,40.412397],[-91.417709,40.379535],[-91.50534,40.237135],[-91.494386,40.034488],[-91.368417,39.727779],[-91.061708,39.470363],[-90.727615,39.256762],[-90.661891,38.928146],[-90.585214,38.867899],[-90.470199,38.961007],[-90.251121,38.917192],[-90.10872,38.845992],[-90.207305,38.725499],[-90.179921,38.632391],[-90.349706,38.374975],[-90.355183,38.216144],[-90.059428,38.013497],[-89.949889,37.88205],[-89.84035,37.903958],[-89.517211,37.690357],[-89.517211,37.537003],[-89.435057,37.34531],[-89.517211,37.279587],[-89.292656,36.994786],[-89.133825,36.983832],[-89.215979,36.578538],[-89.363857,36.622354],[-89.418626,36.496384],[-89.484349,36.496384],[-89.539119,36.496384],[-89.533642,36.249922],[-89.730812,35.997983],[-90.377091,35.997983],[-90.218259,36.184199],[-90.064905,36.304691],[-90.152536,36.496384],[-94.473842,36.501861],[-94.616242,36.501861],[-94.616242,37.000263],[-94.610765,39.158177],[-94.824366,39.20747],[-94.983197,39.442978],[-95.109167,39.541563],[-94.884612,39.831841],[-95.207752,39.908518],[-95.306337,40.001626],[-95.552799,40.264519],[-95.7664,40.587659],[-94.632673,40.571228],[-93.257961,40.582182],[-91.833957,40.609566]]]},\"bbox\":[-95.7664,35.997983,-89.133825,40.615043]},{\"id\":\"Montana\",\"type\":\"Feature\",\"properties\":{},\"geometry\":{\"type\":\"Polygon\",\"coordinates\":[[[-104.047534,49.000239],[-104.042057,47.861036],[-104.047534,45.944106],[-104.042057,44.996596],[-104.058488,44.996596],[-105.91517,45.002073],[-109.080842,45.002073],[-111.05254,45.002073],[-111.047063,44.476286],[-111.227803,44.580348],[-111.386634,44.75561],[-111.616665,44.547487],[-111.819312,44.509148],[-111.868605,44.563917],[-112.104113,44.520102],[-112.241036,44.569394],[-112.471068,44.481763],[-112.783254,44.48724],[-112.887315,44.394132],[-113.002331,44.448902],[-113.133778,44.772041],[-113.341901,44.782995],[-113.456917,44.865149],[-113.45144,45.056842],[-113.571933,45.128042],[-113.736241,45.330689],[-113.834826,45.522382],[-113.807441,45.604536],[-113.98818,45.703121],[-114.086765,45.593582],[-114.333228,45.456659],[-114.546828,45.560721],[-114.497536,45.670259],[-114.568736,45.774321],[-114.387997,45.88386],[-114.492059,46.037214],[-114.464674,46.272723],[-114.322274,46.645155],[-114.612552,46.639678],[-114.623506,46.705401],[-114.886399,46.809463],[-114.930214,46.919002],[-115.302646,47.187372],[-115.324554,47.258572],[-115.527201,47.302388],[-115.718894,47.42288],[-115.724371,47.696727],[-116.04751,47.976051],[-116.04751,49.000239],[-111.50165,48.994762],[-109.453274,49.000239],[-104.047534,49.000239]]]},\"bbox\":[-116.04751,44.394132,-104.042057,49.000239]},{\"id\":\"Nebraska\",\"type\":\"Feature\",\"properties\":{},\"geometry\":{\"type\":\"Polygon\",\"coordinates\":[[[-103.324578,43.002989],[-101.626726,42.997512],[-98.499393,42.997512],[-98.466531,42.94822],[-97.951699,42.767481],[-97.831206,42.866066],[-97.688806,42.844158],[-97.217789,42.844158],[-96.692003,42.657942],[-96.626279,42.515542],[-96.44554,42.488157],[-96.264801,42.039048],[-96.127878,41.973325],[-96.062155,41.798063],[-96.122401,41.67757],[-96.095016,41.540646],[-95.919754,41.453015],[-95.925231,41.201076],[-95.826646,40.976521],[-95.881416,40.719105],[-95.7664,40.587659],[-95.552799,40.264519],[-95.306337,40.001626],[-101.90605,40.001626],[-102.053927,40.001626],[-102.053927,41.003906],[-104.053011,41.003906],[-104.053011,43.002989],[-103.324578,43.002989]]]},\"bbox\":[-104.053011,40.001626,-95.306337,43.002989]},{\"id\":\"Nevada\",\"type\":\"Feature\",\"properties\":{},\"geometry\":{\"type\":\"Polygon\",\"coordinates\":[[[-117.027882,42.000709],[-114.04295,41.995232],[-114.048427,37.000263],[-114.048427,36.195153],[-114.152489,36.025367],[-114.251074,36.01989],[-114.371566,36.140383],[-114.738521,36.102045],[-114.678275,35.516012],[-114.596121,35.324319],[-114.574213,35.138103],[-114.634459,35.00118],[-115.85034,35.970598],[-116.540435,36.501861],[-117.498899,37.21934],[-118.71478,38.101128],[-120.001861,38.999346],[-119.996384,40.264519],[-120.001861,41.995232],[-118.698349,41.989755],[-117.027882,42.000709]]]},\"bbox\":[-120.001861,35.00118,-114.04295,42.000709]},{\"id\":\"New Hampshire\",\"type\":\"Feature\",\"properties\":{},\"geometry\":{\"type\":\"Polygon\",\"coordinates\":[[[-71.08183,45.303304],[-71.032537,44.657025],[-70.966814,43.34256],[-70.807983,43.227544],[-70.824413,43.128959],[-70.703921,43.057759],[-70.818936,42.871543],[-70.917521,42.887974],[-71.185891,42.789389],[-71.29543,42.696281],[-72.456542,42.729142],[-72.544173,42.80582],[-72.533219,42.953697],[-72.445588,43.008466],[-72.456542,43.150867],[-72.379864,43.572591],[-72.204602,43.769761],[-72.116971,43.994316],[-72.02934,44.07647],[-72.034817,44.322932],[-71.700724,44.41604],[-71.536416,44.585825],[-71.629524,44.750133],[-71.4926,44.914442],[-71.503554,45.013027],[-71.361154,45.270443],[-71.131122,45.243058],[-71.08183,45.303304]]]},\"bbox\":[-72.544173,42.696281,-70.703921,45.303304]},{\"id\":\"New Jersey\",\"type\":\"Feature\",\"properties\":{},\"geometry\":{\"type\":\"Polygon\",\"coordinates\":[[[-74.236547,41.14083],[-73.902454,40.998429],[-74.022947,40.708151],[-74.187255,40.642428],[-74.274886,40.489074],[-74.001039,40.412397],[-73.979131,40.297381],[-74.099624,39.760641],[-74.411809,39.360824],[-74.614456,39.245808],[-74.795195,38.993869],[-74.888303,39.158177],[-75.178581,39.240331],[-75.534582,39.459409],[-75.55649,39.607286],[-75.561967,39.629194],[-75.507197,39.683964],[-75.414089,39.804456],[-75.145719,39.88661],[-75.129289,39.963288],[-74.82258,40.127596],[-74.773287,40.215227],[-75.058088,40.417874],[-75.069042,40.543843],[-75.195012,40.576705],[-75.205966,40.691721],[-75.052611,40.866983],[-75.134765,40.971045],[-74.882826,41.179168],[-74.828057,41.288707],[-74.69661,41.359907],[-74.236547,41.14083]]]},\"bbox\":[-75.561967,38.993869,-73.902454,41.359907]},{\"id\":\"New Mexico\",\"type\":\"Feature\",\"properties\":{},\"geometry\":{\"type\":\"Polygon\",\"coordinates\":[[[-107.421329,37.000263],[-106.868158,36.994786],[-104.337812,36.994786],[-103.001438,37.000263],[-103.001438,36.501861],[-103.039777,36.501861],[-103.045254,34.01533],[-103.067161,33.002096],[-103.067161,31.999816],[-106.616219,31.999816],[-106.643603,31.901231],[-106.528588,31.786216],[-108.210008,31.786216],[-108.210008,31.331629],[-109.04798,31.331629],[-109.042503,37.000263],[-107.421329,37.000263]]]},\"bbox\":[-109.04798,31.331629,-103.001438,37.000263]},{\"id\":\"New York\",\"type\":\"Feature\",\"properties\":{},\"geometry\":{\"type\":\"Polygon\",\"coordinates\":[[[-73.343806,45.013027],[-73.332852,44.804903],[-73.387622,44.618687],[-73.294514,44.437948],[-73.321898,44.246255],[-73.436914,44.043608],[-73.349283,43.769761],[-73.404052,43.687607],[-73.245221,43.523299],[-73.278083,42.833204],[-73.267129,42.745573],[-73.508114,42.08834],[-73.486206,42.050002],[-73.55193,41.294184],[-73.48073,41.21203],[-73.727192,41.102491],[-73.655992,40.987475],[-73.22879,40.905321],[-73.141159,40.965568],[-72.774204,40.965568],[-72.587988,40.998429],[-72.28128,41.157261],[-72.259372,41.042245],[-72.100541,40.992952],[-72.467496,40.845075],[-73.239744,40.625997],[-73.562884,40.582182],[-73.776484,40.593136],[-73.935316,40.543843],[-74.022947,40.708151],[-73.902454,40.998429],[-74.236547,41.14083],[-74.69661,41.359907],[-74.740426,41.431108],[-74.89378,41.436584],[-75.074519,41.60637],[-75.052611,41.754247],[-75.173104,41.869263],[-75.249781,41.863786],[-75.35932,42.000709],[-79.76278,42.000709],[-79.76278,42.252649],[-79.76278,42.269079],[-79.149363,42.55388],[-79.050778,42.690804],[-78.853608,42.783912],[-78.930285,42.953697],[-79.012439,42.986559],[-79.072686,43.260406],[-78.486653,43.375421],[-77.966344,43.369944],[-77.75822,43.34256],[-77.533665,43.233021],[-77.391265,43.276836],[-76.958587,43.271359],[-76.695693,43.34256],[-76.41637,43.523299],[-76.235631,43.528776],[-76.230154,43.802623],[-76.137046,43.961454],[-76.3616,44.070993],[-76.312308,44.196962],[-75.912491,44.366748],[-75.764614,44.514625],[-75.282643,44.848718],[-74.828057,45.018503],[-74.148916,44.991119],[-73.343806,45.013027]]]},\"bbox\":[-79.76278,40.543843,-72.100541,45.018503]},{\"id\":\"North Carolina\",\"type\":\"Feature\",\"properties\":{},\"geometry\":{\"type\":\"Polygon\",\"coordinates\":[[[-80.978661,36.562108],[-80.294043,36.545677],[-79.510841,36.5402],[-75.868676,36.551154],[-75.75366,36.151337],[-76.032984,36.189676],[-76.071322,36.140383],[-76.410893,36.080137],[-76.460185,36.025367],[-76.68474,36.008937],[-76.673786,35.937736],[-76.399939,35.987029],[-76.3616,35.943213],[-76.060368,35.992506],[-75.961783,35.899398],[-75.781044,35.937736],[-75.715321,35.696751],[-75.775568,35.581735],[-75.89606,35.570781],[-76.147999,35.324319],[-76.482093,35.313365],[-76.536862,35.14358],[-76.394462,34.973795],[-76.279446,34.940933],[-76.493047,34.661609],[-76.673786,34.694471],[-76.991448,34.667086],[-77.210526,34.60684],[-77.555573,34.415147],[-77.82942,34.163208],[-77.971821,33.845545],[-78.179944,33.916745],[-78.541422,33.851022],[-79.675149,34.80401],[-80.797922,34.820441],[-80.781491,34.935456],[-80.934845,35.105241],[-81.038907,35.044995],[-81.044384,35.149057],[-82.276696,35.198349],[-82.550543,35.160011],[-82.764143,35.066903],[-83.109191,35.00118],[-83.618546,34.984749],[-84.319594,34.990226],[-84.29221,35.225734],[-84.09504,35.247642],[-84.018363,35.41195],[-83.7719,35.559827],[-83.498053,35.565304],[-83.251591,35.718659],[-82.994175,35.773428],[-82.775097,35.997983],[-82.638174,36.063706],[-82.610789,35.965121],[-82.216449,36.156814],[-82.03571,36.118475],[-81.909741,36.304691],[-81.723525,36.353984],[-81.679709,36.589492],[-80.978661,36.562108]]]},\"bbox\":[-84.319594,33.845545,-75.715321,36.589492]},{\"id\":\"North Dakota\",\"type\":\"Feature\",\"properties\":{},\"geometry\":{\"type\":\"Polygon\",\"coordinates\":[[[-97.228743,49.000239],[-97.097296,48.682577],[-97.16302,48.545653],[-97.130158,48.140359],[-97.053481,47.948667],[-96.856311,47.609096],[-96.823449,46.968294],[-96.785111,46.924479],[-96.801542,46.656109],[-96.719387,46.437031],[-96.598895,46.332969],[-96.560556,45.933153],[-104.047534,45.944106],[-104.042057,47.861036],[-104.047534,49.000239],[-97.228743,49.000239]]]},\"bbox\":[-104.047534,45.933153,-96.560556,49.000239]},{\"id\":\"Ohio\",\"type\":\"Feature\",\"properties\":{},\"geometry\":{\"type\":\"Polygon\",\"coordinates\":[[[-80.518598,41.978802],[-80.518598,40.636951],[-80.666475,40.582182],[-80.595275,40.472643],[-80.600752,40.319289],[-80.737675,40.078303],[-80.830783,39.711348],[-81.219646,39.388209],[-81.345616,39.344393],[-81.455155,39.410117],[-81.57017,39.267716],[-81.685186,39.273193],[-81.811156,39.0815],[-81.783771,38.966484],[-81.887833,38.873376],[-82.03571,39.026731],[-82.221926,38.785745],[-82.172634,38.632391],[-82.293127,38.577622],[-82.331465,38.446175],[-82.594358,38.424267],[-82.731282,38.561191],[-82.846298,38.588575],[-82.890113,38.758361],[-83.032514,38.725499],[-83.142052,38.626914],[-83.519961,38.703591],[-83.678792,38.632391],[-83.903347,38.769315],[-84.215533,38.807653],[-84.231963,38.895284],[-84.43461,39.103408],[-84.817996,39.103408],[-84.801565,40.500028],[-84.807042,41.694001],[-83.454238,41.732339],[-83.065375,41.595416],[-82.933929,41.513262],[-82.835344,41.589939],[-82.616266,41.431108],[-82.479343,41.381815],[-82.013803,41.513262],[-81.739956,41.485877],[-81.444201,41.672093],[-81.011523,41.852832],[-80.518598,41.978802],[-80.518598,41.978802]]]},\"bbox\":[-84.817996,38.424267,-80.518598,41.978802]},{\"id\":\"Oklahoma\",\"type\":\"Feature\",\"properties\":{},\"geometry\":{\"type\":\"Polygon\",\"coordinates\":[[[-100.087706,37.000263],[-94.616242,37.000263],[-94.616242,36.501861],[-94.430026,35.395519],[-94.484796,33.637421],[-94.868182,33.74696],[-94.966767,33.861976],[-95.224183,33.960561],[-95.289906,33.87293],[-95.547322,33.878407],[-95.602092,33.933176],[-95.8376,33.834591],[-95.936185,33.889361],[-96.149786,33.840068],[-96.346956,33.686714],[-96.423633,33.774345],[-96.631756,33.845545],[-96.850834,33.845545],[-96.922034,33.960561],[-97.173974,33.736006],[-97.256128,33.861976],[-97.371143,33.823637],[-97.458774,33.905791],[-97.694283,33.982469],[-97.869545,33.851022],[-97.946222,33.987946],[-98.088623,34.004376],[-98.170777,34.113915],[-98.36247,34.157731],[-98.488439,34.064623],[-98.570593,34.146777],[-98.767763,34.135823],[-98.986841,34.223454],[-99.189488,34.2125],[-99.260688,34.404193],[-99.57835,34.415147],[-99.698843,34.382285],[-99.923398,34.573978],[-100.000075,34.563024],[-100.000075,36.501861],[-101.812942,36.501861],[-103.001438,36.501861],[-103.001438,37.000263],[-102.042974,36.994786],[-100.087706,37.000263]]]},\"bbox\":[-103.001438,33.637421,-94.430026,37.000263]},{\"id\":\"Oregon\",\"type\":\"Feature\",\"properties\":{},\"geometry\":{\"type\":\"Polygon\",\"coordinates\":[[[-123.211348,46.174138],[-123.11824,46.185092],[-122.904639,46.08103],[-122.811531,45.960537],[-122.762239,45.659305],[-122.247407,45.549767],[-121.809251,45.708598],[-121.535404,45.725029],[-121.217742,45.670259],[-121.18488,45.604536],[-120.637186,45.746937],[-120.505739,45.697644],[-120.209985,45.725029],[-119.963522,45.823614],[-119.525367,45.911245],[-119.125551,45.933153],[-118.988627,45.998876],[-116.918344,45.993399],[-116.78142,45.823614],[-116.545912,45.752413],[-116.463758,45.61549],[-116.671881,45.319735],[-116.732128,45.144473],[-116.847143,45.02398],[-116.830713,44.930872],[-116.934774,44.782995],[-117.038836,44.750133],[-117.241483,44.394132],[-117.170283,44.257209],[-116.97859,44.240778],[-116.896436,44.158624],[-117.027882,43.830007],[-117.027882,42.000709],[-118.698349,41.989755],[-120.001861,41.995232],[-121.037003,41.995232],[-122.378853,42.011663],[-123.233256,42.006186],[-124.213628,42.000709],[-124.356029,42.115725],[-124.432706,42.438865],[-124.416275,42.663419],[-124.553198,42.838681],[-124.454613,43.002989],[-124.383413,43.271359],[-124.235536,43.55616],[-124.169813,43.8081],[-124.060274,44.657025],[-124.076705,44.772041],[-123.97812,45.144473],[-123.939781,45.659305],[-123.994551,45.944106],[-123.945258,46.113892],[-123.545441,46.261769],[-123.370179,46.146753],[-123.211348,46.174138]]]},\"bbox\":[-124.553198,41.989755,-116.463758,46.261769]},{\"id\":\"Pennsylvania\",\"type\":\"Feature\",\"properties\":{},\"geometry\":{\"type\":\"Polygon\",\"coordinates\":[[[-79.76278,42.252649],[-79.76278,42.000709],[-75.35932,42.000709],[-75.249781,41.863786],[-75.173104,41.869263],[-75.052611,41.754247],[-75.074519,41.60637],[-74.89378,41.436584],[-74.740426,41.431108],[-74.69661,41.359907],[-74.828057,41.288707],[-74.882826,41.179168],[-75.134765,40.971045],[-75.052611,40.866983],[-75.205966,40.691721],[-75.195012,40.576705],[-75.069042,40.543843],[-75.058088,40.417874],[-74.773287,40.215227],[-74.82258,40.127596],[-75.129289,39.963288],[-75.145719,39.88661],[-75.414089,39.804456],[-75.616736,39.831841],[-75.786521,39.722302],[-79.477979,39.722302],[-80.518598,39.722302],[-80.518598,40.636951],[-80.518598,41.978802],[-80.518598,41.978802],[-80.332382,42.033571],[-79.76278,42.269079],[-79.76278,42.252649]]]},\"bbox\":[-80.518598,39.722302,-74.69661,42.269079]},{\"id\":\"Rhode Island\",\"type\":\"Feature\",\"properties\":{},\"geometry\":{\"type\":\"MultiPolygon\",\"coordinates\":[[[[-71.196845,41.67757],[-71.120168,41.496831],[-71.317338,41.474923],[-71.196845,41.67757]]],[[[-71.530939,42.01714],[-71.383061,42.01714],[-71.328292,41.781632],[-71.22423,41.710431],[-71.344723,41.726862],[-71.448785,41.578985],[-71.481646,41.370861],[-71.859555,41.321569],[-71.799309,41.414677],[-71.799309,42.006186],[-71.530939,42.01714]]]]},\"bbox\":[-71.859555,41.321569,-71.120168,42.01714]},{\"id\":\"South Carolina\",\"type\":\"Feature\",\"properties\":{},\"geometry\":{\"type\":\"Polygon\",\"coordinates\":[[[-82.764143,35.066903],[-82.550543,35.160011],[-82.276696,35.198349],[-81.044384,35.149057],[-81.038907,35.044995],[-80.934845,35.105241],[-80.781491,34.935456],[-80.797922,34.820441],[-79.675149,34.80401],[-78.541422,33.851022],[-78.716684,33.80173],[-78.935762,33.637421],[-79.149363,33.380005],[-79.187701,33.171881],[-79.357487,33.007573],[-79.582041,33.007573],[-79.631334,32.887081],[-79.866842,32.755634],[-79.998289,32.613234],[-80.206412,32.552987],[-80.430967,32.399633],[-80.452875,32.328433],[-80.660998,32.246279],[-80.885553,32.032678],[-81.115584,32.120309],[-81.121061,32.290094],[-81.279893,32.558464],[-81.416816,32.629664],[-81.42777,32.843265],[-81.493493,33.007573],[-81.761863,33.160928],[-81.937125,33.347144],[-81.926172,33.462159],[-82.194542,33.631944],[-82.325988,33.81816],[-82.55602,33.94413],[-82.714851,34.152254],[-82.747713,34.26727],[-82.901067,34.486347],[-83.005129,34.469916],[-83.339222,34.683517],[-83.322791,34.787579],[-83.109191,35.00118],[-82.764143,35.066903]]]},\"bbox\":[-83.339222,32.032678,-78.541422,35.198349]},{\"id\":\"South Dakota\",\"type\":\"Feature\",\"properties\":{},\"geometry\":{\"type\":\"Polygon\",\"coordinates\":[[[-104.047534,45.944106],[-96.560556,45.933153],[-96.582464,45.818137],[-96.856311,45.604536],[-96.681049,45.412843],[-96.451017,45.297827],[-96.451017,43.501391],[-96.582464,43.479483],[-96.527695,43.397329],[-96.560556,43.222067],[-96.434587,43.123482],[-96.511264,43.052282],[-96.544125,42.855112],[-96.631756,42.707235],[-96.44554,42.488157],[-96.626279,42.515542],[-96.692003,42.657942],[-97.217789,42.844158],[-97.688806,42.844158],[-97.831206,42.866066],[-97.951699,42.767481],[-98.466531,42.94822],[-98.499393,42.997512],[-101.626726,42.997512],[-103.324578,43.002989],[-104.053011,43.002989],[-104.058488,44.996596],[-104.042057,44.996596],[-104.047534,45.944106]]]},\"bbox\":[-104.058488,42.488157,-96.434587,45.944106]},{\"id\":\"Tennessee\",\"type\":\"Feature\",\"properties\":{},\"geometry\":{\"type\":\"Polygon\",\"coordinates\":[[[-88.054868,36.496384],[-88.071299,36.677123],[-87.852221,36.633308],[-86.592525,36.655216],[-85.486183,36.616877],[-85.289013,36.627831],[-84.544149,36.594969],[-83.689746,36.584015],[-83.673316,36.600446],[-81.679709,36.589492],[-81.723525,36.353984],[-81.909741,36.304691],[-82.03571,36.118475],[-82.216449,36.156814],[-82.610789,35.965121],[-82.638174,36.063706],[-82.775097,35.997983],[-82.994175,35.773428],[-83.251591,35.718659],[-83.498053,35.565304],[-83.7719,35.559827],[-84.018363,35.41195],[-84.09504,35.247642],[-84.29221,35.225734],[-84.319594,34.990226],[-85.606675,34.984749],[-87.359296,35.00118],[-88.202745,34.995703],[-88.471115,34.995703],[-90.311367,34.995703],[-90.212782,35.023087],[-90.114197,35.198349],[-90.130628,35.439335],[-89.944412,35.603643],[-89.911551,35.756997],[-89.763673,35.811767],[-89.730812,35.997983],[-89.533642,36.249922],[-89.539119,36.496384],[-89.484349,36.496384],[-89.418626,36.496384],[-89.298133,36.507338],[-88.054868,36.496384]]]},\"bbox\":[-90.311367,34.984749,-81.679709,36.677123]},{\"id\":\"Texas\",\"type\":\"Feature\",\"properties\":{},\"geometry\":{\"type\":\"Polygon\",\"coordinates\":[[[-101.812942,36.501861],[-100.000075,36.501861],[-100.000075,34.563024],[-99.923398,34.573978],[-99.698843,34.382285],[-99.57835,34.415147],[-99.260688,34.404193],[-99.189488,34.2125],[-98.986841,34.223454],[-98.767763,34.135823],[-98.570593,34.146777],[-98.488439,34.064623],[-98.36247,34.157731],[-98.170777,34.113915],[-98.088623,34.004376],[-97.946222,33.987946],[-97.869545,33.851022],[-97.694283,33.982469],[-97.458774,33.905791],[-97.371143,33.823637],[-97.256128,33.861976],[-97.173974,33.736006],[-96.922034,33.960561],[-96.850834,33.845545],[-96.631756,33.845545],[-96.423633,33.774345],[-96.346956,33.686714],[-96.149786,33.840068],[-95.936185,33.889361],[-95.8376,33.834591],[-95.602092,33.933176],[-95.547322,33.878407],[-95.289906,33.87293],[-95.224183,33.960561],[-94.966767,33.861976],[-94.868182,33.74696],[-94.484796,33.637421],[-94.380734,33.544313],[-94.183564,33.593606],[-94.041164,33.54979],[-94.041164,33.018527],[-94.041164,31.994339],[-93.822086,31.775262],[-93.816609,31.556184],[-93.542762,31.15089],[-93.526331,30.93729],[-93.630393,30.679874],[-93.728978,30.575812],[-93.696116,30.438888],[-93.767317,30.334826],[-93.690639,30.143133],[-93.926148,29.787132],[-93.838517,29.688547],[-94.002825,29.68307],[-94.523134,29.546147],[-94.70935,29.622824],[-94.742212,29.787132],[-94.873659,29.672117],[-94.966767,29.699501],[-95.016059,29.557101],[-94.911997,29.496854],[-94.895566,29.310638],[-95.081782,29.113469],[-95.383014,28.867006],[-95.985477,28.604113],[-96.045724,28.647929],[-96.226463,28.582205],[-96.23194,28.642452],[-96.478402,28.598636],[-96.593418,28.724606],[-96.664618,28.697221],[-96.401725,28.439805],[-96.593418,28.357651],[-96.774157,28.406943],[-96.801542,28.226204],[-97.026096,28.039988],[-97.256128,27.694941],[-97.404005,27.333463],[-97.513544,27.360848],[-97.540929,27.229401],[-97.425913,27.262263],[-97.480682,26.99937],[-97.557359,26.988416],[-97.562836,26.840538],[-97.469728,26.758384],[-97.442344,26.457153],[-97.332805,26.353091],[-97.30542,26.161398],[-97.217789,25.991613],[-97.524498,25.887551],[-97.650467,26.018997],[-97.885976,26.06829],[-98.198161,26.057336],[-98.466531,26.221644],[-98.669178,26.238075],[-98.822533,26.369522],[-99.030656,26.413337],[-99.173057,26.539307],[-99.266165,26.840538],[-99.446904,27.021277],[-99.424996,27.174632],[-99.50715,27.33894],[-99.479765,27.48134],[-99.605735,27.640172],[-99.709797,27.656603],[-99.879582,27.799003],[-99.934351,27.979742],[-100.082229,28.14405],[-100.29583,28.280974],[-100.399891,28.582205],[-100.498476,28.66436],[-100.629923,28.905345],[-100.673738,29.102515],[-100.799708,29.244915],[-101.013309,29.370885],[-101.062601,29.458516],[-101.259771,29.535193],[-101.413125,29.754271],[-101.851281,29.803563],[-102.114174,29.792609],[-102.338728,29.869286],[-102.388021,29.765225],[-102.629006,29.732363],[-102.809745,29.524239],[-102.919284,29.190146],[-102.97953,29.184669],[-103.116454,28.987499],[-103.280762,28.982022],[-103.527224,29.135376],[-104.146119,29.381839],[-104.266611,29.513285],[-104.507597,29.639255],[-104.677382,29.924056],[-104.688336,30.181472],[-104.858121,30.389596],[-104.896459,30.570335],[-105.005998,30.685351],[-105.394861,30.855136],[-105.602985,31.085167],[-105.77277,31.167321],[-105.953509,31.364491],[-106.205448,31.468553],[-106.38071,31.731446],[-106.528588,31.786216],[-106.643603,31.901231],[-106.616219,31.999816],[-103.067161,31.999816],[-103.067161,33.002096],[-103.045254,34.01533],[-103.039777,36.501861],[-103.001438,36.501861],[-101.812942,36.501861]]]},\"bbox\":[-106.643603,25.887551,-93.526331,36.501861]},{\"id\":\"Utah\",\"type\":\"Feature\",\"properties\":{},\"geometry\":{\"type\":\"Polygon\",\"coordinates\":[[[-112.164359,41.995232],[-111.047063,42.000709],[-111.047063,40.998429],[-109.04798,40.998429],[-109.053457,39.125316],[-109.058934,38.27639],[-109.042503,38.166851],[-109.042503,37.000263],[-110.499369,37.00574],[-114.048427,37.000263],[-114.04295,41.995232],[-112.164359,41.995232]]]},\"bbox\":[-114.048427,37.000263,-109.042503,42.000709]},{\"id\":\"Vermont\",\"type\":\"Feature\",\"properties\":{},\"geometry\":{\"type\":\"Polygon\",\"coordinates\":[[[-71.503554,45.013027],[-71.4926,44.914442],[-71.629524,44.750133],[-71.536416,44.585825],[-71.700724,44.41604],[-72.034817,44.322932],[-72.02934,44.07647],[-72.116971,43.994316],[-72.204602,43.769761],[-72.379864,43.572591],[-72.456542,43.150867],[-72.445588,43.008466],[-72.533219,42.953697],[-72.544173,42.80582],[-72.456542,42.729142],[-73.267129,42.745573],[-73.278083,42.833204],[-73.245221,43.523299],[-73.404052,43.687607],[-73.349283,43.769761],[-73.436914,44.043608],[-73.321898,44.246255],[-73.294514,44.437948],[-73.387622,44.618687],[-73.332852,44.804903],[-73.343806,45.013027],[-72.308664,45.002073],[-71.503554,45.013027]]]},\"bbox\":[-73.436914,42.729142,-71.4926,45.013027]},{\"id\":\"Virginia\",\"type\":\"Feature\",\"properties\":{},\"geometry\":{\"type\":\"MultiPolygon\",\"coordinates\":[[[[-75.397659,38.013497],[-75.244304,38.029928],[-75.375751,37.860142],[-75.512674,37.799896],[-75.594828,37.569865],[-75.802952,37.197433],[-75.972737,37.120755],[-76.027507,37.257679],[-75.939876,37.564388],[-75.671506,37.95325],[-75.397659,38.013497]]],[[[-76.016553,37.95325],[-75.994645,37.95325],[-76.043938,37.95325],[-76.016553,37.95325]]],[[[-78.349729,39.464886],[-77.82942,39.130793],[-77.719881,39.322485],[-77.566527,39.306055],[-77.456988,39.223901],[-77.456988,39.076023],[-77.248864,39.026731],[-77.117418,38.933623],[-77.040741,38.791222],[-77.128372,38.632391],[-77.248864,38.588575],[-77.325542,38.446175],[-77.281726,38.342113],[-77.013356,38.374975],[-76.964064,38.216144],[-76.613539,38.15042],[-76.514954,38.024451],[-76.235631,37.887527],[-76.3616,37.608203],[-76.246584,37.389126],[-76.383508,37.285064],[-76.399939,37.159094],[-76.273969,37.082417],[-76.410893,36.961924],[-76.619016,37.120755],[-76.668309,37.065986],[-76.48757,36.95097],[-75.994645,36.923586],[-75.868676,36.551154],[-79.510841,36.5402],[-80.294043,36.545677],[-80.978661,36.562108],[-81.679709,36.589492],[-83.673316,36.600446],[-83.136575,36.742847],[-83.070852,36.852385],[-82.879159,36.890724],[-82.868205,36.978355],[-82.720328,37.044078],[-82.720328,37.120755],[-82.353373,37.268633],[-81.969987,37.537003],[-81.986418,37.454849],[-81.849494,37.285064],[-81.679709,37.20291],[-81.55374,37.208387],[-81.362047,37.339833],[-81.225123,37.235771],[-80.967707,37.290541],[-80.513121,37.482234],[-80.474782,37.421987],[-80.29952,37.509618],[-80.294043,37.690357],[-80.184505,37.849189],[-79.998289,37.997066],[-79.921611,38.177805],[-79.724442,38.364021],[-79.647764,38.594052],[-79.477979,38.457129],[-79.313671,38.413313],[-79.209609,38.495467],[-78.996008,38.851469],[-78.870039,38.763838],[-78.404499,39.169131],[-78.349729,39.464886]]]]},\"bbox\":[-83.673316,36.5402,-75.244304,39.464886]},{\"id\":\"Washington\",\"type\":\"Feature\",\"properties\":{},\"geometry\":{\"type\":\"MultiPolygon\",\"coordinates\":[[[[-117.033359,49.000239],[-117.044313,47.762451],[-117.038836,46.426077],[-117.055267,46.343923],[-116.92382,46.168661],[-116.918344,45.993399],[-118.988627,45.998876],[-119.125551,45.933153],[-119.525367,45.911245],[-119.963522,45.823614],[-120.209985,45.725029],[-120.505739,45.697644],[-120.637186,45.746937],[-121.18488,45.604536],[-121.217742,45.670259],[-121.535404,45.725029],[-121.809251,45.708598],[-122.247407,45.549767],[-122.762239,45.659305],[-122.811531,45.960537],[-122.904639,46.08103],[-123.11824,46.185092],[-123.211348,46.174138],[-123.370179,46.146753],[-123.545441,46.261769],[-123.72618,46.300108],[-123.874058,46.239861],[-124.065751,46.327492],[-124.027412,46.464416],[-123.895966,46.535616],[-124.098612,46.74374],[-124.235536,47.285957],[-124.31769,47.357157],[-124.427229,47.740543],[-124.624399,47.88842],[-124.706553,48.184175],[-124.597014,48.381345],[-124.394367,48.288237],[-123.983597,48.162267],[-123.704273,48.167744],[-123.424949,48.118452],[-123.162056,48.167744],[-123.036086,48.080113],[-122.800578,48.08559],[-122.636269,47.866512],[-122.515777,47.882943],[-122.493869,47.587189],[-122.422669,47.318818],[-122.324084,47.346203],[-122.422669,47.576235],[-122.395284,47.800789],[-122.230976,48.030821],[-122.362422,48.123929],[-122.373376,48.288237],[-122.471961,48.468976],[-122.422669,48.600422],[-122.488392,48.753777],[-122.647223,48.775685],[-122.795101,48.8907],[-122.756762,49.000239],[-117.033359,49.000239]]],[[[-122.718423,48.310145],[-122.586977,48.35396],[-122.608885,48.151313],[-122.767716,48.227991],[-122.718423,48.310145]]],[[[-123.025132,48.583992],[-122.915593,48.715438],[-122.767716,48.556607],[-122.811531,48.419683],[-123.041563,48.458022],[-123.025132,48.583992]]]]},\"bbox\":[-124.706553,45.549767,-116.918344,49.000239]},{\"id\":\"West Virginia\",\"type\":\"Feature\",\"properties\":{},\"geometry\":{\"type\":\"Polygon\",\"coordinates\":[[[-80.518598,40.636951],[-80.518598,39.722302],[-79.477979,39.722302],[-79.488933,39.20747],[-79.291763,39.300578],[-79.094593,39.470363],[-78.963147,39.437501],[-78.765977,39.585379],[-78.470222,39.514178],[-78.431884,39.623717],[-78.267575,39.61824],[-78.174467,39.694917],[-78.004682,39.601809],[-77.834897,39.601809],[-77.719881,39.322485],[-77.82942,39.130793],[-78.349729,39.464886],[-78.404499,39.169131],[-78.870039,38.763838],[-78.996008,38.851469],[-79.209609,38.495467],[-79.313671,38.413313],[-79.477979,38.457129],[-79.647764,38.594052],[-79.724442,38.364021],[-79.921611,38.177805],[-79.998289,37.997066],[-80.184505,37.849189],[-80.294043,37.690357],[-80.29952,37.509618],[-80.474782,37.421987],[-80.513121,37.482234],[-80.967707,37.290541],[-81.225123,37.235771],[-81.362047,37.339833],[-81.55374,37.208387],[-81.679709,37.20291],[-81.849494,37.285064],[-81.986418,37.454849],[-81.969987,37.537003],[-82.101434,37.553434],[-82.293127,37.668449],[-82.342419,37.783465],[-82.50125,37.931343],[-82.621743,38.123036],[-82.594358,38.424267],[-82.331465,38.446175],[-82.293127,38.577622],[-82.172634,38.632391],[-82.221926,38.785745],[-82.03571,39.026731],[-81.887833,38.873376],[-81.783771,38.966484],[-81.811156,39.0815],[-81.685186,39.273193],[-81.57017,39.267716],[-81.455155,39.410117],[-81.345616,39.344393],[-81.219646,39.388209],[-80.830783,39.711348],[-80.737675,40.078303],[-80.600752,40.319289],[-80.595275,40.472643],[-80.666475,40.582182],[-80.518598,40.636951]]]},\"bbox\":[-82.621743,37.20291,-77.719881,40.636951]},{\"id\":\"Wisconsin\",\"type\":\"Feature\",\"properties\":{},\"geometry\":{\"type\":\"Polygon\",\"coordinates\":[[[-90.415429,46.568478],[-90.229213,46.508231],[-90.119674,46.338446],[-89.09001,46.135799],[-88.662808,45.987922],[-88.531362,46.020784],[-88.10416,45.922199],[-87.989145,45.796229],[-87.781021,45.675736],[-87.791975,45.500474],[-87.885083,45.363551],[-87.649574,45.341643],[-87.742682,45.199243],[-87.589328,45.095181],[-87.627666,44.974688],[-87.819359,44.95278],[-87.983668,44.722749],[-88.043914,44.563917],[-87.928898,44.536533],[-87.775544,44.640595],[-87.611236,44.837764],[-87.403112,44.914442],[-87.238804,45.166381],[-87.03068,45.22115],[-87.047111,45.089704],[-87.189511,44.969211],[-87.468835,44.552964],[-87.545512,44.322932],[-87.540035,44.158624],[-87.644097,44.103854],[-87.737205,43.8793],[-87.704344,43.687607],[-87.791975,43.561637],[-87.912467,43.249452],[-87.885083,43.002989],[-87.76459,42.783912],[-87.802929,42.493634],[-88.788778,42.493634],[-90.639984,42.510065],[-90.711184,42.636034],[-91.067185,42.75105],[-91.143862,42.909881],[-91.176724,43.134436],[-91.056231,43.254929],[-91.204109,43.353514],[-91.215062,43.501391],[-91.269832,43.616407],[-91.242447,43.775238],[-91.43414,43.994316],[-91.592971,44.032654],[-91.877772,44.202439],[-91.927065,44.333886],[-92.233773,44.443425],[-92.337835,44.552964],[-92.545959,44.569394],[-92.808852,44.750133],[-92.737652,45.117088],[-92.75956,45.286874],[-92.644544,45.440228],[-92.770513,45.566198],[-92.885529,45.577151],[-92.869098,45.719552],[-92.639067,45.933153],[-92.354266,46.015307],[-92.29402,46.075553],[-92.29402,46.667063],[-92.091373,46.749217],[-92.014696,46.705401],[-91.790141,46.694447],[-91.09457,46.864232],[-90.837154,46.95734],[-90.749522,46.88614],[-90.886446,46.754694],[-90.55783,46.584908],[-90.415429,46.568478]]]},\"bbox\":[-92.885529,42.493634,-87.03068,46.95734]},{\"id\":\"Wyoming\",\"type\":\"Feature\",\"properties\":{},\"geometry\":{\"type\":\"Polygon\",\"coordinates\":[[[-109.080842,45.002073],[-105.91517,45.002073],[-104.058488,44.996596],[-104.053011,43.002989],[-104.053011,41.003906],[-105.728954,40.998429],[-107.919731,41.003906],[-109.04798,40.998429],[-111.047063,40.998429],[-111.047063,42.000709],[-111.047063,44.476286],[-111.05254,45.002073],[-109.080842,45.002073]]]},\"bbox\":[-111.05254,40.998429,-104.053011,45.002073]}],\"bbox\":[-188.90491,18.948267,-66.979601,71.351633]},\"hovertemplate\":\"State=%{location}\\u003cbr\\u003eSales Value (USD)=%{z}\\u003cextra\\u003e\\u003c\\u002fextra\\u003e\",\"locations\":[\"Alabama\",\"Alaska\",\"Arizona\",\"Arkansas\",\"California\",\"Colorado\",\"Connecticut\",\"Delaware\",\"Florida\",\"Georgia\",\"Hawaii\",\"Idaho\",\"Illinois\",\"Indiana\",\"Iowa\",\"Kansas\",\"Kentucky\",\"Louisiana\",\"Maine\",\"Maryland\",\"Massachusetts\",\"Michigan\",\"Minnesota\",\"Mississippi\",\"Missouri\",\"Montana\",\"Nebraska\",\"Nevada\",\"New Hampshire\",\"New Jersey\",\"New Mexico\",\"New York\",\"North Carolina\",\"North Dakota\",\"Ohio\",\"Oklahoma\",\"Oregon\",\"Pennsylvania\",\"Rhode Island\",\"South Carolina\",\"South Dakota\",\"Tennessee\",\"Texas\",\"Utah\",\"Vermont\",\"Virginia\",\"Washington\",\"West Virginia\",\"Wisconsin\",\"Wyoming\"],\"marker\":{\"opacity\":0.5},\"name\":\"\",\"subplot\":\"mapbox\",\"z\":[17633424.0,14753103.000000002,15782221.000000002,12639347.000000002,60174133.0,20996536.0,11573448.0,12298412.0,59283714.00000001,18997466.0,22282457.0,19276878.0,9797488.0,8836198.0,7424011.0,9972864.0,10072848.0,23750781.000000004,9195978.0,7758059.0,11076810.0,18625433.0,7378068.0,15591709.000000002,9683265.0,15710886.0,5929038.0,20858509.0,16411667.000000002,9934246.0,19865016.000000004,64229039.0,23956531.0,7735580.0,18484583.0,10620734.0,21349674.0,10357519.0,8446806.0,29285637.000000004,8495576.0,18067440.0,46359746.0,9696420.000000002,14352923.0,21575040.0,26330718.000000004,10689160.0,7727469.0,18577517.0],\"type\":\"choroplethmapbox\"}],                        {\"template\":{\"data\":{\"histogram2dcontour\":[{\"type\":\"histogram2dcontour\",\"colorbar\":{\"outlinewidth\":0,\"ticks\":\"\"},\"colorscale\":[[0.0,\"#0d0887\"],[0.1111111111111111,\"#46039f\"],[0.2222222222222222,\"#7201a8\"],[0.3333333333333333,\"#9c179e\"],[0.4444444444444444,\"#bd3786\"],[0.5555555555555556,\"#d8576b\"],[0.6666666666666666,\"#ed7953\"],[0.7777777777777778,\"#fb9f3a\"],[0.8888888888888888,\"#fdca26\"],[1.0,\"#f0f921\"]]}],\"choropleth\":[{\"type\":\"choropleth\",\"colorbar\":{\"outlinewidth\":0,\"ticks\":\"\"}}],\"histogram2d\":[{\"type\":\"histogram2d\",\"colorbar\":{\"outlinewidth\":0,\"ticks\":\"\"},\"colorscale\":[[0.0,\"#0d0887\"],[0.1111111111111111,\"#46039f\"],[0.2222222222222222,\"#7201a8\"],[0.3333333333333333,\"#9c179e\"],[0.4444444444444444,\"#bd3786\"],[0.5555555555555556,\"#d8576b\"],[0.6666666666666666,\"#ed7953\"],[0.7777777777777778,\"#fb9f3a\"],[0.8888888888888888,\"#fdca26\"],[1.0,\"#f0f921\"]]}],\"heatmap\":[{\"type\":\"heatmap\",\"colorbar\":{\"outlinewidth\":0,\"ticks\":\"\"},\"colorscale\":[[0.0,\"#0d0887\"],[0.1111111111111111,\"#46039f\"],[0.2222222222222222,\"#7201a8\"],[0.3333333333333333,\"#9c179e\"],[0.4444444444444444,\"#bd3786\"],[0.5555555555555556,\"#d8576b\"],[0.6666666666666666,\"#ed7953\"],[0.7777777777777778,\"#fb9f3a\"],[0.8888888888888888,\"#fdca26\"],[1.0,\"#f0f921\"]]}],\"heatmapgl\":[{\"type\":\"heatmapgl\",\"colorbar\":{\"outlinewidth\":0,\"ticks\":\"\"},\"colorscale\":[[0.0,\"#0d0887\"],[0.1111111111111111,\"#46039f\"],[0.2222222222222222,\"#7201a8\"],[0.3333333333333333,\"#9c179e\"],[0.4444444444444444,\"#bd3786\"],[0.5555555555555556,\"#d8576b\"],[0.6666666666666666,\"#ed7953\"],[0.7777777777777778,\"#fb9f3a\"],[0.8888888888888888,\"#fdca26\"],[1.0,\"#f0f921\"]]}],\"contourcarpet\":[{\"type\":\"contourcarpet\",\"colorbar\":{\"outlinewidth\":0,\"ticks\":\"\"}}],\"contour\":[{\"type\":\"contour\",\"colorbar\":{\"outlinewidth\":0,\"ticks\":\"\"},\"colorscale\":[[0.0,\"#0d0887\"],[0.1111111111111111,\"#46039f\"],[0.2222222222222222,\"#7201a8\"],[0.3333333333333333,\"#9c179e\"],[0.4444444444444444,\"#bd3786\"],[0.5555555555555556,\"#d8576b\"],[0.6666666666666666,\"#ed7953\"],[0.7777777777777778,\"#fb9f3a\"],[0.8888888888888888,\"#fdca26\"],[1.0,\"#f0f921\"]]}],\"surface\":[{\"type\":\"surface\",\"colorbar\":{\"outlinewidth\":0,\"ticks\":\"\"},\"colorscale\":[[0.0,\"#0d0887\"],[0.1111111111111111,\"#46039f\"],[0.2222222222222222,\"#7201a8\"],[0.3333333333333333,\"#9c179e\"],[0.4444444444444444,\"#bd3786\"],[0.5555555555555556,\"#d8576b\"],[0.6666666666666666,\"#ed7953\"],[0.7777777777777778,\"#fb9f3a\"],[0.8888888888888888,\"#fdca26\"],[1.0,\"#f0f921\"]]}],\"mesh3d\":[{\"type\":\"mesh3d\",\"colorbar\":{\"outlinewidth\":0,\"ticks\":\"\"}}],\"scatter\":[{\"fillpattern\":{\"fillmode\":\"overlay\",\"size\":10,\"solidity\":0.2},\"type\":\"scatter\"}],\"parcoords\":[{\"type\":\"parcoords\",\"line\":{\"colorbar\":{\"outlinewidth\":0,\"ticks\":\"\"}}}],\"scatterpolargl\":[{\"type\":\"scatterpolargl\",\"marker\":{\"colorbar\":{\"outlinewidth\":0,\"ticks\":\"\"}}}],\"bar\":[{\"error_x\":{\"color\":\"#2a3f5f\"},\"error_y\":{\"color\":\"#2a3f5f\"},\"marker\":{\"line\":{\"color\":\"#E5ECF6\",\"width\":0.5},\"pattern\":{\"fillmode\":\"overlay\",\"size\":10,\"solidity\":0.2}},\"type\":\"bar\"}],\"scattergeo\":[{\"type\":\"scattergeo\",\"marker\":{\"colorbar\":{\"outlinewidth\":0,\"ticks\":\"\"}}}],\"scatterpolar\":[{\"type\":\"scatterpolar\",\"marker\":{\"colorbar\":{\"outlinewidth\":0,\"ticks\":\"\"}}}],\"histogram\":[{\"marker\":{\"pattern\":{\"fillmode\":\"overlay\",\"size\":10,\"solidity\":0.2}},\"type\":\"histogram\"}],\"scattergl\":[{\"type\":\"scattergl\",\"marker\":{\"colorbar\":{\"outlinewidth\":0,\"ticks\":\"\"}}}],\"scatter3d\":[{\"type\":\"scatter3d\",\"line\":{\"colorbar\":{\"outlinewidth\":0,\"ticks\":\"\"}},\"marker\":{\"colorbar\":{\"outlinewidth\":0,\"ticks\":\"\"}}}],\"scattermapbox\":[{\"type\":\"scattermapbox\",\"marker\":{\"colorbar\":{\"outlinewidth\":0,\"ticks\":\"\"}}}],\"scatterternary\":[{\"type\":\"scatterternary\",\"marker\":{\"colorbar\":{\"outlinewidth\":0,\"ticks\":\"\"}}}],\"scattercarpet\":[{\"type\":\"scattercarpet\",\"marker\":{\"colorbar\":{\"outlinewidth\":0,\"ticks\":\"\"}}}],\"carpet\":[{\"aaxis\":{\"endlinecolor\":\"#2a3f5f\",\"gridcolor\":\"white\",\"linecolor\":\"white\",\"minorgridcolor\":\"white\",\"startlinecolor\":\"#2a3f5f\"},\"baxis\":{\"endlinecolor\":\"#2a3f5f\",\"gridcolor\":\"white\",\"linecolor\":\"white\",\"minorgridcolor\":\"white\",\"startlinecolor\":\"#2a3f5f\"},\"type\":\"carpet\"}],\"table\":[{\"cells\":{\"fill\":{\"color\":\"#EBF0F8\"},\"line\":{\"color\":\"white\"}},\"header\":{\"fill\":{\"color\":\"#C8D4E3\"},\"line\":{\"color\":\"white\"}},\"type\":\"table\"}],\"barpolar\":[{\"marker\":{\"line\":{\"color\":\"#E5ECF6\",\"width\":0.5},\"pattern\":{\"fillmode\":\"overlay\",\"size\":10,\"solidity\":0.2}},\"type\":\"barpolar\"}],\"pie\":[{\"automargin\":true,\"type\":\"pie\"}]},\"layout\":{\"autotypenumbers\":\"strict\",\"colorway\":[\"#636efa\",\"#EF553B\",\"#00cc96\",\"#ab63fa\",\"#FFA15A\",\"#19d3f3\",\"#FF6692\",\"#B6E880\",\"#FF97FF\",\"#FECB52\"],\"font\":{\"color\":\"#2a3f5f\"},\"hovermode\":\"closest\",\"hoverlabel\":{\"align\":\"left\"},\"paper_bgcolor\":\"white\",\"plot_bgcolor\":\"#E5ECF6\",\"polar\":{\"bgcolor\":\"#E5ECF6\",\"angularaxis\":{\"gridcolor\":\"white\",\"linecolor\":\"white\",\"ticks\":\"\"},\"radialaxis\":{\"gridcolor\":\"white\",\"linecolor\":\"white\",\"ticks\":\"\"}},\"ternary\":{\"bgcolor\":\"#E5ECF6\",\"aaxis\":{\"gridcolor\":\"white\",\"linecolor\":\"white\",\"ticks\":\"\"},\"baxis\":{\"gridcolor\":\"white\",\"linecolor\":\"white\",\"ticks\":\"\"},\"caxis\":{\"gridcolor\":\"white\",\"linecolor\":\"white\",\"ticks\":\"\"}},\"coloraxis\":{\"colorbar\":{\"outlinewidth\":0,\"ticks\":\"\"}},\"colorscale\":{\"sequential\":[[0.0,\"#0d0887\"],[0.1111111111111111,\"#46039f\"],[0.2222222222222222,\"#7201a8\"],[0.3333333333333333,\"#9c179e\"],[0.4444444444444444,\"#bd3786\"],[0.5555555555555556,\"#d8576b\"],[0.6666666666666666,\"#ed7953\"],[0.7777777777777778,\"#fb9f3a\"],[0.8888888888888888,\"#fdca26\"],[1.0,\"#f0f921\"]],\"sequentialminus\":[[0.0,\"#0d0887\"],[0.1111111111111111,\"#46039f\"],[0.2222222222222222,\"#7201a8\"],[0.3333333333333333,\"#9c179e\"],[0.4444444444444444,\"#bd3786\"],[0.5555555555555556,\"#d8576b\"],[0.6666666666666666,\"#ed7953\"],[0.7777777777777778,\"#fb9f3a\"],[0.8888888888888888,\"#fdca26\"],[1.0,\"#f0f921\"]],\"diverging\":[[0,\"#8e0152\"],[0.1,\"#c51b7d\"],[0.2,\"#de77ae\"],[0.3,\"#f1b6da\"],[0.4,\"#fde0ef\"],[0.5,\"#f7f7f7\"],[0.6,\"#e6f5d0\"],[0.7,\"#b8e186\"],[0.8,\"#7fbc41\"],[0.9,\"#4d9221\"],[1,\"#276419\"]]},\"xaxis\":{\"gridcolor\":\"white\",\"linecolor\":\"white\",\"ticks\":\"\",\"title\":{\"standoff\":15},\"zerolinecolor\":\"white\",\"automargin\":true,\"zerolinewidth\":2},\"yaxis\":{\"gridcolor\":\"white\",\"linecolor\":\"white\",\"ticks\":\"\",\"title\":{\"standoff\":15},\"zerolinecolor\":\"white\",\"automargin\":true,\"zerolinewidth\":2},\"scene\":{\"xaxis\":{\"backgroundcolor\":\"#E5ECF6\",\"gridcolor\":\"white\",\"linecolor\":\"white\",\"showbackground\":true,\"ticks\":\"\",\"zerolinecolor\":\"white\",\"gridwidth\":2},\"yaxis\":{\"backgroundcolor\":\"#E5ECF6\",\"gridcolor\":\"white\",\"linecolor\":\"white\",\"showbackground\":true,\"ticks\":\"\",\"zerolinecolor\":\"white\",\"gridwidth\":2},\"zaxis\":{\"backgroundcolor\":\"#E5ECF6\",\"gridcolor\":\"white\",\"linecolor\":\"white\",\"showbackground\":true,\"ticks\":\"\",\"zerolinecolor\":\"white\",\"gridwidth\":2}},\"shapedefaults\":{\"line\":{\"color\":\"#2a3f5f\"}},\"annotationdefaults\":{\"arrowcolor\":\"#2a3f5f\",\"arrowhead\":0,\"arrowwidth\":1},\"geo\":{\"bgcolor\":\"white\",\"landcolor\":\"#E5ECF6\",\"subunitcolor\":\"white\",\"showland\":true,\"showlakes\":true,\"lakecolor\":\"white\"},\"title\":{\"x\":0.05},\"mapbox\":{\"style\":\"light\"}}},\"mapbox\":{\"domain\":{\"x\":[0.0,1.0],\"y\":[0.0,1.0]},\"center\":{\"lat\":37.09024,\"lon\":-73.935242},\"zoom\":2.5,\"style\":\"carto-positron\"},\"coloraxis\":{\"colorbar\":{\"title\":{\"text\":\"Sales Value (USD)\"}},\"colorscale\":[[0.0,\"rgb(255,245,240)\"],[0.125,\"rgb(254,224,210)\"],[0.25,\"rgb(252,187,161)\"],[0.375,\"rgb(252,146,114)\"],[0.5,\"rgb(251,106,74)\"],[0.625,\"rgb(239,59,44)\"],[0.75,\"rgb(203,24,29)\"],[0.875,\"rgb(165,15,21)\"],[1.0,\"rgb(103,0,13)\"]]},\"legend\":{\"tracegroupgap\":0},\"margin\":{\"t\":60},\"geo\":{\"fitbounds\":\"locations\",\"visible\":false},\"height\":600},                        {\"responsive\": true}                    ).then(function(){\n",
              "                            \n",
              "var gd = document.getElementById('9a2e8180-7b12-4430-9d88-83f4d19480ea');\n",
              "var x = new MutationObserver(function (mutations, observer) {{\n",
              "        var display = window.getComputedStyle(gd).display;\n",
              "        if (!display || display === 'none') {{\n",
              "            console.log([gd, 'removed!']);\n",
              "            Plotly.purge(gd);\n",
              "            observer.disconnect();\n",
              "        }}\n",
              "}});\n",
              "\n",
              "// Listen for the removal of the full notebook cells\n",
              "var notebookContainer = gd.closest('#notebook-container');\n",
              "if (notebookContainer) {{\n",
              "    x.observe(notebookContainer, {childList: true});\n",
              "}}\n",
              "\n",
              "// Listen for the clearing of the current output cell\n",
              "var outputEl = gd.closest('.output');\n",
              "if (outputEl) {{\n",
              "    x.observe(outputEl, {childList: true});\n",
              "}}\n",
              "\n",
              "                        })                };                            </script>        </div>\n",
              "</body>\n",
              "</html>"
            ]
          },
          "metadata": {}
        }
      ],
      "source": [
        "fig = px.choropleth_mapbox(\n",
        "    data_frame = map_df,\n",
        "    geojson = map_df.geometry,\n",
        "    locations = map_df.index,\n",
        "    color = var_number,\n",
        "    color_continuous_scale = colors_1,\n",
        "    #range_color = (0, 10),\n",
        "    opacity = 0.5,\n",
        "    center = {'lat' : latitude, 'lon' : longitude},\n",
        "    mapbox_style = 'carto-positron',\n",
        "    zoom = 2.5,\n",
        ")\n",
        "\n",
        "fig.update_geos(\n",
        "    fitbounds = 'locations',\n",
        "    visible = False,\n",
        ")\n",
        "fig.update_layout(\n",
        "    height = 600,\n",
        ")\n",
        "fig.show()"
      ]
    },
    {
      "cell_type": "code",
      "source": [
        "chart_df_4 = df.groupby(by = ['Product'], as_index = False,)[['Total Sales', 'Operating Profit']].sum()\n",
        "\n",
        "title = 'Sales & Operating Profit by Product'\n",
        "#st.subheader(title)\n",
        "fig = go.Figure(data = [\n",
        "  go.Bar(\n",
        "    name = 'Total Sales',\n",
        "    x = chart_df_4['Product'],\n",
        "    y = chart_df_4['Total Sales'],\n",
        "    text = ['${:,.0f}'.format(x) for x in chart_df_4['Total Sales']],\n",
        "    marker = {'color': colors_2[0]}),\n",
        "  go.Bar(\n",
        "    name = 'Operating Margin',\n",
        "    x = chart_df_4['Product'],\n",
        "    y = chart_df_4['Operating Profit'],\n",
        "    text = ['${:,.0f}'.format(x) for x in chart_df_4['Operating Profit']],\n",
        "    marker = {'color': colors_2[2]}),\n",
        "])\n",
        "\n",
        "fig.update_layout(\n",
        "    template = chart_theme,\n",
        "    #paper_bgcolor = 'LightSteelBlue',\n",
        "    height = 400,\n",
        "    margin = margin,\n",
        "    title = title,\n",
        "    titlefont = dict(size = title_font_size),\n",
        "    title_x = title_x,\n",
        ")\n",
        "\n",
        "fig.show()"
      ],
      "metadata": {
        "colab": {
          "base_uri": "https://localhost:8080/",
          "height": 417
        },
        "id": "H_9STKGlJDwL",
        "outputId": "d68ed3d1-e86f-489e-f625-cdb6c896fda7"
      },
      "execution_count": 88,
      "outputs": [
        {
          "output_type": "display_data",
          "data": {
            "text/html": [
              "<html>\n",
              "<head><meta charset=\"utf-8\" /></head>\n",
              "<body>\n",
              "    <div>            <script src=\"https://cdnjs.cloudflare.com/ajax/libs/mathjax/2.7.5/MathJax.js?config=TeX-AMS-MML_SVG\"></script><script type=\"text/javascript\">if (window.MathJax && window.MathJax.Hub && window.MathJax.Hub.Config) {window.MathJax.Hub.Config({SVG: {font: \"STIX-Web\"}});}</script>                <script type=\"text/javascript\">window.PlotlyConfig = {MathJaxConfig: 'local'};</script>\n",
              "        <script charset=\"utf-8\" src=\"https://cdn.plot.ly/plotly-2.24.1.min.js\"></script>                <div id=\"63833b14-7c2e-44ed-aeae-cb0ee12d30ed\" class=\"plotly-graph-div\" style=\"height:400px; width:100%;\"></div>            <script type=\"text/javascript\">                                    window.PLOTLYENV=window.PLOTLYENV || {};                                    if (document.getElementById(\"63833b14-7c2e-44ed-aeae-cb0ee12d30ed\")) {                    Plotly.newPlot(                        \"63833b14-7c2e-44ed-aeae-cb0ee12d30ed\",                        [{\"marker\":{\"color\":\"rgb(103,0,31)\"},\"name\":\"Total Sales\",\"text\":[\"$123,728,632\",\"$153,673,680\",\"$208,826,244\",\"$179,038,860\",\"$106,631,896\",\"$128,002,813\"],\"x\":[\"Men'S Apparel\",\"Men'S Athletic Footwear\",\"Men'S Street Footwear\",\"Women'S Apparel\",\"Women'S Athletic Footwear\",\"Women'S Street Footwear\"],\"y\":[123728632.0,153673680.00000003,208826244.0,179038860.0,106631896.0,128002813.00000001],\"type\":\"bar\"},{\"marker\":{\"color\":\"rgb(214,96,77)\"},\"name\":\"Operating Margin\",\"text\":[\"$44,763,030\",\"$51,846,888\",\"$82,802,261\",\"$68,650,971\",\"$38,975,785\",\"$45,095,827\"],\"x\":[\"Men'S Apparel\",\"Men'S Athletic Footwear\",\"Men'S Street Footwear\",\"Women'S Apparel\",\"Women'S Athletic Footwear\",\"Women'S Street Footwear\"],\"y\":[44763030.33,51846888.190000005,82802260.62,68650970.56,38975784.940000005,45095826.81],\"type\":\"bar\"}],                        {\"template\":{\"data\":{\"barpolar\":[{\"marker\":{\"line\":{\"color\":\"rgb(17,17,17)\",\"width\":0.5},\"pattern\":{\"fillmode\":\"overlay\",\"size\":10,\"solidity\":0.2}},\"type\":\"barpolar\"}],\"bar\":[{\"error_x\":{\"color\":\"#f2f5fa\"},\"error_y\":{\"color\":\"#f2f5fa\"},\"marker\":{\"line\":{\"color\":\"rgb(17,17,17)\",\"width\":0.5},\"pattern\":{\"fillmode\":\"overlay\",\"size\":10,\"solidity\":0.2}},\"type\":\"bar\"}],\"carpet\":[{\"aaxis\":{\"endlinecolor\":\"#A2B1C6\",\"gridcolor\":\"#506784\",\"linecolor\":\"#506784\",\"minorgridcolor\":\"#506784\",\"startlinecolor\":\"#A2B1C6\"},\"baxis\":{\"endlinecolor\":\"#A2B1C6\",\"gridcolor\":\"#506784\",\"linecolor\":\"#506784\",\"minorgridcolor\":\"#506784\",\"startlinecolor\":\"#A2B1C6\"},\"type\":\"carpet\"}],\"choropleth\":[{\"colorbar\":{\"outlinewidth\":0,\"ticks\":\"\"},\"type\":\"choropleth\"}],\"contourcarpet\":[{\"colorbar\":{\"outlinewidth\":0,\"ticks\":\"\"},\"type\":\"contourcarpet\"}],\"contour\":[{\"colorbar\":{\"outlinewidth\":0,\"ticks\":\"\"},\"colorscale\":[[0.0,\"#0d0887\"],[0.1111111111111111,\"#46039f\"],[0.2222222222222222,\"#7201a8\"],[0.3333333333333333,\"#9c179e\"],[0.4444444444444444,\"#bd3786\"],[0.5555555555555556,\"#d8576b\"],[0.6666666666666666,\"#ed7953\"],[0.7777777777777778,\"#fb9f3a\"],[0.8888888888888888,\"#fdca26\"],[1.0,\"#f0f921\"]],\"type\":\"contour\"}],\"heatmapgl\":[{\"colorbar\":{\"outlinewidth\":0,\"ticks\":\"\"},\"colorscale\":[[0.0,\"#0d0887\"],[0.1111111111111111,\"#46039f\"],[0.2222222222222222,\"#7201a8\"],[0.3333333333333333,\"#9c179e\"],[0.4444444444444444,\"#bd3786\"],[0.5555555555555556,\"#d8576b\"],[0.6666666666666666,\"#ed7953\"],[0.7777777777777778,\"#fb9f3a\"],[0.8888888888888888,\"#fdca26\"],[1.0,\"#f0f921\"]],\"type\":\"heatmapgl\"}],\"heatmap\":[{\"colorbar\":{\"outlinewidth\":0,\"ticks\":\"\"},\"colorscale\":[[0.0,\"#0d0887\"],[0.1111111111111111,\"#46039f\"],[0.2222222222222222,\"#7201a8\"],[0.3333333333333333,\"#9c179e\"],[0.4444444444444444,\"#bd3786\"],[0.5555555555555556,\"#d8576b\"],[0.6666666666666666,\"#ed7953\"],[0.7777777777777778,\"#fb9f3a\"],[0.8888888888888888,\"#fdca26\"],[1.0,\"#f0f921\"]],\"type\":\"heatmap\"}],\"histogram2dcontour\":[{\"colorbar\":{\"outlinewidth\":0,\"ticks\":\"\"},\"colorscale\":[[0.0,\"#0d0887\"],[0.1111111111111111,\"#46039f\"],[0.2222222222222222,\"#7201a8\"],[0.3333333333333333,\"#9c179e\"],[0.4444444444444444,\"#bd3786\"],[0.5555555555555556,\"#d8576b\"],[0.6666666666666666,\"#ed7953\"],[0.7777777777777778,\"#fb9f3a\"],[0.8888888888888888,\"#fdca26\"],[1.0,\"#f0f921\"]],\"type\":\"histogram2dcontour\"}],\"histogram2d\":[{\"colorbar\":{\"outlinewidth\":0,\"ticks\":\"\"},\"colorscale\":[[0.0,\"#0d0887\"],[0.1111111111111111,\"#46039f\"],[0.2222222222222222,\"#7201a8\"],[0.3333333333333333,\"#9c179e\"],[0.4444444444444444,\"#bd3786\"],[0.5555555555555556,\"#d8576b\"],[0.6666666666666666,\"#ed7953\"],[0.7777777777777778,\"#fb9f3a\"],[0.8888888888888888,\"#fdca26\"],[1.0,\"#f0f921\"]],\"type\":\"histogram2d\"}],\"histogram\":[{\"marker\":{\"pattern\":{\"fillmode\":\"overlay\",\"size\":10,\"solidity\":0.2}},\"type\":\"histogram\"}],\"mesh3d\":[{\"colorbar\":{\"outlinewidth\":0,\"ticks\":\"\"},\"type\":\"mesh3d\"}],\"parcoords\":[{\"line\":{\"colorbar\":{\"outlinewidth\":0,\"ticks\":\"\"}},\"type\":\"parcoords\"}],\"pie\":[{\"automargin\":true,\"type\":\"pie\"}],\"scatter3d\":[{\"line\":{\"colorbar\":{\"outlinewidth\":0,\"ticks\":\"\"}},\"marker\":{\"colorbar\":{\"outlinewidth\":0,\"ticks\":\"\"}},\"type\":\"scatter3d\"}],\"scattercarpet\":[{\"marker\":{\"colorbar\":{\"outlinewidth\":0,\"ticks\":\"\"}},\"type\":\"scattercarpet\"}],\"scattergeo\":[{\"marker\":{\"colorbar\":{\"outlinewidth\":0,\"ticks\":\"\"}},\"type\":\"scattergeo\"}],\"scattergl\":[{\"marker\":{\"line\":{\"color\":\"#283442\"}},\"type\":\"scattergl\"}],\"scattermapbox\":[{\"marker\":{\"colorbar\":{\"outlinewidth\":0,\"ticks\":\"\"}},\"type\":\"scattermapbox\"}],\"scatterpolargl\":[{\"marker\":{\"colorbar\":{\"outlinewidth\":0,\"ticks\":\"\"}},\"type\":\"scatterpolargl\"}],\"scatterpolar\":[{\"marker\":{\"colorbar\":{\"outlinewidth\":0,\"ticks\":\"\"}},\"type\":\"scatterpolar\"}],\"scatter\":[{\"marker\":{\"line\":{\"color\":\"#283442\"}},\"type\":\"scatter\"}],\"scatterternary\":[{\"marker\":{\"colorbar\":{\"outlinewidth\":0,\"ticks\":\"\"}},\"type\":\"scatterternary\"}],\"surface\":[{\"colorbar\":{\"outlinewidth\":0,\"ticks\":\"\"},\"colorscale\":[[0.0,\"#0d0887\"],[0.1111111111111111,\"#46039f\"],[0.2222222222222222,\"#7201a8\"],[0.3333333333333333,\"#9c179e\"],[0.4444444444444444,\"#bd3786\"],[0.5555555555555556,\"#d8576b\"],[0.6666666666666666,\"#ed7953\"],[0.7777777777777778,\"#fb9f3a\"],[0.8888888888888888,\"#fdca26\"],[1.0,\"#f0f921\"]],\"type\":\"surface\"}],\"table\":[{\"cells\":{\"fill\":{\"color\":\"#506784\"},\"line\":{\"color\":\"rgb(17,17,17)\"}},\"header\":{\"fill\":{\"color\":\"#2a3f5f\"},\"line\":{\"color\":\"rgb(17,17,17)\"}},\"type\":\"table\"}]},\"layout\":{\"annotationdefaults\":{\"arrowcolor\":\"#f2f5fa\",\"arrowhead\":0,\"arrowwidth\":1},\"autotypenumbers\":\"strict\",\"coloraxis\":{\"colorbar\":{\"outlinewidth\":0,\"ticks\":\"\"}},\"colorscale\":{\"diverging\":[[0,\"#8e0152\"],[0.1,\"#c51b7d\"],[0.2,\"#de77ae\"],[0.3,\"#f1b6da\"],[0.4,\"#fde0ef\"],[0.5,\"#f7f7f7\"],[0.6,\"#e6f5d0\"],[0.7,\"#b8e186\"],[0.8,\"#7fbc41\"],[0.9,\"#4d9221\"],[1,\"#276419\"]],\"sequential\":[[0.0,\"#0d0887\"],[0.1111111111111111,\"#46039f\"],[0.2222222222222222,\"#7201a8\"],[0.3333333333333333,\"#9c179e\"],[0.4444444444444444,\"#bd3786\"],[0.5555555555555556,\"#d8576b\"],[0.6666666666666666,\"#ed7953\"],[0.7777777777777778,\"#fb9f3a\"],[0.8888888888888888,\"#fdca26\"],[1.0,\"#f0f921\"]],\"sequentialminus\":[[0.0,\"#0d0887\"],[0.1111111111111111,\"#46039f\"],[0.2222222222222222,\"#7201a8\"],[0.3333333333333333,\"#9c179e\"],[0.4444444444444444,\"#bd3786\"],[0.5555555555555556,\"#d8576b\"],[0.6666666666666666,\"#ed7953\"],[0.7777777777777778,\"#fb9f3a\"],[0.8888888888888888,\"#fdca26\"],[1.0,\"#f0f921\"]]},\"colorway\":[\"#636efa\",\"#EF553B\",\"#00cc96\",\"#ab63fa\",\"#FFA15A\",\"#19d3f3\",\"#FF6692\",\"#B6E880\",\"#FF97FF\",\"#FECB52\"],\"font\":{\"color\":\"#f2f5fa\"},\"geo\":{\"bgcolor\":\"rgb(17,17,17)\",\"lakecolor\":\"rgb(17,17,17)\",\"landcolor\":\"rgb(17,17,17)\",\"showlakes\":true,\"showland\":true,\"subunitcolor\":\"#506784\"},\"hoverlabel\":{\"align\":\"left\"},\"hovermode\":\"closest\",\"mapbox\":{\"style\":\"dark\"},\"paper_bgcolor\":\"rgb(17,17,17)\",\"plot_bgcolor\":\"rgb(17,17,17)\",\"polar\":{\"angularaxis\":{\"gridcolor\":\"#506784\",\"linecolor\":\"#506784\",\"ticks\":\"\"},\"bgcolor\":\"rgb(17,17,17)\",\"radialaxis\":{\"gridcolor\":\"#506784\",\"linecolor\":\"#506784\",\"ticks\":\"\"}},\"scene\":{\"xaxis\":{\"backgroundcolor\":\"rgb(17,17,17)\",\"gridcolor\":\"#506784\",\"gridwidth\":2,\"linecolor\":\"#506784\",\"showbackground\":true,\"ticks\":\"\",\"zerolinecolor\":\"#C8D4E3\"},\"yaxis\":{\"backgroundcolor\":\"rgb(17,17,17)\",\"gridcolor\":\"#506784\",\"gridwidth\":2,\"linecolor\":\"#506784\",\"showbackground\":true,\"ticks\":\"\",\"zerolinecolor\":\"#C8D4E3\"},\"zaxis\":{\"backgroundcolor\":\"rgb(17,17,17)\",\"gridcolor\":\"#506784\",\"gridwidth\":2,\"linecolor\":\"#506784\",\"showbackground\":true,\"ticks\":\"\",\"zerolinecolor\":\"#C8D4E3\"}},\"shapedefaults\":{\"line\":{\"color\":\"#f2f5fa\"}},\"sliderdefaults\":{\"bgcolor\":\"#C8D4E3\",\"bordercolor\":\"rgb(17,17,17)\",\"borderwidth\":1,\"tickwidth\":0},\"ternary\":{\"aaxis\":{\"gridcolor\":\"#506784\",\"linecolor\":\"#506784\",\"ticks\":\"\"},\"baxis\":{\"gridcolor\":\"#506784\",\"linecolor\":\"#506784\",\"ticks\":\"\"},\"bgcolor\":\"rgb(17,17,17)\",\"caxis\":{\"gridcolor\":\"#506784\",\"linecolor\":\"#506784\",\"ticks\":\"\"}},\"title\":{\"x\":0.05},\"updatemenudefaults\":{\"bgcolor\":\"#506784\",\"borderwidth\":0},\"xaxis\":{\"automargin\":true,\"gridcolor\":\"#283442\",\"linecolor\":\"#506784\",\"ticks\":\"\",\"title\":{\"standoff\":15},\"zerolinecolor\":\"#283442\",\"zerolinewidth\":2},\"yaxis\":{\"automargin\":true,\"gridcolor\":\"#283442\",\"linecolor\":\"#506784\",\"ticks\":\"\",\"title\":{\"standoff\":15},\"zerolinecolor\":\"#283442\",\"zerolinewidth\":2}}},\"margin\":{\"r\":20,\"t\":40,\"l\":20,\"b\":10},\"title\":{\"text\":\"Sales & Operating Profit by Product\",\"font\":{\"size\":18},\"x\":0},\"height\":400},                        {\"responsive\": true}                    ).then(function(){\n",
              "                            \n",
              "var gd = document.getElementById('63833b14-7c2e-44ed-aeae-cb0ee12d30ed');\n",
              "var x = new MutationObserver(function (mutations, observer) {{\n",
              "        var display = window.getComputedStyle(gd).display;\n",
              "        if (!display || display === 'none') {{\n",
              "            console.log([gd, 'removed!']);\n",
              "            Plotly.purge(gd);\n",
              "            observer.disconnect();\n",
              "        }}\n",
              "}});\n",
              "\n",
              "// Listen for the removal of the full notebook cells\n",
              "var notebookContainer = gd.closest('#notebook-container');\n",
              "if (notebookContainer) {{\n",
              "    x.observe(notebookContainer, {childList: true});\n",
              "}}\n",
              "\n",
              "// Listen for the clearing of the current output cell\n",
              "var outputEl = gd.closest('.output');\n",
              "if (outputEl) {{\n",
              "    x.observe(outputEl, {childList: true});\n",
              "}}\n",
              "\n",
              "                        })                };                            </script>        </div>\n",
              "</body>\n",
              "</html>"
            ]
          },
          "metadata": {}
        }
      ]
    },
    {
      "cell_type": "code",
      "source": [
        "chart_df_5 = df.groupby(by = ['Product', 'Sales Method'], as_index = False,)[['Operating Margin']].mean()\n",
        "\n",
        "title = 'Average Operating Margin'\n",
        "#st.subheader(title)\n",
        "fig = px.bar(\n",
        "  chart_df_5,\n",
        "  x = 'Product',\n",
        "  y = 'Operating Margin',\n",
        "  #text = ['{:,.2f}'.format(x) for x in chart_df_5['Operating Margin']],\n",
        "  template = chart_theme,\n",
        "  color = 'Sales Method',\n",
        "  barmode = 'group',\n",
        "  color_discrete_sequence = colors_2,\n",
        "  title = title,\n",
        "  text_auto = '.2%',\n",
        ")\n",
        "fig.update_layout(\n",
        "    height = 400,\n",
        "    margin = margin,\n",
        "    titlefont = dict(size = title_font_size),\n",
        "    title_x = title_x,\n",
        ")\n",
        "\n",
        "fig.show()"
      ],
      "metadata": {
        "colab": {
          "base_uri": "https://localhost:8080/",
          "height": 417
        },
        "id": "_kTjD2x3Hilq",
        "outputId": "94462229-6be5-4179-c3a0-7c480fdda5bf"
      },
      "execution_count": 67,
      "outputs": [
        {
          "output_type": "display_data",
          "data": {
            "text/html": [
              "<html>\n",
              "<head><meta charset=\"utf-8\" /></head>\n",
              "<body>\n",
              "    <div>            <script src=\"https://cdnjs.cloudflare.com/ajax/libs/mathjax/2.7.5/MathJax.js?config=TeX-AMS-MML_SVG\"></script><script type=\"text/javascript\">if (window.MathJax && window.MathJax.Hub && window.MathJax.Hub.Config) {window.MathJax.Hub.Config({SVG: {font: \"STIX-Web\"}});}</script>                <script type=\"text/javascript\">window.PlotlyConfig = {MathJaxConfig: 'local'};</script>\n",
              "        <script charset=\"utf-8\" src=\"https://cdn.plot.ly/plotly-2.24.1.min.js\"></script>                <div id=\"6a6949f8-0973-4b9e-90bd-cac4243c26f7\" class=\"plotly-graph-div\" style=\"height:400px; width:100%;\"></div>            <script type=\"text/javascript\">                                    window.PLOTLYENV=window.PLOTLYENV || {};                                    if (document.getElementById(\"6a6949f8-0973-4b9e-90bd-cac4243c26f7\")) {                    Plotly.newPlot(                        \"6a6949f8-0973-4b9e-90bd-cac4243c26f7\",                        [{\"alignmentgroup\":\"True\",\"hovertemplate\":\"Sales Method=In-Store\\u003cbr\\u003eProduct=%{x}\\u003cbr\\u003eOperating Margin=%{y}\\u003cextra\\u003e\\u003c\\u002fextra\\u003e\",\"legendgroup\":\"In-Store\",\"marker\":{\"color\":\"rgb(103,0,31)\",\"pattern\":{\"shape\":\"\"}},\"name\":\"In-Store\",\"offsetgroup\":\"In-Store\",\"orientation\":\"v\",\"showlegend\":true,\"textposition\":\"auto\",\"texttemplate\":\"%{y:.2%}\",\"x\":[\"Men'S Apparel\",\"Men'S Athletic Footwear\",\"Men'S Street Footwear\",\"Women'S Apparel\",\"Women'S Athletic Footwear\",\"Women'S Street Footwear\"],\"xaxis\":\"x\",\"y\":[0.3560137457044673,0.34498269896193773,0.38362068965517243,0.3767241379310345,0.3427586206896551,0.3325862068965517],\"yaxis\":\"y\",\"type\":\"bar\"},{\"alignmentgroup\":\"True\",\"hovertemplate\":\"Sales Method=Online\\u003cbr\\u003eProduct=%{x}\\u003cbr\\u003eOperating Margin=%{y}\\u003cextra\\u003e\\u003c\\u002fextra\\u003e\",\"legendgroup\":\"Online\",\"marker\":{\"color\":\"rgb(178,24,43)\",\"pattern\":{\"shape\":\"\"}},\"name\":\"Online\",\"offsetgroup\":\"Online\",\"orientation\":\"v\",\"showlegend\":true,\"textposition\":\"auto\",\"texttemplate\":\"%{y:.2%}\",\"x\":[\"Men'S Apparel\",\"Men'S Athletic Footwear\",\"Men'S Street Footwear\",\"Women'S Apparel\",\"Women'S Athletic Footwear\",\"Women'S Street Footwear\"],\"xaxis\":\"x\",\"y\":[0.4517220172201722,0.44421568627450975,0.485171568627451,0.48795092024539877,0.4644348894348895,0.4513865030674847],\"yaxis\":\"y\",\"type\":\"bar\"},{\"alignmentgroup\":\"True\",\"hovertemplate\":\"Sales Method=Outlet\\u003cbr\\u003eProduct=%{x}\\u003cbr\\u003eOperating Margin=%{y}\\u003cextra\\u003e\\u003c\\u002fextra\\u003e\",\"legendgroup\":\"Outlet\",\"marker\":{\"color\":\"rgb(214,96,77)\",\"pattern\":{\"shape\":\"\"}},\"name\":\"Outlet\",\"offsetgroup\":\"Outlet\",\"orientation\":\"v\",\"showlegend\":true,\"textposition\":\"auto\",\"texttemplate\":\"%{y:.2%}\",\"x\":[\"Men'S Apparel\",\"Men'S Athletic Footwear\",\"Men'S Street Footwear\",\"Women'S Apparel\",\"Women'S Athletic Footwear\",\"Women'S Street Footwear\"],\"xaxis\":\"x\",\"y\":[0.3840438247011952,0.36865346534653465,0.4188888888888889,0.4030019880715706,0.40651394422310755,0.38821073558648106],\"yaxis\":\"y\",\"type\":\"bar\"}],                        {\"template\":{\"data\":{\"barpolar\":[{\"marker\":{\"line\":{\"color\":\"rgb(17,17,17)\",\"width\":0.5},\"pattern\":{\"fillmode\":\"overlay\",\"size\":10,\"solidity\":0.2}},\"type\":\"barpolar\"}],\"bar\":[{\"error_x\":{\"color\":\"#f2f5fa\"},\"error_y\":{\"color\":\"#f2f5fa\"},\"marker\":{\"line\":{\"color\":\"rgb(17,17,17)\",\"width\":0.5},\"pattern\":{\"fillmode\":\"overlay\",\"size\":10,\"solidity\":0.2}},\"type\":\"bar\"}],\"carpet\":[{\"aaxis\":{\"endlinecolor\":\"#A2B1C6\",\"gridcolor\":\"#506784\",\"linecolor\":\"#506784\",\"minorgridcolor\":\"#506784\",\"startlinecolor\":\"#A2B1C6\"},\"baxis\":{\"endlinecolor\":\"#A2B1C6\",\"gridcolor\":\"#506784\",\"linecolor\":\"#506784\",\"minorgridcolor\":\"#506784\",\"startlinecolor\":\"#A2B1C6\"},\"type\":\"carpet\"}],\"choropleth\":[{\"colorbar\":{\"outlinewidth\":0,\"ticks\":\"\"},\"type\":\"choropleth\"}],\"contourcarpet\":[{\"colorbar\":{\"outlinewidth\":0,\"ticks\":\"\"},\"type\":\"contourcarpet\"}],\"contour\":[{\"colorbar\":{\"outlinewidth\":0,\"ticks\":\"\"},\"colorscale\":[[0.0,\"#0d0887\"],[0.1111111111111111,\"#46039f\"],[0.2222222222222222,\"#7201a8\"],[0.3333333333333333,\"#9c179e\"],[0.4444444444444444,\"#bd3786\"],[0.5555555555555556,\"#d8576b\"],[0.6666666666666666,\"#ed7953\"],[0.7777777777777778,\"#fb9f3a\"],[0.8888888888888888,\"#fdca26\"],[1.0,\"#f0f921\"]],\"type\":\"contour\"}],\"heatmapgl\":[{\"colorbar\":{\"outlinewidth\":0,\"ticks\":\"\"},\"colorscale\":[[0.0,\"#0d0887\"],[0.1111111111111111,\"#46039f\"],[0.2222222222222222,\"#7201a8\"],[0.3333333333333333,\"#9c179e\"],[0.4444444444444444,\"#bd3786\"],[0.5555555555555556,\"#d8576b\"],[0.6666666666666666,\"#ed7953\"],[0.7777777777777778,\"#fb9f3a\"],[0.8888888888888888,\"#fdca26\"],[1.0,\"#f0f921\"]],\"type\":\"heatmapgl\"}],\"heatmap\":[{\"colorbar\":{\"outlinewidth\":0,\"ticks\":\"\"},\"colorscale\":[[0.0,\"#0d0887\"],[0.1111111111111111,\"#46039f\"],[0.2222222222222222,\"#7201a8\"],[0.3333333333333333,\"#9c179e\"],[0.4444444444444444,\"#bd3786\"],[0.5555555555555556,\"#d8576b\"],[0.6666666666666666,\"#ed7953\"],[0.7777777777777778,\"#fb9f3a\"],[0.8888888888888888,\"#fdca26\"],[1.0,\"#f0f921\"]],\"type\":\"heatmap\"}],\"histogram2dcontour\":[{\"colorbar\":{\"outlinewidth\":0,\"ticks\":\"\"},\"colorscale\":[[0.0,\"#0d0887\"],[0.1111111111111111,\"#46039f\"],[0.2222222222222222,\"#7201a8\"],[0.3333333333333333,\"#9c179e\"],[0.4444444444444444,\"#bd3786\"],[0.5555555555555556,\"#d8576b\"],[0.6666666666666666,\"#ed7953\"],[0.7777777777777778,\"#fb9f3a\"],[0.8888888888888888,\"#fdca26\"],[1.0,\"#f0f921\"]],\"type\":\"histogram2dcontour\"}],\"histogram2d\":[{\"colorbar\":{\"outlinewidth\":0,\"ticks\":\"\"},\"colorscale\":[[0.0,\"#0d0887\"],[0.1111111111111111,\"#46039f\"],[0.2222222222222222,\"#7201a8\"],[0.3333333333333333,\"#9c179e\"],[0.4444444444444444,\"#bd3786\"],[0.5555555555555556,\"#d8576b\"],[0.6666666666666666,\"#ed7953\"],[0.7777777777777778,\"#fb9f3a\"],[0.8888888888888888,\"#fdca26\"],[1.0,\"#f0f921\"]],\"type\":\"histogram2d\"}],\"histogram\":[{\"marker\":{\"pattern\":{\"fillmode\":\"overlay\",\"size\":10,\"solidity\":0.2}},\"type\":\"histogram\"}],\"mesh3d\":[{\"colorbar\":{\"outlinewidth\":0,\"ticks\":\"\"},\"type\":\"mesh3d\"}],\"parcoords\":[{\"line\":{\"colorbar\":{\"outlinewidth\":0,\"ticks\":\"\"}},\"type\":\"parcoords\"}],\"pie\":[{\"automargin\":true,\"type\":\"pie\"}],\"scatter3d\":[{\"line\":{\"colorbar\":{\"outlinewidth\":0,\"ticks\":\"\"}},\"marker\":{\"colorbar\":{\"outlinewidth\":0,\"ticks\":\"\"}},\"type\":\"scatter3d\"}],\"scattercarpet\":[{\"marker\":{\"colorbar\":{\"outlinewidth\":0,\"ticks\":\"\"}},\"type\":\"scattercarpet\"}],\"scattergeo\":[{\"marker\":{\"colorbar\":{\"outlinewidth\":0,\"ticks\":\"\"}},\"type\":\"scattergeo\"}],\"scattergl\":[{\"marker\":{\"line\":{\"color\":\"#283442\"}},\"type\":\"scattergl\"}],\"scattermapbox\":[{\"marker\":{\"colorbar\":{\"outlinewidth\":0,\"ticks\":\"\"}},\"type\":\"scattermapbox\"}],\"scatterpolargl\":[{\"marker\":{\"colorbar\":{\"outlinewidth\":0,\"ticks\":\"\"}},\"type\":\"scatterpolargl\"}],\"scatterpolar\":[{\"marker\":{\"colorbar\":{\"outlinewidth\":0,\"ticks\":\"\"}},\"type\":\"scatterpolar\"}],\"scatter\":[{\"marker\":{\"line\":{\"color\":\"#283442\"}},\"type\":\"scatter\"}],\"scatterternary\":[{\"marker\":{\"colorbar\":{\"outlinewidth\":0,\"ticks\":\"\"}},\"type\":\"scatterternary\"}],\"surface\":[{\"colorbar\":{\"outlinewidth\":0,\"ticks\":\"\"},\"colorscale\":[[0.0,\"#0d0887\"],[0.1111111111111111,\"#46039f\"],[0.2222222222222222,\"#7201a8\"],[0.3333333333333333,\"#9c179e\"],[0.4444444444444444,\"#bd3786\"],[0.5555555555555556,\"#d8576b\"],[0.6666666666666666,\"#ed7953\"],[0.7777777777777778,\"#fb9f3a\"],[0.8888888888888888,\"#fdca26\"],[1.0,\"#f0f921\"]],\"type\":\"surface\"}],\"table\":[{\"cells\":{\"fill\":{\"color\":\"#506784\"},\"line\":{\"color\":\"rgb(17,17,17)\"}},\"header\":{\"fill\":{\"color\":\"#2a3f5f\"},\"line\":{\"color\":\"rgb(17,17,17)\"}},\"type\":\"table\"}]},\"layout\":{\"annotationdefaults\":{\"arrowcolor\":\"#f2f5fa\",\"arrowhead\":0,\"arrowwidth\":1},\"autotypenumbers\":\"strict\",\"coloraxis\":{\"colorbar\":{\"outlinewidth\":0,\"ticks\":\"\"}},\"colorscale\":{\"diverging\":[[0,\"#8e0152\"],[0.1,\"#c51b7d\"],[0.2,\"#de77ae\"],[0.3,\"#f1b6da\"],[0.4,\"#fde0ef\"],[0.5,\"#f7f7f7\"],[0.6,\"#e6f5d0\"],[0.7,\"#b8e186\"],[0.8,\"#7fbc41\"],[0.9,\"#4d9221\"],[1,\"#276419\"]],\"sequential\":[[0.0,\"#0d0887\"],[0.1111111111111111,\"#46039f\"],[0.2222222222222222,\"#7201a8\"],[0.3333333333333333,\"#9c179e\"],[0.4444444444444444,\"#bd3786\"],[0.5555555555555556,\"#d8576b\"],[0.6666666666666666,\"#ed7953\"],[0.7777777777777778,\"#fb9f3a\"],[0.8888888888888888,\"#fdca26\"],[1.0,\"#f0f921\"]],\"sequentialminus\":[[0.0,\"#0d0887\"],[0.1111111111111111,\"#46039f\"],[0.2222222222222222,\"#7201a8\"],[0.3333333333333333,\"#9c179e\"],[0.4444444444444444,\"#bd3786\"],[0.5555555555555556,\"#d8576b\"],[0.6666666666666666,\"#ed7953\"],[0.7777777777777778,\"#fb9f3a\"],[0.8888888888888888,\"#fdca26\"],[1.0,\"#f0f921\"]]},\"colorway\":[\"#636efa\",\"#EF553B\",\"#00cc96\",\"#ab63fa\",\"#FFA15A\",\"#19d3f3\",\"#FF6692\",\"#B6E880\",\"#FF97FF\",\"#FECB52\"],\"font\":{\"color\":\"#f2f5fa\"},\"geo\":{\"bgcolor\":\"rgb(17,17,17)\",\"lakecolor\":\"rgb(17,17,17)\",\"landcolor\":\"rgb(17,17,17)\",\"showlakes\":true,\"showland\":true,\"subunitcolor\":\"#506784\"},\"hoverlabel\":{\"align\":\"left\"},\"hovermode\":\"closest\",\"mapbox\":{\"style\":\"dark\"},\"paper_bgcolor\":\"rgb(17,17,17)\",\"plot_bgcolor\":\"rgb(17,17,17)\",\"polar\":{\"angularaxis\":{\"gridcolor\":\"#506784\",\"linecolor\":\"#506784\",\"ticks\":\"\"},\"bgcolor\":\"rgb(17,17,17)\",\"radialaxis\":{\"gridcolor\":\"#506784\",\"linecolor\":\"#506784\",\"ticks\":\"\"}},\"scene\":{\"xaxis\":{\"backgroundcolor\":\"rgb(17,17,17)\",\"gridcolor\":\"#506784\",\"gridwidth\":2,\"linecolor\":\"#506784\",\"showbackground\":true,\"ticks\":\"\",\"zerolinecolor\":\"#C8D4E3\"},\"yaxis\":{\"backgroundcolor\":\"rgb(17,17,17)\",\"gridcolor\":\"#506784\",\"gridwidth\":2,\"linecolor\":\"#506784\",\"showbackground\":true,\"ticks\":\"\",\"zerolinecolor\":\"#C8D4E3\"},\"zaxis\":{\"backgroundcolor\":\"rgb(17,17,17)\",\"gridcolor\":\"#506784\",\"gridwidth\":2,\"linecolor\":\"#506784\",\"showbackground\":true,\"ticks\":\"\",\"zerolinecolor\":\"#C8D4E3\"}},\"shapedefaults\":{\"line\":{\"color\":\"#f2f5fa\"}},\"sliderdefaults\":{\"bgcolor\":\"#C8D4E3\",\"bordercolor\":\"rgb(17,17,17)\",\"borderwidth\":1,\"tickwidth\":0},\"ternary\":{\"aaxis\":{\"gridcolor\":\"#506784\",\"linecolor\":\"#506784\",\"ticks\":\"\"},\"baxis\":{\"gridcolor\":\"#506784\",\"linecolor\":\"#506784\",\"ticks\":\"\"},\"bgcolor\":\"rgb(17,17,17)\",\"caxis\":{\"gridcolor\":\"#506784\",\"linecolor\":\"#506784\",\"ticks\":\"\"}},\"title\":{\"x\":0.05},\"updatemenudefaults\":{\"bgcolor\":\"#506784\",\"borderwidth\":0},\"xaxis\":{\"automargin\":true,\"gridcolor\":\"#283442\",\"linecolor\":\"#506784\",\"ticks\":\"\",\"title\":{\"standoff\":15},\"zerolinecolor\":\"#283442\",\"zerolinewidth\":2},\"yaxis\":{\"automargin\":true,\"gridcolor\":\"#283442\",\"linecolor\":\"#506784\",\"ticks\":\"\",\"title\":{\"standoff\":15},\"zerolinecolor\":\"#283442\",\"zerolinewidth\":2}}},\"xaxis\":{\"anchor\":\"y\",\"domain\":[0.0,1.0],\"title\":{\"text\":\"Product\"}},\"yaxis\":{\"anchor\":\"x\",\"domain\":[0.0,1.0],\"title\":{\"text\":\"Operating Margin\"}},\"legend\":{\"title\":{\"text\":\"Sales Method\"},\"tracegroupgap\":0},\"title\":{\"text\":\"Average Operating Margin\",\"font\":{\"size\":18},\"x\":0},\"barmode\":\"group\",\"margin\":{\"r\":20,\"t\":40,\"l\":20,\"b\":10},\"height\":400},                        {\"responsive\": true}                    ).then(function(){\n",
              "                            \n",
              "var gd = document.getElementById('6a6949f8-0973-4b9e-90bd-cac4243c26f7');\n",
              "var x = new MutationObserver(function (mutations, observer) {{\n",
              "        var display = window.getComputedStyle(gd).display;\n",
              "        if (!display || display === 'none') {{\n",
              "            console.log([gd, 'removed!']);\n",
              "            Plotly.purge(gd);\n",
              "            observer.disconnect();\n",
              "        }}\n",
              "}});\n",
              "\n",
              "// Listen for the removal of the full notebook cells\n",
              "var notebookContainer = gd.closest('#notebook-container');\n",
              "if (notebookContainer) {{\n",
              "    x.observe(notebookContainer, {childList: true});\n",
              "}}\n",
              "\n",
              "// Listen for the clearing of the current output cell\n",
              "var outputEl = gd.closest('.output');\n",
              "if (outputEl) {{\n",
              "    x.observe(outputEl, {childList: true});\n",
              "}}\n",
              "\n",
              "                        })                };                            </script>        </div>\n",
              "</body>\n",
              "</html>"
            ]
          },
          "metadata": {}
        }
      ]
    },
    {
      "cell_type": "markdown",
      "metadata": {
        "id": "WdxaKRPbryHX"
      },
      "source": [
        "## 10 Create Dashboard\n",
        "### * template : ['ggplot2', 'seaborn', 'simple_white', 'plotly', 'plotly_white', 'plotly_dark', 'presentation', 'xgridoff', 'ygridoff', 'gridon', 'none']\n",
        "### * change layout https://plotly.com/python-api-reference/generated/plotly.graph_objects.Layout.html\n",
        "### * more chart customization : https://plotly.com/python-api-reference/index.html"
      ]
    },
    {
      "cell_type": "code",
      "execution_count": 47,
      "metadata": {
        "colab": {
          "base_uri": "https://localhost:8080/",
          "height": 112
        },
        "id": "oWg2DIX1wmUk",
        "outputId": "ffbe09d1-c276-4d24-afab-abfb358d0701"
      },
      "outputs": [
        {
          "output_type": "execute_result",
          "data": {
            "text/plain": [
              "      Retailer Invoice Date     Region     State                  Product  \\\n",
              "0  Foot Locker   2020-01-01  Northeast  New York    Men'S Street Footwear   \n",
              "1  Foot Locker   2020-01-02  Northeast  New York  Men'S Athletic Footwear   \n",
              "\n",
              "   Price Per Unit  Units Sold  Total Sales  Operating Profit  \\\n",
              "0            50.0        1200     600000.0          300000.0   \n",
              "1            50.0        1000     500000.0          150000.0   \n",
              "\n",
              "   Operating Margin Sales Method  \n",
              "0               0.5     In-Store  \n",
              "1               0.3     In-Store  "
            ],
            "text/html": [
              "\n",
              "  <div id=\"df-d9591334-d8ab-4bb3-868f-d91a1c6d368c\" class=\"colab-df-container\">\n",
              "    <div>\n",
              "<style scoped>\n",
              "    .dataframe tbody tr th:only-of-type {\n",
              "        vertical-align: middle;\n",
              "    }\n",
              "\n",
              "    .dataframe tbody tr th {\n",
              "        vertical-align: top;\n",
              "    }\n",
              "\n",
              "    .dataframe thead th {\n",
              "        text-align: right;\n",
              "    }\n",
              "</style>\n",
              "<table border=\"1\" class=\"dataframe\">\n",
              "  <thead>\n",
              "    <tr style=\"text-align: right;\">\n",
              "      <th></th>\n",
              "      <th>Retailer</th>\n",
              "      <th>Invoice Date</th>\n",
              "      <th>Region</th>\n",
              "      <th>State</th>\n",
              "      <th>Product</th>\n",
              "      <th>Price Per Unit</th>\n",
              "      <th>Units Sold</th>\n",
              "      <th>Total Sales</th>\n",
              "      <th>Operating Profit</th>\n",
              "      <th>Operating Margin</th>\n",
              "      <th>Sales Method</th>\n",
              "    </tr>\n",
              "  </thead>\n",
              "  <tbody>\n",
              "    <tr>\n",
              "      <th>0</th>\n",
              "      <td>Foot Locker</td>\n",
              "      <td>2020-01-01</td>\n",
              "      <td>Northeast</td>\n",
              "      <td>New York</td>\n",
              "      <td>Men'S Street Footwear</td>\n",
              "      <td>50.0</td>\n",
              "      <td>1200</td>\n",
              "      <td>600000.0</td>\n",
              "      <td>300000.0</td>\n",
              "      <td>0.5</td>\n",
              "      <td>In-Store</td>\n",
              "    </tr>\n",
              "    <tr>\n",
              "      <th>1</th>\n",
              "      <td>Foot Locker</td>\n",
              "      <td>2020-01-02</td>\n",
              "      <td>Northeast</td>\n",
              "      <td>New York</td>\n",
              "      <td>Men'S Athletic Footwear</td>\n",
              "      <td>50.0</td>\n",
              "      <td>1000</td>\n",
              "      <td>500000.0</td>\n",
              "      <td>150000.0</td>\n",
              "      <td>0.3</td>\n",
              "      <td>In-Store</td>\n",
              "    </tr>\n",
              "  </tbody>\n",
              "</table>\n",
              "</div>\n",
              "    <div class=\"colab-df-buttons\">\n",
              "\n",
              "  <div class=\"colab-df-container\">\n",
              "    <button class=\"colab-df-convert\" onclick=\"convertToInteractive('df-d9591334-d8ab-4bb3-868f-d91a1c6d368c')\"\n",
              "            title=\"Convert this dataframe to an interactive table.\"\n",
              "            style=\"display:none;\">\n",
              "\n",
              "  <svg xmlns=\"http://www.w3.org/2000/svg\" height=\"24px\" viewBox=\"0 -960 960 960\">\n",
              "    <path d=\"M120-120v-720h720v720H120Zm60-500h600v-160H180v160Zm220 220h160v-160H400v160Zm0 220h160v-160H400v160ZM180-400h160v-160H180v160Zm440 0h160v-160H620v160ZM180-180h160v-160H180v160Zm440 0h160v-160H620v160Z\"/>\n",
              "  </svg>\n",
              "    </button>\n",
              "\n",
              "  <style>\n",
              "    .colab-df-container {\n",
              "      display:flex;\n",
              "      gap: 12px;\n",
              "    }\n",
              "\n",
              "    .colab-df-convert {\n",
              "      background-color: #E8F0FE;\n",
              "      border: none;\n",
              "      border-radius: 50%;\n",
              "      cursor: pointer;\n",
              "      display: none;\n",
              "      fill: #1967D2;\n",
              "      height: 32px;\n",
              "      padding: 0 0 0 0;\n",
              "      width: 32px;\n",
              "    }\n",
              "\n",
              "    .colab-df-convert:hover {\n",
              "      background-color: #E2EBFA;\n",
              "      box-shadow: 0px 1px 2px rgba(60, 64, 67, 0.3), 0px 1px 3px 1px rgba(60, 64, 67, 0.15);\n",
              "      fill: #174EA6;\n",
              "    }\n",
              "\n",
              "    .colab-df-buttons div {\n",
              "      margin-bottom: 4px;\n",
              "    }\n",
              "\n",
              "    [theme=dark] .colab-df-convert {\n",
              "      background-color: #3B4455;\n",
              "      fill: #D2E3FC;\n",
              "    }\n",
              "\n",
              "    [theme=dark] .colab-df-convert:hover {\n",
              "      background-color: #434B5C;\n",
              "      box-shadow: 0px 1px 3px 1px rgba(0, 0, 0, 0.15);\n",
              "      filter: drop-shadow(0px 1px 2px rgba(0, 0, 0, 0.3));\n",
              "      fill: #FFFFFF;\n",
              "    }\n",
              "  </style>\n",
              "\n",
              "    <script>\n",
              "      const buttonEl =\n",
              "        document.querySelector('#df-d9591334-d8ab-4bb3-868f-d91a1c6d368c button.colab-df-convert');\n",
              "      buttonEl.style.display =\n",
              "        google.colab.kernel.accessAllowed ? 'block' : 'none';\n",
              "\n",
              "      async function convertToInteractive(key) {\n",
              "        const element = document.querySelector('#df-d9591334-d8ab-4bb3-868f-d91a1c6d368c');\n",
              "        const dataTable =\n",
              "          await google.colab.kernel.invokeFunction('convertToInteractive',\n",
              "                                                    [key], {});\n",
              "        if (!dataTable) return;\n",
              "\n",
              "        const docLinkHtml = 'Like what you see? Visit the ' +\n",
              "          '<a target=\"_blank\" href=https://colab.research.google.com/notebooks/data_table.ipynb>data table notebook</a>'\n",
              "          + ' to learn more about interactive tables.';\n",
              "        element.innerHTML = '';\n",
              "        dataTable['output_type'] = 'display_data';\n",
              "        await google.colab.output.renderOutput(dataTable, element);\n",
              "        const docLink = document.createElement('div');\n",
              "        docLink.innerHTML = docLinkHtml;\n",
              "        element.appendChild(docLink);\n",
              "      }\n",
              "    </script>\n",
              "  </div>\n",
              "\n",
              "\n",
              "<div id=\"df-7af6b85b-a363-4224-905e-cb2ea40198ec\">\n",
              "  <button class=\"colab-df-quickchart\" onclick=\"quickchart('df-7af6b85b-a363-4224-905e-cb2ea40198ec')\"\n",
              "            title=\"Suggest charts\"\n",
              "            style=\"display:none;\">\n",
              "\n",
              "<svg xmlns=\"http://www.w3.org/2000/svg\" height=\"24px\"viewBox=\"0 0 24 24\"\n",
              "     width=\"24px\">\n",
              "    <g>\n",
              "        <path d=\"M19 3H5c-1.1 0-2 .9-2 2v14c0 1.1.9 2 2 2h14c1.1 0 2-.9 2-2V5c0-1.1-.9-2-2-2zM9 17H7v-7h2v7zm4 0h-2V7h2v10zm4 0h-2v-4h2v4z\"/>\n",
              "    </g>\n",
              "</svg>\n",
              "  </button>\n",
              "\n",
              "<style>\n",
              "  .colab-df-quickchart {\n",
              "      --bg-color: #E8F0FE;\n",
              "      --fill-color: #1967D2;\n",
              "      --hover-bg-color: #E2EBFA;\n",
              "      --hover-fill-color: #174EA6;\n",
              "      --disabled-fill-color: #AAA;\n",
              "      --disabled-bg-color: #DDD;\n",
              "  }\n",
              "\n",
              "  [theme=dark] .colab-df-quickchart {\n",
              "      --bg-color: #3B4455;\n",
              "      --fill-color: #D2E3FC;\n",
              "      --hover-bg-color: #434B5C;\n",
              "      --hover-fill-color: #FFFFFF;\n",
              "      --disabled-bg-color: #3B4455;\n",
              "      --disabled-fill-color: #666;\n",
              "  }\n",
              "\n",
              "  .colab-df-quickchart {\n",
              "    background-color: var(--bg-color);\n",
              "    border: none;\n",
              "    border-radius: 50%;\n",
              "    cursor: pointer;\n",
              "    display: none;\n",
              "    fill: var(--fill-color);\n",
              "    height: 32px;\n",
              "    padding: 0;\n",
              "    width: 32px;\n",
              "  }\n",
              "\n",
              "  .colab-df-quickchart:hover {\n",
              "    background-color: var(--hover-bg-color);\n",
              "    box-shadow: 0 1px 2px rgba(60, 64, 67, 0.3), 0 1px 3px 1px rgba(60, 64, 67, 0.15);\n",
              "    fill: var(--button-hover-fill-color);\n",
              "  }\n",
              "\n",
              "  .colab-df-quickchart-complete:disabled,\n",
              "  .colab-df-quickchart-complete:disabled:hover {\n",
              "    background-color: var(--disabled-bg-color);\n",
              "    fill: var(--disabled-fill-color);\n",
              "    box-shadow: none;\n",
              "  }\n",
              "\n",
              "  .colab-df-spinner {\n",
              "    border: 2px solid var(--fill-color);\n",
              "    border-color: transparent;\n",
              "    border-bottom-color: var(--fill-color);\n",
              "    animation:\n",
              "      spin 1s steps(1) infinite;\n",
              "  }\n",
              "\n",
              "  @keyframes spin {\n",
              "    0% {\n",
              "      border-color: transparent;\n",
              "      border-bottom-color: var(--fill-color);\n",
              "      border-left-color: var(--fill-color);\n",
              "    }\n",
              "    20% {\n",
              "      border-color: transparent;\n",
              "      border-left-color: var(--fill-color);\n",
              "      border-top-color: var(--fill-color);\n",
              "    }\n",
              "    30% {\n",
              "      border-color: transparent;\n",
              "      border-left-color: var(--fill-color);\n",
              "      border-top-color: var(--fill-color);\n",
              "      border-right-color: var(--fill-color);\n",
              "    }\n",
              "    40% {\n",
              "      border-color: transparent;\n",
              "      border-right-color: var(--fill-color);\n",
              "      border-top-color: var(--fill-color);\n",
              "    }\n",
              "    60% {\n",
              "      border-color: transparent;\n",
              "      border-right-color: var(--fill-color);\n",
              "    }\n",
              "    80% {\n",
              "      border-color: transparent;\n",
              "      border-right-color: var(--fill-color);\n",
              "      border-bottom-color: var(--fill-color);\n",
              "    }\n",
              "    90% {\n",
              "      border-color: transparent;\n",
              "      border-bottom-color: var(--fill-color);\n",
              "    }\n",
              "  }\n",
              "</style>\n",
              "\n",
              "  <script>\n",
              "    async function quickchart(key) {\n",
              "      const quickchartButtonEl =\n",
              "        document.querySelector('#' + key + ' button');\n",
              "      quickchartButtonEl.disabled = true;  // To prevent multiple clicks.\n",
              "      quickchartButtonEl.classList.add('colab-df-spinner');\n",
              "      try {\n",
              "        const charts = await google.colab.kernel.invokeFunction(\n",
              "            'suggestCharts', [key], {});\n",
              "      } catch (error) {\n",
              "        console.error('Error during call to suggestCharts:', error);\n",
              "      }\n",
              "      quickchartButtonEl.classList.remove('colab-df-spinner');\n",
              "      quickchartButtonEl.classList.add('colab-df-quickchart-complete');\n",
              "    }\n",
              "    (() => {\n",
              "      let quickchartButtonEl =\n",
              "        document.querySelector('#df-7af6b85b-a363-4224-905e-cb2ea40198ec button');\n",
              "      quickchartButtonEl.style.display =\n",
              "        google.colab.kernel.accessAllowed ? 'block' : 'none';\n",
              "    })();\n",
              "  </script>\n",
              "</div>\n",
              "    </div>\n",
              "  </div>\n"
            ]
          },
          "metadata": {},
          "execution_count": 47
        }
      ],
      "source": [
        "df.head(2)"
      ]
    },
    {
      "cell_type": "code",
      "execution_count": 48,
      "metadata": {
        "colab": {
          "base_uri": "https://localhost:8080/"
        },
        "id": "lu7vZN-cwtaE",
        "outputId": "a90e1766-18ec-4780-85ec-06ad29fd9fce"
      },
      "outputs": [
        {
          "output_type": "execute_result",
          "data": {
            "text/plain": [
              "array([\"Men'S Street Footwear\", \"Men'S Athletic Footwear\",\n",
              "       \"Women'S Street Footwear\", \"Women'S Athletic Footwear\",\n",
              "       \"Men'S Apparel\", \"Women'S Apparel\"], dtype=object)"
            ]
          },
          "metadata": {},
          "execution_count": 48
        }
      ],
      "source": [
        "df['Product'].unique()"
      ]
    },
    {
      "cell_type": "code",
      "execution_count": 109,
      "metadata": {
        "colab": {
          "base_uri": "https://localhost:8080/"
        },
        "id": "mOSTvuDNr4co",
        "outputId": "e51d05ef-5742-4298-d310-21b40db09238"
      },
      "outputs": [
        {
          "output_type": "stream",
          "name": "stdout",
          "text": [
            "Overwriting app.py\n"
          ]
        }
      ],
      "source": [
        "%%writefile app.py\n",
        "\n",
        "import streamlit as st\n",
        "import os\n",
        "import pandas as pd\n",
        "import geopandas as gpd\n",
        "import plotly.express as px\n",
        "import plotly.graph_objects as go\n",
        "import plotly.figure_factory as ff\n",
        "import warnings\n",
        "warnings.filterwarnings('ignore')\n",
        "\n",
        "# 00 CREATING TAB TITLE\n",
        "\n",
        "st.set_page_config(\n",
        "  page_title = 'Adidas US',\n",
        "  page_icon = ':bar_chart:',\n",
        "  layout = 'wide',\n",
        ")\n",
        "\n",
        "\n",
        "# 01 CREATING DASHBOARD TITLE\n",
        "\n",
        "st.title(':bar_chart: Adidas US Sales Dashboard')\n",
        "st.markdown('<style>div,block-container{padding-top:0rem;}<style>', unsafe_allow_html = True)\n",
        "\n",
        "\n",
        "# 02 IMPORTING DATASET\n",
        "\n",
        "dataset_path = 'https://raw.githubusercontent.com/azzindani/00_Data_Source/main/Adidas_US_Sales.csv'\n",
        "df = pd.read_csv(dataset_path, encoding = 'ISO-8859-1')\n",
        "\n",
        "gdf = gpd.read_file('https://raw.githubusercontent.com/PublicaMundi/MappingAPI/master/data/geojson/us-states.json')\n",
        "gdf = gdf.rename(columns = {'name' : 'State'})\n",
        "gdf = gdf[['State', 'geometry']]\n",
        "\n",
        "\n",
        "# 03 SETUP TEMPLATE & THEME\n",
        "\n",
        "colors_1 = px.colors.sequential.Aggrnyl_r\n",
        "colors_2 = px.colors.sequential.Magma\n",
        "explode = tuple([0.015] * 50)\n",
        "latitude = 57\n",
        "longitude = -113\n",
        "chart_theme = 'plotly_dark'\n",
        "streamlit_theme = 'streamlit'\n",
        "margin = {'r' : 20, 't' : 40, 'l' : 20, 'b' : 10}\n",
        "cmap = 'YlGn'\n",
        "title_x = 0\n",
        "title_font_size = 18\n",
        "\n",
        "\n",
        "# 04 CREATING DATE PICKER\n",
        "\n",
        "col_1, col_2 = st.columns((2))\n",
        "df['Invoice Date'] = pd.to_datetime(df['Invoice Date'])\n",
        "\n",
        "# Getting min & max date\n",
        "start_date = pd.to_datetime(df['Invoice Date']).min()\n",
        "end_date = pd.to_datetime(df['Invoice Date']).max()\n",
        "\n",
        "with col_1:\n",
        "  date_1 = pd.to_datetime(st.date_input('Start Date', start_date))\n",
        "\n",
        "with col_2:\n",
        "  date_2 = pd.to_datetime(st.date_input('End Date', end_date))\n",
        "\n",
        "df = df[(df['Invoice Date'] >= date_1) & (df['Invoice Date'] <= date_2)] #'''\n",
        "\n",
        "\n",
        "# 05 CREATING SIDEBAR FILTER\n",
        "\n",
        "st.sidebar.header('Choose your Filter: ')\n",
        "\n",
        "# Create region sidebar\n",
        "region = st.sidebar.multiselect('Select Region', df['Region'].unique())\n",
        "\n",
        "if not region:\n",
        "  df_2 = df.copy()\n",
        "else:\n",
        "  df_2 = df[df['Region'].isin(region)]\n",
        "\n",
        "# Create state sidebar\n",
        "state = st.sidebar.multiselect('Select State', df_2['State'].unique())\n",
        "\n",
        "\n",
        "# 06 CREATING DATASET FILTER LOGIC\n",
        "\n",
        "# Filter the data based on region, state\n",
        "\n",
        "# None filter\n",
        "if not region and not state:\n",
        "  filtered_df = df\n",
        "\n",
        "# Single filter\n",
        "elif not state:\n",
        "  filtered_df = df[df['Region'].isin(region)]\n",
        "\n",
        "elif not region:\n",
        "  filtered_df = df[df['State'].isin(state)]\n",
        "\n",
        "else:\n",
        "  filtered_df = df_2[df_2['Region'].isin(region) & df_2['State'].isin(state)]\n",
        "\n",
        "\n",
        "# 07 CREATING DASHBOARD\n",
        "\n",
        "# create highlighted indicator\n",
        "\n",
        "col_11, col_12, col_13 = st.columns((1, 1, 3))\n",
        "\n",
        "with col_11:\n",
        "  title = 'Sales Value'\n",
        "  #st.subheader(title)\n",
        "  fig = go.Figure(go.Indicator(\n",
        "    mode = 'number+delta',\n",
        "    domain = {'x': [0, 1], 'y': [0, 1]},\n",
        "    value = filtered_df['Total Sales'].sum(),\n",
        "    number = {'prefix' : '$'},\n",
        "  ))\n",
        "\n",
        "  fig.update_layout(\n",
        "    #paper_bgcolor = 'lightgray',\n",
        "    height = 200,\n",
        "    margin = margin,\n",
        "    title = title,\n",
        "    titlefont = dict(size = title_font_size),\n",
        "    title_x = title_x,\n",
        "  )\n",
        "\n",
        "  st.plotly_chart(fig, use_container_width = True, theme = streamlit_theme)\n",
        "\n",
        "with col_12:\n",
        "  title = 'Unit Sold'\n",
        "  #st.subheader(title)\n",
        "  fig = go.Figure(go.Indicator(\n",
        "    mode = 'number+delta',\n",
        "    domain = {'x': [0, 1], 'y': [0, 1]},\n",
        "    value = filtered_df['Units Sold'].sum(),\n",
        "    number = {'valueformat' : ','},\n",
        "  ))\n",
        "\n",
        "  fig.update_layout(\n",
        "    #paper_bgcolor = 'lightgray',\n",
        "    height = 200,\n",
        "    margin = margin,\n",
        "    title = title,\n",
        "    titlefont = dict(size = title_font_size),\n",
        "    title_x = title_x,\n",
        "  )\n",
        "\n",
        "  st.plotly_chart(fig, use_container_width = True, theme = streamlit_theme)\n",
        "\n",
        "# create geospatial chart\n",
        "\n",
        "map_df = df.groupby(['State'])['Total Sales'].sum()\n",
        "map_df = map_df.reset_index()\n",
        "map_df = map_df.rename(columns = {'Total Sales' : 'Sales Value (USD)'})\n",
        "map_df = gdf.merge(map_df, on = 'State')\n",
        "\n",
        "var_label = 'State'\n",
        "var_number = 'Sales Value (USD)'\n",
        "\n",
        "map_df = map_df.set_index(var_label)\n",
        "\n",
        "with col_13:\n",
        "  title = 'Geospatial Sales Data'\n",
        "  fig = px.choropleth_mapbox(\n",
        "      data_frame = map_df,\n",
        "      geojson = map_df.geometry,\n",
        "      locations = map_df.index,\n",
        "      color = var_number,\n",
        "      color_continuous_scale = colors_1,\n",
        "      #range_color = (0, 10),\n",
        "      opacity = 0.5,\n",
        "      center = {'lat' : latitude, 'lon' : longitude},\n",
        "      mapbox_style = 'carto-positron',\n",
        "      zoom = 2,\n",
        "  )\n",
        "\n",
        "  fig.update_geos(\n",
        "      fitbounds = 'locations',\n",
        "      visible = False,\n",
        "  )\n",
        "  fig.update_layout(\n",
        "      height = 600,\n",
        "      margin = margin,\n",
        "      title = title,\n",
        "      titlefont = dict(size = title_font_size),\n",
        "      title_x = title_x,\n",
        "  )\n",
        "  st.plotly_chart(fig, use_container_width = True, theme = streamlit_theme)\n",
        "\n",
        "# create market outlook chart\n",
        "\n",
        "# create bar chart\n",
        "\n",
        "chart_df_1 = filtered_df.groupby(by = 'Retailer', as_index = False,)[['Total Sales']].sum()\n",
        "\n",
        "with col_11:\n",
        "  title = 'Sales Value by Retailer'\n",
        "  fig = px.bar(\n",
        "    chart_df_1,\n",
        "    y = 'Retailer',\n",
        "    x = 'Total Sales',\n",
        "    title = title,\n",
        "    color_discrete_sequence = colors_1,\n",
        "    text_auto = '$,.0f',\n",
        "  )\n",
        "\n",
        "  fig.update_traces(\n",
        "      textfont_size = 12,\n",
        "      textangle = 0,\n",
        "      textposition = 'inside',\n",
        "      cliponaxis = False\n",
        "  )\n",
        "\n",
        "  fig.update_xaxes(showspikes = True)\n",
        "  fig.update_yaxes(showspikes = True)\n",
        "  fig.update_layout(\n",
        "    height = 300,\n",
        "    margin = margin,\n",
        "    title = title,\n",
        "    titlefont = dict(size = title_font_size),\n",
        "    title_x = title_x,\n",
        "  )\n",
        "  st.plotly_chart(fig, use_container_width = True, theme = streamlit_theme)\n",
        "\n",
        "  with st.expander('View Data'):\n",
        "    st.write(chart_df_1.style.background_gradient(cmap = cmap))\n",
        "    csv = chart_df_1.to_csv(index = False).encode('utf-8')\n",
        "    st.download_button('Download Data', data = csv, file_name = title + '.csv', mime = 'text/csv', help = 'Click here to download as CSV file')\n",
        "\n",
        "chart_df_2 = filtered_df.groupby(by = 'Sales Method', as_index = False,)[['Total Sales']].sum()\n",
        "\n",
        "with col_12:\n",
        "  title = 'Sales Value by Sales Method'\n",
        "  fig = px.bar(\n",
        "    chart_df_2,\n",
        "    y = 'Sales Method',\n",
        "    x = 'Total Sales',\n",
        "    title = title,\n",
        "    color_discrete_sequence = colors_1,\n",
        "    text_auto = '$,.0f',\n",
        "  )\n",
        "\n",
        "  fig.update_traces(\n",
        "      textfont_size = 12,\n",
        "      textangle = 0,\n",
        "      textposition = 'inside',\n",
        "      cliponaxis = False\n",
        "  )\n",
        "\n",
        "  fig.update_xaxes(showspikes = True)\n",
        "  fig.update_yaxes(showspikes = True)\n",
        "  fig.update_layout(\n",
        "    height = 300,\n",
        "    margin = margin,\n",
        "    title = title,\n",
        "    titlefont = dict(size = title_font_size),\n",
        "    title_x = title_x,\n",
        "  )\n",
        "  st.plotly_chart(fig, use_container_width = True, theme = streamlit_theme)\n",
        "\n",
        "  with st.expander('View Data'):\n",
        "    st.write(chart_df_2.style.background_gradient(cmap = cmap))\n",
        "    csv = chart_df_2.to_csv(index = False).encode('utf-8')\n",
        "    st.download_button('Download Data', data = csv, file_name = title + '.csv', mime = 'text/csv', help = 'Click here to download as CSV file')\n",
        "\n",
        "col_21, col_22, col_23 = st.columns((1, 1, 1))\n",
        "\n",
        "chart_df_3 = filtered_df.groupby(by = ['Region'], as_index = False,)[['Total Sales']].sum()\n",
        "\n",
        "with col_21:\n",
        "  title = 'Sales Ration by Region'\n",
        "  #st.subheader(title)\n",
        "  fig = px.pie(\n",
        "    chart_df_3,\n",
        "    values = 'Total Sales',\n",
        "    names = 'Region',\n",
        "    hole = 0.5,\n",
        "    template = chart_theme,\n",
        "    color_discrete_sequence = colors_1,\n",
        "  )\n",
        "  fig.update_traces(\n",
        "    text = chart_df_3['Region'],\n",
        "    textposition = 'inside',\n",
        "    pull = explode,\n",
        "  )\n",
        "  fig.update_layout(\n",
        "    height = 400,\n",
        "    margin = margin,\n",
        "    title = title,\n",
        "    titlefont = dict(size = title_font_size),\n",
        "    title_x = title_x,\n",
        "  )\n",
        "  st.plotly_chart(fig, use_container_width = True, theme = streamlit_theme)\n",
        "\n",
        "  with st.expander('View Data'):\n",
        "    st.write(chart_df_3.style.background_gradient(cmap = cmap))\n",
        "    csv = chart_df_3.to_csv(index = False).encode('utf-8')\n",
        "    st.download_button('Download Data', data = csv, file_name = title + '.csv', mime = 'text/csv', help = 'Click here to download as CSV file')\n",
        "\n",
        "chart_df_4 = filtered_df.groupby(by = ['Product'], as_index = False,)[['Total Sales', 'Operating Profit']].sum()\n",
        "\n",
        "with col_22:\n",
        "  title = 'Sales & Operating Profit by Product'\n",
        "  #st.subheader(title)\n",
        "  fig = go.Figure(data = [\n",
        "    go.Bar(\n",
        "      name = 'Total Sales',\n",
        "      x = chart_df_4['Product'],\n",
        "      y = chart_df_4['Total Sales'],\n",
        "      text = ['${:,.0f}'.format(x) for x in chart_df_4['Total Sales']],\n",
        "      marker = {'color': colors_1[0]}),\n",
        "    go.Bar(\n",
        "      name = 'Operating Margin',\n",
        "      x = chart_df_4['Product'],\n",
        "      y = chart_df_4['Operating Profit'],\n",
        "      text = ['${:,.0f}'.format(x) for x in chart_df_4['Operating Profit']],\n",
        "      marker = {'color': colors_1[1]}),\n",
        "  ])\n",
        "\n",
        "  fig.update_layout(\n",
        "      template = chart_theme,\n",
        "      #paper_bgcolor = 'LightSteelBlue',\n",
        "      height = 400,\n",
        "      margin = margin,\n",
        "      title = title,\n",
        "      titlefont = dict(size = title_font_size),\n",
        "      title_x = title_x,\n",
        "  )\n",
        "  st.plotly_chart(fig, use_container_width = True, theme = streamlit_theme)\n",
        "\n",
        "  with st.expander('View Data'):\n",
        "    st.write(chart_df_4.style.background_gradient(cmap = cmap))\n",
        "    csv = chart_df_4.to_csv(index = False).encode('utf-8')\n",
        "    st.download_button('Download Data', data = csv, file_name = title + '.csv', mime = 'text/csv', help = 'Click here to download as CSV file')\n",
        "\n",
        "chart_df_5 = filtered_df.groupby(by = ['Product', 'Sales Method'], as_index = False,)[['Operating Margin']].mean()\n",
        "\n",
        "with col_23:\n",
        "  title = 'Average Operating Margin'\n",
        "  #st.subheader(title)\n",
        "  fig = px.bar(\n",
        "    chart_df_5,\n",
        "    x = 'Product',\n",
        "    y = 'Operating Margin',\n",
        "    #text = ['{:,.2f}'.format(x) for x in chart_df_5['Operating Margin']],\n",
        "    template = chart_theme,\n",
        "    color = 'Sales Method',\n",
        "    barmode = 'group',\n",
        "    color_discrete_sequence = colors_1,\n",
        "    title = title,\n",
        "    text_auto = '.2%',\n",
        "  )\n",
        "\n",
        "  fig.update_xaxes(visible = True, showspikes = False)\n",
        "  fig.update_yaxes(visible = True, showspikes = False)\n",
        "\n",
        "  fig.update_layout(\n",
        "      height = 400,\n",
        "      margin = margin,\n",
        "      titlefont = dict(size = title_font_size),\n",
        "      title_x = title_x,\n",
        "  )\n",
        "  st.plotly_chart(fig, use_container_width = True, theme = streamlit_theme)\n",
        "\n",
        "  with st.expander('View Data'):\n",
        "    st.write(chart_df_5.style.background_gradient(cmap = cmap))\n",
        "    csv = chart_df_5.to_csv(index = False).encode('utf-8')\n",
        "    st.download_button('Download Data', data = csv, file_name = title + '.csv', mime = 'text/csv', help = 'Click here to download as CSV file')\n",
        "\n",
        "chart_df_6 = filtered_df.groupby(by = 'Product', as_index = False,)[['Total Sales']].sum()\n",
        "\n",
        "col_31, col_32 = st.columns((1, 1))\n",
        "\n",
        "with col_31:\n",
        "  title = 'Product Sales Value (USD)'\n",
        "  fig = px.bar(\n",
        "    chart_df_6,\n",
        "    x = 'Product',\n",
        "    y = 'Total Sales',\n",
        "    title = title,\n",
        "    color_discrete_sequence = colors_1,\n",
        "    text_auto = '$,.0f',\n",
        "  )\n",
        "\n",
        "  fig.update_traces(\n",
        "      textfont_size = 12,\n",
        "      textangle = 0,\n",
        "      textposition = 'inside',\n",
        "      cliponaxis = False\n",
        "  )\n",
        "\n",
        "  fig.update_xaxes(showspikes = True)\n",
        "  fig.update_yaxes(showspikes = True)\n",
        "  fig.update_layout(\n",
        "    height = 400,\n",
        "    margin = margin,\n",
        "    title = title,\n",
        "    titlefont = dict(size = title_font_size),\n",
        "    title_x = title_x,\n",
        "  )\n",
        "  st.plotly_chart(fig, use_container_width = True, theme = streamlit_theme)\n",
        "\n",
        "  with st.expander('View Data'):\n",
        "    st.write(chart_df_6.style.background_gradient(cmap = cmap))\n",
        "    csv = chart_df_6.to_csv(index = False).encode('utf-8')\n",
        "    st.download_button('Download Data', data = csv, file_name = title + '.csv', mime = 'text/csv', help = 'Click here to download as CSV file')\n",
        "\n",
        "filtered_df['Month & Year'] = filtered_df['Invoice Date'].dt.to_period('M')\n",
        "chart_df_7 = pd.DataFrame(filtered_df.groupby([filtered_df['Month & Year'], 'Product'])[['Units Sold']].mean()).reset_index()\n",
        "chart_df_7['Month & Year'] = chart_df_7['Month & Year'].astype(str)\n",
        "\n",
        "with col_32:\n",
        "  title = 'Amount of Product Sold'\n",
        "  fig = px.line(\n",
        "    chart_df_7,\n",
        "    x = 'Month & Year',\n",
        "    y = 'Units Sold',\n",
        "    color = 'Product',\n",
        "    color_discrete_sequence = colors_1,\n",
        "  )\n",
        "\n",
        "  fig.update_traces(\n",
        "      textposition = 'bottom right'\n",
        "  )\n",
        "\n",
        "  fig.update_traces(mode = 'markers+lines', hovertemplate = None)\n",
        "  fig.update_layout(hovermode = 'x')\n",
        "\n",
        "  fig.update_xaxes(showspikes = True)\n",
        "  fig.update_yaxes(showspikes = True)\n",
        "  fig.update_layout(\n",
        "    height = 400,\n",
        "    margin = margin,\n",
        "    title = title,\n",
        "    titlefont = dict(size = title_font_size),\n",
        "    title_x = title_x,\n",
        "  )\n",
        "  st.plotly_chart(fig, use_container_width = True, theme = streamlit_theme)\n",
        "\n",
        "  with st.expander('View Data'):\n",
        "    st.write(chart_df_7.style.background_gradient(cmap = cmap))\n",
        "    csv = chart_df_7.to_csv(index = False).encode('utf-8')\n",
        "    st.download_button('Download Data', data = csv, file_name = title + '.csv', mime = 'text/csv', help = 'Click here to download as CSV file')\n",
        "\n",
        "title = 'Relationship between Product Price and Unit Sold using Scatter Plot'\n",
        "fig_1 = px.scatter(\n",
        "  filtered_df,\n",
        "  x = 'Price per Unit',\n",
        "  y = 'Units Sold',\n",
        "  color = 'Product',\n",
        "  height = 600,\n",
        "  template = chart_theme,\n",
        "  color_discrete_sequence = colors_1,\n",
        "  trendline = 'ols',\n",
        "  marginal_x = 'histogram',\n",
        "  marginal_y = 'box',\n",
        ")\n",
        "fig_1.update_layout(\n",
        "  title = title,\n",
        "  titlefont = dict(size = title_font_size),\n",
        "  xaxis = dict(title = 'Price Per Unit (USD)', titlefont = dict(size = 14), tickformat = '.2s'),\n",
        "  yaxis = dict(title = 'Units Sold', titlefont = dict(size = 14)),\n",
        "  title_x = title_x,\n",
        ")\n",
        "st.plotly_chart(fig_1, use_container_width = True, theme = streamlit_theme)\n",
        "\n",
        "# Download original sample dataset\n",
        "\n",
        "with st.expander('Sample Data'):\n",
        "  st.write(df.iloc[:500, 1:20:2].style.background_gradient(cmap = cmap))\n",
        "  csv = df.to_csv(index = False).encode('utf-8')\n",
        "  st.download_button('Download Data', data = csv, file_name = 'Data.csv', mime = 'text/csv')"
      ]
    },
    {
      "cell_type": "markdown",
      "metadata": {
        "id": "Z9RRwyCdD8lO"
      },
      "source": [
        "## 11 Run Dashboard"
      ]
    },
    {
      "cell_type": "code",
      "execution_count": 110,
      "metadata": {
        "colab": {
          "base_uri": "https://localhost:8080/"
        },
        "id": "D_voTYz09H7q",
        "outputId": "e85a8c49-41e9-41e8-84d0-4694723465a5"
      },
      "outputs": [
        {
          "output_type": "stream",
          "name": "stdout",
          "text": [
            "34.73.191.19\n",
            "\u001b[K\u001b[?25hnpx: installed 22 in 2.358s\n",
            "your url is: https://khaki-geckos-thank.loca.lt\n",
            "^C\n"
          ]
        }
      ],
      "source": [
        "!streamlit run app.py &>/content/logs.txt & curl ipv4.icanhazip.com\n",
        "!npx localtunnel --port 8501"
      ]
    }
  ],
  "metadata": {
    "colab": {
      "provenance": [],
      "include_colab_link": true
    },
    "kernelspec": {
      "display_name": "Python 3 (ipykernel)",
      "language": "python",
      "name": "python3"
    },
    "language_info": {
      "codemirror_mode": {
        "name": "ipython",
        "version": 3
      },
      "file_extension": ".py",
      "mimetype": "text/x-python",
      "name": "python",
      "nbconvert_exporter": "python",
      "pygments_lexer": "ipython3",
      "version": "3.9.13"
    }
  },
  "nbformat": 4,
  "nbformat_minor": 0
}