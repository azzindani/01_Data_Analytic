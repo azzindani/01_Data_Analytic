{
  "cells": [
    {
      "cell_type": "markdown",
      "metadata": {
        "id": "view-in-github",
        "colab_type": "text"
      },
      "source": [
        "<a href=\"https://colab.research.google.com/github/azzindani/01_Data_Analytic/blob/main/US_Unemployment_Draft.ipynb\" target=\"_parent\"><img src=\"https://colab.research.google.com/assets/colab-badge.svg\" alt=\"Open In Colab\"/></a>"
      ]
    },
    {
      "cell_type": "markdown",
      "metadata": {
        "id": "xzGjScgSt8W9"
      },
      "source": [
        "## 00 Importing Modules & Mounting Drive"
      ]
    },
    {
      "cell_type": "code",
      "execution_count": null,
      "metadata": {
        "id": "yhXKjGT-OZvU",
        "colab": {
          "base_uri": "https://localhost:8080/"
        },
        "outputId": "0b58f097-1692-4b50-fda7-c9f68daad308"
      },
      "outputs": [
        {
          "output_type": "stream",
          "name": "stdout",
          "text": [
            "Requirement already satisfied: pandas-profiling in /usr/local/lib/python3.10/dist-packages (3.6.6)\n",
            "Requirement already satisfied: ydata-profiling in /usr/local/lib/python3.10/dist-packages (from pandas-profiling) (4.6.3)\n",
            "Requirement already satisfied: scipy<1.12,>=1.4.1 in /usr/local/lib/python3.10/dist-packages (from ydata-profiling->pandas-profiling) (1.11.4)\n",
            "Requirement already satisfied: pandas!=1.4.0,<3,>1.1 in /usr/local/lib/python3.10/dist-packages (from ydata-profiling->pandas-profiling) (1.5.3)\n",
            "Requirement already satisfied: matplotlib<3.9,>=3.2 in /usr/local/lib/python3.10/dist-packages (from ydata-profiling->pandas-profiling) (3.7.1)\n",
            "Requirement already satisfied: pydantic>=2 in /usr/local/lib/python3.10/dist-packages (from ydata-profiling->pandas-profiling) (2.5.3)\n",
            "Requirement already satisfied: PyYAML<6.1,>=5.0.0 in /usr/local/lib/python3.10/dist-packages (from ydata-profiling->pandas-profiling) (6.0.1)\n",
            "Requirement already satisfied: jinja2<3.2,>=2.11.1 in /usr/local/lib/python3.10/dist-packages (from ydata-profiling->pandas-profiling) (3.1.2)\n",
            "Requirement already satisfied: visions[type_image_path]==0.7.5 in /usr/local/lib/python3.10/dist-packages (from ydata-profiling->pandas-profiling) (0.7.5)\n",
            "Requirement already satisfied: numpy<1.26,>=1.16.0 in /usr/local/lib/python3.10/dist-packages (from ydata-profiling->pandas-profiling) (1.23.5)\n",
            "Requirement already satisfied: htmlmin==0.1.12 in /usr/local/lib/python3.10/dist-packages (from ydata-profiling->pandas-profiling) (0.1.12)\n",
            "Requirement already satisfied: phik<0.13,>=0.11.1 in /usr/local/lib/python3.10/dist-packages (from ydata-profiling->pandas-profiling) (0.12.3)\n",
            "Requirement already satisfied: requests<3,>=2.24.0 in /usr/local/lib/python3.10/dist-packages (from ydata-profiling->pandas-profiling) (2.31.0)\n",
            "Requirement already satisfied: tqdm<5,>=4.48.2 in /usr/local/lib/python3.10/dist-packages (from ydata-profiling->pandas-profiling) (4.66.1)\n",
            "Requirement already satisfied: seaborn<0.13,>=0.10.1 in /usr/local/lib/python3.10/dist-packages (from ydata-profiling->pandas-profiling) (0.12.2)\n",
            "Requirement already satisfied: multimethod<2,>=1.4 in /usr/local/lib/python3.10/dist-packages (from ydata-profiling->pandas-profiling) (1.10)\n",
            "Requirement already satisfied: statsmodels<1,>=0.13.2 in /usr/local/lib/python3.10/dist-packages (from ydata-profiling->pandas-profiling) (0.14.1)\n",
            "Requirement already satisfied: typeguard<5,>=4.1.2 in /usr/local/lib/python3.10/dist-packages (from ydata-profiling->pandas-profiling) (4.1.5)\n",
            "Requirement already satisfied: imagehash==4.3.1 in /usr/local/lib/python3.10/dist-packages (from ydata-profiling->pandas-profiling) (4.3.1)\n",
            "Requirement already satisfied: wordcloud>=1.9.1 in /usr/local/lib/python3.10/dist-packages (from ydata-profiling->pandas-profiling) (1.9.3)\n",
            "Requirement already satisfied: dacite>=1.8 in /usr/local/lib/python3.10/dist-packages (from ydata-profiling->pandas-profiling) (1.8.1)\n",
            "Requirement already satisfied: numba<0.59.0,>=0.56.0 in /usr/local/lib/python3.10/dist-packages (from ydata-profiling->pandas-profiling) (0.58.1)\n",
            "Requirement already satisfied: PyWavelets in /usr/local/lib/python3.10/dist-packages (from imagehash==4.3.1->ydata-profiling->pandas-profiling) (1.5.0)\n",
            "Requirement already satisfied: pillow in /usr/local/lib/python3.10/dist-packages (from imagehash==4.3.1->ydata-profiling->pandas-profiling) (9.4.0)\n",
            "Requirement already satisfied: attrs>=19.3.0 in /usr/local/lib/python3.10/dist-packages (from visions[type_image_path]==0.7.5->ydata-profiling->pandas-profiling) (23.1.0)\n",
            "Requirement already satisfied: networkx>=2.4 in /usr/local/lib/python3.10/dist-packages (from visions[type_image_path]==0.7.5->ydata-profiling->pandas-profiling) (3.2.1)\n",
            "Requirement already satisfied: tangled-up-in-unicode>=0.0.4 in /usr/local/lib/python3.10/dist-packages (from visions[type_image_path]==0.7.5->ydata-profiling->pandas-profiling) (0.2.0)\n",
            "Requirement already satisfied: MarkupSafe>=2.0 in /usr/local/lib/python3.10/dist-packages (from jinja2<3.2,>=2.11.1->ydata-profiling->pandas-profiling) (2.1.3)\n",
            "Requirement already satisfied: contourpy>=1.0.1 in /usr/local/lib/python3.10/dist-packages (from matplotlib<3.9,>=3.2->ydata-profiling->pandas-profiling) (1.2.0)\n",
            "Requirement already satisfied: cycler>=0.10 in /usr/local/lib/python3.10/dist-packages (from matplotlib<3.9,>=3.2->ydata-profiling->pandas-profiling) (0.12.1)\n",
            "Requirement already satisfied: fonttools>=4.22.0 in /usr/local/lib/python3.10/dist-packages (from matplotlib<3.9,>=3.2->ydata-profiling->pandas-profiling) (4.47.0)\n",
            "Requirement already satisfied: kiwisolver>=1.0.1 in /usr/local/lib/python3.10/dist-packages (from matplotlib<3.9,>=3.2->ydata-profiling->pandas-profiling) (1.4.5)\n",
            "Requirement already satisfied: packaging>=20.0 in /usr/local/lib/python3.10/dist-packages (from matplotlib<3.9,>=3.2->ydata-profiling->pandas-profiling) (23.2)\n",
            "Requirement already satisfied: pyparsing>=2.3.1 in /usr/local/lib/python3.10/dist-packages (from matplotlib<3.9,>=3.2->ydata-profiling->pandas-profiling) (3.1.1)\n",
            "Requirement already satisfied: python-dateutil>=2.7 in /usr/local/lib/python3.10/dist-packages (from matplotlib<3.9,>=3.2->ydata-profiling->pandas-profiling) (2.8.2)\n",
            "Requirement already satisfied: llvmlite<0.42,>=0.41.0dev0 in /usr/local/lib/python3.10/dist-packages (from numba<0.59.0,>=0.56.0->ydata-profiling->pandas-profiling) (0.41.1)\n",
            "Requirement already satisfied: pytz>=2020.1 in /usr/local/lib/python3.10/dist-packages (from pandas!=1.4.0,<3,>1.1->ydata-profiling->pandas-profiling) (2023.3.post1)\n",
            "Requirement already satisfied: joblib>=0.14.1 in /usr/local/lib/python3.10/dist-packages (from phik<0.13,>=0.11.1->ydata-profiling->pandas-profiling) (1.3.2)\n",
            "Requirement already satisfied: annotated-types>=0.4.0 in /usr/local/lib/python3.10/dist-packages (from pydantic>=2->ydata-profiling->pandas-profiling) (0.6.0)\n",
            "Requirement already satisfied: pydantic-core==2.14.6 in /usr/local/lib/python3.10/dist-packages (from pydantic>=2->ydata-profiling->pandas-profiling) (2.14.6)\n",
            "Requirement already satisfied: typing-extensions>=4.6.1 in /usr/local/lib/python3.10/dist-packages (from pydantic>=2->ydata-profiling->pandas-profiling) (4.9.0)\n",
            "Requirement already satisfied: charset-normalizer<4,>=2 in /usr/local/lib/python3.10/dist-packages (from requests<3,>=2.24.0->ydata-profiling->pandas-profiling) (3.3.2)\n",
            "Requirement already satisfied: idna<4,>=2.5 in /usr/local/lib/python3.10/dist-packages (from requests<3,>=2.24.0->ydata-profiling->pandas-profiling) (3.6)\n",
            "Requirement already satisfied: urllib3<3,>=1.21.1 in /usr/local/lib/python3.10/dist-packages (from requests<3,>=2.24.0->ydata-profiling->pandas-profiling) (2.0.7)\n",
            "Requirement already satisfied: certifi>=2017.4.17 in /usr/local/lib/python3.10/dist-packages (from requests<3,>=2.24.0->ydata-profiling->pandas-profiling) (2023.11.17)\n",
            "Requirement already satisfied: patsy>=0.5.4 in /usr/local/lib/python3.10/dist-packages (from statsmodels<1,>=0.13.2->ydata-profiling->pandas-profiling) (0.5.4)\n",
            "Requirement already satisfied: six in /usr/local/lib/python3.10/dist-packages (from patsy>=0.5.4->statsmodels<1,>=0.13.2->ydata-profiling->pandas-profiling) (1.16.0)\n",
            "Requirement already satisfied: streamlit in /usr/local/lib/python3.10/dist-packages (1.29.0)\n",
            "Requirement already satisfied: altair<6,>=4.0 in /usr/local/lib/python3.10/dist-packages (from streamlit) (4.2.2)\n",
            "Requirement already satisfied: blinker<2,>=1.0.0 in /usr/lib/python3/dist-packages (from streamlit) (1.4)\n",
            "Requirement already satisfied: cachetools<6,>=4.0 in /usr/local/lib/python3.10/dist-packages (from streamlit) (5.3.2)\n",
            "Requirement already satisfied: click<9,>=7.0 in /usr/local/lib/python3.10/dist-packages (from streamlit) (8.1.7)\n",
            "Requirement already satisfied: importlib-metadata<7,>=1.4 in /usr/local/lib/python3.10/dist-packages (from streamlit) (6.11.0)\n",
            "Requirement already satisfied: numpy<2,>=1.19.3 in /usr/local/lib/python3.10/dist-packages (from streamlit) (1.23.5)\n",
            "Requirement already satisfied: packaging<24,>=16.8 in /usr/local/lib/python3.10/dist-packages (from streamlit) (23.2)\n",
            "Requirement already satisfied: pandas<3,>=1.3.0 in /usr/local/lib/python3.10/dist-packages (from streamlit) (1.5.3)\n",
            "Requirement already satisfied: pillow<11,>=7.1.0 in /usr/local/lib/python3.10/dist-packages (from streamlit) (9.4.0)\n",
            "Requirement already satisfied: protobuf<5,>=3.20 in /usr/local/lib/python3.10/dist-packages (from streamlit) (3.20.3)\n",
            "Requirement already satisfied: pyarrow>=6.0 in /usr/local/lib/python3.10/dist-packages (from streamlit) (10.0.1)\n",
            "Requirement already satisfied: python-dateutil<3,>=2.7.3 in /usr/local/lib/python3.10/dist-packages (from streamlit) (2.8.2)\n",
            "Requirement already satisfied: requests<3,>=2.27 in /usr/local/lib/python3.10/dist-packages (from streamlit) (2.31.0)\n",
            "Requirement already satisfied: rich<14,>=10.14.0 in /usr/local/lib/python3.10/dist-packages (from streamlit) (13.7.0)\n",
            "Requirement already satisfied: tenacity<9,>=8.1.0 in /usr/local/lib/python3.10/dist-packages (from streamlit) (8.2.3)\n",
            "Requirement already satisfied: toml<2,>=0.10.1 in /usr/local/lib/python3.10/dist-packages (from streamlit) (0.10.2)\n",
            "Requirement already satisfied: typing-extensions<5,>=4.3.0 in /usr/local/lib/python3.10/dist-packages (from streamlit) (4.9.0)\n",
            "Requirement already satisfied: tzlocal<6,>=1.1 in /usr/local/lib/python3.10/dist-packages (from streamlit) (5.2)\n",
            "Requirement already satisfied: validators<1,>=0.2 in /usr/local/lib/python3.10/dist-packages (from streamlit) (0.22.0)\n",
            "Requirement already satisfied: gitpython!=3.1.19,<4,>=3.0.7 in /usr/local/lib/python3.10/dist-packages (from streamlit) (3.1.40)\n",
            "Requirement already satisfied: pydeck<1,>=0.8.0b4 in /usr/local/lib/python3.10/dist-packages (from streamlit) (0.8.1b0)\n",
            "Requirement already satisfied: tornado<7,>=6.0.3 in /usr/local/lib/python3.10/dist-packages (from streamlit) (6.3.2)\n",
            "Requirement already satisfied: watchdog>=2.1.5 in /usr/local/lib/python3.10/dist-packages (from streamlit) (3.0.0)\n",
            "Requirement already satisfied: entrypoints in /usr/local/lib/python3.10/dist-packages (from altair<6,>=4.0->streamlit) (0.4)\n",
            "Requirement already satisfied: jinja2 in /usr/local/lib/python3.10/dist-packages (from altair<6,>=4.0->streamlit) (3.1.2)\n",
            "Requirement already satisfied: jsonschema>=3.0 in /usr/local/lib/python3.10/dist-packages (from altair<6,>=4.0->streamlit) (4.19.2)\n",
            "Requirement already satisfied: toolz in /usr/local/lib/python3.10/dist-packages (from altair<6,>=4.0->streamlit) (0.12.0)\n",
            "Requirement already satisfied: gitdb<5,>=4.0.1 in /usr/local/lib/python3.10/dist-packages (from gitpython!=3.1.19,<4,>=3.0.7->streamlit) (4.0.11)\n",
            "Requirement already satisfied: zipp>=0.5 in /usr/local/lib/python3.10/dist-packages (from importlib-metadata<7,>=1.4->streamlit) (3.17.0)\n",
            "Requirement already satisfied: pytz>=2020.1 in /usr/local/lib/python3.10/dist-packages (from pandas<3,>=1.3.0->streamlit) (2023.3.post1)\n",
            "Requirement already satisfied: six>=1.5 in /usr/local/lib/python3.10/dist-packages (from python-dateutil<3,>=2.7.3->streamlit) (1.16.0)\n",
            "Requirement already satisfied: charset-normalizer<4,>=2 in /usr/local/lib/python3.10/dist-packages (from requests<3,>=2.27->streamlit) (3.3.2)\n",
            "Requirement already satisfied: idna<4,>=2.5 in /usr/local/lib/python3.10/dist-packages (from requests<3,>=2.27->streamlit) (3.6)\n",
            "Requirement already satisfied: urllib3<3,>=1.21.1 in /usr/local/lib/python3.10/dist-packages (from requests<3,>=2.27->streamlit) (2.0.7)\n",
            "Requirement already satisfied: certifi>=2017.4.17 in /usr/local/lib/python3.10/dist-packages (from requests<3,>=2.27->streamlit) (2023.11.17)\n",
            "Requirement already satisfied: markdown-it-py>=2.2.0 in /usr/local/lib/python3.10/dist-packages (from rich<14,>=10.14.0->streamlit) (3.0.0)\n",
            "Requirement already satisfied: pygments<3.0.0,>=2.13.0 in /usr/local/lib/python3.10/dist-packages (from rich<14,>=10.14.0->streamlit) (2.16.1)\n",
            "Requirement already satisfied: smmap<6,>=3.0.1 in /usr/local/lib/python3.10/dist-packages (from gitdb<5,>=4.0.1->gitpython!=3.1.19,<4,>=3.0.7->streamlit) (5.0.1)\n",
            "Requirement already satisfied: MarkupSafe>=2.0 in /usr/local/lib/python3.10/dist-packages (from jinja2->altair<6,>=4.0->streamlit) (2.1.3)\n",
            "Requirement already satisfied: attrs>=22.2.0 in /usr/local/lib/python3.10/dist-packages (from jsonschema>=3.0->altair<6,>=4.0->streamlit) (23.1.0)\n",
            "Requirement already satisfied: jsonschema-specifications>=2023.03.6 in /usr/local/lib/python3.10/dist-packages (from jsonschema>=3.0->altair<6,>=4.0->streamlit) (2023.11.2)\n",
            "Requirement already satisfied: referencing>=0.28.4 in /usr/local/lib/python3.10/dist-packages (from jsonschema>=3.0->altair<6,>=4.0->streamlit) (0.32.0)\n",
            "Requirement already satisfied: rpds-py>=0.7.1 in /usr/local/lib/python3.10/dist-packages (from jsonschema>=3.0->altair<6,>=4.0->streamlit) (0.15.2)\n",
            "Requirement already satisfied: mdurl~=0.1 in /usr/local/lib/python3.10/dist-packages (from markdown-it-py>=2.2.0->rich<14,>=10.14.0->streamlit) (0.1.2)\n",
            "\u001b[K\u001b[?25h\u001b[37;40mnpm\u001b[0m \u001b[0m\u001b[30;43mWARN\u001b[0m \u001b[0m\u001b[35msaveError\u001b[0m ENOENT: no such file or directory, open '/content/package.json'\n",
            "\u001b[0m\u001b[37;40mnpm\u001b[0m \u001b[0m\u001b[30;43mWARN\u001b[0m \u001b[0m\u001b[35menoent\u001b[0m ENOENT: no such file or directory, open '/content/package.json'\n",
            "\u001b[0m\u001b[37;40mnpm\u001b[0m \u001b[0m\u001b[30;43mWARN\u001b[0m\u001b[35m\u001b[0m content No description\n",
            "\u001b[0m\u001b[37;40mnpm\u001b[0m \u001b[0m\u001b[30;43mWARN\u001b[0m\u001b[35m\u001b[0m content No repository field.\n",
            "\u001b[0m\u001b[37;40mnpm\u001b[0m \u001b[0m\u001b[30;43mWARN\u001b[0m\u001b[35m\u001b[0m content No README data\n",
            "\u001b[0m\u001b[37;40mnpm\u001b[0m \u001b[0m\u001b[30;43mWARN\u001b[0m\u001b[35m\u001b[0m content No license field.\n",
            "\u001b[0m\n",
            "\u001b[K\u001b[?25h+ localtunnel@2.0.2\n",
            "updated 1 package and audited 36 packages in 0.655s\n",
            "\n",
            "3 packages are looking for funding\n",
            "  run `npm fund` for details\n",
            "\n",
            "found 2 \u001b[93mmoderate\u001b[0m severity vulnerabilities\n",
            "  run `npm audit fix` to fix them, or `npm audit` for details\n"
          ]
        }
      ],
      "source": [
        "!pip install pandas-profiling\n",
        "!pip install streamlit\n",
        "!npm install localtunnel"
      ]
    },
    {
      "cell_type": "code",
      "execution_count": null,
      "metadata": {
        "id": "bbJ186eYbwSV"
      },
      "outputs": [],
      "source": [
        "import pathlib\n",
        "import datetime\n",
        "import seaborn as sns\n",
        "import matplotlib.pyplot as plt\n",
        "import geopandas as gpd\n",
        "import os\n",
        "import numpy as np\n",
        "import pandas as pd\n",
        "import plotly.express as px\n",
        "import plotly.graph_objects as go\n",
        "\n",
        "from ydata_profiling import ProfileReport\n",
        "from tabulate import tabulate\n",
        "from time import sleep\n",
        "\n",
        "%matplotlib inline"
      ]
    },
    {
      "cell_type": "code",
      "execution_count": null,
      "metadata": {
        "id": "rrgwagAUQncC",
        "colab": {
          "base_uri": "https://localhost:8080/",
          "height": 35
        },
        "outputId": "76bdd6a3-74e5-435a-ebb4-e085a3aa249e"
      },
      "outputs": [
        {
          "output_type": "execute_result",
          "data": {
            "text/plain": [
              "\"from google.colab import drive\\ndrive.mount('/content/drive') #\""
            ],
            "application/vnd.google.colaboratory.intrinsic+json": {
              "type": "string"
            }
          },
          "metadata": {},
          "execution_count": 3
        }
      ],
      "source": [
        "'''from google.colab import drive\n",
        "drive.mount('/content/drive') #'''"
      ]
    },
    {
      "cell_type": "code",
      "execution_count": null,
      "metadata": {
        "id": "pSXOYp53b6bu",
        "colab": {
          "base_uri": "https://localhost:8080/",
          "height": 35
        },
        "outputId": "18897293-5055-4f0d-f1a1-1081eaa7fd0a"
      },
      "outputs": [
        {
          "output_type": "execute_result",
          "data": {
            "text/plain": [
              "\"MAIN_PATH = str(pathlib.Path().resolve())\\nWORK_PATH = MAIN_PATH + '/drive/MyDrive/Workspace'\\nSOURCE_PATH = WORK_PATH + '/00_Data_Source'\\nCACHE_PATH = WORK_PATH + '/00_Cache_Data' #\""
            ],
            "application/vnd.google.colaboratory.intrinsic+json": {
              "type": "string"
            }
          },
          "metadata": {},
          "execution_count": 4
        }
      ],
      "source": [
        "'''MAIN_PATH = str(pathlib.Path().resolve())\n",
        "WORK_PATH = MAIN_PATH + '/drive/MyDrive/Workspace'\n",
        "SOURCE_PATH = WORK_PATH + '/00_Data_Source'\n",
        "CACHE_PATH = WORK_PATH + '/00_Cache_Data' #'''"
      ]
    },
    {
      "cell_type": "markdown",
      "metadata": {
        "id": "0PL56c4YuH6y"
      },
      "source": [
        "## 01 Choosing & Importing Dataset"
      ]
    },
    {
      "cell_type": "markdown",
      "metadata": {
        "id": "IqJI4S_NNrVf"
      },
      "source": [
        "### 01.01 Importing Main Data"
      ]
    },
    {
      "cell_type": "code",
      "execution_count": null,
      "metadata": {
        "id": "XKZeeC_yuomA",
        "colab": {
          "base_uri": "https://localhost:8080/",
          "height": 112
        },
        "outputId": "07091294-4911-4bff-cba7-503224b6ec71"
      },
      "outputs": [
        {
          "output_type": "execute_result",
          "data": {
            "text/plain": [
              "   index Month and Year    State  Civilian Population  Total Labor Force  \\\n",
              "0      0   January 1976  Alabama              2605000            1492409   \n",
              "1      1   January 1976   Alaska               232000             159154   \n",
              "\n",
              "   Percent of Population  Employed - Total  Employed - Percent of Population  \\\n",
              "0                   57.3           1392154                              53.4   \n",
              "1                   68.6            147809                              63.7   \n",
              "\n",
              "   Unemployed - Total  Unemployed - Percent of Labor Force  \n",
              "0              100255                                  6.7  \n",
              "1               11345                                  7.1  "
            ],
            "text/html": [
              "\n",
              "  <div id=\"df-730b4b1c-43fe-4b7b-b8dc-bc4ac68673ae\" class=\"colab-df-container\">\n",
              "    <div>\n",
              "<style scoped>\n",
              "    .dataframe tbody tr th:only-of-type {\n",
              "        vertical-align: middle;\n",
              "    }\n",
              "\n",
              "    .dataframe tbody tr th {\n",
              "        vertical-align: top;\n",
              "    }\n",
              "\n",
              "    .dataframe thead th {\n",
              "        text-align: right;\n",
              "    }\n",
              "</style>\n",
              "<table border=\"1\" class=\"dataframe\">\n",
              "  <thead>\n",
              "    <tr style=\"text-align: right;\">\n",
              "      <th></th>\n",
              "      <th>index</th>\n",
              "      <th>Month and Year</th>\n",
              "      <th>State</th>\n",
              "      <th>Civilian Population</th>\n",
              "      <th>Total Labor Force</th>\n",
              "      <th>Percent of Population</th>\n",
              "      <th>Employed - Total</th>\n",
              "      <th>Employed - Percent of Population</th>\n",
              "      <th>Unemployed - Total</th>\n",
              "      <th>Unemployed - Percent of Labor Force</th>\n",
              "    </tr>\n",
              "  </thead>\n",
              "  <tbody>\n",
              "    <tr>\n",
              "      <th>0</th>\n",
              "      <td>0</td>\n",
              "      <td>January 1976</td>\n",
              "      <td>Alabama</td>\n",
              "      <td>2605000</td>\n",
              "      <td>1492409</td>\n",
              "      <td>57.3</td>\n",
              "      <td>1392154</td>\n",
              "      <td>53.4</td>\n",
              "      <td>100255</td>\n",
              "      <td>6.7</td>\n",
              "    </tr>\n",
              "    <tr>\n",
              "      <th>1</th>\n",
              "      <td>1</td>\n",
              "      <td>January 1976</td>\n",
              "      <td>Alaska</td>\n",
              "      <td>232000</td>\n",
              "      <td>159154</td>\n",
              "      <td>68.6</td>\n",
              "      <td>147809</td>\n",
              "      <td>63.7</td>\n",
              "      <td>11345</td>\n",
              "      <td>7.1</td>\n",
              "    </tr>\n",
              "  </tbody>\n",
              "</table>\n",
              "</div>\n",
              "    <div class=\"colab-df-buttons\">\n",
              "\n",
              "  <div class=\"colab-df-container\">\n",
              "    <button class=\"colab-df-convert\" onclick=\"convertToInteractive('df-730b4b1c-43fe-4b7b-b8dc-bc4ac68673ae')\"\n",
              "            title=\"Convert this dataframe to an interactive table.\"\n",
              "            style=\"display:none;\">\n",
              "\n",
              "  <svg xmlns=\"http://www.w3.org/2000/svg\" height=\"24px\" viewBox=\"0 -960 960 960\">\n",
              "    <path d=\"M120-120v-720h720v720H120Zm60-500h600v-160H180v160Zm220 220h160v-160H400v160Zm0 220h160v-160H400v160ZM180-400h160v-160H180v160Zm440 0h160v-160H620v160ZM180-180h160v-160H180v160Zm440 0h160v-160H620v160Z\"/>\n",
              "  </svg>\n",
              "    </button>\n",
              "\n",
              "  <style>\n",
              "    .colab-df-container {\n",
              "      display:flex;\n",
              "      gap: 12px;\n",
              "    }\n",
              "\n",
              "    .colab-df-convert {\n",
              "      background-color: #E8F0FE;\n",
              "      border: none;\n",
              "      border-radius: 50%;\n",
              "      cursor: pointer;\n",
              "      display: none;\n",
              "      fill: #1967D2;\n",
              "      height: 32px;\n",
              "      padding: 0 0 0 0;\n",
              "      width: 32px;\n",
              "    }\n",
              "\n",
              "    .colab-df-convert:hover {\n",
              "      background-color: #E2EBFA;\n",
              "      box-shadow: 0px 1px 2px rgba(60, 64, 67, 0.3), 0px 1px 3px 1px rgba(60, 64, 67, 0.15);\n",
              "      fill: #174EA6;\n",
              "    }\n",
              "\n",
              "    .colab-df-buttons div {\n",
              "      margin-bottom: 4px;\n",
              "    }\n",
              "\n",
              "    [theme=dark] .colab-df-convert {\n",
              "      background-color: #3B4455;\n",
              "      fill: #D2E3FC;\n",
              "    }\n",
              "\n",
              "    [theme=dark] .colab-df-convert:hover {\n",
              "      background-color: #434B5C;\n",
              "      box-shadow: 0px 1px 3px 1px rgba(0, 0, 0, 0.15);\n",
              "      filter: drop-shadow(0px 1px 2px rgba(0, 0, 0, 0.3));\n",
              "      fill: #FFFFFF;\n",
              "    }\n",
              "  </style>\n",
              "\n",
              "    <script>\n",
              "      const buttonEl =\n",
              "        document.querySelector('#df-730b4b1c-43fe-4b7b-b8dc-bc4ac68673ae button.colab-df-convert');\n",
              "      buttonEl.style.display =\n",
              "        google.colab.kernel.accessAllowed ? 'block' : 'none';\n",
              "\n",
              "      async function convertToInteractive(key) {\n",
              "        const element = document.querySelector('#df-730b4b1c-43fe-4b7b-b8dc-bc4ac68673ae');\n",
              "        const dataTable =\n",
              "          await google.colab.kernel.invokeFunction('convertToInteractive',\n",
              "                                                    [key], {});\n",
              "        if (!dataTable) return;\n",
              "\n",
              "        const docLinkHtml = 'Like what you see? Visit the ' +\n",
              "          '<a target=\"_blank\" href=https://colab.research.google.com/notebooks/data_table.ipynb>data table notebook</a>'\n",
              "          + ' to learn more about interactive tables.';\n",
              "        element.innerHTML = '';\n",
              "        dataTable['output_type'] = 'display_data';\n",
              "        await google.colab.output.renderOutput(dataTable, element);\n",
              "        const docLink = document.createElement('div');\n",
              "        docLink.innerHTML = docLinkHtml;\n",
              "        element.appendChild(docLink);\n",
              "      }\n",
              "    </script>\n",
              "  </div>\n",
              "\n",
              "\n",
              "<div id=\"df-96e4ed81-66cb-4487-a8d4-8aa293202419\">\n",
              "  <button class=\"colab-df-quickchart\" onclick=\"quickchart('df-96e4ed81-66cb-4487-a8d4-8aa293202419')\"\n",
              "            title=\"Suggest charts\"\n",
              "            style=\"display:none;\">\n",
              "\n",
              "<svg xmlns=\"http://www.w3.org/2000/svg\" height=\"24px\"viewBox=\"0 0 24 24\"\n",
              "     width=\"24px\">\n",
              "    <g>\n",
              "        <path d=\"M19 3H5c-1.1 0-2 .9-2 2v14c0 1.1.9 2 2 2h14c1.1 0 2-.9 2-2V5c0-1.1-.9-2-2-2zM9 17H7v-7h2v7zm4 0h-2V7h2v10zm4 0h-2v-4h2v4z\"/>\n",
              "    </g>\n",
              "</svg>\n",
              "  </button>\n",
              "\n",
              "<style>\n",
              "  .colab-df-quickchart {\n",
              "      --bg-color: #E8F0FE;\n",
              "      --fill-color: #1967D2;\n",
              "      --hover-bg-color: #E2EBFA;\n",
              "      --hover-fill-color: #174EA6;\n",
              "      --disabled-fill-color: #AAA;\n",
              "      --disabled-bg-color: #DDD;\n",
              "  }\n",
              "\n",
              "  [theme=dark] .colab-df-quickchart {\n",
              "      --bg-color: #3B4455;\n",
              "      --fill-color: #D2E3FC;\n",
              "      --hover-bg-color: #434B5C;\n",
              "      --hover-fill-color: #FFFFFF;\n",
              "      --disabled-bg-color: #3B4455;\n",
              "      --disabled-fill-color: #666;\n",
              "  }\n",
              "\n",
              "  .colab-df-quickchart {\n",
              "    background-color: var(--bg-color);\n",
              "    border: none;\n",
              "    border-radius: 50%;\n",
              "    cursor: pointer;\n",
              "    display: none;\n",
              "    fill: var(--fill-color);\n",
              "    height: 32px;\n",
              "    padding: 0;\n",
              "    width: 32px;\n",
              "  }\n",
              "\n",
              "  .colab-df-quickchart:hover {\n",
              "    background-color: var(--hover-bg-color);\n",
              "    box-shadow: 0 1px 2px rgba(60, 64, 67, 0.3), 0 1px 3px 1px rgba(60, 64, 67, 0.15);\n",
              "    fill: var(--button-hover-fill-color);\n",
              "  }\n",
              "\n",
              "  .colab-df-quickchart-complete:disabled,\n",
              "  .colab-df-quickchart-complete:disabled:hover {\n",
              "    background-color: var(--disabled-bg-color);\n",
              "    fill: var(--disabled-fill-color);\n",
              "    box-shadow: none;\n",
              "  }\n",
              "\n",
              "  .colab-df-spinner {\n",
              "    border: 2px solid var(--fill-color);\n",
              "    border-color: transparent;\n",
              "    border-bottom-color: var(--fill-color);\n",
              "    animation:\n",
              "      spin 1s steps(1) infinite;\n",
              "  }\n",
              "\n",
              "  @keyframes spin {\n",
              "    0% {\n",
              "      border-color: transparent;\n",
              "      border-bottom-color: var(--fill-color);\n",
              "      border-left-color: var(--fill-color);\n",
              "    }\n",
              "    20% {\n",
              "      border-color: transparent;\n",
              "      border-left-color: var(--fill-color);\n",
              "      border-top-color: var(--fill-color);\n",
              "    }\n",
              "    30% {\n",
              "      border-color: transparent;\n",
              "      border-left-color: var(--fill-color);\n",
              "      border-top-color: var(--fill-color);\n",
              "      border-right-color: var(--fill-color);\n",
              "    }\n",
              "    40% {\n",
              "      border-color: transparent;\n",
              "      border-right-color: var(--fill-color);\n",
              "      border-top-color: var(--fill-color);\n",
              "    }\n",
              "    60% {\n",
              "      border-color: transparent;\n",
              "      border-right-color: var(--fill-color);\n",
              "    }\n",
              "    80% {\n",
              "      border-color: transparent;\n",
              "      border-right-color: var(--fill-color);\n",
              "      border-bottom-color: var(--fill-color);\n",
              "    }\n",
              "    90% {\n",
              "      border-color: transparent;\n",
              "      border-bottom-color: var(--fill-color);\n",
              "    }\n",
              "  }\n",
              "</style>\n",
              "\n",
              "  <script>\n",
              "    async function quickchart(key) {\n",
              "      const quickchartButtonEl =\n",
              "        document.querySelector('#' + key + ' button');\n",
              "      quickchartButtonEl.disabled = true;  // To prevent multiple clicks.\n",
              "      quickchartButtonEl.classList.add('colab-df-spinner');\n",
              "      try {\n",
              "        const charts = await google.colab.kernel.invokeFunction(\n",
              "            'suggestCharts', [key], {});\n",
              "      } catch (error) {\n",
              "        console.error('Error during call to suggestCharts:', error);\n",
              "      }\n",
              "      quickchartButtonEl.classList.remove('colab-df-spinner');\n",
              "      quickchartButtonEl.classList.add('colab-df-quickchart-complete');\n",
              "    }\n",
              "    (() => {\n",
              "      let quickchartButtonEl =\n",
              "        document.querySelector('#df-96e4ed81-66cb-4487-a8d4-8aa293202419 button');\n",
              "      quickchartButtonEl.style.display =\n",
              "        google.colab.kernel.accessAllowed ? 'block' : 'none';\n",
              "    })();\n",
              "  </script>\n",
              "</div>\n",
              "    </div>\n",
              "  </div>\n"
            ]
          },
          "metadata": {},
          "execution_count": 5
        }
      ],
      "source": [
        "dataset_path = 'https://raw.githubusercontent.com/azzindani/00_Data_Source/main/US_Unemployment.csv'\n",
        "df = pd.read_csv(dataset_path)\n",
        "df.head(2)"
      ]
    },
    {
      "cell_type": "markdown",
      "metadata": {
        "id": "ijGWg9ve51iA"
      },
      "source": [
        "### 01.02 Importing Geo Data"
      ]
    },
    {
      "cell_type": "code",
      "execution_count": null,
      "metadata": {
        "id": "ci2aFwWG51Gn",
        "colab": {
          "base_uri": "https://localhost:8080/",
          "height": 112
        },
        "outputId": "5f62d3f9-ee3f-4a3a-a130-86c56db04cfc"
      },
      "outputs": [
        {
          "output_type": "execute_result",
          "data": {
            "text/plain": [
              "   id     name  density                                           geometry\n",
              "0  01  Alabama   94.650  POLYGON ((-87.35930 35.00118, -85.60667 34.984...\n",
              "1  02   Alaska    1.264  MULTIPOLYGON (((-131.60202 55.11798, -131.5691..."
            ],
            "text/html": [
              "\n",
              "  <div id=\"df-c8ede15b-06f7-4b09-958b-e0eb4471378e\" class=\"colab-df-container\">\n",
              "    <div>\n",
              "<style scoped>\n",
              "    .dataframe tbody tr th:only-of-type {\n",
              "        vertical-align: middle;\n",
              "    }\n",
              "\n",
              "    .dataframe tbody tr th {\n",
              "        vertical-align: top;\n",
              "    }\n",
              "\n",
              "    .dataframe thead th {\n",
              "        text-align: right;\n",
              "    }\n",
              "</style>\n",
              "<table border=\"1\" class=\"dataframe\">\n",
              "  <thead>\n",
              "    <tr style=\"text-align: right;\">\n",
              "      <th></th>\n",
              "      <th>id</th>\n",
              "      <th>name</th>\n",
              "      <th>density</th>\n",
              "      <th>geometry</th>\n",
              "    </tr>\n",
              "  </thead>\n",
              "  <tbody>\n",
              "    <tr>\n",
              "      <th>0</th>\n",
              "      <td>01</td>\n",
              "      <td>Alabama</td>\n",
              "      <td>94.650</td>\n",
              "      <td>POLYGON ((-87.35930 35.00118, -85.60667 34.984...</td>\n",
              "    </tr>\n",
              "    <tr>\n",
              "      <th>1</th>\n",
              "      <td>02</td>\n",
              "      <td>Alaska</td>\n",
              "      <td>1.264</td>\n",
              "      <td>MULTIPOLYGON (((-131.60202 55.11798, -131.5691...</td>\n",
              "    </tr>\n",
              "  </tbody>\n",
              "</table>\n",
              "</div>\n",
              "    <div class=\"colab-df-buttons\">\n",
              "\n",
              "  <div class=\"colab-df-container\">\n",
              "    <button class=\"colab-df-convert\" onclick=\"convertToInteractive('df-c8ede15b-06f7-4b09-958b-e0eb4471378e')\"\n",
              "            title=\"Convert this dataframe to an interactive table.\"\n",
              "            style=\"display:none;\">\n",
              "\n",
              "  <svg xmlns=\"http://www.w3.org/2000/svg\" height=\"24px\" viewBox=\"0 -960 960 960\">\n",
              "    <path d=\"M120-120v-720h720v720H120Zm60-500h600v-160H180v160Zm220 220h160v-160H400v160Zm0 220h160v-160H400v160ZM180-400h160v-160H180v160Zm440 0h160v-160H620v160ZM180-180h160v-160H180v160Zm440 0h160v-160H620v160Z\"/>\n",
              "  </svg>\n",
              "    </button>\n",
              "\n",
              "  <style>\n",
              "    .colab-df-container {\n",
              "      display:flex;\n",
              "      gap: 12px;\n",
              "    }\n",
              "\n",
              "    .colab-df-convert {\n",
              "      background-color: #E8F0FE;\n",
              "      border: none;\n",
              "      border-radius: 50%;\n",
              "      cursor: pointer;\n",
              "      display: none;\n",
              "      fill: #1967D2;\n",
              "      height: 32px;\n",
              "      padding: 0 0 0 0;\n",
              "      width: 32px;\n",
              "    }\n",
              "\n",
              "    .colab-df-convert:hover {\n",
              "      background-color: #E2EBFA;\n",
              "      box-shadow: 0px 1px 2px rgba(60, 64, 67, 0.3), 0px 1px 3px 1px rgba(60, 64, 67, 0.15);\n",
              "      fill: #174EA6;\n",
              "    }\n",
              "\n",
              "    .colab-df-buttons div {\n",
              "      margin-bottom: 4px;\n",
              "    }\n",
              "\n",
              "    [theme=dark] .colab-df-convert {\n",
              "      background-color: #3B4455;\n",
              "      fill: #D2E3FC;\n",
              "    }\n",
              "\n",
              "    [theme=dark] .colab-df-convert:hover {\n",
              "      background-color: #434B5C;\n",
              "      box-shadow: 0px 1px 3px 1px rgba(0, 0, 0, 0.15);\n",
              "      filter: drop-shadow(0px 1px 2px rgba(0, 0, 0, 0.3));\n",
              "      fill: #FFFFFF;\n",
              "    }\n",
              "  </style>\n",
              "\n",
              "    <script>\n",
              "      const buttonEl =\n",
              "        document.querySelector('#df-c8ede15b-06f7-4b09-958b-e0eb4471378e button.colab-df-convert');\n",
              "      buttonEl.style.display =\n",
              "        google.colab.kernel.accessAllowed ? 'block' : 'none';\n",
              "\n",
              "      async function convertToInteractive(key) {\n",
              "        const element = document.querySelector('#df-c8ede15b-06f7-4b09-958b-e0eb4471378e');\n",
              "        const dataTable =\n",
              "          await google.colab.kernel.invokeFunction('convertToInteractive',\n",
              "                                                    [key], {});\n",
              "        if (!dataTable) return;\n",
              "\n",
              "        const docLinkHtml = 'Like what you see? Visit the ' +\n",
              "          '<a target=\"_blank\" href=https://colab.research.google.com/notebooks/data_table.ipynb>data table notebook</a>'\n",
              "          + ' to learn more about interactive tables.';\n",
              "        element.innerHTML = '';\n",
              "        dataTable['output_type'] = 'display_data';\n",
              "        await google.colab.output.renderOutput(dataTable, element);\n",
              "        const docLink = document.createElement('div');\n",
              "        docLink.innerHTML = docLinkHtml;\n",
              "        element.appendChild(docLink);\n",
              "      }\n",
              "    </script>\n",
              "  </div>\n",
              "\n",
              "\n",
              "<div id=\"df-373c814b-7c18-432d-ae98-71a45bce766c\">\n",
              "  <button class=\"colab-df-quickchart\" onclick=\"quickchart('df-373c814b-7c18-432d-ae98-71a45bce766c')\"\n",
              "            title=\"Suggest charts\"\n",
              "            style=\"display:none;\">\n",
              "\n",
              "<svg xmlns=\"http://www.w3.org/2000/svg\" height=\"24px\"viewBox=\"0 0 24 24\"\n",
              "     width=\"24px\">\n",
              "    <g>\n",
              "        <path d=\"M19 3H5c-1.1 0-2 .9-2 2v14c0 1.1.9 2 2 2h14c1.1 0 2-.9 2-2V5c0-1.1-.9-2-2-2zM9 17H7v-7h2v7zm4 0h-2V7h2v10zm4 0h-2v-4h2v4z\"/>\n",
              "    </g>\n",
              "</svg>\n",
              "  </button>\n",
              "\n",
              "<style>\n",
              "  .colab-df-quickchart {\n",
              "      --bg-color: #E8F0FE;\n",
              "      --fill-color: #1967D2;\n",
              "      --hover-bg-color: #E2EBFA;\n",
              "      --hover-fill-color: #174EA6;\n",
              "      --disabled-fill-color: #AAA;\n",
              "      --disabled-bg-color: #DDD;\n",
              "  }\n",
              "\n",
              "  [theme=dark] .colab-df-quickchart {\n",
              "      --bg-color: #3B4455;\n",
              "      --fill-color: #D2E3FC;\n",
              "      --hover-bg-color: #434B5C;\n",
              "      --hover-fill-color: #FFFFFF;\n",
              "      --disabled-bg-color: #3B4455;\n",
              "      --disabled-fill-color: #666;\n",
              "  }\n",
              "\n",
              "  .colab-df-quickchart {\n",
              "    background-color: var(--bg-color);\n",
              "    border: none;\n",
              "    border-radius: 50%;\n",
              "    cursor: pointer;\n",
              "    display: none;\n",
              "    fill: var(--fill-color);\n",
              "    height: 32px;\n",
              "    padding: 0;\n",
              "    width: 32px;\n",
              "  }\n",
              "\n",
              "  .colab-df-quickchart:hover {\n",
              "    background-color: var(--hover-bg-color);\n",
              "    box-shadow: 0 1px 2px rgba(60, 64, 67, 0.3), 0 1px 3px 1px rgba(60, 64, 67, 0.15);\n",
              "    fill: var(--button-hover-fill-color);\n",
              "  }\n",
              "\n",
              "  .colab-df-quickchart-complete:disabled,\n",
              "  .colab-df-quickchart-complete:disabled:hover {\n",
              "    background-color: var(--disabled-bg-color);\n",
              "    fill: var(--disabled-fill-color);\n",
              "    box-shadow: none;\n",
              "  }\n",
              "\n",
              "  .colab-df-spinner {\n",
              "    border: 2px solid var(--fill-color);\n",
              "    border-color: transparent;\n",
              "    border-bottom-color: var(--fill-color);\n",
              "    animation:\n",
              "      spin 1s steps(1) infinite;\n",
              "  }\n",
              "\n",
              "  @keyframes spin {\n",
              "    0% {\n",
              "      border-color: transparent;\n",
              "      border-bottom-color: var(--fill-color);\n",
              "      border-left-color: var(--fill-color);\n",
              "    }\n",
              "    20% {\n",
              "      border-color: transparent;\n",
              "      border-left-color: var(--fill-color);\n",
              "      border-top-color: var(--fill-color);\n",
              "    }\n",
              "    30% {\n",
              "      border-color: transparent;\n",
              "      border-left-color: var(--fill-color);\n",
              "      border-top-color: var(--fill-color);\n",
              "      border-right-color: var(--fill-color);\n",
              "    }\n",
              "    40% {\n",
              "      border-color: transparent;\n",
              "      border-right-color: var(--fill-color);\n",
              "      border-top-color: var(--fill-color);\n",
              "    }\n",
              "    60% {\n",
              "      border-color: transparent;\n",
              "      border-right-color: var(--fill-color);\n",
              "    }\n",
              "    80% {\n",
              "      border-color: transparent;\n",
              "      border-right-color: var(--fill-color);\n",
              "      border-bottom-color: var(--fill-color);\n",
              "    }\n",
              "    90% {\n",
              "      border-color: transparent;\n",
              "      border-bottom-color: var(--fill-color);\n",
              "    }\n",
              "  }\n",
              "</style>\n",
              "\n",
              "  <script>\n",
              "    async function quickchart(key) {\n",
              "      const quickchartButtonEl =\n",
              "        document.querySelector('#' + key + ' button');\n",
              "      quickchartButtonEl.disabled = true;  // To prevent multiple clicks.\n",
              "      quickchartButtonEl.classList.add('colab-df-spinner');\n",
              "      try {\n",
              "        const charts = await google.colab.kernel.invokeFunction(\n",
              "            'suggestCharts', [key], {});\n",
              "      } catch (error) {\n",
              "        console.error('Error during call to suggestCharts:', error);\n",
              "      }\n",
              "      quickchartButtonEl.classList.remove('colab-df-spinner');\n",
              "      quickchartButtonEl.classList.add('colab-df-quickchart-complete');\n",
              "    }\n",
              "    (() => {\n",
              "      let quickchartButtonEl =\n",
              "        document.querySelector('#df-373c814b-7c18-432d-ae98-71a45bce766c button');\n",
              "      quickchartButtonEl.style.display =\n",
              "        google.colab.kernel.accessAllowed ? 'block' : 'none';\n",
              "    })();\n",
              "  </script>\n",
              "</div>\n",
              "    </div>\n",
              "  </div>\n"
            ]
          },
          "metadata": {},
          "execution_count": 6
        }
      ],
      "source": [
        "gdf = gpd.read_file('https://raw.githubusercontent.com/PublicaMundi/MappingAPI/master/data/geojson/us-states.json')\n",
        "gdf.head(2) #'''"
      ]
    },
    {
      "cell_type": "code",
      "execution_count": null,
      "metadata": {
        "id": "MAH6j1dF58sH",
        "colab": {
          "base_uri": "https://localhost:8080/",
          "height": 112
        },
        "outputId": "45e03130-9bce-4502-b384-0ee02b499c4c"
      },
      "outputs": [
        {
          "output_type": "execute_result",
          "data": {
            "text/plain": [
              "     State                                           geometry\n",
              "0  Alabama  POLYGON ((-87.35930 35.00118, -85.60667 34.984...\n",
              "1   Alaska  MULTIPOLYGON (((-131.60202 55.11798, -131.5691..."
            ],
            "text/html": [
              "\n",
              "  <div id=\"df-5ad49de0-fc1e-4945-9b47-7d786057e1cf\" class=\"colab-df-container\">\n",
              "    <div>\n",
              "<style scoped>\n",
              "    .dataframe tbody tr th:only-of-type {\n",
              "        vertical-align: middle;\n",
              "    }\n",
              "\n",
              "    .dataframe tbody tr th {\n",
              "        vertical-align: top;\n",
              "    }\n",
              "\n",
              "    .dataframe thead th {\n",
              "        text-align: right;\n",
              "    }\n",
              "</style>\n",
              "<table border=\"1\" class=\"dataframe\">\n",
              "  <thead>\n",
              "    <tr style=\"text-align: right;\">\n",
              "      <th></th>\n",
              "      <th>State</th>\n",
              "      <th>geometry</th>\n",
              "    </tr>\n",
              "  </thead>\n",
              "  <tbody>\n",
              "    <tr>\n",
              "      <th>0</th>\n",
              "      <td>Alabama</td>\n",
              "      <td>POLYGON ((-87.35930 35.00118, -85.60667 34.984...</td>\n",
              "    </tr>\n",
              "    <tr>\n",
              "      <th>1</th>\n",
              "      <td>Alaska</td>\n",
              "      <td>MULTIPOLYGON (((-131.60202 55.11798, -131.5691...</td>\n",
              "    </tr>\n",
              "  </tbody>\n",
              "</table>\n",
              "</div>\n",
              "    <div class=\"colab-df-buttons\">\n",
              "\n",
              "  <div class=\"colab-df-container\">\n",
              "    <button class=\"colab-df-convert\" onclick=\"convertToInteractive('df-5ad49de0-fc1e-4945-9b47-7d786057e1cf')\"\n",
              "            title=\"Convert this dataframe to an interactive table.\"\n",
              "            style=\"display:none;\">\n",
              "\n",
              "  <svg xmlns=\"http://www.w3.org/2000/svg\" height=\"24px\" viewBox=\"0 -960 960 960\">\n",
              "    <path d=\"M120-120v-720h720v720H120Zm60-500h600v-160H180v160Zm220 220h160v-160H400v160Zm0 220h160v-160H400v160ZM180-400h160v-160H180v160Zm440 0h160v-160H620v160ZM180-180h160v-160H180v160Zm440 0h160v-160H620v160Z\"/>\n",
              "  </svg>\n",
              "    </button>\n",
              "\n",
              "  <style>\n",
              "    .colab-df-container {\n",
              "      display:flex;\n",
              "      gap: 12px;\n",
              "    }\n",
              "\n",
              "    .colab-df-convert {\n",
              "      background-color: #E8F0FE;\n",
              "      border: none;\n",
              "      border-radius: 50%;\n",
              "      cursor: pointer;\n",
              "      display: none;\n",
              "      fill: #1967D2;\n",
              "      height: 32px;\n",
              "      padding: 0 0 0 0;\n",
              "      width: 32px;\n",
              "    }\n",
              "\n",
              "    .colab-df-convert:hover {\n",
              "      background-color: #E2EBFA;\n",
              "      box-shadow: 0px 1px 2px rgba(60, 64, 67, 0.3), 0px 1px 3px 1px rgba(60, 64, 67, 0.15);\n",
              "      fill: #174EA6;\n",
              "    }\n",
              "\n",
              "    .colab-df-buttons div {\n",
              "      margin-bottom: 4px;\n",
              "    }\n",
              "\n",
              "    [theme=dark] .colab-df-convert {\n",
              "      background-color: #3B4455;\n",
              "      fill: #D2E3FC;\n",
              "    }\n",
              "\n",
              "    [theme=dark] .colab-df-convert:hover {\n",
              "      background-color: #434B5C;\n",
              "      box-shadow: 0px 1px 3px 1px rgba(0, 0, 0, 0.15);\n",
              "      filter: drop-shadow(0px 1px 2px rgba(0, 0, 0, 0.3));\n",
              "      fill: #FFFFFF;\n",
              "    }\n",
              "  </style>\n",
              "\n",
              "    <script>\n",
              "      const buttonEl =\n",
              "        document.querySelector('#df-5ad49de0-fc1e-4945-9b47-7d786057e1cf button.colab-df-convert');\n",
              "      buttonEl.style.display =\n",
              "        google.colab.kernel.accessAllowed ? 'block' : 'none';\n",
              "\n",
              "      async function convertToInteractive(key) {\n",
              "        const element = document.querySelector('#df-5ad49de0-fc1e-4945-9b47-7d786057e1cf');\n",
              "        const dataTable =\n",
              "          await google.colab.kernel.invokeFunction('convertToInteractive',\n",
              "                                                    [key], {});\n",
              "        if (!dataTable) return;\n",
              "\n",
              "        const docLinkHtml = 'Like what you see? Visit the ' +\n",
              "          '<a target=\"_blank\" href=https://colab.research.google.com/notebooks/data_table.ipynb>data table notebook</a>'\n",
              "          + ' to learn more about interactive tables.';\n",
              "        element.innerHTML = '';\n",
              "        dataTable['output_type'] = 'display_data';\n",
              "        await google.colab.output.renderOutput(dataTable, element);\n",
              "        const docLink = document.createElement('div');\n",
              "        docLink.innerHTML = docLinkHtml;\n",
              "        element.appendChild(docLink);\n",
              "      }\n",
              "    </script>\n",
              "  </div>\n",
              "\n",
              "\n",
              "<div id=\"df-8c8864ee-deee-4c82-a219-f739f56e2e3f\">\n",
              "  <button class=\"colab-df-quickchart\" onclick=\"quickchart('df-8c8864ee-deee-4c82-a219-f739f56e2e3f')\"\n",
              "            title=\"Suggest charts\"\n",
              "            style=\"display:none;\">\n",
              "\n",
              "<svg xmlns=\"http://www.w3.org/2000/svg\" height=\"24px\"viewBox=\"0 0 24 24\"\n",
              "     width=\"24px\">\n",
              "    <g>\n",
              "        <path d=\"M19 3H5c-1.1 0-2 .9-2 2v14c0 1.1.9 2 2 2h14c1.1 0 2-.9 2-2V5c0-1.1-.9-2-2-2zM9 17H7v-7h2v7zm4 0h-2V7h2v10zm4 0h-2v-4h2v4z\"/>\n",
              "    </g>\n",
              "</svg>\n",
              "  </button>\n",
              "\n",
              "<style>\n",
              "  .colab-df-quickchart {\n",
              "      --bg-color: #E8F0FE;\n",
              "      --fill-color: #1967D2;\n",
              "      --hover-bg-color: #E2EBFA;\n",
              "      --hover-fill-color: #174EA6;\n",
              "      --disabled-fill-color: #AAA;\n",
              "      --disabled-bg-color: #DDD;\n",
              "  }\n",
              "\n",
              "  [theme=dark] .colab-df-quickchart {\n",
              "      --bg-color: #3B4455;\n",
              "      --fill-color: #D2E3FC;\n",
              "      --hover-bg-color: #434B5C;\n",
              "      --hover-fill-color: #FFFFFF;\n",
              "      --disabled-bg-color: #3B4455;\n",
              "      --disabled-fill-color: #666;\n",
              "  }\n",
              "\n",
              "  .colab-df-quickchart {\n",
              "    background-color: var(--bg-color);\n",
              "    border: none;\n",
              "    border-radius: 50%;\n",
              "    cursor: pointer;\n",
              "    display: none;\n",
              "    fill: var(--fill-color);\n",
              "    height: 32px;\n",
              "    padding: 0;\n",
              "    width: 32px;\n",
              "  }\n",
              "\n",
              "  .colab-df-quickchart:hover {\n",
              "    background-color: var(--hover-bg-color);\n",
              "    box-shadow: 0 1px 2px rgba(60, 64, 67, 0.3), 0 1px 3px 1px rgba(60, 64, 67, 0.15);\n",
              "    fill: var(--button-hover-fill-color);\n",
              "  }\n",
              "\n",
              "  .colab-df-quickchart-complete:disabled,\n",
              "  .colab-df-quickchart-complete:disabled:hover {\n",
              "    background-color: var(--disabled-bg-color);\n",
              "    fill: var(--disabled-fill-color);\n",
              "    box-shadow: none;\n",
              "  }\n",
              "\n",
              "  .colab-df-spinner {\n",
              "    border: 2px solid var(--fill-color);\n",
              "    border-color: transparent;\n",
              "    border-bottom-color: var(--fill-color);\n",
              "    animation:\n",
              "      spin 1s steps(1) infinite;\n",
              "  }\n",
              "\n",
              "  @keyframes spin {\n",
              "    0% {\n",
              "      border-color: transparent;\n",
              "      border-bottom-color: var(--fill-color);\n",
              "      border-left-color: var(--fill-color);\n",
              "    }\n",
              "    20% {\n",
              "      border-color: transparent;\n",
              "      border-left-color: var(--fill-color);\n",
              "      border-top-color: var(--fill-color);\n",
              "    }\n",
              "    30% {\n",
              "      border-color: transparent;\n",
              "      border-left-color: var(--fill-color);\n",
              "      border-top-color: var(--fill-color);\n",
              "      border-right-color: var(--fill-color);\n",
              "    }\n",
              "    40% {\n",
              "      border-color: transparent;\n",
              "      border-right-color: var(--fill-color);\n",
              "      border-top-color: var(--fill-color);\n",
              "    }\n",
              "    60% {\n",
              "      border-color: transparent;\n",
              "      border-right-color: var(--fill-color);\n",
              "    }\n",
              "    80% {\n",
              "      border-color: transparent;\n",
              "      border-right-color: var(--fill-color);\n",
              "      border-bottom-color: var(--fill-color);\n",
              "    }\n",
              "    90% {\n",
              "      border-color: transparent;\n",
              "      border-bottom-color: var(--fill-color);\n",
              "    }\n",
              "  }\n",
              "</style>\n",
              "\n",
              "  <script>\n",
              "    async function quickchart(key) {\n",
              "      const quickchartButtonEl =\n",
              "        document.querySelector('#' + key + ' button');\n",
              "      quickchartButtonEl.disabled = true;  // To prevent multiple clicks.\n",
              "      quickchartButtonEl.classList.add('colab-df-spinner');\n",
              "      try {\n",
              "        const charts = await google.colab.kernel.invokeFunction(\n",
              "            'suggestCharts', [key], {});\n",
              "      } catch (error) {\n",
              "        console.error('Error during call to suggestCharts:', error);\n",
              "      }\n",
              "      quickchartButtonEl.classList.remove('colab-df-spinner');\n",
              "      quickchartButtonEl.classList.add('colab-df-quickchart-complete');\n",
              "    }\n",
              "    (() => {\n",
              "      let quickchartButtonEl =\n",
              "        document.querySelector('#df-8c8864ee-deee-4c82-a219-f739f56e2e3f button');\n",
              "      quickchartButtonEl.style.display =\n",
              "        google.colab.kernel.accessAllowed ? 'block' : 'none';\n",
              "    })();\n",
              "  </script>\n",
              "</div>\n",
              "    </div>\n",
              "  </div>\n"
            ]
          },
          "metadata": {},
          "execution_count": 7
        }
      ],
      "source": [
        "gdf = gdf.rename(columns = {'name' : 'State'})\n",
        "gdf = gdf[['State', 'geometry']]\n",
        "gdf.head(2)"
      ]
    },
    {
      "cell_type": "markdown",
      "metadata": {
        "id": "bDb0JNRq5-kL"
      },
      "source": [
        "### 01.03 Importing Additional Data (for enrichment)"
      ]
    },
    {
      "cell_type": "markdown",
      "metadata": {
        "id": "h64mxkfP2bSU"
      },
      "source": [
        "## 02 Checking Data"
      ]
    },
    {
      "cell_type": "code",
      "execution_count": null,
      "metadata": {
        "id": "St-0d98v2Myk",
        "colab": {
          "base_uri": "https://localhost:8080/"
        },
        "outputId": "dbb7d3bc-0638-4733-ec7a-b04c227faadd"
      },
      "outputs": [
        {
          "output_type": "execute_result",
          "data": {
            "text/plain": [
              "(26316, 10)"
            ]
          },
          "metadata": {},
          "execution_count": 8
        }
      ],
      "source": [
        "df.shape"
      ]
    },
    {
      "cell_type": "code",
      "execution_count": null,
      "metadata": {
        "id": "5ikQRhjF2gRm",
        "colab": {
          "base_uri": "https://localhost:8080/"
        },
        "outputId": "2d1b79a9-8c39-467d-c8d5-5e2216aa3910"
      },
      "outputs": [
        {
          "output_type": "execute_result",
          "data": {
            "text/plain": [
              "Index(['index', 'Month and Year', 'State', 'Civilian Population',\n",
              "       'Total Labor Force', 'Percent of Population', 'Employed - Total',\n",
              "       'Employed - Percent of Population', 'Unemployed - Total',\n",
              "       'Unemployed - Percent of Labor Force'],\n",
              "      dtype='object')"
            ]
          },
          "metadata": {},
          "execution_count": 9
        }
      ],
      "source": [
        "df.columns"
      ]
    },
    {
      "cell_type": "code",
      "execution_count": null,
      "metadata": {
        "id": "KbzzoKIj2iUB",
        "colab": {
          "base_uri": "https://localhost:8080/"
        },
        "outputId": "57c41590-3963-4aa8-b835-ebdc94b4f312"
      },
      "outputs": [
        {
          "output_type": "execute_result",
          "data": {
            "text/plain": [
              "index                                  26316\n",
              "Month and Year                           516\n",
              "State                                     51\n",
              "Civilian Population                    22345\n",
              "Total Labor Force                      26203\n",
              "Percent of Population                    252\n",
              "Employed - Total                       26211\n",
              "Employed - Percent of Population         303\n",
              "Unemployed - Total                     24911\n",
              "Unemployed - Percent of Labor Force      153\n",
              "dtype: int64"
            ]
          },
          "metadata": {},
          "execution_count": 10
        }
      ],
      "source": [
        "df.nunique()"
      ]
    },
    {
      "cell_type": "code",
      "execution_count": null,
      "metadata": {
        "id": "5-9KO3Mi2lKG",
        "colab": {
          "base_uri": "https://localhost:8080/"
        },
        "outputId": "06c4c0d2-d8fc-4cb3-8f4e-02097ab6af32"
      },
      "outputs": [
        {
          "output_type": "stream",
          "name": "stdout",
          "text": [
            "<class 'pandas.core.frame.DataFrame'>\n",
            "RangeIndex: 26316 entries, 0 to 26315\n",
            "Data columns (total 10 columns):\n",
            " #   Column                               Non-Null Count  Dtype  \n",
            "---  ------                               --------------  -----  \n",
            " 0   index                                26316 non-null  int64  \n",
            " 1   Month and Year                       26316 non-null  object \n",
            " 2   State                                26316 non-null  object \n",
            " 3   Civilian Population                  26316 non-null  int64  \n",
            " 4   Total Labor Force                    26316 non-null  int64  \n",
            " 5   Percent of Population                26316 non-null  float64\n",
            " 6   Employed - Total                     26316 non-null  int64  \n",
            " 7   Employed - Percent of Population     26316 non-null  float64\n",
            " 8   Unemployed - Total                   26316 non-null  int64  \n",
            " 9   Unemployed - Percent of Labor Force  26316 non-null  float64\n",
            "dtypes: float64(3), int64(5), object(2)\n",
            "memory usage: 2.0+ MB\n"
          ]
        }
      ],
      "source": [
        "df.info()"
      ]
    },
    {
      "cell_type": "markdown",
      "metadata": {
        "id": "Ofv3eTv72nkR"
      },
      "source": [
        "## 03 Data Structuring"
      ]
    },
    {
      "cell_type": "markdown",
      "metadata": {
        "id": "skphEhYa2sj-"
      },
      "source": [
        "### 03.01 Selecting & Dropping Variables"
      ]
    },
    {
      "cell_type": "markdown",
      "metadata": {
        "id": "8kkSIuDI2zpY"
      },
      "source": [
        "### 03.02 Cleaning Text Object"
      ]
    },
    {
      "cell_type": "markdown",
      "metadata": {
        "id": "gnGCmxzr22a6"
      },
      "source": [
        "#### 03.02.01 Convert Header to Proper Text"
      ]
    },
    {
      "cell_type": "code",
      "execution_count": null,
      "metadata": {
        "id": "pxibEhsD2xf-"
      },
      "outputs": [],
      "source": [
        "for x in df.columns:\n",
        "  y = x.title()\n",
        "  df = df.rename(columns = {x : y})"
      ]
    },
    {
      "cell_type": "markdown",
      "metadata": {
        "id": "I8-W_5Pq25j4"
      },
      "source": [
        "#### 03.02.02 Strip Abnormal Spaces"
      ]
    },
    {
      "cell_type": "code",
      "execution_count": null,
      "metadata": {
        "id": "IHBwRW6P27s0"
      },
      "outputs": [],
      "source": [
        "for x in df.columns:\n",
        "  if df[x].dtypes == 'object':\n",
        "    try:\n",
        "      df[x] = df[x].str.strip()\n",
        "    except:\n",
        "      pass"
      ]
    },
    {
      "cell_type": "markdown",
      "metadata": {
        "id": "3UdjluOC2_f6"
      },
      "source": [
        "#### 03.02.03 Convert Object Content to Proper Text"
      ]
    },
    {
      "cell_type": "code",
      "execution_count": null,
      "metadata": {
        "id": "PvP2ww0K3Bll"
      },
      "outputs": [],
      "source": [
        "for x in df.columns:\n",
        "  if df[x].dtypes == 'object':\n",
        "    for a in df[x].unique():\n",
        "      b = a.title()\n",
        "      df[x] = df[x].replace(a, b)\n",
        "  else:\n",
        "    pass"
      ]
    },
    {
      "cell_type": "markdown",
      "metadata": {
        "id": "qqhG5IiB3F-S"
      },
      "source": [
        "### 03.03 Coverting Data"
      ]
    },
    {
      "cell_type": "markdown",
      "metadata": {
        "id": "PE5qM6Dw3GkP"
      },
      "source": [
        "#### 03.03.01 Convert to date"
      ]
    },
    {
      "cell_type": "code",
      "source": [
        "df['Month And Year'] = df['Month And Year'].replace({\n",
        "    'January ' : '31-01-',\n",
        "    'February ' : '28-02-',\n",
        "    'March ' : '31-03-',\n",
        "    'April ' : '30-04-',\n",
        "    'May ' : '31-05-',\n",
        "    'June ' : '30-06-',\n",
        "    'July ' : '31-07-',\n",
        "    'August ' : '31-08-',\n",
        "    'September ' : '30-09-',\n",
        "    'October ' : '31-10-',\n",
        "    'November ' : '30-11-',\n",
        "    'December ' : '31-12-',\n",
        "}, regex = True)"
      ],
      "metadata": {
        "id": "bB8LUwXaChvp"
      },
      "execution_count": null,
      "outputs": []
    },
    {
      "cell_type": "code",
      "execution_count": null,
      "metadata": {
        "id": "kesMHW843OfM",
        "colab": {
          "base_uri": "https://localhost:8080/"
        },
        "outputId": "4304e7ff-5141-4a0e-8f53-5f5ede1ec73f"
      },
      "outputs": [
        {
          "output_type": "stream",
          "name": "stderr",
          "text": [
            "<ipython-input-16-7af147c2c3d9>:1: UserWarning: Parsing dates in DD/MM/YYYY format when dayfirst=False (the default) was specified. This may lead to inconsistently parsed dates! Specify a format to ensure consistent parsing.\n",
            "  df['Month And Year'] = pd.to_datetime(df['Month And Year'])\n"
          ]
        }
      ],
      "source": [
        "df['Month And Year'] = pd.to_datetime(df['Month And Year'])"
      ]
    },
    {
      "cell_type": "markdown",
      "metadata": {
        "id": "vC8vfIaj3az_"
      },
      "source": [
        "#### 03.03.02 Convert to integer"
      ]
    },
    {
      "cell_type": "markdown",
      "metadata": {
        "id": "oNIzzPN43gCn"
      },
      "source": [
        "#### 03.03.03 Convert to Object (if necessary)"
      ]
    },
    {
      "cell_type": "markdown",
      "metadata": {
        "id": "Yrd9pcfG3khR"
      },
      "source": [
        "#### 03.03.04 Replace 0 to Nan (if necessary)"
      ]
    },
    {
      "cell_type": "code",
      "execution_count": null,
      "metadata": {
        "id": "aBUvvU8k3mk-"
      },
      "outputs": [],
      "source": [
        "#df = df.replace(0, np.nan)"
      ]
    },
    {
      "cell_type": "markdown",
      "metadata": {
        "id": "zZ5wzm6u3p8b"
      },
      "source": [
        "## 04 Data Cleaning"
      ]
    },
    {
      "cell_type": "markdown",
      "metadata": {
        "id": "RAq3ZBRe3tuv"
      },
      "source": [
        "### 04.01 Replacing Variable Component"
      ]
    },
    {
      "cell_type": "markdown",
      "metadata": {
        "id": "UhN7QUOc3xcM"
      },
      "source": [
        "### 04.02 Add New Variable"
      ]
    },
    {
      "cell_type": "markdown",
      "metadata": {
        "id": "zNL31wAI31lM"
      },
      "source": [
        "### 04.03 Inaccuracies"
      ]
    },
    {
      "cell_type": "markdown",
      "metadata": {
        "id": "Mn22d9xs4I6o"
      },
      "source": [
        "### 04.04 Handling Outliers\n",
        "##### Data Distribution Check (Before)"
      ]
    },
    {
      "cell_type": "code",
      "execution_count": null,
      "metadata": {
        "id": "llH-hNJ2_sPy",
        "colab": {
          "base_uri": "https://localhost:8080/",
          "height": 112
        },
        "outputId": "7540e0ac-9e3e-4ebf-c8b5-253f54e4cff1"
      },
      "outputs": [
        {
          "output_type": "execute_result",
          "data": {
            "text/plain": [
              "   Index Month And Year    State  Civilian Population  Total Labor Force  \\\n",
              "0      0     1976-01-31  Alabama              2605000            1492409   \n",
              "1      1     1976-01-31   Alaska               232000             159154   \n",
              "\n",
              "   Percent Of Population  Employed - Total  Employed - Percent Of Population  \\\n",
              "0                   57.3           1392154                              53.4   \n",
              "1                   68.6            147809                              63.7   \n",
              "\n",
              "   Unemployed - Total  Unemployed - Percent Of Labor Force  \n",
              "0              100255                                  6.7  \n",
              "1               11345                                  7.1  "
            ],
            "text/html": [
              "\n",
              "  <div id=\"df-c63ffa37-0e08-41d7-91e9-c074d61c72b6\" class=\"colab-df-container\">\n",
              "    <div>\n",
              "<style scoped>\n",
              "    .dataframe tbody tr th:only-of-type {\n",
              "        vertical-align: middle;\n",
              "    }\n",
              "\n",
              "    .dataframe tbody tr th {\n",
              "        vertical-align: top;\n",
              "    }\n",
              "\n",
              "    .dataframe thead th {\n",
              "        text-align: right;\n",
              "    }\n",
              "</style>\n",
              "<table border=\"1\" class=\"dataframe\">\n",
              "  <thead>\n",
              "    <tr style=\"text-align: right;\">\n",
              "      <th></th>\n",
              "      <th>Index</th>\n",
              "      <th>Month And Year</th>\n",
              "      <th>State</th>\n",
              "      <th>Civilian Population</th>\n",
              "      <th>Total Labor Force</th>\n",
              "      <th>Percent Of Population</th>\n",
              "      <th>Employed - Total</th>\n",
              "      <th>Employed - Percent Of Population</th>\n",
              "      <th>Unemployed - Total</th>\n",
              "      <th>Unemployed - Percent Of Labor Force</th>\n",
              "    </tr>\n",
              "  </thead>\n",
              "  <tbody>\n",
              "    <tr>\n",
              "      <th>0</th>\n",
              "      <td>0</td>\n",
              "      <td>1976-01-31</td>\n",
              "      <td>Alabama</td>\n",
              "      <td>2605000</td>\n",
              "      <td>1492409</td>\n",
              "      <td>57.3</td>\n",
              "      <td>1392154</td>\n",
              "      <td>53.4</td>\n",
              "      <td>100255</td>\n",
              "      <td>6.7</td>\n",
              "    </tr>\n",
              "    <tr>\n",
              "      <th>1</th>\n",
              "      <td>1</td>\n",
              "      <td>1976-01-31</td>\n",
              "      <td>Alaska</td>\n",
              "      <td>232000</td>\n",
              "      <td>159154</td>\n",
              "      <td>68.6</td>\n",
              "      <td>147809</td>\n",
              "      <td>63.7</td>\n",
              "      <td>11345</td>\n",
              "      <td>7.1</td>\n",
              "    </tr>\n",
              "  </tbody>\n",
              "</table>\n",
              "</div>\n",
              "    <div class=\"colab-df-buttons\">\n",
              "\n",
              "  <div class=\"colab-df-container\">\n",
              "    <button class=\"colab-df-convert\" onclick=\"convertToInteractive('df-c63ffa37-0e08-41d7-91e9-c074d61c72b6')\"\n",
              "            title=\"Convert this dataframe to an interactive table.\"\n",
              "            style=\"display:none;\">\n",
              "\n",
              "  <svg xmlns=\"http://www.w3.org/2000/svg\" height=\"24px\" viewBox=\"0 -960 960 960\">\n",
              "    <path d=\"M120-120v-720h720v720H120Zm60-500h600v-160H180v160Zm220 220h160v-160H400v160Zm0 220h160v-160H400v160ZM180-400h160v-160H180v160Zm440 0h160v-160H620v160ZM180-180h160v-160H180v160Zm440 0h160v-160H620v160Z\"/>\n",
              "  </svg>\n",
              "    </button>\n",
              "\n",
              "  <style>\n",
              "    .colab-df-container {\n",
              "      display:flex;\n",
              "      gap: 12px;\n",
              "    }\n",
              "\n",
              "    .colab-df-convert {\n",
              "      background-color: #E8F0FE;\n",
              "      border: none;\n",
              "      border-radius: 50%;\n",
              "      cursor: pointer;\n",
              "      display: none;\n",
              "      fill: #1967D2;\n",
              "      height: 32px;\n",
              "      padding: 0 0 0 0;\n",
              "      width: 32px;\n",
              "    }\n",
              "\n",
              "    .colab-df-convert:hover {\n",
              "      background-color: #E2EBFA;\n",
              "      box-shadow: 0px 1px 2px rgba(60, 64, 67, 0.3), 0px 1px 3px 1px rgba(60, 64, 67, 0.15);\n",
              "      fill: #174EA6;\n",
              "    }\n",
              "\n",
              "    .colab-df-buttons div {\n",
              "      margin-bottom: 4px;\n",
              "    }\n",
              "\n",
              "    [theme=dark] .colab-df-convert {\n",
              "      background-color: #3B4455;\n",
              "      fill: #D2E3FC;\n",
              "    }\n",
              "\n",
              "    [theme=dark] .colab-df-convert:hover {\n",
              "      background-color: #434B5C;\n",
              "      box-shadow: 0px 1px 3px 1px rgba(0, 0, 0, 0.15);\n",
              "      filter: drop-shadow(0px 1px 2px rgba(0, 0, 0, 0.3));\n",
              "      fill: #FFFFFF;\n",
              "    }\n",
              "  </style>\n",
              "\n",
              "    <script>\n",
              "      const buttonEl =\n",
              "        document.querySelector('#df-c63ffa37-0e08-41d7-91e9-c074d61c72b6 button.colab-df-convert');\n",
              "      buttonEl.style.display =\n",
              "        google.colab.kernel.accessAllowed ? 'block' : 'none';\n",
              "\n",
              "      async function convertToInteractive(key) {\n",
              "        const element = document.querySelector('#df-c63ffa37-0e08-41d7-91e9-c074d61c72b6');\n",
              "        const dataTable =\n",
              "          await google.colab.kernel.invokeFunction('convertToInteractive',\n",
              "                                                    [key], {});\n",
              "        if (!dataTable) return;\n",
              "\n",
              "        const docLinkHtml = 'Like what you see? Visit the ' +\n",
              "          '<a target=\"_blank\" href=https://colab.research.google.com/notebooks/data_table.ipynb>data table notebook</a>'\n",
              "          + ' to learn more about interactive tables.';\n",
              "        element.innerHTML = '';\n",
              "        dataTable['output_type'] = 'display_data';\n",
              "        await google.colab.output.renderOutput(dataTable, element);\n",
              "        const docLink = document.createElement('div');\n",
              "        docLink.innerHTML = docLinkHtml;\n",
              "        element.appendChild(docLink);\n",
              "      }\n",
              "    </script>\n",
              "  </div>\n",
              "\n",
              "\n",
              "<div id=\"df-ed6e05e2-c88c-4341-bae9-c735550e3a6a\">\n",
              "  <button class=\"colab-df-quickchart\" onclick=\"quickchart('df-ed6e05e2-c88c-4341-bae9-c735550e3a6a')\"\n",
              "            title=\"Suggest charts\"\n",
              "            style=\"display:none;\">\n",
              "\n",
              "<svg xmlns=\"http://www.w3.org/2000/svg\" height=\"24px\"viewBox=\"0 0 24 24\"\n",
              "     width=\"24px\">\n",
              "    <g>\n",
              "        <path d=\"M19 3H5c-1.1 0-2 .9-2 2v14c0 1.1.9 2 2 2h14c1.1 0 2-.9 2-2V5c0-1.1-.9-2-2-2zM9 17H7v-7h2v7zm4 0h-2V7h2v10zm4 0h-2v-4h2v4z\"/>\n",
              "    </g>\n",
              "</svg>\n",
              "  </button>\n",
              "\n",
              "<style>\n",
              "  .colab-df-quickchart {\n",
              "      --bg-color: #E8F0FE;\n",
              "      --fill-color: #1967D2;\n",
              "      --hover-bg-color: #E2EBFA;\n",
              "      --hover-fill-color: #174EA6;\n",
              "      --disabled-fill-color: #AAA;\n",
              "      --disabled-bg-color: #DDD;\n",
              "  }\n",
              "\n",
              "  [theme=dark] .colab-df-quickchart {\n",
              "      --bg-color: #3B4455;\n",
              "      --fill-color: #D2E3FC;\n",
              "      --hover-bg-color: #434B5C;\n",
              "      --hover-fill-color: #FFFFFF;\n",
              "      --disabled-bg-color: #3B4455;\n",
              "      --disabled-fill-color: #666;\n",
              "  }\n",
              "\n",
              "  .colab-df-quickchart {\n",
              "    background-color: var(--bg-color);\n",
              "    border: none;\n",
              "    border-radius: 50%;\n",
              "    cursor: pointer;\n",
              "    display: none;\n",
              "    fill: var(--fill-color);\n",
              "    height: 32px;\n",
              "    padding: 0;\n",
              "    width: 32px;\n",
              "  }\n",
              "\n",
              "  .colab-df-quickchart:hover {\n",
              "    background-color: var(--hover-bg-color);\n",
              "    box-shadow: 0 1px 2px rgba(60, 64, 67, 0.3), 0 1px 3px 1px rgba(60, 64, 67, 0.15);\n",
              "    fill: var(--button-hover-fill-color);\n",
              "  }\n",
              "\n",
              "  .colab-df-quickchart-complete:disabled,\n",
              "  .colab-df-quickchart-complete:disabled:hover {\n",
              "    background-color: var(--disabled-bg-color);\n",
              "    fill: var(--disabled-fill-color);\n",
              "    box-shadow: none;\n",
              "  }\n",
              "\n",
              "  .colab-df-spinner {\n",
              "    border: 2px solid var(--fill-color);\n",
              "    border-color: transparent;\n",
              "    border-bottom-color: var(--fill-color);\n",
              "    animation:\n",
              "      spin 1s steps(1) infinite;\n",
              "  }\n",
              "\n",
              "  @keyframes spin {\n",
              "    0% {\n",
              "      border-color: transparent;\n",
              "      border-bottom-color: var(--fill-color);\n",
              "      border-left-color: var(--fill-color);\n",
              "    }\n",
              "    20% {\n",
              "      border-color: transparent;\n",
              "      border-left-color: var(--fill-color);\n",
              "      border-top-color: var(--fill-color);\n",
              "    }\n",
              "    30% {\n",
              "      border-color: transparent;\n",
              "      border-left-color: var(--fill-color);\n",
              "      border-top-color: var(--fill-color);\n",
              "      border-right-color: var(--fill-color);\n",
              "    }\n",
              "    40% {\n",
              "      border-color: transparent;\n",
              "      border-right-color: var(--fill-color);\n",
              "      border-top-color: var(--fill-color);\n",
              "    }\n",
              "    60% {\n",
              "      border-color: transparent;\n",
              "      border-right-color: var(--fill-color);\n",
              "    }\n",
              "    80% {\n",
              "      border-color: transparent;\n",
              "      border-right-color: var(--fill-color);\n",
              "      border-bottom-color: var(--fill-color);\n",
              "    }\n",
              "    90% {\n",
              "      border-color: transparent;\n",
              "      border-bottom-color: var(--fill-color);\n",
              "    }\n",
              "  }\n",
              "</style>\n",
              "\n",
              "  <script>\n",
              "    async function quickchart(key) {\n",
              "      const quickchartButtonEl =\n",
              "        document.querySelector('#' + key + ' button');\n",
              "      quickchartButtonEl.disabled = true;  // To prevent multiple clicks.\n",
              "      quickchartButtonEl.classList.add('colab-df-spinner');\n",
              "      try {\n",
              "        const charts = await google.colab.kernel.invokeFunction(\n",
              "            'suggestCharts', [key], {});\n",
              "      } catch (error) {\n",
              "        console.error('Error during call to suggestCharts:', error);\n",
              "      }\n",
              "      quickchartButtonEl.classList.remove('colab-df-spinner');\n",
              "      quickchartButtonEl.classList.add('colab-df-quickchart-complete');\n",
              "    }\n",
              "    (() => {\n",
              "      let quickchartButtonEl =\n",
              "        document.querySelector('#df-ed6e05e2-c88c-4341-bae9-c735550e3a6a button');\n",
              "      quickchartButtonEl.style.display =\n",
              "        google.colab.kernel.accessAllowed ? 'block' : 'none';\n",
              "    })();\n",
              "  </script>\n",
              "</div>\n",
              "    </div>\n",
              "  </div>\n"
            ]
          },
          "metadata": {},
          "execution_count": 18
        }
      ],
      "source": [
        "df.head(2)"
      ]
    },
    {
      "cell_type": "markdown",
      "metadata": {
        "id": "Tci2Qaok4Vt-"
      },
      "source": [
        "#### 04.04.01 Using IQR (Inter Quantile Range)"
      ]
    },
    {
      "cell_type": "code",
      "execution_count": null,
      "metadata": {
        "id": "Mt7FHMFz4YdV"
      },
      "outputs": [],
      "source": [
        "def iqr_thres(dataframe, column, th1 = 0.25, th3 = 0.75):\n",
        "    quartile1 = dataframe[column].quantile(th1)\n",
        "    quartile3 = dataframe[column].quantile(th3)\n",
        "    iqr = quartile3 - quartile1\n",
        "    upper_limit = quartile3 + 1.5 * iqr\n",
        "    lower_limit = quartile1 - 1.5 * iqr\n",
        "\n",
        "    return lower_limit, upper_limit"
      ]
    },
    {
      "cell_type": "code",
      "execution_count": null,
      "metadata": {
        "id": "dRaHXuvQ4ZBb"
      },
      "outputs": [],
      "source": [
        "def check_outliers_iqr(dataframe, column):\n",
        "    lower_limit, upper_limit = iqr_thres(dataframe, column)\n",
        "    if dataframe[(dataframe[column] > upper_limit) | (dataframe[column] < lower_limit)].any(axis = None):\n",
        "        return True\n",
        "    else:\n",
        "        return False"
      ]
    },
    {
      "cell_type": "code",
      "execution_count": null,
      "metadata": {
        "id": "FRncku9Q4dLW"
      },
      "outputs": [],
      "source": [
        "def replace_iqr(dataframe, columns, th1 = 0.25, th3 = 0.75, replace = False):\n",
        "  data = []\n",
        "\n",
        "  for column in columns:\n",
        "    if df[column].dtypes == 'int64' or df[column].dtypes == 'float64':\n",
        "      if column != 'Outcome':\n",
        "        outliers_ = check_outliers_iqr(df, column)\n",
        "        count = None\n",
        "        lower_limit, upper_limit = iqr_thres(dataframe, column, th1, th3)\n",
        "\n",
        "        if outliers_:\n",
        "          count = dataframe[(dataframe[column] > upper_limit) | (dataframe[column] < lower_limit)][column].count()\n",
        "          if replace:\n",
        "            if lower_limit < 0:\n",
        "              dataframe.loc[(dataframe[column] > upper_limit), column] = upper_limit\n",
        "            else:\n",
        "              dataframe.loc[(dataframe[column] < lower_limit), column] = lower_limit\n",
        "              dataframe.loc[(dataframe[column] > upper_limit), column] = upper_limit\n",
        "        outliers_status = check_outliers_iqr(df, column)\n",
        "        data.append([outliers_, outliers_status, count, column, lower_limit, upper_limit ])\n",
        "\n",
        "  table = tabulate(data, headers = ['Outliers (Previously)', 'Outliers', 'Count', 'Column', 'Lower Limit', 'Upper Limit'], tablefmt = 'rst', numalign = 'right')\n",
        "  print('Removing Outliers using IQR')\n",
        "  print(table)"
      ]
    },
    {
      "cell_type": "code",
      "execution_count": null,
      "metadata": {
        "id": "GfPGmOvI4f89",
        "colab": {
          "base_uri": "https://localhost:8080/",
          "height": 35
        },
        "outputId": "e6e0f6a3-3afb-4628-d669-798bb540d17d"
      },
      "outputs": [
        {
          "output_type": "execute_result",
          "data": {
            "text/plain": [
              "'replace_iqr(\\n    dataframe = df,\\n    columns = [],\\n    replace = True\\n) #'"
            ],
            "application/vnd.google.colaboratory.intrinsic+json": {
              "type": "string"
            }
          },
          "metadata": {},
          "execution_count": 22
        }
      ],
      "source": [
        "'''replace_iqr(\n",
        "    dataframe = df,\n",
        "    columns = [],\n",
        "    replace = True\n",
        ") #'''"
      ]
    },
    {
      "cell_type": "markdown",
      "metadata": {
        "id": "VUeLtiYd4kMs"
      },
      "source": [
        "#### 04.04.02 Using Standard Deviation"
      ]
    },
    {
      "cell_type": "code",
      "execution_count": null,
      "metadata": {
        "id": "gFPjk_Zb4j3m"
      },
      "outputs": [],
      "source": [
        "def std_thres(dataframe, column):\n",
        "    upper_limit = dataframe[column].mean() + 3 * dataframe[column].std()\n",
        "    lower_limit = dataframe[column].mean() - 3 * dataframe[column].std()\n",
        "\n",
        "    return lower_limit, upper_limit"
      ]
    },
    {
      "cell_type": "code",
      "execution_count": null,
      "metadata": {
        "id": "rkImfexs4nbm"
      },
      "outputs": [],
      "source": [
        "def check_outliers_std(dataframe, column):\n",
        "    lower_limit, upper_limit = iqr_thres(dataframe, column)\n",
        "    if dataframe[(dataframe[column] > upper_limit) | (dataframe[column] < lower_limit)].any(axis = None):\n",
        "        return True\n",
        "    else:\n",
        "        return False"
      ]
    },
    {
      "cell_type": "code",
      "execution_count": null,
      "metadata": {
        "id": "gHycsqre4qX6"
      },
      "outputs": [],
      "source": [
        "def replace_std(dataframe, columns, replace = False):\n",
        "  data = []\n",
        "\n",
        "  for column in columns:\n",
        "    if df[column].dtypes == 'int64' or df[column].dtypes == 'float64':\n",
        "      if column != 'Outcome':\n",
        "        outliers_ = check_outliers_std(dataframe, column)\n",
        "        count = None\n",
        "        lower_limit, upper_limit = std_thres(dataframe, column)\n",
        "\n",
        "        if outliers_:\n",
        "          count = dataframe[(dataframe[column] > upper_limit) | (dataframe[column] < lower_limit)][column].count()\n",
        "          if replace:\n",
        "            if lower_limit < 0:\n",
        "              dataframe.loc[(dataframe[column] > upper_limit), column] = upper_limit\n",
        "            else:\n",
        "              dataframe.loc[(dataframe[column] < lower_limit), column] = lower_limit\n",
        "              dataframe.loc[(dataframe[column] > upper_limit), column] = upper_limit\n",
        "        outliers_status = check_outliers_std(dataframe, column)\n",
        "        data.append([outliers_, outliers_status, count, column, lower_limit, upper_limit])\n",
        "\n",
        "  table = tabulate(data, headers = ['Outlier (Previously)', 'Outliers', 'Count', 'Column', 'Lower Limit', 'Upper Limit'], tablefmt = 'rst', numalign = 'right')\n",
        "  print('Removing Outliers using 3 Standard Deviation')\n",
        "  print(table)"
      ]
    },
    {
      "cell_type": "code",
      "execution_count": null,
      "metadata": {
        "id": "D_pvh2IL4q2I",
        "colab": {
          "base_uri": "https://localhost:8080/",
          "height": 35
        },
        "outputId": "c33a8b12-f6e3-4ad2-b036-262006f79555"
      },
      "outputs": [
        {
          "output_type": "execute_result",
          "data": {
            "text/plain": [
              "'replace_iqr(\\n    dataframe = df,\\n    columns = [],\\n    replace = False\\n) #'"
            ],
            "application/vnd.google.colaboratory.intrinsic+json": {
              "type": "string"
            }
          },
          "metadata": {},
          "execution_count": 26
        }
      ],
      "source": [
        "'''replace_iqr(\n",
        "    dataframe = df,\n",
        "    columns = [],\n",
        "    replace = False\n",
        ") #'''"
      ]
    },
    {
      "cell_type": "markdown",
      "metadata": {
        "id": "IEqxjPOT4vTP"
      },
      "source": [
        "### 04.05 Handling Missing / Zeros / Null\n",
        "##### Filling missing value (numerical only) is better using median than mean or mode"
      ]
    },
    {
      "cell_type": "markdown",
      "metadata": {
        "id": "EVpvT5IV4zdY"
      },
      "source": [
        "#### 04.05.01 Detecting Zero Value"
      ]
    },
    {
      "cell_type": "code",
      "execution_count": null,
      "metadata": {
        "id": "is7a1I744wMK",
        "colab": {
          "base_uri": "https://localhost:8080/"
        },
        "outputId": "76f104ab-8b60-4315-9494-b736345ffc1b"
      },
      "outputs": [
        {
          "output_type": "stream",
          "name": "stdout",
          "text": [
            "Index : 1\n"
          ]
        }
      ],
      "source": [
        "zero_columns = []\n",
        "\n",
        "for x in df.columns:\n",
        "  if df[x].dtypes == 'int64' or df[x].dtypes == 'float64':\n",
        "    if (df[x] == 0).sum() != 0:\n",
        "      print(x, ':', str((df[x] == 0).sum()))\n",
        "      zero_columns.append(x)"
      ]
    },
    {
      "cell_type": "markdown",
      "metadata": {
        "id": "t2yFMHRf43pd"
      },
      "source": [
        "#### 04.05.02 Detecting Nan / Non Available Value"
      ]
    },
    {
      "cell_type": "code",
      "execution_count": null,
      "metadata": {
        "id": "PYM4yhj844Ix"
      },
      "outputs": [],
      "source": [
        "nan_columns = []\n",
        "\n",
        "for x in df.columns:\n",
        "  if df[x].dtypes == 'object':\n",
        "    if (df[x] == np.nan).sum() or (df[x] == '-').sum() != 0:\n",
        "      print(x, ':', str((df[x] == np.nan).sum()))\n",
        "      nan_columns.append(x)"
      ]
    },
    {
      "cell_type": "markdown",
      "metadata": {
        "id": "w81kHjrH49xD"
      },
      "source": [
        "#### 04.05.03 Replacing Zero with Mean (for numerical value if median value == 0), if necessary"
      ]
    },
    {
      "cell_type": "code",
      "execution_count": null,
      "metadata": {
        "id": "EO5QyklX5APs",
        "colab": {
          "base_uri": "https://localhost:8080/",
          "height": 35
        },
        "outputId": "d28c6b60-c7f5-45af-aecf-9030adb1c56a"
      },
      "outputs": [
        {
          "output_type": "execute_result",
          "data": {
            "text/plain": [
              "'cols = [\\n] #'"
            ],
            "application/vnd.google.colaboratory.intrinsic+json": {
              "type": "string"
            }
          },
          "metadata": {},
          "execution_count": 29
        }
      ],
      "source": [
        "'''cols = [\n",
        "] #'''"
      ]
    },
    {
      "cell_type": "code",
      "execution_count": null,
      "metadata": {
        "id": "nLz--vIY5BzU",
        "colab": {
          "base_uri": "https://localhost:8080/",
          "height": 35
        },
        "outputId": "987cb337-1d04-44a1-e99d-1dfd7a87f9f3"
      },
      "outputs": [
        {
          "output_type": "execute_result",
          "data": {
            "text/plain": [
              "'df = df.replace(0, np.nan)\\n\\nfor x in cols:\\n  df[x] = df[x].fillna(df[x].mean()) #'"
            ],
            "application/vnd.google.colaboratory.intrinsic+json": {
              "type": "string"
            }
          },
          "metadata": {},
          "execution_count": 30
        }
      ],
      "source": [
        "'''df = df.replace(0, np.nan)\n",
        "\n",
        "for x in cols:\n",
        "  df[x] = df[x].fillna(df[x].mean()) #'''"
      ]
    },
    {
      "cell_type": "markdown",
      "metadata": {
        "id": "MBWAP-1J5Eyi"
      },
      "source": [
        "#### 04.05.04 Replacing Zero with Median (for numerical value if median value != 0), if necessary"
      ]
    },
    {
      "cell_type": "code",
      "execution_count": null,
      "metadata": {
        "id": "YE9GeuH65FdJ",
        "colab": {
          "base_uri": "https://localhost:8080/",
          "height": 35
        },
        "outputId": "032933c7-7d51-49ec-c802-46639aad609b"
      },
      "outputs": [
        {
          "output_type": "execute_result",
          "data": {
            "text/plain": [
              "'cols = [\\n] #'"
            ],
            "application/vnd.google.colaboratory.intrinsic+json": {
              "type": "string"
            }
          },
          "metadata": {},
          "execution_count": 31
        }
      ],
      "source": [
        "'''cols = [\n",
        "] #'''"
      ]
    },
    {
      "cell_type": "code",
      "execution_count": null,
      "metadata": {
        "id": "oMvEl4xs5HWd",
        "colab": {
          "base_uri": "https://localhost:8080/",
          "height": 35
        },
        "outputId": "ecc968e5-5c6f-4d4c-86ca-84113b7eb718"
      },
      "outputs": [
        {
          "output_type": "execute_result",
          "data": {
            "text/plain": [
              "'df = df.replace(0, np.nan)\\n\\nfor x in cols:\\n  df[x] = df[x].fillna(df[x].median()) #'"
            ],
            "application/vnd.google.colaboratory.intrinsic+json": {
              "type": "string"
            }
          },
          "metadata": {},
          "execution_count": 32
        }
      ],
      "source": [
        "'''df = df.replace(0, np.nan)\n",
        "\n",
        "for x in cols:\n",
        "  df[x] = df[x].fillna(df[x].median()) #'''"
      ]
    },
    {
      "cell_type": "markdown",
      "metadata": {
        "id": "dog2-5ML5JQ6"
      },
      "source": [
        "#### 04.05.05 Replacing Zero with Mode (for categorical / object value), if necessary"
      ]
    },
    {
      "cell_type": "code",
      "execution_count": null,
      "metadata": {
        "id": "rV2VC_VZ5Ldl",
        "colab": {
          "base_uri": "https://localhost:8080/",
          "height": 35
        },
        "outputId": "99c99399-7ccd-4d5f-bb67-798f0de026ad"
      },
      "outputs": [
        {
          "output_type": "execute_result",
          "data": {
            "text/plain": [
              "'cols = [\\n] #'"
            ],
            "application/vnd.google.colaboratory.intrinsic+json": {
              "type": "string"
            }
          },
          "metadata": {},
          "execution_count": 33
        }
      ],
      "source": [
        "'''cols = [\n",
        "] #'''"
      ]
    },
    {
      "cell_type": "code",
      "execution_count": null,
      "metadata": {
        "id": "dut4TUuq5NHK",
        "colab": {
          "base_uri": "https://localhost:8080/",
          "height": 35
        },
        "outputId": "b043b561-d887-44c1-fa3e-f46c2ca66585"
      },
      "outputs": [
        {
          "output_type": "execute_result",
          "data": {
            "text/plain": [
              "'df = df.replace(0, np.nan)\\n\\nfor x in cols:\\n  df[x] = df[x].fillna(df[x].mode()) #'"
            ],
            "application/vnd.google.colaboratory.intrinsic+json": {
              "type": "string"
            }
          },
          "metadata": {},
          "execution_count": 34
        }
      ],
      "source": [
        "'''df = df.replace(0, np.nan)\n",
        "\n",
        "for x in cols:\n",
        "  df[x] = df[x].fillna(df[x].mode()) #'''"
      ]
    },
    {
      "cell_type": "markdown",
      "metadata": {
        "id": "PtFcqtOW5JNo"
      },
      "source": [
        "### 04.06 Handling Incomplete Data"
      ]
    },
    {
      "cell_type": "markdown",
      "metadata": {
        "id": "t-9FaTrv5RlN"
      },
      "source": [
        "### 04.07 Handling Data Biases"
      ]
    },
    {
      "cell_type": "markdown",
      "metadata": {
        "id": "C8cfMYC15Uw3"
      },
      "source": [
        "### 04.08 Handling Duplicates"
      ]
    },
    {
      "cell_type": "code",
      "execution_count": null,
      "metadata": {
        "id": "vSryzaSI5bNc"
      },
      "outputs": [],
      "source": [
        "#df = df.drop_duplicates()"
      ]
    },
    {
      "cell_type": "markdown",
      "metadata": {
        "id": "Sx0xbr3K5YLO"
      },
      "source": [
        "##### Data Distribution Check (After)"
      ]
    },
    {
      "cell_type": "markdown",
      "metadata": {
        "id": "W1O3I_gU5p20"
      },
      "source": [
        "## 05 Enriching Data\n",
        "#### take other dataset, inside or outside from related dataset / business"
      ]
    },
    {
      "cell_type": "code",
      "source": [
        "a = df['State'].unique()\n",
        "b = gdf['State'].unique()\n",
        "\n",
        "for i in a:\n",
        "  if i not in b:\n",
        "    print(i)\n",
        "\n",
        "print(50 * '=')\n",
        "\n",
        "for i in b:\n",
        "  if i not in a:\n",
        "    print(i)"
      ],
      "metadata": {
        "id": "oiJULi5g1_a0",
        "colab": {
          "base_uri": "https://localhost:8080/"
        },
        "outputId": "4fd10201-ed6e-4f7a-e7ca-85953d2b0565"
      },
      "execution_count": null,
      "outputs": [
        {
          "output_type": "stream",
          "name": "stdout",
          "text": [
            "District Of Columbia\n",
            "==================================================\n",
            "District of Columbia\n",
            "Puerto Rico\n"
          ]
        }
      ]
    },
    {
      "cell_type": "code",
      "source": [
        "df['State'] = df['State'].replace({\n",
        "    'District Of Columbia' : 'District of Columbia',\n",
        "})"
      ],
      "metadata": {
        "id": "7gZKqurz2DCs"
      },
      "execution_count": null,
      "outputs": []
    },
    {
      "cell_type": "markdown",
      "metadata": {
        "id": "9z-glw4U5r3Y"
      },
      "source": [
        "## 06 Data Validation\n",
        "#### Verifying consistency, quality, and security of data"
      ]
    },
    {
      "cell_type": "markdown",
      "metadata": {
        "id": "kXJgoIwCoisk"
      },
      "source": [
        "## 07 Exploration Data Analysis (Univariate)"
      ]
    },
    {
      "cell_type": "markdown",
      "metadata": {
        "id": "4g7KjKQ2omjR"
      },
      "source": [
        "### 07.01 Generate Data Profile"
      ]
    },
    {
      "cell_type": "code",
      "execution_count": null,
      "metadata": {
        "id": "ICAXeqSDopgs",
        "colab": {
          "base_uri": "https://localhost:8080/",
          "height": 70
        },
        "outputId": "b87f192d-eba0-4291-a14e-5ec32e0d3dea"
      },
      "outputs": [
        {
          "output_type": "execute_result",
          "data": {
            "text/plain": [
              "\"data_profile = ProfileReport(\\n    df,\\n    title = 'US Unemployment',\\n    dataset = {\\n        #'description' : 'This profiling report was generated for Analytics Vidhya Blog',\\n        #'copyright_holder' : 'Analytics Vidhya',\\n        #'copyright_year' : '2021',\\n        #'url' :  'https://www.analyticsvidhya.com/blog/',\\n    },\\n    correlations = {\\n        'pearson' : {'calculate' : True},\\n        'spearman' : {'calculate' : True},\\n        'kendall' : {'calculate' : True},\\n        'phi_k' : {'calculate' : True},\\n    },\\n)\\n\\ndata_profile #\""
            ],
            "application/vnd.google.colaboratory.intrinsic+json": {
              "type": "string"
            }
          },
          "metadata": {},
          "execution_count": 38
        }
      ],
      "source": [
        "'''data_profile = ProfileReport(\n",
        "    df,\n",
        "    title = 'US Unemployment',\n",
        "    dataset = {\n",
        "        #'description' : 'This profiling report was generated for Analytics Vidhya Blog',\n",
        "        #'copyright_holder' : 'Analytics Vidhya',\n",
        "        #'copyright_year' : '2021',\n",
        "        #'url' :  'https://www.analyticsvidhya.com/blog/',\n",
        "    },\n",
        "    correlations = {\n",
        "        'pearson' : {'calculate' : True},\n",
        "        'spearman' : {'calculate' : True},\n",
        "        'kendall' : {'calculate' : True},\n",
        "        'phi_k' : {'calculate' : True},\n",
        "    },\n",
        ")\n",
        "\n",
        "data_profile #'''"
      ]
    },
    {
      "cell_type": "markdown",
      "metadata": {
        "id": "xyTEBrK5drPm"
      },
      "source": [
        "## 08 Store Data to Google Drive"
      ]
    },
    {
      "cell_type": "code",
      "execution_count": null,
      "metadata": {
        "id": "EA_-YO_kOu7Q",
        "colab": {
          "base_uri": "https://localhost:8080/",
          "height": 35
        },
        "outputId": "b68af085-5b1d-4b9a-91f6-32312065f710"
      },
      "outputs": [
        {
          "output_type": "execute_result",
          "data": {
            "text/plain": [
              "\"cache_dir = CACHE_PATH + '/_cache.csv'\\nprint(cache_dir)\\ndf.to_csv(cache_dir, index = False)\\n\\nsleep(60) #\""
            ],
            "application/vnd.google.colaboratory.intrinsic+json": {
              "type": "string"
            }
          },
          "metadata": {},
          "execution_count": 39
        }
      ],
      "source": [
        "'''cache_dir = CACHE_PATH + '/_cache.csv'\n",
        "print(cache_dir)\n",
        "df.to_csv(cache_dir, index = False)\n",
        "\n",
        "sleep(60) #'''"
      ]
    },
    {
      "cell_type": "markdown",
      "metadata": {
        "id": "QznryIr7xTyd"
      },
      "source": [
        "## 09 Table, Chart Drafting & Testing"
      ]
    },
    {
      "cell_type": "code",
      "source": [
        "fig = px.colors.sequential.swatches_continuous()\n",
        "#fig.show()"
      ],
      "metadata": {
        "id": "EAhLrC34Njj-"
      },
      "execution_count": null,
      "outputs": []
    },
    {
      "cell_type": "code",
      "execution_count": null,
      "metadata": {
        "id": "WsXi5h1DPAMk"
      },
      "outputs": [],
      "source": [
        "colors_1 = px.colors.sequential.Reds\n",
        "colors_2 = px.colors.sequential.RdBu\n",
        "explode = tuple([0.015] * 50)\n",
        "latitude = 57\n",
        "longitude = -113\n",
        "chart_theme = 'plotly_dark'\n",
        "streamlit_theme = 'streamlit'\n",
        "margin = {'r' : 20, 't' : 40, 'l' : 20, 'b' : 10}\n",
        "cmap = 'magma_r'\n",
        "title_x = 0\n",
        "title_font_size = 18"
      ]
    },
    {
      "cell_type": "code",
      "source": [
        "var_num = 'Civilian Population'\n",
        "df = df[['State', 'Month And Year', var_num]]\n",
        "df.head(2)"
      ],
      "metadata": {
        "colab": {
          "base_uri": "https://localhost:8080/",
          "height": 112
        },
        "id": "5XDZ_nvp93up",
        "outputId": "1e23eb29-293a-441a-8c86-028b18baa39d"
      },
      "execution_count": null,
      "outputs": [
        {
          "output_type": "execute_result",
          "data": {
            "text/plain": [
              "     State Month And Year  Civilian Population\n",
              "0  Alabama     1976-01-31              2605000\n",
              "1   Alaska     1976-01-31               232000"
            ],
            "text/html": [
              "\n",
              "  <div id=\"df-cb6932fa-614d-42ac-ba58-461d4b33e8c2\" class=\"colab-df-container\">\n",
              "    <div>\n",
              "<style scoped>\n",
              "    .dataframe tbody tr th:only-of-type {\n",
              "        vertical-align: middle;\n",
              "    }\n",
              "\n",
              "    .dataframe tbody tr th {\n",
              "        vertical-align: top;\n",
              "    }\n",
              "\n",
              "    .dataframe thead th {\n",
              "        text-align: right;\n",
              "    }\n",
              "</style>\n",
              "<table border=\"1\" class=\"dataframe\">\n",
              "  <thead>\n",
              "    <tr style=\"text-align: right;\">\n",
              "      <th></th>\n",
              "      <th>State</th>\n",
              "      <th>Month And Year</th>\n",
              "      <th>Civilian Population</th>\n",
              "    </tr>\n",
              "  </thead>\n",
              "  <tbody>\n",
              "    <tr>\n",
              "      <th>0</th>\n",
              "      <td>Alabama</td>\n",
              "      <td>1976-01-31</td>\n",
              "      <td>2605000</td>\n",
              "    </tr>\n",
              "    <tr>\n",
              "      <th>1</th>\n",
              "      <td>Alaska</td>\n",
              "      <td>1976-01-31</td>\n",
              "      <td>232000</td>\n",
              "    </tr>\n",
              "  </tbody>\n",
              "</table>\n",
              "</div>\n",
              "    <div class=\"colab-df-buttons\">\n",
              "\n",
              "  <div class=\"colab-df-container\">\n",
              "    <button class=\"colab-df-convert\" onclick=\"convertToInteractive('df-cb6932fa-614d-42ac-ba58-461d4b33e8c2')\"\n",
              "            title=\"Convert this dataframe to an interactive table.\"\n",
              "            style=\"display:none;\">\n",
              "\n",
              "  <svg xmlns=\"http://www.w3.org/2000/svg\" height=\"24px\" viewBox=\"0 -960 960 960\">\n",
              "    <path d=\"M120-120v-720h720v720H120Zm60-500h600v-160H180v160Zm220 220h160v-160H400v160Zm0 220h160v-160H400v160ZM180-400h160v-160H180v160Zm440 0h160v-160H620v160ZM180-180h160v-160H180v160Zm440 0h160v-160H620v160Z\"/>\n",
              "  </svg>\n",
              "    </button>\n",
              "\n",
              "  <style>\n",
              "    .colab-df-container {\n",
              "      display:flex;\n",
              "      gap: 12px;\n",
              "    }\n",
              "\n",
              "    .colab-df-convert {\n",
              "      background-color: #E8F0FE;\n",
              "      border: none;\n",
              "      border-radius: 50%;\n",
              "      cursor: pointer;\n",
              "      display: none;\n",
              "      fill: #1967D2;\n",
              "      height: 32px;\n",
              "      padding: 0 0 0 0;\n",
              "      width: 32px;\n",
              "    }\n",
              "\n",
              "    .colab-df-convert:hover {\n",
              "      background-color: #E2EBFA;\n",
              "      box-shadow: 0px 1px 2px rgba(60, 64, 67, 0.3), 0px 1px 3px 1px rgba(60, 64, 67, 0.15);\n",
              "      fill: #174EA6;\n",
              "    }\n",
              "\n",
              "    .colab-df-buttons div {\n",
              "      margin-bottom: 4px;\n",
              "    }\n",
              "\n",
              "    [theme=dark] .colab-df-convert {\n",
              "      background-color: #3B4455;\n",
              "      fill: #D2E3FC;\n",
              "    }\n",
              "\n",
              "    [theme=dark] .colab-df-convert:hover {\n",
              "      background-color: #434B5C;\n",
              "      box-shadow: 0px 1px 3px 1px rgba(0, 0, 0, 0.15);\n",
              "      filter: drop-shadow(0px 1px 2px rgba(0, 0, 0, 0.3));\n",
              "      fill: #FFFFFF;\n",
              "    }\n",
              "  </style>\n",
              "\n",
              "    <script>\n",
              "      const buttonEl =\n",
              "        document.querySelector('#df-cb6932fa-614d-42ac-ba58-461d4b33e8c2 button.colab-df-convert');\n",
              "      buttonEl.style.display =\n",
              "        google.colab.kernel.accessAllowed ? 'block' : 'none';\n",
              "\n",
              "      async function convertToInteractive(key) {\n",
              "        const element = document.querySelector('#df-cb6932fa-614d-42ac-ba58-461d4b33e8c2');\n",
              "        const dataTable =\n",
              "          await google.colab.kernel.invokeFunction('convertToInteractive',\n",
              "                                                    [key], {});\n",
              "        if (!dataTable) return;\n",
              "\n",
              "        const docLinkHtml = 'Like what you see? Visit the ' +\n",
              "          '<a target=\"_blank\" href=https://colab.research.google.com/notebooks/data_table.ipynb>data table notebook</a>'\n",
              "          + ' to learn more about interactive tables.';\n",
              "        element.innerHTML = '';\n",
              "        dataTable['output_type'] = 'display_data';\n",
              "        await google.colab.output.renderOutput(dataTable, element);\n",
              "        const docLink = document.createElement('div');\n",
              "        docLink.innerHTML = docLinkHtml;\n",
              "        element.appendChild(docLink);\n",
              "      }\n",
              "    </script>\n",
              "  </div>\n",
              "\n",
              "\n",
              "<div id=\"df-8b47d08c-dd7a-41de-9dfb-7a46f8dc89da\">\n",
              "  <button class=\"colab-df-quickchart\" onclick=\"quickchart('df-8b47d08c-dd7a-41de-9dfb-7a46f8dc89da')\"\n",
              "            title=\"Suggest charts\"\n",
              "            style=\"display:none;\">\n",
              "\n",
              "<svg xmlns=\"http://www.w3.org/2000/svg\" height=\"24px\"viewBox=\"0 0 24 24\"\n",
              "     width=\"24px\">\n",
              "    <g>\n",
              "        <path d=\"M19 3H5c-1.1 0-2 .9-2 2v14c0 1.1.9 2 2 2h14c1.1 0 2-.9 2-2V5c0-1.1-.9-2-2-2zM9 17H7v-7h2v7zm4 0h-2V7h2v10zm4 0h-2v-4h2v4z\"/>\n",
              "    </g>\n",
              "</svg>\n",
              "  </button>\n",
              "\n",
              "<style>\n",
              "  .colab-df-quickchart {\n",
              "      --bg-color: #E8F0FE;\n",
              "      --fill-color: #1967D2;\n",
              "      --hover-bg-color: #E2EBFA;\n",
              "      --hover-fill-color: #174EA6;\n",
              "      --disabled-fill-color: #AAA;\n",
              "      --disabled-bg-color: #DDD;\n",
              "  }\n",
              "\n",
              "  [theme=dark] .colab-df-quickchart {\n",
              "      --bg-color: #3B4455;\n",
              "      --fill-color: #D2E3FC;\n",
              "      --hover-bg-color: #434B5C;\n",
              "      --hover-fill-color: #FFFFFF;\n",
              "      --disabled-bg-color: #3B4455;\n",
              "      --disabled-fill-color: #666;\n",
              "  }\n",
              "\n",
              "  .colab-df-quickchart {\n",
              "    background-color: var(--bg-color);\n",
              "    border: none;\n",
              "    border-radius: 50%;\n",
              "    cursor: pointer;\n",
              "    display: none;\n",
              "    fill: var(--fill-color);\n",
              "    height: 32px;\n",
              "    padding: 0;\n",
              "    width: 32px;\n",
              "  }\n",
              "\n",
              "  .colab-df-quickchart:hover {\n",
              "    background-color: var(--hover-bg-color);\n",
              "    box-shadow: 0 1px 2px rgba(60, 64, 67, 0.3), 0 1px 3px 1px rgba(60, 64, 67, 0.15);\n",
              "    fill: var(--button-hover-fill-color);\n",
              "  }\n",
              "\n",
              "  .colab-df-quickchart-complete:disabled,\n",
              "  .colab-df-quickchart-complete:disabled:hover {\n",
              "    background-color: var(--disabled-bg-color);\n",
              "    fill: var(--disabled-fill-color);\n",
              "    box-shadow: none;\n",
              "  }\n",
              "\n",
              "  .colab-df-spinner {\n",
              "    border: 2px solid var(--fill-color);\n",
              "    border-color: transparent;\n",
              "    border-bottom-color: var(--fill-color);\n",
              "    animation:\n",
              "      spin 1s steps(1) infinite;\n",
              "  }\n",
              "\n",
              "  @keyframes spin {\n",
              "    0% {\n",
              "      border-color: transparent;\n",
              "      border-bottom-color: var(--fill-color);\n",
              "      border-left-color: var(--fill-color);\n",
              "    }\n",
              "    20% {\n",
              "      border-color: transparent;\n",
              "      border-left-color: var(--fill-color);\n",
              "      border-top-color: var(--fill-color);\n",
              "    }\n",
              "    30% {\n",
              "      border-color: transparent;\n",
              "      border-left-color: var(--fill-color);\n",
              "      border-top-color: var(--fill-color);\n",
              "      border-right-color: var(--fill-color);\n",
              "    }\n",
              "    40% {\n",
              "      border-color: transparent;\n",
              "      border-right-color: var(--fill-color);\n",
              "      border-top-color: var(--fill-color);\n",
              "    }\n",
              "    60% {\n",
              "      border-color: transparent;\n",
              "      border-right-color: var(--fill-color);\n",
              "    }\n",
              "    80% {\n",
              "      border-color: transparent;\n",
              "      border-right-color: var(--fill-color);\n",
              "      border-bottom-color: var(--fill-color);\n",
              "    }\n",
              "    90% {\n",
              "      border-color: transparent;\n",
              "      border-bottom-color: var(--fill-color);\n",
              "    }\n",
              "  }\n",
              "</style>\n",
              "\n",
              "  <script>\n",
              "    async function quickchart(key) {\n",
              "      const quickchartButtonEl =\n",
              "        document.querySelector('#' + key + ' button');\n",
              "      quickchartButtonEl.disabled = true;  // To prevent multiple clicks.\n",
              "      quickchartButtonEl.classList.add('colab-df-spinner');\n",
              "      try {\n",
              "        const charts = await google.colab.kernel.invokeFunction(\n",
              "            'suggestCharts', [key], {});\n",
              "      } catch (error) {\n",
              "        console.error('Error during call to suggestCharts:', error);\n",
              "      }\n",
              "      quickchartButtonEl.classList.remove('colab-df-spinner');\n",
              "      quickchartButtonEl.classList.add('colab-df-quickchart-complete');\n",
              "    }\n",
              "    (() => {\n",
              "      let quickchartButtonEl =\n",
              "        document.querySelector('#df-8b47d08c-dd7a-41de-9dfb-7a46f8dc89da button');\n",
              "      quickchartButtonEl.style.display =\n",
              "        google.colab.kernel.accessAllowed ? 'block' : 'none';\n",
              "    })();\n",
              "  </script>\n",
              "</div>\n",
              "    </div>\n",
              "  </div>\n"
            ]
          },
          "metadata": {},
          "execution_count": 42
        }
      ]
    },
    {
      "cell_type": "code",
      "source": [
        "df['Month'] = df['Month And Year'].dt.to_period('M')\n",
        "linechart = pd.DataFrame(df.groupby(['Month'])[[var_num]].sum()).reset_index()\n",
        "linechart['Month'] = linechart['Month'].astype(str)\n",
        "\n",
        "# create time series chart\n",
        "\n",
        "title = 'Monthly ' + var_num\n",
        "#st.subheader(title)\n",
        "fig_1 = go.Figure()\n",
        "fig_1.add_trace(go.Scatter(\n",
        "  x = linechart['Month'],\n",
        "  y = linechart[var_num],\n",
        "  mode = 'lines+markers',\n",
        "  marker = {'color': colors_2[0]},\n",
        "))\n",
        "fig.update_traces(\n",
        "  hovertemplate = '{:,.0}'\n",
        ")\n",
        "fig_1.update_layout(\n",
        "  hovermode = 'x',\n",
        "  height = 400,\n",
        "  margin = margin,\n",
        "  title = title,\n",
        "  titlefont = dict(size = title_font_size),\n",
        "  title_x = title_x,\n",
        "  yaxis = dict(tickformat = ',.0f'),\n",
        ")\n",
        "fig_1.show()"
      ],
      "metadata": {
        "colab": {
          "base_uri": "https://localhost:8080/",
          "height": 556
        },
        "id": "G5Kc-P_B-CDh",
        "outputId": "e785508f-a231-4a19-caa6-d8d82db29f81"
      },
      "execution_count": null,
      "outputs": [
        {
          "output_type": "stream",
          "name": "stderr",
          "text": [
            "<ipython-input-43-aa49dcead3c1>:1: SettingWithCopyWarning:\n",
            "\n",
            "\n",
            "A value is trying to be set on a copy of a slice from a DataFrame.\n",
            "Try using .loc[row_indexer,col_indexer] = value instead\n",
            "\n",
            "See the caveats in the documentation: https://pandas.pydata.org/pandas-docs/stable/user_guide/indexing.html#returning-a-view-versus-a-copy\n",
            "\n"
          ]
        },
        {
          "output_type": "display_data",
          "data": {
            "text/html": [
              "<html>\n",
              "<head><meta charset=\"utf-8\" /></head>\n",
              "<body>\n",
              "    <div>            <script src=\"https://cdnjs.cloudflare.com/ajax/libs/mathjax/2.7.5/MathJax.js?config=TeX-AMS-MML_SVG\"></script><script type=\"text/javascript\">if (window.MathJax && window.MathJax.Hub && window.MathJax.Hub.Config) {window.MathJax.Hub.Config({SVG: {font: \"STIX-Web\"}});}</script>                <script type=\"text/javascript\">window.PlotlyConfig = {MathJaxConfig: 'local'};</script>\n",
              "        <script charset=\"utf-8\" src=\"https://cdn.plot.ly/plotly-2.24.1.min.js\"></script>                <div id=\"9732e41e-5130-47eb-a638-09cd3902b489\" class=\"plotly-graph-div\" style=\"height:400px; width:100%;\"></div>            <script type=\"text/javascript\">                                    window.PLOTLYENV=window.PLOTLYENV || {};                                    if (document.getElementById(\"9732e41e-5130-47eb-a638-09cd3902b489\")) {                    Plotly.newPlot(                        \"9732e41e-5130-47eb-a638-09cd3902b489\",                        [{\"marker\":{\"color\":\"rgb(103,0,31)\"},\"mode\":\"lines+markers\",\"x\":[\"1976-01\",\"1976-02\",\"1976-03\",\"1976-04\",\"1976-05\",\"1976-06\",\"1976-07\",\"1976-08\",\"1976-09\",\"1976-10\",\"1976-11\",\"1976-12\",\"1977-01\",\"1977-02\",\"1977-03\",\"1977-04\",\"1977-05\",\"1977-06\",\"1977-07\",\"1977-08\",\"1977-09\",\"1977-10\",\"1977-11\",\"1977-12\",\"1978-01\",\"1978-02\",\"1978-03\",\"1978-04\",\"1978-05\",\"1978-06\",\"1978-07\",\"1978-08\",\"1978-09\",\"1978-10\",\"1978-11\",\"1978-12\",\"1979-01\",\"1979-02\",\"1979-03\",\"1979-04\",\"1979-05\",\"1979-06\",\"1979-07\",\"1979-08\",\"1979-09\",\"1979-10\",\"1979-11\",\"1979-12\",\"1980-01\",\"1980-02\",\"1980-03\",\"1980-04\",\"1980-05\",\"1980-06\",\"1980-07\",\"1980-08\",\"1980-09\",\"1980-10\",\"1980-11\",\"1980-12\",\"1981-01\",\"1981-02\",\"1981-03\",\"1981-04\",\"1981-05\",\"1981-06\",\"1981-07\",\"1981-08\",\"1981-09\",\"1981-10\",\"1981-11\",\"1981-12\",\"1982-01\",\"1982-02\",\"1982-03\",\"1982-04\",\"1982-05\",\"1982-06\",\"1982-07\",\"1982-08\",\"1982-09\",\"1982-10\",\"1982-11\",\"1982-12\",\"1983-01\",\"1983-02\",\"1983-03\",\"1983-04\",\"1983-05\",\"1983-06\",\"1983-07\",\"1983-08\",\"1983-09\",\"1983-10\",\"1983-11\",\"1983-12\",\"1984-01\",\"1984-02\",\"1984-03\",\"1984-04\",\"1984-05\",\"1984-06\",\"1984-07\",\"1984-08\",\"1984-09\",\"1984-10\",\"1984-11\",\"1984-12\",\"1985-01\",\"1985-02\",\"1985-03\",\"1985-04\",\"1985-05\",\"1985-06\",\"1985-07\",\"1985-08\",\"1985-09\",\"1985-10\",\"1985-11\",\"1985-12\",\"1986-01\",\"1986-02\",\"1986-03\",\"1986-04\",\"1986-05\",\"1986-06\",\"1986-07\",\"1986-08\",\"1986-09\",\"1986-10\",\"1986-11\",\"1986-12\",\"1987-01\",\"1987-02\",\"1987-03\",\"1987-04\",\"1987-05\",\"1987-06\",\"1987-07\",\"1987-08\",\"1987-09\",\"1987-10\",\"1987-11\",\"1987-12\",\"1988-01\",\"1988-02\",\"1988-03\",\"1988-04\",\"1988-05\",\"1988-06\",\"1988-07\",\"1988-08\",\"1988-09\",\"1988-10\",\"1988-11\",\"1988-12\",\"1989-01\",\"1989-02\",\"1989-03\",\"1989-04\",\"1989-05\",\"1989-06\",\"1989-07\",\"1989-08\",\"1989-09\",\"1989-10\",\"1989-11\",\"1989-12\",\"1990-01\",\"1990-02\",\"1990-03\",\"1990-04\",\"1990-05\",\"1990-06\",\"1990-07\",\"1990-08\",\"1990-09\",\"1990-10\",\"1990-11\",\"1990-12\",\"1991-01\",\"1991-02\",\"1991-03\",\"1991-04\",\"1991-05\",\"1991-06\",\"1991-07\",\"1991-08\",\"1991-09\",\"1991-10\",\"1991-11\",\"1991-12\",\"1992-01\",\"1992-02\",\"1992-03\",\"1992-04\",\"1992-05\",\"1992-06\",\"1992-07\",\"1992-08\",\"1992-09\",\"1992-10\",\"1992-11\",\"1992-12\",\"1993-01\",\"1993-02\",\"1993-03\",\"1993-04\",\"1993-05\",\"1993-06\",\"1993-07\",\"1993-08\",\"1993-09\",\"1993-10\",\"1993-11\",\"1993-12\",\"1994-01\",\"1994-02\",\"1994-03\",\"1994-04\",\"1994-05\",\"1994-06\",\"1994-07\",\"1994-08\",\"1994-09\",\"1994-10\",\"1994-11\",\"1994-12\",\"1995-01\",\"1995-02\",\"1995-03\",\"1995-04\",\"1995-05\",\"1995-06\",\"1995-07\",\"1995-08\",\"1995-09\",\"1995-10\",\"1995-11\",\"1995-12\",\"1996-01\",\"1996-02\",\"1996-03\",\"1996-04\",\"1996-05\",\"1996-06\",\"1996-07\",\"1996-08\",\"1996-09\",\"1996-10\",\"1996-11\",\"1996-12\",\"1997-01\",\"1997-02\",\"1997-03\",\"1997-04\",\"1997-05\",\"1997-06\",\"1997-07\",\"1997-08\",\"1997-09\",\"1997-10\",\"1997-11\",\"1997-12\",\"1998-01\",\"1998-02\",\"1998-03\",\"1998-04\",\"1998-05\",\"1998-06\",\"1998-07\",\"1998-08\",\"1998-09\",\"1998-10\",\"1998-11\",\"1998-12\",\"1999-01\",\"1999-02\",\"1999-03\",\"1999-04\",\"1999-05\",\"1999-06\",\"1999-07\",\"1999-08\",\"1999-09\",\"1999-10\",\"1999-11\",\"1999-12\",\"2000-01\",\"2000-02\",\"2000-03\",\"2000-04\",\"2000-05\",\"2000-06\",\"2000-07\",\"2000-08\",\"2000-09\",\"2000-10\",\"2000-11\",\"2000-12\",\"2001-01\",\"2001-02\",\"2001-03\",\"2001-04\",\"2001-05\",\"2001-06\",\"2001-07\",\"2001-08\",\"2001-09\",\"2001-10\",\"2001-11\",\"2001-12\",\"2002-01\",\"2002-02\",\"2002-03\",\"2002-04\",\"2002-05\",\"2002-06\",\"2002-07\",\"2002-08\",\"2002-09\",\"2002-10\",\"2002-11\",\"2002-12\",\"2003-01\",\"2003-02\",\"2003-03\",\"2003-04\",\"2003-05\",\"2003-06\",\"2003-07\",\"2003-08\",\"2003-09\",\"2003-10\",\"2003-11\",\"2003-12\",\"2004-01\",\"2004-02\",\"2004-03\",\"2004-04\",\"2004-05\",\"2004-06\",\"2004-07\",\"2004-08\",\"2004-09\",\"2004-10\",\"2004-11\",\"2004-12\",\"2005-01\",\"2005-02\",\"2005-03\",\"2005-04\",\"2005-05\",\"2005-06\",\"2005-07\",\"2005-08\",\"2005-09\",\"2005-10\",\"2005-11\",\"2005-12\",\"2006-01\",\"2006-02\",\"2006-03\",\"2006-04\",\"2006-05\",\"2006-06\",\"2006-07\",\"2006-08\",\"2006-09\",\"2006-10\",\"2006-11\",\"2006-12\",\"2007-01\",\"2007-02\",\"2007-03\",\"2007-04\",\"2007-05\",\"2007-06\",\"2007-07\",\"2007-08\",\"2007-09\",\"2007-10\",\"2007-11\",\"2007-12\",\"2008-01\",\"2008-02\",\"2008-03\",\"2008-04\",\"2008-05\",\"2008-06\",\"2008-07\",\"2008-08\",\"2008-09\",\"2008-10\",\"2008-11\",\"2008-12\",\"2009-01\",\"2009-02\",\"2009-03\",\"2009-04\",\"2009-05\",\"2009-06\",\"2009-07\",\"2009-08\",\"2009-09\",\"2009-10\",\"2009-11\",\"2009-12\",\"2010-01\",\"2010-02\",\"2010-03\",\"2010-04\",\"2010-05\",\"2010-06\",\"2010-07\",\"2010-08\",\"2010-09\",\"2010-10\",\"2010-11\",\"2010-12\",\"2011-01\",\"2011-02\",\"2011-03\",\"2011-04\",\"2011-05\",\"2011-06\",\"2011-07\",\"2011-08\",\"2011-09\",\"2011-10\",\"2011-11\",\"2011-12\",\"2012-01\",\"2012-02\",\"2012-03\",\"2012-04\",\"2012-05\",\"2012-06\",\"2012-07\",\"2012-08\",\"2012-09\",\"2012-10\",\"2012-11\",\"2012-12\",\"2013-01\",\"2013-02\",\"2013-03\",\"2013-04\",\"2013-05\",\"2013-06\",\"2013-07\",\"2013-08\",\"2013-09\",\"2013-10\",\"2013-11\",\"2013-12\",\"2014-01\",\"2014-02\",\"2014-03\",\"2014-04\",\"2014-05\",\"2014-06\",\"2014-07\",\"2014-08\",\"2014-09\",\"2014-10\",\"2014-11\",\"2014-12\",\"2015-01\",\"2015-02\",\"2015-03\",\"2015-04\",\"2015-05\",\"2015-06\",\"2015-07\",\"2015-08\",\"2015-09\",\"2015-10\",\"2015-11\",\"2015-12\",\"2016-01\",\"2016-02\",\"2016-03\",\"2016-04\",\"2016-05\",\"2016-06\",\"2016-07\",\"2016-08\",\"2016-09\",\"2016-10\",\"2016-11\",\"2016-12\",\"2017-01\",\"2017-02\",\"2017-03\",\"2017-04\",\"2017-05\",\"2017-06\",\"2017-07\",\"2017-08\",\"2017-09\",\"2017-10\",\"2017-11\",\"2017-12\",\"2018-01\",\"2018-02\",\"2018-03\",\"2018-04\",\"2018-05\",\"2018-06\",\"2018-07\",\"2018-08\",\"2018-09\",\"2018-10\",\"2018-11\",\"2018-12\"],\"y\":[154463000,154719000,154963000,155209000,155463000,155707000,155953000,156208000,156456000,156707000,156958000,157210000,157455000,157717000,157963000,158215000,158472000,158719000,158968000,159222000,159475000,159719000,159974000,160223000,160473000,160726000,160974000,161222000,161486000,161727000,161980000,162233000,162480000,162726000,162983000,163232000,163480000,163734000,163980000,164228000,164492000,164733000,164983000,165229000,165478000,165725000,165977000,166220000,166467000,166711000,166958000,167210000,167421000,167637000,167847000,168056000,168271000,168483000,168694000,168912000,169123000,169335000,169550000,169759000,169969000,170185000,170396000,170584000,170766000,170946000,171131000,171316000,171491000,171685000,171864000,172049000,172235000,172417000,172599000,172757000,172917000,173065000,173226000,173384000,173533000,173699000,173855000,174010000,174171000,174326000,174482000,174664000,174836000,175014000,175190000,175366000,175537000,175729000,175902000,176079000,176260000,176431000,176610000,176781000,176951000,177115000,177278000,177450000,177614000,177786000,177950000,178121000,178288000,178455000,178618000,178798000,178981000,179152000,179335000,179511000,179690000,179875000,180049000,180228000,180414000,180588000,180766000,180948000,181130000,181311000,181487000,181667000,181859000,182023000,182199000,182386000,182569000,182742000,182920000,183082000,183242000,183393000,183552000,183713000,183871000,184031000,184188000,184342000,184508000,184662000,184820000,184959000,185094000,185230000,185369000,185505000,185638000,185779000,185912000,186047000,186194000,186325000,186461000,186601000,186753000,186910000,187048000,187164000,188231531,188423894,188616255,188779000,189037778,189208538,189363296,189544052,189750806,189961568,190149322,190322078,190493832,190630588,190773343,190938102,191104852,191285617,191463369,191665128,191883883,192101638,192288397,192446153,192610909,192748669,192912418,193096180,193272936,193461692,193641444,193866203,194093957,194334718,194529473,194710229,194900988,195063744,195226497,195401253,195579013,195776764,195962526,196180280,196405038,196622789,196813550,196996305,197162064,197287817,197449570,197640327,197801086,197991846,198175602,198382356,198598110,198820868,199013626,199185381,199366139,199526897,199695651,199885405,200060161,200250921,200450680,200674437,200907190,201152943,201356702,201542457,201714218,201882969,202073727,202280481,202483243,202706994,202924754,203162510,203421263,203674019,203914778,204113534,204317289,204457050,204626804,204809563,205013315,205210071,205423827,205668589,205919338,206164098,206374854,206570610,206771369,206930124,207106879,207316638,207514390,207724155,207930905,208162664,208393419,208623175,208850929,209053685,209253439,209405201,209571955,209780711,209980469,210192229,210400983,210622742,210853492,211080252,211292007,211478762,211661522,211805272,211973031,211968358,212171047,212386313,212600841,212839684,213086182,213323758,213541719,213750844,213954375,214149188,214339937,214546650,214758527,214982424,215197981,215430656,215670762,215899276,216093877,216288234,216488523,216663207,216840589,217022339,217221337,217433491,217646226,217872077,218104114,218334089,218546198,218729861,218916033,219049306,219173477,219328156,219539546,219733818,219946247,220167493,220403074,220649582,220860109,221047540,221212952,221373532,221559868,221760725,221971524,222187362,222399879,222639927,222877404,223120432,223325982,223530547,223736113,223927373,224117513,224329370,224550103,224783833,225024187,225270736,225378134,225774969,225998165,226240946,226462866,226672655,226886476,227109021,227332011,227569145,227812402,228053766,228312300,228575160,228815577,229036620,229261140,229459776,229658871,229879298,230095706,230323967,230552511,230786249,231029312,231261174,231482702,231690091,231887014,232063618,232252716,232447991,232650093,232866141,233077486,233301481,233518212,233739745,233939527,234114041,234300516,234468896,234633846,234803859,234985824,235170724,235370649,235590774,235808338,236039316,236230025,236399001,236577082,236732589,236894265,238127556,238328049,238531228,238744551,238979157,239206823,239446876,239652997,239849739,240043753,240209988,240384917,240567231,240758524,240956633,241171992,241390905,241620137,241852722,242048972,242243822,242442004,242618734,242801240,242988402,243178518,243381390,243587585,243804723,244029671,244246335,244454597,244645378,244825720,244973514,245130750,245299884,245488606,245686614,245893187,246113864,246335628,246552891,246758723,246950688,247144647,247316774,247498495,247686168,247879098,248082944,248292720,248526614,248763147,248997995,249212379,249402834,249597332,249759720,249926498,250107411,250305392,250516486,250726935,250952996,251179247,251406910,251626430,251823828,252022955,252195768,252378558,252576523,252779472,252982891,253200878,253423321,253648014,253872118,254081899,254280040,254479898,254634555,254803606,254986791,255178202,255371329,255574546,255789138,256004587,256220467,256414863,256596743,256780161,256933621,257097213,257271735,257453818,257642068,257842654,258065857,258289919,258514412,258707661,258888375],\"type\":\"scatter\"}],                        {\"template\":{\"data\":{\"histogram2dcontour\":[{\"type\":\"histogram2dcontour\",\"colorbar\":{\"outlinewidth\":0,\"ticks\":\"\"},\"colorscale\":[[0.0,\"#0d0887\"],[0.1111111111111111,\"#46039f\"],[0.2222222222222222,\"#7201a8\"],[0.3333333333333333,\"#9c179e\"],[0.4444444444444444,\"#bd3786\"],[0.5555555555555556,\"#d8576b\"],[0.6666666666666666,\"#ed7953\"],[0.7777777777777778,\"#fb9f3a\"],[0.8888888888888888,\"#fdca26\"],[1.0,\"#f0f921\"]]}],\"choropleth\":[{\"type\":\"choropleth\",\"colorbar\":{\"outlinewidth\":0,\"ticks\":\"\"}}],\"histogram2d\":[{\"type\":\"histogram2d\",\"colorbar\":{\"outlinewidth\":0,\"ticks\":\"\"},\"colorscale\":[[0.0,\"#0d0887\"],[0.1111111111111111,\"#46039f\"],[0.2222222222222222,\"#7201a8\"],[0.3333333333333333,\"#9c179e\"],[0.4444444444444444,\"#bd3786\"],[0.5555555555555556,\"#d8576b\"],[0.6666666666666666,\"#ed7953\"],[0.7777777777777778,\"#fb9f3a\"],[0.8888888888888888,\"#fdca26\"],[1.0,\"#f0f921\"]]}],\"heatmap\":[{\"type\":\"heatmap\",\"colorbar\":{\"outlinewidth\":0,\"ticks\":\"\"},\"colorscale\":[[0.0,\"#0d0887\"],[0.1111111111111111,\"#46039f\"],[0.2222222222222222,\"#7201a8\"],[0.3333333333333333,\"#9c179e\"],[0.4444444444444444,\"#bd3786\"],[0.5555555555555556,\"#d8576b\"],[0.6666666666666666,\"#ed7953\"],[0.7777777777777778,\"#fb9f3a\"],[0.8888888888888888,\"#fdca26\"],[1.0,\"#f0f921\"]]}],\"heatmapgl\":[{\"type\":\"heatmapgl\",\"colorbar\":{\"outlinewidth\":0,\"ticks\":\"\"},\"colorscale\":[[0.0,\"#0d0887\"],[0.1111111111111111,\"#46039f\"],[0.2222222222222222,\"#7201a8\"],[0.3333333333333333,\"#9c179e\"],[0.4444444444444444,\"#bd3786\"],[0.5555555555555556,\"#d8576b\"],[0.6666666666666666,\"#ed7953\"],[0.7777777777777778,\"#fb9f3a\"],[0.8888888888888888,\"#fdca26\"],[1.0,\"#f0f921\"]]}],\"contourcarpet\":[{\"type\":\"contourcarpet\",\"colorbar\":{\"outlinewidth\":0,\"ticks\":\"\"}}],\"contour\":[{\"type\":\"contour\",\"colorbar\":{\"outlinewidth\":0,\"ticks\":\"\"},\"colorscale\":[[0.0,\"#0d0887\"],[0.1111111111111111,\"#46039f\"],[0.2222222222222222,\"#7201a8\"],[0.3333333333333333,\"#9c179e\"],[0.4444444444444444,\"#bd3786\"],[0.5555555555555556,\"#d8576b\"],[0.6666666666666666,\"#ed7953\"],[0.7777777777777778,\"#fb9f3a\"],[0.8888888888888888,\"#fdca26\"],[1.0,\"#f0f921\"]]}],\"surface\":[{\"type\":\"surface\",\"colorbar\":{\"outlinewidth\":0,\"ticks\":\"\"},\"colorscale\":[[0.0,\"#0d0887\"],[0.1111111111111111,\"#46039f\"],[0.2222222222222222,\"#7201a8\"],[0.3333333333333333,\"#9c179e\"],[0.4444444444444444,\"#bd3786\"],[0.5555555555555556,\"#d8576b\"],[0.6666666666666666,\"#ed7953\"],[0.7777777777777778,\"#fb9f3a\"],[0.8888888888888888,\"#fdca26\"],[1.0,\"#f0f921\"]]}],\"mesh3d\":[{\"type\":\"mesh3d\",\"colorbar\":{\"outlinewidth\":0,\"ticks\":\"\"}}],\"scatter\":[{\"fillpattern\":{\"fillmode\":\"overlay\",\"size\":10,\"solidity\":0.2},\"type\":\"scatter\"}],\"parcoords\":[{\"type\":\"parcoords\",\"line\":{\"colorbar\":{\"outlinewidth\":0,\"ticks\":\"\"}}}],\"scatterpolargl\":[{\"type\":\"scatterpolargl\",\"marker\":{\"colorbar\":{\"outlinewidth\":0,\"ticks\":\"\"}}}],\"bar\":[{\"error_x\":{\"color\":\"#2a3f5f\"},\"error_y\":{\"color\":\"#2a3f5f\"},\"marker\":{\"line\":{\"color\":\"#E5ECF6\",\"width\":0.5},\"pattern\":{\"fillmode\":\"overlay\",\"size\":10,\"solidity\":0.2}},\"type\":\"bar\"}],\"scattergeo\":[{\"type\":\"scattergeo\",\"marker\":{\"colorbar\":{\"outlinewidth\":0,\"ticks\":\"\"}}}],\"scatterpolar\":[{\"type\":\"scatterpolar\",\"marker\":{\"colorbar\":{\"outlinewidth\":0,\"ticks\":\"\"}}}],\"histogram\":[{\"marker\":{\"pattern\":{\"fillmode\":\"overlay\",\"size\":10,\"solidity\":0.2}},\"type\":\"histogram\"}],\"scattergl\":[{\"type\":\"scattergl\",\"marker\":{\"colorbar\":{\"outlinewidth\":0,\"ticks\":\"\"}}}],\"scatter3d\":[{\"type\":\"scatter3d\",\"line\":{\"colorbar\":{\"outlinewidth\":0,\"ticks\":\"\"}},\"marker\":{\"colorbar\":{\"outlinewidth\":0,\"ticks\":\"\"}}}],\"scattermapbox\":[{\"type\":\"scattermapbox\",\"marker\":{\"colorbar\":{\"outlinewidth\":0,\"ticks\":\"\"}}}],\"scatterternary\":[{\"type\":\"scatterternary\",\"marker\":{\"colorbar\":{\"outlinewidth\":0,\"ticks\":\"\"}}}],\"scattercarpet\":[{\"type\":\"scattercarpet\",\"marker\":{\"colorbar\":{\"outlinewidth\":0,\"ticks\":\"\"}}}],\"carpet\":[{\"aaxis\":{\"endlinecolor\":\"#2a3f5f\",\"gridcolor\":\"white\",\"linecolor\":\"white\",\"minorgridcolor\":\"white\",\"startlinecolor\":\"#2a3f5f\"},\"baxis\":{\"endlinecolor\":\"#2a3f5f\",\"gridcolor\":\"white\",\"linecolor\":\"white\",\"minorgridcolor\":\"white\",\"startlinecolor\":\"#2a3f5f\"},\"type\":\"carpet\"}],\"table\":[{\"cells\":{\"fill\":{\"color\":\"#EBF0F8\"},\"line\":{\"color\":\"white\"}},\"header\":{\"fill\":{\"color\":\"#C8D4E3\"},\"line\":{\"color\":\"white\"}},\"type\":\"table\"}],\"barpolar\":[{\"marker\":{\"line\":{\"color\":\"#E5ECF6\",\"width\":0.5},\"pattern\":{\"fillmode\":\"overlay\",\"size\":10,\"solidity\":0.2}},\"type\":\"barpolar\"}],\"pie\":[{\"automargin\":true,\"type\":\"pie\"}]},\"layout\":{\"autotypenumbers\":\"strict\",\"colorway\":[\"#636efa\",\"#EF553B\",\"#00cc96\",\"#ab63fa\",\"#FFA15A\",\"#19d3f3\",\"#FF6692\",\"#B6E880\",\"#FF97FF\",\"#FECB52\"],\"font\":{\"color\":\"#2a3f5f\"},\"hovermode\":\"closest\",\"hoverlabel\":{\"align\":\"left\"},\"paper_bgcolor\":\"white\",\"plot_bgcolor\":\"#E5ECF6\",\"polar\":{\"bgcolor\":\"#E5ECF6\",\"angularaxis\":{\"gridcolor\":\"white\",\"linecolor\":\"white\",\"ticks\":\"\"},\"radialaxis\":{\"gridcolor\":\"white\",\"linecolor\":\"white\",\"ticks\":\"\"}},\"ternary\":{\"bgcolor\":\"#E5ECF6\",\"aaxis\":{\"gridcolor\":\"white\",\"linecolor\":\"white\",\"ticks\":\"\"},\"baxis\":{\"gridcolor\":\"white\",\"linecolor\":\"white\",\"ticks\":\"\"},\"caxis\":{\"gridcolor\":\"white\",\"linecolor\":\"white\",\"ticks\":\"\"}},\"coloraxis\":{\"colorbar\":{\"outlinewidth\":0,\"ticks\":\"\"}},\"colorscale\":{\"sequential\":[[0.0,\"#0d0887\"],[0.1111111111111111,\"#46039f\"],[0.2222222222222222,\"#7201a8\"],[0.3333333333333333,\"#9c179e\"],[0.4444444444444444,\"#bd3786\"],[0.5555555555555556,\"#d8576b\"],[0.6666666666666666,\"#ed7953\"],[0.7777777777777778,\"#fb9f3a\"],[0.8888888888888888,\"#fdca26\"],[1.0,\"#f0f921\"]],\"sequentialminus\":[[0.0,\"#0d0887\"],[0.1111111111111111,\"#46039f\"],[0.2222222222222222,\"#7201a8\"],[0.3333333333333333,\"#9c179e\"],[0.4444444444444444,\"#bd3786\"],[0.5555555555555556,\"#d8576b\"],[0.6666666666666666,\"#ed7953\"],[0.7777777777777778,\"#fb9f3a\"],[0.8888888888888888,\"#fdca26\"],[1.0,\"#f0f921\"]],\"diverging\":[[0,\"#8e0152\"],[0.1,\"#c51b7d\"],[0.2,\"#de77ae\"],[0.3,\"#f1b6da\"],[0.4,\"#fde0ef\"],[0.5,\"#f7f7f7\"],[0.6,\"#e6f5d0\"],[0.7,\"#b8e186\"],[0.8,\"#7fbc41\"],[0.9,\"#4d9221\"],[1,\"#276419\"]]},\"xaxis\":{\"gridcolor\":\"white\",\"linecolor\":\"white\",\"ticks\":\"\",\"title\":{\"standoff\":15},\"zerolinecolor\":\"white\",\"automargin\":true,\"zerolinewidth\":2},\"yaxis\":{\"gridcolor\":\"white\",\"linecolor\":\"white\",\"ticks\":\"\",\"title\":{\"standoff\":15},\"zerolinecolor\":\"white\",\"automargin\":true,\"zerolinewidth\":2},\"scene\":{\"xaxis\":{\"backgroundcolor\":\"#E5ECF6\",\"gridcolor\":\"white\",\"linecolor\":\"white\",\"showbackground\":true,\"ticks\":\"\",\"zerolinecolor\":\"white\",\"gridwidth\":2},\"yaxis\":{\"backgroundcolor\":\"#E5ECF6\",\"gridcolor\":\"white\",\"linecolor\":\"white\",\"showbackground\":true,\"ticks\":\"\",\"zerolinecolor\":\"white\",\"gridwidth\":2},\"zaxis\":{\"backgroundcolor\":\"#E5ECF6\",\"gridcolor\":\"white\",\"linecolor\":\"white\",\"showbackground\":true,\"ticks\":\"\",\"zerolinecolor\":\"white\",\"gridwidth\":2}},\"shapedefaults\":{\"line\":{\"color\":\"#2a3f5f\"}},\"annotationdefaults\":{\"arrowcolor\":\"#2a3f5f\",\"arrowhead\":0,\"arrowwidth\":1},\"geo\":{\"bgcolor\":\"white\",\"landcolor\":\"#E5ECF6\",\"subunitcolor\":\"white\",\"showland\":true,\"showlakes\":true,\"lakecolor\":\"white\"},\"title\":{\"x\":0.05},\"mapbox\":{\"style\":\"light\"}}},\"margin\":{\"r\":20,\"t\":40,\"l\":20,\"b\":10},\"title\":{\"text\":\"Monthly Civilian Population\",\"font\":{\"size\":18},\"x\":0},\"yaxis\":{\"tickformat\":\",.0f\"},\"hovermode\":\"x\",\"height\":400},                        {\"responsive\": true}                    ).then(function(){\n",
              "                            \n",
              "var gd = document.getElementById('9732e41e-5130-47eb-a638-09cd3902b489');\n",
              "var x = new MutationObserver(function (mutations, observer) {{\n",
              "        var display = window.getComputedStyle(gd).display;\n",
              "        if (!display || display === 'none') {{\n",
              "            console.log([gd, 'removed!']);\n",
              "            Plotly.purge(gd);\n",
              "            observer.disconnect();\n",
              "        }}\n",
              "}});\n",
              "\n",
              "// Listen for the removal of the full notebook cells\n",
              "var notebookContainer = gd.closest('#notebook-container');\n",
              "if (notebookContainer) {{\n",
              "    x.observe(notebookContainer, {childList: true});\n",
              "}}\n",
              "\n",
              "// Listen for the clearing of the current output cell\n",
              "var outputEl = gd.closest('.output');\n",
              "if (outputEl) {{\n",
              "    x.observe(outputEl, {childList: true});\n",
              "}}\n",
              "\n",
              "                        })                };                            </script>        </div>\n",
              "</body>\n",
              "</html>"
            ]
          },
          "metadata": {}
        }
      ]
    },
    {
      "cell_type": "code",
      "source": [
        "df['Year'] = df['Month And Year'].dt.to_period('Q')\n",
        "linechart = pd.DataFrame(df.groupby(['Year', 'State'])[[var_num]].sum()).reset_index()\n",
        "linechart['Year'] = linechart['Year'].astype(str)\n",
        "\n",
        "fig_1 = px.line(\n",
        "  x = linechart['Year'],\n",
        "  y = linechart[var_num],\n",
        "  color = linechart['State'],\n",
        "  markers = True,\n",
        ")\n",
        "fig_1.update_traces(\n",
        "  #hovertemplate = '{:,.0f}'\n",
        ")\n",
        "fig_1.update_layout(\n",
        "  hovermode = 'x',\n",
        "  height = 400,\n",
        "  margin = margin,\n",
        "  title = title,\n",
        "  titlefont = dict(size = title_font_size),\n",
        "  title_x = title_x,\n",
        "  yaxis = dict(tickformat = ',.0f'),\n",
        ")\n",
        "fig_1.show()"
      ],
      "metadata": {
        "colab": {
          "base_uri": "https://localhost:8080/",
          "height": 417
        },
        "id": "VMy1y6KrEDOA",
        "outputId": "74bfd5cd-17de-4d4c-df7f-dc08f4a416ca"
      },
      "execution_count": null,
      "outputs": [
        {
          "output_type": "display_data",
          "data": {
            "text/html": [
              "<html>\n",
              "<head><meta charset=\"utf-8\" /></head>\n",
              "<body>\n",
              "    <div>            <script src=\"https://cdnjs.cloudflare.com/ajax/libs/mathjax/2.7.5/MathJax.js?config=TeX-AMS-MML_SVG\"></script><script type=\"text/javascript\">if (window.MathJax && window.MathJax.Hub && window.MathJax.Hub.Config) {window.MathJax.Hub.Config({SVG: {font: \"STIX-Web\"}});}</script>                <script type=\"text/javascript\">window.PlotlyConfig = {MathJaxConfig: 'local'};</script>\n",
              "        <script charset=\"utf-8\" src=\"https://cdn.plot.ly/plotly-2.24.1.min.js\"></script>                <div id=\"4a56c8b1-b294-4e5b-bf8c-14a3c8cbc696\" class=\"plotly-graph-div\" style=\"height:400px; width:100%;\"></div>            <script type=\"text/javascript\">                                    window.PLOTLYENV=window.PLOTLYENV || {};                                    if (document.getElementById(\"4a56c8b1-b294-4e5b-bf8c-14a3c8cbc696\")) {                    Plotly.newPlot(                        \"4a56c8b1-b294-4e5b-bf8c-14a3c8cbc696\",                        [{\"hovertemplate\":\"color=Alabama\\u003cbr\\u003ex=%{x}\\u003cbr\\u003ey=%{y}\\u003cextra\\u003e\\u003c\\u002fextra\\u003e\",\"legendgroup\":\"Alabama\",\"line\":{\"color\":\"#636efa\",\"dash\":\"solid\"},\"marker\":{\"symbol\":\"circle\"},\"mode\":\"markers+lines\",\"name\":\"Alabama\",\"showlegend\":true,\"x\":[\"1976Q1\",\"1976Q2\",\"1976Q3\",\"1976Q4\",\"1977Q1\",\"1977Q2\",\"1977Q3\",\"1977Q4\",\"1978Q1\",\"1978Q2\",\"1978Q3\",\"1978Q4\",\"1979Q1\",\"1979Q2\",\"1979Q3\",\"1979Q4\",\"1980Q1\",\"1980Q2\",\"1980Q3\",\"1980Q4\",\"1981Q1\",\"1981Q2\",\"1981Q3\",\"1981Q4\",\"1982Q1\",\"1982Q2\",\"1982Q3\",\"1982Q4\",\"1983Q1\",\"1983Q2\",\"1983Q3\",\"1983Q4\",\"1984Q1\",\"1984Q2\",\"1984Q3\",\"1984Q4\",\"1985Q1\",\"1985Q2\",\"1985Q3\",\"1985Q4\",\"1986Q1\",\"1986Q2\",\"1986Q3\",\"1986Q4\",\"1987Q1\",\"1987Q2\",\"1987Q3\",\"1987Q4\",\"1988Q1\",\"1988Q2\",\"1988Q3\",\"1988Q4\",\"1989Q1\",\"1989Q2\",\"1989Q3\",\"1989Q4\",\"1990Q1\",\"1990Q2\",\"1990Q3\",\"1990Q4\",\"1991Q1\",\"1991Q2\",\"1991Q3\",\"1991Q4\",\"1992Q1\",\"1992Q2\",\"1992Q3\",\"1992Q4\",\"1993Q1\",\"1993Q2\",\"1993Q3\",\"1993Q4\",\"1994Q1\",\"1994Q2\",\"1994Q3\",\"1994Q4\",\"1995Q1\",\"1995Q2\",\"1995Q3\",\"1995Q4\",\"1996Q1\",\"1996Q2\",\"1996Q3\",\"1996Q4\",\"1997Q1\",\"1997Q2\",\"1997Q3\",\"1997Q4\",\"1998Q1\",\"1998Q2\",\"1998Q3\",\"1998Q4\",\"1999Q1\",\"1999Q2\",\"1999Q3\",\"1999Q4\",\"2000Q1\",\"2000Q2\",\"2000Q3\",\"2000Q4\",\"2001Q1\",\"2001Q2\",\"2001Q3\",\"2001Q4\",\"2002Q1\",\"2002Q2\",\"2002Q3\",\"2002Q4\",\"2003Q1\",\"2003Q2\",\"2003Q3\",\"2003Q4\",\"2004Q1\",\"2004Q2\",\"2004Q3\",\"2004Q4\",\"2005Q1\",\"2005Q2\",\"2005Q3\",\"2005Q4\",\"2006Q1\",\"2006Q2\",\"2006Q3\",\"2006Q4\",\"2007Q1\",\"2007Q2\",\"2007Q3\",\"2007Q4\",\"2008Q1\",\"2008Q2\",\"2008Q3\",\"2008Q4\",\"2009Q1\",\"2009Q2\",\"2009Q3\",\"2009Q4\",\"2010Q1\",\"2010Q2\",\"2010Q3\",\"2010Q4\",\"2011Q1\",\"2011Q2\",\"2011Q3\",\"2011Q4\",\"2012Q1\",\"2012Q2\",\"2012Q3\",\"2012Q4\",\"2013Q1\",\"2013Q2\",\"2013Q3\",\"2013Q4\",\"2014Q1\",\"2014Q2\",\"2014Q3\",\"2014Q4\",\"2015Q1\",\"2015Q2\",\"2015Q3\",\"2015Q4\",\"2016Q1\",\"2016Q2\",\"2016Q3\",\"2016Q4\",\"2017Q1\",\"2017Q2\",\"2017Q3\",\"2017Q4\",\"2018Q1\",\"2018Q2\",\"2018Q3\",\"2018Q4\"],\"xaxis\":\"x\",\"y\":[7830000,7877000,7922000,7963000,8004000,8045000,8088000,8130000,8175000,8217000,8258000,8291000,8324000,8357000,8388000,8418000,8445000,8475000,8502000,8529000,8556000,8583000,8607000,8625000,8643000,8661000,8678000,8693000,8708000,8723000,8740000,8762000,8783000,8806000,8828000,8851000,8873000,8896000,8918000,8942000,8966000,8990000,9015000,9042000,9072000,9099000,9122000,9137000,9152000,9167000,9180000,9191000,9201000,9212000,9224000,9237000,9137199,9199823,9251251,9280469,9304687,9328906,9358126,9388344,9410562,9435781,9466001,9504219,9536437,9566656,9598876,9629094,9652312,9676531,9699751,9717969,9733187,9747406,9768626,9796844,9818062,9842281,9866501,9888719,9903937,9916156,9938376,9969594,9992812,10017031,10039251,10055469,10065687,10077906,10092126,10104344,10112562,10128522,10143995,10155642,10163081,10170933,10181605,10192140,10198349,10204195,10216595,10234266,10244339,10253097,10269985,10290208,10303168,10319181,10340469,10366204,10388147,10411613,10441492,10487436,10521082,10551919,10582835,10611438,10635608,10659264,10685934,10714680,10738749,10762563,10788490,10812896,10833019,10852097,10874495,10897309,10914089,11100204,11125815,11142079,11153276,11163791,11178458,11195004,11208309,11221058,11237074,11254990,11267603,11279951,11295676,11309875,11320649,11331252,11345269,11360113,11369584,11378835,11392243,11406965,11417519,11428705,11443054,11459457,11471937,11483220,11497742,11512199,11522186,11531842,11545393,11559774],\"yaxis\":\"y\",\"type\":\"scattergl\"},{\"hovertemplate\":\"color=Alaska\\u003cbr\\u003ex=%{x}\\u003cbr\\u003ey=%{y}\\u003cextra\\u003e\\u003c\\u002fextra\\u003e\",\"legendgroup\":\"Alaska\",\"line\":{\"color\":\"#EF553B\",\"dash\":\"solid\"},\"marker\":{\"symbol\":\"circle\"},\"mode\":\"markers+lines\",\"name\":\"Alaska\",\"showlegend\":true,\"x\":[\"1976Q1\",\"1976Q2\",\"1976Q3\",\"1976Q4\",\"1977Q1\",\"1977Q2\",\"1977Q3\",\"1977Q4\",\"1978Q1\",\"1978Q2\",\"1978Q3\",\"1978Q4\",\"1979Q1\",\"1979Q2\",\"1979Q3\",\"1979Q4\",\"1980Q1\",\"1980Q2\",\"1980Q3\",\"1980Q4\",\"1981Q1\",\"1981Q2\",\"1981Q3\",\"1981Q4\",\"1982Q1\",\"1982Q2\",\"1982Q3\",\"1982Q4\",\"1983Q1\",\"1983Q2\",\"1983Q3\",\"1983Q4\",\"1984Q1\",\"1984Q2\",\"1984Q3\",\"1984Q4\",\"1985Q1\",\"1985Q2\",\"1985Q3\",\"1985Q4\",\"1986Q1\",\"1986Q2\",\"1986Q3\",\"1986Q4\",\"1987Q1\",\"1987Q2\",\"1987Q3\",\"1987Q4\",\"1988Q1\",\"1988Q2\",\"1988Q3\",\"1988Q4\",\"1989Q1\",\"1989Q2\",\"1989Q3\",\"1989Q4\",\"1990Q1\",\"1990Q2\",\"1990Q3\",\"1990Q4\",\"1991Q1\",\"1991Q2\",\"1991Q3\",\"1991Q4\",\"1992Q1\",\"1992Q2\",\"1992Q3\",\"1992Q4\",\"1993Q1\",\"1993Q2\",\"1993Q3\",\"1993Q4\",\"1994Q1\",\"1994Q2\",\"1994Q3\",\"1994Q4\",\"1995Q1\",\"1995Q2\",\"1995Q3\",\"1995Q4\",\"1996Q1\",\"1996Q2\",\"1996Q3\",\"1996Q4\",\"1997Q1\",\"1997Q2\",\"1997Q3\",\"1997Q4\",\"1998Q1\",\"1998Q2\",\"1998Q3\",\"1998Q4\",\"1999Q1\",\"1999Q2\",\"1999Q3\",\"1999Q4\",\"2000Q1\",\"2000Q2\",\"2000Q3\",\"2000Q4\",\"2001Q1\",\"2001Q2\",\"2001Q3\",\"2001Q4\",\"2002Q1\",\"2002Q2\",\"2002Q3\",\"2002Q4\",\"2003Q1\",\"2003Q2\",\"2003Q3\",\"2003Q4\",\"2004Q1\",\"2004Q2\",\"2004Q3\",\"2004Q4\",\"2005Q1\",\"2005Q2\",\"2005Q3\",\"2005Q4\",\"2006Q1\",\"2006Q2\",\"2006Q3\",\"2006Q4\",\"2007Q1\",\"2007Q2\",\"2007Q3\",\"2007Q4\",\"2008Q1\",\"2008Q2\",\"2008Q3\",\"2008Q4\",\"2009Q1\",\"2009Q2\",\"2009Q3\",\"2009Q4\",\"2010Q1\",\"2010Q2\",\"2010Q3\",\"2010Q4\",\"2011Q1\",\"2011Q2\",\"2011Q3\",\"2011Q4\",\"2012Q1\",\"2012Q2\",\"2012Q3\",\"2012Q4\",\"2013Q1\",\"2013Q2\",\"2013Q3\",\"2013Q4\",\"2014Q1\",\"2014Q2\",\"2014Q3\",\"2014Q4\",\"2015Q1\",\"2015Q2\",\"2015Q3\",\"2015Q4\",\"2016Q1\",\"2016Q2\",\"2016Q3\",\"2016Q4\",\"2017Q1\",\"2017Q2\",\"2017Q3\",\"2017Q4\",\"2018Q1\",\"2018Q2\",\"2018Q3\",\"2018Q4\"],\"xaxis\":\"x\",\"y\":[702000,716000,728000,733000,737000,742000,746000,752000,758000,764000,768000,770000,771000,773000,775000,779000,784000,788000,795000,801000,808000,815000,824000,838000,852000,866000,884000,907000,930000,953000,972000,983000,993000,1004000,1013000,1018000,1022000,1027000,1032000,1038000,1045000,1052000,1054000,1048000,1042000,1036000,1033000,1035000,1038000,1040000,1042000,1044000,1047000,1049000,1051000,1053000,1118184,1111905,1111793,1121716,1130638,1139560,1148483,1160405,1169327,1180250,1190172,1196095,1202017,1207940,1212862,1217784,1220707,1224629,1229552,1234474,1239396,1244319,1250241,1253163,1257086,1260008,1263931,1266853,1267776,1269698,1271620,1274543,1275465,1278388,1280310,1286232,1291155,1296077,1300999,1303922,1306845,1304290,1307952,1314262,1320259,1326293,1332851,1339838,1346464,1353132,1359716,1365459,1370411,1375227,1382103,1391626,1400389,1409539,1417875,1424184,1430173,1436450,1443532,1452508,1460266,1467739,1474194,1478383,1482053,1485713,1489649,1493625,1497151,1500704,1506474,1515944,1525004,1533969,1540930,1542925,1544284,1550521,1559634,1568094,1575497,1582516,1589704,1595143,1599238,1603768,1607885,1609925,1612090,1613592,1616140,1617444,1618644,1620116,1622209,1624273,1625626,1626832,1629294,1632647,1636358,1638710,1640988,1641421,1640818,1640356,1639817,1639632,1638979,1638293,1638110,1637717],\"yaxis\":\"y\",\"type\":\"scattergl\"},{\"hovertemplate\":\"color=Arizona\\u003cbr\\u003ex=%{x}\\u003cbr\\u003ey=%{y}\\u003cextra\\u003e\\u003c\\u002fextra\\u003e\",\"legendgroup\":\"Arizona\",\"line\":{\"color\":\"#00cc96\",\"dash\":\"solid\"},\"marker\":{\"symbol\":\"circle\"},\"mode\":\"markers+lines\",\"name\":\"Arizona\",\"showlegend\":true,\"x\":[\"1976Q1\",\"1976Q2\",\"1976Q3\",\"1976Q4\",\"1977Q1\",\"1977Q2\",\"1977Q3\",\"1977Q4\",\"1978Q1\",\"1978Q2\",\"1978Q3\",\"1978Q4\",\"1979Q1\",\"1979Q2\",\"1979Q3\",\"1979Q4\",\"1980Q1\",\"1980Q2\",\"1980Q3\",\"1980Q4\",\"1981Q1\",\"1981Q2\",\"1981Q3\",\"1981Q4\",\"1982Q1\",\"1982Q2\",\"1982Q3\",\"1982Q4\",\"1983Q1\",\"1983Q2\",\"1983Q3\",\"1983Q4\",\"1984Q1\",\"1984Q2\",\"1984Q3\",\"1984Q4\",\"1985Q1\",\"1985Q2\",\"1985Q3\",\"1985Q4\",\"1986Q1\",\"1986Q2\",\"1986Q3\",\"1986Q4\",\"1987Q1\",\"1987Q2\",\"1987Q3\",\"1987Q4\",\"1988Q1\",\"1988Q2\",\"1988Q3\",\"1988Q4\",\"1989Q1\",\"1989Q2\",\"1989Q3\",\"1989Q4\",\"1990Q1\",\"1990Q2\",\"1990Q3\",\"1990Q4\",\"1991Q1\",\"1991Q2\",\"1991Q3\",\"1991Q4\",\"1992Q1\",\"1992Q2\",\"1992Q3\",\"1992Q4\",\"1993Q1\",\"1993Q2\",\"1993Q3\",\"1993Q4\",\"1994Q1\",\"1994Q2\",\"1994Q3\",\"1994Q4\",\"1995Q1\",\"1995Q2\",\"1995Q3\",\"1995Q4\",\"1996Q1\",\"1996Q2\",\"1996Q3\",\"1996Q4\",\"1997Q1\",\"1997Q2\",\"1997Q3\",\"1997Q4\",\"1998Q1\",\"1998Q2\",\"1998Q3\",\"1998Q4\",\"1999Q1\",\"1999Q2\",\"1999Q3\",\"1999Q4\",\"2000Q1\",\"2000Q2\",\"2000Q3\",\"2000Q4\",\"2001Q1\",\"2001Q2\",\"2001Q3\",\"2001Q4\",\"2002Q1\",\"2002Q2\",\"2002Q3\",\"2002Q4\",\"2003Q1\",\"2003Q2\",\"2003Q3\",\"2003Q4\",\"2004Q1\",\"2004Q2\",\"2004Q3\",\"2004Q4\",\"2005Q1\",\"2005Q2\",\"2005Q3\",\"2005Q4\",\"2006Q1\",\"2006Q2\",\"2006Q3\",\"2006Q4\",\"2007Q1\",\"2007Q2\",\"2007Q3\",\"2007Q4\",\"2008Q1\",\"2008Q2\",\"2008Q3\",\"2008Q4\",\"2009Q1\",\"2009Q2\",\"2009Q3\",\"2009Q4\",\"2010Q1\",\"2010Q2\",\"2010Q3\",\"2010Q4\",\"2011Q1\",\"2011Q2\",\"2011Q3\",\"2011Q4\",\"2012Q1\",\"2012Q2\",\"2012Q3\",\"2012Q4\",\"2013Q1\",\"2013Q2\",\"2013Q3\",\"2013Q4\",\"2014Q1\",\"2014Q2\",\"2014Q3\",\"2014Q4\",\"2015Q1\",\"2015Q2\",\"2015Q3\",\"2015Q4\",\"2016Q1\",\"2016Q2\",\"2016Q3\",\"2016Q4\",\"2017Q1\",\"2017Q2\",\"2017Q3\",\"2017Q4\",\"2018Q1\",\"2018Q2\",\"2018Q3\",\"2018Q4\"],\"xaxis\":\"x\",\"y\":[4878000,4925000,4975000,5033000,5090000,5149000,5208000,5268000,5329000,5390000,5456000,5534000,5612000,5690000,5764000,5831000,5899000,5958000,6001000,6045000,6090000,6132000,6179000,6229000,6278000,6328000,6378000,6432000,6488000,6543000,6599000,6658000,6716000,6775000,6835000,6900000,6966000,7031000,7092000,7143000,7197000,7248000,7307000,7375000,7442000,7510000,7569000,7611000,7656000,7698000,7739000,7772000,7805000,7838000,7871000,7904000,8286875,8305622,8332811,8399865,8462919,8523973,8594028,8672081,8744136,8819190,8900243,8988298,9071352,9154406,9249461,9368514,9478568,9590623,9700676,9802731,9899785,9998839,10092894,10181947,10263001,10346056,10436109,10535164,10625218,10713272,10799326,10873380,10939434,11007489,11075542,11143597,11206651,11268704,11334759,11400813,11460867,11493137,11576737,11659725,11737568,11815410,11898826,11986524,12068794,12150013,12235669,12320765,12397145,12472032,12560591,12662072,12754678,12850093,12958519,13085139,13205919,13327531,13453830,13598129,13722842,13837478,13949524,14050164,14144221,14236979,14329673,14414526,14492934,14570638,14646417,14709930,14766771,14822335,14883071,14945059,14999554,14531401,14583052,14637052,14683926,14729312,14784014,14847404,14904914,14961047,15020769,15079856,15131141,15180673,15240859,15309945,15373103,15435460,15505426,15581681,15649314,15715582,15791238,15874303,15950871,16027038,16108291,16192029,16269018,16343812,16424816,16508430,16585417,16661133,16743332,16828333],\"yaxis\":\"y\",\"type\":\"scattergl\"},{\"hovertemplate\":\"color=Arkansas\\u003cbr\\u003ex=%{x}\\u003cbr\\u003ey=%{y}\\u003cextra\\u003e\\u003c\\u002fextra\\u003e\",\"legendgroup\":\"Arkansas\",\"line\":{\"color\":\"#ab63fa\",\"dash\":\"solid\"},\"marker\":{\"symbol\":\"circle\"},\"mode\":\"markers+lines\",\"name\":\"Arkansas\",\"showlegend\":true,\"x\":[\"1976Q1\",\"1976Q2\",\"1976Q3\",\"1976Q4\",\"1977Q1\",\"1977Q2\",\"1977Q3\",\"1977Q4\",\"1978Q1\",\"1978Q2\",\"1978Q3\",\"1978Q4\",\"1979Q1\",\"1979Q2\",\"1979Q3\",\"1979Q4\",\"1980Q1\",\"1980Q2\",\"1980Q3\",\"1980Q4\",\"1981Q1\",\"1981Q2\",\"1981Q3\",\"1981Q4\",\"1982Q1\",\"1982Q2\",\"1982Q3\",\"1982Q4\",\"1983Q1\",\"1983Q2\",\"1983Q3\",\"1983Q4\",\"1984Q1\",\"1984Q2\",\"1984Q3\",\"1984Q4\",\"1985Q1\",\"1985Q2\",\"1985Q3\",\"1985Q4\",\"1986Q1\",\"1986Q2\",\"1986Q3\",\"1986Q4\",\"1987Q1\",\"1987Q2\",\"1987Q3\",\"1987Q4\",\"1988Q1\",\"1988Q2\",\"1988Q3\",\"1988Q4\",\"1989Q1\",\"1989Q2\",\"1989Q3\",\"1989Q4\",\"1990Q1\",\"1990Q2\",\"1990Q3\",\"1990Q4\",\"1991Q1\",\"1991Q2\",\"1991Q3\",\"1991Q4\",\"1992Q1\",\"1992Q2\",\"1992Q3\",\"1992Q4\",\"1993Q1\",\"1993Q2\",\"1993Q3\",\"1993Q4\",\"1994Q1\",\"1994Q2\",\"1994Q3\",\"1994Q4\",\"1995Q1\",\"1995Q2\",\"1995Q3\",\"1995Q4\",\"1996Q1\",\"1996Q2\",\"1996Q3\",\"1996Q4\",\"1997Q1\",\"1997Q2\",\"1997Q3\",\"1997Q4\",\"1998Q1\",\"1998Q2\",\"1998Q3\",\"1998Q4\",\"1999Q1\",\"1999Q2\",\"1999Q3\",\"1999Q4\",\"2000Q1\",\"2000Q2\",\"2000Q3\",\"2000Q4\",\"2001Q1\",\"2001Q2\",\"2001Q3\",\"2001Q4\",\"2002Q1\",\"2002Q2\",\"2002Q3\",\"2002Q4\",\"2003Q1\",\"2003Q2\",\"2003Q3\",\"2003Q4\",\"2004Q1\",\"2004Q2\",\"2004Q3\",\"2004Q4\",\"2005Q1\",\"2005Q2\",\"2005Q3\",\"2005Q4\",\"2006Q1\",\"2006Q2\",\"2006Q3\",\"2006Q4\",\"2007Q1\",\"2007Q2\",\"2007Q3\",\"2007Q4\",\"2008Q1\",\"2008Q2\",\"2008Q3\",\"2008Q4\",\"2009Q1\",\"2009Q2\",\"2009Q3\",\"2009Q4\",\"2010Q1\",\"2010Q2\",\"2010Q3\",\"2010Q4\",\"2011Q1\",\"2011Q2\",\"2011Q3\",\"2011Q4\",\"2012Q1\",\"2012Q2\",\"2012Q3\",\"2012Q4\",\"2013Q1\",\"2013Q2\",\"2013Q3\",\"2013Q4\",\"2014Q1\",\"2014Q2\",\"2014Q3\",\"2014Q4\",\"2015Q1\",\"2015Q2\",\"2015Q3\",\"2015Q4\",\"2016Q1\",\"2016Q2\",\"2016Q3\",\"2016Q4\",\"2017Q1\",\"2017Q2\",\"2017Q3\",\"2017Q4\",\"2018Q1\",\"2018Q2\",\"2018Q3\",\"2018Q4\"],\"xaxis\":\"x\",\"y\":[4613000,4627000,4645000,4674000,4704000,4733000,4761000,4785000,4812000,4836000,4862000,4885000,4908000,4931000,4953000,4971000,4989000,5005000,5018000,5030000,5043000,5056000,5067000,5073000,5080000,5087000,5097000,5112000,5128000,5144000,5158000,5171000,5183000,5197000,5208000,5217000,5228000,5238000,5247000,5258000,5268000,5279000,5290000,5303000,5316000,5329000,5339000,5344000,5348000,5353000,5357000,5362000,5366000,5371000,5374000,5380000,5303349,5333530,5356882,5373589,5387295,5400000,5416706,5433413,5447118,5460824,5481531,5510236,5535942,5560648,5586354,5609060,5627766,5646472,5667178,5688884,5707590,5726295,5748002,5768708,5786413,5806120,5825826,5847531,5866237,5880944,5898649,5913355,5924062,5935767,5951473,5969179,5985885,6002591,6020297,6042003,6058709,6072029,6085423,6096362,6104668,6113332,6124115,6135167,6143539,6151754,6163678,6177972,6187681,6196840,6211002,6227311,6239151,6252904,6269862,6289126,6305918,6323561,6349600,6375098,6397830,6418882,6439842,6458514,6474286,6489857,6506860,6523623,6537469,6551248,6566477,6580448,6591768,6602548,6616416,6632057,6644140,6699434,6715654,6730207,6741460,6752498,6764463,6773703,6780838,6787729,6796506,6805672,6811144,6816604,6825113,6833849,6839985,6846299,6855600,6866686,6874075,6881489,6892156,6903995,6912987,6922599,6934549,6947734,6958246,6968292,6981017,6994218,7004682,7015069,7028176,7042102],\"yaxis\":\"y\",\"type\":\"scattergl\"},{\"hovertemplate\":\"color=California\\u003cbr\\u003ex=%{x}\\u003cbr\\u003ey=%{y}\\u003cextra\\u003e\\u003c\\u002fextra\\u003e\",\"legendgroup\":\"California\",\"line\":{\"color\":\"#FFA15A\",\"dash\":\"solid\"},\"marker\":{\"symbol\":\"circle\"},\"mode\":\"markers+lines\",\"name\":\"California\",\"showlegend\":true,\"x\":[\"1976Q1\",\"1976Q2\",\"1976Q3\",\"1976Q4\",\"1977Q1\",\"1977Q2\",\"1977Q3\",\"1977Q4\",\"1978Q1\",\"1978Q2\",\"1978Q3\",\"1978Q4\",\"1979Q1\",\"1979Q2\",\"1979Q3\",\"1979Q4\",\"1980Q1\",\"1980Q2\",\"1980Q3\",\"1980Q4\",\"1981Q1\",\"1981Q2\",\"1981Q3\",\"1981Q4\",\"1982Q1\",\"1982Q2\",\"1982Q3\",\"1982Q4\",\"1983Q1\",\"1983Q2\",\"1983Q3\",\"1983Q4\",\"1984Q1\",\"1984Q2\",\"1984Q3\",\"1984Q4\",\"1985Q1\",\"1985Q2\",\"1985Q3\",\"1985Q4\",\"1986Q1\",\"1986Q2\",\"1986Q3\",\"1986Q4\",\"1987Q1\",\"1987Q2\",\"1987Q3\",\"1987Q4\",\"1988Q1\",\"1988Q2\",\"1988Q3\",\"1988Q4\",\"1989Q1\",\"1989Q2\",\"1989Q3\",\"1989Q4\",\"1990Q1\",\"1990Q2\",\"1990Q3\",\"1990Q4\",\"1991Q1\",\"1991Q2\",\"1991Q3\",\"1991Q4\",\"1992Q1\",\"1992Q2\",\"1992Q3\",\"1992Q4\",\"1993Q1\",\"1993Q2\",\"1993Q3\",\"1993Q4\",\"1994Q1\",\"1994Q2\",\"1994Q3\",\"1994Q4\",\"1995Q1\",\"1995Q2\",\"1995Q3\",\"1995Q4\",\"1996Q1\",\"1996Q2\",\"1996Q3\",\"1996Q4\",\"1997Q1\",\"1997Q2\",\"1997Q3\",\"1997Q4\",\"1998Q1\",\"1998Q2\",\"1998Q3\",\"1998Q4\",\"1999Q1\",\"1999Q2\",\"1999Q3\",\"1999Q4\",\"2000Q1\",\"2000Q2\",\"2000Q3\",\"2000Q4\",\"2001Q1\",\"2001Q2\",\"2001Q3\",\"2001Q4\",\"2002Q1\",\"2002Q2\",\"2002Q3\",\"2002Q4\",\"2003Q1\",\"2003Q2\",\"2003Q3\",\"2003Q4\",\"2004Q1\",\"2004Q2\",\"2004Q3\",\"2004Q4\",\"2005Q1\",\"2005Q2\",\"2005Q3\",\"2005Q4\",\"2006Q1\",\"2006Q2\",\"2006Q3\",\"2006Q4\",\"2007Q1\",\"2007Q2\",\"2007Q3\",\"2007Q4\",\"2008Q1\",\"2008Q2\",\"2008Q3\",\"2008Q4\",\"2009Q1\",\"2009Q2\",\"2009Q3\",\"2009Q4\",\"2010Q1\",\"2010Q2\",\"2010Q3\",\"2010Q4\",\"2011Q1\",\"2011Q2\",\"2011Q3\",\"2011Q4\",\"2012Q1\",\"2012Q2\",\"2012Q3\",\"2012Q4\",\"2013Q1\",\"2013Q2\",\"2013Q3\",\"2013Q4\",\"2014Q1\",\"2014Q2\",\"2014Q3\",\"2014Q4\",\"2015Q1\",\"2015Q2\",\"2015Q3\",\"2015Q4\",\"2016Q1\",\"2016Q2\",\"2016Q3\",\"2016Q4\",\"2017Q1\",\"2017Q2\",\"2017Q3\",\"2017Q4\",\"2018Q1\",\"2018Q2\",\"2018Q3\",\"2018Q4\"],\"xaxis\":\"x\",\"y\":[46972000,47303000,47636000,47974000,48312000,48650000,49000000,49373000,49745000,50119000,50475000,50801000,51126000,51452000,51800000,52192000,52585000,52939000,53221000,53503000,53785000,54067000,54347000,54623000,54899000,55175000,55425000,55620000,55818000,56013000,56261000,56608000,56955000,57302000,57658000,58031000,58403000,58777000,59125000,59424000,59724000,60023000,60340000,60695000,61050000,61405000,61754000,62093000,62432000,62771000,63117000,63477000,63834000,64194000,64556000,64924000,67714824,67720007,67787197,67957020,68088844,68218668,68404492,68658316,68867139,69089963,69273786,69351611,69385435,69414258,69466082,69524905,69532729,69548554,69592377,69662201,69697024,69736848,69823672,69974496,70076320,70202143,70409967,70749790,71029615,71302439,71629262,71994086,72310909,72635733,72979558,73333381,73647205,73962028,74295852,74623676,74906500,75189252,75480838,75818123,76127518,76432760,76739415,77016722,77264306,77503623,77771159,78049783,78279900,78498198,78751693,78997056,79194229,79404292,79622285,79819032,79986283,80155747,80339153,80659820,80834898,80930491,81079144,81307523,81503148,81687641,81913050,82190818,82437730,82678842,82942508,83217411,83460255,83692810,83957839,84249868,84505073,85703423,85984779,86285137,86552054,86806587,87092563,87398085,87675511,87942020,88225015,88512057,88765046,89003372,89277198,89562325,89825239,90080265,90355581,90635629,90878122,91110207,91362790,91608701,91830002,92044570,92272587,92494692,92686082,92864088,93061142,93265165,93439274,93606226,93802273,94011900],\"yaxis\":\"y\",\"type\":\"scattergl\"},{\"hovertemplate\":\"color=Colorado\\u003cbr\\u003ex=%{x}\\u003cbr\\u003ey=%{y}\\u003cextra\\u003e\\u003c\\u002fextra\\u003e\",\"legendgroup\":\"Colorado\",\"line\":{\"color\":\"#19d3f3\",\"dash\":\"solid\"},\"marker\":{\"symbol\":\"circle\"},\"mode\":\"markers+lines\",\"name\":\"Colorado\",\"showlegend\":true,\"x\":[\"1976Q1\",\"1976Q2\",\"1976Q3\",\"1976Q4\",\"1977Q1\",\"1977Q2\",\"1977Q3\",\"1977Q4\",\"1978Q1\",\"1978Q2\",\"1978Q3\",\"1978Q4\",\"1979Q1\",\"1979Q2\",\"1979Q3\",\"1979Q4\",\"1980Q1\",\"1980Q2\",\"1980Q3\",\"1980Q4\",\"1981Q1\",\"1981Q2\",\"1981Q3\",\"1981Q4\",\"1982Q1\",\"1982Q2\",\"1982Q3\",\"1982Q4\",\"1983Q1\",\"1983Q2\",\"1983Q3\",\"1983Q4\",\"1984Q1\",\"1984Q2\",\"1984Q3\",\"1984Q4\",\"1985Q1\",\"1985Q2\",\"1985Q3\",\"1985Q4\",\"1986Q1\",\"1986Q2\",\"1986Q3\",\"1986Q4\",\"1987Q1\",\"1987Q2\",\"1987Q3\",\"1987Q4\",\"1988Q1\",\"1988Q2\",\"1988Q3\",\"1988Q4\",\"1989Q1\",\"1989Q2\",\"1989Q3\",\"1989Q4\",\"1990Q1\",\"1990Q2\",\"1990Q3\",\"1990Q4\",\"1991Q1\",\"1991Q2\",\"1991Q3\",\"1991Q4\",\"1992Q1\",\"1992Q2\",\"1992Q3\",\"1992Q4\",\"1993Q1\",\"1993Q2\",\"1993Q3\",\"1993Q4\",\"1994Q1\",\"1994Q2\",\"1994Q3\",\"1994Q4\",\"1995Q1\",\"1995Q2\",\"1995Q3\",\"1995Q4\",\"1996Q1\",\"1996Q2\",\"1996Q3\",\"1996Q4\",\"1997Q1\",\"1997Q2\",\"1997Q3\",\"1997Q4\",\"1998Q1\",\"1998Q2\",\"1998Q3\",\"1998Q4\",\"1999Q1\",\"1999Q2\",\"1999Q3\",\"1999Q4\",\"2000Q1\",\"2000Q2\",\"2000Q3\",\"2000Q4\",\"2001Q1\",\"2001Q2\",\"2001Q3\",\"2001Q4\",\"2002Q1\",\"2002Q2\",\"2002Q3\",\"2002Q4\",\"2003Q1\",\"2003Q2\",\"2003Q3\",\"2003Q4\",\"2004Q1\",\"2004Q2\",\"2004Q3\",\"2004Q4\",\"2005Q1\",\"2005Q2\",\"2005Q3\",\"2005Q4\",\"2006Q1\",\"2006Q2\",\"2006Q3\",\"2006Q4\",\"2007Q1\",\"2007Q2\",\"2007Q3\",\"2007Q4\",\"2008Q1\",\"2008Q2\",\"2008Q3\",\"2008Q4\",\"2009Q1\",\"2009Q2\",\"2009Q3\",\"2009Q4\",\"2010Q1\",\"2010Q2\",\"2010Q3\",\"2010Q4\",\"2011Q1\",\"2011Q2\",\"2011Q3\",\"2011Q4\",\"2012Q1\",\"2012Q2\",\"2012Q3\",\"2012Q4\",\"2013Q1\",\"2013Q2\",\"2013Q3\",\"2013Q4\",\"2014Q1\",\"2014Q2\",\"2014Q3\",\"2014Q4\",\"2015Q1\",\"2015Q2\",\"2015Q3\",\"2015Q4\",\"2016Q1\",\"2016Q2\",\"2016Q3\",\"2016Q4\",\"2017Q1\",\"2017Q2\",\"2017Q3\",\"2017Q4\",\"2018Q1\",\"2018Q2\",\"2018Q3\",\"2018Q4\"],\"xaxis\":\"x\",\"y\":[5510000,5551000,5594000,5644000,5694000,5744000,5796000,5850000,5901000,5955000,6011000,6070000,6129000,6188000,6241000,6280000,6319000,6360000,6405000,6450000,6495000,6540000,6588000,6639000,6691000,6743000,6792000,6837000,6884000,6930000,6969000,6996000,7025000,7053000,7079000,7102000,7124000,7147000,7169000,7192000,7215000,7238000,7260000,7275000,7291000,7307000,7319000,7324000,7329000,7334000,7342000,7353000,7365000,7376000,7386000,7398000,7454617,7447753,7456461,7506258,7553056,7597853,7649651,7710448,7765246,7823043,7886841,7962638,8033436,8103233,8175031,8248828,8316626,8384423,8453221,8519018,8580816,8641613,8705411,8766208,8821006,8878803,8937601,8997398,9049196,9101993,9155791,9208588,9254386,9303183,9357981,9423778,9484576,9544373,9606171,9663969,9713767,9756524,9819805,9885973,9948566,10011614,10070417,10115372,10156509,10197622,10239898,10277533,10308478,10338602,10372496,10402272,10425447,10451601,10485671,10529995,10570718,10613002,10662185,10731534,10786586,10836606,10890072,10946319,10998176,11049886,11105616,11164098,11218175,11272691,11329999,11386501,11438586,11490357,11542627,11588460,11628850,11557782,11601916,11652297,11697116,11741394,11791520,11844292,11892172,11940378,11993402,12049361,12100370,12150577,12207145,12265184,12319543,12374355,12437601,12510194,12576543,12643080,12713920,12783681,12849366,12914643,12980320,13038613,13091726,13144718,13202062,13261439,13316306,13371394,13431460,13492975],\"yaxis\":\"y\",\"type\":\"scattergl\"},{\"hovertemplate\":\"color=Connecticut\\u003cbr\\u003ex=%{x}\\u003cbr\\u003ey=%{y}\\u003cextra\\u003e\\u003c\\u002fextra\\u003e\",\"legendgroup\":\"Connecticut\",\"line\":{\"color\":\"#FF6692\",\"dash\":\"solid\"},\"marker\":{\"symbol\":\"circle\"},\"mode\":\"markers+lines\",\"name\":\"Connecticut\",\"showlegend\":true,\"x\":[\"1976Q1\",\"1976Q2\",\"1976Q3\",\"1976Q4\",\"1977Q1\",\"1977Q2\",\"1977Q3\",\"1977Q4\",\"1978Q1\",\"1978Q2\",\"1978Q3\",\"1978Q4\",\"1979Q1\",\"1979Q2\",\"1979Q3\",\"1979Q4\",\"1980Q1\",\"1980Q2\",\"1980Q3\",\"1980Q4\",\"1981Q1\",\"1981Q2\",\"1981Q3\",\"1981Q4\",\"1982Q1\",\"1982Q2\",\"1982Q3\",\"1982Q4\",\"1983Q1\",\"1983Q2\",\"1983Q3\",\"1983Q4\",\"1984Q1\",\"1984Q2\",\"1984Q3\",\"1984Q4\",\"1985Q1\",\"1985Q2\",\"1985Q3\",\"1985Q4\",\"1986Q1\",\"1986Q2\",\"1986Q3\",\"1986Q4\",\"1987Q1\",\"1987Q2\",\"1987Q3\",\"1987Q4\",\"1988Q1\",\"1988Q2\",\"1988Q3\",\"1988Q4\",\"1989Q1\",\"1989Q2\",\"1989Q3\",\"1989Q4\",\"1990Q1\",\"1990Q2\",\"1990Q3\",\"1990Q4\",\"1991Q1\",\"1991Q2\",\"1991Q3\",\"1991Q4\",\"1992Q1\",\"1992Q2\",\"1992Q3\",\"1992Q4\",\"1993Q1\",\"1993Q2\",\"1993Q3\",\"1993Q4\",\"1994Q1\",\"1994Q2\",\"1994Q3\",\"1994Q4\",\"1995Q1\",\"1995Q2\",\"1995Q3\",\"1995Q4\",\"1996Q1\",\"1996Q2\",\"1996Q3\",\"1996Q4\",\"1997Q1\",\"1997Q2\",\"1997Q3\",\"1997Q4\",\"1998Q1\",\"1998Q2\",\"1998Q3\",\"1998Q4\",\"1999Q1\",\"1999Q2\",\"1999Q3\",\"1999Q4\",\"2000Q1\",\"2000Q2\",\"2000Q3\",\"2000Q4\",\"2001Q1\",\"2001Q2\",\"2001Q3\",\"2001Q4\",\"2002Q1\",\"2002Q2\",\"2002Q3\",\"2002Q4\",\"2003Q1\",\"2003Q2\",\"2003Q3\",\"2003Q4\",\"2004Q1\",\"2004Q2\",\"2004Q3\",\"2004Q4\",\"2005Q1\",\"2005Q2\",\"2005Q3\",\"2005Q4\",\"2006Q1\",\"2006Q2\",\"2006Q3\",\"2006Q4\",\"2007Q1\",\"2007Q2\",\"2007Q3\",\"2007Q4\",\"2008Q1\",\"2008Q2\",\"2008Q3\",\"2008Q4\",\"2009Q1\",\"2009Q2\",\"2009Q3\",\"2009Q4\",\"2010Q1\",\"2010Q2\",\"2010Q3\",\"2010Q4\",\"2011Q1\",\"2011Q2\",\"2011Q3\",\"2011Q4\",\"2012Q1\",\"2012Q2\",\"2012Q3\",\"2012Q4\",\"2013Q1\",\"2013Q2\",\"2013Q3\",\"2013Q4\",\"2014Q1\",\"2014Q2\",\"2014Q3\",\"2014Q4\",\"2015Q1\",\"2015Q2\",\"2015Q3\",\"2015Q4\",\"2016Q1\",\"2016Q2\",\"2016Q3\",\"2016Q4\",\"2017Q1\",\"2017Q2\",\"2017Q3\",\"2017Q4\",\"2018Q1\",\"2018Q2\",\"2018Q3\",\"2018Q4\"],\"xaxis\":\"x\",\"y\":[6752000,6771000,6789000,6809000,6828000,6848000,6868000,6888000,6909000,6929000,6948000,6968000,6987000,7007000,7027000,7049000,7072000,7093000,7115000,7138000,7160000,7183000,7202000,7216000,7230000,7244000,7257000,7268000,7278000,7289000,7301000,7316000,7331000,7346000,7361000,7375000,7389000,7403000,7417000,7430000,7442000,7456000,7469000,7483000,7498000,7511000,7524000,7533000,7542000,7551000,7556000,7553000,7550000,7547000,7545000,7544000,7702554,7721093,7730115,7728282,7721449,7715616,7709785,7701953,7689120,7676287,7669454,7668624,7662791,7655958,7654125,7654294,7648462,7644629,7643796,7646964,7647133,7648300,7652467,7661634,7665804,7670971,7680138,7689305,7692474,7695642,7701809,7709976,7712143,7715313,7720480,7730647,7736814,7741983,7751151,7763318,7771485,7772931,7789428,7803842,7814637,7825607,7840467,7858215,7872486,7886343,7903754,7922174,7934846,7946861,7962118,7973834,7979852,7988347,7998860,8008668,8015116,8022348,8033405,8056325,8067829,8075823,8086305,8098503,8106945,8114969,8127541,8145289,8159184,8172948,8189234,8206017,8219146,8231690,8247239,8263923,8276075,8415050,8438467,8457486,8472458,8486963,8503081,8516908,8527976,8538511,8551338,8564454,8572924,8581350,8592294,8601011,8606941,8612709,8620231,8626588,8628671,8630427,8635438,8640831,8643043,8645421,8651005,8658559,8663069,8666686,8673151,8679686,8682989,8685941,8691829,8698132],\"yaxis\":\"y\",\"type\":\"scattergl\"},{\"hovertemplate\":\"color=Delaware\\u003cbr\\u003ex=%{x}\\u003cbr\\u003ey=%{y}\\u003cextra\\u003e\\u003c\\u002fextra\\u003e\",\"legendgroup\":\"Delaware\",\"line\":{\"color\":\"#B6E880\",\"dash\":\"solid\"},\"marker\":{\"symbol\":\"circle\"},\"mode\":\"markers+lines\",\"name\":\"Delaware\",\"showlegend\":true,\"x\":[\"1976Q1\",\"1976Q2\",\"1976Q3\",\"1976Q4\",\"1977Q1\",\"1977Q2\",\"1977Q3\",\"1977Q4\",\"1978Q1\",\"1978Q2\",\"1978Q3\",\"1978Q4\",\"1979Q1\",\"1979Q2\",\"1979Q3\",\"1979Q4\",\"1980Q1\",\"1980Q2\",\"1980Q3\",\"1980Q4\",\"1981Q1\",\"1981Q2\",\"1981Q3\",\"1981Q4\",\"1982Q1\",\"1982Q2\",\"1982Q3\",\"1982Q4\",\"1983Q1\",\"1983Q2\",\"1983Q3\",\"1983Q4\",\"1984Q1\",\"1984Q2\",\"1984Q3\",\"1984Q4\",\"1985Q1\",\"1985Q2\",\"1985Q3\",\"1985Q4\",\"1986Q1\",\"1986Q2\",\"1986Q3\",\"1986Q4\",\"1987Q1\",\"1987Q2\",\"1987Q3\",\"1987Q4\",\"1988Q1\",\"1988Q2\",\"1988Q3\",\"1988Q4\",\"1989Q1\",\"1989Q2\",\"1989Q3\",\"1989Q4\",\"1990Q1\",\"1990Q2\",\"1990Q3\",\"1990Q4\",\"1991Q1\",\"1991Q2\",\"1991Q3\",\"1991Q4\",\"1992Q1\",\"1992Q2\",\"1992Q3\",\"1992Q4\",\"1993Q1\",\"1993Q2\",\"1993Q3\",\"1993Q4\",\"1994Q1\",\"1994Q2\",\"1994Q3\",\"1994Q4\",\"1995Q1\",\"1995Q2\",\"1995Q3\",\"1995Q4\",\"1996Q1\",\"1996Q2\",\"1996Q3\",\"1996Q4\",\"1997Q1\",\"1997Q2\",\"1997Q3\",\"1997Q4\",\"1998Q1\",\"1998Q2\",\"1998Q3\",\"1998Q4\",\"1999Q1\",\"1999Q2\",\"1999Q3\",\"1999Q4\",\"2000Q1\",\"2000Q2\",\"2000Q3\",\"2000Q4\",\"2001Q1\",\"2001Q2\",\"2001Q3\",\"2001Q4\",\"2002Q1\",\"2002Q2\",\"2002Q3\",\"2002Q4\",\"2003Q1\",\"2003Q2\",\"2003Q3\",\"2003Q4\",\"2004Q1\",\"2004Q2\",\"2004Q3\",\"2004Q4\",\"2005Q1\",\"2005Q2\",\"2005Q3\",\"2005Q4\",\"2006Q1\",\"2006Q2\",\"2006Q3\",\"2006Q4\",\"2007Q1\",\"2007Q2\",\"2007Q3\",\"2007Q4\",\"2008Q1\",\"2008Q2\",\"2008Q3\",\"2008Q4\",\"2009Q1\",\"2009Q2\",\"2009Q3\",\"2009Q4\",\"2010Q1\",\"2010Q2\",\"2010Q3\",\"2010Q4\",\"2011Q1\",\"2011Q2\",\"2011Q3\",\"2011Q4\",\"2012Q1\",\"2012Q2\",\"2012Q3\",\"2012Q4\",\"2013Q1\",\"2013Q2\",\"2013Q3\",\"2013Q4\",\"2014Q1\",\"2014Q2\",\"2014Q3\",\"2014Q4\",\"2015Q1\",\"2015Q2\",\"2015Q3\",\"2015Q4\",\"2016Q1\",\"2016Q2\",\"2016Q3\",\"2016Q4\",\"2017Q1\",\"2017Q2\",\"2017Q3\",\"2017Q4\",\"2018Q1\",\"2018Q2\",\"2018Q3\",\"2018Q4\"],\"xaxis\":\"x\",\"y\":[1253000,1259000,1265000,1271000,1277000,1283000,1289000,1294000,1298000,1303000,1306000,1310000,1313000,1318000,1320000,1319000,1317000,1318000,1322000,1325000,1329000,1333000,1337000,1342000,1346000,1351000,1354000,1358000,1361000,1366000,1370000,1375000,1380000,1385000,1392000,1398000,1405000,1412000,1418000,1424000,1430000,1436000,1443000,1452000,1459000,1467000,1476000,1482000,1491000,1497000,1506000,1512000,1519000,1526000,1531000,1538000,1525971,1532836,1539826,1546511,1553195,1559879,1566563,1572249,1576934,1582618,1588302,1595986,1602672,1608357,1615041,1620725,1626409,1631095,1637780,1645464,1655148,1661832,1671519,1678203,1684887,1691571,1699255,1705942,1711626,1717310,1722994,1729678,1736365,1741049,1747733,1753417,1760101,1764788,1771472,1778156,1783840,1786969,1794012,1800157,1805590,1811052,1817190,1823854,1829779,1835656,1842530,1850159,1856566,1862725,1870355,1878658,1885768,1893364,1901966,1911546,1920398,1929487,1939128,1950776,1959913,1968371,1976920,1985240,1992722,2000093,2008039,2016362,2023771,2031102,2038428,2044541,2049922,2055027,2060916,2067271,2072568,2106459,2112690,2119710,2125805,2131535,2138028,2144940,2151094,2157062,2163618,2170475,2176351,2181992,2188997,2197057,2204470,2211598,2219357,2226994,2233401,2239659,2246767,2253994,2260318,2266485,2273560,2281294,2287997,2294372,2301606,2309211,2315814,2322272,2329669,2337601],\"yaxis\":\"y\",\"type\":\"scattergl\"},{\"hovertemplate\":\"color=District of Columbia\\u003cbr\\u003ex=%{x}\\u003cbr\\u003ey=%{y}\\u003cextra\\u003e\\u003c\\u002fextra\\u003e\",\"legendgroup\":\"District of Columbia\",\"line\":{\"color\":\"#FF97FF\",\"dash\":\"solid\"},\"marker\":{\"symbol\":\"circle\"},\"mode\":\"markers+lines\",\"name\":\"District of Columbia\",\"showlegend\":true,\"x\":[\"1976Q1\",\"1976Q2\",\"1976Q3\",\"1976Q4\",\"1977Q1\",\"1977Q2\",\"1977Q3\",\"1977Q4\",\"1978Q1\",\"1978Q2\",\"1978Q3\",\"1978Q4\",\"1979Q1\",\"1979Q2\",\"1979Q3\",\"1979Q4\",\"1980Q1\",\"1980Q2\",\"1980Q3\",\"1980Q4\",\"1981Q1\",\"1981Q2\",\"1981Q3\",\"1981Q4\",\"1982Q1\",\"1982Q2\",\"1982Q3\",\"1982Q4\",\"1983Q1\",\"1983Q2\",\"1983Q3\",\"1983Q4\",\"1984Q1\",\"1984Q2\",\"1984Q3\",\"1984Q4\",\"1985Q1\",\"1985Q2\",\"1985Q3\",\"1985Q4\",\"1986Q1\",\"1986Q2\",\"1986Q3\",\"1986Q4\",\"1987Q1\",\"1987Q2\",\"1987Q3\",\"1987Q4\",\"1988Q1\",\"1988Q2\",\"1988Q3\",\"1988Q4\",\"1989Q1\",\"1989Q2\",\"1989Q3\",\"1989Q4\",\"1990Q1\",\"1990Q2\",\"1990Q3\",\"1990Q4\",\"1991Q1\",\"1991Q2\",\"1991Q3\",\"1991Q4\",\"1992Q1\",\"1992Q2\",\"1992Q3\",\"1992Q4\",\"1993Q1\",\"1993Q2\",\"1993Q3\",\"1993Q4\",\"1994Q1\",\"1994Q2\",\"1994Q3\",\"1994Q4\",\"1995Q1\",\"1995Q2\",\"1995Q3\",\"1995Q4\",\"1996Q1\",\"1996Q2\",\"1996Q3\",\"1996Q4\",\"1997Q1\",\"1997Q2\",\"1997Q3\",\"1997Q4\",\"1998Q1\",\"1998Q2\",\"1998Q3\",\"1998Q4\",\"1999Q1\",\"1999Q2\",\"1999Q3\",\"1999Q4\",\"2000Q1\",\"2000Q2\",\"2000Q3\",\"2000Q4\",\"2001Q1\",\"2001Q2\",\"2001Q3\",\"2001Q4\",\"2002Q1\",\"2002Q2\",\"2002Q3\",\"2002Q4\",\"2003Q1\",\"2003Q2\",\"2003Q3\",\"2003Q4\",\"2004Q1\",\"2004Q2\",\"2004Q3\",\"2004Q4\",\"2005Q1\",\"2005Q2\",\"2005Q3\",\"2005Q4\",\"2006Q1\",\"2006Q2\",\"2006Q3\",\"2006Q4\",\"2007Q1\",\"2007Q2\",\"2007Q3\",\"2007Q4\",\"2008Q1\",\"2008Q2\",\"2008Q3\",\"2008Q4\",\"2009Q1\",\"2009Q2\",\"2009Q3\",\"2009Q4\",\"2010Q1\",\"2010Q2\",\"2010Q3\",\"2010Q4\",\"2011Q1\",\"2011Q2\",\"2011Q3\",\"2011Q4\",\"2012Q1\",\"2012Q2\",\"2012Q3\",\"2012Q4\",\"2013Q1\",\"2013Q2\",\"2013Q3\",\"2013Q4\",\"2014Q1\",\"2014Q2\",\"2014Q3\",\"2014Q4\",\"2015Q1\",\"2015Q2\",\"2015Q3\",\"2015Q4\",\"2016Q1\",\"2016Q2\",\"2016Q3\",\"2016Q4\",\"2017Q1\",\"2017Q2\",\"2017Q3\",\"2017Q4\",\"2018Q1\",\"2018Q2\",\"2018Q3\",\"2018Q4\"],\"xaxis\":\"x\",\"y\":[1558000,1553000,1550000,1546000,1543000,1538000,1536000,1533000,1531000,1529000,1525000,1520000,1515000,1510000,1503000,1494000,1482000,1475000,1473000,1470000,1468000,1466000,1463000,1460000,1457000,1454000,1452000,1452000,1450000,1449000,1449000,1449000,1449000,1449000,1449000,1449000,1451000,1452000,1451000,1447000,1444000,1439000,1436000,1432000,1429000,1424000,1420000,1414000,1408000,1402000,1395000,1386000,1375000,1365000,1356000,1347000,1442493,1459022,1465774,1458065,1450355,1442646,1434936,1432227,1426517,1421808,1419098,1417389,1416679,1413969,1412260,1407550,1401841,1396131,1391421,1384712,1379003,1373293,1368584,1365874,1363164,1360455,1358745,1357036,1354326,1351616,1351907,1352197,1355488,1356779,1359069,1362359,1365650,1368940,1372231,1375521,1375811,1371613,1372645,1376249,1379279,1382234,1384523,1385072,1385098,1385010,1385125,1384873,1383623,1382024,1382390,1384983,1386674,1388689,1391011,1393540,1395691,1397934,1400438,1405288,1407672,1409145,1410968,1413780,1416075,1418285,1420920,1424393,1427277,1430084,1434471,1441549,1448057,1454344,1461428,1469425,1476709,1510016,1518568,1528346,1537271,1546082,1555099,1563616,1571781,1579662,1587927,1595908,1603173,1610389,1617537,1623271,1628536,1633813,1639829,1646515,1652461,1658336,1665020,1672188,1678859,1685453,1691809,1697045,1701693,1706185,1711122,1716251,1720869,1725423,1730425,1735497],\"yaxis\":\"y\",\"type\":\"scattergl\"},{\"hovertemplate\":\"color=Florida\\u003cbr\\u003ex=%{x}\\u003cbr\\u003ey=%{y}\\u003cextra\\u003e\\u003c\\u002fextra\\u003e\",\"legendgroup\":\"Florida\",\"line\":{\"color\":\"#FECB52\",\"dash\":\"solid\"},\"marker\":{\"symbol\":\"circle\"},\"mode\":\"markers+lines\",\"name\":\"Florida\",\"showlegend\":true,\"x\":[\"1976Q1\",\"1976Q2\",\"1976Q3\",\"1976Q4\",\"1977Q1\",\"1977Q2\",\"1977Q3\",\"1977Q4\",\"1978Q1\",\"1978Q2\",\"1978Q3\",\"1978Q4\",\"1979Q1\",\"1979Q2\",\"1979Q3\",\"1979Q4\",\"1980Q1\",\"1980Q2\",\"1980Q3\",\"1980Q4\",\"1981Q1\",\"1981Q2\",\"1981Q3\",\"1981Q4\",\"1982Q1\",\"1982Q2\",\"1982Q3\",\"1982Q4\",\"1983Q1\",\"1983Q2\",\"1983Q3\",\"1983Q4\",\"1984Q1\",\"1984Q2\",\"1984Q3\",\"1984Q4\",\"1985Q1\",\"1985Q2\",\"1985Q3\",\"1985Q4\",\"1986Q1\",\"1986Q2\",\"1986Q3\",\"1986Q4\",\"1987Q1\",\"1987Q2\",\"1987Q3\",\"1987Q4\",\"1988Q1\",\"1988Q2\",\"1988Q3\",\"1988Q4\",\"1989Q1\",\"1989Q2\",\"1989Q3\",\"1989Q4\",\"1990Q1\",\"1990Q2\",\"1990Q3\",\"1990Q4\",\"1991Q1\",\"1991Q2\",\"1991Q3\",\"1991Q4\",\"1992Q1\",\"1992Q2\",\"1992Q3\",\"1992Q4\",\"1993Q1\",\"1993Q2\",\"1993Q3\",\"1993Q4\",\"1994Q1\",\"1994Q2\",\"1994Q3\",\"1994Q4\",\"1995Q1\",\"1995Q2\",\"1995Q3\",\"1995Q4\",\"1996Q1\",\"1996Q2\",\"1996Q3\",\"1996Q4\",\"1997Q1\",\"1997Q2\",\"1997Q3\",\"1997Q4\",\"1998Q1\",\"1998Q2\",\"1998Q3\",\"1998Q4\",\"1999Q1\",\"1999Q2\",\"1999Q3\",\"1999Q4\",\"2000Q1\",\"2000Q2\",\"2000Q3\",\"2000Q4\",\"2001Q1\",\"2001Q2\",\"2001Q3\",\"2001Q4\",\"2002Q1\",\"2002Q2\",\"2002Q3\",\"2002Q4\",\"2003Q1\",\"2003Q2\",\"2003Q3\",\"2003Q4\",\"2004Q1\",\"2004Q2\",\"2004Q3\",\"2004Q4\",\"2005Q1\",\"2005Q2\",\"2005Q3\",\"2005Q4\",\"2006Q1\",\"2006Q2\",\"2006Q3\",\"2006Q4\",\"2007Q1\",\"2007Q2\",\"2007Q3\",\"2007Q4\",\"2008Q1\",\"2008Q2\",\"2008Q3\",\"2008Q4\",\"2009Q1\",\"2009Q2\",\"2009Q3\",\"2009Q4\",\"2010Q1\",\"2010Q2\",\"2010Q3\",\"2010Q4\",\"2011Q1\",\"2011Q2\",\"2011Q3\",\"2011Q4\",\"2012Q1\",\"2012Q2\",\"2012Q3\",\"2012Q4\",\"2013Q1\",\"2013Q2\",\"2013Q3\",\"2013Q4\",\"2014Q1\",\"2014Q2\",\"2014Q3\",\"2014Q4\",\"2015Q1\",\"2015Q2\",\"2015Q3\",\"2015Q4\",\"2016Q1\",\"2016Q2\",\"2016Q3\",\"2016Q4\",\"2017Q1\",\"2017Q2\",\"2017Q3\",\"2017Q4\",\"2018Q1\",\"2018Q2\",\"2018Q3\",\"2018Q4\"],\"xaxis\":\"x\",\"y\":[19310000,19450000,19595000,19753000,19911000,20069000,20238000,20424000,20611000,20798000,21001000,21237000,21474000,21710000,21954000,22215000,22474000,22722000,22947000,23172000,23397000,23622000,23833000,24015000,24198000,24380000,24561000,24741000,24918000,25098000,25283000,25478000,25673000,25868000,26062000,26254000,26446000,26638000,26829000,27018000,27209000,27399000,27591000,27792000,27990000,28191000,28380000,28551000,28724000,28896000,29067000,29240000,29412000,29585000,29758000,29935000,30684190,30701907,30766526,30979722,31177919,31373116,31561313,31715510,31850707,31988904,32141101,32297298,32434495,32568692,32726889,32908085,33069283,33231480,33404676,33582874,33746071,33910267,34087465,34276662,34442858,34620056,34811252,35015449,35192647,35365843,35556040,35744238,35910434,36080631,36256829,36434025,36592222,36751419,36925616,37109813,37274010,37347052,37525449,37724846,37904221,38083205,38282222,38495680,38689018,38878289,39082098,39281022,39449623,39612420,39823580,40080135,40305250,40540645,40796210,41064248,41311314,41560006,41802544,42062347,42253338,42415255,42576966,42719117,42839343,42955332,43079491,43196592,43291441,43382856,43482662,43571465,43639284,43702210,43798253,43933560,44043366,44923600,45084587,45288412,45467966,45641139,45828668,46012647,46178295,46337671,46512837,46696404,46853590,47005214,47195627,47420962,47627830,47830057,48061608,48325226,48560586,48790031,49045947,49318682,49568959,49813699,50066279,50306329,50523352,50731624,50959457,51195933,51409379,51616631,51845665,52084755],\"yaxis\":\"y\",\"type\":\"scattergl\"},{\"hovertemplate\":\"color=Georgia\\u003cbr\\u003ex=%{x}\\u003cbr\\u003ey=%{y}\\u003cextra\\u003e\\u003c\\u002fextra\\u003e\",\"legendgroup\":\"Georgia\",\"line\":{\"color\":\"#636efa\",\"dash\":\"solid\"},\"marker\":{\"symbol\":\"circle\"},\"mode\":\"markers+lines\",\"name\":\"Georgia\",\"showlegend\":true,\"x\":[\"1976Q1\",\"1976Q2\",\"1976Q3\",\"1976Q4\",\"1977Q1\",\"1977Q2\",\"1977Q3\",\"1977Q4\",\"1978Q1\",\"1978Q2\",\"1978Q3\",\"1978Q4\",\"1979Q1\",\"1979Q2\",\"1979Q3\",\"1979Q4\",\"1980Q1\",\"1980Q2\",\"1980Q3\",\"1980Q4\",\"1981Q1\",\"1981Q2\",\"1981Q3\",\"1981Q4\",\"1982Q1\",\"1982Q2\",\"1982Q3\",\"1982Q4\",\"1983Q1\",\"1983Q2\",\"1983Q3\",\"1983Q4\",\"1984Q1\",\"1984Q2\",\"1984Q3\",\"1984Q4\",\"1985Q1\",\"1985Q2\",\"1985Q3\",\"1985Q4\",\"1986Q1\",\"1986Q2\",\"1986Q3\",\"1986Q4\",\"1987Q1\",\"1987Q2\",\"1987Q3\",\"1987Q4\",\"1988Q1\",\"1988Q2\",\"1988Q3\",\"1988Q4\",\"1989Q1\",\"1989Q2\",\"1989Q3\",\"1989Q4\",\"1990Q1\",\"1990Q2\",\"1990Q3\",\"1990Q4\",\"1991Q1\",\"1991Q2\",\"1991Q3\",\"1991Q4\",\"1992Q1\",\"1992Q2\",\"1992Q3\",\"1992Q4\",\"1993Q1\",\"1993Q2\",\"1993Q3\",\"1993Q4\",\"1994Q1\",\"1994Q2\",\"1994Q3\",\"1994Q4\",\"1995Q1\",\"1995Q2\",\"1995Q3\",\"1995Q4\",\"1996Q1\",\"1996Q2\",\"1996Q3\",\"1996Q4\",\"1997Q1\",\"1997Q2\",\"1997Q3\",\"1997Q4\",\"1998Q1\",\"1998Q2\",\"1998Q3\",\"1998Q4\",\"1999Q1\",\"1999Q2\",\"1999Q3\",\"1999Q4\",\"2000Q1\",\"2000Q2\",\"2000Q3\",\"2000Q4\",\"2001Q1\",\"2001Q2\",\"2001Q3\",\"2001Q4\",\"2002Q1\",\"2002Q2\",\"2002Q3\",\"2002Q4\",\"2003Q1\",\"2003Q2\",\"2003Q3\",\"2003Q4\",\"2004Q1\",\"2004Q2\",\"2004Q3\",\"2004Q4\",\"2005Q1\",\"2005Q2\",\"2005Q3\",\"2005Q4\",\"2006Q1\",\"2006Q2\",\"2006Q3\",\"2006Q4\",\"2007Q1\",\"2007Q2\",\"2007Q3\",\"2007Q4\",\"2008Q1\",\"2008Q2\",\"2008Q3\",\"2008Q4\",\"2009Q1\",\"2009Q2\",\"2009Q3\",\"2009Q4\",\"2010Q1\",\"2010Q2\",\"2010Q3\",\"2010Q4\",\"2011Q1\",\"2011Q2\",\"2011Q3\",\"2011Q4\",\"2012Q1\",\"2012Q2\",\"2012Q3\",\"2012Q4\",\"2013Q1\",\"2013Q2\",\"2013Q3\",\"2013Q4\",\"2014Q1\",\"2014Q2\",\"2014Q3\",\"2014Q4\",\"2015Q1\",\"2015Q2\",\"2015Q3\",\"2015Q4\",\"2016Q1\",\"2016Q2\",\"2016Q3\",\"2016Q4\",\"2017Q1\",\"2017Q2\",\"2017Q3\",\"2017Q4\",\"2018Q1\",\"2018Q2\",\"2018Q3\",\"2018Q4\"],\"xaxis\":\"x\",\"y\":[10584000,10640000,10700000,10769000,10838000,10907000,10974000,11037000,11097000,11160000,11227000,11302000,11377000,11452000,11524000,11591000,11659000,11726000,11795000,11864000,11933000,12002000,12066000,12120000,12176000,12231000,12282000,12327000,12372000,12417000,12470000,12539000,12608000,12677000,12756000,12852000,12949000,13046000,13130000,13190000,13250000,13310000,13378000,13461000,13545000,13628000,13703000,13762000,13821000,13880000,13935000,13982000,14028000,14075000,14123000,14172000,14509995,14581119,14651261,14735359,14811456,14886555,14967652,15053750,15130849,15210945,15296044,15388142,15470239,15551338,15644435,15751533,15847632,15945728,16045827,16144925,16236022,16328121,16426218,16529316,16622415,16718511,16824610,16935708,17033805,17129904,17233001,17331099,17420198,17509294,17604393,17700491,17787588,17875687,17968784,18064882,18149980,18220608,18328987,18433333,18531484,18630088,18730735,18826486,18915577,19004074,19098096,19190848,19270165,19346838,19437722,19534616,19618954,19708688,19812790,19935939,20053374,20174093,20299421,20446711,20567721,20681231,20800415,20928215,21048271,21167314,21280504,21375937,21463273,21550189,21637947,21717499,21789470,21859277,21937437,22020881,22093460,21856352,21930666,21999358,22060256,22119719,22188695,22269546,22344688,22420226,22492119,22553540,22609446,22664453,22730013,22805069,22878156,22951762,23032689,23120994,23201974,23282835,23369154,23459383,23546567,23633664,23722395,23812196,23895704,23977935,24062844,24149711,24228319,24306510,24392471,24481161],\"yaxis\":\"y\",\"type\":\"scattergl\"},{\"hovertemplate\":\"color=Hawaii\\u003cbr\\u003ex=%{x}\\u003cbr\\u003ey=%{y}\\u003cextra\\u003e\\u003c\\u002fextra\\u003e\",\"legendgroup\":\"Hawaii\",\"line\":{\"color\":\"#EF553B\",\"dash\":\"solid\"},\"marker\":{\"symbol\":\"circle\"},\"mode\":\"markers+lines\",\"name\":\"Hawaii\",\"showlegend\":true,\"x\":[\"1976Q1\",\"1976Q2\",\"1976Q3\",\"1976Q4\",\"1977Q1\",\"1977Q2\",\"1977Q3\",\"1977Q4\",\"1978Q1\",\"1978Q2\",\"1978Q3\",\"1978Q4\",\"1979Q1\",\"1979Q2\",\"1979Q3\",\"1979Q4\",\"1980Q1\",\"1980Q2\",\"1980Q3\",\"1980Q4\",\"1981Q1\",\"1981Q2\",\"1981Q3\",\"1981Q4\",\"1982Q1\",\"1982Q2\",\"1982Q3\",\"1982Q4\",\"1983Q1\",\"1983Q2\",\"1983Q3\",\"1983Q4\",\"1984Q1\",\"1984Q2\",\"1984Q3\",\"1984Q4\",\"1985Q1\",\"1985Q2\",\"1985Q3\",\"1985Q4\",\"1986Q1\",\"1986Q2\",\"1986Q3\",\"1986Q4\",\"1987Q1\",\"1987Q2\",\"1987Q3\",\"1987Q4\",\"1988Q1\",\"1988Q2\",\"1988Q3\",\"1988Q4\",\"1989Q1\",\"1989Q2\",\"1989Q3\",\"1989Q4\",\"1990Q1\",\"1990Q2\",\"1990Q3\",\"1990Q4\",\"1991Q1\",\"1991Q2\",\"1991Q3\",\"1991Q4\",\"1992Q1\",\"1992Q2\",\"1992Q3\",\"1992Q4\",\"1993Q1\",\"1993Q2\",\"1993Q3\",\"1993Q4\",\"1994Q1\",\"1994Q2\",\"1994Q3\",\"1994Q4\",\"1995Q1\",\"1995Q2\",\"1995Q3\",\"1995Q4\",\"1996Q1\",\"1996Q2\",\"1996Q3\",\"1996Q4\",\"1997Q1\",\"1997Q2\",\"1997Q3\",\"1997Q4\",\"1998Q1\",\"1998Q2\",\"1998Q3\",\"1998Q4\",\"1999Q1\",\"1999Q2\",\"1999Q3\",\"1999Q4\",\"2000Q1\",\"2000Q2\",\"2000Q3\",\"2000Q4\",\"2001Q1\",\"2001Q2\",\"2001Q3\",\"2001Q4\",\"2002Q1\",\"2002Q2\",\"2002Q3\",\"2002Q4\",\"2003Q1\",\"2003Q2\",\"2003Q3\",\"2003Q4\",\"2004Q1\",\"2004Q2\",\"2004Q3\",\"2004Q4\",\"2005Q1\",\"2005Q2\",\"2005Q3\",\"2005Q4\",\"2006Q1\",\"2006Q2\",\"2006Q3\",\"2006Q4\",\"2007Q1\",\"2007Q2\",\"2007Q3\",\"2007Q4\",\"2008Q1\",\"2008Q2\",\"2008Q3\",\"2008Q4\",\"2009Q1\",\"2009Q2\",\"2009Q3\",\"2009Q4\",\"2010Q1\",\"2010Q2\",\"2010Q3\",\"2010Q4\",\"2011Q1\",\"2011Q2\",\"2011Q3\",\"2011Q4\",\"2012Q1\",\"2012Q2\",\"2012Q3\",\"2012Q4\",\"2013Q1\",\"2013Q2\",\"2013Q3\",\"2013Q4\",\"2014Q1\",\"2014Q2\",\"2014Q3\",\"2014Q4\",\"2015Q1\",\"2015Q2\",\"2015Q3\",\"2015Q4\",\"2016Q1\",\"2016Q2\",\"2016Q3\",\"2016Q4\",\"2017Q1\",\"2017Q2\",\"2017Q3\",\"2017Q4\",\"2018Q1\",\"2018Q2\",\"2018Q3\",\"2018Q4\"],\"xaxis\":\"x\",\"y\":[1754000,1769000,1783000,1796000,1808000,1822000,1833000,1844000,1854000,1865000,1878000,1893000,1909000,1925000,1941000,1956000,1972000,1986000,1995000,2004000,2013000,2022000,2031000,2042000,2052000,2063000,2075000,2089000,2103000,2117000,2130000,2139000,2145000,2154000,2163000,2172000,2178000,2187000,2196000,2207000,2217000,2228000,2240000,2254000,2267000,2281000,2292000,2303000,2313000,2324000,2334000,2343000,2354000,2364000,2374000,2385000,2397842,2421443,2439147,2451329,2462508,2473690,2485869,2496051,2506230,2516411,2524591,2533772,2540952,2548133,2555313,2563494,2568674,2574854,2582035,2587215,2593396,2598576,2605757,2612936,2619118,2626297,2635479,2645658,2653840,2663019,2670201,2676380,2680561,2684741,2689922,2693102,2695283,2696463,2699644,2705824,2709004,2694720,2697919,2705000,2711792,2717938,2724322,2730554,2736325,2741738,2747372,2752729,2756819,2760110,2769086,2786817,2803290,2820092,2833426,2839210,2844512,2849610,2855453,2866822,2874158,2878957,2884288,2890823,2896835,2902260,2907789,2913490,2918608,2923278,2928376,2933595,2938253,2942290,2947119,2952625,2957204,3122189,3135424,3145173,3153415,3160348,3168996,3177379,3183039,3189154,3196060,3204124,3212346,3218424,3226209,3232105,3238196,3243888,3250404,3256648,3261569,3265827,3271260,3275377,3280255,3281177,3284194,3286562,3286803,3286716,3286209,3286540,3286188,3285309,3285411,3286090],\"yaxis\":\"y\",\"type\":\"scattergl\"},{\"hovertemplate\":\"color=Idaho\\u003cbr\\u003ex=%{x}\\u003cbr\\u003ey=%{y}\\u003cextra\\u003e\\u003c\\u002fextra\\u003e\",\"legendgroup\":\"Idaho\",\"line\":{\"color\":\"#00cc96\",\"dash\":\"solid\"},\"marker\":{\"symbol\":\"circle\"},\"mode\":\"markers+lines\",\"name\":\"Idaho\",\"showlegend\":true,\"x\":[\"1976Q1\",\"1976Q2\",\"1976Q3\",\"1976Q4\",\"1977Q1\",\"1977Q2\",\"1977Q3\",\"1977Q4\",\"1978Q1\",\"1978Q2\",\"1978Q3\",\"1978Q4\",\"1979Q1\",\"1979Q2\",\"1979Q3\",\"1979Q4\",\"1980Q1\",\"1980Q2\",\"1980Q3\",\"1980Q4\",\"1981Q1\",\"1981Q2\",\"1981Q3\",\"1981Q4\",\"1982Q1\",\"1982Q2\",\"1982Q3\",\"1982Q4\",\"1983Q1\",\"1983Q2\",\"1983Q3\",\"1983Q4\",\"1984Q1\",\"1984Q2\",\"1984Q3\",\"1984Q4\",\"1985Q1\",\"1985Q2\",\"1985Q3\",\"1985Q4\",\"1986Q1\",\"1986Q2\",\"1986Q3\",\"1986Q4\",\"1987Q1\",\"1987Q2\",\"1987Q3\",\"1987Q4\",\"1988Q1\",\"1988Q2\",\"1988Q3\",\"1988Q4\",\"1989Q1\",\"1989Q2\",\"1989Q3\",\"1989Q4\",\"1990Q1\",\"1990Q2\",\"1990Q3\",\"1990Q4\",\"1991Q1\",\"1991Q2\",\"1991Q3\",\"1991Q4\",\"1992Q1\",\"1992Q2\",\"1992Q3\",\"1992Q4\",\"1993Q1\",\"1993Q2\",\"1993Q3\",\"1993Q4\",\"1994Q1\",\"1994Q2\",\"1994Q3\",\"1994Q4\",\"1995Q1\",\"1995Q2\",\"1995Q3\",\"1995Q4\",\"1996Q1\",\"1996Q2\",\"1996Q3\",\"1996Q4\",\"1997Q1\",\"1997Q2\",\"1997Q3\",\"1997Q4\",\"1998Q1\",\"1998Q2\",\"1998Q3\",\"1998Q4\",\"1999Q1\",\"1999Q2\",\"1999Q3\",\"1999Q4\",\"2000Q1\",\"2000Q2\",\"2000Q3\",\"2000Q4\",\"2001Q1\",\"2001Q2\",\"2001Q3\",\"2001Q4\",\"2002Q1\",\"2002Q2\",\"2002Q3\",\"2002Q4\",\"2003Q1\",\"2003Q2\",\"2003Q3\",\"2003Q4\",\"2004Q1\",\"2004Q2\",\"2004Q3\",\"2004Q4\",\"2005Q1\",\"2005Q2\",\"2005Q3\",\"2005Q4\",\"2006Q1\",\"2006Q2\",\"2006Q3\",\"2006Q4\",\"2007Q1\",\"2007Q2\",\"2007Q3\",\"2007Q4\",\"2008Q1\",\"2008Q2\",\"2008Q3\",\"2008Q4\",\"2009Q1\",\"2009Q2\",\"2009Q3\",\"2009Q4\",\"2010Q1\",\"2010Q2\",\"2010Q3\",\"2010Q4\",\"2011Q1\",\"2011Q2\",\"2011Q3\",\"2011Q4\",\"2012Q1\",\"2012Q2\",\"2012Q3\",\"2012Q4\",\"2013Q1\",\"2013Q2\",\"2013Q3\",\"2013Q4\",\"2014Q1\",\"2014Q2\",\"2014Q3\",\"2014Q4\",\"2015Q1\",\"2015Q2\",\"2015Q3\",\"2015Q4\",\"2016Q1\",\"2016Q2\",\"2016Q3\",\"2016Q4\",\"2017Q1\",\"2017Q2\",\"2017Q3\",\"2017Q4\",\"2018Q1\",\"2018Q2\",\"2018Q3\",\"2018Q4\"],\"xaxis\":\"x\",\"y\":[1745000,1760000,1776000,1791000,1809000,1824000,1842000,1857000,1873000,1889000,1903000,1915000,1927000,1939000,1950000,1959000,1966000,1974000,1983000,1991000,1998000,2007000,2016000,2022000,2029000,2036000,2043000,2049000,2058000,2064000,2073000,2082000,2088000,2097000,2103000,2101000,2100000,2098000,2100000,2106000,2113000,2120000,2125000,2127000,2130000,2132000,2134000,2138000,2141000,2146000,2151000,2157000,2166000,2172000,2181000,2189000,2171700,2177002,2187003,2208004,2226006,2247006,2265008,2283009,2298009,2315012,2333012,2356013,2377015,2398015,2419017,2441018,2460018,2481021,2501021,2523022,2542024,2562024,2581026,2598027,2613027,2628030,2646030,2661031,2676033,2690033,2704035,2719036,2731036,2743039,2756039,2770040,2782042,2794042,2808044,2822045,2834046,2845559,2859574,2873767,2886962,2900435,2914974,2929706,2943375,2957072,2971953,2986604,2999270,3011840,3027091,3043849,3058632,3074379,3092885,3114540,3135097,3156218,3178807,3204580,3226778,3248157,3269773,3290143,3309174,3328228,3347280,3364328,3379975,3395817,3411145,3423118,3433607,3444169,3455591,3466314,3475346,3493121,3503111,3513005,3521151,3529474,3539590,3550766,3560630,3570757,3582180,3594334,3604508,3614923,3627583,3641671,3654529,3667560,3681826,3696365,3709096,3721814,3738440,3759921,3779796,3800108,3822666,3847378,3870703,3893863,3918554,3943523,3966985,3990526,4015794,4041748],\"yaxis\":\"y\",\"type\":\"scattergl\"},{\"hovertemplate\":\"color=Illinois\\u003cbr\\u003ex=%{x}\\u003cbr\\u003ey=%{y}\\u003cextra\\u003e\\u003c\\u002fextra\\u003e\",\"legendgroup\":\"Illinois\",\"line\":{\"color\":\"#ab63fa\",\"dash\":\"solid\"},\"marker\":{\"symbol\":\"circle\"},\"mode\":\"markers+lines\",\"name\":\"Illinois\",\"showlegend\":true,\"x\":[\"1976Q1\",\"1976Q2\",\"1976Q3\",\"1976Q4\",\"1977Q1\",\"1977Q2\",\"1977Q3\",\"1977Q4\",\"1978Q1\",\"1978Q2\",\"1978Q3\",\"1978Q4\",\"1979Q1\",\"1979Q2\",\"1979Q3\",\"1979Q4\",\"1980Q1\",\"1980Q2\",\"1980Q3\",\"1980Q4\",\"1981Q1\",\"1981Q2\",\"1981Q3\",\"1981Q4\",\"1982Q1\",\"1982Q2\",\"1982Q3\",\"1982Q4\",\"1983Q1\",\"1983Q2\",\"1983Q3\",\"1983Q4\",\"1984Q1\",\"1984Q2\",\"1984Q3\",\"1984Q4\",\"1985Q1\",\"1985Q2\",\"1985Q3\",\"1985Q4\",\"1986Q1\",\"1986Q2\",\"1986Q3\",\"1986Q4\",\"1987Q1\",\"1987Q2\",\"1987Q3\",\"1987Q4\",\"1988Q1\",\"1988Q2\",\"1988Q3\",\"1988Q4\",\"1989Q1\",\"1989Q2\",\"1989Q3\",\"1989Q4\",\"1990Q1\",\"1990Q2\",\"1990Q3\",\"1990Q4\",\"1991Q1\",\"1991Q2\",\"1991Q3\",\"1991Q4\",\"1992Q1\",\"1992Q2\",\"1992Q3\",\"1992Q4\",\"1993Q1\",\"1993Q2\",\"1993Q3\",\"1993Q4\",\"1994Q1\",\"1994Q2\",\"1994Q3\",\"1994Q4\",\"1995Q1\",\"1995Q2\",\"1995Q3\",\"1995Q4\",\"1996Q1\",\"1996Q2\",\"1996Q3\",\"1996Q4\",\"1997Q1\",\"1997Q2\",\"1997Q3\",\"1997Q4\",\"1998Q1\",\"1998Q2\",\"1998Q3\",\"1998Q4\",\"1999Q1\",\"1999Q2\",\"1999Q3\",\"1999Q4\",\"2000Q1\",\"2000Q2\",\"2000Q3\",\"2000Q4\",\"2001Q1\",\"2001Q2\",\"2001Q3\",\"2001Q4\",\"2002Q1\",\"2002Q2\",\"2002Q3\",\"2002Q4\",\"2003Q1\",\"2003Q2\",\"2003Q3\",\"2003Q4\",\"2004Q1\",\"2004Q2\",\"2004Q3\",\"2004Q4\",\"2005Q1\",\"2005Q2\",\"2005Q3\",\"2005Q4\",\"2006Q1\",\"2006Q2\",\"2006Q3\",\"2006Q4\",\"2007Q1\",\"2007Q2\",\"2007Q3\",\"2007Q4\",\"2008Q1\",\"2008Q2\",\"2008Q3\",\"2008Q4\",\"2009Q1\",\"2009Q2\",\"2009Q3\",\"2009Q4\",\"2010Q1\",\"2010Q2\",\"2010Q3\",\"2010Q4\",\"2011Q1\",\"2011Q2\",\"2011Q3\",\"2011Q4\",\"2012Q1\",\"2012Q2\",\"2012Q3\",\"2012Q4\",\"2013Q1\",\"2013Q2\",\"2013Q3\",\"2013Q4\",\"2014Q1\",\"2014Q2\",\"2014Q3\",\"2014Q4\",\"2015Q1\",\"2015Q2\",\"2015Q3\",\"2015Q4\",\"2016Q1\",\"2016Q2\",\"2016Q3\",\"2016Q4\",\"2017Q1\",\"2017Q2\",\"2017Q3\",\"2017Q4\",\"2018Q1\",\"2018Q2\",\"2018Q3\",\"2018Q4\"],\"xaxis\":\"x\",\"y\":[24409000,24493000,24575000,24653000,24731000,24809000,24882000,24947000,25011000,25076000,25131000,25167000,25205000,25242000,25279000,25318000,25357000,25398000,25443000,25487000,25530000,25575000,25611000,25629000,25647000,25665000,25682000,25696000,25709000,25723000,25741000,25772000,25802000,25834000,25858000,25869000,25881000,25892000,25911000,25947000,25985000,26022000,26062000,26109000,26157000,26204000,26247000,26283000,26319000,26355000,26389000,26420000,26450000,26482000,26512000,26545000,25920011,26044738,26139973,26193214,26233455,26272695,26325934,26392175,26440416,26493656,26559895,26637136,26698377,26756617,26819856,26872097,26907338,26945578,26987817,27031058,27062299,27094539,27137778,27193019,27229260,27274500,27327739,27383980,27419221,27450461,27501700,27564941,27613182,27661422,27717661,27776902,27821143,27868383,27920622,27970863,28006104,27998998,28050588,28107138,28152415,28198446,28250056,28297969,28334178,28369298,28416014,28466030,28496136,28523314,28565853,28606397,28627521,28656648,28694908,28736017,28766415,28800466,28844450,28926524,28968537,28997229,29039688,29101725,29151333,29199683,29255125,29313612,29359764,29405645,29459820,29516077,29560510,29602784,29654023,29707153,29744937,29657876,29705189,29752129,29786074,29819345,29859250,29896086,29925064,29952775,29985653,30019735,30040886,30062452,30090271,30111501,30125900,30140287,30158000,30168549,30166143,30163264,30169498,30177705,30176410,30177452,30183146,30188179,30183895,30177272,30177965,30178400,30167639,30156258,30155031,30155708],\"yaxis\":\"y\",\"type\":\"scattergl\"},{\"hovertemplate\":\"color=Indiana\\u003cbr\\u003ex=%{x}\\u003cbr\\u003ey=%{y}\\u003cextra\\u003e\\u003c\\u002fextra\\u003e\",\"legendgroup\":\"Indiana\",\"line\":{\"color\":\"#FFA15A\",\"dash\":\"solid\"},\"marker\":{\"symbol\":\"circle\"},\"mode\":\"markers+lines\",\"name\":\"Indiana\",\"showlegend\":true,\"x\":[\"1976Q1\",\"1976Q2\",\"1976Q3\",\"1976Q4\",\"1977Q1\",\"1977Q2\",\"1977Q3\",\"1977Q4\",\"1978Q1\",\"1978Q2\",\"1978Q3\",\"1978Q4\",\"1979Q1\",\"1979Q2\",\"1979Q3\",\"1979Q4\",\"1980Q1\",\"1980Q2\",\"1980Q3\",\"1980Q4\",\"1981Q1\",\"1981Q2\",\"1981Q3\",\"1981Q4\",\"1982Q1\",\"1982Q2\",\"1982Q3\",\"1982Q4\",\"1983Q1\",\"1983Q2\",\"1983Q3\",\"1983Q4\",\"1984Q1\",\"1984Q2\",\"1984Q3\",\"1984Q4\",\"1985Q1\",\"1985Q2\",\"1985Q3\",\"1985Q4\",\"1986Q1\",\"1986Q2\",\"1986Q3\",\"1986Q4\",\"1987Q1\",\"1987Q2\",\"1987Q3\",\"1987Q4\",\"1988Q1\",\"1988Q2\",\"1988Q3\",\"1988Q4\",\"1989Q1\",\"1989Q2\",\"1989Q3\",\"1989Q4\",\"1990Q1\",\"1990Q2\",\"1990Q3\",\"1990Q4\",\"1991Q1\",\"1991Q2\",\"1991Q3\",\"1991Q4\",\"1992Q1\",\"1992Q2\",\"1992Q3\",\"1992Q4\",\"1993Q1\",\"1993Q2\",\"1993Q3\",\"1993Q4\",\"1994Q1\",\"1994Q2\",\"1994Q3\",\"1994Q4\",\"1995Q1\",\"1995Q2\",\"1995Q3\",\"1995Q4\",\"1996Q1\",\"1996Q2\",\"1996Q3\",\"1996Q4\",\"1997Q1\",\"1997Q2\",\"1997Q3\",\"1997Q4\",\"1998Q1\",\"1998Q2\",\"1998Q3\",\"1998Q4\",\"1999Q1\",\"1999Q2\",\"1999Q3\",\"1999Q4\",\"2000Q1\",\"2000Q2\",\"2000Q3\",\"2000Q4\",\"2001Q1\",\"2001Q2\",\"2001Q3\",\"2001Q4\",\"2002Q1\",\"2002Q2\",\"2002Q3\",\"2002Q4\",\"2003Q1\",\"2003Q2\",\"2003Q3\",\"2003Q4\",\"2004Q1\",\"2004Q2\",\"2004Q3\",\"2004Q4\",\"2005Q1\",\"2005Q2\",\"2005Q3\",\"2005Q4\",\"2006Q1\",\"2006Q2\",\"2006Q3\",\"2006Q4\",\"2007Q1\",\"2007Q2\",\"2007Q3\",\"2007Q4\",\"2008Q1\",\"2008Q2\",\"2008Q3\",\"2008Q4\",\"2009Q1\",\"2009Q2\",\"2009Q3\",\"2009Q4\",\"2010Q1\",\"2010Q2\",\"2010Q3\",\"2010Q4\",\"2011Q1\",\"2011Q2\",\"2011Q3\",\"2011Q4\",\"2012Q1\",\"2012Q2\",\"2012Q3\",\"2012Q4\",\"2013Q1\",\"2013Q2\",\"2013Q3\",\"2013Q4\",\"2014Q1\",\"2014Q2\",\"2014Q3\",\"2014Q4\",\"2015Q1\",\"2015Q2\",\"2015Q3\",\"2015Q4\",\"2016Q1\",\"2016Q2\",\"2016Q3\",\"2016Q4\",\"2017Q1\",\"2017Q2\",\"2017Q3\",\"2017Q4\",\"2018Q1\",\"2018Q2\",\"2018Q3\",\"2018Q4\"],\"xaxis\":\"x\",\"y\":[11379000,11417000,11456000,11498000,11540000,11582000,11626000,11673000,11721000,11768000,11811000,11847000,11883000,11919000,11952000,11979000,12009000,12033000,12049000,12066000,12084000,12099000,12114000,12123000,12132000,12141000,12148000,12152000,12155000,12160000,12168000,12186000,12206000,12225000,12240000,12249000,12258000,12267000,12280000,12302000,12323000,12346000,12370000,12401000,12432000,12463000,12491000,12515000,12539000,12563000,12585000,12603000,12621000,12639000,12658000,12678000,12411555,12522241,12605617,12644724,12675830,12706937,12743043,12783150,12813256,12845363,12885469,12932576,12969682,13008788,13046895,13083002,13110108,13138214,13171321,13209427,13240534,13273641,13309747,13350853,13382960,13418066,13453173,13482279,13500386,13516492,13540599,13567705,13585811,13603918,13627025,13654131,13672238,13692344,13718450,13746557,13766664,13785354,13815010,13839396,13858227,13878102,13901600,13923541,13939662,13955984,13980481,14010150,14029832,14048849,14075129,14098596,14112420,14131133,14156528,14186233,14210800,14237917,14270321,14315856,14344962,14371530,14402295,14436311,14464163,14492286,14524047,14556123,14581883,14608547,14638207,14665267,14686346,14707164,14733572,14761615,14781721,14896180,14922232,14949549,14970022,14991192,15015977,15038592,15057235,15075751,15100651,15130229,15151283,15173555,15200702,15225569,15245068,15265379,15288975,15309894,15323239,15337224,15358845,15384401,15403590,15425546,15452324,15481336,15505528,15528988,15557553,15584827,15606386,15628440,15655831,15683555],\"yaxis\":\"y\",\"type\":\"scattergl\"},{\"hovertemplate\":\"color=Iowa\\u003cbr\\u003ex=%{x}\\u003cbr\\u003ey=%{y}\\u003cextra\\u003e\\u003c\\u002fextra\\u003e\",\"legendgroup\":\"Iowa\",\"line\":{\"color\":\"#19d3f3\",\"dash\":\"solid\"},\"marker\":{\"symbol\":\"circle\"},\"mode\":\"markers+lines\",\"name\":\"Iowa\",\"showlegend\":true,\"x\":[\"1976Q1\",\"1976Q2\",\"1976Q3\",\"1976Q4\",\"1977Q1\",\"1977Q2\",\"1977Q3\",\"1977Q4\",\"1978Q1\",\"1978Q2\",\"1978Q3\",\"1978Q4\",\"1979Q1\",\"1979Q2\",\"1979Q3\",\"1979Q4\",\"1980Q1\",\"1980Q2\",\"1980Q3\",\"1980Q4\",\"1981Q1\",\"1981Q2\",\"1981Q3\",\"1981Q4\",\"1982Q1\",\"1982Q2\",\"1982Q3\",\"1982Q4\",\"1983Q1\",\"1983Q2\",\"1983Q3\",\"1983Q4\",\"1984Q1\",\"1984Q2\",\"1984Q3\",\"1984Q4\",\"1985Q1\",\"1985Q2\",\"1985Q3\",\"1985Q4\",\"1986Q1\",\"1986Q2\",\"1986Q3\",\"1986Q4\",\"1987Q1\",\"1987Q2\",\"1987Q3\",\"1987Q4\",\"1988Q1\",\"1988Q2\",\"1988Q3\",\"1988Q4\",\"1989Q1\",\"1989Q2\",\"1989Q3\",\"1989Q4\",\"1990Q1\",\"1990Q2\",\"1990Q3\",\"1990Q4\",\"1991Q1\",\"1991Q2\",\"1991Q3\",\"1991Q4\",\"1992Q1\",\"1992Q2\",\"1992Q3\",\"1992Q4\",\"1993Q1\",\"1993Q2\",\"1993Q3\",\"1993Q4\",\"1994Q1\",\"1994Q2\",\"1994Q3\",\"1994Q4\",\"1995Q1\",\"1995Q2\",\"1995Q3\",\"1995Q4\",\"1996Q1\",\"1996Q2\",\"1996Q3\",\"1996Q4\",\"1997Q1\",\"1997Q2\",\"1997Q3\",\"1997Q4\",\"1998Q1\",\"1998Q2\",\"1998Q3\",\"1998Q4\",\"1999Q1\",\"1999Q2\",\"1999Q3\",\"1999Q4\",\"2000Q1\",\"2000Q2\",\"2000Q3\",\"2000Q4\",\"2001Q1\",\"2001Q2\",\"2001Q3\",\"2001Q4\",\"2002Q1\",\"2002Q2\",\"2002Q3\",\"2002Q4\",\"2003Q1\",\"2003Q2\",\"2003Q3\",\"2003Q4\",\"2004Q1\",\"2004Q2\",\"2004Q3\",\"2004Q4\",\"2005Q1\",\"2005Q2\",\"2005Q3\",\"2005Q4\",\"2006Q1\",\"2006Q2\",\"2006Q3\",\"2006Q4\",\"2007Q1\",\"2007Q2\",\"2007Q3\",\"2007Q4\",\"2008Q1\",\"2008Q2\",\"2008Q3\",\"2008Q4\",\"2009Q1\",\"2009Q2\",\"2009Q3\",\"2009Q4\",\"2010Q1\",\"2010Q2\",\"2010Q3\",\"2010Q4\",\"2011Q1\",\"2011Q2\",\"2011Q3\",\"2011Q4\",\"2012Q1\",\"2012Q2\",\"2012Q3\",\"2012Q4\",\"2013Q1\",\"2013Q2\",\"2013Q3\",\"2013Q4\",\"2014Q1\",\"2014Q2\",\"2014Q3\",\"2014Q4\",\"2015Q1\",\"2015Q2\",\"2015Q3\",\"2015Q4\",\"2016Q1\",\"2016Q2\",\"2016Q3\",\"2016Q4\",\"2017Q1\",\"2017Q2\",\"2017Q3\",\"2017Q4\",\"2018Q1\",\"2018Q2\",\"2018Q3\",\"2018Q4\"],\"xaxis\":\"x\",\"y\":[6207000,6234000,6259000,6279000,6300000,6320000,6338000,6353000,6368000,6383000,6396000,6405000,6414000,6423000,6431000,6437000,6443000,6450000,6457000,6465000,6474000,6480000,6485000,6482000,6479000,6476000,6474000,6474000,6476000,6477000,6478000,6480000,6483000,6485000,6483000,6472000,6462000,6451000,6441000,6435000,6426000,6420000,6414000,6414000,6412000,6411000,6414000,6423000,6434000,6444000,6451000,6454000,6457000,6460000,6463000,6468000,6240150,6259610,6274875,6286827,6295780,6304734,6316686,6335638,6349593,6365545,6381497,6397451,6409404,6421356,6434309,6448263,6458215,6469167,6482122,6499074,6512026,6525980,6540933,6552885,6559838,6570792,6582744,6593696,6600651,6605603,6615555,6623509,6630462,6635414,6643367,6654321,6660273,6668225,6677180,6686132,6691084,6695047,6702119,6708843,6712457,6716658,6723164,6729356,6732271,6735222,6741792,6749349,6751751,6754098,6761925,6771807,6776602,6783938,6793833,6803399,6810091,6817827,6829183,6847230,6857462,6866765,6878554,6891739,6901637,6911700,6923626,6935241,6943483,6952226,6963700,6975871,6984843,6993823,7005856,7018744,7027568,7077639,7087966,7099275,7106948,7114817,7125695,7137262,7146459,7155681,7167752,7181170,7190095,7199543,7212104,7224281,7233591,7243232,7254958,7265785,7272502,7279588,7290000,7300719,7308043,7316626,7327691,7339451,7348614,7357594,7369278,7380531,7388818,7397333,7408857,7420970],\"yaxis\":\"y\",\"type\":\"scattergl\"},{\"hovertemplate\":\"color=Kansas\\u003cbr\\u003ex=%{x}\\u003cbr\\u003ey=%{y}\\u003cextra\\u003e\\u003c\\u002fextra\\u003e\",\"legendgroup\":\"Kansas\",\"line\":{\"color\":\"#FF6692\",\"dash\":\"solid\"},\"marker\":{\"symbol\":\"circle\"},\"mode\":\"markers+lines\",\"name\":\"Kansas\",\"showlegend\":true,\"x\":[\"1976Q1\",\"1976Q2\",\"1976Q3\",\"1976Q4\",\"1977Q1\",\"1977Q2\",\"1977Q3\",\"1977Q4\",\"1978Q1\",\"1978Q2\",\"1978Q3\",\"1978Q4\",\"1979Q1\",\"1979Q2\",\"1979Q3\",\"1979Q4\",\"1980Q1\",\"1980Q2\",\"1980Q3\",\"1980Q4\",\"1981Q1\",\"1981Q2\",\"1981Q3\",\"1981Q4\",\"1982Q1\",\"1982Q2\",\"1982Q3\",\"1982Q4\",\"1983Q1\",\"1983Q2\",\"1983Q3\",\"1983Q4\",\"1984Q1\",\"1984Q2\",\"1984Q3\",\"1984Q4\",\"1985Q1\",\"1985Q2\",\"1985Q3\",\"1985Q4\",\"1986Q1\",\"1986Q2\",\"1986Q3\",\"1986Q4\",\"1987Q1\",\"1987Q2\",\"1987Q3\",\"1987Q4\",\"1988Q1\",\"1988Q2\",\"1988Q3\",\"1988Q4\",\"1989Q1\",\"1989Q2\",\"1989Q3\",\"1989Q4\",\"1990Q1\",\"1990Q2\",\"1990Q3\",\"1990Q4\",\"1991Q1\",\"1991Q2\",\"1991Q3\",\"1991Q4\",\"1992Q1\",\"1992Q2\",\"1992Q3\",\"1992Q4\",\"1993Q1\",\"1993Q2\",\"1993Q3\",\"1993Q4\",\"1994Q1\",\"1994Q2\",\"1994Q3\",\"1994Q4\",\"1995Q1\",\"1995Q2\",\"1995Q3\",\"1995Q4\",\"1996Q1\",\"1996Q2\",\"1996Q3\",\"1996Q4\",\"1997Q1\",\"1997Q2\",\"1997Q3\",\"1997Q4\",\"1998Q1\",\"1998Q2\",\"1998Q3\",\"1998Q4\",\"1999Q1\",\"1999Q2\",\"1999Q3\",\"1999Q4\",\"2000Q1\",\"2000Q2\",\"2000Q3\",\"2000Q4\",\"2001Q1\",\"2001Q2\",\"2001Q3\",\"2001Q4\",\"2002Q1\",\"2002Q2\",\"2002Q3\",\"2002Q4\",\"2003Q1\",\"2003Q2\",\"2003Q3\",\"2003Q4\",\"2004Q1\",\"2004Q2\",\"2004Q3\",\"2004Q4\",\"2005Q1\",\"2005Q2\",\"2005Q3\",\"2005Q4\",\"2006Q1\",\"2006Q2\",\"2006Q3\",\"2006Q4\",\"2007Q1\",\"2007Q2\",\"2007Q3\",\"2007Q4\",\"2008Q1\",\"2008Q2\",\"2008Q3\",\"2008Q4\",\"2009Q1\",\"2009Q2\",\"2009Q3\",\"2009Q4\",\"2010Q1\",\"2010Q2\",\"2010Q3\",\"2010Q4\",\"2011Q1\",\"2011Q2\",\"2011Q3\",\"2011Q4\",\"2012Q1\",\"2012Q2\",\"2012Q3\",\"2012Q4\",\"2013Q1\",\"2013Q2\",\"2013Q3\",\"2013Q4\",\"2014Q1\",\"2014Q2\",\"2014Q3\",\"2014Q4\",\"2015Q1\",\"2015Q2\",\"2015Q3\",\"2015Q4\",\"2016Q1\",\"2016Q2\",\"2016Q3\",\"2016Q4\",\"2017Q1\",\"2017Q2\",\"2017Q3\",\"2017Q4\",\"2018Q1\",\"2018Q2\",\"2018Q3\",\"2018Q4\"],\"xaxis\":\"x\",\"y\":[4912000,4933000,4953000,4973000,4992000,5012000,5031000,5049000,5067000,5085000,5103000,5118000,5134000,5150000,5166000,5181000,5199000,5212000,5224000,5236000,5248000,5260000,5272000,5284000,5296000,5308000,5319000,5328000,5339000,5349000,5358000,5367000,5378000,5388000,5392000,5386000,5380000,5374000,5377000,5398000,5419000,5440000,5457000,5469000,5478000,5490000,5500000,5511000,5523000,5534000,5543000,5548000,5553000,5558000,5563000,5568000,5454186,5467130,5476284,5484390,5488496,5492603,5503708,5525816,5544921,5563028,5583134,5601241,5616347,5630453,5647560,5663665,5674773,5687878,5704985,5723091,5738198,5754304,5771410,5786517,5798623,5811730,5826835,5842942,5853048,5862155,5875261,5891367,5904474,5917580,5930687,5943792,5952899,5963005,5974112,5986218,5993324,5996097,6008241,6019210,6027545,6036297,6047490,6059587,6068902,6078171,6090154,6102337,6110105,6117567,6128245,6137725,6142848,6149891,6160259,6172891,6183128,6194208,6206152,6220644,6227656,6233109,6242767,6257878,6270230,6282536,6295834,6307588,6316542,6325734,6338299,6353417,6365798,6378014,6392613,6407503,6418849,6445770,6454883,6464789,6471041,6477062,6487000,6498865,6507579,6516859,6526831,6534368,6538843,6542874,6551147,6560257,6567235,6574562,6583625,6591402,6595639,6599868,6607735,6616452,6622902,6628747,6636835,6644151,6648481,6652697,6659258,6666579,6671360,6676239,6683798,6691814],\"yaxis\":\"y\",\"type\":\"scattergl\"},{\"hovertemplate\":\"color=Kentucky\\u003cbr\\u003ex=%{x}\\u003cbr\\u003ey=%{y}\\u003cextra\\u003e\\u003c\\u002fextra\\u003e\",\"legendgroup\":\"Kentucky\",\"line\":{\"color\":\"#B6E880\",\"dash\":\"solid\"},\"marker\":{\"symbol\":\"circle\"},\"mode\":\"markers+lines\",\"name\":\"Kentucky\",\"showlegend\":true,\"x\":[\"1976Q1\",\"1976Q2\",\"1976Q3\",\"1976Q4\",\"1977Q1\",\"1977Q2\",\"1977Q3\",\"1977Q4\",\"1978Q1\",\"1978Q2\",\"1978Q3\",\"1978Q4\",\"1979Q1\",\"1979Q2\",\"1979Q3\",\"1979Q4\",\"1980Q1\",\"1980Q2\",\"1980Q3\",\"1980Q4\",\"1981Q1\",\"1981Q2\",\"1981Q3\",\"1981Q4\",\"1982Q1\",\"1982Q2\",\"1982Q3\",\"1982Q4\",\"1983Q1\",\"1983Q2\",\"1983Q3\",\"1983Q4\",\"1984Q1\",\"1984Q2\",\"1984Q3\",\"1984Q4\",\"1985Q1\",\"1985Q2\",\"1985Q3\",\"1985Q4\",\"1986Q1\",\"1986Q2\",\"1986Q3\",\"1986Q4\",\"1987Q1\",\"1987Q2\",\"1987Q3\",\"1987Q4\",\"1988Q1\",\"1988Q2\",\"1988Q3\",\"1988Q4\",\"1989Q1\",\"1989Q2\",\"1989Q3\",\"1989Q4\",\"1990Q1\",\"1990Q2\",\"1990Q3\",\"1990Q4\",\"1991Q1\",\"1991Q2\",\"1991Q3\",\"1991Q4\",\"1992Q1\",\"1992Q2\",\"1992Q3\",\"1992Q4\",\"1993Q1\",\"1993Q2\",\"1993Q3\",\"1993Q4\",\"1994Q1\",\"1994Q2\",\"1994Q3\",\"1994Q4\",\"1995Q1\",\"1995Q2\",\"1995Q3\",\"1995Q4\",\"1996Q1\",\"1996Q2\",\"1996Q3\",\"1996Q4\",\"1997Q1\",\"1997Q2\",\"1997Q3\",\"1997Q4\",\"1998Q1\",\"1998Q2\",\"1998Q3\",\"1998Q4\",\"1999Q1\",\"1999Q2\",\"1999Q3\",\"1999Q4\",\"2000Q1\",\"2000Q2\",\"2000Q3\",\"2000Q4\",\"2001Q1\",\"2001Q2\",\"2001Q3\",\"2001Q4\",\"2002Q1\",\"2002Q2\",\"2002Q3\",\"2002Q4\",\"2003Q1\",\"2003Q2\",\"2003Q3\",\"2003Q4\",\"2004Q1\",\"2004Q2\",\"2004Q3\",\"2004Q4\",\"2005Q1\",\"2005Q2\",\"2005Q3\",\"2005Q4\",\"2006Q1\",\"2006Q2\",\"2006Q3\",\"2006Q4\",\"2007Q1\",\"2007Q2\",\"2007Q3\",\"2007Q4\",\"2008Q1\",\"2008Q2\",\"2008Q3\",\"2008Q4\",\"2009Q1\",\"2009Q2\",\"2009Q3\",\"2009Q4\",\"2010Q1\",\"2010Q2\",\"2010Q3\",\"2010Q4\",\"2011Q1\",\"2011Q2\",\"2011Q3\",\"2011Q4\",\"2012Q1\",\"2012Q2\",\"2012Q3\",\"2012Q4\",\"2013Q1\",\"2013Q2\",\"2013Q3\",\"2013Q4\",\"2014Q1\",\"2014Q2\",\"2014Q3\",\"2014Q4\",\"2015Q1\",\"2015Q2\",\"2015Q3\",\"2015Q4\",\"2016Q1\",\"2016Q2\",\"2016Q3\",\"2016Q4\",\"2017Q1\",\"2017Q2\",\"2017Q3\",\"2017Q4\",\"2018Q1\",\"2018Q2\",\"2018Q3\",\"2018Q4\"],\"xaxis\":\"x\",\"y\":[7394000,7440000,7483000,7521000,7560000,7598000,7634000,7666000,7698000,7730000,7761000,7790000,7818000,7847000,7874000,7897000,7919000,7941000,7959000,7978000,7998000,8016000,8034000,8049000,8067000,8082000,8100000,8118000,8138000,8157000,8171000,8177000,8183000,8189000,8197000,8208000,8220000,8231000,8242000,8253000,8265000,8276000,8286000,8298000,8307000,8319000,8329000,8340000,8352000,8363000,8372000,8377000,8382000,8387000,8393000,8399000,8335626,8384548,8422194,8442643,8457091,8471539,8489987,8514435,8532883,8552331,8578779,8613227,8642675,8671123,8699571,8724020,8741467,8758915,8781364,8809811,8832259,8855708,8881155,8907603,8927052,8949499,8970948,8987396,8995843,9004292,9021740,9049187,9070636,9092084,9115531,9138980,9156428,9174876,9196324,9218772,9235220,9247810,9267366,9283436,9295965,9309290,9326302,9345027,9359952,9375196,9396229,9421624,9440275,9458646,9479770,9495038,9503695,9515825,9534165,9559071,9580536,9603791,9631933,9669935,9698327,9725746,9752424,9773883,9791208,9808891,9832231,9862136,9887842,9914244,9938728,9953509,9964328,9975069,9992372,10015937,10034260,10030668,10056789,10074478,10087657,10100900,10116519,10129667,10138804,10148720,10163275,10181596,10195164,10208860,10225475,10238550,10248165,10258533,10272505,10287113,10296326,10306165,10320752,10336668,10348818,10361740,10377765,10394075,10406640,10419068,10434186,10448369,10458773,10469576,10484313,10499581],\"yaxis\":\"y\",\"type\":\"scattergl\"},{\"hovertemplate\":\"color=Louisiana\\u003cbr\\u003ex=%{x}\\u003cbr\\u003ey=%{y}\\u003cextra\\u003e\\u003c\\u002fextra\\u003e\",\"legendgroup\":\"Louisiana\",\"line\":{\"color\":\"#FF97FF\",\"dash\":\"solid\"},\"marker\":{\"symbol\":\"circle\"},\"mode\":\"markers+lines\",\"name\":\"Louisiana\",\"showlegend\":true,\"x\":[\"1976Q1\",\"1976Q2\",\"1976Q3\",\"1976Q4\",\"1977Q1\",\"1977Q2\",\"1977Q3\",\"1977Q4\",\"1978Q1\",\"1978Q2\",\"1978Q3\",\"1978Q4\",\"1979Q1\",\"1979Q2\",\"1979Q3\",\"1979Q4\",\"1980Q1\",\"1980Q2\",\"1980Q3\",\"1980Q4\",\"1981Q1\",\"1981Q2\",\"1981Q3\",\"1981Q4\",\"1982Q1\",\"1982Q2\",\"1982Q3\",\"1982Q4\",\"1983Q1\",\"1983Q2\",\"1983Q3\",\"1983Q4\",\"1984Q1\",\"1984Q2\",\"1984Q3\",\"1984Q4\",\"1985Q1\",\"1985Q2\",\"1985Q3\",\"1985Q4\",\"1986Q1\",\"1986Q2\",\"1986Q3\",\"1986Q4\",\"1987Q1\",\"1987Q2\",\"1987Q3\",\"1987Q4\",\"1988Q1\",\"1988Q2\",\"1988Q3\",\"1988Q4\",\"1989Q1\",\"1989Q2\",\"1989Q3\",\"1989Q4\",\"1990Q1\",\"1990Q2\",\"1990Q3\",\"1990Q4\",\"1991Q1\",\"1991Q2\",\"1991Q3\",\"1991Q4\",\"1992Q1\",\"1992Q2\",\"1992Q3\",\"1992Q4\",\"1993Q1\",\"1993Q2\",\"1993Q3\",\"1993Q4\",\"1994Q1\",\"1994Q2\",\"1994Q3\",\"1994Q4\",\"1995Q1\",\"1995Q2\",\"1995Q3\",\"1995Q4\",\"1996Q1\",\"1996Q2\",\"1996Q3\",\"1996Q4\",\"1997Q1\",\"1997Q2\",\"1997Q3\",\"1997Q4\",\"1998Q1\",\"1998Q2\",\"1998Q3\",\"1998Q4\",\"1999Q1\",\"1999Q2\",\"1999Q3\",\"1999Q4\",\"2000Q1\",\"2000Q2\",\"2000Q3\",\"2000Q4\",\"2001Q1\",\"2001Q2\",\"2001Q3\",\"2001Q4\",\"2002Q1\",\"2002Q2\",\"2002Q3\",\"2002Q4\",\"2003Q1\",\"2003Q2\",\"2003Q3\",\"2003Q4\",\"2004Q1\",\"2004Q2\",\"2004Q3\",\"2004Q4\",\"2005Q1\",\"2005Q2\",\"2005Q3\",\"2005Q4\",\"2006Q1\",\"2006Q2\",\"2006Q3\",\"2006Q4\",\"2007Q1\",\"2007Q2\",\"2007Q3\",\"2007Q4\",\"2008Q1\",\"2008Q2\",\"2008Q3\",\"2008Q4\",\"2009Q1\",\"2009Q2\",\"2009Q3\",\"2009Q4\",\"2010Q1\",\"2010Q2\",\"2010Q3\",\"2010Q4\",\"2011Q1\",\"2011Q2\",\"2011Q3\",\"2011Q4\",\"2012Q1\",\"2012Q2\",\"2012Q3\",\"2012Q4\",\"2013Q1\",\"2013Q2\",\"2013Q3\",\"2013Q4\",\"2014Q1\",\"2014Q2\",\"2014Q3\",\"2014Q4\",\"2015Q1\",\"2015Q2\",\"2015Q3\",\"2015Q4\",\"2016Q1\",\"2016Q2\",\"2016Q3\",\"2016Q4\",\"2017Q1\",\"2017Q2\",\"2017Q3\",\"2017Q4\",\"2018Q1\",\"2018Q2\",\"2018Q3\",\"2018Q4\"],\"xaxis\":\"x\",\"y\":[8035000,8096000,8153000,8203000,8253000,8303000,8352000,8397000,8439000,8484000,8532000,8583000,8635000,8687000,8742000,8802000,8864000,8920000,8968000,9016000,9064000,9112000,9160000,9208000,9256000,9304000,9351000,9393000,9438000,9480000,9514000,9526000,9538000,9550000,9561000,9570000,9579000,9588000,9601000,9623000,9644000,9667000,9673000,9649000,9625000,9601000,9578000,9557000,9536000,9515000,9498000,9489000,9480000,9471000,9462000,9455000,9134796,9207234,9259511,9270703,9276894,9281086,9293278,9313469,9329661,9346853,9366044,9388236,9403427,9419619,9438811,9459003,9472194,9487386,9506577,9528769,9546961,9566152,9588344,9610536,9628727,9646919,9669111,9692302,9707494,9722685,9740877,9757069,9768261,9779452,9795644,9811835,9823027,9836219,9848410,9859602,9862794,9864413,9871195,9877329,9880026,9883007,9890843,9903303,9911950,9920127,9933564,9950842,9960985,9969747,9984259,9998419,10005797,10015961,10028800,10041517,10050978,10062166,9880920,9490416,9511702,9556959,9614844,9692655,9766530,9839963,9906054,9954434,9998664,10042700,10082522,10108981,10131640,10153180,10178188,10204436,10225215,10313066,10343297,10371860,10395525,10418408,10442814,10463575,10481251,10498197,10517839,10538113,10553447,10568366,10587509,10606295,10621948,10637366,10656412,10677131,10692567,10707626,10725423,10741022,10752855,10764995,10776631,10782072,10783273,10783572,10787184,10791049,10790839,10790454,10793647,10797636],\"yaxis\":\"y\",\"type\":\"scattergl\"},{\"hovertemplate\":\"color=Maine\\u003cbr\\u003ex=%{x}\\u003cbr\\u003ey=%{y}\\u003cextra\\u003e\\u003c\\u002fextra\\u003e\",\"legendgroup\":\"Maine\",\"line\":{\"color\":\"#FECB52\",\"dash\":\"solid\"},\"marker\":{\"symbol\":\"circle\"},\"mode\":\"markers+lines\",\"name\":\"Maine\",\"showlegend\":true,\"x\":[\"1976Q1\",\"1976Q2\",\"1976Q3\",\"1976Q4\",\"1977Q1\",\"1977Q2\",\"1977Q3\",\"1977Q4\",\"1978Q1\",\"1978Q2\",\"1978Q3\",\"1978Q4\",\"1979Q1\",\"1979Q2\",\"1979Q3\",\"1979Q4\",\"1980Q1\",\"1980Q2\",\"1980Q3\",\"1980Q4\",\"1981Q1\",\"1981Q2\",\"1981Q3\",\"1981Q4\",\"1982Q1\",\"1982Q2\",\"1982Q3\",\"1982Q4\",\"1983Q1\",\"1983Q2\",\"1983Q3\",\"1983Q4\",\"1984Q1\",\"1984Q2\",\"1984Q3\",\"1984Q4\",\"1985Q1\",\"1985Q2\",\"1985Q3\",\"1985Q4\",\"1986Q1\",\"1986Q2\",\"1986Q3\",\"1986Q4\",\"1987Q1\",\"1987Q2\",\"1987Q3\",\"1987Q4\",\"1988Q1\",\"1988Q2\",\"1988Q3\",\"1988Q4\",\"1989Q1\",\"1989Q2\",\"1989Q3\",\"1989Q4\",\"1990Q1\",\"1990Q2\",\"1990Q3\",\"1990Q4\",\"1991Q1\",\"1991Q2\",\"1991Q3\",\"1991Q4\",\"1992Q1\",\"1992Q2\",\"1992Q3\",\"1992Q4\",\"1993Q1\",\"1993Q2\",\"1993Q3\",\"1993Q4\",\"1994Q1\",\"1994Q2\",\"1994Q3\",\"1994Q4\",\"1995Q1\",\"1995Q2\",\"1995Q3\",\"1995Q4\",\"1996Q1\",\"1996Q2\",\"1996Q3\",\"1996Q4\",\"1997Q1\",\"1997Q2\",\"1997Q3\",\"1997Q4\",\"1998Q1\",\"1998Q2\",\"1998Q3\",\"1998Q4\",\"1999Q1\",\"1999Q2\",\"1999Q3\",\"1999Q4\",\"2000Q1\",\"2000Q2\",\"2000Q3\",\"2000Q4\",\"2001Q1\",\"2001Q2\",\"2001Q3\",\"2001Q4\",\"2002Q1\",\"2002Q2\",\"2002Q3\",\"2002Q4\",\"2003Q1\",\"2003Q2\",\"2003Q3\",\"2003Q4\",\"2004Q1\",\"2004Q2\",\"2004Q3\",\"2004Q4\",\"2005Q1\",\"2005Q2\",\"2005Q3\",\"2005Q4\",\"2006Q1\",\"2006Q2\",\"2006Q3\",\"2006Q4\",\"2007Q1\",\"2007Q2\",\"2007Q3\",\"2007Q4\",\"2008Q1\",\"2008Q2\",\"2008Q3\",\"2008Q4\",\"2009Q1\",\"2009Q2\",\"2009Q3\",\"2009Q4\",\"2010Q1\",\"2010Q2\",\"2010Q3\",\"2010Q4\",\"2011Q1\",\"2011Q2\",\"2011Q3\",\"2011Q4\",\"2012Q1\",\"2012Q2\",\"2012Q3\",\"2012Q4\",\"2013Q1\",\"2013Q2\",\"2013Q3\",\"2013Q4\",\"2014Q1\",\"2014Q2\",\"2014Q3\",\"2014Q4\",\"2015Q1\",\"2015Q2\",\"2015Q3\",\"2015Q4\",\"2016Q1\",\"2016Q2\",\"2016Q3\",\"2016Q4\",\"2017Q1\",\"2017Q2\",\"2017Q3\",\"2017Q4\",\"2018Q1\",\"2018Q2\",\"2018Q3\",\"2018Q4\"],\"xaxis\":\"x\",\"y\":[2297000,2312000,2326000,2339000,2351000,2365000,2377000,2388000,2400000,2411000,2421000,2432000,2442000,2453000,2461000,2465000,2468000,2475000,2481000,2489000,2496000,2503000,2510000,2515000,2520000,2525000,2532000,2541000,2547000,2556000,2565000,2574000,2583000,2592000,2601000,2607000,2614000,2621000,2627000,2633000,2639000,2645000,2653000,2664000,2676000,2687000,2699000,2713000,2726000,2740000,2751000,2760000,2769000,2778000,2787000,2796000,2801922,2815745,2826444,2829235,2831027,2830818,2832610,2833401,2833193,2833984,2836776,2840567,2843359,2845150,2847942,2850733,2852525,2853316,2856108,2859899,2861691,2864482,2868274,2874065,2878857,2884648,2892440,2898231,2904023,2908814,2913606,2918397,2921189,2923980,2929772,2935563,2942355,2948146,2955938,2964729,2973520,2977679,2985400,2994237,3001519,3009252,3018132,3027135,3034825,3042617,3051814,3061295,3068510,3075747,3084390,3091880,3097130,3103566,3110525,3116306,3120746,3125750,3131880,3140156,3145049,3149507,3154807,3160129,3163916,3167816,3172812,3178069,3181652,3185498,3189590,3191827,3192600,3193339,3195453,3197786,3198342,3223374,3224969,3229432,3232305,3235306,3238936,3241760,3243492,3245296,3248069,3250911,3251755,3252883,3255724,3259063,3261098,3263220,3266128,3268446,3268979,3269643,3272079,3275506,3277226,3279422,3283533,3289626,3294292,3298924,3304672,3310116,3314136,3318272,3323630,3329202],\"yaxis\":\"y\",\"type\":\"scattergl\"},{\"hovertemplate\":\"color=Maryland\\u003cbr\\u003ex=%{x}\\u003cbr\\u003ey=%{y}\\u003cextra\\u003e\\u003c\\u002fextra\\u003e\",\"legendgroup\":\"Maryland\",\"line\":{\"color\":\"#636efa\",\"dash\":\"solid\"},\"marker\":{\"symbol\":\"circle\"},\"mode\":\"markers+lines\",\"name\":\"Maryland\",\"showlegend\":true,\"x\":[\"1976Q1\",\"1976Q2\",\"1976Q3\",\"1976Q4\",\"1977Q1\",\"1977Q2\",\"1977Q3\",\"1977Q4\",\"1978Q1\",\"1978Q2\",\"1978Q3\",\"1978Q4\",\"1979Q1\",\"1979Q2\",\"1979Q3\",\"1979Q4\",\"1980Q1\",\"1980Q2\",\"1980Q3\",\"1980Q4\",\"1981Q1\",\"1981Q2\",\"1981Q3\",\"1981Q4\",\"1982Q1\",\"1982Q2\",\"1982Q3\",\"1982Q4\",\"1983Q1\",\"1983Q2\",\"1983Q3\",\"1983Q4\",\"1984Q1\",\"1984Q2\",\"1984Q3\",\"1984Q4\",\"1985Q1\",\"1985Q2\",\"1985Q3\",\"1985Q4\",\"1986Q1\",\"1986Q2\",\"1986Q3\",\"1986Q4\",\"1987Q1\",\"1987Q2\",\"1987Q3\",\"1987Q4\",\"1988Q1\",\"1988Q2\",\"1988Q3\",\"1988Q4\",\"1989Q1\",\"1989Q2\",\"1989Q3\",\"1989Q4\",\"1990Q1\",\"1990Q2\",\"1990Q3\",\"1990Q4\",\"1991Q1\",\"1991Q2\",\"1991Q3\",\"1991Q4\",\"1992Q1\",\"1992Q2\",\"1992Q3\",\"1992Q4\",\"1993Q1\",\"1993Q2\",\"1993Q3\",\"1993Q4\",\"1994Q1\",\"1994Q2\",\"1994Q3\",\"1994Q4\",\"1995Q1\",\"1995Q2\",\"1995Q3\",\"1995Q4\",\"1996Q1\",\"1996Q2\",\"1996Q3\",\"1996Q4\",\"1997Q1\",\"1997Q2\",\"1997Q3\",\"1997Q4\",\"1998Q1\",\"1998Q2\",\"1998Q3\",\"1998Q4\",\"1999Q1\",\"1999Q2\",\"1999Q3\",\"1999Q4\",\"2000Q1\",\"2000Q2\",\"2000Q3\",\"2000Q4\",\"2001Q1\",\"2001Q2\",\"2001Q3\",\"2001Q4\",\"2002Q1\",\"2002Q2\",\"2002Q3\",\"2002Q4\",\"2003Q1\",\"2003Q2\",\"2003Q3\",\"2003Q4\",\"2004Q1\",\"2004Q2\",\"2004Q3\",\"2004Q4\",\"2005Q1\",\"2005Q2\",\"2005Q3\",\"2005Q4\",\"2006Q1\",\"2006Q2\",\"2006Q3\",\"2006Q4\",\"2007Q1\",\"2007Q2\",\"2007Q3\",\"2007Q4\",\"2008Q1\",\"2008Q2\",\"2008Q3\",\"2008Q4\",\"2009Q1\",\"2009Q2\",\"2009Q3\",\"2009Q4\",\"2010Q1\",\"2010Q2\",\"2010Q3\",\"2010Q4\",\"2011Q1\",\"2011Q2\",\"2011Q3\",\"2011Q4\",\"2012Q1\",\"2012Q2\",\"2012Q3\",\"2012Q4\",\"2013Q1\",\"2013Q2\",\"2013Q3\",\"2013Q4\",\"2014Q1\",\"2014Q2\",\"2014Q3\",\"2014Q4\",\"2015Q1\",\"2015Q2\",\"2015Q3\",\"2015Q4\",\"2016Q1\",\"2016Q2\",\"2016Q3\",\"2016Q4\",\"2017Q1\",\"2017Q2\",\"2017Q3\",\"2017Q4\",\"2018Q1\",\"2018Q2\",\"2018Q3\",\"2018Q4\"],\"xaxis\":\"x\",\"y\":[8874000,8912000,8951000,8992000,9032000,9073000,9111000,9147000,9180000,9216000,9249000,9278000,9306000,9335000,9359000,9374000,9390000,9412000,9452000,9491000,9531000,9571000,9605000,9628000,9650000,9673000,9691000,9704000,9716000,9730000,9749000,9781000,9813000,9845000,9880000,9920000,9959000,10000000,10039000,10077000,10116000,10154000,10194000,10239000,10282000,10326000,10372000,10420000,10468000,10516000,10559000,10591000,10622000,10654000,10686000,10720000,11051282,11059071,11074792,11103214,11124636,11146058,11169480,11189902,11204324,11219746,11237169,11258591,11273013,11286435,11306857,11333279,11352701,11373123,11395545,11417967,11434389,11452811,11476233,11509655,11535077,11563499,11592921,11620343,11637765,11653188,11676610,11703032,11723454,11742876,11768298,11798720,11822142,11847564,11875986,11909408,11933830,11957168,11998173,12043720,12084481,12125159,12169643,12215864,12257252,12297869,12341582,12383681,12416940,12448178,12488009,12530352,12564192,12601241,12639998,12676376,12708387,12741891,12775951,12820602,12847534,12868855,12892733,12920255,12942357,12963477,12987497,13013762,13034615,13054641,13081267,13115612,13144772,13172216,13205936,13245775,13278566,13485112,13525967,13570371,13608548,13645072,13685522,13725435,13760898,13795337,13831747,13866240,13894466,13921642,13952273,13979489,14002401,14024675,14050740,14077491,14097561,14116702,14139745,14160891,14177090,14192288,14213530,14239679,14259961,14278482,14300942,14323736,14341250,14358010,14379644,14403085],\"yaxis\":\"y\",\"type\":\"scattergl\"},{\"hovertemplate\":\"color=Massachusetts\\u003cbr\\u003ex=%{x}\\u003cbr\\u003ey=%{y}\\u003cextra\\u003e\\u003c\\u002fextra\\u003e\",\"legendgroup\":\"Massachusetts\",\"line\":{\"color\":\"#EF553B\",\"dash\":\"solid\"},\"marker\":{\"symbol\":\"circle\"},\"mode\":\"markers+lines\",\"name\":\"Massachusetts\",\"showlegend\":true,\"x\":[\"1976Q1\",\"1976Q2\",\"1976Q3\",\"1976Q4\",\"1977Q1\",\"1977Q2\",\"1977Q3\",\"1977Q4\",\"1978Q1\",\"1978Q2\",\"1978Q3\",\"1978Q4\",\"1979Q1\",\"1979Q2\",\"1979Q3\",\"1979Q4\",\"1980Q1\",\"1980Q2\",\"1980Q3\",\"1980Q4\",\"1981Q1\",\"1981Q2\",\"1981Q3\",\"1981Q4\",\"1982Q1\",\"1982Q2\",\"1982Q3\",\"1982Q4\",\"1983Q1\",\"1983Q2\",\"1983Q3\",\"1983Q4\",\"1984Q1\",\"1984Q2\",\"1984Q3\",\"1984Q4\",\"1985Q1\",\"1985Q2\",\"1985Q3\",\"1985Q4\",\"1986Q1\",\"1986Q2\",\"1986Q3\",\"1986Q4\",\"1987Q1\",\"1987Q2\",\"1987Q3\",\"1987Q4\",\"1988Q1\",\"1988Q2\",\"1988Q3\",\"1988Q4\",\"1989Q1\",\"1989Q2\",\"1989Q3\",\"1989Q4\",\"1990Q1\",\"1990Q2\",\"1990Q3\",\"1990Q4\",\"1991Q1\",\"1991Q2\",\"1991Q3\",\"1991Q4\",\"1992Q1\",\"1992Q2\",\"1992Q3\",\"1992Q4\",\"1993Q1\",\"1993Q2\",\"1993Q3\",\"1993Q4\",\"1994Q1\",\"1994Q2\",\"1994Q3\",\"1994Q4\",\"1995Q1\",\"1995Q2\",\"1995Q3\",\"1995Q4\",\"1996Q1\",\"1996Q2\",\"1996Q3\",\"1996Q4\",\"1997Q1\",\"1997Q2\",\"1997Q3\",\"1997Q4\",\"1998Q1\",\"1998Q2\",\"1998Q3\",\"1998Q4\",\"1999Q1\",\"1999Q2\",\"1999Q3\",\"1999Q4\",\"2000Q1\",\"2000Q2\",\"2000Q3\",\"2000Q4\",\"2001Q1\",\"2001Q2\",\"2001Q3\",\"2001Q4\",\"2002Q1\",\"2002Q2\",\"2002Q3\",\"2002Q4\",\"2003Q1\",\"2003Q2\",\"2003Q3\",\"2003Q4\",\"2004Q1\",\"2004Q2\",\"2004Q3\",\"2004Q4\",\"2005Q1\",\"2005Q2\",\"2005Q3\",\"2005Q4\",\"2006Q1\",\"2006Q2\",\"2006Q3\",\"2006Q4\",\"2007Q1\",\"2007Q2\",\"2007Q3\",\"2007Q4\",\"2008Q1\",\"2008Q2\",\"2008Q3\",\"2008Q4\",\"2009Q1\",\"2009Q2\",\"2009Q3\",\"2009Q4\",\"2010Q1\",\"2010Q2\",\"2010Q3\",\"2010Q4\",\"2011Q1\",\"2011Q2\",\"2011Q3\",\"2011Q4\",\"2012Q1\",\"2012Q2\",\"2012Q3\",\"2012Q4\",\"2013Q1\",\"2013Q2\",\"2013Q3\",\"2013Q4\",\"2014Q1\",\"2014Q2\",\"2014Q3\",\"2014Q4\",\"2015Q1\",\"2015Q2\",\"2015Q3\",\"2015Q4\",\"2016Q1\",\"2016Q2\",\"2016Q3\",\"2016Q4\",\"2017Q1\",\"2017Q2\",\"2017Q3\",\"2017Q4\",\"2018Q1\",\"2018Q2\",\"2018Q3\",\"2018Q4\"],\"xaxis\":\"x\",\"y\":[12593000,12621000,12650000,12682000,12714000,12746000,12779000,12811000,12843000,12875000,12908000,12940000,12972000,13004000,13033000,13055000,13078000,13104000,13138000,13173000,13209000,13242000,13272000,13287000,13303000,13319000,13336000,13358000,13379000,13402000,13427000,13459000,13491000,13523000,13550000,13564000,13577000,13591000,13607000,13631000,13655000,13679000,13701000,13719000,13735000,13752000,13771000,13791000,13812000,13832000,13846000,13848000,13851000,13853000,13854000,13857000,14108496,14146890,14160762,14142673,14115583,14088493,14072403,14071315,14061226,14052136,14053046,14064956,14068868,14069779,14081689,14103599,14114509,14126421,14147332,14178242,14201152,14227062,14253975,14282885,14301795,14325705,14355615,14393528,14418438,14442348,14472258,14504168,14524081,14546991,14575901,14611811,14638721,14667634,14697544,14728454,14750364,14761278,14798580,14837068,14868962,14901965,14936302,14963484,14984080,15005037,15030574,15052912,15064544,15075614,15094230,15108978,15113169,15122638,15137531,15153473,15163377,15175579,15194269,15231342,15248380,15261075,15284000,15321267,15351777,15382415,15419260,15460749,15495292,15530426,15571924,15616376,15654262,15691740,15732580,15769694,15798661,15691107,15742692,15786197,15822399,15858787,15901141,15944568,15983371,16021904,16066371,16113592,16152199,16191391,16236209,16279097,16316377,16354008,16394972,16432612,16462205,16492109,16526711,16558444,16583568,16610923,16643353,16677735,16706726,16734712,16768246,16801062,16827859,16854971,16887780,16921106],\"yaxis\":\"y\",\"type\":\"scattergl\"},{\"hovertemplate\":\"color=Michigan\\u003cbr\\u003ex=%{x}\\u003cbr\\u003ey=%{y}\\u003cextra\\u003e\\u003c\\u002fextra\\u003e\",\"legendgroup\":\"Michigan\",\"line\":{\"color\":\"#00cc96\",\"dash\":\"solid\"},\"marker\":{\"symbol\":\"circle\"},\"mode\":\"markers+lines\",\"name\":\"Michigan\",\"showlegend\":true,\"x\":[\"1976Q1\",\"1976Q2\",\"1976Q3\",\"1976Q4\",\"1977Q1\",\"1977Q2\",\"1977Q3\",\"1977Q4\",\"1978Q1\",\"1978Q2\",\"1978Q3\",\"1978Q4\",\"1979Q1\",\"1979Q2\",\"1979Q3\",\"1979Q4\",\"1980Q1\",\"1980Q2\",\"1980Q3\",\"1980Q4\",\"1981Q1\",\"1981Q2\",\"1981Q3\",\"1981Q4\",\"1982Q1\",\"1982Q2\",\"1982Q3\",\"1982Q4\",\"1983Q1\",\"1983Q2\",\"1983Q3\",\"1983Q4\",\"1984Q1\",\"1984Q2\",\"1984Q3\",\"1984Q4\",\"1985Q1\",\"1985Q2\",\"1985Q3\",\"1985Q4\",\"1986Q1\",\"1986Q2\",\"1986Q3\",\"1986Q4\",\"1987Q1\",\"1987Q2\",\"1987Q3\",\"1987Q4\",\"1988Q1\",\"1988Q2\",\"1988Q3\",\"1988Q4\",\"1989Q1\",\"1989Q2\",\"1989Q3\",\"1989Q4\",\"1990Q1\",\"1990Q2\",\"1990Q3\",\"1990Q4\",\"1991Q1\",\"1991Q2\",\"1991Q3\",\"1991Q4\",\"1992Q1\",\"1992Q2\",\"1992Q3\",\"1992Q4\",\"1993Q1\",\"1993Q2\",\"1993Q3\",\"1993Q4\",\"1994Q1\",\"1994Q2\",\"1994Q3\",\"1994Q4\",\"1995Q1\",\"1995Q2\",\"1995Q3\",\"1995Q4\",\"1996Q1\",\"1996Q2\",\"1996Q3\",\"1996Q4\",\"1997Q1\",\"1997Q2\",\"1997Q3\",\"1997Q4\",\"1998Q1\",\"1998Q2\",\"1998Q3\",\"1998Q4\",\"1999Q1\",\"1999Q2\",\"1999Q3\",\"1999Q4\",\"2000Q1\",\"2000Q2\",\"2000Q3\",\"2000Q4\",\"2001Q1\",\"2001Q2\",\"2001Q3\",\"2001Q4\",\"2002Q1\",\"2002Q2\",\"2002Q3\",\"2002Q4\",\"2003Q1\",\"2003Q2\",\"2003Q3\",\"2003Q4\",\"2004Q1\",\"2004Q2\",\"2004Q3\",\"2004Q4\",\"2005Q1\",\"2005Q2\",\"2005Q3\",\"2005Q4\",\"2006Q1\",\"2006Q2\",\"2006Q3\",\"2006Q4\",\"2007Q1\",\"2007Q2\",\"2007Q3\",\"2007Q4\",\"2008Q1\",\"2008Q2\",\"2008Q3\",\"2008Q4\",\"2009Q1\",\"2009Q2\",\"2009Q3\",\"2009Q4\",\"2010Q1\",\"2010Q2\",\"2010Q3\",\"2010Q4\",\"2011Q1\",\"2011Q2\",\"2011Q3\",\"2011Q4\",\"2012Q1\",\"2012Q2\",\"2012Q3\",\"2012Q4\",\"2013Q1\",\"2013Q2\",\"2013Q3\",\"2013Q4\",\"2014Q1\",\"2014Q2\",\"2014Q3\",\"2014Q4\",\"2015Q1\",\"2015Q2\",\"2015Q3\",\"2015Q4\",\"2016Q1\",\"2016Q2\",\"2016Q3\",\"2016Q4\",\"2017Q1\",\"2017Q2\",\"2017Q3\",\"2017Q4\",\"2018Q1\",\"2018Q2\",\"2018Q3\",\"2018Q4\"],\"xaxis\":\"x\",\"y\":[19271000,19326000,19386000,19455000,19525000,19595000,19664000,19733000,19802000,19871000,19938000,20003000,20067000,20132000,20189000,20232000,20274000,20308000,20319000,20331000,20342000,20353000,20353000,20328000,20304000,20279000,20250000,20217000,20181000,20148000,20133000,20157000,20184000,20208000,20239000,20279000,20318000,20359000,20401000,20448000,20496000,20543000,20595000,20655000,20718000,20779000,20828000,20851000,20874000,20897000,20916000,20927000,20937000,20948000,20960000,20973000,20967186,21018698,21069794,21119092,21157390,21194688,21239986,21290284,21325582,21363879,21408177,21448476,21475773,21501071,21539369,21584667,21615964,21649263,21691561,21743858,21786156,21829454,21883752,21949050,21998348,22056646,22111943,22151241,22171540,22188837,22219135,22248433,22264731,22282028,22308327,22344625,22368922,22393220,22426518,22463816,22486114,22522226,22571881,22619447,22657588,22697043,22741250,22780805,22810758,22840374,22881046,22926000,22954158,22980556,23019931,23056602,23076998,23104836,23135893,23159313,23173934,23192366,23216989,23259986,23275217,23285027,23299074,23314055,23318729,23322939,23329800,23331271,23322386,23313797,23314046,23318707,23313548,23306923,23312686,23328736,23331840,23158107,23172697,23200324,23217524,23234431,23260009,23288704,23310971,23332239,23360488,23391331,23409111,23427470,23455615,23484974,23505787,23526629,23552725,23575767,23586475,23597348,23620056,23648961,23667841,23690034,23720718,23757242,23785772,23812068,23846181,23878663,23901961,23925146,23956601,23988970],\"yaxis\":\"y\",\"type\":\"scattergl\"},{\"hovertemplate\":\"color=Minnesota\\u003cbr\\u003ex=%{x}\\u003cbr\\u003ey=%{y}\\u003cextra\\u003e\\u003c\\u002fextra\\u003e\",\"legendgroup\":\"Minnesota\",\"line\":{\"color\":\"#ab63fa\",\"dash\":\"solid\"},\"marker\":{\"symbol\":\"circle\"},\"mode\":\"markers+lines\",\"name\":\"Minnesota\",\"showlegend\":true,\"x\":[\"1976Q1\",\"1976Q2\",\"1976Q3\",\"1976Q4\",\"1977Q1\",\"1977Q2\",\"1977Q3\",\"1977Q4\",\"1978Q1\",\"1978Q2\",\"1978Q3\",\"1978Q4\",\"1979Q1\",\"1979Q2\",\"1979Q3\",\"1979Q4\",\"1980Q1\",\"1980Q2\",\"1980Q3\",\"1980Q4\",\"1981Q1\",\"1981Q2\",\"1981Q3\",\"1981Q4\",\"1982Q1\",\"1982Q2\",\"1982Q3\",\"1982Q4\",\"1983Q1\",\"1983Q2\",\"1983Q3\",\"1983Q4\",\"1984Q1\",\"1984Q2\",\"1984Q3\",\"1984Q4\",\"1985Q1\",\"1985Q2\",\"1985Q3\",\"1985Q4\",\"1986Q1\",\"1986Q2\",\"1986Q3\",\"1986Q4\",\"1987Q1\",\"1987Q2\",\"1987Q3\",\"1987Q4\",\"1988Q1\",\"1988Q2\",\"1988Q3\",\"1988Q4\",\"1989Q1\",\"1989Q2\",\"1989Q3\",\"1989Q4\",\"1990Q1\",\"1990Q2\",\"1990Q3\",\"1990Q4\",\"1991Q1\",\"1991Q2\",\"1991Q3\",\"1991Q4\",\"1992Q1\",\"1992Q2\",\"1992Q3\",\"1992Q4\",\"1993Q1\",\"1993Q2\",\"1993Q3\",\"1993Q4\",\"1994Q1\",\"1994Q2\",\"1994Q3\",\"1994Q4\",\"1995Q1\",\"1995Q2\",\"1995Q3\",\"1995Q4\",\"1996Q1\",\"1996Q2\",\"1996Q3\",\"1996Q4\",\"1997Q1\",\"1997Q2\",\"1997Q3\",\"1997Q4\",\"1998Q1\",\"1998Q2\",\"1998Q3\",\"1998Q4\",\"1999Q1\",\"1999Q2\",\"1999Q3\",\"1999Q4\",\"2000Q1\",\"2000Q2\",\"2000Q3\",\"2000Q4\",\"2001Q1\",\"2001Q2\",\"2001Q3\",\"2001Q4\",\"2002Q1\",\"2002Q2\",\"2002Q3\",\"2002Q4\",\"2003Q1\",\"2003Q2\",\"2003Q3\",\"2003Q4\",\"2004Q1\",\"2004Q2\",\"2004Q3\",\"2004Q4\",\"2005Q1\",\"2005Q2\",\"2005Q3\",\"2005Q4\",\"2006Q1\",\"2006Q2\",\"2006Q3\",\"2006Q4\",\"2007Q1\",\"2007Q2\",\"2007Q3\",\"2007Q4\",\"2008Q1\",\"2008Q2\",\"2008Q3\",\"2008Q4\",\"2009Q1\",\"2009Q2\",\"2009Q3\",\"2009Q4\",\"2010Q1\",\"2010Q2\",\"2010Q3\",\"2010Q4\",\"2011Q1\",\"2011Q2\",\"2011Q3\",\"2011Q4\",\"2012Q1\",\"2012Q2\",\"2012Q3\",\"2012Q4\",\"2013Q1\",\"2013Q2\",\"2013Q3\",\"2013Q4\",\"2014Q1\",\"2014Q2\",\"2014Q3\",\"2014Q4\",\"2015Q1\",\"2015Q2\",\"2015Q3\",\"2015Q4\",\"2016Q1\",\"2016Q2\",\"2016Q3\",\"2016Q4\",\"2017Q1\",\"2017Q2\",\"2017Q3\",\"2017Q4\",\"2018Q1\",\"2018Q2\",\"2018Q3\",\"2018Q4\"],\"xaxis\":\"x\",\"y\":[8378000,8419000,8457000,8493000,8531000,8568000,8604000,8637000,8671000,8705000,8739000,8775000,8813000,8850000,8889000,8933000,8976000,9015000,9042000,9070000,9099000,9126000,9150000,9168000,9186000,9204000,9219000,9228000,9239000,9249000,9261000,9276000,9294000,9309000,9324000,9333000,9342000,9351000,9369000,9405000,9438000,9474000,9506000,9530000,9554000,9578000,9606000,9642000,9675000,9711000,9741000,9759000,9777000,9795000,9815000,9834000,9768324,9797535,9824441,9856608,9883773,9909938,9939103,9968268,9990435,10016601,10046766,10088931,10125096,10159261,10197429,10236594,10269759,10302924,10339089,10378255,10411422,10445587,10483752,10527917,10563082,10601249,10642415,10679580,10709745,10736910,10770075,10804243,10830408,10858573,10892738,10935903,10975069,11012236,11055401,11101566,11138731,11170313,11208642,11249121,11285111,11322292,11360793,11394185,11422895,11452045,11485281,11516954,11540408,11563646,11593459,11621480,11641517,11665877,11693547,11720030,11742269,11766678,11796926,11839929,11869624,11897894,11929881,11964297,11993516,12023189,12055171,12085262,12109956,12135675,12164564,12191841,12213980,12236323,12262631,12287988,12306972,12332922,12358954,12387861,12410885,12434689,12462721,12490272,12514295,12538626,12567372,12597729,12620768,12645077,12673679,12700415,12722508,12745302,12771611,12796497,12814688,12833767,12860076,12890747,12916096,12943780,12976651,13013174,13045583,13077294,13113654,13149197,13179680,13210746,13246946,13283924],\"yaxis\":\"y\",\"type\":\"scattergl\"},{\"hovertemplate\":\"color=Mississippi\\u003cbr\\u003ex=%{x}\\u003cbr\\u003ey=%{y}\\u003cextra\\u003e\\u003c\\u002fextra\\u003e\",\"legendgroup\":\"Mississippi\",\"line\":{\"color\":\"#FFA15A\",\"dash\":\"solid\"},\"marker\":{\"symbol\":\"circle\"},\"mode\":\"markers+lines\",\"name\":\"Mississippi\",\"showlegend\":true,\"x\":[\"1976Q1\",\"1976Q2\",\"1976Q3\",\"1976Q4\",\"1977Q1\",\"1977Q2\",\"1977Q3\",\"1977Q4\",\"1978Q1\",\"1978Q2\",\"1978Q3\",\"1978Q4\",\"1979Q1\",\"1979Q2\",\"1979Q3\",\"1979Q4\",\"1980Q1\",\"1980Q2\",\"1980Q3\",\"1980Q4\",\"1981Q1\",\"1981Q2\",\"1981Q3\",\"1981Q4\",\"1982Q1\",\"1982Q2\",\"1982Q3\",\"1982Q4\",\"1983Q1\",\"1983Q2\",\"1983Q3\",\"1983Q4\",\"1984Q1\",\"1984Q2\",\"1984Q3\",\"1984Q4\",\"1985Q1\",\"1985Q2\",\"1985Q3\",\"1985Q4\",\"1986Q1\",\"1986Q2\",\"1986Q3\",\"1986Q4\",\"1987Q1\",\"1987Q2\",\"1987Q3\",\"1987Q4\",\"1988Q1\",\"1988Q2\",\"1988Q3\",\"1988Q4\",\"1989Q1\",\"1989Q2\",\"1989Q3\",\"1989Q4\",\"1990Q1\",\"1990Q2\",\"1990Q3\",\"1990Q4\",\"1991Q1\",\"1991Q2\",\"1991Q3\",\"1991Q4\",\"1992Q1\",\"1992Q2\",\"1992Q3\",\"1992Q4\",\"1993Q1\",\"1993Q2\",\"1993Q3\",\"1993Q4\",\"1994Q1\",\"1994Q2\",\"1994Q3\",\"1994Q4\",\"1995Q1\",\"1995Q2\",\"1995Q3\",\"1995Q4\",\"1996Q1\",\"1996Q2\",\"1996Q3\",\"1996Q4\",\"1997Q1\",\"1997Q2\",\"1997Q3\",\"1997Q4\",\"1998Q1\",\"1998Q2\",\"1998Q3\",\"1998Q4\",\"1999Q1\",\"1999Q2\",\"1999Q3\",\"1999Q4\",\"2000Q1\",\"2000Q2\",\"2000Q3\",\"2000Q4\",\"2001Q1\",\"2001Q2\",\"2001Q3\",\"2001Q4\",\"2002Q1\",\"2002Q2\",\"2002Q3\",\"2002Q4\",\"2003Q1\",\"2003Q2\",\"2003Q3\",\"2003Q4\",\"2004Q1\",\"2004Q2\",\"2004Q3\",\"2004Q4\",\"2005Q1\",\"2005Q2\",\"2005Q3\",\"2005Q4\",\"2006Q1\",\"2006Q2\",\"2006Q3\",\"2006Q4\",\"2007Q1\",\"2007Q2\",\"2007Q3\",\"2007Q4\",\"2008Q1\",\"2008Q2\",\"2008Q3\",\"2008Q4\",\"2009Q1\",\"2009Q2\",\"2009Q3\",\"2009Q4\",\"2010Q1\",\"2010Q2\",\"2010Q3\",\"2010Q4\",\"2011Q1\",\"2011Q2\",\"2011Q3\",\"2011Q4\",\"2012Q1\",\"2012Q2\",\"2012Q3\",\"2012Q4\",\"2013Q1\",\"2013Q2\",\"2013Q3\",\"2013Q4\",\"2014Q1\",\"2014Q2\",\"2014Q3\",\"2014Q4\",\"2015Q1\",\"2015Q2\",\"2015Q3\",\"2015Q4\",\"2016Q1\",\"2016Q2\",\"2016Q3\",\"2016Q4\",\"2017Q1\",\"2017Q2\",\"2017Q3\",\"2017Q4\",\"2018Q1\",\"2018Q2\",\"2018Q3\",\"2018Q4\"],\"xaxis\":\"x\",\"y\":[4931000,4959000,4986000,5010000,5035000,5060000,5084000,5108000,5132000,5156000,5178000,5198000,5217000,5237000,5255000,5271000,5286000,5304000,5322000,5340000,5358000,5376000,5393000,5408000,5423000,5438000,5451000,5457000,5466000,5472000,5481000,5490000,5501000,5511000,5525000,5548000,5570000,5593000,5607000,5605000,5604000,5602000,5604000,5613000,5620000,5628000,5636000,5642000,5648000,5654000,5660000,5666000,5672000,5678000,5683000,5690000,5618022,5674120,5714445,5724363,5732279,5739196,5749114,5761030,5768947,5777865,5790782,5809698,5826616,5841533,5859449,5881367,5898284,5917200,5936118,5958035,5976951,5995869,6017786,6035702,6050620,6066537,6084453,6103371,6117288,6131204,6148122,6166040,6180955,6195873,6210791,6224706,6235624,6247542,6259457,6273375,6281293,6282304,6293139,6299838,6304199,6308728,6315104,6322243,6326883,6331118,6338311,6347139,6351328,6354578,6363903,6377899,6387536,6399017,6411932,6424385,6434816,6446269,6466312,6372491,6392140,6435597,6470859,6485158,6496862,6508216,6520743,6533951,6544491,6554780,6566279,6577321,6585862,6593556,6603225,6613704,6620605,6692036,6706427,6715810,6721909,6727445,6734965,6742448,6748016,6753042,6760337,6769891,6776695,6783138,6791306,6797592,6802405,6807108,6812937,6818128,6820374,6822260,6827274,6834613,6839869,6845009,6851469,6857910,6861608,6864725,6869435,6873984,6875899,6877509,6881576,6886589],\"yaxis\":\"y\",\"type\":\"scattergl\"},{\"hovertemplate\":\"color=Missouri\\u003cbr\\u003ex=%{x}\\u003cbr\\u003ey=%{y}\\u003cextra\\u003e\\u003c\\u002fextra\\u003e\",\"legendgroup\":\"Missouri\",\"line\":{\"color\":\"#19d3f3\",\"dash\":\"solid\"},\"marker\":{\"symbol\":\"circle\"},\"mode\":\"markers+lines\",\"name\":\"Missouri\",\"showlegend\":true,\"x\":[\"1976Q1\",\"1976Q2\",\"1976Q3\",\"1976Q4\",\"1977Q1\",\"1977Q2\",\"1977Q3\",\"1977Q4\",\"1978Q1\",\"1978Q2\",\"1978Q3\",\"1978Q4\",\"1979Q1\",\"1979Q2\",\"1979Q3\",\"1979Q4\",\"1980Q1\",\"1980Q2\",\"1980Q3\",\"1980Q4\",\"1981Q1\",\"1981Q2\",\"1981Q3\",\"1981Q4\",\"1982Q1\",\"1982Q2\",\"1982Q3\",\"1982Q4\",\"1983Q1\",\"1983Q2\",\"1983Q3\",\"1983Q4\",\"1984Q1\",\"1984Q2\",\"1984Q3\",\"1984Q4\",\"1985Q1\",\"1985Q2\",\"1985Q3\",\"1985Q4\",\"1986Q1\",\"1986Q2\",\"1986Q3\",\"1986Q4\",\"1987Q1\",\"1987Q2\",\"1987Q3\",\"1987Q4\",\"1988Q1\",\"1988Q2\",\"1988Q3\",\"1988Q4\",\"1989Q1\",\"1989Q2\",\"1989Q3\",\"1989Q4\",\"1990Q1\",\"1990Q2\",\"1990Q3\",\"1990Q4\",\"1991Q1\",\"1991Q2\",\"1991Q3\",\"1991Q4\",\"1992Q1\",\"1992Q2\",\"1992Q3\",\"1992Q4\",\"1993Q1\",\"1993Q2\",\"1993Q3\",\"1993Q4\",\"1994Q1\",\"1994Q2\",\"1994Q3\",\"1994Q4\",\"1995Q1\",\"1995Q2\",\"1995Q3\",\"1995Q4\",\"1996Q1\",\"1996Q2\",\"1996Q3\",\"1996Q4\",\"1997Q1\",\"1997Q2\",\"1997Q3\",\"1997Q4\",\"1998Q1\",\"1998Q2\",\"1998Q3\",\"1998Q4\",\"1999Q1\",\"1999Q2\",\"1999Q3\",\"1999Q4\",\"2000Q1\",\"2000Q2\",\"2000Q3\",\"2000Q4\",\"2001Q1\",\"2001Q2\",\"2001Q3\",\"2001Q4\",\"2002Q1\",\"2002Q2\",\"2002Q3\",\"2002Q4\",\"2003Q1\",\"2003Q2\",\"2003Q3\",\"2003Q4\",\"2004Q1\",\"2004Q2\",\"2004Q3\",\"2004Q4\",\"2005Q1\",\"2005Q2\",\"2005Q3\",\"2005Q4\",\"2006Q1\",\"2006Q2\",\"2006Q3\",\"2006Q4\",\"2007Q1\",\"2007Q2\",\"2007Q3\",\"2007Q4\",\"2008Q1\",\"2008Q2\",\"2008Q3\",\"2008Q4\",\"2009Q1\",\"2009Q2\",\"2009Q3\",\"2009Q4\",\"2010Q1\",\"2010Q2\",\"2010Q3\",\"2010Q4\",\"2011Q1\",\"2011Q2\",\"2011Q3\",\"2011Q4\",\"2012Q1\",\"2012Q2\",\"2012Q3\",\"2012Q4\",\"2013Q1\",\"2013Q2\",\"2013Q3\",\"2013Q4\",\"2014Q1\",\"2014Q2\",\"2014Q3\",\"2014Q4\",\"2015Q1\",\"2015Q2\",\"2015Q3\",\"2015Q4\",\"2016Q1\",\"2016Q2\",\"2016Q3\",\"2016Q4\",\"2017Q1\",\"2017Q2\",\"2017Q3\",\"2017Q4\",\"2018Q1\",\"2018Q2\",\"2018Q3\",\"2018Q4\"],\"xaxis\":\"x\",\"y\":[10406000,10443000,10479000,10515000,10551000,10587000,10623000,10659000,10695000,10731000,10764000,10791000,10818000,10845000,10875000,10911000,10945000,10975000,10995000,11016000,11036000,11056000,11073000,11082000,11088000,11097000,11110000,11131000,11152000,11173000,11195000,11218000,11240000,11263000,11281000,11293000,11305000,11317000,11337000,11373000,11411000,11448000,11484000,11518000,11553000,11587000,11618000,11641000,11663000,11686000,11703000,11712000,11718000,11727000,11736000,11745000,11525820,11571397,11605957,11631192,11649425,11665659,11687894,11712127,11727361,11746596,11772829,11809063,11838298,11867531,11902765,11941000,11971233,12002467,12037702,12071935,12099169,12128403,12161637,12195871,12224105,12255339,12290573,12328807,12355041,12381275,12411509,12438743,12458977,12479211,12505445,12536679,12561913,12587147,12617381,12650615,12675849,12686834,12716829,12748405,12774444,12801531,12832635,12863680,12889012,12914383,12945248,12976519,12998230,13019262,13050236,13084941,13110285,13140053,13175408,13213243,13246018,13280984,13321026,13372511,13409231,13443720,13480697,13517646,13548570,13579499,13614626,13651241,13681794,13712792,13745371,13772653,13794198,13815304,13841841,13870182,13890911,13864346,13887806,13907335,13920625,13934195,13951579,13968891,13982034,13995454,14012997,14032093,14044246,14057048,14075743,14094609,14109644,14125324,14145010,14164503,14177098,14190296,14208574,14227504,14241401,14256991,14276306,14297806,14314985,14331643,14352346,14373663,14389383,14405238,14426427,14448391],\"yaxis\":\"y\",\"type\":\"scattergl\"},{\"hovertemplate\":\"color=Montana\\u003cbr\\u003ex=%{x}\\u003cbr\\u003ey=%{y}\\u003cextra\\u003e\\u003c\\u002fextra\\u003e\",\"legendgroup\":\"Montana\",\"line\":{\"color\":\"#FF6692\",\"dash\":\"solid\"},\"marker\":{\"symbol\":\"circle\"},\"mode\":\"markers+lines\",\"name\":\"Montana\",\"showlegend\":true,\"x\":[\"1976Q1\",\"1976Q2\",\"1976Q3\",\"1976Q4\",\"1977Q1\",\"1977Q2\",\"1977Q3\",\"1977Q4\",\"1978Q1\",\"1978Q2\",\"1978Q3\",\"1978Q4\",\"1979Q1\",\"1979Q2\",\"1979Q3\",\"1979Q4\",\"1980Q1\",\"1980Q2\",\"1980Q3\",\"1980Q4\",\"1981Q1\",\"1981Q2\",\"1981Q3\",\"1981Q4\",\"1982Q1\",\"1982Q2\",\"1982Q3\",\"1982Q4\",\"1983Q1\",\"1983Q2\",\"1983Q3\",\"1983Q4\",\"1984Q1\",\"1984Q2\",\"1984Q3\",\"1984Q4\",\"1985Q1\",\"1985Q2\",\"1985Q3\",\"1985Q4\",\"1986Q1\",\"1986Q2\",\"1986Q3\",\"1986Q4\",\"1987Q1\",\"1987Q2\",\"1987Q3\",\"1987Q4\",\"1988Q1\",\"1988Q2\",\"1988Q3\",\"1988Q4\",\"1989Q1\",\"1989Q2\",\"1989Q3\",\"1989Q4\",\"1990Q1\",\"1990Q2\",\"1990Q3\",\"1990Q4\",\"1991Q1\",\"1991Q2\",\"1991Q3\",\"1991Q4\",\"1992Q1\",\"1992Q2\",\"1992Q3\",\"1992Q4\",\"1993Q1\",\"1993Q2\",\"1993Q3\",\"1993Q4\",\"1994Q1\",\"1994Q2\",\"1994Q3\",\"1994Q4\",\"1995Q1\",\"1995Q2\",\"1995Q3\",\"1995Q4\",\"1996Q1\",\"1996Q2\",\"1996Q3\",\"1996Q4\",\"1997Q1\",\"1997Q2\",\"1997Q3\",\"1997Q4\",\"1998Q1\",\"1998Q2\",\"1998Q3\",\"1998Q4\",\"1999Q1\",\"1999Q2\",\"1999Q3\",\"1999Q4\",\"2000Q1\",\"2000Q2\",\"2000Q3\",\"2000Q4\",\"2001Q1\",\"2001Q2\",\"2001Q3\",\"2001Q4\",\"2002Q1\",\"2002Q2\",\"2002Q3\",\"2002Q4\",\"2003Q1\",\"2003Q2\",\"2003Q3\",\"2003Q4\",\"2004Q1\",\"2004Q2\",\"2004Q3\",\"2004Q4\",\"2005Q1\",\"2005Q2\",\"2005Q3\",\"2005Q4\",\"2006Q1\",\"2006Q2\",\"2006Q3\",\"2006Q4\",\"2007Q1\",\"2007Q2\",\"2007Q3\",\"2007Q4\",\"2008Q1\",\"2008Q2\",\"2008Q3\",\"2008Q4\",\"2009Q1\",\"2009Q2\",\"2009Q3\",\"2009Q4\",\"2010Q1\",\"2010Q2\",\"2010Q3\",\"2010Q4\",\"2011Q1\",\"2011Q2\",\"2011Q3\",\"2011Q4\",\"2012Q1\",\"2012Q2\",\"2012Q3\",\"2012Q4\",\"2013Q1\",\"2013Q2\",\"2013Q3\",\"2013Q4\",\"2014Q1\",\"2014Q2\",\"2014Q3\",\"2014Q4\",\"2015Q1\",\"2015Q2\",\"2015Q3\",\"2015Q4\",\"2016Q1\",\"2016Q2\",\"2016Q3\",\"2016Q4\",\"2017Q1\",\"2017Q2\",\"2017Q3\",\"2017Q4\",\"2018Q1\",\"2018Q2\",\"2018Q3\",\"2018Q4\"],\"xaxis\":\"x\",\"y\":[1596000,1605000,1614000,1625000,1635000,1646000,1657000,1668000,1680000,1691000,1700000,1705000,1710000,1715000,1719000,1719000,1719000,1721000,1726000,1732000,1737000,1742000,1748000,1753000,1757000,1762000,1767000,1773000,1780000,1787000,1792000,1796000,1799000,1804000,1806000,1808000,1809000,1811000,1811000,1808000,1805000,1802000,1800000,1797000,1795000,1793000,1791000,1791000,1789000,1788000,1788000,1788000,1788000,1788000,1789000,1791000,1785324,1784629,1786190,1791887,1797583,1802280,1809976,1817672,1824369,1833066,1841762,1853458,1863154,1873851,1884548,1896244,1905940,1916637,1927333,1940030,1951726,1962422,1973119,1981815,1990512,1999208,2005905,2011601,2015297,2017994,2022690,2024387,2027083,2026779,2030476,2034173,2036869,2039565,2044261,2049958,2053655,2058523,2063001,2068050,2072244,2076602,2081835,2087411,2092060,2096661,2102691,2109740,2115312,2120786,2128035,2136167,2142788,2150145,2158058,2165690,2172521,2179612,2187895,2198241,2206428,2214327,2222889,2231701,2239457,2247202,2255408,2263215,2269960,2276786,2283791,2289425,2294040,2298607,2303876,2308800,2312494,2333399,2337390,2342147,2345697,2349212,2354019,2359494,2364025,2368583,2374212,2380416,2385383,2390281,2396229,2401888,2406611,2411399,2417297,2423572,2428276,2433208,2439557,2446835,2453003,2459281,2466868,2475411,2483017,2490442,2498822,2507366,2514900,2522406,2531006,2539810],\"yaxis\":\"y\",\"type\":\"scattergl\"},{\"hovertemplate\":\"color=Nebraska\\u003cbr\\u003ex=%{x}\\u003cbr\\u003ey=%{y}\\u003cextra\\u003e\\u003c\\u002fextra\\u003e\",\"legendgroup\":\"Nebraska\",\"line\":{\"color\":\"#B6E880\",\"dash\":\"solid\"},\"marker\":{\"symbol\":\"circle\"},\"mode\":\"markers+lines\",\"name\":\"Nebraska\",\"showlegend\":true,\"x\":[\"1976Q1\",\"1976Q2\",\"1976Q3\",\"1976Q4\",\"1977Q1\",\"1977Q2\",\"1977Q3\",\"1977Q4\",\"1978Q1\",\"1978Q2\",\"1978Q3\",\"1978Q4\",\"1979Q1\",\"1979Q2\",\"1979Q3\",\"1979Q4\",\"1980Q1\",\"1980Q2\",\"1980Q3\",\"1980Q4\",\"1981Q1\",\"1981Q2\",\"1981Q3\",\"1981Q4\",\"1982Q1\",\"1982Q2\",\"1982Q3\",\"1982Q4\",\"1983Q1\",\"1983Q2\",\"1983Q3\",\"1983Q4\",\"1984Q1\",\"1984Q2\",\"1984Q3\",\"1984Q4\",\"1985Q1\",\"1985Q2\",\"1985Q3\",\"1985Q4\",\"1986Q1\",\"1986Q2\",\"1986Q3\",\"1986Q4\",\"1987Q1\",\"1987Q2\",\"1987Q3\",\"1987Q4\",\"1988Q1\",\"1988Q2\",\"1988Q3\",\"1988Q4\",\"1989Q1\",\"1989Q2\",\"1989Q3\",\"1989Q4\",\"1990Q1\",\"1990Q2\",\"1990Q3\",\"1990Q4\",\"1991Q1\",\"1991Q2\",\"1991Q3\",\"1991Q4\",\"1992Q1\",\"1992Q2\",\"1992Q3\",\"1992Q4\",\"1993Q1\",\"1993Q2\",\"1993Q3\",\"1993Q4\",\"1994Q1\",\"1994Q2\",\"1994Q3\",\"1994Q4\",\"1995Q1\",\"1995Q2\",\"1995Q3\",\"1995Q4\",\"1996Q1\",\"1996Q2\",\"1996Q3\",\"1996Q4\",\"1997Q1\",\"1997Q2\",\"1997Q3\",\"1997Q4\",\"1998Q1\",\"1998Q2\",\"1998Q3\",\"1998Q4\",\"1999Q1\",\"1999Q2\",\"1999Q3\",\"1999Q4\",\"2000Q1\",\"2000Q2\",\"2000Q3\",\"2000Q4\",\"2001Q1\",\"2001Q2\",\"2001Q3\",\"2001Q4\",\"2002Q1\",\"2002Q2\",\"2002Q3\",\"2002Q4\",\"2003Q1\",\"2003Q2\",\"2003Q3\",\"2003Q4\",\"2004Q1\",\"2004Q2\",\"2004Q3\",\"2004Q4\",\"2005Q1\",\"2005Q2\",\"2005Q3\",\"2005Q4\",\"2006Q1\",\"2006Q2\",\"2006Q3\",\"2006Q4\",\"2007Q1\",\"2007Q2\",\"2007Q3\",\"2007Q4\",\"2008Q1\",\"2008Q2\",\"2008Q3\",\"2008Q4\",\"2009Q1\",\"2009Q2\",\"2009Q3\",\"2009Q4\",\"2010Q1\",\"2010Q2\",\"2010Q3\",\"2010Q4\",\"2011Q1\",\"2011Q2\",\"2011Q3\",\"2011Q4\",\"2012Q1\",\"2012Q2\",\"2012Q3\",\"2012Q4\",\"2013Q1\",\"2013Q2\",\"2013Q3\",\"2013Q4\",\"2014Q1\",\"2014Q2\",\"2014Q3\",\"2014Q4\",\"2015Q1\",\"2015Q2\",\"2015Q3\",\"2015Q4\",\"2016Q1\",\"2016Q2\",\"2016Q3\",\"2016Q4\",\"2017Q1\",\"2017Q2\",\"2017Q3\",\"2017Q4\",\"2018Q1\",\"2018Q2\",\"2018Q3\",\"2018Q4\"],\"xaxis\":\"x\",\"y\":[3288000,3299000,3309000,3318000,3329000,3339000,3348000,3357000,3368000,3378000,3387000,3393000,3402000,3408000,3417000,3426000,3432000,3441000,3448000,3456000,3465000,3471000,3478000,3482000,3485000,3490000,3495000,3501000,3510000,3516000,3524000,3529000,3534000,3539000,3540000,3531000,3525000,3516000,3513000,3519000,3528000,3534000,3540000,3540000,3543000,3543000,3546000,3552000,3559000,3566000,3571000,3574000,3577000,3580000,3583000,3585000,3468663,3482682,3492850,3502044,3509238,3516432,3525625,3538819,3548013,3558207,3569400,3581594,3590788,3599982,3611176,3620370,3628564,3635757,3646951,3661145,3672339,3684532,3697726,3711920,3721114,3734307,3745502,3755696,3761889,3769083,3777277,3784471,3789664,3794858,3802052,3809246,3815439,3821633,3829827,3838021,3844215,3847338,3853814,3859898,3864324,3869161,3875605,3882410,3887536,3892693,3899865,3907596,3912458,3917303,3924558,3931440,3935582,3941113,3948205,3955488,3961218,3967661,3975363,3985893,3991690,3996782,4003422,4011100,4017022,4023018,4030545,4038648,4044973,4051628,4060069,4069292,4076838,4084332,4093858,4104247,4112519,4166913,4175873,4184227,4190322,4196505,4204940,4214611,4222632,4230885,4240176,4248861,4255275,4261756,4270363,4278879,4285582,4292748,4301358,4309833,4315825,4322138,4330946,4340941,4348993,4357421,4367110,4376568,4384219,4391952,4401242,4410910,4418894,4427006,4436797,4447056],\"yaxis\":\"y\",\"type\":\"scattergl\"},{\"hovertemplate\":\"color=Nevada\\u003cbr\\u003ex=%{x}\\u003cbr\\u003ey=%{y}\\u003cextra\\u003e\\u003c\\u002fextra\\u003e\",\"legendgroup\":\"Nevada\",\"line\":{\"color\":\"#FF97FF\",\"dash\":\"solid\"},\"marker\":{\"symbol\":\"circle\"},\"mode\":\"markers+lines\",\"name\":\"Nevada\",\"showlegend\":true,\"x\":[\"1976Q1\",\"1976Q2\",\"1976Q3\",\"1976Q4\",\"1977Q1\",\"1977Q2\",\"1977Q3\",\"1977Q4\",\"1978Q1\",\"1978Q2\",\"1978Q3\",\"1978Q4\",\"1979Q1\",\"1979Q2\",\"1979Q3\",\"1979Q4\",\"1980Q1\",\"1980Q2\",\"1980Q3\",\"1980Q4\",\"1981Q1\",\"1981Q2\",\"1981Q3\",\"1981Q4\",\"1982Q1\",\"1982Q2\",\"1982Q3\",\"1982Q4\",\"1983Q1\",\"1983Q2\",\"1983Q3\",\"1983Q4\",\"1984Q1\",\"1984Q2\",\"1984Q3\",\"1984Q4\",\"1985Q1\",\"1985Q2\",\"1985Q3\",\"1985Q4\",\"1986Q1\",\"1986Q2\",\"1986Q3\",\"1986Q4\",\"1987Q1\",\"1987Q2\",\"1987Q3\",\"1987Q4\",\"1988Q1\",\"1988Q2\",\"1988Q3\",\"1988Q4\",\"1989Q1\",\"1989Q2\",\"1989Q3\",\"1989Q4\",\"1990Q1\",\"1990Q2\",\"1990Q3\",\"1990Q4\",\"1991Q1\",\"1991Q2\",\"1991Q3\",\"1991Q4\",\"1992Q1\",\"1992Q2\",\"1992Q3\",\"1992Q4\",\"1993Q1\",\"1993Q2\",\"1993Q3\",\"1993Q4\",\"1994Q1\",\"1994Q2\",\"1994Q3\",\"1994Q4\",\"1995Q1\",\"1995Q2\",\"1995Q3\",\"1995Q4\",\"1996Q1\",\"1996Q2\",\"1996Q3\",\"1996Q4\",\"1997Q1\",\"1997Q2\",\"1997Q3\",\"1997Q4\",\"1998Q1\",\"1998Q2\",\"1998Q3\",\"1998Q4\",\"1999Q1\",\"1999Q2\",\"1999Q3\",\"1999Q4\",\"2000Q1\",\"2000Q2\",\"2000Q3\",\"2000Q4\",\"2001Q1\",\"2001Q2\",\"2001Q3\",\"2001Q4\",\"2002Q1\",\"2002Q2\",\"2002Q3\",\"2002Q4\",\"2003Q1\",\"2003Q2\",\"2003Q3\",\"2003Q4\",\"2004Q1\",\"2004Q2\",\"2004Q3\",\"2004Q4\",\"2005Q1\",\"2005Q2\",\"2005Q3\",\"2005Q4\",\"2006Q1\",\"2006Q2\",\"2006Q3\",\"2006Q4\",\"2007Q1\",\"2007Q2\",\"2007Q3\",\"2007Q4\",\"2008Q1\",\"2008Q2\",\"2008Q3\",\"2008Q4\",\"2009Q1\",\"2009Q2\",\"2009Q3\",\"2009Q4\",\"2010Q1\",\"2010Q2\",\"2010Q3\",\"2010Q4\",\"2011Q1\",\"2011Q2\",\"2011Q3\",\"2011Q4\",\"2012Q1\",\"2012Q2\",\"2012Q3\",\"2012Q4\",\"2013Q1\",\"2013Q2\",\"2013Q3\",\"2013Q4\",\"2014Q1\",\"2014Q2\",\"2014Q3\",\"2014Q4\",\"2015Q1\",\"2015Q2\",\"2015Q3\",\"2015Q4\",\"2016Q1\",\"2016Q2\",\"2016Q3\",\"2016Q4\",\"2017Q1\",\"2017Q2\",\"2017Q3\",\"2017Q4\",\"2018Q1\",\"2018Q2\",\"2018Q3\",\"2018Q4\"],\"xaxis\":\"x\",\"y\":[1361000,1380000,1399000,1421000,1442000,1465000,1488000,1515000,1544000,1572000,1600000,1629000,1659000,1688000,1717000,1748000,1778000,1807000,1828000,1849000,1870000,1891000,1911000,1929000,1949000,1968000,1983000,1992000,1998000,2007000,2018000,2033000,2048000,2063000,2082000,2106000,2133000,2157000,2178000,2184000,2193000,2199000,2213000,2236000,2258000,2281000,2304000,2331000,2358000,2385000,2413000,2444000,2474000,2506000,2537000,2568000,2780517,2797182,2821215,2874545,2925876,2975206,3022537,3056867,3089198,3122528,3157859,3193189,3227520,3260851,3302181,3352511,3401842,3451173,3501503,3549834,3597164,3643494,3691825,3740156,3785486,3832817,3882147,3936478,3987808,4038139,4088469,4133800,4177131,4220461,4263791,4306122,4346452,4385783,4429114,4470444,4512774,4540337,4586996,4631663,4674703,4717703,4761128,4802969,4843036,4882820,4924565,4967058,5006380,5044905,5090233,5143517,5193750,5244922,5295367,5341707,5386165,5430975,5478218,5534464,5583104,5628077,5673134,5716674,5758013,5798819,5836618,5866012,5893190,5920099,5944762,5961992,5977076,5991572,6006758,6020078,6030728,6223543,6236604,6251895,6264481,6276411,6295200,6323460,6349397,6374927,6401859,6428340,6451828,6474687,6502275,6534217,6564088,6593559,6626460,6662848,6695863,6728473,6764313,6802082,6837149,6872110,6910324,6951417,6989715,7027124,7066919,7107717,7145968,7183710,7224130,7265943],\"yaxis\":\"y\",\"type\":\"scattergl\"},{\"hovertemplate\":\"color=New Hampshire\\u003cbr\\u003ex=%{x}\\u003cbr\\u003ey=%{y}\\u003cextra\\u003e\\u003c\\u002fextra\\u003e\",\"legendgroup\":\"New Hampshire\",\"line\":{\"color\":\"#FECB52\",\"dash\":\"solid\"},\"marker\":{\"symbol\":\"circle\"},\"mode\":\"markers+lines\",\"name\":\"New Hampshire\",\"showlegend\":true,\"x\":[\"1976Q1\",\"1976Q2\",\"1976Q3\",\"1976Q4\",\"1977Q1\",\"1977Q2\",\"1977Q3\",\"1977Q4\",\"1978Q1\",\"1978Q2\",\"1978Q3\",\"1978Q4\",\"1979Q1\",\"1979Q2\",\"1979Q3\",\"1979Q4\",\"1980Q1\",\"1980Q2\",\"1980Q3\",\"1980Q4\",\"1981Q1\",\"1981Q2\",\"1981Q3\",\"1981Q4\",\"1982Q1\",\"1982Q2\",\"1982Q3\",\"1982Q4\",\"1983Q1\",\"1983Q2\",\"1983Q3\",\"1983Q4\",\"1984Q1\",\"1984Q2\",\"1984Q3\",\"1984Q4\",\"1985Q1\",\"1985Q2\",\"1985Q3\",\"1985Q4\",\"1986Q1\",\"1986Q2\",\"1986Q3\",\"1986Q4\",\"1987Q1\",\"1987Q2\",\"1987Q3\",\"1987Q4\",\"1988Q1\",\"1988Q2\",\"1988Q3\",\"1988Q4\",\"1989Q1\",\"1989Q2\",\"1989Q3\",\"1989Q4\",\"1990Q1\",\"1990Q2\",\"1990Q3\",\"1990Q4\",\"1991Q1\",\"1991Q2\",\"1991Q3\",\"1991Q4\",\"1992Q1\",\"1992Q2\",\"1992Q3\",\"1992Q4\",\"1993Q1\",\"1993Q2\",\"1993Q3\",\"1993Q4\",\"1994Q1\",\"1994Q2\",\"1994Q3\",\"1994Q4\",\"1995Q1\",\"1995Q2\",\"1995Q3\",\"1995Q4\",\"1996Q1\",\"1996Q2\",\"1996Q3\",\"1996Q4\",\"1997Q1\",\"1997Q2\",\"1997Q3\",\"1997Q4\",\"1998Q1\",\"1998Q2\",\"1998Q3\",\"1998Q4\",\"1999Q1\",\"1999Q2\",\"1999Q3\",\"1999Q4\",\"2000Q1\",\"2000Q2\",\"2000Q3\",\"2000Q4\",\"2001Q1\",\"2001Q2\",\"2001Q3\",\"2001Q4\",\"2002Q1\",\"2002Q2\",\"2002Q3\",\"2002Q4\",\"2003Q1\",\"2003Q2\",\"2003Q3\",\"2003Q4\",\"2004Q1\",\"2004Q2\",\"2004Q3\",\"2004Q4\",\"2005Q1\",\"2005Q2\",\"2005Q3\",\"2005Q4\",\"2006Q1\",\"2006Q2\",\"2006Q3\",\"2006Q4\",\"2007Q1\",\"2007Q2\",\"2007Q3\",\"2007Q4\",\"2008Q1\",\"2008Q2\",\"2008Q3\",\"2008Q4\",\"2009Q1\",\"2009Q2\",\"2009Q3\",\"2009Q4\",\"2010Q1\",\"2010Q2\",\"2010Q3\",\"2010Q4\",\"2011Q1\",\"2011Q2\",\"2011Q3\",\"2011Q4\",\"2012Q1\",\"2012Q2\",\"2012Q3\",\"2012Q4\",\"2013Q1\",\"2013Q2\",\"2013Q3\",\"2013Q4\",\"2014Q1\",\"2014Q2\",\"2014Q3\",\"2014Q4\",\"2015Q1\",\"2015Q2\",\"2015Q3\",\"2015Q4\",\"2016Q1\",\"2016Q2\",\"2016Q3\",\"2016Q4\",\"2017Q1\",\"2017Q2\",\"2017Q3\",\"2017Q4\",\"2018Q1\",\"2018Q2\",\"2018Q3\",\"2018Q4\"],\"xaxis\":\"x\",\"y\":[1784000,1798000,1812000,1830000,1850000,1869000,1887000,1902000,1920000,1935000,1952000,1967000,1982000,1997000,2010000,2022000,2031000,2043000,2055000,2065000,2076000,2087000,2097000,2106000,2115000,2124000,2133000,2142000,2148000,2157000,2167000,2180000,2192000,2206000,2219000,2234000,2249000,2264000,2280000,2295000,2313000,2328000,2346000,2364000,2385000,2403000,2420000,2434000,2448000,2462000,2475000,2486000,2496000,2507000,2517000,2529000,2528383,2543053,2552298,2551159,2547020,2543882,2543743,2544605,2545467,2546328,2550189,2558051,2562912,2568774,2574636,2582497,2589358,2595220,2602081,2613943,2621805,2631666,2642527,2655389,2667250,2678112,2689974,2699835,2709696,2719558,2729419,2739281,2747143,2756004,2765865,2778727,2788588,2798450,2810312,2823173,2834034,2842187,2854710,2867195,2878515,2890136,2902386,2914005,2924502,2935145,2946573,2957433,2966190,2975016,2985889,2997239,3006574,3017065,3027581,3036352,3044090,3052361,3061963,3074722,3084031,3092929,3102062,3110472,3117550,3124743,3132472,3139488,3145220,3151112,3157360,3162148,3165717,3169242,3173945,3178864,3182161,3156779,3161099,3165730,3169045,3172397,3177412,3183720,3189016,3194365,3200204,3205120,3208310,3211706,3216960,3223249,3228309,3233574,3239067,3242936,3245069,3247444,3251952,3258239,3263171,3268491,3275156,3282819,3289314,3295646,3303270,3311000,3317459,3324015,3331651,3339138],\"yaxis\":\"y\",\"type\":\"scattergl\"},{\"hovertemplate\":\"color=New Jersey\\u003cbr\\u003ex=%{x}\\u003cbr\\u003ey=%{y}\\u003cextra\\u003e\\u003c\\u002fextra\\u003e\",\"legendgroup\":\"New Jersey\",\"line\":{\"color\":\"#636efa\",\"dash\":\"solid\"},\"marker\":{\"symbol\":\"circle\"},\"mode\":\"markers+lines\",\"name\":\"New Jersey\",\"showlegend\":true,\"x\":[\"1976Q1\",\"1976Q2\",\"1976Q3\",\"1976Q4\",\"1977Q1\",\"1977Q2\",\"1977Q3\",\"1977Q4\",\"1978Q1\",\"1978Q2\",\"1978Q3\",\"1978Q4\",\"1979Q1\",\"1979Q2\",\"1979Q3\",\"1979Q4\",\"1980Q1\",\"1980Q2\",\"1980Q3\",\"1980Q4\",\"1981Q1\",\"1981Q2\",\"1981Q3\",\"1981Q4\",\"1982Q1\",\"1982Q2\",\"1982Q3\",\"1982Q4\",\"1983Q1\",\"1983Q2\",\"1983Q3\",\"1983Q4\",\"1984Q1\",\"1984Q2\",\"1984Q3\",\"1984Q4\",\"1985Q1\",\"1985Q2\",\"1985Q3\",\"1985Q4\",\"1986Q1\",\"1986Q2\",\"1986Q3\",\"1986Q4\",\"1987Q1\",\"1987Q2\",\"1987Q3\",\"1987Q4\",\"1988Q1\",\"1988Q2\",\"1988Q3\",\"1988Q4\",\"1989Q1\",\"1989Q2\",\"1989Q3\",\"1989Q4\",\"1990Q1\",\"1990Q2\",\"1990Q3\",\"1990Q4\",\"1991Q1\",\"1991Q2\",\"1991Q3\",\"1991Q4\",\"1992Q1\",\"1992Q2\",\"1992Q3\",\"1992Q4\",\"1993Q1\",\"1993Q2\",\"1993Q3\",\"1993Q4\",\"1994Q1\",\"1994Q2\",\"1994Q3\",\"1994Q4\",\"1995Q1\",\"1995Q2\",\"1995Q3\",\"1995Q4\",\"1996Q1\",\"1996Q2\",\"1996Q3\",\"1996Q4\",\"1997Q1\",\"1997Q2\",\"1997Q3\",\"1997Q4\",\"1998Q1\",\"1998Q2\",\"1998Q3\",\"1998Q4\",\"1999Q1\",\"1999Q2\",\"1999Q3\",\"1999Q4\",\"2000Q1\",\"2000Q2\",\"2000Q3\",\"2000Q4\",\"2001Q1\",\"2001Q2\",\"2001Q3\",\"2001Q4\",\"2002Q1\",\"2002Q2\",\"2002Q3\",\"2002Q4\",\"2003Q1\",\"2003Q2\",\"2003Q3\",\"2003Q4\",\"2004Q1\",\"2004Q2\",\"2004Q3\",\"2004Q4\",\"2005Q1\",\"2005Q2\",\"2005Q3\",\"2005Q4\",\"2006Q1\",\"2006Q2\",\"2006Q3\",\"2006Q4\",\"2007Q1\",\"2007Q2\",\"2007Q3\",\"2007Q4\",\"2008Q1\",\"2008Q2\",\"2008Q3\",\"2008Q4\",\"2009Q1\",\"2009Q2\",\"2009Q3\",\"2009Q4\",\"2010Q1\",\"2010Q2\",\"2010Q3\",\"2010Q4\",\"2011Q1\",\"2011Q2\",\"2011Q3\",\"2011Q4\",\"2012Q1\",\"2012Q2\",\"2012Q3\",\"2012Q4\",\"2013Q1\",\"2013Q2\",\"2013Q3\",\"2013Q4\",\"2014Q1\",\"2014Q2\",\"2014Q3\",\"2014Q4\",\"2015Q1\",\"2015Q2\",\"2015Q3\",\"2015Q4\",\"2016Q1\",\"2016Q2\",\"2016Q3\",\"2016Q4\",\"2017Q1\",\"2017Q2\",\"2017Q3\",\"2017Q4\",\"2018Q1\",\"2018Q2\",\"2018Q3\",\"2018Q4\"],\"xaxis\":\"x\",\"y\":[16088000,16129000,16168000,16208000,16247000,16288000,16330000,16377000,16425000,16472000,16518000,16560000,16605000,16647000,16685000,16710000,16734000,16769000,16819000,16868000,16918000,16967000,17013000,17049000,17082000,17118000,17160000,17211000,17263000,17315000,17364000,17406000,17449000,17492000,17526000,17544000,17559000,17577000,17613000,17682000,17752000,17822000,17880000,17919000,17955000,17994000,18026000,18049000,18071000,18094000,18107000,18104000,18101000,18098000,18096000,18095000,18045390,18124960,18178278,18197882,18208486,18216090,18232694,18254298,18263902,18276507,18298111,18329714,18351319,18369923,18396527,18424131,18440736,18457339,18482943,18517548,18543152,18568756,18603360,18646964,18678568,18716172,18760777,18811381,18847984,18881589,18924193,18968797,19001401,19036006,19075609,19116213,19145818,19177422,19214026,19250630,19277234,19291411,19337474,19379189,19412062,19445162,19484635,19525168,19556929,19587700,19625212,19661481,19683546,19703220,19733710,19761549,19775361,19794582,19818981,19842362,19857246,19873977,19895448,19941353,19956881,19961109,19975686,20004265,20023648,20041701,20067523,20100054,20123457,20146110,20177928,20217173,20247838,20276799,20313898,20355586,20386624,20617012,20661958,20704871,20738731,20771260,20810379,20850455,20884444,20916353,20953894,20992489,21019997,21046594,21080345,21113412,21139221,21163931,21193617,21222576,21241132,21258620,21284191,21312133,21331768,21352678,21380367,21413282,21438749,21461339,21490720,21520922,21543078,21564250,21592791,21623472],\"yaxis\":\"y\",\"type\":\"scattergl\"},{\"hovertemplate\":\"color=New Mexico\\u003cbr\\u003ex=%{x}\\u003cbr\\u003ey=%{y}\\u003cextra\\u003e\\u003c\\u002fextra\\u003e\",\"legendgroup\":\"New Mexico\",\"line\":{\"color\":\"#EF553B\",\"dash\":\"solid\"},\"marker\":{\"symbol\":\"circle\"},\"mode\":\"markers+lines\",\"name\":\"New Mexico\",\"showlegend\":true,\"x\":[\"1976Q1\",\"1976Q2\",\"1976Q3\",\"1976Q4\",\"1977Q1\",\"1977Q2\",\"1977Q3\",\"1977Q4\",\"1978Q1\",\"1978Q2\",\"1978Q3\",\"1978Q4\",\"1979Q1\",\"1979Q2\",\"1979Q3\",\"1979Q4\",\"1980Q1\",\"1980Q2\",\"1980Q3\",\"1980Q4\",\"1981Q1\",\"1981Q2\",\"1981Q3\",\"1981Q4\",\"1982Q1\",\"1982Q2\",\"1982Q3\",\"1982Q4\",\"1983Q1\",\"1983Q2\",\"1983Q3\",\"1983Q4\",\"1984Q1\",\"1984Q2\",\"1984Q3\",\"1984Q4\",\"1985Q1\",\"1985Q2\",\"1985Q3\",\"1985Q4\",\"1986Q1\",\"1986Q2\",\"1986Q3\",\"1986Q4\",\"1987Q1\",\"1987Q2\",\"1987Q3\",\"1987Q4\",\"1988Q1\",\"1988Q2\",\"1988Q3\",\"1988Q4\",\"1989Q1\",\"1989Q2\",\"1989Q3\",\"1989Q4\",\"1990Q1\",\"1990Q2\",\"1990Q3\",\"1990Q4\",\"1991Q1\",\"1991Q2\",\"1991Q3\",\"1991Q4\",\"1992Q1\",\"1992Q2\",\"1992Q3\",\"1992Q4\",\"1993Q1\",\"1993Q2\",\"1993Q3\",\"1993Q4\",\"1994Q1\",\"1994Q2\",\"1994Q3\",\"1994Q4\",\"1995Q1\",\"1995Q2\",\"1995Q3\",\"1995Q4\",\"1996Q1\",\"1996Q2\",\"1996Q3\",\"1996Q4\",\"1997Q1\",\"1997Q2\",\"1997Q3\",\"1997Q4\",\"1998Q1\",\"1998Q2\",\"1998Q3\",\"1998Q4\",\"1999Q1\",\"1999Q2\",\"1999Q3\",\"1999Q4\",\"2000Q1\",\"2000Q2\",\"2000Q3\",\"2000Q4\",\"2001Q1\",\"2001Q2\",\"2001Q3\",\"2001Q4\",\"2002Q1\",\"2002Q2\",\"2002Q3\",\"2002Q4\",\"2003Q1\",\"2003Q2\",\"2003Q3\",\"2003Q4\",\"2004Q1\",\"2004Q2\",\"2004Q3\",\"2004Q4\",\"2005Q1\",\"2005Q2\",\"2005Q3\",\"2005Q4\",\"2006Q1\",\"2006Q2\",\"2006Q3\",\"2006Q4\",\"2007Q1\",\"2007Q2\",\"2007Q3\",\"2007Q4\",\"2008Q1\",\"2008Q2\",\"2008Q3\",\"2008Q4\",\"2009Q1\",\"2009Q2\",\"2009Q3\",\"2009Q4\",\"2010Q1\",\"2010Q2\",\"2010Q3\",\"2010Q4\",\"2011Q1\",\"2011Q2\",\"2011Q3\",\"2011Q4\",\"2012Q1\",\"2012Q2\",\"2012Q3\",\"2012Q4\",\"2013Q1\",\"2013Q2\",\"2013Q3\",\"2013Q4\",\"2014Q1\",\"2014Q2\",\"2014Q3\",\"2014Q4\",\"2015Q1\",\"2015Q2\",\"2015Q3\",\"2015Q4\",\"2016Q1\",\"2016Q2\",\"2016Q3\",\"2016Q4\",\"2017Q1\",\"2017Q2\",\"2017Q3\",\"2017Q4\",\"2018Q1\",\"2018Q2\",\"2018Q3\",\"2018Q4\"],\"xaxis\":\"x\",\"y\":[2385000,2412000,2438000,2461000,2483000,2506000,2527000,2547000,2568000,2588000,2609000,2632000,2654000,2677000,2698000,2718000,2739000,2757000,2773000,2790000,2808000,2823000,2841000,2859000,2877000,2895000,2913000,2931000,2951000,2970000,2987000,3001000,3015000,3029000,3042000,3051000,3062000,3072000,3087000,3111000,3136000,3161000,3181000,3192000,3204000,3215000,3225000,3231000,3240000,3246000,3255000,3264000,3273000,3282000,3291000,3300000,3342963,3347334,3356094,3374004,3390914,3406824,3424734,3446644,3463554,3483465,3503375,3523284,3543195,3563105,3585015,3611925,3635836,3661745,3685655,3709566,3729476,3752386,3774296,3795206,3815116,3836026,3855937,3868847,3879756,3890667,3904577,3919487,3932397,3944308,3957217,3968127,3977038,3985948,3995858,4008768,4018678,4020681,4028033,4037148,4044636,4051857,4063189,4080001,4095146,4109748,4125866,4141888,4155334,4168201,4184094,4201162,4215566,4230586,4247564,4265733,4282073,4298567,4316701,4343693,4362431,4376094,4392002,4410003,4425929,4441265,4456644,4469359,4480285,4490711,4503294,4517302,4529240,4540671,4554503,4570629,4584576,4697725,4712521,4723584,4732260,4739889,4748725,4756475,4761842,4766627,4772612,4778243,4781679,4784098,4788309,4792042,4794133,4795576,4799454,4805223,4808386,4810846,4816073,4823467,4829028,4833671,4840056,4847222,4852202,4856311,4861933,4868543,4873267,4877348,4883284,4890218],\"yaxis\":\"y\",\"type\":\"scattergl\"},{\"hovertemplate\":\"color=New York\\u003cbr\\u003ex=%{x}\\u003cbr\\u003ey=%{y}\\u003cextra\\u003e\\u003c\\u002fextra\\u003e\",\"legendgroup\":\"New York\",\"line\":{\"color\":\"#00cc96\",\"dash\":\"solid\"},\"marker\":{\"symbol\":\"circle\"},\"mode\":\"markers+lines\",\"name\":\"New York\",\"showlegend\":true,\"x\":[\"1976Q1\",\"1976Q2\",\"1976Q3\",\"1976Q4\",\"1977Q1\",\"1977Q2\",\"1977Q3\",\"1977Q4\",\"1978Q1\",\"1978Q2\",\"1978Q3\",\"1978Q4\",\"1979Q1\",\"1979Q2\",\"1979Q3\",\"1979Q4\",\"1980Q1\",\"1980Q2\",\"1980Q3\",\"1980Q4\",\"1981Q1\",\"1981Q2\",\"1981Q3\",\"1981Q4\",\"1982Q1\",\"1982Q2\",\"1982Q3\",\"1982Q4\",\"1983Q1\",\"1983Q2\",\"1983Q3\",\"1983Q4\",\"1984Q1\",\"1984Q2\",\"1984Q3\",\"1984Q4\",\"1985Q1\",\"1985Q2\",\"1985Q3\",\"1985Q4\",\"1986Q1\",\"1986Q2\",\"1986Q3\",\"1986Q4\",\"1987Q1\",\"1987Q2\",\"1987Q3\",\"1987Q4\",\"1988Q1\",\"1988Q2\",\"1988Q3\",\"1988Q4\",\"1989Q1\",\"1989Q2\",\"1989Q3\",\"1989Q4\",\"1990Q1\",\"1990Q2\",\"1990Q3\",\"1990Q4\",\"1991Q1\",\"1991Q2\",\"1991Q3\",\"1991Q4\",\"1992Q1\",\"1992Q2\",\"1992Q3\",\"1992Q4\",\"1993Q1\",\"1993Q2\",\"1993Q3\",\"1993Q4\",\"1994Q1\",\"1994Q2\",\"1994Q3\",\"1994Q4\",\"1995Q1\",\"1995Q2\",\"1995Q3\",\"1995Q4\",\"1996Q1\",\"1996Q2\",\"1996Q3\",\"1996Q4\",\"1997Q1\",\"1997Q2\",\"1997Q3\",\"1997Q4\",\"1998Q1\",\"1998Q2\",\"1998Q3\",\"1998Q4\",\"1999Q1\",\"1999Q2\",\"1999Q3\",\"1999Q4\",\"2000Q1\",\"2000Q2\",\"2000Q3\",\"2000Q4\",\"2001Q1\",\"2001Q2\",\"2001Q3\",\"2001Q4\",\"2002Q1\",\"2002Q2\",\"2002Q3\",\"2002Q4\",\"2003Q1\",\"2003Q2\",\"2003Q3\",\"2003Q4\",\"2004Q1\",\"2004Q2\",\"2004Q3\",\"2004Q4\",\"2005Q1\",\"2005Q2\",\"2005Q3\",\"2005Q4\",\"2006Q1\",\"2006Q2\",\"2006Q3\",\"2006Q4\",\"2007Q1\",\"2007Q2\",\"2007Q3\",\"2007Q4\",\"2008Q1\",\"2008Q2\",\"2008Q3\",\"2008Q4\",\"2009Q1\",\"2009Q2\",\"2009Q3\",\"2009Q4\",\"2010Q1\",\"2010Q2\",\"2010Q3\",\"2010Q4\",\"2011Q1\",\"2011Q2\",\"2011Q3\",\"2011Q4\",\"2012Q1\",\"2012Q2\",\"2012Q3\",\"2012Q4\",\"2013Q1\",\"2013Q2\",\"2013Q3\",\"2013Q4\",\"2014Q1\",\"2014Q2\",\"2014Q3\",\"2014Q4\",\"2015Q1\",\"2015Q2\",\"2015Q3\",\"2015Q4\",\"2016Q1\",\"2016Q2\",\"2016Q3\",\"2016Q4\",\"2017Q1\",\"2017Q2\",\"2017Q3\",\"2017Q4\",\"2018Q1\",\"2018Q2\",\"2018Q3\",\"2018Q4\"],\"xaxis\":\"x\",\"y\":[39605000,39656000,39694000,39706000,39718000,39730000,39739000,39742000,39745000,39748000,39758000,39782000,39806000,39830000,39850000,39861000,39873000,39900000,39960000,40022000,40083000,40144000,40203000,40257000,40308000,40362000,40419000,40482000,40547000,40611000,40674000,40737000,40802000,40866000,40921000,40959000,40998000,41036000,41068000,41090000,41111000,41134000,41161000,41201000,41241000,41281000,41317000,41347000,41377000,41407000,41426000,41422000,41419000,41414000,41413000,41416000,42102423,42228889,42301941,42312670,42300396,42285125,42293854,42319580,42317309,42322037,42350764,42403493,42431221,42454948,42488677,42517404,42515132,42517861,42533588,42556316,42558045,42562771,42586500,42631229,42646955,42676684,42724412,42787139,42814868,42837596,42896323,42985052,43045779,43111507,43186236,43265963,43322691,43381420,43451146,43522875,43569604,43587380,43662329,43748667,43816603,43884607,43963615,44041787,44101671,44158900,44236958,44326232,44384596,44437336,44517778,44602338,44656442,44722229,44796797,44865643,44917286,44972918,45039935,45168780,45227218,45258978,45313845,45402847,45472387,45538670,45611369,45680635,45730339,45778265,45842403,45917219,45973497,46025389,46091369,46161717,46208311,46044818,46140928,46255424,46349528,46440371,46539955,46630564,46707592,46779694,46866821,46961302,47031742,47099978,47179902,47249211,47302774,47353916,47416232,47476541,47513546,47547812,47595523,47638458,47663170,47690751,47728294,47766490,47787749,47803225,47834152,47866956,47882310,47895577,47924336,47957198],\"yaxis\":\"y\",\"type\":\"scattergl\"},{\"hovertemplate\":\"color=North Carolina\\u003cbr\\u003ex=%{x}\\u003cbr\\u003ey=%{y}\\u003cextra\\u003e\\u003c\\u002fextra\\u003e\",\"legendgroup\":\"North Carolina\",\"line\":{\"color\":\"#ab63fa\",\"dash\":\"solid\"},\"marker\":{\"symbol\":\"circle\"},\"mode\":\"markers+lines\",\"name\":\"North Carolina\",\"showlegend\":true,\"x\":[\"1976Q1\",\"1976Q2\",\"1976Q3\",\"1976Q4\",\"1977Q1\",\"1977Q2\",\"1977Q3\",\"1977Q4\",\"1978Q1\",\"1978Q2\",\"1978Q3\",\"1978Q4\",\"1979Q1\",\"1979Q2\",\"1979Q3\",\"1979Q4\",\"1980Q1\",\"1980Q2\",\"1980Q3\",\"1980Q4\",\"1981Q1\",\"1981Q2\",\"1981Q3\",\"1981Q4\",\"1982Q1\",\"1982Q2\",\"1982Q3\",\"1982Q4\",\"1983Q1\",\"1983Q2\",\"1983Q3\",\"1983Q4\",\"1984Q1\",\"1984Q2\",\"1984Q3\",\"1984Q4\",\"1985Q1\",\"1985Q2\",\"1985Q3\",\"1985Q4\",\"1986Q1\",\"1986Q2\",\"1986Q3\",\"1986Q4\",\"1987Q1\",\"1987Q2\",\"1987Q3\",\"1987Q4\",\"1988Q1\",\"1988Q2\",\"1988Q3\",\"1988Q4\",\"1989Q1\",\"1989Q2\",\"1989Q3\",\"1989Q4\",\"1990Q1\",\"1990Q2\",\"1990Q3\",\"1990Q4\",\"1991Q1\",\"1991Q2\",\"1991Q3\",\"1991Q4\",\"1992Q1\",\"1992Q2\",\"1992Q3\",\"1992Q4\",\"1993Q1\",\"1993Q2\",\"1993Q3\",\"1993Q4\",\"1994Q1\",\"1994Q2\",\"1994Q3\",\"1994Q4\",\"1995Q1\",\"1995Q2\",\"1995Q3\",\"1995Q4\",\"1996Q1\",\"1996Q2\",\"1996Q3\",\"1996Q4\",\"1997Q1\",\"1997Q2\",\"1997Q3\",\"1997Q4\",\"1998Q1\",\"1998Q2\",\"1998Q3\",\"1998Q4\",\"1999Q1\",\"1999Q2\",\"1999Q3\",\"1999Q4\",\"2000Q1\",\"2000Q2\",\"2000Q3\",\"2000Q4\",\"2001Q1\",\"2001Q2\",\"2001Q3\",\"2001Q4\",\"2002Q1\",\"2002Q2\",\"2002Q3\",\"2002Q4\",\"2003Q1\",\"2003Q2\",\"2003Q3\",\"2003Q4\",\"2004Q1\",\"2004Q2\",\"2004Q3\",\"2004Q4\",\"2005Q1\",\"2005Q2\",\"2005Q3\",\"2005Q4\",\"2006Q1\",\"2006Q2\",\"2006Q3\",\"2006Q4\",\"2007Q1\",\"2007Q2\",\"2007Q3\",\"2007Q4\",\"2008Q1\",\"2008Q2\",\"2008Q3\",\"2008Q4\",\"2009Q1\",\"2009Q2\",\"2009Q3\",\"2009Q4\",\"2010Q1\",\"2010Q2\",\"2010Q3\",\"2010Q4\",\"2011Q1\",\"2011Q2\",\"2011Q3\",\"2011Q4\",\"2012Q1\",\"2012Q2\",\"2012Q3\",\"2012Q4\",\"2013Q1\",\"2013Q2\",\"2013Q3\",\"2013Q4\",\"2014Q1\",\"2014Q2\",\"2014Q3\",\"2014Q4\",\"2015Q1\",\"2015Q2\",\"2015Q3\",\"2015Q4\",\"2016Q1\",\"2016Q2\",\"2016Q3\",\"2016Q4\",\"2017Q1\",\"2017Q2\",\"2017Q3\",\"2017Q4\",\"2018Q1\",\"2018Q2\",\"2018Q3\",\"2018Q4\"],\"xaxis\":\"x\",\"y\":[11715000,11778000,11843000,11912000,11981000,12050000,12117000,12180000,12245000,12309000,12372000,12432000,12493000,12554000,12621000,12702000,12783000,12855000,12911000,12966000,13020000,13077000,13131000,13182000,13236000,13287000,13335000,13371000,13404000,13440000,13485000,13548000,13613000,13677000,13746000,13824000,13903000,13982000,14047000,14086000,14125000,14164000,14210000,14270000,14330000,14390000,14448000,14499000,14551000,14603000,14652000,14697000,14744000,14790000,14836000,14883000,15171423,15253358,15324691,15405074,15476457,15546841,15615226,15673609,15720992,15772376,15838761,15929144,16009527,16087911,16172296,16258679,16334062,16411446,16494831,16588214,16672597,16758981,16849366,16943749,17026132,17114516,17205901,17296284,17372667,17447051,17531436,17622819,17702202,17782586,17864971,17944354,18014737,18084121,18157506,18223889,18279272,18291773,18366898,18440569,18506777,18573588,18643442,18708996,18767083,18824764,18889041,18953047,19003739,19052228,19116328,19188212,19247083,19311699,19388660,19479541,19563625,19650643,19751005,19886722,19997867,20102369,20216712,20345396,20465775,20585598,20702174,20804305,20897820,20991201,21085149,21168982,21244672,21318644,21393398,21457225,21509918,21924070,22016105,22093228,22158493,22220616,22292176,22364323,22425179,22486967,22556065,22629218,22695591,22758593,22832651,22903200,22968862,23035369,23112757,23198584,23273224,23346512,23430949,23518853,23601588,23679672,23769879,23868774,23956272,24042934,24133209,24222884,24303512,24383617,24472312,24563559],\"yaxis\":\"y\",\"type\":\"scattergl\"},{\"hovertemplate\":\"color=North Dakota\\u003cbr\\u003ex=%{x}\\u003cbr\\u003ey=%{y}\\u003cextra\\u003e\\u003c\\u002fextra\\u003e\",\"legendgroup\":\"North Dakota\",\"line\":{\"color\":\"#FFA15A\",\"dash\":\"solid\"},\"marker\":{\"symbol\":\"circle\"},\"mode\":\"markers+lines\",\"name\":\"North Dakota\",\"showlegend\":true,\"x\":[\"1976Q1\",\"1976Q2\",\"1976Q3\",\"1976Q4\",\"1977Q1\",\"1977Q2\",\"1977Q3\",\"1977Q4\",\"1978Q1\",\"1978Q2\",\"1978Q3\",\"1978Q4\",\"1979Q1\",\"1979Q2\",\"1979Q3\",\"1979Q4\",\"1980Q1\",\"1980Q2\",\"1980Q3\",\"1980Q4\",\"1981Q1\",\"1981Q2\",\"1981Q3\",\"1981Q4\",\"1982Q1\",\"1982Q2\",\"1982Q3\",\"1982Q4\",\"1983Q1\",\"1983Q2\",\"1983Q3\",\"1983Q4\",\"1984Q1\",\"1984Q2\",\"1984Q3\",\"1984Q4\",\"1985Q1\",\"1985Q2\",\"1985Q3\",\"1985Q4\",\"1986Q1\",\"1986Q2\",\"1986Q3\",\"1986Q4\",\"1987Q1\",\"1987Q2\",\"1987Q3\",\"1987Q4\",\"1988Q1\",\"1988Q2\",\"1988Q3\",\"1988Q4\",\"1989Q1\",\"1989Q2\",\"1989Q3\",\"1989Q4\",\"1990Q1\",\"1990Q2\",\"1990Q3\",\"1990Q4\",\"1991Q1\",\"1991Q2\",\"1991Q3\",\"1991Q4\",\"1992Q1\",\"1992Q2\",\"1992Q3\",\"1992Q4\",\"1993Q1\",\"1993Q2\",\"1993Q3\",\"1993Q4\",\"1994Q1\",\"1994Q2\",\"1994Q3\",\"1994Q4\",\"1995Q1\",\"1995Q2\",\"1995Q3\",\"1995Q4\",\"1996Q1\",\"1996Q2\",\"1996Q3\",\"1996Q4\",\"1997Q1\",\"1997Q2\",\"1997Q3\",\"1997Q4\",\"1998Q1\",\"1998Q2\",\"1998Q3\",\"1998Q4\",\"1999Q1\",\"1999Q2\",\"1999Q3\",\"1999Q4\",\"2000Q1\",\"2000Q2\",\"2000Q3\",\"2000Q4\",\"2001Q1\",\"2001Q2\",\"2001Q3\",\"2001Q4\",\"2002Q1\",\"2002Q2\",\"2002Q3\",\"2002Q4\",\"2003Q1\",\"2003Q2\",\"2003Q3\",\"2003Q4\",\"2004Q1\",\"2004Q2\",\"2004Q3\",\"2004Q4\",\"2005Q1\",\"2005Q2\",\"2005Q3\",\"2005Q4\",\"2006Q1\",\"2006Q2\",\"2006Q3\",\"2006Q4\",\"2007Q1\",\"2007Q2\",\"2007Q3\",\"2007Q4\",\"2008Q1\",\"2008Q2\",\"2008Q3\",\"2008Q4\",\"2009Q1\",\"2009Q2\",\"2009Q3\",\"2009Q4\",\"2010Q1\",\"2010Q2\",\"2010Q3\",\"2010Q4\",\"2011Q1\",\"2011Q2\",\"2011Q3\",\"2011Q4\",\"2012Q1\",\"2012Q2\",\"2012Q3\",\"2012Q4\",\"2013Q1\",\"2013Q2\",\"2013Q3\",\"2013Q4\",\"2014Q1\",\"2014Q2\",\"2014Q3\",\"2014Q4\",\"2015Q1\",\"2015Q2\",\"2015Q3\",\"2015Q4\",\"2016Q1\",\"2016Q2\",\"2016Q3\",\"2016Q4\",\"2017Q1\",\"2017Q2\",\"2017Q3\",\"2017Q4\",\"2018Q1\",\"2018Q2\",\"2018Q3\",\"2018Q4\"],\"xaxis\":\"x\",\"y\":[1329000,1335000,1343000,1348000,1353000,1358000,1363000,1367000,1370000,1375000,1378000,1382000,1385000,1390000,1392000,1395000,1395000,1399000,1403000,1408000,1412000,1417000,1421000,1426000,1430000,1435000,1440000,1446000,1453000,1460000,1464000,1466000,1467000,1469000,1469000,1466000,1463000,1460000,1458000,1458000,1460000,1461000,1460000,1457000,1454000,1451000,1449000,1449000,1447000,1446000,1445000,1441000,1438000,1433000,1431000,1427000,1379309,1389792,1396728,1395376,1393024,1390672,1390320,1393968,1394616,1397263,1399909,1402557,1406205,1407853,1411501,1415149,1417797,1421445,1424093,1427741,1430389,1433037,1437685,1441333,1444981,1448629,1452277,1454925,1455573,1456220,1457866,1459514,1458162,1458810,1459458,1460106,1457754,1457402,1456050,1456698,1457346,1454728,1454120,1454120,1453512,1453037,1453267,1453786,1453624,1453493,1454163,1455130,1455018,1454900,1456843,1460826,1463758,1467279,1470486,1471832,1472615,1473635,1475412,1478241,1479522,1480769,1482419,1484086,1485071,1486205,1488170,1490798,1492776,1494945,1498085,1501992,1505305,1508626,1512890,1517777,1521919,1570702,1575765,1582433,1588111,1593769,1601002,1609868,1618001,1626179,1636058,1648216,1659482,1670765,1681926,1690722,1698777,1707138,1716073,1724660,1731973,1739636,1745262,1745067,1744266,1743303,1742972,1742496,1741177,1739993,1739303,1738810,1737693,1736665,1736333,1736108],\"yaxis\":\"y\",\"type\":\"scattergl\"},{\"hovertemplate\":\"color=Ohio\\u003cbr\\u003ex=%{x}\\u003cbr\\u003ey=%{y}\\u003cextra\\u003e\\u003c\\u002fextra\\u003e\",\"legendgroup\":\"Ohio\",\"line\":{\"color\":\"#19d3f3\",\"dash\":\"solid\"},\"marker\":{\"symbol\":\"circle\"},\"mode\":\"markers+lines\",\"name\":\"Ohio\",\"showlegend\":true,\"x\":[\"1976Q1\",\"1976Q2\",\"1976Q3\",\"1976Q4\",\"1977Q1\",\"1977Q2\",\"1977Q3\",\"1977Q4\",\"1978Q1\",\"1978Q2\",\"1978Q3\",\"1978Q4\",\"1979Q1\",\"1979Q2\",\"1979Q3\",\"1979Q4\",\"1980Q1\",\"1980Q2\",\"1980Q3\",\"1980Q4\",\"1981Q1\",\"1981Q2\",\"1981Q3\",\"1981Q4\",\"1982Q1\",\"1982Q2\",\"1982Q3\",\"1982Q4\",\"1983Q1\",\"1983Q2\",\"1983Q3\",\"1983Q4\",\"1984Q1\",\"1984Q2\",\"1984Q3\",\"1984Q4\",\"1985Q1\",\"1985Q2\",\"1985Q3\",\"1985Q4\",\"1986Q1\",\"1986Q2\",\"1986Q3\",\"1986Q4\",\"1987Q1\",\"1987Q2\",\"1987Q3\",\"1987Q4\",\"1988Q1\",\"1988Q2\",\"1988Q3\",\"1988Q4\",\"1989Q1\",\"1989Q2\",\"1989Q3\",\"1989Q4\",\"1990Q1\",\"1990Q2\",\"1990Q3\",\"1990Q4\",\"1991Q1\",\"1991Q2\",\"1991Q3\",\"1991Q4\",\"1992Q1\",\"1992Q2\",\"1992Q3\",\"1992Q4\",\"1993Q1\",\"1993Q2\",\"1993Q3\",\"1993Q4\",\"1994Q1\",\"1994Q2\",\"1994Q3\",\"1994Q4\",\"1995Q1\",\"1995Q2\",\"1995Q3\",\"1995Q4\",\"1996Q1\",\"1996Q2\",\"1996Q3\",\"1996Q4\",\"1997Q1\",\"1997Q2\",\"1997Q3\",\"1997Q4\",\"1998Q1\",\"1998Q2\",\"1998Q3\",\"1998Q4\",\"1999Q1\",\"1999Q2\",\"1999Q3\",\"1999Q4\",\"2000Q1\",\"2000Q2\",\"2000Q3\",\"2000Q4\",\"2001Q1\",\"2001Q2\",\"2001Q3\",\"2001Q4\",\"2002Q1\",\"2002Q2\",\"2002Q3\",\"2002Q4\",\"2003Q1\",\"2003Q2\",\"2003Q3\",\"2003Q4\",\"2004Q1\",\"2004Q2\",\"2004Q3\",\"2004Q4\",\"2005Q1\",\"2005Q2\",\"2005Q3\",\"2005Q4\",\"2006Q1\",\"2006Q2\",\"2006Q3\",\"2006Q4\",\"2007Q1\",\"2007Q2\",\"2007Q3\",\"2007Q4\",\"2008Q1\",\"2008Q2\",\"2008Q3\",\"2008Q4\",\"2009Q1\",\"2009Q2\",\"2009Q3\",\"2009Q4\",\"2010Q1\",\"2010Q2\",\"2010Q3\",\"2010Q4\",\"2011Q1\",\"2011Q2\",\"2011Q3\",\"2011Q4\",\"2012Q1\",\"2012Q2\",\"2012Q3\",\"2012Q4\",\"2013Q1\",\"2013Q2\",\"2013Q3\",\"2013Q4\",\"2014Q1\",\"2014Q2\",\"2014Q3\",\"2014Q4\",\"2015Q1\",\"2015Q2\",\"2015Q3\",\"2015Q4\",\"2016Q1\",\"2016Q2\",\"2016Q3\",\"2016Q4\",\"2017Q1\",\"2017Q2\",\"2017Q3\",\"2017Q4\",\"2018Q1\",\"2018Q2\",\"2018Q3\",\"2018Q4\"],\"xaxis\":\"x\",\"y\":[23118000,23163000,23214000,23277000,23342000,23406000,23469000,23529000,23590000,23651000,23705000,23746000,23787000,23828000,23867000,23900000,23933000,23966000,23998000,24031000,24063000,24095000,24120000,24126000,24135000,24141000,24142000,24127000,24112000,24097000,24089000,24095000,24101000,24107000,24121000,24152000,24182000,24214000,24239000,24254000,24269000,24284000,24311000,24361000,24412000,24461000,24513000,24569000,24624000,24680000,24723000,24741000,24756000,24774000,24792000,24812000,24543078,24665223,24760305,24806670,24839034,24870398,24910763,24950127,24973491,25002856,25043220,25095585,25132949,25168314,25208678,25244042,25260407,25279771,25312136,25356500,25387864,25420229,25459593,25499957,25521322,25552686,25586051,25615415,25621780,25626144,25648508,25678873,25692237,25709602,25729966,25755330,25766695,25778059,25797423,25818788,25824153,25845244,25884473,25923452,25951384,25981320,26018728,26054956,26079784,26104825,26142959,26186592,26210913,26233686,26270236,26301857,26314689,26336608,26366143,26395096,26413554,26436527,26467560,26519868,26541512,26558340,26585888,26626070,26654095,26682322,26714636,26742757,26758621,26775192,26799563,26823653,26836206,26847676,26869206,26893745,26903084,26883618,26913346,26941175,26956058,26971579,26994945,27016114,27029579,27042645,27066936,27099662,27116873,27135562,27166343,27199213,27222020,27245627,27275840,27302818,27315151,27328264,27353511,27382252,27399025,27419586,27451229,27491078,27521010,27549291,27585877,27618632,27640485,27662501,27694495,27727558],\"yaxis\":\"y\",\"type\":\"scattergl\"},{\"hovertemplate\":\"color=Oklahoma\\u003cbr\\u003ex=%{x}\\u003cbr\\u003ey=%{y}\\u003cextra\\u003e\\u003c\\u002fextra\\u003e\",\"legendgroup\":\"Oklahoma\",\"line\":{\"color\":\"#FF6692\",\"dash\":\"solid\"},\"marker\":{\"symbol\":\"circle\"},\"mode\":\"markers+lines\",\"name\":\"Oklahoma\",\"showlegend\":true,\"x\":[\"1976Q1\",\"1976Q2\",\"1976Q3\",\"1976Q4\",\"1977Q1\",\"1977Q2\",\"1977Q3\",\"1977Q4\",\"1978Q1\",\"1978Q2\",\"1978Q3\",\"1978Q4\",\"1979Q1\",\"1979Q2\",\"1979Q3\",\"1979Q4\",\"1980Q1\",\"1980Q2\",\"1980Q3\",\"1980Q4\",\"1981Q1\",\"1981Q2\",\"1981Q3\",\"1981Q4\",\"1982Q1\",\"1982Q2\",\"1982Q3\",\"1982Q4\",\"1983Q1\",\"1983Q2\",\"1983Q3\",\"1983Q4\",\"1984Q1\",\"1984Q2\",\"1984Q3\",\"1984Q4\",\"1985Q1\",\"1985Q2\",\"1985Q3\",\"1985Q4\",\"1986Q1\",\"1986Q2\",\"1986Q3\",\"1986Q4\",\"1987Q1\",\"1987Q2\",\"1987Q3\",\"1987Q4\",\"1988Q1\",\"1988Q2\",\"1988Q3\",\"1988Q4\",\"1989Q1\",\"1989Q2\",\"1989Q3\",\"1989Q4\",\"1990Q1\",\"1990Q2\",\"1990Q3\",\"1990Q4\",\"1991Q1\",\"1991Q2\",\"1991Q3\",\"1991Q4\",\"1992Q1\",\"1992Q2\",\"1992Q3\",\"1992Q4\",\"1993Q1\",\"1993Q2\",\"1993Q3\",\"1993Q4\",\"1994Q1\",\"1994Q2\",\"1994Q3\",\"1994Q4\",\"1995Q1\",\"1995Q2\",\"1995Q3\",\"1995Q4\",\"1996Q1\",\"1996Q2\",\"1996Q3\",\"1996Q4\",\"1997Q1\",\"1997Q2\",\"1997Q3\",\"1997Q4\",\"1998Q1\",\"1998Q2\",\"1998Q3\",\"1998Q4\",\"1999Q1\",\"1999Q2\",\"1999Q3\",\"1999Q4\",\"2000Q1\",\"2000Q2\",\"2000Q3\",\"2000Q4\",\"2001Q1\",\"2001Q2\",\"2001Q3\",\"2001Q4\",\"2002Q1\",\"2002Q2\",\"2002Q3\",\"2002Q4\",\"2003Q1\",\"2003Q2\",\"2003Q3\",\"2003Q4\",\"2004Q1\",\"2004Q2\",\"2004Q3\",\"2004Q4\",\"2005Q1\",\"2005Q2\",\"2005Q3\",\"2005Q4\",\"2006Q1\",\"2006Q2\",\"2006Q3\",\"2006Q4\",\"2007Q1\",\"2007Q2\",\"2007Q3\",\"2007Q4\",\"2008Q1\",\"2008Q2\",\"2008Q3\",\"2008Q4\",\"2009Q1\",\"2009Q2\",\"2009Q3\",\"2009Q4\",\"2010Q1\",\"2010Q2\",\"2010Q3\",\"2010Q4\",\"2011Q1\",\"2011Q2\",\"2011Q3\",\"2011Q4\",\"2012Q1\",\"2012Q2\",\"2012Q3\",\"2012Q4\",\"2013Q1\",\"2013Q2\",\"2013Q3\",\"2013Q4\",\"2014Q1\",\"2014Q2\",\"2014Q3\",\"2014Q4\",\"2015Q1\",\"2015Q2\",\"2015Q3\",\"2015Q4\",\"2016Q1\",\"2016Q2\",\"2016Q3\",\"2016Q4\",\"2017Q1\",\"2017Q2\",\"2017Q3\",\"2017Q4\",\"2018Q1\",\"2018Q2\",\"2018Q3\",\"2018Q4\"],\"xaxis\":\"x\",\"y\":[6009000,6045000,6080000,6113000,6146000,6179000,6213000,6249000,6282000,6318000,6354000,6392000,6429000,6467000,6507000,6552000,6597000,6639000,6675000,6712000,6750000,6786000,6831000,6894000,6959000,7023000,7083000,7137000,7191000,7245000,7281000,7279000,7278000,7276000,7269000,7251000,7231000,7212000,7206000,7226000,7245000,7265000,7272000,7251000,7231000,7211000,7193000,7181000,7169000,7157000,7150000,7152000,7155000,7157000,7160000,7164000,7032587,7034077,7039531,7055230,7067929,7080628,7098328,7120026,7137726,7156425,7179123,7198823,7214522,7230221,7248921,7266619,7279318,7294018,7309716,7325416,7337115,7350814,7368514,7393212,7412911,7433611,7457309,7481009,7498708,7517407,7537106,7559805,7576504,7594204,7614902,7638602,7656301,7674999,7695699,7712398,7725097,7732096,7745706,7756779,7764467,7772639,7784991,7800942,7813321,7825610,7840702,7855132,7863704,7871698,7883781,7894382,7899247,7906619,7918250,7933269,7945171,7958169,7982936,8011279,8036557,8059561,8083091,8104298,8121752,8139156,8159281,8180660,8198422,8216257,8238652,8265035,8287925,8310376,8334470,8356181,8373352,8516775,8539182,8557295,8571456,8585285,8603400,8625241,8643674,8662723,8684048,8706454,8725344,8743983,8764807,8783558,8800077,8817017,8836883,8858187,8875626,8893109,8911221,8925926,8937933,8950505,8963241,8973163,8980119,8986889,8996025,9006317,9013184,9020069,9030293,9041308],\"yaxis\":\"y\",\"type\":\"scattergl\"},{\"hovertemplate\":\"color=Oregon\\u003cbr\\u003ex=%{x}\\u003cbr\\u003ey=%{y}\\u003cextra\\u003e\\u003c\\u002fextra\\u003e\",\"legendgroup\":\"Oregon\",\"line\":{\"color\":\"#B6E880\",\"dash\":\"solid\"},\"marker\":{\"symbol\":\"circle\"},\"mode\":\"markers+lines\",\"name\":\"Oregon\",\"showlegend\":true,\"x\":[\"1976Q1\",\"1976Q2\",\"1976Q3\",\"1976Q4\",\"1977Q1\",\"1977Q2\",\"1977Q3\",\"1977Q4\",\"1978Q1\",\"1978Q2\",\"1978Q3\",\"1978Q4\",\"1979Q1\",\"1979Q2\",\"1979Q3\",\"1979Q4\",\"1980Q1\",\"1980Q2\",\"1980Q3\",\"1980Q4\",\"1981Q1\",\"1981Q2\",\"1981Q3\",\"1981Q4\",\"1982Q1\",\"1982Q2\",\"1982Q3\",\"1982Q4\",\"1983Q1\",\"1983Q2\",\"1983Q3\",\"1983Q4\",\"1984Q1\",\"1984Q2\",\"1984Q3\",\"1984Q4\",\"1985Q1\",\"1985Q2\",\"1985Q3\",\"1985Q4\",\"1986Q1\",\"1986Q2\",\"1986Q3\",\"1986Q4\",\"1987Q1\",\"1987Q2\",\"1987Q3\",\"1987Q4\",\"1988Q1\",\"1988Q2\",\"1988Q3\",\"1988Q4\",\"1989Q1\",\"1989Q2\",\"1989Q3\",\"1989Q4\",\"1990Q1\",\"1990Q2\",\"1990Q3\",\"1990Q4\",\"1991Q1\",\"1991Q2\",\"1991Q3\",\"1991Q4\",\"1992Q1\",\"1992Q2\",\"1992Q3\",\"1992Q4\",\"1993Q1\",\"1993Q2\",\"1993Q3\",\"1993Q4\",\"1994Q1\",\"1994Q2\",\"1994Q3\",\"1994Q4\",\"1995Q1\",\"1995Q2\",\"1995Q3\",\"1995Q4\",\"1996Q1\",\"1996Q2\",\"1996Q3\",\"1996Q4\",\"1997Q1\",\"1997Q2\",\"1997Q3\",\"1997Q4\",\"1998Q1\",\"1998Q2\",\"1998Q3\",\"1998Q4\",\"1999Q1\",\"1999Q2\",\"1999Q3\",\"1999Q4\",\"2000Q1\",\"2000Q2\",\"2000Q3\",\"2000Q4\",\"2001Q1\",\"2001Q2\",\"2001Q3\",\"2001Q4\",\"2002Q1\",\"2002Q2\",\"2002Q3\",\"2002Q4\",\"2003Q1\",\"2003Q2\",\"2003Q3\",\"2003Q4\",\"2004Q1\",\"2004Q2\",\"2004Q3\",\"2004Q4\",\"2005Q1\",\"2005Q2\",\"2005Q3\",\"2005Q4\",\"2006Q1\",\"2006Q2\",\"2006Q3\",\"2006Q4\",\"2007Q1\",\"2007Q2\",\"2007Q3\",\"2007Q4\",\"2008Q1\",\"2008Q2\",\"2008Q3\",\"2008Q4\",\"2009Q1\",\"2009Q2\",\"2009Q3\",\"2009Q4\",\"2010Q1\",\"2010Q2\",\"2010Q3\",\"2010Q4\",\"2011Q1\",\"2011Q2\",\"2011Q3\",\"2011Q4\",\"2012Q1\",\"2012Q2\",\"2012Q3\",\"2012Q4\",\"2013Q1\",\"2013Q2\",\"2013Q3\",\"2013Q4\",\"2014Q1\",\"2014Q2\",\"2014Q3\",\"2014Q4\",\"2015Q1\",\"2015Q2\",\"2015Q3\",\"2015Q4\",\"2016Q1\",\"2016Q2\",\"2016Q3\",\"2016Q4\",\"2017Q1\",\"2017Q2\",\"2017Q3\",\"2017Q4\",\"2018Q1\",\"2018Q2\",\"2018Q3\",\"2018Q4\"],\"xaxis\":\"x\",\"y\":[5160000,5196000,5236000,5283000,5331000,5378000,5424000,5471000,5517000,5564000,5610000,5655000,5702000,5748000,5793000,5838000,5880000,5916000,5936000,5955000,5973000,5994000,6006000,6006000,6008000,6009000,6010000,6012000,6015000,6017000,6023000,6038000,6053000,6068000,6078000,6075000,6073000,6071000,6078000,6105000,6129000,6156000,6180000,6201000,6219000,6240000,6262000,6292000,6322000,6352000,6381000,6408000,6437000,6465000,6493000,6522000,6552705,6561975,6582491,6628926,6671360,6712795,6754229,6789664,6822098,6855533,6893967,6942402,6985836,7029271,7070705,7110140,7142574,7176009,7212443,7251878,7287312,7322747,7362181,7404616,7443050,7482485,7522919,7558354,7588788,7617223,7648657,7679092,7704526,7730961,7758395,7783830,7806264,7829699,7853133,7875567,7895001,7910574,7937167,7967766,7994760,8022298,8053640,8087140,8116990,8146792,8178514,8207273,8229989,8252290,8277388,8297854,8312248,8329282,8353659,8387017,8416784,8447659,8484205,8533507,8572674,8609208,8648270,8688166,8723961,8759692,8797006,8832439,8863713,8895177,8928160,8958137,8984033,9009670,9037841,9064477,9086315,9080698,9105336,9131207,9152706,9174280,9199038,9224011,9245916,9267745,9292016,9315966,9334432,9353163,9378485,9409252,9436108,9463210,9497341,9539470,9576336,9613408,9657345,9707649,9753399,9800549,9847735,9889577,9927682,9965212,10006498,10047723,10084962,10122307,10163620,10205828],\"yaxis\":\"y\",\"type\":\"scattergl\"},{\"hovertemplate\":\"color=Pennsylvania\\u003cbr\\u003ex=%{x}\\u003cbr\\u003ey=%{y}\\u003cextra\\u003e\\u003c\\u002fextra\\u003e\",\"legendgroup\":\"Pennsylvania\",\"line\":{\"color\":\"#FF97FF\",\"dash\":\"solid\"},\"marker\":{\"symbol\":\"circle\"},\"mode\":\"markers+lines\",\"name\":\"Pennsylvania\",\"showlegend\":true,\"x\":[\"1976Q1\",\"1976Q2\",\"1976Q3\",\"1976Q4\",\"1977Q1\",\"1977Q2\",\"1977Q3\",\"1977Q4\",\"1978Q1\",\"1978Q2\",\"1978Q3\",\"1978Q4\",\"1979Q1\",\"1979Q2\",\"1979Q3\",\"1979Q4\",\"1980Q1\",\"1980Q2\",\"1980Q3\",\"1980Q4\",\"1981Q1\",\"1981Q2\",\"1981Q3\",\"1981Q4\",\"1982Q1\",\"1982Q2\",\"1982Q3\",\"1982Q4\",\"1983Q1\",\"1983Q2\",\"1983Q3\",\"1983Q4\",\"1984Q1\",\"1984Q2\",\"1984Q3\",\"1984Q4\",\"1985Q1\",\"1985Q2\",\"1985Q3\",\"1985Q4\",\"1986Q1\",\"1986Q2\",\"1986Q3\",\"1986Q4\",\"1987Q1\",\"1987Q2\",\"1987Q3\",\"1987Q4\",\"1988Q1\",\"1988Q2\",\"1988Q3\",\"1988Q4\",\"1989Q1\",\"1989Q2\",\"1989Q3\",\"1989Q4\",\"1990Q1\",\"1990Q2\",\"1990Q3\",\"1990Q4\",\"1991Q1\",\"1991Q2\",\"1991Q3\",\"1991Q4\",\"1992Q1\",\"1992Q2\",\"1992Q3\",\"1992Q4\",\"1993Q1\",\"1993Q2\",\"1993Q3\",\"1993Q4\",\"1994Q1\",\"1994Q2\",\"1994Q3\",\"1994Q4\",\"1995Q1\",\"1995Q2\",\"1995Q3\",\"1995Q4\",\"1996Q1\",\"1996Q2\",\"1996Q3\",\"1996Q4\",\"1997Q1\",\"1997Q2\",\"1997Q3\",\"1997Q4\",\"1998Q1\",\"1998Q2\",\"1998Q3\",\"1998Q4\",\"1999Q1\",\"1999Q2\",\"1999Q3\",\"1999Q4\",\"2000Q1\",\"2000Q2\",\"2000Q3\",\"2000Q4\",\"2001Q1\",\"2001Q2\",\"2001Q3\",\"2001Q4\",\"2002Q1\",\"2002Q2\",\"2002Q3\",\"2002Q4\",\"2003Q1\",\"2003Q2\",\"2003Q3\",\"2003Q4\",\"2004Q1\",\"2004Q2\",\"2004Q3\",\"2004Q4\",\"2005Q1\",\"2005Q2\",\"2005Q3\",\"2005Q4\",\"2006Q1\",\"2006Q2\",\"2006Q3\",\"2006Q4\",\"2007Q1\",\"2007Q2\",\"2007Q3\",\"2007Q4\",\"2008Q1\",\"2008Q2\",\"2008Q3\",\"2008Q4\",\"2009Q1\",\"2009Q2\",\"2009Q3\",\"2009Q4\",\"2010Q1\",\"2010Q2\",\"2010Q3\",\"2010Q4\",\"2011Q1\",\"2011Q2\",\"2011Q3\",\"2011Q4\",\"2012Q1\",\"2012Q2\",\"2012Q3\",\"2012Q4\",\"2013Q1\",\"2013Q2\",\"2013Q3\",\"2013Q4\",\"2014Q1\",\"2014Q2\",\"2014Q3\",\"2014Q4\",\"2015Q1\",\"2015Q2\",\"2015Q3\",\"2015Q4\",\"2016Q1\",\"2016Q2\",\"2016Q3\",\"2016Q4\",\"2017Q1\",\"2017Q2\",\"2017Q3\",\"2017Q4\",\"2018Q1\",\"2018Q2\",\"2018Q3\",\"2018Q4\"],\"xaxis\":\"x\",\"y\":[26340000,26394000,26448000,26504000,26559000,26615000,26666000,26708000,26750000,26792000,26837000,26888000,26939000,26990000,27033000,27060000,27087000,27123000,27168000,27214000,27261000,27306000,27345000,27372000,27399000,27426000,27452000,27475000,27498000,27521000,27542000,27556000,27570000,27584000,27594000,27594000,27596000,27597000,27609000,27642000,27676000,27710000,27747000,27789000,27832000,27875000,27915000,27948000,27982000,28016000,28044000,28059000,28075000,28091000,28108000,28127000,27509544,27596710,27661640,27703130,27730620,27757110,27787600,27813090,27819580,27833071,27857563,27900053,27925543,27949033,27979523,28012013,28023503,28039993,28062483,28088973,28102463,28117953,28142443,28176933,28191423,28215913,28242403,28260893,28256383,28247874,28260366,28286856,28293346,28303836,28324326,28353816,28368306,28382796,28409286,28437776,28449266,28434336,28460717,28491186,28507695,28526056,28558149,28598208,28624341,28650122,28692116,28741706,28769425,28795525,28838881,28878846,28897156,28925494,28965292,29008243,29038048,29071881,29118821,29198574,29240756,29275591,29321395,29377439,29418918,29460297,29510634,29563445,29601501,29640030,29687043,29732194,29763553,29793439,29835097,29880404,29908216,30182030,30224290,30269386,30299212,30329093,30367335,30401684,30426594,30450291,30480929,30507910,30516416,30526060,30549909,30575501,30589146,30602973,30624969,30644210,30646391,30648713,30663987,30680649,30683188,30689241,30708320,30736829,30753937,30768399,30794155,30818891,30830854,30842413,30865925,30891685],\"yaxis\":\"y\",\"type\":\"scattergl\"},{\"hovertemplate\":\"color=Rhode Island\\u003cbr\\u003ex=%{x}\\u003cbr\\u003ey=%{y}\\u003cextra\\u003e\\u003c\\u002fextra\\u003e\",\"legendgroup\":\"Rhode Island\",\"line\":{\"color\":\"#FECB52\",\"dash\":\"solid\"},\"marker\":{\"symbol\":\"circle\"},\"mode\":\"markers+lines\",\"name\":\"Rhode Island\",\"showlegend\":true,\"x\":[\"1976Q1\",\"1976Q2\",\"1976Q3\",\"1976Q4\",\"1977Q1\",\"1977Q2\",\"1977Q3\",\"1977Q4\",\"1978Q1\",\"1978Q2\",\"1978Q3\",\"1978Q4\",\"1979Q1\",\"1979Q2\",\"1979Q3\",\"1979Q4\",\"1980Q1\",\"1980Q2\",\"1980Q3\",\"1980Q4\",\"1981Q1\",\"1981Q2\",\"1981Q3\",\"1981Q4\",\"1982Q1\",\"1982Q2\",\"1982Q3\",\"1982Q4\",\"1983Q1\",\"1983Q2\",\"1983Q3\",\"1983Q4\",\"1984Q1\",\"1984Q2\",\"1984Q3\",\"1984Q4\",\"1985Q1\",\"1985Q2\",\"1985Q3\",\"1985Q4\",\"1986Q1\",\"1986Q2\",\"1986Q3\",\"1986Q4\",\"1987Q1\",\"1987Q2\",\"1987Q3\",\"1987Q4\",\"1988Q1\",\"1988Q2\",\"1988Q3\",\"1988Q4\",\"1989Q1\",\"1989Q2\",\"1989Q3\",\"1989Q4\",\"1990Q1\",\"1990Q2\",\"1990Q3\",\"1990Q4\",\"1991Q1\",\"1991Q2\",\"1991Q3\",\"1991Q4\",\"1992Q1\",\"1992Q2\",\"1992Q3\",\"1992Q4\",\"1993Q1\",\"1993Q2\",\"1993Q3\",\"1993Q4\",\"1994Q1\",\"1994Q2\",\"1994Q3\",\"1994Q4\",\"1995Q1\",\"1995Q2\",\"1995Q3\",\"1995Q4\",\"1996Q1\",\"1996Q2\",\"1996Q3\",\"1996Q4\",\"1997Q1\",\"1997Q2\",\"1997Q3\",\"1997Q4\",\"1998Q1\",\"1998Q2\",\"1998Q3\",\"1998Q4\",\"1999Q1\",\"1999Q2\",\"1999Q3\",\"1999Q4\",\"2000Q1\",\"2000Q2\",\"2000Q3\",\"2000Q4\",\"2001Q1\",\"2001Q2\",\"2001Q3\",\"2001Q4\",\"2002Q1\",\"2002Q2\",\"2002Q3\",\"2002Q4\",\"2003Q1\",\"2003Q2\",\"2003Q3\",\"2003Q4\",\"2004Q1\",\"2004Q2\",\"2004Q3\",\"2004Q4\",\"2005Q1\",\"2005Q2\",\"2005Q3\",\"2005Q4\",\"2006Q1\",\"2006Q2\",\"2006Q3\",\"2006Q4\",\"2007Q1\",\"2007Q2\",\"2007Q3\",\"2007Q4\",\"2008Q1\",\"2008Q2\",\"2008Q3\",\"2008Q4\",\"2009Q1\",\"2009Q2\",\"2009Q3\",\"2009Q4\",\"2010Q1\",\"2010Q2\",\"2010Q3\",\"2010Q4\",\"2011Q1\",\"2011Q2\",\"2011Q3\",\"2011Q4\",\"2012Q1\",\"2012Q2\",\"2012Q3\",\"2012Q4\",\"2013Q1\",\"2013Q2\",\"2013Q3\",\"2013Q4\",\"2014Q1\",\"2014Q2\",\"2014Q3\",\"2014Q4\",\"2015Q1\",\"2015Q2\",\"2015Q3\",\"2015Q4\",\"2016Q1\",\"2016Q2\",\"2016Q3\",\"2016Q4\",\"2017Q1\",\"2017Q2\",\"2017Q3\",\"2017Q4\",\"2018Q1\",\"2018Q2\",\"2018Q3\",\"2018Q4\"],\"xaxis\":\"x\",\"y\":[2076000,2082000,2091000,2100000,2106000,2115000,2123000,2129000,2135000,2141000,2146000,2150000,2153000,2158000,2160000,2157000,2155000,2156000,2161000,2167000,2172000,2177000,2182000,2186000,2189000,2194000,2197000,2199000,2202000,2204000,2207000,2212000,2217000,2222000,2228000,2233000,2237000,2242000,2246000,2251000,2255000,2260000,2265000,2271000,2278000,2285000,2290000,2294000,2297000,2302000,2304000,2306000,2307000,2309000,2310000,2310000,2311014,2326371,2335718,2337113,2338507,2338901,2339295,2339690,2338085,2338479,2337873,2339267,2339662,2339056,2340450,2342845,2343239,2344634,2346028,2347422,2348816,2350211,2352605,2356999,2361394,2365788,2370183,2374577,2376971,2380365,2383760,2389154,2393549,2398943,2405337,2409732,2412126,2415520,2420914,2428309,2434704,2432605,2439051,2445167,2450048,2455182,2461433,2468555,2474466,2480439,2487090,2493141,2497318,2501508,2506310,2509163,2510299,2512309,2513995,2513327,2511621,2510321,2510178,2513596,2513360,2512228,2512056,2512746,2512290,2511890,2512415,2513537,2513518,2513585,2515293,2518817,2521144,2523434,2526564,2529674,2531457,2522472,2525992,2527619,2527980,2528298,2530076,2533235,2535621,2537909,2540502,2542664,2543538,2544390,2546824,2550124,2552603,2555086,2558214,2561039,2562722,2564322,2566914,2569821,2571846,2573770,2576615,2580089,2582588,2584936,2587954,2590943,2592979,2595011,2597882,2600738],\"yaxis\":\"y\",\"type\":\"scattergl\"},{\"hovertemplate\":\"color=South Carolina\\u003cbr\\u003ex=%{x}\\u003cbr\\u003ey=%{y}\\u003cextra\\u003e\\u003c\\u002fextra\\u003e\",\"legendgroup\":\"South Carolina\",\"line\":{\"color\":\"#636efa\",\"dash\":\"solid\"},\"marker\":{\"symbol\":\"circle\"},\"mode\":\"markers+lines\",\"name\":\"South Carolina\",\"showlegend\":true,\"x\":[\"1976Q1\",\"1976Q2\",\"1976Q3\",\"1976Q4\",\"1977Q1\",\"1977Q2\",\"1977Q3\",\"1977Q4\",\"1978Q1\",\"1978Q2\",\"1978Q3\",\"1978Q4\",\"1979Q1\",\"1979Q2\",\"1979Q3\",\"1979Q4\",\"1980Q1\",\"1980Q2\",\"1980Q3\",\"1980Q4\",\"1981Q1\",\"1981Q2\",\"1981Q3\",\"1981Q4\",\"1982Q1\",\"1982Q2\",\"1982Q3\",\"1982Q4\",\"1983Q1\",\"1983Q2\",\"1983Q3\",\"1983Q4\",\"1984Q1\",\"1984Q2\",\"1984Q3\",\"1984Q4\",\"1985Q1\",\"1985Q2\",\"1985Q3\",\"1985Q4\",\"1986Q1\",\"1986Q2\",\"1986Q3\",\"1986Q4\",\"1987Q1\",\"1987Q2\",\"1987Q3\",\"1987Q4\",\"1988Q1\",\"1988Q2\",\"1988Q3\",\"1988Q4\",\"1989Q1\",\"1989Q2\",\"1989Q3\",\"1989Q4\",\"1990Q1\",\"1990Q2\",\"1990Q3\",\"1990Q4\",\"1991Q1\",\"1991Q2\",\"1991Q3\",\"1991Q4\",\"1992Q1\",\"1992Q2\",\"1992Q3\",\"1992Q4\",\"1993Q1\",\"1993Q2\",\"1993Q3\",\"1993Q4\",\"1994Q1\",\"1994Q2\",\"1994Q3\",\"1994Q4\",\"1995Q1\",\"1995Q2\",\"1995Q3\",\"1995Q4\",\"1996Q1\",\"1996Q2\",\"1996Q3\",\"1996Q4\",\"1997Q1\",\"1997Q2\",\"1997Q3\",\"1997Q4\",\"1998Q1\",\"1998Q2\",\"1998Q3\",\"1998Q4\",\"1999Q1\",\"1999Q2\",\"1999Q3\",\"1999Q4\",\"2000Q1\",\"2000Q2\",\"2000Q3\",\"2000Q4\",\"2001Q1\",\"2001Q2\",\"2001Q3\",\"2001Q4\",\"2002Q1\",\"2002Q2\",\"2002Q3\",\"2002Q4\",\"2003Q1\",\"2003Q2\",\"2003Q3\",\"2003Q4\",\"2004Q1\",\"2004Q2\",\"2004Q3\",\"2004Q4\",\"2005Q1\",\"2005Q2\",\"2005Q3\",\"2005Q4\",\"2006Q1\",\"2006Q2\",\"2006Q3\",\"2006Q4\",\"2007Q1\",\"2007Q2\",\"2007Q3\",\"2007Q4\",\"2008Q1\",\"2008Q2\",\"2008Q3\",\"2008Q4\",\"2009Q1\",\"2009Q2\",\"2009Q3\",\"2009Q4\",\"2010Q1\",\"2010Q2\",\"2010Q3\",\"2010Q4\",\"2011Q1\",\"2011Q2\",\"2011Q3\",\"2011Q4\",\"2012Q1\",\"2012Q2\",\"2012Q3\",\"2012Q4\",\"2013Q1\",\"2013Q2\",\"2013Q3\",\"2013Q4\",\"2014Q1\",\"2014Q2\",\"2014Q3\",\"2014Q4\",\"2015Q1\",\"2015Q2\",\"2015Q3\",\"2015Q4\",\"2016Q1\",\"2016Q2\",\"2016Q3\",\"2016Q4\",\"2017Q1\",\"2017Q2\",\"2017Q3\",\"2017Q4\",\"2018Q1\",\"2018Q2\",\"2018Q3\",\"2018Q4\"],\"xaxis\":\"x\",\"y\":[5964000,6002000,6041000,6082000,6122000,6163000,6204000,6246000,6291000,6333000,6375000,6413000,6450000,6488000,6527000,6568000,6610000,6648000,6681000,6716000,6750000,6784000,6817000,6848000,6878000,6910000,6938000,6962000,6986000,7010000,7035000,7062000,7089000,7116000,7148000,7189000,7229000,7270000,7302000,7317000,7335000,7350000,7373000,7406000,7439000,7472000,7503000,7530000,7559000,7587000,7613000,7637000,7661000,7685000,7710000,7736000,7763611,7814758,7861472,7902274,7940075,7975875,8011677,8037479,8059281,8083083,8109885,8144687,8175489,8203291,8233092,8261892,8285694,8309496,8336298,8369100,8398902,8426704,8456506,8485308,8508109,8532909,8565711,8606513,8640315,8673117,8709919,8750721,8784523,8819325,8855126,8890926,8920728,8952530,8985332,9016134,9043936,9063613,9095508,9125347,9151663,9178183,9206538,9233902,9257650,9280919,9308333,9337968,9360902,9382523,9413081,9450472,9481403,9515008,9552885,9594445,9632592,9672188,9718908,9784894,9838621,9888974,9941425,9996219,10046785,10096822,10149014,10201953,10250515,10298731,10345645,10384794,10419914,10453789,10489308,10522363,10549663,10712349,10742407,10771044,10795606,10819238,10847585,10883306,10915611,10948408,10982528,11020658,11056636,11091501,11129947,11169681,11208868,11248468,11292063,11341856,11388440,11435061,11482717,11533601,11584199,11633420,11681992,11730340,11776163,11821763,11867273,11915391,11958781,12001545,12049030,12098715],\"yaxis\":\"y\",\"type\":\"scattergl\"},{\"hovertemplate\":\"color=South Dakota\\u003cbr\\u003ex=%{x}\\u003cbr\\u003ey=%{y}\\u003cextra\\u003e\\u003c\\u002fextra\\u003e\",\"legendgroup\":\"South Dakota\",\"line\":{\"color\":\"#EF553B\",\"dash\":\"solid\"},\"marker\":{\"symbol\":\"circle\"},\"mode\":\"markers+lines\",\"name\":\"South Dakota\",\"showlegend\":true,\"x\":[\"1976Q1\",\"1976Q2\",\"1976Q3\",\"1976Q4\",\"1977Q1\",\"1977Q2\",\"1977Q3\",\"1977Q4\",\"1978Q1\",\"1978Q2\",\"1978Q3\",\"1978Q4\",\"1979Q1\",\"1979Q2\",\"1979Q3\",\"1979Q4\",\"1980Q1\",\"1980Q2\",\"1980Q3\",\"1980Q4\",\"1981Q1\",\"1981Q2\",\"1981Q3\",\"1981Q4\",\"1982Q1\",\"1982Q2\",\"1982Q3\",\"1982Q4\",\"1983Q1\",\"1983Q2\",\"1983Q3\",\"1983Q4\",\"1984Q1\",\"1984Q2\",\"1984Q3\",\"1984Q4\",\"1985Q1\",\"1985Q2\",\"1985Q3\",\"1985Q4\",\"1986Q1\",\"1986Q2\",\"1986Q3\",\"1986Q4\",\"1987Q1\",\"1987Q2\",\"1987Q3\",\"1987Q4\",\"1988Q1\",\"1988Q2\",\"1988Q3\",\"1988Q4\",\"1989Q1\",\"1989Q2\",\"1989Q3\",\"1989Q4\",\"1990Q1\",\"1990Q2\",\"1990Q3\",\"1990Q4\",\"1991Q1\",\"1991Q2\",\"1991Q3\",\"1991Q4\",\"1992Q1\",\"1992Q2\",\"1992Q3\",\"1992Q4\",\"1993Q1\",\"1993Q2\",\"1993Q3\",\"1993Q4\",\"1994Q1\",\"1994Q2\",\"1994Q3\",\"1994Q4\",\"1995Q1\",\"1995Q2\",\"1995Q3\",\"1995Q4\",\"1996Q1\",\"1996Q2\",\"1996Q3\",\"1996Q4\",\"1997Q1\",\"1997Q2\",\"1997Q3\",\"1997Q4\",\"1998Q1\",\"1998Q2\",\"1998Q3\",\"1998Q4\",\"1999Q1\",\"1999Q2\",\"1999Q3\",\"1999Q4\",\"2000Q1\",\"2000Q2\",\"2000Q3\",\"2000Q4\",\"2001Q1\",\"2001Q2\",\"2001Q3\",\"2001Q4\",\"2002Q1\",\"2002Q2\",\"2002Q3\",\"2002Q4\",\"2003Q1\",\"2003Q2\",\"2003Q3\",\"2003Q4\",\"2004Q1\",\"2004Q2\",\"2004Q3\",\"2004Q4\",\"2005Q1\",\"2005Q2\",\"2005Q3\",\"2005Q4\",\"2006Q1\",\"2006Q2\",\"2006Q3\",\"2006Q4\",\"2007Q1\",\"2007Q2\",\"2007Q3\",\"2007Q4\",\"2008Q1\",\"2008Q2\",\"2008Q3\",\"2008Q4\",\"2009Q1\",\"2009Q2\",\"2009Q3\",\"2009Q4\",\"2010Q1\",\"2010Q2\",\"2010Q3\",\"2010Q4\",\"2011Q1\",\"2011Q2\",\"2011Q3\",\"2011Q4\",\"2012Q1\",\"2012Q2\",\"2012Q3\",\"2012Q4\",\"2013Q1\",\"2013Q2\",\"2013Q3\",\"2013Q4\",\"2014Q1\",\"2014Q2\",\"2014Q3\",\"2014Q4\",\"2015Q1\",\"2015Q2\",\"2015Q3\",\"2015Q4\",\"2016Q1\",\"2016Q2\",\"2016Q3\",\"2016Q4\",\"2017Q1\",\"2017Q2\",\"2017Q3\",\"2017Q4\",\"2018Q1\",\"2018Q2\",\"2018Q3\",\"2018Q4\"],\"xaxis\":\"x\",\"y\":[1433000,1439000,1445000,1450000,1454000,1459000,1462000,1464000,1467000,1469000,1471000,1473000,1476000,1478000,1479000,1482000,1484000,1485000,1487000,1488000,1488000,1491000,1491000,1491000,1493000,1494000,1496000,1501000,1505000,1510000,1513000,1516000,1519000,1522000,1524000,1521000,1519000,1517000,1517000,1522000,1527000,1532000,1537000,1539000,1542000,1544000,1546000,1549000,1552000,1555000,1557000,1557000,1557000,1557000,1557000,1557000,1499147,1500977,1503132,1507931,1510731,1513530,1518330,1522129,1525929,1529728,1534528,1542327,1548127,1554926,1562726,1570525,1577325,1584124,1590924,1597723,1603523,1609322,1616122,1622921,1628721,1633520,1639320,1642119,1642919,1645718,1647518,1651317,1652117,1652916,1655716,1660515,1663315,1666114,1670914,1676713,1680512,1682489,1685808,1689955,1693381,1696969,1701058,1704901,1707943,1711064,1715160,1719494,1722610,1725705,1730491,1736238,1740734,1745849,1751401,1756328,1760554,1765083,1770661,1777825,1783246,1788493,1794413,1800683,1806092,1811580,1817458,1822745,1827202,1831760,1836870,1841697,1845579,1849545,1854847,1861347,1866848,1850039,1854860,1859544,1863264,1867040,1872022,1878208,1883604,1889156,1895299,1901571,1906922,1912230,1917722,1921755,1925175,1928638,1932557,1935940,1938288,1940716,1944398,1949063,1952959,1956860,1961645,1966782,1971138,1975513,1980608,1985876,1990337,1994927,2000341,2006003],\"yaxis\":\"y\",\"type\":\"scattergl\"},{\"hovertemplate\":\"color=Tennessee\\u003cbr\\u003ex=%{x}\\u003cbr\\u003ey=%{y}\\u003cextra\\u003e\\u003c\\u002fextra\\u003e\",\"legendgroup\":\"Tennessee\",\"line\":{\"color\":\"#00cc96\",\"dash\":\"solid\"},\"marker\":{\"symbol\":\"circle\"},\"mode\":\"markers+lines\",\"name\":\"Tennessee\",\"showlegend\":true,\"x\":[\"1976Q1\",\"1976Q2\",\"1976Q3\",\"1976Q4\",\"1977Q1\",\"1977Q2\",\"1977Q3\",\"1977Q4\",\"1978Q1\",\"1978Q2\",\"1978Q3\",\"1978Q4\",\"1979Q1\",\"1979Q2\",\"1979Q3\",\"1979Q4\",\"1980Q1\",\"1980Q2\",\"1980Q3\",\"1980Q4\",\"1981Q1\",\"1981Q2\",\"1981Q3\",\"1981Q4\",\"1982Q1\",\"1982Q2\",\"1982Q3\",\"1982Q4\",\"1983Q1\",\"1983Q2\",\"1983Q3\",\"1983Q4\",\"1984Q1\",\"1984Q2\",\"1984Q3\",\"1984Q4\",\"1985Q1\",\"1985Q2\",\"1985Q3\",\"1985Q4\",\"1986Q1\",\"1986Q2\",\"1986Q3\",\"1986Q4\",\"1987Q1\",\"1987Q2\",\"1987Q3\",\"1987Q4\",\"1988Q1\",\"1988Q2\",\"1988Q3\",\"1988Q4\",\"1989Q1\",\"1989Q2\",\"1989Q3\",\"1989Q4\",\"1990Q1\",\"1990Q2\",\"1990Q3\",\"1990Q4\",\"1991Q1\",\"1991Q2\",\"1991Q3\",\"1991Q4\",\"1992Q1\",\"1992Q2\",\"1992Q3\",\"1992Q4\",\"1993Q1\",\"1993Q2\",\"1993Q3\",\"1993Q4\",\"1994Q1\",\"1994Q2\",\"1994Q3\",\"1994Q4\",\"1995Q1\",\"1995Q2\",\"1995Q3\",\"1995Q4\",\"1996Q1\",\"1996Q2\",\"1996Q3\",\"1996Q4\",\"1997Q1\",\"1997Q2\",\"1997Q3\",\"1997Q4\",\"1998Q1\",\"1998Q2\",\"1998Q3\",\"1998Q4\",\"1999Q1\",\"1999Q2\",\"1999Q3\",\"1999Q4\",\"2000Q1\",\"2000Q2\",\"2000Q3\",\"2000Q4\",\"2001Q1\",\"2001Q2\",\"2001Q3\",\"2001Q4\",\"2002Q1\",\"2002Q2\",\"2002Q3\",\"2002Q4\",\"2003Q1\",\"2003Q2\",\"2003Q3\",\"2003Q4\",\"2004Q1\",\"2004Q2\",\"2004Q3\",\"2004Q4\",\"2005Q1\",\"2005Q2\",\"2005Q3\",\"2005Q4\",\"2006Q1\",\"2006Q2\",\"2006Q3\",\"2006Q4\",\"2007Q1\",\"2007Q2\",\"2007Q3\",\"2007Q4\",\"2008Q1\",\"2008Q2\",\"2008Q3\",\"2008Q4\",\"2009Q1\",\"2009Q2\",\"2009Q3\",\"2009Q4\",\"2010Q1\",\"2010Q2\",\"2010Q3\",\"2010Q4\",\"2011Q1\",\"2011Q2\",\"2011Q3\",\"2011Q4\",\"2012Q1\",\"2012Q2\",\"2012Q3\",\"2012Q4\",\"2013Q1\",\"2013Q2\",\"2013Q3\",\"2013Q4\",\"2014Q1\",\"2014Q2\",\"2014Q3\",\"2014Q4\",\"2015Q1\",\"2015Q2\",\"2015Q3\",\"2015Q4\",\"2016Q1\",\"2016Q2\",\"2016Q3\",\"2016Q4\",\"2017Q1\",\"2017Q2\",\"2017Q3\",\"2017Q4\",\"2018Q1\",\"2018Q2\",\"2018Q3\",\"2018Q4\"],\"xaxis\":\"x\",\"y\":[9253000,9310000,9367000,9425000,9482000,9541000,9594000,9641000,9687000,9734000,9785000,9844000,9903000,9962000,10021000,10079000,10136000,10186000,10217000,10249000,10280000,10312000,10341000,10368000,10392000,10419000,10443000,10463000,10482000,10502000,10524000,10551000,10578000,10605000,10638000,10683000,10730000,10776000,10812000,10830000,10848000,10866000,10893000,10938000,10981000,11025000,11064000,11093000,11121000,11150000,11177000,11200000,11223000,11246000,11269000,11293000,11217288,11274545,11324283,11368638,11406993,11445348,11487705,11530061,11565416,11602771,11646126,11695484,11739839,11782194,11830549,11885906,11933262,11980617,12033972,12091328,12143685,12196040,12253395,12313750,12365108,12420463,12478818,12537173,12585530,12632886,12682241,12726596,12762951,12798309,12836664,12874019,12904374,12933731,12968087,13004442,13030797,13052722,13091347,13125920,13155208,13185354,13219563,13254320,13283727,13313085,13349874,13391761,13423952,13455025,13494297,13533787,13563800,13598261,13641703,13695209,13743783,13794641,13853109,13929869,13991205,14049603,14107497,14160403,14207274,14254084,14304288,14355239,14399974,14444980,14489620,14525406,14555465,14584738,14620551,14660533,14692686,14764512,14806100,14840379,14867756,14894843,14929227,14968154,15002132,15036113,15073129,15108712,15136661,15164862,15200140,15237095,15268834,15301127,15339515,15381100,15415030,15449066,15491028,15537523,15578245,15619917,15667383,15718200,15763056,15807121,15856046,15904737,15947439,15990203,16038844,16088819],\"yaxis\":\"y\",\"type\":\"scattergl\"},{\"hovertemplate\":\"color=Texas\\u003cbr\\u003ex=%{x}\\u003cbr\\u003ey=%{y}\\u003cextra\\u003e\\u003c\\u002fextra\\u003e\",\"legendgroup\":\"Texas\",\"line\":{\"color\":\"#ab63fa\",\"dash\":\"solid\"},\"marker\":{\"symbol\":\"circle\"},\"mode\":\"markers+lines\",\"name\":\"Texas\",\"showlegend\":true,\"x\":[\"1976Q1\",\"1976Q2\",\"1976Q3\",\"1976Q4\",\"1977Q1\",\"1977Q2\",\"1977Q3\",\"1977Q4\",\"1978Q1\",\"1978Q2\",\"1978Q3\",\"1978Q4\",\"1979Q1\",\"1979Q2\",\"1979Q3\",\"1979Q4\",\"1980Q1\",\"1980Q2\",\"1980Q3\",\"1980Q4\",\"1981Q1\",\"1981Q2\",\"1981Q3\",\"1981Q4\",\"1982Q1\",\"1982Q2\",\"1982Q3\",\"1982Q4\",\"1983Q1\",\"1983Q2\",\"1983Q3\",\"1983Q4\",\"1984Q1\",\"1984Q2\",\"1984Q3\",\"1984Q4\",\"1985Q1\",\"1985Q2\",\"1985Q3\",\"1985Q4\",\"1986Q1\",\"1986Q2\",\"1986Q3\",\"1986Q4\",\"1987Q1\",\"1987Q2\",\"1987Q3\",\"1987Q4\",\"1988Q1\",\"1988Q2\",\"1988Q3\",\"1988Q4\",\"1989Q1\",\"1989Q2\",\"1989Q3\",\"1989Q4\",\"1990Q1\",\"1990Q2\",\"1990Q3\",\"1990Q4\",\"1991Q1\",\"1991Q2\",\"1991Q3\",\"1991Q4\",\"1992Q1\",\"1992Q2\",\"1992Q3\",\"1992Q4\",\"1993Q1\",\"1993Q2\",\"1993Q3\",\"1993Q4\",\"1994Q1\",\"1994Q2\",\"1994Q3\",\"1994Q4\",\"1995Q1\",\"1995Q2\",\"1995Q3\",\"1995Q4\",\"1996Q1\",\"1996Q2\",\"1996Q3\",\"1996Q4\",\"1997Q1\",\"1997Q2\",\"1997Q3\",\"1997Q4\",\"1998Q1\",\"1998Q2\",\"1998Q3\",\"1998Q4\",\"1999Q1\",\"1999Q2\",\"1999Q3\",\"1999Q4\",\"2000Q1\",\"2000Q2\",\"2000Q3\",\"2000Q4\",\"2001Q1\",\"2001Q2\",\"2001Q3\",\"2001Q4\",\"2002Q1\",\"2002Q2\",\"2002Q3\",\"2002Q4\",\"2003Q1\",\"2003Q2\",\"2003Q3\",\"2003Q4\",\"2004Q1\",\"2004Q2\",\"2004Q3\",\"2004Q4\",\"2005Q1\",\"2005Q2\",\"2005Q3\",\"2005Q4\",\"2006Q1\",\"2006Q2\",\"2006Q3\",\"2006Q4\",\"2007Q1\",\"2007Q2\",\"2007Q3\",\"2007Q4\",\"2008Q1\",\"2008Q2\",\"2008Q3\",\"2008Q4\",\"2009Q1\",\"2009Q2\",\"2009Q3\",\"2009Q4\",\"2010Q1\",\"2010Q2\",\"2010Q3\",\"2010Q4\",\"2011Q1\",\"2011Q2\",\"2011Q3\",\"2011Q4\",\"2012Q1\",\"2012Q2\",\"2012Q3\",\"2012Q4\",\"2013Q1\",\"2013Q2\",\"2013Q3\",\"2013Q4\",\"2014Q1\",\"2014Q2\",\"2014Q3\",\"2014Q4\",\"2015Q1\",\"2015Q2\",\"2015Q3\",\"2015Q4\",\"2016Q1\",\"2016Q2\",\"2016Q3\",\"2016Q4\",\"2017Q1\",\"2017Q2\",\"2017Q3\",\"2017Q4\",\"2018Q1\",\"2018Q2\",\"2018Q3\",\"2018Q4\"],\"xaxis\":\"x\",\"y\":[26532000,26766000,26992000,27202000,27412000,27622000,27834000,28050000,28266000,28482000,28711000,28966000,29221000,29476000,29738000,30014000,30290000,30554000,30793000,31033000,31272000,31511000,31779000,32103000,32429000,32754000,33050000,33289000,33528000,33767000,33984000,34155000,34328000,34500000,34671000,34842000,35010000,35181000,35344000,35492000,35639000,35788000,35901000,35946000,35989000,36033000,36075000,36108000,36144000,36177000,36240000,36357000,36471000,36588000,36706000,36827000,37694928,37735615,37819432,38002845,38167257,38329669,38505081,38684493,38838906,39001318,39184730,39399142,39587554,39772966,39976379,40190791,40377203,40567615,40770027,40974439,41157852,41344264,41540676,41743088,41915500,42100913,42310325,42542737,42741149,42935561,43154973,43387386,43590798,43799210,44020622,44249034,44454446,44660859,44881271,45107683,45306095,45471371,45697073,45932143,46151139,46369323,46597002,46820819,47027102,47229437,47447340,47665478,47853580,48035256,48246733,48465731,48655252,48853873,49069794,49293623,49500378,49711394,50017098,50247195,50446113,50853734,51239221,51519089,51778587,52032639,52300654,52574064,52827974,53079622,53349004,53627604,53886164,54138988,54403758,54663440,54899360,55703964,55960812,56245067,56506033,56760044,57034342,57317714,57581455,57840030,58113522,58395778,58656125,58908582,59193433,59500381,59793025,60082777,60397396,60733257,61043610,61349333,61666668,61972859,62262422,62550382,62843598,63125130,63386162,63640510,63911064,64190191,64447868,64702654,64979973,65268743],\"yaxis\":\"y\",\"type\":\"scattergl\"},{\"hovertemplate\":\"color=Utah\\u003cbr\\u003ex=%{x}\\u003cbr\\u003ey=%{y}\\u003cextra\\u003e\\u003c\\u002fextra\\u003e\",\"legendgroup\":\"Utah\",\"line\":{\"color\":\"#FFA15A\",\"dash\":\"solid\"},\"marker\":{\"symbol\":\"circle\"},\"mode\":\"markers+lines\",\"name\":\"Utah\",\"showlegend\":true,\"x\":[\"1976Q1\",\"1976Q2\",\"1976Q3\",\"1976Q4\",\"1977Q1\",\"1977Q2\",\"1977Q3\",\"1977Q4\",\"1978Q1\",\"1978Q2\",\"1978Q3\",\"1978Q4\",\"1979Q1\",\"1979Q2\",\"1979Q3\",\"1979Q4\",\"1980Q1\",\"1980Q2\",\"1980Q3\",\"1980Q4\",\"1981Q1\",\"1981Q2\",\"1981Q3\",\"1981Q4\",\"1982Q1\",\"1982Q2\",\"1982Q3\",\"1982Q4\",\"1983Q1\",\"1983Q2\",\"1983Q3\",\"1983Q4\",\"1984Q1\",\"1984Q2\",\"1984Q3\",\"1984Q4\",\"1985Q1\",\"1985Q2\",\"1985Q3\",\"1985Q4\",\"1986Q1\",\"1986Q2\",\"1986Q3\",\"1986Q4\",\"1987Q1\",\"1987Q2\",\"1987Q3\",\"1987Q4\",\"1988Q1\",\"1988Q2\",\"1988Q3\",\"1988Q4\",\"1989Q1\",\"1989Q2\",\"1989Q3\",\"1989Q4\",\"1990Q1\",\"1990Q2\",\"1990Q3\",\"1990Q4\",\"1991Q1\",\"1991Q2\",\"1991Q3\",\"1991Q4\",\"1992Q1\",\"1992Q2\",\"1992Q3\",\"1992Q4\",\"1993Q1\",\"1993Q2\",\"1993Q3\",\"1993Q4\",\"1994Q1\",\"1994Q2\",\"1994Q3\",\"1994Q4\",\"1995Q1\",\"1995Q2\",\"1995Q3\",\"1995Q4\",\"1996Q1\",\"1996Q2\",\"1996Q3\",\"1996Q4\",\"1997Q1\",\"1997Q2\",\"1997Q3\",\"1997Q4\",\"1998Q1\",\"1998Q2\",\"1998Q3\",\"1998Q4\",\"1999Q1\",\"1999Q2\",\"1999Q3\",\"1999Q4\",\"2000Q1\",\"2000Q2\",\"2000Q3\",\"2000Q4\",\"2001Q1\",\"2001Q2\",\"2001Q3\",\"2001Q4\",\"2002Q1\",\"2002Q2\",\"2002Q3\",\"2002Q4\",\"2003Q1\",\"2003Q2\",\"2003Q3\",\"2003Q4\",\"2004Q1\",\"2004Q2\",\"2004Q3\",\"2004Q4\",\"2005Q1\",\"2005Q2\",\"2005Q3\",\"2005Q4\",\"2006Q1\",\"2006Q2\",\"2006Q3\",\"2006Q4\",\"2007Q1\",\"2007Q2\",\"2007Q3\",\"2007Q4\",\"2008Q1\",\"2008Q2\",\"2008Q3\",\"2008Q4\",\"2009Q1\",\"2009Q2\",\"2009Q3\",\"2009Q4\",\"2010Q1\",\"2010Q2\",\"2010Q3\",\"2010Q4\",\"2011Q1\",\"2011Q2\",\"2011Q3\",\"2011Q4\",\"2012Q1\",\"2012Q2\",\"2012Q3\",\"2012Q4\",\"2013Q1\",\"2013Q2\",\"2013Q3\",\"2013Q4\",\"2014Q1\",\"2014Q2\",\"2014Q3\",\"2014Q4\",\"2015Q1\",\"2015Q2\",\"2015Q3\",\"2015Q4\",\"2016Q1\",\"2016Q2\",\"2016Q3\",\"2016Q4\",\"2017Q1\",\"2017Q2\",\"2017Q3\",\"2017Q4\",\"2018Q1\",\"2018Q2\",\"2018Q3\",\"2018Q4\"],\"xaxis\":\"x\",\"y\":[2478000,2498000,2519000,2542000,2564000,2587000,2609000,2632000,2655000,2678000,2702000,2726000,2750000,2774000,2799000,2826000,2852000,2875000,2896000,2917000,2938000,2959000,2979000,2999000,3018000,3038000,3060000,3084000,3111000,3135000,3153000,3150000,3148000,3146000,3148000,3159000,3171000,3182000,3193000,3204000,3216000,3227000,3237000,3243000,3250000,3257000,3264000,3270000,3279000,3285000,3294000,3303000,3314000,3324000,3335000,3345000,3424696,3460933,3494762,3527798,3557833,3586870,3620905,3659941,3694977,3731013,3769048,3812084,3850120,3889156,3930191,3972227,4012263,4052299,4092335,4130370,4165406,4201442,4237478,4273513,4307550,4343585,4376621,4407656,4433693,4459728,4487764,4514799,4538836,4562871,4585907,4610943,4629979,4650014,4673050,4696086,4717122,4731859,4759123,4788606,4817015,4846140,4875468,4902375,4927745,4953420,4980282,5005910,5028270,5050853,5078891,5112535,5143011,5175291,5209374,5243465,5276015,5309957,5349044,5398312,5442029,5485181,5528705,5570566,5610421,5650731,5689623,5722932,5754329,5786535,5819001,5848286,5875644,5903148,5931979,5958912,5983212,5864065,5889076,5914833,5938123,5962221,5988327,6014188,6038394,6063189,6091150,6121980,6149901,6178352,6207911,6234842,6259898,6285628,6315078,6347829,6377824,6408417,6444106,6485210,6524377,6565061,6606521,6646651,6684861,6723330,6763762,6803500,6841122,6879520,6920505,6962266],\"yaxis\":\"y\",\"type\":\"scattergl\"},{\"hovertemplate\":\"color=Vermont\\u003cbr\\u003ex=%{x}\\u003cbr\\u003ey=%{y}\\u003cextra\\u003e\\u003c\\u002fextra\\u003e\",\"legendgroup\":\"Vermont\",\"line\":{\"color\":\"#19d3f3\",\"dash\":\"solid\"},\"marker\":{\"symbol\":\"circle\"},\"mode\":\"markers+lines\",\"name\":\"Vermont\",\"showlegend\":true,\"x\":[\"1976Q1\",\"1976Q2\",\"1976Q3\",\"1976Q4\",\"1977Q1\",\"1977Q2\",\"1977Q3\",\"1977Q4\",\"1978Q1\",\"1978Q2\",\"1978Q3\",\"1978Q4\",\"1979Q1\",\"1979Q2\",\"1979Q3\",\"1979Q4\",\"1980Q1\",\"1980Q2\",\"1980Q3\",\"1980Q4\",\"1981Q1\",\"1981Q2\",\"1981Q3\",\"1981Q4\",\"1982Q1\",\"1982Q2\",\"1982Q3\",\"1982Q4\",\"1983Q1\",\"1983Q2\",\"1983Q3\",\"1983Q4\",\"1984Q1\",\"1984Q2\",\"1984Q3\",\"1984Q4\",\"1985Q1\",\"1985Q2\",\"1985Q3\",\"1985Q4\",\"1986Q1\",\"1986Q2\",\"1986Q3\",\"1986Q4\",\"1987Q1\",\"1987Q2\",\"1987Q3\",\"1987Q4\",\"1988Q1\",\"1988Q2\",\"1988Q3\",\"1988Q4\",\"1989Q1\",\"1989Q2\",\"1989Q3\",\"1989Q4\",\"1990Q1\",\"1990Q2\",\"1990Q3\",\"1990Q4\",\"1991Q1\",\"1991Q2\",\"1991Q3\",\"1991Q4\",\"1992Q1\",\"1992Q2\",\"1992Q3\",\"1992Q4\",\"1993Q1\",\"1993Q2\",\"1993Q3\",\"1993Q4\",\"1994Q1\",\"1994Q2\",\"1994Q3\",\"1994Q4\",\"1995Q1\",\"1995Q2\",\"1995Q3\",\"1995Q4\",\"1996Q1\",\"1996Q2\",\"1996Q3\",\"1996Q4\",\"1997Q1\",\"1997Q2\",\"1997Q3\",\"1997Q4\",\"1998Q1\",\"1998Q2\",\"1998Q3\",\"1998Q4\",\"1999Q1\",\"1999Q2\",\"1999Q3\",\"1999Q4\",\"2000Q1\",\"2000Q2\",\"2000Q3\",\"2000Q4\",\"2001Q1\",\"2001Q2\",\"2001Q3\",\"2001Q4\",\"2002Q1\",\"2002Q2\",\"2002Q3\",\"2002Q4\",\"2003Q1\",\"2003Q2\",\"2003Q3\",\"2003Q4\",\"2004Q1\",\"2004Q2\",\"2004Q3\",\"2004Q4\",\"2005Q1\",\"2005Q2\",\"2005Q3\",\"2005Q4\",\"2006Q1\",\"2006Q2\",\"2006Q3\",\"2006Q4\",\"2007Q1\",\"2007Q2\",\"2007Q3\",\"2007Q4\",\"2008Q1\",\"2008Q2\",\"2008Q3\",\"2008Q4\",\"2009Q1\",\"2009Q2\",\"2009Q3\",\"2009Q4\",\"2010Q1\",\"2010Q2\",\"2010Q3\",\"2010Q4\",\"2011Q1\",\"2011Q2\",\"2011Q3\",\"2011Q4\",\"2012Q1\",\"2012Q2\",\"2012Q3\",\"2012Q4\",\"2013Q1\",\"2013Q2\",\"2013Q3\",\"2013Q4\",\"2014Q1\",\"2014Q2\",\"2014Q3\",\"2014Q4\",\"2015Q1\",\"2015Q2\",\"2015Q3\",\"2015Q4\",\"2016Q1\",\"2016Q2\",\"2016Q3\",\"2016Q4\",\"2017Q1\",\"2017Q2\",\"2017Q3\",\"2017Q4\",\"2018Q1\",\"2018Q2\",\"2018Q3\",\"2018Q4\"],\"xaxis\":\"x\",\"y\":[1020000,1025000,1032000,1038000,1045000,1052000,1058000,1064000,1070000,1076000,1083000,1089000,1096000,1103000,1109000,1116000,1122000,1129000,1133000,1136000,1140000,1144000,1147000,1151000,1154000,1159000,1162000,1166000,1169000,1174000,1177000,1180000,1183000,1186000,1190000,1195000,1199000,1204000,1207000,1211000,1214000,1219000,1223000,1228000,1232000,1237000,1242000,1248000,1257000,1263000,1271000,1276000,1281000,1286000,1292000,1298000,1280166,1287268,1291585,1293804,1294024,1296243,1297462,1300682,1300901,1303120,1305339,1308559,1310778,1313998,1317217,1321436,1323655,1326875,1331094,1335313,1338533,1341752,1346972,1350191,1354410,1357629,1362849,1367068,1371287,1373507,1378726,1381945,1385165,1388384,1392603,1395823,1400042,1402261,1407481,1411700,1414919,1420429,1423919,1427708,1430846,1434191,1437975,1441777,1444968,1448318,1452159,1456074,1458930,1461873,1465482,1468776,1471017,1473922,1477030,1479783,1481980,1484512,1487524,1491859,1494442,1496922,1499569,1502051,1503811,1505698,1507939,1509999,1511458,1512995,1515050,1517115,1518627,1520032,1522269,1525045,1527060,1519774,1521693,1524300,1526205,1528121,1529964,1530793,1531190,1531602,1532704,1534405,1535295,1536253,1537683,1538693,1539186,1539758,1540638,1541249,1541111,1541062,1541619,1542327,1542424,1542708,1543530,1544644,1545282,1545876,1547030,1548211,1548869,1549528,1550696,1551827],\"yaxis\":\"y\",\"type\":\"scattergl\"},{\"hovertemplate\":\"color=Virginia\\u003cbr\\u003ex=%{x}\\u003cbr\\u003ey=%{y}\\u003cextra\\u003e\\u003c\\u002fextra\\u003e\",\"legendgroup\":\"Virginia\",\"line\":{\"color\":\"#FF6692\",\"dash\":\"solid\"},\"marker\":{\"symbol\":\"circle\"},\"mode\":\"markers+lines\",\"name\":\"Virginia\",\"showlegend\":true,\"x\":[\"1976Q1\",\"1976Q2\",\"1976Q3\",\"1976Q4\",\"1977Q1\",\"1977Q2\",\"1977Q3\",\"1977Q4\",\"1978Q1\",\"1978Q2\",\"1978Q3\",\"1978Q4\",\"1979Q1\",\"1979Q2\",\"1979Q3\",\"1979Q4\",\"1980Q1\",\"1980Q2\",\"1980Q3\",\"1980Q4\",\"1981Q1\",\"1981Q2\",\"1981Q3\",\"1981Q4\",\"1982Q1\",\"1982Q2\",\"1982Q3\",\"1982Q4\",\"1983Q1\",\"1983Q2\",\"1983Q3\",\"1983Q4\",\"1984Q1\",\"1984Q2\",\"1984Q3\",\"1984Q4\",\"1985Q1\",\"1985Q2\",\"1985Q3\",\"1985Q4\",\"1986Q1\",\"1986Q2\",\"1986Q3\",\"1986Q4\",\"1987Q1\",\"1987Q2\",\"1987Q3\",\"1987Q4\",\"1988Q1\",\"1988Q2\",\"1988Q3\",\"1988Q4\",\"1989Q1\",\"1989Q2\",\"1989Q3\",\"1989Q4\",\"1990Q1\",\"1990Q2\",\"1990Q3\",\"1990Q4\",\"1991Q1\",\"1991Q2\",\"1991Q3\",\"1991Q4\",\"1992Q1\",\"1992Q2\",\"1992Q3\",\"1992Q4\",\"1993Q1\",\"1993Q2\",\"1993Q3\",\"1993Q4\",\"1994Q1\",\"1994Q2\",\"1994Q3\",\"1994Q4\",\"1995Q1\",\"1995Q2\",\"1995Q3\",\"1995Q4\",\"1996Q1\",\"1996Q2\",\"1996Q3\",\"1996Q4\",\"1997Q1\",\"1997Q2\",\"1997Q3\",\"1997Q4\",\"1998Q1\",\"1998Q2\",\"1998Q3\",\"1998Q4\",\"1999Q1\",\"1999Q2\",\"1999Q3\",\"1999Q4\",\"2000Q1\",\"2000Q2\",\"2000Q3\",\"2000Q4\",\"2001Q1\",\"2001Q2\",\"2001Q3\",\"2001Q4\",\"2002Q1\",\"2002Q2\",\"2002Q3\",\"2002Q4\",\"2003Q1\",\"2003Q2\",\"2003Q3\",\"2003Q4\",\"2004Q1\",\"2004Q2\",\"2004Q3\",\"2004Q4\",\"2005Q1\",\"2005Q2\",\"2005Q3\",\"2005Q4\",\"2006Q1\",\"2006Q2\",\"2006Q3\",\"2006Q4\",\"2007Q1\",\"2007Q2\",\"2007Q3\",\"2007Q4\",\"2008Q1\",\"2008Q2\",\"2008Q3\",\"2008Q4\",\"2009Q1\",\"2009Q2\",\"2009Q3\",\"2009Q4\",\"2010Q1\",\"2010Q2\",\"2010Q3\",\"2010Q4\",\"2011Q1\",\"2011Q2\",\"2011Q3\",\"2011Q4\",\"2012Q1\",\"2012Q2\",\"2012Q3\",\"2012Q4\",\"2013Q1\",\"2013Q2\",\"2013Q3\",\"2013Q4\",\"2014Q1\",\"2014Q2\",\"2014Q3\",\"2014Q4\",\"2015Q1\",\"2015Q2\",\"2015Q3\",\"2015Q4\",\"2016Q1\",\"2016Q2\",\"2016Q3\",\"2016Q4\",\"2017Q1\",\"2017Q2\",\"2017Q3\",\"2017Q4\",\"2018Q1\",\"2018Q2\",\"2018Q3\",\"2018Q4\"],\"xaxis\":\"x\",\"y\":[10628000,10701000,10771000,10837000,10903000,10969000,11036000,11104000,11172000,11240000,11303000,11353000,11402000,11452000,11499000,11544000,11589000,11637000,11691000,11745000,11799000,11853000,11904000,11949000,11991000,12036000,12081000,12126000,12173000,12219000,12268000,12324000,12381000,12437000,12488000,12529000,12570000,12611000,12661000,12728000,12794000,12862000,12930000,13005000,13077000,13152000,13222000,13287000,13353000,13418000,13476000,13521000,13568000,13614000,13659000,13707000,13898673,13943404,13989064,14036212,14075361,14114510,14161659,14216808,14260956,14310105,14364254,14428403,14480552,14532701,14587849,14641998,14686147,14731296,14779445,14830594,14874742,14918891,14970040,15029189,15076338,15128486,15184635,15240784,15283933,15325082,15372231,15417379,15451528,15485677,15530826,15589975,15640124,15691272,15747421,15808570,15859719,15868242,15932248,15994384,16050300,16106704,16167113,16227218,16281109,16334445,16390064,16439152,16476888,16512828,16571851,16657452,16732046,16811456,16889579,16956199,17017275,17080693,17146716,17226792,17285054,17337372,17392235,17448192,17497214,17545804,17598652,17653734,17701756,17749730,17804688,17864671,17917951,17969805,18029142,18093237,18148094,18466849,18530757,18597639,18654053,18708580,18770985,18832909,18884853,18938851,18994875,19048487,19095269,19139778,19190684,19233283,19271685,19310937,19355433,19399758,19434948,19469793,19511779,19552878,19589219,19618692,19661042,19712171,19753837,19795214,19839185,19883972,19921639,19959086,20003182,20048744],\"yaxis\":\"y\",\"type\":\"scattergl\"},{\"hovertemplate\":\"color=Washington\\u003cbr\\u003ex=%{x}\\u003cbr\\u003ey=%{y}\\u003cextra\\u003e\\u003c\\u002fextra\\u003e\",\"legendgroup\":\"Washington\",\"line\":{\"color\":\"#B6E880\",\"dash\":\"solid\"},\"marker\":{\"symbol\":\"circle\"},\"mode\":\"markers+lines\",\"name\":\"Washington\",\"showlegend\":true,\"x\":[\"1976Q1\",\"1976Q2\",\"1976Q3\",\"1976Q4\",\"1977Q1\",\"1977Q2\",\"1977Q3\",\"1977Q4\",\"1978Q1\",\"1978Q2\",\"1978Q3\",\"1978Q4\",\"1979Q1\",\"1979Q2\",\"1979Q3\",\"1979Q4\",\"1980Q1\",\"1980Q2\",\"1980Q3\",\"1980Q4\",\"1981Q1\",\"1981Q2\",\"1981Q3\",\"1981Q4\",\"1982Q1\",\"1982Q2\",\"1982Q3\",\"1982Q4\",\"1983Q1\",\"1983Q2\",\"1983Q3\",\"1983Q4\",\"1984Q1\",\"1984Q2\",\"1984Q3\",\"1984Q4\",\"1985Q1\",\"1985Q2\",\"1985Q3\",\"1985Q4\",\"1986Q1\",\"1986Q2\",\"1986Q3\",\"1986Q4\",\"1987Q1\",\"1987Q2\",\"1987Q3\",\"1987Q4\",\"1988Q1\",\"1988Q2\",\"1988Q3\",\"1988Q4\",\"1989Q1\",\"1989Q2\",\"1989Q3\",\"1989Q4\",\"1990Q1\",\"1990Q2\",\"1990Q3\",\"1990Q4\",\"1991Q1\",\"1991Q2\",\"1991Q3\",\"1991Q4\",\"1992Q1\",\"1992Q2\",\"1992Q3\",\"1992Q4\",\"1993Q1\",\"1993Q2\",\"1993Q3\",\"1993Q4\",\"1994Q1\",\"1994Q2\",\"1994Q3\",\"1994Q4\",\"1995Q1\",\"1995Q2\",\"1995Q3\",\"1995Q4\",\"1996Q1\",\"1996Q2\",\"1996Q3\",\"1996Q4\",\"1997Q1\",\"1997Q2\",\"1997Q3\",\"1997Q4\",\"1998Q1\",\"1998Q2\",\"1998Q3\",\"1998Q4\",\"1999Q1\",\"1999Q2\",\"1999Q3\",\"1999Q4\",\"2000Q1\",\"2000Q2\",\"2000Q3\",\"2000Q4\",\"2001Q1\",\"2001Q2\",\"2001Q3\",\"2001Q4\",\"2002Q1\",\"2002Q2\",\"2002Q3\",\"2002Q4\",\"2003Q1\",\"2003Q2\",\"2003Q3\",\"2003Q4\",\"2004Q1\",\"2004Q2\",\"2004Q3\",\"2004Q4\",\"2005Q1\",\"2005Q2\",\"2005Q3\",\"2005Q4\",\"2006Q1\",\"2006Q2\",\"2006Q3\",\"2006Q4\",\"2007Q1\",\"2007Q2\",\"2007Q3\",\"2007Q4\",\"2008Q1\",\"2008Q2\",\"2008Q3\",\"2008Q4\",\"2009Q1\",\"2009Q2\",\"2009Q3\",\"2009Q4\",\"2010Q1\",\"2010Q2\",\"2010Q3\",\"2010Q4\",\"2011Q1\",\"2011Q2\",\"2011Q3\",\"2011Q4\",\"2012Q1\",\"2012Q2\",\"2012Q3\",\"2012Q4\",\"2013Q1\",\"2013Q2\",\"2013Q3\",\"2013Q4\",\"2014Q1\",\"2014Q2\",\"2014Q3\",\"2014Q4\",\"2015Q1\",\"2015Q2\",\"2015Q3\",\"2015Q4\",\"2016Q1\",\"2016Q2\",\"2016Q3\",\"2016Q4\",\"2017Q1\",\"2017Q2\",\"2017Q3\",\"2017Q4\",\"2018Q1\",\"2018Q2\",\"2018Q3\",\"2018Q4\"],\"xaxis\":\"x\",\"y\":[7813000,7870000,7929000,7992000,8055000,8118000,8187000,8268000,8346000,8427000,8510000,8597000,8684000,8771000,8863000,8965000,9068000,9152000,9202000,9251000,9301000,9350000,9392000,9416000,9440000,9464000,9486000,9506000,9525000,9545000,9569000,9602000,9635000,9668000,9696000,9714000,9732000,9750000,9782000,9841000,9900000,9959000,10016000,10066000,10117000,10166000,10221000,10281000,10342000,10403000,10462000,10520000,10577000,10636000,10693000,10751000,10988766,10996675,11025837,11105025,11177215,11248403,11324592,11397781,11465969,11534159,11608347,11686536,11758725,11828913,11900103,11964291,12019480,12074669,12136857,12204047,12264236,12326424,12388614,12443802,12492991,12545180,12605368,12673558,12729746,12786935,12850124,12911312,12964502,13018690,13074879,13122068,13162256,13203446,13248634,13293823,13332012,13367104,13416520,13472666,13523480,13574950,13629781,13683219,13731076,13778943,13829855,13876701,13913789,13949974,14001383,14066714,14122385,14182402,14244554,14302702,14355450,14410090,14475516,14566717,14641136,14710955,14783106,14854277,14918907,14983351,15050400,15115327,15173753,15232471,15297528,15366090,15428430,15490143,15554976,15615676,15668405,15711089,15752787,15802405,15844385,15885555,15936561,15994311,16045160,16096925,16150885,16200855,16243460,16285201,16338595,16398713,16453633,16509189,16574771,16650271,16717185,16784168,16862494,16949742,17031396,17111509,17198174,17285623,17365674,17445293,17529047,17612882,17690339,17768046,17852304,17938204],\"yaxis\":\"y\",\"type\":\"scattergl\"},{\"hovertemplate\":\"color=West Virginia\\u003cbr\\u003ex=%{x}\\u003cbr\\u003ey=%{y}\\u003cextra\\u003e\\u003c\\u002fextra\\u003e\",\"legendgroup\":\"West Virginia\",\"line\":{\"color\":\"#FF97FF\",\"dash\":\"solid\"},\"marker\":{\"symbol\":\"circle\"},\"mode\":\"markers+lines\",\"name\":\"West Virginia\",\"showlegend\":true,\"x\":[\"1976Q1\",\"1976Q2\",\"1976Q3\",\"1976Q4\",\"1977Q1\",\"1977Q2\",\"1977Q3\",\"1977Q4\",\"1978Q1\",\"1978Q2\",\"1978Q3\",\"1978Q4\",\"1979Q1\",\"1979Q2\",\"1979Q3\",\"1979Q4\",\"1980Q1\",\"1980Q2\",\"1980Q3\",\"1980Q4\",\"1981Q1\",\"1981Q2\",\"1981Q3\",\"1981Q4\",\"1982Q1\",\"1982Q2\",\"1982Q3\",\"1982Q4\",\"1983Q1\",\"1983Q2\",\"1983Q3\",\"1983Q4\",\"1984Q1\",\"1984Q2\",\"1984Q3\",\"1984Q4\",\"1985Q1\",\"1985Q2\",\"1985Q3\",\"1985Q4\",\"1986Q1\",\"1986Q2\",\"1986Q3\",\"1986Q4\",\"1987Q1\",\"1987Q2\",\"1987Q3\",\"1987Q4\",\"1988Q1\",\"1988Q2\",\"1988Q3\",\"1988Q4\",\"1989Q1\",\"1989Q2\",\"1989Q3\",\"1989Q4\",\"1990Q1\",\"1990Q2\",\"1990Q3\",\"1990Q4\",\"1991Q1\",\"1991Q2\",\"1991Q3\",\"1991Q4\",\"1992Q1\",\"1992Q2\",\"1992Q3\",\"1992Q4\",\"1993Q1\",\"1993Q2\",\"1993Q3\",\"1993Q4\",\"1994Q1\",\"1994Q2\",\"1994Q3\",\"1994Q4\",\"1995Q1\",\"1995Q2\",\"1995Q3\",\"1995Q4\",\"1996Q1\",\"1996Q2\",\"1996Q3\",\"1996Q4\",\"1997Q1\",\"1997Q2\",\"1997Q3\",\"1997Q4\",\"1998Q1\",\"1998Q2\",\"1998Q3\",\"1998Q4\",\"1999Q1\",\"1999Q2\",\"1999Q3\",\"1999Q4\",\"2000Q1\",\"2000Q2\",\"2000Q3\",\"2000Q4\",\"2001Q1\",\"2001Q2\",\"2001Q3\",\"2001Q4\",\"2002Q1\",\"2002Q2\",\"2002Q3\",\"2002Q4\",\"2003Q1\",\"2003Q2\",\"2003Q3\",\"2003Q4\",\"2004Q1\",\"2004Q2\",\"2004Q3\",\"2004Q4\",\"2005Q1\",\"2005Q2\",\"2005Q3\",\"2005Q4\",\"2006Q1\",\"2006Q2\",\"2006Q3\",\"2006Q4\",\"2007Q1\",\"2007Q2\",\"2007Q3\",\"2007Q4\",\"2008Q1\",\"2008Q2\",\"2008Q3\",\"2008Q4\",\"2009Q1\",\"2009Q2\",\"2009Q3\",\"2009Q4\",\"2010Q1\",\"2010Q2\",\"2010Q3\",\"2010Q4\",\"2011Q1\",\"2011Q2\",\"2011Q3\",\"2011Q4\",\"2012Q1\",\"2012Q2\",\"2012Q3\",\"2012Q4\",\"2013Q1\",\"2013Q2\",\"2013Q3\",\"2013Q4\",\"2014Q1\",\"2014Q2\",\"2014Q3\",\"2014Q4\",\"2015Q1\",\"2015Q2\",\"2015Q3\",\"2015Q4\",\"2016Q1\",\"2016Q2\",\"2016Q3\",\"2016Q4\",\"2017Q1\",\"2017Q2\",\"2017Q3\",\"2017Q4\",\"2018Q1\",\"2018Q2\",\"2018Q3\",\"2018Q4\"],\"xaxis\":\"x\",\"y\":[4065000,4089000,4114000,4135000,4156000,4177000,4195000,4207000,4219000,4231000,4244000,4258000,4272000,4286000,4299000,4308000,4317000,4329000,4338000,4347000,4356000,4365000,4373000,4378000,4382000,4387000,4392000,4398000,4405000,4412000,4415000,4412000,4409000,4406000,4403000,4399000,4396000,4391000,4387000,4381000,4375000,4369000,4364000,4360000,4357000,4352000,4347000,4341000,4332000,4326000,4318000,4311000,4305000,4298000,4290000,4284000,4171488,4190641,4206035,4212924,4217812,4222701,4228589,4235478,4239366,4243255,4250143,4259032,4266920,4274807,4282696,4288584,4290473,4295361,4298250,4301138,4301027,4301915,4304804,4307692,4308581,4311469,4314357,4314245,4312133,4308022,4307910,4308799,4305687,4303576,4302464,4301353,4299241,4296130,4296018,4295906,4291794,4291755,4290457,4288036,4283614,4279671,4278874,4281516,4282118,4282824,4286015,4290505,4291724,4292964,4296211,4298082,4296809,4297192,4299068,4301054,4301201,4302032,4305199,4312478,4315400,4317936,4321691,4326068,4328407,4330940,4334853,4339022,4341079,4343478,4347560,4352021,4354572,4357089,4361373,4366097,4368391,4445213,4449578,4452556,4453275,4454188,4456313,4457753,4457787,4457779,4458748,4458919,4456384,4454182,4453731,4452936,4450283,4447917,4446290,4443547,4438208,4433204,4429634,4425674,4419510,4414140,4409520,4403962,4396683,4389329,4383661,4377869,4370207,4362727,4356898,4351202],\"yaxis\":\"y\",\"type\":\"scattergl\"},{\"hovertemplate\":\"color=Wisconsin\\u003cbr\\u003ex=%{x}\\u003cbr\\u003ey=%{y}\\u003cextra\\u003e\\u003c\\u002fextra\\u003e\",\"legendgroup\":\"Wisconsin\",\"line\":{\"color\":\"#FECB52\",\"dash\":\"solid\"},\"marker\":{\"symbol\":\"circle\"},\"mode\":\"markers+lines\",\"name\":\"Wisconsin\",\"showlegend\":true,\"x\":[\"1976Q1\",\"1976Q2\",\"1976Q3\",\"1976Q4\",\"1977Q1\",\"1977Q2\",\"1977Q3\",\"1977Q4\",\"1978Q1\",\"1978Q2\",\"1978Q3\",\"1978Q4\",\"1979Q1\",\"1979Q2\",\"1979Q3\",\"1979Q4\",\"1980Q1\",\"1980Q2\",\"1980Q3\",\"1980Q4\",\"1981Q1\",\"1981Q2\",\"1981Q3\",\"1981Q4\",\"1982Q1\",\"1982Q2\",\"1982Q3\",\"1982Q4\",\"1983Q1\",\"1983Q2\",\"1983Q3\",\"1983Q4\",\"1984Q1\",\"1984Q2\",\"1984Q3\",\"1984Q4\",\"1985Q1\",\"1985Q2\",\"1985Q3\",\"1985Q4\",\"1986Q1\",\"1986Q2\",\"1986Q3\",\"1986Q4\",\"1987Q1\",\"1987Q2\",\"1987Q3\",\"1987Q4\",\"1988Q1\",\"1988Q2\",\"1988Q3\",\"1988Q4\",\"1989Q1\",\"1989Q2\",\"1989Q3\",\"1989Q4\",\"1990Q1\",\"1990Q2\",\"1990Q3\",\"1990Q4\",\"1991Q1\",\"1991Q2\",\"1991Q3\",\"1991Q4\",\"1992Q1\",\"1992Q2\",\"1992Q3\",\"1992Q4\",\"1993Q1\",\"1993Q2\",\"1993Q3\",\"1993Q4\",\"1994Q1\",\"1994Q2\",\"1994Q3\",\"1994Q4\",\"1995Q1\",\"1995Q2\",\"1995Q3\",\"1995Q4\",\"1996Q1\",\"1996Q2\",\"1996Q3\",\"1996Q4\",\"1997Q1\",\"1997Q2\",\"1997Q3\",\"1997Q4\",\"1998Q1\",\"1998Q2\",\"1998Q3\",\"1998Q4\",\"1999Q1\",\"1999Q2\",\"1999Q3\",\"1999Q4\",\"2000Q1\",\"2000Q2\",\"2000Q3\",\"2000Q4\",\"2001Q1\",\"2001Q2\",\"2001Q3\",\"2001Q4\",\"2002Q1\",\"2002Q2\",\"2002Q3\",\"2002Q4\",\"2003Q1\",\"2003Q2\",\"2003Q3\",\"2003Q4\",\"2004Q1\",\"2004Q2\",\"2004Q3\",\"2004Q4\",\"2005Q1\",\"2005Q2\",\"2005Q3\",\"2005Q4\",\"2006Q1\",\"2006Q2\",\"2006Q3\",\"2006Q4\",\"2007Q1\",\"2007Q2\",\"2007Q3\",\"2007Q4\",\"2008Q1\",\"2008Q2\",\"2008Q3\",\"2008Q4\",\"2009Q1\",\"2009Q2\",\"2009Q3\",\"2009Q4\",\"2010Q1\",\"2010Q2\",\"2010Q3\",\"2010Q4\",\"2011Q1\",\"2011Q2\",\"2011Q3\",\"2011Q4\",\"2012Q1\",\"2012Q2\",\"2012Q3\",\"2012Q4\",\"2013Q1\",\"2013Q2\",\"2013Q3\",\"2013Q4\",\"2014Q1\",\"2014Q2\",\"2014Q3\",\"2014Q4\",\"2015Q1\",\"2015Q2\",\"2015Q3\",\"2015Q4\",\"2016Q1\",\"2016Q2\",\"2016Q3\",\"2016Q4\",\"2017Q1\",\"2017Q2\",\"2017Q3\",\"2017Q4\",\"2018Q1\",\"2018Q2\",\"2018Q3\",\"2018Q4\"],\"xaxis\":\"x\",\"y\":[9745000,9779000,9815000,9857000,9899000,9941000,9980000,10013000,10046000,10079000,10115000,10156000,10196000,10237000,10278000,10326000,10371000,10413000,10443000,10471000,10500000,10529000,10554000,10572000,10587000,10605000,10617000,10617000,10615000,10614000,10619000,10633000,10646000,10660000,10672000,10685000,10697000,10711000,10724000,10738000,10751000,10765000,10780000,10800000,10821000,10841000,10863000,10887000,10914000,10938000,10961000,10975000,10988000,11002000,11014000,11030000,11005629,11015010,11032931,11073031,11107130,11142230,11179329,11216429,11246528,11278628,11315727,11360827,11397926,11435024,11473124,11508223,11534323,11563422,11596522,11635621,11670721,11703820,11741920,11781019,11811119,11846218,11881317,11911416,11930515,11947615,11971714,11996814,12012913,12030013,12052112,12081212,12103311,12124411,12153510,12189609,12217708,12241040,12271783,12305939,12334778,12364808,12399203,12433863,12463123,12492601,12527433,12562195,12587933,12613249,12646042,12677404,12699804,12726816,12757449,12786489,12810674,12837029,12867618,12907806,12933145,12956476,12983696,13013066,13036656,13060593,13087487,13113191,13133106,13153715,13178480,13202567,13221047,13239533,13261991,13283033,13296877,13290802,13309308,13330920,13346086,13362094,13382082,13401175,13416632,13431977,13451920,13473472,13487237,13502135,13521982,13540755,13554510,13568807,13586680,13602729,13611729,13621290,13637661,13656730,13670051,13685494,13706059,13729040,13747295,13765062,13787818,13809751,13826393,13843422,13865573,13887853],\"yaxis\":\"y\",\"type\":\"scattergl\"},{\"hovertemplate\":\"color=Wyoming\\u003cbr\\u003ex=%{x}\\u003cbr\\u003ey=%{y}\\u003cextra\\u003e\\u003c\\u002fextra\\u003e\",\"legendgroup\":\"Wyoming\",\"line\":{\"color\":\"#636efa\",\"dash\":\"solid\"},\"marker\":{\"symbol\":\"circle\"},\"mode\":\"markers+lines\",\"name\":\"Wyoming\",\"showlegend\":true,\"x\":[\"1976Q1\",\"1976Q2\",\"1976Q3\",\"1976Q4\",\"1977Q1\",\"1977Q2\",\"1977Q3\",\"1977Q4\",\"1978Q1\",\"1978Q2\",\"1978Q3\",\"1978Q4\",\"1979Q1\",\"1979Q2\",\"1979Q3\",\"1979Q4\",\"1980Q1\",\"1980Q2\",\"1980Q3\",\"1980Q4\",\"1981Q1\",\"1981Q2\",\"1981Q3\",\"1981Q4\",\"1982Q1\",\"1982Q2\",\"1982Q3\",\"1982Q4\",\"1983Q1\",\"1983Q2\",\"1983Q3\",\"1983Q4\",\"1984Q1\",\"1984Q2\",\"1984Q3\",\"1984Q4\",\"1985Q1\",\"1985Q2\",\"1985Q3\",\"1985Q4\",\"1986Q1\",\"1986Q2\",\"1986Q3\",\"1986Q4\",\"1987Q1\",\"1987Q2\",\"1987Q3\",\"1987Q4\",\"1988Q1\",\"1988Q2\",\"1988Q3\",\"1988Q4\",\"1989Q1\",\"1989Q2\",\"1989Q3\",\"1989Q4\",\"1990Q1\",\"1990Q2\",\"1990Q3\",\"1990Q4\",\"1991Q1\",\"1991Q2\",\"1991Q3\",\"1991Q4\",\"1992Q1\",\"1992Q2\",\"1992Q3\",\"1992Q4\",\"1993Q1\",\"1993Q2\",\"1993Q3\",\"1993Q4\",\"1994Q1\",\"1994Q2\",\"1994Q3\",\"1994Q4\",\"1995Q1\",\"1995Q2\",\"1995Q3\",\"1995Q4\",\"1996Q1\",\"1996Q2\",\"1996Q3\",\"1996Q4\",\"1997Q1\",\"1997Q2\",\"1997Q3\",\"1997Q4\",\"1998Q1\",\"1998Q2\",\"1998Q3\",\"1998Q4\",\"1999Q1\",\"1999Q2\",\"1999Q3\",\"1999Q4\",\"2000Q1\",\"2000Q2\",\"2000Q3\",\"2000Q4\",\"2001Q1\",\"2001Q2\",\"2001Q3\",\"2001Q4\",\"2002Q1\",\"2002Q2\",\"2002Q3\",\"2002Q4\",\"2003Q1\",\"2003Q2\",\"2003Q3\",\"2003Q4\",\"2004Q1\",\"2004Q2\",\"2004Q3\",\"2004Q4\",\"2005Q1\",\"2005Q2\",\"2005Q3\",\"2005Q4\",\"2006Q1\",\"2006Q2\",\"2006Q3\",\"2006Q4\",\"2007Q1\",\"2007Q2\",\"2007Q3\",\"2007Q4\",\"2008Q1\",\"2008Q2\",\"2008Q3\",\"2008Q4\",\"2009Q1\",\"2009Q2\",\"2009Q3\",\"2009Q4\",\"2010Q1\",\"2010Q2\",\"2010Q3\",\"2010Q4\",\"2011Q1\",\"2011Q2\",\"2011Q3\",\"2011Q4\",\"2012Q1\",\"2012Q2\",\"2012Q3\",\"2012Q4\",\"2013Q1\",\"2013Q2\",\"2013Q3\",\"2013Q4\",\"2014Q1\",\"2014Q2\",\"2014Q3\",\"2014Q4\",\"2015Q1\",\"2015Q2\",\"2015Q3\",\"2015Q4\",\"2016Q1\",\"2016Q2\",\"2016Q3\",\"2016Q4\",\"2017Q1\",\"2017Q2\",\"2017Q3\",\"2017Q4\",\"2018Q1\",\"2018Q2\",\"2018Q3\",\"2018Q4\"],\"xaxis\":\"x\",\"y\":[813000,822000,831000,840000,851000,861000,871000,883000,895000,907000,919000,930000,942000,953000,964000,977000,990000,1002000,1011000,1021000,1032000,1041000,1050000,1056000,1065000,1071000,1078000,1082000,1085000,1090000,1092000,1090000,1089000,1087000,1085000,1081000,1078000,1073000,1072000,1074000,1077000,1079000,1077000,1068000,1059000,1050000,1044000,1041000,1039000,1037000,1035000,1035000,1033000,1032000,1032000,1031000,986796,987236,988515,991709,994902,998096,1002289,1007482,1011675,1016868,1021062,1026255,1030449,1035642,1040836,1046029,1051221,1056415,1061608,1065802,1069995,1074189,1077382,1081575,1084768,1086961,1091155,1093348,1094542,1095735,1097929,1098122,1098314,1099508,1101701,1103895,1106088,1108282,1110475,1114668,1117861,1117154,1118505,1120299,1121782,1123289,1125805,1129634,1133030,1136437,1139854,1142442,1144248,1146052,1148737,1151937,1154356,1157171,1160179,1162739,1164925,1167289,1170724,1176404,1180841,1185102,1190170,1196320,1202080,1207720,1213637,1219209,1224306,1229445,1235236,1241328,1246952,1252562,1257557,1260325,1262501,1299868,1302533,1304938,1306679,1308492,1312017,1318192,1323694,1329463,1334775,1338514,1341514,1344599,1347375,1348240,1348560,1349082,1350270,1351951,1352839,1353860,1354895,1354888,1354343,1353849,1352934,1350554,1347652,1344712,1342259,1339965,1337086,1334307,1332140,1330137],\"yaxis\":\"y\",\"type\":\"scattergl\"}],                        {\"template\":{\"data\":{\"histogram2dcontour\":[{\"type\":\"histogram2dcontour\",\"colorbar\":{\"outlinewidth\":0,\"ticks\":\"\"},\"colorscale\":[[0.0,\"#0d0887\"],[0.1111111111111111,\"#46039f\"],[0.2222222222222222,\"#7201a8\"],[0.3333333333333333,\"#9c179e\"],[0.4444444444444444,\"#bd3786\"],[0.5555555555555556,\"#d8576b\"],[0.6666666666666666,\"#ed7953\"],[0.7777777777777778,\"#fb9f3a\"],[0.8888888888888888,\"#fdca26\"],[1.0,\"#f0f921\"]]}],\"choropleth\":[{\"type\":\"choropleth\",\"colorbar\":{\"outlinewidth\":0,\"ticks\":\"\"}}],\"histogram2d\":[{\"type\":\"histogram2d\",\"colorbar\":{\"outlinewidth\":0,\"ticks\":\"\"},\"colorscale\":[[0.0,\"#0d0887\"],[0.1111111111111111,\"#46039f\"],[0.2222222222222222,\"#7201a8\"],[0.3333333333333333,\"#9c179e\"],[0.4444444444444444,\"#bd3786\"],[0.5555555555555556,\"#d8576b\"],[0.6666666666666666,\"#ed7953\"],[0.7777777777777778,\"#fb9f3a\"],[0.8888888888888888,\"#fdca26\"],[1.0,\"#f0f921\"]]}],\"heatmap\":[{\"type\":\"heatmap\",\"colorbar\":{\"outlinewidth\":0,\"ticks\":\"\"},\"colorscale\":[[0.0,\"#0d0887\"],[0.1111111111111111,\"#46039f\"],[0.2222222222222222,\"#7201a8\"],[0.3333333333333333,\"#9c179e\"],[0.4444444444444444,\"#bd3786\"],[0.5555555555555556,\"#d8576b\"],[0.6666666666666666,\"#ed7953\"],[0.7777777777777778,\"#fb9f3a\"],[0.8888888888888888,\"#fdca26\"],[1.0,\"#f0f921\"]]}],\"heatmapgl\":[{\"type\":\"heatmapgl\",\"colorbar\":{\"outlinewidth\":0,\"ticks\":\"\"},\"colorscale\":[[0.0,\"#0d0887\"],[0.1111111111111111,\"#46039f\"],[0.2222222222222222,\"#7201a8\"],[0.3333333333333333,\"#9c179e\"],[0.4444444444444444,\"#bd3786\"],[0.5555555555555556,\"#d8576b\"],[0.6666666666666666,\"#ed7953\"],[0.7777777777777778,\"#fb9f3a\"],[0.8888888888888888,\"#fdca26\"],[1.0,\"#f0f921\"]]}],\"contourcarpet\":[{\"type\":\"contourcarpet\",\"colorbar\":{\"outlinewidth\":0,\"ticks\":\"\"}}],\"contour\":[{\"type\":\"contour\",\"colorbar\":{\"outlinewidth\":0,\"ticks\":\"\"},\"colorscale\":[[0.0,\"#0d0887\"],[0.1111111111111111,\"#46039f\"],[0.2222222222222222,\"#7201a8\"],[0.3333333333333333,\"#9c179e\"],[0.4444444444444444,\"#bd3786\"],[0.5555555555555556,\"#d8576b\"],[0.6666666666666666,\"#ed7953\"],[0.7777777777777778,\"#fb9f3a\"],[0.8888888888888888,\"#fdca26\"],[1.0,\"#f0f921\"]]}],\"surface\":[{\"type\":\"surface\",\"colorbar\":{\"outlinewidth\":0,\"ticks\":\"\"},\"colorscale\":[[0.0,\"#0d0887\"],[0.1111111111111111,\"#46039f\"],[0.2222222222222222,\"#7201a8\"],[0.3333333333333333,\"#9c179e\"],[0.4444444444444444,\"#bd3786\"],[0.5555555555555556,\"#d8576b\"],[0.6666666666666666,\"#ed7953\"],[0.7777777777777778,\"#fb9f3a\"],[0.8888888888888888,\"#fdca26\"],[1.0,\"#f0f921\"]]}],\"mesh3d\":[{\"type\":\"mesh3d\",\"colorbar\":{\"outlinewidth\":0,\"ticks\":\"\"}}],\"scatter\":[{\"fillpattern\":{\"fillmode\":\"overlay\",\"size\":10,\"solidity\":0.2},\"type\":\"scatter\"}],\"parcoords\":[{\"type\":\"parcoords\",\"line\":{\"colorbar\":{\"outlinewidth\":0,\"ticks\":\"\"}}}],\"scatterpolargl\":[{\"type\":\"scatterpolargl\",\"marker\":{\"colorbar\":{\"outlinewidth\":0,\"ticks\":\"\"}}}],\"bar\":[{\"error_x\":{\"color\":\"#2a3f5f\"},\"error_y\":{\"color\":\"#2a3f5f\"},\"marker\":{\"line\":{\"color\":\"#E5ECF6\",\"width\":0.5},\"pattern\":{\"fillmode\":\"overlay\",\"size\":10,\"solidity\":0.2}},\"type\":\"bar\"}],\"scattergeo\":[{\"type\":\"scattergeo\",\"marker\":{\"colorbar\":{\"outlinewidth\":0,\"ticks\":\"\"}}}],\"scatterpolar\":[{\"type\":\"scatterpolar\",\"marker\":{\"colorbar\":{\"outlinewidth\":0,\"ticks\":\"\"}}}],\"histogram\":[{\"marker\":{\"pattern\":{\"fillmode\":\"overlay\",\"size\":10,\"solidity\":0.2}},\"type\":\"histogram\"}],\"scattergl\":[{\"type\":\"scattergl\",\"marker\":{\"colorbar\":{\"outlinewidth\":0,\"ticks\":\"\"}}}],\"scatter3d\":[{\"type\":\"scatter3d\",\"line\":{\"colorbar\":{\"outlinewidth\":0,\"ticks\":\"\"}},\"marker\":{\"colorbar\":{\"outlinewidth\":0,\"ticks\":\"\"}}}],\"scattermapbox\":[{\"type\":\"scattermapbox\",\"marker\":{\"colorbar\":{\"outlinewidth\":0,\"ticks\":\"\"}}}],\"scatterternary\":[{\"type\":\"scatterternary\",\"marker\":{\"colorbar\":{\"outlinewidth\":0,\"ticks\":\"\"}}}],\"scattercarpet\":[{\"type\":\"scattercarpet\",\"marker\":{\"colorbar\":{\"outlinewidth\":0,\"ticks\":\"\"}}}],\"carpet\":[{\"aaxis\":{\"endlinecolor\":\"#2a3f5f\",\"gridcolor\":\"white\",\"linecolor\":\"white\",\"minorgridcolor\":\"white\",\"startlinecolor\":\"#2a3f5f\"},\"baxis\":{\"endlinecolor\":\"#2a3f5f\",\"gridcolor\":\"white\",\"linecolor\":\"white\",\"minorgridcolor\":\"white\",\"startlinecolor\":\"#2a3f5f\"},\"type\":\"carpet\"}],\"table\":[{\"cells\":{\"fill\":{\"color\":\"#EBF0F8\"},\"line\":{\"color\":\"white\"}},\"header\":{\"fill\":{\"color\":\"#C8D4E3\"},\"line\":{\"color\":\"white\"}},\"type\":\"table\"}],\"barpolar\":[{\"marker\":{\"line\":{\"color\":\"#E5ECF6\",\"width\":0.5},\"pattern\":{\"fillmode\":\"overlay\",\"size\":10,\"solidity\":0.2}},\"type\":\"barpolar\"}],\"pie\":[{\"automargin\":true,\"type\":\"pie\"}]},\"layout\":{\"autotypenumbers\":\"strict\",\"colorway\":[\"#636efa\",\"#EF553B\",\"#00cc96\",\"#ab63fa\",\"#FFA15A\",\"#19d3f3\",\"#FF6692\",\"#B6E880\",\"#FF97FF\",\"#FECB52\"],\"font\":{\"color\":\"#2a3f5f\"},\"hovermode\":\"closest\",\"hoverlabel\":{\"align\":\"left\"},\"paper_bgcolor\":\"white\",\"plot_bgcolor\":\"#E5ECF6\",\"polar\":{\"bgcolor\":\"#E5ECF6\",\"angularaxis\":{\"gridcolor\":\"white\",\"linecolor\":\"white\",\"ticks\":\"\"},\"radialaxis\":{\"gridcolor\":\"white\",\"linecolor\":\"white\",\"ticks\":\"\"}},\"ternary\":{\"bgcolor\":\"#E5ECF6\",\"aaxis\":{\"gridcolor\":\"white\",\"linecolor\":\"white\",\"ticks\":\"\"},\"baxis\":{\"gridcolor\":\"white\",\"linecolor\":\"white\",\"ticks\":\"\"},\"caxis\":{\"gridcolor\":\"white\",\"linecolor\":\"white\",\"ticks\":\"\"}},\"coloraxis\":{\"colorbar\":{\"outlinewidth\":0,\"ticks\":\"\"}},\"colorscale\":{\"sequential\":[[0.0,\"#0d0887\"],[0.1111111111111111,\"#46039f\"],[0.2222222222222222,\"#7201a8\"],[0.3333333333333333,\"#9c179e\"],[0.4444444444444444,\"#bd3786\"],[0.5555555555555556,\"#d8576b\"],[0.6666666666666666,\"#ed7953\"],[0.7777777777777778,\"#fb9f3a\"],[0.8888888888888888,\"#fdca26\"],[1.0,\"#f0f921\"]],\"sequentialminus\":[[0.0,\"#0d0887\"],[0.1111111111111111,\"#46039f\"],[0.2222222222222222,\"#7201a8\"],[0.3333333333333333,\"#9c179e\"],[0.4444444444444444,\"#bd3786\"],[0.5555555555555556,\"#d8576b\"],[0.6666666666666666,\"#ed7953\"],[0.7777777777777778,\"#fb9f3a\"],[0.8888888888888888,\"#fdca26\"],[1.0,\"#f0f921\"]],\"diverging\":[[0,\"#8e0152\"],[0.1,\"#c51b7d\"],[0.2,\"#de77ae\"],[0.3,\"#f1b6da\"],[0.4,\"#fde0ef\"],[0.5,\"#f7f7f7\"],[0.6,\"#e6f5d0\"],[0.7,\"#b8e186\"],[0.8,\"#7fbc41\"],[0.9,\"#4d9221\"],[1,\"#276419\"]]},\"xaxis\":{\"gridcolor\":\"white\",\"linecolor\":\"white\",\"ticks\":\"\",\"title\":{\"standoff\":15},\"zerolinecolor\":\"white\",\"automargin\":true,\"zerolinewidth\":2},\"yaxis\":{\"gridcolor\":\"white\",\"linecolor\":\"white\",\"ticks\":\"\",\"title\":{\"standoff\":15},\"zerolinecolor\":\"white\",\"automargin\":true,\"zerolinewidth\":2},\"scene\":{\"xaxis\":{\"backgroundcolor\":\"#E5ECF6\",\"gridcolor\":\"white\",\"linecolor\":\"white\",\"showbackground\":true,\"ticks\":\"\",\"zerolinecolor\":\"white\",\"gridwidth\":2},\"yaxis\":{\"backgroundcolor\":\"#E5ECF6\",\"gridcolor\":\"white\",\"linecolor\":\"white\",\"showbackground\":true,\"ticks\":\"\",\"zerolinecolor\":\"white\",\"gridwidth\":2},\"zaxis\":{\"backgroundcolor\":\"#E5ECF6\",\"gridcolor\":\"white\",\"linecolor\":\"white\",\"showbackground\":true,\"ticks\":\"\",\"zerolinecolor\":\"white\",\"gridwidth\":2}},\"shapedefaults\":{\"line\":{\"color\":\"#2a3f5f\"}},\"annotationdefaults\":{\"arrowcolor\":\"#2a3f5f\",\"arrowhead\":0,\"arrowwidth\":1},\"geo\":{\"bgcolor\":\"white\",\"landcolor\":\"#E5ECF6\",\"subunitcolor\":\"white\",\"showland\":true,\"showlakes\":true,\"lakecolor\":\"white\"},\"title\":{\"x\":0.05},\"mapbox\":{\"style\":\"light\"}}},\"xaxis\":{\"anchor\":\"y\",\"domain\":[0.0,1.0],\"title\":{\"text\":\"x\"}},\"yaxis\":{\"anchor\":\"x\",\"domain\":[0.0,1.0],\"title\":{\"text\":\"y\"},\"tickformat\":\",.0f\"},\"legend\":{\"title\":{\"text\":\"color\"},\"tracegroupgap\":0},\"margin\":{\"t\":40,\"r\":20,\"l\":20,\"b\":10},\"title\":{\"text\":\"Monthly Civilian Population\",\"font\":{\"size\":18},\"x\":0},\"hovermode\":\"x\",\"height\":400},                        {\"responsive\": true}                    ).then(function(){\n",
              "                            \n",
              "var gd = document.getElementById('4a56c8b1-b294-4e5b-bf8c-14a3c8cbc696');\n",
              "var x = new MutationObserver(function (mutations, observer) {{\n",
              "        var display = window.getComputedStyle(gd).display;\n",
              "        if (!display || display === 'none') {{\n",
              "            console.log([gd, 'removed!']);\n",
              "            Plotly.purge(gd);\n",
              "            observer.disconnect();\n",
              "        }}\n",
              "}});\n",
              "\n",
              "// Listen for the removal of the full notebook cells\n",
              "var notebookContainer = gd.closest('#notebook-container');\n",
              "if (notebookContainer) {{\n",
              "    x.observe(notebookContainer, {childList: true});\n",
              "}}\n",
              "\n",
              "// Listen for the clearing of the current output cell\n",
              "var outputEl = gd.closest('.output');\n",
              "if (outputEl) {{\n",
              "    x.observe(outputEl, {childList: true});\n",
              "}}\n",
              "\n",
              "                        })                };                            </script>        </div>\n",
              "</body>\n",
              "</html>"
            ]
          },
          "metadata": {}
        }
      ]
    },
    {
      "cell_type": "code",
      "source": [
        "chart_df_3 = df.groupby(by = ['State'], as_index = False,)[[var_num]].sum()\n",
        "chart_df_3 = chart_df_3.sort_values(by = var_num, ascending = False)[:10]\n",
        "\n",
        "title = '10 Highest ' + var_num + ' State'\n",
        "#st.subheader(title)\n",
        "fig = px.bar(\n",
        "  chart_df_3,\n",
        "  x = var_num,\n",
        "  y = 'State',\n",
        "  template = chart_theme,\n",
        "  color_discrete_sequence = colors_2,\n",
        "  title = title,\n",
        "  text_auto = ',.0f',\n",
        ")\n",
        "fig.update_layout(\n",
        "    height = 400,\n",
        "    margin = margin,\n",
        "    titlefont = dict(size = title_font_size),\n",
        "    title_x = title_x,\n",
        ")\n",
        "fig.update_yaxes(categoryorder = 'total ascending')\n",
        "fig.show()"
      ],
      "metadata": {
        "colab": {
          "base_uri": "https://localhost:8080/",
          "height": 417
        },
        "id": "i4FiwDCeEajO",
        "outputId": "7c00ffc2-7273-49b7-a839-8d5b48cd97e8"
      },
      "execution_count": null,
      "outputs": [
        {
          "output_type": "display_data",
          "data": {
            "text/html": [
              "<html>\n",
              "<head><meta charset=\"utf-8\" /></head>\n",
              "<body>\n",
              "    <div>            <script src=\"https://cdnjs.cloudflare.com/ajax/libs/mathjax/2.7.5/MathJax.js?config=TeX-AMS-MML_SVG\"></script><script type=\"text/javascript\">if (window.MathJax && window.MathJax.Hub && window.MathJax.Hub.Config) {window.MathJax.Hub.Config({SVG: {font: \"STIX-Web\"}});}</script>                <script type=\"text/javascript\">window.PlotlyConfig = {MathJaxConfig: 'local'};</script>\n",
              "        <script charset=\"utf-8\" src=\"https://cdn.plot.ly/plotly-2.24.1.min.js\"></script>                <div id=\"177963a1-353c-4ec5-af3b-12ae66f3bd52\" class=\"plotly-graph-div\" style=\"height:400px; width:100%;\"></div>            <script type=\"text/javascript\">                                    window.PLOTLYENV=window.PLOTLYENV || {};                                    if (document.getElementById(\"177963a1-353c-4ec5-af3b-12ae66f3bd52\")) {                    Plotly.newPlot(                        \"177963a1-353c-4ec5-af3b-12ae66f3bd52\",                        [{\"alignmentgroup\":\"True\",\"hovertemplate\":\"Civilian Population=%{x}\\u003cbr\\u003eState=%{y}\\u003cextra\\u003e\\u003c\\u002fextra\\u003e\",\"legendgroup\":\"\",\"marker\":{\"color\":\"rgb(103,0,31)\",\"pattern\":{\"shape\":\"\"}},\"name\":\"\",\"offsetgroup\":\"\",\"orientation\":\"h\",\"showlegend\":false,\"textposition\":\"auto\",\"texttemplate\":\"%{x:,.0f}\",\"x\":[12372171855,7630499885,7471265548,6105077137,4919315717,4750730166,4399001140,3777104295,3262485899,3037517520],\"xaxis\":\"x\",\"y\":[\"California\",\"Texas\",\"New York\",\"Florida\",\"Pennsylvania\",\"Illinois\",\"Ohio\",\"Michigan\",\"New Jersey\",\"North Carolina\"],\"yaxis\":\"y\",\"type\":\"bar\"}],                        {\"template\":{\"data\":{\"barpolar\":[{\"marker\":{\"line\":{\"color\":\"rgb(17,17,17)\",\"width\":0.5},\"pattern\":{\"fillmode\":\"overlay\",\"size\":10,\"solidity\":0.2}},\"type\":\"barpolar\"}],\"bar\":[{\"error_x\":{\"color\":\"#f2f5fa\"},\"error_y\":{\"color\":\"#f2f5fa\"},\"marker\":{\"line\":{\"color\":\"rgb(17,17,17)\",\"width\":0.5},\"pattern\":{\"fillmode\":\"overlay\",\"size\":10,\"solidity\":0.2}},\"type\":\"bar\"}],\"carpet\":[{\"aaxis\":{\"endlinecolor\":\"#A2B1C6\",\"gridcolor\":\"#506784\",\"linecolor\":\"#506784\",\"minorgridcolor\":\"#506784\",\"startlinecolor\":\"#A2B1C6\"},\"baxis\":{\"endlinecolor\":\"#A2B1C6\",\"gridcolor\":\"#506784\",\"linecolor\":\"#506784\",\"minorgridcolor\":\"#506784\",\"startlinecolor\":\"#A2B1C6\"},\"type\":\"carpet\"}],\"choropleth\":[{\"colorbar\":{\"outlinewidth\":0,\"ticks\":\"\"},\"type\":\"choropleth\"}],\"contourcarpet\":[{\"colorbar\":{\"outlinewidth\":0,\"ticks\":\"\"},\"type\":\"contourcarpet\"}],\"contour\":[{\"colorbar\":{\"outlinewidth\":0,\"ticks\":\"\"},\"colorscale\":[[0.0,\"#0d0887\"],[0.1111111111111111,\"#46039f\"],[0.2222222222222222,\"#7201a8\"],[0.3333333333333333,\"#9c179e\"],[0.4444444444444444,\"#bd3786\"],[0.5555555555555556,\"#d8576b\"],[0.6666666666666666,\"#ed7953\"],[0.7777777777777778,\"#fb9f3a\"],[0.8888888888888888,\"#fdca26\"],[1.0,\"#f0f921\"]],\"type\":\"contour\"}],\"heatmapgl\":[{\"colorbar\":{\"outlinewidth\":0,\"ticks\":\"\"},\"colorscale\":[[0.0,\"#0d0887\"],[0.1111111111111111,\"#46039f\"],[0.2222222222222222,\"#7201a8\"],[0.3333333333333333,\"#9c179e\"],[0.4444444444444444,\"#bd3786\"],[0.5555555555555556,\"#d8576b\"],[0.6666666666666666,\"#ed7953\"],[0.7777777777777778,\"#fb9f3a\"],[0.8888888888888888,\"#fdca26\"],[1.0,\"#f0f921\"]],\"type\":\"heatmapgl\"}],\"heatmap\":[{\"colorbar\":{\"outlinewidth\":0,\"ticks\":\"\"},\"colorscale\":[[0.0,\"#0d0887\"],[0.1111111111111111,\"#46039f\"],[0.2222222222222222,\"#7201a8\"],[0.3333333333333333,\"#9c179e\"],[0.4444444444444444,\"#bd3786\"],[0.5555555555555556,\"#d8576b\"],[0.6666666666666666,\"#ed7953\"],[0.7777777777777778,\"#fb9f3a\"],[0.8888888888888888,\"#fdca26\"],[1.0,\"#f0f921\"]],\"type\":\"heatmap\"}],\"histogram2dcontour\":[{\"colorbar\":{\"outlinewidth\":0,\"ticks\":\"\"},\"colorscale\":[[0.0,\"#0d0887\"],[0.1111111111111111,\"#46039f\"],[0.2222222222222222,\"#7201a8\"],[0.3333333333333333,\"#9c179e\"],[0.4444444444444444,\"#bd3786\"],[0.5555555555555556,\"#d8576b\"],[0.6666666666666666,\"#ed7953\"],[0.7777777777777778,\"#fb9f3a\"],[0.8888888888888888,\"#fdca26\"],[1.0,\"#f0f921\"]],\"type\":\"histogram2dcontour\"}],\"histogram2d\":[{\"colorbar\":{\"outlinewidth\":0,\"ticks\":\"\"},\"colorscale\":[[0.0,\"#0d0887\"],[0.1111111111111111,\"#46039f\"],[0.2222222222222222,\"#7201a8\"],[0.3333333333333333,\"#9c179e\"],[0.4444444444444444,\"#bd3786\"],[0.5555555555555556,\"#d8576b\"],[0.6666666666666666,\"#ed7953\"],[0.7777777777777778,\"#fb9f3a\"],[0.8888888888888888,\"#fdca26\"],[1.0,\"#f0f921\"]],\"type\":\"histogram2d\"}],\"histogram\":[{\"marker\":{\"pattern\":{\"fillmode\":\"overlay\",\"size\":10,\"solidity\":0.2}},\"type\":\"histogram\"}],\"mesh3d\":[{\"colorbar\":{\"outlinewidth\":0,\"ticks\":\"\"},\"type\":\"mesh3d\"}],\"parcoords\":[{\"line\":{\"colorbar\":{\"outlinewidth\":0,\"ticks\":\"\"}},\"type\":\"parcoords\"}],\"pie\":[{\"automargin\":true,\"type\":\"pie\"}],\"scatter3d\":[{\"line\":{\"colorbar\":{\"outlinewidth\":0,\"ticks\":\"\"}},\"marker\":{\"colorbar\":{\"outlinewidth\":0,\"ticks\":\"\"}},\"type\":\"scatter3d\"}],\"scattercarpet\":[{\"marker\":{\"colorbar\":{\"outlinewidth\":0,\"ticks\":\"\"}},\"type\":\"scattercarpet\"}],\"scattergeo\":[{\"marker\":{\"colorbar\":{\"outlinewidth\":0,\"ticks\":\"\"}},\"type\":\"scattergeo\"}],\"scattergl\":[{\"marker\":{\"line\":{\"color\":\"#283442\"}},\"type\":\"scattergl\"}],\"scattermapbox\":[{\"marker\":{\"colorbar\":{\"outlinewidth\":0,\"ticks\":\"\"}},\"type\":\"scattermapbox\"}],\"scatterpolargl\":[{\"marker\":{\"colorbar\":{\"outlinewidth\":0,\"ticks\":\"\"}},\"type\":\"scatterpolargl\"}],\"scatterpolar\":[{\"marker\":{\"colorbar\":{\"outlinewidth\":0,\"ticks\":\"\"}},\"type\":\"scatterpolar\"}],\"scatter\":[{\"marker\":{\"line\":{\"color\":\"#283442\"}},\"type\":\"scatter\"}],\"scatterternary\":[{\"marker\":{\"colorbar\":{\"outlinewidth\":0,\"ticks\":\"\"}},\"type\":\"scatterternary\"}],\"surface\":[{\"colorbar\":{\"outlinewidth\":0,\"ticks\":\"\"},\"colorscale\":[[0.0,\"#0d0887\"],[0.1111111111111111,\"#46039f\"],[0.2222222222222222,\"#7201a8\"],[0.3333333333333333,\"#9c179e\"],[0.4444444444444444,\"#bd3786\"],[0.5555555555555556,\"#d8576b\"],[0.6666666666666666,\"#ed7953\"],[0.7777777777777778,\"#fb9f3a\"],[0.8888888888888888,\"#fdca26\"],[1.0,\"#f0f921\"]],\"type\":\"surface\"}],\"table\":[{\"cells\":{\"fill\":{\"color\":\"#506784\"},\"line\":{\"color\":\"rgb(17,17,17)\"}},\"header\":{\"fill\":{\"color\":\"#2a3f5f\"},\"line\":{\"color\":\"rgb(17,17,17)\"}},\"type\":\"table\"}]},\"layout\":{\"annotationdefaults\":{\"arrowcolor\":\"#f2f5fa\",\"arrowhead\":0,\"arrowwidth\":1},\"autotypenumbers\":\"strict\",\"coloraxis\":{\"colorbar\":{\"outlinewidth\":0,\"ticks\":\"\"}},\"colorscale\":{\"diverging\":[[0,\"#8e0152\"],[0.1,\"#c51b7d\"],[0.2,\"#de77ae\"],[0.3,\"#f1b6da\"],[0.4,\"#fde0ef\"],[0.5,\"#f7f7f7\"],[0.6,\"#e6f5d0\"],[0.7,\"#b8e186\"],[0.8,\"#7fbc41\"],[0.9,\"#4d9221\"],[1,\"#276419\"]],\"sequential\":[[0.0,\"#0d0887\"],[0.1111111111111111,\"#46039f\"],[0.2222222222222222,\"#7201a8\"],[0.3333333333333333,\"#9c179e\"],[0.4444444444444444,\"#bd3786\"],[0.5555555555555556,\"#d8576b\"],[0.6666666666666666,\"#ed7953\"],[0.7777777777777778,\"#fb9f3a\"],[0.8888888888888888,\"#fdca26\"],[1.0,\"#f0f921\"]],\"sequentialminus\":[[0.0,\"#0d0887\"],[0.1111111111111111,\"#46039f\"],[0.2222222222222222,\"#7201a8\"],[0.3333333333333333,\"#9c179e\"],[0.4444444444444444,\"#bd3786\"],[0.5555555555555556,\"#d8576b\"],[0.6666666666666666,\"#ed7953\"],[0.7777777777777778,\"#fb9f3a\"],[0.8888888888888888,\"#fdca26\"],[1.0,\"#f0f921\"]]},\"colorway\":[\"#636efa\",\"#EF553B\",\"#00cc96\",\"#ab63fa\",\"#FFA15A\",\"#19d3f3\",\"#FF6692\",\"#B6E880\",\"#FF97FF\",\"#FECB52\"],\"font\":{\"color\":\"#f2f5fa\"},\"geo\":{\"bgcolor\":\"rgb(17,17,17)\",\"lakecolor\":\"rgb(17,17,17)\",\"landcolor\":\"rgb(17,17,17)\",\"showlakes\":true,\"showland\":true,\"subunitcolor\":\"#506784\"},\"hoverlabel\":{\"align\":\"left\"},\"hovermode\":\"closest\",\"mapbox\":{\"style\":\"dark\"},\"paper_bgcolor\":\"rgb(17,17,17)\",\"plot_bgcolor\":\"rgb(17,17,17)\",\"polar\":{\"angularaxis\":{\"gridcolor\":\"#506784\",\"linecolor\":\"#506784\",\"ticks\":\"\"},\"bgcolor\":\"rgb(17,17,17)\",\"radialaxis\":{\"gridcolor\":\"#506784\",\"linecolor\":\"#506784\",\"ticks\":\"\"}},\"scene\":{\"xaxis\":{\"backgroundcolor\":\"rgb(17,17,17)\",\"gridcolor\":\"#506784\",\"gridwidth\":2,\"linecolor\":\"#506784\",\"showbackground\":true,\"ticks\":\"\",\"zerolinecolor\":\"#C8D4E3\"},\"yaxis\":{\"backgroundcolor\":\"rgb(17,17,17)\",\"gridcolor\":\"#506784\",\"gridwidth\":2,\"linecolor\":\"#506784\",\"showbackground\":true,\"ticks\":\"\",\"zerolinecolor\":\"#C8D4E3\"},\"zaxis\":{\"backgroundcolor\":\"rgb(17,17,17)\",\"gridcolor\":\"#506784\",\"gridwidth\":2,\"linecolor\":\"#506784\",\"showbackground\":true,\"ticks\":\"\",\"zerolinecolor\":\"#C8D4E3\"}},\"shapedefaults\":{\"line\":{\"color\":\"#f2f5fa\"}},\"sliderdefaults\":{\"bgcolor\":\"#C8D4E3\",\"bordercolor\":\"rgb(17,17,17)\",\"borderwidth\":1,\"tickwidth\":0},\"ternary\":{\"aaxis\":{\"gridcolor\":\"#506784\",\"linecolor\":\"#506784\",\"ticks\":\"\"},\"baxis\":{\"gridcolor\":\"#506784\",\"linecolor\":\"#506784\",\"ticks\":\"\"},\"bgcolor\":\"rgb(17,17,17)\",\"caxis\":{\"gridcolor\":\"#506784\",\"linecolor\":\"#506784\",\"ticks\":\"\"}},\"title\":{\"x\":0.05},\"updatemenudefaults\":{\"bgcolor\":\"#506784\",\"borderwidth\":0},\"xaxis\":{\"automargin\":true,\"gridcolor\":\"#283442\",\"linecolor\":\"#506784\",\"ticks\":\"\",\"title\":{\"standoff\":15},\"zerolinecolor\":\"#283442\",\"zerolinewidth\":2},\"yaxis\":{\"automargin\":true,\"gridcolor\":\"#283442\",\"linecolor\":\"#506784\",\"ticks\":\"\",\"title\":{\"standoff\":15},\"zerolinecolor\":\"#283442\",\"zerolinewidth\":2}}},\"xaxis\":{\"anchor\":\"y\",\"domain\":[0.0,1.0],\"title\":{\"text\":\"Civilian Population\"}},\"yaxis\":{\"anchor\":\"x\",\"domain\":[0.0,1.0],\"title\":{\"text\":\"State\"},\"categoryorder\":\"total ascending\"},\"legend\":{\"tracegroupgap\":0},\"title\":{\"text\":\"10 Highest Civilian Population State\",\"font\":{\"size\":18},\"x\":0},\"barmode\":\"relative\",\"margin\":{\"r\":20,\"t\":40,\"l\":20,\"b\":10},\"height\":400},                        {\"responsive\": true}                    ).then(function(){\n",
              "                            \n",
              "var gd = document.getElementById('177963a1-353c-4ec5-af3b-12ae66f3bd52');\n",
              "var x = new MutationObserver(function (mutations, observer) {{\n",
              "        var display = window.getComputedStyle(gd).display;\n",
              "        if (!display || display === 'none') {{\n",
              "            console.log([gd, 'removed!']);\n",
              "            Plotly.purge(gd);\n",
              "            observer.disconnect();\n",
              "        }}\n",
              "}});\n",
              "\n",
              "// Listen for the removal of the full notebook cells\n",
              "var notebookContainer = gd.closest('#notebook-container');\n",
              "if (notebookContainer) {{\n",
              "    x.observe(notebookContainer, {childList: true});\n",
              "}}\n",
              "\n",
              "// Listen for the clearing of the current output cell\n",
              "var outputEl = gd.closest('.output');\n",
              "if (outputEl) {{\n",
              "    x.observe(outputEl, {childList: true});\n",
              "}}\n",
              "\n",
              "                        })                };                            </script>        </div>\n",
              "</body>\n",
              "</html>"
            ]
          },
          "metadata": {}
        }
      ]
    },
    {
      "cell_type": "code",
      "source": [
        "var_label = 'State'\n",
        "var_number = var_num\n",
        "\n",
        "map_df = df.groupby(['State'])[var_num].sum()\n",
        "map_df = map_df.reset_index()\n",
        "map_df = map_df.fillna(0)\n",
        "map_df = gdf.merge(map_df, on = 'State')\n",
        "\n",
        "map_df = map_df.set_index(var_label)\n",
        "map_df.head(2)"
      ],
      "metadata": {
        "colab": {
          "base_uri": "https://localhost:8080/",
          "height": 143
        },
        "id": "xwKcoOAjFS4o",
        "outputId": "007dc519-d63f-444a-8ea7-004038715577"
      },
      "execution_count": null,
      "outputs": [
        {
          "output_type": "execute_result",
          "data": {
            "text/plain": [
              "                                                  geometry  \\\n",
              "State                                                        \n",
              "Alabama  POLYGON ((-87.35930 35.00118, -85.60667 34.984...   \n",
              "Alaska   MULTIPOLYGON (((-131.60202 55.11798, -131.5691...   \n",
              "\n",
              "         Civilian Population  \n",
              "State                         \n",
              "Alabama           1698463101  \n",
              "Alaska             214652091  "
            ],
            "text/html": [
              "\n",
              "  <div id=\"df-824da35b-4349-44b1-8904-ddc395cdf067\" class=\"colab-df-container\">\n",
              "    <div>\n",
              "<style scoped>\n",
              "    .dataframe tbody tr th:only-of-type {\n",
              "        vertical-align: middle;\n",
              "    }\n",
              "\n",
              "    .dataframe tbody tr th {\n",
              "        vertical-align: top;\n",
              "    }\n",
              "\n",
              "    .dataframe thead th {\n",
              "        text-align: right;\n",
              "    }\n",
              "</style>\n",
              "<table border=\"1\" class=\"dataframe\">\n",
              "  <thead>\n",
              "    <tr style=\"text-align: right;\">\n",
              "      <th></th>\n",
              "      <th>geometry</th>\n",
              "      <th>Civilian Population</th>\n",
              "    </tr>\n",
              "    <tr>\n",
              "      <th>State</th>\n",
              "      <th></th>\n",
              "      <th></th>\n",
              "    </tr>\n",
              "  </thead>\n",
              "  <tbody>\n",
              "    <tr>\n",
              "      <th>Alabama</th>\n",
              "      <td>POLYGON ((-87.35930 35.00118, -85.60667 34.984...</td>\n",
              "      <td>1698463101</td>\n",
              "    </tr>\n",
              "    <tr>\n",
              "      <th>Alaska</th>\n",
              "      <td>MULTIPOLYGON (((-131.60202 55.11798, -131.5691...</td>\n",
              "      <td>214652091</td>\n",
              "    </tr>\n",
              "  </tbody>\n",
              "</table>\n",
              "</div>\n",
              "    <div class=\"colab-df-buttons\">\n",
              "\n",
              "  <div class=\"colab-df-container\">\n",
              "    <button class=\"colab-df-convert\" onclick=\"convertToInteractive('df-824da35b-4349-44b1-8904-ddc395cdf067')\"\n",
              "            title=\"Convert this dataframe to an interactive table.\"\n",
              "            style=\"display:none;\">\n",
              "\n",
              "  <svg xmlns=\"http://www.w3.org/2000/svg\" height=\"24px\" viewBox=\"0 -960 960 960\">\n",
              "    <path d=\"M120-120v-720h720v720H120Zm60-500h600v-160H180v160Zm220 220h160v-160H400v160Zm0 220h160v-160H400v160ZM180-400h160v-160H180v160Zm440 0h160v-160H620v160ZM180-180h160v-160H180v160Zm440 0h160v-160H620v160Z\"/>\n",
              "  </svg>\n",
              "    </button>\n",
              "\n",
              "  <style>\n",
              "    .colab-df-container {\n",
              "      display:flex;\n",
              "      gap: 12px;\n",
              "    }\n",
              "\n",
              "    .colab-df-convert {\n",
              "      background-color: #E8F0FE;\n",
              "      border: none;\n",
              "      border-radius: 50%;\n",
              "      cursor: pointer;\n",
              "      display: none;\n",
              "      fill: #1967D2;\n",
              "      height: 32px;\n",
              "      padding: 0 0 0 0;\n",
              "      width: 32px;\n",
              "    }\n",
              "\n",
              "    .colab-df-convert:hover {\n",
              "      background-color: #E2EBFA;\n",
              "      box-shadow: 0px 1px 2px rgba(60, 64, 67, 0.3), 0px 1px 3px 1px rgba(60, 64, 67, 0.15);\n",
              "      fill: #174EA6;\n",
              "    }\n",
              "\n",
              "    .colab-df-buttons div {\n",
              "      margin-bottom: 4px;\n",
              "    }\n",
              "\n",
              "    [theme=dark] .colab-df-convert {\n",
              "      background-color: #3B4455;\n",
              "      fill: #D2E3FC;\n",
              "    }\n",
              "\n",
              "    [theme=dark] .colab-df-convert:hover {\n",
              "      background-color: #434B5C;\n",
              "      box-shadow: 0px 1px 3px 1px rgba(0, 0, 0, 0.15);\n",
              "      filter: drop-shadow(0px 1px 2px rgba(0, 0, 0, 0.3));\n",
              "      fill: #FFFFFF;\n",
              "    }\n",
              "  </style>\n",
              "\n",
              "    <script>\n",
              "      const buttonEl =\n",
              "        document.querySelector('#df-824da35b-4349-44b1-8904-ddc395cdf067 button.colab-df-convert');\n",
              "      buttonEl.style.display =\n",
              "        google.colab.kernel.accessAllowed ? 'block' : 'none';\n",
              "\n",
              "      async function convertToInteractive(key) {\n",
              "        const element = document.querySelector('#df-824da35b-4349-44b1-8904-ddc395cdf067');\n",
              "        const dataTable =\n",
              "          await google.colab.kernel.invokeFunction('convertToInteractive',\n",
              "                                                    [key], {});\n",
              "        if (!dataTable) return;\n",
              "\n",
              "        const docLinkHtml = 'Like what you see? Visit the ' +\n",
              "          '<a target=\"_blank\" href=https://colab.research.google.com/notebooks/data_table.ipynb>data table notebook</a>'\n",
              "          + ' to learn more about interactive tables.';\n",
              "        element.innerHTML = '';\n",
              "        dataTable['output_type'] = 'display_data';\n",
              "        await google.colab.output.renderOutput(dataTable, element);\n",
              "        const docLink = document.createElement('div');\n",
              "        docLink.innerHTML = docLinkHtml;\n",
              "        element.appendChild(docLink);\n",
              "      }\n",
              "    </script>\n",
              "  </div>\n",
              "\n",
              "\n",
              "<div id=\"df-d6c56f7e-4c24-48d9-81fd-a64980cc0489\">\n",
              "  <button class=\"colab-df-quickchart\" onclick=\"quickchart('df-d6c56f7e-4c24-48d9-81fd-a64980cc0489')\"\n",
              "            title=\"Suggest charts\"\n",
              "            style=\"display:none;\">\n",
              "\n",
              "<svg xmlns=\"http://www.w3.org/2000/svg\" height=\"24px\"viewBox=\"0 0 24 24\"\n",
              "     width=\"24px\">\n",
              "    <g>\n",
              "        <path d=\"M19 3H5c-1.1 0-2 .9-2 2v14c0 1.1.9 2 2 2h14c1.1 0 2-.9 2-2V5c0-1.1-.9-2-2-2zM9 17H7v-7h2v7zm4 0h-2V7h2v10zm4 0h-2v-4h2v4z\"/>\n",
              "    </g>\n",
              "</svg>\n",
              "  </button>\n",
              "\n",
              "<style>\n",
              "  .colab-df-quickchart {\n",
              "      --bg-color: #E8F0FE;\n",
              "      --fill-color: #1967D2;\n",
              "      --hover-bg-color: #E2EBFA;\n",
              "      --hover-fill-color: #174EA6;\n",
              "      --disabled-fill-color: #AAA;\n",
              "      --disabled-bg-color: #DDD;\n",
              "  }\n",
              "\n",
              "  [theme=dark] .colab-df-quickchart {\n",
              "      --bg-color: #3B4455;\n",
              "      --fill-color: #D2E3FC;\n",
              "      --hover-bg-color: #434B5C;\n",
              "      --hover-fill-color: #FFFFFF;\n",
              "      --disabled-bg-color: #3B4455;\n",
              "      --disabled-fill-color: #666;\n",
              "  }\n",
              "\n",
              "  .colab-df-quickchart {\n",
              "    background-color: var(--bg-color);\n",
              "    border: none;\n",
              "    border-radius: 50%;\n",
              "    cursor: pointer;\n",
              "    display: none;\n",
              "    fill: var(--fill-color);\n",
              "    height: 32px;\n",
              "    padding: 0;\n",
              "    width: 32px;\n",
              "  }\n",
              "\n",
              "  .colab-df-quickchart:hover {\n",
              "    background-color: var(--hover-bg-color);\n",
              "    box-shadow: 0 1px 2px rgba(60, 64, 67, 0.3), 0 1px 3px 1px rgba(60, 64, 67, 0.15);\n",
              "    fill: var(--button-hover-fill-color);\n",
              "  }\n",
              "\n",
              "  .colab-df-quickchart-complete:disabled,\n",
              "  .colab-df-quickchart-complete:disabled:hover {\n",
              "    background-color: var(--disabled-bg-color);\n",
              "    fill: var(--disabled-fill-color);\n",
              "    box-shadow: none;\n",
              "  }\n",
              "\n",
              "  .colab-df-spinner {\n",
              "    border: 2px solid var(--fill-color);\n",
              "    border-color: transparent;\n",
              "    border-bottom-color: var(--fill-color);\n",
              "    animation:\n",
              "      spin 1s steps(1) infinite;\n",
              "  }\n",
              "\n",
              "  @keyframes spin {\n",
              "    0% {\n",
              "      border-color: transparent;\n",
              "      border-bottom-color: var(--fill-color);\n",
              "      border-left-color: var(--fill-color);\n",
              "    }\n",
              "    20% {\n",
              "      border-color: transparent;\n",
              "      border-left-color: var(--fill-color);\n",
              "      border-top-color: var(--fill-color);\n",
              "    }\n",
              "    30% {\n",
              "      border-color: transparent;\n",
              "      border-left-color: var(--fill-color);\n",
              "      border-top-color: var(--fill-color);\n",
              "      border-right-color: var(--fill-color);\n",
              "    }\n",
              "    40% {\n",
              "      border-color: transparent;\n",
              "      border-right-color: var(--fill-color);\n",
              "      border-top-color: var(--fill-color);\n",
              "    }\n",
              "    60% {\n",
              "      border-color: transparent;\n",
              "      border-right-color: var(--fill-color);\n",
              "    }\n",
              "    80% {\n",
              "      border-color: transparent;\n",
              "      border-right-color: var(--fill-color);\n",
              "      border-bottom-color: var(--fill-color);\n",
              "    }\n",
              "    90% {\n",
              "      border-color: transparent;\n",
              "      border-bottom-color: var(--fill-color);\n",
              "    }\n",
              "  }\n",
              "</style>\n",
              "\n",
              "  <script>\n",
              "    async function quickchart(key) {\n",
              "      const quickchartButtonEl =\n",
              "        document.querySelector('#' + key + ' button');\n",
              "      quickchartButtonEl.disabled = true;  // To prevent multiple clicks.\n",
              "      quickchartButtonEl.classList.add('colab-df-spinner');\n",
              "      try {\n",
              "        const charts = await google.colab.kernel.invokeFunction(\n",
              "            'suggestCharts', [key], {});\n",
              "      } catch (error) {\n",
              "        console.error('Error during call to suggestCharts:', error);\n",
              "      }\n",
              "      quickchartButtonEl.classList.remove('colab-df-spinner');\n",
              "      quickchartButtonEl.classList.add('colab-df-quickchart-complete');\n",
              "    }\n",
              "    (() => {\n",
              "      let quickchartButtonEl =\n",
              "        document.querySelector('#df-d6c56f7e-4c24-48d9-81fd-a64980cc0489 button');\n",
              "      quickchartButtonEl.style.display =\n",
              "        google.colab.kernel.accessAllowed ? 'block' : 'none';\n",
              "    })();\n",
              "  </script>\n",
              "</div>\n",
              "    </div>\n",
              "  </div>\n"
            ]
          },
          "metadata": {},
          "execution_count": 46
        }
      ]
    },
    {
      "cell_type": "code",
      "source": [
        "fig = px.choropleth_mapbox(\n",
        "    data_frame = map_df,\n",
        "    geojson = map_df.geometry,\n",
        "    locations = map_df.index,\n",
        "    color = var_number,\n",
        "    color_continuous_scale = colors_1,\n",
        "    #range_color = (0, 10),\n",
        "    opacity = 0.5,\n",
        "    center = {'lat' : latitude, 'lon' : longitude},\n",
        "    mapbox_style = 'carto-positron',\n",
        "    zoom = 2,\n",
        "    #width = 800,\n",
        "    height = 600,\n",
        ")\n",
        "\n",
        "fig.update_geos(fitbounds = 'locations', visible = False)\n",
        "fig.update_layout(margin = {'r' : 0, 't' : 0, 'l' : 0, 'b' : 0},)\n",
        "\n",
        "fig.show()"
      ],
      "metadata": {
        "colab": {
          "base_uri": "https://localhost:8080/",
          "height": 617
        },
        "id": "3CNrI65RFsBd",
        "outputId": "12f7275d-6193-4c58-8954-23235127dc49"
      },
      "execution_count": null,
      "outputs": [
        {
          "output_type": "display_data",
          "data": {
            "text/html": [
              "<html>\n",
              "<head><meta charset=\"utf-8\" /></head>\n",
              "<body>\n",
              "    <div>            <script src=\"https://cdnjs.cloudflare.com/ajax/libs/mathjax/2.7.5/MathJax.js?config=TeX-AMS-MML_SVG\"></script><script type=\"text/javascript\">if (window.MathJax && window.MathJax.Hub && window.MathJax.Hub.Config) {window.MathJax.Hub.Config({SVG: {font: \"STIX-Web\"}});}</script>                <script type=\"text/javascript\">window.PlotlyConfig = {MathJaxConfig: 'local'};</script>\n",
              "        <script charset=\"utf-8\" src=\"https://cdn.plot.ly/plotly-2.24.1.min.js\"></script>                <div id=\"d56f090d-2395-45bc-98f5-b862d25252ec\" class=\"plotly-graph-div\" style=\"height:600px; width:100%;\"></div>            <script type=\"text/javascript\">                                    window.PLOTLYENV=window.PLOTLYENV || {};                                    if (document.getElementById(\"d56f090d-2395-45bc-98f5-b862d25252ec\")) {                    Plotly.newPlot(                        \"d56f090d-2395-45bc-98f5-b862d25252ec\",                        [{\"coloraxis\":\"coloraxis\",\"geojson\":{\"type\":\"FeatureCollection\",\"features\":[{\"id\":\"Alabama\",\"type\":\"Feature\",\"properties\":{},\"geometry\":{\"type\":\"Polygon\",\"coordinates\":[[[-87.359296,35.00118],[-85.606675,34.984749],[-85.431413,34.124869],[-85.184951,32.859696],[-85.069935,32.580372],[-84.960397,32.421541],[-85.004212,32.322956],[-84.889196,32.262709],[-85.058981,32.13674],[-85.053504,32.01077],[-85.141136,31.840985],[-85.042551,31.539753],[-85.113751,31.27686],[-85.004212,31.003013],[-85.497137,30.997536],[-87.600282,30.997536],[-87.633143,30.86609],[-87.408589,30.674397],[-87.446927,30.510088],[-87.37025,30.427934],[-87.518128,30.280057],[-87.655051,30.247195],[-87.90699,30.411504],[-87.934375,30.657966],[-88.011052,30.685351],[-88.10416,30.499135],[-88.137022,30.318396],[-88.394438,30.367688],[-88.471115,31.895754],[-88.241084,33.796253],[-88.098683,34.891641],[-88.202745,34.995703],[-87.359296,35.00118]]]},\"bbox\":[-88.471115,30.247195,-84.889196,35.00118]},{\"id\":\"Alaska\",\"type\":\"Feature\",\"properties\":{},\"geometry\":{\"type\":\"MultiPolygon\",\"coordinates\":[[[[-131.602021,55.117982],[-131.569159,55.28229],[-131.355558,55.183705],[-131.38842,55.01392],[-131.645836,55.035827],[-131.602021,55.117982]]],[[[-131.832052,55.42469],[-131.645836,55.304197],[-131.749898,55.128935],[-131.832052,55.189182],[-131.832052,55.42469]]],[[[-132.976733,56.437924],[-132.735747,56.459832],[-132.631685,56.421493],[-132.664547,56.273616],[-132.878148,56.240754],[-133.069841,56.333862],[-132.976733,56.437924]]],[[[-133.595627,56.350293],[-133.162949,56.317431],[-133.05341,56.125739],[-132.620732,55.912138],[-132.472854,55.780691],[-132.4619,55.671152],[-132.357838,55.649245],[-132.341408,55.506844],[-132.166146,55.364444],[-132.144238,55.238474],[-132.029222,55.276813],[-131.97993,55.178228],[-131.958022,54.789365],[-132.029222,54.701734],[-132.308546,54.718165],[-132.385223,54.915335],[-132.483808,54.898904],[-132.686455,55.046781],[-132.746701,54.997489],[-132.916486,55.046781],[-132.889102,54.898904],[-132.73027,54.937242],[-132.626209,54.882473],[-132.675501,54.679826],[-132.867194,54.701734],[-133.157472,54.95915],[-133.239626,55.090597],[-133.223195,55.22752],[-133.453227,55.216566],[-133.453227,55.320628],[-133.277964,55.331582],[-133.102702,55.42469],[-133.17938,55.588998],[-133.387503,55.62186],[-133.420365,55.884753],[-133.497042,56.0162],[-133.639442,55.923092],[-133.694212,56.070969],[-133.546335,56.142169],[-133.666827,56.311955],[-133.595627,56.350293]]],[[[-133.738027,55.556137],[-133.546335,55.490413],[-133.414888,55.572568],[-133.283441,55.534229],[-133.420365,55.386352],[-133.633966,55.430167],[-133.738027,55.556137]]],[[[-133.907813,56.930849],[-134.050213,57.029434],[-133.885905,57.095157],[-133.343688,57.002049],[-133.102702,57.007526],[-132.932917,56.82131],[-132.620732,56.667956],[-132.653593,56.55294],[-132.817901,56.492694],[-133.042456,56.520078],[-133.201287,56.448878],[-133.420365,56.492694],[-133.66135,56.448878],[-133.710643,56.684386],[-133.688735,56.837741],[-133.869474,56.843218],[-133.907813,56.930849]]],[[[-134.115936,56.48174],[-134.25286,56.558417],[-134.400737,56.722725],[-134.417168,56.848695],[-134.296675,56.908941],[-134.170706,56.848695],[-134.143321,56.952757],[-133.748981,56.772017],[-133.710643,56.596755],[-133.847566,56.574848],[-133.935197,56.377678],[-133.836612,56.322908],[-133.957105,56.092877],[-134.110459,56.142169],[-134.132367,55.999769],[-134.230952,56.070969],[-134.291198,56.350293],[-134.115936,56.48174]]],[[[-134.636246,56.28457],[-134.669107,56.169554],[-134.806031,56.235277],[-135.178463,56.67891],[-135.413971,56.810356],[-135.331817,56.914418],[-135.424925,57.166357],[-135.687818,57.369004],[-135.419448,57.566174],[-135.298955,57.48402],[-135.063447,57.418296],[-134.849846,57.407343],[-134.844369,57.248511],[-134.636246,56.728202],[-134.636246,56.28457]]],[[[-134.712923,58.223407],[-134.373353,58.14673],[-134.176183,58.157683],[-134.187137,58.081006],[-133.902336,57.807159],[-134.099505,57.850975],[-134.148798,57.757867],[-133.935197,57.615466],[-133.869474,57.363527],[-134.083075,57.297804],[-134.154275,57.210173],[-134.499322,57.029434],[-134.603384,57.034911],[-134.6472,57.226604],[-134.575999,57.341619],[-134.608861,57.511404],[-134.729354,57.719528],[-134.707446,57.829067],[-134.784123,58.097437],[-134.91557,58.212453],[-134.953908,58.409623],[-134.712923,58.223407]]],[[[-135.857603,57.330665],[-135.715203,57.330665],[-135.567326,57.149926],[-135.633049,57.023957],[-135.857603,56.996572],[-135.824742,57.193742],[-135.857603,57.330665]]],[[[-136.279328,58.206976],[-135.978096,58.201499],[-135.780926,58.28913],[-135.496125,58.168637],[-135.64948,58.037191],[-135.59471,57.987898],[-135.45231,58.135776],[-135.107263,58.086483],[-134.91557,57.976944],[-135.025108,57.779775],[-134.937477,57.763344],[-134.822462,57.500451],[-135.085355,57.462112],[-135.572802,57.675713],[-135.556372,57.456635],[-135.709726,57.369004],[-135.890465,57.407343],[-136.000004,57.544266],[-136.208128,57.637374],[-136.366959,57.829067],[-136.569606,57.916698],[-136.558652,58.075529],[-136.421728,58.130299],[-136.377913,58.267222],[-136.279328,58.206976]]],[[[-147.079854,60.200582],[-147.501579,59.948643],[-147.53444,59.850058],[-147.874011,59.784335],[-147.80281,59.937689],[-147.435855,60.09652],[-147.205824,60.271782],[-147.079854,60.200582]]],[[[-147.561825,60.578491],[-147.616594,60.370367],[-147.758995,60.156767],[-147.956165,60.227967],[-147.791856,60.474429],[-147.561825,60.578491]]],[[[-147.786379,70.245291],[-147.682318,70.201475],[-147.162008,70.15766],[-146.888161,70.185044],[-146.510252,70.185044],[-146.099482,70.146706],[-145.858496,70.168614],[-145.622988,70.08646],[-145.195787,69.993352],[-144.620708,69.971444],[-144.461877,70.026213],[-144.078491,70.059075],[-143.914183,70.130275],[-143.497935,70.141229],[-143.503412,70.091936],[-143.25695,70.119321],[-142.747594,70.042644],[-142.402547,69.916674],[-142.079408,69.856428],[-142.008207,69.801659],[-141.712453,69.790705],[-141.433129,69.697597],[-141.378359,69.63735],[-141.208574,69.686643],[-141.00045,69.648304],[-141.00045,60.304644],[-140.53491,60.22249],[-140.474664,60.310121],[-139.987216,60.184151],[-139.696939,60.342983],[-139.088998,60.359413],[-139.198537,60.091043],[-139.045183,59.997935],[-138.700135,59.910304],[-138.623458,59.767904],[-137.604747,59.242118],[-137.445916,58.908024],[-137.265177,59.001132],[-136.827022,59.159963],[-136.580559,59.16544],[-136.465544,59.285933],[-136.476498,59.466672],[-136.301236,59.466672],[-136.25742,59.625503],[-135.945234,59.663842],[-135.479694,59.800766],[-135.025108,59.565257],[-135.068924,59.422857],[-134.959385,59.280456],[-134.701969,59.247595],[-134.378829,59.033994],[-134.400737,58.973748],[-134.25286,58.858732],[-133.842089,58.727285],[-133.173903,58.152206],[-133.075318,57.998852],[-132.867194,57.845498],[-132.560485,57.505928],[-132.253777,57.21565],[-132.368792,57.095157],[-132.05113,57.051341],[-132.127807,56.876079],[-131.870391,56.804879],[-131.837529,56.602232],[-131.580113,56.613186],[-131.087188,56.405062],[-130.78048,56.366724],[-130.621648,56.268139],[-130.468294,56.240754],[-130.424478,56.142169],[-130.101339,56.114785],[-130.002754,55.994292],[-130.150631,55.769737],[-130.128724,55.583521],[-129.986323,55.276813],[-130.095862,55.200136],[-130.336847,54.920812],[-130.687372,54.718165],[-130.785957,54.822227],[-130.917403,54.789365],[-131.010511,54.997489],[-130.983126,55.08512],[-131.092665,55.189182],[-130.862634,55.298721],[-130.928357,55.337059],[-131.158389,55.200136],[-131.284358,55.287767],[-131.426759,55.238474],[-131.843006,55.457552],[-131.700606,55.698537],[-131.963499,55.616383],[-131.974453,55.49589],[-132.182576,55.588998],[-132.226392,55.704014],[-132.083991,55.829984],[-132.127807,55.955953],[-132.324977,55.851892],[-132.522147,56.076446],[-132.642639,56.032631],[-132.719317,56.218847],[-132.527624,56.339339],[-132.341408,56.339339],[-132.396177,56.487217],[-132.297592,56.67891],[-132.450946,56.673433],[-132.768609,56.837741],[-132.993164,57.034911],[-133.51895,57.177311],[-133.507996,57.577128],[-133.677781,57.62642],[-133.639442,57.790728],[-133.814705,57.834544],[-134.072121,58.053622],[-134.143321,58.168637],[-134.586953,58.206976],[-135.074401,58.502731],[-135.282525,59.192825],[-135.38111,59.033994],[-135.337294,58.891593],[-135.140124,58.617746],[-135.189417,58.573931],[-135.05797,58.349376],[-135.085355,58.201499],[-135.277048,58.234361],[-135.430402,58.398669],[-135.633049,58.426053],[-135.91785,58.382238],[-135.912373,58.617746],[-136.087635,58.814916],[-136.246466,58.75467],[-136.876314,58.962794],[-136.931084,58.902547],[-136.586036,58.836824],[-136.317666,58.672516],[-136.213604,58.667039],[-136.180743,58.535592],[-136.043819,58.382238],[-136.388867,58.294607],[-136.591513,58.349376],[-136.59699,58.212453],[-136.859883,58.316515],[-136.947514,58.393192],[-137.111823,58.393192],[-137.566409,58.590362],[-137.900502,58.765624],[-137.933364,58.869686],[-138.11958,59.02304],[-138.634412,59.132579],[-138.919213,59.247595],[-139.417615,59.379041],[-139.746231,59.505011],[-139.718846,59.641934],[-139.625738,59.598119],[-139.5162,59.68575],[-139.625738,59.88292],[-139.488815,59.992458],[-139.554538,60.041751],[-139.801,59.833627],[-140.315833,59.696704],[-140.92925,59.745996],[-141.444083,59.871966],[-141.46599,59.970551],[-141.706976,59.948643],[-141.964392,60.019843],[-142.539471,60.085566],[-142.873564,60.091043],[-143.623905,60.036274],[-143.892275,59.997935],[-144.231845,60.140336],[-144.65357,60.206059],[-144.785016,60.29369],[-144.834309,60.441568],[-145.124586,60.430614],[-145.223171,60.299167],[-145.738004,60.474429],[-145.820158,60.551106],[-146.351421,60.408706],[-146.608837,60.238921],[-146.718376,60.397752],[-146.608837,60.485383],[-146.455483,60.463475],[-145.951604,60.578491],[-146.017328,60.666122],[-146.252836,60.622307],[-146.345944,60.737322],[-146.565022,60.753753],[-146.784099,61.044031],[-146.866253,60.972831],[-147.172962,60.934492],[-147.271547,60.972831],[-147.375609,60.879723],[-147.758995,60.912584],[-147.775426,60.808523],[-148.032842,60.781138],[-148.153334,60.819476],[-148.065703,61.005692],[-148.175242,61.000215],[-148.350504,60.803046],[-148.109519,60.737322],[-148.087611,60.594922],[-147.939734,60.441568],[-148.027365,60.277259],[-148.219058,60.332029],[-148.273827,60.249875],[-148.087611,60.217013],[-147.983549,59.997935],[-148.251919,59.95412],[-148.399797,59.997935],[-148.635305,59.937689],[-148.755798,59.986981],[-149.067984,59.981505],[-149.05703,60.063659],[-149.204907,60.008889],[-149.287061,59.904827],[-149.418508,59.997935],[-149.582816,59.866489],[-149.511616,59.806242],[-149.741647,59.729565],[-149.949771,59.718611],[-150.031925,59.61455],[-150.25648,59.521442],[-150.409834,59.554303],[-150.579619,59.444764],[-150.716543,59.450241],[-151.001343,59.225687],[-151.308052,59.209256],[-151.406637,59.280456],[-151.592853,59.159963],[-151.976239,59.253071],[-151.888608,59.422857],[-151.636669,59.483103],[-151.47236,59.472149],[-151.423068,59.537872],[-151.127313,59.669319],[-151.116359,59.778858],[-151.505222,59.63098],[-151.828361,59.718611],[-151.8667,59.778858],[-151.702392,60.030797],[-151.423068,60.211536],[-151.379252,60.359413],[-151.297098,60.386798],[-151.264237,60.545629],[-151.406637,60.720892],[-151.06159,60.786615],[-150.404357,61.038554],[-150.245526,60.939969],[-150.042879,60.912584],[-149.741647,61.016646],[-150.075741,61.15357],[-150.207187,61.257632],[-150.47008,61.246678],[-150.656296,61.29597],[-150.711066,61.252155],[-151.023251,61.180954],[-151.165652,61.044031],[-151.477837,61.011169],[-151.800977,60.852338],[-151.833838,60.748276],[-152.080301,60.693507],[-152.13507,60.578491],[-152.310332,60.507291],[-152.392486,60.304644],[-152.732057,60.173197],[-152.567748,60.069136],[-152.704672,59.915781],[-153.022334,59.888397],[-153.049719,59.691227],[-153.345474,59.620026],[-153.438582,59.702181],[-153.586459,59.548826],[-153.761721,59.543349],[-153.72886,59.433811],[-154.117723,59.368087],[-154.1944,59.066856],[-153.750768,59.050425],[-153.400243,58.968271],[-153.301658,58.869686],[-153.444059,58.710854],[-153.679567,58.612269],[-153.898645,58.606793],[-153.920553,58.519161],[-154.062953,58.4863],[-153.99723,58.376761],[-154.145107,58.212453],[-154.46277,58.059098],[-154.643509,58.059098],[-154.818771,58.004329],[-154.988556,58.015283],[-155.120003,57.955037],[-155.081664,57.872883],[-155.328126,57.829067],[-155.377419,57.708574],[-155.547204,57.785251],[-155.73342,57.549743],[-156.045606,57.566174],[-156.023698,57.440204],[-156.209914,57.473066],[-156.34136,57.418296],[-156.34136,57.248511],[-156.549484,56.985618],[-156.883577,56.952757],[-157.157424,56.832264],[-157.20124,56.766541],[-157.376502,56.859649],[-157.672257,56.607709],[-157.754411,56.67891],[-157.918719,56.657002],[-157.957058,56.514601],[-158.126843,56.459832],[-158.32949,56.48174],[-158.488321,56.339339],[-158.208997,56.295524],[-158.510229,55.977861],[-159.375585,55.873799],[-159.616571,55.594475],[-159.676817,55.654722],[-159.643955,55.829984],[-159.813741,55.857368],[-160.027341,55.791645],[-160.060203,55.720445],[-160.394296,55.605429],[-160.536697,55.473983],[-160.580512,55.567091],[-160.668143,55.457552],[-160.865313,55.528752],[-161.232268,55.358967],[-161.506115,55.364444],[-161.467776,55.49589],[-161.588269,55.62186],[-161.697808,55.517798],[-161.686854,55.408259],[-162.053809,55.074166],[-162.179779,55.15632],[-162.218117,55.03035],[-162.470057,55.052258],[-162.508395,55.249428],[-162.661749,55.293244],[-162.716519,55.222043],[-162.579595,55.134412],[-162.645319,54.997489],[-162.847965,54.926289],[-163.00132,55.079643],[-163.187536,55.090597],[-163.220397,55.03035],[-163.034181,54.942719],[-163.373752,54.800319],[-163.14372,54.76198],[-163.138243,54.696257],[-163.329936,54.74555],[-163.587352,54.614103],[-164.085754,54.61958],[-164.332216,54.531949],[-164.354124,54.466226],[-164.638925,54.389548],[-164.847049,54.416933],[-164.918249,54.603149],[-164.710125,54.663395],[-164.551294,54.88795],[-164.34317,54.893427],[-163.894061,55.041304],[-163.532583,55.046781],[-163.39566,54.904381],[-163.291598,55.008443],[-163.313505,55.128935],[-163.105382,55.183705],[-162.880827,55.183705],[-162.579595,55.446598],[-162.245502,55.682106],[-161.807347,55.89023],[-161.292514,55.983338],[-161.078914,55.939523],[-160.87079,55.999769],[-160.816021,55.912138],[-160.931036,55.813553],[-160.805067,55.736876],[-160.766728,55.857368],[-160.509312,55.868322],[-160.438112,55.791645],[-160.27928,55.76426],[-160.273803,55.857368],[-160.536697,55.939523],[-160.558604,55.994292],[-160.383342,56.251708],[-160.147834,56.399586],[-159.830171,56.541986],[-159.326293,56.667956],[-158.959338,56.848695],[-158.784076,56.782971],[-158.641675,56.810356],[-158.701922,56.925372],[-158.658106,57.034911],[-158.378782,57.264942],[-157.995396,57.41282],[-157.688688,57.609989],[-157.705118,57.719528],[-157.458656,58.497254],[-157.07527,58.705377],[-157.119086,58.869686],[-158.039212,58.634177],[-158.32949,58.661562],[-158.40069,58.760147],[-158.564998,58.803962],[-158.619768,58.913501],[-158.767645,58.864209],[-158.860753,58.694424],[-158.701922,58.480823],[-158.893615,58.387715],[-159.0634,58.420577],[-159.392016,58.760147],[-159.616571,58.929932],[-159.731586,58.929932],[-159.808264,58.803962],[-159.906848,58.782055],[-160.054726,58.886116],[-160.235465,58.902547],[-160.317619,59.072332],[-160.854359,58.88064],[-161.33633,58.743716],[-161.374669,58.667039],[-161.752577,58.552023],[-161.938793,58.656085],[-161.769008,58.776578],[-161.829255,59.061379],[-161.955224,59.36261],[-161.703285,59.48858],[-161.911409,59.740519],[-162.092148,59.88292],[-162.234548,60.091043],[-162.448149,60.178674],[-162.502918,59.997935],[-162.760334,59.959597],[-163.171105,59.844581],[-163.66403,59.795289],[-163.9324,59.806242],[-164.162431,59.866489],[-164.189816,60.02532],[-164.386986,60.074613],[-164.699171,60.29369],[-164.962064,60.337506],[-165.268773,60.578491],[-165.060649,60.68803],[-165.016834,60.890677],[-165.175665,60.846861],[-165.197573,60.972831],[-165.120896,61.076893],[-165.323543,61.170001],[-165.34545,61.071416],[-165.591913,61.109754],[-165.624774,61.279539],[-165.816467,61.301447],[-165.920529,61.416463],[-165.915052,61.558863],[-166.106745,61.49314],[-166.139607,61.630064],[-165.904098,61.662925],[-166.095791,61.81628],[-165.756221,61.827233],[-165.756221,62.013449],[-165.674067,62.139419],[-165.044219,62.539236],[-164.912772,62.659728],[-164.819664,62.637821],[-164.874433,62.807606],[-164.633448,63.097884],[-164.425324,63.212899],[-164.036462,63.262192],[-163.73523,63.212899],[-163.313505,63.037637],[-163.039658,63.059545],[-162.661749,63.22933],[-162.272887,63.486746],[-162.075717,63.514131],[-162.026424,63.448408],[-161.555408,63.448408],[-161.13916,63.503177],[-160.766728,63.771547],[-160.766728,63.837271],[-160.952944,64.08921],[-160.974852,64.237087],[-161.26513,64.395918],[-161.374669,64.532842],[-161.078914,64.494503],[-160.79959,64.609519],[-160.783159,64.719058],[-161.144637,64.921705],[-161.413007,64.762873],[-161.664946,64.790258],[-161.900455,64.702627],[-162.168825,64.680719],[-162.234548,64.620473],[-162.541257,64.532842],[-162.634365,64.384965],[-162.787719,64.324718],[-162.858919,64.49998],[-163.045135,64.538319],[-163.176582,64.401395],[-163.253259,64.467119],[-163.598306,64.565704],[-164.304832,64.560227],[-164.80871,64.450688],[-165.000403,64.434257],[-165.411174,64.49998],[-166.188899,64.576658],[-166.391546,64.636904],[-166.484654,64.735489],[-166.413454,64.872412],[-166.692778,64.987428],[-166.638008,65.113398],[-166.462746,65.179121],[-166.517516,65.337952],[-166.796839,65.337952],[-167.026871,65.381768],[-167.47598,65.414629],[-167.711489,65.496784],[-168.072967,65.578938],[-168.105828,65.682999],[-167.541703,65.819923],[-166.829701,66.049954],[-166.3313,66.186878],[-166.046499,66.110201],[-165.756221,66.09377],[-165.690498,66.203309],[-165.86576,66.21974],[-165.88219,66.312848],[-165.186619,66.466202],[-164.403417,66.581218],[-163.981692,66.592172],[-163.751661,66.553833],[-163.872153,66.389525],[-163.828338,66.274509],[-163.915969,66.192355],[-163.768091,66.060908],[-163.494244,66.082816],[-163.149197,66.060908],[-162.749381,66.088293],[-162.634365,66.039001],[-162.371472,66.028047],[-162.14144,66.077339],[-161.840208,66.02257],[-161.549931,66.241647],[-161.341807,66.252601],[-161.199406,66.208786],[-161.128206,66.334755],[-161.528023,66.395002],[-161.911409,66.345709],[-161.87307,66.510017],[-162.174302,66.68528],[-162.502918,66.740049],[-162.601503,66.89888],[-162.344087,66.937219],[-162.015471,66.778388],[-162.075717,66.652418],[-161.916886,66.553833],[-161.571838,66.438817],[-161.489684,66.55931],[-161.884024,66.718141],[-161.714239,67.002942],[-161.851162,67.052235],[-162.240025,66.991988],[-162.639842,67.008419],[-162.700088,67.057712],[-162.902735,67.008419],[-163.740707,67.128912],[-163.757138,67.254881],[-164.009077,67.534205],[-164.211724,67.638267],[-164.534863,67.725898],[-165.192096,67.966884],[-165.493328,68.059992],[-165.794559,68.081899],[-166.243668,68.246208],[-166.681824,68.339316],[-166.703731,68.372177],[-166.375115,68.42147],[-166.227238,68.574824],[-166.216284,68.881533],[-165.329019,68.859625],[-164.255539,68.930825],[-163.976215,68.985595],[-163.532583,69.138949],[-163.110859,69.374457],[-163.023228,69.609966],[-162.842489,69.812613],[-162.470057,69.982398],[-162.311225,70.108367],[-161.851162,70.311014],[-161.779962,70.256245],[-161.396576,70.239814],[-160.837928,70.343876],[-160.487404,70.453415],[-159.649432,70.792985],[-159.33177,70.809416],[-159.298908,70.760123],[-158.975769,70.798462],[-158.658106,70.787508],[-158.033735,70.831323],[-157.420318,70.979201],[-156.812377,71.285909],[-156.565915,71.351633],[-156.522099,71.296863],[-155.585543,71.170894],[-155.508865,71.083263],[-155.832005,70.968247],[-155.979882,70.96277],[-155.974405,70.809416],[-155.503388,70.858708],[-155.476004,70.940862],[-155.262403,71.017539],[-155.191203,70.973724],[-155.032372,71.148986],[-154.566832,70.990155],[-154.643509,70.869662],[-154.353231,70.8368],[-154.183446,70.7656],[-153.931507,70.880616],[-153.487874,70.886093],[-153.235935,70.924431],[-152.589656,70.886093],[-152.26104,70.842277],[-152.419871,70.606769],[-151.817408,70.546523],[-151.773592,70.486276],[-151.187559,70.382214],[-151.182082,70.431507],[-150.760358,70.49723],[-150.355064,70.491753],[-150.349588,70.436984],[-150.114079,70.431507],[-149.867617,70.508184],[-149.462323,70.519138],[-149.177522,70.486276],[-148.78866,70.404122],[-148.607921,70.420553],[-148.350504,70.305537],[-148.202627,70.349353],[-147.961642,70.316491],[-147.786379,70.245291]]],[[[-152.94018,58.026237],[-152.945657,57.982421],[-153.290705,58.048145],[-153.044242,58.305561],[-152.819688,58.327469],[-152.666333,58.562977],[-152.496548,58.354853],[-152.354148,58.426053],[-152.080301,58.311038],[-152.080301,58.152206],[-152.480117,58.130299],[-152.655379,58.059098],[-152.94018,58.026237]]],[[[-153.958891,57.538789],[-153.67409,57.670236],[-153.931507,57.69762],[-153.936983,57.812636],[-153.723383,57.889313],[-153.570028,57.834544],[-153.548121,57.719528],[-153.46049,57.796205],[-153.455013,57.96599],[-153.268797,57.889313],[-153.235935,57.998852],[-153.071627,57.933129],[-152.874457,57.933129],[-152.721103,57.993375],[-152.469163,57.889313],[-152.469163,57.599035],[-152.151501,57.620943],[-152.359625,57.42925],[-152.74301,57.505928],[-152.60061,57.379958],[-152.710149,57.275896],[-152.907319,57.325188],[-152.912796,57.128019],[-153.214027,57.073249],[-153.312612,56.991095],[-153.498828,57.067772],[-153.695998,56.859649],[-153.849352,56.837741],[-154.013661,56.744633],[-154.073907,56.969187],[-154.303938,56.848695],[-154.314892,56.919895],[-154.523016,56.991095],[-154.539447,57.193742],[-154.742094,57.275896],[-154.627078,57.511404],[-154.227261,57.659282],[-153.980799,57.648328],[-153.958891,57.538789]]],[[[-154.53397,56.602232],[-154.742094,56.399586],[-154.807817,56.432447],[-154.53397,56.602232]]],[[[-155.634835,55.923092],[-155.476004,55.912138],[-155.530773,55.704014],[-155.793666,55.731399],[-155.837482,55.802599],[-155.634835,55.923092]]],[[[-159.890418,55.28229],[-159.950664,55.068689],[-160.257373,54.893427],[-160.109495,55.161797],[-160.005433,55.134412],[-159.890418,55.28229]]],[[[-160.520266,55.358967],[-160.33405,55.358967],[-160.339527,55.249428],[-160.525743,55.128935],[-160.690051,55.211089],[-160.794113,55.134412],[-160.854359,55.320628],[-160.79959,55.380875],[-160.520266,55.358967]]],[[[-162.256456,54.981058],[-162.234548,54.893427],[-162.349564,54.838658],[-162.437195,54.931766],[-162.256456,54.981058]]],[[[-162.415287,63.634624],[-162.563165,63.536039],[-162.612457,63.62367],[-162.415287,63.634624]]],[[[-162.80415,54.488133],[-162.590549,54.449795],[-162.612457,54.367641],[-162.782242,54.373118],[-162.80415,54.488133]]],[[[-165.548097,54.29644],[-165.476897,54.181425],[-165.630251,54.132132],[-165.685021,54.252625],[-165.548097,54.29644]]],[[[-165.73979,54.15404],[-166.046499,54.044501],[-166.112222,54.121178],[-165.980775,54.219763],[-165.73979,54.15404]]],[[[-166.364161,60.359413],[-166.13413,60.397752],[-166.084837,60.326552],[-165.88219,60.342983],[-165.685021,60.277259],[-165.646682,59.992458],[-165.750744,59.89935],[-166.00816,59.844581],[-166.062929,59.745996],[-166.440838,59.855535],[-166.6161,59.850058],[-166.994009,59.992458],[-167.125456,59.992458],[-167.344534,60.074613],[-167.421211,60.206059],[-167.311672,60.238921],[-166.93924,60.206059],[-166.763978,60.310121],[-166.577762,60.321075],[-166.495608,60.392275],[-166.364161,60.359413]]],[[[-166.375115,54.01164],[-166.210807,53.934962],[-166.5449,53.748746],[-166.539423,53.715885],[-166.117699,53.852808],[-166.112222,53.776131],[-166.282007,53.683023],[-166.555854,53.622777],[-166.583239,53.529669],[-166.878994,53.431084],[-167.13641,53.425607],[-167.306195,53.332499],[-167.623857,53.250345],[-167.793643,53.337976],[-167.459549,53.442038],[-167.355487,53.425607],[-167.103548,53.513238],[-167.163794,53.611823],[-167.021394,53.715885],[-166.807793,53.666592],[-166.785886,53.732316],[-167.015917,53.754223],[-167.141887,53.825424],[-167.032348,53.945916],[-166.643485,54.017116],[-166.561331,53.880193],[-166.375115,54.01164]]],[[[-168.790446,53.157237],[-168.40706,53.34893],[-168.385152,53.431084],[-168.237275,53.524192],[-168.007243,53.568007],[-167.886751,53.518715],[-167.842935,53.387268],[-168.270136,53.244868],[-168.500168,53.036744],[-168.686384,52.965544],[-168.790446,53.157237]]],[[[-169.74891,52.894344],[-169.705095,52.795759],[-169.962511,52.790282],[-169.989896,52.856005],[-169.74891,52.894344]]],[[[-170.148727,57.221127],[-170.28565,57.128019],[-170.313035,57.221127],[-170.148727,57.221127]]],[[[-170.669036,52.697174],[-170.603313,52.604066],[-170.789529,52.538343],[-170.816914,52.636928],[-170.669036,52.697174]]],[[[-171.742517,63.716778],[-170.94836,63.5689],[-170.488297,63.69487],[-170.280174,63.683916],[-170.093958,63.612716],[-170.044665,63.492223],[-169.644848,63.4265],[-169.518879,63.366254],[-168.99857,63.338869],[-168.686384,63.295053],[-168.856169,63.147176],[-169.108108,63.180038],[-169.376478,63.152653],[-169.513402,63.08693],[-169.639372,62.939052],[-169.831064,63.075976],[-170.055619,63.169084],[-170.263743,63.180038],[-170.362328,63.2841],[-170.866206,63.415546],[-171.101715,63.421023],[-171.463193,63.306007],[-171.73704,63.366254],[-171.852055,63.486746],[-171.742517,63.716778]]],[[[-172.432611,52.390465],[-172.41618,52.275449],[-172.607873,52.253542],[-172.569535,52.352127],[-172.432611,52.390465]]],[[[-173.626584,52.14948],[-173.495138,52.105664],[-173.122706,52.111141],[-173.106275,52.07828],[-173.549907,52.028987],[-173.626584,52.14948]]],[[[-174.322156,52.280926],[-174.327632,52.379511],[-174.185232,52.41785],[-173.982585,52.319265],[-174.059262,52.226157],[-174.179755,52.231634],[-174.141417,52.127572],[-174.333109,52.116618],[-174.738403,52.007079],[-174.968435,52.039941],[-174.902711,52.116618],[-174.656249,52.105664],[-174.322156,52.280926]]],[[[-176.469116,51.853725],[-176.288377,51.870156],[-176.288377,51.744186],[-176.518409,51.760617],[-176.80321,51.61274],[-176.912748,51.80991],[-176.792256,51.815386],[-176.775825,51.963264],[-176.627947,51.968741],[-176.627947,51.859202],[-176.469116,51.853725]]],[[[-177.153734,51.946833],[-177.044195,51.897541],[-177.120872,51.727755],[-177.274226,51.678463],[-177.279703,51.782525],[-177.153734,51.946833]]],[[[-178.123152,51.919448],[-177.953367,51.913971],[-177.800013,51.793479],[-177.964321,51.651078],[-178.123152,51.919448]]],[[[-187.107557,52.992929],[-187.293773,52.927205],[-187.304726,52.823143],[-188.90491,52.762897],[-188.642017,52.927205],[-188.642017,53.003883],[-187.107557,52.992929]]]]},\"bbox\":[-188.90491,51.61274,-129.986323,71.351633]},{\"id\":\"Arizona\",\"type\":\"Feature\",\"properties\":{},\"geometry\":{\"type\":\"Polygon\",\"coordinates\":[[[-109.042503,37.000263],[-109.04798,31.331629],[-111.074448,31.331629],[-112.246513,31.704061],[-114.815198,32.492741],[-114.72209,32.717295],[-114.524921,32.755634],[-114.470151,32.843265],[-114.524921,33.029481],[-114.661844,33.034958],[-114.727567,33.40739],[-114.524921,33.54979],[-114.497536,33.697668],[-114.535874,33.933176],[-114.415382,34.108438],[-114.256551,34.174162],[-114.136058,34.305608],[-114.333228,34.448009],[-114.470151,34.710902],[-114.634459,34.87521],[-114.634459,35.00118],[-114.574213,35.138103],[-114.596121,35.324319],[-114.678275,35.516012],[-114.738521,36.102045],[-114.371566,36.140383],[-114.251074,36.01989],[-114.152489,36.025367],[-114.048427,36.195153],[-114.048427,37.000263],[-110.499369,37.00574],[-109.042503,37.000263]]]},\"bbox\":[-114.815198,31.331629,-109.042503,37.00574]},{\"id\":\"Arkansas\",\"type\":\"Feature\",\"properties\":{},\"geometry\":{\"type\":\"Polygon\",\"coordinates\":[[[-94.473842,36.501861],[-90.152536,36.496384],[-90.064905,36.304691],[-90.218259,36.184199],[-90.377091,35.997983],[-89.730812,35.997983],[-89.763673,35.811767],[-89.911551,35.756997],[-89.944412,35.603643],[-90.130628,35.439335],[-90.114197,35.198349],[-90.212782,35.023087],[-90.311367,34.995703],[-90.251121,34.908072],[-90.409952,34.831394],[-90.481152,34.661609],[-90.585214,34.617794],[-90.568783,34.420624],[-90.749522,34.365854],[-90.744046,34.300131],[-90.952169,34.135823],[-90.891923,34.026284],[-91.072662,33.867453],[-91.231493,33.560744],[-91.056231,33.429298],[-91.143862,33.347144],[-91.089093,33.13902],[-91.16577,33.002096],[-93.608485,33.018527],[-94.041164,33.018527],[-94.041164,33.54979],[-94.183564,33.593606],[-94.380734,33.544313],[-94.484796,33.637421],[-94.430026,35.395519],[-94.616242,36.501861],[-94.473842,36.501861]]]},\"bbox\":[-94.616242,33.002096,-89.730812,36.501861]},{\"id\":\"California\",\"type\":\"Feature\",\"properties\":{},\"geometry\":{\"type\":\"Polygon\",\"coordinates\":[[[-123.233256,42.006186],[-122.378853,42.011663],[-121.037003,41.995232],[-120.001861,41.995232],[-119.996384,40.264519],[-120.001861,38.999346],[-118.71478,38.101128],[-117.498899,37.21934],[-116.540435,36.501861],[-115.85034,35.970598],[-114.634459,35.00118],[-114.634459,34.87521],[-114.470151,34.710902],[-114.333228,34.448009],[-114.136058,34.305608],[-114.256551,34.174162],[-114.415382,34.108438],[-114.535874,33.933176],[-114.497536,33.697668],[-114.524921,33.54979],[-114.727567,33.40739],[-114.661844,33.034958],[-114.524921,33.029481],[-114.470151,32.843265],[-114.524921,32.755634],[-114.72209,32.717295],[-116.04751,32.624187],[-117.126467,32.536556],[-117.24696,32.668003],[-117.252437,32.876127],[-117.329114,33.122589],[-117.471515,33.297851],[-117.7837,33.538836],[-118.183517,33.763391],[-118.260194,33.703145],[-118.413548,33.741483],[-118.391641,33.840068],[-118.566903,34.042715],[-118.802411,33.998899],[-119.218659,34.146777],[-119.278905,34.26727],[-119.558229,34.415147],[-119.875891,34.40967],[-120.138784,34.475393],[-120.472878,34.448009],[-120.64814,34.579455],[-120.609801,34.858779],[-120.670048,34.902595],[-120.631709,35.099764],[-120.894602,35.247642],[-120.905556,35.450289],[-121.004141,35.461243],[-121.168449,35.636505],[-121.283465,35.674843],[-121.332757,35.784382],[-121.716143,36.195153],[-121.896882,36.315645],[-121.935221,36.638785],[-121.858544,36.6114],[-121.787344,36.803093],[-121.929744,36.978355],[-122.105006,36.956447],[-122.335038,37.115279],[-122.417192,37.241248],[-122.400761,37.361741],[-122.515777,37.520572],[-122.515777,37.783465],[-122.329561,37.783465],[-122.406238,38.15042],[-122.488392,38.112082],[-122.504823,37.931343],[-122.701993,37.893004],[-122.937501,38.029928],[-122.97584,38.265436],[-123.129194,38.451652],[-123.331841,38.566668],[-123.44138,38.698114],[-123.737134,38.95553],[-123.687842,39.032208],[-123.824765,39.366301],[-123.764519,39.552517],[-123.85215,39.831841],[-124.109566,40.105688],[-124.361506,40.259042],[-124.410798,40.439781],[-124.158859,40.877937],[-124.109566,41.025814],[-124.158859,41.14083],[-124.065751,41.442061],[-124.147905,41.715908],[-124.257444,41.781632],[-124.213628,42.000709],[-123.233256,42.006186]]]},\"bbox\":[-124.410798,32.536556,-114.136058,42.011663]},{\"id\":\"Colorado\",\"type\":\"Feature\",\"properties\":{},\"geometry\":{\"type\":\"Polygon\",\"coordinates\":[[[-107.919731,41.003906],[-105.728954,40.998429],[-104.053011,41.003906],[-102.053927,41.003906],[-102.053927,40.001626],[-102.042974,36.994786],[-103.001438,37.000263],[-104.337812,36.994786],[-106.868158,36.994786],[-107.421329,37.000263],[-109.042503,37.000263],[-109.042503,38.166851],[-109.058934,38.27639],[-109.053457,39.125316],[-109.04798,40.998429],[-107.919731,41.003906]]]},\"bbox\":[-109.058934,36.994786,-102.042974,41.003906]},{\"id\":\"Connecticut\",\"type\":\"Feature\",\"properties\":{},\"geometry\":{\"type\":\"Polygon\",\"coordinates\":[[[-73.053528,42.039048],[-71.799309,42.022617],[-71.799309,42.006186],[-71.799309,41.414677],[-71.859555,41.321569],[-71.947186,41.338],[-72.385341,41.261322],[-72.905651,41.28323],[-73.130205,41.146307],[-73.371191,41.102491],[-73.655992,40.987475],[-73.727192,41.102491],[-73.48073,41.21203],[-73.55193,41.294184],[-73.486206,42.050002],[-73.053528,42.039048]]]},\"bbox\":[-73.727192,40.987475,-71.799309,42.050002]},{\"id\":\"Delaware\",\"type\":\"Feature\",\"properties\":{},\"geometry\":{\"type\":\"Polygon\",\"coordinates\":[[[-75.414089,39.804456],[-75.507197,39.683964],[-75.611259,39.61824],[-75.589352,39.459409],[-75.441474,39.311532],[-75.403136,39.065069],[-75.189535,38.807653],[-75.09095,38.796699],[-75.047134,38.451652],[-75.693413,38.462606],[-75.786521,39.722302],[-75.616736,39.831841],[-75.414089,39.804456]]]},\"bbox\":[-75.786521,38.451652,-75.047134,39.831841]},{\"id\":\"District of Columbia\",\"type\":\"Feature\",\"properties\":{},\"geometry\":{\"type\":\"Polygon\",\"coordinates\":[[[-77.035264,38.993869],[-76.909294,38.895284],[-77.040741,38.791222],[-77.117418,38.933623],[-77.035264,38.993869]]]},\"bbox\":[-77.117418,38.791222,-76.909294,38.993869]},{\"id\":\"Florida\",\"type\":\"Feature\",\"properties\":{},\"geometry\":{\"type\":\"Polygon\",\"coordinates\":[[[-85.497137,30.997536],[-85.004212,31.003013],[-84.867289,30.712735],[-83.498053,30.647012],[-82.216449,30.570335],[-82.167157,30.356734],[-82.046664,30.362211],[-82.002849,30.564858],[-82.041187,30.751074],[-81.948079,30.827751],[-81.718048,30.745597],[-81.444201,30.707258],[-81.383954,30.27458],[-81.257985,29.787132],[-80.967707,29.14633],[-80.524075,28.461713],[-80.589798,28.41242],[-80.56789,28.094758],[-80.381674,27.738757],[-80.091397,27.021277],[-80.03115,26.796723],[-80.036627,26.566691],[-80.146166,25.739673],[-80.239274,25.723243],[-80.337859,25.465826],[-80.304997,25.383672],[-80.49669,25.197456],[-80.573367,25.241272],[-80.759583,25.164595],[-81.077246,25.120779],[-81.170354,25.224841],[-81.126538,25.378195],[-81.351093,25.821827],[-81.526355,25.903982],[-81.679709,25.843735],[-81.800202,26.090198],[-81.833064,26.292844],[-82.041187,26.517399],[-82.09048,26.665276],[-82.057618,26.878877],[-82.172634,26.917216],[-82.145249,26.791246],[-82.249311,26.758384],[-82.566974,27.300601],[-82.692943,27.437525],[-82.391711,27.837342],[-82.588881,27.815434],[-82.720328,27.689464],[-82.851774,27.886634],[-82.676512,28.434328],[-82.643651,28.888914],[-82.764143,28.998453],[-82.802482,29.14633],[-82.994175,29.179192],[-83.218729,29.420177],[-83.399469,29.518762],[-83.410422,29.66664],[-83.536392,29.721409],[-83.640454,29.885717],[-84.02384,30.104795],[-84.357933,30.055502],[-84.341502,29.902148],[-84.451041,29.929533],[-84.867289,29.743317],[-85.310921,29.699501],[-85.299967,29.80904],[-85.404029,29.940487],[-85.924338,30.236241],[-86.29677,30.362211],[-86.630863,30.395073],[-86.910187,30.373165],[-87.518128,30.280057],[-87.37025,30.427934],[-87.446927,30.510088],[-87.408589,30.674397],[-87.633143,30.86609],[-87.600282,30.997536],[-85.497137,30.997536]]]},\"bbox\":[-87.633143,25.120779,-80.03115,31.003013]},{\"id\":\"Georgia\",\"type\":\"Feature\",\"properties\":{},\"geometry\":{\"type\":\"Polygon\",\"coordinates\":[[[-83.109191,35.00118],[-83.322791,34.787579],[-83.339222,34.683517],[-83.005129,34.469916],[-82.901067,34.486347],[-82.747713,34.26727],[-82.714851,34.152254],[-82.55602,33.94413],[-82.325988,33.81816],[-82.194542,33.631944],[-81.926172,33.462159],[-81.937125,33.347144],[-81.761863,33.160928],[-81.493493,33.007573],[-81.42777,32.843265],[-81.416816,32.629664],[-81.279893,32.558464],[-81.121061,32.290094],[-81.115584,32.120309],[-80.885553,32.032678],[-81.132015,31.693108],[-81.175831,31.517845],[-81.279893,31.364491],[-81.290846,31.20566],[-81.400385,31.13446],[-81.444201,30.707258],[-81.718048,30.745597],[-81.948079,30.827751],[-82.041187,30.751074],[-82.002849,30.564858],[-82.046664,30.362211],[-82.167157,30.356734],[-82.216449,30.570335],[-83.498053,30.647012],[-84.867289,30.712735],[-85.004212,31.003013],[-85.113751,31.27686],[-85.042551,31.539753],[-85.141136,31.840985],[-85.053504,32.01077],[-85.058981,32.13674],[-84.889196,32.262709],[-85.004212,32.322956],[-84.960397,32.421541],[-85.069935,32.580372],[-85.184951,32.859696],[-85.431413,34.124869],[-85.606675,34.984749],[-84.319594,34.990226],[-83.618546,34.984749],[-83.109191,35.00118]]]},\"bbox\":[-85.606675,30.356734,-80.885553,35.00118]},{\"id\":\"Hawaii\",\"type\":\"Feature\",\"properties\":{},\"geometry\":{\"type\":\"MultiPolygon\",\"coordinates\":[[[[-155.634835,18.948267],[-155.881297,19.035898],[-155.919636,19.123529],[-155.886774,19.348084],[-156.062036,19.73147],[-155.925113,19.857439],[-155.826528,20.032702],[-155.897728,20.147717],[-155.87582,20.26821],[-155.596496,20.12581],[-155.284311,20.021748],[-155.092618,19.868393],[-155.092618,19.736947],[-154.807817,19.523346],[-154.983079,19.348084],[-155.295265,19.26593],[-155.514342,19.134483],[-155.634835,18.948267]]],[[[-156.587823,21.029505],[-156.472807,20.892581],[-156.324929,20.952827],[-156.00179,20.793996],[-156.051082,20.651596],[-156.379699,20.580396],[-156.445422,20.60778],[-156.461853,20.783042],[-156.631638,20.821381],[-156.697361,20.919966],[-156.587823,21.029505]]],[[[-156.982162,21.210244],[-157.080747,21.106182],[-157.310779,21.106182],[-157.239579,21.221198],[-156.982162,21.210244]]],[[[-157.951581,21.697691],[-157.842042,21.462183],[-157.896811,21.325259],[-158.110412,21.303352],[-158.252813,21.582676],[-158.126843,21.588153],[-157.951581,21.697691]]],[[[-159.468693,22.228955],[-159.353678,22.218001],[-159.298908,22.113939],[-159.33177,21.966061],[-159.446786,21.872953],[-159.764448,21.987969],[-159.726109,22.152277],[-159.468693,22.228955]]]]},\"bbox\":[-159.764448,18.948267,-154.807817,22.228955]},{\"id\":\"Idaho\",\"type\":\"Feature\",\"properties\":{},\"geometry\":{\"type\":\"Polygon\",\"coordinates\":[[[-116.04751,49.000239],[-116.04751,47.976051],[-115.724371,47.696727],[-115.718894,47.42288],[-115.527201,47.302388],[-115.324554,47.258572],[-115.302646,47.187372],[-114.930214,46.919002],[-114.886399,46.809463],[-114.623506,46.705401],[-114.612552,46.639678],[-114.322274,46.645155],[-114.464674,46.272723],[-114.492059,46.037214],[-114.387997,45.88386],[-114.568736,45.774321],[-114.497536,45.670259],[-114.546828,45.560721],[-114.333228,45.456659],[-114.086765,45.593582],[-113.98818,45.703121],[-113.807441,45.604536],[-113.834826,45.522382],[-113.736241,45.330689],[-113.571933,45.128042],[-113.45144,45.056842],[-113.456917,44.865149],[-113.341901,44.782995],[-113.133778,44.772041],[-113.002331,44.448902],[-112.887315,44.394132],[-112.783254,44.48724],[-112.471068,44.481763],[-112.241036,44.569394],[-112.104113,44.520102],[-111.868605,44.563917],[-111.819312,44.509148],[-111.616665,44.547487],[-111.386634,44.75561],[-111.227803,44.580348],[-111.047063,44.476286],[-111.047063,42.000709],[-112.164359,41.995232],[-114.04295,41.995232],[-117.027882,42.000709],[-117.027882,43.830007],[-116.896436,44.158624],[-116.97859,44.240778],[-117.170283,44.257209],[-117.241483,44.394132],[-117.038836,44.750133],[-116.934774,44.782995],[-116.830713,44.930872],[-116.847143,45.02398],[-116.732128,45.144473],[-116.671881,45.319735],[-116.463758,45.61549],[-116.545912,45.752413],[-116.78142,45.823614],[-116.918344,45.993399],[-116.92382,46.168661],[-117.055267,46.343923],[-117.038836,46.426077],[-117.044313,47.762451],[-117.033359,49.000239],[-116.04751,49.000239]]]},\"bbox\":[-117.241483,41.995232,-111.047063,49.000239]},{\"id\":\"Illinois\",\"type\":\"Feature\",\"properties\":{},\"geometry\":{\"type\":\"Polygon\",\"coordinates\":[[[-90.639984,42.510065],[-88.788778,42.493634],[-87.802929,42.493634],[-87.83579,42.301941],[-87.682436,42.077386],[-87.523605,41.710431],[-87.529082,39.34987],[-87.63862,39.169131],[-87.512651,38.95553],[-87.49622,38.780268],[-87.62219,38.637868],[-87.655051,38.506421],[-87.83579,38.292821],[-87.950806,38.27639],[-87.923421,38.15042],[-88.000098,38.101128],[-88.060345,37.865619],[-88.027483,37.799896],[-88.15893,37.657496],[-88.065822,37.482234],[-88.476592,37.389126],[-88.514931,37.285064],[-88.421823,37.153617],[-88.547792,37.071463],[-88.914747,37.224817],[-89.029763,37.213863],[-89.183118,37.038601],[-89.133825,36.983832],[-89.292656,36.994786],[-89.517211,37.279587],[-89.435057,37.34531],[-89.517211,37.537003],[-89.517211,37.690357],[-89.84035,37.903958],[-89.949889,37.88205],[-90.059428,38.013497],[-90.355183,38.216144],[-90.349706,38.374975],[-90.179921,38.632391],[-90.207305,38.725499],[-90.10872,38.845992],[-90.251121,38.917192],[-90.470199,38.961007],[-90.585214,38.867899],[-90.661891,38.928146],[-90.727615,39.256762],[-91.061708,39.470363],[-91.368417,39.727779],[-91.494386,40.034488],[-91.50534,40.237135],[-91.417709,40.379535],[-91.401278,40.560274],[-91.121954,40.669813],[-91.09457,40.823167],[-90.963123,40.921752],[-90.946692,41.097014],[-91.111001,41.239415],[-91.045277,41.414677],[-90.656414,41.463969],[-90.344229,41.589939],[-90.311367,41.743293],[-90.179921,41.809016],[-90.141582,42.000709],[-90.168967,42.126679],[-90.393521,42.225264],[-90.420906,42.329326],[-90.639984,42.510065]]]},\"bbox\":[-91.50534,36.983832,-87.49622,42.510065]},{\"id\":\"Indiana\",\"type\":\"Feature\",\"properties\":{},\"geometry\":{\"type\":\"Polygon\",\"coordinates\":[[[-85.990061,41.759724],[-84.807042,41.759724],[-84.807042,41.694001],[-84.801565,40.500028],[-84.817996,39.103408],[-84.894673,39.059592],[-84.812519,38.785745],[-84.987781,38.780268],[-85.173997,38.68716],[-85.431413,38.730976],[-85.42046,38.533806],[-85.590245,38.451652],[-85.655968,38.325682],[-85.83123,38.27639],[-85.924338,38.024451],[-86.039354,37.958727],[-86.263908,38.051835],[-86.302247,38.166851],[-86.521325,38.040881],[-86.504894,37.931343],[-86.729448,37.893004],[-86.795172,37.991589],[-87.047111,37.893004],[-87.129265,37.788942],[-87.381204,37.93682],[-87.512651,37.903958],[-87.600282,37.975158],[-87.682436,37.903958],[-87.934375,37.893004],[-88.027483,37.799896],[-88.060345,37.865619],[-88.000098,38.101128],[-87.923421,38.15042],[-87.950806,38.27639],[-87.83579,38.292821],[-87.655051,38.506421],[-87.62219,38.637868],[-87.49622,38.780268],[-87.512651,38.95553],[-87.63862,39.169131],[-87.529082,39.34987],[-87.523605,41.710431],[-87.42502,41.644708],[-87.118311,41.644708],[-86.822556,41.759724],[-85.990061,41.759724]]]},\"bbox\":[-88.060345,37.788942,-84.801565,41.759724]},{\"id\":\"Iowa\",\"type\":\"Feature\",\"properties\":{},\"geometry\":{\"type\":\"Polygon\",\"coordinates\":[[[-91.368417,43.501391],[-91.215062,43.501391],[-91.204109,43.353514],[-91.056231,43.254929],[-91.176724,43.134436],[-91.143862,42.909881],[-91.067185,42.75105],[-90.711184,42.636034],[-90.639984,42.510065],[-90.420906,42.329326],[-90.393521,42.225264],[-90.168967,42.126679],[-90.141582,42.000709],[-90.179921,41.809016],[-90.311367,41.743293],[-90.344229,41.589939],[-90.656414,41.463969],[-91.045277,41.414677],[-91.111001,41.239415],[-90.946692,41.097014],[-90.963123,40.921752],[-91.09457,40.823167],[-91.121954,40.669813],[-91.401278,40.560274],[-91.417709,40.379535],[-91.527248,40.412397],[-91.729895,40.615043],[-91.833957,40.609566],[-93.257961,40.582182],[-94.632673,40.571228],[-95.7664,40.587659],[-95.881416,40.719105],[-95.826646,40.976521],[-95.925231,41.201076],[-95.919754,41.453015],[-96.095016,41.540646],[-96.122401,41.67757],[-96.062155,41.798063],[-96.127878,41.973325],[-96.264801,42.039048],[-96.44554,42.488157],[-96.631756,42.707235],[-96.544125,42.855112],[-96.511264,43.052282],[-96.434587,43.123482],[-96.560556,43.222067],[-96.527695,43.397329],[-96.582464,43.479483],[-96.451017,43.501391],[-91.368417,43.501391]]]},\"bbox\":[-96.631756,40.379535,-90.141582,43.501391]},{\"id\":\"Kansas\",\"type\":\"Feature\",\"properties\":{},\"geometry\":{\"type\":\"Polygon\",\"coordinates\":[[[-101.90605,40.001626],[-95.306337,40.001626],[-95.207752,39.908518],[-94.884612,39.831841],[-95.109167,39.541563],[-94.983197,39.442978],[-94.824366,39.20747],[-94.610765,39.158177],[-94.616242,37.000263],[-100.087706,37.000263],[-102.042974,36.994786],[-102.053927,40.001626],[-101.90605,40.001626]]]},\"bbox\":[-102.053927,36.994786,-94.610765,40.001626]},{\"id\":\"Kentucky\",\"type\":\"Feature\",\"properties\":{},\"geometry\":{\"type\":\"Polygon\",\"coordinates\":[[[-83.903347,38.769315],[-83.678792,38.632391],[-83.519961,38.703591],[-83.142052,38.626914],[-83.032514,38.725499],[-82.890113,38.758361],[-82.846298,38.588575],[-82.731282,38.561191],[-82.594358,38.424267],[-82.621743,38.123036],[-82.50125,37.931343],[-82.342419,37.783465],[-82.293127,37.668449],[-82.101434,37.553434],[-81.969987,37.537003],[-82.353373,37.268633],[-82.720328,37.120755],[-82.720328,37.044078],[-82.868205,36.978355],[-82.879159,36.890724],[-83.070852,36.852385],[-83.136575,36.742847],[-83.673316,36.600446],[-83.689746,36.584015],[-84.544149,36.594969],[-85.289013,36.627831],[-85.486183,36.616877],[-86.592525,36.655216],[-87.852221,36.633308],[-88.071299,36.677123],[-88.054868,36.496384],[-89.298133,36.507338],[-89.418626,36.496384],[-89.363857,36.622354],[-89.215979,36.578538],[-89.133825,36.983832],[-89.183118,37.038601],[-89.029763,37.213863],[-88.914747,37.224817],[-88.547792,37.071463],[-88.421823,37.153617],[-88.514931,37.285064],[-88.476592,37.389126],[-88.065822,37.482234],[-88.15893,37.657496],[-88.027483,37.799896],[-87.934375,37.893004],[-87.682436,37.903958],[-87.600282,37.975158],[-87.512651,37.903958],[-87.381204,37.93682],[-87.129265,37.788942],[-87.047111,37.893004],[-86.795172,37.991589],[-86.729448,37.893004],[-86.504894,37.931343],[-86.521325,38.040881],[-86.302247,38.166851],[-86.263908,38.051835],[-86.039354,37.958727],[-85.924338,38.024451],[-85.83123,38.27639],[-85.655968,38.325682],[-85.590245,38.451652],[-85.42046,38.533806],[-85.431413,38.730976],[-85.173997,38.68716],[-84.987781,38.780268],[-84.812519,38.785745],[-84.894673,39.059592],[-84.817996,39.103408],[-84.43461,39.103408],[-84.231963,38.895284],[-84.215533,38.807653],[-83.903347,38.769315]]]},\"bbox\":[-89.418626,36.496384,-81.969987,39.103408]},{\"id\":\"Louisiana\",\"type\":\"Feature\",\"properties\":{},\"geometry\":{\"type\":\"Polygon\",\"coordinates\":[[[-93.608485,33.018527],[-91.16577,33.002096],[-91.072662,32.887081],[-91.143862,32.843265],[-91.154816,32.640618],[-91.006939,32.514649],[-90.985031,32.218894],[-91.105524,31.988862],[-91.341032,31.846462],[-91.401278,31.621907],[-91.499863,31.643815],[-91.516294,31.27686],[-91.636787,31.265906],[-91.565587,31.068736],[-91.636787,30.997536],[-89.747242,30.997536],[-89.845827,30.66892],[-89.681519,30.449842],[-89.643181,30.285534],[-89.522688,30.181472],[-89.818443,30.044549],[-89.84035,29.945964],[-89.599365,29.88024],[-89.495303,30.039072],[-89.287179,29.88024],[-89.30361,29.754271],[-89.424103,29.699501],[-89.648657,29.748794],[-89.621273,29.655686],[-89.69795,29.513285],[-89.506257,29.387316],[-89.199548,29.348977],[-89.09001,29.2011],[-89.002379,29.179192],[-89.16121,29.009407],[-89.336472,29.042268],[-89.484349,29.217531],[-89.851304,29.310638],[-89.851304,29.480424],[-90.032043,29.425654],[-90.021089,29.283254],[-90.103244,29.151807],[-90.23469,29.129899],[-90.333275,29.277777],[-90.563307,29.283254],[-90.645461,29.129899],[-90.798815,29.086084],[-90.963123,29.179192],[-91.09457,29.190146],[-91.220539,29.436608],[-91.445094,29.546147],[-91.532725,29.529716],[-91.620356,29.73784],[-91.883249,29.710455],[-91.888726,29.836425],[-92.146142,29.715932],[-92.113281,29.622824],[-92.31045,29.535193],[-92.617159,29.579009],[-92.97316,29.715932],[-93.2251,29.776178],[-93.767317,29.726886],[-93.838517,29.688547],[-93.926148,29.787132],[-93.690639,30.143133],[-93.767317,30.334826],[-93.696116,30.438888],[-93.728978,30.575812],[-93.630393,30.679874],[-93.526331,30.93729],[-93.542762,31.15089],[-93.816609,31.556184],[-93.822086,31.775262],[-94.041164,31.994339],[-94.041164,33.018527],[-93.608485,33.018527]]]},\"bbox\":[-94.041164,29.009407,-89.002379,33.018527]},{\"id\":\"Maine\",\"type\":\"Feature\",\"properties\":{},\"geometry\":{\"type\":\"Polygon\",\"coordinates\":[[[-70.703921,43.057759],[-70.824413,43.128959],[-70.807983,43.227544],[-70.966814,43.34256],[-71.032537,44.657025],[-71.08183,45.303304],[-70.649151,45.440228],[-70.720352,45.511428],[-70.556043,45.664782],[-70.386258,45.735983],[-70.41912,45.796229],[-70.260289,45.889337],[-70.309581,46.064599],[-70.210996,46.327492],[-70.057642,46.415123],[-69.997395,46.694447],[-69.225147,47.461219],[-69.044408,47.428357],[-69.033454,47.242141],[-68.902007,47.176418],[-68.578868,47.285957],[-68.376221,47.285957],[-68.233821,47.357157],[-67.954497,47.198326],[-67.790188,47.066879],[-67.779235,45.944106],[-67.801142,45.675736],[-67.456095,45.604536],[-67.505388,45.48952],[-67.417757,45.379982],[-67.488957,45.281397],[-67.346556,45.128042],[-67.16034,45.160904],[-66.979601,44.804903],[-67.187725,44.646072],[-67.308218,44.706318],[-67.406803,44.596779],[-67.549203,44.624164],[-67.565634,44.531056],[-67.75185,44.54201],[-68.047605,44.328409],[-68.118805,44.476286],[-68.222867,44.48724],[-68.173574,44.328409],[-68.403606,44.251732],[-68.458375,44.377701],[-68.567914,44.311978],[-68.82533,44.311978],[-68.830807,44.459856],[-68.984161,44.426994],[-68.956777,44.322932],[-69.099177,44.103854],[-69.071793,44.043608],[-69.258008,43.923115],[-69.444224,43.966931],[-69.553763,43.840961],[-69.707118,43.82453],[-69.833087,43.720469],[-69.986442,43.742376],[-70.030257,43.851915],[-70.254812,43.676653],[-70.194565,43.567114],[-70.358873,43.528776],[-70.369827,43.435668],[-70.556043,43.320652],[-70.703921,43.057759]]]},\"bbox\":[-71.08183,43.057759,-66.979601,47.461219]},{\"id\":\"Maryland\",\"type\":\"Feature\",\"properties\":{},\"geometry\":{\"type\":\"MultiPolygon\",\"coordinates\":[[[[-75.994645,37.95325],[-76.016553,37.95325],[-76.043938,37.95325],[-75.994645,37.95325]]],[[[-79.477979,39.722302],[-75.786521,39.722302],[-75.693413,38.462606],[-75.047134,38.451652],[-75.244304,38.029928],[-75.397659,38.013497],[-75.671506,37.95325],[-75.885106,37.909435],[-75.879629,38.073743],[-75.961783,38.139466],[-75.846768,38.210667],[-76.000122,38.374975],[-76.049415,38.303775],[-76.257538,38.320205],[-76.328738,38.500944],[-76.263015,38.500944],[-76.257538,38.736453],[-76.191815,38.829561],[-76.279446,39.147223],[-76.169907,39.333439],[-76.000122,39.366301],[-75.972737,39.557994],[-76.098707,39.536086],[-76.104184,39.437501],[-76.367077,39.311532],[-76.443754,39.196516],[-76.460185,38.906238],[-76.55877,38.769315],[-76.514954,38.539283],[-76.383508,38.380452],[-76.399939,38.259959],[-76.317785,38.139466],[-76.3616,38.057312],[-76.591632,38.216144],[-76.920248,38.292821],[-77.018833,38.446175],[-77.205049,38.358544],[-77.276249,38.479037],[-77.128372,38.632391],[-77.040741,38.791222],[-76.909294,38.895284],[-77.035264,38.993869],[-77.117418,38.933623],[-77.248864,39.026731],[-77.456988,39.076023],[-77.456988,39.223901],[-77.566527,39.306055],[-77.719881,39.322485],[-77.834897,39.601809],[-78.004682,39.601809],[-78.174467,39.694917],[-78.267575,39.61824],[-78.431884,39.623717],[-78.470222,39.514178],[-78.765977,39.585379],[-78.963147,39.437501],[-79.094593,39.470363],[-79.291763,39.300578],[-79.488933,39.20747],[-79.477979,39.722302]]]]},\"bbox\":[-79.488933,37.909435,-75.047134,39.722302]},{\"id\":\"Massachusetts\",\"type\":\"Feature\",\"properties\":{},\"geometry\":{\"type\":\"Polygon\",\"coordinates\":[[[-70.917521,42.887974],[-70.818936,42.871543],[-70.780598,42.696281],[-70.824413,42.55388],[-70.983245,42.422434],[-70.988722,42.269079],[-70.769644,42.247172],[-70.638197,42.08834],[-70.660105,41.962371],[-70.550566,41.929509],[-70.539613,41.814493],[-70.260289,41.715908],[-69.937149,41.809016],[-70.008349,41.672093],[-70.484843,41.5516],[-70.660105,41.546123],[-70.764167,41.639231],[-70.928475,41.611847],[-70.933952,41.540646],[-71.120168,41.496831],[-71.196845,41.67757],[-71.22423,41.710431],[-71.328292,41.781632],[-71.383061,42.01714],[-71.530939,42.01714],[-71.799309,42.006186],[-71.799309,42.022617],[-73.053528,42.039048],[-73.486206,42.050002],[-73.508114,42.08834],[-73.267129,42.745573],[-72.456542,42.729142],[-71.29543,42.696281],[-71.185891,42.789389],[-70.917521,42.887974]]]},\"bbox\":[-73.508114,41.496831,-69.937149,42.887974]},{\"id\":\"Michigan\",\"type\":\"Feature\",\"properties\":{},\"geometry\":{\"type\":\"MultiPolygon\",\"coordinates\":[[[[-83.454238,41.732339],[-84.807042,41.694001],[-84.807042,41.759724],[-85.990061,41.759724],[-86.822556,41.759724],[-86.619909,41.891171],[-86.482986,42.115725],[-86.357016,42.252649],[-86.263908,42.444341],[-86.209139,42.718189],[-86.231047,43.013943],[-86.526801,43.594499],[-86.433693,43.813577],[-86.499417,44.07647],[-86.269385,44.34484],[-86.220093,44.569394],[-86.252954,44.689887],[-86.088646,44.73918],[-86.066738,44.903488],[-85.809322,44.947303],[-85.612152,45.128042],[-85.628583,44.766564],[-85.524521,44.750133],[-85.393075,44.930872],[-85.387598,45.237581],[-85.305444,45.314258],[-85.031597,45.363551],[-85.119228,45.577151],[-84.938489,45.75789],[-84.713934,45.768844],[-84.461995,45.653829],[-84.215533,45.637398],[-84.09504,45.494997],[-83.908824,45.484043],[-83.596638,45.352597],[-83.4871,45.358074],[-83.317314,45.144473],[-83.454238,45.029457],[-83.322791,44.88158],[-83.273499,44.711795],[-83.333745,44.339363],[-83.536392,44.246255],[-83.585684,44.054562],[-83.82667,43.988839],[-83.958116,43.758807],[-83.908824,43.671176],[-83.667839,43.589022],[-83.481623,43.714992],[-83.262545,43.972408],[-82.917498,44.070993],[-82.747713,43.994316],[-82.643651,43.851915],[-82.539589,43.435668],[-82.523158,43.227544],[-82.413619,42.975605],[-82.517681,42.614127],[-82.681989,42.559357],[-82.687466,42.690804],[-82.797005,42.652465],[-82.922975,42.351234],[-83.125621,42.236218],[-83.185868,42.006186],[-83.437807,41.814493],[-83.454238,41.732339]]],[[[-85.508091,45.730506],[-85.49166,45.610013],[-85.623106,45.588105],[-85.568337,45.75789],[-85.508091,45.730506]]],[[[-87.589328,45.095181],[-87.742682,45.199243],[-87.649574,45.341643],[-87.885083,45.363551],[-87.791975,45.500474],[-87.781021,45.675736],[-87.989145,45.796229],[-88.10416,45.922199],[-88.531362,46.020784],[-88.662808,45.987922],[-89.09001,46.135799],[-90.119674,46.338446],[-90.229213,46.508231],[-90.415429,46.568478],[-90.026566,46.672539],[-89.851304,46.793032],[-89.413149,46.842325],[-89.128348,46.990202],[-88.996902,46.995679],[-88.887363,47.099741],[-88.575177,47.247618],[-88.416346,47.373588],[-88.180837,47.455742],[-87.956283,47.384542],[-88.350623,47.077833],[-88.443731,46.973771],[-88.438254,46.787555],[-88.246561,46.929956],[-87.901513,46.908048],[-87.633143,46.809463],[-87.392158,46.535616],[-87.260711,46.486323],[-87.008772,46.530139],[-86.948526,46.469893],[-86.696587,46.437031],[-86.159846,46.667063],[-85.880522,46.68897],[-85.508091,46.678016],[-85.256151,46.754694],[-85.064458,46.760171],[-85.02612,46.480847],[-84.82895,46.442508],[-84.63178,46.486323],[-84.549626,46.4206],[-84.418179,46.502754],[-84.127902,46.530139],[-84.122425,46.179615],[-83.990978,46.031737],[-83.793808,45.993399],[-83.7719,46.091984],[-83.580208,46.091984],[-83.476146,45.987922],[-83.563777,45.911245],[-84.111471,45.976968],[-84.374364,45.933153],[-84.659165,46.053645],[-84.741319,45.944106],[-84.70298,45.850998],[-84.82895,45.872906],[-85.015166,46.00983],[-85.338305,46.091984],[-85.502614,46.097461],[-85.661445,45.966014],[-85.924338,45.933153],[-86.209139,45.960537],[-86.324155,45.905768],[-86.351539,45.796229],[-86.663725,45.703121],[-86.647294,45.834568],[-86.784218,45.861952],[-86.838987,45.725029],[-87.069019,45.719552],[-87.17308,45.659305],[-87.326435,45.423797],[-87.611236,45.122565],[-87.589328,45.095181]]],[[[-88.805209,47.976051],[-89.057148,47.850082],[-89.188594,47.833651],[-89.177641,47.937713],[-88.547792,48.173221],[-88.668285,48.008913],[-88.805209,47.976051]]]]},\"bbox\":[-90.415429,41.694001,-82.413619,48.173221]},{\"id\":\"Minnesota\",\"type\":\"Feature\",\"properties\":{},\"geometry\":{\"type\":\"Polygon\",\"coordinates\":[[[-92.014696,46.705401],[-92.091373,46.749217],[-92.29402,46.667063],[-92.29402,46.075553],[-92.354266,46.015307],[-92.639067,45.933153],[-92.869098,45.719552],[-92.885529,45.577151],[-92.770513,45.566198],[-92.644544,45.440228],[-92.75956,45.286874],[-92.737652,45.117088],[-92.808852,44.750133],[-92.545959,44.569394],[-92.337835,44.552964],[-92.233773,44.443425],[-91.927065,44.333886],[-91.877772,44.202439],[-91.592971,44.032654],[-91.43414,43.994316],[-91.242447,43.775238],[-91.269832,43.616407],[-91.215062,43.501391],[-91.368417,43.501391],[-96.451017,43.501391],[-96.451017,45.297827],[-96.681049,45.412843],[-96.856311,45.604536],[-96.582464,45.818137],[-96.560556,45.933153],[-96.598895,46.332969],[-96.719387,46.437031],[-96.801542,46.656109],[-96.785111,46.924479],[-96.823449,46.968294],[-96.856311,47.609096],[-97.053481,47.948667],[-97.130158,48.140359],[-97.16302,48.545653],[-97.097296,48.682577],[-97.228743,49.000239],[-95.152983,49.000239],[-95.152983,49.383625],[-94.955813,49.372671],[-94.824366,49.295994],[-94.69292,48.775685],[-94.588858,48.715438],[-94.260241,48.699007],[-94.221903,48.649715],[-93.838517,48.627807],[-93.794701,48.518268],[-93.466085,48.545653],[-93.466085,48.589469],[-93.208669,48.644238],[-92.984114,48.62233],[-92.726698,48.540176],[-92.655498,48.436114],[-92.50762,48.447068],[-92.370697,48.222514],[-92.304974,48.315622],[-92.053034,48.359437],[-92.009219,48.266329],[-91.713464,48.200606],[-91.713464,48.112975],[-91.565587,48.041775],[-91.264355,48.080113],[-91.083616,48.178698],[-90.837154,48.238944],[-90.749522,48.091067],[-90.579737,48.123929],[-90.377091,48.091067],[-90.141582,48.112975],[-89.873212,47.987005],[-89.615796,48.008913],[-89.637704,47.954144],[-89.971797,47.828174],[-90.437337,47.729589],[-90.738569,47.625527],[-91.171247,47.368111],[-91.357463,47.20928],[-91.642264,47.028541],[-92.091373,46.787555],[-92.014696,46.705401]]]},\"bbox\":[-97.228743,43.501391,-89.615796,49.383625]},{\"id\":\"Mississippi\",\"type\":\"Feature\",\"properties\":{},\"geometry\":{\"type\":\"Polygon\",\"coordinates\":[[[-88.471115,34.995703],[-88.202745,34.995703],[-88.098683,34.891641],[-88.241084,33.796253],[-88.471115,31.895754],[-88.394438,30.367688],[-88.503977,30.323872],[-88.744962,30.34578],[-88.843547,30.411504],[-89.084533,30.367688],[-89.418626,30.252672],[-89.522688,30.181472],[-89.643181,30.285534],[-89.681519,30.449842],[-89.845827,30.66892],[-89.747242,30.997536],[-91.636787,30.997536],[-91.565587,31.068736],[-91.636787,31.265906],[-91.516294,31.27686],[-91.499863,31.643815],[-91.401278,31.621907],[-91.341032,31.846462],[-91.105524,31.988862],[-90.985031,32.218894],[-91.006939,32.514649],[-91.154816,32.640618],[-91.143862,32.843265],[-91.072662,32.887081],[-91.16577,33.002096],[-91.089093,33.13902],[-91.143862,33.347144],[-91.056231,33.429298],[-91.231493,33.560744],[-91.072662,33.867453],[-90.891923,34.026284],[-90.952169,34.135823],[-90.744046,34.300131],[-90.749522,34.365854],[-90.568783,34.420624],[-90.585214,34.617794],[-90.481152,34.661609],[-90.409952,34.831394],[-90.251121,34.908072],[-90.311367,34.995703],[-88.471115,34.995703]]]},\"bbox\":[-91.636787,30.181472,-88.098683,34.995703]},{\"id\":\"Missouri\",\"type\":\"Feature\",\"properties\":{},\"geometry\":{\"type\":\"Polygon\",\"coordinates\":[[[-91.833957,40.609566],[-91.729895,40.615043],[-91.527248,40.412397],[-91.417709,40.379535],[-91.50534,40.237135],[-91.494386,40.034488],[-91.368417,39.727779],[-91.061708,39.470363],[-90.727615,39.256762],[-90.661891,38.928146],[-90.585214,38.867899],[-90.470199,38.961007],[-90.251121,38.917192],[-90.10872,38.845992],[-90.207305,38.725499],[-90.179921,38.632391],[-90.349706,38.374975],[-90.355183,38.216144],[-90.059428,38.013497],[-89.949889,37.88205],[-89.84035,37.903958],[-89.517211,37.690357],[-89.517211,37.537003],[-89.435057,37.34531],[-89.517211,37.279587],[-89.292656,36.994786],[-89.133825,36.983832],[-89.215979,36.578538],[-89.363857,36.622354],[-89.418626,36.496384],[-89.484349,36.496384],[-89.539119,36.496384],[-89.533642,36.249922],[-89.730812,35.997983],[-90.377091,35.997983],[-90.218259,36.184199],[-90.064905,36.304691],[-90.152536,36.496384],[-94.473842,36.501861],[-94.616242,36.501861],[-94.616242,37.000263],[-94.610765,39.158177],[-94.824366,39.20747],[-94.983197,39.442978],[-95.109167,39.541563],[-94.884612,39.831841],[-95.207752,39.908518],[-95.306337,40.001626],[-95.552799,40.264519],[-95.7664,40.587659],[-94.632673,40.571228],[-93.257961,40.582182],[-91.833957,40.609566]]]},\"bbox\":[-95.7664,35.997983,-89.133825,40.615043]},{\"id\":\"Montana\",\"type\":\"Feature\",\"properties\":{},\"geometry\":{\"type\":\"Polygon\",\"coordinates\":[[[-104.047534,49.000239],[-104.042057,47.861036],[-104.047534,45.944106],[-104.042057,44.996596],[-104.058488,44.996596],[-105.91517,45.002073],[-109.080842,45.002073],[-111.05254,45.002073],[-111.047063,44.476286],[-111.227803,44.580348],[-111.386634,44.75561],[-111.616665,44.547487],[-111.819312,44.509148],[-111.868605,44.563917],[-112.104113,44.520102],[-112.241036,44.569394],[-112.471068,44.481763],[-112.783254,44.48724],[-112.887315,44.394132],[-113.002331,44.448902],[-113.133778,44.772041],[-113.341901,44.782995],[-113.456917,44.865149],[-113.45144,45.056842],[-113.571933,45.128042],[-113.736241,45.330689],[-113.834826,45.522382],[-113.807441,45.604536],[-113.98818,45.703121],[-114.086765,45.593582],[-114.333228,45.456659],[-114.546828,45.560721],[-114.497536,45.670259],[-114.568736,45.774321],[-114.387997,45.88386],[-114.492059,46.037214],[-114.464674,46.272723],[-114.322274,46.645155],[-114.612552,46.639678],[-114.623506,46.705401],[-114.886399,46.809463],[-114.930214,46.919002],[-115.302646,47.187372],[-115.324554,47.258572],[-115.527201,47.302388],[-115.718894,47.42288],[-115.724371,47.696727],[-116.04751,47.976051],[-116.04751,49.000239],[-111.50165,48.994762],[-109.453274,49.000239],[-104.047534,49.000239]]]},\"bbox\":[-116.04751,44.394132,-104.042057,49.000239]},{\"id\":\"Nebraska\",\"type\":\"Feature\",\"properties\":{},\"geometry\":{\"type\":\"Polygon\",\"coordinates\":[[[-103.324578,43.002989],[-101.626726,42.997512],[-98.499393,42.997512],[-98.466531,42.94822],[-97.951699,42.767481],[-97.831206,42.866066],[-97.688806,42.844158],[-97.217789,42.844158],[-96.692003,42.657942],[-96.626279,42.515542],[-96.44554,42.488157],[-96.264801,42.039048],[-96.127878,41.973325],[-96.062155,41.798063],[-96.122401,41.67757],[-96.095016,41.540646],[-95.919754,41.453015],[-95.925231,41.201076],[-95.826646,40.976521],[-95.881416,40.719105],[-95.7664,40.587659],[-95.552799,40.264519],[-95.306337,40.001626],[-101.90605,40.001626],[-102.053927,40.001626],[-102.053927,41.003906],[-104.053011,41.003906],[-104.053011,43.002989],[-103.324578,43.002989]]]},\"bbox\":[-104.053011,40.001626,-95.306337,43.002989]},{\"id\":\"Nevada\",\"type\":\"Feature\",\"properties\":{},\"geometry\":{\"type\":\"Polygon\",\"coordinates\":[[[-117.027882,42.000709],[-114.04295,41.995232],[-114.048427,37.000263],[-114.048427,36.195153],[-114.152489,36.025367],[-114.251074,36.01989],[-114.371566,36.140383],[-114.738521,36.102045],[-114.678275,35.516012],[-114.596121,35.324319],[-114.574213,35.138103],[-114.634459,35.00118],[-115.85034,35.970598],[-116.540435,36.501861],[-117.498899,37.21934],[-118.71478,38.101128],[-120.001861,38.999346],[-119.996384,40.264519],[-120.001861,41.995232],[-118.698349,41.989755],[-117.027882,42.000709]]]},\"bbox\":[-120.001861,35.00118,-114.04295,42.000709]},{\"id\":\"New Hampshire\",\"type\":\"Feature\",\"properties\":{},\"geometry\":{\"type\":\"Polygon\",\"coordinates\":[[[-71.08183,45.303304],[-71.032537,44.657025],[-70.966814,43.34256],[-70.807983,43.227544],[-70.824413,43.128959],[-70.703921,43.057759],[-70.818936,42.871543],[-70.917521,42.887974],[-71.185891,42.789389],[-71.29543,42.696281],[-72.456542,42.729142],[-72.544173,42.80582],[-72.533219,42.953697],[-72.445588,43.008466],[-72.456542,43.150867],[-72.379864,43.572591],[-72.204602,43.769761],[-72.116971,43.994316],[-72.02934,44.07647],[-72.034817,44.322932],[-71.700724,44.41604],[-71.536416,44.585825],[-71.629524,44.750133],[-71.4926,44.914442],[-71.503554,45.013027],[-71.361154,45.270443],[-71.131122,45.243058],[-71.08183,45.303304]]]},\"bbox\":[-72.544173,42.696281,-70.703921,45.303304]},{\"id\":\"New Jersey\",\"type\":\"Feature\",\"properties\":{},\"geometry\":{\"type\":\"Polygon\",\"coordinates\":[[[-74.236547,41.14083],[-73.902454,40.998429],[-74.022947,40.708151],[-74.187255,40.642428],[-74.274886,40.489074],[-74.001039,40.412397],[-73.979131,40.297381],[-74.099624,39.760641],[-74.411809,39.360824],[-74.614456,39.245808],[-74.795195,38.993869],[-74.888303,39.158177],[-75.178581,39.240331],[-75.534582,39.459409],[-75.55649,39.607286],[-75.561967,39.629194],[-75.507197,39.683964],[-75.414089,39.804456],[-75.145719,39.88661],[-75.129289,39.963288],[-74.82258,40.127596],[-74.773287,40.215227],[-75.058088,40.417874],[-75.069042,40.543843],[-75.195012,40.576705],[-75.205966,40.691721],[-75.052611,40.866983],[-75.134765,40.971045],[-74.882826,41.179168],[-74.828057,41.288707],[-74.69661,41.359907],[-74.236547,41.14083]]]},\"bbox\":[-75.561967,38.993869,-73.902454,41.359907]},{\"id\":\"New Mexico\",\"type\":\"Feature\",\"properties\":{},\"geometry\":{\"type\":\"Polygon\",\"coordinates\":[[[-107.421329,37.000263],[-106.868158,36.994786],[-104.337812,36.994786],[-103.001438,37.000263],[-103.001438,36.501861],[-103.039777,36.501861],[-103.045254,34.01533],[-103.067161,33.002096],[-103.067161,31.999816],[-106.616219,31.999816],[-106.643603,31.901231],[-106.528588,31.786216],[-108.210008,31.786216],[-108.210008,31.331629],[-109.04798,31.331629],[-109.042503,37.000263],[-107.421329,37.000263]]]},\"bbox\":[-109.04798,31.331629,-103.001438,37.000263]},{\"id\":\"New York\",\"type\":\"Feature\",\"properties\":{},\"geometry\":{\"type\":\"Polygon\",\"coordinates\":[[[-73.343806,45.013027],[-73.332852,44.804903],[-73.387622,44.618687],[-73.294514,44.437948],[-73.321898,44.246255],[-73.436914,44.043608],[-73.349283,43.769761],[-73.404052,43.687607],[-73.245221,43.523299],[-73.278083,42.833204],[-73.267129,42.745573],[-73.508114,42.08834],[-73.486206,42.050002],[-73.55193,41.294184],[-73.48073,41.21203],[-73.727192,41.102491],[-73.655992,40.987475],[-73.22879,40.905321],[-73.141159,40.965568],[-72.774204,40.965568],[-72.587988,40.998429],[-72.28128,41.157261],[-72.259372,41.042245],[-72.100541,40.992952],[-72.467496,40.845075],[-73.239744,40.625997],[-73.562884,40.582182],[-73.776484,40.593136],[-73.935316,40.543843],[-74.022947,40.708151],[-73.902454,40.998429],[-74.236547,41.14083],[-74.69661,41.359907],[-74.740426,41.431108],[-74.89378,41.436584],[-75.074519,41.60637],[-75.052611,41.754247],[-75.173104,41.869263],[-75.249781,41.863786],[-75.35932,42.000709],[-79.76278,42.000709],[-79.76278,42.252649],[-79.76278,42.269079],[-79.149363,42.55388],[-79.050778,42.690804],[-78.853608,42.783912],[-78.930285,42.953697],[-79.012439,42.986559],[-79.072686,43.260406],[-78.486653,43.375421],[-77.966344,43.369944],[-77.75822,43.34256],[-77.533665,43.233021],[-77.391265,43.276836],[-76.958587,43.271359],[-76.695693,43.34256],[-76.41637,43.523299],[-76.235631,43.528776],[-76.230154,43.802623],[-76.137046,43.961454],[-76.3616,44.070993],[-76.312308,44.196962],[-75.912491,44.366748],[-75.764614,44.514625],[-75.282643,44.848718],[-74.828057,45.018503],[-74.148916,44.991119],[-73.343806,45.013027]]]},\"bbox\":[-79.76278,40.543843,-72.100541,45.018503]},{\"id\":\"North Carolina\",\"type\":\"Feature\",\"properties\":{},\"geometry\":{\"type\":\"Polygon\",\"coordinates\":[[[-80.978661,36.562108],[-80.294043,36.545677],[-79.510841,36.5402],[-75.868676,36.551154],[-75.75366,36.151337],[-76.032984,36.189676],[-76.071322,36.140383],[-76.410893,36.080137],[-76.460185,36.025367],[-76.68474,36.008937],[-76.673786,35.937736],[-76.399939,35.987029],[-76.3616,35.943213],[-76.060368,35.992506],[-75.961783,35.899398],[-75.781044,35.937736],[-75.715321,35.696751],[-75.775568,35.581735],[-75.89606,35.570781],[-76.147999,35.324319],[-76.482093,35.313365],[-76.536862,35.14358],[-76.394462,34.973795],[-76.279446,34.940933],[-76.493047,34.661609],[-76.673786,34.694471],[-76.991448,34.667086],[-77.210526,34.60684],[-77.555573,34.415147],[-77.82942,34.163208],[-77.971821,33.845545],[-78.179944,33.916745],[-78.541422,33.851022],[-79.675149,34.80401],[-80.797922,34.820441],[-80.781491,34.935456],[-80.934845,35.105241],[-81.038907,35.044995],[-81.044384,35.149057],[-82.276696,35.198349],[-82.550543,35.160011],[-82.764143,35.066903],[-83.109191,35.00118],[-83.618546,34.984749],[-84.319594,34.990226],[-84.29221,35.225734],[-84.09504,35.247642],[-84.018363,35.41195],[-83.7719,35.559827],[-83.498053,35.565304],[-83.251591,35.718659],[-82.994175,35.773428],[-82.775097,35.997983],[-82.638174,36.063706],[-82.610789,35.965121],[-82.216449,36.156814],[-82.03571,36.118475],[-81.909741,36.304691],[-81.723525,36.353984],[-81.679709,36.589492],[-80.978661,36.562108]]]},\"bbox\":[-84.319594,33.845545,-75.715321,36.589492]},{\"id\":\"North Dakota\",\"type\":\"Feature\",\"properties\":{},\"geometry\":{\"type\":\"Polygon\",\"coordinates\":[[[-97.228743,49.000239],[-97.097296,48.682577],[-97.16302,48.545653],[-97.130158,48.140359],[-97.053481,47.948667],[-96.856311,47.609096],[-96.823449,46.968294],[-96.785111,46.924479],[-96.801542,46.656109],[-96.719387,46.437031],[-96.598895,46.332969],[-96.560556,45.933153],[-104.047534,45.944106],[-104.042057,47.861036],[-104.047534,49.000239],[-97.228743,49.000239]]]},\"bbox\":[-104.047534,45.933153,-96.560556,49.000239]},{\"id\":\"Ohio\",\"type\":\"Feature\",\"properties\":{},\"geometry\":{\"type\":\"Polygon\",\"coordinates\":[[[-80.518598,41.978802],[-80.518598,40.636951],[-80.666475,40.582182],[-80.595275,40.472643],[-80.600752,40.319289],[-80.737675,40.078303],[-80.830783,39.711348],[-81.219646,39.388209],[-81.345616,39.344393],[-81.455155,39.410117],[-81.57017,39.267716],[-81.685186,39.273193],[-81.811156,39.0815],[-81.783771,38.966484],[-81.887833,38.873376],[-82.03571,39.026731],[-82.221926,38.785745],[-82.172634,38.632391],[-82.293127,38.577622],[-82.331465,38.446175],[-82.594358,38.424267],[-82.731282,38.561191],[-82.846298,38.588575],[-82.890113,38.758361],[-83.032514,38.725499],[-83.142052,38.626914],[-83.519961,38.703591],[-83.678792,38.632391],[-83.903347,38.769315],[-84.215533,38.807653],[-84.231963,38.895284],[-84.43461,39.103408],[-84.817996,39.103408],[-84.801565,40.500028],[-84.807042,41.694001],[-83.454238,41.732339],[-83.065375,41.595416],[-82.933929,41.513262],[-82.835344,41.589939],[-82.616266,41.431108],[-82.479343,41.381815],[-82.013803,41.513262],[-81.739956,41.485877],[-81.444201,41.672093],[-81.011523,41.852832],[-80.518598,41.978802],[-80.518598,41.978802]]]},\"bbox\":[-84.817996,38.424267,-80.518598,41.978802]},{\"id\":\"Oklahoma\",\"type\":\"Feature\",\"properties\":{},\"geometry\":{\"type\":\"Polygon\",\"coordinates\":[[[-100.087706,37.000263],[-94.616242,37.000263],[-94.616242,36.501861],[-94.430026,35.395519],[-94.484796,33.637421],[-94.868182,33.74696],[-94.966767,33.861976],[-95.224183,33.960561],[-95.289906,33.87293],[-95.547322,33.878407],[-95.602092,33.933176],[-95.8376,33.834591],[-95.936185,33.889361],[-96.149786,33.840068],[-96.346956,33.686714],[-96.423633,33.774345],[-96.631756,33.845545],[-96.850834,33.845545],[-96.922034,33.960561],[-97.173974,33.736006],[-97.256128,33.861976],[-97.371143,33.823637],[-97.458774,33.905791],[-97.694283,33.982469],[-97.869545,33.851022],[-97.946222,33.987946],[-98.088623,34.004376],[-98.170777,34.113915],[-98.36247,34.157731],[-98.488439,34.064623],[-98.570593,34.146777],[-98.767763,34.135823],[-98.986841,34.223454],[-99.189488,34.2125],[-99.260688,34.404193],[-99.57835,34.415147],[-99.698843,34.382285],[-99.923398,34.573978],[-100.000075,34.563024],[-100.000075,36.501861],[-101.812942,36.501861],[-103.001438,36.501861],[-103.001438,37.000263],[-102.042974,36.994786],[-100.087706,37.000263]]]},\"bbox\":[-103.001438,33.637421,-94.430026,37.000263]},{\"id\":\"Oregon\",\"type\":\"Feature\",\"properties\":{},\"geometry\":{\"type\":\"Polygon\",\"coordinates\":[[[-123.211348,46.174138],[-123.11824,46.185092],[-122.904639,46.08103],[-122.811531,45.960537],[-122.762239,45.659305],[-122.247407,45.549767],[-121.809251,45.708598],[-121.535404,45.725029],[-121.217742,45.670259],[-121.18488,45.604536],[-120.637186,45.746937],[-120.505739,45.697644],[-120.209985,45.725029],[-119.963522,45.823614],[-119.525367,45.911245],[-119.125551,45.933153],[-118.988627,45.998876],[-116.918344,45.993399],[-116.78142,45.823614],[-116.545912,45.752413],[-116.463758,45.61549],[-116.671881,45.319735],[-116.732128,45.144473],[-116.847143,45.02398],[-116.830713,44.930872],[-116.934774,44.782995],[-117.038836,44.750133],[-117.241483,44.394132],[-117.170283,44.257209],[-116.97859,44.240778],[-116.896436,44.158624],[-117.027882,43.830007],[-117.027882,42.000709],[-118.698349,41.989755],[-120.001861,41.995232],[-121.037003,41.995232],[-122.378853,42.011663],[-123.233256,42.006186],[-124.213628,42.000709],[-124.356029,42.115725],[-124.432706,42.438865],[-124.416275,42.663419],[-124.553198,42.838681],[-124.454613,43.002989],[-124.383413,43.271359],[-124.235536,43.55616],[-124.169813,43.8081],[-124.060274,44.657025],[-124.076705,44.772041],[-123.97812,45.144473],[-123.939781,45.659305],[-123.994551,45.944106],[-123.945258,46.113892],[-123.545441,46.261769],[-123.370179,46.146753],[-123.211348,46.174138]]]},\"bbox\":[-124.553198,41.989755,-116.463758,46.261769]},{\"id\":\"Pennsylvania\",\"type\":\"Feature\",\"properties\":{},\"geometry\":{\"type\":\"Polygon\",\"coordinates\":[[[-79.76278,42.252649],[-79.76278,42.000709],[-75.35932,42.000709],[-75.249781,41.863786],[-75.173104,41.869263],[-75.052611,41.754247],[-75.074519,41.60637],[-74.89378,41.436584],[-74.740426,41.431108],[-74.69661,41.359907],[-74.828057,41.288707],[-74.882826,41.179168],[-75.134765,40.971045],[-75.052611,40.866983],[-75.205966,40.691721],[-75.195012,40.576705],[-75.069042,40.543843],[-75.058088,40.417874],[-74.773287,40.215227],[-74.82258,40.127596],[-75.129289,39.963288],[-75.145719,39.88661],[-75.414089,39.804456],[-75.616736,39.831841],[-75.786521,39.722302],[-79.477979,39.722302],[-80.518598,39.722302],[-80.518598,40.636951],[-80.518598,41.978802],[-80.518598,41.978802],[-80.332382,42.033571],[-79.76278,42.269079],[-79.76278,42.252649]]]},\"bbox\":[-80.518598,39.722302,-74.69661,42.269079]},{\"id\":\"Rhode Island\",\"type\":\"Feature\",\"properties\":{},\"geometry\":{\"type\":\"MultiPolygon\",\"coordinates\":[[[[-71.196845,41.67757],[-71.120168,41.496831],[-71.317338,41.474923],[-71.196845,41.67757]]],[[[-71.530939,42.01714],[-71.383061,42.01714],[-71.328292,41.781632],[-71.22423,41.710431],[-71.344723,41.726862],[-71.448785,41.578985],[-71.481646,41.370861],[-71.859555,41.321569],[-71.799309,41.414677],[-71.799309,42.006186],[-71.530939,42.01714]]]]},\"bbox\":[-71.859555,41.321569,-71.120168,42.01714]},{\"id\":\"South Carolina\",\"type\":\"Feature\",\"properties\":{},\"geometry\":{\"type\":\"Polygon\",\"coordinates\":[[[-82.764143,35.066903],[-82.550543,35.160011],[-82.276696,35.198349],[-81.044384,35.149057],[-81.038907,35.044995],[-80.934845,35.105241],[-80.781491,34.935456],[-80.797922,34.820441],[-79.675149,34.80401],[-78.541422,33.851022],[-78.716684,33.80173],[-78.935762,33.637421],[-79.149363,33.380005],[-79.187701,33.171881],[-79.357487,33.007573],[-79.582041,33.007573],[-79.631334,32.887081],[-79.866842,32.755634],[-79.998289,32.613234],[-80.206412,32.552987],[-80.430967,32.399633],[-80.452875,32.328433],[-80.660998,32.246279],[-80.885553,32.032678],[-81.115584,32.120309],[-81.121061,32.290094],[-81.279893,32.558464],[-81.416816,32.629664],[-81.42777,32.843265],[-81.493493,33.007573],[-81.761863,33.160928],[-81.937125,33.347144],[-81.926172,33.462159],[-82.194542,33.631944],[-82.325988,33.81816],[-82.55602,33.94413],[-82.714851,34.152254],[-82.747713,34.26727],[-82.901067,34.486347],[-83.005129,34.469916],[-83.339222,34.683517],[-83.322791,34.787579],[-83.109191,35.00118],[-82.764143,35.066903]]]},\"bbox\":[-83.339222,32.032678,-78.541422,35.198349]},{\"id\":\"South Dakota\",\"type\":\"Feature\",\"properties\":{},\"geometry\":{\"type\":\"Polygon\",\"coordinates\":[[[-104.047534,45.944106],[-96.560556,45.933153],[-96.582464,45.818137],[-96.856311,45.604536],[-96.681049,45.412843],[-96.451017,45.297827],[-96.451017,43.501391],[-96.582464,43.479483],[-96.527695,43.397329],[-96.560556,43.222067],[-96.434587,43.123482],[-96.511264,43.052282],[-96.544125,42.855112],[-96.631756,42.707235],[-96.44554,42.488157],[-96.626279,42.515542],[-96.692003,42.657942],[-97.217789,42.844158],[-97.688806,42.844158],[-97.831206,42.866066],[-97.951699,42.767481],[-98.466531,42.94822],[-98.499393,42.997512],[-101.626726,42.997512],[-103.324578,43.002989],[-104.053011,43.002989],[-104.058488,44.996596],[-104.042057,44.996596],[-104.047534,45.944106]]]},\"bbox\":[-104.058488,42.488157,-96.434587,45.944106]},{\"id\":\"Tennessee\",\"type\":\"Feature\",\"properties\":{},\"geometry\":{\"type\":\"Polygon\",\"coordinates\":[[[-88.054868,36.496384],[-88.071299,36.677123],[-87.852221,36.633308],[-86.592525,36.655216],[-85.486183,36.616877],[-85.289013,36.627831],[-84.544149,36.594969],[-83.689746,36.584015],[-83.673316,36.600446],[-81.679709,36.589492],[-81.723525,36.353984],[-81.909741,36.304691],[-82.03571,36.118475],[-82.216449,36.156814],[-82.610789,35.965121],[-82.638174,36.063706],[-82.775097,35.997983],[-82.994175,35.773428],[-83.251591,35.718659],[-83.498053,35.565304],[-83.7719,35.559827],[-84.018363,35.41195],[-84.09504,35.247642],[-84.29221,35.225734],[-84.319594,34.990226],[-85.606675,34.984749],[-87.359296,35.00118],[-88.202745,34.995703],[-88.471115,34.995703],[-90.311367,34.995703],[-90.212782,35.023087],[-90.114197,35.198349],[-90.130628,35.439335],[-89.944412,35.603643],[-89.911551,35.756997],[-89.763673,35.811767],[-89.730812,35.997983],[-89.533642,36.249922],[-89.539119,36.496384],[-89.484349,36.496384],[-89.418626,36.496384],[-89.298133,36.507338],[-88.054868,36.496384]]]},\"bbox\":[-90.311367,34.984749,-81.679709,36.677123]},{\"id\":\"Texas\",\"type\":\"Feature\",\"properties\":{},\"geometry\":{\"type\":\"Polygon\",\"coordinates\":[[[-101.812942,36.501861],[-100.000075,36.501861],[-100.000075,34.563024],[-99.923398,34.573978],[-99.698843,34.382285],[-99.57835,34.415147],[-99.260688,34.404193],[-99.189488,34.2125],[-98.986841,34.223454],[-98.767763,34.135823],[-98.570593,34.146777],[-98.488439,34.064623],[-98.36247,34.157731],[-98.170777,34.113915],[-98.088623,34.004376],[-97.946222,33.987946],[-97.869545,33.851022],[-97.694283,33.982469],[-97.458774,33.905791],[-97.371143,33.823637],[-97.256128,33.861976],[-97.173974,33.736006],[-96.922034,33.960561],[-96.850834,33.845545],[-96.631756,33.845545],[-96.423633,33.774345],[-96.346956,33.686714],[-96.149786,33.840068],[-95.936185,33.889361],[-95.8376,33.834591],[-95.602092,33.933176],[-95.547322,33.878407],[-95.289906,33.87293],[-95.224183,33.960561],[-94.966767,33.861976],[-94.868182,33.74696],[-94.484796,33.637421],[-94.380734,33.544313],[-94.183564,33.593606],[-94.041164,33.54979],[-94.041164,33.018527],[-94.041164,31.994339],[-93.822086,31.775262],[-93.816609,31.556184],[-93.542762,31.15089],[-93.526331,30.93729],[-93.630393,30.679874],[-93.728978,30.575812],[-93.696116,30.438888],[-93.767317,30.334826],[-93.690639,30.143133],[-93.926148,29.787132],[-93.838517,29.688547],[-94.002825,29.68307],[-94.523134,29.546147],[-94.70935,29.622824],[-94.742212,29.787132],[-94.873659,29.672117],[-94.966767,29.699501],[-95.016059,29.557101],[-94.911997,29.496854],[-94.895566,29.310638],[-95.081782,29.113469],[-95.383014,28.867006],[-95.985477,28.604113],[-96.045724,28.647929],[-96.226463,28.582205],[-96.23194,28.642452],[-96.478402,28.598636],[-96.593418,28.724606],[-96.664618,28.697221],[-96.401725,28.439805],[-96.593418,28.357651],[-96.774157,28.406943],[-96.801542,28.226204],[-97.026096,28.039988],[-97.256128,27.694941],[-97.404005,27.333463],[-97.513544,27.360848],[-97.540929,27.229401],[-97.425913,27.262263],[-97.480682,26.99937],[-97.557359,26.988416],[-97.562836,26.840538],[-97.469728,26.758384],[-97.442344,26.457153],[-97.332805,26.353091],[-97.30542,26.161398],[-97.217789,25.991613],[-97.524498,25.887551],[-97.650467,26.018997],[-97.885976,26.06829],[-98.198161,26.057336],[-98.466531,26.221644],[-98.669178,26.238075],[-98.822533,26.369522],[-99.030656,26.413337],[-99.173057,26.539307],[-99.266165,26.840538],[-99.446904,27.021277],[-99.424996,27.174632],[-99.50715,27.33894],[-99.479765,27.48134],[-99.605735,27.640172],[-99.709797,27.656603],[-99.879582,27.799003],[-99.934351,27.979742],[-100.082229,28.14405],[-100.29583,28.280974],[-100.399891,28.582205],[-100.498476,28.66436],[-100.629923,28.905345],[-100.673738,29.102515],[-100.799708,29.244915],[-101.013309,29.370885],[-101.062601,29.458516],[-101.259771,29.535193],[-101.413125,29.754271],[-101.851281,29.803563],[-102.114174,29.792609],[-102.338728,29.869286],[-102.388021,29.765225],[-102.629006,29.732363],[-102.809745,29.524239],[-102.919284,29.190146],[-102.97953,29.184669],[-103.116454,28.987499],[-103.280762,28.982022],[-103.527224,29.135376],[-104.146119,29.381839],[-104.266611,29.513285],[-104.507597,29.639255],[-104.677382,29.924056],[-104.688336,30.181472],[-104.858121,30.389596],[-104.896459,30.570335],[-105.005998,30.685351],[-105.394861,30.855136],[-105.602985,31.085167],[-105.77277,31.167321],[-105.953509,31.364491],[-106.205448,31.468553],[-106.38071,31.731446],[-106.528588,31.786216],[-106.643603,31.901231],[-106.616219,31.999816],[-103.067161,31.999816],[-103.067161,33.002096],[-103.045254,34.01533],[-103.039777,36.501861],[-103.001438,36.501861],[-101.812942,36.501861]]]},\"bbox\":[-106.643603,25.887551,-93.526331,36.501861]},{\"id\":\"Utah\",\"type\":\"Feature\",\"properties\":{},\"geometry\":{\"type\":\"Polygon\",\"coordinates\":[[[-112.164359,41.995232],[-111.047063,42.000709],[-111.047063,40.998429],[-109.04798,40.998429],[-109.053457,39.125316],[-109.058934,38.27639],[-109.042503,38.166851],[-109.042503,37.000263],[-110.499369,37.00574],[-114.048427,37.000263],[-114.04295,41.995232],[-112.164359,41.995232]]]},\"bbox\":[-114.048427,37.000263,-109.042503,42.000709]},{\"id\":\"Vermont\",\"type\":\"Feature\",\"properties\":{},\"geometry\":{\"type\":\"Polygon\",\"coordinates\":[[[-71.503554,45.013027],[-71.4926,44.914442],[-71.629524,44.750133],[-71.536416,44.585825],[-71.700724,44.41604],[-72.034817,44.322932],[-72.02934,44.07647],[-72.116971,43.994316],[-72.204602,43.769761],[-72.379864,43.572591],[-72.456542,43.150867],[-72.445588,43.008466],[-72.533219,42.953697],[-72.544173,42.80582],[-72.456542,42.729142],[-73.267129,42.745573],[-73.278083,42.833204],[-73.245221,43.523299],[-73.404052,43.687607],[-73.349283,43.769761],[-73.436914,44.043608],[-73.321898,44.246255],[-73.294514,44.437948],[-73.387622,44.618687],[-73.332852,44.804903],[-73.343806,45.013027],[-72.308664,45.002073],[-71.503554,45.013027]]]},\"bbox\":[-73.436914,42.729142,-71.4926,45.013027]},{\"id\":\"Virginia\",\"type\":\"Feature\",\"properties\":{},\"geometry\":{\"type\":\"MultiPolygon\",\"coordinates\":[[[[-75.397659,38.013497],[-75.244304,38.029928],[-75.375751,37.860142],[-75.512674,37.799896],[-75.594828,37.569865],[-75.802952,37.197433],[-75.972737,37.120755],[-76.027507,37.257679],[-75.939876,37.564388],[-75.671506,37.95325],[-75.397659,38.013497]]],[[[-76.016553,37.95325],[-75.994645,37.95325],[-76.043938,37.95325],[-76.016553,37.95325]]],[[[-78.349729,39.464886],[-77.82942,39.130793],[-77.719881,39.322485],[-77.566527,39.306055],[-77.456988,39.223901],[-77.456988,39.076023],[-77.248864,39.026731],[-77.117418,38.933623],[-77.040741,38.791222],[-77.128372,38.632391],[-77.248864,38.588575],[-77.325542,38.446175],[-77.281726,38.342113],[-77.013356,38.374975],[-76.964064,38.216144],[-76.613539,38.15042],[-76.514954,38.024451],[-76.235631,37.887527],[-76.3616,37.608203],[-76.246584,37.389126],[-76.383508,37.285064],[-76.399939,37.159094],[-76.273969,37.082417],[-76.410893,36.961924],[-76.619016,37.120755],[-76.668309,37.065986],[-76.48757,36.95097],[-75.994645,36.923586],[-75.868676,36.551154],[-79.510841,36.5402],[-80.294043,36.545677],[-80.978661,36.562108],[-81.679709,36.589492],[-83.673316,36.600446],[-83.136575,36.742847],[-83.070852,36.852385],[-82.879159,36.890724],[-82.868205,36.978355],[-82.720328,37.044078],[-82.720328,37.120755],[-82.353373,37.268633],[-81.969987,37.537003],[-81.986418,37.454849],[-81.849494,37.285064],[-81.679709,37.20291],[-81.55374,37.208387],[-81.362047,37.339833],[-81.225123,37.235771],[-80.967707,37.290541],[-80.513121,37.482234],[-80.474782,37.421987],[-80.29952,37.509618],[-80.294043,37.690357],[-80.184505,37.849189],[-79.998289,37.997066],[-79.921611,38.177805],[-79.724442,38.364021],[-79.647764,38.594052],[-79.477979,38.457129],[-79.313671,38.413313],[-79.209609,38.495467],[-78.996008,38.851469],[-78.870039,38.763838],[-78.404499,39.169131],[-78.349729,39.464886]]]]},\"bbox\":[-83.673316,36.5402,-75.244304,39.464886]},{\"id\":\"Washington\",\"type\":\"Feature\",\"properties\":{},\"geometry\":{\"type\":\"MultiPolygon\",\"coordinates\":[[[[-117.033359,49.000239],[-117.044313,47.762451],[-117.038836,46.426077],[-117.055267,46.343923],[-116.92382,46.168661],[-116.918344,45.993399],[-118.988627,45.998876],[-119.125551,45.933153],[-119.525367,45.911245],[-119.963522,45.823614],[-120.209985,45.725029],[-120.505739,45.697644],[-120.637186,45.746937],[-121.18488,45.604536],[-121.217742,45.670259],[-121.535404,45.725029],[-121.809251,45.708598],[-122.247407,45.549767],[-122.762239,45.659305],[-122.811531,45.960537],[-122.904639,46.08103],[-123.11824,46.185092],[-123.211348,46.174138],[-123.370179,46.146753],[-123.545441,46.261769],[-123.72618,46.300108],[-123.874058,46.239861],[-124.065751,46.327492],[-124.027412,46.464416],[-123.895966,46.535616],[-124.098612,46.74374],[-124.235536,47.285957],[-124.31769,47.357157],[-124.427229,47.740543],[-124.624399,47.88842],[-124.706553,48.184175],[-124.597014,48.381345],[-124.394367,48.288237],[-123.983597,48.162267],[-123.704273,48.167744],[-123.424949,48.118452],[-123.162056,48.167744],[-123.036086,48.080113],[-122.800578,48.08559],[-122.636269,47.866512],[-122.515777,47.882943],[-122.493869,47.587189],[-122.422669,47.318818],[-122.324084,47.346203],[-122.422669,47.576235],[-122.395284,47.800789],[-122.230976,48.030821],[-122.362422,48.123929],[-122.373376,48.288237],[-122.471961,48.468976],[-122.422669,48.600422],[-122.488392,48.753777],[-122.647223,48.775685],[-122.795101,48.8907],[-122.756762,49.000239],[-117.033359,49.000239]]],[[[-122.718423,48.310145],[-122.586977,48.35396],[-122.608885,48.151313],[-122.767716,48.227991],[-122.718423,48.310145]]],[[[-123.025132,48.583992],[-122.915593,48.715438],[-122.767716,48.556607],[-122.811531,48.419683],[-123.041563,48.458022],[-123.025132,48.583992]]]]},\"bbox\":[-124.706553,45.549767,-116.918344,49.000239]},{\"id\":\"West Virginia\",\"type\":\"Feature\",\"properties\":{},\"geometry\":{\"type\":\"Polygon\",\"coordinates\":[[[-80.518598,40.636951],[-80.518598,39.722302],[-79.477979,39.722302],[-79.488933,39.20747],[-79.291763,39.300578],[-79.094593,39.470363],[-78.963147,39.437501],[-78.765977,39.585379],[-78.470222,39.514178],[-78.431884,39.623717],[-78.267575,39.61824],[-78.174467,39.694917],[-78.004682,39.601809],[-77.834897,39.601809],[-77.719881,39.322485],[-77.82942,39.130793],[-78.349729,39.464886],[-78.404499,39.169131],[-78.870039,38.763838],[-78.996008,38.851469],[-79.209609,38.495467],[-79.313671,38.413313],[-79.477979,38.457129],[-79.647764,38.594052],[-79.724442,38.364021],[-79.921611,38.177805],[-79.998289,37.997066],[-80.184505,37.849189],[-80.294043,37.690357],[-80.29952,37.509618],[-80.474782,37.421987],[-80.513121,37.482234],[-80.967707,37.290541],[-81.225123,37.235771],[-81.362047,37.339833],[-81.55374,37.208387],[-81.679709,37.20291],[-81.849494,37.285064],[-81.986418,37.454849],[-81.969987,37.537003],[-82.101434,37.553434],[-82.293127,37.668449],[-82.342419,37.783465],[-82.50125,37.931343],[-82.621743,38.123036],[-82.594358,38.424267],[-82.331465,38.446175],[-82.293127,38.577622],[-82.172634,38.632391],[-82.221926,38.785745],[-82.03571,39.026731],[-81.887833,38.873376],[-81.783771,38.966484],[-81.811156,39.0815],[-81.685186,39.273193],[-81.57017,39.267716],[-81.455155,39.410117],[-81.345616,39.344393],[-81.219646,39.388209],[-80.830783,39.711348],[-80.737675,40.078303],[-80.600752,40.319289],[-80.595275,40.472643],[-80.666475,40.582182],[-80.518598,40.636951]]]},\"bbox\":[-82.621743,37.20291,-77.719881,40.636951]},{\"id\":\"Wisconsin\",\"type\":\"Feature\",\"properties\":{},\"geometry\":{\"type\":\"Polygon\",\"coordinates\":[[[-90.415429,46.568478],[-90.229213,46.508231],[-90.119674,46.338446],[-89.09001,46.135799],[-88.662808,45.987922],[-88.531362,46.020784],[-88.10416,45.922199],[-87.989145,45.796229],[-87.781021,45.675736],[-87.791975,45.500474],[-87.885083,45.363551],[-87.649574,45.341643],[-87.742682,45.199243],[-87.589328,45.095181],[-87.627666,44.974688],[-87.819359,44.95278],[-87.983668,44.722749],[-88.043914,44.563917],[-87.928898,44.536533],[-87.775544,44.640595],[-87.611236,44.837764],[-87.403112,44.914442],[-87.238804,45.166381],[-87.03068,45.22115],[-87.047111,45.089704],[-87.189511,44.969211],[-87.468835,44.552964],[-87.545512,44.322932],[-87.540035,44.158624],[-87.644097,44.103854],[-87.737205,43.8793],[-87.704344,43.687607],[-87.791975,43.561637],[-87.912467,43.249452],[-87.885083,43.002989],[-87.76459,42.783912],[-87.802929,42.493634],[-88.788778,42.493634],[-90.639984,42.510065],[-90.711184,42.636034],[-91.067185,42.75105],[-91.143862,42.909881],[-91.176724,43.134436],[-91.056231,43.254929],[-91.204109,43.353514],[-91.215062,43.501391],[-91.269832,43.616407],[-91.242447,43.775238],[-91.43414,43.994316],[-91.592971,44.032654],[-91.877772,44.202439],[-91.927065,44.333886],[-92.233773,44.443425],[-92.337835,44.552964],[-92.545959,44.569394],[-92.808852,44.750133],[-92.737652,45.117088],[-92.75956,45.286874],[-92.644544,45.440228],[-92.770513,45.566198],[-92.885529,45.577151],[-92.869098,45.719552],[-92.639067,45.933153],[-92.354266,46.015307],[-92.29402,46.075553],[-92.29402,46.667063],[-92.091373,46.749217],[-92.014696,46.705401],[-91.790141,46.694447],[-91.09457,46.864232],[-90.837154,46.95734],[-90.749522,46.88614],[-90.886446,46.754694],[-90.55783,46.584908],[-90.415429,46.568478]]]},\"bbox\":[-92.885529,42.493634,-87.03068,46.95734]},{\"id\":\"Wyoming\",\"type\":\"Feature\",\"properties\":{},\"geometry\":{\"type\":\"Polygon\",\"coordinates\":[[[-109.080842,45.002073],[-105.91517,45.002073],[-104.058488,44.996596],[-104.053011,43.002989],[-104.053011,41.003906],[-105.728954,40.998429],[-107.919731,41.003906],[-109.04798,40.998429],[-111.047063,40.998429],[-111.047063,42.000709],[-111.047063,44.476286],[-111.05254,45.002073],[-109.080842,45.002073]]]},\"bbox\":[-111.05254,40.998429,-104.053011,45.002073]}],\"bbox\":[-188.90491,18.948267,-66.979601,71.351633]},\"hovertemplate\":\"State=%{location}\\u003cbr\\u003eCivilian Population=%{z}\\u003cextra\\u003e\\u003c\\u002fextra\\u003e\",\"locations\":[\"Alabama\",\"Alaska\",\"Arizona\",\"Arkansas\",\"California\",\"Colorado\",\"Connecticut\",\"Delaware\",\"District of Columbia\",\"Florida\",\"Georgia\",\"Hawaii\",\"Idaho\",\"Illinois\",\"Indiana\",\"Iowa\",\"Kansas\",\"Kentucky\",\"Louisiana\",\"Maine\",\"Maryland\",\"Massachusetts\",\"Michigan\",\"Minnesota\",\"Mississippi\",\"Missouri\",\"Montana\",\"Nebraska\",\"Nevada\",\"New Hampshire\",\"New Jersey\",\"New Mexico\",\"New York\",\"North Carolina\",\"North Dakota\",\"Ohio\",\"Oklahoma\",\"Oregon\",\"Pennsylvania\",\"Rhode Island\",\"South Carolina\",\"South Dakota\",\"Tennessee\",\"Texas\",\"Utah\",\"Vermont\",\"Virginia\",\"Washington\",\"West Virginia\",\"Wisconsin\",\"Wyoming\"],\"marker\":{\"opacity\":0.5},\"name\":\"\",\"subplot\":\"mapbox\",\"z\":[1698463101,214652091,1843403173,1012538601,12372171855,1589027573,1342360080,299887442,252539504,6105077137,2977493049,449367366,472996771,4750730166,2325977579,1153246634,1009666778,1556737027,1672524467,499705582,2013912587,2514462216,3777104295,1859518080,1043538581,2147199467,349265364,654492373,706963312,464555584,3262485899,654767624,7471265548,3037517520,256212417,4399001140,1314840644,1305639746,4919315717,409949052,1519671454,287859797,2173570295,7630499885,773467077,233281150,2649134964,2189854723,744635999,2054243883,193865839],\"type\":\"choroplethmapbox\"}],                        {\"template\":{\"data\":{\"histogram2dcontour\":[{\"type\":\"histogram2dcontour\",\"colorbar\":{\"outlinewidth\":0,\"ticks\":\"\"},\"colorscale\":[[0.0,\"#0d0887\"],[0.1111111111111111,\"#46039f\"],[0.2222222222222222,\"#7201a8\"],[0.3333333333333333,\"#9c179e\"],[0.4444444444444444,\"#bd3786\"],[0.5555555555555556,\"#d8576b\"],[0.6666666666666666,\"#ed7953\"],[0.7777777777777778,\"#fb9f3a\"],[0.8888888888888888,\"#fdca26\"],[1.0,\"#f0f921\"]]}],\"choropleth\":[{\"type\":\"choropleth\",\"colorbar\":{\"outlinewidth\":0,\"ticks\":\"\"}}],\"histogram2d\":[{\"type\":\"histogram2d\",\"colorbar\":{\"outlinewidth\":0,\"ticks\":\"\"},\"colorscale\":[[0.0,\"#0d0887\"],[0.1111111111111111,\"#46039f\"],[0.2222222222222222,\"#7201a8\"],[0.3333333333333333,\"#9c179e\"],[0.4444444444444444,\"#bd3786\"],[0.5555555555555556,\"#d8576b\"],[0.6666666666666666,\"#ed7953\"],[0.7777777777777778,\"#fb9f3a\"],[0.8888888888888888,\"#fdca26\"],[1.0,\"#f0f921\"]]}],\"heatmap\":[{\"type\":\"heatmap\",\"colorbar\":{\"outlinewidth\":0,\"ticks\":\"\"},\"colorscale\":[[0.0,\"#0d0887\"],[0.1111111111111111,\"#46039f\"],[0.2222222222222222,\"#7201a8\"],[0.3333333333333333,\"#9c179e\"],[0.4444444444444444,\"#bd3786\"],[0.5555555555555556,\"#d8576b\"],[0.6666666666666666,\"#ed7953\"],[0.7777777777777778,\"#fb9f3a\"],[0.8888888888888888,\"#fdca26\"],[1.0,\"#f0f921\"]]}],\"heatmapgl\":[{\"type\":\"heatmapgl\",\"colorbar\":{\"outlinewidth\":0,\"ticks\":\"\"},\"colorscale\":[[0.0,\"#0d0887\"],[0.1111111111111111,\"#46039f\"],[0.2222222222222222,\"#7201a8\"],[0.3333333333333333,\"#9c179e\"],[0.4444444444444444,\"#bd3786\"],[0.5555555555555556,\"#d8576b\"],[0.6666666666666666,\"#ed7953\"],[0.7777777777777778,\"#fb9f3a\"],[0.8888888888888888,\"#fdca26\"],[1.0,\"#f0f921\"]]}],\"contourcarpet\":[{\"type\":\"contourcarpet\",\"colorbar\":{\"outlinewidth\":0,\"ticks\":\"\"}}],\"contour\":[{\"type\":\"contour\",\"colorbar\":{\"outlinewidth\":0,\"ticks\":\"\"},\"colorscale\":[[0.0,\"#0d0887\"],[0.1111111111111111,\"#46039f\"],[0.2222222222222222,\"#7201a8\"],[0.3333333333333333,\"#9c179e\"],[0.4444444444444444,\"#bd3786\"],[0.5555555555555556,\"#d8576b\"],[0.6666666666666666,\"#ed7953\"],[0.7777777777777778,\"#fb9f3a\"],[0.8888888888888888,\"#fdca26\"],[1.0,\"#f0f921\"]]}],\"surface\":[{\"type\":\"surface\",\"colorbar\":{\"outlinewidth\":0,\"ticks\":\"\"},\"colorscale\":[[0.0,\"#0d0887\"],[0.1111111111111111,\"#46039f\"],[0.2222222222222222,\"#7201a8\"],[0.3333333333333333,\"#9c179e\"],[0.4444444444444444,\"#bd3786\"],[0.5555555555555556,\"#d8576b\"],[0.6666666666666666,\"#ed7953\"],[0.7777777777777778,\"#fb9f3a\"],[0.8888888888888888,\"#fdca26\"],[1.0,\"#f0f921\"]]}],\"mesh3d\":[{\"type\":\"mesh3d\",\"colorbar\":{\"outlinewidth\":0,\"ticks\":\"\"}}],\"scatter\":[{\"fillpattern\":{\"fillmode\":\"overlay\",\"size\":10,\"solidity\":0.2},\"type\":\"scatter\"}],\"parcoords\":[{\"type\":\"parcoords\",\"line\":{\"colorbar\":{\"outlinewidth\":0,\"ticks\":\"\"}}}],\"scatterpolargl\":[{\"type\":\"scatterpolargl\",\"marker\":{\"colorbar\":{\"outlinewidth\":0,\"ticks\":\"\"}}}],\"bar\":[{\"error_x\":{\"color\":\"#2a3f5f\"},\"error_y\":{\"color\":\"#2a3f5f\"},\"marker\":{\"line\":{\"color\":\"#E5ECF6\",\"width\":0.5},\"pattern\":{\"fillmode\":\"overlay\",\"size\":10,\"solidity\":0.2}},\"type\":\"bar\"}],\"scattergeo\":[{\"type\":\"scattergeo\",\"marker\":{\"colorbar\":{\"outlinewidth\":0,\"ticks\":\"\"}}}],\"scatterpolar\":[{\"type\":\"scatterpolar\",\"marker\":{\"colorbar\":{\"outlinewidth\":0,\"ticks\":\"\"}}}],\"histogram\":[{\"marker\":{\"pattern\":{\"fillmode\":\"overlay\",\"size\":10,\"solidity\":0.2}},\"type\":\"histogram\"}],\"scattergl\":[{\"type\":\"scattergl\",\"marker\":{\"colorbar\":{\"outlinewidth\":0,\"ticks\":\"\"}}}],\"scatter3d\":[{\"type\":\"scatter3d\",\"line\":{\"colorbar\":{\"outlinewidth\":0,\"ticks\":\"\"}},\"marker\":{\"colorbar\":{\"outlinewidth\":0,\"ticks\":\"\"}}}],\"scattermapbox\":[{\"type\":\"scattermapbox\",\"marker\":{\"colorbar\":{\"outlinewidth\":0,\"ticks\":\"\"}}}],\"scatterternary\":[{\"type\":\"scatterternary\",\"marker\":{\"colorbar\":{\"outlinewidth\":0,\"ticks\":\"\"}}}],\"scattercarpet\":[{\"type\":\"scattercarpet\",\"marker\":{\"colorbar\":{\"outlinewidth\":0,\"ticks\":\"\"}}}],\"carpet\":[{\"aaxis\":{\"endlinecolor\":\"#2a3f5f\",\"gridcolor\":\"white\",\"linecolor\":\"white\",\"minorgridcolor\":\"white\",\"startlinecolor\":\"#2a3f5f\"},\"baxis\":{\"endlinecolor\":\"#2a3f5f\",\"gridcolor\":\"white\",\"linecolor\":\"white\",\"minorgridcolor\":\"white\",\"startlinecolor\":\"#2a3f5f\"},\"type\":\"carpet\"}],\"table\":[{\"cells\":{\"fill\":{\"color\":\"#EBF0F8\"},\"line\":{\"color\":\"white\"}},\"header\":{\"fill\":{\"color\":\"#C8D4E3\"},\"line\":{\"color\":\"white\"}},\"type\":\"table\"}],\"barpolar\":[{\"marker\":{\"line\":{\"color\":\"#E5ECF6\",\"width\":0.5},\"pattern\":{\"fillmode\":\"overlay\",\"size\":10,\"solidity\":0.2}},\"type\":\"barpolar\"}],\"pie\":[{\"automargin\":true,\"type\":\"pie\"}]},\"layout\":{\"autotypenumbers\":\"strict\",\"colorway\":[\"#636efa\",\"#EF553B\",\"#00cc96\",\"#ab63fa\",\"#FFA15A\",\"#19d3f3\",\"#FF6692\",\"#B6E880\",\"#FF97FF\",\"#FECB52\"],\"font\":{\"color\":\"#2a3f5f\"},\"hovermode\":\"closest\",\"hoverlabel\":{\"align\":\"left\"},\"paper_bgcolor\":\"white\",\"plot_bgcolor\":\"#E5ECF6\",\"polar\":{\"bgcolor\":\"#E5ECF6\",\"angularaxis\":{\"gridcolor\":\"white\",\"linecolor\":\"white\",\"ticks\":\"\"},\"radialaxis\":{\"gridcolor\":\"white\",\"linecolor\":\"white\",\"ticks\":\"\"}},\"ternary\":{\"bgcolor\":\"#E5ECF6\",\"aaxis\":{\"gridcolor\":\"white\",\"linecolor\":\"white\",\"ticks\":\"\"},\"baxis\":{\"gridcolor\":\"white\",\"linecolor\":\"white\",\"ticks\":\"\"},\"caxis\":{\"gridcolor\":\"white\",\"linecolor\":\"white\",\"ticks\":\"\"}},\"coloraxis\":{\"colorbar\":{\"outlinewidth\":0,\"ticks\":\"\"}},\"colorscale\":{\"sequential\":[[0.0,\"#0d0887\"],[0.1111111111111111,\"#46039f\"],[0.2222222222222222,\"#7201a8\"],[0.3333333333333333,\"#9c179e\"],[0.4444444444444444,\"#bd3786\"],[0.5555555555555556,\"#d8576b\"],[0.6666666666666666,\"#ed7953\"],[0.7777777777777778,\"#fb9f3a\"],[0.8888888888888888,\"#fdca26\"],[1.0,\"#f0f921\"]],\"sequentialminus\":[[0.0,\"#0d0887\"],[0.1111111111111111,\"#46039f\"],[0.2222222222222222,\"#7201a8\"],[0.3333333333333333,\"#9c179e\"],[0.4444444444444444,\"#bd3786\"],[0.5555555555555556,\"#d8576b\"],[0.6666666666666666,\"#ed7953\"],[0.7777777777777778,\"#fb9f3a\"],[0.8888888888888888,\"#fdca26\"],[1.0,\"#f0f921\"]],\"diverging\":[[0,\"#8e0152\"],[0.1,\"#c51b7d\"],[0.2,\"#de77ae\"],[0.3,\"#f1b6da\"],[0.4,\"#fde0ef\"],[0.5,\"#f7f7f7\"],[0.6,\"#e6f5d0\"],[0.7,\"#b8e186\"],[0.8,\"#7fbc41\"],[0.9,\"#4d9221\"],[1,\"#276419\"]]},\"xaxis\":{\"gridcolor\":\"white\",\"linecolor\":\"white\",\"ticks\":\"\",\"title\":{\"standoff\":15},\"zerolinecolor\":\"white\",\"automargin\":true,\"zerolinewidth\":2},\"yaxis\":{\"gridcolor\":\"white\",\"linecolor\":\"white\",\"ticks\":\"\",\"title\":{\"standoff\":15},\"zerolinecolor\":\"white\",\"automargin\":true,\"zerolinewidth\":2},\"scene\":{\"xaxis\":{\"backgroundcolor\":\"#E5ECF6\",\"gridcolor\":\"white\",\"linecolor\":\"white\",\"showbackground\":true,\"ticks\":\"\",\"zerolinecolor\":\"white\",\"gridwidth\":2},\"yaxis\":{\"backgroundcolor\":\"#E5ECF6\",\"gridcolor\":\"white\",\"linecolor\":\"white\",\"showbackground\":true,\"ticks\":\"\",\"zerolinecolor\":\"white\",\"gridwidth\":2},\"zaxis\":{\"backgroundcolor\":\"#E5ECF6\",\"gridcolor\":\"white\",\"linecolor\":\"white\",\"showbackground\":true,\"ticks\":\"\",\"zerolinecolor\":\"white\",\"gridwidth\":2}},\"shapedefaults\":{\"line\":{\"color\":\"#2a3f5f\"}},\"annotationdefaults\":{\"arrowcolor\":\"#2a3f5f\",\"arrowhead\":0,\"arrowwidth\":1},\"geo\":{\"bgcolor\":\"white\",\"landcolor\":\"#E5ECF6\",\"subunitcolor\":\"white\",\"showland\":true,\"showlakes\":true,\"lakecolor\":\"white\"},\"title\":{\"x\":0.05},\"mapbox\":{\"style\":\"light\"}}},\"mapbox\":{\"domain\":{\"x\":[0.0,1.0],\"y\":[0.0,1.0]},\"center\":{\"lat\":57,\"lon\":-113},\"zoom\":2,\"style\":\"carto-positron\"},\"coloraxis\":{\"colorbar\":{\"title\":{\"text\":\"Civilian Population\"}},\"colorscale\":[[0.0,\"rgb(255,245,240)\"],[0.125,\"rgb(254,224,210)\"],[0.25,\"rgb(252,187,161)\"],[0.375,\"rgb(252,146,114)\"],[0.5,\"rgb(251,106,74)\"],[0.625,\"rgb(239,59,44)\"],[0.75,\"rgb(203,24,29)\"],[0.875,\"rgb(165,15,21)\"],[1.0,\"rgb(103,0,13)\"]]},\"legend\":{\"tracegroupgap\":0},\"margin\":{\"t\":0,\"r\":0,\"l\":0,\"b\":0},\"height\":600,\"geo\":{\"fitbounds\":\"locations\",\"visible\":false}},                        {\"responsive\": true}                    ).then(function(){\n",
              "                            \n",
              "var gd = document.getElementById('d56f090d-2395-45bc-98f5-b862d25252ec');\n",
              "var x = new MutationObserver(function (mutations, observer) {{\n",
              "        var display = window.getComputedStyle(gd).display;\n",
              "        if (!display || display === 'none') {{\n",
              "            console.log([gd, 'removed!']);\n",
              "            Plotly.purge(gd);\n",
              "            observer.disconnect();\n",
              "        }}\n",
              "}});\n",
              "\n",
              "// Listen for the removal of the full notebook cells\n",
              "var notebookContainer = gd.closest('#notebook-container');\n",
              "if (notebookContainer) {{\n",
              "    x.observe(notebookContainer, {childList: true});\n",
              "}}\n",
              "\n",
              "// Listen for the clearing of the current output cell\n",
              "var outputEl = gd.closest('.output');\n",
              "if (outputEl) {{\n",
              "    x.observe(outputEl, {childList: true});\n",
              "}}\n",
              "\n",
              "                        })                };                            </script>        </div>\n",
              "</body>\n",
              "</html>"
            ]
          },
          "metadata": {}
        }
      ]
    },
    {
      "cell_type": "markdown",
      "metadata": {
        "id": "WdxaKRPbryHX"
      },
      "source": [
        "## 10 Create Dashboard\n",
        "### * template : ['ggplot2', 'seaborn', 'simple_white', 'plotly', 'plotly_white', 'plotly_dark', 'presentation', 'xgridoff', 'ygridoff', 'gridon', 'none']\n",
        "### * change layout https://plotly.com/python-api-reference/generated/plotly.graph_objects.Layout.html\n",
        "### * more chart customization : https://plotly.com/python-api-reference/index.html"
      ]
    },
    {
      "cell_type": "code",
      "execution_count": null,
      "metadata": {
        "id": "mOSTvuDNr4co",
        "colab": {
          "base_uri": "https://localhost:8080/"
        },
        "outputId": "37151d00-65b5-4ca1-ebeb-8215133d7cc0"
      },
      "outputs": [
        {
          "output_type": "stream",
          "name": "stdout",
          "text": [
            "Overwriting app.py\n"
          ]
        }
      ],
      "source": [
        "%%writefile app.py\n",
        "\n",
        "import streamlit as st\n",
        "import os\n",
        "import pandas as pd\n",
        "import geopandas as gpd\n",
        "import plotly.express as px\n",
        "import plotly.graph_objects as go\n",
        "import plotly.figure_factory as ff\n",
        "import warnings\n",
        "warnings.filterwarnings('ignore')\n",
        "\n",
        "# 00 CREATING TAB TITLE\n",
        "\n",
        "st.set_page_config(\n",
        "  page_title = 'US Unemployment',\n",
        "  page_icon = ':male-office-worker:',\n",
        "  layout = 'wide',\n",
        ")\n",
        "\n",
        "\n",
        "# 01 CREATING DASHBOARD TITLE\n",
        "\n",
        "st.title(':male-office-worker: US Unemployment Dashboard')\n",
        "st.markdown('<style>div,block-container{padding-top:0rem;}<style>', unsafe_allow_html = True)\n",
        "\n",
        "\n",
        "# 02 IMPORTING DATASET\n",
        "\n",
        "dataset_path = 'https://raw.githubusercontent.com/azzindani/00_Data_Source/main/US_Unemployment.csv'\n",
        "df = pd.read_csv(dataset_path)\n",
        "df = df.fillna(0)\n",
        "\n",
        "gdf = gpd.read_file('https://raw.githubusercontent.com/PublicaMundi/MappingAPI/master/data/geojson/us-states.json')\n",
        "gdf = gdf.rename(columns = {'name' : 'State'})\n",
        "gdf = gdf[['State', 'geometry']]\n",
        "\n",
        "for x in df.columns:\n",
        "  y = x.title()\n",
        "  df = df.rename(columns = {x : y})\n",
        "\n",
        "for x in df.columns:\n",
        "  if df[x].dtypes == 'object':\n",
        "    try:\n",
        "      df[x] = df[x].str.strip()\n",
        "    except:\n",
        "      pass\n",
        "\n",
        "for x in df.columns:\n",
        "  if df[x].dtypes == 'object':\n",
        "    for a in df[x].unique():\n",
        "      b = a.title()\n",
        "      df[x] = df[x].replace(a, b)\n",
        "  else:\n",
        "    pass\n",
        "\n",
        "df['Month And Year'] = df['Month And Year'].replace({\n",
        "    'January ' : '31-01-',\n",
        "    'February ' : '28-02-',\n",
        "    'March ' : '31-03-',\n",
        "    'April ' : '30-04-',\n",
        "    'May ' : '31-05-',\n",
        "    'June ' : '30-06-',\n",
        "    'July ' : '31-07-',\n",
        "    'August ' : '31-08-',\n",
        "    'September ' : '30-09-',\n",
        "    'October ' : '31-10-',\n",
        "    'November ' : '30-11-',\n",
        "    'December ' : '31-12-',\n",
        "}, regex = True)\n",
        "\n",
        "df['Month And Year'] = pd.to_datetime(df['Month And Year'])\n",
        "df['Year'] = df['Month And Year'].dt.to_period('Y')\n",
        "df['Year'] = df['Year'].astype('str')\n",
        "df['Year'] = df['Year'].astype('int')\n",
        "\n",
        "df['State'] = df['State'].replace({\n",
        "    'District Of Columbia' : 'District of Columbia',\n",
        "})\n",
        "\n",
        "\n",
        "# 03 SETUP TEMPLATE & THEME\n",
        "\n",
        "colors_1 = px.colors.sequential.Blues\n",
        "colors_2 = px.colors.sequential.Blues_r\n",
        "explode = tuple([0.015] * 50)\n",
        "latitude = 57\n",
        "longitude = -113\n",
        "chart_theme = 'plotly_dark'\n",
        "streamlit_theme = 'streamlit'\n",
        "margin = {'r' : 20, 't' : 40, 'l' : 20, 'b' : 10}\n",
        "cmap = 'Blues'\n",
        "title_x = 0\n",
        "title_font_size = 18\n",
        "\n",
        "\n",
        "col_1, col_2 = st.columns((1, 1))\n",
        "\n",
        "# 05 CREATING FILTER\n",
        "\n",
        "var_nums = df.columns[3:]\n",
        "\n",
        "with col_1:\n",
        "  var_num = st.selectbox('Select Variable', var_nums)\n",
        "\n",
        "with col_2:\n",
        "  year = st.slider(\n",
        "    label = 'Select Year',\n",
        "    min_value = df['Year'].min(),\n",
        "    max_value = df['Year'].max(),\n",
        "    value = df['Year'].max(),\n",
        "  )\n",
        "\n",
        "df = df[['State', 'Month And Year', 'Year', var_num]]\n",
        "filtered_df = df[df['Year'] == year]\n",
        "\n",
        "\n",
        "# 07 CREATING DASHBOARD\n",
        "\n",
        "# create highlighted indicator\n",
        "\n",
        "col_11, col_12 = st.columns((1, 2))\n",
        "\n",
        "chart_df_1 = filtered_df.groupby(by = ['State'], as_index = False,)[[var_num]].sum()\n",
        "chart_df_1 = chart_df_1.sort_values(by = var_num, ascending = False)[:10]\n",
        "\n",
        "with col_11:\n",
        "  title = '10 Highest ' + var_num + ' State'\n",
        "  #st.subheader(title)\n",
        "  fig = px.bar(\n",
        "    chart_df_1,\n",
        "    x = var_num,\n",
        "    y = 'State',\n",
        "    template = chart_theme,\n",
        "    color_discrete_sequence = colors_2,\n",
        "    title = title,\n",
        "    text_auto = ',.0f',\n",
        "  )\n",
        "  fig.update_layout(\n",
        "      height = 600,\n",
        "      margin = margin,\n",
        "      titlefont = dict(size = title_font_size),\n",
        "      title_x = title_x,\n",
        "  )\n",
        "  fig.update_yaxes(categoryorder = 'total ascending')\n",
        "  st.plotly_chart(fig, use_container_width = True, theme = streamlit_theme)\n",
        "\n",
        "  with st.expander('View Data'):\n",
        "    st.write(chart_df_1.style.background_gradient(cmap = cmap))\n",
        "    csv = chart_df_1.to_csv(index = False).encode('utf-8')\n",
        "    st.download_button('Download Data', data = csv, file_name = title + '.csv', mime = 'text/csv', help = 'Click here to download as CSV file')\n",
        "\n",
        "var_label = 'State'\n",
        "var_number = var_num\n",
        "\n",
        "map_df = filtered_df.groupby(['State'])[var_num].sum()\n",
        "map_df = map_df.reset_index()\n",
        "map_df = map_df.fillna(0)\n",
        "map_df = gdf.merge(map_df, on = 'State')\n",
        "map_df = map_df.set_index(var_label)\n",
        "\n",
        "with col_12:\n",
        "  fig = px.choropleth_mapbox(\n",
        "      data_frame = map_df,\n",
        "      geojson = map_df.geometry,\n",
        "      locations = map_df.index,\n",
        "      color = var_number,\n",
        "      color_continuous_scale = colors_1,\n",
        "      #range_color = (0, 10),\n",
        "      opacity = 0.5,\n",
        "      center = {'lat' : latitude, 'lon' : longitude},\n",
        "      mapbox_style = 'carto-positron',\n",
        "      zoom = 2,\n",
        "      #width = 800,\n",
        "      height = 600,\n",
        "  )\n",
        "  fig.update_geos(\n",
        "      #fitbounds = 'locations',\n",
        "      visible = False,\n",
        "  )\n",
        "  fig.update_layout(\n",
        "      height = 600,\n",
        "      margin = margin,\n",
        "      title = title,\n",
        "      titlefont = dict(size = title_font_size),\n",
        "      title_x = title_x,\n",
        "  )\n",
        "  st.plotly_chart(fig, use_container_width = True, theme = streamlit_theme)\n",
        "\n",
        "# create time series chart\n",
        "\n",
        "col_11, col_12 = st.columns((1, 1))\n",
        "\n",
        "default_state = 'Florida'\n",
        "\n",
        "with col_11:\n",
        "  state = st.multiselect('Select State', df['State'].unique(), default = default_state)\n",
        "\n",
        "if state:\n",
        "  state_df = df[df['State'].isin(state)]\n",
        "else:\n",
        "  state_df = df\n",
        "\n",
        "periods = ['M', 'Q', 'Y']\n",
        "\n",
        "with col_12:\n",
        "  period = st.selectbox('Select Period (M = Month, Q = Quarter, Y = Year)', periods)\n",
        "\n",
        "title = 'Periodly ' + var_num\n",
        "\n",
        "state_df['Period'] = state_df['Month And Year'].dt.to_period(period)\n",
        "linechart = pd.DataFrame(state_df.groupby(['Period', 'State'])[[var_num]].sum()).reset_index()\n",
        "linechart['Period'] = linechart['Period'].astype(str)\n",
        "\n",
        "fig_1 = px.line(\n",
        "  x = linechart['Period'],\n",
        "  y = linechart[var_num],\n",
        "  color = linechart['State'],\n",
        "  markers = True,\n",
        ")\n",
        "fig_1.update_traces(\n",
        "  #hovertemplate = '{:,.0f}'\n",
        ")\n",
        "fig_1.update_layout(\n",
        "  hovermode = 'x',\n",
        "  height = 400,\n",
        "  margin = margin,\n",
        "  title = title,\n",
        "  titlefont = dict(size = title_font_size),\n",
        "  title_x = title_x,\n",
        "  xaxis = dict(title = 'Period', titlefont = dict(size = 14)),\n",
        "  yaxis = dict(title = var_num, titlefont = dict(size = 14), tickformat = ',.0f'),\n",
        ")\n",
        "\n",
        "st.plotly_chart(fig_1, use_container_width = True, theme = streamlit_theme)\n",
        "\n",
        "with st.expander('View Data'):\n",
        "  st.write(linechart.style.background_gradient(cmap = cmap))\n",
        "  csv = linechart.to_csv(index = False).encode('utf-8')\n",
        "  st.download_button('Download Data', data = csv, file_name = title + '.csv', mime = 'text/csv', help = 'Click here to download as CSV file')"
      ]
    },
    {
      "cell_type": "markdown",
      "metadata": {
        "id": "Z9RRwyCdD8lO"
      },
      "source": [
        "## 11 Run Dashboard"
      ]
    },
    {
      "cell_type": "code",
      "execution_count": null,
      "metadata": {
        "id": "D_voTYz09H7q",
        "colab": {
          "base_uri": "https://localhost:8080/"
        },
        "outputId": "64ea092f-fbc4-4275-f45e-002cb4871ce2"
      },
      "outputs": [
        {
          "output_type": "stream",
          "name": "stdout",
          "text": [
            "35.202.200.51\n",
            "\u001b[K\u001b[?25hnpx: installed 22 in 2.67s\n",
            "your url is: https://spicy-hoops-care.loca.lt\n",
            "^C\n"
          ]
        }
      ],
      "source": [
        "!streamlit run app.py &>/content/logs.txt & curl ipv4.icanhazip.com\n",
        "!npx localtunnel --port 8501"
      ]
    }
  ],
  "metadata": {
    "colab": {
      "provenance": [],
      "include_colab_link": true
    },
    "kernelspec": {
      "display_name": "Python 3 (ipykernel)",
      "language": "python",
      "name": "python3"
    },
    "language_info": {
      "codemirror_mode": {
        "name": "ipython",
        "version": 3
      },
      "file_extension": ".py",
      "mimetype": "text/x-python",
      "name": "python",
      "nbconvert_exporter": "python",
      "pygments_lexer": "ipython3",
      "version": "3.9.13"
    }
  },
  "nbformat": 4,
  "nbformat_minor": 0
}