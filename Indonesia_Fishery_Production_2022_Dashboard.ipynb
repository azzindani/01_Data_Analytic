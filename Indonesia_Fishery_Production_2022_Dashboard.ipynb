{
  "cells": [
    {
      "cell_type": "markdown",
      "metadata": {
        "id": "view-in-github",
        "colab_type": "text"
      },
      "source": [
        "<a href=\"https://colab.research.google.com/github/azzindani/01_Data_Analytic/blob/main/Indonesia_Fishery_Production_2022_Dashboard.ipynb\" target=\"_parent\"><img src=\"https://colab.research.google.com/assets/colab-badge.svg\" alt=\"Open In Colab\"/></a>"
      ]
    },
    {
      "cell_type": "markdown",
      "metadata": {
        "id": "xzGjScgSt8W9"
      },
      "source": [
        "## 00 Install Module"
      ]
    },
    {
      "cell_type": "code",
      "execution_count": null,
      "metadata": {
        "colab": {
          "base_uri": "https://localhost:8080/"
        },
        "id": "yhXKjGT-OZvU",
        "outputId": "ff68b25f-2fc9-40e5-e950-923f34da1409"
      },
      "outputs": [
        {
          "output_type": "stream",
          "name": "stdout",
          "text": [
            "Requirement already satisfied: streamlit in /usr/local/lib/python3.10/dist-packages (1.29.0)\n",
            "Requirement already satisfied: altair<6,>=4.0 in /usr/local/lib/python3.10/dist-packages (from streamlit) (4.2.2)\n",
            "Requirement already satisfied: blinker<2,>=1.0.0 in /usr/lib/python3/dist-packages (from streamlit) (1.4)\n",
            "Requirement already satisfied: cachetools<6,>=4.0 in /usr/local/lib/python3.10/dist-packages (from streamlit) (5.3.2)\n",
            "Requirement already satisfied: click<9,>=7.0 in /usr/local/lib/python3.10/dist-packages (from streamlit) (8.1.7)\n",
            "Requirement already satisfied: importlib-metadata<7,>=1.4 in /usr/local/lib/python3.10/dist-packages (from streamlit) (6.11.0)\n",
            "Requirement already satisfied: numpy<2,>=1.19.3 in /usr/local/lib/python3.10/dist-packages (from streamlit) (1.23.5)\n",
            "Requirement already satisfied: packaging<24,>=16.8 in /usr/local/lib/python3.10/dist-packages (from streamlit) (23.2)\n",
            "Requirement already satisfied: pandas<3,>=1.3.0 in /usr/local/lib/python3.10/dist-packages (from streamlit) (1.5.3)\n",
            "Requirement already satisfied: pillow<11,>=7.1.0 in /usr/local/lib/python3.10/dist-packages (from streamlit) (9.4.0)\n",
            "Requirement already satisfied: protobuf<5,>=3.20 in /usr/local/lib/python3.10/dist-packages (from streamlit) (3.20.3)\n",
            "Requirement already satisfied: pyarrow>=6.0 in /usr/local/lib/python3.10/dist-packages (from streamlit) (10.0.1)\n",
            "Requirement already satisfied: python-dateutil<3,>=2.7.3 in /usr/local/lib/python3.10/dist-packages (from streamlit) (2.8.2)\n",
            "Requirement already satisfied: requests<3,>=2.27 in /usr/local/lib/python3.10/dist-packages (from streamlit) (2.31.0)\n",
            "Requirement already satisfied: rich<14,>=10.14.0 in /usr/local/lib/python3.10/dist-packages (from streamlit) (13.7.0)\n",
            "Requirement already satisfied: tenacity<9,>=8.1.0 in /usr/local/lib/python3.10/dist-packages (from streamlit) (8.2.3)\n",
            "Requirement already satisfied: toml<2,>=0.10.1 in /usr/local/lib/python3.10/dist-packages (from streamlit) (0.10.2)\n",
            "Requirement already satisfied: typing-extensions<5,>=4.3.0 in /usr/local/lib/python3.10/dist-packages (from streamlit) (4.5.0)\n",
            "Requirement already satisfied: tzlocal<6,>=1.1 in /usr/local/lib/python3.10/dist-packages (from streamlit) (5.2)\n",
            "Requirement already satisfied: validators<1,>=0.2 in /usr/local/lib/python3.10/dist-packages (from streamlit) (0.22.0)\n",
            "Requirement already satisfied: gitpython!=3.1.19,<4,>=3.0.7 in /usr/local/lib/python3.10/dist-packages (from streamlit) (3.1.40)\n",
            "Requirement already satisfied: pydeck<1,>=0.8.0b4 in /usr/local/lib/python3.10/dist-packages (from streamlit) (0.8.1b0)\n",
            "Requirement already satisfied: tornado<7,>=6.0.3 in /usr/local/lib/python3.10/dist-packages (from streamlit) (6.3.2)\n",
            "Requirement already satisfied: watchdog>=2.1.5 in /usr/local/lib/python3.10/dist-packages (from streamlit) (3.0.0)\n",
            "Requirement already satisfied: entrypoints in /usr/local/lib/python3.10/dist-packages (from altair<6,>=4.0->streamlit) (0.4)\n",
            "Requirement already satisfied: jinja2 in /usr/local/lib/python3.10/dist-packages (from altair<6,>=4.0->streamlit) (3.1.2)\n",
            "Requirement already satisfied: jsonschema>=3.0 in /usr/local/lib/python3.10/dist-packages (from altair<6,>=4.0->streamlit) (4.19.2)\n",
            "Requirement already satisfied: toolz in /usr/local/lib/python3.10/dist-packages (from altair<6,>=4.0->streamlit) (0.12.0)\n",
            "Requirement already satisfied: gitdb<5,>=4.0.1 in /usr/local/lib/python3.10/dist-packages (from gitpython!=3.1.19,<4,>=3.0.7->streamlit) (4.0.11)\n",
            "Requirement already satisfied: zipp>=0.5 in /usr/local/lib/python3.10/dist-packages (from importlib-metadata<7,>=1.4->streamlit) (3.17.0)\n",
            "Requirement already satisfied: pytz>=2020.1 in /usr/local/lib/python3.10/dist-packages (from pandas<3,>=1.3.0->streamlit) (2023.3.post1)\n",
            "Requirement already satisfied: six>=1.5 in /usr/local/lib/python3.10/dist-packages (from python-dateutil<3,>=2.7.3->streamlit) (1.16.0)\n",
            "Requirement already satisfied: charset-normalizer<4,>=2 in /usr/local/lib/python3.10/dist-packages (from requests<3,>=2.27->streamlit) (3.3.2)\n",
            "Requirement already satisfied: idna<4,>=2.5 in /usr/local/lib/python3.10/dist-packages (from requests<3,>=2.27->streamlit) (3.6)\n",
            "Requirement already satisfied: urllib3<3,>=1.21.1 in /usr/local/lib/python3.10/dist-packages (from requests<3,>=2.27->streamlit) (2.0.7)\n",
            "Requirement already satisfied: certifi>=2017.4.17 in /usr/local/lib/python3.10/dist-packages (from requests<3,>=2.27->streamlit) (2023.11.17)\n",
            "Requirement already satisfied: markdown-it-py>=2.2.0 in /usr/local/lib/python3.10/dist-packages (from rich<14,>=10.14.0->streamlit) (3.0.0)\n",
            "Requirement already satisfied: pygments<3.0.0,>=2.13.0 in /usr/local/lib/python3.10/dist-packages (from rich<14,>=10.14.0->streamlit) (2.16.1)\n",
            "Requirement already satisfied: smmap<6,>=3.0.1 in /usr/local/lib/python3.10/dist-packages (from gitdb<5,>=4.0.1->gitpython!=3.1.19,<4,>=3.0.7->streamlit) (5.0.1)\n",
            "Requirement already satisfied: MarkupSafe>=2.0 in /usr/local/lib/python3.10/dist-packages (from jinja2->altair<6,>=4.0->streamlit) (2.1.3)\n",
            "Requirement already satisfied: attrs>=22.2.0 in /usr/local/lib/python3.10/dist-packages (from jsonschema>=3.0->altair<6,>=4.0->streamlit) (23.1.0)\n",
            "Requirement already satisfied: jsonschema-specifications>=2023.03.6 in /usr/local/lib/python3.10/dist-packages (from jsonschema>=3.0->altair<6,>=4.0->streamlit) (2023.11.2)\n",
            "Requirement already satisfied: referencing>=0.28.4 in /usr/local/lib/python3.10/dist-packages (from jsonschema>=3.0->altair<6,>=4.0->streamlit) (0.32.0)\n",
            "Requirement already satisfied: rpds-py>=0.7.1 in /usr/local/lib/python3.10/dist-packages (from jsonschema>=3.0->altair<6,>=4.0->streamlit) (0.15.2)\n",
            "Requirement already satisfied: mdurl~=0.1 in /usr/local/lib/python3.10/dist-packages (from markdown-it-py>=2.2.0->rich<14,>=10.14.0->streamlit) (0.1.2)\n",
            "\u001b[K\u001b[?25h\u001b[37;40mnpm\u001b[0m \u001b[0m\u001b[30;43mWARN\u001b[0m \u001b[0m\u001b[35msaveError\u001b[0m ENOENT: no such file or directory, open '/content/package.json'\n",
            "\u001b[0m\u001b[37;40mnpm\u001b[0m \u001b[0m\u001b[30;43mWARN\u001b[0m \u001b[0m\u001b[35menoent\u001b[0m ENOENT: no such file or directory, open '/content/package.json'\n",
            "\u001b[0m\u001b[37;40mnpm\u001b[0m \u001b[0m\u001b[30;43mWARN\u001b[0m\u001b[35m\u001b[0m content No description\n",
            "\u001b[0m\u001b[37;40mnpm\u001b[0m \u001b[0m\u001b[30;43mWARN\u001b[0m\u001b[35m\u001b[0m content No repository field.\n",
            "\u001b[0m\u001b[37;40mnpm\u001b[0m \u001b[0m\u001b[30;43mWARN\u001b[0m\u001b[35m\u001b[0m content No README data\n",
            "\u001b[0m\u001b[37;40mnpm\u001b[0m \u001b[0m\u001b[30;43mWARN\u001b[0m\u001b[35m\u001b[0m content No license field.\n",
            "\u001b[0m\n",
            "\u001b[K\u001b[?25h+ localtunnel@2.0.2\n",
            "updated 1 package and audited 36 packages in 0.9s\n",
            "\n",
            "3 packages are looking for funding\n",
            "  run `npm fund` for details\n",
            "\n",
            "found 2 \u001b[93mmoderate\u001b[0m severity vulnerabilities\n",
            "  run `npm audit fix` to fix them, or `npm audit` for details\n",
            "\u001b[K\u001b[?25h"
          ]
        }
      ],
      "source": [
        "!pip install streamlit\n",
        "!npm install localtunnel"
      ]
    },
    {
      "cell_type": "markdown",
      "metadata": {
        "id": "WdxaKRPbryHX"
      },
      "source": [
        "## 01 Create Dashboard"
      ]
    },
    {
      "cell_type": "code",
      "execution_count": null,
      "metadata": {
        "id": "mOSTvuDNr4co",
        "colab": {
          "base_uri": "https://localhost:8080/"
        },
        "outputId": "d9b89997-1043-41a9-a454-c2ccd051f5d9"
      },
      "outputs": [
        {
          "output_type": "stream",
          "name": "stdout",
          "text": [
            "Overwriting app.py\n"
          ]
        }
      ],
      "source": [
        "%%writefile app.py\n",
        "\n",
        "import streamlit as st\n",
        "import os\n",
        "import pandas as pd\n",
        "import geopandas as gpd\n",
        "import plotly.express as px\n",
        "import plotly.graph_objects as go\n",
        "import plotly.figure_factory as ff\n",
        "import warnings\n",
        "warnings.filterwarnings('ignore')\n",
        "\n",
        "# 00 CREATING TAB TITLE\n",
        "\n",
        "st.set_page_config(\n",
        "  page_title = 'Perikanan Indonesia',\n",
        "  page_icon = ':anchor:',\n",
        "  layout = 'wide',\n",
        ")\n",
        "\n",
        "\n",
        "# 01 CREATING DASHBOARD TITLE\n",
        "\n",
        "st.title(':whale: Produksi Perikanan Indonesia 2022 (Geospatial Analysis)')\n",
        "st.markdown('<style>div,block-container{padding-top:0rem;}<style>', unsafe_allow_html = True)\n",
        "\n",
        "\n",
        "# 02 IMPORTING DATASET\n",
        "\n",
        "dataset_path = 'https://raw.githubusercontent.com/azzindani/00_Data_Source/main/Indonesia_Fishery_Production_2022.csv'\n",
        "df = pd.read_csv(dataset_path)\n",
        "df['Kabupaten/Kota'] = df['Kabupaten/Kota'].replace({'KABUPATEN ' : '', 'KOTA ' : '', 'ADM. ' : ''}, regex = True)\n",
        "df = df.rename(columns = {'Volume Produksi' : 'Volume Produksi (Ton)', 'Nilai Produksi' : 'Nilai Produksi (Rupiah)'})\n",
        "\n",
        "gdf = gpd.read_file('https://raw.githubusercontent.com/azzindani/00_Data_Source/main/Indonesia_Cities.geojson')\n",
        "gdf = gdf.rename(columns = {'admin' : 'Country'})\n",
        "gdf = gdf[['alt_name', 'geometry']]\n",
        "gdf = gdf.rename(columns = {'alt_name' : 'Kabupaten/Kota'})\n",
        "gdf['Kabupaten/Kota'] = gdf['Kabupaten/Kota'].replace({'KABUPATEN ' : '', 'KOTA ' : ''}, regex = True)\n",
        "\n",
        "df['Kabupaten/Kota'] = df['Kabupaten/Kota'].replace({\n",
        "  'LABUHANBATU UTARA' : 'LABUHAN BATU UTARA',\n",
        "  'TOLI TOLI' : 'TOLI-TOLI',\n",
        "  'PARE PARE' : 'PARE-PARE',\n",
        "  'BAU BAU' : 'BAUBAU',\n",
        "  'KAB MALUKU TENGGARA BARAT' : 'MALUKU TENGGARA BARAT',\n",
        "  'PANGKAJENE KEPULAUAN' : 'PANGKAJENE DAN KEPULAUAN',\n",
        "  'LABUHANBATU' : 'LABUHAN BATU',\n",
        "  'BANYUASIN' : 'BANYU ASIN',\n",
        "  'KEP. SERIBU' : 'KEPULAUAN SERIBU',\n",
        "  'PAHUWATO' : 'POHUWATO',\n",
        "  'MUKO MUKO' : 'MUKOMUKO',\n",
        "  'TULANG BAWANG' : 'TULANGBAWANG',\n",
        "  'TOJO UNA UNA' : 'TOJO UNA-UNA',\n",
        "  'KEP. SIAU TAGULANDANG BIARO' : 'SIAU TAGULANDANG BIARO',\n",
        "  'KARANGASEM' : 'KARANG ASEM',\n",
        "  'FAK FAK' : 'FAK-FAK',\n",
        "}) #'''\n",
        "\n",
        "gdf['Kabupaten/Kota'] = gdf['Kabupaten/Kota'].replace({\n",
        "  'BARU' : 'KOTABARU',\n",
        "}) #'''\n",
        "\n",
        "\n",
        "# 03 SETUP TEMPLATE & THEME\n",
        "\n",
        "colors_1 = px.colors.sequential.Reds\n",
        "colors_2 = px.colors.sequential.RdBu\n",
        "explode = tuple([0.015] * 50)\n",
        "latitude = -2\n",
        "longitude = 117\n",
        "chart_theme = 'plotly_dark'\n",
        "streamlit_theme = 'streamlit'\n",
        "margin = {'r' : 10, 't' : 10, 'l' : 10, 'b' : 10}\n",
        "cmap = 'magma_r'\n",
        "title_x = 0\n",
        "title_font_size = 18\n",
        "\n",
        "\n",
        "# 04 CREATING SIDEBAR FILTER\n",
        "\n",
        "st.sidebar.header('Pilih Filter: ')\n",
        "\n",
        "# Create variable sidebar\n",
        "\n",
        "themes = ['carto-positron', 'open-street-map', 'carto-darkmatter', 'white-bg']\n",
        "theme = st.sidebar.selectbox('Pilih Teme', themes)\n",
        "\n",
        "vars = ['Volume Produksi (Ton)', 'Nilai Produksi (Rupiah)']\n",
        "var_number = st.sidebar.selectbox('Pilih Variable', vars)\n",
        "\n",
        "df = df[['Kabupaten/Kota', 'Pelabuhan', 'Jenis Kapal', 'Jenis Alat Tangkap', 'WPP', 'Jenis Ikan', var_number]]\n",
        "\n",
        "# Create Pelabuhan sidebar\n",
        "pelabuhan = st.sidebar.multiselect('Pelabuhan', df['Pelabuhan'].unique())\n",
        "\n",
        "if not pelabuhan:\n",
        "  df_2 = df.copy()\n",
        "else:\n",
        "  df_2 = df[df['Pelabuhan'].isin(pelabuhan)]\n",
        "\n",
        "# Create Jenis Kapal sidebar\n",
        "kapal = st.sidebar.multiselect('Jenis Kapal', df_2['Jenis Kapal'].unique())\n",
        "\n",
        "if not kapal:\n",
        "  df_3 = df_2.copy()\n",
        "else:\n",
        "  df_3 = df_2[df_2['Jenis Kapal'].isin(kapal)]\n",
        "\n",
        "# Create WPP sidebar\n",
        "wpp = st.sidebar.multiselect('WPP', df_3['WPP'].unique())\n",
        "\n",
        "if not wpp:\n",
        "  df_4 = df_3.copy()\n",
        "else:\n",
        "  df_4 = df_3[df_3['WPP'].isin(wpp)]\n",
        "\n",
        "# Create Jenis Ikan sidebar\n",
        "ikan = st.sidebar.multiselect('Jenis Ikan', df_4['Jenis Ikan'].unique())\n",
        "\n",
        "\n",
        "# 05 CREATING DATASET FILTER LOGIC\n",
        "\n",
        "# None filter\n",
        "\n",
        "if not pelabuhan and not kapal and not wpp and not ikan:\n",
        "  filtered_df = df\n",
        "\n",
        "# Single filter\n",
        "\n",
        "elif not kapal and not wpp and not ikan:\n",
        "  filtered_df = df[df['Pelabuhan'].isin(pelabuhan)]\n",
        "elif not pelabuhan and not wpp and not ikan:\n",
        "  filtered_df = df[df['Jenis Kapal'].isin(kapal)]\n",
        "elif not pelabuhan and not kapal and not ikan:\n",
        "  filtered_df = df[df['WPP'].isin(wpp)]\n",
        "elif not pelabuhan and not kapal and not wpp:\n",
        "  filtered_df = df[df['Jenis Ikan'].isin(ikan)]\n",
        "\n",
        "# Multiple filter\n",
        "\n",
        "elif kapal and wpp and ikan:\n",
        "  filtered_df = df_4[df['Jenis Kapal'].isin(kapal) & df['WPP'].isin(wpp) & df['Jenis Ikan'].isin(ikan)]\n",
        "elif pelabuhan and wpp and ikan:\n",
        "  filtered_df = df_4[df['Pelabuhan'].isin(pelabuhan) & df['WPP'].isin(wpp) & df['Jenis Ikan'].isin(ikan)]\n",
        "elif pelabuhan and kapal and ikan:\n",
        "  filtered_df = df_4[df['Pelabuhan'].isin(pelabuhan) & df['Jenis Kapal'].isin(kapal) & df['Jenis Ikan'].isin(ikan)]\n",
        "elif pelabuhan and kapal and wpp:\n",
        "  filtered_df = df_4[df['Pelabuhan'].isin(pelabuhan) & df['Jenis Kapal'].isin(kapal) & df['WPP'].isin(wpp)]\n",
        "\n",
        "elif pelabuhan and kapal:\n",
        "  filtered_df = df_4[df['Pelabuhan'].isin(pelabuhan) & df['Jenis Kapal'].isin(kapal)]\n",
        "elif pelabuhan and wpp:\n",
        "  filtered_df = df_4[df['Pelabuhan'].isin(pelabuhan) & df['WPP'].isin(wpp)]\n",
        "elif pelabuhan and ikan:\n",
        "  filtered_df = df_4[df['Pelabuhan'].isin(pelabuhan) & df['Jenis Ikan'].isin(ikan)]\n",
        "\n",
        "elif kapal and ikan:\n",
        "  filtered_df = df_4[df['Jenis Kapal'].isin(kapal) & df['Jenis Ikan'].isin(ikan)]\n",
        "elif wpp and ikan:\n",
        "  filtered_df = df_4[df['WPP'].isin(wpp) & df['Jenis Ikan'].isin(ikan)]\n",
        "\n",
        "elif ikan:\n",
        "  filtered_df = df_4[df_4['Jenis Ikan'].isin(ikan)]\n",
        "\n",
        "else:\n",
        "  filtered_df = df_4[df_4['Pelabuhan'].isin(pelabuhan) & df_4['Jenis Kapal'].isin(kapal) & df_4['WPP'].isin(wpp) & df_4['Jenis Ikan'].isin(ikan)]\n",
        "\n",
        "\n",
        "# 06 CREATING DASHBOARD\n",
        "\n",
        "map_df = filtered_df.groupby(['Kabupaten/Kota'])[var_number].sum()\n",
        "map_df = map_df.reset_index()\n",
        "map_df = gdf.merge(map_df, on = 'Kabupaten/Kota')\n",
        "\n",
        "var_label = 'Kabupaten/Kota'\n",
        "\n",
        "map_df = map_df.set_index(var_label)\n",
        "\n",
        "fig = px.choropleth_mapbox(\n",
        "  data_frame = map_df,\n",
        "  geojson = map_df.geometry,\n",
        "  locations = map_df.index,\n",
        "  color = var_number,\n",
        "  color_continuous_scale = colors_1,\n",
        "  #range_color = (0, 10),\n",
        "  opacity = 0.5,\n",
        "  center = {'lat' : latitude, 'lon' : longitude},\n",
        "  mapbox_style = theme,\n",
        "  zoom = 4.5,\n",
        ")\n",
        "\n",
        "fig.update_geos(\n",
        "  fitbounds = 'locations',\n",
        "  visible = False,\n",
        ")\n",
        "fig.update_layout(\n",
        "  height = 800,\n",
        "  margin = margin,\n",
        ")\n",
        "st.plotly_chart(fig, use_container_width = True, theme = streamlit_theme)"
      ]
    },
    {
      "cell_type": "markdown",
      "metadata": {
        "id": "Z9RRwyCdD8lO"
      },
      "source": [
        "## 02 Run Dashboard"
      ]
    },
    {
      "cell_type": "code",
      "execution_count": null,
      "metadata": {
        "id": "D_voTYz09H7q",
        "colab": {
          "base_uri": "https://localhost:8080/"
        },
        "outputId": "bafc3742-1084-446d-8525-d5d0f6974df6"
      },
      "outputs": [
        {
          "output_type": "stream",
          "name": "stdout",
          "text": [
            "34.73.83.66\n",
            "\u001b[K\u001b[?25hnpx: installed 22 in 3.533s\n",
            "your url is: https://quiet-moose-fetch.loca.lt\n",
            "^C\n"
          ]
        }
      ],
      "source": [
        "!streamlit run app.py &>/content/logs.txt & curl ipv4.icanhazip.com\n",
        "!npx localtunnel --port 8501"
      ]
    }
  ],
  "metadata": {
    "colab": {
      "provenance": [],
      "include_colab_link": true
    },
    "kernelspec": {
      "display_name": "Python 3 (ipykernel)",
      "language": "python",
      "name": "python3"
    },
    "language_info": {
      "codemirror_mode": {
        "name": "ipython",
        "version": 3
      },
      "file_extension": ".py",
      "mimetype": "text/x-python",
      "name": "python",
      "nbconvert_exporter": "python",
      "pygments_lexer": "ipython3",
      "version": "3.9.13"
    }
  },
  "nbformat": 4,
  "nbformat_minor": 0
}