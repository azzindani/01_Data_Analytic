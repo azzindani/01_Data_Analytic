{
  "cells": [
    {
      "cell_type": "markdown",
      "metadata": {
        "id": "view-in-github",
        "colab_type": "text"
      },
      "source": [
        "<a href=\"https://colab.research.google.com/github/azzindani/01_Data_Analytic/blob/main/India_Crop_Production_Draft.ipynb\" target=\"_parent\"><img src=\"https://colab.research.google.com/assets/colab-badge.svg\" alt=\"Open In Colab\"/></a>"
      ]
    },
    {
      "cell_type": "markdown",
      "source": [
        "# PENDING"
      ],
      "metadata": {
        "id": "ajz0kWTosIpF"
      }
    },
    {
      "cell_type": "markdown",
      "metadata": {
        "id": "xzGjScgSt8W9"
      },
      "source": [
        "## 00 Importing Modules & Mounting Drive"
      ]
    },
    {
      "cell_type": "code",
      "execution_count": 1,
      "metadata": {
        "id": "yhXKjGT-OZvU",
        "colab": {
          "base_uri": "https://localhost:8080/"
        },
        "outputId": "b9ee927a-9783-4d8e-b9d8-de47c47886da"
      },
      "outputs": [
        {
          "output_type": "stream",
          "name": "stdout",
          "text": [
            "Requirement already satisfied: pandas-profiling in /usr/local/lib/python3.10/dist-packages (3.6.6)\n",
            "Requirement already satisfied: ydata-profiling in /usr/local/lib/python3.10/dist-packages (from pandas-profiling) (4.6.3)\n",
            "Requirement already satisfied: scipy<1.12,>=1.4.1 in /usr/local/lib/python3.10/dist-packages (from ydata-profiling->pandas-profiling) (1.11.4)\n",
            "Requirement already satisfied: pandas!=1.4.0,<3,>1.1 in /usr/local/lib/python3.10/dist-packages (from ydata-profiling->pandas-profiling) (1.5.3)\n",
            "Requirement already satisfied: matplotlib<3.9,>=3.2 in /usr/local/lib/python3.10/dist-packages (from ydata-profiling->pandas-profiling) (3.7.1)\n",
            "Requirement already satisfied: pydantic>=2 in /usr/local/lib/python3.10/dist-packages (from ydata-profiling->pandas-profiling) (2.5.3)\n",
            "Requirement already satisfied: PyYAML<6.1,>=5.0.0 in /usr/local/lib/python3.10/dist-packages (from ydata-profiling->pandas-profiling) (6.0.1)\n",
            "Requirement already satisfied: jinja2<3.2,>=2.11.1 in /usr/local/lib/python3.10/dist-packages (from ydata-profiling->pandas-profiling) (3.1.2)\n",
            "Requirement already satisfied: visions[type_image_path]==0.7.5 in /usr/local/lib/python3.10/dist-packages (from ydata-profiling->pandas-profiling) (0.7.5)\n",
            "Requirement already satisfied: numpy<1.26,>=1.16.0 in /usr/local/lib/python3.10/dist-packages (from ydata-profiling->pandas-profiling) (1.23.5)\n",
            "Requirement already satisfied: htmlmin==0.1.12 in /usr/local/lib/python3.10/dist-packages (from ydata-profiling->pandas-profiling) (0.1.12)\n",
            "Requirement already satisfied: phik<0.13,>=0.11.1 in /usr/local/lib/python3.10/dist-packages (from ydata-profiling->pandas-profiling) (0.12.3)\n",
            "Requirement already satisfied: requests<3,>=2.24.0 in /usr/local/lib/python3.10/dist-packages (from ydata-profiling->pandas-profiling) (2.31.0)\n",
            "Requirement already satisfied: tqdm<5,>=4.48.2 in /usr/local/lib/python3.10/dist-packages (from ydata-profiling->pandas-profiling) (4.66.1)\n",
            "Requirement already satisfied: seaborn<0.13,>=0.10.1 in /usr/local/lib/python3.10/dist-packages (from ydata-profiling->pandas-profiling) (0.12.2)\n",
            "Requirement already satisfied: multimethod<2,>=1.4 in /usr/local/lib/python3.10/dist-packages (from ydata-profiling->pandas-profiling) (1.10)\n",
            "Requirement already satisfied: statsmodels<1,>=0.13.2 in /usr/local/lib/python3.10/dist-packages (from ydata-profiling->pandas-profiling) (0.14.1)\n",
            "Requirement already satisfied: typeguard<5,>=4.1.2 in /usr/local/lib/python3.10/dist-packages (from ydata-profiling->pandas-profiling) (4.1.5)\n",
            "Requirement already satisfied: imagehash==4.3.1 in /usr/local/lib/python3.10/dist-packages (from ydata-profiling->pandas-profiling) (4.3.1)\n",
            "Requirement already satisfied: wordcloud>=1.9.1 in /usr/local/lib/python3.10/dist-packages (from ydata-profiling->pandas-profiling) (1.9.3)\n",
            "Requirement already satisfied: dacite>=1.8 in /usr/local/lib/python3.10/dist-packages (from ydata-profiling->pandas-profiling) (1.8.1)\n",
            "Requirement already satisfied: numba<0.59.0,>=0.56.0 in /usr/local/lib/python3.10/dist-packages (from ydata-profiling->pandas-profiling) (0.58.1)\n",
            "Requirement already satisfied: PyWavelets in /usr/local/lib/python3.10/dist-packages (from imagehash==4.3.1->ydata-profiling->pandas-profiling) (1.5.0)\n",
            "Requirement already satisfied: pillow in /usr/local/lib/python3.10/dist-packages (from imagehash==4.3.1->ydata-profiling->pandas-profiling) (9.4.0)\n",
            "Requirement already satisfied: attrs>=19.3.0 in /usr/local/lib/python3.10/dist-packages (from visions[type_image_path]==0.7.5->ydata-profiling->pandas-profiling) (23.1.0)\n",
            "Requirement already satisfied: networkx>=2.4 in /usr/local/lib/python3.10/dist-packages (from visions[type_image_path]==0.7.5->ydata-profiling->pandas-profiling) (3.2.1)\n",
            "Requirement already satisfied: tangled-up-in-unicode>=0.0.4 in /usr/local/lib/python3.10/dist-packages (from visions[type_image_path]==0.7.5->ydata-profiling->pandas-profiling) (0.2.0)\n",
            "Requirement already satisfied: MarkupSafe>=2.0 in /usr/local/lib/python3.10/dist-packages (from jinja2<3.2,>=2.11.1->ydata-profiling->pandas-profiling) (2.1.3)\n",
            "Requirement already satisfied: contourpy>=1.0.1 in /usr/local/lib/python3.10/dist-packages (from matplotlib<3.9,>=3.2->ydata-profiling->pandas-profiling) (1.2.0)\n",
            "Requirement already satisfied: cycler>=0.10 in /usr/local/lib/python3.10/dist-packages (from matplotlib<3.9,>=3.2->ydata-profiling->pandas-profiling) (0.12.1)\n",
            "Requirement already satisfied: fonttools>=4.22.0 in /usr/local/lib/python3.10/dist-packages (from matplotlib<3.9,>=3.2->ydata-profiling->pandas-profiling) (4.47.0)\n",
            "Requirement already satisfied: kiwisolver>=1.0.1 in /usr/local/lib/python3.10/dist-packages (from matplotlib<3.9,>=3.2->ydata-profiling->pandas-profiling) (1.4.5)\n",
            "Requirement already satisfied: packaging>=20.0 in /usr/local/lib/python3.10/dist-packages (from matplotlib<3.9,>=3.2->ydata-profiling->pandas-profiling) (23.2)\n",
            "Requirement already satisfied: pyparsing>=2.3.1 in /usr/local/lib/python3.10/dist-packages (from matplotlib<3.9,>=3.2->ydata-profiling->pandas-profiling) (3.1.1)\n",
            "Requirement already satisfied: python-dateutil>=2.7 in /usr/local/lib/python3.10/dist-packages (from matplotlib<3.9,>=3.2->ydata-profiling->pandas-profiling) (2.8.2)\n",
            "Requirement already satisfied: llvmlite<0.42,>=0.41.0dev0 in /usr/local/lib/python3.10/dist-packages (from numba<0.59.0,>=0.56.0->ydata-profiling->pandas-profiling) (0.41.1)\n",
            "Requirement already satisfied: pytz>=2020.1 in /usr/local/lib/python3.10/dist-packages (from pandas!=1.4.0,<3,>1.1->ydata-profiling->pandas-profiling) (2023.3.post1)\n",
            "Requirement already satisfied: joblib>=0.14.1 in /usr/local/lib/python3.10/dist-packages (from phik<0.13,>=0.11.1->ydata-profiling->pandas-profiling) (1.3.2)\n",
            "Requirement already satisfied: annotated-types>=0.4.0 in /usr/local/lib/python3.10/dist-packages (from pydantic>=2->ydata-profiling->pandas-profiling) (0.6.0)\n",
            "Requirement already satisfied: pydantic-core==2.14.6 in /usr/local/lib/python3.10/dist-packages (from pydantic>=2->ydata-profiling->pandas-profiling) (2.14.6)\n",
            "Requirement already satisfied: typing-extensions>=4.6.1 in /usr/local/lib/python3.10/dist-packages (from pydantic>=2->ydata-profiling->pandas-profiling) (4.9.0)\n",
            "Requirement already satisfied: charset-normalizer<4,>=2 in /usr/local/lib/python3.10/dist-packages (from requests<3,>=2.24.0->ydata-profiling->pandas-profiling) (3.3.2)\n",
            "Requirement already satisfied: idna<4,>=2.5 in /usr/local/lib/python3.10/dist-packages (from requests<3,>=2.24.0->ydata-profiling->pandas-profiling) (3.6)\n",
            "Requirement already satisfied: urllib3<3,>=1.21.1 in /usr/local/lib/python3.10/dist-packages (from requests<3,>=2.24.0->ydata-profiling->pandas-profiling) (2.0.7)\n",
            "Requirement already satisfied: certifi>=2017.4.17 in /usr/local/lib/python3.10/dist-packages (from requests<3,>=2.24.0->ydata-profiling->pandas-profiling) (2023.11.17)\n",
            "Requirement already satisfied: patsy>=0.5.4 in /usr/local/lib/python3.10/dist-packages (from statsmodels<1,>=0.13.2->ydata-profiling->pandas-profiling) (0.5.4)\n",
            "Requirement already satisfied: six in /usr/local/lib/python3.10/dist-packages (from patsy>=0.5.4->statsmodels<1,>=0.13.2->ydata-profiling->pandas-profiling) (1.16.0)\n",
            "Requirement already satisfied: streamlit in /usr/local/lib/python3.10/dist-packages (1.29.0)\n",
            "Requirement already satisfied: altair<6,>=4.0 in /usr/local/lib/python3.10/dist-packages (from streamlit) (4.2.2)\n",
            "Requirement already satisfied: blinker<2,>=1.0.0 in /usr/lib/python3/dist-packages (from streamlit) (1.4)\n",
            "Requirement already satisfied: cachetools<6,>=4.0 in /usr/local/lib/python3.10/dist-packages (from streamlit) (5.3.2)\n",
            "Requirement already satisfied: click<9,>=7.0 in /usr/local/lib/python3.10/dist-packages (from streamlit) (8.1.7)\n",
            "Requirement already satisfied: importlib-metadata<7,>=1.4 in /usr/local/lib/python3.10/dist-packages (from streamlit) (6.11.0)\n",
            "Requirement already satisfied: numpy<2,>=1.19.3 in /usr/local/lib/python3.10/dist-packages (from streamlit) (1.23.5)\n",
            "Requirement already satisfied: packaging<24,>=16.8 in /usr/local/lib/python3.10/dist-packages (from streamlit) (23.2)\n",
            "Requirement already satisfied: pandas<3,>=1.3.0 in /usr/local/lib/python3.10/dist-packages (from streamlit) (1.5.3)\n",
            "Requirement already satisfied: pillow<11,>=7.1.0 in /usr/local/lib/python3.10/dist-packages (from streamlit) (9.4.0)\n",
            "Requirement already satisfied: protobuf<5,>=3.20 in /usr/local/lib/python3.10/dist-packages (from streamlit) (3.20.3)\n",
            "Requirement already satisfied: pyarrow>=6.0 in /usr/local/lib/python3.10/dist-packages (from streamlit) (10.0.1)\n",
            "Requirement already satisfied: python-dateutil<3,>=2.7.3 in /usr/local/lib/python3.10/dist-packages (from streamlit) (2.8.2)\n",
            "Requirement already satisfied: requests<3,>=2.27 in /usr/local/lib/python3.10/dist-packages (from streamlit) (2.31.0)\n",
            "Requirement already satisfied: rich<14,>=10.14.0 in /usr/local/lib/python3.10/dist-packages (from streamlit) (13.7.0)\n",
            "Requirement already satisfied: tenacity<9,>=8.1.0 in /usr/local/lib/python3.10/dist-packages (from streamlit) (8.2.3)\n",
            "Requirement already satisfied: toml<2,>=0.10.1 in /usr/local/lib/python3.10/dist-packages (from streamlit) (0.10.2)\n",
            "Requirement already satisfied: typing-extensions<5,>=4.3.0 in /usr/local/lib/python3.10/dist-packages (from streamlit) (4.9.0)\n",
            "Requirement already satisfied: tzlocal<6,>=1.1 in /usr/local/lib/python3.10/dist-packages (from streamlit) (5.2)\n",
            "Requirement already satisfied: validators<1,>=0.2 in /usr/local/lib/python3.10/dist-packages (from streamlit) (0.22.0)\n",
            "Requirement already satisfied: gitpython!=3.1.19,<4,>=3.0.7 in /usr/local/lib/python3.10/dist-packages (from streamlit) (3.1.40)\n",
            "Requirement already satisfied: pydeck<1,>=0.8.0b4 in /usr/local/lib/python3.10/dist-packages (from streamlit) (0.8.1b0)\n",
            "Requirement already satisfied: tornado<7,>=6.0.3 in /usr/local/lib/python3.10/dist-packages (from streamlit) (6.3.2)\n",
            "Requirement already satisfied: watchdog>=2.1.5 in /usr/local/lib/python3.10/dist-packages (from streamlit) (3.0.0)\n",
            "Requirement already satisfied: entrypoints in /usr/local/lib/python3.10/dist-packages (from altair<6,>=4.0->streamlit) (0.4)\n",
            "Requirement already satisfied: jinja2 in /usr/local/lib/python3.10/dist-packages (from altair<6,>=4.0->streamlit) (3.1.2)\n",
            "Requirement already satisfied: jsonschema>=3.0 in /usr/local/lib/python3.10/dist-packages (from altair<6,>=4.0->streamlit) (4.19.2)\n",
            "Requirement already satisfied: toolz in /usr/local/lib/python3.10/dist-packages (from altair<6,>=4.0->streamlit) (0.12.0)\n",
            "Requirement already satisfied: gitdb<5,>=4.0.1 in /usr/local/lib/python3.10/dist-packages (from gitpython!=3.1.19,<4,>=3.0.7->streamlit) (4.0.11)\n",
            "Requirement already satisfied: zipp>=0.5 in /usr/local/lib/python3.10/dist-packages (from importlib-metadata<7,>=1.4->streamlit) (3.17.0)\n",
            "Requirement already satisfied: pytz>=2020.1 in /usr/local/lib/python3.10/dist-packages (from pandas<3,>=1.3.0->streamlit) (2023.3.post1)\n",
            "Requirement already satisfied: six>=1.5 in /usr/local/lib/python3.10/dist-packages (from python-dateutil<3,>=2.7.3->streamlit) (1.16.0)\n",
            "Requirement already satisfied: charset-normalizer<4,>=2 in /usr/local/lib/python3.10/dist-packages (from requests<3,>=2.27->streamlit) (3.3.2)\n",
            "Requirement already satisfied: idna<4,>=2.5 in /usr/local/lib/python3.10/dist-packages (from requests<3,>=2.27->streamlit) (3.6)\n",
            "Requirement already satisfied: urllib3<3,>=1.21.1 in /usr/local/lib/python3.10/dist-packages (from requests<3,>=2.27->streamlit) (2.0.7)\n",
            "Requirement already satisfied: certifi>=2017.4.17 in /usr/local/lib/python3.10/dist-packages (from requests<3,>=2.27->streamlit) (2023.11.17)\n",
            "Requirement already satisfied: markdown-it-py>=2.2.0 in /usr/local/lib/python3.10/dist-packages (from rich<14,>=10.14.0->streamlit) (3.0.0)\n",
            "Requirement already satisfied: pygments<3.0.0,>=2.13.0 in /usr/local/lib/python3.10/dist-packages (from rich<14,>=10.14.0->streamlit) (2.16.1)\n",
            "Requirement already satisfied: smmap<6,>=3.0.1 in /usr/local/lib/python3.10/dist-packages (from gitdb<5,>=4.0.1->gitpython!=3.1.19,<4,>=3.0.7->streamlit) (5.0.1)\n",
            "Requirement already satisfied: MarkupSafe>=2.0 in /usr/local/lib/python3.10/dist-packages (from jinja2->altair<6,>=4.0->streamlit) (2.1.3)\n",
            "Requirement already satisfied: attrs>=22.2.0 in /usr/local/lib/python3.10/dist-packages (from jsonschema>=3.0->altair<6,>=4.0->streamlit) (23.1.0)\n",
            "Requirement already satisfied: jsonschema-specifications>=2023.03.6 in /usr/local/lib/python3.10/dist-packages (from jsonschema>=3.0->altair<6,>=4.0->streamlit) (2023.11.2)\n",
            "Requirement already satisfied: referencing>=0.28.4 in /usr/local/lib/python3.10/dist-packages (from jsonschema>=3.0->altair<6,>=4.0->streamlit) (0.32.0)\n",
            "Requirement already satisfied: rpds-py>=0.7.1 in /usr/local/lib/python3.10/dist-packages (from jsonschema>=3.0->altair<6,>=4.0->streamlit) (0.15.2)\n",
            "Requirement already satisfied: mdurl~=0.1 in /usr/local/lib/python3.10/dist-packages (from markdown-it-py>=2.2.0->rich<14,>=10.14.0->streamlit) (0.1.2)\n",
            "\u001b[K\u001b[?25h\u001b[37;40mnpm\u001b[0m \u001b[0m\u001b[30;43mWARN\u001b[0m \u001b[0m\u001b[35msaveError\u001b[0m ENOENT: no such file or directory, open '/content/package.json'\n",
            "\u001b[0m\u001b[37;40mnpm\u001b[0m \u001b[0m\u001b[30;43mWARN\u001b[0m \u001b[0m\u001b[35menoent\u001b[0m ENOENT: no such file or directory, open '/content/package.json'\n",
            "\u001b[0m\u001b[37;40mnpm\u001b[0m \u001b[0m\u001b[30;43mWARN\u001b[0m\u001b[35m\u001b[0m content No description\n",
            "\u001b[0m\u001b[37;40mnpm\u001b[0m \u001b[0m\u001b[30;43mWARN\u001b[0m\u001b[35m\u001b[0m content No repository field.\n",
            "\u001b[0m\u001b[37;40mnpm\u001b[0m \u001b[0m\u001b[30;43mWARN\u001b[0m\u001b[35m\u001b[0m content No README data\n",
            "\u001b[0m\u001b[37;40mnpm\u001b[0m \u001b[0m\u001b[30;43mWARN\u001b[0m\u001b[35m\u001b[0m content No license field.\n",
            "\u001b[0m\n",
            "\u001b[K\u001b[?25h+ localtunnel@2.0.2\n",
            "updated 1 package and audited 36 packages in 0.445s\n",
            "\n",
            "3 packages are looking for funding\n",
            "  run `npm fund` for details\n",
            "\n",
            "found 2 \u001b[93mmoderate\u001b[0m severity vulnerabilities\n",
            "  run `npm audit fix` to fix them, or `npm audit` for details\n"
          ]
        }
      ],
      "source": [
        "!pip install pandas-profiling\n",
        "!pip install streamlit\n",
        "!npm install localtunnel"
      ]
    },
    {
      "cell_type": "code",
      "execution_count": 2,
      "metadata": {
        "id": "bbJ186eYbwSV"
      },
      "outputs": [],
      "source": [
        "import pathlib\n",
        "import datetime\n",
        "import seaborn as sns\n",
        "import matplotlib.pyplot as plt\n",
        "import geopandas as gpd\n",
        "import os\n",
        "import numpy as np\n",
        "import pandas as pd\n",
        "import plotly.express as px\n",
        "import plotly.graph_objects as go\n",
        "\n",
        "from ydata_profiling import ProfileReport\n",
        "from tabulate import tabulate\n",
        "from time import sleep\n",
        "\n",
        "%matplotlib inline"
      ]
    },
    {
      "cell_type": "code",
      "execution_count": 3,
      "metadata": {
        "id": "rrgwagAUQncC",
        "colab": {
          "base_uri": "https://localhost:8080/",
          "height": 35
        },
        "outputId": "d04c8a7b-4dc0-4250-88c8-de4a6346922b"
      },
      "outputs": [
        {
          "output_type": "execute_result",
          "data": {
            "text/plain": [
              "\"from google.colab import drive\\ndrive.mount('/content/drive') #\""
            ],
            "application/vnd.google.colaboratory.intrinsic+json": {
              "type": "string"
            }
          },
          "metadata": {},
          "execution_count": 3
        }
      ],
      "source": [
        "'''from google.colab import drive\n",
        "drive.mount('/content/drive') #'''"
      ]
    },
    {
      "cell_type": "code",
      "execution_count": 4,
      "metadata": {
        "id": "pSXOYp53b6bu",
        "colab": {
          "base_uri": "https://localhost:8080/",
          "height": 35
        },
        "outputId": "d13ca0af-a9fc-4ca5-8783-538a77805c19"
      },
      "outputs": [
        {
          "output_type": "execute_result",
          "data": {
            "text/plain": [
              "\"MAIN_PATH = str(pathlib.Path().resolve())\\nWORK_PATH = MAIN_PATH + '/drive/MyDrive/Workspace'\\nSOURCE_PATH = WORK_PATH + '/00_Data_Source'\\nCACHE_PATH = WORK_PATH + '/00_Cache_Data' #\""
            ],
            "application/vnd.google.colaboratory.intrinsic+json": {
              "type": "string"
            }
          },
          "metadata": {},
          "execution_count": 4
        }
      ],
      "source": [
        "'''MAIN_PATH = str(pathlib.Path().resolve())\n",
        "WORK_PATH = MAIN_PATH + '/drive/MyDrive/Workspace'\n",
        "SOURCE_PATH = WORK_PATH + '/00_Data_Source'\n",
        "CACHE_PATH = WORK_PATH + '/00_Cache_Data' #'''"
      ]
    },
    {
      "cell_type": "markdown",
      "metadata": {
        "id": "0PL56c4YuH6y"
      },
      "source": [
        "## 01 Choosing & Importing Dataset"
      ]
    },
    {
      "cell_type": "markdown",
      "metadata": {
        "id": "IqJI4S_NNrVf"
      },
      "source": [
        "### 01.01 Importing Main Data"
      ]
    },
    {
      "cell_type": "code",
      "execution_count": 5,
      "metadata": {
        "id": "XKZeeC_yuomA",
        "colab": {
          "base_uri": "https://localhost:8080/",
          "height": 159
        },
        "outputId": "4a63dadd-e61b-4c21-b191-080ff29b2a67"
      },
      "outputs": [
        {
          "output_type": "execute_result",
          "data": {
            "text/plain": [
              "   Dist Code  Year  State Code         State Dist Name  RICE AREA (1000 ha)  \\\n",
              "0          1  1978          14  Chhattisgarh      Durg                612.5   \n",
              "1          1  1979          14  Chhattisgarh      Durg                616.8   \n",
              "\n",
              "   RICE PRODUCTION (1000 tons)  RICE YIELD (Kg per ha)  WHEAT AREA (1000 ha)  \\\n",
              "0                        362.2                  591.35                  48.7   \n",
              "1                        330.6                  535.99                  44.6   \n",
              "\n",
              "   WHEAT PRODUCTION (1000 tons)  ...  SUGARCANE YIELD (Kg per ha)  \\\n",
              "0                          25.6  ...                       2000.0   \n",
              "1                          17.8  ...                       1000.0   \n",
              "\n",
              "   COTTON AREA (1000 ha)  COTTON PRODUCTION (1000 tons)  \\\n",
              "0                    0.0                            0.0   \n",
              "1                    0.0                            0.0   \n",
              "\n",
              "   COTTON YIELD (Kg per ha)  FRUITS AREA (1000 ha)  VEGETABLES AREA (1000 ha)  \\\n",
              "0                       0.0                   4.75                       8.67   \n",
              "1                       0.0                   4.76                       8.62   \n",
              "\n",
              "   FRUITS AND VEGETABLES AREA (1000 ha)  POTATOES AREA (1000 ha)  \\\n",
              "0                                 13.41                     0.04   \n",
              "1                                 13.38                     0.06   \n",
              "\n",
              "   ONION AREA (1000 ha)  FODDER AREA (1000 ha)  \n",
              "0                  0.43                   0.34  \n",
              "1                  0.48                   0.28  \n",
              "\n",
              "[2 rows x 80 columns]"
            ],
            "text/html": [
              "\n",
              "  <div id=\"df-835123a4-9c85-4e66-a22f-ac599b8572b8\" class=\"colab-df-container\">\n",
              "    <div>\n",
              "<style scoped>\n",
              "    .dataframe tbody tr th:only-of-type {\n",
              "        vertical-align: middle;\n",
              "    }\n",
              "\n",
              "    .dataframe tbody tr th {\n",
              "        vertical-align: top;\n",
              "    }\n",
              "\n",
              "    .dataframe thead th {\n",
              "        text-align: right;\n",
              "    }\n",
              "</style>\n",
              "<table border=\"1\" class=\"dataframe\">\n",
              "  <thead>\n",
              "    <tr style=\"text-align: right;\">\n",
              "      <th></th>\n",
              "      <th>Dist Code</th>\n",
              "      <th>Year</th>\n",
              "      <th>State Code</th>\n",
              "      <th>State</th>\n",
              "      <th>Dist Name</th>\n",
              "      <th>RICE AREA (1000 ha)</th>\n",
              "      <th>RICE PRODUCTION (1000 tons)</th>\n",
              "      <th>RICE YIELD (Kg per ha)</th>\n",
              "      <th>WHEAT AREA (1000 ha)</th>\n",
              "      <th>WHEAT PRODUCTION (1000 tons)</th>\n",
              "      <th>...</th>\n",
              "      <th>SUGARCANE YIELD (Kg per ha)</th>\n",
              "      <th>COTTON AREA (1000 ha)</th>\n",
              "      <th>COTTON PRODUCTION (1000 tons)</th>\n",
              "      <th>COTTON YIELD (Kg per ha)</th>\n",
              "      <th>FRUITS AREA (1000 ha)</th>\n",
              "      <th>VEGETABLES AREA (1000 ha)</th>\n",
              "      <th>FRUITS AND VEGETABLES AREA (1000 ha)</th>\n",
              "      <th>POTATOES AREA (1000 ha)</th>\n",
              "      <th>ONION AREA (1000 ha)</th>\n",
              "      <th>FODDER AREA (1000 ha)</th>\n",
              "    </tr>\n",
              "  </thead>\n",
              "  <tbody>\n",
              "    <tr>\n",
              "      <th>0</th>\n",
              "      <td>1</td>\n",
              "      <td>1978</td>\n",
              "      <td>14</td>\n",
              "      <td>Chhattisgarh</td>\n",
              "      <td>Durg</td>\n",
              "      <td>612.5</td>\n",
              "      <td>362.2</td>\n",
              "      <td>591.35</td>\n",
              "      <td>48.7</td>\n",
              "      <td>25.6</td>\n",
              "      <td>...</td>\n",
              "      <td>2000.0</td>\n",
              "      <td>0.0</td>\n",
              "      <td>0.0</td>\n",
              "      <td>0.0</td>\n",
              "      <td>4.75</td>\n",
              "      <td>8.67</td>\n",
              "      <td>13.41</td>\n",
              "      <td>0.04</td>\n",
              "      <td>0.43</td>\n",
              "      <td>0.34</td>\n",
              "    </tr>\n",
              "    <tr>\n",
              "      <th>1</th>\n",
              "      <td>1</td>\n",
              "      <td>1979</td>\n",
              "      <td>14</td>\n",
              "      <td>Chhattisgarh</td>\n",
              "      <td>Durg</td>\n",
              "      <td>616.8</td>\n",
              "      <td>330.6</td>\n",
              "      <td>535.99</td>\n",
              "      <td>44.6</td>\n",
              "      <td>17.8</td>\n",
              "      <td>...</td>\n",
              "      <td>1000.0</td>\n",
              "      <td>0.0</td>\n",
              "      <td>0.0</td>\n",
              "      <td>0.0</td>\n",
              "      <td>4.76</td>\n",
              "      <td>8.62</td>\n",
              "      <td>13.38</td>\n",
              "      <td>0.06</td>\n",
              "      <td>0.48</td>\n",
              "      <td>0.28</td>\n",
              "    </tr>\n",
              "  </tbody>\n",
              "</table>\n",
              "<p>2 rows × 80 columns</p>\n",
              "</div>\n",
              "    <div class=\"colab-df-buttons\">\n",
              "\n",
              "  <div class=\"colab-df-container\">\n",
              "    <button class=\"colab-df-convert\" onclick=\"convertToInteractive('df-835123a4-9c85-4e66-a22f-ac599b8572b8')\"\n",
              "            title=\"Convert this dataframe to an interactive table.\"\n",
              "            style=\"display:none;\">\n",
              "\n",
              "  <svg xmlns=\"http://www.w3.org/2000/svg\" height=\"24px\" viewBox=\"0 -960 960 960\">\n",
              "    <path d=\"M120-120v-720h720v720H120Zm60-500h600v-160H180v160Zm220 220h160v-160H400v160Zm0 220h160v-160H400v160ZM180-400h160v-160H180v160Zm440 0h160v-160H620v160ZM180-180h160v-160H180v160Zm440 0h160v-160H620v160Z\"/>\n",
              "  </svg>\n",
              "    </button>\n",
              "\n",
              "  <style>\n",
              "    .colab-df-container {\n",
              "      display:flex;\n",
              "      gap: 12px;\n",
              "    }\n",
              "\n",
              "    .colab-df-convert {\n",
              "      background-color: #E8F0FE;\n",
              "      border: none;\n",
              "      border-radius: 50%;\n",
              "      cursor: pointer;\n",
              "      display: none;\n",
              "      fill: #1967D2;\n",
              "      height: 32px;\n",
              "      padding: 0 0 0 0;\n",
              "      width: 32px;\n",
              "    }\n",
              "\n",
              "    .colab-df-convert:hover {\n",
              "      background-color: #E2EBFA;\n",
              "      box-shadow: 0px 1px 2px rgba(60, 64, 67, 0.3), 0px 1px 3px 1px rgba(60, 64, 67, 0.15);\n",
              "      fill: #174EA6;\n",
              "    }\n",
              "\n",
              "    .colab-df-buttons div {\n",
              "      margin-bottom: 4px;\n",
              "    }\n",
              "\n",
              "    [theme=dark] .colab-df-convert {\n",
              "      background-color: #3B4455;\n",
              "      fill: #D2E3FC;\n",
              "    }\n",
              "\n",
              "    [theme=dark] .colab-df-convert:hover {\n",
              "      background-color: #434B5C;\n",
              "      box-shadow: 0px 1px 3px 1px rgba(0, 0, 0, 0.15);\n",
              "      filter: drop-shadow(0px 1px 2px rgba(0, 0, 0, 0.3));\n",
              "      fill: #FFFFFF;\n",
              "    }\n",
              "  </style>\n",
              "\n",
              "    <script>\n",
              "      const buttonEl =\n",
              "        document.querySelector('#df-835123a4-9c85-4e66-a22f-ac599b8572b8 button.colab-df-convert');\n",
              "      buttonEl.style.display =\n",
              "        google.colab.kernel.accessAllowed ? 'block' : 'none';\n",
              "\n",
              "      async function convertToInteractive(key) {\n",
              "        const element = document.querySelector('#df-835123a4-9c85-4e66-a22f-ac599b8572b8');\n",
              "        const dataTable =\n",
              "          await google.colab.kernel.invokeFunction('convertToInteractive',\n",
              "                                                    [key], {});\n",
              "        if (!dataTable) return;\n",
              "\n",
              "        const docLinkHtml = 'Like what you see? Visit the ' +\n",
              "          '<a target=\"_blank\" href=https://colab.research.google.com/notebooks/data_table.ipynb>data table notebook</a>'\n",
              "          + ' to learn more about interactive tables.';\n",
              "        element.innerHTML = '';\n",
              "        dataTable['output_type'] = 'display_data';\n",
              "        await google.colab.output.renderOutput(dataTable, element);\n",
              "        const docLink = document.createElement('div');\n",
              "        docLink.innerHTML = docLinkHtml;\n",
              "        element.appendChild(docLink);\n",
              "      }\n",
              "    </script>\n",
              "  </div>\n",
              "\n",
              "\n",
              "<div id=\"df-e582d41d-3750-4223-a0b5-3601ec20a87f\">\n",
              "  <button class=\"colab-df-quickchart\" onclick=\"quickchart('df-e582d41d-3750-4223-a0b5-3601ec20a87f')\"\n",
              "            title=\"Suggest charts\"\n",
              "            style=\"display:none;\">\n",
              "\n",
              "<svg xmlns=\"http://www.w3.org/2000/svg\" height=\"24px\"viewBox=\"0 0 24 24\"\n",
              "     width=\"24px\">\n",
              "    <g>\n",
              "        <path d=\"M19 3H5c-1.1 0-2 .9-2 2v14c0 1.1.9 2 2 2h14c1.1 0 2-.9 2-2V5c0-1.1-.9-2-2-2zM9 17H7v-7h2v7zm4 0h-2V7h2v10zm4 0h-2v-4h2v4z\"/>\n",
              "    </g>\n",
              "</svg>\n",
              "  </button>\n",
              "\n",
              "<style>\n",
              "  .colab-df-quickchart {\n",
              "      --bg-color: #E8F0FE;\n",
              "      --fill-color: #1967D2;\n",
              "      --hover-bg-color: #E2EBFA;\n",
              "      --hover-fill-color: #174EA6;\n",
              "      --disabled-fill-color: #AAA;\n",
              "      --disabled-bg-color: #DDD;\n",
              "  }\n",
              "\n",
              "  [theme=dark] .colab-df-quickchart {\n",
              "      --bg-color: #3B4455;\n",
              "      --fill-color: #D2E3FC;\n",
              "      --hover-bg-color: #434B5C;\n",
              "      --hover-fill-color: #FFFFFF;\n",
              "      --disabled-bg-color: #3B4455;\n",
              "      --disabled-fill-color: #666;\n",
              "  }\n",
              "\n",
              "  .colab-df-quickchart {\n",
              "    background-color: var(--bg-color);\n",
              "    border: none;\n",
              "    border-radius: 50%;\n",
              "    cursor: pointer;\n",
              "    display: none;\n",
              "    fill: var(--fill-color);\n",
              "    height: 32px;\n",
              "    padding: 0;\n",
              "    width: 32px;\n",
              "  }\n",
              "\n",
              "  .colab-df-quickchart:hover {\n",
              "    background-color: var(--hover-bg-color);\n",
              "    box-shadow: 0 1px 2px rgba(60, 64, 67, 0.3), 0 1px 3px 1px rgba(60, 64, 67, 0.15);\n",
              "    fill: var(--button-hover-fill-color);\n",
              "  }\n",
              "\n",
              "  .colab-df-quickchart-complete:disabled,\n",
              "  .colab-df-quickchart-complete:disabled:hover {\n",
              "    background-color: var(--disabled-bg-color);\n",
              "    fill: var(--disabled-fill-color);\n",
              "    box-shadow: none;\n",
              "  }\n",
              "\n",
              "  .colab-df-spinner {\n",
              "    border: 2px solid var(--fill-color);\n",
              "    border-color: transparent;\n",
              "    border-bottom-color: var(--fill-color);\n",
              "    animation:\n",
              "      spin 1s steps(1) infinite;\n",
              "  }\n",
              "\n",
              "  @keyframes spin {\n",
              "    0% {\n",
              "      border-color: transparent;\n",
              "      border-bottom-color: var(--fill-color);\n",
              "      border-left-color: var(--fill-color);\n",
              "    }\n",
              "    20% {\n",
              "      border-color: transparent;\n",
              "      border-left-color: var(--fill-color);\n",
              "      border-top-color: var(--fill-color);\n",
              "    }\n",
              "    30% {\n",
              "      border-color: transparent;\n",
              "      border-left-color: var(--fill-color);\n",
              "      border-top-color: var(--fill-color);\n",
              "      border-right-color: var(--fill-color);\n",
              "    }\n",
              "    40% {\n",
              "      border-color: transparent;\n",
              "      border-right-color: var(--fill-color);\n",
              "      border-top-color: var(--fill-color);\n",
              "    }\n",
              "    60% {\n",
              "      border-color: transparent;\n",
              "      border-right-color: var(--fill-color);\n",
              "    }\n",
              "    80% {\n",
              "      border-color: transparent;\n",
              "      border-right-color: var(--fill-color);\n",
              "      border-bottom-color: var(--fill-color);\n",
              "    }\n",
              "    90% {\n",
              "      border-color: transparent;\n",
              "      border-bottom-color: var(--fill-color);\n",
              "    }\n",
              "  }\n",
              "</style>\n",
              "\n",
              "  <script>\n",
              "    async function quickchart(key) {\n",
              "      const quickchartButtonEl =\n",
              "        document.querySelector('#' + key + ' button');\n",
              "      quickchartButtonEl.disabled = true;  // To prevent multiple clicks.\n",
              "      quickchartButtonEl.classList.add('colab-df-spinner');\n",
              "      try {\n",
              "        const charts = await google.colab.kernel.invokeFunction(\n",
              "            'suggestCharts', [key], {});\n",
              "      } catch (error) {\n",
              "        console.error('Error during call to suggestCharts:', error);\n",
              "      }\n",
              "      quickchartButtonEl.classList.remove('colab-df-spinner');\n",
              "      quickchartButtonEl.classList.add('colab-df-quickchart-complete');\n",
              "    }\n",
              "    (() => {\n",
              "      let quickchartButtonEl =\n",
              "        document.querySelector('#df-e582d41d-3750-4223-a0b5-3601ec20a87f button');\n",
              "      quickchartButtonEl.style.display =\n",
              "        google.colab.kernel.accessAllowed ? 'block' : 'none';\n",
              "    })();\n",
              "  </script>\n",
              "</div>\n",
              "    </div>\n",
              "  </div>\n"
            ]
          },
          "metadata": {},
          "execution_count": 5
        }
      ],
      "source": [
        "dataset_path = 'https://raw.githubusercontent.com/azzindani/00_Data_Source/main/India_Crop_Production.csv'\n",
        "df = pd.read_csv(dataset_path)#, encoding = 'ISO-8859-1')#, sep = '\\t')\n",
        "df = df.rename(columns = {'State Name' : 'State'})\n",
        "df.head(2)"
      ]
    },
    {
      "cell_type": "markdown",
      "metadata": {
        "id": "ijGWg9ve51iA"
      },
      "source": [
        "### 01.02 Importing Geo Data"
      ]
    },
    {
      "cell_type": "code",
      "source": [
        "gdf = gpd.read_file('https://raw.githubusercontent.com/adarshbiradar/maps-geojson/master/india.json')\n",
        "gdf = gdf.rename(columns = {'st_nm' : 'State'})\n",
        "gdf.head(2)"
      ],
      "metadata": {
        "colab": {
          "base_uri": "https://localhost:8080/",
          "height": 112
        },
        "id": "SXBKIe_-uZ2Z",
        "outputId": "5da70c21-6ec9-4d98-f7ba-74439e20770b"
      },
      "execution_count": 6,
      "outputs": [
        {
          "output_type": "execute_result",
          "data": {
            "text/plain": [
              "                         State  \\\n",
              "0  Andaman and Nicobar Islands   \n",
              "1            Arunachal Pradesh   \n",
              "\n",
              "                                            geometry  \n",
              "0  MULTIPOLYGON (((93.84831 7.24028, 93.92705 7.0...  \n",
              "1  POLYGON ((95.23643 26.68105, 95.19594 27.03612...  "
            ],
            "text/html": [
              "\n",
              "  <div id=\"df-31f14f4e-f531-4f52-a1d8-01aa7d4ad444\" class=\"colab-df-container\">\n",
              "    <div>\n",
              "<style scoped>\n",
              "    .dataframe tbody tr th:only-of-type {\n",
              "        vertical-align: middle;\n",
              "    }\n",
              "\n",
              "    .dataframe tbody tr th {\n",
              "        vertical-align: top;\n",
              "    }\n",
              "\n",
              "    .dataframe thead th {\n",
              "        text-align: right;\n",
              "    }\n",
              "</style>\n",
              "<table border=\"1\" class=\"dataframe\">\n",
              "  <thead>\n",
              "    <tr style=\"text-align: right;\">\n",
              "      <th></th>\n",
              "      <th>State</th>\n",
              "      <th>geometry</th>\n",
              "    </tr>\n",
              "  </thead>\n",
              "  <tbody>\n",
              "    <tr>\n",
              "      <th>0</th>\n",
              "      <td>Andaman and Nicobar Islands</td>\n",
              "      <td>MULTIPOLYGON (((93.84831 7.24028, 93.92705 7.0...</td>\n",
              "    </tr>\n",
              "    <tr>\n",
              "      <th>1</th>\n",
              "      <td>Arunachal Pradesh</td>\n",
              "      <td>POLYGON ((95.23643 26.68105, 95.19594 27.03612...</td>\n",
              "    </tr>\n",
              "  </tbody>\n",
              "</table>\n",
              "</div>\n",
              "    <div class=\"colab-df-buttons\">\n",
              "\n",
              "  <div class=\"colab-df-container\">\n",
              "    <button class=\"colab-df-convert\" onclick=\"convertToInteractive('df-31f14f4e-f531-4f52-a1d8-01aa7d4ad444')\"\n",
              "            title=\"Convert this dataframe to an interactive table.\"\n",
              "            style=\"display:none;\">\n",
              "\n",
              "  <svg xmlns=\"http://www.w3.org/2000/svg\" height=\"24px\" viewBox=\"0 -960 960 960\">\n",
              "    <path d=\"M120-120v-720h720v720H120Zm60-500h600v-160H180v160Zm220 220h160v-160H400v160Zm0 220h160v-160H400v160ZM180-400h160v-160H180v160Zm440 0h160v-160H620v160ZM180-180h160v-160H180v160Zm440 0h160v-160H620v160Z\"/>\n",
              "  </svg>\n",
              "    </button>\n",
              "\n",
              "  <style>\n",
              "    .colab-df-container {\n",
              "      display:flex;\n",
              "      gap: 12px;\n",
              "    }\n",
              "\n",
              "    .colab-df-convert {\n",
              "      background-color: #E8F0FE;\n",
              "      border: none;\n",
              "      border-radius: 50%;\n",
              "      cursor: pointer;\n",
              "      display: none;\n",
              "      fill: #1967D2;\n",
              "      height: 32px;\n",
              "      padding: 0 0 0 0;\n",
              "      width: 32px;\n",
              "    }\n",
              "\n",
              "    .colab-df-convert:hover {\n",
              "      background-color: #E2EBFA;\n",
              "      box-shadow: 0px 1px 2px rgba(60, 64, 67, 0.3), 0px 1px 3px 1px rgba(60, 64, 67, 0.15);\n",
              "      fill: #174EA6;\n",
              "    }\n",
              "\n",
              "    .colab-df-buttons div {\n",
              "      margin-bottom: 4px;\n",
              "    }\n",
              "\n",
              "    [theme=dark] .colab-df-convert {\n",
              "      background-color: #3B4455;\n",
              "      fill: #D2E3FC;\n",
              "    }\n",
              "\n",
              "    [theme=dark] .colab-df-convert:hover {\n",
              "      background-color: #434B5C;\n",
              "      box-shadow: 0px 1px 3px 1px rgba(0, 0, 0, 0.15);\n",
              "      filter: drop-shadow(0px 1px 2px rgba(0, 0, 0, 0.3));\n",
              "      fill: #FFFFFF;\n",
              "    }\n",
              "  </style>\n",
              "\n",
              "    <script>\n",
              "      const buttonEl =\n",
              "        document.querySelector('#df-31f14f4e-f531-4f52-a1d8-01aa7d4ad444 button.colab-df-convert');\n",
              "      buttonEl.style.display =\n",
              "        google.colab.kernel.accessAllowed ? 'block' : 'none';\n",
              "\n",
              "      async function convertToInteractive(key) {\n",
              "        const element = document.querySelector('#df-31f14f4e-f531-4f52-a1d8-01aa7d4ad444');\n",
              "        const dataTable =\n",
              "          await google.colab.kernel.invokeFunction('convertToInteractive',\n",
              "                                                    [key], {});\n",
              "        if (!dataTable) return;\n",
              "\n",
              "        const docLinkHtml = 'Like what you see? Visit the ' +\n",
              "          '<a target=\"_blank\" href=https://colab.research.google.com/notebooks/data_table.ipynb>data table notebook</a>'\n",
              "          + ' to learn more about interactive tables.';\n",
              "        element.innerHTML = '';\n",
              "        dataTable['output_type'] = 'display_data';\n",
              "        await google.colab.output.renderOutput(dataTable, element);\n",
              "        const docLink = document.createElement('div');\n",
              "        docLink.innerHTML = docLinkHtml;\n",
              "        element.appendChild(docLink);\n",
              "      }\n",
              "    </script>\n",
              "  </div>\n",
              "\n",
              "\n",
              "<div id=\"df-cc023d10-5f3c-461b-9453-b068f7fa18ac\">\n",
              "  <button class=\"colab-df-quickchart\" onclick=\"quickchart('df-cc023d10-5f3c-461b-9453-b068f7fa18ac')\"\n",
              "            title=\"Suggest charts\"\n",
              "            style=\"display:none;\">\n",
              "\n",
              "<svg xmlns=\"http://www.w3.org/2000/svg\" height=\"24px\"viewBox=\"0 0 24 24\"\n",
              "     width=\"24px\">\n",
              "    <g>\n",
              "        <path d=\"M19 3H5c-1.1 0-2 .9-2 2v14c0 1.1.9 2 2 2h14c1.1 0 2-.9 2-2V5c0-1.1-.9-2-2-2zM9 17H7v-7h2v7zm4 0h-2V7h2v10zm4 0h-2v-4h2v4z\"/>\n",
              "    </g>\n",
              "</svg>\n",
              "  </button>\n",
              "\n",
              "<style>\n",
              "  .colab-df-quickchart {\n",
              "      --bg-color: #E8F0FE;\n",
              "      --fill-color: #1967D2;\n",
              "      --hover-bg-color: #E2EBFA;\n",
              "      --hover-fill-color: #174EA6;\n",
              "      --disabled-fill-color: #AAA;\n",
              "      --disabled-bg-color: #DDD;\n",
              "  }\n",
              "\n",
              "  [theme=dark] .colab-df-quickchart {\n",
              "      --bg-color: #3B4455;\n",
              "      --fill-color: #D2E3FC;\n",
              "      --hover-bg-color: #434B5C;\n",
              "      --hover-fill-color: #FFFFFF;\n",
              "      --disabled-bg-color: #3B4455;\n",
              "      --disabled-fill-color: #666;\n",
              "  }\n",
              "\n",
              "  .colab-df-quickchart {\n",
              "    background-color: var(--bg-color);\n",
              "    border: none;\n",
              "    border-radius: 50%;\n",
              "    cursor: pointer;\n",
              "    display: none;\n",
              "    fill: var(--fill-color);\n",
              "    height: 32px;\n",
              "    padding: 0;\n",
              "    width: 32px;\n",
              "  }\n",
              "\n",
              "  .colab-df-quickchart:hover {\n",
              "    background-color: var(--hover-bg-color);\n",
              "    box-shadow: 0 1px 2px rgba(60, 64, 67, 0.3), 0 1px 3px 1px rgba(60, 64, 67, 0.15);\n",
              "    fill: var(--button-hover-fill-color);\n",
              "  }\n",
              "\n",
              "  .colab-df-quickchart-complete:disabled,\n",
              "  .colab-df-quickchart-complete:disabled:hover {\n",
              "    background-color: var(--disabled-bg-color);\n",
              "    fill: var(--disabled-fill-color);\n",
              "    box-shadow: none;\n",
              "  }\n",
              "\n",
              "  .colab-df-spinner {\n",
              "    border: 2px solid var(--fill-color);\n",
              "    border-color: transparent;\n",
              "    border-bottom-color: var(--fill-color);\n",
              "    animation:\n",
              "      spin 1s steps(1) infinite;\n",
              "  }\n",
              "\n",
              "  @keyframes spin {\n",
              "    0% {\n",
              "      border-color: transparent;\n",
              "      border-bottom-color: var(--fill-color);\n",
              "      border-left-color: var(--fill-color);\n",
              "    }\n",
              "    20% {\n",
              "      border-color: transparent;\n",
              "      border-left-color: var(--fill-color);\n",
              "      border-top-color: var(--fill-color);\n",
              "    }\n",
              "    30% {\n",
              "      border-color: transparent;\n",
              "      border-left-color: var(--fill-color);\n",
              "      border-top-color: var(--fill-color);\n",
              "      border-right-color: var(--fill-color);\n",
              "    }\n",
              "    40% {\n",
              "      border-color: transparent;\n",
              "      border-right-color: var(--fill-color);\n",
              "      border-top-color: var(--fill-color);\n",
              "    }\n",
              "    60% {\n",
              "      border-color: transparent;\n",
              "      border-right-color: var(--fill-color);\n",
              "    }\n",
              "    80% {\n",
              "      border-color: transparent;\n",
              "      border-right-color: var(--fill-color);\n",
              "      border-bottom-color: var(--fill-color);\n",
              "    }\n",
              "    90% {\n",
              "      border-color: transparent;\n",
              "      border-bottom-color: var(--fill-color);\n",
              "    }\n",
              "  }\n",
              "</style>\n",
              "\n",
              "  <script>\n",
              "    async function quickchart(key) {\n",
              "      const quickchartButtonEl =\n",
              "        document.querySelector('#' + key + ' button');\n",
              "      quickchartButtonEl.disabled = true;  // To prevent multiple clicks.\n",
              "      quickchartButtonEl.classList.add('colab-df-spinner');\n",
              "      try {\n",
              "        const charts = await google.colab.kernel.invokeFunction(\n",
              "            'suggestCharts', [key], {});\n",
              "      } catch (error) {\n",
              "        console.error('Error during call to suggestCharts:', error);\n",
              "      }\n",
              "      quickchartButtonEl.classList.remove('colab-df-spinner');\n",
              "      quickchartButtonEl.classList.add('colab-df-quickchart-complete');\n",
              "    }\n",
              "    (() => {\n",
              "      let quickchartButtonEl =\n",
              "        document.querySelector('#df-cc023d10-5f3c-461b-9453-b068f7fa18ac button');\n",
              "      quickchartButtonEl.style.display =\n",
              "        google.colab.kernel.accessAllowed ? 'block' : 'none';\n",
              "    })();\n",
              "  </script>\n",
              "</div>\n",
              "    </div>\n",
              "  </div>\n"
            ]
          },
          "metadata": {},
          "execution_count": 6
        }
      ]
    },
    {
      "cell_type": "markdown",
      "metadata": {
        "id": "bDb0JNRq5-kL"
      },
      "source": [
        "### 01.03 Importing Additional Data (for enrichment)"
      ]
    },
    {
      "cell_type": "markdown",
      "metadata": {
        "id": "h64mxkfP2bSU"
      },
      "source": [
        "## 02 Checking Data"
      ]
    },
    {
      "cell_type": "code",
      "execution_count": 7,
      "metadata": {
        "id": "St-0d98v2Myk",
        "colab": {
          "base_uri": "https://localhost:8080/"
        },
        "outputId": "6dff667c-5ffe-4481-c76e-296300251c11"
      },
      "outputs": [
        {
          "output_type": "execute_result",
          "data": {
            "text/plain": [
              "(12418, 80)"
            ]
          },
          "metadata": {},
          "execution_count": 7
        }
      ],
      "source": [
        "df.shape"
      ]
    },
    {
      "cell_type": "code",
      "execution_count": 8,
      "metadata": {
        "id": "5ikQRhjF2gRm",
        "colab": {
          "base_uri": "https://localhost:8080/"
        },
        "outputId": "ba79089f-c0c6-4f00-fbb9-35ebfce83800"
      },
      "outputs": [
        {
          "output_type": "execute_result",
          "data": {
            "text/plain": [
              "Index(['Dist Code', 'Year', 'State Code', 'State', 'Dist Name',\n",
              "       'RICE AREA (1000 ha)', 'RICE PRODUCTION (1000 tons)',\n",
              "       'RICE YIELD (Kg per ha)', 'WHEAT AREA (1000 ha)',\n",
              "       'WHEAT PRODUCTION (1000 tons)', 'WHEAT YIELD (Kg per ha)',\n",
              "       'KHARIF SORGHUM AREA (1000 ha)',\n",
              "       'KHARIF SORGHUM PRODUCTION (1000 tons)',\n",
              "       'KHARIF SORGHUM YIELD (Kg per ha)', 'RABI SORGHUM AREA (1000 ha)',\n",
              "       'RABI SORGHUM PRODUCTION (1000 tons)', 'RABI SORGHUM YIELD (Kg per ha)',\n",
              "       'SORGHUM AREA (1000 ha)', 'SORGHUM PRODUCTION (1000 tons)',\n",
              "       'SORGHUM YIELD (Kg per ha)', 'PEARL MILLET AREA (1000 ha)',\n",
              "       'PEARL MILLET PRODUCTION (1000 tons)', 'PEARL MILLET YIELD (Kg per ha)',\n",
              "       'MAIZE AREA (1000 ha)', 'MAIZE PRODUCTION (1000 tons)',\n",
              "       'MAIZE YIELD (Kg per ha)', 'FINGER MILLET AREA (1000 ha)',\n",
              "       'FINGER MILLET PRODUCTION (1000 tons)',\n",
              "       'FINGER MILLET YIELD (Kg per ha)', 'BARLEY AREA (1000 ha)',\n",
              "       'BARLEY PRODUCTION (1000 tons)', 'BARLEY YIELD (Kg per ha)',\n",
              "       'CHICKPEA AREA (1000 ha)', 'CHICKPEA PRODUCTION (1000 tons)',\n",
              "       'CHICKPEA YIELD (Kg per ha)', 'PIGEONPEA AREA (1000 ha)',\n",
              "       'PIGEONPEA PRODUCTION (1000 tons)', 'PIGEONPEA YIELD (Kg per ha)',\n",
              "       'MINOR PULSES AREA (1000 ha)', 'MINOR PULSES PRODUCTION (1000 tons)',\n",
              "       'MINOR PULSES YIELD (Kg per ha)', 'GROUNDNUT AREA (1000 ha)',\n",
              "       'GROUNDNUT PRODUCTION (1000 tons)', 'GROUNDNUT YIELD (Kg per ha)',\n",
              "       'SESAMUM AREA (1000 ha)', 'SESAMUM PRODUCTION (1000 tons)',\n",
              "       'SESAMUM YIELD (Kg per ha)', 'RAPESEED AND MUSTARD AREA (1000 ha)',\n",
              "       'RAPESEED AND MUSTARD PRODUCTION (1000 tons)',\n",
              "       'RAPESEED AND MUSTARD YIELD (Kg per ha)', 'SAFFLOWER AREA (1000 ha)',\n",
              "       'SAFFLOWER PRODUCTION (1000 tons)', 'SAFFLOWER YIELD (Kg per ha)',\n",
              "       'CASTOR AREA (1000 ha)', 'CASTOR PRODUCTION (1000 tons)',\n",
              "       'CASTOR YIELD (Kg per ha)', 'LINSEED AREA (1000 ha)',\n",
              "       'LINSEED PRODUCTION (1000 tons)', 'LINSEED YIELD (Kg per ha)',\n",
              "       'SUNFLOWER AREA (1000 ha)', 'SUNFLOWER PRODUCTION (1000 tons)',\n",
              "       'SUNFLOWER YIELD (Kg per ha)', 'SOYABEAN AREA (1000 ha)',\n",
              "       'SOYABEAN PRODUCTION (1000 tons)', 'SOYABEAN YIELD (Kg per ha)',\n",
              "       'OILSEEDS AREA (1000 ha)', 'OILSEEDS PRODUCTION (1000 tons)',\n",
              "       'OILSEEDS YIELD (Kg per ha)', 'SUGARCANE AREA (1000 ha)',\n",
              "       'SUGARCANE PRODUCTION (1000 tons)', 'SUGARCANE YIELD (Kg per ha)',\n",
              "       'COTTON AREA (1000 ha)', 'COTTON PRODUCTION (1000 tons)',\n",
              "       'COTTON YIELD (Kg per ha)', 'FRUITS AREA (1000 ha)',\n",
              "       'VEGETABLES AREA (1000 ha)', 'FRUITS AND VEGETABLES AREA (1000 ha)',\n",
              "       'POTATOES AREA (1000 ha)', 'ONION AREA (1000 ha)',\n",
              "       'FODDER AREA (1000 ha)'],\n",
              "      dtype='object')"
            ]
          },
          "metadata": {},
          "execution_count": 8
        }
      ],
      "source": [
        "df.columns"
      ]
    },
    {
      "cell_type": "code",
      "execution_count": 9,
      "metadata": {
        "id": "KbzzoKIj2iUB",
        "colab": {
          "base_uri": "https://localhost:8080/"
        },
        "outputId": "aa32de3d-50a6-4770-dc42-083e8d72a363"
      },
      "outputs": [
        {
          "output_type": "execute_result",
          "data": {
            "text/plain": [
              "Dist Code                                311\n",
              "Year                                      40\n",
              "State Code                                20\n",
              "State                                     20\n",
              "Dist Name                                311\n",
              "                                        ... \n",
              "VEGETABLES AREA (1000 ha)               3539\n",
              "FRUITS AND VEGETABLES AREA (1000 ha)    4833\n",
              "POTATOES AREA (1000 ha)                 1845\n",
              "ONION AREA (1000 ha)                     965\n",
              "FODDER AREA (1000 ha)                   3820\n",
              "Length: 80, dtype: int64"
            ]
          },
          "metadata": {},
          "execution_count": 9
        }
      ],
      "source": [
        "df.nunique()"
      ]
    },
    {
      "cell_type": "code",
      "execution_count": 10,
      "metadata": {
        "id": "5-9KO3Mi2lKG",
        "colab": {
          "base_uri": "https://localhost:8080/"
        },
        "outputId": "b4feb86b-01f8-4889-9fb6-936edf13e0e4"
      },
      "outputs": [
        {
          "output_type": "stream",
          "name": "stdout",
          "text": [
            "<class 'pandas.core.frame.DataFrame'>\n",
            "RangeIndex: 12418 entries, 0 to 12417\n",
            "Data columns (total 80 columns):\n",
            " #   Column                                       Non-Null Count  Dtype  \n",
            "---  ------                                       --------------  -----  \n",
            " 0   Dist Code                                    12418 non-null  int64  \n",
            " 1   Year                                         12418 non-null  int64  \n",
            " 2   State Code                                   12418 non-null  int64  \n",
            " 3   State                                        12418 non-null  object \n",
            " 4   Dist Name                                    12418 non-null  object \n",
            " 5   RICE AREA (1000 ha)                          12418 non-null  float64\n",
            " 6   RICE PRODUCTION (1000 tons)                  12418 non-null  float64\n",
            " 7   RICE YIELD (Kg per ha)                       12418 non-null  float64\n",
            " 8   WHEAT AREA (1000 ha)                         12418 non-null  float64\n",
            " 9   WHEAT PRODUCTION (1000 tons)                 12418 non-null  float64\n",
            " 10  WHEAT YIELD (Kg per ha)                      12418 non-null  float64\n",
            " 11  KHARIF SORGHUM AREA (1000 ha)                12418 non-null  float64\n",
            " 12  KHARIF SORGHUM PRODUCTION (1000 tons)        12418 non-null  float64\n",
            " 13  KHARIF SORGHUM YIELD (Kg per ha)             12418 non-null  float64\n",
            " 14  RABI SORGHUM AREA (1000 ha)                  12418 non-null  float64\n",
            " 15  RABI SORGHUM PRODUCTION (1000 tons)          12418 non-null  float64\n",
            " 16  RABI SORGHUM YIELD (Kg per ha)               12418 non-null  float64\n",
            " 17  SORGHUM AREA (1000 ha)                       12418 non-null  float64\n",
            " 18  SORGHUM PRODUCTION (1000 tons)               12418 non-null  float64\n",
            " 19  SORGHUM YIELD (Kg per ha)                    12418 non-null  float64\n",
            " 20  PEARL MILLET AREA (1000 ha)                  12418 non-null  float64\n",
            " 21  PEARL MILLET PRODUCTION (1000 tons)          12418 non-null  float64\n",
            " 22  PEARL MILLET YIELD (Kg per ha)               12418 non-null  float64\n",
            " 23  MAIZE AREA (1000 ha)                         12418 non-null  float64\n",
            " 24  MAIZE PRODUCTION (1000 tons)                 12418 non-null  float64\n",
            " 25  MAIZE YIELD (Kg per ha)                      12418 non-null  float64\n",
            " 26  FINGER MILLET AREA (1000 ha)                 12418 non-null  float64\n",
            " 27  FINGER MILLET PRODUCTION (1000 tons)         12418 non-null  float64\n",
            " 28  FINGER MILLET YIELD (Kg per ha)              12418 non-null  float64\n",
            " 29  BARLEY AREA (1000 ha)                        12418 non-null  float64\n",
            " 30  BARLEY PRODUCTION (1000 tons)                12418 non-null  float64\n",
            " 31  BARLEY YIELD (Kg per ha)                     12418 non-null  float64\n",
            " 32  CHICKPEA AREA (1000 ha)                      12418 non-null  float64\n",
            " 33  CHICKPEA PRODUCTION (1000 tons)              12418 non-null  float64\n",
            " 34  CHICKPEA YIELD (Kg per ha)                   12418 non-null  float64\n",
            " 35  PIGEONPEA AREA (1000 ha)                     12418 non-null  float64\n",
            " 36  PIGEONPEA PRODUCTION (1000 tons)             12418 non-null  float64\n",
            " 37  PIGEONPEA YIELD (Kg per ha)                  12418 non-null  float64\n",
            " 38  MINOR PULSES AREA (1000 ha)                  12418 non-null  float64\n",
            " 39  MINOR PULSES PRODUCTION (1000 tons)          12418 non-null  float64\n",
            " 40  MINOR PULSES YIELD (Kg per ha)               12418 non-null  float64\n",
            " 41  GROUNDNUT AREA (1000 ha)                     12418 non-null  float64\n",
            " 42  GROUNDNUT PRODUCTION (1000 tons)             12418 non-null  float64\n",
            " 43  GROUNDNUT YIELD (Kg per ha)                  12418 non-null  float64\n",
            " 44  SESAMUM AREA (1000 ha)                       12418 non-null  float64\n",
            " 45  SESAMUM PRODUCTION (1000 tons)               12418 non-null  float64\n",
            " 46  SESAMUM YIELD (Kg per ha)                    12418 non-null  float64\n",
            " 47  RAPESEED AND MUSTARD AREA (1000 ha)          12418 non-null  float64\n",
            " 48  RAPESEED AND MUSTARD PRODUCTION (1000 tons)  12418 non-null  float64\n",
            " 49  RAPESEED AND MUSTARD YIELD (Kg per ha)       12418 non-null  float64\n",
            " 50  SAFFLOWER AREA (1000 ha)                     12418 non-null  float64\n",
            " 51  SAFFLOWER PRODUCTION (1000 tons)             12418 non-null  float64\n",
            " 52  SAFFLOWER YIELD (Kg per ha)                  12418 non-null  float64\n",
            " 53  CASTOR AREA (1000 ha)                        12418 non-null  float64\n",
            " 54  CASTOR PRODUCTION (1000 tons)                12418 non-null  float64\n",
            " 55  CASTOR YIELD (Kg per ha)                     12418 non-null  float64\n",
            " 56  LINSEED AREA (1000 ha)                       12418 non-null  float64\n",
            " 57  LINSEED PRODUCTION (1000 tons)               12418 non-null  float64\n",
            " 58  LINSEED YIELD (Kg per ha)                    12418 non-null  float64\n",
            " 59  SUNFLOWER AREA (1000 ha)                     12418 non-null  float64\n",
            " 60  SUNFLOWER PRODUCTION (1000 tons)             12418 non-null  float64\n",
            " 61  SUNFLOWER YIELD (Kg per ha)                  12418 non-null  float64\n",
            " 62  SOYABEAN AREA (1000 ha)                      12418 non-null  float64\n",
            " 63  SOYABEAN PRODUCTION (1000 tons)              12418 non-null  float64\n",
            " 64  SOYABEAN YIELD (Kg per ha)                   12418 non-null  float64\n",
            " 65  OILSEEDS AREA (1000 ha)                      12418 non-null  float64\n",
            " 66  OILSEEDS PRODUCTION (1000 tons)              12418 non-null  float64\n",
            " 67  OILSEEDS YIELD (Kg per ha)                   12418 non-null  float64\n",
            " 68  SUGARCANE AREA (1000 ha)                     12418 non-null  float64\n",
            " 69  SUGARCANE PRODUCTION (1000 tons)             12418 non-null  float64\n",
            " 70  SUGARCANE YIELD (Kg per ha)                  12418 non-null  float64\n",
            " 71  COTTON AREA (1000 ha)                        12418 non-null  float64\n",
            " 72  COTTON PRODUCTION (1000 tons)                12418 non-null  float64\n",
            " 73  COTTON YIELD (Kg per ha)                     12418 non-null  float64\n",
            " 74  FRUITS AREA (1000 ha)                        12418 non-null  float64\n",
            " 75  VEGETABLES AREA (1000 ha)                    12418 non-null  float64\n",
            " 76  FRUITS AND VEGETABLES AREA (1000 ha)         12418 non-null  float64\n",
            " 77  POTATOES AREA (1000 ha)                      12418 non-null  float64\n",
            " 78  ONION AREA (1000 ha)                         12418 non-null  float64\n",
            " 79  FODDER AREA (1000 ha)                        12418 non-null  float64\n",
            "dtypes: float64(75), int64(3), object(2)\n",
            "memory usage: 7.6+ MB\n"
          ]
        }
      ],
      "source": [
        "df.info()"
      ]
    },
    {
      "cell_type": "markdown",
      "metadata": {
        "id": "Ofv3eTv72nkR"
      },
      "source": [
        "## 03 Data Structuring"
      ]
    },
    {
      "cell_type": "markdown",
      "metadata": {
        "id": "skphEhYa2sj-"
      },
      "source": [
        "### 03.01 Selecting & Dropping Variables"
      ]
    },
    {
      "cell_type": "markdown",
      "metadata": {
        "id": "8kkSIuDI2zpY"
      },
      "source": [
        "### 03.02 Cleaning Text Object"
      ]
    },
    {
      "cell_type": "markdown",
      "metadata": {
        "id": "gnGCmxzr22a6"
      },
      "source": [
        "#### 03.02.01 Convert Header to Proper Text"
      ]
    },
    {
      "cell_type": "code",
      "execution_count": 11,
      "metadata": {
        "id": "pxibEhsD2xf-"
      },
      "outputs": [],
      "source": [
        "for x in df.columns:\n",
        "  y = x.title()\n",
        "  df = df.rename(columns = {x : y})"
      ]
    },
    {
      "cell_type": "markdown",
      "metadata": {
        "id": "I8-W_5Pq25j4"
      },
      "source": [
        "#### 03.02.02 Strip Abnormal Spaces"
      ]
    },
    {
      "cell_type": "code",
      "execution_count": 12,
      "metadata": {
        "id": "IHBwRW6P27s0"
      },
      "outputs": [],
      "source": [
        "for x in df.columns:\n",
        "  if df[x].dtypes == 'object':\n",
        "    try:\n",
        "      df[x] = df[x].str.strip()\n",
        "    except:\n",
        "      pass"
      ]
    },
    {
      "cell_type": "markdown",
      "metadata": {
        "id": "3UdjluOC2_f6"
      },
      "source": [
        "#### 03.02.03 Convert Object Content to Proper Text"
      ]
    },
    {
      "cell_type": "code",
      "execution_count": 13,
      "metadata": {
        "id": "PvP2ww0K3Bll"
      },
      "outputs": [],
      "source": [
        "for x in df.columns:\n",
        "  if df[x].dtypes == 'object':\n",
        "    for a in df[x].unique():\n",
        "      b = a.title()\n",
        "      df[x] = df[x].replace(a, b)\n",
        "  else:\n",
        "    pass"
      ]
    },
    {
      "cell_type": "markdown",
      "metadata": {
        "id": "qqhG5IiB3F-S"
      },
      "source": [
        "### 03.03 Coverting Data"
      ]
    },
    {
      "cell_type": "markdown",
      "metadata": {
        "id": "PE5qM6Dw3GkP"
      },
      "source": [
        "#### 03.03.01 Convert to date"
      ]
    },
    {
      "cell_type": "code",
      "execution_count": 14,
      "metadata": {
        "id": "kesMHW843OfM"
      },
      "outputs": [],
      "source": [
        "#df['Date'] = pd.to_datetime(df['Date'])"
      ]
    },
    {
      "cell_type": "markdown",
      "metadata": {
        "id": "vC8vfIaj3az_"
      },
      "source": [
        "#### 03.03.02 Convert to integer"
      ]
    },
    {
      "cell_type": "markdown",
      "metadata": {
        "id": "oNIzzPN43gCn"
      },
      "source": [
        "#### 03.03.03 Convert to Object (if necessary)"
      ]
    },
    {
      "cell_type": "markdown",
      "metadata": {
        "id": "Yrd9pcfG3khR"
      },
      "source": [
        "#### 03.03.04 Replace 0 to Nan (if necessary)"
      ]
    },
    {
      "cell_type": "code",
      "execution_count": 15,
      "metadata": {
        "id": "aBUvvU8k3mk-"
      },
      "outputs": [],
      "source": [
        "#df = df.replace(0, np.nan)"
      ]
    },
    {
      "cell_type": "markdown",
      "source": [
        "#### 03.03.05 Replace Nan with 0 (if necessary)"
      ],
      "metadata": {
        "id": "Ckwt6EFDZp4c"
      }
    },
    {
      "cell_type": "code",
      "source": [
        "df = df.fillna(0)"
      ],
      "metadata": {
        "id": "zwhZ6zcRZvP6"
      },
      "execution_count": 16,
      "outputs": []
    },
    {
      "cell_type": "markdown",
      "metadata": {
        "id": "zZ5wzm6u3p8b"
      },
      "source": [
        "## 04 Data Cleaning"
      ]
    },
    {
      "cell_type": "markdown",
      "metadata": {
        "id": "RAq3ZBRe3tuv"
      },
      "source": [
        "### 04.01 Replacing Variable Component"
      ]
    },
    {
      "cell_type": "markdown",
      "metadata": {
        "id": "UhN7QUOc3xcM"
      },
      "source": [
        "### 04.02 Add New Variable"
      ]
    },
    {
      "cell_type": "markdown",
      "metadata": {
        "id": "zNL31wAI31lM"
      },
      "source": [
        "### 04.03 Inaccuracies"
      ]
    },
    {
      "cell_type": "markdown",
      "metadata": {
        "id": "Mn22d9xs4I6o"
      },
      "source": [
        "### 04.04 Handling Outliers\n",
        "##### Data Distribution Check (Before)"
      ]
    },
    {
      "cell_type": "markdown",
      "metadata": {
        "id": "Tci2Qaok4Vt-"
      },
      "source": [
        "#### 04.04.01 Using IQR (Inter Quantile Range)"
      ]
    },
    {
      "cell_type": "code",
      "execution_count": 17,
      "metadata": {
        "id": "Mt7FHMFz4YdV"
      },
      "outputs": [],
      "source": [
        "def iqr_thres(dataframe, column, th1 = 0.25, th3 = 0.75):\n",
        "    quartile1 = dataframe[column].quantile(th1)\n",
        "    quartile3 = dataframe[column].quantile(th3)\n",
        "    iqr = quartile3 - quartile1\n",
        "    upper_limit = quartile3 + 1.5 * iqr\n",
        "    lower_limit = quartile1 - 1.5 * iqr\n",
        "\n",
        "    return lower_limit, upper_limit"
      ]
    },
    {
      "cell_type": "code",
      "execution_count": 18,
      "metadata": {
        "id": "dRaHXuvQ4ZBb"
      },
      "outputs": [],
      "source": [
        "def check_outliers_iqr(dataframe, column):\n",
        "    lower_limit, upper_limit = iqr_thres(dataframe, column)\n",
        "    if dataframe[(dataframe[column] > upper_limit) | (dataframe[column] < lower_limit)].any(axis = None):\n",
        "        return True\n",
        "    else:\n",
        "        return False"
      ]
    },
    {
      "cell_type": "code",
      "execution_count": 19,
      "metadata": {
        "id": "FRncku9Q4dLW"
      },
      "outputs": [],
      "source": [
        "def replace_iqr(dataframe, columns, th1 = 0.25, th3 = 0.75, replace = False):\n",
        "  data = []\n",
        "\n",
        "  for column in columns:\n",
        "    if df[column].dtypes == 'int64' or df[column].dtypes == 'float64':\n",
        "      if column != 'Outcome':\n",
        "        outliers_ = check_outliers_iqr(df, column)\n",
        "        count = None\n",
        "        lower_limit, upper_limit = iqr_thres(dataframe, column, th1, th3)\n",
        "\n",
        "        if outliers_:\n",
        "          count = dataframe[(dataframe[column] > upper_limit) | (dataframe[column] < lower_limit)][column].count()\n",
        "          if replace:\n",
        "            if lower_limit < 0:\n",
        "              dataframe.loc[(dataframe[column] > upper_limit), column] = upper_limit\n",
        "            else:\n",
        "              dataframe.loc[(dataframe[column] < lower_limit), column] = lower_limit\n",
        "              dataframe.loc[(dataframe[column] > upper_limit), column] = upper_limit\n",
        "        outliers_status = check_outliers_iqr(df, column)\n",
        "        data.append([outliers_, outliers_status, count, column, lower_limit, upper_limit ])\n",
        "\n",
        "  table = tabulate(data, headers = ['Outliers (Previously)', 'Outliers', 'Count', 'Column', 'Lower Limit', 'Upper Limit'], tablefmt = 'rst', numalign = 'right')\n",
        "  print('Removing Outliers using IQR')\n",
        "  print(table)"
      ]
    },
    {
      "cell_type": "code",
      "execution_count": 20,
      "metadata": {
        "id": "GfPGmOvI4f89",
        "colab": {
          "base_uri": "https://localhost:8080/",
          "height": 35
        },
        "outputId": "47979c76-007a-45eb-cd14-fa4b9eaffb4b"
      },
      "outputs": [
        {
          "output_type": "execute_result",
          "data": {
            "text/plain": [
              "'replace_iqr(\\n    dataframe = df,\\n    columns = [],\\n    replace = True\\n) #'"
            ],
            "application/vnd.google.colaboratory.intrinsic+json": {
              "type": "string"
            }
          },
          "metadata": {},
          "execution_count": 20
        }
      ],
      "source": [
        "'''replace_iqr(\n",
        "    dataframe = df,\n",
        "    columns = [],\n",
        "    replace = True\n",
        ") #'''"
      ]
    },
    {
      "cell_type": "markdown",
      "metadata": {
        "id": "VUeLtiYd4kMs"
      },
      "source": [
        "#### 04.04.02 Using Standard Deviation"
      ]
    },
    {
      "cell_type": "code",
      "execution_count": 21,
      "metadata": {
        "id": "gFPjk_Zb4j3m"
      },
      "outputs": [],
      "source": [
        "def std_thres(dataframe, column):\n",
        "    upper_limit = dataframe[column].mean() + 3 * dataframe[column].std()\n",
        "    lower_limit = dataframe[column].mean() - 3 * dataframe[column].std()\n",
        "\n",
        "    return lower_limit, upper_limit"
      ]
    },
    {
      "cell_type": "code",
      "execution_count": 22,
      "metadata": {
        "id": "rkImfexs4nbm"
      },
      "outputs": [],
      "source": [
        "def check_outliers_std(dataframe, column):\n",
        "    lower_limit, upper_limit = iqr_thres(dataframe, column)\n",
        "    if dataframe[(dataframe[column] > upper_limit) | (dataframe[column] < lower_limit)].any(axis = None):\n",
        "        return True\n",
        "    else:\n",
        "        return False"
      ]
    },
    {
      "cell_type": "code",
      "execution_count": 23,
      "metadata": {
        "id": "gHycsqre4qX6"
      },
      "outputs": [],
      "source": [
        "def replace_std(dataframe, columns, replace = False):\n",
        "  data = []\n",
        "\n",
        "  for column in columns:\n",
        "    if df[column].dtypes == 'int64' or df[column].dtypes == 'float64':\n",
        "      if column != 'Outcome':\n",
        "        outliers_ = check_outliers_std(dataframe, column)\n",
        "        count = None\n",
        "        lower_limit, upper_limit = std_thres(dataframe, column)\n",
        "\n",
        "        if outliers_:\n",
        "          count = dataframe[(dataframe[column] > upper_limit) | (dataframe[column] < lower_limit)][column].count()\n",
        "          if replace:\n",
        "            if lower_limit < 0:\n",
        "              dataframe.loc[(dataframe[column] > upper_limit), column] = upper_limit\n",
        "            else:\n",
        "              dataframe.loc[(dataframe[column] < lower_limit), column] = lower_limit\n",
        "              dataframe.loc[(dataframe[column] > upper_limit), column] = upper_limit\n",
        "        outliers_status = check_outliers_std(dataframe, column)\n",
        "        data.append([outliers_, outliers_status, count, column, lower_limit, upper_limit])\n",
        "\n",
        "  table = tabulate(data, headers = ['Outlier (Previously)', 'Outliers', 'Count', 'Column', 'Lower Limit', 'Upper Limit'], tablefmt = 'rst', numalign = 'right')\n",
        "  print('Removing Outliers using 3 Standard Deviation')\n",
        "  print(table)"
      ]
    },
    {
      "cell_type": "code",
      "execution_count": 24,
      "metadata": {
        "id": "D_pvh2IL4q2I",
        "colab": {
          "base_uri": "https://localhost:8080/",
          "height": 35
        },
        "outputId": "94ea546e-eac1-4b59-ccd1-ef454c7a2000"
      },
      "outputs": [
        {
          "output_type": "execute_result",
          "data": {
            "text/plain": [
              "'replace_iqr(\\n    dataframe = df,\\n    columns = [],\\n    replace = False\\n) #'"
            ],
            "application/vnd.google.colaboratory.intrinsic+json": {
              "type": "string"
            }
          },
          "metadata": {},
          "execution_count": 24
        }
      ],
      "source": [
        "'''replace_iqr(\n",
        "    dataframe = df,\n",
        "    columns = [],\n",
        "    replace = False\n",
        ") #'''"
      ]
    },
    {
      "cell_type": "markdown",
      "metadata": {
        "id": "IEqxjPOT4vTP"
      },
      "source": [
        "### 04.05 Handling Missing / Zeros / Null\n",
        "##### Filling missing value (numerical only) is better using median than mean or mode"
      ]
    },
    {
      "cell_type": "markdown",
      "metadata": {
        "id": "EVpvT5IV4zdY"
      },
      "source": [
        "#### 04.05.01 Detecting Zero Value"
      ]
    },
    {
      "cell_type": "code",
      "execution_count": 25,
      "metadata": {
        "id": "is7a1I744wMK",
        "colab": {
          "base_uri": "https://localhost:8080/"
        },
        "outputId": "de464b9a-5ae0-490a-8230-3a12f058b2d0"
      },
      "outputs": [
        {
          "output_type": "stream",
          "name": "stdout",
          "text": [
            "Rice Area (1000 Ha) : 842\n",
            "Rice Production (1000 Tons) : 859\n",
            "Rice Yield (Kg Per Ha) : 866\n",
            "Wheat Area (1000 Ha) : 1761\n",
            "Wheat Production (1000 Tons) : 1800\n",
            "Wheat Yield (Kg Per Ha) : 1793\n",
            "Kharif Sorghum Area (1000 Ha) : 3750\n",
            "Kharif Sorghum Production (1000 Tons) : 3985\n",
            "Kharif Sorghum Yield (Kg Per Ha) : 3968\n",
            "Rabi Sorghum Area (1000 Ha) : 9277\n",
            "Rabi Sorghum Production (1000 Tons) : 9333\n",
            "Rabi Sorghum Yield (Kg Per Ha) : 9352\n",
            "Sorghum Area (1000 Ha) : 3464\n",
            "Sorghum Production (1000 Tons) : 3665\n",
            "Sorghum Yield (Kg Per Ha) : 3650\n",
            "Pearl Millet Area (1000 Ha) : 4651\n",
            "Pearl Millet Production (1000 Tons) : 4830\n",
            "Pearl Millet Yield (Kg Per Ha) : 4832\n",
            "Maize Area (1000 Ha) : 1310\n",
            "Maize Production (1000 Tons) : 1350\n",
            "Maize Yield (Kg Per Ha) : 1379\n",
            "Finger Millet Area (1000 Ha) : 8018\n",
            "Finger Millet Production (1000 Tons) : 8161\n",
            "Finger Millet Yield (Kg Per Ha) : 8161\n",
            "Barley Area (1000 Ha) : 6310\n",
            "Barley Production (1000 Tons) : 6320\n",
            "Barley Yield (Kg Per Ha) : 6382\n",
            "Chickpea Area (1000 Ha) : 1537\n",
            "Chickpea Production (1000 Tons) : 1736\n",
            "Chickpea Yield (Kg Per Ha) : 1721\n",
            "Pigeonpea Area (1000 Ha) : 1970\n",
            "Pigeonpea Production (1000 Tons) : 2169\n",
            "Pigeonpea Yield (Kg Per Ha) : 2162\n",
            "Minor Pulses Area (1000 Ha) : 527\n",
            "Minor Pulses Production (1000 Tons) : 735\n",
            "Minor Pulses Yield (Kg Per Ha) : 727\n",
            "Groundnut Area (1000 Ha) : 2877\n",
            "Groundnut Production (1000 Tons) : 2987\n",
            "Groundnut Yield (Kg Per Ha) : 3013\n",
            "Sesamum Area (1000 Ha) : 1258\n",
            "Sesamum Production (1000 Tons) : 2030\n",
            "Sesamum Yield (Kg Per Ha) : 1993\n",
            "Rapeseed And Mustard Area (1000 Ha) : 2634\n",
            "Rapeseed And Mustard Production (1000 Tons) : 3074\n",
            "Rapeseed And Mustard Yield (Kg Per Ha) : 3049\n",
            "Safflower Area (1000 Ha) : 10058\n",
            "Safflower Production (1000 Tons) : 10092\n",
            "Safflower Yield (Kg Per Ha) : 10253\n",
            "Castor Area (1000 Ha) : 7933\n",
            "Castor Production (1000 Tons) : 8411\n",
            "Castor Yield (Kg Per Ha) : 8377\n",
            "Linseed Area (1000 Ha) : 6388\n",
            "Linseed Production (1000 Tons) : 6907\n",
            "Linseed Yield (Kg Per Ha) : 6882\n",
            "Sunflower Area (1000 Ha) : 7342\n",
            "Sunflower Production (1000 Tons) : 7559\n",
            "Sunflower Yield (Kg Per Ha) : 7576\n",
            "Soyabean Area (1000 Ha) : 8114\n",
            "Soyabean Production (1000 Tons) : 8353\n",
            "Soyabean Yield (Kg Per Ha) : 8328\n",
            "Oilseeds Area (1000 Ha) : 1172\n",
            "Oilseeds Production (1000 Tons) : 1562\n",
            "Oilseeds Yield (Kg Per Ha) : 1567\n",
            "Sugarcane Area (1000 Ha) : 1947\n",
            "Sugarcane Production (1000 Tons) : 1736\n",
            "Sugarcane Yield (Kg Per Ha) : 1973\n",
            "Cotton Area (1000 Ha) : 5729\n",
            "Cotton Production (1000 Tons) : 6431\n",
            "Cotton Yield (Kg Per Ha) : 6392\n",
            "Fruits Area (1000 Ha) : 1203\n",
            "Vegetables Area (1000 Ha) : 1059\n",
            "Fruits And Vegetables Area (1000 Ha) : 1095\n",
            "Potatoes Area (1000 Ha) : 3246\n",
            "Onion Area (1000 Ha) : 1865\n",
            "Fodder Area (1000 Ha) : 3395\n"
          ]
        }
      ],
      "source": [
        "zero_columns = []\n",
        "\n",
        "for x in df.columns:\n",
        "  if df[x].dtypes == 'int64' or df[x].dtypes == 'float64':\n",
        "    if (df[x] == 0).sum() != 0:\n",
        "      print(x, ':', str((df[x] == 0).sum()))\n",
        "      zero_columns.append(x)"
      ]
    },
    {
      "cell_type": "markdown",
      "metadata": {
        "id": "t2yFMHRf43pd"
      },
      "source": [
        "#### 04.05.02 Detecting Nan / Non Available Value"
      ]
    },
    {
      "cell_type": "code",
      "execution_count": 26,
      "metadata": {
        "id": "PYM4yhj844Ix"
      },
      "outputs": [],
      "source": [
        "nan_columns = []\n",
        "\n",
        "for x in df.columns:\n",
        "  if df[x].dtypes == 'object':\n",
        "    if (df[x] == np.nan).sum() or (df[x] == '-').sum() != 0:\n",
        "      print(x, ':', str((df[x] == np.nan).sum()))\n",
        "      nan_columns.append(x)"
      ]
    },
    {
      "cell_type": "markdown",
      "metadata": {
        "id": "w81kHjrH49xD"
      },
      "source": [
        "#### 04.05.03 Replacing Zero with Mean (for numerical value if median value == 0), if necessary"
      ]
    },
    {
      "cell_type": "code",
      "execution_count": 27,
      "metadata": {
        "id": "EO5QyklX5APs",
        "colab": {
          "base_uri": "https://localhost:8080/",
          "height": 35
        },
        "outputId": "d923ea32-f3de-4a78-b29e-87bb294e2ada"
      },
      "outputs": [
        {
          "output_type": "execute_result",
          "data": {
            "text/plain": [
              "'cols = [\\n] #'"
            ],
            "application/vnd.google.colaboratory.intrinsic+json": {
              "type": "string"
            }
          },
          "metadata": {},
          "execution_count": 27
        }
      ],
      "source": [
        "'''cols = [\n",
        "] #'''"
      ]
    },
    {
      "cell_type": "code",
      "execution_count": 28,
      "metadata": {
        "id": "nLz--vIY5BzU",
        "colab": {
          "base_uri": "https://localhost:8080/",
          "height": 35
        },
        "outputId": "404e02f5-7e66-475d-d75f-407bcafaf960"
      },
      "outputs": [
        {
          "output_type": "execute_result",
          "data": {
            "text/plain": [
              "'df = df.replace(0, np.nan)\\n\\nfor x in cols:\\n  df[x] = df[x].fillna(df[x].mean()) #'"
            ],
            "application/vnd.google.colaboratory.intrinsic+json": {
              "type": "string"
            }
          },
          "metadata": {},
          "execution_count": 28
        }
      ],
      "source": [
        "'''df = df.replace(0, np.nan)\n",
        "\n",
        "for x in cols:\n",
        "  df[x] = df[x].fillna(df[x].mean()) #'''"
      ]
    },
    {
      "cell_type": "markdown",
      "metadata": {
        "id": "MBWAP-1J5Eyi"
      },
      "source": [
        "#### 04.05.04 Replacing Zero with Median (for numerical value if median value != 0), if necessary"
      ]
    },
    {
      "cell_type": "code",
      "execution_count": 29,
      "metadata": {
        "id": "YE9GeuH65FdJ",
        "colab": {
          "base_uri": "https://localhost:8080/",
          "height": 35
        },
        "outputId": "2e36ba51-8b60-4a52-864c-d54e5c836cc5"
      },
      "outputs": [
        {
          "output_type": "execute_result",
          "data": {
            "text/plain": [
              "'cols = [\\n] #'"
            ],
            "application/vnd.google.colaboratory.intrinsic+json": {
              "type": "string"
            }
          },
          "metadata": {},
          "execution_count": 29
        }
      ],
      "source": [
        "'''cols = [\n",
        "] #'''"
      ]
    },
    {
      "cell_type": "code",
      "execution_count": 30,
      "metadata": {
        "id": "oMvEl4xs5HWd",
        "colab": {
          "base_uri": "https://localhost:8080/",
          "height": 35
        },
        "outputId": "85b80ade-a304-4950-984e-cfcb93600724"
      },
      "outputs": [
        {
          "output_type": "execute_result",
          "data": {
            "text/plain": [
              "'df = df.replace(0, np.nan)\\n\\nfor x in cols:\\n  df[x] = df[x].fillna(df[x].median()) #'"
            ],
            "application/vnd.google.colaboratory.intrinsic+json": {
              "type": "string"
            }
          },
          "metadata": {},
          "execution_count": 30
        }
      ],
      "source": [
        "'''df = df.replace(0, np.nan)\n",
        "\n",
        "for x in cols:\n",
        "  df[x] = df[x].fillna(df[x].median()) #'''"
      ]
    },
    {
      "cell_type": "markdown",
      "metadata": {
        "id": "dog2-5ML5JQ6"
      },
      "source": [
        "#### 04.05.05 Replacing Zero with Mode (for categorical / object value), if necessary"
      ]
    },
    {
      "cell_type": "code",
      "execution_count": 31,
      "metadata": {
        "id": "rV2VC_VZ5Ldl",
        "colab": {
          "base_uri": "https://localhost:8080/",
          "height": 35
        },
        "outputId": "7c7498fc-1e73-49a9-d7dd-0988cfd8c5b9"
      },
      "outputs": [
        {
          "output_type": "execute_result",
          "data": {
            "text/plain": [
              "'cols = [\\n] #'"
            ],
            "application/vnd.google.colaboratory.intrinsic+json": {
              "type": "string"
            }
          },
          "metadata": {},
          "execution_count": 31
        }
      ],
      "source": [
        "'''cols = [\n",
        "] #'''"
      ]
    },
    {
      "cell_type": "code",
      "execution_count": 32,
      "metadata": {
        "id": "dut4TUuq5NHK",
        "colab": {
          "base_uri": "https://localhost:8080/",
          "height": 35
        },
        "outputId": "75ea6a86-ea0b-453c-e2dd-d5d5eb1fc1d4"
      },
      "outputs": [
        {
          "output_type": "execute_result",
          "data": {
            "text/plain": [
              "'df = df.replace(0, np.nan)\\n\\nfor x in cols:\\n  df[x] = df[x].fillna(df[x].mode()) #'"
            ],
            "application/vnd.google.colaboratory.intrinsic+json": {
              "type": "string"
            }
          },
          "metadata": {},
          "execution_count": 32
        }
      ],
      "source": [
        "'''df = df.replace(0, np.nan)\n",
        "\n",
        "for x in cols:\n",
        "  df[x] = df[x].fillna(df[x].mode()) #'''"
      ]
    },
    {
      "cell_type": "markdown",
      "metadata": {
        "id": "PtFcqtOW5JNo"
      },
      "source": [
        "### 04.06 Handling Incomplete Data"
      ]
    },
    {
      "cell_type": "markdown",
      "metadata": {
        "id": "t-9FaTrv5RlN"
      },
      "source": [
        "### 04.07 Handling Data Biases"
      ]
    },
    {
      "cell_type": "markdown",
      "metadata": {
        "id": "C8cfMYC15Uw3"
      },
      "source": [
        "### 04.08 Handling Duplicates"
      ]
    },
    {
      "cell_type": "code",
      "execution_count": 33,
      "metadata": {
        "id": "vSryzaSI5bNc"
      },
      "outputs": [],
      "source": [
        "#df = df.drop_duplicates()"
      ]
    },
    {
      "cell_type": "markdown",
      "metadata": {
        "id": "Sx0xbr3K5YLO"
      },
      "source": [
        "##### Data Distribution Check (After)"
      ]
    },
    {
      "cell_type": "markdown",
      "metadata": {
        "id": "W1O3I_gU5p20"
      },
      "source": [
        "## 05 Enriching Data\n",
        "#### take other dataset, inside or outside from related dataset / business"
      ]
    },
    {
      "cell_type": "code",
      "source": [
        "a = df['State'].unique()\n",
        "b = gdf['State'].unique()\n",
        "\n",
        "for i in a:\n",
        "  if i not in b:\n",
        "    print(i)\n",
        "\n",
        "print(50 * '=')\n",
        "\n",
        "for i in b:\n",
        "  if i not in a:\n",
        "    print(i)"
      ],
      "metadata": {
        "id": "oiJULi5g1_a0",
        "colab": {
          "base_uri": "https://localhost:8080/"
        },
        "outputId": "62b5bbef-412a-4ecc-e8f2-f0b728121aa3"
      },
      "execution_count": 34,
      "outputs": [
        {
          "output_type": "stream",
          "name": "stdout",
          "text": [
            "Orissa\n",
            "==================================================\n",
            "Andaman and Nicobar Islands\n",
            "Arunachal Pradesh\n",
            "Chandigarh\n",
            "Dadra and Nagar Haveli\n",
            "Daman and Diu\n",
            "Goa\n",
            "Lakshadweep\n",
            "Manipur\n",
            "Meghalaya\n",
            "Mizoram\n",
            "Nagaland\n",
            "Delhi\n",
            "Puducherry\n",
            "Sikkim\n",
            "Tripura\n",
            "Odisha\n",
            "Jammu and Kashmir\n",
            "Ladakh\n"
          ]
        }
      ]
    },
    {
      "cell_type": "code",
      "source": [
        "df['State'] = df['State'].replace({\n",
        "    'Orissa' : 'Odisha',\n",
        "})"
      ],
      "metadata": {
        "id": "7gZKqurz2DCs"
      },
      "execution_count": 35,
      "outputs": []
    },
    {
      "cell_type": "markdown",
      "metadata": {
        "id": "9z-glw4U5r3Y"
      },
      "source": [
        "## 06 Data Validation\n",
        "#### Verifying consistency, quality, and security of data"
      ]
    },
    {
      "cell_type": "markdown",
      "metadata": {
        "id": "kXJgoIwCoisk"
      },
      "source": [
        "## 07 Exploration Data Analysis (Univariate)"
      ]
    },
    {
      "cell_type": "markdown",
      "metadata": {
        "id": "4g7KjKQ2omjR"
      },
      "source": [
        "### 07.01 Generate Data Profile"
      ]
    },
    {
      "cell_type": "code",
      "execution_count": 36,
      "metadata": {
        "id": "ICAXeqSDopgs",
        "colab": {
          "base_uri": "https://localhost:8080/",
          "height": 53
        },
        "outputId": "0f9b54fc-12ad-4b96-a0ca-19ed0c649f3a"
      },
      "outputs": [
        {
          "output_type": "execute_result",
          "data": {
            "text/plain": [
              "\"data_profile = ProfileReport(\\n    df,\\n    title = 'India Crop Production',\\n    dataset = {\\n        #'description' : 'This profiling report was generated for Analytics Vidhya Blog',\\n        #'copyright_holder' : 'Analytics Vidhya',\\n        #'copyright_year' : '2021',\\n        #'url' :  'https://www.analyticsvidhya.com/blog/',\\n    },\\n    correlations = {\\n        'pearson' : {'calculate' : True},\\n        'spearman' : {'calculate' : True},\\n        'kendall' : {'calculate' : True},\\n        'phi_k' : {'calculate' : True},\\n    },\\n)\\n\\ndata_profile #\""
            ],
            "application/vnd.google.colaboratory.intrinsic+json": {
              "type": "string"
            }
          },
          "metadata": {},
          "execution_count": 36
        }
      ],
      "source": [
        "'''data_profile = ProfileReport(\n",
        "    df,\n",
        "    title = 'India Crop Production',\n",
        "    dataset = {\n",
        "        #'description' : 'This profiling report was generated for Analytics Vidhya Blog',\n",
        "        #'copyright_holder' : 'Analytics Vidhya',\n",
        "        #'copyright_year' : '2021',\n",
        "        #'url' :  'https://www.analyticsvidhya.com/blog/',\n",
        "    },\n",
        "    correlations = {\n",
        "        'pearson' : {'calculate' : True},\n",
        "        'spearman' : {'calculate' : True},\n",
        "        'kendall' : {'calculate' : True},\n",
        "        'phi_k' : {'calculate' : True},\n",
        "    },\n",
        ")\n",
        "\n",
        "data_profile #'''"
      ]
    },
    {
      "cell_type": "markdown",
      "metadata": {
        "id": "xyTEBrK5drPm"
      },
      "source": [
        "## 08 Store Data to Google Drive"
      ]
    },
    {
      "cell_type": "code",
      "execution_count": 37,
      "metadata": {
        "id": "EA_-YO_kOu7Q",
        "colab": {
          "base_uri": "https://localhost:8080/",
          "height": 35
        },
        "outputId": "087a0c1c-36bf-4e1f-a318-aeb795f4f4f6"
      },
      "outputs": [
        {
          "output_type": "execute_result",
          "data": {
            "text/plain": [
              "\"cache_dir = CACHE_PATH + '/_cache.csv'\\nprint(cache_dir)\\ndf.to_csv(cache_dir, index = False)\\n\\nsleep(60) #\""
            ],
            "application/vnd.google.colaboratory.intrinsic+json": {
              "type": "string"
            }
          },
          "metadata": {},
          "execution_count": 37
        }
      ],
      "source": [
        "'''cache_dir = CACHE_PATH + '/_cache.csv'\n",
        "print(cache_dir)\n",
        "df.to_csv(cache_dir, index = False)\n",
        "\n",
        "sleep(60) #'''"
      ]
    },
    {
      "cell_type": "markdown",
      "metadata": {
        "id": "QznryIr7xTyd"
      },
      "source": [
        "## 09 Table, Chart Drafting & Testing"
      ]
    },
    {
      "cell_type": "code",
      "source": [
        "fig = px.colors.sequential.swatches_continuous()\n",
        "#fig.show()"
      ],
      "metadata": {
        "id": "EAhLrC34Njj-"
      },
      "execution_count": 38,
      "outputs": []
    },
    {
      "cell_type": "code",
      "execution_count": 39,
      "metadata": {
        "id": "WsXi5h1DPAMk"
      },
      "outputs": [],
      "source": [
        "colors_1 = px.colors.sequential.Reds\n",
        "colors_2 = px.colors.sequential.RdBu\n",
        "explode = tuple([0.015] * 50)\n",
        "latitude = 24\n",
        "longitude = 84\n",
        "chart_theme = 'plotly_dark'\n",
        "streamlit_theme = 'streamlit'\n",
        "margin = {'r' : 20, 't' : 40, 'l' : 20, 'b' : 10}\n",
        "cmap = 'magma_r'\n",
        "title_x = 0\n",
        "title_font_size = 18"
      ]
    },
    {
      "cell_type": "code",
      "source": [
        "df.head(2)"
      ],
      "metadata": {
        "colab": {
          "base_uri": "https://localhost:8080/",
          "height": 159
        },
        "id": "TQfbx5Juv_sL",
        "outputId": "f4409e1b-5566-4a01-8f2b-b6be6b9a74bf"
      },
      "execution_count": 40,
      "outputs": [
        {
          "output_type": "execute_result",
          "data": {
            "text/plain": [
              "   Dist Code  Year  State Code         State Dist Name  Rice Area (1000 Ha)  \\\n",
              "0          1  1978          14  Chhattisgarh      Durg                612.5   \n",
              "1          1  1979          14  Chhattisgarh      Durg                616.8   \n",
              "\n",
              "   Rice Production (1000 Tons)  Rice Yield (Kg Per Ha)  Wheat Area (1000 Ha)  \\\n",
              "0                        362.2                  591.35                  48.7   \n",
              "1                        330.6                  535.99                  44.6   \n",
              "\n",
              "   Wheat Production (1000 Tons)  ...  Sugarcane Yield (Kg Per Ha)  \\\n",
              "0                          25.6  ...                       2000.0   \n",
              "1                          17.8  ...                       1000.0   \n",
              "\n",
              "   Cotton Area (1000 Ha)  Cotton Production (1000 Tons)  \\\n",
              "0                    0.0                            0.0   \n",
              "1                    0.0                            0.0   \n",
              "\n",
              "   Cotton Yield (Kg Per Ha)  Fruits Area (1000 Ha)  Vegetables Area (1000 Ha)  \\\n",
              "0                       0.0                   4.75                       8.67   \n",
              "1                       0.0                   4.76                       8.62   \n",
              "\n",
              "   Fruits And Vegetables Area (1000 Ha)  Potatoes Area (1000 Ha)  \\\n",
              "0                                 13.41                     0.04   \n",
              "1                                 13.38                     0.06   \n",
              "\n",
              "   Onion Area (1000 Ha)  Fodder Area (1000 Ha)  \n",
              "0                  0.43                   0.34  \n",
              "1                  0.48                   0.28  \n",
              "\n",
              "[2 rows x 80 columns]"
            ],
            "text/html": [
              "\n",
              "  <div id=\"df-3a1460c9-8351-4513-95de-9f2c3a0edb6b\" class=\"colab-df-container\">\n",
              "    <div>\n",
              "<style scoped>\n",
              "    .dataframe tbody tr th:only-of-type {\n",
              "        vertical-align: middle;\n",
              "    }\n",
              "\n",
              "    .dataframe tbody tr th {\n",
              "        vertical-align: top;\n",
              "    }\n",
              "\n",
              "    .dataframe thead th {\n",
              "        text-align: right;\n",
              "    }\n",
              "</style>\n",
              "<table border=\"1\" class=\"dataframe\">\n",
              "  <thead>\n",
              "    <tr style=\"text-align: right;\">\n",
              "      <th></th>\n",
              "      <th>Dist Code</th>\n",
              "      <th>Year</th>\n",
              "      <th>State Code</th>\n",
              "      <th>State</th>\n",
              "      <th>Dist Name</th>\n",
              "      <th>Rice Area (1000 Ha)</th>\n",
              "      <th>Rice Production (1000 Tons)</th>\n",
              "      <th>Rice Yield (Kg Per Ha)</th>\n",
              "      <th>Wheat Area (1000 Ha)</th>\n",
              "      <th>Wheat Production (1000 Tons)</th>\n",
              "      <th>...</th>\n",
              "      <th>Sugarcane Yield (Kg Per Ha)</th>\n",
              "      <th>Cotton Area (1000 Ha)</th>\n",
              "      <th>Cotton Production (1000 Tons)</th>\n",
              "      <th>Cotton Yield (Kg Per Ha)</th>\n",
              "      <th>Fruits Area (1000 Ha)</th>\n",
              "      <th>Vegetables Area (1000 Ha)</th>\n",
              "      <th>Fruits And Vegetables Area (1000 Ha)</th>\n",
              "      <th>Potatoes Area (1000 Ha)</th>\n",
              "      <th>Onion Area (1000 Ha)</th>\n",
              "      <th>Fodder Area (1000 Ha)</th>\n",
              "    </tr>\n",
              "  </thead>\n",
              "  <tbody>\n",
              "    <tr>\n",
              "      <th>0</th>\n",
              "      <td>1</td>\n",
              "      <td>1978</td>\n",
              "      <td>14</td>\n",
              "      <td>Chhattisgarh</td>\n",
              "      <td>Durg</td>\n",
              "      <td>612.5</td>\n",
              "      <td>362.2</td>\n",
              "      <td>591.35</td>\n",
              "      <td>48.7</td>\n",
              "      <td>25.6</td>\n",
              "      <td>...</td>\n",
              "      <td>2000.0</td>\n",
              "      <td>0.0</td>\n",
              "      <td>0.0</td>\n",
              "      <td>0.0</td>\n",
              "      <td>4.75</td>\n",
              "      <td>8.67</td>\n",
              "      <td>13.41</td>\n",
              "      <td>0.04</td>\n",
              "      <td>0.43</td>\n",
              "      <td>0.34</td>\n",
              "    </tr>\n",
              "    <tr>\n",
              "      <th>1</th>\n",
              "      <td>1</td>\n",
              "      <td>1979</td>\n",
              "      <td>14</td>\n",
              "      <td>Chhattisgarh</td>\n",
              "      <td>Durg</td>\n",
              "      <td>616.8</td>\n",
              "      <td>330.6</td>\n",
              "      <td>535.99</td>\n",
              "      <td>44.6</td>\n",
              "      <td>17.8</td>\n",
              "      <td>...</td>\n",
              "      <td>1000.0</td>\n",
              "      <td>0.0</td>\n",
              "      <td>0.0</td>\n",
              "      <td>0.0</td>\n",
              "      <td>4.76</td>\n",
              "      <td>8.62</td>\n",
              "      <td>13.38</td>\n",
              "      <td>0.06</td>\n",
              "      <td>0.48</td>\n",
              "      <td>0.28</td>\n",
              "    </tr>\n",
              "  </tbody>\n",
              "</table>\n",
              "<p>2 rows × 80 columns</p>\n",
              "</div>\n",
              "    <div class=\"colab-df-buttons\">\n",
              "\n",
              "  <div class=\"colab-df-container\">\n",
              "    <button class=\"colab-df-convert\" onclick=\"convertToInteractive('df-3a1460c9-8351-4513-95de-9f2c3a0edb6b')\"\n",
              "            title=\"Convert this dataframe to an interactive table.\"\n",
              "            style=\"display:none;\">\n",
              "\n",
              "  <svg xmlns=\"http://www.w3.org/2000/svg\" height=\"24px\" viewBox=\"0 -960 960 960\">\n",
              "    <path d=\"M120-120v-720h720v720H120Zm60-500h600v-160H180v160Zm220 220h160v-160H400v160Zm0 220h160v-160H400v160ZM180-400h160v-160H180v160Zm440 0h160v-160H620v160ZM180-180h160v-160H180v160Zm440 0h160v-160H620v160Z\"/>\n",
              "  </svg>\n",
              "    </button>\n",
              "\n",
              "  <style>\n",
              "    .colab-df-container {\n",
              "      display:flex;\n",
              "      gap: 12px;\n",
              "    }\n",
              "\n",
              "    .colab-df-convert {\n",
              "      background-color: #E8F0FE;\n",
              "      border: none;\n",
              "      border-radius: 50%;\n",
              "      cursor: pointer;\n",
              "      display: none;\n",
              "      fill: #1967D2;\n",
              "      height: 32px;\n",
              "      padding: 0 0 0 0;\n",
              "      width: 32px;\n",
              "    }\n",
              "\n",
              "    .colab-df-convert:hover {\n",
              "      background-color: #E2EBFA;\n",
              "      box-shadow: 0px 1px 2px rgba(60, 64, 67, 0.3), 0px 1px 3px 1px rgba(60, 64, 67, 0.15);\n",
              "      fill: #174EA6;\n",
              "    }\n",
              "\n",
              "    .colab-df-buttons div {\n",
              "      margin-bottom: 4px;\n",
              "    }\n",
              "\n",
              "    [theme=dark] .colab-df-convert {\n",
              "      background-color: #3B4455;\n",
              "      fill: #D2E3FC;\n",
              "    }\n",
              "\n",
              "    [theme=dark] .colab-df-convert:hover {\n",
              "      background-color: #434B5C;\n",
              "      box-shadow: 0px 1px 3px 1px rgba(0, 0, 0, 0.15);\n",
              "      filter: drop-shadow(0px 1px 2px rgba(0, 0, 0, 0.3));\n",
              "      fill: #FFFFFF;\n",
              "    }\n",
              "  </style>\n",
              "\n",
              "    <script>\n",
              "      const buttonEl =\n",
              "        document.querySelector('#df-3a1460c9-8351-4513-95de-9f2c3a0edb6b button.colab-df-convert');\n",
              "      buttonEl.style.display =\n",
              "        google.colab.kernel.accessAllowed ? 'block' : 'none';\n",
              "\n",
              "      async function convertToInteractive(key) {\n",
              "        const element = document.querySelector('#df-3a1460c9-8351-4513-95de-9f2c3a0edb6b');\n",
              "        const dataTable =\n",
              "          await google.colab.kernel.invokeFunction('convertToInteractive',\n",
              "                                                    [key], {});\n",
              "        if (!dataTable) return;\n",
              "\n",
              "        const docLinkHtml = 'Like what you see? Visit the ' +\n",
              "          '<a target=\"_blank\" href=https://colab.research.google.com/notebooks/data_table.ipynb>data table notebook</a>'\n",
              "          + ' to learn more about interactive tables.';\n",
              "        element.innerHTML = '';\n",
              "        dataTable['output_type'] = 'display_data';\n",
              "        await google.colab.output.renderOutput(dataTable, element);\n",
              "        const docLink = document.createElement('div');\n",
              "        docLink.innerHTML = docLinkHtml;\n",
              "        element.appendChild(docLink);\n",
              "      }\n",
              "    </script>\n",
              "  </div>\n",
              "\n",
              "\n",
              "<div id=\"df-e59a8c2d-384b-46d3-8965-fca28011de86\">\n",
              "  <button class=\"colab-df-quickchart\" onclick=\"quickchart('df-e59a8c2d-384b-46d3-8965-fca28011de86')\"\n",
              "            title=\"Suggest charts\"\n",
              "            style=\"display:none;\">\n",
              "\n",
              "<svg xmlns=\"http://www.w3.org/2000/svg\" height=\"24px\"viewBox=\"0 0 24 24\"\n",
              "     width=\"24px\">\n",
              "    <g>\n",
              "        <path d=\"M19 3H5c-1.1 0-2 .9-2 2v14c0 1.1.9 2 2 2h14c1.1 0 2-.9 2-2V5c0-1.1-.9-2-2-2zM9 17H7v-7h2v7zm4 0h-2V7h2v10zm4 0h-2v-4h2v4z\"/>\n",
              "    </g>\n",
              "</svg>\n",
              "  </button>\n",
              "\n",
              "<style>\n",
              "  .colab-df-quickchart {\n",
              "      --bg-color: #E8F0FE;\n",
              "      --fill-color: #1967D2;\n",
              "      --hover-bg-color: #E2EBFA;\n",
              "      --hover-fill-color: #174EA6;\n",
              "      --disabled-fill-color: #AAA;\n",
              "      --disabled-bg-color: #DDD;\n",
              "  }\n",
              "\n",
              "  [theme=dark] .colab-df-quickchart {\n",
              "      --bg-color: #3B4455;\n",
              "      --fill-color: #D2E3FC;\n",
              "      --hover-bg-color: #434B5C;\n",
              "      --hover-fill-color: #FFFFFF;\n",
              "      --disabled-bg-color: #3B4455;\n",
              "      --disabled-fill-color: #666;\n",
              "  }\n",
              "\n",
              "  .colab-df-quickchart {\n",
              "    background-color: var(--bg-color);\n",
              "    border: none;\n",
              "    border-radius: 50%;\n",
              "    cursor: pointer;\n",
              "    display: none;\n",
              "    fill: var(--fill-color);\n",
              "    height: 32px;\n",
              "    padding: 0;\n",
              "    width: 32px;\n",
              "  }\n",
              "\n",
              "  .colab-df-quickchart:hover {\n",
              "    background-color: var(--hover-bg-color);\n",
              "    box-shadow: 0 1px 2px rgba(60, 64, 67, 0.3), 0 1px 3px 1px rgba(60, 64, 67, 0.15);\n",
              "    fill: var(--button-hover-fill-color);\n",
              "  }\n",
              "\n",
              "  .colab-df-quickchart-complete:disabled,\n",
              "  .colab-df-quickchart-complete:disabled:hover {\n",
              "    background-color: var(--disabled-bg-color);\n",
              "    fill: var(--disabled-fill-color);\n",
              "    box-shadow: none;\n",
              "  }\n",
              "\n",
              "  .colab-df-spinner {\n",
              "    border: 2px solid var(--fill-color);\n",
              "    border-color: transparent;\n",
              "    border-bottom-color: var(--fill-color);\n",
              "    animation:\n",
              "      spin 1s steps(1) infinite;\n",
              "  }\n",
              "\n",
              "  @keyframes spin {\n",
              "    0% {\n",
              "      border-color: transparent;\n",
              "      border-bottom-color: var(--fill-color);\n",
              "      border-left-color: var(--fill-color);\n",
              "    }\n",
              "    20% {\n",
              "      border-color: transparent;\n",
              "      border-left-color: var(--fill-color);\n",
              "      border-top-color: var(--fill-color);\n",
              "    }\n",
              "    30% {\n",
              "      border-color: transparent;\n",
              "      border-left-color: var(--fill-color);\n",
              "      border-top-color: var(--fill-color);\n",
              "      border-right-color: var(--fill-color);\n",
              "    }\n",
              "    40% {\n",
              "      border-color: transparent;\n",
              "      border-right-color: var(--fill-color);\n",
              "      border-top-color: var(--fill-color);\n",
              "    }\n",
              "    60% {\n",
              "      border-color: transparent;\n",
              "      border-right-color: var(--fill-color);\n",
              "    }\n",
              "    80% {\n",
              "      border-color: transparent;\n",
              "      border-right-color: var(--fill-color);\n",
              "      border-bottom-color: var(--fill-color);\n",
              "    }\n",
              "    90% {\n",
              "      border-color: transparent;\n",
              "      border-bottom-color: var(--fill-color);\n",
              "    }\n",
              "  }\n",
              "</style>\n",
              "\n",
              "  <script>\n",
              "    async function quickchart(key) {\n",
              "      const quickchartButtonEl =\n",
              "        document.querySelector('#' + key + ' button');\n",
              "      quickchartButtonEl.disabled = true;  // To prevent multiple clicks.\n",
              "      quickchartButtonEl.classList.add('colab-df-spinner');\n",
              "      try {\n",
              "        const charts = await google.colab.kernel.invokeFunction(\n",
              "            'suggestCharts', [key], {});\n",
              "      } catch (error) {\n",
              "        console.error('Error during call to suggestCharts:', error);\n",
              "      }\n",
              "      quickchartButtonEl.classList.remove('colab-df-spinner');\n",
              "      quickchartButtonEl.classList.add('colab-df-quickchart-complete');\n",
              "    }\n",
              "    (() => {\n",
              "      let quickchartButtonEl =\n",
              "        document.querySelector('#df-e59a8c2d-384b-46d3-8965-fca28011de86 button');\n",
              "      quickchartButtonEl.style.display =\n",
              "        google.colab.kernel.accessAllowed ? 'block' : 'none';\n",
              "    })();\n",
              "  </script>\n",
              "</div>\n",
              "    </div>\n",
              "  </div>\n"
            ]
          },
          "metadata": {},
          "execution_count": 40
        }
      ]
    },
    {
      "cell_type": "code",
      "source": [
        "var_num = 'Rice Area (1000 Ha)'\n",
        "df = df[['State', 'Year', var_num]]\n",
        "df.head(2)"
      ],
      "metadata": {
        "colab": {
          "base_uri": "https://localhost:8080/",
          "height": 112
        },
        "id": "KyqXSeJ_wriR",
        "outputId": "fb380651-af63-47fe-fdec-8e95e14b4247"
      },
      "execution_count": 41,
      "outputs": [
        {
          "output_type": "execute_result",
          "data": {
            "text/plain": [
              "          State  Year  Rice Area (1000 Ha)\n",
              "0  Chhattisgarh  1978                612.5\n",
              "1  Chhattisgarh  1979                616.8"
            ],
            "text/html": [
              "\n",
              "  <div id=\"df-3d6d224d-4a99-4d3c-ac44-d2f751abf6b2\" class=\"colab-df-container\">\n",
              "    <div>\n",
              "<style scoped>\n",
              "    .dataframe tbody tr th:only-of-type {\n",
              "        vertical-align: middle;\n",
              "    }\n",
              "\n",
              "    .dataframe tbody tr th {\n",
              "        vertical-align: top;\n",
              "    }\n",
              "\n",
              "    .dataframe thead th {\n",
              "        text-align: right;\n",
              "    }\n",
              "</style>\n",
              "<table border=\"1\" class=\"dataframe\">\n",
              "  <thead>\n",
              "    <tr style=\"text-align: right;\">\n",
              "      <th></th>\n",
              "      <th>State</th>\n",
              "      <th>Year</th>\n",
              "      <th>Rice Area (1000 Ha)</th>\n",
              "    </tr>\n",
              "  </thead>\n",
              "  <tbody>\n",
              "    <tr>\n",
              "      <th>0</th>\n",
              "      <td>Chhattisgarh</td>\n",
              "      <td>1978</td>\n",
              "      <td>612.5</td>\n",
              "    </tr>\n",
              "    <tr>\n",
              "      <th>1</th>\n",
              "      <td>Chhattisgarh</td>\n",
              "      <td>1979</td>\n",
              "      <td>616.8</td>\n",
              "    </tr>\n",
              "  </tbody>\n",
              "</table>\n",
              "</div>\n",
              "    <div class=\"colab-df-buttons\">\n",
              "\n",
              "  <div class=\"colab-df-container\">\n",
              "    <button class=\"colab-df-convert\" onclick=\"convertToInteractive('df-3d6d224d-4a99-4d3c-ac44-d2f751abf6b2')\"\n",
              "            title=\"Convert this dataframe to an interactive table.\"\n",
              "            style=\"display:none;\">\n",
              "\n",
              "  <svg xmlns=\"http://www.w3.org/2000/svg\" height=\"24px\" viewBox=\"0 -960 960 960\">\n",
              "    <path d=\"M120-120v-720h720v720H120Zm60-500h600v-160H180v160Zm220 220h160v-160H400v160Zm0 220h160v-160H400v160ZM180-400h160v-160H180v160Zm440 0h160v-160H620v160ZM180-180h160v-160H180v160Zm440 0h160v-160H620v160Z\"/>\n",
              "  </svg>\n",
              "    </button>\n",
              "\n",
              "  <style>\n",
              "    .colab-df-container {\n",
              "      display:flex;\n",
              "      gap: 12px;\n",
              "    }\n",
              "\n",
              "    .colab-df-convert {\n",
              "      background-color: #E8F0FE;\n",
              "      border: none;\n",
              "      border-radius: 50%;\n",
              "      cursor: pointer;\n",
              "      display: none;\n",
              "      fill: #1967D2;\n",
              "      height: 32px;\n",
              "      padding: 0 0 0 0;\n",
              "      width: 32px;\n",
              "    }\n",
              "\n",
              "    .colab-df-convert:hover {\n",
              "      background-color: #E2EBFA;\n",
              "      box-shadow: 0px 1px 2px rgba(60, 64, 67, 0.3), 0px 1px 3px 1px rgba(60, 64, 67, 0.15);\n",
              "      fill: #174EA6;\n",
              "    }\n",
              "\n",
              "    .colab-df-buttons div {\n",
              "      margin-bottom: 4px;\n",
              "    }\n",
              "\n",
              "    [theme=dark] .colab-df-convert {\n",
              "      background-color: #3B4455;\n",
              "      fill: #D2E3FC;\n",
              "    }\n",
              "\n",
              "    [theme=dark] .colab-df-convert:hover {\n",
              "      background-color: #434B5C;\n",
              "      box-shadow: 0px 1px 3px 1px rgba(0, 0, 0, 0.15);\n",
              "      filter: drop-shadow(0px 1px 2px rgba(0, 0, 0, 0.3));\n",
              "      fill: #FFFFFF;\n",
              "    }\n",
              "  </style>\n",
              "\n",
              "    <script>\n",
              "      const buttonEl =\n",
              "        document.querySelector('#df-3d6d224d-4a99-4d3c-ac44-d2f751abf6b2 button.colab-df-convert');\n",
              "      buttonEl.style.display =\n",
              "        google.colab.kernel.accessAllowed ? 'block' : 'none';\n",
              "\n",
              "      async function convertToInteractive(key) {\n",
              "        const element = document.querySelector('#df-3d6d224d-4a99-4d3c-ac44-d2f751abf6b2');\n",
              "        const dataTable =\n",
              "          await google.colab.kernel.invokeFunction('convertToInteractive',\n",
              "                                                    [key], {});\n",
              "        if (!dataTable) return;\n",
              "\n",
              "        const docLinkHtml = 'Like what you see? Visit the ' +\n",
              "          '<a target=\"_blank\" href=https://colab.research.google.com/notebooks/data_table.ipynb>data table notebook</a>'\n",
              "          + ' to learn more about interactive tables.';\n",
              "        element.innerHTML = '';\n",
              "        dataTable['output_type'] = 'display_data';\n",
              "        await google.colab.output.renderOutput(dataTable, element);\n",
              "        const docLink = document.createElement('div');\n",
              "        docLink.innerHTML = docLinkHtml;\n",
              "        element.appendChild(docLink);\n",
              "      }\n",
              "    </script>\n",
              "  </div>\n",
              "\n",
              "\n",
              "<div id=\"df-d4e0af35-10f4-4a19-8f95-07ba6ade93e6\">\n",
              "  <button class=\"colab-df-quickchart\" onclick=\"quickchart('df-d4e0af35-10f4-4a19-8f95-07ba6ade93e6')\"\n",
              "            title=\"Suggest charts\"\n",
              "            style=\"display:none;\">\n",
              "\n",
              "<svg xmlns=\"http://www.w3.org/2000/svg\" height=\"24px\"viewBox=\"0 0 24 24\"\n",
              "     width=\"24px\">\n",
              "    <g>\n",
              "        <path d=\"M19 3H5c-1.1 0-2 .9-2 2v14c0 1.1.9 2 2 2h14c1.1 0 2-.9 2-2V5c0-1.1-.9-2-2-2zM9 17H7v-7h2v7zm4 0h-2V7h2v10zm4 0h-2v-4h2v4z\"/>\n",
              "    </g>\n",
              "</svg>\n",
              "  </button>\n",
              "\n",
              "<style>\n",
              "  .colab-df-quickchart {\n",
              "      --bg-color: #E8F0FE;\n",
              "      --fill-color: #1967D2;\n",
              "      --hover-bg-color: #E2EBFA;\n",
              "      --hover-fill-color: #174EA6;\n",
              "      --disabled-fill-color: #AAA;\n",
              "      --disabled-bg-color: #DDD;\n",
              "  }\n",
              "\n",
              "  [theme=dark] .colab-df-quickchart {\n",
              "      --bg-color: #3B4455;\n",
              "      --fill-color: #D2E3FC;\n",
              "      --hover-bg-color: #434B5C;\n",
              "      --hover-fill-color: #FFFFFF;\n",
              "      --disabled-bg-color: #3B4455;\n",
              "      --disabled-fill-color: #666;\n",
              "  }\n",
              "\n",
              "  .colab-df-quickchart {\n",
              "    background-color: var(--bg-color);\n",
              "    border: none;\n",
              "    border-radius: 50%;\n",
              "    cursor: pointer;\n",
              "    display: none;\n",
              "    fill: var(--fill-color);\n",
              "    height: 32px;\n",
              "    padding: 0;\n",
              "    width: 32px;\n",
              "  }\n",
              "\n",
              "  .colab-df-quickchart:hover {\n",
              "    background-color: var(--hover-bg-color);\n",
              "    box-shadow: 0 1px 2px rgba(60, 64, 67, 0.3), 0 1px 3px 1px rgba(60, 64, 67, 0.15);\n",
              "    fill: var(--button-hover-fill-color);\n",
              "  }\n",
              "\n",
              "  .colab-df-quickchart-complete:disabled,\n",
              "  .colab-df-quickchart-complete:disabled:hover {\n",
              "    background-color: var(--disabled-bg-color);\n",
              "    fill: var(--disabled-fill-color);\n",
              "    box-shadow: none;\n",
              "  }\n",
              "\n",
              "  .colab-df-spinner {\n",
              "    border: 2px solid var(--fill-color);\n",
              "    border-color: transparent;\n",
              "    border-bottom-color: var(--fill-color);\n",
              "    animation:\n",
              "      spin 1s steps(1) infinite;\n",
              "  }\n",
              "\n",
              "  @keyframes spin {\n",
              "    0% {\n",
              "      border-color: transparent;\n",
              "      border-bottom-color: var(--fill-color);\n",
              "      border-left-color: var(--fill-color);\n",
              "    }\n",
              "    20% {\n",
              "      border-color: transparent;\n",
              "      border-left-color: var(--fill-color);\n",
              "      border-top-color: var(--fill-color);\n",
              "    }\n",
              "    30% {\n",
              "      border-color: transparent;\n",
              "      border-left-color: var(--fill-color);\n",
              "      border-top-color: var(--fill-color);\n",
              "      border-right-color: var(--fill-color);\n",
              "    }\n",
              "    40% {\n",
              "      border-color: transparent;\n",
              "      border-right-color: var(--fill-color);\n",
              "      border-top-color: var(--fill-color);\n",
              "    }\n",
              "    60% {\n",
              "      border-color: transparent;\n",
              "      border-right-color: var(--fill-color);\n",
              "    }\n",
              "    80% {\n",
              "      border-color: transparent;\n",
              "      border-right-color: var(--fill-color);\n",
              "      border-bottom-color: var(--fill-color);\n",
              "    }\n",
              "    90% {\n",
              "      border-color: transparent;\n",
              "      border-bottom-color: var(--fill-color);\n",
              "    }\n",
              "  }\n",
              "</style>\n",
              "\n",
              "  <script>\n",
              "    async function quickchart(key) {\n",
              "      const quickchartButtonEl =\n",
              "        document.querySelector('#' + key + ' button');\n",
              "      quickchartButtonEl.disabled = true;  // To prevent multiple clicks.\n",
              "      quickchartButtonEl.classList.add('colab-df-spinner');\n",
              "      try {\n",
              "        const charts = await google.colab.kernel.invokeFunction(\n",
              "            'suggestCharts', [key], {});\n",
              "      } catch (error) {\n",
              "        console.error('Error during call to suggestCharts:', error);\n",
              "      }\n",
              "      quickchartButtonEl.classList.remove('colab-df-spinner');\n",
              "      quickchartButtonEl.classList.add('colab-df-quickchart-complete');\n",
              "    }\n",
              "    (() => {\n",
              "      let quickchartButtonEl =\n",
              "        document.querySelector('#df-d4e0af35-10f4-4a19-8f95-07ba6ade93e6 button');\n",
              "      quickchartButtonEl.style.display =\n",
              "        google.colab.kernel.accessAllowed ? 'block' : 'none';\n",
              "    })();\n",
              "  </script>\n",
              "</div>\n",
              "    </div>\n",
              "  </div>\n"
            ]
          },
          "metadata": {},
          "execution_count": 41
        }
      ]
    },
    {
      "cell_type": "code",
      "source": [
        "linechart = pd.DataFrame(df.groupby(['Year'])[[var_num]].sum()).reset_index()\n",
        "linechart['Year'] = linechart['Year'].astype(str)\n",
        "\n",
        "# create time series chart\n",
        "\n",
        "title = 'Yearly ' + var_num\n",
        "#st.subheader(title)\n",
        "fig_1 = go.Figure()\n",
        "fig_1.add_trace(go.Scatter(\n",
        "  x = linechart['Year'],\n",
        "  y = linechart[var_num],\n",
        "  mode = 'lines+markers',\n",
        "  marker = {'color': colors_2[0]},\n",
        "))\n",
        "fig.update_traces(\n",
        "  hovertemplate = '{:,.0}'\n",
        ")\n",
        "fig_1.update_layout(\n",
        "  hovermode = 'x',\n",
        "  height = 400,\n",
        "  margin = margin,\n",
        "  title = title,\n",
        "  titlefont = dict(size = title_font_size),\n",
        "  title_x = title_x,\n",
        "  yaxis = dict(tickformat = ',.0f'),\n",
        ")\n",
        "fig_1.show()"
      ],
      "metadata": {
        "id": "KQrCvnV3LOM-",
        "colab": {
          "base_uri": "https://localhost:8080/",
          "height": 417
        },
        "outputId": "41a1249f-c4db-4564-98a0-803711abf9b4"
      },
      "execution_count": 42,
      "outputs": [
        {
          "output_type": "display_data",
          "data": {
            "text/html": [
              "<html>\n",
              "<head><meta charset=\"utf-8\" /></head>\n",
              "<body>\n",
              "    <div>            <script src=\"https://cdnjs.cloudflare.com/ajax/libs/mathjax/2.7.5/MathJax.js?config=TeX-AMS-MML_SVG\"></script><script type=\"text/javascript\">if (window.MathJax && window.MathJax.Hub && window.MathJax.Hub.Config) {window.MathJax.Hub.Config({SVG: {font: \"STIX-Web\"}});}</script>                <script type=\"text/javascript\">window.PlotlyConfig = {MathJaxConfig: 'local'};</script>\n",
              "        <script charset=\"utf-8\" src=\"https://cdn.plot.ly/plotly-2.24.1.min.js\"></script>                <div id=\"853e58b5-bd60-4ea8-b5ec-f63b13c78610\" class=\"plotly-graph-div\" style=\"height:400px; width:100%;\"></div>            <script type=\"text/javascript\">                                    window.PLOTLYENV=window.PLOTLYENV || {};                                    if (document.getElementById(\"853e58b5-bd60-4ea8-b5ec-f63b13c78610\")) {                    Plotly.newPlot(                        \"853e58b5-bd60-4ea8-b5ec-f63b13c78610\",                        [{\"marker\":{\"color\":\"rgb(103,0,31)\"},\"mode\":\"lines+markers\",\"x\":[\"1978\",\"1979\",\"1980\",\"1981\",\"1982\",\"1983\",\"1984\",\"1985\",\"1986\",\"1987\",\"1988\",\"1989\",\"1990\",\"1991\",\"1992\",\"1993\",\"1994\",\"1995\",\"1996\",\"1997\",\"1998\",\"1999\",\"2000\",\"2001\",\"2002\",\"2003\",\"2004\",\"2005\",\"2006\",\"2007\",\"2008\",\"2009\",\"2010\",\"2011\",\"2012\",\"2013\",\"2014\",\"2015\",\"2016\",\"2017\"],\"y\":[39323.88,38122.01,38908.83,39464.47,36210.82,39743.74,39859.88,39722.14,39575.13,37277.02,40639.76,41780.98,41070.99,41021.6,40207.46,40936.31,41237.14,39824.7,40557.85,42355.99,42282.82,42322.26,43567.68,43489.09,39795.72,41149.31,40613.67,42579.31,41998.69,42448.85,43756.82,41438.76,41880.28,42182.73,40836.34,43081.16,42533.05,41814.24,42963.71,42976.53],\"type\":\"scatter\"}],                        {\"template\":{\"data\":{\"histogram2dcontour\":[{\"type\":\"histogram2dcontour\",\"colorbar\":{\"outlinewidth\":0,\"ticks\":\"\"},\"colorscale\":[[0.0,\"#0d0887\"],[0.1111111111111111,\"#46039f\"],[0.2222222222222222,\"#7201a8\"],[0.3333333333333333,\"#9c179e\"],[0.4444444444444444,\"#bd3786\"],[0.5555555555555556,\"#d8576b\"],[0.6666666666666666,\"#ed7953\"],[0.7777777777777778,\"#fb9f3a\"],[0.8888888888888888,\"#fdca26\"],[1.0,\"#f0f921\"]]}],\"choropleth\":[{\"type\":\"choropleth\",\"colorbar\":{\"outlinewidth\":0,\"ticks\":\"\"}}],\"histogram2d\":[{\"type\":\"histogram2d\",\"colorbar\":{\"outlinewidth\":0,\"ticks\":\"\"},\"colorscale\":[[0.0,\"#0d0887\"],[0.1111111111111111,\"#46039f\"],[0.2222222222222222,\"#7201a8\"],[0.3333333333333333,\"#9c179e\"],[0.4444444444444444,\"#bd3786\"],[0.5555555555555556,\"#d8576b\"],[0.6666666666666666,\"#ed7953\"],[0.7777777777777778,\"#fb9f3a\"],[0.8888888888888888,\"#fdca26\"],[1.0,\"#f0f921\"]]}],\"heatmap\":[{\"type\":\"heatmap\",\"colorbar\":{\"outlinewidth\":0,\"ticks\":\"\"},\"colorscale\":[[0.0,\"#0d0887\"],[0.1111111111111111,\"#46039f\"],[0.2222222222222222,\"#7201a8\"],[0.3333333333333333,\"#9c179e\"],[0.4444444444444444,\"#bd3786\"],[0.5555555555555556,\"#d8576b\"],[0.6666666666666666,\"#ed7953\"],[0.7777777777777778,\"#fb9f3a\"],[0.8888888888888888,\"#fdca26\"],[1.0,\"#f0f921\"]]}],\"heatmapgl\":[{\"type\":\"heatmapgl\",\"colorbar\":{\"outlinewidth\":0,\"ticks\":\"\"},\"colorscale\":[[0.0,\"#0d0887\"],[0.1111111111111111,\"#46039f\"],[0.2222222222222222,\"#7201a8\"],[0.3333333333333333,\"#9c179e\"],[0.4444444444444444,\"#bd3786\"],[0.5555555555555556,\"#d8576b\"],[0.6666666666666666,\"#ed7953\"],[0.7777777777777778,\"#fb9f3a\"],[0.8888888888888888,\"#fdca26\"],[1.0,\"#f0f921\"]]}],\"contourcarpet\":[{\"type\":\"contourcarpet\",\"colorbar\":{\"outlinewidth\":0,\"ticks\":\"\"}}],\"contour\":[{\"type\":\"contour\",\"colorbar\":{\"outlinewidth\":0,\"ticks\":\"\"},\"colorscale\":[[0.0,\"#0d0887\"],[0.1111111111111111,\"#46039f\"],[0.2222222222222222,\"#7201a8\"],[0.3333333333333333,\"#9c179e\"],[0.4444444444444444,\"#bd3786\"],[0.5555555555555556,\"#d8576b\"],[0.6666666666666666,\"#ed7953\"],[0.7777777777777778,\"#fb9f3a\"],[0.8888888888888888,\"#fdca26\"],[1.0,\"#f0f921\"]]}],\"surface\":[{\"type\":\"surface\",\"colorbar\":{\"outlinewidth\":0,\"ticks\":\"\"},\"colorscale\":[[0.0,\"#0d0887\"],[0.1111111111111111,\"#46039f\"],[0.2222222222222222,\"#7201a8\"],[0.3333333333333333,\"#9c179e\"],[0.4444444444444444,\"#bd3786\"],[0.5555555555555556,\"#d8576b\"],[0.6666666666666666,\"#ed7953\"],[0.7777777777777778,\"#fb9f3a\"],[0.8888888888888888,\"#fdca26\"],[1.0,\"#f0f921\"]]}],\"mesh3d\":[{\"type\":\"mesh3d\",\"colorbar\":{\"outlinewidth\":0,\"ticks\":\"\"}}],\"scatter\":[{\"fillpattern\":{\"fillmode\":\"overlay\",\"size\":10,\"solidity\":0.2},\"type\":\"scatter\"}],\"parcoords\":[{\"type\":\"parcoords\",\"line\":{\"colorbar\":{\"outlinewidth\":0,\"ticks\":\"\"}}}],\"scatterpolargl\":[{\"type\":\"scatterpolargl\",\"marker\":{\"colorbar\":{\"outlinewidth\":0,\"ticks\":\"\"}}}],\"bar\":[{\"error_x\":{\"color\":\"#2a3f5f\"},\"error_y\":{\"color\":\"#2a3f5f\"},\"marker\":{\"line\":{\"color\":\"#E5ECF6\",\"width\":0.5},\"pattern\":{\"fillmode\":\"overlay\",\"size\":10,\"solidity\":0.2}},\"type\":\"bar\"}],\"scattergeo\":[{\"type\":\"scattergeo\",\"marker\":{\"colorbar\":{\"outlinewidth\":0,\"ticks\":\"\"}}}],\"scatterpolar\":[{\"type\":\"scatterpolar\",\"marker\":{\"colorbar\":{\"outlinewidth\":0,\"ticks\":\"\"}}}],\"histogram\":[{\"marker\":{\"pattern\":{\"fillmode\":\"overlay\",\"size\":10,\"solidity\":0.2}},\"type\":\"histogram\"}],\"scattergl\":[{\"type\":\"scattergl\",\"marker\":{\"colorbar\":{\"outlinewidth\":0,\"ticks\":\"\"}}}],\"scatter3d\":[{\"type\":\"scatter3d\",\"line\":{\"colorbar\":{\"outlinewidth\":0,\"ticks\":\"\"}},\"marker\":{\"colorbar\":{\"outlinewidth\":0,\"ticks\":\"\"}}}],\"scattermapbox\":[{\"type\":\"scattermapbox\",\"marker\":{\"colorbar\":{\"outlinewidth\":0,\"ticks\":\"\"}}}],\"scatterternary\":[{\"type\":\"scatterternary\",\"marker\":{\"colorbar\":{\"outlinewidth\":0,\"ticks\":\"\"}}}],\"scattercarpet\":[{\"type\":\"scattercarpet\",\"marker\":{\"colorbar\":{\"outlinewidth\":0,\"ticks\":\"\"}}}],\"carpet\":[{\"aaxis\":{\"endlinecolor\":\"#2a3f5f\",\"gridcolor\":\"white\",\"linecolor\":\"white\",\"minorgridcolor\":\"white\",\"startlinecolor\":\"#2a3f5f\"},\"baxis\":{\"endlinecolor\":\"#2a3f5f\",\"gridcolor\":\"white\",\"linecolor\":\"white\",\"minorgridcolor\":\"white\",\"startlinecolor\":\"#2a3f5f\"},\"type\":\"carpet\"}],\"table\":[{\"cells\":{\"fill\":{\"color\":\"#EBF0F8\"},\"line\":{\"color\":\"white\"}},\"header\":{\"fill\":{\"color\":\"#C8D4E3\"},\"line\":{\"color\":\"white\"}},\"type\":\"table\"}],\"barpolar\":[{\"marker\":{\"line\":{\"color\":\"#E5ECF6\",\"width\":0.5},\"pattern\":{\"fillmode\":\"overlay\",\"size\":10,\"solidity\":0.2}},\"type\":\"barpolar\"}],\"pie\":[{\"automargin\":true,\"type\":\"pie\"}]},\"layout\":{\"autotypenumbers\":\"strict\",\"colorway\":[\"#636efa\",\"#EF553B\",\"#00cc96\",\"#ab63fa\",\"#FFA15A\",\"#19d3f3\",\"#FF6692\",\"#B6E880\",\"#FF97FF\",\"#FECB52\"],\"font\":{\"color\":\"#2a3f5f\"},\"hovermode\":\"closest\",\"hoverlabel\":{\"align\":\"left\"},\"paper_bgcolor\":\"white\",\"plot_bgcolor\":\"#E5ECF6\",\"polar\":{\"bgcolor\":\"#E5ECF6\",\"angularaxis\":{\"gridcolor\":\"white\",\"linecolor\":\"white\",\"ticks\":\"\"},\"radialaxis\":{\"gridcolor\":\"white\",\"linecolor\":\"white\",\"ticks\":\"\"}},\"ternary\":{\"bgcolor\":\"#E5ECF6\",\"aaxis\":{\"gridcolor\":\"white\",\"linecolor\":\"white\",\"ticks\":\"\"},\"baxis\":{\"gridcolor\":\"white\",\"linecolor\":\"white\",\"ticks\":\"\"},\"caxis\":{\"gridcolor\":\"white\",\"linecolor\":\"white\",\"ticks\":\"\"}},\"coloraxis\":{\"colorbar\":{\"outlinewidth\":0,\"ticks\":\"\"}},\"colorscale\":{\"sequential\":[[0.0,\"#0d0887\"],[0.1111111111111111,\"#46039f\"],[0.2222222222222222,\"#7201a8\"],[0.3333333333333333,\"#9c179e\"],[0.4444444444444444,\"#bd3786\"],[0.5555555555555556,\"#d8576b\"],[0.6666666666666666,\"#ed7953\"],[0.7777777777777778,\"#fb9f3a\"],[0.8888888888888888,\"#fdca26\"],[1.0,\"#f0f921\"]],\"sequentialminus\":[[0.0,\"#0d0887\"],[0.1111111111111111,\"#46039f\"],[0.2222222222222222,\"#7201a8\"],[0.3333333333333333,\"#9c179e\"],[0.4444444444444444,\"#bd3786\"],[0.5555555555555556,\"#d8576b\"],[0.6666666666666666,\"#ed7953\"],[0.7777777777777778,\"#fb9f3a\"],[0.8888888888888888,\"#fdca26\"],[1.0,\"#f0f921\"]],\"diverging\":[[0,\"#8e0152\"],[0.1,\"#c51b7d\"],[0.2,\"#de77ae\"],[0.3,\"#f1b6da\"],[0.4,\"#fde0ef\"],[0.5,\"#f7f7f7\"],[0.6,\"#e6f5d0\"],[0.7,\"#b8e186\"],[0.8,\"#7fbc41\"],[0.9,\"#4d9221\"],[1,\"#276419\"]]},\"xaxis\":{\"gridcolor\":\"white\",\"linecolor\":\"white\",\"ticks\":\"\",\"title\":{\"standoff\":15},\"zerolinecolor\":\"white\",\"automargin\":true,\"zerolinewidth\":2},\"yaxis\":{\"gridcolor\":\"white\",\"linecolor\":\"white\",\"ticks\":\"\",\"title\":{\"standoff\":15},\"zerolinecolor\":\"white\",\"automargin\":true,\"zerolinewidth\":2},\"scene\":{\"xaxis\":{\"backgroundcolor\":\"#E5ECF6\",\"gridcolor\":\"white\",\"linecolor\":\"white\",\"showbackground\":true,\"ticks\":\"\",\"zerolinecolor\":\"white\",\"gridwidth\":2},\"yaxis\":{\"backgroundcolor\":\"#E5ECF6\",\"gridcolor\":\"white\",\"linecolor\":\"white\",\"showbackground\":true,\"ticks\":\"\",\"zerolinecolor\":\"white\",\"gridwidth\":2},\"zaxis\":{\"backgroundcolor\":\"#E5ECF6\",\"gridcolor\":\"white\",\"linecolor\":\"white\",\"showbackground\":true,\"ticks\":\"\",\"zerolinecolor\":\"white\",\"gridwidth\":2}},\"shapedefaults\":{\"line\":{\"color\":\"#2a3f5f\"}},\"annotationdefaults\":{\"arrowcolor\":\"#2a3f5f\",\"arrowhead\":0,\"arrowwidth\":1},\"geo\":{\"bgcolor\":\"white\",\"landcolor\":\"#E5ECF6\",\"subunitcolor\":\"white\",\"showland\":true,\"showlakes\":true,\"lakecolor\":\"white\"},\"title\":{\"x\":0.05},\"mapbox\":{\"style\":\"light\"}}},\"margin\":{\"r\":20,\"t\":40,\"l\":20,\"b\":10},\"title\":{\"text\":\"Yearly Rice Area (1000 Ha)\",\"font\":{\"size\":18},\"x\":0},\"yaxis\":{\"tickformat\":\",.0f\"},\"hovermode\":\"x\",\"height\":400},                        {\"responsive\": true}                    ).then(function(){\n",
              "                            \n",
              "var gd = document.getElementById('853e58b5-bd60-4ea8-b5ec-f63b13c78610');\n",
              "var x = new MutationObserver(function (mutations, observer) {{\n",
              "        var display = window.getComputedStyle(gd).display;\n",
              "        if (!display || display === 'none') {{\n",
              "            console.log([gd, 'removed!']);\n",
              "            Plotly.purge(gd);\n",
              "            observer.disconnect();\n",
              "        }}\n",
              "}});\n",
              "\n",
              "// Listen for the removal of the full notebook cells\n",
              "var notebookContainer = gd.closest('#notebook-container');\n",
              "if (notebookContainer) {{\n",
              "    x.observe(notebookContainer, {childList: true});\n",
              "}}\n",
              "\n",
              "// Listen for the clearing of the current output cell\n",
              "var outputEl = gd.closest('.output');\n",
              "if (outputEl) {{\n",
              "    x.observe(outputEl, {childList: true});\n",
              "}}\n",
              "\n",
              "                        })                };                            </script>        </div>\n",
              "</body>\n",
              "</html>"
            ]
          },
          "metadata": {}
        }
      ]
    },
    {
      "cell_type": "code",
      "source": [
        "linechart = pd.DataFrame(df.groupby(['Year', 'State'])[[var_num]].sum()).reset_index()\n",
        "linechart['Year'] = linechart['Year'].astype(str)\n",
        "\n",
        "fig_1 = px.line(\n",
        "  x = linechart['Year'],\n",
        "  y = linechart[var_num],\n",
        "  color = linechart['State'],\n",
        "  markers = True,\n",
        ")\n",
        "fig_1.update_traces(\n",
        "  #hovertemplate = '{:,.0f}'\n",
        ")\n",
        "fig_1.update_layout(\n",
        "  hovermode = 'x',\n",
        "  height = 400,\n",
        "  margin = margin,\n",
        "  title = title,\n",
        "  titlefont = dict(size = title_font_size),\n",
        "  title_x = title_x,\n",
        "  yaxis = dict(tickformat = ',.0f'),\n",
        ")\n",
        "fig_1.show()"
      ],
      "metadata": {
        "colab": {
          "base_uri": "https://localhost:8080/",
          "height": 417
        },
        "id": "70HpBiXlxAQT",
        "outputId": "2fb74942-f6a9-4e52-a1fc-7b2951e81f04"
      },
      "execution_count": 43,
      "outputs": [
        {
          "output_type": "display_data",
          "data": {
            "text/html": [
              "<html>\n",
              "<head><meta charset=\"utf-8\" /></head>\n",
              "<body>\n",
              "    <div>            <script src=\"https://cdnjs.cloudflare.com/ajax/libs/mathjax/2.7.5/MathJax.js?config=TeX-AMS-MML_SVG\"></script><script type=\"text/javascript\">if (window.MathJax && window.MathJax.Hub && window.MathJax.Hub.Config) {window.MathJax.Hub.Config({SVG: {font: \"STIX-Web\"}});}</script>                <script type=\"text/javascript\">window.PlotlyConfig = {MathJaxConfig: 'local'};</script>\n",
              "        <script charset=\"utf-8\" src=\"https://cdn.plot.ly/plotly-2.24.1.min.js\"></script>                <div id=\"aa1bd1a1-31bc-483d-8bca-4004f310e862\" class=\"plotly-graph-div\" style=\"height:400px; width:100%;\"></div>            <script type=\"text/javascript\">                                    window.PLOTLYENV=window.PLOTLYENV || {};                                    if (document.getElementById(\"aa1bd1a1-31bc-483d-8bca-4004f310e862\")) {                    Plotly.newPlot(                        \"aa1bd1a1-31bc-483d-8bca-4004f310e862\",                        [{\"hovertemplate\":\"color=Andhra Pradesh\\u003cbr\\u003ex=%{x}\\u003cbr\\u003ey=%{y}\\u003cextra\\u003e\\u003c\\u002fextra\\u003e\",\"legendgroup\":\"Andhra Pradesh\",\"line\":{\"color\":\"#636efa\",\"dash\":\"solid\"},\"marker\":{\"symbol\":\"circle\"},\"mode\":\"lines+markers\",\"name\":\"Andhra Pradesh\",\"orientation\":\"v\",\"showlegend\":true,\"x\":[\"1978\",\"1979\",\"1980\",\"1981\",\"1982\",\"1983\",\"1984\",\"1985\",\"1986\",\"1987\",\"1988\",\"1989\",\"1990\",\"1991\",\"1992\",\"1993\",\"1994\",\"1995\",\"1996\",\"1997\",\"1998\",\"1999\",\"2000\",\"2001\",\"2002\",\"2003\",\"2004\",\"2005\",\"2006\",\"2007\",\"2008\",\"2009\",\"2010\",\"2011\",\"2012\",\"2013\",\"2014\",\"2015\",\"2016\",\"2017\"],\"xaxis\":\"x\",\"y\":[2636.5,2483.0,2578.5,2606.0,2496.3,2785.5,2501.3,2497.6,2554.0,2180.0,2791.4,2796.2,2623.1,2606.76,2545.94,2542.0,2582.0,2588.0,2749.0,2564.0,2779.0,2634.24,2694.77,2515.3599999999997,1867.0,1957.33,2227.69,2520.72,2488.89,2577.61,2695.73,2325.74,2772.38,2346.31,2209.25,2583.44,2393.9700000000003,2160.79,2105.02,2218.1800000000003],\"yaxis\":\"y\",\"type\":\"scatter\"},{\"hovertemplate\":\"color=Assam\\u003cbr\\u003ex=%{x}\\u003cbr\\u003ey=%{y}\\u003cextra\\u003e\\u003c\\u002fextra\\u003e\",\"legendgroup\":\"Assam\",\"line\":{\"color\":\"#EF553B\",\"dash\":\"solid\"},\"marker\":{\"symbol\":\"circle\"},\"mode\":\"lines+markers\",\"name\":\"Assam\",\"orientation\":\"v\",\"showlegend\":true,\"x\":[\"1978\",\"1979\",\"1980\",\"1981\",\"1982\",\"1983\",\"1984\",\"1985\",\"1986\",\"1987\",\"1988\",\"1989\",\"1990\",\"1991\",\"1992\",\"1993\",\"1994\",\"1995\",\"1996\",\"1997\",\"1998\",\"1999\",\"2000\",\"2001\",\"2002\",\"2003\",\"2004\",\"2005\",\"2006\",\"2007\",\"2008\",\"2009\",\"2010\",\"2011\",\"2012\",\"2013\",\"2014\",\"2015\",\"2016\",\"2017\"],\"xaxis\":\"x\",\"y\":[2232.55,2202.91,2228.92,2255.1,2301.76,2322.26,2324.8399999999997,2464.1,2288.06,2336.0499999999997,2366.18,2471.67,2526.75,2571.96,2566.39,2562.65,2486.5,2539.92,2527.7,2525.67,2454.12,2645.87,2646.17,2536.43,2540.73,2529.8599999999997,2383.74,2383.9300000000003,2169.68,2302.5299999999997,2457.57,2513.7,2516.33,2525.3,2461.89,2484.47,2477.1,2467.16,2449.98,2417.1800000000003],\"yaxis\":\"y\",\"type\":\"scatter\"},{\"hovertemplate\":\"color=Bihar\\u003cbr\\u003ex=%{x}\\u003cbr\\u003ey=%{y}\\u003cextra\\u003e\\u003c\\u002fextra\\u003e\",\"legendgroup\":\"Bihar\",\"line\":{\"color\":\"#00cc96\",\"dash\":\"solid\"},\"marker\":{\"symbol\":\"circle\"},\"mode\":\"lines+markers\",\"name\":\"Bihar\",\"orientation\":\"v\",\"showlegend\":true,\"x\":[\"1978\",\"1979\",\"1980\",\"1981\",\"1982\",\"1983\",\"1984\",\"1985\",\"1986\",\"1987\",\"1988\",\"1989\",\"1990\",\"1991\",\"1992\",\"1993\",\"1994\",\"1995\",\"1996\",\"1997\",\"1998\",\"1999\",\"2000\",\"2001\",\"2002\",\"2003\",\"2004\",\"2005\",\"2006\",\"2007\",\"2008\",\"2009\",\"2010\",\"2011\",\"2012\",\"2013\",\"2014\",\"2015\",\"2016\",\"2017\"],\"xaxis\":\"x\",\"y\":[3833.0,3564.0,3819.0,3749.0,3094.15,3404.05,3614.3,3787.97,3820.79,3564.6400000000003,3789.23,3758.7599999999998,3868.0600000000004,3634.02,3141.68,3331.0,3412.42,3559.85,3540.44,3621.35,3639.36,2658.82,3657.0,3552.0,3585.0,3578.01,3140.11,3251.26,3364.04,3543.98,3295.75,3213.44,2845.4,3350.95,3298.89,3150.8,3263.42,3232.34,3339.77,3306.98],\"yaxis\":\"y\",\"type\":\"scatter\"},{\"hovertemplate\":\"color=Chhattisgarh\\u003cbr\\u003ex=%{x}\\u003cbr\\u003ey=%{y}\\u003cextra\\u003e\\u003c\\u002fextra\\u003e\",\"legendgroup\":\"Chhattisgarh\",\"line\":{\"color\":\"#ab63fa\",\"dash\":\"solid\"},\"marker\":{\"symbol\":\"circle\"},\"mode\":\"lines+markers\",\"name\":\"Chhattisgarh\",\"orientation\":\"v\",\"showlegend\":true,\"x\":[\"1978\",\"1979\",\"1980\",\"1981\",\"1982\",\"1983\",\"1984\",\"1985\",\"1986\",\"1987\",\"1988\",\"1989\",\"1990\",\"1991\",\"1992\",\"1993\",\"1994\",\"1995\",\"1996\",\"1997\",\"1998\",\"1999\",\"2000\",\"2001\",\"2002\",\"2003\",\"2004\",\"2005\",\"2006\",\"2007\",\"2008\",\"2009\",\"2010\",\"2011\",\"2012\",\"2013\",\"2014\",\"2015\",\"2016\",\"2017\"],\"xaxis\":\"x\",\"y\":[3220.5,3220.3,3299.8999999999996,3296.9,3289.0,3323.8,3332.8,3386.1,3453.0,3422.0,3461.3,3513.1,3562.4,3573.0,3587.9,3653.9,3737.5,3721.6,3694.6,3770.3,4030.9,3902.95,3769.7599999999998,3810.11,3777.66,3828.99,3843.87,3843.87,3763.64,3902.9,3928.83,3837.6,3827.21,3939.83,3982.18,3987.75,4035.73,3959.75,4052.58,3976.63],\"yaxis\":\"y\",\"type\":\"scatter\"},{\"hovertemplate\":\"color=Gujarat\\u003cbr\\u003ex=%{x}\\u003cbr\\u003ey=%{y}\\u003cextra\\u003e\\u003c\\u002fextra\\u003e\",\"legendgroup\":\"Gujarat\",\"line\":{\"color\":\"#FFA15A\",\"dash\":\"solid\"},\"marker\":{\"symbol\":\"circle\"},\"mode\":\"lines+markers\",\"name\":\"Gujarat\",\"orientation\":\"v\",\"showlegend\":true,\"x\":[\"1978\",\"1979\",\"1980\",\"1981\",\"1982\",\"1983\",\"1984\",\"1985\",\"1986\",\"1987\",\"1988\",\"1989\",\"1990\",\"1991\",\"1992\",\"1993\",\"1994\",\"1995\",\"1996\",\"1997\",\"1998\",\"1999\",\"2000\",\"2001\",\"2002\",\"2003\",\"2004\",\"2005\",\"2006\",\"2007\",\"2008\",\"2009\",\"2010\",\"2011\",\"2012\",\"2013\",\"2014\",\"2015\",\"2016\",\"2017\"],\"xaxis\":\"x\",\"y\":[459.8,458.2,477.5,498.90000000000003,476.1,540.3,566.1,498.0,512.0,349.7,534.0,602.9,623.0,671.1,679.8,687.9,720.0,726.39,641.6,756.0,729.2,719.6999999999999,689.3,698.0,628.7,651.4,679.4,672.9,689.3,758.6,747.3,679.5,808.0999999999999,835.5,701.1,820.39,794.46,774.22,847.6,855.29],\"yaxis\":\"y\",\"type\":\"scatter\"},{\"hovertemplate\":\"color=Haryana\\u003cbr\\u003ex=%{x}\\u003cbr\\u003ey=%{y}\\u003cextra\\u003e\\u003c\\u002fextra\\u003e\",\"legendgroup\":\"Haryana\",\"line\":{\"color\":\"#19d3f3\",\"dash\":\"solid\"},\"marker\":{\"symbol\":\"circle\"},\"mode\":\"lines+markers\",\"name\":\"Haryana\",\"orientation\":\"v\",\"showlegend\":true,\"x\":[\"1978\",\"1979\",\"1980\",\"1981\",\"1982\",\"1983\",\"1984\",\"1985\",\"1986\",\"1987\",\"1988\",\"1989\",\"1990\",\"1991\",\"1992\",\"1993\",\"1994\",\"1995\",\"1996\",\"1997\",\"1998\",\"1999\",\"2000\",\"2001\",\"2002\",\"2003\",\"2004\",\"2005\",\"2006\",\"2007\",\"2008\",\"2009\",\"2010\",\"2011\",\"2012\",\"2013\",\"2014\",\"2015\",\"2016\",\"2017\"],\"xaxis\":\"x\",\"y\":[458.59999999999997,509.1,472.1,506.1,489.0,533.0,557.0,585.0,628.0,462.0,599.0,838.0,661.2,637.0,707.4,755.0,796.1,830.0,830.49,913.7,1086.0,1083.09,1054.3,1027.49,905.71,1015.2,1024.24,1046.61,1042.0,1072.5,1211.2,1206.4,1243.3,1234.1,1206.25,1244.0,1277.0,1353.1,1385.2,1422.0],\"yaxis\":\"y\",\"type\":\"scatter\"},{\"hovertemplate\":\"color=Himachal Pradesh\\u003cbr\\u003ex=%{x}\\u003cbr\\u003ey=%{y}\\u003cextra\\u003e\\u003c\\u002fextra\\u003e\",\"legendgroup\":\"Himachal Pradesh\",\"line\":{\"color\":\"#FF6692\",\"dash\":\"solid\"},\"marker\":{\"symbol\":\"circle\"},\"mode\":\"lines+markers\",\"name\":\"Himachal Pradesh\",\"orientation\":\"v\",\"showlegend\":true,\"x\":[\"1978\",\"1979\",\"1980\",\"1981\",\"1982\",\"1983\",\"1984\",\"1985\",\"1986\",\"1987\",\"1988\",\"1989\",\"1990\",\"1991\",\"1992\",\"1993\",\"1994\",\"1995\",\"1996\",\"1997\",\"1998\",\"1999\",\"2000\",\"2001\",\"2002\",\"2003\",\"2004\",\"2005\",\"2006\",\"2007\",\"2008\",\"2009\",\"2010\",\"2011\",\"2012\",\"2013\",\"2014\",\"2015\",\"2016\",\"2017\"],\"xaxis\":\"x\",\"y\":[95.2,96.66999999999999,93.3,91.27,90.55,94.66000000000001,94.71000000000001,89.8,95.96,90.17,86.62,87.60000000000001,84.94999999999999,83.17999999999999,81.92,87.83,82.74,83.02000000000001,81.75,86.19,82.13000000000001,80.24,81.5,80.59,82.81,81.35,79.52,79.37,69.22,78.55999999999999,77.72,76.19000000000001,75.44000000000001,75.06,75.39,73.11,72.38,71.61,70.84,71.61],\"yaxis\":\"y\",\"type\":\"scatter\"},{\"hovertemplate\":\"color=Jharkhand\\u003cbr\\u003ex=%{x}\\u003cbr\\u003ey=%{y}\\u003cextra\\u003e\\u003c\\u002fextra\\u003e\",\"legendgroup\":\"Jharkhand\",\"line\":{\"color\":\"#B6E880\",\"dash\":\"solid\"},\"marker\":{\"symbol\":\"circle\"},\"mode\":\"lines+markers\",\"name\":\"Jharkhand\",\"orientation\":\"v\",\"showlegend\":true,\"x\":[\"1978\",\"1979\",\"1980\",\"1981\",\"1982\",\"1983\",\"1984\",\"1985\",\"1986\",\"1987\",\"1988\",\"1989\",\"1990\",\"1991\",\"1992\",\"1993\",\"1994\",\"1997\",\"1998\",\"1999\",\"2000\",\"2001\",\"2002\",\"2003\",\"2004\",\"2005\",\"2006\",\"2007\",\"2008\",\"2009\",\"2010\",\"2011\",\"2012\",\"2013\",\"2014\",\"2015\",\"2016\",\"2017\"],\"xaxis\":\"x\",\"y\":[1743.0,1536.0,1755.0,1634.0,1404.82,1506.17,1558.86,1591.33,1546.79,1533.93,1563.04,1530.38,1522.3700000000001,1465.49,1367.87,1386.8400000000001,1442.8600000000001,1490.99,0.0,390.8,1463.81,1321.33,1058.8,1425.23,1067.56,1100.52,1139.5,1198.62,1196.97,973.3100000000001,837.19,982.7,1091.08,1085.64,989.0,1162.5,1342.07,1735.43],\"yaxis\":\"y\",\"type\":\"scatter\"},{\"hovertemplate\":\"color=Karnataka\\u003cbr\\u003ex=%{x}\\u003cbr\\u003ey=%{y}\\u003cextra\\u003e\\u003c\\u002fextra\\u003e\",\"legendgroup\":\"Karnataka\",\"line\":{\"color\":\"#FF97FF\",\"dash\":\"solid\"},\"marker\":{\"symbol\":\"circle\"},\"mode\":\"lines+markers\",\"name\":\"Karnataka\",\"orientation\":\"v\",\"showlegend\":true,\"x\":[\"1978\",\"1979\",\"1980\",\"1981\",\"1982\",\"1983\",\"1984\",\"1985\",\"1986\",\"1987\",\"1988\",\"1989\",\"1990\",\"1991\",\"1992\",\"1993\",\"1994\",\"1995\",\"1996\",\"1997\",\"1998\",\"1999\",\"2000\",\"2001\",\"2002\",\"2003\",\"2004\",\"2005\",\"2006\",\"2007\",\"2008\",\"2009\",\"2010\",\"2011\",\"2012\",\"2013\",\"2014\",\"2015\",\"2016\",\"2017\"],\"xaxis\":\"x\",\"y\":[1129.6,1081.9,1114.2,1161.2,1146.9,1124.6,1155.9,1040.8,1111.1,1051.9,1185.0,1183.3,1173.19,1268.98,1316.58,1373.85,1295.54,1265.18,1358.56,1353.49,1426.82,1449.8,1483.4,1417.71,1154.79,1073.92,1308.1799999999998,1485.17,1395.68,1416.28,1513.99,1486.49,1539.48,1416.17,1278.94,1340.05,1326.55,1110.08,1034.54,992.95],\"yaxis\":\"y\",\"type\":\"scatter\"},{\"hovertemplate\":\"color=Kerala\\u003cbr\\u003ex=%{x}\\u003cbr\\u003ey=%{y}\\u003cextra\\u003e\\u003c\\u002fextra\\u003e\",\"legendgroup\":\"Kerala\",\"line\":{\"color\":\"#FECB52\",\"dash\":\"solid\"},\"marker\":{\"symbol\":\"circle\"},\"mode\":\"lines+markers\",\"name\":\"Kerala\",\"orientation\":\"v\",\"showlegend\":true,\"x\":[\"1978\",\"1979\",\"1980\",\"1981\",\"1982\",\"1983\",\"1984\",\"1985\",\"1986\",\"1987\",\"1988\",\"1989\",\"1990\",\"1991\",\"1992\",\"1993\",\"1994\",\"1995\",\"1996\",\"1997\",\"1998\",\"1999\",\"2000\",\"2001\",\"2002\",\"2003\",\"2004\",\"2005\",\"2006\",\"2007\",\"2008\",\"2009\",\"2010\",\"2011\",\"2012\",\"2013\",\"2014\",\"2015\",\"2016\",\"2017\"],\"xaxis\":\"x\",\"y\":[799.25,793.27,801.7,806.88,778.49,750.09,730.38,678.29,663.8000000000001,604.09,577.5600000000001,583.36,559.45,541.33,537.62,507.84000000000003,503.3,471.15,430.84000000000003,387.14,352.65,349.79,347.46,322.37,310.53,287.34,289.99,275.74,263.53999999999996,228.94,234.28,234.02,213.2,208.17000000000002,197.28,199.61,198.17,196.87,171.39000000000001,189.1],\"yaxis\":\"y\",\"type\":\"scatter\"},{\"hovertemplate\":\"color=Madhya Pradesh\\u003cbr\\u003ex=%{x}\\u003cbr\\u003ey=%{y}\\u003cextra\\u003e\\u003c\\u002fextra\\u003e\",\"legendgroup\":\"Madhya Pradesh\",\"line\":{\"color\":\"#636efa\",\"dash\":\"solid\"},\"marker\":{\"symbol\":\"circle\"},\"mode\":\"lines+markers\",\"name\":\"Madhya Pradesh\",\"orientation\":\"v\",\"showlegend\":true,\"x\":[\"1978\",\"1979\",\"1980\",\"1981\",\"1982\",\"1983\",\"1984\",\"1985\",\"1986\",\"1987\",\"1988\",\"1989\",\"1990\",\"1991\",\"1992\",\"1993\",\"1994\",\"1995\",\"1996\",\"1997\",\"1998\",\"1999\",\"2000\",\"2001\",\"2002\",\"2003\",\"2004\",\"2005\",\"2006\",\"2007\",\"2008\",\"2009\",\"2010\",\"2011\",\"2012\",\"2013\",\"2014\",\"2015\",\"2016\",\"2017\"],\"xaxis\":\"x\",\"y\":[1570.0,1518.6,1529.1,1514.1,1459.5,1528.3,1469.2,1538.8999999999999,1522.1,1257.4,1553.0,1483.7,1516.3,1519.1,1533.2,1526.9,1572.5,1582.8,1557.5,1617.0,1490.0,1700.8,1697.8,1766.2,1671.1,1708.6,1675.56,1700.47,1674.05,1634.9,1706.6,1593.1,1573.5,1651.8,1791.17,1881.55,2057.0,2026.0,2287.0,2035.14],\"yaxis\":\"y\",\"type\":\"scatter\"},{\"hovertemplate\":\"color=Maharashtra\\u003cbr\\u003ex=%{x}\\u003cbr\\u003ey=%{y}\\u003cextra\\u003e\\u003c\\u002fextra\\u003e\",\"legendgroup\":\"Maharashtra\",\"line\":{\"color\":\"#EF553B\",\"dash\":\"solid\"},\"marker\":{\"symbol\":\"circle\"},\"mode\":\"lines+markers\",\"name\":\"Maharashtra\",\"orientation\":\"v\",\"showlegend\":true,\"x\":[\"1978\",\"1979\",\"1980\",\"1981\",\"1982\",\"1983\",\"1984\",\"1985\",\"1986\",\"1987\",\"1988\",\"1989\",\"1990\",\"1991\",\"1992\",\"1993\",\"1994\",\"1995\",\"1996\",\"1997\",\"1998\",\"1999\",\"2000\",\"2001\",\"2002\",\"2003\",\"2004\",\"2005\",\"2006\",\"2007\",\"2008\",\"2009\",\"2010\",\"2011\",\"2012\",\"2013\",\"2014\",\"2015\",\"2016\",\"2017\"],\"xaxis\":\"x\",\"y\":[1495.8,1485.3,1503.8,1445.2,1486.3,1521.3000000000002,1519.7,1540.6,1527.1,1371.0,1546.1,1514.4,1597.3,1574.3,1542.5,1550.4,1538.1,1517.1,1477.5,1499.5,1482.6,1520.2,1511.5,1514.0,1523.3,1529.9,1508.6999999999998,1512.5,1529.3,1574.6,1521.5,1470.6,1518.1100000000001,1544.2,1559.03,1604.9,1551.2,1502.8,1535.37,1450.95],\"yaxis\":\"y\",\"type\":\"scatter\"},{\"hovertemplate\":\"color=Odisha\\u003cbr\\u003ex=%{x}\\u003cbr\\u003ey=%{y}\\u003cextra\\u003e\\u003c\\u002fextra\\u003e\",\"legendgroup\":\"Odisha\",\"line\":{\"color\":\"#00cc96\",\"dash\":\"solid\"},\"marker\":{\"symbol\":\"circle\"},\"mode\":\"lines+markers\",\"name\":\"Odisha\",\"orientation\":\"v\",\"showlegend\":true,\"x\":[\"1978\",\"1979\",\"1980\",\"1981\",\"1982\",\"1983\",\"1984\",\"1985\",\"1986\",\"1987\",\"1988\",\"1989\",\"1990\",\"1991\",\"1992\",\"1993\",\"1994\",\"1995\",\"1996\",\"1997\",\"1998\",\"1999\",\"2000\",\"2001\",\"2002\",\"2003\",\"2004\",\"2005\",\"2006\",\"2007\",\"2008\",\"2009\",\"2010\",\"2011\",\"2012\",\"2013\",\"2014\",\"2015\",\"2016\",\"2017\"],\"xaxis\":\"x\",\"y\":[4353.9800000000005,4116.5599999999995,4190.71,4159.71,3558.35,4355.7699999999995,4303.7,4399.21,4393.6,4053.3,4281.96,4391.46,4403.65,4547.92,4443.35,4555.56,4455.65,4528.99,4467.16,4496.77,4447.08,4601.81,4433.52,4499.78,4273.55,4501.11,4491.93,4479.26,4450.32,4451.76,4454.61,4365.08,4225.69,4004.54,4022.83,4180.22,4166.26,3941.5099999999998,3962.7799999999997,3766.39],\"yaxis\":\"y\",\"type\":\"scatter\"},{\"hovertemplate\":\"color=Punjab\\u003cbr\\u003ex=%{x}\\u003cbr\\u003ey=%{y}\\u003cextra\\u003e\\u003c\\u002fextra\\u003e\",\"legendgroup\":\"Punjab\",\"line\":{\"color\":\"#ab63fa\",\"dash\":\"solid\"},\"marker\":{\"symbol\":\"circle\"},\"mode\":\"lines+markers\",\"name\":\"Punjab\",\"orientation\":\"v\",\"showlegend\":true,\"x\":[\"1978\",\"1979\",\"1980\",\"1981\",\"1982\",\"1983\",\"1984\",\"1985\",\"1986\",\"1987\",\"1988\",\"1989\",\"1990\",\"1991\",\"1992\",\"1993\",\"1994\",\"1995\",\"1996\",\"1997\",\"1998\",\"1999\",\"2000\",\"2001\",\"2002\",\"2003\",\"2004\",\"2005\",\"2006\",\"2007\",\"2008\",\"2009\",\"2010\",\"2011\",\"2012\",\"2013\",\"2014\",\"2015\",\"2016\",\"2017\"],\"xaxis\":\"x\",\"y\":[1058.2,1167.0,1178.0,1270.0,1319.0,1481.0,1645.0,1703.0,1809.0,1717.0,1783.0,1908.0,2016.0,2071.0,2073.0,2179.0,2276.0,2188.0,2159.0,2278.0,2518.0,2604.0,2612.0,2489.0,2530.0,2614.0,2647.0,2642.0,2621.0,2610.0,2735.0,2802.0,2826.0,2791.39,2849.0,2851.0,2894.0,2975.0,3046.0,3065.0],\"yaxis\":\"y\",\"type\":\"scatter\"},{\"hovertemplate\":\"color=Rajasthan\\u003cbr\\u003ex=%{x}\\u003cbr\\u003ey=%{y}\\u003cextra\\u003e\\u003c\\u002fextra\\u003e\",\"legendgroup\":\"Rajasthan\",\"line\":{\"color\":\"#FFA15A\",\"dash\":\"solid\"},\"marker\":{\"symbol\":\"circle\"},\"mode\":\"lines+markers\",\"name\":\"Rajasthan\",\"orientation\":\"v\",\"showlegend\":true,\"x\":[\"1978\",\"1979\",\"1980\",\"1981\",\"1982\",\"1983\",\"1984\",\"1985\",\"1986\",\"1987\",\"1988\",\"1989\",\"1990\",\"1991\",\"1992\",\"1993\",\"1994\",\"1995\",\"1996\",\"1997\",\"1998\",\"1999\",\"2000\",\"2001\",\"2002\",\"2003\",\"2004\",\"2005\",\"2006\",\"2007\",\"2008\",\"2009\",\"2010\",\"2011\",\"2012\",\"2013\",\"2014\",\"2015\",\"2016\",\"2017\"],\"xaxis\":\"x\",\"y\":[210.6,185.3,170.4,140.0,118.4,161.0,169.9,131.4,148.9,95.6,129.5,118.8,120.17999999999999,140.14000000000001,141.67999999999998,140.74,159.12,139.47,147.11,165.9,168.07,200.23000000000002,166.28,144.4,83.58,99.71,101.36999999999999,107.5,107.8,127.84,133.41,150.71,131.15,134.36,125.67,145.57999999999998,167.77,182.92,197.76,190.65],\"yaxis\":\"y\",\"type\":\"scatter\"},{\"hovertemplate\":\"color=Tamil Nadu\\u003cbr\\u003ex=%{x}\\u003cbr\\u003ey=%{y}\\u003cextra\\u003e\\u003c\\u002fextra\\u003e\",\"legendgroup\":\"Tamil Nadu\",\"line\":{\"color\":\"#19d3f3\",\"dash\":\"solid\"},\"marker\":{\"symbol\":\"circle\"},\"mode\":\"lines+markers\",\"name\":\"Tamil Nadu\",\"orientation\":\"v\",\"showlegend\":true,\"x\":[\"1978\",\"1979\",\"1980\",\"1981\",\"1982\",\"1983\",\"1984\",\"1985\",\"1986\",\"1987\",\"1988\",\"1989\",\"1990\",\"1991\",\"1992\",\"1993\",\"1994\",\"1995\",\"1996\",\"1997\",\"1998\",\"1999\",\"2000\",\"2001\",\"2002\",\"2003\",\"2004\",\"2005\",\"2006\",\"2007\",\"2008\",\"2009\",\"2010\",\"2011\",\"2012\",\"2013\",\"2014\",\"2015\",\"2016\",\"2017\"],\"xaxis\":\"x\",\"y\":[2756.3,2897.1,2299.5,2514.4,1744.9,2282.4,2520.0,2233.5,1918.4,1988.6,1889.2,2015.2,1855.75,2117.89,2184.37,2313.0,2228.54,1947.5900000000001,2173.71,2260.54,2274.96,2163.58,2080.03,2059.88,1516.55,1396.66,1872.83,2050.4700000000003,1931.42,1789.18,1931.6200000000001,1845.5800000000002,1905.77,1781.44,1493.27,1725.77,1795.01,2000.23,1837.33,1828.8700000000001],\"yaxis\":\"y\",\"type\":\"scatter\"},{\"hovertemplate\":\"color=Telangana\\u003cbr\\u003ex=%{x}\\u003cbr\\u003ey=%{y}\\u003cextra\\u003e\\u003c\\u002fextra\\u003e\",\"legendgroup\":\"Telangana\",\"line\":{\"color\":\"#FF6692\",\"dash\":\"solid\"},\"marker\":{\"symbol\":\"circle\"},\"mode\":\"lines+markers\",\"name\":\"Telangana\",\"orientation\":\"v\",\"showlegend\":true,\"x\":[\"1978\",\"1979\",\"1980\",\"1981\",\"1982\",\"1983\",\"1984\",\"1985\",\"1986\",\"1987\",\"1988\",\"1989\",\"1990\",\"1991\",\"1992\",\"1993\",\"1994\",\"1995\",\"1996\",\"1997\",\"1998\",\"1999\",\"2000\",\"2001\",\"2002\",\"2003\",\"2004\",\"2005\",\"2006\",\"2007\",\"2008\",\"2009\",\"2010\",\"2011\",\"2012\",\"2013\",\"2014\",\"2015\",\"2016\",\"2017\"],\"xaxis\":\"x\",\"y\":[1329.9,995.0,1050.0,1219.0,1141.8,1285.4,1029.8,970.1,877.0,945.0,1316.0,1394.3,1405.53,1329.37,1058.19,1005.0,1055.0,1104.0,1360.0,936.0,1537.0,1379.98,1547.96,1309.4,955.0,1017.33,858.53,1461.04,1489.01,1406.34,1691.49,1115.02,1978.94,1749.55,1418.51,1994.42,1415.42,1046.18,1828.5600000000002,1962.37],\"yaxis\":\"y\",\"type\":\"scatter\"},{\"hovertemplate\":\"color=Uttar Pradesh\\u003cbr\\u003ex=%{x}\\u003cbr\\u003ey=%{y}\\u003cextra\\u003e\\u003c\\u002fextra\\u003e\",\"legendgroup\":\"Uttar Pradesh\",\"line\":{\"color\":\"#B6E880\",\"dash\":\"solid\"},\"marker\":{\"symbol\":\"circle\"},\"mode\":\"lines+markers\",\"name\":\"Uttar Pradesh\",\"orientation\":\"v\",\"showlegend\":true,\"x\":[\"1978\",\"1979\",\"1980\",\"1981\",\"1982\",\"1983\",\"1984\",\"1985\",\"1986\",\"1987\",\"1988\",\"1989\",\"1990\",\"1991\",\"1992\",\"1993\",\"1994\",\"1995\",\"1996\",\"1997\",\"1998\",\"1999\",\"2000\",\"2001\",\"2002\",\"2003\",\"2004\",\"2005\",\"2006\",\"2007\",\"2008\",\"2009\",\"2010\",\"2011\",\"2012\",\"2013\",\"2014\",\"2015\",\"2016\",\"2017\"],\"xaxis\":\"x\",\"y\":[4834.0,4687.8,4895.2,5120.9,4693.9,5092.1,5245.2,5246.4,5048.2,4518.2,5281.8,5692.9,5349.08,5160.59,5217.5,5107.51,5305.84,5303.07,5300.62,5466.15,5600.85,5806.89,5930.22,6092.98,5229.71,5743.13,5360.63,5904.47,5851.15,5790.87,6007.73,5646.79,5831.48,5918.08,5374.6,5967.15,5885.03,5876.26,6006.6,5937.08],\"yaxis\":\"y\",\"type\":\"scatter\"},{\"hovertemplate\":\"color=Uttarakhand\\u003cbr\\u003ex=%{x}\\u003cbr\\u003ey=%{y}\\u003cextra\\u003e\\u003c\\u002fextra\\u003e\",\"legendgroup\":\"Uttarakhand\",\"line\":{\"color\":\"#FF97FF\",\"dash\":\"solid\"},\"marker\":{\"symbol\":\"circle\"},\"mode\":\"lines+markers\",\"name\":\"Uttarakhand\",\"orientation\":\"v\",\"showlegend\":true,\"x\":[\"1978\",\"1979\",\"1980\",\"1981\",\"1982\",\"1983\",\"1984\",\"1985\",\"1986\",\"1987\",\"1988\",\"1989\",\"1990\",\"1991\",\"1992\",\"1993\",\"1994\",\"1995\",\"1996\",\"1997\",\"1998\",\"1999\",\"2000\",\"2001\",\"2002\",\"2003\",\"2004\",\"2005\",\"2006\",\"2007\",\"2008\",\"2009\",\"2010\",\"2011\",\"2012\",\"2013\",\"2014\",\"2015\",\"2016\",\"2017\"],\"xaxis\":\"x\",\"y\":[114.3,251.60000000000002,273.9,265.8,260.1,279.4,287.7,261.3,281.4,260.9,283.9,282.6,267.65,252.29,259.44,260.65,280.46999999999997,261.43,259.7,267.02,279.98,279.01,265.56,262.96999999999997,259.11,253.61,269.2,278.57,271.92,263.04,279.82,273.39,267.46000000000004,259.58,255.67,247.61,247.06,250.96,251.31,247.04],\"yaxis\":\"y\",\"type\":\"scatter\"},{\"hovertemplate\":\"color=West Bengal\\u003cbr\\u003ex=%{x}\\u003cbr\\u003ey=%{y}\\u003cextra\\u003e\\u003c\\u002fextra\\u003e\",\"legendgroup\":\"West Bengal\",\"line\":{\"color\":\"#FECB52\",\"dash\":\"solid\"},\"marker\":{\"symbol\":\"circle\"},\"mode\":\"lines+markers\",\"name\":\"West Bengal\",\"orientation\":\"v\",\"showlegend\":true,\"x\":[\"1978\",\"1979\",\"1980\",\"1981\",\"1982\",\"1983\",\"1984\",\"1985\",\"1986\",\"1987\",\"1988\",\"1989\",\"1990\",\"1991\",\"1992\",\"1993\",\"1994\",\"1995\",\"1996\",\"1997\",\"1998\",\"1999\",\"2000\",\"2001\",\"2002\",\"2003\",\"2004\",\"2005\",\"2006\",\"2007\",\"2008\",\"2009\",\"2010\",\"2011\",\"2012\",\"2013\",\"2014\",\"2015\",\"2016\",\"2017\"],\"xaxis\":\"x\",\"y\":[4992.8,4872.4,5178.1,5210.01,4861.5,5372.64,5233.49,5078.74,5375.93,5475.54,5621.97,5614.349999999999,5335.08,5256.18,5221.13,5408.74,5306.96,5467.14,5800.57,5900.28,5904.1,6150.46,5435.34,6069.09,5842.09,5856.63,5783.62,5782.9400000000005,5687.23,5719.8,5935.7,5630.1,4944.15,5433.7,5444.34,5513.7,5526.5199999999995,5523.96,5212.01,5307.6900000000005],\"yaxis\":\"y\",\"type\":\"scatter\"}],                        {\"template\":{\"data\":{\"histogram2dcontour\":[{\"type\":\"histogram2dcontour\",\"colorbar\":{\"outlinewidth\":0,\"ticks\":\"\"},\"colorscale\":[[0.0,\"#0d0887\"],[0.1111111111111111,\"#46039f\"],[0.2222222222222222,\"#7201a8\"],[0.3333333333333333,\"#9c179e\"],[0.4444444444444444,\"#bd3786\"],[0.5555555555555556,\"#d8576b\"],[0.6666666666666666,\"#ed7953\"],[0.7777777777777778,\"#fb9f3a\"],[0.8888888888888888,\"#fdca26\"],[1.0,\"#f0f921\"]]}],\"choropleth\":[{\"type\":\"choropleth\",\"colorbar\":{\"outlinewidth\":0,\"ticks\":\"\"}}],\"histogram2d\":[{\"type\":\"histogram2d\",\"colorbar\":{\"outlinewidth\":0,\"ticks\":\"\"},\"colorscale\":[[0.0,\"#0d0887\"],[0.1111111111111111,\"#46039f\"],[0.2222222222222222,\"#7201a8\"],[0.3333333333333333,\"#9c179e\"],[0.4444444444444444,\"#bd3786\"],[0.5555555555555556,\"#d8576b\"],[0.6666666666666666,\"#ed7953\"],[0.7777777777777778,\"#fb9f3a\"],[0.8888888888888888,\"#fdca26\"],[1.0,\"#f0f921\"]]}],\"heatmap\":[{\"type\":\"heatmap\",\"colorbar\":{\"outlinewidth\":0,\"ticks\":\"\"},\"colorscale\":[[0.0,\"#0d0887\"],[0.1111111111111111,\"#46039f\"],[0.2222222222222222,\"#7201a8\"],[0.3333333333333333,\"#9c179e\"],[0.4444444444444444,\"#bd3786\"],[0.5555555555555556,\"#d8576b\"],[0.6666666666666666,\"#ed7953\"],[0.7777777777777778,\"#fb9f3a\"],[0.8888888888888888,\"#fdca26\"],[1.0,\"#f0f921\"]]}],\"heatmapgl\":[{\"type\":\"heatmapgl\",\"colorbar\":{\"outlinewidth\":0,\"ticks\":\"\"},\"colorscale\":[[0.0,\"#0d0887\"],[0.1111111111111111,\"#46039f\"],[0.2222222222222222,\"#7201a8\"],[0.3333333333333333,\"#9c179e\"],[0.4444444444444444,\"#bd3786\"],[0.5555555555555556,\"#d8576b\"],[0.6666666666666666,\"#ed7953\"],[0.7777777777777778,\"#fb9f3a\"],[0.8888888888888888,\"#fdca26\"],[1.0,\"#f0f921\"]]}],\"contourcarpet\":[{\"type\":\"contourcarpet\",\"colorbar\":{\"outlinewidth\":0,\"ticks\":\"\"}}],\"contour\":[{\"type\":\"contour\",\"colorbar\":{\"outlinewidth\":0,\"ticks\":\"\"},\"colorscale\":[[0.0,\"#0d0887\"],[0.1111111111111111,\"#46039f\"],[0.2222222222222222,\"#7201a8\"],[0.3333333333333333,\"#9c179e\"],[0.4444444444444444,\"#bd3786\"],[0.5555555555555556,\"#d8576b\"],[0.6666666666666666,\"#ed7953\"],[0.7777777777777778,\"#fb9f3a\"],[0.8888888888888888,\"#fdca26\"],[1.0,\"#f0f921\"]]}],\"surface\":[{\"type\":\"surface\",\"colorbar\":{\"outlinewidth\":0,\"ticks\":\"\"},\"colorscale\":[[0.0,\"#0d0887\"],[0.1111111111111111,\"#46039f\"],[0.2222222222222222,\"#7201a8\"],[0.3333333333333333,\"#9c179e\"],[0.4444444444444444,\"#bd3786\"],[0.5555555555555556,\"#d8576b\"],[0.6666666666666666,\"#ed7953\"],[0.7777777777777778,\"#fb9f3a\"],[0.8888888888888888,\"#fdca26\"],[1.0,\"#f0f921\"]]}],\"mesh3d\":[{\"type\":\"mesh3d\",\"colorbar\":{\"outlinewidth\":0,\"ticks\":\"\"}}],\"scatter\":[{\"fillpattern\":{\"fillmode\":\"overlay\",\"size\":10,\"solidity\":0.2},\"type\":\"scatter\"}],\"parcoords\":[{\"type\":\"parcoords\",\"line\":{\"colorbar\":{\"outlinewidth\":0,\"ticks\":\"\"}}}],\"scatterpolargl\":[{\"type\":\"scatterpolargl\",\"marker\":{\"colorbar\":{\"outlinewidth\":0,\"ticks\":\"\"}}}],\"bar\":[{\"error_x\":{\"color\":\"#2a3f5f\"},\"error_y\":{\"color\":\"#2a3f5f\"},\"marker\":{\"line\":{\"color\":\"#E5ECF6\",\"width\":0.5},\"pattern\":{\"fillmode\":\"overlay\",\"size\":10,\"solidity\":0.2}},\"type\":\"bar\"}],\"scattergeo\":[{\"type\":\"scattergeo\",\"marker\":{\"colorbar\":{\"outlinewidth\":0,\"ticks\":\"\"}}}],\"scatterpolar\":[{\"type\":\"scatterpolar\",\"marker\":{\"colorbar\":{\"outlinewidth\":0,\"ticks\":\"\"}}}],\"histogram\":[{\"marker\":{\"pattern\":{\"fillmode\":\"overlay\",\"size\":10,\"solidity\":0.2}},\"type\":\"histogram\"}],\"scattergl\":[{\"type\":\"scattergl\",\"marker\":{\"colorbar\":{\"outlinewidth\":0,\"ticks\":\"\"}}}],\"scatter3d\":[{\"type\":\"scatter3d\",\"line\":{\"colorbar\":{\"outlinewidth\":0,\"ticks\":\"\"}},\"marker\":{\"colorbar\":{\"outlinewidth\":0,\"ticks\":\"\"}}}],\"scattermapbox\":[{\"type\":\"scattermapbox\",\"marker\":{\"colorbar\":{\"outlinewidth\":0,\"ticks\":\"\"}}}],\"scatterternary\":[{\"type\":\"scatterternary\",\"marker\":{\"colorbar\":{\"outlinewidth\":0,\"ticks\":\"\"}}}],\"scattercarpet\":[{\"type\":\"scattercarpet\",\"marker\":{\"colorbar\":{\"outlinewidth\":0,\"ticks\":\"\"}}}],\"carpet\":[{\"aaxis\":{\"endlinecolor\":\"#2a3f5f\",\"gridcolor\":\"white\",\"linecolor\":\"white\",\"minorgridcolor\":\"white\",\"startlinecolor\":\"#2a3f5f\"},\"baxis\":{\"endlinecolor\":\"#2a3f5f\",\"gridcolor\":\"white\",\"linecolor\":\"white\",\"minorgridcolor\":\"white\",\"startlinecolor\":\"#2a3f5f\"},\"type\":\"carpet\"}],\"table\":[{\"cells\":{\"fill\":{\"color\":\"#EBF0F8\"},\"line\":{\"color\":\"white\"}},\"header\":{\"fill\":{\"color\":\"#C8D4E3\"},\"line\":{\"color\":\"white\"}},\"type\":\"table\"}],\"barpolar\":[{\"marker\":{\"line\":{\"color\":\"#E5ECF6\",\"width\":0.5},\"pattern\":{\"fillmode\":\"overlay\",\"size\":10,\"solidity\":0.2}},\"type\":\"barpolar\"}],\"pie\":[{\"automargin\":true,\"type\":\"pie\"}]},\"layout\":{\"autotypenumbers\":\"strict\",\"colorway\":[\"#636efa\",\"#EF553B\",\"#00cc96\",\"#ab63fa\",\"#FFA15A\",\"#19d3f3\",\"#FF6692\",\"#B6E880\",\"#FF97FF\",\"#FECB52\"],\"font\":{\"color\":\"#2a3f5f\"},\"hovermode\":\"closest\",\"hoverlabel\":{\"align\":\"left\"},\"paper_bgcolor\":\"white\",\"plot_bgcolor\":\"#E5ECF6\",\"polar\":{\"bgcolor\":\"#E5ECF6\",\"angularaxis\":{\"gridcolor\":\"white\",\"linecolor\":\"white\",\"ticks\":\"\"},\"radialaxis\":{\"gridcolor\":\"white\",\"linecolor\":\"white\",\"ticks\":\"\"}},\"ternary\":{\"bgcolor\":\"#E5ECF6\",\"aaxis\":{\"gridcolor\":\"white\",\"linecolor\":\"white\",\"ticks\":\"\"},\"baxis\":{\"gridcolor\":\"white\",\"linecolor\":\"white\",\"ticks\":\"\"},\"caxis\":{\"gridcolor\":\"white\",\"linecolor\":\"white\",\"ticks\":\"\"}},\"coloraxis\":{\"colorbar\":{\"outlinewidth\":0,\"ticks\":\"\"}},\"colorscale\":{\"sequential\":[[0.0,\"#0d0887\"],[0.1111111111111111,\"#46039f\"],[0.2222222222222222,\"#7201a8\"],[0.3333333333333333,\"#9c179e\"],[0.4444444444444444,\"#bd3786\"],[0.5555555555555556,\"#d8576b\"],[0.6666666666666666,\"#ed7953\"],[0.7777777777777778,\"#fb9f3a\"],[0.8888888888888888,\"#fdca26\"],[1.0,\"#f0f921\"]],\"sequentialminus\":[[0.0,\"#0d0887\"],[0.1111111111111111,\"#46039f\"],[0.2222222222222222,\"#7201a8\"],[0.3333333333333333,\"#9c179e\"],[0.4444444444444444,\"#bd3786\"],[0.5555555555555556,\"#d8576b\"],[0.6666666666666666,\"#ed7953\"],[0.7777777777777778,\"#fb9f3a\"],[0.8888888888888888,\"#fdca26\"],[1.0,\"#f0f921\"]],\"diverging\":[[0,\"#8e0152\"],[0.1,\"#c51b7d\"],[0.2,\"#de77ae\"],[0.3,\"#f1b6da\"],[0.4,\"#fde0ef\"],[0.5,\"#f7f7f7\"],[0.6,\"#e6f5d0\"],[0.7,\"#b8e186\"],[0.8,\"#7fbc41\"],[0.9,\"#4d9221\"],[1,\"#276419\"]]},\"xaxis\":{\"gridcolor\":\"white\",\"linecolor\":\"white\",\"ticks\":\"\",\"title\":{\"standoff\":15},\"zerolinecolor\":\"white\",\"automargin\":true,\"zerolinewidth\":2},\"yaxis\":{\"gridcolor\":\"white\",\"linecolor\":\"white\",\"ticks\":\"\",\"title\":{\"standoff\":15},\"zerolinecolor\":\"white\",\"automargin\":true,\"zerolinewidth\":2},\"scene\":{\"xaxis\":{\"backgroundcolor\":\"#E5ECF6\",\"gridcolor\":\"white\",\"linecolor\":\"white\",\"showbackground\":true,\"ticks\":\"\",\"zerolinecolor\":\"white\",\"gridwidth\":2},\"yaxis\":{\"backgroundcolor\":\"#E5ECF6\",\"gridcolor\":\"white\",\"linecolor\":\"white\",\"showbackground\":true,\"ticks\":\"\",\"zerolinecolor\":\"white\",\"gridwidth\":2},\"zaxis\":{\"backgroundcolor\":\"#E5ECF6\",\"gridcolor\":\"white\",\"linecolor\":\"white\",\"showbackground\":true,\"ticks\":\"\",\"zerolinecolor\":\"white\",\"gridwidth\":2}},\"shapedefaults\":{\"line\":{\"color\":\"#2a3f5f\"}},\"annotationdefaults\":{\"arrowcolor\":\"#2a3f5f\",\"arrowhead\":0,\"arrowwidth\":1},\"geo\":{\"bgcolor\":\"white\",\"landcolor\":\"#E5ECF6\",\"subunitcolor\":\"white\",\"showland\":true,\"showlakes\":true,\"lakecolor\":\"white\"},\"title\":{\"x\":0.05},\"mapbox\":{\"style\":\"light\"}}},\"xaxis\":{\"anchor\":\"y\",\"domain\":[0.0,1.0],\"title\":{\"text\":\"x\"}},\"yaxis\":{\"anchor\":\"x\",\"domain\":[0.0,1.0],\"title\":{\"text\":\"y\"},\"tickformat\":\",.0f\"},\"legend\":{\"title\":{\"text\":\"color\"},\"tracegroupgap\":0},\"margin\":{\"t\":40,\"r\":20,\"l\":20,\"b\":10},\"title\":{\"text\":\"Yearly Rice Area (1000 Ha)\",\"font\":{\"size\":18},\"x\":0},\"hovermode\":\"x\",\"height\":400},                        {\"responsive\": true}                    ).then(function(){\n",
              "                            \n",
              "var gd = document.getElementById('aa1bd1a1-31bc-483d-8bca-4004f310e862');\n",
              "var x = new MutationObserver(function (mutations, observer) {{\n",
              "        var display = window.getComputedStyle(gd).display;\n",
              "        if (!display || display === 'none') {{\n",
              "            console.log([gd, 'removed!']);\n",
              "            Plotly.purge(gd);\n",
              "            observer.disconnect();\n",
              "        }}\n",
              "}});\n",
              "\n",
              "// Listen for the removal of the full notebook cells\n",
              "var notebookContainer = gd.closest('#notebook-container');\n",
              "if (notebookContainer) {{\n",
              "    x.observe(notebookContainer, {childList: true});\n",
              "}}\n",
              "\n",
              "// Listen for the clearing of the current output cell\n",
              "var outputEl = gd.closest('.output');\n",
              "if (outputEl) {{\n",
              "    x.observe(outputEl, {childList: true});\n",
              "}}\n",
              "\n",
              "                        })                };                            </script>        </div>\n",
              "</body>\n",
              "</html>"
            ]
          },
          "metadata": {}
        }
      ]
    },
    {
      "cell_type": "code",
      "source": [
        "chart_df_3 = df.groupby(by = ['State'], as_index = False,)[[var_num]].sum()\n",
        "chart_df_3 = chart_df_3.sort_values(by = var_num, ascending = False)[:10]\n",
        "\n",
        "title = '10 Highest ' + var_num + ' State'\n",
        "#st.subheader(title)\n",
        "fig = px.bar(\n",
        "  chart_df_3,\n",
        "  x = var_num,\n",
        "  y = 'State',\n",
        "  template = chart_theme,\n",
        "  color_discrete_sequence = colors_2,\n",
        "  title = title,\n",
        "  text_auto = ',.0f',\n",
        ")\n",
        "fig.update_layout(\n",
        "    height = 400,\n",
        "    margin = margin,\n",
        "    titlefont = dict(size = title_font_size),\n",
        "    title_x = title_x,\n",
        ")\n",
        "fig.update_yaxes(categoryorder = 'total ascending')\n",
        "fig.show()"
      ],
      "metadata": {
        "colab": {
          "base_uri": "https://localhost:8080/",
          "height": 417
        },
        "id": "U3YF56n0xIeN",
        "outputId": "e8d7e430-6e5e-44e1-be9c-75bc7b997be5"
      },
      "execution_count": 44,
      "outputs": [
        {
          "output_type": "display_data",
          "data": {
            "text/html": [
              "<html>\n",
              "<head><meta charset=\"utf-8\" /></head>\n",
              "<body>\n",
              "    <div>            <script src=\"https://cdnjs.cloudflare.com/ajax/libs/mathjax/2.7.5/MathJax.js?config=TeX-AMS-MML_SVG\"></script><script type=\"text/javascript\">if (window.MathJax && window.MathJax.Hub && window.MathJax.Hub.Config) {window.MathJax.Hub.Config({SVG: {font: \"STIX-Web\"}});}</script>                <script type=\"text/javascript\">window.PlotlyConfig = {MathJaxConfig: 'local'};</script>\n",
              "        <script charset=\"utf-8\" src=\"https://cdn.plot.ly/plotly-2.24.1.min.js\"></script>                <div id=\"36d9bd32-515f-4b25-8218-85ac6a92ea78\" class=\"plotly-graph-div\" style=\"height:400px; width:100%;\"></div>            <script type=\"text/javascript\">                                    window.PLOTLYENV=window.PLOTLYENV || {};                                    if (document.getElementById(\"36d9bd32-515f-4b25-8218-85ac6a92ea78\")) {                    Plotly.newPlot(                        \"36d9bd32-515f-4b25-8218-85ac6a92ea78\",                        [{\"alignmentgroup\":\"True\",\"hovertemplate\":\"Rice Area (1000 Ha)=%{x}\\u003cbr\\u003eState=%{y}\\u003cextra\\u003e\\u003c\\u002fextra\\u003e\",\"legendgroup\":\"\",\"marker\":{\"color\":\"rgb(103,0,31)\",\"pattern\":{\"shape\":\"\"}},\"name\":\"\",\"offsetgroup\":\"\",\"orientation\":\"h\",\"showlegend\":false,\"textposition\":\"auto\",\"texttemplate\":\"%{x:,.0f}\",\"x\":[219286.72,218328.66,172177.39,147522.64,138175.03,99780.52,97465.68,89999.59,81421.34,65691.54],\"xaxis\":\"x\",\"y\":[\"West Bengal\",\"Uttar Pradesh\",\"Odisha\",\"Chhattisgarh\",\"Bihar\",\"Andhra Pradesh\",\"Assam\",\"Punjab\",\"Tamil Nadu\",\"Madhya Pradesh\"],\"yaxis\":\"y\",\"type\":\"bar\"}],                        {\"template\":{\"data\":{\"barpolar\":[{\"marker\":{\"line\":{\"color\":\"rgb(17,17,17)\",\"width\":0.5},\"pattern\":{\"fillmode\":\"overlay\",\"size\":10,\"solidity\":0.2}},\"type\":\"barpolar\"}],\"bar\":[{\"error_x\":{\"color\":\"#f2f5fa\"},\"error_y\":{\"color\":\"#f2f5fa\"},\"marker\":{\"line\":{\"color\":\"rgb(17,17,17)\",\"width\":0.5},\"pattern\":{\"fillmode\":\"overlay\",\"size\":10,\"solidity\":0.2}},\"type\":\"bar\"}],\"carpet\":[{\"aaxis\":{\"endlinecolor\":\"#A2B1C6\",\"gridcolor\":\"#506784\",\"linecolor\":\"#506784\",\"minorgridcolor\":\"#506784\",\"startlinecolor\":\"#A2B1C6\"},\"baxis\":{\"endlinecolor\":\"#A2B1C6\",\"gridcolor\":\"#506784\",\"linecolor\":\"#506784\",\"minorgridcolor\":\"#506784\",\"startlinecolor\":\"#A2B1C6\"},\"type\":\"carpet\"}],\"choropleth\":[{\"colorbar\":{\"outlinewidth\":0,\"ticks\":\"\"},\"type\":\"choropleth\"}],\"contourcarpet\":[{\"colorbar\":{\"outlinewidth\":0,\"ticks\":\"\"},\"type\":\"contourcarpet\"}],\"contour\":[{\"colorbar\":{\"outlinewidth\":0,\"ticks\":\"\"},\"colorscale\":[[0.0,\"#0d0887\"],[0.1111111111111111,\"#46039f\"],[0.2222222222222222,\"#7201a8\"],[0.3333333333333333,\"#9c179e\"],[0.4444444444444444,\"#bd3786\"],[0.5555555555555556,\"#d8576b\"],[0.6666666666666666,\"#ed7953\"],[0.7777777777777778,\"#fb9f3a\"],[0.8888888888888888,\"#fdca26\"],[1.0,\"#f0f921\"]],\"type\":\"contour\"}],\"heatmapgl\":[{\"colorbar\":{\"outlinewidth\":0,\"ticks\":\"\"},\"colorscale\":[[0.0,\"#0d0887\"],[0.1111111111111111,\"#46039f\"],[0.2222222222222222,\"#7201a8\"],[0.3333333333333333,\"#9c179e\"],[0.4444444444444444,\"#bd3786\"],[0.5555555555555556,\"#d8576b\"],[0.6666666666666666,\"#ed7953\"],[0.7777777777777778,\"#fb9f3a\"],[0.8888888888888888,\"#fdca26\"],[1.0,\"#f0f921\"]],\"type\":\"heatmapgl\"}],\"heatmap\":[{\"colorbar\":{\"outlinewidth\":0,\"ticks\":\"\"},\"colorscale\":[[0.0,\"#0d0887\"],[0.1111111111111111,\"#46039f\"],[0.2222222222222222,\"#7201a8\"],[0.3333333333333333,\"#9c179e\"],[0.4444444444444444,\"#bd3786\"],[0.5555555555555556,\"#d8576b\"],[0.6666666666666666,\"#ed7953\"],[0.7777777777777778,\"#fb9f3a\"],[0.8888888888888888,\"#fdca26\"],[1.0,\"#f0f921\"]],\"type\":\"heatmap\"}],\"histogram2dcontour\":[{\"colorbar\":{\"outlinewidth\":0,\"ticks\":\"\"},\"colorscale\":[[0.0,\"#0d0887\"],[0.1111111111111111,\"#46039f\"],[0.2222222222222222,\"#7201a8\"],[0.3333333333333333,\"#9c179e\"],[0.4444444444444444,\"#bd3786\"],[0.5555555555555556,\"#d8576b\"],[0.6666666666666666,\"#ed7953\"],[0.7777777777777778,\"#fb9f3a\"],[0.8888888888888888,\"#fdca26\"],[1.0,\"#f0f921\"]],\"type\":\"histogram2dcontour\"}],\"histogram2d\":[{\"colorbar\":{\"outlinewidth\":0,\"ticks\":\"\"},\"colorscale\":[[0.0,\"#0d0887\"],[0.1111111111111111,\"#46039f\"],[0.2222222222222222,\"#7201a8\"],[0.3333333333333333,\"#9c179e\"],[0.4444444444444444,\"#bd3786\"],[0.5555555555555556,\"#d8576b\"],[0.6666666666666666,\"#ed7953\"],[0.7777777777777778,\"#fb9f3a\"],[0.8888888888888888,\"#fdca26\"],[1.0,\"#f0f921\"]],\"type\":\"histogram2d\"}],\"histogram\":[{\"marker\":{\"pattern\":{\"fillmode\":\"overlay\",\"size\":10,\"solidity\":0.2}},\"type\":\"histogram\"}],\"mesh3d\":[{\"colorbar\":{\"outlinewidth\":0,\"ticks\":\"\"},\"type\":\"mesh3d\"}],\"parcoords\":[{\"line\":{\"colorbar\":{\"outlinewidth\":0,\"ticks\":\"\"}},\"type\":\"parcoords\"}],\"pie\":[{\"automargin\":true,\"type\":\"pie\"}],\"scatter3d\":[{\"line\":{\"colorbar\":{\"outlinewidth\":0,\"ticks\":\"\"}},\"marker\":{\"colorbar\":{\"outlinewidth\":0,\"ticks\":\"\"}},\"type\":\"scatter3d\"}],\"scattercarpet\":[{\"marker\":{\"colorbar\":{\"outlinewidth\":0,\"ticks\":\"\"}},\"type\":\"scattercarpet\"}],\"scattergeo\":[{\"marker\":{\"colorbar\":{\"outlinewidth\":0,\"ticks\":\"\"}},\"type\":\"scattergeo\"}],\"scattergl\":[{\"marker\":{\"line\":{\"color\":\"#283442\"}},\"type\":\"scattergl\"}],\"scattermapbox\":[{\"marker\":{\"colorbar\":{\"outlinewidth\":0,\"ticks\":\"\"}},\"type\":\"scattermapbox\"}],\"scatterpolargl\":[{\"marker\":{\"colorbar\":{\"outlinewidth\":0,\"ticks\":\"\"}},\"type\":\"scatterpolargl\"}],\"scatterpolar\":[{\"marker\":{\"colorbar\":{\"outlinewidth\":0,\"ticks\":\"\"}},\"type\":\"scatterpolar\"}],\"scatter\":[{\"marker\":{\"line\":{\"color\":\"#283442\"}},\"type\":\"scatter\"}],\"scatterternary\":[{\"marker\":{\"colorbar\":{\"outlinewidth\":0,\"ticks\":\"\"}},\"type\":\"scatterternary\"}],\"surface\":[{\"colorbar\":{\"outlinewidth\":0,\"ticks\":\"\"},\"colorscale\":[[0.0,\"#0d0887\"],[0.1111111111111111,\"#46039f\"],[0.2222222222222222,\"#7201a8\"],[0.3333333333333333,\"#9c179e\"],[0.4444444444444444,\"#bd3786\"],[0.5555555555555556,\"#d8576b\"],[0.6666666666666666,\"#ed7953\"],[0.7777777777777778,\"#fb9f3a\"],[0.8888888888888888,\"#fdca26\"],[1.0,\"#f0f921\"]],\"type\":\"surface\"}],\"table\":[{\"cells\":{\"fill\":{\"color\":\"#506784\"},\"line\":{\"color\":\"rgb(17,17,17)\"}},\"header\":{\"fill\":{\"color\":\"#2a3f5f\"},\"line\":{\"color\":\"rgb(17,17,17)\"}},\"type\":\"table\"}]},\"layout\":{\"annotationdefaults\":{\"arrowcolor\":\"#f2f5fa\",\"arrowhead\":0,\"arrowwidth\":1},\"autotypenumbers\":\"strict\",\"coloraxis\":{\"colorbar\":{\"outlinewidth\":0,\"ticks\":\"\"}},\"colorscale\":{\"diverging\":[[0,\"#8e0152\"],[0.1,\"#c51b7d\"],[0.2,\"#de77ae\"],[0.3,\"#f1b6da\"],[0.4,\"#fde0ef\"],[0.5,\"#f7f7f7\"],[0.6,\"#e6f5d0\"],[0.7,\"#b8e186\"],[0.8,\"#7fbc41\"],[0.9,\"#4d9221\"],[1,\"#276419\"]],\"sequential\":[[0.0,\"#0d0887\"],[0.1111111111111111,\"#46039f\"],[0.2222222222222222,\"#7201a8\"],[0.3333333333333333,\"#9c179e\"],[0.4444444444444444,\"#bd3786\"],[0.5555555555555556,\"#d8576b\"],[0.6666666666666666,\"#ed7953\"],[0.7777777777777778,\"#fb9f3a\"],[0.8888888888888888,\"#fdca26\"],[1.0,\"#f0f921\"]],\"sequentialminus\":[[0.0,\"#0d0887\"],[0.1111111111111111,\"#46039f\"],[0.2222222222222222,\"#7201a8\"],[0.3333333333333333,\"#9c179e\"],[0.4444444444444444,\"#bd3786\"],[0.5555555555555556,\"#d8576b\"],[0.6666666666666666,\"#ed7953\"],[0.7777777777777778,\"#fb9f3a\"],[0.8888888888888888,\"#fdca26\"],[1.0,\"#f0f921\"]]},\"colorway\":[\"#636efa\",\"#EF553B\",\"#00cc96\",\"#ab63fa\",\"#FFA15A\",\"#19d3f3\",\"#FF6692\",\"#B6E880\",\"#FF97FF\",\"#FECB52\"],\"font\":{\"color\":\"#f2f5fa\"},\"geo\":{\"bgcolor\":\"rgb(17,17,17)\",\"lakecolor\":\"rgb(17,17,17)\",\"landcolor\":\"rgb(17,17,17)\",\"showlakes\":true,\"showland\":true,\"subunitcolor\":\"#506784\"},\"hoverlabel\":{\"align\":\"left\"},\"hovermode\":\"closest\",\"mapbox\":{\"style\":\"dark\"},\"paper_bgcolor\":\"rgb(17,17,17)\",\"plot_bgcolor\":\"rgb(17,17,17)\",\"polar\":{\"angularaxis\":{\"gridcolor\":\"#506784\",\"linecolor\":\"#506784\",\"ticks\":\"\"},\"bgcolor\":\"rgb(17,17,17)\",\"radialaxis\":{\"gridcolor\":\"#506784\",\"linecolor\":\"#506784\",\"ticks\":\"\"}},\"scene\":{\"xaxis\":{\"backgroundcolor\":\"rgb(17,17,17)\",\"gridcolor\":\"#506784\",\"gridwidth\":2,\"linecolor\":\"#506784\",\"showbackground\":true,\"ticks\":\"\",\"zerolinecolor\":\"#C8D4E3\"},\"yaxis\":{\"backgroundcolor\":\"rgb(17,17,17)\",\"gridcolor\":\"#506784\",\"gridwidth\":2,\"linecolor\":\"#506784\",\"showbackground\":true,\"ticks\":\"\",\"zerolinecolor\":\"#C8D4E3\"},\"zaxis\":{\"backgroundcolor\":\"rgb(17,17,17)\",\"gridcolor\":\"#506784\",\"gridwidth\":2,\"linecolor\":\"#506784\",\"showbackground\":true,\"ticks\":\"\",\"zerolinecolor\":\"#C8D4E3\"}},\"shapedefaults\":{\"line\":{\"color\":\"#f2f5fa\"}},\"sliderdefaults\":{\"bgcolor\":\"#C8D4E3\",\"bordercolor\":\"rgb(17,17,17)\",\"borderwidth\":1,\"tickwidth\":0},\"ternary\":{\"aaxis\":{\"gridcolor\":\"#506784\",\"linecolor\":\"#506784\",\"ticks\":\"\"},\"baxis\":{\"gridcolor\":\"#506784\",\"linecolor\":\"#506784\",\"ticks\":\"\"},\"bgcolor\":\"rgb(17,17,17)\",\"caxis\":{\"gridcolor\":\"#506784\",\"linecolor\":\"#506784\",\"ticks\":\"\"}},\"title\":{\"x\":0.05},\"updatemenudefaults\":{\"bgcolor\":\"#506784\",\"borderwidth\":0},\"xaxis\":{\"automargin\":true,\"gridcolor\":\"#283442\",\"linecolor\":\"#506784\",\"ticks\":\"\",\"title\":{\"standoff\":15},\"zerolinecolor\":\"#283442\",\"zerolinewidth\":2},\"yaxis\":{\"automargin\":true,\"gridcolor\":\"#283442\",\"linecolor\":\"#506784\",\"ticks\":\"\",\"title\":{\"standoff\":15},\"zerolinecolor\":\"#283442\",\"zerolinewidth\":2}}},\"xaxis\":{\"anchor\":\"y\",\"domain\":[0.0,1.0],\"title\":{\"text\":\"Rice Area (1000 Ha)\"}},\"yaxis\":{\"anchor\":\"x\",\"domain\":[0.0,1.0],\"title\":{\"text\":\"State\"},\"categoryorder\":\"total ascending\"},\"legend\":{\"tracegroupgap\":0},\"title\":{\"text\":\"10 Highest Rice Area (1000 Ha) State\",\"font\":{\"size\":18},\"x\":0},\"barmode\":\"relative\",\"margin\":{\"r\":20,\"t\":40,\"l\":20,\"b\":10},\"height\":400},                        {\"responsive\": true}                    ).then(function(){\n",
              "                            \n",
              "var gd = document.getElementById('36d9bd32-515f-4b25-8218-85ac6a92ea78');\n",
              "var x = new MutationObserver(function (mutations, observer) {{\n",
              "        var display = window.getComputedStyle(gd).display;\n",
              "        if (!display || display === 'none') {{\n",
              "            console.log([gd, 'removed!']);\n",
              "            Plotly.purge(gd);\n",
              "            observer.disconnect();\n",
              "        }}\n",
              "}});\n",
              "\n",
              "// Listen for the removal of the full notebook cells\n",
              "var notebookContainer = gd.closest('#notebook-container');\n",
              "if (notebookContainer) {{\n",
              "    x.observe(notebookContainer, {childList: true});\n",
              "}}\n",
              "\n",
              "// Listen for the clearing of the current output cell\n",
              "var outputEl = gd.closest('.output');\n",
              "if (outputEl) {{\n",
              "    x.observe(outputEl, {childList: true});\n",
              "}}\n",
              "\n",
              "                        })                };                            </script>        </div>\n",
              "</body>\n",
              "</html>"
            ]
          },
          "metadata": {}
        }
      ]
    },
    {
      "cell_type": "code",
      "source": [
        "var_label = 'State'\n",
        "var_number = var_num\n",
        "\n",
        "map_df = df.groupby(['State', 'Year'])[var_num].sum()\n",
        "map_df = map_df.reset_index()\n",
        "map_df = map_df.fillna(0)\n",
        "\n",
        "sel_year = map_df['Year'].unique()[-1:]\n",
        "\n",
        "#map_df['Year'] = map_df['Year'].astype('str')\n",
        "#map_df['Year'] = map_df['Year'] + '-01-01'\n",
        "#map_df['Year'] = pd.to_datetime(map_df['Year'])\n",
        "#map_df['Year'] = map_df['Year'].dt.to_period('Y')\n",
        "#map_df['Year'] = map_df['Year'].astype('str')\n",
        "map_df = gdf.merge(map_df, on = 'State')\n",
        "map_df = map_df[(map_df['Year'] >= sel_year.min()) & (map_df['Year'] <= sel_year.max())]\n",
        "\n",
        "map_df = map_df.set_index(var_label)\n",
        "map_df.head(2)"
      ],
      "metadata": {
        "colab": {
          "base_uri": "https://localhost:8080/",
          "height": 143
        },
        "id": "vUEDI9evxSfH",
        "outputId": "8b90ded2-d35b-4625-ec9f-910524841d66"
      },
      "execution_count": 45,
      "outputs": [
        {
          "output_type": "execute_result",
          "data": {
            "text/plain": [
              "                                                geometry  Year  \\\n",
              "State                                                            \n",
              "Assam  POLYGON ((95.19594 27.03612, 95.08795 26.94578...  2017   \n",
              "Bihar  POLYGON ((88.11357 26.54028, 88.28006 26.37640...  2017   \n",
              "\n",
              "       Rice Area (1000 Ha)  \n",
              "State                       \n",
              "Assam              2417.18  \n",
              "Bihar              3306.98  "
            ],
            "text/html": [
              "\n",
              "  <div id=\"df-a4279a4b-9656-4f96-95f8-c1d7f7ad6187\" class=\"colab-df-container\">\n",
              "    <div>\n",
              "<style scoped>\n",
              "    .dataframe tbody tr th:only-of-type {\n",
              "        vertical-align: middle;\n",
              "    }\n",
              "\n",
              "    .dataframe tbody tr th {\n",
              "        vertical-align: top;\n",
              "    }\n",
              "\n",
              "    .dataframe thead th {\n",
              "        text-align: right;\n",
              "    }\n",
              "</style>\n",
              "<table border=\"1\" class=\"dataframe\">\n",
              "  <thead>\n",
              "    <tr style=\"text-align: right;\">\n",
              "      <th></th>\n",
              "      <th>geometry</th>\n",
              "      <th>Year</th>\n",
              "      <th>Rice Area (1000 Ha)</th>\n",
              "    </tr>\n",
              "    <tr>\n",
              "      <th>State</th>\n",
              "      <th></th>\n",
              "      <th></th>\n",
              "      <th></th>\n",
              "    </tr>\n",
              "  </thead>\n",
              "  <tbody>\n",
              "    <tr>\n",
              "      <th>Assam</th>\n",
              "      <td>POLYGON ((95.19594 27.03612, 95.08795 26.94578...</td>\n",
              "      <td>2017</td>\n",
              "      <td>2417.18</td>\n",
              "    </tr>\n",
              "    <tr>\n",
              "      <th>Bihar</th>\n",
              "      <td>POLYGON ((88.11357 26.54028, 88.28006 26.37640...</td>\n",
              "      <td>2017</td>\n",
              "      <td>3306.98</td>\n",
              "    </tr>\n",
              "  </tbody>\n",
              "</table>\n",
              "</div>\n",
              "    <div class=\"colab-df-buttons\">\n",
              "\n",
              "  <div class=\"colab-df-container\">\n",
              "    <button class=\"colab-df-convert\" onclick=\"convertToInteractive('df-a4279a4b-9656-4f96-95f8-c1d7f7ad6187')\"\n",
              "            title=\"Convert this dataframe to an interactive table.\"\n",
              "            style=\"display:none;\">\n",
              "\n",
              "  <svg xmlns=\"http://www.w3.org/2000/svg\" height=\"24px\" viewBox=\"0 -960 960 960\">\n",
              "    <path d=\"M120-120v-720h720v720H120Zm60-500h600v-160H180v160Zm220 220h160v-160H400v160Zm0 220h160v-160H400v160ZM180-400h160v-160H180v160Zm440 0h160v-160H620v160ZM180-180h160v-160H180v160Zm440 0h160v-160H620v160Z\"/>\n",
              "  </svg>\n",
              "    </button>\n",
              "\n",
              "  <style>\n",
              "    .colab-df-container {\n",
              "      display:flex;\n",
              "      gap: 12px;\n",
              "    }\n",
              "\n",
              "    .colab-df-convert {\n",
              "      background-color: #E8F0FE;\n",
              "      border: none;\n",
              "      border-radius: 50%;\n",
              "      cursor: pointer;\n",
              "      display: none;\n",
              "      fill: #1967D2;\n",
              "      height: 32px;\n",
              "      padding: 0 0 0 0;\n",
              "      width: 32px;\n",
              "    }\n",
              "\n",
              "    .colab-df-convert:hover {\n",
              "      background-color: #E2EBFA;\n",
              "      box-shadow: 0px 1px 2px rgba(60, 64, 67, 0.3), 0px 1px 3px 1px rgba(60, 64, 67, 0.15);\n",
              "      fill: #174EA6;\n",
              "    }\n",
              "\n",
              "    .colab-df-buttons div {\n",
              "      margin-bottom: 4px;\n",
              "    }\n",
              "\n",
              "    [theme=dark] .colab-df-convert {\n",
              "      background-color: #3B4455;\n",
              "      fill: #D2E3FC;\n",
              "    }\n",
              "\n",
              "    [theme=dark] .colab-df-convert:hover {\n",
              "      background-color: #434B5C;\n",
              "      box-shadow: 0px 1px 3px 1px rgba(0, 0, 0, 0.15);\n",
              "      filter: drop-shadow(0px 1px 2px rgba(0, 0, 0, 0.3));\n",
              "      fill: #FFFFFF;\n",
              "    }\n",
              "  </style>\n",
              "\n",
              "    <script>\n",
              "      const buttonEl =\n",
              "        document.querySelector('#df-a4279a4b-9656-4f96-95f8-c1d7f7ad6187 button.colab-df-convert');\n",
              "      buttonEl.style.display =\n",
              "        google.colab.kernel.accessAllowed ? 'block' : 'none';\n",
              "\n",
              "      async function convertToInteractive(key) {\n",
              "        const element = document.querySelector('#df-a4279a4b-9656-4f96-95f8-c1d7f7ad6187');\n",
              "        const dataTable =\n",
              "          await google.colab.kernel.invokeFunction('convertToInteractive',\n",
              "                                                    [key], {});\n",
              "        if (!dataTable) return;\n",
              "\n",
              "        const docLinkHtml = 'Like what you see? Visit the ' +\n",
              "          '<a target=\"_blank\" href=https://colab.research.google.com/notebooks/data_table.ipynb>data table notebook</a>'\n",
              "          + ' to learn more about interactive tables.';\n",
              "        element.innerHTML = '';\n",
              "        dataTable['output_type'] = 'display_data';\n",
              "        await google.colab.output.renderOutput(dataTable, element);\n",
              "        const docLink = document.createElement('div');\n",
              "        docLink.innerHTML = docLinkHtml;\n",
              "        element.appendChild(docLink);\n",
              "      }\n",
              "    </script>\n",
              "  </div>\n",
              "\n",
              "\n",
              "<div id=\"df-df8dbebe-d3d5-4e46-a5fe-6a7915345197\">\n",
              "  <button class=\"colab-df-quickchart\" onclick=\"quickchart('df-df8dbebe-d3d5-4e46-a5fe-6a7915345197')\"\n",
              "            title=\"Suggest charts\"\n",
              "            style=\"display:none;\">\n",
              "\n",
              "<svg xmlns=\"http://www.w3.org/2000/svg\" height=\"24px\"viewBox=\"0 0 24 24\"\n",
              "     width=\"24px\">\n",
              "    <g>\n",
              "        <path d=\"M19 3H5c-1.1 0-2 .9-2 2v14c0 1.1.9 2 2 2h14c1.1 0 2-.9 2-2V5c0-1.1-.9-2-2-2zM9 17H7v-7h2v7zm4 0h-2V7h2v10zm4 0h-2v-4h2v4z\"/>\n",
              "    </g>\n",
              "</svg>\n",
              "  </button>\n",
              "\n",
              "<style>\n",
              "  .colab-df-quickchart {\n",
              "      --bg-color: #E8F0FE;\n",
              "      --fill-color: #1967D2;\n",
              "      --hover-bg-color: #E2EBFA;\n",
              "      --hover-fill-color: #174EA6;\n",
              "      --disabled-fill-color: #AAA;\n",
              "      --disabled-bg-color: #DDD;\n",
              "  }\n",
              "\n",
              "  [theme=dark] .colab-df-quickchart {\n",
              "      --bg-color: #3B4455;\n",
              "      --fill-color: #D2E3FC;\n",
              "      --hover-bg-color: #434B5C;\n",
              "      --hover-fill-color: #FFFFFF;\n",
              "      --disabled-bg-color: #3B4455;\n",
              "      --disabled-fill-color: #666;\n",
              "  }\n",
              "\n",
              "  .colab-df-quickchart {\n",
              "    background-color: var(--bg-color);\n",
              "    border: none;\n",
              "    border-radius: 50%;\n",
              "    cursor: pointer;\n",
              "    display: none;\n",
              "    fill: var(--fill-color);\n",
              "    height: 32px;\n",
              "    padding: 0;\n",
              "    width: 32px;\n",
              "  }\n",
              "\n",
              "  .colab-df-quickchart:hover {\n",
              "    background-color: var(--hover-bg-color);\n",
              "    box-shadow: 0 1px 2px rgba(60, 64, 67, 0.3), 0 1px 3px 1px rgba(60, 64, 67, 0.15);\n",
              "    fill: var(--button-hover-fill-color);\n",
              "  }\n",
              "\n",
              "  .colab-df-quickchart-complete:disabled,\n",
              "  .colab-df-quickchart-complete:disabled:hover {\n",
              "    background-color: var(--disabled-bg-color);\n",
              "    fill: var(--disabled-fill-color);\n",
              "    box-shadow: none;\n",
              "  }\n",
              "\n",
              "  .colab-df-spinner {\n",
              "    border: 2px solid var(--fill-color);\n",
              "    border-color: transparent;\n",
              "    border-bottom-color: var(--fill-color);\n",
              "    animation:\n",
              "      spin 1s steps(1) infinite;\n",
              "  }\n",
              "\n",
              "  @keyframes spin {\n",
              "    0% {\n",
              "      border-color: transparent;\n",
              "      border-bottom-color: var(--fill-color);\n",
              "      border-left-color: var(--fill-color);\n",
              "    }\n",
              "    20% {\n",
              "      border-color: transparent;\n",
              "      border-left-color: var(--fill-color);\n",
              "      border-top-color: var(--fill-color);\n",
              "    }\n",
              "    30% {\n",
              "      border-color: transparent;\n",
              "      border-left-color: var(--fill-color);\n",
              "      border-top-color: var(--fill-color);\n",
              "      border-right-color: var(--fill-color);\n",
              "    }\n",
              "    40% {\n",
              "      border-color: transparent;\n",
              "      border-right-color: var(--fill-color);\n",
              "      border-top-color: var(--fill-color);\n",
              "    }\n",
              "    60% {\n",
              "      border-color: transparent;\n",
              "      border-right-color: var(--fill-color);\n",
              "    }\n",
              "    80% {\n",
              "      border-color: transparent;\n",
              "      border-right-color: var(--fill-color);\n",
              "      border-bottom-color: var(--fill-color);\n",
              "    }\n",
              "    90% {\n",
              "      border-color: transparent;\n",
              "      border-bottom-color: var(--fill-color);\n",
              "    }\n",
              "  }\n",
              "</style>\n",
              "\n",
              "  <script>\n",
              "    async function quickchart(key) {\n",
              "      const quickchartButtonEl =\n",
              "        document.querySelector('#' + key + ' button');\n",
              "      quickchartButtonEl.disabled = true;  // To prevent multiple clicks.\n",
              "      quickchartButtonEl.classList.add('colab-df-spinner');\n",
              "      try {\n",
              "        const charts = await google.colab.kernel.invokeFunction(\n",
              "            'suggestCharts', [key], {});\n",
              "      } catch (error) {\n",
              "        console.error('Error during call to suggestCharts:', error);\n",
              "      }\n",
              "      quickchartButtonEl.classList.remove('colab-df-spinner');\n",
              "      quickchartButtonEl.classList.add('colab-df-quickchart-complete');\n",
              "    }\n",
              "    (() => {\n",
              "      let quickchartButtonEl =\n",
              "        document.querySelector('#df-df8dbebe-d3d5-4e46-a5fe-6a7915345197 button');\n",
              "      quickchartButtonEl.style.display =\n",
              "        google.colab.kernel.accessAllowed ? 'block' : 'none';\n",
              "    })();\n",
              "  </script>\n",
              "</div>\n",
              "    </div>\n",
              "  </div>\n"
            ]
          },
          "metadata": {},
          "execution_count": 45
        }
      ]
    },
    {
      "cell_type": "code",
      "source": [
        "fig = px.choropleth_mapbox(\n",
        "    data_frame = map_df,\n",
        "    geojson = map_df.geometry,\n",
        "    locations = map_df.index,\n",
        "    color = var_number,\n",
        "    color_continuous_scale = colors_1,\n",
        "    #range_color = (0, 10),\n",
        "    opacity = 0.5,\n",
        "    center = {'lat' : latitude, 'lon' : longitude},\n",
        "    mapbox_style = 'carto-positron',\n",
        "    zoom = 3.6,\n",
        "    animation_frame = 'Year',\n",
        "    #width = 800,\n",
        "    height = 600,\n",
        ")\n",
        "\n",
        "fig.update_geos(fitbounds = 'locations', visible = False)\n",
        "fig.update_layout(margin = {'r' : 0, 't' : 0, 'l' : 0, 'b' : 0},)\n",
        "\n",
        "fig.show()"
      ],
      "metadata": {
        "colab": {
          "base_uri": "https://localhost:8080/",
          "height": 617
        },
        "id": "7IxUSt7CxZvB",
        "outputId": "db2360e4-ee78-4c23-de70-ec6ec002418f"
      },
      "execution_count": 46,
      "outputs": [
        {
          "output_type": "display_data",
          "data": {
            "text/html": [
              "<html>\n",
              "<head><meta charset=\"utf-8\" /></head>\n",
              "<body>\n",
              "    <div>            <script src=\"https://cdnjs.cloudflare.com/ajax/libs/mathjax/2.7.5/MathJax.js?config=TeX-AMS-MML_SVG\"></script><script type=\"text/javascript\">if (window.MathJax && window.MathJax.Hub && window.MathJax.Hub.Config) {window.MathJax.Hub.Config({SVG: {font: \"STIX-Web\"}});}</script>                <script type=\"text/javascript\">window.PlotlyConfig = {MathJaxConfig: 'local'};</script>\n",
              "        <script charset=\"utf-8\" src=\"https://cdn.plot.ly/plotly-2.24.1.min.js\"></script>                <div id=\"3ab1c500-dde5-4fd2-bc25-e9ead48c3590\" class=\"plotly-graph-div\" style=\"height:600px; width:100%;\"></div>            <script type=\"text/javascript\">                                    window.PLOTLYENV=window.PLOTLYENV || {};                                    if (document.getElementById(\"3ab1c500-dde5-4fd2-bc25-e9ead48c3590\")) {                    Plotly.newPlot(                        \"3ab1c500-dde5-4fd2-bc25-e9ead48c3590\",                        [{\"coloraxis\":\"coloraxis\",\"geojson\":{\"type\":\"FeatureCollection\",\"features\":[{\"id\":\"Assam\",\"type\":\"Feature\",\"properties\":{},\"geometry\":{\"type\":\"Polygon\",\"coordinates\":[[[95.19593819532562,27.036122602604937],[95.08794783637816,26.94577858493513],[94.8877157124964,26.926869371934472],[94.80222334499632,26.800807951930093],[94.41075829381175,26.611715821923518],[94.32526592631167,26.475149283585438],[94.28251974256165,26.559190230255027],[94.01254384519297,26.18100597024188],[93.98104665716663,25.9225800592329],[93.78081453328487,25.84274115989679],[93.78531413157434,25.954095414233993],[93.68857276835057,25.90577186989898],[93.70657116150848,25.849044230897007],[93.33310450348182,25.546496822886493],[93.45684345644247,25.437243592216028],[93.47484184960038,25.304879101211426],[93.245362336837,25.000230669534172],[93.19136715736327,24.80273444486064],[93.11262418729741,24.79853239752716],[93.09687559328424,24.58002593618623],[93.00013423006047,24.399337900846618],[92.83139929420506,24.39723687717988],[92.76390531986289,24.51909624985078],[92.61091897802063,24.250165220508098],[92.46243223446788,24.134608918837415],[92.42193584986258,24.250165220508098],[92.29594709775719,24.250165220508098],[92.21270452940186,24.24806419684136],[92.27344910630981,24.38673175884618],[92.2329527217045,24.502288060516864],[92.25095111486242,24.907785628197626],[92.4984290207837,24.86786617852957],[92.43993424302049,25.031746024535266],[92.79315270874449,25.28176784087729],[92.6086691788759,25.41623335554863],[92.58842098657325,25.55069887021997],[92.4174362515731,25.737689976559803],[92.17220814479656,25.664154148223915],[92.16770854650709,25.96249950890095],[92.25770051229664,26.027631242569882],[92.17895754223078,26.078055810571637],[91.88648365341471,26.027631242569882],[91.8212394782173,26.11797526023969],[91.72224831584879,25.954095414233993],[91.63225635005922,25.943590295900297],[91.63450614920396,26.021328171569664],[91.57376157229601,26.025530218903143],[91.47702020907224,25.85534730189723],[91.47252061078277,25.859549349230708],[91.33528286295369,25.832236041563092],[91.22729250400623,25.722982810892628],[91.15529893137457,25.849044230897007],[91.0698065638745,25.82383194689613],[90.88532303400592,25.949893366900515],[90.74358568788736,25.91417596456594],[90.48035918795291,26.015025100569446],[90.11814152564995,25.958297461567472],[89.89766120946554,25.727184858226106],[90.00565156841301,25.58431524888781],[89.88866201288658,25.559102964886932],[89.8549150257155,25.477163041884083],[89.87066361972867,25.97510565090139],[89.72217687617591,26.1662988045747],[89.72217687617591,26.25874384591125],[89.85941462400498,26.38270424224889],[89.86166442314972,26.38480526591563],[89.86166442314972,26.704160863260064],[90.19463469657107,26.769292596928995],[90.23288128203163,26.857535590932063],[90.41511501275548,26.901657087933597],[90.65359372209781,26.773494644262474],[91.33978246124317,26.779797715262696],[91.41177603387482,26.834424330597926],[91.73124751242773,26.81131307026379],[91.89998244828315,26.914263229934036],[92.05746838841488,26.847030472598366],[92.1114635678886,26.89325299326664],[92.58842098657325,26.96048575060231],[92.66266435834964,27.036122602604937],[93.02263222150786,26.914263229934036],[93.67732377262688,26.968889845269267],[94.29151893914059,27.59079285062422],[94.50300005874605,27.5739846612903],[94.88546591335167,27.737864507295996],[95.51765947302329,27.876532069300815],[95.60765143881284,27.952168921303446],[95.97886829769476,27.962674039637143],[95.75838798151035,27.72525836529556],[95.88212693447099,27.43741812295222],[96.01486508401058,27.36808434194981],[95.58965304565493,27.22311370894477],[95.5356578661812,27.263033158612824],[95.45691489611534,27.128567643941484],[95.19593819532562,27.036122602604937]]]},\"bbox\":[89.72217687617591,24.134608918837415,96.01486508401058,27.962674039637143]},{\"id\":\"Bihar\",\"type\":\"Feature\",\"properties\":{},\"geometry\":{\"type\":\"Polygon\",\"coordinates\":[[[88.1135704876876,26.54028101725437],[88.28005562439827,26.376401171248673],[87.84809418860841,26.0444394319038],[87.8300957954505,25.872155491231144],[88.05507570992438,25.68726540855805],[88.032577718477,25.55279989388671],[87.79184920998993,25.449849734216468],[87.78734961170046,25.338495479879263],[87.85709338518737,25.29857603021121],[87.79409900913467,25.22083815454184],[87.57361869295026,25.334293432545785],[87.47912712887123,25.241848391209235],[87.33064038531846,25.22293917820858],[87.29689339814738,25.09057468720398],[87.1821536417657,25.063261379536364],[87.0494154922261,24.626248456854505],[86.94142513327864,24.630450504187984],[86.86043236406803,24.550611604851877],[86.79743798801535,24.615743338520808],[86.67369903505471,24.561116723185574],[86.60620506071254,24.60103617285363],[86.46896731288346,24.37832766417922],[86.30023237702805,24.47707577651599],[86.30023237702805,24.58632900718645],[86.13149744117263,24.61364231485407],[86.05500427025152,24.777522160859764],[85.95826290702774,24.73129964019149],[85.8862693343961,24.8006334211939],[85.78502837288285,24.79853239752716],[85.66803881735643,24.674572001189517],[85.6725384156459,24.58212695985297],[84.90985650557941,24.372024593179002],[84.82661393722408,24.525399320851],[84.66687819794763,24.3930348298464],[84.5791360313028,24.411944042847058],[84.50039306123693,24.285882622842674],[84.2664139501841,24.538005462851437],[84.11792720663132,24.481277823849467],[84.0009376511049,24.636753575188205],[83.87494889899952,24.53170239185122],[83.86594970242058,24.535904439184698],[83.78945653149945,24.52329829718426],[83.75570954432837,24.508591131517083],[83.50598183926235,24.525399320851],[83.526230031565,24.548510581185138],[83.526230031565,24.552712628518616],[83.47448465123601,24.73340066385823],[83.46998505294653,24.73340066385823],[83.39574168117014,24.783825231859982],[83.32824770682798,25.01283681153461],[83.35749509570958,25.1977268942077],[83.78945653149945,25.397324142547973],[84.08643001860499,25.63473981688956],[84.07743082202603,25.69356847955827],[84.32715852709205,25.670457219224133],[84.387903104,25.733487929226325],[84.40140189886843,25.727184858226106],[84.52514085182906,25.676760290224355],[84.63088141163179,25.790215568228298],[84.05718262972337,26.09696502357229],[84.00993684768386,26.1873090412421],[84.16517298867085,26.25874384591125],[84.18092158268402,26.372199123915195],[83.91094568531535,26.447835975917823],[83.91544528360483,26.504563614919793],[84.16067339038136,26.636928105924394],[84.42389989031582,26.624321963923958],[84.23941636044722,26.86593968559902],[84.06168222801286,26.889050945933157],[83.95144206992065,27.115961501941047],[83.99418825367069,27.178992211943235],[83.86594970242058,27.344973081615674],[83.84570151011792,27.4416201702857],[84.02568544169704,27.43531709928548],[84.11567740748659,27.521459069621805],[84.27766294590779,27.397498673284165],[84.62638181334232,27.336568986948713],[84.69162598853974,27.22311370894477],[84.64663000564497,27.046627720938634],[84.96160188590841,26.96258677426905],[85.03359545854005,26.87434378026598],[85.19558099696125,26.868040709265763],[85.2090797918297,26.760888502262038],[85.3373183430798,26.74197928926138],[85.60954403959322,26.857535590932063],[85.73553279169859,26.79450488092987],[85.74228218913281,26.645332200591355],[86.34522835992283,26.618018892923736],[86.73444361196266,26.424724715583686],[87.01566850505502,26.53397794625415],[87.34188938104217,26.349087863581058],[87.38913516308168,26.418421644583468],[87.76710141939782,26.407916526249767],[87.79634880827942,26.46884621258522],[88.0100797270296,26.355390934581276],[88.1135704876876,26.54028101725437]]]},\"bbox\":[83.32824770682798,24.285882622842674,88.28005562439827,27.521459069621805]},{\"id\":\"Chhattisgarh\",\"type\":\"Feature\",\"properties\":{},\"geometry\":{\"type\":\"Polygon\",\"coordinates\":[[[83.94694247163117,23.62195914415293],[83.95594166821013,23.62406016781967],[84.00768704853913,23.63246426248663],[84.01443644597335,23.63246426248663],[83.97394006136804,23.376139375144387],[84.07743082202603,23.332017878142853],[84.03693443742073,23.155531890136718],[84.22366776643406,22.976944878463843],[84.3766541082763,22.976944878463843],[84.38340350571052,22.87609574246034],[84.00993684768386,22.52312376644807],[84.00768704853913,22.37185006244281],[83.65221878367038,22.226879429437773],[83.56447661702556,22.10291903310013],[83.54197862557817,21.96635249476205],[83.6072228007756,21.913826903093558],[83.3867424845912,21.615481542416518],[83.38224288630171,21.342348465740358],[83.27650232649898,21.378065868074934],[83.20000915557786,21.14275121740009],[82.64430876682735,21.153256335733786],[82.56106619847202,20.945254992726557],[82.3405858822876,20.84440585672305],[82.4035802583403,20.05231993436219],[82.71855213860374,19.987188200693254],[82.7050533437353,19.83171244935452],[82.48232322840616,19.905248277690408],[82.34733527972182,19.835914496687998],[82.2708421088007,19.976683082359557],[82.02336420287942,20.02500662669457],[81.94012163452408,20.10484552603068],[81.86812806189243,20.02710765036131],[81.8658782627477,19.90314725402367],[82.05936098919524,19.795995047019943],[82.05486139090577,19.54387220701118],[82.1786003438664,19.434618976340715],[82.24609431820858,18.91776715432275],[82.1786003438664,18.898857941322092],[82.15385255327428,18.78120061598467],[81.96261962597147,18.686654550981384],[81.95587022853725,18.564795178310483],[81.75338830551075,18.35259178796977],[81.53515778847108,18.266449817633443],[81.39342044235254,17.81472972928441],[81.10544615182596,17.823133823951366],[81.09869675439174,17.818931776617887],[81.06494976722065,17.789517445283533],[81.05370077149696,17.791618468950272],[80.98170719886531,18.16560068162994],[80.98170719886531,18.174004776296897],[80.74322848952299,18.178206823630376],[80.79272407070725,18.24964162829953],[80.72972969465457,18.367298953636947],[80.7319794937993,18.37360202463717],[80.639737728865,18.524875728642428],[80.49575058360172,18.63202793564615],[80.34951363919369,18.592108485978095],[80.2752702674173,18.722371953315957],[80.35401323748316,18.814816994652503],[80.2752702674173,18.991302982658638],[80.39450962208846,19.245526846334144],[80.56549435708862,19.40100259767288],[80.6104903399834,19.31486062733655],[80.75672728439142,19.289648343335678],[80.84671925018098,19.358982124338084],[80.79497386985199,19.430416929007237],[80.89846463050998,19.468235355008552],[80.66898511774662,19.61320598801359],[80.67348471603609,19.69514591101644],[80.54749596393071,19.777085834019285],[80.49575058360172,19.896844183023447],[80.5294975707728,20.125855762698073],[80.390010023799,20.2435130880355],[80.62398913485183,20.327554034705088],[80.54299636564123,20.932648850726117],[80.4665031947201,20.92844680339264],[80.43050640840428,21.010386726395488],[80.46425339557537,21.172165548734444],[80.64648712629922,21.25410547173729],[80.66448551945713,21.33184334740666],[80.73647909208877,21.47261193307822],[80.71398110064139,21.67220918141849],[80.83772005360203,21.804573672423093],[80.83996985274676,21.945342258094655],[80.92321242110211,22.119727222434047],[81.00645498945744,22.060898559765334],[81.12119474583912,22.294112186773443],[81.11669514754965,22.43908281977848],[81.19318831847077,22.487406364113497],[81.19993771590498,22.472699198446314],[81.33042606629984,22.52522479011481],[81.48341240814209,22.491608411446975],[81.48791200643157,22.493709435113715],[81.7736364978134,22.676498494120068],[81.77813609610288,22.873994718793597],[81.94912083110304,22.955934641796446],[81.9468710319583,23.07779401446735],[82.15835215156375,23.14082472446954],[82.19434893787958,23.321512759809153],[81.98286781827412,23.4139578011457],[81.98061801912938,23.41815984847918],[81.92437304051091,23.529514102816385],[81.73763971149758,23.56313048148422],[81.61390075853694,23.50850386614899],[81.62065015597116,23.659777570154244],[81.69489352774754,23.718606232822957],[81.60715136110272,23.853071747494297],[81.67014573715541,23.922405528496707],[81.81863248070817,23.806849226826024],[81.95812002768199,23.850970723827558],[81.96936902340569,23.855172771161037],[82.55206700189306,23.792142061158845],[82.81529350182751,23.962324978164762],[82.96153044623554,23.871980960494955],[83.13476498038044,23.88878914982887],[83.33049750597272,24.10099254016958],[83.51723083498604,24.025355688166954],[83.78270713406523,23.600948907485535],[83.94244287334169,23.56313048148422],[83.94694247163117,23.62195914415293]]]},\"bbox\":[80.2752702674173,17.789517445283533,84.38340350571052,24.10099254016958]},{\"id\":\"Gujarat\",\"type\":\"Feature\",\"properties\":{},\"geometry\":{\"type\":\"MultiPolygon\",\"coordinates\":[[[[68.3580841977354,23.804748203159285],[68.41657897549861,23.718606232822957],[68.3468352020117,23.598847883818795],[68.22309624905107,23.588342765485095],[68.3580841977354,23.804748203159285]]],[[[68.3580841977354,23.9749311201652],[68.335586206288,23.83836458182712],[68.20959745418263,23.811051274159503],[68.3580841977354,23.9749311201652]]],[[[72.65745036333142,21.47051090941148],[72.61245438043665,21.680613276085452],[72.51796281635761,21.705825560086325],[72.61245438043665,21.861301311425066],[72.51571301721286,21.88021052442572],[72.50221422234443,21.953746352761613],[72.63720217102876,22.285708092106482],[72.36272667537062,22.201667145436893],[72.22098932925208,21.955847376428352],[72.30648169675214,21.628087684416958],[72.04775479510718,21.159559406734004],[71.15008493635636,20.772971052053904],[71.14558533806688,20.756162862719982],[71.01284718852729,20.739354673386067],[70.9903491970799,20.73095057871911],[70.82161426122448,20.691031129051055],[70.25691467589502,20.974669324060912],[69.23550586418357,21.939039187094433],[68.93628257793328,22.3025162814404],[69.0172753471439,22.44748691444544],[69.14776369753875,22.403365417443908],[69.23325606503883,22.258394784438867],[70.17142230839494,22.556740145115903],[70.34465684253983,22.93072235779557],[70.22541748786867,22.960136689129925],[69.86544962471045,22.871893695126857],[69.69446488971029,22.743731251455735],[69.197259278723,22.840378340125763],[68.59206330878824,23.21436055280543],[68.6483082874067,23.304704570475238],[68.49532194556447,23.50640284248225],[68.48857254813025,23.634565286153368],[68.67305607799884,23.861475842161255],[68.5718151164856,23.880385055161913],[68.55156692418294,23.96862804916498],[68.75404884720945,23.96862804916498],[68.76979744122261,24.273276480842238],[68.85079021043322,24.220750889173743],[68.9430319753675,24.302690812176593],[69.00377655227545,24.222851912840483],[69.58872432990756,24.290084670176153],[69.73046167602612,24.17242734483873],[70.01618616740795,24.17032632117199],[70.10842793234225,24.29428671750963],[70.5741363553032,24.422449161180754],[70.5741363553032,24.25436726784158],[70.72037329971123,24.216548841840265],[70.8801090389877,24.24596317317462],[70.87335964155348,24.298488764843114],[71.10958855175106,24.437156326847933],[70.99934839365885,24.44556042151489],[70.9903491970799,24.605238220187108],[71.09833955602737,24.685077119523218],[71.28957248333018,24.61364231485407],[71.48080541063298,24.678774048522996],[72.22323912839681,24.634652551521466],[72.4594680385944,24.407741995513575],[72.53596120951552,24.506490107850343],[72.72719413681833,24.361519474845302],[72.97242224359486,24.359418451178563],[72.97692184188433,24.45186349251511],[73.09166159826603,24.493883965849903],[73.08041260254232,24.39513585351314],[73.18390336320032,24.334206167177687],[73.07816280339759,24.18503348683917],[73.24914753839775,24.010648522499775],[73.41113307681894,24.05056797216783],[73.35713789734521,23.853071747494297],[73.65636118359548,23.62195914415293],[73.62936359385861,23.451776227147015],[73.82284632030616,23.445473156146797],[73.89034029464833,23.336219925476332],[74.00058045274054,23.334118901809592],[74.02082864504318,23.332017878142853],[74.13331860228013,23.262684097140443],[74.12431940570117,23.176542126804115],[74.24805835866181,23.176542126804115],[74.32005193129346,23.060985825133432],[74.37854670905666,22.907611097461434],[74.46178927741201,22.911813144794912],[74.46178927741201,22.813065032458148],[74.3807965082014,22.64078109178549],[74.27505594839867,22.64498313911897],[74.08157322195113,22.50631557711415],[74.09957161510904,22.432779748778263],[74.2705563501092,22.390759275443468],[74.18731378175386,22.31932447077432],[74.0680744270827,22.359243920442374],[74.14231779885908,21.953746352761613],[73.82284632030616,21.810876743423314],[73.88584069635885,21.710027607419807],[73.81834672201668,21.596572329415864],[73.8543435083325,21.49572319341236],[74.28630494412238,21.55665287974781],[74.30205353813554,21.478915004078438],[74.07482382451691,21.455803743744305],[73.95558446984576,21.392773033742113],[73.94208567497732,21.296125945072085],[73.8250961194509,21.26671161373773],[73.81609692287195,21.170064525067705],[73.62936359385861,21.132246099066393],[73.79134913227982,21.067114365397458],[73.9353362775431,20.768769004720422],[73.73960375195082,20.56707073271341],[73.44937966227951,20.714142389385188],[73.41788247425316,20.201492614700705],[73.30089291872675,20.207795685700923],[73.20640135464771,20.121653715364594],[73.18615316234505,20.140562928365256],[73.18615316234505,20.15737111769917],[73.2176503503714,20.17628033069983],[73.21990014951614,20.18468442536679],[73.18615316234505,20.197290567367226],[73.17940376491084,20.201492614700705],[73.16365517089767,20.201492614700705],[73.15465597431871,20.201492614700705],[73.13890738030554,20.205694662034183],[73.11415958971341,20.15737111769917],[73.10291059398972,20.15947214136591],[73.09391139741076,20.15947214136591],[73.09166159826603,20.16367418869939],[73.07141340596337,20.15737111769917],[73.06241420938441,20.17628033069983],[73.06466400852915,20.193088520033747],[73.06016441023968,20.197290567367226],[73.05341501280546,20.203593638367444],[73.0669138076739,20.230906946035063],[73.07141340596337,20.233007969701802],[73.09166159826603,20.22880592236832],[73.10291059398972,20.24561411170224],[73.1186591880029,20.258220253702675],[73.12765838458185,20.260321277369414],[73.13215798287132,20.268725372036375],[73.1366575811608,20.281331514036815],[73.14340697859501,20.277129466703336],[73.14565677773976,20.285533561370293],[73.15690577346345,20.287634585037033],[73.15915557260819,20.283432537703554],[73.16140537175292,20.283432537703554],[73.1659049700424,20.30024072703747],[73.16815476918714,20.31074584537117],[73.15915557260819,20.314947892704648],[73.15240617517398,20.317048916371387],[73.12990818372658,20.31074584537117],[73.1186591880029,20.306543798037687],[73.10291059398972,20.304442774370948],[73.09166159826603,20.356968366039442],[73.08716199997654,20.335958129372045],[73.08041260254232,20.327554034705088],[73.0736632051081,20.329655058371827],[73.06016441023968,20.327554034705088],[73.03766641879228,20.317048916371387],[73.03766641879228,20.304442774370948],[73.03316682050281,20.29183663237051],[73.01741822648964,20.304442774370948],[73.00841902991068,20.317048916371387],[73.00616923076595,20.314947892704648],[73.01066882905542,20.30234175070421],[72.97017244445013,20.270826395703114],[72.94767445300273,20.287634585037033],[72.93642545727904,20.29393765603725],[72.92742626070009,20.287634585037033],[72.96342304701591,20.22670489870158],[72.96342304701591,20.21619978036788],[72.95892344872642,20.21409875670114],[72.72944393596306,20.136360881031774],[72.8014375085947,20.37377655537336],[72.88018047866056,20.369574508039882],[72.84418369234474,20.474625691376865],[72.8824302778053,20.611192229714945],[72.59445598727872,21.312934134406007],[72.65745036333142,21.47051090941148]]]]},\"bbox\":[68.20959745418263,20.121653715364594,74.46178927741201,24.685077119523218]},{\"id\":\"Haryana\",\"type\":\"Feature\",\"properties\":{},\"geometry\":{\"type\":\"Polygon\",\"coordinates\":[[[77.12555146478286,30.563741339060886],[77.21329363142767,30.502811652725438],[77.21329363142767,30.494407558058477],[77.58901008859907,30.380952280054533],[77.42702455017786,30.105718179711634],[77.28303740491458,30.042687469709442],[77.09630407590124,29.595169428693886],[77.1975450374145,28.861912169001734],[76.95231693063796,28.81568964833346],[76.95681652892743,28.67912310999538],[76.84207677254575,28.578273973991873],[77.1165522682039,28.487929956322066],[77.1750470459671,28.40178798598574],[77.348281580112,28.502637121989245],[77.54626390484903,28.18538254831155],[77.48326952879634,28.097139554308484],[77.54401410570429,27.98788632363802],[77.28528720405932,27.800895217298187],[77.046808494717,27.813501359298623],[76.97931452037483,27.651722536959667],[76.89607195201948,27.71475324696186],[76.97031532379587,28.13916002764328],[76.84207677254575,28.218998926979385],[76.65759324267717,28.086634435974787],[76.66884223840086,28.013098607638895],[76.538353888006,27.973179157970844],[76.48210890938753,28.145463098643496],[76.36736915300585,28.13916002764328],[76.34487116155846,28.025704749639335],[76.185135422282,28.05511908097369],[76.18063582399252,27.802996240964926],[75.98265349925549,27.859723879966896],[76.06139646932135,28.218998926979385],[76.01640048642658,28.248413258313743],[76.02764948215028,28.277827589648098],[75.89716113175542,28.389181843985302],[75.56419085833406,28.61189035265971],[75.51919487543928,29.00688280200677],[75.4449515036629,29.013185873006993],[75.37070813188652,29.139247293011373],[75.38870652504443,29.261106665682277],[75.08723343964942,29.22959131068118],[74.85775392688605,29.401875251353836],[74.7857603542544,29.357753754352302],[74.57877883293843,29.406077298687315],[74.61477561925425,29.752746203699363],[74.48203746971465,29.742241085365666],[74.56303023892525,29.864100458036567],[74.52928325175418,29.943939357372678],[74.81050814484654,29.99226290170769],[74.99949127300461,29.85359533970287],[75.07598444392572,29.876706600037007],[75.11198123024154,29.80106974803438],[75.19297399945215,29.836787150368952],[75.2312205849127,29.605674547027586],[75.45395070024186,29.78426155870046],[75.82966715741325,29.811574866368076],[75.94440691379494,29.729634943365227],[76.2143828111636,29.84309022136917],[76.22113220859782,29.83888817403569],[76.26387839234786,30.116223298045334],[76.43711292649276,30.14353660571295],[76.54510328544022,30.07840487204402],[76.63959484951926,30.151940700379907],[76.60359806320344,30.25068881271667],[76.92981893919057,30.494407558058477],[76.9320687383353,30.502811652725438],[76.8330775759668,30.681398664398312],[76.83082777682206,30.68770173539853],[76.84207677254575,30.70240890106571],[76.83757717425628,30.725520161399846],[76.84207677254575,30.76123756373442],[76.78358199478254,30.904107173072717],[76.91632014432214,30.89360205473902],[77.02656030241434,30.738126303400282],[77.16604784938815,30.68560071173179],[77.12555146478286,30.563741339060886]]]},\"bbox\":[74.48203746971465,27.651722536959667,77.58901008859907,30.904107173072717]},{\"id\":\"Himachal Pradesh\",\"type\":\"Feature\",\"properties\":{},\"geometry\":{\"type\":\"Polygon\",\"coordinates\":[[[78.92089118228449,31.254978125418248],[79.01313294721878,31.11210851607995],[78.89614339169236,31.09950237407951],[78.81065102419228,31.200351510083017],[78.48443014820515,31.198250486416274],[78.38543898583663,31.284392456752602],[77.91748076373095,31.154128989414744],[77.70150004583601,30.763338587401158],[77.81174020392821,30.507013700058916],[77.57551129373063,30.39986149305519],[77.58901008859907,30.380952280054533],[77.21329363142767,30.494407558058477],[77.21329363142767,30.502811652725438],[77.12555146478286,30.563741339060886],[77.16604784938815,30.68560071173179],[77.02656030241434,30.738126303400282],[76.91632014432214,30.89360205473902],[76.78358199478254,30.904107173072717],[76.73858601188776,30.935622528073814],[76.73858601188776,30.939824575407293],[76.62384625550608,31.000754261742745],[76.65084384524295,31.208755604749975],[76.44161252478223,31.322210882753918],[76.21888240945307,31.30330166975326],[75.90841012747912,31.94831593544235],[75.62493543524201,32.0995896394476],[75.63843423011045,32.23405515411895],[75.9421571146502,32.41054114212508],[75.88816193517647,32.57652201179752],[75.93990731550545,32.64375476913319],[75.92865831978176,32.757210047137136],[75.82516755912377,32.929493987809785],[75.95115631122916,32.88537249080825],[76.03439887958449,32.91688784580935],[76.11089205050561,33.005130839812416],[76.25487919576891,33.032444147480035],[76.40111614017692,33.18371785148529],[76.81507918280889,33.17321273315159],[76.93431853748005,33.032444147480035],[77.15479885366446,32.9778175321448],[77.33928238353305,32.82024075713932],[77.73074743471761,32.96941343747784],[77.99397393465206,32.58912815379796],[78.31344541320499,32.708886502802116],[78.40568717813929,32.61854248513231],[78.31569521234972,32.574420988130775],[78.32694420807343,32.47147082846053],[78.4011875798498,32.52609744379576],[78.53617552853414,32.41474318945856],[78.47993054991566,32.273974603786996],[78.7881530327449,31.99663947977736],[78.70716026353429,31.788638136770132],[78.84214821221863,31.622657267097694],[78.73865745156064,31.536515296761365],[78.92089118228449,31.254978125418248]]]},\"bbox\":[75.62493543524201,30.380952280054533,79.01313294721878,33.18371785148529]},{\"id\":\"Jharkhand\",\"type\":\"Feature\",\"properties\":{},\"geometry\":{\"type\":\"Polygon\",\"coordinates\":[[[87.79409900913467,25.22083815454184],[87.77835041512151,25.101079805537676],[87.97183314156905,24.88257334419675],[87.84584438946368,24.73970373485845],[87.90658896637163,24.72289554552453],[87.89309017150319,24.563217746852313],[87.80084840656889,24.563217746852313],[87.80084840656889,24.3825297115127],[87.68610865018721,24.24806419684136],[87.69510784676616,24.151417108171334],[87.50162512031862,24.1178007295035],[87.4431303425554,23.979133167498677],[87.33738978275268,24.031658759167172],[87.29914319729212,23.890890173495613],[87.1416572571604,23.869879936828216],[87.1529062528841,23.796344108492324],[86.90092874867334,23.882486078828652],[86.79743798801535,23.689191901488602],[86.45096891972555,23.634565286153368],[86.35647735564652,23.466483392814194],[86.23048860354115,23.43917008514658],[86.14499623604107,23.571534576151176],[86.04375527452783,23.586241741818355],[86.0482548728173,23.49169567681507],[85.86602114209344,23.451776227147015],[85.84127335150131,23.193350316138034],[85.92226612071192,23.13242062980258],[86.04375527452783,23.145026771803018],[86.21698980867271,22.993753067797762],[86.39922353939656,22.976944878463843],[86.42172153084395,22.77944865379031],[86.64220184702836,22.65758928111941],[86.65795044104154,22.579851405450043],[86.76144120169953,22.577750381783304],[86.84918336834434,22.39916337011043],[86.82443557775221,22.26469785543909],[86.72769421452844,22.218475334770815],[86.5049640991993,22.344536754775195],[86.43072072742291,22.31092037610736],[86.07525246255416,22.546235026782206],[85.96051270617248,22.460093056445878],[86.02800668051465,22.38445620444325],[85.97626130018566,22.247889666105166],[86.03250627880412,22.189061003436457],[85.89976812926453,21.981059660429228],[85.41606131314566,22.159646672102102],[85.2158291892639,22.0482924177649],[85.03134565939531,22.15754564843536],[85.11233842860591,22.294112186773443],[85.05834324913218,22.483204316780014],[84.2956613390657,22.340334707441716],[84.00993684768386,22.52312376644807],[84.38340350571052,22.87609574246034],[84.3766541082763,22.976944878463843],[84.22366776643406,22.976944878463843],[84.03693443742073,23.155531890136718],[84.07743082202603,23.332017878142853],[83.97394006136804,23.376139375144387],[84.01443644597335,23.63246426248663],[84.00768704853913,23.63246426248663],[83.95594166821013,23.62406016781967],[83.94694247163117,23.62195914415293],[83.94244287334169,23.56313048148422],[83.78270713406523,23.600948907485535],[83.51723083498604,24.025355688166954],[83.33049750597272,24.10099254016958],[83.44298746320966,24.346812309178127],[83.40024127945962,24.500187036850125],[83.50598183926235,24.525399320851],[83.75570954432837,24.508591131517083],[83.78945653149945,24.52329829718426],[83.86594970242058,24.535904439184698],[83.87494889899952,24.53170239185122],[84.0009376511049,24.636753575188205],[84.11792720663132,24.481277823849467],[84.2664139501841,24.538005462851437],[84.50039306123693,24.285882622842674],[84.5791360313028,24.411944042847058],[84.66687819794763,24.3930348298464],[84.82661393722408,24.525399320851],[84.90985650557941,24.372024593179002],[85.6725384156459,24.58212695985297],[85.66803881735643,24.674572001189517],[85.78502837288285,24.79853239752716],[85.8862693343961,24.8006334211939],[85.95826290702774,24.73129964019149],[86.05500427025152,24.777522160859764],[86.13149744117263,24.61364231485407],[86.30023237702805,24.58632900718645],[86.30023237702805,24.47707577651599],[86.46896731288346,24.37832766417922],[86.60620506071254,24.60103617285363],[86.67369903505471,24.561116723185574],[86.79743798801535,24.615743338520808],[86.86043236406803,24.550611604851877],[86.94142513327864,24.630450504187984],[87.0494154922261,24.626248456854505],[87.1821536417657,25.063261379536364],[87.29689339814738,25.09057468720398],[87.33064038531846,25.22293917820858],[87.47912712887123,25.241848391209235],[87.57361869295026,25.334293432545785],[87.79409900913467,25.22083815454184]]]},\"bbox\":[83.33049750597272,21.981059660429228,87.97183314156905,25.334293432545785]},{\"id\":\"Karnataka\",\"type\":\"Feature\",\"properties\":{},\"geometry\":{\"type\":\"Polygon\",\"coordinates\":[[[77.55301330228325,18.293763125301062],[77.65650406294124,17.972306504289886],[77.52826551169112,17.829436894951588],[77.54176430655954,17.72858775894808],[77.46077153734895,17.701274451280465],[77.44277314419104,17.583617125943043],[77.66100366123071,17.524788463274334],[77.38427836642782,17.222241055263815],[77.37977876813835,17.140301132260966],[77.50351772109899,17.010037664923104],[77.42027515274364,16.665469783577795],[77.45852173820421,16.610843168242564],[77.42027515274364,16.522600174239496],[77.25603981517772,16.47217560623774],[77.28753700320405,16.407043872568813],[77.59575948603329,16.316699854899007],[77.4922687253753,16.253669144896815],[77.51476671682268,15.925909452885422],[77.25379001603297,15.961626855219997],[77.08055548188807,15.915404334551724],[77.04230889642751,15.364936133865923],[77.15254905451972,15.291400305530034],[77.1682976485329,15.17374298019261],[77.11430246905915,15.035075418187791],[76.88032335800631,15.032974394521052],[76.79933058879571,15.096005104523242],[76.76783340076938,14.97414573185234],[76.86907436228262,14.96994368451886],[76.76558360162463,14.602264542839414],[76.86907436228262,14.480405170168511],[76.97931452037483,14.48460721750199],[76.88932255458528,14.396364223498924],[76.94331773405901,14.245090519493665],[77.0535578921512,14.245090519493665],[77.15929845195393,14.34383863183043],[77.36627997326991,14.27660587449476],[77.40227675958573,14.335434537163472],[77.50576752024372,14.266100756161062],[77.51701651596743,14.179958785824734],[77.39777716129626,14.173655714824516],[77.34603178096727,14.060200436820573],[77.42477475103313,13.902623661815095],[77.35503097754622,13.902623661815095],[77.3190341912304,14.032887129152956],[77.14130005879602,14.005573821485338],[77.02881010155909,14.060200436820573],[77.02656030241434,14.179958785824734],[76.94781733234848,14.119029099489282],[77.04230889642751,13.93203799314945],[76.97481492208534,13.816481691478767],[77.17279724682237,13.761855076143535],[77.24704061859876,13.900522638148356],[77.43152414846735,13.833289880812686],[77.53501490912534,13.715632555475262],[77.91973056287569,13.906825709148574],[78.05021891327054,13.894219567148136],[78.11546308846796,13.86270421214704],[78.0884654987311,13.65890491647329],[78.38993858412611,13.59167215913762],[78.36519079353398,13.364761603129732],[78.57667191313944,13.282821680126883],[78.46868155419197,12.973971201116148],[78.25270083629704,12.856313875778726],[78.23245264399439,12.761767810775439],[77.8342381953756,12.868920017779164],[77.75999482359921,12.696636077106508],[77.60700848175698,12.629403319770837],[77.6137578791912,12.362573314094897],[77.47652013136212,12.21129961008964],[77.73749683215183,12.175582207755063],[77.77799321675712,12.118854568753093],[77.67450245609915,11.963378817414355],[77.50126792195425,11.93816653341348],[77.44277314419104,11.780589758408002],[76.90957074688792,11.791094876741699],[76.86007516570366,11.608305817735346],[76.5608518794534,11.620911959735784],[76.51360609741387,11.70495290640537],[76.43261332820327,11.667134480404059],[76.42586393076905,11.728064166739507],[76.1153916487951,11.85832763407737],[76.11314184965035,11.978085983081533],[75.88141253774225,11.946570628080437],[75.80041976853164,12.078935119085038],[75.57993945234723,12.156672994754405],[75.4337025079392,12.297441580425966],[75.37070813188652,12.488634734099278],[75.11198123024154,12.679827887772591],[75.04673705504412,12.665120722105414],[75.00624067043881,12.789081118443056],[74.86225352517553,12.75756576344196],[74.61477561925425,13.835390904479425],[74.26155715353025,14.722022891843576],[74.108570811688,14.785053601845767],[74.08832261938535,14.896407856182972],[74.23455956379338,14.948933447851463],[74.31555233300398,15.186349122193048],[74.24805835866181,15.656978423542741],[74.1198198074117,15.652776376209262],[74.16031619201699,15.751524488546027],[74.34479972188558,15.766231654213206],[74.48428726885939,16.08978929889112],[74.5022856620173,16.22425481356246],[74.34254992274084,16.29358859456487],[74.26830655096447,16.522600174239496],[74.48878686714887,16.62975238124322],[74.54728164491209,16.6339544285767],[74.56752983721474,16.55411552924059],[74.77451135853072,16.751611753914123],[74.91174910635979,16.787329156248695],[74.99949127300461,16.947006954920916],[75.22672098662323,16.84195577158393],[75.2829659652417,16.955411049587873],[75.66768161899205,16.98482538092223],[75.63393463182096,17.47856594260606],[75.80941896511061,17.37141373560233],[75.89266153346594,17.407131137936908],[75.93090811892651,17.32519121493406],[76.11989124708457,17.369312711935592],[76.38311774701901,17.312585072933622],[76.33137236669003,17.59622326794348],[76.4168647341901,17.60672838627718],[76.52485509313757,17.760103113949178],[76.69359002899299,17.707577522280687],[76.9140703451774,17.938690125622053],[76.95681652892743,18.186610918297333],[77.06030728958542,18.1529945396295],[77.31678439208567,18.44083478197284],[77.4697707339279,18.262247770299965],[77.55301330228325,18.293763125301062]]]},\"bbox\":[74.08832261938535,11.608305817735346,78.57667191313944,18.44083478197284]},{\"id\":\"Kerala\",\"type\":\"Feature\",\"properties\":{},\"geometry\":{\"type\":\"Polygon\",\"coordinates\":[[[76.43261332820327,11.667134480404059],[76.23238120432151,11.570487391734032],[76.2661281914926,11.480143374064225],[76.54735308458496,11.360385025060062],[76.45286152050592,11.207010297388063],[76.7520848067562,11.116666279718256],[76.65759324267717,10.935978244378642],[76.90957074688792,10.778401469373165],[76.83082777682206,10.303570120689994],[76.995063114388,10.227933268687366],[77.17729684511185,10.356095712358487],[77.26503901175667,10.26365067102194],[77.2672888109014,10.12078106168364],[77.20204463570397,10.103972872349724],[77.27628800748036,9.973709405011862],[77.18179644340132,9.656454831334168],[77.40227675958573,9.515686245662607],[77.26953861004614,9.15220915131664],[77.15029925537499,9.019844660312039],[77.26503901175667,8.839156624972425],[77.19529523826976,8.7425095363024],[77.28303740491458,8.547114335295609],[77.10080367419073,8.292890471620105],[76.55410248201918,8.889581192974179],[76.33812176412424,9.423241204326061],[76.10639245221614,10.364499807025446],[75.7396751916237,11.356182977726583],[75.53719326859719,11.692346764404935],[75.53044387116299,11.70495290640537],[75.2019731960311,12.018005432749586],[74.86225352517553,12.75756576344196],[75.00624067043881,12.789081118443056],[75.04673705504412,12.665120722105414],[75.11198123024154,12.679827887772591],[75.37070813188652,12.488634734099278],[75.4337025079392,12.297441580425966],[75.57993945234723,12.156672994754405],[75.80041976853164,12.078935119085038],[75.88141253774225,11.946570628080437],[76.11314184965035,11.978085983081533],[76.1153916487951,11.85832763407737],[76.42586393076905,11.728064166739507],[76.43261332820327,11.667134480404059]],[[75.53044387116299,11.730165190406248],[75.53044387116299,11.728064166739507],[75.52819407201824,11.71966007207255],[75.53269367030772,11.71755904840581],[75.53944306774194,11.713357001072332],[75.54619246517615,11.715458024739071],[75.5484422643209,11.715458024739071],[75.5551916617551,11.71755904840581],[75.55969126004459,11.71966007207255],[75.55744146089985,11.725963143072768],[75.54619246517615,11.740670308739947],[75.54619246517615,11.755377474407124],[75.54394266603141,11.759579521740605],[75.53494346945246,11.757478498073866],[75.53269367030772,11.755377474407124],[75.53269367030772,11.751175427073646],[75.53719326859719,11.746973379740165],[75.53044387116299,11.730165190406248]]]},\"bbox\":[74.86225352517553,8.292890471620105,77.40227675958573,12.789081118443056]},{\"id\":\"Madhya Pradesh\",\"type\":\"Feature\",\"properties\":{},\"geometry\":{\"type\":\"Polygon\",\"coordinates\":[[[82.81529350182751,23.962324978164762],[82.55206700189306,23.792142061158845],[81.96936902340569,23.855172771161037],[81.95812002768199,23.850970723827558],[81.81863248070817,23.806849226826024],[81.67014573715541,23.922405528496707],[81.60715136110272,23.853071747494297],[81.69489352774754,23.718606232822957],[81.62065015597116,23.659777570154244],[81.61390075853694,23.50850386614899],[81.73763971149758,23.56313048148422],[81.92437304051091,23.529514102816385],[81.98061801912938,23.41815984847918],[81.98286781827412,23.4139578011457],[82.19434893787958,23.321512759809153],[82.15835215156375,23.14082472446954],[81.9468710319583,23.07779401446735],[81.94912083110304,22.955934641796446],[81.77813609610288,22.873994718793597],[81.7736364978134,22.676498494120068],[81.48791200643157,22.493709435113715],[81.48341240814209,22.491608411446975],[81.33042606629984,22.52522479011481],[81.19993771590498,22.472699198446314],[81.19318831847077,22.487406364113497],[81.11669514754965,22.43908281977848],[81.12119474583912,22.294112186773443],[81.00645498945744,22.060898559765334],[80.92321242110211,22.119727222434047],[80.83996985274676,21.945342258094655],[80.83772005360203,21.804573672423093],[80.71398110064139,21.67220918141849],[80.73647909208877,21.47261193307822],[80.66448551945713,21.33184334740666],[80.45525419899641,21.403278152075814],[80.26627107083834,21.61968358975],[79.86355702393008,21.531440595746933],[79.73981807096945,21.600774376749342],[79.58233213083773,21.544046737747372],[79.49458996419291,21.67220918141849],[79.2403626608374,21.714229654753286],[79.2223642676795,21.649097921084355],[78.9793859600477,21.615481542416518],[78.93663977629767,21.48521807507866],[78.44393376359984,21.502026264412578],[78.42593537044193,21.600774376749342],[78.18520686195487,21.55665287974781],[78.17395786623118,21.4978242170791],[77.90173216971777,21.375964844408195],[77.67450245609915,21.371762797074716],[77.4405233450463,21.47051090941148],[77.42702455017786,21.541945714080633],[77.57101169544116,21.527238548413454],[77.50126792195425,21.74784603342112],[77.28078760576983,21.75625012808808],[76.79708078965098,21.594471305749124],[76.79483099050624,21.4873190987454],[76.62609605465082,21.327641300073182],[76.62384625550608,21.191074761735102],[76.49110810596649,21.19527680906858],[76.37861814872954,21.075518460064416],[76.185135422282,21.08812460206486],[76.09964305478192,21.371762797074716],[75.21772179004428,21.40958122307603],[75.05573625162307,21.562955950748027],[74.58777802951738,21.66170406308479],[74.50678526030678,21.724734773086986],[74.5247836534647,21.90752383209334],[74.38529610649088,22.01887808643054],[74.28630494412238,21.932736116094212],[74.14231779885908,21.953746352761613],[74.0680744270827,22.359243920442374],[74.18731378175386,22.31932447077432],[74.2705563501092,22.390759275443468],[74.09957161510904,22.432779748778263],[74.08157322195113,22.50631557711415],[74.27505594839867,22.64498313911897],[74.3807965082014,22.64078109178549],[74.46178927741201,22.813065032458148],[74.46178927741201,22.911813144794912],[74.37854670905666,22.907611097461434],[74.32005193129346,23.060985825133432],[74.53378285004365,23.098804251134744],[74.66877079872799,23.197552363471512],[74.53153305089891,23.319411736142413],[74.61252582010951,23.458079298147233],[74.85100452945184,23.55472638681726],[74.92299810208348,23.666080641154466],[74.90499970892557,23.863576865827994],[74.99274187557039,24.027456711833693],[74.87575232004396,24.275377504508977],[74.7677619610965,24.271175457175495],[74.75426316622806,24.277478528175717],[74.85775392688605,24.44766144518163],[74.7160165807675,24.504389084183604],[74.71376678162277,24.506490107850343],[74.81950734142549,24.762814995192585],[74.87350252089922,24.66616790652256],[75.00174107214934,24.706087356190615],[75.01299006787303,24.7901283028602],[74.8600037260308,24.809037515860858],[74.86900292260975,24.932997912198502],[75.04448725589938,24.85526003652913],[75.1209804268205,24.88467436786349],[75.15697721313633,25.025442953535048],[75.3122133541233,25.042251142868967],[75.30321415754435,24.811138539527597],[75.24471937978115,24.85736106019587],[75.2312205849127,24.73129964019149],[75.61593623866305,24.685077119523218],[75.74417478991317,24.756511924192367],[75.84091615313694,24.724996569191273],[75.92865831978176,24.53380341551796],[75.90616032833438,24.441358374181412],[75.73742539247895,24.399337900846618],[75.76442298221582,23.993840333165856],[75.51694507629455,24.044264901167608],[75.45845029853133,23.91820348116323],[75.65193302497887,23.796344108492324],[75.97815390096602,23.928708599496925],[75.96240530695285,24.02115364083347],[76.13788964024248,24.09048742183588],[76.12664064451879,24.201841676173085],[76.20988321287413,24.22705396017396],[76.46636031537436,24.224952936507222],[76.52710489228231,24.15772017917155],[76.6193466572166,24.25856931517506],[76.79483099050624,24.12200277683698],[76.90507114859844,24.126204824170458],[76.94781733234848,24.193437581506128],[76.84207677254575,24.357317427511823],[76.85557556741419,24.46446963451555],[76.92306954175635,24.53170239185122],[76.96356592636165,24.45606553984859],[77.0535578921512,24.52119727351752],[77.06480688787491,24.636753575188205],[76.80607998622993,24.821643657861298],[76.9545667297827,24.86786617852957],[76.8735739605721,25.00653374053439],[77.1750470459671,25.109483900204637],[77.30778519550671,25.07796854520354],[77.39102776386204,25.117887994871595],[77.41352575530944,25.22083815454184],[77.31228479379618,25.43094052121581],[77.15929845195393,25.309081148544905],[76.96356592636165,25.29227295921099],[76.6080976614929,25.384718000547537],[76.52485509313757,25.525486586219095],[76.53385428971653,25.792316591895037],[76.79933058879571,25.939388248566814],[76.84657637083524,26.033934313570104],[76.85332576826944,26.036035337236843],[77.1165522682039,26.218824396243196],[77.11880206734864,26.227228490910154],[77.82073940050716,26.548685111921326],[78.00072333208628,26.697857792259846],[78.09746469531005,26.681049602925928],[78.10421409274427,26.783999762596174],[78.21895384912595,26.830222283264447],[78.3719401909682,26.86593968559902],[78.5744221139947,26.752484407595077],[78.7251586566922,26.79450488092987],[78.99288475491613,26.681049602925928],[79.12562290445572,26.349087863581058],[78.76790484044224,25.716679739892406],[78.80165182761333,25.611628556555424],[78.48892974649462,25.575911154220847],[78.34269280208659,25.42463745021559],[78.44843336188933,25.151504373539428],[78.17620766537591,24.880472320530007],[78.27294902859968,24.66406688285582],[78.27294902859968,24.44345939784815],[78.39218838327085,24.269074433508756],[78.50692813965253,24.39093380617966],[78.79040283188964,24.18083143950569],[78.97488636175822,24.353115380178345],[78.88714419511341,24.634652551521466],[78.75890564386329,24.59893514918689],[78.77240443873173,24.85736106019587],[78.63066709261318,24.958210196199378],[78.64866548577109,25.056958308536142],[78.52717633195519,25.28176784087729],[78.61041890031052,25.412031308215152],[78.77240443873173,25.35320264554644],[78.73190805412642,25.458253828883425],[78.9501385711661,25.525486586219095],[78.79940202846859,25.288070911877508],[78.87589519938972,25.185120752207265],[79.03338113952144,25.2292422492088],[79.1413714984689,25.105281852871155],[79.2853586437322,25.115786971204855],[79.34835301978488,25.22714122554206],[79.26736025057428,25.304879101211426],[79.34160362235066,25.327990361545563],[79.44284458386392,25.237646343875756],[79.39559880182439,25.115786971204855],[79.49683976333765,25.07796854520354],[79.5575843402456,25.164110515539868],[79.83430963504848,25.094776734537458],[79.8523080282064,25.231343272875538],[80.19652729735144,25.401526189881455],[80.31801645116734,25.386819024214276],[80.32026625031207,25.27756579354381],[80.41025821610164,25.21663610720836],[80.35626303662791,25.136797207872252],[80.48450158787801,24.989725551200472],[80.75897708353617,25.136797207872252],[80.87821643820732,25.067463426869843],[80.86471764333889,24.932997912198502],[81.17069032702338,24.9540081488659],[81.2764308868261,25.16200949187313],[81.44741562182627,25.109483900204637],[81.57565417307639,25.191423823207483],[81.65439714314225,25.07166547420332],[81.90862444649774,24.979220432866775],[81.91087424564247,24.880472320530007],[82.21684692932696,24.794330350193682],[82.30683889511653,24.626248456854505],[82.41707905320872,24.59683412552015],[82.42832804893243,24.701885308857136],[82.77254731807747,24.640955622521684],[82.71630233945899,24.079982303502184],[82.81529350182751,23.962324978164762]]]},\"bbox\":[74.0680744270827,21.075518460064416,82.81529350182751,26.86593968559902]},{\"id\":\"Maharashtra\",\"type\":\"Feature\",\"properties\":{},\"geometry\":{\"type\":\"Polygon\",\"coordinates\":[[[80.66448551945713,21.33184334740666],[80.64648712629922,21.25410547173729],[80.46425339557537,21.172165548734444],[80.43050640840428,21.010386726395488],[80.4665031947201,20.92844680339264],[80.54299636564123,20.932648850726117],[80.62398913485183,20.327554034705088],[80.390010023799,20.2435130880355],[80.5294975707728,20.125855762698073],[80.49575058360172,19.896844183023447],[80.54749596393071,19.777085834019285],[80.67348471603609,19.69514591101644],[80.66898511774662,19.61320598801359],[80.89846463050998,19.468235355008552],[80.79497386985199,19.430416929007237],[80.84671925018098,19.358982124338084],[80.75672728439142,19.289648343335678],[80.6104903399834,19.31486062733655],[80.56549435708862,19.40100259767288],[80.39450962208846,19.245526846334144],[80.2752702674173,18.991302982658638],[80.35401323748316,18.814816994652503],[80.2752702674173,18.722371953315957],[80.12228392557506,18.680351479981162],[79.93780039570646,18.78750368698489],[79.93330079741699,19.045929597993872],[79.86580682307482,19.106859284329325],[79.94904939143017,19.17829408899847],[79.9805465794565,19.403103621339618],[79.78481405386422,19.600599846013154],[79.476591571035,19.499750710009646],[79.26061085314007,19.61320598801359],[79.19536667794263,19.45983126034159],[79.02438194294248,19.54177118334444],[78.97488636175822,19.651024414014906],[78.86464620366601,19.657327485015124],[78.85114740879759,19.760277644685367],[78.40343737899454,19.838015520354737],[78.29094742175761,19.68884284001622],[78.31344541320499,19.457730236674852],[78.19195625938909,19.3968005503394],[78.18745666109962,19.243425822667405],[77.95347755004677,19.34217393500417],[77.8634855842572,19.302254485336114],[77.77124381932292,18.98289888799168],[77.90173216971777,18.869443609987737],[77.73749683215183,18.676149432647684],[77.75099562702027,18.590007462311355],[77.60025908432276,18.54798698897656],[77.55301330228325,18.293763125301062],[77.4697707339279,18.262247770299965],[77.31678439208567,18.44083478197284],[77.06030728958542,18.1529945396295],[76.95681652892743,18.186610918297333],[76.9140703451774,17.938690125622053],[76.69359002899299,17.707577522280687],[76.52485509313757,17.760103113949178],[76.4168647341901,17.60672838627718],[76.33137236669003,17.59622326794348],[76.38311774701901,17.312585072933622],[76.11989124708457,17.369312711935592],[75.93090811892651,17.32519121493406],[75.89266153346594,17.407131137936908],[75.80941896511061,17.37141373560233],[75.63393463182096,17.47856594260606],[75.66768161899205,16.98482538092223],[75.2829659652417,16.955411049587873],[75.22672098662323,16.84195577158393],[74.99949127300461,16.947006954920916],[74.91174910635979,16.787329156248695],[74.77451135853072,16.751611753914123],[74.56752983721474,16.55411552924059],[74.54728164491209,16.6339544285767],[74.48878686714887,16.62975238124322],[74.26830655096447,16.522600174239496],[74.34254992274084,16.29358859456487],[74.5022856620173,16.22425481356246],[74.48428726885939,16.08978929889112],[74.34479972188558,15.766231654213206],[74.16031619201699,15.751524488546027],[74.1198198074117,15.652776376209262],[73.99383105530632,15.610755902874468],[73.85659330747724,15.799848032881041],[73.67435957675339,15.72841322821189],[73.48762624774007,15.976334020887174],[73.31439171359517,16.539408363573415],[73.35263829905574,16.61924726290952],[73.24239814096353,17.32098916760058],[72.89142947438427,18.459743994973497],[72.81718610260788,19.12366747366324],[72.64395156846298,19.840116544021477],[72.73394353425253,19.909450325023887],[72.72944393596306,20.136360881031774],[72.95892344872642,20.21409875670114],[72.96567284616064,20.180482378033307],[72.9746720427396,20.17628033069983],[72.9746720427396,20.15737111769917],[72.96117324787116,20.130057810031555],[72.99267043589751,20.119552691697855],[72.99492023504224,20.121653715364594],[72.99941983333173,20.138461904698513],[73.00616923076595,20.136360881031774],[73.0039194316212,20.125855762698073],[73.00841902991068,20.10484552603068],[73.02866722221333,20.07753221836306],[73.04216601708177,20.067027100029364],[73.07816280339759,20.094340407696983],[73.09391139741076,20.08803733669676],[73.10741019227919,20.0796332420298],[73.1186591880029,20.07753221836306],[73.13440778201605,20.07753221836306],[73.15465597431871,20.073330171029582],[73.1659049700424,20.058623005362406],[73.20415155550296,20.0901383603635],[73.20865115379245,20.10694654969742],[73.20640135464771,20.121653715364594],[73.30089291872675,20.207795685700923],[73.41788247425316,20.201492614700705],[73.44937966227951,20.714142389385188],[73.73960375195082,20.56707073271341],[73.9353362775431,20.768769004720422],[73.79134913227982,21.067114365397458],[73.62936359385861,21.132246099066393],[73.81609692287195,21.170064525067705],[73.8250961194509,21.26671161373773],[73.94208567497732,21.296125945072085],[73.95558446984576,21.392773033742113],[74.07482382451691,21.455803743744305],[74.30205353813554,21.478915004078438],[74.28630494412238,21.55665287974781],[73.8543435083325,21.49572319341236],[73.81834672201668,21.596572329415864],[73.88584069635885,21.710027607419807],[73.82284632030616,21.810876743423314],[74.14231779885908,21.953746352761613],[74.28630494412238,21.932736116094212],[74.38529610649088,22.01887808643054],[74.5247836534647,21.90752383209334],[74.50678526030678,21.724734773086986],[74.58777802951738,21.66170406308479],[75.05573625162307,21.562955950748027],[75.21772179004428,21.40958122307603],[76.09964305478192,21.371762797074716],[76.185135422282,21.08812460206486],[76.37861814872954,21.075518460064416],[76.49110810596649,21.19527680906858],[76.62384625550608,21.191074761735102],[76.62609605465082,21.327641300073182],[76.79483099050624,21.4873190987454],[76.79708078965098,21.594471305749124],[77.28078760576983,21.75625012808808],[77.50126792195425,21.74784603342112],[77.57101169544116,21.527238548413454],[77.42702455017786,21.541945714080633],[77.4405233450463,21.47051090941148],[77.67450245609915,21.371762797074716],[77.90173216971777,21.375964844408195],[78.17395786623118,21.4978242170791],[78.18520686195487,21.55665287974781],[78.42593537044193,21.600774376749342],[78.44393376359984,21.502026264412578],[78.93663977629767,21.48521807507866],[78.9793859600477,21.615481542416518],[79.2223642676795,21.649097921084355],[79.2403626608374,21.714229654753286],[79.49458996419291,21.67220918141849],[79.58233213083773,21.544046737747372],[79.73981807096945,21.600774376749342],[79.86355702393008,21.531440595746933],[80.26627107083834,21.61968358975],[80.45525419899641,21.403278152075814],[80.66448551945713,21.33184334740666]]]},\"bbox\":[72.64395156846298,15.610755902874468,80.89846463050998,22.01887808643054]},{\"id\":\"Punjab\",\"type\":\"Feature\",\"properties\":{},\"geometry\":{\"type\":\"Polygon\",\"coordinates\":[[[76.73858601188776,30.939824575407293],[76.73858601188776,30.935622528073814],[76.78358199478254,30.904107173072717],[76.84207677254575,30.76123756373442],[76.82632817853258,30.763338587401158],[76.80607998622993,30.763338587401158],[76.81057958451942,30.782247800401816],[76.80158038794045,30.778045753068337],[76.78583179392729,30.780146776735076],[76.79033139221676,30.780146776735076],[76.78808159307202,30.784348824068555],[76.7588342041904,30.790651895068773],[76.75433460590094,30.786449847735295],[76.7520848067562,30.782247800401816],[76.74308561017725,30.778045753068337],[76.73183661445356,30.765439611067897],[76.70483902471668,30.75703551640094],[76.7295868153088,30.717116066732885],[76.72733701616407,30.710812995732667],[76.72733701616407,30.708711972065927],[76.73858601188776,30.706610948399188],[76.73858601188776,30.700307877398966],[76.74308561017725,30.69400480639875],[76.74533540932198,30.69400480639875],[76.7588342041904,30.68770173539853],[76.8330775759668,30.681398664398312],[76.9320687383353,30.502811652725438],[76.92981893919057,30.494407558058477],[76.60359806320344,30.25068881271667],[76.63959484951926,30.151940700379907],[76.54510328544022,30.07840487204402],[76.43711292649276,30.14353660571295],[76.26387839234786,30.116223298045334],[76.22113220859782,29.83888817403569],[76.2143828111636,29.84309022136917],[75.94440691379494,29.729634943365227],[75.82966715741325,29.811574866368076],[75.45395070024186,29.78426155870046],[75.2312205849127,29.605674547027586],[75.19297399945215,29.836787150368952],[75.11198123024154,29.80106974803438],[75.07598444392572,29.876706600037007],[74.99949127300461,29.85359533970287],[74.81050814484654,29.99226290170769],[74.52928325175418,29.943939357372678],[74.33130092701715,29.954444475706374],[74.2998037389908,29.956545499373114],[74.28855474326711,29.956545499373114],[73.90158929037202,29.971252665040293],[73.9758326621484,30.19606219738144],[73.9060888886615,30.35153794872018],[73.97133306385894,30.48600346339152],[74.0680744270827,30.519619842059353],[74.45953947826727,30.969238906741648],[74.66877079872799,31.055380877077976],[74.69126879017537,31.128916705413864],[74.51803425603048,31.137320800080825],[74.5540310423463,31.366332379755452],[74.65527200385955,31.462979468425477],[74.53603264918839,31.681485929766406],[74.56977963635947,31.830658610104926],[74.9409964952414,32.06597326077977],[75.2829659652417,32.120599876115],[75.37970732846547,32.24035822511917],[75.33921094386018,32.34330838478941],[75.48319808912346,32.31809610078854],[75.72617639675526,32.4168442131253],[75.88816193517647,32.57652201179752],[75.9421571146502,32.41054114212508],[75.63843423011045,32.23405515411895],[75.62493543524201,32.0995896394476],[75.90841012747912,31.94831593544235],[76.21888240945307,31.30330166975326],[76.44161252478223,31.322210882753918],[76.65084384524295,31.208755604749975],[76.62384625550608,31.000754261742745],[76.73858601188776,30.939824575407293]]]},\"bbox\":[73.90158929037202,29.605674547027586,76.9320687383353,32.57652201179752]},{\"id\":\"Rajasthan\",\"type\":\"Feature\",\"properties\":{},\"geometry\":{\"type\":\"Polygon\",\"coordinates\":[[[74.28855474326711,29.956545499373114],[74.2998037389908,29.956545499373114],[74.33130092701715,29.954444475706374],[74.52928325175418,29.943939357372678],[74.56303023892525,29.864100458036567],[74.48203746971465,29.742241085365666],[74.61477561925425,29.752746203699363],[74.57877883293843,29.406077298687315],[74.7857603542544,29.357753754352302],[74.85775392688605,29.401875251353836],[75.08723343964942,29.22959131068118],[75.38870652504443,29.261106665682277],[75.37070813188652,29.139247293011373],[75.4449515036629,29.013185873006993],[75.51919487543928,29.00688280200677],[75.56419085833406,28.61189035265971],[75.89716113175542,28.389181843985302],[76.02764948215028,28.277827589648098],[76.01640048642658,28.248413258313743],[76.06139646932135,28.218998926979385],[75.98265349925549,27.859723879966896],[76.18063582399252,27.802996240964926],[76.185135422282,28.05511908097369],[76.34487116155846,28.025704749639335],[76.36736915300585,28.13916002764328],[76.48210890938753,28.145463098643496],[76.538353888006,27.973179157970844],[76.66884223840086,28.013098607638895],[76.65759324267717,28.086634435974787],[76.84207677254575,28.218998926979385],[76.97031532379587,28.13916002764328],[76.89607195201948,27.71475324696186],[76.97931452037483,27.651722536959667],[77.046808494717,27.813501359298623],[77.28528720405932,27.800895217298187],[77.348281580112,27.519358045955066],[77.65200446465175,27.23361882727847],[77.56651209715167,27.044526697271895],[77.69925024669126,26.973091892602746],[77.49001892623056,26.897455040600118],[77.42477475103313,26.838626377931405],[77.47202053307264,26.765090549595516],[77.77349361846765,26.93107141926795],[78.14696027649431,26.95208165593535],[78.24145184057335,26.926869371934472],[78.21895384912595,26.830222283264447],[78.10421409274427,26.783999762596174],[78.09746469531005,26.681049602925928],[78.00072333208628,26.697857792259846],[77.82073940050716,26.548685111921326],[77.11880206734864,26.227228490910154],[77.1165522682039,26.218824396243196],[76.85332576826944,26.036035337236843],[76.84657637083524,26.033934313570104],[76.79933058879571,25.939388248566814],[76.53385428971653,25.792316591895037],[76.52485509313757,25.525486586219095],[76.6080976614929,25.384718000547537],[76.96356592636165,25.29227295921099],[77.15929845195393,25.309081148544905],[77.31228479379618,25.43094052121581],[77.41352575530944,25.22083815454184],[77.39102776386204,25.117887994871595],[77.30778519550671,25.07796854520354],[77.1750470459671,25.109483900204637],[76.8735739605721,25.00653374053439],[76.9545667297827,24.86786617852957],[76.80607998622993,24.821643657861298],[77.06480688787491,24.636753575188205],[77.0535578921512,24.52119727351752],[76.96356592636165,24.45606553984859],[76.92306954175635,24.53170239185122],[76.85557556741419,24.46446963451555],[76.84207677254575,24.357317427511823],[76.94781733234848,24.193437581506128],[76.90507114859844,24.126204824170458],[76.79483099050624,24.12200277683698],[76.6193466572166,24.25856931517506],[76.52710489228231,24.15772017917155],[76.46636031537436,24.224952936507222],[76.20988321287413,24.22705396017396],[76.12664064451879,24.201841676173085],[76.13788964024248,24.09048742183588],[75.96240530695285,24.02115364083347],[75.97815390096602,23.928708599496925],[75.65193302497887,23.796344108492324],[75.45845029853133,23.91820348116323],[75.51694507629455,24.044264901167608],[75.76442298221582,23.993840333165856],[75.73742539247895,24.399337900846618],[75.90616032833438,24.441358374181412],[75.92865831978176,24.53380341551796],[75.84091615313694,24.724996569191273],[75.74417478991317,24.756511924192367],[75.61593623866305,24.685077119523218],[75.2312205849127,24.73129964019149],[75.24471937978115,24.85736106019587],[75.30321415754435,24.811138539527597],[75.3122133541233,25.042251142868967],[75.15697721313633,25.025442953535048],[75.1209804268205,24.88467436786349],[75.04448725589938,24.85526003652913],[74.86900292260975,24.932997912198502],[74.8600037260308,24.809037515860858],[75.01299006787303,24.7901283028602],[75.00174107214934,24.706087356190615],[74.87350252089922,24.66616790652256],[74.81950734142549,24.762814995192585],[74.71376678162277,24.506490107850343],[74.7160165807675,24.504389084183604],[74.85775392688605,24.44766144518163],[74.75426316622806,24.277478528175717],[74.7677619610965,24.271175457175495],[74.87575232004396,24.275377504508977],[74.99274187557039,24.027456711833693],[74.90499970892557,23.863576865827994],[74.92299810208348,23.666080641154466],[74.85100452945184,23.55472638681726],[74.61252582010951,23.458079298147233],[74.53153305089891,23.319411736142413],[74.66877079872799,23.197552363471512],[74.53378285004365,23.098804251134744],[74.32005193129346,23.060985825133432],[74.24805835866181,23.176542126804115],[74.12431940570117,23.176542126804115],[74.13331860228013,23.262684097140443],[74.02082864504318,23.332017878142853],[74.00058045274054,23.334118901809592],[73.89034029464833,23.336219925476332],[73.82284632030616,23.445473156146797],[73.62936359385861,23.451776227147015],[73.65636118359548,23.62195914415293],[73.35713789734521,23.853071747494297],[73.41113307681894,24.05056797216783],[73.24914753839775,24.010648522499775],[73.07816280339759,24.18503348683917],[73.18390336320032,24.334206167177687],[73.08041260254232,24.39513585351314],[73.09166159826603,24.493883965849903],[72.97692184188433,24.45186349251511],[72.97242224359486,24.359418451178563],[72.72719413681833,24.361519474845302],[72.53596120951552,24.506490107850343],[72.4594680385944,24.407741995513575],[72.22323912839681,24.634652551521466],[71.48080541063298,24.678774048522996],[71.28957248333018,24.61364231485407],[71.09833955602737,24.685077119523218],[70.88460863727717,25.151504373539428],[70.66412832109276,25.397324142547973],[70.67312751767172,25.670457219224133],[70.27491306905293,25.70827564522545],[70.0994287357633,25.935186201233336],[70.17367210753969,26.550786135588066],[69.80020544951303,26.59910967992308],[69.51448095813119,26.74197928926138],[69.59097412905231,27.183194259276718],[70.0251853639869,27.56137851928986],[70.13542552207912,27.807198288298405],[70.37390423142145,28.013098607638895],[70.59213474846112,28.010997583972156],[70.76761908175075,27.72525836529556],[70.90485682957981,27.71055119962838],[71.20857971411957,27.83241057229928],[71.65853954306735,27.874431045634076],[71.89926805155442,27.962674039637143],[71.9330150387255,28.128654909309578],[72.2052407352389,28.39128286765204],[72.31098129504163,28.6854261809956],[72.94992425214747,29.032095086007647],[73.27164552984513,29.546845884358873],[73.39313468366103,29.9292321917055],[73.9758326621484,30.19606219738144],[73.90158929037202,29.971252665040293],[74.28855474326711,29.956545499373114]]]},\"bbox\":[69.51448095813119,23.060985825133432,78.24145184057335,30.19606219738144]},{\"id\":\"Tamil Nadu\",\"type\":\"Feature\",\"properties\":{},\"geometry\":{\"type\":\"MultiPolygon\",\"coordinates\":[[[[79.78256425471949,11.898247083745424],[79.79156345129844,11.894045036411946],[79.79831284873265,11.898247083745424],[79.78931365215371,11.875135823411288],[79.78031445557474,11.868832752411068],[79.78031445557474,11.877236847078027],[79.77356505814053,11.887741965411726],[79.77581485728527,11.902449131078903],[79.78256425471949,11.898247083745424]]],[[[79.69482208807467,11.885640941744985],[79.70607108379836,11.887741965411726],[79.7083208829431,11.868832752411068],[79.71282048123258,11.866731728744329],[79.71956987866679,11.852024563077151],[79.72181967781154,11.860428657744109],[79.74431766925892,11.845721492076931],[79.75331686583787,11.849923539410412],[79.75781646412736,11.868832752411068],[79.7600662632721,11.873034799744548],[79.76681566070631,11.873034799744548],[79.76906545985105,11.85622661041063],[79.76456586156158,11.849923539410412],[79.76231606241683,11.845721492076931],[79.76681566070631,11.839418421076711],[79.77356505814053,11.837317397409972],[79.77581485728527,11.837317397409972],[79.78031445557474,11.847822515743673],[79.79831284873265,11.837317397409972],[79.79381325044318,11.833115350076493],[79.79606304958791,11.826812279076275],[79.76456586156158,11.831014326409754],[79.75331686583787,11.837317397409972],[79.7308188743905,11.837317397409972],[79.7308188743905,11.824711255409536],[79.72631927610101,11.807903066075617],[79.72631927610101,11.805802042408878],[79.72406947695627,11.8015999950754],[79.71282048123258,11.793195900408438],[79.75781646412736,11.778488734741261],[79.76231606241683,11.78899385307496],[79.76231606241683,11.791094876741699],[79.78031445557474,11.780589758408002],[79.78256425471949,11.782690782074742],[79.8523080282064,10.992705883380616],[79.84105903248269,10.994806907047355],[79.84330883162744,11.001109978047573],[79.79381325044318,10.984301788713656],[79.79156345129844,10.986402812380396],[79.79156345129844,10.992705883380616],[79.7600662632721,11.001109978047573],[79.75331686583787,11.003211001714313],[79.74656746840367,11.001109978047573],[79.74656746840367,10.996907930714094],[79.74656746840367,10.986402812380396],[79.75556666498262,10.984301788713656],[79.75781646412736,10.982200765046915],[79.75556666498262,10.973796670379958],[79.75781646412736,10.971695646713219],[79.76231606241683,10.965392575712999],[79.76231606241683,10.959089504712779],[79.75781646412736,10.959089504712779],[79.72856907524576,10.96749359937974],[79.71956987866679,10.96749359937974],[79.72181967781154,10.950685410045821],[79.72631927610101,10.950685410045821],[79.73531847267996,10.9548874573793],[79.73981807096945,10.950685410045821],[79.7308188743905,10.942281315378862],[79.72631927610101,10.942281315378862],[79.72181967781154,10.933877220711903],[79.72856907524576,10.933877220711903],[79.72631927610101,10.927574149711685],[79.7375682718247,10.925473126044945],[79.73531847267996,10.921271078711465],[79.73981807096945,10.921271078711465],[79.74206787011418,10.923372102378206],[79.74431766925892,10.921271078711465],[79.74206787011418,10.919170055044725],[79.74656746840367,10.917069031377986],[79.74431766925892,10.912866984044506],[79.7600662632721,10.914968007711245],[79.76231606241683,10.910765960377766],[79.7600662632721,10.908664936711027],[79.7600662632721,10.906563913044288],[79.7600662632721,10.896058794710589],[79.83655943419322,10.82672501370818],[79.87930561794326,10.290963978689556],[79.38884940439019,10.322479333690652],[79.27635944715324,10.238438387021064],[79.2628606522848,10.036740115014053],[78.92539078057396,9.585020026665019],[78.90064298998183,9.456857582993896],[78.98838515662666,9.276169547654282],[78.42143577215245,9.114390725315326],[78.21220445169173,8.96101599764333],[78.13346148162587,8.498790790960594],[78.04121971669159,8.358022205289036],[77.55526310142798,8.078586057612656],[77.31678439208567,8.12060653094745],[77.10080367419073,8.292890471620105],[77.28303740491458,8.547114335295609],[77.19529523826976,8.7425095363024],[77.26503901175667,8.839156624972425],[77.15029925537499,9.019844660312039],[77.26953861004614,9.15220915131664],[77.40227675958573,9.515686245662607],[77.18179644340132,9.656454831334168],[77.27628800748036,9.973709405011862],[77.20204463570397,10.103972872349724],[77.2672888109014,10.12078106168364],[77.26503901175667,10.26365067102194],[77.17729684511185,10.356095712358487],[76.995063114388,10.227933268687366],[76.83082777682206,10.303570120689994],[76.90957074688792,10.778401469373165],[76.65759324267717,10.935978244378642],[76.7520848067562,11.116666279718256],[76.45286152050592,11.207010297388063],[76.54735308458496,11.360385025060062],[76.2661281914926,11.480143374064225],[76.23238120432151,11.570487391734032],[76.43261332820327,11.667134480404059],[76.51360609741387,11.70495290640537],[76.5608518794534,11.620911959735784],[76.86007516570366,11.608305817735346],[76.90957074688792,11.791094876741699],[77.44277314419104,11.780589758408002],[77.50126792195425,11.93816653341348],[77.67450245609915,11.963378817414355],[77.77799321675712,12.118854568753093],[77.73749683215183,12.175582207755063],[77.47652013136212,12.21129961008964],[77.6137578791912,12.362573314094897],[77.60700848175698,12.629403319770837],[77.75999482359921,12.696636077106508],[77.8342381953756,12.868920017779164],[78.23245264399439,12.761767810775439],[78.38093938754716,12.62099922510388],[78.56317311827101,12.707141195440208],[78.63066709261318,12.984476319449847],[78.81290082333702,13.087426479120094],[79.16611928906103,13.020193721784423],[79.23811286169267,13.146255141788803],[79.43384538728496,13.196679709790557],[79.42934578899548,13.333246248128637],[79.68357309235097,13.24920530145905],[79.93780039570646,13.347953413795814],[80.01879316491707,13.501328141467813],[80.22577468623305,13.484519952133894],[80.27077066912783,13.562257827803265],[80.34051444261473,13.270215538126447],[80.25502207511465,12.768070881775659],[80.13803251958822,12.431907095097307],[79.87480601965378,12.043217716750462],[79.85005822906166,12.049520787750682],[79.84555863077217,12.032712598416765],[79.84105903248269,12.013803385416107],[79.83205983590373,11.954974722747396],[79.80731204531162,11.971782912081313],[79.80731204531162,11.963378817414355],[79.76231606241683,11.944469604413698],[79.75556666498262,11.9234593677463],[79.75556666498262,11.921358344079561],[79.75106706669314,11.921358344079561],[79.75106706669314,11.942368580746958],[79.72856907524576,11.969681888414573],[79.76681566070631,11.99069212508197],[79.71732007952205,11.99489417241545],[79.71732007952205,12.00119724341567],[79.70607108379836,12.011702361749368],[79.7083208829431,12.026409527416545],[79.66107510090359,12.011702361749368],[79.65882530175884,12.00750031441589],[79.65882530175884,12.00119724341567],[79.6565755026141,11.988591101415231],[79.71057068208783,11.975984959414792],[79.71732007952205,11.965479841081095],[79.69257228892992,11.952873699080655],[79.71282048123258,11.93186346241326],[79.71057068208783,11.933964486079999],[79.71956987866679,11.927661415079779],[79.73306867353523,11.904550154745642],[79.7308188743905,11.900348107412164],[79.7308188743905,11.889842989078465],[79.71732007952205,11.889842989078465],[79.71732007952205,11.917156296746082],[79.69482208807467,11.906651178412382],[79.69482208807467,11.900348107412164],[79.69482208807467,11.894045036411946],[79.67457389577201,11.885640941744985],[79.68582289149572,11.881438894411506],[79.69257228892992,11.883539918078245],[79.69482208807467,11.885640941744985]],[[79.64307670774568,11.885640941744985],[79.63632731031146,11.887741965411726],[79.63632731031146,11.881438894411506],[79.63182771202197,11.887741965411726],[79.60033052399564,11.879337870744767],[79.60033052399564,11.875135823411288],[79.60258032314037,11.85622661041063],[79.62057871629828,11.862529681410848],[79.6273281137325,11.852024563077151],[79.66332490004832,11.860428657744109],[79.6565755026141,11.870933776077809],[79.6498261051799,11.875135823411288],[79.6498261051799,11.881438894411506],[79.64307670774568,11.885640941744985]],[[79.66332490004832,11.915055273079343],[79.67232409662728,11.915055273079343],[79.67232409662728,11.921358344079561],[79.67232409662728,11.933964486079999],[79.66107510090359,11.93816653341348],[79.66107510090359,11.940267557080219],[79.65882530175884,11.944469604413698],[79.65882530175884,11.948671651747176],[79.64307670774568,11.944469604413698],[79.64757630603515,11.952873699080655],[79.6498261051799,11.961277793747616],[79.64082690860093,11.973883935748052],[79.64082690860093,11.99069212508197],[79.65432570346937,12.024308503749806],[79.6273281137325,12.030611574750026],[79.62282851544302,12.013803385416107],[79.62057871629828,12.009601338082629],[79.62057871629828,12.00119724341567],[79.62507831458777,11.988591101415231],[79.62057871629828,11.986490077748492],[79.61832891715355,11.969681888414573],[79.62957791287724,11.952873699080655],[79.62957791287724,11.944469604413698],[79.62057871629828,11.944469604413698],[79.62057871629828,11.940267557080219],[79.62057871629828,11.9234593677463],[79.6273281137325,11.904550154745642],[79.6273281137325,11.902449131078903],[79.66332490004832,11.915055273079343]],[[79.66332490004832,11.967580864747834],[79.66107510090359,11.963378817414355],[79.65432570346937,11.957075746414136],[79.68357309235097,11.952873699080655],[79.69032248978519,11.971782912081313],[79.66332490004832,11.967580864747834]],[[79.67007429748254,11.814206137075836],[79.67232409662728,11.822610231742795],[79.66107510090359,11.826812279076275],[79.66107510090359,11.839418421076711],[79.64082690860093,11.822610231742795],[79.64532650689041,11.816307160742575],[79.67007429748254,11.814206137075836]],[[79.67682369491675,11.814206137075836],[79.67457389577201,11.805802042408878],[79.69032248978519,11.807903066075617],[79.68807269064045,11.812105113409096],[79.67682369491675,11.814206137075836]]]]},\"bbox\":[76.23238120432151,8.078586057612656,80.34051444261473,13.562257827803265]},{\"id\":\"Telangana\",\"type\":\"Feature\",\"properties\":{},\"geometry\":{\"type\":\"Polygon\",\"coordinates\":[[[81.0559505706417,17.791618468950272],[81.05820036978643,17.75380004294896],[81.04245177577326,17.73909287728178],[80.97270800228635,17.774810279616354],[80.88721563478629,17.722284687947862],[80.89171523307576,17.67606216727959],[81.01770398518113,17.52268743960759],[81.1256943441286,17.524788463274334],[81.32592646801037,17.390322948602993],[81.19993771590498,17.33569633326776],[81.17069032702338,17.241150268264473],[80.91421322452315,17.20963491326338],[80.83322045531254,17.04575506725768],[80.56774415623336,17.146604203261184],[80.50474978018067,17.10878577725987],[80.45075460070693,16.953310025921134],[80.59249194682549,16.934400812920476],[80.57224375452283,16.77052096691478],[80.3270156477463,16.879774197585242],[80.27077066912783,17.018441759590065],[80.20327669478566,17.024744830590283],[80.05478995123289,16.97221923892179],[80.00079477175916,16.871370102918284],[80.07953774182502,16.820945534916532],[79.9512991905749,16.64025749957692],[79.78256425471949,16.736904588246944],[79.27410964800849,16.56882269490777],[79.2336132634032,16.257871192230294],[79.02888154123195,16.251568121230076],[78.74540684899486,16.028859612555667],[78.6441658874816,16.098193393558077],[78.4124365755735,16.08768827522438],[78.27519882774443,16.041465754556107],[78.106463891889,15.833464411548876],[77.51476671682268,15.925909452885422],[77.4922687253753,16.253669144896815],[77.59575948603329,16.316699854899007],[77.28753700320405,16.407043872568813],[77.25603981517772,16.47217560623774],[77.42027515274364,16.522600174239496],[77.45852173820421,16.610843168242564],[77.42027515274364,16.665469783577795],[77.50351772109899,17.010037664923104],[77.37977876813835,17.140301132260966],[77.38427836642782,17.222241055263815],[77.66100366123071,17.524788463274334],[77.44277314419104,17.583617125943043],[77.46077153734895,17.701274451280465],[77.54176430655954,17.72858775894808],[77.52826551169112,17.829436894951588],[77.65650406294124,17.972306504289886],[77.55301330228325,18.293763125301062],[77.60025908432276,18.54798698897656],[77.75099562702027,18.590007462311355],[77.73749683215183,18.676149432647684],[77.90173216971777,18.869443609987737],[77.77124381932292,18.98289888799168],[77.8634855842572,19.302254485336114],[77.95347755004677,19.34217393500417],[78.18745666109962,19.243425822667405],[78.19195625938909,19.3968005503394],[78.31344541320499,19.457730236674852],[78.29094742175761,19.68884284001622],[78.40343737899454,19.838015520354737],[78.85114740879759,19.760277644685367],[78.86464620366601,19.657327485015124],[78.97488636175822,19.651024414014906],[79.02438194294248,19.54177118334444],[79.19536667794263,19.45983126034159],[79.26061085314007,19.61320598801359],[79.476591571035,19.499750710009646],[79.78481405386422,19.600599846013154],[79.9805465794565,19.403103621339618],[79.94904939143017,19.17829408899847],[79.86580682307482,19.106859284329325],[79.93330079741699,19.045929597993872],[79.93780039570646,18.78750368698489],[80.12228392557506,18.680351479981162],[80.2752702674173,18.722371953315957],[80.34951363919369,18.592108485978095],[80.49575058360172,18.63202793564615],[80.639737728865,18.524875728642428],[80.7319794937993,18.37360202463717],[80.72972969465457,18.367298953636947],[80.79272407070725,18.24964162829953],[80.74322848952299,18.178206823630376],[80.98170719886531,18.174004776296897],[80.98170719886531,18.16560068162994],[81.05370077149696,17.791618468950272],[81.0559505706417,17.791618468950272]]]},\"bbox\":[77.25603981517772,15.833464411548876,81.32592646801037,19.838015520354737]},{\"id\":\"Uttar Pradesh\",\"type\":\"Feature\",\"properties\":{},\"geometry\":{\"type\":\"Polygon\",\"coordinates\":[[[80.07053854524607,28.828295790333897],[80.37201163064107,28.632900589327107],[80.5587449596544,28.691729251995817],[80.90971362623367,28.456414601320972],[81.21343651077342,28.357666488984208],[81.33042606629984,28.13705900397654],[81.42941722866836,28.170675382644372],[81.4789128098526,28.084533412308044],[81.89062605333983,27.857622856300157],[82.07510958320842,27.922754589969088],[82.45982523695876,27.676934820960543],[82.68930474972213,27.7168542706286],[82.7455497283406,27.50044883295441],[83.18426056156468,27.452125288619396],[83.3124991128148,27.330265915948495],[83.40249107860436,27.477337572620275],[83.6072228007756,27.468933477953314],[83.86594970242058,27.344973081615674],[83.99418825367069,27.178992211943235],[83.95144206992065,27.115961501941047],[84.06168222801286,26.889050945933157],[84.23941636044722,26.86593968559902],[84.42389989031582,26.624321963923958],[84.16067339038136,26.636928105924394],[83.91544528360483,26.504563614919793],[83.91094568531535,26.447835975917823],[84.18092158268402,26.372199123915195],[84.16517298867085,26.25874384591125],[84.00993684768386,26.1873090412421],[84.05718262972337,26.09696502357229],[84.63088141163179,25.790215568228298],[84.52514085182906,25.676760290224355],[84.40140189886843,25.727184858226106],[84.387903104,25.733487929226325],[84.32715852709205,25.670457219224133],[84.07743082202603,25.69356847955827],[84.08643001860499,25.63473981688956],[83.78945653149945,25.397324142547973],[83.35749509570958,25.1977268942077],[83.32824770682798,25.01283681153461],[83.39574168117014,24.783825231859982],[83.46998505294653,24.73340066385823],[83.47448465123601,24.73340066385823],[83.526230031565,24.552712628518616],[83.526230031565,24.548510581185138],[83.50598183926235,24.525399320851],[83.40024127945962,24.500187036850125],[83.44298746320966,24.346812309178127],[83.33049750597272,24.10099254016958],[83.13476498038044,23.88878914982887],[82.96153044623554,23.871980960494955],[82.81529350182751,23.962324978164762],[82.71630233945899,24.079982303502184],[82.77254731807747,24.640955622521684],[82.42832804893243,24.701885308857136],[82.41707905320872,24.59683412552015],[82.30683889511653,24.626248456854505],[82.21684692932696,24.794330350193682],[81.91087424564247,24.880472320530007],[81.90862444649774,24.979220432866775],[81.65439714314225,25.07166547420332],[81.57565417307639,25.191423823207483],[81.44741562182627,25.109483900204637],[81.2764308868261,25.16200949187313],[81.17069032702338,24.9540081488659],[80.86471764333889,24.932997912198502],[80.87821643820732,25.067463426869843],[80.75897708353617,25.136797207872252],[80.48450158787801,24.989725551200472],[80.35626303662791,25.136797207872252],[80.41025821610164,25.21663610720836],[80.32026625031207,25.27756579354381],[80.31801645116734,25.386819024214276],[80.19652729735144,25.401526189881455],[79.8523080282064,25.231343272875538],[79.83430963504848,25.094776734537458],[79.5575843402456,25.164110515539868],[79.49683976333765,25.07796854520354],[79.39559880182439,25.115786971204855],[79.44284458386392,25.237646343875756],[79.34160362235066,25.327990361545563],[79.26736025057428,25.304879101211426],[79.34835301978488,25.22714122554206],[79.2853586437322,25.115786971204855],[79.1413714984689,25.105281852871155],[79.03338113952144,25.2292422492088],[78.87589519938972,25.185120752207265],[78.79940202846859,25.288070911877508],[78.9501385711661,25.525486586219095],[78.73190805412642,25.458253828883425],[78.77240443873173,25.35320264554644],[78.61041890031052,25.412031308215152],[78.52717633195519,25.28176784087729],[78.64866548577109,25.056958308536142],[78.63066709261318,24.958210196199378],[78.77240443873173,24.85736106019587],[78.75890564386329,24.59893514918689],[78.88714419511341,24.634652551521466],[78.97488636175822,24.353115380178345],[78.79040283188964,24.18083143950569],[78.50692813965253,24.39093380617966],[78.39218838327085,24.269074433508756],[78.27294902859968,24.44345939784815],[78.27294902859968,24.66406688285582],[78.17620766537591,24.880472320530007],[78.44843336188933,25.151504373539428],[78.34269280208659,25.42463745021559],[78.48892974649462,25.575911154220847],[78.80165182761333,25.611628556555424],[78.76790484044224,25.716679739892406],[79.12562290445572,26.349087863581058],[78.99288475491613,26.681049602925928],[78.7251586566922,26.79450488092987],[78.5744221139947,26.752484407595077],[78.3719401909682,26.86593968559902],[78.21895384912595,26.830222283264447],[78.24145184057335,26.926869371934472],[78.14696027649431,26.95208165593535],[77.77349361846765,26.93107141926795],[77.47202053307264,26.765090549595516],[77.42477475103313,26.838626377931405],[77.49001892623056,26.897455040600118],[77.69925024669126,26.973091892602746],[77.56651209715167,27.044526697271895],[77.65200446465175,27.23361882727847],[77.348281580112,27.519358045955066],[77.28528720405932,27.800895217298187],[77.54401410570429,27.98788632363802],[77.48326952879634,28.097139554308484],[77.54626390484903,28.18538254831155],[77.348281580112,28.502637121989245],[77.33478278524358,28.67702208632864],[77.33703258438831,28.67912310999538],[77.1975450374145,28.861912169001734],[77.09630407590124,29.595169428693886],[77.28303740491458,30.042687469709442],[77.42702455017786,30.105718179711634],[77.58901008859907,30.380952280054533],[77.57551129373063,30.39986149305519],[77.93097955859938,30.25068881271667],[77.71499884070444,29.861999434369828],[77.77124381932292,29.710725730364572],[77.8454871910993,29.66660423336304],[77.95347755004677,29.70862470669783],[77.99172413550733,29.548946908025613],[78.34494260123134,29.79056462970068],[78.50017874221831,29.73593801436545],[78.70491046438956,29.50272438735734],[78.91189198570554,29.45019879568885],[78.74090725070538,29.30732918635055],[78.91639158399501,29.15605548234529],[79.08512651985043,29.14555036401159],[79.4135971949823,28.927043902670665],[79.42259639156126,28.849306027001294],[79.78706385300896,28.88502342933587],[80.00079477175916,28.710638464996475],[80.07053854524607,28.828295790333897]]]},\"bbox\":[77.09630407590124,23.871980960494955,84.63088141163179,30.39986149305519]},{\"id\":\"Uttarakhand\",\"type\":\"Feature\",\"properties\":{},\"geometry\":{\"type\":\"Polygon\",\"coordinates\":[[[80.07053854524607,28.828295790333897],[80.00079477175916,28.710638464996475],[79.78706385300896,28.88502342933587],[79.42259639156126,28.849306027001294],[79.4135971949823,28.927043902670665],[79.08512651985043,29.14555036401159],[78.91639158399501,29.15605548234529],[78.74090725070538,29.30732918635055],[78.91189198570554,29.45019879568885],[78.70491046438956,29.50272438735734],[78.50017874221831,29.73593801436545],[78.34494260123134,29.79056462970068],[77.99172413550733,29.548946908025613],[77.95347755004677,29.70862470669783],[77.8454871910993,29.66660423336304],[77.77124381932292,29.710725730364572],[77.71499884070444,29.861999434369828],[77.93097955859938,30.25068881271667],[77.57551129373063,30.39986149305519],[77.81174020392821,30.507013700058916],[77.70150004583601,30.763338587401158],[77.91748076373095,31.154128989414744],[78.38543898583663,31.284392456752602],[78.48443014820515,31.198250486416274],[78.81065102419228,31.200351510083017],[78.89614339169236,31.09950237407951],[79.01313294721878,31.11210851607995],[78.92089118228449,31.254978125418248],[79.071627724982,31.467181515758956],[79.14587109675838,31.433565137091122],[79.42709598985074,31.03226961674384],[79.51708795564029,31.03437064041058],[79.60483012228511,30.937723551740554],[79.75331686583787,31.000754261742745],[79.86805662221957,30.97554197774187],[80.25277227596992,30.736025279733543],[80.22577468623305,30.576347481061326],[80.60824054083866,30.47759936872456],[81.04245177577326,30.19816322104818],[80.86696744248363,30.170849913380565],[80.4890011861675,29.79266565336742],[80.41025821610164,29.78846360603394],[80.41250801524637,29.59727045236063],[80.27752006656203,29.393471156686875],[80.27302046827256,29.14344934034485],[80.13578272044349,29.072014535675702],[80.07053854524607,28.828295790333897]]]},\"bbox\":[77.57551129373063,28.710638464996475,81.04245177577326,31.467181515758956]},{\"id\":\"West Bengal\",\"type\":\"Feature\",\"properties\":{},\"geometry\":{\"type\":\"MultiPolygon\",\"coordinates\":[[[[88.22156084663507,21.7625531990883],[88.31155281242462,21.67220918141849],[88.29130462012196,21.562955950748027],[88.21706124834559,21.61968358975],[88.22156084663507,21.7625531990883]]],[[[88.8312564148593,21.76675524642178],[88.86050380374091,21.642794850084137],[88.80875842341192,21.640693826417397],[88.8312564148593,21.76675524642178]]],[[[88.33180100472727,21.861301311425066],[88.37679698762204,21.76885627008852],[88.30930301327989,21.710027607419807],[88.30030381670093,21.76885627008852],[88.28230542354302,21.789866506755914],[88.26430703038511,21.794068554089392],[88.25980743209563,21.806674696089832],[88.30255361584567,21.82768493275723],[88.33180100472727,21.861301311425066]]],[[[88.13606847913499,21.876008477092242],[88.13381867999024,21.6301887080837],[88.04157691505596,21.649097921084355],[88.13606847913499,21.876008477092242]]],[[[88.83575601314878,21.918028950427036],[88.9639945643989,21.863402335091806],[88.88975119262251,21.812977767090054],[88.83575601314878,21.918028950427036]]],[[[88.81325802170139,22.01887808643054],[88.89875038920147,22.012575015430322],[88.90774958578042,21.928534068760733],[88.75251344479344,21.955847376428352],[88.81325802170139,22.01887808643054]]],[[[88.69401866703024,22.207970216437115],[88.78851023110927,22.170151790435803],[88.69176886788549,22.092413914766432],[88.63327409012228,22.105020056766868],[88.65352228242493,22.16174769576884],[88.69401866703024,22.207970216437115]]],[[[88.98424275670155,22.382355180776507],[89.04048773532003,22.222677382104294],[88.96849416268837,22.214273287437333],[88.98424275670155,22.382355180776507]]],[[[88.91899858150413,22.565144239782864],[88.95499536781995,22.550437074115685],[88.99774155156999,22.42857770144478],[88.92574797893835,22.405466441110647],[88.894250790912,22.466396127446096],[88.89650059005673,22.56094219244938],[88.91899858150413,22.565144239782864]]],[[[88.75926284222766,27.14747685694214],[88.87625239775409,27.109658430940826],[89.13497929939905,26.80921204659705],[89.32621222670187,26.853333543598584],[89.86166442314972,26.704160863260064],[89.86166442314972,26.38480526591563],[89.85941462400498,26.38270424224889],[89.72217687617591,26.25874384591125],[89.72217687617591,26.1662988045747],[89.64118410696531,26.214622348909717],[89.54894234203101,25.998216911235527],[89.3577094147282,26.010823053235967],[89.16197688913593,26.138985496907086],[89.08998331650427,26.39951243158281],[88.9864925558463,26.420522668250207],[89.00449094900421,26.294461248245824],[88.75926284222766,26.311269437579742],[88.39479538077995,26.615917869256997],[88.35879859446413,26.508765662253275],[88.52303393203007,26.38270424224889],[88.16306606887186,26.105369118239253],[88.11582028683233,25.796518639228516],[88.37679698762204,25.712477692558927],[88.55453112005642,25.517082491552138],[88.83575601314878,25.48136508921756],[88.84700500887249,25.36580878754688],[89.00449094900421,25.300677053877948],[88.91899858150413,25.166211539206607],[88.44204116281948,25.201928941541183],[88.39929497906944,24.9435030305322],[88.30705321413515,24.880472320530007],[88.17431506459555,24.945604054198938],[88.01457932531909,24.67036995385604],[88.34305000045097,24.37832766417922],[88.72776565420132,24.298488764843114],[88.73676485078028,23.91610245749649],[88.57927891064855,23.861475842161255],[88.56802991492485,23.716505209156217],[88.76826203880661,23.445473156146797],[88.72326605591184,23.254280002473482],[88.9639945643989,23.193350316138034],[88.87400259860934,23.098804251134744],[88.8717527994646,22.970641807463625],[88.97074396183311,22.844580387459242],[88.93699697466204,22.571447310783082],[88.89650059005673,22.56304321611612],[88.86950300031987,22.546235026782206],[88.84925480801722,22.430678725111523],[88.93699697466204,22.294112186773443],[88.90324998749095,22.17645486143602],[88.78626043196454,22.1806569087695],[88.7435142482145,22.199566121770154],[88.69401866703024,22.210071240103854],[88.67377047472758,22.205869192770376],[88.61977529525385,22.109222104100347],[88.60177690209593,21.90752383209334],[88.28005562439827,21.857099264091588],[88.31380261156936,21.846594145757887],[88.25980743209563,21.810876743423314],[88.25755763295089,21.800371625089614],[88.27330622696405,21.752048080754598],[88.21706124834559,21.76465422275504],[88.1540668722929,21.96004942376183],[88.2238106457798,22.077706749099253],[88.05282591077965,22.01467603909706],[87.83684519288471,21.716330678420025],[87.49037612459493,21.60287540041608],[87.44762994084489,21.76675524642178],[87.28564440242369,21.804573672423093],[87.23839862038417,21.95794840009509],[87.00216971018659,21.911725879426818],[87.04041629564715,21.993665802429668],[86.96167332558129,22.088211867432953],[86.72094481709422,22.147040530101663],[86.72769421452844,22.218475334770815],[86.82443557775221,22.26469785543909],[86.84918336834434,22.39916337011043],[86.76144120169953,22.577750381783304],[86.65795044104154,22.579851405450043],[86.64220184702836,22.65758928111941],[86.42172153084395,22.77944865379031],[86.39922353939656,22.976944878463843],[86.21698980867271,22.993753067797762],[86.04375527452783,23.145026771803018],[85.92226612071192,23.13242062980258],[85.84127335150131,23.193350316138034],[85.86602114209344,23.451776227147015],[86.0482548728173,23.49169567681507],[86.04375527452783,23.586241741818355],[86.14499623604107,23.571534576151176],[86.23048860354115,23.43917008514658],[86.35647735564652,23.466483392814194],[86.45096891972555,23.634565286153368],[86.79743798801535,23.689191901488602],[86.90092874867334,23.882486078828652],[87.1529062528841,23.796344108492324],[87.1416572571604,23.869879936828216],[87.29914319729212,23.890890173495613],[87.33738978275268,24.031658759167172],[87.4431303425554,23.979133167498677],[87.50162512031862,24.1178007295035],[87.69510784676616,24.151417108171334],[87.68610865018721,24.24806419684136],[87.80084840656889,24.3825297115127],[87.80084840656889,24.563217746852313],[87.89309017150319,24.563217746852313],[87.90658896637163,24.72289554552453],[87.84584438946368,24.73970373485845],[87.97183314156905,24.88257334419675],[87.77835041512151,25.101079805537676],[87.79409900913467,25.22083815454184],[87.85709338518737,25.29857603021121],[87.78734961170046,25.338495479879263],[87.79184920998993,25.449849734216468],[88.032577718477,25.55279989388671],[88.05507570992438,25.68726540855805],[87.8300957954505,25.872155491231144],[87.84809418860841,26.0444394319038],[88.28005562439827,26.376401171248673],[88.1135704876876,26.54028101725437],[88.17206526545081,26.868040709265763],[87.99433113301643,27.107557407274086],[88.01682912446383,27.21681063794455],[88.16081626972712,27.111759454607565],[88.43979136367474,27.08234512327321],[88.59727730380646,27.193699377610415],[88.75926284222766,27.14747685694214]]]]},\"bbox\":[85.84127335150131,21.562955950748027,89.86166442314972,27.21681063794455]},{\"id\":\"Odisha\",\"type\":\"Feature\",\"properties\":{},\"geometry\":{\"type\":\"Polygon\",\"coordinates\":[[[86.72769421452844,22.218475334770815],[86.72094481709422,22.147040530101663],[86.96167332558129,22.088211867432953],[87.04041629564715,21.993665802429668],[87.00216971018659,21.911725879426818],[87.23839862038417,21.95794840009509],[87.28564440242369,21.804573672423093],[87.44762994084489,21.76675524642178],[87.49037612459493,21.60287540041608],[87.15065645373936,21.508329335412796],[86.94817453071286,21.352853584074058],[86.84243397091012,21.157458383067265],[87.01566850505502,20.682627034384097],[86.78843879143639,20.529252306712095],[86.73444361196266,20.409493957707934],[86.78393919314692,20.32545301103835],[86.52746209064668,20.167876236032868],[86.36772635137022,19.9472687510252],[85.35081713794824,19.58379165667923],[84.8918581124215,19.243425822667405],[84.76811915946087,19.079545976661706],[84.66912799709236,19.129970544663458],[84.60388382189493,19.029121408659954],[84.51614165525011,19.045929597993872],[84.34065732196048,18.800109828985327],[84.09992881347341,18.753887308317054],[83.87719869814427,18.827423136652943],[83.79620592893366,19.016515266659518],[83.73321155288097,18.98499991165842],[83.61172239906507,19.100556213329103],[83.48123404867022,19.008111171992557],[83.34399630084116,19.01441424299278],[83.39574168117014,18.879948728321438],[83.03352401886718,18.57319927297744],[83.07402040347249,18.400915332304784],[82.98402843768292,18.36309690630347],[82.80629430524856,18.447137852973057],[82.7747971172222,18.339985645969335],[82.59706298478784,18.264348793966704],[82.61056177965627,18.37360202463717],[82.48907262584036,18.52277470497569],[82.36983327116921,18.417723521638703],[82.34508548057708,18.056347450959475],[82.03461319860311,18.066852569293175],[81.61840035682641,17.823133823951366],[81.39342044235254,17.81472972928441],[81.53515778847108,18.266449817633443],[81.75338830551075,18.35259178796977],[81.95587022853725,18.564795178310483],[81.96261962597147,18.686654550981384],[82.15385255327428,18.78120061598467],[82.1786003438664,18.898857941322092],[82.24609431820858,18.91776715432275],[82.1786003438664,19.434618976340715],[82.05486139090577,19.54387220701118],[82.05936098919524,19.795995047019943],[81.8658782627477,19.90314725402367],[81.86812806189243,20.02710765036131],[81.94012163452408,20.10484552603068],[82.02336420287942,20.02500662669457],[82.2708421088007,19.976683082359557],[82.34733527972182,19.835914496687998],[82.48232322840616,19.905248277690408],[82.7050533437353,19.83171244935452],[82.71855213860374,19.987188200693254],[82.4035802583403,20.05231993436219],[82.3405858822876,20.84440585672305],[82.56106619847202,20.945254992726557],[82.64430876682735,21.153256335733786],[83.20000915557786,21.14275121740009],[83.27650232649898,21.378065868074934],[83.38224288630171,21.342348465740358],[83.3867424845912,21.615481542416518],[83.6072228007756,21.913826903093558],[83.54197862557817,21.96635249476205],[83.56447661702556,22.10291903310013],[83.65221878367038,22.226879429437773],[84.00768704853913,22.37185006244281],[84.00993684768386,22.52312376644807],[84.2956613390657,22.340334707441716],[85.05834324913218,22.483204316780014],[85.11233842860591,22.294112186773443],[85.03134565939531,22.15754564843536],[85.2158291892639,22.0482924177649],[85.41606131314566,22.159646672102102],[85.89976812926453,21.981059660429228],[86.03250627880412,22.189061003436457],[85.97626130018566,22.247889666105166],[86.02800668051465,22.38445620444325],[85.96051270617248,22.460093056445878],[86.07525246255416,22.546235026782206],[86.43072072742291,22.31092037610736],[86.5049640991993,22.344536754775195],[86.72769421452844,22.218475334770815]]]},\"bbox\":[81.39342044235254,17.81472972928441,87.49037612459493,22.546235026782206]},{\"id\":\"Andhra Pradesh\",\"type\":\"Feature\",\"properties\":{},\"geometry\":{\"type\":\"Polygon\",\"coordinates\":[[[81.10544615182596,17.823133823951366],[81.39342044235254,17.81472972928441],[81.61840035682641,17.823133823951366],[82.03461319860311,18.066852569293175],[82.34508548057708,18.056347450959475],[82.36983327116921,18.417723521638703],[82.48907262584036,18.52277470497569],[82.61056177965627,18.37360202463717],[82.59706298478784,18.264348793966704],[82.7747971172222,18.339985645969335],[82.80629430524856,18.447137852973057],[82.98402843768292,18.36309690630347],[83.07402040347249,18.400915332304784],[83.03352401886718,18.57319927297744],[83.39574168117014,18.879948728321438],[83.34399630084116,19.01441424299278],[83.48123404867022,19.008111171992557],[83.61172239906507,19.100556213329103],[83.73321155288097,18.98499991165842],[83.79620592893366,19.016515266659518],[83.87719869814427,18.827423136652943],[84.09992881347341,18.753887308317054],[84.34065732196048,18.800109828985327],[84.51614165525011,19.045929597993872],[84.60388382189493,19.029121408659954],[84.66912799709236,19.129970544663458],[84.76811915946087,19.079545976661706],[84.11792720663132,18.30216721996802],[83.70396416399937,18.102569971627748],[83.21575774959103,17.58992019694326],[82.56106619847202,17.255857433931652],[82.30008949768231,17.024744830590283],[82.24834411735331,16.896582386919164],[82.36533367287973,16.82514758225001],[82.29783969853756,16.57092371857451],[81.72639071577389,16.30829576023205],[81.38217144662883,16.3587203282338],[81.2584324936682,16.318800878565746],[81.15269193386547,15.976334020887174],[80.96145900656266,15.73471629921211],[80.83772005360203,15.707402991544495],[80.72972969465457,15.885990003217367],[80.51149917761488,15.858676695549752],[80.3450140409042,15.751524488546027],[80.13128312215402,15.3796432995331],[80.04579075465394,15.049782583854968],[80.1942774982067,14.564446116838099],[80.12903332300928,14.184160833158213],[80.27077066912783,13.562257827803265],[80.22577468623305,13.484519952133894],[80.01879316491707,13.501328141467813],[79.93780039570646,13.347953413795814],[79.68357309235097,13.24920530145905],[79.42934578899548,13.333246248128637],[79.43384538728496,13.196679709790557],[79.23811286169267,13.146255141788803],[79.16611928906103,13.020193721784423],[78.81290082333702,13.087426479120094],[78.63066709261318,12.984476319449847],[78.56317311827101,12.707141195440208],[78.38093938754716,12.62099922510388],[78.23245264399439,12.761767810775439],[78.25270083629704,12.856313875778726],[78.46868155419197,12.973971201116148],[78.57667191313944,13.282821680126883],[78.36519079353398,13.364761603129732],[78.38993858412611,13.59167215913762],[78.0884654987311,13.65890491647329],[78.11546308846796,13.86270421214704],[78.05021891327054,13.894219567148136],[77.91973056287569,13.906825709148574],[77.53501490912534,13.715632555475262],[77.43152414846735,13.833289880812686],[77.24704061859876,13.900522638148356],[77.17279724682237,13.761855076143535],[76.97481492208534,13.816481691478767],[77.04230889642751,13.93203799314945],[76.94781733234848,14.119029099489282],[77.02656030241434,14.179958785824734],[77.02881010155909,14.060200436820573],[77.14130005879602,14.005573821485338],[77.3190341912304,14.032887129152956],[77.35503097754622,13.902623661815095],[77.42477475103313,13.902623661815095],[77.34603178096727,14.060200436820573],[77.39777716129626,14.173655714824516],[77.51701651596743,14.179958785824734],[77.50576752024372,14.266100756161062],[77.40227675958573,14.335434537163472],[77.36627997326991,14.27660587449476],[77.15929845195393,14.34383863183043],[77.0535578921512,14.245090519493665],[76.94331773405901,14.245090519493665],[76.88932255458528,14.396364223498924],[76.97931452037483,14.48460721750199],[76.86907436228262,14.480405170168511],[76.76558360162463,14.602264542839414],[76.86907436228262,14.96994368451886],[76.76783340076938,14.97414573185234],[76.79933058879571,15.096005104523242],[76.88032335800631,15.032974394521052],[77.11430246905915,15.035075418187791],[77.1682976485329,15.17374298019261],[77.15254905451972,15.291400305530034],[77.04230889642751,15.364936133865923],[77.08055548188807,15.915404334551724],[77.25379001603297,15.961626855219997],[77.51476671682268,15.925909452885422],[78.106463891889,15.833464411548876],[78.27519882774443,16.041465754556107],[78.4124365755735,16.08768827522438],[78.6441658874816,16.098193393558077],[78.74540684899486,16.028859612555667],[79.02888154123195,16.251568121230076],[79.2336132634032,16.257871192230294],[79.27410964800849,16.56882269490777],[79.78256425471949,16.736904588246944],[79.9512991905749,16.64025749957692],[80.07953774182502,16.820945534916532],[80.00079477175916,16.871370102918284],[80.05478995123289,16.97221923892179],[80.20327669478566,17.024744830590283],[80.27077066912783,17.018441759590065],[80.3270156477463,16.879774197585242],[80.57224375452283,16.77052096691478],[80.59249194682549,16.934400812920476],[80.45075460070693,16.953310025921134],[80.50474978018067,17.10878577725987],[80.56774415623336,17.146604203261184],[80.83322045531254,17.04575506725768],[80.91421322452315,17.20963491326338],[81.17069032702338,17.241150268264473],[81.19993771590498,17.33569633326776],[81.32592646801037,17.390322948602993],[81.1256943441286,17.524788463274334],[81.01770398518113,17.52268743960759],[80.89171523307576,17.67606216727959],[80.88721563478629,17.722284687947862],[80.97270800228635,17.774810279616354],[81.04245177577326,17.73909287728178],[81.05820036978643,17.75380004294896],[81.0559505706417,17.791618468950272],[81.06494976722065,17.789517445283533],[81.09869675439174,17.818931776617887],[81.10544615182596,17.823133823951366]]]},\"bbox\":[76.76558360162463,12.62099922510388,84.76811915946087,19.129970544663458]}],\"bbox\":[68.20959745418263,8.078586057612656,96.01486508401058,33.18371785148529]},\"hovertemplate\":\"Year=2017\\u003cbr\\u003eState=%{location}\\u003cbr\\u003eRice Area (1000 Ha)=%{z}\\u003cextra\\u003e\\u003c\\u002fextra\\u003e\",\"locations\":[\"Assam\",\"Bihar\",\"Chhattisgarh\",\"Gujarat\",\"Haryana\",\"Himachal Pradesh\",\"Jharkhand\",\"Karnataka\",\"Kerala\",\"Madhya Pradesh\",\"Maharashtra\",\"Punjab\",\"Rajasthan\",\"Tamil Nadu\",\"Telangana\",\"Uttar Pradesh\",\"Uttarakhand\",\"West Bengal\",\"Odisha\",\"Andhra Pradesh\"],\"marker\":{\"opacity\":0.5},\"name\":\"\",\"subplot\":\"mapbox\",\"z\":[2417.1800000000003,3306.98,3976.63,855.29,1422.0,71.61,1735.43,992.95,189.1,2035.14,1450.95,3065.0,190.65,1828.8700000000001,1962.37,5937.08,247.04,5307.6900000000005,3766.39,2218.1800000000003],\"type\":\"choroplethmapbox\"}],                        {\"template\":{\"data\":{\"histogram2dcontour\":[{\"type\":\"histogram2dcontour\",\"colorbar\":{\"outlinewidth\":0,\"ticks\":\"\"},\"colorscale\":[[0.0,\"#0d0887\"],[0.1111111111111111,\"#46039f\"],[0.2222222222222222,\"#7201a8\"],[0.3333333333333333,\"#9c179e\"],[0.4444444444444444,\"#bd3786\"],[0.5555555555555556,\"#d8576b\"],[0.6666666666666666,\"#ed7953\"],[0.7777777777777778,\"#fb9f3a\"],[0.8888888888888888,\"#fdca26\"],[1.0,\"#f0f921\"]]}],\"choropleth\":[{\"type\":\"choropleth\",\"colorbar\":{\"outlinewidth\":0,\"ticks\":\"\"}}],\"histogram2d\":[{\"type\":\"histogram2d\",\"colorbar\":{\"outlinewidth\":0,\"ticks\":\"\"},\"colorscale\":[[0.0,\"#0d0887\"],[0.1111111111111111,\"#46039f\"],[0.2222222222222222,\"#7201a8\"],[0.3333333333333333,\"#9c179e\"],[0.4444444444444444,\"#bd3786\"],[0.5555555555555556,\"#d8576b\"],[0.6666666666666666,\"#ed7953\"],[0.7777777777777778,\"#fb9f3a\"],[0.8888888888888888,\"#fdca26\"],[1.0,\"#f0f921\"]]}],\"heatmap\":[{\"type\":\"heatmap\",\"colorbar\":{\"outlinewidth\":0,\"ticks\":\"\"},\"colorscale\":[[0.0,\"#0d0887\"],[0.1111111111111111,\"#46039f\"],[0.2222222222222222,\"#7201a8\"],[0.3333333333333333,\"#9c179e\"],[0.4444444444444444,\"#bd3786\"],[0.5555555555555556,\"#d8576b\"],[0.6666666666666666,\"#ed7953\"],[0.7777777777777778,\"#fb9f3a\"],[0.8888888888888888,\"#fdca26\"],[1.0,\"#f0f921\"]]}],\"heatmapgl\":[{\"type\":\"heatmapgl\",\"colorbar\":{\"outlinewidth\":0,\"ticks\":\"\"},\"colorscale\":[[0.0,\"#0d0887\"],[0.1111111111111111,\"#46039f\"],[0.2222222222222222,\"#7201a8\"],[0.3333333333333333,\"#9c179e\"],[0.4444444444444444,\"#bd3786\"],[0.5555555555555556,\"#d8576b\"],[0.6666666666666666,\"#ed7953\"],[0.7777777777777778,\"#fb9f3a\"],[0.8888888888888888,\"#fdca26\"],[1.0,\"#f0f921\"]]}],\"contourcarpet\":[{\"type\":\"contourcarpet\",\"colorbar\":{\"outlinewidth\":0,\"ticks\":\"\"}}],\"contour\":[{\"type\":\"contour\",\"colorbar\":{\"outlinewidth\":0,\"ticks\":\"\"},\"colorscale\":[[0.0,\"#0d0887\"],[0.1111111111111111,\"#46039f\"],[0.2222222222222222,\"#7201a8\"],[0.3333333333333333,\"#9c179e\"],[0.4444444444444444,\"#bd3786\"],[0.5555555555555556,\"#d8576b\"],[0.6666666666666666,\"#ed7953\"],[0.7777777777777778,\"#fb9f3a\"],[0.8888888888888888,\"#fdca26\"],[1.0,\"#f0f921\"]]}],\"surface\":[{\"type\":\"surface\",\"colorbar\":{\"outlinewidth\":0,\"ticks\":\"\"},\"colorscale\":[[0.0,\"#0d0887\"],[0.1111111111111111,\"#46039f\"],[0.2222222222222222,\"#7201a8\"],[0.3333333333333333,\"#9c179e\"],[0.4444444444444444,\"#bd3786\"],[0.5555555555555556,\"#d8576b\"],[0.6666666666666666,\"#ed7953\"],[0.7777777777777778,\"#fb9f3a\"],[0.8888888888888888,\"#fdca26\"],[1.0,\"#f0f921\"]]}],\"mesh3d\":[{\"type\":\"mesh3d\",\"colorbar\":{\"outlinewidth\":0,\"ticks\":\"\"}}],\"scatter\":[{\"fillpattern\":{\"fillmode\":\"overlay\",\"size\":10,\"solidity\":0.2},\"type\":\"scatter\"}],\"parcoords\":[{\"type\":\"parcoords\",\"line\":{\"colorbar\":{\"outlinewidth\":0,\"ticks\":\"\"}}}],\"scatterpolargl\":[{\"type\":\"scatterpolargl\",\"marker\":{\"colorbar\":{\"outlinewidth\":0,\"ticks\":\"\"}}}],\"bar\":[{\"error_x\":{\"color\":\"#2a3f5f\"},\"error_y\":{\"color\":\"#2a3f5f\"},\"marker\":{\"line\":{\"color\":\"#E5ECF6\",\"width\":0.5},\"pattern\":{\"fillmode\":\"overlay\",\"size\":10,\"solidity\":0.2}},\"type\":\"bar\"}],\"scattergeo\":[{\"type\":\"scattergeo\",\"marker\":{\"colorbar\":{\"outlinewidth\":0,\"ticks\":\"\"}}}],\"scatterpolar\":[{\"type\":\"scatterpolar\",\"marker\":{\"colorbar\":{\"outlinewidth\":0,\"ticks\":\"\"}}}],\"histogram\":[{\"marker\":{\"pattern\":{\"fillmode\":\"overlay\",\"size\":10,\"solidity\":0.2}},\"type\":\"histogram\"}],\"scattergl\":[{\"type\":\"scattergl\",\"marker\":{\"colorbar\":{\"outlinewidth\":0,\"ticks\":\"\"}}}],\"scatter3d\":[{\"type\":\"scatter3d\",\"line\":{\"colorbar\":{\"outlinewidth\":0,\"ticks\":\"\"}},\"marker\":{\"colorbar\":{\"outlinewidth\":0,\"ticks\":\"\"}}}],\"scattermapbox\":[{\"type\":\"scattermapbox\",\"marker\":{\"colorbar\":{\"outlinewidth\":0,\"ticks\":\"\"}}}],\"scatterternary\":[{\"type\":\"scatterternary\",\"marker\":{\"colorbar\":{\"outlinewidth\":0,\"ticks\":\"\"}}}],\"scattercarpet\":[{\"type\":\"scattercarpet\",\"marker\":{\"colorbar\":{\"outlinewidth\":0,\"ticks\":\"\"}}}],\"carpet\":[{\"aaxis\":{\"endlinecolor\":\"#2a3f5f\",\"gridcolor\":\"white\",\"linecolor\":\"white\",\"minorgridcolor\":\"white\",\"startlinecolor\":\"#2a3f5f\"},\"baxis\":{\"endlinecolor\":\"#2a3f5f\",\"gridcolor\":\"white\",\"linecolor\":\"white\",\"minorgridcolor\":\"white\",\"startlinecolor\":\"#2a3f5f\"},\"type\":\"carpet\"}],\"table\":[{\"cells\":{\"fill\":{\"color\":\"#EBF0F8\"},\"line\":{\"color\":\"white\"}},\"header\":{\"fill\":{\"color\":\"#C8D4E3\"},\"line\":{\"color\":\"white\"}},\"type\":\"table\"}],\"barpolar\":[{\"marker\":{\"line\":{\"color\":\"#E5ECF6\",\"width\":0.5},\"pattern\":{\"fillmode\":\"overlay\",\"size\":10,\"solidity\":0.2}},\"type\":\"barpolar\"}],\"pie\":[{\"automargin\":true,\"type\":\"pie\"}]},\"layout\":{\"autotypenumbers\":\"strict\",\"colorway\":[\"#636efa\",\"#EF553B\",\"#00cc96\",\"#ab63fa\",\"#FFA15A\",\"#19d3f3\",\"#FF6692\",\"#B6E880\",\"#FF97FF\",\"#FECB52\"],\"font\":{\"color\":\"#2a3f5f\"},\"hovermode\":\"closest\",\"hoverlabel\":{\"align\":\"left\"},\"paper_bgcolor\":\"white\",\"plot_bgcolor\":\"#E5ECF6\",\"polar\":{\"bgcolor\":\"#E5ECF6\",\"angularaxis\":{\"gridcolor\":\"white\",\"linecolor\":\"white\",\"ticks\":\"\"},\"radialaxis\":{\"gridcolor\":\"white\",\"linecolor\":\"white\",\"ticks\":\"\"}},\"ternary\":{\"bgcolor\":\"#E5ECF6\",\"aaxis\":{\"gridcolor\":\"white\",\"linecolor\":\"white\",\"ticks\":\"\"},\"baxis\":{\"gridcolor\":\"white\",\"linecolor\":\"white\",\"ticks\":\"\"},\"caxis\":{\"gridcolor\":\"white\",\"linecolor\":\"white\",\"ticks\":\"\"}},\"coloraxis\":{\"colorbar\":{\"outlinewidth\":0,\"ticks\":\"\"}},\"colorscale\":{\"sequential\":[[0.0,\"#0d0887\"],[0.1111111111111111,\"#46039f\"],[0.2222222222222222,\"#7201a8\"],[0.3333333333333333,\"#9c179e\"],[0.4444444444444444,\"#bd3786\"],[0.5555555555555556,\"#d8576b\"],[0.6666666666666666,\"#ed7953\"],[0.7777777777777778,\"#fb9f3a\"],[0.8888888888888888,\"#fdca26\"],[1.0,\"#f0f921\"]],\"sequentialminus\":[[0.0,\"#0d0887\"],[0.1111111111111111,\"#46039f\"],[0.2222222222222222,\"#7201a8\"],[0.3333333333333333,\"#9c179e\"],[0.4444444444444444,\"#bd3786\"],[0.5555555555555556,\"#d8576b\"],[0.6666666666666666,\"#ed7953\"],[0.7777777777777778,\"#fb9f3a\"],[0.8888888888888888,\"#fdca26\"],[1.0,\"#f0f921\"]],\"diverging\":[[0,\"#8e0152\"],[0.1,\"#c51b7d\"],[0.2,\"#de77ae\"],[0.3,\"#f1b6da\"],[0.4,\"#fde0ef\"],[0.5,\"#f7f7f7\"],[0.6,\"#e6f5d0\"],[0.7,\"#b8e186\"],[0.8,\"#7fbc41\"],[0.9,\"#4d9221\"],[1,\"#276419\"]]},\"xaxis\":{\"gridcolor\":\"white\",\"linecolor\":\"white\",\"ticks\":\"\",\"title\":{\"standoff\":15},\"zerolinecolor\":\"white\",\"automargin\":true,\"zerolinewidth\":2},\"yaxis\":{\"gridcolor\":\"white\",\"linecolor\":\"white\",\"ticks\":\"\",\"title\":{\"standoff\":15},\"zerolinecolor\":\"white\",\"automargin\":true,\"zerolinewidth\":2},\"scene\":{\"xaxis\":{\"backgroundcolor\":\"#E5ECF6\",\"gridcolor\":\"white\",\"linecolor\":\"white\",\"showbackground\":true,\"ticks\":\"\",\"zerolinecolor\":\"white\",\"gridwidth\":2},\"yaxis\":{\"backgroundcolor\":\"#E5ECF6\",\"gridcolor\":\"white\",\"linecolor\":\"white\",\"showbackground\":true,\"ticks\":\"\",\"zerolinecolor\":\"white\",\"gridwidth\":2},\"zaxis\":{\"backgroundcolor\":\"#E5ECF6\",\"gridcolor\":\"white\",\"linecolor\":\"white\",\"showbackground\":true,\"ticks\":\"\",\"zerolinecolor\":\"white\",\"gridwidth\":2}},\"shapedefaults\":{\"line\":{\"color\":\"#2a3f5f\"}},\"annotationdefaults\":{\"arrowcolor\":\"#2a3f5f\",\"arrowhead\":0,\"arrowwidth\":1},\"geo\":{\"bgcolor\":\"white\",\"landcolor\":\"#E5ECF6\",\"subunitcolor\":\"white\",\"showland\":true,\"showlakes\":true,\"lakecolor\":\"white\"},\"title\":{\"x\":0.05},\"mapbox\":{\"style\":\"light\"}}},\"mapbox\":{\"domain\":{\"x\":[0.0,1.0],\"y\":[0.0,1.0]},\"center\":{\"lat\":24,\"lon\":84},\"zoom\":3.6,\"style\":\"carto-positron\"},\"coloraxis\":{\"colorbar\":{\"title\":{\"text\":\"Rice Area (1000 Ha)\"}},\"colorscale\":[[0.0,\"rgb(255,245,240)\"],[0.125,\"rgb(254,224,210)\"],[0.25,\"rgb(252,187,161)\"],[0.375,\"rgb(252,146,114)\"],[0.5,\"rgb(251,106,74)\"],[0.625,\"rgb(239,59,44)\"],[0.75,\"rgb(203,24,29)\"],[0.875,\"rgb(165,15,21)\"],[1.0,\"rgb(103,0,13)\"]]},\"legend\":{\"tracegroupgap\":0},\"margin\":{\"t\":0,\"r\":0,\"l\":0,\"b\":0},\"height\":600,\"geo\":{\"fitbounds\":\"locations\",\"visible\":false}},                        {\"responsive\": true}                    ).then(function(){\n",
              "                            \n",
              "var gd = document.getElementById('3ab1c500-dde5-4fd2-bc25-e9ead48c3590');\n",
              "var x = new MutationObserver(function (mutations, observer) {{\n",
              "        var display = window.getComputedStyle(gd).display;\n",
              "        if (!display || display === 'none') {{\n",
              "            console.log([gd, 'removed!']);\n",
              "            Plotly.purge(gd);\n",
              "            observer.disconnect();\n",
              "        }}\n",
              "}});\n",
              "\n",
              "// Listen for the removal of the full notebook cells\n",
              "var notebookContainer = gd.closest('#notebook-container');\n",
              "if (notebookContainer) {{\n",
              "    x.observe(notebookContainer, {childList: true});\n",
              "}}\n",
              "\n",
              "// Listen for the clearing of the current output cell\n",
              "var outputEl = gd.closest('.output');\n",
              "if (outputEl) {{\n",
              "    x.observe(outputEl, {childList: true});\n",
              "}}\n",
              "\n",
              "                        })                };                            </script>        </div>\n",
              "</body>\n",
              "</html>"
            ]
          },
          "metadata": {}
        }
      ]
    },
    {
      "cell_type": "markdown",
      "metadata": {
        "id": "WdxaKRPbryHX"
      },
      "source": [
        "## 10 Create Dashboard\n",
        "### * template : ['ggplot2', 'seaborn', 'simple_white', 'plotly', 'plotly_white', 'plotly_dark', 'presentation', 'xgridoff', 'ygridoff', 'gridon', 'none']\n",
        "### * change layout https://plotly.com/python-api-reference/generated/plotly.graph_objects.Layout.html\n",
        "### * more chart customization : https://plotly.com/python-api-reference/index.html"
      ]
    },
    {
      "cell_type": "code",
      "execution_count": 47,
      "metadata": {
        "id": "mOSTvuDNr4co",
        "colab": {
          "base_uri": "https://localhost:8080/"
        },
        "outputId": "eb3133a2-f40d-4e02-a5cb-952c5b534965"
      },
      "outputs": [
        {
          "output_type": "stream",
          "name": "stdout",
          "text": [
            "Overwriting app.py\n"
          ]
        }
      ],
      "source": [
        "%%writefile app.py\n",
        "\n",
        "import streamlit as st\n",
        "import os\n",
        "import pandas as pd\n",
        "import geopandas as gpd\n",
        "import plotly.express as px\n",
        "import plotly.graph_objects as go\n",
        "import plotly.figure_factory as ff\n",
        "import warnings\n",
        "warnings.filterwarnings('ignore')\n",
        "\n",
        "# 00 CREATING TAB TITLE\n",
        "\n",
        "st.set_page_config(\n",
        "  page_title = 'Crop Production',\n",
        "  page_icon = ':leaves:',\n",
        "  layout = 'wide',\n",
        ")\n",
        "\n",
        "\n",
        "# 01 CREATING DASHBOARD TITLE\n",
        "\n",
        "st.title(':leaves: India Crop Production Dashboard')\n",
        "st.markdown('<style>div,block-container{padding-top:0rem;}<style>', unsafe_allow_html = True)\n",
        "\n",
        "\n",
        "# 02 IMPORTING DATASET\n",
        "\n",
        "dataset_path = 'https://raw.githubusercontent.com/azzindani/00_Data_Source/main/India_Crop_Production.csv'\n",
        "df = pd.read_csv(dataset_path)#, encoding = 'ISO-8859-1')#, sep = '\\t')\n",
        "df = df.rename(columns = {'State Name' : 'State'})\n",
        "df = df.fillna(0)\n",
        "\n",
        "gdf = gpd.read_file('https://raw.githubusercontent.com/adarshbiradar/maps-geojson/master/india.json')\n",
        "gdf = gdf.rename(columns = {'st_nm' : 'State'})\n",
        "\n",
        "for x in df.columns:\n",
        "  y = x.title()\n",
        "  df = df.rename(columns = {x : y})\n",
        "\n",
        "for x in df.columns:\n",
        "  if df[x].dtypes == 'object':\n",
        "    try:\n",
        "      df[x] = df[x].str.strip()\n",
        "    except:\n",
        "      pass\n",
        "\n",
        "for x in df.columns:\n",
        "  if df[x].dtypes == 'object':\n",
        "    for a in df[x].unique():\n",
        "      b = a.title()\n",
        "      df[x] = df[x].replace(a, b)\n",
        "  else:\n",
        "    pass\n",
        "\n",
        "df['State'] = df['State'].replace({\n",
        "    'Orissa' : 'Odisha',\n",
        "})\n",
        "\n",
        "\n",
        "# 03 SETUP TEMPLATE & THEME\n",
        "\n",
        "colors_1 = px.colors.sequential.Greens\n",
        "colors_2 = px.colors.sequential.Greens_r\n",
        "explode = tuple([0.015] * 50)\n",
        "latitude = 20\n",
        "longitude = 84\n",
        "chart_theme = 'plotly_dark'\n",
        "streamlit_theme = 'streamlit'\n",
        "margin = {'r' : 20, 't' : 40, 'l' : 20, 'b' : 10}\n",
        "cmap = 'Greens'\n",
        "title_x = 0\n",
        "title_font_size = 18\n",
        "\n",
        "\n",
        "col_1, col_2 = st.columns((1, 1))\n",
        "\n",
        "# 05 CREATING FILTER\n",
        "\n",
        "var_nums = df.columns[5:]\n",
        "\n",
        "with col_1:\n",
        "  var_num = st.selectbox('Select Variable', var_nums)\n",
        "\n",
        "default_year = df['Year'].max()\n",
        "\n",
        "with col_2:\n",
        "  year = st.multiselect('Select Year', df['Year'].unique(), default = default_year)\n",
        "\n",
        "if year:\n",
        "  sel_df = df[df['Year'].isin(year)]\n",
        "else:\n",
        "  sel_df = df\n",
        "\n",
        "df = df[['State', 'Year', var_num]]\n",
        "\n",
        "# 07 CREATING DASHBOARD\n",
        "\n",
        "# create highlighted indicator\n",
        "\n",
        "col_11, col_12 = st.columns((1, 2))\n",
        "\n",
        "chart_df_1 = df.groupby(by = ['State'], as_index = False,)[[var_num]].sum()\n",
        "chart_df_1 = chart_df_1.sort_values(by = var_num, ascending = False)[:10]\n",
        "\n",
        "with col_11:\n",
        "  title = '10 Highest ' + var_num + ' State'\n",
        "  #st.subheader(title)\n",
        "  fig = px.bar(\n",
        "    chart_df_1,\n",
        "    x = var_num,\n",
        "    y = 'State',\n",
        "    template = chart_theme,\n",
        "    color_discrete_sequence = colors_2,\n",
        "    title = title,\n",
        "    text_auto = ',.0f',\n",
        "  )\n",
        "  fig.update_layout(\n",
        "      height = 600,\n",
        "      margin = margin,\n",
        "      titlefont = dict(size = title_font_size),\n",
        "      title_x = title_x,\n",
        "  )\n",
        "  fig.update_yaxes(categoryorder = 'total ascending')\n",
        "  st.plotly_chart(fig, use_container_width = True, theme = streamlit_theme)\n",
        "\n",
        "  with st.expander('View Data'):\n",
        "    st.write(chart_df_1.style.background_gradient(cmap = cmap))\n",
        "    csv = chart_df_1.to_csv(index = False).encode('utf-8')\n",
        "    st.download_button('Download Data', data = csv, file_name = title + '.csv', mime = 'text/csv', help = 'Click here to download as CSV file')\n",
        "\n",
        "var_label = 'State'\n",
        "var_number = var_num\n",
        "\n",
        "map_df = df.groupby(['State', 'Year'])[var_num].sum()\n",
        "map_df = map_df.reset_index()\n",
        "map_df = map_df.fillna(0)\n",
        "map_df = gdf.merge(map_df, on = 'State')\n",
        "map_df = map_df.set_index(var_label)\n",
        "\n",
        "with col_12:\n",
        "  title = 'Latest ' + var_num + ' Geospatial Data'\n",
        "  fig = px.choropleth_mapbox(\n",
        "      data_frame = map_df,\n",
        "      geojson = map_df.geometry,\n",
        "      locations = map_df.index,\n",
        "      color = var_number,\n",
        "      color_continuous_scale = colors_1,\n",
        "      #range_color = (0, 10),\n",
        "      opacity = 0.5,\n",
        "      center = {'lat' : latitude, 'lon' : longitude},\n",
        "      mapbox_style = 'carto-positron',\n",
        "      zoom = 3.6,\n",
        "      #animation_frame = 'Year',\n",
        "  )\n",
        "  fig.update_geos(\n",
        "      #fitbounds = 'locations',\n",
        "      visible = False,\n",
        "  )\n",
        "  fig.update_layout(\n",
        "      height = 600,\n",
        "      margin = margin,\n",
        "      title = title,\n",
        "      titlefont = dict(size = title_font_size),\n",
        "      title_x = title_x,\n",
        "  )\n",
        "  st.plotly_chart(fig, use_container_width = True, theme = streamlit_theme)\n",
        "\n",
        "\n",
        "default_state = 'Assam'\n",
        "\n",
        "state = st.multiselect('Select State', df['State'].unique(), default = default_state)\n",
        "\n",
        "if state:\n",
        "  filtered_df = df[df['State'].isin(state)]\n",
        "else:\n",
        "  filtered_df = df\n",
        "\n",
        "# create time series chart\n",
        "\n",
        "title = 'Yearly ' + var_num\n",
        "\n",
        "linechart = pd.DataFrame(filtered_df.groupby(['Year', 'State'])[[var_num]].sum()).reset_index()\n",
        "linechart['Year'] = linechart['Year'].astype(str)\n",
        "\n",
        "fig_1 = px.line(\n",
        "  x = linechart['Year'],\n",
        "  y = linechart[var_num],\n",
        "  color = linechart['State'],\n",
        "  markers = True,\n",
        ")\n",
        "fig_1.update_traces(\n",
        "  #hovertemplate = '{:,.0f}'\n",
        ")\n",
        "fig_1.update_layout(\n",
        "  hovermode = 'x',\n",
        "  height = 400,\n",
        "  margin = margin,\n",
        "  title = title,\n",
        "  titlefont = dict(size = title_font_size),\n",
        "  title_x = title_x,\n",
        "  xaxis = dict(title = 'Year', titlefont = dict(size = 14)),\n",
        "  yaxis = dict(title = var_num, titlefont = dict(size = 14), tickformat = ',.0f'),\n",
        ")\n",
        "\n",
        "st.plotly_chart(fig_1, use_container_width = True, theme = streamlit_theme)\n",
        "\n",
        "with st.expander('View Data'):\n",
        "  st.write(linechart.style.background_gradient(cmap = cmap))\n",
        "  csv = linechart.to_csv(index = False).encode('utf-8')\n",
        "  st.download_button('Download Data', data = csv, file_name = title + '.csv', mime = 'text/csv', help = 'Click here to download as CSV file')"
      ]
    },
    {
      "cell_type": "markdown",
      "metadata": {
        "id": "Z9RRwyCdD8lO"
      },
      "source": [
        "## 11 Run Dashboard"
      ]
    },
    {
      "cell_type": "code",
      "execution_count": 49,
      "metadata": {
        "id": "D_voTYz09H7q",
        "colab": {
          "base_uri": "https://localhost:8080/"
        },
        "outputId": "8e4138b4-54fd-4be9-c9d9-263ebe67c35d"
      },
      "outputs": [
        {
          "output_type": "stream",
          "name": "stdout",
          "text": [
            "35.245.110.167\n",
            "\u001b[K\u001b[?25hnpx: installed 22 in 2.5s\n",
            "your url is: https://poor-spies-serve.loca.lt\n",
            "^C\n"
          ]
        }
      ],
      "source": [
        "!streamlit run app.py &>/content/logs.txt & curl ipv4.icanhazip.com\n",
        "!npx localtunnel --port 8501"
      ]
    }
  ],
  "metadata": {
    "colab": {
      "provenance": [],
      "include_colab_link": true
    },
    "kernelspec": {
      "display_name": "Python 3 (ipykernel)",
      "language": "python",
      "name": "python3"
    },
    "language_info": {
      "codemirror_mode": {
        "name": "ipython",
        "version": 3
      },
      "file_extension": ".py",
      "mimetype": "text/x-python",
      "name": "python",
      "nbconvert_exporter": "python",
      "pygments_lexer": "ipython3",
      "version": "3.9.13"
    }
  },
  "nbformat": 4,
  "nbformat_minor": 0
}